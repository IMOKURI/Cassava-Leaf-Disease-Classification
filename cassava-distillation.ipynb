{
 "cells": [
  {
   "cell_type": "markdown",
   "metadata": {},
   "source": [
    "# About this notebook  \n",
    "\n",
    "TBD..."
   ]
  },
  {
   "cell_type": "markdown",
   "metadata": {},
   "source": [
    "# Data Loading"
   ]
  },
  {
   "cell_type": "code",
   "execution_count": 1,
   "metadata": {},
   "outputs": [],
   "source": [
    "import os\n",
    "\n",
    "import pandas as pd\n",
    "import seaborn as sns\n",
    "from matplotlib import pyplot as plt"
   ]
  },
  {
   "cell_type": "code",
   "execution_count": 2,
   "metadata": {},
   "outputs": [
    {
     "data": {
      "text/plain": [
       "['train_tfrecords',\n",
       " 'train_images',\n",
       " 'test_images',\n",
       " 'label_num_to_disease_map.json',\n",
       " 'sample_submission.csv',\n",
       " 'train.csv',\n",
       " 'test_tfrecords']"
      ]
     },
     "execution_count": 2,
     "metadata": {},
     "output_type": "execute_result"
    }
   ],
   "source": [
    "os.listdir(\"../input/cassava-leaf-disease-classification\")"
   ]
  },
  {
   "cell_type": "code",
   "execution_count": 3,
   "metadata": {},
   "outputs": [
    {
     "data": {
      "text/html": [
       "<div>\n",
       "<style scoped>\n",
       "    .dataframe tbody tr th:only-of-type {\n",
       "        vertical-align: middle;\n",
       "    }\n",
       "\n",
       "    .dataframe tbody tr th {\n",
       "        vertical-align: top;\n",
       "    }\n",
       "\n",
       "    .dataframe thead th {\n",
       "        text-align: right;\n",
       "    }\n",
       "</style>\n",
       "<table border=\"1\" class=\"dataframe\">\n",
       "  <thead>\n",
       "    <tr style=\"text-align: right;\">\n",
       "      <th></th>\n",
       "      <th>image_id</th>\n",
       "      <th>label</th>\n",
       "      <th>0</th>\n",
       "      <th>1</th>\n",
       "      <th>2</th>\n",
       "      <th>3</th>\n",
       "      <th>4</th>\n",
       "    </tr>\n",
       "  </thead>\n",
       "  <tbody>\n",
       "    <tr>\n",
       "      <th>0</th>\n",
       "      <td>1000015157.jpg</td>\n",
       "      <td>0</td>\n",
       "      <td>0.373521</td>\n",
       "      <td>0.296580</td>\n",
       "      <td>0.124931</td>\n",
       "      <td>0.018632</td>\n",
       "      <td>0.186336</td>\n",
       "    </tr>\n",
       "    <tr>\n",
       "      <th>1</th>\n",
       "      <td>1000201771.jpg</td>\n",
       "      <td>3</td>\n",
       "      <td>0.020839</td>\n",
       "      <td>0.027160</td>\n",
       "      <td>0.037688</td>\n",
       "      <td>0.886378</td>\n",
       "      <td>0.027935</td>\n",
       "    </tr>\n",
       "    <tr>\n",
       "      <th>2</th>\n",
       "      <td>100042118.jpg</td>\n",
       "      <td>4</td>\n",
       "      <td>0.028102</td>\n",
       "      <td>0.335759</td>\n",
       "      <td>0.043405</td>\n",
       "      <td>0.054358</td>\n",
       "      <td>0.538376</td>\n",
       "    </tr>\n",
       "    <tr>\n",
       "      <th>3</th>\n",
       "      <td>1000723321.jpg</td>\n",
       "      <td>1</td>\n",
       "      <td>0.021610</td>\n",
       "      <td>0.843521</td>\n",
       "      <td>0.029899</td>\n",
       "      <td>0.046169</td>\n",
       "      <td>0.058801</td>\n",
       "    </tr>\n",
       "    <tr>\n",
       "      <th>4</th>\n",
       "      <td>1000812911.jpg</td>\n",
       "      <td>3</td>\n",
       "      <td>0.023698</td>\n",
       "      <td>0.019814</td>\n",
       "      <td>0.022040</td>\n",
       "      <td>0.913077</td>\n",
       "      <td>0.021371</td>\n",
       "    </tr>\n",
       "  </tbody>\n",
       "</table>\n",
       "</div>"
      ],
      "text/plain": [
       "         image_id  label         0         1         2         3         4\n",
       "0  1000015157.jpg      0  0.373521  0.296580  0.124931  0.018632  0.186336\n",
       "1  1000201771.jpg      3  0.020839  0.027160  0.037688  0.886378  0.027935\n",
       "2   100042118.jpg      4  0.028102  0.335759  0.043405  0.054358  0.538376\n",
       "3  1000723321.jpg      1  0.021610  0.843521  0.029899  0.046169  0.058801\n",
       "4  1000812911.jpg      3  0.023698  0.019814  0.022040  0.913077  0.021371"
      ]
     },
     "metadata": {},
     "output_type": "display_data"
    },
    {
     "data": {
      "text/html": [
       "<div>\n",
       "<style scoped>\n",
       "    .dataframe tbody tr th:only-of-type {\n",
       "        vertical-align: middle;\n",
       "    }\n",
       "\n",
       "    .dataframe tbody tr th {\n",
       "        vertical-align: top;\n",
       "    }\n",
       "\n",
       "    .dataframe thead th {\n",
       "        text-align: right;\n",
       "    }\n",
       "</style>\n",
       "<table border=\"1\" class=\"dataframe\">\n",
       "  <thead>\n",
       "    <tr style=\"text-align: right;\">\n",
       "      <th></th>\n",
       "      <th>image_id</th>\n",
       "      <th>label</th>\n",
       "    </tr>\n",
       "  </thead>\n",
       "  <tbody>\n",
       "    <tr>\n",
       "      <th>0</th>\n",
       "      <td>2216849948.jpg</td>\n",
       "      <td>4</td>\n",
       "    </tr>\n",
       "  </tbody>\n",
       "</table>\n",
       "</div>"
      ],
      "text/plain": [
       "         image_id  label\n",
       "0  2216849948.jpg      4"
      ]
     },
     "metadata": {},
     "output_type": "display_data"
    },
    {
     "data": {
      "text/html": [
       "<div>\n",
       "<style scoped>\n",
       "    .dataframe tbody tr th:only-of-type {\n",
       "        vertical-align: middle;\n",
       "    }\n",
       "\n",
       "    .dataframe tbody tr th {\n",
       "        vertical-align: top;\n",
       "    }\n",
       "\n",
       "    .dataframe thead th {\n",
       "        text-align: right;\n",
       "    }\n",
       "</style>\n",
       "<table border=\"1\" class=\"dataframe\">\n",
       "  <thead>\n",
       "    <tr style=\"text-align: right;\">\n",
       "      <th></th>\n",
       "      <th>0</th>\n",
       "    </tr>\n",
       "  </thead>\n",
       "  <tbody>\n",
       "    <tr>\n",
       "      <th>0</th>\n",
       "      <td>Cassava Bacterial Blight (CBB)</td>\n",
       "    </tr>\n",
       "    <tr>\n",
       "      <th>1</th>\n",
       "      <td>Cassava Brown Streak Disease (CBSD)</td>\n",
       "    </tr>\n",
       "    <tr>\n",
       "      <th>2</th>\n",
       "      <td>Cassava Green Mottle (CGM)</td>\n",
       "    </tr>\n",
       "    <tr>\n",
       "      <th>3</th>\n",
       "      <td>Cassava Mosaic Disease (CMD)</td>\n",
       "    </tr>\n",
       "    <tr>\n",
       "      <th>4</th>\n",
       "      <td>Healthy</td>\n",
       "    </tr>\n",
       "  </tbody>\n",
       "</table>\n",
       "</div>"
      ],
      "text/plain": [
       "                                     0\n",
       "0       Cassava Bacterial Blight (CBB)\n",
       "1  Cassava Brown Streak Disease (CBSD)\n",
       "2           Cassava Green Mottle (CGM)\n",
       "3         Cassava Mosaic Disease (CMD)\n",
       "4                              Healthy"
      ]
     },
     "metadata": {},
     "output_type": "display_data"
    }
   ],
   "source": [
    "# train = pd.read_csv(\"../input/cassava-leaf-disease-classification/train.csv\")\n",
    "# train = pd.read_csv(\"../input/cassava-leaf-disease-merged/oversample-0124.csv\")  # label 0124 x3\n",
    "\n",
    "train_id = pd.read_csv(\"../input/cassava-leaf-disease-merged/merged.csv\")[\"image_id\"]\n",
    "dist = pd.read_csv(\"distillation_label/ensemble-v3.csv\", header=None)\n",
    "train_label = pd.DataFrame(dist.idxmax(axis=1), columns=[\"label\"])\n",
    "train = pd.concat([train_id, train_label, dist], axis=1)\n",
    "\n",
    "test = pd.read_csv(\"../input/cassava-leaf-disease-classification/sample_submission.csv\")\n",
    "label_map = pd.read_json(\"../input/cassava-leaf-disease-classification/label_num_to_disease_map.json\", orient=\"index\")\n",
    "\n",
    "display(train.head())\n",
    "display(test.head())\n",
    "display(label_map)"
   ]
  },
  {
   "cell_type": "code",
   "execution_count": 4,
   "metadata": {},
   "outputs": [
    {
     "name": "stderr",
     "output_type": "stream",
     "text": [
      "/opt/conda/lib/python3.7/site-packages/seaborn/distributions.py:2557: FutureWarning: `distplot` is a deprecated function and will be removed in a future version. Please adapt your code to use either `displot` (a figure-level function with similar flexibility) or `histplot` (an axes-level function for histograms).\n",
      "  warnings.warn(msg, FutureWarning)\n"
     ]
    },
    {
     "data": {
      "text/plain": [
       "<AxesSubplot:xlabel='label'>"
      ]
     },
     "execution_count": 4,
     "metadata": {},
     "output_type": "execute_result"
    },
    {
     "data": {
      "image/png": "[encoded data removed]",
      "text/plain": [
       "<Figure size 432x288 with 1 Axes>"
      ]
     },
     "metadata": {
      "needs_background": "light"
     },
     "output_type": "display_data"
    }
   ],
   "source": [
    "sns.distplot(train[\"label\"], kde=False)"
   ]
  },
  {
   "cell_type": "markdown",
   "metadata": {},
   "source": [
    "# Directory settings"
   ]
  },
  {
   "cell_type": "code",
   "execution_count": 5,
   "metadata": {},
   "outputs": [],
   "source": [
    "# ====================================================\n",
    "# Directory settings\n",
    "# ====================================================\n",
    "import os\n",
    "\n",
    "OUTPUT_DIR = \"./\"\n",
    "if not os.path.exists(OUTPUT_DIR):\n",
    "    os.makedirs(OUTPUT_DIR)\n",
    "\n",
    "# TRAIN_PATH = \"../input/cassava-leaf-disease-classification/train_images\"\n",
    "TRAIN_PATH = \"../input/cassava-leaf-disease-merged/train\"\n",
    "TEST_PATH = \"../input/cassava-leaf-disease-classification/test_images\""
   ]
  },
  {
   "cell_type": "markdown",
   "metadata": {},
   "source": [
    "# CFG"
   ]
  },
  {
   "cell_type": "code",
   "execution_count": 6,
   "metadata": {},
   "outputs": [],
   "source": [
    "# ====================================================\n",
    "# CFG\n",
    "# ====================================================\n",
    "class CFG:\n",
    "    debug = False\n",
    "    apex = True\n",
    "    print_freq = 100\n",
    "    num_workers = 4\n",
    "    model_name = \"tf_efficientnet_b4_ns\"  # resnext50_32x4d, seresnext50_32x4d, tf_efficientnet_b3_ns, vit_base_patch16_384, deit_base_patch16_384\n",
    "    batch_size = 16\n",
    "    gradient_accumulation_steps = 2\n",
    "    size = 384 if \"it_base_\" in model_name else 512\n",
    "    n_fold = 5\n",
    "    trn_fold = [0, 1, 2, 3, 4]\n",
    "    criterion = \"BiTemperedLoss\"  # ['CrossEntropyLoss', 'BiTemperedLoss']\n",
    "    btl_t1 = 0.3  # Bi-Tempered Logistic Loss\n",
    "    btl_t2 = 1.0\n",
    "    label_smoothing = 0.2\n",
    "    kd_temperature = 10  # DistillationLoss\n",
    "    kd_alpha = 0.3  # DistillationLoss\n",
    "    scheduler = \"CosineAnnealingWarmRestarts\"  # ['ReduceLROnPlateau', 'CosineAnnealingLR', 'CosineAnnealingWarmRestarts', 'CosineAnnealingWarmupRestarts']\n",
    "    scheduler_batch_update = True\n",
    "    epochs = 10\n",
    "    # factor = 0.2  # ReduceLROnPlateau\n",
    "    # patience = 4  # ReduceLROnPlateau\n",
    "    # eps = 1e-6  # ReduceLROnPlateau\n",
    "    # T_max = 10  # CosineAnnealingLR\n",
    "    T_0 = (\n",
    "        len(train) // n_fold * (n_fold - 1) // batch_size // gradient_accumulation_steps * epochs + 5\n",
    "    )  # CosineAnnealingWarmRestarts\n",
    "    # first_cycle_steps = (\n",
    "    #     len(train) // n_fold * (n_fold - 1) // batch_size // gradient_accumulation_steps * epochs + 5\n",
    "    # )  # CosineAnnealingWarmupRestarts for batch update\n",
    "    # warmup_steps = first_cycle_steps // 10  # CosineAnnealingWarmupRestarts\n",
    "    # gamma = 0.8  # CosineAnnealingWarmupRestarts\n",
    "    lr = 1e-4\n",
    "    min_lr = 2e-6\n",
    "    weight_decay = 1e-6\n",
    "    max_grad_norm = 1000\n",
    "    seed = 4678\n",
    "    target_size = 5\n",
    "    target_col = \"label\"\n",
    "    train = True\n",
    "    inference = False\n",
    "\n",
    "\n",
    "if CFG.debug:\n",
    "    CFG.epochs = 1\n",
    "    train = train.sample(n=1000, random_state=CFG.seed).reset_index(drop=True)"
   ]
  },
  {
   "cell_type": "markdown",
   "metadata": {},
   "source": [
    "# Library"
   ]
  },
  {
   "cell_type": "code",
   "execution_count": 7,
   "metadata": {},
   "outputs": [],
   "source": [
    "# ====================================================\n",
    "# Library\n",
    "# ====================================================\n",
    "import sys\n",
    "\n",
    "sys.path.append(\"../input/pytorch-image-models/pytorch-image-models-master\")\n",
    "sys.path.append(\"../input/pytorchcosineannealingwithwarmup\")\n",
    "sys.path.append(\"../input/bitemperedlogloss/\")\n",
    "sys.path.append(\"../input/image-fmix/FMix-master\")\n",
    "\n",
    "import math\n",
    "import os\n",
    "import random\n",
    "import shutil\n",
    "import time\n",
    "import warnings\n",
    "from collections import Counter, defaultdict\n",
    "from contextlib import contextmanager\n",
    "from functools import partial\n",
    "from pathlib import Path\n",
    "\n",
    "import bi_tempered_loss_pytorch as btl\n",
    "import cv2\n",
    "import numpy as np\n",
    "import pandas as pd\n",
    "import scipy as sp\n",
    "import timm\n",
    "import torch\n",
    "import torch.nn as nn\n",
    "import torch.nn.functional as F\n",
    "import torchvision.models as models\n",
    "from albumentations import (\n",
    "    CenterCrop,\n",
    "    CoarseDropout,\n",
    "    Compose,\n",
    "    Cutout,\n",
    "    HorizontalFlip,\n",
    "    HueSaturationValue,\n",
    "    IAAAdditiveGaussianNoise,\n",
    "    ImageOnlyTransform,\n",
    "    Normalize,\n",
    "    OneOf,\n",
    "    RandomBrightness,\n",
    "    RandomBrightnessContrast,\n",
    "    RandomContrast,\n",
    "    RandomCrop,\n",
    "    RandomResizedCrop,\n",
    "    Resize,\n",
    "    Rotate,\n",
    "    ShiftScaleRotate,\n",
    "    Transpose,\n",
    "    VerticalFlip,\n",
    ")\n",
    "from albumentations.pytorch import ToTensorV2\n",
    "from cosine_annearing_with_warmup import CosineAnnealingWarmupRestarts\n",
    "from fmix import sample_mask\n",
    "from PIL import Image\n",
    "from sklearn import preprocessing\n",
    "from sklearn.metrics import accuracy_score\n",
    "from sklearn.model_selection import StratifiedKFold\n",
    "from torch.nn.parameter import Parameter\n",
    "from torch.optim import SGD, Adam\n",
    "from torch.optim.lr_scheduler import CosineAnnealingLR, CosineAnnealingWarmRestarts, ReduceLROnPlateau\n",
    "from torch.utils.data import DataLoader, Dataset\n",
    "from tqdm.auto import tqdm\n",
    "\n",
    "warnings.filterwarnings(\"ignore\")\n",
    "\n",
    "if CFG.apex:\n",
    "    from apex import amp\n",
    "\n",
    "device = torch.device(\"cuda\" if torch.cuda.is_available() else \"cpu\")"
   ]
  },
  {
   "cell_type": "markdown",
   "metadata": {},
   "source": [
    "# Utils"
   ]
  },
  {
   "cell_type": "code",
   "execution_count": 8,
   "metadata": {},
   "outputs": [],
   "source": [
    "# ====================================================\n",
    "# Utils\n",
    "# ====================================================\n",
    "def get_score(y_true, y_pred):\n",
    "    return accuracy_score(y_true, y_pred)\n",
    "\n",
    "\n",
    "@contextmanager\n",
    "def timer(name):\n",
    "    t0 = time.time()\n",
    "    LOGGER.info(f\"[{name}] start\")\n",
    "    yield\n",
    "    LOGGER.info(f\"[{name}] done in {time.time() - t0:.0f} s.\")\n",
    "\n",
    "\n",
    "def init_logger(log_file=OUTPUT_DIR + \"train.log\"):\n",
    "    from logging import INFO, FileHandler, Formatter, StreamHandler, getLogger\n",
    "\n",
    "    logger = getLogger(__name__)\n",
    "    logger.setLevel(INFO)\n",
    "    handler1 = StreamHandler()\n",
    "    handler1.setFormatter(Formatter(\"%(message)s\"))\n",
    "    handler2 = FileHandler(filename=log_file)\n",
    "    handler2.setFormatter(Formatter(\"%(message)s\"))\n",
    "    logger.addHandler(handler1)\n",
    "    logger.addHandler(handler2)\n",
    "    return logger\n",
    "\n",
    "\n",
    "LOGGER = init_logger()\n",
    "\n",
    "\n",
    "def seed_torch(seed=42):\n",
    "    random.seed(seed)\n",
    "    os.environ[\"PYTHONHASHSEED\"] = str(seed)\n",
    "    np.random.seed(seed)\n",
    "    torch.manual_seed(seed)\n",
    "    torch.cuda.manual_seed(seed)\n",
    "    torch.backends.cudnn.deterministic = True\n",
    "\n",
    "\n",
    "seed_torch(seed=CFG.seed)"
   ]
  },
  {
   "cell_type": "markdown",
   "metadata": {},
   "source": [
    "# CV split"
   ]
  },
  {
   "cell_type": "code",
   "execution_count": 9,
   "metadata": {},
   "outputs": [
    {
     "name": "stdout",
     "output_type": "stream",
     "text": [
      "fold  label\n",
      "0     0         279\n",
      "      1         671\n",
      "      2         590\n",
      "      3        3153\n",
      "      4         575\n",
      "1     0         278\n",
      "      1         671\n",
      "      2         590\n",
      "      3        3154\n",
      "      4         575\n",
      "2     0         278\n",
      "      1         672\n",
      "      2         589\n",
      "      3        3153\n",
      "      4         575\n",
      "3     0         278\n",
      "      1         672\n",
      "      2         589\n",
      "      3        3153\n",
      "      4         575\n",
      "4     0         278\n",
      "      1         672\n",
      "      2         589\n",
      "      3        3153\n",
      "      4         575\n",
      "dtype: int64\n"
     ]
    }
   ],
   "source": [
    "folds = train.copy()\n",
    "Fold = StratifiedKFold(n_splits=CFG.n_fold, shuffle=True, random_state=CFG.seed)\n",
    "for n, (train_index, val_index) in enumerate(Fold.split(folds, folds[CFG.target_col])):\n",
    "    folds.loc[val_index, \"fold\"] = int(n)\n",
    "folds[\"fold\"] = folds[\"fold\"].astype(int)\n",
    "print(folds.groupby([\"fold\", CFG.target_col]).size())"
   ]
  },
  {
   "cell_type": "markdown",
   "metadata": {},
   "source": [
    "# Dataset"
   ]
  },
  {
   "cell_type": "code",
   "execution_count": 10,
   "metadata": {},
   "outputs": [],
   "source": [
    "# ====================================================\n",
    "# Dataset\n",
    "# ====================================================\n",
    "class TrainDataset(Dataset):\n",
    "    def __init__(self, df, transform=None):\n",
    "        self.df = df\n",
    "        self.file_names = df[\"image_id\"].values\n",
    "        self.hard_target = df[\"label\"].values\n",
    "        self.soft_target = df[[0, 1, 2, 3, 4]].values\n",
    "        self.transform = transform\n",
    "\n",
    "    def __len__(self):\n",
    "        return len(self.df)\n",
    "\n",
    "    def __getitem__(self, idx):\n",
    "        file_name = self.file_names[idx]\n",
    "        file_path = f\"{TRAIN_PATH}/{file_name}\"\n",
    "        image = cv2.imread(file_path)\n",
    "        image = cv2.cvtColor(image, cv2.COLOR_BGR2RGB)\n",
    "        if self.transform:\n",
    "            augmented = self.transform(image=image)\n",
    "            image = augmented[\"image\"]\n",
    "        hard_target = torch.tensor(self.hard_target[idx]).long()\n",
    "        soft_target = torch.tensor(self.soft_target[idx]).float()\n",
    "        return image, hard_target, soft_target\n",
    "\n",
    "\n",
    "class TestDataset(Dataset):\n",
    "    def __init__(self, df, transform=None):\n",
    "        self.df = df\n",
    "        self.file_names = df[\"image_id\"].values\n",
    "        self.transform = transform\n",
    "\n",
    "    def __len__(self):\n",
    "        return len(self.df)\n",
    "\n",
    "    def __getitem__(self, idx):\n",
    "        file_name = self.file_names[idx]\n",
    "        file_path = f\"{TEST_PATH}/{file_name}\"\n",
    "        image = cv2.imread(file_path)\n",
    "        image = cv2.cvtColor(image, cv2.COLOR_BGR2RGB)\n",
    "        if self.transform:\n",
    "            augmented = self.transform(image=image)\n",
    "            image = augmented[\"image\"]\n",
    "        return image"
   ]
  },
  {
   "cell_type": "code",
   "execution_count": 11,
   "metadata": {},
   "outputs": [
    {
     "data": {
      "image/png": "[encoded data removed]",
      "text/plain": [
       "<Figure size 432x288 with 1 Axes>"
      ]
     },
     "metadata": {
      "needs_background": "light"
     },
     "output_type": "display_data"
    }
   ],
   "source": [
    "train_dataset = TrainDataset(train, transform=None)\n",
    "\n",
    "for i in range(1):\n",
    "    image, hard_target, soft_target = train_dataset[i]\n",
    "    plt.imshow(image)\n",
    "    plt.title(f\"hard_target: {hard_target}, soft_target: {soft_target}\")\n",
    "    plt.show()"
   ]
  },
  {
   "cell_type": "markdown",
   "metadata": {},
   "source": [
    "# Transforms"
   ]
  },
  {
   "cell_type": "code",
   "execution_count": 12,
   "metadata": {},
   "outputs": [],
   "source": [
    "# ====================================================\n",
    "# Transforms\n",
    "# ====================================================\n",
    "def get_transforms(*, data):\n",
    "\n",
    "    if data == \"train\":\n",
    "        return Compose(\n",
    "            [\n",
    "                # Resize(CFG.size, CFG.size),\n",
    "                RandomResizedCrop(CFG.size, CFG.size),\n",
    "                Transpose(p=0.5),\n",
    "                HorizontalFlip(p=0.5),\n",
    "                VerticalFlip(p=0.5),\n",
    "                ShiftScaleRotate(p=0.5),\n",
    "                HueSaturationValue(hue_shift_limit=0.2, sat_shift_limit=0.2, val_shift_limit=0.2, p=0.5),\n",
    "                RandomBrightnessContrast(brightness_limit=(-0.1, 0.1), contrast_limit=(-0.1, 0.1), p=0.5),\n",
    "                CoarseDropout(p=0.5),\n",
    "                Cutout(p=0.5),\n",
    "                Normalize(\n",
    "                    mean=[0.485, 0.456, 0.406],\n",
    "                    std=[0.229, 0.224, 0.225],\n",
    "                ),\n",
    "                ToTensorV2(),\n",
    "            ]\n",
    "        )\n",
    "\n",
    "    elif data == \"valid\":\n",
    "        return Compose(\n",
    "            [\n",
    "                Resize(CFG.size, CFG.size),\n",
    "                CenterCrop(CFG.size, CFG.size),\n",
    "                Normalize(\n",
    "                    mean=[0.485, 0.456, 0.406],\n",
    "                    std=[0.229, 0.224, 0.225],\n",
    "                ),\n",
    "                ToTensorV2(),\n",
    "            ]\n",
    "        )"
   ]
  },
  {
   "cell_type": "code",
   "execution_count": 13,
   "metadata": {},
   "outputs": [
    {
     "data": {
      "image/png": "[encoded data removed]",
      "text/plain": [
       "<Figure size 432x288 with 1 Axes>"
      ]
     },
     "metadata": {
      "needs_background": "light"
     },
     "output_type": "display_data"
    }
   ],
   "source": [
    "train_dataset = TrainDataset(train, transform=get_transforms(data=\"train\"))\n",
    "\n",
    "for i in range(1):\n",
    "    image, hard_target, soft_target = train_dataset[i]\n",
    "    plt.imshow(image[0])\n",
    "    plt.title(f\"hard_target: {hard_target}, soft_target: {soft_target}\")\n",
    "    plt.show()"
   ]
  },
  {
   "cell_type": "markdown",
   "metadata": {},
   "source": [
    "# CutMix / FMix\n"
   ]
  },
  {
   "cell_type": "code",
   "execution_count": 14,
   "metadata": {},
   "outputs": [],
   "source": [
    "def rand_bbox(size, lam):\n",
    "    W = size[2]\n",
    "    H = size[3]\n",
    "    cut_rat = np.sqrt(1.0 - lam)\n",
    "    cut_w = np.int(W * cut_rat)\n",
    "    cut_h = np.int(H * cut_rat)\n",
    "\n",
    "    # uniform\n",
    "    cx = np.random.randint(W)\n",
    "    cy = np.random.randint(H)\n",
    "\n",
    "    bbx1 = np.clip(cx - cut_w // 2, 0, W)\n",
    "    bby1 = np.clip(cy - cut_h // 2, 0, H)\n",
    "    bbx2 = np.clip(cx + cut_w // 2, 0, W)\n",
    "    bby2 = np.clip(cy + cut_h // 2, 0, H)\n",
    "    return bbx1, bby1, bbx2, bby2\n",
    "\n",
    "\n",
    "def cutmix(data, target, soft_target, alpha):\n",
    "    indices = torch.randperm(data.size(0))\n",
    "    shuffled_data = data[indices]\n",
    "    shuffled_target = target[indices]\n",
    "    shuffled_soft_target = soft_target[indices]\n",
    "\n",
    "    lam = np.clip(np.random.beta(alpha, alpha), 0.3, 0.4)\n",
    "    bbx1, bby1, bbx2, bby2 = rand_bbox(data.size(), lam)\n",
    "    new_data = data.clone()\n",
    "    new_data[:, :, bby1:bby2, bbx1:bbx2] = data[indices, :, bby1:bby2, bbx1:bbx2]\n",
    "    # adjust lambda to exactly match pixel ratio\n",
    "    lam = 1 - ((bbx2 - bbx1) * (bby2 - bby1) / (data.size()[-1] * data.size()[-2]))\n",
    "    targets = (target, soft_target, shuffled_target, shuffled_soft_target, lam)\n",
    "\n",
    "    return new_data, targets\n",
    "\n",
    "\n",
    "def fmix(data, targets, soft_target, alpha, decay_power, shape, max_soft=0.0, reformulate=False):\n",
    "    lam, mask = sample_mask(alpha, decay_power, shape, max_soft, reformulate)\n",
    "    if CFG.apex:\n",
    "        # mask = torch.tensor(mask, device=device).float()\n",
    "        mask = mask.astype(np.float32)\n",
    "    indices = torch.randperm(data.size(0))\n",
    "    shuffled_data = data[indices]\n",
    "    shuffled_targets = targets[indices]\n",
    "    shuffled_soft_target = soft_target[indices]\n",
    "    x1 = torch.from_numpy(mask).to(device) * data\n",
    "    x2 = torch.from_numpy(1 - mask).to(device) * shuffled_data\n",
    "    targets = (targets, soft_target, shuffled_targets, shuffled_soft_target, lam)\n",
    "\n",
    "    return (x1 + x2), targets"
   ]
  },
  {
   "cell_type": "markdown",
   "metadata": {},
   "source": [
    "# MixUp"
   ]
  },
  {
   "cell_type": "code",
   "execution_count": 15,
   "metadata": {},
   "outputs": [],
   "source": [
    "# https://github.com/yuhao318/mwh/blob/e9e2da8fc6/utils.py\n",
    "def mixup(x, y, soft_target, alpha=1.0, use_cuda=True):\n",
    "\n",
    "    \"\"\"Compute the mixup data. Return mixed inputs, pairs of targets, and lambda\"\"\"\n",
    "    if alpha > 0.0:\n",
    "        lam = np.random.beta(alpha, alpha)\n",
    "        lam = max(lam, 1 - lam)\n",
    "        # lam = min(lam, 1-lam)\n",
    "    else:\n",
    "        lam = 1.0\n",
    "    batch_size = x.size()[0]\n",
    "    if use_cuda:\n",
    "        index = torch.randperm(batch_size).cuda()\n",
    "    else:\n",
    "        index = torch.randperm(batch_size)\n",
    "\n",
    "    ## SYM\n",
    "    # mixed_x = lam * x + (1 - lam) * x[index,:]\n",
    "    # mixed_y = (1 - lam) * x + lam * x[index,:]\n",
    "    # mixed_image  = torch.cat([mixed_x,mixed_y], 0)\n",
    "    # y_a, y_b = y, y[index]\n",
    "    # mixed_label  = torch.cat([y_a,y_b], 0)\n",
    "\n",
    "    ## Reduce batch size\n",
    "    # new_batch_size = batch_size // 2\n",
    "    # x_i = x[ : new_batch_size]\n",
    "    # x_j = x[new_batch_size : ]\n",
    "    # y_a = y[ : new_batch_size]\n",
    "    # y_b = y[new_batch_size : ]\n",
    "    # mixed_x = lam * x_i + (1 - lam) * x_j\n",
    "\n",
    "    ## NO SYM\n",
    "    mixed_x = lam * x + (1 - lam) * x[index, :]\n",
    "    y_a, y_b = y, y[index]\n",
    "    shuffled_soft_target = soft_target[index]\n",
    "\n",
    "    ## Only Alpha\n",
    "    # mixed_x = 0.5 * x + (1 - 0.5) * x[index,:]\n",
    "    # mixed_image  = mixed_x\n",
    "    # y_a, y_b = y, y[index]\n",
    "    # ind_label = torch.randint_like(y, 0,2)\n",
    "    # mixed_label  = ind_label * y_a + (1-ind_label) * y_b\n",
    "\n",
    "    ## Reduce batch size and SYM\n",
    "    # new_batch_size = batch_size // 2\n",
    "    # x_i = x[ : new_batch_size]\n",
    "    # x_j = x[new_batch_size : ]\n",
    "    # y_a = y[ : new_batch_size]\n",
    "    # y_b = y[new_batch_size : ]\n",
    "    # mixed_x = lam * x_i + (1 - lam) * x_j\n",
    "    # mixed_y = (1 - lam) * x_i + lam * x_j\n",
    "    # mixed_x  = torch.cat([mixed_x,mixed_y], 0)\n",
    "    # y_b = torch.cat([y_b,y_a], 0)\n",
    "    # y_a = y\n",
    "\n",
    "    # return mixed_image, mixed_label, lam\n",
    "    return mixed_x, (y_a, soft_target, y_b, shuffled_soft_target, lam)"
   ]
  },
  {
   "cell_type": "markdown",
   "metadata": {},
   "source": [
    "# MODEL"
   ]
  },
  {
   "cell_type": "code",
   "execution_count": 16,
   "metadata": {},
   "outputs": [],
   "source": [
    "# ====================================================\n",
    "# MODEL\n",
    "# ====================================================\n",
    "class CassvaImgClassifier(nn.Module):\n",
    "    def __init__(self, model_name=\"resnext50_32x4d\", pretrained=False):\n",
    "        super().__init__()\n",
    "        self.model_name = model_name\n",
    "\n",
    "        if model_name.startswith(\"deit_\"):\n",
    "            self.model = torch.hub.load(\"facebookresearch/deit:main\", model_name, pretrained=True)\n",
    "\n",
    "            if model_name == \"deit_base_patch16_384\":\n",
    "                n_features = self.model.head.in_features\n",
    "                self.model.head = nn.Linear(n_features, CFG.target_size)\n",
    "\n",
    "        else:\n",
    "            self.model = timm.create_model(model_name, pretrained=pretrained)\n",
    "\n",
    "            if \"resnext50_32x4d\" in model_name:\n",
    "                n_features = self.model.fc.in_features\n",
    "                self.model.fc = nn.Linear(n_features, CFG.target_size)\n",
    "\n",
    "            elif model_name.startswith(\"tf_efficientnet\"):\n",
    "                n_features = self.model.classifier.in_features\n",
    "                self.model.classifier = nn.Linear(n_features, CFG.target_size)\n",
    "\n",
    "            elif model_name.startswith(\"vit_\"):\n",
    "                n_features = self.model.head.in_features\n",
    "                self.model.head = nn.Linear(n_features, CFG.target_size)\n",
    "\n",
    "    def forward(self, x):\n",
    "        x = self.model(x)\n",
    "        return x"
   ]
  },
  {
   "cell_type": "code",
   "execution_count": 17,
   "metadata": {},
   "outputs": [],
   "source": [
    "def freeze_batch_normalization(model):\n",
    "    if CFG.model_name.startswith(\"tf_efficientnet_\"):\n",
    "        for name1, child1 in model.named_children():\n",
    "            for name2, child2 in child1.named_children():\n",
    "                # print(f\"===== {name2} =====\")\n",
    "                if name2.startswith(\"bn\"):\n",
    "                    for param in child2.parameters():\n",
    "                        param.requires_grad = False\n",
    "                        # print(param.requires_grad)\n",
    "\n",
    "                for child3 in child2.children():\n",
    "                    if isinstance(child3, nn.modules.container.Sequential):\n",
    "                        for child4 in child3.children():\n",
    "                            for child5 in child4.children():\n",
    "                                if isinstance(child5, nn.BatchNorm2d):\n",
    "                                    # print(child5)\n",
    "                                    for param in child5.parameters():\n",
    "                                        param.requires_grad = False\n",
    "                                        # print(param.requires_grad)\n",
    "\n",
    "    if CFG.model_name.startswith(\"vit_\"):\n",
    "        try:\n",
    "            for m in model.modules():\n",
    "                if isinstance(m, nn.BatchNorm2d) or isinstance(m, nn.LayerNorm):\n",
    "                    m.eval()\n",
    "        except ValuError:\n",
    "            print(\"error with batchnorm2d or layernorm\")\n",
    "            return"
   ]
  },
  {
   "cell_type": "code",
   "execution_count": 18,
   "metadata": {},
   "outputs": [
    {
     "name": "stdout",
     "output_type": "stream",
     "text": [
      "tensor([[ 0.0462,  0.0081, -0.0124,  0.0075,  0.0099],\n",
      "        [ 0.1687,  0.0044,  0.0521,  0.0483,  0.0483],\n",
      "        [ 0.6108, -0.3040,  0.2413,  0.0911,  0.2267],\n",
      "        [ 0.0497,  0.0122, -0.0052,  0.0025,  0.0111]],\n",
      "       grad_fn=<AddmmBackward>)\n"
     ]
    }
   ],
   "source": [
    "model = CassvaImgClassifier(model_name=CFG.model_name, pretrained=False)\n",
    "freeze_batch_normalization(model)\n",
    "# print(model)\n",
    "\n",
    "train_dataset = TrainDataset(train, transform=get_transforms(data=\"train\"))\n",
    "train_loader = DataLoader(train_dataset, batch_size=4, shuffle=True, num_workers=4, pin_memory=True, drop_last=True)\n",
    "\n",
    "for image, hard_target, soft_target in train_loader:\n",
    "    output = model(image)\n",
    "    print(output)\n",
    "    break"
   ]
  },
  {
   "cell_type": "markdown",
   "metadata": {},
   "source": [
    "# Loss functions"
   ]
  },
  {
   "cell_type": "code",
   "execution_count": 19,
   "metadata": {},
   "outputs": [],
   "source": [
    "class BiTemperedLogisticLoss(nn.Module):\n",
    "    def __init__(self, t1, t2, smoothing=0.0):\n",
    "        super(BiTemperedLogisticLoss, self).__init__()\n",
    "        self.t1 = t1\n",
    "        self.t2 = t2\n",
    "        self.smoothing = smoothing\n",
    "\n",
    "    def forward(self, logit_label, truth_label):\n",
    "        loss_label = btl.bi_tempered_logistic_loss(\n",
    "            logit_label, truth_label, t1=self.t1, t2=self.t2, label_smoothing=self.smoothing, reduction=\"none\"\n",
    "        )\n",
    "\n",
    "        loss_label = loss_label.mean()\n",
    "        return loss_label"
   ]
  },
  {
   "cell_type": "code",
   "execution_count": 20,
   "metadata": {},
   "outputs": [],
   "source": [
    "class DistillationLoss(nn.Module):\n",
    "    def __init__(self, criterion):\n",
    "        super().__init__()\n",
    "        self.criterion = criterion\n",
    "        self.alpha = CFG.kd_alpha\n",
    "        self.T = CFG.kd_temperature\n",
    "\n",
    "    # https://github.com/peterliht/knowledge-distillation-pytorch/blob/b1e4b6acb8d4e138ad12ba1aac22d5da42a85c10/model/net.py#L100\n",
    "    def forward(self, outputs, hard_target, soft_target):\n",
    "        \"\"\"\n",
    "        Compute the knowledge-distillation (KD) loss given outputs, labels.\n",
    "        \"Hyperparameters\": temperature and alpha\n",
    "        NOTE: the KL Divergence for PyTorch comparing the softmaxs of teacher\n",
    "        and student expects the input tensor to be log probabilities! See Issue #2\n",
    "        \"\"\"\n",
    "        KD_loss = nn.KLDivLoss()(F.log_softmax(outputs / self.T, dim=1), F.softmax(soft_target / self.T, dim=1)) * (\n",
    "            self.alpha * self.T * self.T\n",
    "        ) + self.criterion(outputs, hard_target) * (1.0 - self.alpha)\n",
    "\n",
    "        return KD_loss"
   ]
  },
  {
   "cell_type": "markdown",
   "metadata": {},
   "source": [
    "# Helper functions"
   ]
  },
  {
   "cell_type": "code",
   "execution_count": 21,
   "metadata": {},
   "outputs": [],
   "source": [
    "# ====================================================\n",
    "# Helper functions\n",
    "# ====================================================\n",
    "class AverageMeter(object):\n",
    "    \"\"\"Computes and stores the average and current value\"\"\"\n",
    "\n",
    "    def __init__(self):\n",
    "        self.reset()\n",
    "\n",
    "    def reset(self):\n",
    "        self.val = 0\n",
    "        self.avg = 0\n",
    "        self.sum = 0\n",
    "        self.count = 0\n",
    "\n",
    "    def update(self, val, n=1):\n",
    "        self.val = val\n",
    "        self.sum += val * n\n",
    "        self.count += n\n",
    "        self.avg = self.sum / self.count\n",
    "\n",
    "\n",
    "def asMinutes(s):\n",
    "    m = math.floor(s / 60)\n",
    "    s -= m * 60\n",
    "    return \"%dm %ds\" % (m, s)\n",
    "\n",
    "\n",
    "def timeSince(since, percent):\n",
    "    now = time.time()\n",
    "    s = now - since\n",
    "    es = s / (percent)\n",
    "    rs = es - s\n",
    "    return \"%s (remain %s)\" % (asMinutes(s), asMinutes(rs))\n",
    "\n",
    "\n",
    "def train_fn(train_loader, model, criterion, optimizer, epoch, scheduler, device, scheduler_batch_update=True):\n",
    "    batch_time = AverageMeter()\n",
    "    data_time = AverageMeter()\n",
    "    losses = AverageMeter()\n",
    "    scores = AverageMeter()\n",
    "    # switch to train mode\n",
    "    model.train()\n",
    "    start = end = time.time()\n",
    "    global_step = 0\n",
    "    for step, (images, hard_target, soft_target) in enumerate(train_loader):\n",
    "        # measure data loading time\n",
    "        data_time.update(time.time() - end)\n",
    "        images = images.to(device)\n",
    "        hard_target = hard_target.to(device)\n",
    "        soft_target = soft_target.to(device)\n",
    "        batch_size = hard_target.shape[0]\n",
    "\n",
    "        # CutMix, FMix\n",
    "        if epoch <= 1 or epoch >= CFG.epochs - 1:\n",
    "            mix_decision = 0.75  # Disable CutMix, FMix for final epoch\n",
    "        else:\n",
    "            mix_decision = np.random.rand()\n",
    "\n",
    "        if epoch >= CFG.epochs - 4:\n",
    "            mix_decision *= 2  # Reduce probability\n",
    "\n",
    "        if mix_decision < 0.25:\n",
    "            images, labels = cutmix(images, hard_target, soft_target, 1.0)\n",
    "        elif mix_decision >= 0.25 and mix_decision < 0.5:\n",
    "            images, labels = fmix(\n",
    "                images, hard_target, soft_target, alpha=1.0, decay_power=5.0, shape=(CFG.size, CFG.size)\n",
    "            )\n",
    "        elif mix_decision >= 0.5 and mix_decision < 0.75:\n",
    "            images, labels = mixup(images, hard_target, soft_target, alpha=0.5)\n",
    "\n",
    "        y_preds = model(images.float())\n",
    "\n",
    "        if mix_decision < 0.75:\n",
    "            loss = criterion(y_preds, labels[0], labels[1]) * labels[4] + criterion(y_preds, labels[2], labels[3]) * (\n",
    "                1.0 - labels[4]\n",
    "            )\n",
    "        else:\n",
    "            loss = criterion(y_preds, hard_target, soft_target)\n",
    "\n",
    "        # record loss\n",
    "        losses.update(loss.item(), batch_size)\n",
    "        if CFG.gradient_accumulation_steps > 1:\n",
    "            loss = loss / CFG.gradient_accumulation_steps\n",
    "        if CFG.apex:\n",
    "            with amp.scale_loss(loss, optimizer) as scaled_loss:\n",
    "                scaled_loss.backward()\n",
    "        else:\n",
    "            loss.backward()\n",
    "        grad_norm = torch.nn.utils.clip_grad_norm_(model.parameters(), CFG.max_grad_norm)\n",
    "        if (step + 1) % CFG.gradient_accumulation_steps == 0:\n",
    "            optimizer.step()\n",
    "            optimizer.zero_grad()\n",
    "\n",
    "            if CFG.scheduler_batch_update:\n",
    "                scheduler.step()\n",
    "\n",
    "            global_step += 1\n",
    "        # measure elapsed time\n",
    "        batch_time.update(time.time() - end)\n",
    "        end = time.time()\n",
    "        if step % CFG.print_freq == 0 or step == (len(train_loader) - 1):\n",
    "            print(\n",
    "                \"Epoch: [{0}][{1}/{2}] \"\n",
    "                # \"Data {data_time.val:.3f} ({data_time.avg:.3f}) \"\n",
    "                # \"Batch {batch_time.val:.3f} ({batch_time.avg:.3f}) \"\n",
    "                \"Elapsed {remain:s} \"\n",
    "                \"Loss: {loss.val:.4f}({loss.avg:.4f}) \"\n",
    "                \"Grad: {grad_norm:.4f} \"\n",
    "                \"LR: {lr:.6f}  \".format(\n",
    "                    epoch + 1,\n",
    "                    step,\n",
    "                    len(train_loader),\n",
    "                    # batch_time=batch_time,\n",
    "                    # data_time=data_time,\n",
    "                    loss=losses,\n",
    "                    remain=timeSince(start, float(step + 1) / len(train_loader)),\n",
    "                    grad_norm=grad_norm,\n",
    "                    lr=scheduler.get_lr()[0],\n",
    "                )\n",
    "            )\n",
    "    return losses.avg\n",
    "\n",
    "\n",
    "def valid_fn(valid_loader, model, criterion, device):\n",
    "    batch_time = AverageMeter()\n",
    "    data_time = AverageMeter()\n",
    "    losses = AverageMeter()\n",
    "    scores = AverageMeter()\n",
    "    # switch to evaluation mode\n",
    "    model.eval()\n",
    "    preds = []\n",
    "    start = end = time.time()\n",
    "    for step, (images, hard_target, soft_target) in enumerate(valid_loader):\n",
    "        # measure data loading time\n",
    "        data_time.update(time.time() - end)\n",
    "        images = images.to(device)\n",
    "        hard_target = hard_target.to(device)\n",
    "        soft_target = soft_target.to(device)\n",
    "        batch_size = hard_target.shape[0]\n",
    "        # compute loss\n",
    "        with torch.no_grad():\n",
    "            y_preds = model(images)\n",
    "        loss = criterion(y_preds, hard_target, soft_target)\n",
    "        losses.update(loss.item(), batch_size)\n",
    "        # record accuracy\n",
    "        preds.append(y_preds.softmax(1).to(\"cpu\").numpy())\n",
    "        if CFG.gradient_accumulation_steps > 1:\n",
    "            loss = loss / CFG.gradient_accumulation_steps\n",
    "        # measure elapsed time\n",
    "        batch_time.update(time.time() - end)\n",
    "        end = time.time()\n",
    "        if step % CFG.print_freq == 0 or step == (len(valid_loader) - 1):\n",
    "            print(\n",
    "                \"EVAL: [{0}/{1}] \"\n",
    "                # \"Data {data_time.val:.3f} ({data_time.avg:.3f}) \"\n",
    "                # \"Batch {batch_time.val:.3f} ({batch_time.avg:.3f}) \"\n",
    "                \"Elapsed {remain:s} \"\n",
    "                \"Loss: {loss.val:.4f}({loss.avg:.4f}) \".format(\n",
    "                    step,\n",
    "                    len(valid_loader),\n",
    "                    # batch_time=batch_time,\n",
    "                    # data_time=data_time,\n",
    "                    loss=losses,\n",
    "                    remain=timeSince(start, float(step + 1) / len(valid_loader)),\n",
    "                )\n",
    "            )\n",
    "    predictions = np.concatenate(preds)\n",
    "    return losses.avg, predictions\n",
    "\n",
    "\n",
    "def inference(model, states, test_loader, device):\n",
    "    model.to(device)\n",
    "    tk0 = tqdm(enumerate(test_loader), total=len(test_loader))\n",
    "    probs = []\n",
    "    for i, (images) in tk0:\n",
    "        images = images.to(device)\n",
    "        avg_preds = []\n",
    "        for state in states:\n",
    "            model.load_state_dict(state[\"model\"])\n",
    "            model.eval()\n",
    "            with torch.no_grad():\n",
    "                y_preds = model(images)\n",
    "            avg_preds.append(y_preds.softmax(1).to(\"cpu\").numpy())\n",
    "        avg_preds = np.mean(avg_preds, axis=0)\n",
    "        probs.append(avg_preds)\n",
    "    probs = np.concatenate(probs)\n",
    "    return probs"
   ]
  },
  {
   "cell_type": "markdown",
   "metadata": {},
   "source": [
    "# Train loop"
   ]
  },
  {
   "cell_type": "code",
   "execution_count": 22,
   "metadata": {
    "_cell_guid": "b1076dfc-b9ad-4769-8c92-a6c4dae69d19",
    "_uuid": "8f2839f25d086af736a60e9eeb907d3b93b6e0e5"
   },
   "outputs": [],
   "source": [
    "# ====================================================\n",
    "# Train loop\n",
    "# ====================================================\n",
    "def train_loop(folds, fold):\n",
    "\n",
    "    LOGGER.info(f\"========== fold: {fold} training ==========\")\n",
    "\n",
    "    # ====================================================\n",
    "    # loader\n",
    "    # ====================================================\n",
    "    trn_idx = folds[folds[\"fold\"] != fold].index\n",
    "    val_idx = folds[folds[\"fold\"] == fold].index\n",
    "\n",
    "    train_folds = folds.loc[trn_idx].reset_index(drop=True)\n",
    "    valid_folds = folds.loc[val_idx].reset_index(drop=True)\n",
    "\n",
    "    train_dataset = TrainDataset(train_folds, transform=get_transforms(data=\"train\"))\n",
    "    train_dataset_no_aug = TrainDataset(train_folds, transform=get_transforms(data=\"valid\"))\n",
    "    valid_dataset = TrainDataset(valid_folds, transform=get_transforms(data=\"valid\"))\n",
    "\n",
    "    train_loader = DataLoader(\n",
    "        train_dataset,\n",
    "        batch_size=CFG.batch_size,\n",
    "        shuffle=True,\n",
    "        num_workers=CFG.num_workers,\n",
    "        pin_memory=True,\n",
    "        drop_last=True,\n",
    "    )\n",
    "    train_loader_no_aug = DataLoader(\n",
    "        train_dataset_no_aug,\n",
    "        batch_size=CFG.batch_size,\n",
    "        shuffle=True,\n",
    "        num_workers=CFG.num_workers,\n",
    "        pin_memory=True,\n",
    "        drop_last=True,\n",
    "    )\n",
    "    valid_loader = DataLoader(\n",
    "        valid_dataset,\n",
    "        batch_size=CFG.batch_size,\n",
    "        shuffle=False,\n",
    "        num_workers=CFG.num_workers,\n",
    "        pin_memory=True,\n",
    "        drop_last=False,\n",
    "    )\n",
    "\n",
    "    # ====================================================\n",
    "    # scheduler\n",
    "    # ====================================================\n",
    "    def get_scheduler(optimizer):\n",
    "        if CFG.scheduler == \"ReduceLROnPlateau\":\n",
    "            scheduler = ReduceLROnPlateau(\n",
    "                optimizer, mode=\"min\", factor=CFG.factor, patience=CFG.patience, verbose=True, eps=CFG.eps\n",
    "            )\n",
    "        elif CFG.scheduler == \"CosineAnnealingLR\":\n",
    "            scheduler = CosineAnnealingLR(optimizer, T_max=CFG.T_max, eta_min=CFG.min_lr, last_epoch=-1)\n",
    "        elif CFG.scheduler == \"CosineAnnealingWarmRestarts\":\n",
    "            scheduler = CosineAnnealingWarmRestarts(optimizer, T_0=CFG.T_0, T_mult=1, eta_min=CFG.min_lr, last_epoch=-1)\n",
    "        elif CFG.scheduler == \"CosineAnnealingWarmupRestarts\":\n",
    "            scheduler = CosineAnnealingWarmupRestarts(\n",
    "                optimizer,\n",
    "                first_cycle_steps=CFG.first_cycle_steps,\n",
    "                cycle_mult=1.0,\n",
    "                max_lr=CFG.lr,\n",
    "                min_lr=CFG.min_lr,\n",
    "                warmup_steps=CFG.warmup_steps,\n",
    "                gamma=CFG.gamma,\n",
    "            )\n",
    "        return scheduler\n",
    "\n",
    "    # ====================================================\n",
    "    # model & optimizer\n",
    "    # ====================================================\n",
    "    model = CassvaImgClassifier(CFG.model_name, pretrained=True)\n",
    "    freeze_batch_normalization(model)\n",
    "\n",
    "    model.to(device)\n",
    "\n",
    "    # Use multi GPU\n",
    "    if device == torch.device(\"cuda\") and not CFG.apex:\n",
    "        model = torch.nn.DataParallel(model)  # make parallel\n",
    "        # torch.backends.cudnn.benchmark=True\n",
    "\n",
    "    optimizer = Adam(model.parameters(), lr=CFG.lr, weight_decay=CFG.weight_decay, amsgrad=False)\n",
    "    scheduler = get_scheduler(optimizer)\n",
    "\n",
    "    # ====================================================\n",
    "    # apex\n",
    "    # ====================================================\n",
    "    if CFG.apex:\n",
    "        model, optimizer = amp.initialize(model, optimizer, opt_level=\"O1\", verbosity=0)\n",
    "\n",
    "    # ====================================================\n",
    "    # Criterion\n",
    "    # ====================================================\n",
    "    def get_criterion():\n",
    "        if CFG.criterion == \"CrossEntropyLoss\":\n",
    "            hard_criterion = nn.CrossEntropyLoss()\n",
    "        elif CFG.criterion == \"BiTemperedLoss\":\n",
    "            hard_criterion = BiTemperedLogisticLoss(t1=CFG.btl_t1, t2=CFG.btl_t2, smoothing=CFG.label_smoothing)\n",
    "\n",
    "        criterion = DistillationLoss(hard_criterion)\n",
    "        return criterion\n",
    "\n",
    "    criterion = get_criterion()\n",
    "\n",
    "    # ====================================================\n",
    "    # loop\n",
    "    # ====================================================\n",
    "    best_score = 0.0\n",
    "    best_loss = np.inf\n",
    "\n",
    "    for epoch in range(CFG.epochs):\n",
    "\n",
    "        start_time = time.time()\n",
    "\n",
    "        # train\n",
    "        if epoch <= 1 or epoch >= CFG.epochs - 1:\n",
    "            avg_loss = train_fn(\n",
    "                train_loader_no_aug, model, criterion, optimizer, epoch, scheduler, device, CFG.scheduler_batch_update\n",
    "            )\n",
    "        else:\n",
    "            avg_loss = train_fn(\n",
    "                train_loader, model, criterion, optimizer, epoch, scheduler, device, CFG.scheduler_batch_update\n",
    "            )\n",
    "\n",
    "        # eval\n",
    "        avg_val_loss, preds = valid_fn(valid_loader, model, criterion, device)\n",
    "        valid_labels = valid_folds[CFG.target_col].values\n",
    "\n",
    "        if not CFG.scheduler_batch_update:\n",
    "            if isinstance(scheduler, ReduceLROnPlateau):\n",
    "                scheduler.step(avg_val_loss)\n",
    "            elif isinstance(scheduler, CosineAnnealingLR):\n",
    "                scheduler.step()\n",
    "            elif isinstance(scheduler, CosineAnnealingWarmRestarts):\n",
    "                scheduler.step()\n",
    "\n",
    "        # scoring\n",
    "        score = get_score(valid_labels, preds.argmax(1))\n",
    "\n",
    "        elapsed = time.time() - start_time\n",
    "\n",
    "        LOGGER.info(\n",
    "            f\"Epoch {epoch+1} - avg_train_loss: {avg_loss:.4f}  avg_val_loss: {avg_val_loss:.4f}  time: {elapsed:.0f}s\"\n",
    "        )\n",
    "        LOGGER.info(f\"Epoch {epoch+1} - Accuracy: {score}\")\n",
    "\n",
    "        if score > best_score:\n",
    "            best_score = score\n",
    "            LOGGER.info(f\"Epoch {epoch+1} - Save Best Score: {best_score:.4f} Model\")\n",
    "            torch.save(\n",
    "                {\"model\": model.state_dict(), \"preds\": preds}, OUTPUT_DIR + f\"{CFG.model_name}_fold{fold}_best.pth\"\n",
    "            )\n",
    "\n",
    "        if epoch == CFG.epochs - 1:\n",
    "            LOGGER.info(f\"Epoch {epoch+1} - Save final model\")\n",
    "            torch.save(\n",
    "                {\"model\": model.state_dict(), \"preds\": preds}, OUTPUT_DIR + f\"{CFG.model_name}_fold{fold}_final.pth\"\n",
    "            )\n",
    "\n",
    "    check_point = torch.load(OUTPUT_DIR + f\"{CFG.model_name}_fold{fold}_best.pth\")\n",
    "    valid_folds[[str(c) for c in range(5)]] = check_point[\"preds\"]\n",
    "    valid_folds[\"preds\"] = check_point[\"preds\"].argmax(1)\n",
    "\n",
    "    return valid_folds"
   ]
  },
  {
   "cell_type": "code",
   "execution_count": 23,
   "metadata": {},
   "outputs": [],
   "source": [
    "# ====================================================\n",
    "# main\n",
    "# ====================================================\n",
    "def main():\n",
    "\n",
    "    \"\"\"\n",
    "    Prepare: 1.train  2.test  3.submission  4.folds\n",
    "    \"\"\"\n",
    "\n",
    "    def get_result(result_df):\n",
    "        preds = result_df[\"preds\"].values\n",
    "        labels = result_df[CFG.target_col].values\n",
    "        score = get_score(labels, preds)\n",
    "        LOGGER.info(f\"Score: {score:<.5f}\")\n",
    "\n",
    "    if CFG.train:\n",
    "        # train\n",
    "        oof_df = pd.DataFrame()\n",
    "        for fold in range(CFG.n_fold):\n",
    "            if fold in CFG.trn_fold:\n",
    "                _oof_df = train_loop(folds, fold)\n",
    "                oof_df = pd.concat([oof_df, _oof_df])\n",
    "                LOGGER.info(f\"========== fold: {fold} result ==========\")\n",
    "                get_result(_oof_df)\n",
    "        # CV result\n",
    "        LOGGER.info(f\"========== CV ==========\")\n",
    "        get_result(oof_df)\n",
    "        # save result\n",
    "        oof_df.to_csv(OUTPUT_DIR + \"oof_df.csv\", index=False)\n",
    "\n",
    "    if CFG.inference:\n",
    "        # inference\n",
    "        model = CassvaImgClassifier(CFG.model_name, pretrained=False)\n",
    "        states = [torch.load(OUTPUT_DIR + f\"{CFG.model_name}_fold{fold}_best.pth\") for fold in CFG.trn_fold]\n",
    "        test_dataset = TestDataset(test, transform=get_transforms(data=\"valid\"))\n",
    "        test_loader = DataLoader(\n",
    "            test_dataset, batch_size=CFG.batch_size, shuffle=False, num_workers=CFG.num_workers, pin_memory=True\n",
    "        )\n",
    "        predictions = inference(model, states, test_loader, device)\n",
    "        # submission\n",
    "        test[\"label\"] = predictions.argmax(1)\n",
    "        test[[\"image_id\", \"label\"]].to_csv(OUTPUT_DIR + \"submission.csv\", index=False)"
   ]
  },
  {
   "cell_type": "code",
   "execution_count": 24,
   "metadata": {
    "_cell_guid": "79c7e3d0-c299-4dcb-8224-4455121ee9b0",
    "_uuid": "d629ff2d2480ee46fbb7e2d37f6b5fab8052498a"
   },
   "outputs": [
    {
     "name": "stderr",
     "output_type": "stream",
     "text": [
      "========== fold: 0 training ==========\n",
      "Downloading: \"https://github.com/rwightman/pytorch-image-models/releases/download/v0.1-weights/tf_efficientnet_b4_ns-d6313a46.pth\" to /root/.cache/torch/hub/checkpoints/tf_efficientnet_b4_ns-d6313a46.pth\n"
     ]
    },
    {
     "name": "stdout",
     "output_type": "stream",
     "text": [
      "Epoch: [1][0/1316] Elapsed 0m 8s (remain 178m 56s) Loss: 0.2283(0.2283) Grad: 0.2275 LR: 0.000100  \n",
      "Epoch: [1][100/1316] Elapsed 0m 39s (remain 7m 58s) Loss: 0.0699(0.1506) Grad: 0.1459 LR: 0.000100  \n",
      "Epoch: [1][200/1316] Elapsed 1m 11s (remain 6m 36s) Loss: 0.1006(0.1260) Grad: 0.3104 LR: 0.000100  \n",
      "Epoch: [1][300/1316] Elapsed 1m 42s (remain 5m 46s) Loss: 0.0731(0.1118) Grad: 0.2177 LR: 0.000100  \n",
      "Epoch: [1][400/1316] Elapsed 2m 13s (remain 5m 5s) Loss: 0.0560(0.1018) Grad: 0.1839 LR: 0.000100  \n",
      "Epoch: [1][500/1316] Elapsed 2m 45s (remain 4m 28s) Loss: 0.0497(0.0940) Grad: 0.2010 LR: 0.000100  \n",
      "Epoch: [1][600/1316] Elapsed 3m 16s (remain 3m 53s) Loss: 0.0656(0.0893) Grad: 0.2556 LR: 0.000099  \n",
      "Epoch: [1][700/1316] Elapsed 3m 48s (remain 3m 20s) Loss: 0.0588(0.0855) Grad: 0.1859 LR: 0.000099  \n",
      "Epoch: [1][800/1316] Elapsed 4m 20s (remain 2m 47s) Loss: 0.0579(0.0824) Grad: 0.1650 LR: 0.000099  \n",
      "Epoch: [1][900/1316] Elapsed 4m 52s (remain 2m 14s) Loss: 0.0437(0.0796) Grad: 0.1818 LR: 0.000099  \n",
      "Epoch: [1][1000/1316] Elapsed 5m 23s (remain 1m 41s) Loss: 0.1061(0.0771) Grad: 0.2645 LR: 0.000099  \n",
      "Epoch: [1][1100/1316] Elapsed 5m 55s (remain 1m 9s) Loss: 0.0435(0.0751) Grad: 0.1769 LR: 0.000098  \n",
      "Epoch: [1][1200/1316] Elapsed 6m 26s (remain 0m 36s) Loss: 0.0574(0.0735) Grad: 0.1827 LR: 0.000098  \n",
      "Epoch: [1][1300/1316] Elapsed 6m 58s (remain 0m 4s) Loss: 0.0866(0.0716) Grad: 0.1889 LR: 0.000098  \n",
      "Epoch: [1][1315/1316] Elapsed 7m 3s (remain 0m 0s) Loss: 0.0611(0.0715) Grad: 0.3065 LR: 0.000098  \n",
      "EVAL: [0/330] Elapsed 0m 0s (remain 4m 31s) Loss: 0.0399(0.0399) \n",
      "EVAL: [100/330] Elapsed 0m 17s (remain 0m 39s) Loss: 0.0423(0.0468) \n",
      "EVAL: [200/330] Elapsed 0m 34s (remain 0m 22s) Loss: 0.0239(0.0478) \n",
      "EVAL: [300/330] Elapsed 0m 54s (remain 0m 5s) Loss: 0.0208(0.0469) \n"
     ]
    },
    {
     "name": "stderr",
     "output_type": "stream",
     "text": [
      "Epoch 1 - avg_train_loss: 0.0715  avg_val_loss: 0.0467  time: 483s\n",
      "Epoch 1 - Accuracy: 0.9267274107820805\n",
      "Epoch 1 - Save Best Score: 0.9267 Model\n"
     ]
    },
    {
     "name": "stdout",
     "output_type": "stream",
     "text": [
      "EVAL: [329/330] Elapsed 0m 59s (remain 0m 0s) Loss: 0.0397(0.0467) \n",
      "Epoch: [2][0/1316] Elapsed 0m 1s (remain 24m 55s) Loss: 0.0372(0.0372) Grad: 0.1713 LR: 0.000098  \n",
      "Epoch: [2][100/1316] Elapsed 0m 31s (remain 6m 18s) Loss: 0.0372(0.0416) Grad: 0.1576 LR: 0.000097  \n",
      "Epoch: [2][200/1316] Elapsed 1m 2s (remain 5m 47s) Loss: 0.0240(0.0388) Grad: 0.1099 LR: 0.000097  \n",
      "Epoch: [2][300/1316] Elapsed 1m 33s (remain 5m 14s) Loss: 0.0584(0.0386) Grad: 0.1983 LR: 0.000096  \n",
      "Epoch: [2][400/1316] Elapsed 2m 3s (remain 4m 42s) Loss: 0.0369(0.0380) Grad: 0.1647 LR: 0.000096  \n",
      "Epoch: [2][500/1316] Elapsed 2m 34s (remain 4m 11s) Loss: 0.0292(0.0374) Grad: 0.1272 LR: 0.000095  \n",
      "Epoch: [2][600/1316] Elapsed 3m 4s (remain 3m 39s) Loss: 0.0523(0.0378) Grad: 0.1791 LR: 0.000095  \n",
      "Epoch: [2][700/1316] Elapsed 3m 34s (remain 3m 8s) Loss: 0.0381(0.0380) Grad: 0.2507 LR: 0.000094  \n",
      "Epoch: [2][800/1316] Elapsed 4m 4s (remain 2m 37s) Loss: 0.0375(0.0375) Grad: 0.1774 LR: 0.000094  \n",
      "Epoch: [2][900/1316] Elapsed 4m 35s (remain 2m 6s) Loss: 0.0406(0.0376) Grad: 0.3014 LR: 0.000093  \n",
      "Epoch: [2][1000/1316] Elapsed 5m 4s (remain 1m 35s) Loss: 0.0231(0.0374) Grad: 0.0969 LR: 0.000093  \n",
      "Epoch: [2][1100/1316] Elapsed 5m 34s (remain 1m 5s) Loss: 0.0327(0.0376) Grad: 0.1682 LR: 0.000092  \n",
      "Epoch: [2][1200/1316] Elapsed 6m 5s (remain 0m 34s) Loss: 0.0614(0.0375) Grad: 0.2679 LR: 0.000091  \n",
      "Epoch: [2][1300/1316] Elapsed 6m 35s (remain 0m 4s) Loss: 0.0410(0.0375) Grad: 0.2596 LR: 0.000091  \n",
      "Epoch: [2][1315/1316] Elapsed 6m 39s (remain 0m 0s) Loss: 0.0397(0.0375) Grad: 0.3313 LR: 0.000091  \n",
      "EVAL: [0/330] Elapsed 0m 0s (remain 4m 14s) Loss: 0.0334(0.0334) \n",
      "EVAL: [100/330] Elapsed 0m 11s (remain 0m 26s) Loss: 0.0246(0.0411) \n",
      "EVAL: [200/330] Elapsed 0m 22s (remain 0m 14s) Loss: 0.0182(0.0415) \n",
      "EVAL: [300/330] Elapsed 0m 33s (remain 0m 3s) Loss: 0.0175(0.0418) \n"
     ]
    },
    {
     "name": "stderr",
     "output_type": "stream",
     "text": [
      "Epoch 2 - avg_train_loss: 0.0375  avg_val_loss: 0.0420  time: 436s\n",
      "Epoch 2 - Accuracy: 0.9326119969627942\n",
      "Epoch 2 - Save Best Score: 0.9326 Model\n"
     ]
    },
    {
     "name": "stdout",
     "output_type": "stream",
     "text": [
      "EVAL: [329/330] Elapsed 0m 35s (remain 0m 0s) Loss: 0.0173(0.0420) \n",
      "Epoch: [3][0/1316] Elapsed 0m 1s (remain 25m 57s) Loss: 0.1086(0.1086) Grad: 0.3595 LR: 0.000091  \n",
      "Epoch: [3][100/1316] Elapsed 0m 33s (remain 6m 43s) Loss: 0.0895(0.0968) Grad: 0.2768 LR: 0.000090  \n",
      "Epoch: [3][200/1316] Elapsed 1m 5s (remain 6m 4s) Loss: 0.0741(0.0993) Grad: 0.1672 LR: 0.000089  \n",
      "Epoch: [3][300/1316] Elapsed 1m 37s (remain 5m 28s) Loss: 0.0535(0.0971) Grad: 0.2066 LR: 0.000088  \n",
      "Epoch: [3][400/1316] Elapsed 2m 9s (remain 4m 54s) Loss: 0.0942(0.1000) Grad: 0.1589 LR: 0.000088  \n",
      "Epoch: [3][500/1316] Elapsed 2m 40s (remain 4m 21s) Loss: 0.0872(0.0997) Grad: 0.1468 LR: 0.000087  \n",
      "Epoch: [3][600/1316] Elapsed 3m 12s (remain 3m 49s) Loss: 0.0987(0.0995) Grad: 0.1060 LR: 0.000086  \n",
      "Epoch: [3][700/1316] Elapsed 3m 45s (remain 3m 17s) Loss: 0.0813(0.0986) Grad: 0.1714 LR: 0.000085  \n",
      "Epoch: [3][800/1316] Elapsed 4m 17s (remain 2m 45s) Loss: 0.1017(0.0974) Grad: 0.1180 LR: 0.000084  \n",
      "Epoch: [3][900/1316] Elapsed 4m 49s (remain 2m 13s) Loss: 0.1195(0.0973) Grad: 0.1066 LR: 0.000084  \n",
      "Epoch: [3][1000/1316] Elapsed 5m 21s (remain 1m 41s) Loss: 0.0586(0.0973) Grad: 0.2350 LR: 0.000083  \n",
      "Epoch: [3][1100/1316] Elapsed 5m 53s (remain 1m 8s) Loss: 0.0638(0.0969) Grad: 0.0825 LR: 0.000082  \n",
      "Epoch: [3][1200/1316] Elapsed 6m 25s (remain 0m 36s) Loss: 0.0962(0.0971) Grad: 0.2153 LR: 0.000081  \n",
      "Epoch: [3][1300/1316] Elapsed 6m 57s (remain 0m 4s) Loss: 0.0403(0.0967) Grad: 0.1469 LR: 0.000080  \n",
      "Epoch: [3][1315/1316] Elapsed 7m 2s (remain 0m 0s) Loss: 0.0683(0.0965) Grad: 0.2301 LR: 0.000080  \n",
      "EVAL: [0/330] Elapsed 0m 0s (remain 4m 14s) Loss: 0.0450(0.0450) \n",
      "EVAL: [100/330] Elapsed 0m 12s (remain 0m 28s) Loss: 0.0242(0.0416) \n",
      "EVAL: [200/330] Elapsed 0m 24s (remain 0m 15s) Loss: 0.0239(0.0429) \n",
      "EVAL: [300/330] Elapsed 0m 35s (remain 0m 3s) Loss: 0.0194(0.0429) \n"
     ]
    },
    {
     "name": "stderr",
     "output_type": "stream",
     "text": [
      "Epoch 3 - avg_train_loss: 0.0965  avg_val_loss: 0.0430  time: 461s\n",
      "Epoch 3 - Accuracy: 0.9350797266514806\n",
      "Epoch 3 - Save Best Score: 0.9351 Model\n"
     ]
    },
    {
     "name": "stdout",
     "output_type": "stream",
     "text": [
      "EVAL: [329/330] Elapsed 0m 38s (remain 0m 0s) Loss: 0.0175(0.0430) \n",
      "Epoch: [4][0/1316] Elapsed 0m 1s (remain 28m 50s) Loss: 0.0392(0.0392) Grad: 0.1903 LR: 0.000080  \n",
      "Epoch: [4][100/1316] Elapsed 0m 33s (remain 6m 42s) Loss: 0.0602(0.0819) Grad: 0.1781 LR: 0.000079  \n",
      "Epoch: [4][200/1316] Elapsed 1m 5s (remain 6m 3s) Loss: 0.0968(0.0890) Grad: 0.1893 LR: 0.000078  \n",
      "Epoch: [4][300/1316] Elapsed 1m 37s (remain 5m 30s) Loss: 0.0361(0.0889) Grad: 0.1898 LR: 0.000077  \n",
      "Epoch: [4][400/1316] Elapsed 2m 10s (remain 4m 57s) Loss: 0.1385(0.0891) Grad: 0.1558 LR: 0.000076  \n",
      "Epoch: [4][500/1316] Elapsed 2m 43s (remain 4m 25s) Loss: 0.1331(0.0901) Grad: 0.1706 LR: 0.000075  \n",
      "Epoch: [4][600/1316] Elapsed 3m 15s (remain 3m 52s) Loss: 0.1577(0.0898) Grad: 0.1443 LR: 0.000074  \n",
      "Epoch: [4][700/1316] Elapsed 3m 47s (remain 3m 19s) Loss: 0.0633(0.0909) Grad: 0.2075 LR: 0.000073  \n",
      "Epoch: [4][800/1316] Elapsed 4m 19s (remain 2m 46s) Loss: 0.0904(0.0914) Grad: 0.2333 LR: 0.000072  \n",
      "Epoch: [4][900/1316] Elapsed 4m 50s (remain 2m 13s) Loss: 0.0772(0.0913) Grad: 0.2459 LR: 0.000071  \n",
      "Epoch: [4][1000/1316] Elapsed 5m 22s (remain 1m 41s) Loss: 0.0251(0.0904) Grad: 0.0782 LR: 0.000070  \n",
      "Epoch: [4][1100/1316] Elapsed 5m 53s (remain 1m 9s) Loss: 0.1387(0.0907) Grad: 0.1326 LR: 0.000069  \n",
      "Epoch: [4][1200/1316] Elapsed 6m 26s (remain 0m 36s) Loss: 0.1301(0.0910) Grad: 0.1683 LR: 0.000067  \n",
      "Epoch: [4][1300/1316] Elapsed 6m 58s (remain 0m 4s) Loss: 0.0551(0.0906) Grad: 0.1543 LR: 0.000066  \n",
      "Epoch: [4][1315/1316] Elapsed 7m 2s (remain 0m 0s) Loss: 0.0348(0.0906) Grad: 0.1969 LR: 0.000066  \n",
      "EVAL: [0/330] Elapsed 0m 0s (remain 4m 25s) Loss: 0.0391(0.0391) \n",
      "EVAL: [100/330] Elapsed 0m 11s (remain 0m 26s) Loss: 0.0230(0.0438) \n",
      "EVAL: [200/330] Elapsed 0m 22s (remain 0m 14s) Loss: 0.0270(0.0448) \n",
      "EVAL: [300/330] Elapsed 0m 32s (remain 0m 3s) Loss: 0.0208(0.0450) \n"
     ]
    },
    {
     "name": "stderr",
     "output_type": "stream",
     "text": [
      "Epoch 4 - avg_train_loss: 0.0906  avg_val_loss: 0.0451  time: 458s\n",
      "Epoch 4 - Accuracy: 0.9329916476841306\n"
     ]
    },
    {
     "name": "stdout",
     "output_type": "stream",
     "text": [
      "EVAL: [329/330] Elapsed 0m 35s (remain 0m 0s) Loss: 0.0200(0.0451) \n",
      "Epoch: [5][0/1316] Elapsed 0m 1s (remain 28m 29s) Loss: 0.0582(0.0582) Grad: 0.1129 LR: 0.000066  \n",
      "Epoch: [5][100/1316] Elapsed 0m 33s (remain 6m 40s) Loss: 0.0445(0.0893) Grad: 0.1930 LR: 0.000065  \n",
      "Epoch: [5][200/1316] Elapsed 1m 5s (remain 6m 2s) Loss: 0.0460(0.0881) Grad: 0.1228 LR: 0.000064  \n",
      "Epoch: [5][300/1316] Elapsed 1m 36s (remain 5m 26s) Loss: 0.0233(0.0878) Grad: 0.0840 LR: 0.000063  \n",
      "Epoch: [5][400/1316] Elapsed 2m 8s (remain 4m 53s) Loss: 0.0443(0.0876) Grad: 0.1804 LR: 0.000062  \n",
      "Epoch: [5][500/1316] Elapsed 2m 40s (remain 4m 20s) Loss: 0.0532(0.0870) Grad: 0.1506 LR: 0.000061  \n",
      "Epoch: [5][600/1316] Elapsed 3m 12s (remain 3m 49s) Loss: 0.1174(0.0869) Grad: 0.0935 LR: 0.000059  \n",
      "Epoch: [5][700/1316] Elapsed 3m 44s (remain 3m 17s) Loss: 0.0546(0.0873) Grad: 0.2100 LR: 0.000058  \n",
      "Epoch: [5][800/1316] Elapsed 4m 16s (remain 2m 45s) Loss: 0.0537(0.0880) Grad: 0.1651 LR: 0.000057  \n",
      "Epoch: [5][900/1316] Elapsed 4m 48s (remain 2m 13s) Loss: 0.1022(0.0880) Grad: 0.0797 LR: 0.000056  \n",
      "Epoch: [5][1000/1316] Elapsed 5m 20s (remain 1m 40s) Loss: 0.1539(0.0881) Grad: 0.2791 LR: 0.000055  \n",
      "Epoch: [5][1100/1316] Elapsed 5m 52s (remain 1m 8s) Loss: 0.0355(0.0881) Grad: 0.1423 LR: 0.000054  \n",
      "Epoch: [5][1200/1316] Elapsed 6m 24s (remain 0m 36s) Loss: 0.1289(0.0884) Grad: 0.1497 LR: 0.000052  \n",
      "Epoch: [5][1300/1316] Elapsed 6m 57s (remain 0m 4s) Loss: 0.0880(0.0887) Grad: 0.1693 LR: 0.000051  \n",
      "Epoch: [5][1315/1316] Elapsed 7m 1s (remain 0m 0s) Loss: 0.0389(0.0886) Grad: 0.2804 LR: 0.000051  \n",
      "EVAL: [0/330] Elapsed 0m 0s (remain 4m 15s) Loss: 0.0367(0.0367) \n",
      "EVAL: [100/330] Elapsed 0m 11s (remain 0m 26s) Loss: 0.0227(0.0419) \n",
      "EVAL: [200/330] Elapsed 0m 22s (remain 0m 14s) Loss: 0.0275(0.0428) \n",
      "EVAL: [300/330] Elapsed 0m 32s (remain 0m 3s) Loss: 0.0204(0.0435) \n"
     ]
    },
    {
     "name": "stderr",
     "output_type": "stream",
     "text": [
      "Epoch 5 - avg_train_loss: 0.0886  avg_val_loss: 0.0437  time: 458s\n",
      "Epoch 5 - Accuracy: 0.9367881548974943\n",
      "Epoch 5 - Save Best Score: 0.9368 Model\n"
     ]
    },
    {
     "name": "stdout",
     "output_type": "stream",
     "text": [
      "EVAL: [329/330] Elapsed 0m 35s (remain 0m 0s) Loss: 0.0174(0.0437) \n",
      "Epoch: [6][0/1316] Elapsed 0m 1s (remain 25m 16s) Loss: 0.1198(0.1198) Grad: 0.1325 LR: 0.000051  \n",
      "Epoch: [6][100/1316] Elapsed 0m 33s (remain 6m 37s) Loss: 0.0724(0.0883) Grad: 0.2233 LR: 0.000050  \n",
      "Epoch: [6][200/1316] Elapsed 1m 5s (remain 6m 1s) Loss: 0.0402(0.0877) Grad: 0.1274 LR: 0.000049  \n",
      "Epoch: [6][300/1316] Elapsed 1m 36s (remain 5m 25s) Loss: 0.0748(0.0859) Grad: 0.2369 LR: 0.000048  \n",
      "Epoch: [6][400/1316] Elapsed 2m 8s (remain 4m 52s) Loss: 0.0283(0.0868) Grad: 0.1186 LR: 0.000046  \n",
      "Epoch: [6][500/1316] Elapsed 2m 39s (remain 4m 20s) Loss: 0.0807(0.0855) Grad: 0.0704 LR: 0.000045  \n",
      "Epoch: [6][600/1316] Elapsed 3m 11s (remain 3m 47s) Loss: 0.0475(0.0856) Grad: 0.1305 LR: 0.000044  \n",
      "Epoch: [6][700/1316] Elapsed 3m 43s (remain 3m 16s) Loss: 0.0429(0.0857) Grad: 0.2034 LR: 0.000043  \n",
      "Epoch: [6][800/1316] Elapsed 4m 14s (remain 2m 43s) Loss: 0.1417(0.0857) Grad: 0.1995 LR: 0.000042  \n",
      "Epoch: [6][900/1316] Elapsed 4m 47s (remain 2m 12s) Loss: 0.1309(0.0856) Grad: 0.1416 LR: 0.000041  \n",
      "Epoch: [6][1000/1316] Elapsed 5m 19s (remain 1m 40s) Loss: 0.0559(0.0861) Grad: 0.1814 LR: 0.000039  \n",
      "Epoch: [6][1100/1316] Elapsed 5m 51s (remain 1m 8s) Loss: 0.0635(0.0858) Grad: 0.0888 LR: 0.000038  \n",
      "Epoch: [6][1200/1316] Elapsed 6m 23s (remain 0m 36s) Loss: 0.1218(0.0861) Grad: 0.1477 LR: 0.000037  \n",
      "Epoch: [6][1300/1316] Elapsed 6m 54s (remain 0m 4s) Loss: 0.0937(0.0862) Grad: 0.1331 LR: 0.000036  \n",
      "Epoch: [6][1315/1316] Elapsed 6m 59s (remain 0m 0s) Loss: 0.0918(0.0862) Grad: 0.2779 LR: 0.000036  \n",
      "EVAL: [0/330] Elapsed 0m 0s (remain 4m 3s) Loss: 0.0353(0.0353) \n",
      "EVAL: [100/330] Elapsed 0m 11s (remain 0m 25s) Loss: 0.0240(0.0406) \n",
      "EVAL: [200/330] Elapsed 0m 22s (remain 0m 14s) Loss: 0.0217(0.0406) \n",
      "EVAL: [300/330] Elapsed 0m 32s (remain 0m 3s) Loss: 0.0207(0.0413) \n"
     ]
    },
    {
     "name": "stderr",
     "output_type": "stream",
     "text": [
      "Epoch 6 - avg_train_loss: 0.0862  avg_val_loss: 0.0416  time: 455s\n",
      "Epoch 6 - Accuracy: 0.9379271070615034\n",
      "Epoch 6 - Save Best Score: 0.9379 Model\n"
     ]
    },
    {
     "name": "stdout",
     "output_type": "stream",
     "text": [
      "EVAL: [329/330] Elapsed 0m 35s (remain 0m 0s) Loss: 0.0173(0.0416) \n",
      "Epoch: [7][0/1316] Elapsed 0m 1s (remain 27m 45s) Loss: 0.1567(0.1567) Grad: 0.1461 LR: 0.000036  \n",
      "Epoch: [7][100/1316] Elapsed 0m 33s (remain 6m 38s) Loss: 0.0685(0.0670) Grad: 0.0645 LR: 0.000035  \n",
      "Epoch: [7][200/1316] Elapsed 1m 4s (remain 5m 56s) Loss: 0.1684(0.0640) Grad: 0.1246 LR: 0.000034  \n",
      "Epoch: [7][300/1316] Elapsed 1m 35s (remain 5m 22s) Loss: 0.1032(0.0652) Grad: 0.0992 LR: 0.000033  \n",
      "Epoch: [7][400/1316] Elapsed 2m 6s (remain 4m 49s) Loss: 0.0302(0.0644) Grad: 0.1662 LR: 0.000032  \n",
      "Epoch: [7][500/1316] Elapsed 2m 38s (remain 4m 17s) Loss: 0.1005(0.0651) Grad: 0.0766 LR: 0.000030  \n",
      "Epoch: [7][600/1316] Elapsed 3m 9s (remain 3m 45s) Loss: 0.0502(0.0653) Grad: 0.1765 LR: 0.000029  \n",
      "Epoch: [7][700/1316] Elapsed 3m 40s (remain 3m 13s) Loss: 0.1406(0.0660) Grad: 0.1862 LR: 0.000028  \n",
      "Epoch: [7][800/1316] Elapsed 4m 11s (remain 2m 41s) Loss: 0.0628(0.0661) Grad: 0.2067 LR: 0.000027  \n",
      "Epoch: [7][900/1316] Elapsed 4m 42s (remain 2m 10s) Loss: 0.0275(0.0658) Grad: 0.1242 LR: 0.000026  \n",
      "Epoch: [7][1000/1316] Elapsed 5m 13s (remain 1m 38s) Loss: 0.0356(0.0653) Grad: 0.1624 LR: 0.000025  \n",
      "Epoch: [7][1100/1316] Elapsed 5m 44s (remain 1m 7s) Loss: 0.0238(0.0650) Grad: 0.0911 LR: 0.000024  \n",
      "Epoch: [7][1200/1316] Elapsed 6m 16s (remain 0m 36s) Loss: 0.0488(0.0651) Grad: 0.2454 LR: 0.000023  \n",
      "Epoch: [7][1300/1316] Elapsed 6m 47s (remain 0m 4s) Loss: 0.0338(0.0647) Grad: 0.1983 LR: 0.000022  \n",
      "Epoch: [7][1315/1316] Elapsed 6m 51s (remain 0m 0s) Loss: 0.0912(0.0649) Grad: 0.2978 LR: 0.000022  \n",
      "EVAL: [0/330] Elapsed 0m 0s (remain 3m 59s) Loss: 0.0278(0.0278) \n",
      "EVAL: [100/330] Elapsed 0m 11s (remain 0m 25s) Loss: 0.0209(0.0374) \n",
      "EVAL: [200/330] Elapsed 0m 22s (remain 0m 14s) Loss: 0.0179(0.0388) \n",
      "EVAL: [300/330] Elapsed 0m 32s (remain 0m 3s) Loss: 0.0192(0.0390) \n"
     ]
    },
    {
     "name": "stderr",
     "output_type": "stream",
     "text": [
      "Epoch 7 - avg_train_loss: 0.0649  avg_val_loss: 0.0392  time: 447s\n",
      "Epoch 7 - Accuracy: 0.9411541381928625\n",
      "Epoch 7 - Save Best Score: 0.9412 Model\n"
     ]
    },
    {
     "name": "stdout",
     "output_type": "stream",
     "text": [
      "EVAL: [329/330] Elapsed 0m 35s (remain 0m 0s) Loss: 0.0163(0.0392) \n",
      "Epoch: [8][0/1316] Elapsed 0m 1s (remain 26m 37s) Loss: 0.1437(0.1437) Grad: 0.1490 LR: 0.000022  \n",
      "Epoch: [8][100/1316] Elapsed 0m 32s (remain 6m 27s) Loss: 0.0242(0.0678) Grad: 0.0877 LR: 0.000021  \n",
      "Epoch: [8][200/1316] Elapsed 1m 3s (remain 5m 52s) Loss: 0.0948(0.0654) Grad: 0.0995 LR: 0.000020  \n",
      "Epoch: [8][300/1316] Elapsed 1m 34s (remain 5m 18s) Loss: 0.0996(0.0641) Grad: 0.1071 LR: 0.000020  \n",
      "Epoch: [8][400/1316] Elapsed 2m 5s (remain 4m 46s) Loss: 0.0258(0.0635) Grad: 0.0925 LR: 0.000019  \n",
      "Epoch: [8][500/1316] Elapsed 2m 36s (remain 4m 14s) Loss: 0.0779(0.0632) Grad: 0.2958 LR: 0.000018  \n",
      "Epoch: [8][600/1316] Elapsed 3m 7s (remain 3m 43s) Loss: 0.0304(0.0630) Grad: 0.1449 LR: 0.000017  \n",
      "Epoch: [8][700/1316] Elapsed 3m 38s (remain 3m 11s) Loss: 0.0615(0.0627) Grad: 0.2848 LR: 0.000016  \n",
      "Epoch: [8][800/1316] Elapsed 4m 9s (remain 2m 40s) Loss: 0.0351(0.0622) Grad: 0.2157 LR: 0.000015  \n",
      "Epoch: [8][900/1316] Elapsed 4m 40s (remain 2m 9s) Loss: 0.0875(0.0623) Grad: 0.0717 LR: 0.000014  \n",
      "Epoch: [8][1000/1316] Elapsed 5m 12s (remain 1m 38s) Loss: 0.0458(0.0630) Grad: 0.2492 LR: 0.000014  \n",
      "Epoch: [8][1100/1316] Elapsed 5m 44s (remain 1m 7s) Loss: 0.1456(0.0626) Grad: 0.1469 LR: 0.000013  \n",
      "Epoch: [8][1200/1316] Elapsed 6m 15s (remain 0m 35s) Loss: 0.0557(0.0623) Grad: 0.2086 LR: 0.000012  \n",
      "Epoch: [8][1300/1316] Elapsed 6m 46s (remain 0m 4s) Loss: 0.0171(0.0625) Grad: 0.0254 LR: 0.000012  \n",
      "Epoch: [8][1315/1316] Elapsed 6m 50s (remain 0m 0s) Loss: 0.0191(0.0625) Grad: 0.0901 LR: 0.000011  \n",
      "EVAL: [0/330] Elapsed 0m 0s (remain 4m 0s) Loss: 0.0242(0.0242) \n",
      "EVAL: [100/330] Elapsed 0m 11s (remain 0m 25s) Loss: 0.0214(0.0366) \n",
      "EVAL: [200/330] Elapsed 0m 22s (remain 0m 14s) Loss: 0.0202(0.0379) \n",
      "EVAL: [300/330] Elapsed 0m 32s (remain 0m 3s) Loss: 0.0179(0.0383) \n"
     ]
    },
    {
     "name": "stderr",
     "output_type": "stream",
     "text": [
      "Epoch 8 - avg_train_loss: 0.0625  avg_val_loss: 0.0386  time: 446s\n",
      "Epoch 8 - Accuracy: 0.9455201214882308\n",
      "Epoch 8 - Save Best Score: 0.9455 Model\n"
     ]
    },
    {
     "name": "stdout",
     "output_type": "stream",
     "text": [
      "EVAL: [329/330] Elapsed 0m 35s (remain 0m 0s) Loss: 0.0168(0.0386) \n",
      "Epoch: [9][0/1316] Elapsed 0m 1s (remain 27m 31s) Loss: 0.0286(0.0286) Grad: 0.0744 LR: 0.000011  \n",
      "Epoch: [9][100/1316] Elapsed 0m 33s (remain 6m 39s) Loss: 0.1401(0.0683) Grad: 0.1043 LR: 0.000011  \n",
      "Epoch: [9][200/1316] Elapsed 1m 5s (remain 6m 0s) Loss: 0.1385(0.0663) Grad: 0.1233 LR: 0.000010  \n",
      "Epoch: [9][300/1316] Elapsed 1m 36s (remain 5m 23s) Loss: 0.0245(0.0630) Grad: 0.0962 LR: 0.000009  \n",
      "Epoch: [9][400/1316] Elapsed 2m 7s (remain 4m 51s) Loss: 0.0597(0.0597) Grad: 0.1987 LR: 0.000009  \n",
      "Epoch: [9][500/1316] Elapsed 2m 39s (remain 4m 19s) Loss: 0.0751(0.0607) Grad: 0.2300 LR: 0.000008  \n",
      "Epoch: [9][600/1316] Elapsed 3m 10s (remain 3m 47s) Loss: 0.0423(0.0603) Grad: 0.1377 LR: 0.000008  \n",
      "Epoch: [9][700/1316] Elapsed 3m 42s (remain 3m 15s) Loss: 0.1013(0.0606) Grad: 0.3119 LR: 0.000007  \n",
      "Epoch: [9][800/1316] Elapsed 4m 14s (remain 2m 43s) Loss: 0.0266(0.0605) Grad: 0.1822 LR: 0.000007  \n",
      "Epoch: [9][900/1316] Elapsed 4m 45s (remain 2m 11s) Loss: 0.0343(0.0606) Grad: 0.1778 LR: 0.000006  \n",
      "Epoch: [9][1000/1316] Elapsed 5m 16s (remain 1m 39s) Loss: 0.0216(0.0613) Grad: 0.1057 LR: 0.000006  \n",
      "Epoch: [9][1100/1316] Elapsed 5m 48s (remain 1m 8s) Loss: 0.0609(0.0613) Grad: 0.2105 LR: 0.000005  \n",
      "Epoch: [9][1200/1316] Elapsed 6m 20s (remain 0m 36s) Loss: 0.0587(0.0617) Grad: 0.1794 LR: 0.000005  \n",
      "Epoch: [9][1300/1316] Elapsed 6m 51s (remain 0m 4s) Loss: 0.0529(0.0613) Grad: 0.2233 LR: 0.000004  \n",
      "Epoch: [9][1315/1316] Elapsed 6m 56s (remain 0m 0s) Loss: 0.0629(0.0613) Grad: 0.2910 LR: 0.000004  \n",
      "EVAL: [0/330] Elapsed 0m 0s (remain 3m 52s) Loss: 0.0258(0.0258) \n",
      "EVAL: [100/330] Elapsed 0m 11s (remain 0m 26s) Loss: 0.0197(0.0359) \n",
      "EVAL: [200/330] Elapsed 0m 22s (remain 0m 14s) Loss: 0.0179(0.0373) \n",
      "EVAL: [300/330] Elapsed 0m 32s (remain 0m 3s) Loss: 0.0175(0.0378) \n"
     ]
    },
    {
     "name": "stderr",
     "output_type": "stream",
     "text": [
      "Epoch 9 - avg_train_loss: 0.0613  avg_val_loss: 0.0381  time: 452s\n",
      "Epoch 9 - Accuracy: 0.9462794229309036\n",
      "Epoch 9 - Save Best Score: 0.9463 Model\n"
     ]
    },
    {
     "name": "stdout",
     "output_type": "stream",
     "text": [
      "EVAL: [329/330] Elapsed 0m 35s (remain 0m 0s) Loss: 0.0162(0.0381) \n",
      "Epoch: [10][0/1316] Elapsed 0m 1s (remain 22m 50s) Loss: 0.0253(0.0253) Grad: 0.1592 LR: 0.000004  \n",
      "Epoch: [10][100/1316] Elapsed 0m 31s (remain 6m 15s) Loss: 0.0252(0.0296) Grad: 0.1514 LR: 0.000004  \n",
      "Epoch: [10][200/1316] Elapsed 1m 1s (remain 5m 39s) Loss: 0.0174(0.0290) Grad: 0.0192 LR: 0.000004  \n",
      "Epoch: [10][300/1316] Elapsed 1m 31s (remain 5m 8s) Loss: 0.0331(0.0281) Grad: 0.2039 LR: 0.000003  \n",
      "Epoch: [10][400/1316] Elapsed 2m 2s (remain 4m 38s) Loss: 0.0397(0.0278) Grad: 0.2134 LR: 0.000003  \n",
      "Epoch: [10][500/1316] Elapsed 2m 33s (remain 4m 9s) Loss: 0.0303(0.0277) Grad: 0.1658 LR: 0.000003  \n",
      "Epoch: [10][600/1316] Elapsed 3m 3s (remain 3m 38s) Loss: 0.0329(0.0272) Grad: 0.1813 LR: 0.000003  \n",
      "Epoch: [10][700/1316] Elapsed 3m 34s (remain 3m 7s) Loss: 0.0181(0.0272) Grad: 0.0176 LR: 0.000003  \n",
      "Epoch: [10][800/1316] Elapsed 4m 3s (remain 2m 36s) Loss: 0.0297(0.0269) Grad: 0.1729 LR: 0.000002  \n",
      "Epoch: [10][900/1316] Elapsed 4m 33s (remain 2m 6s) Loss: 0.0197(0.0268) Grad: 0.0359 LR: 0.000002  \n",
      "Epoch: [10][1000/1316] Elapsed 5m 3s (remain 1m 35s) Loss: 0.0278(0.0268) Grad: 0.1716 LR: 0.000002  \n",
      "Epoch: [10][1100/1316] Elapsed 5m 33s (remain 1m 5s) Loss: 0.0230(0.0270) Grad: 0.0784 LR: 0.000002  \n",
      "Epoch: [10][1200/1316] Elapsed 6m 3s (remain 0m 34s) Loss: 0.0222(0.0268) Grad: 0.0864 LR: 0.000002  \n",
      "Epoch: [10][1300/1316] Elapsed 6m 34s (remain 0m 4s) Loss: 0.0206(0.0269) Grad: 0.0493 LR: 0.000002  \n",
      "Epoch: [10][1315/1316] Elapsed 6m 38s (remain 0m 0s) Loss: 0.0208(0.0269) Grad: 0.1351 LR: 0.000002  \n",
      "EVAL: [0/330] Elapsed 0m 0s (remain 4m 17s) Loss: 0.0261(0.0261) \n",
      "EVAL: [100/330] Elapsed 0m 11s (remain 0m 27s) Loss: 0.0287(0.0376) \n",
      "EVAL: [200/330] Elapsed 0m 23s (remain 0m 14s) Loss: 0.0165(0.0380) \n",
      "EVAL: [300/330] Elapsed 0m 34s (remain 0m 3s) Loss: 0.0171(0.0388) \n"
     ]
    },
    {
     "name": "stderr",
     "output_type": "stream",
     "text": [
      "Epoch 10 - avg_train_loss: 0.0269  avg_val_loss: 0.0390  time: 436s\n",
      "Epoch 10 - Accuracy: 0.939445709946849\n",
      "Epoch 10 - Save final model\n"
     ]
    },
    {
     "name": "stdout",
     "output_type": "stream",
     "text": [
      "EVAL: [329/330] Elapsed 0m 36s (remain 0m 0s) Loss: 0.0159(0.0390) \n"
     ]
    },
    {
     "name": "stderr",
     "output_type": "stream",
     "text": [
      "========== fold: 0 result ==========\n",
      "Score: 0.94628\n",
      "========== fold: 1 training ==========\n"
     ]
    },
    {
     "name": "stdout",
     "output_type": "stream",
     "text": [
      "Epoch: [1][0/1316] Elapsed 0m 1s (remain 24m 38s) Loss: 0.2373(0.2373) Grad: 0.1992 LR: 0.000100  \n",
      "Epoch: [1][100/1316] Elapsed 0m 33s (remain 6m 37s) Loss: 0.1036(0.1546) Grad: 0.1755 LR: 0.000100  \n",
      "Epoch: [1][200/1316] Elapsed 1m 5s (remain 6m 1s) Loss: 0.1123(0.1282) Grad: 0.2278 LR: 0.000100  \n",
      "Epoch: [1][300/1316] Elapsed 1m 36s (remain 5m 27s) Loss: 0.0901(0.1141) Grad: 0.2547 LR: 0.000100  \n",
      "Epoch: [1][400/1316] Elapsed 2m 8s (remain 4m 52s) Loss: 0.0939(0.1046) Grad: 0.2356 LR: 0.000100  \n",
      "Epoch: [1][500/1316] Elapsed 2m 39s (remain 4m 19s) Loss: 0.0580(0.0978) Grad: 0.1811 LR: 0.000100  \n",
      "Epoch: [1][600/1316] Elapsed 3m 10s (remain 3m 46s) Loss: 0.0502(0.0923) Grad: 0.2178 LR: 0.000099  \n",
      "Epoch: [1][700/1316] Elapsed 3m 41s (remain 3m 14s) Loss: 0.0713(0.0879) Grad: 0.2300 LR: 0.000099  \n",
      "Epoch: [1][800/1316] Elapsed 4m 13s (remain 2m 42s) Loss: 0.0706(0.0842) Grad: 0.2847 LR: 0.000099  \n",
      "Epoch: [1][900/1316] Elapsed 4m 44s (remain 2m 11s) Loss: 0.1117(0.0814) Grad: 0.2621 LR: 0.000099  \n",
      "Epoch: [1][1000/1316] Elapsed 5m 15s (remain 1m 39s) Loss: 0.0737(0.0789) Grad: 0.2094 LR: 0.000099  \n",
      "Epoch: [1][1100/1316] Elapsed 5m 47s (remain 1m 7s) Loss: 0.0567(0.0764) Grad: 0.2081 LR: 0.000098  \n",
      "Epoch: [1][1200/1316] Elapsed 6m 18s (remain 0m 36s) Loss: 0.0635(0.0751) Grad: 0.1930 LR: 0.000098  \n",
      "Epoch: [1][1300/1316] Elapsed 6m 49s (remain 0m 4s) Loss: 0.0684(0.0732) Grad: 0.1370 LR: 0.000098  \n",
      "Epoch: [1][1315/1316] Elapsed 6m 54s (remain 0m 0s) Loss: 0.0919(0.0730) Grad: 0.4122 LR: 0.000098  \n",
      "EVAL: [0/330] Elapsed 0m 0s (remain 5m 12s) Loss: 0.0414(0.0414) \n",
      "EVAL: [100/330] Elapsed 0m 11s (remain 0m 27s) Loss: 0.0285(0.0435) \n",
      "EVAL: [200/330] Elapsed 0m 23s (remain 0m 14s) Loss: 0.0422(0.0423) \n",
      "EVAL: [300/330] Elapsed 0m 34s (remain 0m 3s) Loss: 0.0300(0.0428) \n"
     ]
    },
    {
     "name": "stderr",
     "output_type": "stream",
     "text": [
      "Epoch 1 - avg_train_loss: 0.0730  avg_val_loss: 0.0428  time: 451s\n",
      "Epoch 1 - Accuracy: 0.9362186788154897\n",
      "Epoch 1 - Save Best Score: 0.9362 Model\n"
     ]
    },
    {
     "name": "stdout",
     "output_type": "stream",
     "text": [
      "EVAL: [329/330] Elapsed 0m 36s (remain 0m 0s) Loss: 0.0403(0.0428) \n",
      "Epoch: [2][0/1316] Elapsed 0m 1s (remain 26m 51s) Loss: 0.0453(0.0453) Grad: 0.1354 LR: 0.000098  \n",
      "Epoch: [2][100/1316] Elapsed 0m 32s (remain 6m 34s) Loss: 0.0228(0.0397) Grad: 0.0761 LR: 0.000097  \n",
      "Epoch: [2][200/1316] Elapsed 1m 4s (remain 5m 59s) Loss: 0.0437(0.0392) Grad: 0.1707 LR: 0.000097  \n",
      "Epoch: [2][300/1316] Elapsed 1m 36s (remain 5m 23s) Loss: 0.0423(0.0396) Grad: 0.2468 LR: 0.000096  \n",
      "Epoch: [2][400/1316] Elapsed 2m 7s (remain 4m 50s) Loss: 0.0428(0.0395) Grad: 0.1854 LR: 0.000096  \n",
      "Epoch: [2][500/1316] Elapsed 2m 38s (remain 4m 18s) Loss: 0.0464(0.0393) Grad: 0.1978 LR: 0.000095  \n",
      "Epoch: [2][600/1316] Elapsed 3m 9s (remain 3m 45s) Loss: 0.0490(0.0396) Grad: 0.2321 LR: 0.000095  \n",
      "Epoch: [2][700/1316] Elapsed 3m 40s (remain 3m 13s) Loss: 0.0482(0.0393) Grad: 0.2203 LR: 0.000094  \n",
      "Epoch: [2][800/1316] Elapsed 4m 12s (remain 2m 42s) Loss: 0.0289(0.0391) Grad: 0.1644 LR: 0.000094  \n",
      "Epoch: [2][900/1316] Elapsed 4m 43s (remain 2m 10s) Loss: 0.0227(0.0392) Grad: 0.1009 LR: 0.000093  \n",
      "Epoch: [2][1000/1316] Elapsed 5m 15s (remain 1m 39s) Loss: 0.0235(0.0393) Grad: 0.1177 LR: 0.000093  \n",
      "Epoch: [2][1100/1316] Elapsed 5m 46s (remain 1m 7s) Loss: 0.0286(0.0394) Grad: 0.1356 LR: 0.000092  \n",
      "Epoch: [2][1200/1316] Elapsed 6m 18s (remain 0m 36s) Loss: 0.0481(0.0392) Grad: 0.2669 LR: 0.000091  \n",
      "Epoch: [2][1300/1316] Elapsed 6m 49s (remain 0m 4s) Loss: 0.0436(0.0391) Grad: 0.1110 LR: 0.000091  \n",
      "Epoch: [2][1315/1316] Elapsed 6m 54s (remain 0m 0s) Loss: 0.0214(0.0392) Grad: 0.1704 LR: 0.000091  \n",
      "EVAL: [0/330] Elapsed 0m 0s (remain 4m 4s) Loss: 0.0273(0.0273) \n",
      "EVAL: [100/330] Elapsed 0m 12s (remain 0m 27s) Loss: 0.0232(0.0426) \n",
      "EVAL: [200/330] Elapsed 0m 23s (remain 0m 15s) Loss: 0.0406(0.0422) \n",
      "EVAL: [300/330] Elapsed 0m 34s (remain 0m 3s) Loss: 0.0221(0.0418) \n"
     ]
    },
    {
     "name": "stderr",
     "output_type": "stream",
     "text": [
      "Epoch 2 - avg_train_loss: 0.0392  avg_val_loss: 0.0417  time: 452s\n",
      "Epoch 2 - Accuracy: 0.9348899012908124\n"
     ]
    },
    {
     "name": "stdout",
     "output_type": "stream",
     "text": [
      "EVAL: [329/330] Elapsed 0m 37s (remain 0m 0s) Loss: 0.0778(0.0417) \n",
      "Epoch: [3][0/1316] Elapsed 0m 1s (remain 27m 50s) Loss: 0.0398(0.0398) Grad: 0.1744 LR: 0.000091  \n",
      "Epoch: [3][100/1316] Elapsed 0m 34s (remain 6m 59s) Loss: 0.1141(0.0990) Grad: 0.2396 LR: 0.000090  \n",
      "Epoch: [3][200/1316] Elapsed 1m 7s (remain 6m 17s) Loss: 0.0459(0.0990) Grad: 0.1414 LR: 0.000089  \n",
      "Epoch: [3][300/1316] Elapsed 1m 41s (remain 5m 41s) Loss: 0.0853(0.0972) Grad: 0.1277 LR: 0.000088  \n",
      "Epoch: [3][400/1316] Elapsed 2m 15s (remain 5m 8s) Loss: 0.0658(0.0977) Grad: 0.1847 LR: 0.000088  \n",
      "Epoch: [3][500/1316] Elapsed 2m 48s (remain 4m 34s) Loss: 0.1382(0.0972) Grad: 0.1169 LR: 0.000087  \n",
      "Epoch: [3][600/1316] Elapsed 3m 21s (remain 4m 0s) Loss: 0.1176(0.0977) Grad: 0.1348 LR: 0.000086  \n",
      "Epoch: [3][700/1316] Elapsed 3m 55s (remain 3m 26s) Loss: 0.0492(0.0978) Grad: 0.2545 LR: 0.000085  \n",
      "Epoch: [3][800/1316] Elapsed 4m 28s (remain 2m 52s) Loss: 0.0688(0.0971) Grad: 0.1174 LR: 0.000084  \n",
      "Epoch: [3][900/1316] Elapsed 5m 1s (remain 2m 18s) Loss: 0.1269(0.0971) Grad: 0.1610 LR: 0.000084  \n",
      "Epoch: [3][1000/1316] Elapsed 5m 33s (remain 1m 45s) Loss: 0.1941(0.0970) Grad: 0.1962 LR: 0.000083  \n",
      "Epoch: [3][1100/1316] Elapsed 6m 7s (remain 1m 11s) Loss: 0.0498(0.0964) Grad: 0.1256 LR: 0.000082  \n",
      "Epoch: [3][1200/1316] Elapsed 6m 40s (remain 0m 38s) Loss: 0.0557(0.0963) Grad: 0.1539 LR: 0.000081  \n",
      "Epoch: [3][1300/1316] Elapsed 7m 13s (remain 0m 4s) Loss: 0.0654(0.0962) Grad: 0.0788 LR: 0.000080  \n",
      "Epoch: [3][1315/1316] Elapsed 7m 18s (remain 0m 0s) Loss: 0.0855(0.0961) Grad: 0.3354 LR: 0.000080  \n",
      "EVAL: [0/330] Elapsed 0m 0s (remain 4m 1s) Loss: 0.0294(0.0294) \n",
      "EVAL: [100/330] Elapsed 0m 12s (remain 0m 27s) Loss: 0.0263(0.0431) \n",
      "EVAL: [200/330] Elapsed 0m 23s (remain 0m 14s) Loss: 0.0235(0.0435) \n",
      "EVAL: [300/330] Elapsed 0m 34s (remain 0m 3s) Loss: 0.0449(0.0429) \n"
     ]
    },
    {
     "name": "stderr",
     "output_type": "stream",
     "text": [
      "Epoch 3 - avg_train_loss: 0.0961  avg_val_loss: 0.0428  time: 475s\n",
      "Epoch 3 - Accuracy: 0.9365983295368261\n",
      "Epoch 3 - Save Best Score: 0.9366 Model\n"
     ]
    },
    {
     "name": "stdout",
     "output_type": "stream",
     "text": [
      "EVAL: [329/330] Elapsed 0m 36s (remain 0m 0s) Loss: 0.0518(0.0428) \n",
      "Epoch: [4][0/1316] Elapsed 0m 1s (remain 24m 51s) Loss: 0.0598(0.0598) Grad: 0.1277 LR: 0.000080  \n",
      "Epoch: [4][100/1316] Elapsed 0m 34s (remain 6m 54s) Loss: 0.1129(0.0989) Grad: 0.0911 LR: 0.000079  \n",
      "Epoch: [4][200/1316] Elapsed 1m 8s (remain 6m 19s) Loss: 0.1143(0.0971) Grad: 0.1162 LR: 0.000078  \n",
      "Epoch: [4][300/1316] Elapsed 1m 41s (remain 5m 40s) Loss: 0.0372(0.0944) Grad: 0.1629 LR: 0.000077  \n",
      "Epoch: [4][400/1316] Elapsed 2m 14s (remain 5m 7s) Loss: 0.1989(0.0923) Grad: 0.2131 LR: 0.000076  \n",
      "Epoch: [4][500/1316] Elapsed 2m 48s (remain 4m 33s) Loss: 0.0935(0.0920) Grad: 0.0951 LR: 0.000075  \n",
      "Epoch: [4][600/1316] Elapsed 3m 21s (remain 3m 59s) Loss: 0.0571(0.0906) Grad: 0.1296 LR: 0.000074  \n",
      "Epoch: [4][700/1316] Elapsed 3m 55s (remain 3m 26s) Loss: 0.1437(0.0920) Grad: 0.1633 LR: 0.000073  \n",
      "Epoch: [4][800/1316] Elapsed 4m 29s (remain 2m 53s) Loss: 0.0972(0.0918) Grad: 0.1012 LR: 0.000072  \n",
      "Epoch: [4][900/1316] Elapsed 5m 2s (remain 2m 19s) Loss: 0.0546(0.0915) Grad: 0.1508 LR: 0.000071  \n",
      "Epoch: [4][1000/1316] Elapsed 5m 36s (remain 1m 45s) Loss: 0.1557(0.0919) Grad: 0.1669 LR: 0.000070  \n",
      "Epoch: [4][1100/1316] Elapsed 6m 9s (remain 1m 12s) Loss: 0.0573(0.0922) Grad: 0.1428 LR: 0.000069  \n",
      "Epoch: [4][1200/1316] Elapsed 6m 43s (remain 0m 38s) Loss: 0.0809(0.0925) Grad: 0.0563 LR: 0.000067  \n",
      "Epoch: [4][1300/1316] Elapsed 7m 16s (remain 0m 5s) Loss: 0.0889(0.0926) Grad: 0.0768 LR: 0.000066  \n",
      "Epoch: [4][1315/1316] Elapsed 7m 20s (remain 0m 0s) Loss: 0.0620(0.0926) Grad: 0.2528 LR: 0.000066  \n",
      "EVAL: [0/330] Elapsed 0m 0s (remain 4m 56s) Loss: 0.0269(0.0269) \n",
      "EVAL: [100/330] Elapsed 0m 12s (remain 0m 27s) Loss: 0.0221(0.0421) \n",
      "EVAL: [200/330] Elapsed 0m 23s (remain 0m 15s) Loss: 0.0326(0.0416) \n",
      "EVAL: [300/330] Elapsed 0m 34s (remain 0m 3s) Loss: 0.0287(0.0409) \n"
     ]
    },
    {
     "name": "stderr",
     "output_type": "stream",
     "text": [
      "Epoch 4 - avg_train_loss: 0.0926  avg_val_loss: 0.0407  time: 478s\n",
      "Epoch 4 - Accuracy: 0.9440015186028854\n",
      "Epoch 4 - Save Best Score: 0.9440 Model\n"
     ]
    },
    {
     "name": "stdout",
     "output_type": "stream",
     "text": [
      "EVAL: [329/330] Elapsed 0m 37s (remain 0m 0s) Loss: 0.0434(0.0407) \n",
      "Epoch: [5][0/1316] Elapsed 0m 1s (remain 28m 1s) Loss: 0.0187(0.0187) Grad: 0.0385 LR: 0.000066  \n",
      "Epoch: [5][100/1316] Elapsed 0m 34s (remain 6m 56s) Loss: 0.0350(0.0969) Grad: 0.1446 LR: 0.000065  \n",
      "Epoch: [5][200/1316] Elapsed 1m 8s (remain 6m 19s) Loss: 0.0666(0.0914) Grad: 0.1854 LR: 0.000064  \n",
      "Epoch: [5][300/1316] Elapsed 1m 42s (remain 5m 45s) Loss: 0.1123(0.0895) Grad: 0.1560 LR: 0.000063  \n",
      "Epoch: [5][400/1316] Elapsed 2m 16s (remain 5m 11s) Loss: 0.1416(0.0899) Grad: 0.1253 LR: 0.000062  \n",
      "Epoch: [5][500/1316] Elapsed 2m 50s (remain 4m 36s) Loss: 0.0449(0.0905) Grad: 0.2250 LR: 0.000061  \n",
      "Epoch: [5][600/1316] Elapsed 3m 23s (remain 4m 2s) Loss: 0.0395(0.0901) Grad: 0.1641 LR: 0.000059  \n",
      "Epoch: [5][700/1316] Elapsed 3m 56s (remain 3m 27s) Loss: 0.1095(0.0895) Grad: 0.1142 LR: 0.000058  \n",
      "Epoch: [5][800/1316] Elapsed 4m 30s (remain 2m 53s) Loss: 0.0973(0.0895) Grad: 0.2171 LR: 0.000057  \n",
      "Epoch: [5][900/1316] Elapsed 5m 4s (remain 2m 20s) Loss: 0.0464(0.0890) Grad: 0.0912 LR: 0.000056  \n",
      "Epoch: [5][1000/1316] Elapsed 5m 38s (remain 1m 46s) Loss: 0.0719(0.0898) Grad: 0.1379 LR: 0.000055  \n",
      "Epoch: [5][1100/1316] Elapsed 6m 11s (remain 1m 12s) Loss: 0.0512(0.0894) Grad: 0.2206 LR: 0.000054  \n",
      "Epoch: [5][1200/1316] Elapsed 6m 44s (remain 0m 38s) Loss: 0.0525(0.0894) Grad: 0.1034 LR: 0.000052  \n",
      "Epoch: [5][1300/1316] Elapsed 7m 17s (remain 0m 5s) Loss: 0.0794(0.0890) Grad: 0.1111 LR: 0.000051  \n",
      "Epoch: [5][1315/1316] Elapsed 7m 22s (remain 0m 0s) Loss: 0.1293(0.0892) Grad: 0.2636 LR: 0.000051  \n",
      "EVAL: [0/330] Elapsed 0m 0s (remain 4m 43s) Loss: 0.0326(0.0326) \n",
      "EVAL: [100/330] Elapsed 0m 12s (remain 0m 27s) Loss: 0.0193(0.0413) \n",
      "EVAL: [200/330] Elapsed 0m 23s (remain 0m 15s) Loss: 0.0270(0.0414) \n",
      "EVAL: [300/330] Elapsed 0m 34s (remain 0m 3s) Loss: 0.0272(0.0406) \n"
     ]
    },
    {
     "name": "stderr",
     "output_type": "stream",
     "text": [
      "Epoch 5 - avg_train_loss: 0.0892  avg_val_loss: 0.0406  time: 480s\n",
      "Epoch 5 - Accuracy: 0.9440015186028854\n"
     ]
    },
    {
     "name": "stdout",
     "output_type": "stream",
     "text": [
      "EVAL: [329/330] Elapsed 0m 37s (remain 0m 0s) Loss: 0.0401(0.0406) \n",
      "Epoch: [6][0/1316] Elapsed 0m 1s (remain 27m 50s) Loss: 0.1014(0.1014) Grad: 0.0914 LR: 0.000051  \n",
      "Epoch: [6][100/1316] Elapsed 0m 34s (remain 6m 59s) Loss: 0.1054(0.0877) Grad: 0.1408 LR: 0.000050  \n",
      "Epoch: [6][200/1316] Elapsed 1m 8s (remain 6m 18s) Loss: 0.1452(0.0858) Grad: 0.1197 LR: 0.000049  \n",
      "Epoch: [6][300/1316] Elapsed 1m 41s (remain 5m 41s) Loss: 0.0526(0.0835) Grad: 0.1641 LR: 0.000048  \n",
      "Epoch: [6][400/1316] Elapsed 2m 14s (remain 5m 6s) Loss: 0.0199(0.0857) Grad: 0.0356 LR: 0.000046  \n",
      "Epoch: [6][500/1316] Elapsed 2m 47s (remain 4m 32s) Loss: 0.0591(0.0849) Grad: 0.2046 LR: 0.000045  \n",
      "Epoch: [6][600/1316] Elapsed 3m 20s (remain 3m 58s) Loss: 0.0512(0.0847) Grad: 0.1203 LR: 0.000044  \n",
      "Epoch: [6][700/1316] Elapsed 3m 54s (remain 3m 25s) Loss: 0.0778(0.0840) Grad: 0.2073 LR: 0.000043  \n",
      "Epoch: [6][800/1316] Elapsed 4m 27s (remain 2m 52s) Loss: 0.0740(0.0836) Grad: 0.2042 LR: 0.000042  \n",
      "Epoch: [6][900/1316] Elapsed 5m 1s (remain 2m 18s) Loss: 0.1205(0.0831) Grad: 0.0908 LR: 0.000041  \n",
      "Epoch: [6][1000/1316] Elapsed 5m 34s (remain 1m 45s) Loss: 0.0417(0.0839) Grad: 0.0742 LR: 0.000039  \n",
      "Epoch: [6][1100/1316] Elapsed 6m 8s (remain 1m 11s) Loss: 0.0812(0.0844) Grad: 0.0631 LR: 0.000038  \n",
      "Epoch: [6][1200/1316] Elapsed 6m 41s (remain 0m 38s) Loss: 0.0971(0.0847) Grad: 0.1378 LR: 0.000037  \n",
      "Epoch: [6][1300/1316] Elapsed 7m 15s (remain 0m 5s) Loss: 0.1257(0.0852) Grad: 0.1670 LR: 0.000036  \n",
      "Epoch: [6][1315/1316] Elapsed 7m 20s (remain 0m 0s) Loss: 0.0438(0.0853) Grad: 0.1510 LR: 0.000036  \n",
      "EVAL: [0/330] Elapsed 0m 0s (remain 4m 10s) Loss: 0.0346(0.0346) \n",
      "EVAL: [100/330] Elapsed 0m 11s (remain 0m 26s) Loss: 0.0197(0.0403) \n",
      "EVAL: [200/330] Elapsed 0m 23s (remain 0m 15s) Loss: 0.0279(0.0411) \n",
      "EVAL: [300/330] Elapsed 0m 34s (remain 0m 3s) Loss: 0.0303(0.0404) \n"
     ]
    },
    {
     "name": "stderr",
     "output_type": "stream",
     "text": [
      "Epoch 6 - avg_train_loss: 0.0853  avg_val_loss: 0.0403  time: 477s\n",
      "Epoch 6 - Accuracy: 0.9449506454062263\n",
      "Epoch 6 - Save Best Score: 0.9450 Model\n"
     ]
    },
    {
     "name": "stdout",
     "output_type": "stream",
     "text": [
      "EVAL: [329/330] Elapsed 0m 37s (remain 0m 0s) Loss: 0.0394(0.0403) \n",
      "Epoch: [7][0/1316] Elapsed 0m 1s (remain 27m 23s) Loss: 0.1064(0.1064) Grad: 0.2522 LR: 0.000036  \n",
      "Epoch: [7][100/1316] Elapsed 0m 34s (remain 6m 49s) Loss: 0.0210(0.0615) Grad: 0.0626 LR: 0.000035  \n",
      "Epoch: [7][200/1316] Elapsed 1m 6s (remain 6m 10s) Loss: 0.0349(0.0636) Grad: 0.2009 LR: 0.000034  \n",
      "Epoch: [7][300/1316] Elapsed 1m 39s (remain 5m 33s) Loss: 0.1038(0.0631) Grad: 0.1718 LR: 0.000033  \n",
      "Epoch: [7][400/1316] Elapsed 2m 11s (remain 5m 0s) Loss: 0.1352(0.0643) Grad: 0.1310 LR: 0.000032  \n",
      "Epoch: [7][500/1316] Elapsed 2m 44s (remain 4m 26s) Loss: 0.0781(0.0639) Grad: 0.2698 LR: 0.000030  \n",
      "Epoch: [7][600/1316] Elapsed 3m 16s (remain 3m 54s) Loss: 0.0511(0.0650) Grad: 0.1948 LR: 0.000029  \n",
      "Epoch: [7][700/1316] Elapsed 3m 49s (remain 3m 21s) Loss: 0.1713(0.0644) Grad: 0.1672 LR: 0.000028  \n",
      "Epoch: [7][800/1316] Elapsed 4m 22s (remain 2m 48s) Loss: 0.0927(0.0641) Grad: 0.0816 LR: 0.000027  \n",
      "Epoch: [7][900/1316] Elapsed 4m 55s (remain 2m 15s) Loss: 0.0314(0.0644) Grad: 0.1703 LR: 0.000026  \n",
      "Epoch: [7][1000/1316] Elapsed 5m 27s (remain 1m 43s) Loss: 0.0504(0.0641) Grad: 0.3937 LR: 0.000025  \n",
      "Epoch: [7][1100/1316] Elapsed 6m 0s (remain 1m 10s) Loss: 0.0681(0.0639) Grad: 0.1817 LR: 0.000024  \n",
      "Epoch: [7][1200/1316] Elapsed 6m 33s (remain 0m 37s) Loss: 0.0263(0.0638) Grad: 0.1244 LR: 0.000023  \n",
      "Epoch: [7][1300/1316] Elapsed 7m 5s (remain 0m 4s) Loss: 0.0207(0.0638) Grad: 0.0585 LR: 0.000022  \n",
      "Epoch: [7][1315/1316] Elapsed 7m 10s (remain 0m 0s) Loss: 0.1123(0.0639) Grad: 0.2087 LR: 0.000022  \n",
      "EVAL: [0/330] Elapsed 0m 0s (remain 4m 44s) Loss: 0.0273(0.0273) \n",
      "EVAL: [100/330] Elapsed 0m 12s (remain 0m 27s) Loss: 0.0184(0.0372) \n",
      "EVAL: [200/330] Elapsed 0m 23s (remain 0m 14s) Loss: 0.0341(0.0374) \n",
      "EVAL: [300/330] Elapsed 0m 34s (remain 0m 3s) Loss: 0.0245(0.0366) \n"
     ]
    },
    {
     "name": "stderr",
     "output_type": "stream",
     "text": [
      "Epoch 7 - avg_train_loss: 0.0639  avg_val_loss: 0.0365  time: 468s\n",
      "Epoch 7 - Accuracy: 0.9493166287015945\n",
      "Epoch 7 - Save Best Score: 0.9493 Model\n"
     ]
    },
    {
     "name": "stdout",
     "output_type": "stream",
     "text": [
      "EVAL: [329/330] Elapsed 0m 37s (remain 0m 0s) Loss: 0.0306(0.0365) \n",
      "Epoch: [8][0/1316] Elapsed 0m 1s (remain 28m 27s) Loss: 0.0357(0.0357) Grad: 0.1608 LR: 0.000022  \n",
      "Epoch: [8][100/1316] Elapsed 0m 33s (remain 6m 47s) Loss: 0.0253(0.0622) Grad: 0.1139 LR: 0.000021  \n",
      "Epoch: [8][200/1316] Elapsed 1m 6s (remain 6m 9s) Loss: 0.0636(0.0619) Grad: 0.2029 LR: 0.000020  \n",
      "Epoch: [8][300/1316] Elapsed 1m 39s (remain 5m 33s) Loss: 0.1320(0.0646) Grad: 0.0988 LR: 0.000020  \n",
      "Epoch: [8][400/1316] Elapsed 2m 12s (remain 5m 2s) Loss: 0.0425(0.0639) Grad: 0.2107 LR: 0.000019  \n",
      "Epoch: [8][500/1316] Elapsed 2m 45s (remain 4m 28s) Loss: 0.0463(0.0630) Grad: 0.1381 LR: 0.000018  \n",
      "Epoch: [8][600/1316] Elapsed 3m 17s (remain 3m 55s) Loss: 0.0893(0.0629) Grad: 0.0941 LR: 0.000017  \n",
      "Epoch: [8][700/1316] Elapsed 3m 50s (remain 3m 22s) Loss: 0.0347(0.0630) Grad: 0.1115 LR: 0.000016  \n",
      "Epoch: [8][800/1316] Elapsed 4m 23s (remain 2m 49s) Loss: 0.0443(0.0625) Grad: 0.1094 LR: 0.000015  \n",
      "Epoch: [8][900/1316] Elapsed 4m 56s (remain 2m 16s) Loss: 0.0473(0.0624) Grad: 0.2269 LR: 0.000014  \n",
      "Epoch: [8][1000/1316] Elapsed 5m 29s (remain 1m 43s) Loss: 0.0534(0.0624) Grad: 0.1917 LR: 0.000014  \n",
      "Epoch: [8][1100/1316] Elapsed 6m 2s (remain 1m 10s) Loss: 0.0811(0.0627) Grad: 0.1974 LR: 0.000013  \n",
      "Epoch: [8][1200/1316] Elapsed 6m 35s (remain 0m 37s) Loss: 0.0303(0.0625) Grad: 0.1494 LR: 0.000012  \n",
      "Epoch: [8][1300/1316] Elapsed 7m 8s (remain 0m 4s) Loss: 0.0562(0.0626) Grad: 0.1653 LR: 0.000012  \n",
      "Epoch: [8][1315/1316] Elapsed 7m 13s (remain 0m 0s) Loss: 0.0424(0.0628) Grad: 0.3516 LR: 0.000011  \n",
      "EVAL: [0/330] Elapsed 0m 0s (remain 4m 36s) Loss: 0.0309(0.0309) \n",
      "EVAL: [100/330] Elapsed 0m 11s (remain 0m 26s) Loss: 0.0179(0.0367) \n",
      "EVAL: [200/330] Elapsed 0m 22s (remain 0m 14s) Loss: 0.0377(0.0369) \n",
      "EVAL: [300/330] Elapsed 0m 33s (remain 0m 3s) Loss: 0.0229(0.0361) \n"
     ]
    },
    {
     "name": "stderr",
     "output_type": "stream",
     "text": [
      "Epoch 8 - avg_train_loss: 0.0628  avg_val_loss: 0.0360  time: 470s\n",
      "Epoch 8 - Accuracy: 0.9500759301442673\n",
      "Epoch 8 - Save Best Score: 0.9501 Model\n"
     ]
    },
    {
     "name": "stdout",
     "output_type": "stream",
     "text": [
      "EVAL: [329/330] Elapsed 0m 36s (remain 0m 0s) Loss: 0.0222(0.0360) \n",
      "Epoch: [9][0/1316] Elapsed 0m 1s (remain 27m 15s) Loss: 0.0495(0.0495) Grad: 0.2589 LR: 0.000011  \n",
      "Epoch: [9][100/1316] Elapsed 0m 34s (remain 6m 49s) Loss: 0.0942(0.0599) Grad: 0.1793 LR: 0.000011  \n",
      "Epoch: [9][200/1316] Elapsed 1m 6s (remain 6m 8s) Loss: 0.0212(0.0611) Grad: 0.0841 LR: 0.000010  \n",
      "Epoch: [9][300/1316] Elapsed 1m 38s (remain 5m 31s) Loss: 0.1179(0.0605) Grad: 0.1156 LR: 0.000009  \n",
      "Epoch: [9][400/1316] Elapsed 2m 11s (remain 5m 0s) Loss: 0.1161(0.0615) Grad: 0.1339 LR: 0.000009  \n",
      "Epoch: [9][500/1316] Elapsed 2m 44s (remain 4m 27s) Loss: 0.0741(0.0611) Grad: 0.0930 LR: 0.000008  \n",
      "Epoch: [9][600/1316] Elapsed 3m 17s (remain 3m 54s) Loss: 0.0232(0.0623) Grad: 0.1014 LR: 0.000008  \n",
      "Epoch: [9][700/1316] Elapsed 3m 50s (remain 3m 22s) Loss: 0.0347(0.0620) Grad: 0.1801 LR: 0.000007  \n",
      "Epoch: [9][800/1316] Elapsed 4m 23s (remain 2m 49s) Loss: 0.0401(0.0617) Grad: 0.1225 LR: 0.000007  \n",
      "Epoch: [9][900/1316] Elapsed 4m 55s (remain 2m 16s) Loss: 0.1654(0.0618) Grad: 0.1803 LR: 0.000006  \n",
      "Epoch: [9][1000/1316] Elapsed 5m 28s (remain 1m 43s) Loss: 0.1626(0.0621) Grad: 0.1976 LR: 0.000006  \n",
      "Epoch: [9][1100/1316] Elapsed 6m 0s (remain 1m 10s) Loss: 0.0433(0.0623) Grad: 0.2411 LR: 0.000005  \n",
      "Epoch: [9][1200/1316] Elapsed 6m 33s (remain 0m 37s) Loss: 0.0673(0.0620) Grad: 0.1890 LR: 0.000005  \n",
      "Epoch: [9][1300/1316] Elapsed 7m 5s (remain 0m 4s) Loss: 0.0582(0.0621) Grad: 0.2162 LR: 0.000004  \n",
      "Epoch: [9][1315/1316] Elapsed 7m 10s (remain 0m 0s) Loss: 0.0790(0.0620) Grad: 0.3838 LR: 0.000004  \n",
      "EVAL: [0/330] Elapsed 0m 0s (remain 4m 33s) Loss: 0.0296(0.0296) \n",
      "EVAL: [100/330] Elapsed 0m 11s (remain 0m 26s) Loss: 0.0174(0.0356) \n",
      "EVAL: [200/330] Elapsed 0m 22s (remain 0m 14s) Loss: 0.0330(0.0358) \n",
      "EVAL: [300/330] Elapsed 0m 33s (remain 0m 3s) Loss: 0.0223(0.0349) \n"
     ]
    },
    {
     "name": "stderr",
     "output_type": "stream",
     "text": [
      "Epoch 9 - avg_train_loss: 0.0620  avg_val_loss: 0.0348  time: 467s\n",
      "Epoch 9 - Accuracy: 0.951784358390281\n",
      "Epoch 9 - Save Best Score: 0.9518 Model\n"
     ]
    },
    {
     "name": "stdout",
     "output_type": "stream",
     "text": [
      "EVAL: [329/330] Elapsed 0m 36s (remain 0m 0s) Loss: 0.0277(0.0348) \n",
      "Epoch: [10][0/1316] Elapsed 0m 1s (remain 24m 3s) Loss: 0.0320(0.0320) Grad: 0.1336 LR: 0.000004  \n",
      "Epoch: [10][100/1316] Elapsed 0m 32s (remain 6m 27s) Loss: 0.0292(0.0280) Grad: 0.1334 LR: 0.000004  \n",
      "Epoch: [10][200/1316] Elapsed 1m 3s (remain 5m 50s) Loss: 0.0227(0.0275) Grad: 0.0957 LR: 0.000004  \n",
      "Epoch: [10][300/1316] Elapsed 1m 34s (remain 5m 17s) Loss: 0.0221(0.0280) Grad: 0.0757 LR: 0.000003  \n",
      "Epoch: [10][400/1316] Elapsed 2m 5s (remain 4m 46s) Loss: 0.0384(0.0276) Grad: 0.2896 LR: 0.000003  \n",
      "Epoch: [10][500/1316] Elapsed 2m 36s (remain 4m 14s) Loss: 0.0421(0.0273) Grad: 0.1949 LR: 0.000003  \n",
      "Epoch: [10][600/1316] Elapsed 3m 7s (remain 3m 43s) Loss: 0.0206(0.0269) Grad: 0.1052 LR: 0.000003  \n",
      "Epoch: [10][700/1316] Elapsed 3m 39s (remain 3m 12s) Loss: 0.0210(0.0269) Grad: 0.0740 LR: 0.000003  \n",
      "Epoch: [10][800/1316] Elapsed 4m 10s (remain 2m 41s) Loss: 0.0193(0.0269) Grad: 0.0607 LR: 0.000002  \n",
      "Epoch: [10][900/1316] Elapsed 4m 41s (remain 2m 9s) Loss: 0.0215(0.0269) Grad: 0.0930 LR: 0.000002  \n",
      "Epoch: [10][1000/1316] Elapsed 5m 12s (remain 1m 38s) Loss: 0.0201(0.0268) Grad: 0.0621 LR: 0.000002  \n",
      "Epoch: [10][1100/1316] Elapsed 5m 43s (remain 1m 7s) Loss: 0.0254(0.0270) Grad: 0.1330 LR: 0.000002  \n",
      "Epoch: [10][1200/1316] Elapsed 6m 14s (remain 0m 35s) Loss: 0.0216(0.0269) Grad: 0.1276 LR: 0.000002  \n",
      "Epoch: [10][1300/1316] Elapsed 6m 45s (remain 0m 4s) Loss: 0.0227(0.0269) Grad: 0.1751 LR: 0.000002  \n",
      "Epoch: [10][1315/1316] Elapsed 6m 50s (remain 0m 0s) Loss: 0.0178(0.0270) Grad: 0.2120 LR: 0.000002  \n",
      "EVAL: [0/330] Elapsed 0m 0s (remain 4m 38s) Loss: 0.0273(0.0273) \n",
      "EVAL: [100/330] Elapsed 0m 11s (remain 0m 26s) Loss: 0.0172(0.0372) \n",
      "EVAL: [200/330] Elapsed 0m 22s (remain 0m 14s) Loss: 0.0390(0.0368) \n",
      "EVAL: [300/330] Elapsed 0m 33s (remain 0m 3s) Loss: 0.0192(0.0362) \n"
     ]
    },
    {
     "name": "stderr",
     "output_type": "stream",
     "text": [
      "Epoch 10 - avg_train_loss: 0.0270  avg_val_loss: 0.0362  time: 447s\n",
      "Epoch 10 - Accuracy: 0.9502657555049354\n",
      "Epoch 10 - Save final model\n"
     ]
    },
    {
     "name": "stdout",
     "output_type": "stream",
     "text": [
      "EVAL: [329/330] Elapsed 0m 36s (remain 0m 0s) Loss: 0.0470(0.0362) \n"
     ]
    },
    {
     "name": "stderr",
     "output_type": "stream",
     "text": [
      "========== fold: 1 result ==========\n",
      "Score: 0.95178\n",
      "========== fold: 2 training ==========\n"
     ]
    },
    {
     "name": "stdout",
     "output_type": "stream",
     "text": [
      "Epoch: [1][0/1316] Elapsed 0m 1s (remain 24m 57s) Loss: 0.2252(0.2252) Grad: 0.1848 LR: 0.000100  \n",
      "Epoch: [1][100/1316] Elapsed 0m 33s (remain 6m 46s) Loss: 0.1280(0.1551) Grad: 0.1918 LR: 0.000100  \n",
      "Epoch: [1][200/1316] Elapsed 1m 5s (remain 6m 5s) Loss: 0.0454(0.1260) Grad: 0.1701 LR: 0.000100  \n",
      "Epoch: [1][300/1316] Elapsed 1m 38s (remain 5m 31s) Loss: 0.0620(0.1112) Grad: 0.2133 LR: 0.000100  \n",
      "Epoch: [1][400/1316] Elapsed 2m 10s (remain 4m 58s) Loss: 0.0864(0.1010) Grad: 0.2779 LR: 0.000100  \n",
      "Epoch: [1][500/1316] Elapsed 2m 43s (remain 4m 25s) Loss: 0.0348(0.0941) Grad: 0.1564 LR: 0.000100  \n",
      "Epoch: [1][600/1316] Elapsed 3m 15s (remain 3m 52s) Loss: 0.0328(0.0889) Grad: 0.1615 LR: 0.000099  \n",
      "Epoch: [1][700/1316] Elapsed 3m 48s (remain 3m 20s) Loss: 0.0543(0.0849) Grad: 0.2339 LR: 0.000099  \n",
      "Epoch: [1][800/1316] Elapsed 4m 20s (remain 2m 47s) Loss: 0.0612(0.0815) Grad: 0.1999 LR: 0.000099  \n",
      "Epoch: [1][900/1316] Elapsed 4m 53s (remain 2m 15s) Loss: 0.0503(0.0784) Grad: 0.1837 LR: 0.000099  \n",
      "Epoch: [1][1000/1316] Elapsed 5m 25s (remain 1m 42s) Loss: 0.0428(0.0761) Grad: 0.1800 LR: 0.000099  \n",
      "Epoch: [1][1100/1316] Elapsed 5m 58s (remain 1m 9s) Loss: 0.0364(0.0740) Grad: 0.1988 LR: 0.000098  \n",
      "Epoch: [1][1200/1316] Elapsed 6m 31s (remain 0m 37s) Loss: 0.0348(0.0726) Grad: 0.1567 LR: 0.000098  \n",
      "Epoch: [1][1300/1316] Elapsed 7m 3s (remain 0m 4s) Loss: 0.0521(0.0710) Grad: 0.2007 LR: 0.000098  \n",
      "Epoch: [1][1315/1316] Elapsed 7m 8s (remain 0m 0s) Loss: 0.0664(0.0709) Grad: 0.2516 LR: 0.000098  \n",
      "EVAL: [0/330] Elapsed 0m 0s (remain 5m 9s) Loss: 0.0610(0.0610) \n",
      "EVAL: [100/330] Elapsed 0m 12s (remain 0m 27s) Loss: 0.0804(0.0458) \n",
      "EVAL: [200/330] Elapsed 0m 23s (remain 0m 15s) Loss: 0.0441(0.0448) \n",
      "EVAL: [300/330] Elapsed 0m 34s (remain 0m 3s) Loss: 0.0603(0.0450) \n"
     ]
    },
    {
     "name": "stderr",
     "output_type": "stream",
     "text": [
      "Epoch 1 - avg_train_loss: 0.0709  avg_val_loss: 0.0452  time: 466s\n",
      "Epoch 1 - Accuracy: 0.9270932219479779\n",
      "Epoch 1 - Save Best Score: 0.9271 Model\n"
     ]
    },
    {
     "name": "stdout",
     "output_type": "stream",
     "text": [
      "EVAL: [329/330] Elapsed 0m 37s (remain 0m 0s) Loss: 0.0166(0.0452) \n",
      "Epoch: [2][0/1316] Elapsed 0m 1s (remain 24m 52s) Loss: 0.0307(0.0307) Grad: 0.1583 LR: 0.000098  \n",
      "Epoch: [2][100/1316] Elapsed 0m 34s (remain 6m 57s) Loss: 0.0208(0.0386) Grad: 0.0541 LR: 0.000097  \n",
      "Epoch: [2][200/1316] Elapsed 1m 7s (remain 6m 13s) Loss: 0.0211(0.0387) Grad: 0.0587 LR: 0.000097  \n",
      "Epoch: [2][300/1316] Elapsed 1m 40s (remain 5m 37s) Loss: 0.0197(0.0382) Grad: 0.0382 LR: 0.000096  \n",
      "Epoch: [2][400/1316] Elapsed 2m 13s (remain 5m 3s) Loss: 0.0499(0.0382) Grad: 0.1864 LR: 0.000096  \n",
      "Epoch: [2][500/1316] Elapsed 2m 45s (remain 4m 29s) Loss: 0.0518(0.0378) Grad: 0.2402 LR: 0.000095  \n",
      "Epoch: [2][600/1316] Elapsed 3m 18s (remain 3m 55s) Loss: 0.0232(0.0377) Grad: 0.1042 LR: 0.000095  \n",
      "Epoch: [2][700/1316] Elapsed 3m 50s (remain 3m 22s) Loss: 0.0220(0.0374) Grad: 0.0694 LR: 0.000094  \n",
      "Epoch: [2][800/1316] Elapsed 4m 23s (remain 2m 49s) Loss: 0.0208(0.0373) Grad: 0.0414 LR: 0.000094  \n",
      "Epoch: [2][900/1316] Elapsed 4m 56s (remain 2m 16s) Loss: 0.0451(0.0372) Grad: 0.1752 LR: 0.000093  \n",
      "Epoch: [2][1000/1316] Elapsed 5m 28s (remain 1m 43s) Loss: 0.0436(0.0370) Grad: 0.2935 LR: 0.000093  \n",
      "Epoch: [2][1100/1316] Elapsed 6m 1s (remain 1m 10s) Loss: 0.0358(0.0369) Grad: 0.1735 LR: 0.000092  \n",
      "Epoch: [2][1200/1316] Elapsed 6m 33s (remain 0m 37s) Loss: 0.0391(0.0372) Grad: 0.1841 LR: 0.000091  \n",
      "Epoch: [2][1300/1316] Elapsed 7m 6s (remain 0m 4s) Loss: 0.0334(0.0374) Grad: 0.2200 LR: 0.000091  \n",
      "Epoch: [2][1315/1316] Elapsed 7m 11s (remain 0m 0s) Loss: 0.0602(0.0374) Grad: 0.4220 LR: 0.000091  \n",
      "EVAL: [0/330] Elapsed 0m 0s (remain 4m 21s) Loss: 0.0363(0.0363) \n",
      "EVAL: [100/330] Elapsed 0m 12s (remain 0m 28s) Loss: 0.0447(0.0407) \n",
      "EVAL: [200/330] Elapsed 0m 24s (remain 0m 15s) Loss: 0.0451(0.0406) \n",
      "EVAL: [300/330] Elapsed 0m 35s (remain 0m 3s) Loss: 0.0510(0.0407) \n"
     ]
    },
    {
     "name": "stderr",
     "output_type": "stream",
     "text": [
      "Epoch 2 - avg_train_loss: 0.0374  avg_val_loss: 0.0404  time: 469s\n",
      "Epoch 2 - Accuracy: 0.9390544902221378\n",
      "Epoch 2 - Save Best Score: 0.9391 Model\n"
     ]
    },
    {
     "name": "stdout",
     "output_type": "stream",
     "text": [
      "EVAL: [329/330] Elapsed 0m 38s (remain 0m 0s) Loss: 0.0246(0.0404) \n",
      "Epoch: [3][0/1316] Elapsed 0m 1s (remain 29m 22s) Loss: 0.0747(0.0747) Grad: 0.2707 LR: 0.000091  \n",
      "Epoch: [3][100/1316] Elapsed 0m 37s (remain 7m 28s) Loss: 0.1151(0.0974) Grad: 0.1815 LR: 0.000090  \n",
      "Epoch: [3][200/1316] Elapsed 1m 12s (remain 6m 40s) Loss: 0.1309(0.0952) Grad: 0.2728 LR: 0.000089  \n",
      "Epoch: [3][300/1316] Elapsed 1m 47s (remain 6m 1s) Loss: 0.1003(0.0963) Grad: 0.2844 LR: 0.000088  \n",
      "Epoch: [3][400/1316] Elapsed 2m 21s (remain 5m 23s) Loss: 0.1339(0.0969) Grad: 0.1006 LR: 0.000088  \n",
      "Epoch: [3][500/1316] Elapsed 2m 56s (remain 4m 47s) Loss: 0.0379(0.0966) Grad: 0.1798 LR: 0.000087  \n",
      "Epoch: [3][600/1316] Elapsed 3m 31s (remain 4m 11s) Loss: 0.0798(0.0966) Grad: 0.2070 LR: 0.000086  \n",
      "Epoch: [3][700/1316] Elapsed 4m 6s (remain 3m 36s) Loss: 0.0590(0.0968) Grad: 0.1995 LR: 0.000085  \n",
      "Epoch: [3][800/1316] Elapsed 4m 42s (remain 3m 1s) Loss: 0.0424(0.0973) Grad: 0.1585 LR: 0.000084  \n",
      "Epoch: [3][900/1316] Elapsed 5m 17s (remain 2m 26s) Loss: 0.0526(0.0964) Grad: 0.2406 LR: 0.000084  \n",
      "Epoch: [3][1000/1316] Elapsed 5m 52s (remain 1m 50s) Loss: 0.1014(0.0963) Grad: 0.1147 LR: 0.000083  \n",
      "Epoch: [3][1100/1316] Elapsed 6m 27s (remain 1m 15s) Loss: 0.1182(0.0959) Grad: 0.1093 LR: 0.000082  \n",
      "Epoch: [3][1200/1316] Elapsed 7m 1s (remain 0m 40s) Loss: 0.0751(0.0957) Grad: 0.0820 LR: 0.000081  \n",
      "Epoch: [3][1300/1316] Elapsed 7m 37s (remain 0m 5s) Loss: 0.0488(0.0956) Grad: 0.1124 LR: 0.000080  \n",
      "Epoch: [3][1315/1316] Elapsed 7m 42s (remain 0m 0s) Loss: 0.0631(0.0955) Grad: 0.2179 LR: 0.000080  \n",
      "EVAL: [0/330] Elapsed 0m 0s (remain 4m 46s) Loss: 0.0465(0.0465) \n",
      "EVAL: [100/330] Elapsed 0m 12s (remain 0m 28s) Loss: 0.0464(0.0427) \n",
      "EVAL: [200/330] Elapsed 0m 24s (remain 0m 15s) Loss: 0.0404(0.0432) \n",
      "EVAL: [300/330] Elapsed 0m 35s (remain 0m 3s) Loss: 0.0399(0.0425) \n"
     ]
    },
    {
     "name": "stderr",
     "output_type": "stream",
     "text": [
      "Epoch 3 - avg_train_loss: 0.0955  avg_val_loss: 0.0424  time: 501s\n",
      "Epoch 3 - Accuracy: 0.9358268464021264\n"
     ]
    },
    {
     "name": "stdout",
     "output_type": "stream",
     "text": [
      "EVAL: [329/330] Elapsed 0m 37s (remain 0m 0s) Loss: 0.0157(0.0424) \n",
      "Epoch: [4][0/1316] Elapsed 0m 1s (remain 28m 33s) Loss: 0.0576(0.0576) Grad: 0.1023 LR: 0.000080  \n",
      "Epoch: [4][100/1316] Elapsed 0m 36s (remain 7m 21s) Loss: 0.0487(0.0913) Grad: 0.2232 LR: 0.000079  \n",
      "Epoch: [4][200/1316] Elapsed 1m 11s (remain 6m 36s) Loss: 0.1510(0.0890) Grad: 0.1433 LR: 0.000078  \n",
      "Epoch: [4][300/1316] Elapsed 1m 46s (remain 5m 58s) Loss: 0.0755(0.0883) Grad: 0.1261 LR: 0.000077  \n",
      "Epoch: [4][400/1316] Elapsed 2m 21s (remain 5m 22s) Loss: 0.1421(0.0880) Grad: 0.1297 LR: 0.000076  \n",
      "Epoch: [4][500/1316] Elapsed 2m 55s (remain 4m 45s) Loss: 0.1622(0.0885) Grad: 0.1734 LR: 0.000075  \n",
      "Epoch: [4][600/1316] Elapsed 3m 30s (remain 4m 10s) Loss: 0.0796(0.0874) Grad: 0.2256 LR: 0.000074  \n",
      "Epoch: [4][700/1316] Elapsed 4m 5s (remain 3m 35s) Loss: 0.0466(0.0871) Grad: 0.1488 LR: 0.000073  \n",
      "Epoch: [4][800/1316] Elapsed 4m 41s (remain 3m 0s) Loss: 0.0789(0.0882) Grad: 0.3152 LR: 0.000072  \n",
      "Epoch: [4][900/1316] Elapsed 5m 15s (remain 2m 25s) Loss: 0.1157(0.0878) Grad: 0.1159 LR: 0.000071  \n",
      "Epoch: [4][1000/1316] Elapsed 5m 51s (remain 1m 50s) Loss: 0.1388(0.0887) Grad: 0.1606 LR: 0.000070  \n",
      "Epoch: [4][1100/1316] Elapsed 6m 26s (remain 1m 15s) Loss: 0.1540(0.0884) Grad: 0.1487 LR: 0.000069  \n",
      "Epoch: [4][1200/1316] Elapsed 7m 1s (remain 0m 40s) Loss: 0.0820(0.0892) Grad: 0.0644 LR: 0.000067  \n",
      "Epoch: [4][1300/1316] Elapsed 7m 36s (remain 0m 5s) Loss: 0.0477(0.0893) Grad: 0.0898 LR: 0.000066  \n",
      "Epoch: [4][1315/1316] Elapsed 7m 41s (remain 0m 0s) Loss: 0.1673(0.0893) Grad: 0.2054 LR: 0.000066  \n",
      "EVAL: [0/330] Elapsed 0m 0s (remain 4m 25s) Loss: 0.0552(0.0552) \n",
      "EVAL: [100/330] Elapsed 0m 12s (remain 0m 27s) Loss: 0.0750(0.0424) \n",
      "EVAL: [200/330] Elapsed 0m 23s (remain 0m 15s) Loss: 0.0389(0.0414) \n",
      "EVAL: [300/330] Elapsed 0m 34s (remain 0m 3s) Loss: 0.0347(0.0409) \n"
     ]
    },
    {
     "name": "stderr",
     "output_type": "stream",
     "text": [
      "Epoch 4 - avg_train_loss: 0.0893  avg_val_loss: 0.0408  time: 499s\n",
      "Epoch 4 - Accuracy: 0.9411429656350864\n",
      "Epoch 4 - Save Best Score: 0.9411 Model\n"
     ]
    },
    {
     "name": "stdout",
     "output_type": "stream",
     "text": [
      "EVAL: [329/330] Elapsed 0m 37s (remain 0m 0s) Loss: 0.0159(0.0408) \n",
      "Epoch: [5][0/1316] Elapsed 0m 1s (remain 27m 56s) Loss: 0.0994(0.0994) Grad: 0.0951 LR: 0.000066  \n",
      "Epoch: [5][100/1316] Elapsed 0m 35s (remain 7m 11s) Loss: 0.0688(0.0874) Grad: 0.1976 LR: 0.000065  \n",
      "Epoch: [5][200/1316] Elapsed 1m 10s (remain 6m 33s) Loss: 0.0817(0.0859) Grad: 0.0795 LR: 0.000064  \n",
      "Epoch: [5][300/1316] Elapsed 1m 45s (remain 5m 55s) Loss: 0.0797(0.0871) Grad: 0.0877 LR: 0.000063  \n",
      "Epoch: [5][400/1316] Elapsed 2m 20s (remain 5m 19s) Loss: 0.1098(0.0872) Grad: 0.2458 LR: 0.000062  \n",
      "Epoch: [5][500/1316] Elapsed 2m 54s (remain 4m 44s) Loss: 0.1157(0.0866) Grad: 0.1274 LR: 0.000061  \n",
      "Epoch: [5][600/1316] Elapsed 3m 29s (remain 4m 9s) Loss: 0.0504(0.0871) Grad: 0.2173 LR: 0.000059  \n",
      "Epoch: [5][700/1316] Elapsed 4m 4s (remain 3m 34s) Loss: 0.0513(0.0871) Grad: 0.1521 LR: 0.000058  \n",
      "Epoch: [5][800/1316] Elapsed 4m 40s (remain 3m 0s) Loss: 0.0275(0.0875) Grad: 0.0979 LR: 0.000057  \n",
      "Epoch: [5][900/1316] Elapsed 5m 15s (remain 2m 25s) Loss: 0.1353(0.0881) Grad: 0.1678 LR: 0.000056  \n",
      "Epoch: [5][1000/1316] Elapsed 5m 50s (remain 1m 50s) Loss: 0.0373(0.0881) Grad: 0.1474 LR: 0.000055  \n",
      "Epoch: [5][1100/1316] Elapsed 6m 25s (remain 1m 15s) Loss: 0.1147(0.0877) Grad: 0.1720 LR: 0.000054  \n",
      "Epoch: [5][1200/1316] Elapsed 7m 1s (remain 0m 40s) Loss: 0.0577(0.0873) Grad: 0.1961 LR: 0.000052  \n",
      "Epoch: [5][1300/1316] Elapsed 7m 37s (remain 0m 5s) Loss: 0.0830(0.0877) Grad: 0.2927 LR: 0.000051  \n",
      "Epoch: [5][1315/1316] Elapsed 7m 42s (remain 0m 0s) Loss: 0.1106(0.0878) Grad: 0.1333 LR: 0.000051  \n",
      "EVAL: [0/330] Elapsed 0m 0s (remain 5m 7s) Loss: 0.0549(0.0549) \n",
      "EVAL: [100/330] Elapsed 0m 12s (remain 0m 27s) Loss: 0.0816(0.0448) \n",
      "EVAL: [200/330] Elapsed 0m 23s (remain 0m 15s) Loss: 0.0532(0.0436) \n",
      "EVAL: [300/330] Elapsed 0m 34s (remain 0m 3s) Loss: 0.0349(0.0432) \n"
     ]
    },
    {
     "name": "stderr",
     "output_type": "stream",
     "text": [
      "Epoch 5 - avg_train_loss: 0.0878  avg_val_loss: 0.0431  time: 500s\n",
      "Epoch 5 - Accuracy: 0.9403835200303778\n"
     ]
    },
    {
     "name": "stdout",
     "output_type": "stream",
     "text": [
      "EVAL: [329/330] Elapsed 0m 37s (remain 0m 0s) Loss: 0.0173(0.0431) \n",
      "Epoch: [6][0/1316] Elapsed 0m 1s (remain 29m 10s) Loss: 0.0750(0.0750) Grad: 0.0583 LR: 0.000051  \n",
      "Epoch: [6][100/1316] Elapsed 0m 36s (remain 7m 18s) Loss: 0.1224(0.0810) Grad: 0.1251 LR: 0.000050  \n",
      "Epoch: [6][200/1316] Elapsed 1m 11s (remain 6m 34s) Loss: 0.0428(0.0851) Grad: 0.0912 LR: 0.000049  \n",
      "Epoch: [6][300/1316] Elapsed 1m 45s (remain 5m 56s) Loss: 0.1313(0.0856) Grad: 0.1425 LR: 0.000048  \n",
      "Epoch: [6][400/1316] Elapsed 2m 20s (remain 5m 21s) Loss: 0.1342(0.0843) Grad: 0.2174 LR: 0.000046  \n",
      "Epoch: [6][500/1316] Elapsed 2m 55s (remain 4m 45s) Loss: 0.1261(0.0849) Grad: 0.1292 LR: 0.000045  \n",
      "Epoch: [6][600/1316] Elapsed 3m 30s (remain 4m 10s) Loss: 0.1444(0.0850) Grad: 0.1127 LR: 0.000044  \n",
      "Epoch: [6][700/1316] Elapsed 4m 6s (remain 3m 35s) Loss: 0.1313(0.0850) Grad: 0.1543 LR: 0.000043  \n",
      "Epoch: [6][800/1316] Elapsed 4m 41s (remain 3m 0s) Loss: 0.0573(0.0848) Grad: 0.2022 LR: 0.000042  \n",
      "Epoch: [6][900/1316] Elapsed 5m 16s (remain 2m 25s) Loss: 0.0732(0.0847) Grad: 0.0812 LR: 0.000041  \n",
      "Epoch: [6][1000/1316] Elapsed 5m 52s (remain 1m 50s) Loss: 0.0909(0.0857) Grad: 0.1798 LR: 0.000039  \n",
      "Epoch: [6][1100/1316] Elapsed 6m 27s (remain 1m 15s) Loss: 0.0582(0.0858) Grad: 0.2072 LR: 0.000038  \n",
      "Epoch: [6][1200/1316] Elapsed 7m 1s (remain 0m 40s) Loss: 0.0594(0.0856) Grad: 0.1227 LR: 0.000037  \n",
      "Epoch: [6][1300/1316] Elapsed 7m 38s (remain 0m 5s) Loss: 0.1384(0.0858) Grad: 0.1488 LR: 0.000036  \n",
      "Epoch: [6][1315/1316] Elapsed 7m 43s (remain 0m 0s) Loss: 0.0222(0.0858) Grad: 0.1641 LR: 0.000036  \n",
      "EVAL: [0/330] Elapsed 0m 0s (remain 4m 21s) Loss: 0.0470(0.0470) \n",
      "EVAL: [100/330] Elapsed 0m 13s (remain 0m 29s) Loss: 0.0722(0.0426) \n",
      "EVAL: [200/330] Elapsed 0m 24s (remain 0m 15s) Loss: 0.0560(0.0426) \n",
      "EVAL: [300/330] Elapsed 0m 35s (remain 0m 3s) Loss: 0.0300(0.0418) \n"
     ]
    },
    {
     "name": "stderr",
     "output_type": "stream",
     "text": [
      "Epoch 6 - avg_train_loss: 0.0858  avg_val_loss: 0.0417  time: 501s\n",
      "Epoch 6 - Accuracy: 0.9417125498386179\n",
      "Epoch 6 - Save Best Score: 0.9417 Model\n"
     ]
    },
    {
     "name": "stdout",
     "output_type": "stream",
     "text": [
      "EVAL: [329/330] Elapsed 0m 38s (remain 0m 0s) Loss: 0.0175(0.0417) \n",
      "Epoch: [7][0/1316] Elapsed 0m 1s (remain 28m 6s) Loss: 0.1574(0.1574) Grad: 0.1161 LR: 0.000036  \n",
      "Epoch: [7][100/1316] Elapsed 0m 35s (remain 7m 7s) Loss: 0.1281(0.0681) Grad: 0.1520 LR: 0.000035  \n",
      "Epoch: [7][200/1316] Elapsed 1m 9s (remain 6m 24s) Loss: 0.1312(0.0650) Grad: 0.0789 LR: 0.000034  \n",
      "Epoch: [7][300/1316] Elapsed 1m 43s (remain 5m 50s) Loss: 0.0182(0.0654) Grad: 0.0247 LR: 0.000033  \n",
      "Epoch: [7][400/1316] Elapsed 2m 18s (remain 5m 15s) Loss: 0.0230(0.0643) Grad: 0.0928 LR: 0.000032  \n",
      "Epoch: [7][500/1316] Elapsed 2m 52s (remain 4m 40s) Loss: 0.0419(0.0645) Grad: 0.1881 LR: 0.000030  \n",
      "Epoch: [7][600/1316] Elapsed 3m 26s (remain 4m 5s) Loss: 0.0504(0.0643) Grad: 0.1350 LR: 0.000029  \n",
      "Epoch: [7][700/1316] Elapsed 4m 0s (remain 3m 31s) Loss: 0.1681(0.0649) Grad: 0.1960 LR: 0.000028  \n",
      "Epoch: [7][800/1316] Elapsed 4m 35s (remain 2m 57s) Loss: 0.0592(0.0648) Grad: 0.2838 LR: 0.000027  \n",
      "Epoch: [7][900/1316] Elapsed 5m 9s (remain 2m 22s) Loss: 0.0514(0.0644) Grad: 0.1891 LR: 0.000026  \n",
      "Epoch: [7][1000/1316] Elapsed 5m 43s (remain 1m 48s) Loss: 0.0391(0.0641) Grad: 0.1414 LR: 0.000025  \n",
      "Epoch: [7][1100/1316] Elapsed 6m 17s (remain 1m 13s) Loss: 0.0912(0.0638) Grad: 0.2877 LR: 0.000024  \n",
      "Epoch: [7][1200/1316] Elapsed 6m 52s (remain 0m 39s) Loss: 0.1237(0.0638) Grad: 0.0870 LR: 0.000023  \n",
      "Epoch: [7][1300/1316] Elapsed 7m 26s (remain 0m 5s) Loss: 0.0915(0.0640) Grad: 0.2360 LR: 0.000022  \n",
      "Epoch: [7][1315/1316] Elapsed 7m 31s (remain 0m 0s) Loss: 0.0991(0.0641) Grad: 0.3703 LR: 0.000022  \n",
      "EVAL: [0/330] Elapsed 0m 0s (remain 4m 10s) Loss: 0.0463(0.0463) \n",
      "EVAL: [100/330] Elapsed 0m 12s (remain 0m 27s) Loss: 0.0717(0.0368) \n",
      "EVAL: [200/330] Elapsed 0m 23s (remain 0m 15s) Loss: 0.0522(0.0372) \n",
      "EVAL: [300/330] Elapsed 0m 34s (remain 0m 3s) Loss: 0.0293(0.0368) \n"
     ]
    },
    {
     "name": "stderr",
     "output_type": "stream",
     "text": [
      "Epoch 7 - avg_train_loss: 0.0641  avg_val_loss: 0.0366  time: 489s\n",
      "Epoch 7 - Accuracy: 0.9481678374786406\n",
      "Epoch 7 - Save Best Score: 0.9482 Model\n"
     ]
    },
    {
     "name": "stdout",
     "output_type": "stream",
     "text": [
      "EVAL: [329/330] Elapsed 0m 37s (remain 0m 0s) Loss: 0.0163(0.0366) \n",
      "Epoch: [8][0/1316] Elapsed 0m 1s (remain 28m 35s) Loss: 0.0414(0.0414) Grad: 0.1390 LR: 0.000022  \n",
      "Epoch: [8][100/1316] Elapsed 0m 35s (remain 7m 6s) Loss: 0.1127(0.0616) Grad: 0.1829 LR: 0.000021  \n",
      "Epoch: [8][200/1316] Elapsed 1m 9s (remain 6m 27s) Loss: 0.1120(0.0619) Grad: 0.1261 LR: 0.000020  \n",
      "Epoch: [8][300/1316] Elapsed 1m 43s (remain 5m 49s) Loss: 0.0263(0.0631) Grad: 0.1523 LR: 0.000020  \n",
      "Epoch: [8][400/1316] Elapsed 2m 17s (remain 5m 14s) Loss: 0.1393(0.0638) Grad: 0.1238 LR: 0.000019  \n",
      "Epoch: [8][500/1316] Elapsed 2m 52s (remain 4m 39s) Loss: 0.0510(0.0644) Grad: 0.2663 LR: 0.000018  \n",
      "Epoch: [8][600/1316] Elapsed 3m 26s (remain 4m 5s) Loss: 0.1077(0.0637) Grad: 0.1197 LR: 0.000017  \n",
      "Epoch: [8][700/1316] Elapsed 4m 0s (remain 3m 30s) Loss: 0.1578(0.0644) Grad: 0.1383 LR: 0.000016  \n",
      "Epoch: [8][800/1316] Elapsed 4m 34s (remain 2m 56s) Loss: 0.1130(0.0641) Grad: 0.2549 LR: 0.000015  \n",
      "Epoch: [8][900/1316] Elapsed 5m 8s (remain 2m 22s) Loss: 0.0263(0.0635) Grad: 0.1143 LR: 0.000014  \n",
      "Epoch: [8][1000/1316] Elapsed 5m 43s (remain 1m 47s) Loss: 0.0440(0.0633) Grad: 0.1345 LR: 0.000014  \n",
      "Epoch: [8][1100/1316] Elapsed 6m 17s (remain 1m 13s) Loss: 0.0593(0.0629) Grad: 0.1900 LR: 0.000013  \n",
      "Epoch: [8][1200/1316] Elapsed 6m 51s (remain 0m 39s) Loss: 0.0420(0.0627) Grad: 0.1036 LR: 0.000012  \n",
      "Epoch: [8][1300/1316] Elapsed 7m 25s (remain 0m 5s) Loss: 0.0514(0.0626) Grad: 0.2222 LR: 0.000012  \n",
      "Epoch: [8][1315/1316] Elapsed 7m 30s (remain 0m 0s) Loss: 0.0444(0.0627) Grad: 0.1874 LR: 0.000011  \n",
      "EVAL: [0/330] Elapsed 0m 0s (remain 4m 24s) Loss: 0.0368(0.0368) \n",
      "EVAL: [100/330] Elapsed 0m 12s (remain 0m 27s) Loss: 0.0713(0.0379) \n",
      "EVAL: [200/330] Elapsed 0m 23s (remain 0m 15s) Loss: 0.0585(0.0376) \n",
      "EVAL: [300/330] Elapsed 0m 34s (remain 0m 3s) Loss: 0.0279(0.0371) \n"
     ]
    },
    {
     "name": "stderr",
     "output_type": "stream",
     "text": [
      "Epoch 8 - avg_train_loss: 0.0627  avg_val_loss: 0.0370  time: 488s\n",
      "Epoch 8 - Accuracy: 0.947408391873932\n"
     ]
    },
    {
     "name": "stdout",
     "output_type": "stream",
     "text": [
      "EVAL: [329/330] Elapsed 0m 37s (remain 0m 0s) Loss: 0.0157(0.0370) \n",
      "Epoch: [9][0/1316] Elapsed 0m 1s (remain 30m 22s) Loss: 0.0915(0.0915) Grad: 0.2949 LR: 0.000011  \n",
      "Epoch: [9][100/1316] Elapsed 0m 37s (remain 7m 25s) Loss: 0.0198(0.0602) Grad: 0.0696 LR: 0.000011  \n",
      "Epoch: [9][200/1316] Elapsed 1m 11s (remain 6m 35s) Loss: 0.0252(0.0611) Grad: 0.1343 LR: 0.000010  \n",
      "Epoch: [9][300/1316] Elapsed 1m 45s (remain 5m 57s) Loss: 0.0534(0.0595) Grad: 0.1543 LR: 0.000009  \n",
      "Epoch: [9][400/1316] Elapsed 2m 20s (remain 5m 19s) Loss: 0.0385(0.0606) Grad: 0.1974 LR: 0.000009  \n",
      "Epoch: [9][500/1316] Elapsed 2m 54s (remain 4m 43s) Loss: 0.0664(0.0611) Grad: 0.3296 LR: 0.000008  \n",
      "Epoch: [9][600/1316] Elapsed 3m 28s (remain 4m 8s) Loss: 0.0631(0.0614) Grad: 0.2189 LR: 0.000008  \n",
      "Epoch: [9][700/1316] Elapsed 4m 3s (remain 3m 33s) Loss: 0.0488(0.0620) Grad: 0.1800 LR: 0.000007  \n",
      "Epoch: [9][800/1316] Elapsed 4m 37s (remain 2m 58s) Loss: 0.0242(0.0622) Grad: 0.1495 LR: 0.000007  \n",
      "Epoch: [9][900/1316] Elapsed 5m 12s (remain 2m 23s) Loss: 0.0655(0.0623) Grad: 0.1774 LR: 0.000006  \n",
      "Epoch: [9][1000/1316] Elapsed 5m 45s (remain 1m 48s) Loss: 0.0240(0.0619) Grad: 0.0947 LR: 0.000006  \n",
      "Epoch: [9][1100/1316] Elapsed 6m 20s (remain 1m 14s) Loss: 0.0784(0.0615) Grad: 0.1639 LR: 0.000005  \n",
      "Epoch: [9][1200/1316] Elapsed 6m 54s (remain 0m 39s) Loss: 0.0501(0.0611) Grad: 0.2412 LR: 0.000005  \n",
      "Epoch: [9][1300/1316] Elapsed 7m 29s (remain 0m 5s) Loss: 0.0188(0.0607) Grad: 0.0472 LR: 0.000004  \n",
      "Epoch: [9][1315/1316] Elapsed 7m 34s (remain 0m 0s) Loss: 0.0276(0.0606) Grad: 0.2044 LR: 0.000004  \n",
      "EVAL: [0/330] Elapsed 0m 0s (remain 4m 56s) Loss: 0.0372(0.0372) \n",
      "EVAL: [100/330] Elapsed 0m 12s (remain 0m 27s) Loss: 0.0724(0.0377) \n",
      "EVAL: [200/330] Elapsed 0m 23s (remain 0m 15s) Loss: 0.0519(0.0373) \n",
      "EVAL: [300/330] Elapsed 0m 35s (remain 0m 3s) Loss: 0.0262(0.0368) \n"
     ]
    },
    {
     "name": "stderr",
     "output_type": "stream",
     "text": [
      "Epoch 9 - avg_train_loss: 0.0606  avg_val_loss: 0.0367  time: 493s\n",
      "Epoch 9 - Accuracy: 0.9479779760774635\n"
     ]
    },
    {
     "name": "stdout",
     "output_type": "stream",
     "text": [
      "EVAL: [329/330] Elapsed 0m 37s (remain 0m 0s) Loss: 0.0157(0.0367) \n",
      "Epoch: [10][0/1316] Elapsed 0m 1s (remain 25m 55s) Loss: 0.0225(0.0225) Grad: 0.0742 LR: 0.000004  \n",
      "Epoch: [10][100/1316] Elapsed 0m 35s (remain 7m 2s) Loss: 0.0243(0.0287) Grad: 0.1811 LR: 0.000004  \n",
      "Epoch: [10][200/1316] Elapsed 1m 8s (remain 6m 17s) Loss: 0.0198(0.0279) Grad: 0.0722 LR: 0.000004  \n",
      "Epoch: [10][300/1316] Elapsed 1m 40s (remain 5m 39s) Loss: 0.0276(0.0278) Grad: 0.1977 LR: 0.000003  \n",
      "Epoch: [10][400/1316] Elapsed 2m 12s (remain 5m 3s) Loss: 0.0201(0.0282) Grad: 0.0565 LR: 0.000003  \n",
      "Epoch: [10][500/1316] Elapsed 2m 45s (remain 4m 29s) Loss: 0.0190(0.0281) Grad: 0.0390 LR: 0.000003  \n",
      "Epoch: [10][600/1316] Elapsed 3m 18s (remain 3m 55s) Loss: 0.0243(0.0279) Grad: 0.1038 LR: 0.000003  \n",
      "Epoch: [10][700/1316] Elapsed 3m 50s (remain 3m 22s) Loss: 0.0251(0.0278) Grad: 0.1540 LR: 0.000003  \n",
      "Epoch: [10][800/1316] Elapsed 4m 24s (remain 2m 49s) Loss: 0.0192(0.0275) Grad: 0.0370 LR: 0.000002  \n",
      "Epoch: [10][900/1316] Elapsed 4m 57s (remain 2m 16s) Loss: 0.0511(0.0275) Grad: 0.2253 LR: 0.000002  \n",
      "Epoch: [10][1000/1316] Elapsed 5m 29s (remain 1m 43s) Loss: 0.0223(0.0273) Grad: 0.0753 LR: 0.000002  \n",
      "Epoch: [10][1100/1316] Elapsed 6m 2s (remain 1m 10s) Loss: 0.0431(0.0273) Grad: 0.2381 LR: 0.000002  \n",
      "Epoch: [10][1200/1316] Elapsed 6m 35s (remain 0m 37s) Loss: 0.0257(0.0273) Grad: 0.1777 LR: 0.000002  \n",
      "Epoch: [10][1300/1316] Elapsed 7m 8s (remain 0m 4s) Loss: 0.0200(0.0272) Grad: 0.0449 LR: 0.000002  \n",
      "Epoch: [10][1315/1316] Elapsed 7m 13s (remain 0m 0s) Loss: 0.0470(0.0272) Grad: 0.2984 LR: 0.000002  \n",
      "EVAL: [0/330] Elapsed 0m 0s (remain 4m 36s) Loss: 0.0392(0.0392) \n",
      "EVAL: [100/330] Elapsed 0m 12s (remain 0m 27s) Loss: 0.0639(0.0373) \n",
      "EVAL: [200/330] Elapsed 0m 23s (remain 0m 15s) Loss: 0.0408(0.0369) \n",
      "EVAL: [300/330] Elapsed 0m 34s (remain 0m 3s) Loss: 0.0238(0.0365) \n"
     ]
    },
    {
     "name": "stderr",
     "output_type": "stream",
     "text": [
      "Epoch 10 - avg_train_loss: 0.0272  avg_val_loss: 0.0364  time: 471s\n",
      "Epoch 10 - Accuracy: 0.9485475602809949\n",
      "Epoch 10 - Save Best Score: 0.9485 Model\n"
     ]
    },
    {
     "name": "stdout",
     "output_type": "stream",
     "text": [
      "EVAL: [329/330] Elapsed 0m 37s (remain 0m 0s) Loss: 0.0158(0.0364) \n"
     ]
    },
    {
     "name": "stderr",
     "output_type": "stream",
     "text": [
      "Epoch 10 - Save final model\n",
      "========== fold: 2 result ==========\n",
      "Score: 0.94855\n",
      "========== fold: 3 training ==========\n"
     ]
    },
    {
     "name": "stdout",
     "output_type": "stream",
     "text": [
      "Epoch: [1][0/1316] Elapsed 0m 1s (remain 22m 37s) Loss: 0.2206(0.2206) Grad: 0.2307 LR: 0.000100  \n",
      "Epoch: [1][100/1316] Elapsed 0m 35s (remain 7m 7s) Loss: 0.0961(0.1491) Grad: 0.1893 LR: 0.000100  \n",
      "Epoch: [1][200/1316] Elapsed 1m 9s (remain 6m 26s) Loss: 0.0827(0.1263) Grad: 0.2148 LR: 0.000100  \n",
      "Epoch: [1][300/1316] Elapsed 1m 43s (remain 5m 48s) Loss: 0.0692(0.1110) Grad: 0.2368 LR: 0.000100  \n",
      "Epoch: [1][400/1316] Elapsed 2m 17s (remain 5m 13s) Loss: 0.0838(0.1016) Grad: 0.2414 LR: 0.000100  \n",
      "Epoch: [1][500/1316] Elapsed 2m 51s (remain 4m 38s) Loss: 0.0644(0.0955) Grad: 0.1843 LR: 0.000100  \n",
      "Epoch: [1][600/1316] Elapsed 3m 25s (remain 4m 4s) Loss: 0.0328(0.0905) Grad: 0.1692 LR: 0.000099  \n",
      "Epoch: [1][700/1316] Elapsed 3m 59s (remain 3m 29s) Loss: 0.0488(0.0861) Grad: 0.1979 LR: 0.000099  \n",
      "Epoch: [1][800/1316] Elapsed 4m 33s (remain 2m 55s) Loss: 0.0674(0.0826) Grad: 0.2135 LR: 0.000099  \n",
      "Epoch: [1][900/1316] Elapsed 5m 6s (remain 2m 21s) Loss: 0.0382(0.0798) Grad: 0.1926 LR: 0.000099  \n",
      "Epoch: [1][1000/1316] Elapsed 5m 42s (remain 1m 47s) Loss: 0.0542(0.0775) Grad: 0.2977 LR: 0.000099  \n",
      "Epoch: [1][1100/1316] Elapsed 6m 17s (remain 1m 13s) Loss: 0.0715(0.0757) Grad: 0.2243 LR: 0.000098  \n",
      "Epoch: [1][1200/1316] Elapsed 6m 52s (remain 0m 39s) Loss: 0.0562(0.0740) Grad: 0.1745 LR: 0.000098  \n",
      "Epoch: [1][1300/1316] Elapsed 7m 26s (remain 0m 5s) Loss: 0.0427(0.0721) Grad: 0.2038 LR: 0.000098  \n",
      "Epoch: [1][1315/1316] Elapsed 7m 32s (remain 0m 0s) Loss: 0.0455(0.0720) Grad: 0.3058 LR: 0.000098  \n",
      "EVAL: [0/330] Elapsed 0m 0s (remain 5m 6s) Loss: 0.0313(0.0313) \n",
      "EVAL: [100/330] Elapsed 0m 12s (remain 0m 28s) Loss: 0.0382(0.0437) \n",
      "EVAL: [200/330] Elapsed 0m 24s (remain 0m 15s) Loss: 0.0455(0.0437) \n",
      "EVAL: [300/330] Elapsed 0m 36s (remain 0m 3s) Loss: 0.0412(0.0439) \n"
     ]
    },
    {
     "name": "stderr",
     "output_type": "stream",
     "text": [
      "Epoch 1 - avg_train_loss: 0.0720  avg_val_loss: 0.0437  time: 492s\n",
      "Epoch 1 - Accuracy: 0.933928232390355\n",
      "Epoch 1 - Save Best Score: 0.9339 Model\n"
     ]
    },
    {
     "name": "stdout",
     "output_type": "stream",
     "text": [
      "EVAL: [329/330] Elapsed 0m 39s (remain 0m 0s) Loss: 0.1073(0.0437) \n",
      "Epoch: [2][0/1316] Elapsed 0m 1s (remain 25m 5s) Loss: 0.0374(0.0374) Grad: 0.1815 LR: 0.000098  \n",
      "Epoch: [2][100/1316] Elapsed 0m 36s (remain 7m 13s) Loss: 0.0197(0.0383) Grad: 0.0352 LR: 0.000097  \n",
      "Epoch: [2][200/1316] Elapsed 1m 10s (remain 6m 28s) Loss: 0.0552(0.0390) Grad: 0.2415 LR: 0.000097  \n",
      "Epoch: [2][300/1316] Elapsed 1m 44s (remain 5m 51s) Loss: 0.0436(0.0388) Grad: 0.2437 LR: 0.000096  \n",
      "Epoch: [2][400/1316] Elapsed 2m 19s (remain 5m 17s) Loss: 0.0209(0.0393) Grad: 0.0601 LR: 0.000096  \n",
      "Epoch: [2][500/1316] Elapsed 2m 54s (remain 4m 43s) Loss: 0.0249(0.0390) Grad: 0.1048 LR: 0.000095  \n",
      "Epoch: [2][600/1316] Elapsed 3m 28s (remain 4m 7s) Loss: 0.0366(0.0392) Grad: 0.1382 LR: 0.000095  \n",
      "Epoch: [2][700/1316] Elapsed 4m 2s (remain 3m 32s) Loss: 0.0438(0.0391) Grad: 0.2035 LR: 0.000094  \n",
      "Epoch: [2][800/1316] Elapsed 4m 36s (remain 2m 57s) Loss: 0.0389(0.0388) Grad: 0.2279 LR: 0.000094  \n",
      "Epoch: [2][900/1316] Elapsed 5m 11s (remain 2m 23s) Loss: 0.0721(0.0389) Grad: 0.2134 LR: 0.000093  \n",
      "Epoch: [2][1000/1316] Elapsed 5m 45s (remain 1m 48s) Loss: 0.0430(0.0388) Grad: 0.1969 LR: 0.000093  \n",
      "Epoch: [2][1100/1316] Elapsed 6m 19s (remain 1m 14s) Loss: 0.0187(0.0390) Grad: 0.0496 LR: 0.000092  \n",
      "Epoch: [2][1200/1316] Elapsed 6m 53s (remain 0m 39s) Loss: 0.0313(0.0387) Grad: 0.2068 LR: 0.000091  \n",
      "Epoch: [2][1300/1316] Elapsed 7m 27s (remain 0m 5s) Loss: 0.0462(0.0385) Grad: 0.1645 LR: 0.000091  \n",
      "Epoch: [2][1315/1316] Elapsed 7m 32s (remain 0m 0s) Loss: 0.0251(0.0384) Grad: 0.2559 LR: 0.000091  \n",
      "EVAL: [0/330] Elapsed 0m 0s (remain 4m 48s) Loss: 0.0312(0.0312) \n",
      "EVAL: [100/330] Elapsed 0m 13s (remain 0m 30s) Loss: 0.0343(0.0412) \n",
      "EVAL: [200/330] Elapsed 0m 25s (remain 0m 16s) Loss: 0.0487(0.0411) \n",
      "EVAL: [300/330] Elapsed 0m 37s (remain 0m 3s) Loss: 0.0565(0.0412) \n"
     ]
    },
    {
     "name": "stderr",
     "output_type": "stream",
     "text": [
      "Epoch 2 - avg_train_loss: 0.0384  avg_val_loss: 0.0405  time: 493s\n",
      "Epoch 2 - Accuracy: 0.9407632428327322\n",
      "Epoch 2 - Save Best Score: 0.9408 Model\n"
     ]
    },
    {
     "name": "stdout",
     "output_type": "stream",
     "text": [
      "EVAL: [329/330] Elapsed 0m 40s (remain 0m 0s) Loss: 0.1179(0.0405) \n",
      "Epoch: [3][0/1316] Elapsed 0m 1s (remain 31m 41s) Loss: 0.1340(0.1340) Grad: 0.3067 LR: 0.000091  \n",
      "Epoch: [3][100/1316] Elapsed 0m 39s (remain 7m 51s) Loss: 0.0260(0.1033) Grad: 0.1066 LR: 0.000090  \n",
      "Epoch: [3][200/1316] Elapsed 1m 16s (remain 7m 3s) Loss: 0.0824(0.0991) Grad: 0.1363 LR: 0.000089  \n",
      "Epoch: [3][300/1316] Elapsed 1m 53s (remain 6m 21s) Loss: 0.0541(0.0981) Grad: 0.1607 LR: 0.000088  \n",
      "Epoch: [3][400/1316] Elapsed 2m 29s (remain 5m 41s) Loss: 0.0731(0.0973) Grad: 0.1236 LR: 0.000088  \n",
      "Epoch: [3][500/1316] Elapsed 3m 7s (remain 5m 4s) Loss: 0.1603(0.0976) Grad: 0.1680 LR: 0.000087  \n",
      "Epoch: [3][600/1316] Elapsed 3m 43s (remain 4m 26s) Loss: 0.1286(0.0969) Grad: 0.1782 LR: 0.000086  \n",
      "Epoch: [3][700/1316] Elapsed 4m 20s (remain 3m 48s) Loss: 0.0397(0.0961) Grad: 0.1653 LR: 0.000085  \n",
      "Epoch: [3][800/1316] Elapsed 4m 56s (remain 3m 10s) Loss: 0.0837(0.0965) Grad: 0.1334 LR: 0.000084  \n",
      "Epoch: [3][900/1316] Elapsed 5m 32s (remain 2m 33s) Loss: 0.1316(0.0961) Grad: 0.1018 LR: 0.000084  \n",
      "Epoch: [3][1000/1316] Elapsed 6m 9s (remain 1m 56s) Loss: 0.1319(0.0959) Grad: 0.1162 LR: 0.000083  \n",
      "Epoch: [3][1100/1316] Elapsed 6m 45s (remain 1m 19s) Loss: 0.0643(0.0957) Grad: 0.1974 LR: 0.000082  \n",
      "Epoch: [3][1200/1316] Elapsed 7m 21s (remain 0m 42s) Loss: 0.1286(0.0947) Grad: 0.1322 LR: 0.000081  \n",
      "Epoch: [3][1300/1316] Elapsed 7m 57s (remain 0m 5s) Loss: 0.1192(0.0949) Grad: 0.1725 LR: 0.000080  \n",
      "Epoch: [3][1315/1316] Elapsed 8m 3s (remain 0m 0s) Loss: 0.1669(0.0948) Grad: 0.2094 LR: 0.000080  \n",
      "EVAL: [0/330] Elapsed 0m 0s (remain 4m 28s) Loss: 0.0262(0.0262) \n",
      "EVAL: [100/330] Elapsed 0m 12s (remain 0m 28s) Loss: 0.0453(0.0441) \n",
      "EVAL: [200/330] Elapsed 0m 23s (remain 0m 15s) Loss: 0.0627(0.0441) \n",
      "EVAL: [300/330] Elapsed 0m 35s (remain 0m 3s) Loss: 0.0440(0.0440) \n"
     ]
    },
    {
     "name": "stderr",
     "output_type": "stream",
     "text": [
      "Epoch 3 - avg_train_loss: 0.0948  avg_val_loss: 0.0435  time: 521s\n",
      "Epoch 3 - Accuracy: 0.9377254604138978\n"
     ]
    },
    {
     "name": "stdout",
     "output_type": "stream",
     "text": [
      "EVAL: [329/330] Elapsed 0m 37s (remain 0m 0s) Loss: 0.0396(0.0435) \n",
      "Epoch: [4][0/1316] Elapsed 0m 1s (remain 28m 47s) Loss: 0.0587(0.0587) Grad: 0.1592 LR: 0.000080  \n",
      "Epoch: [4][100/1316] Elapsed 0m 37s (remain 7m 34s) Loss: 0.1040(0.0910) Grad: 0.2244 LR: 0.000079  \n",
      "Epoch: [4][200/1316] Elapsed 1m 14s (remain 6m 52s) Loss: 0.0441(0.0945) Grad: 0.1826 LR: 0.000078  \n",
      "Epoch: [4][300/1316] Elapsed 1m 50s (remain 6m 13s) Loss: 0.0659(0.0924) Grad: 0.1457 LR: 0.000077  \n",
      "Epoch: [4][400/1316] Elapsed 2m 27s (remain 5m 36s) Loss: 0.1267(0.0916) Grad: 0.1493 LR: 0.000076  \n",
      "Epoch: [4][500/1316] Elapsed 3m 3s (remain 4m 59s) Loss: 0.0392(0.0918) Grad: 0.1098 LR: 0.000075  \n",
      "Epoch: [4][600/1316] Elapsed 3m 40s (remain 4m 22s) Loss: 0.1369(0.0911) Grad: 0.0993 LR: 0.000074  \n",
      "Epoch: [4][700/1316] Elapsed 4m 17s (remain 3m 45s) Loss: 0.0862(0.0912) Grad: 0.2259 LR: 0.000073  \n",
      "Epoch: [4][800/1316] Elapsed 4m 53s (remain 3m 8s) Loss: 0.0946(0.0916) Grad: 0.1098 LR: 0.000072  \n",
      "Epoch: [4][900/1316] Elapsed 5m 30s (remain 2m 31s) Loss: 0.0805(0.0917) Grad: 0.2043 LR: 0.000071  \n",
      "Epoch: [4][1000/1316] Elapsed 6m 6s (remain 1m 55s) Loss: 0.0962(0.0917) Grad: 0.1868 LR: 0.000070  \n",
      "Epoch: [4][1100/1316] Elapsed 6m 42s (remain 1m 18s) Loss: 0.1401(0.0922) Grad: 0.1003 LR: 0.000069  \n",
      "Epoch: [4][1200/1316] Elapsed 7m 19s (remain 0m 42s) Loss: 0.1129(0.0922) Grad: 0.1408 LR: 0.000067  \n",
      "Epoch: [4][1300/1316] Elapsed 7m 55s (remain 0m 5s) Loss: 0.0313(0.0916) Grad: 0.1280 LR: 0.000066  \n",
      "Epoch: [4][1315/1316] Elapsed 8m 1s (remain 0m 0s) Loss: 0.0668(0.0917) Grad: 0.2483 LR: 0.000066  \n",
      "EVAL: [0/330] Elapsed 0m 0s (remain 4m 44s) Loss: 0.0311(0.0311) \n",
      "EVAL: [100/330] Elapsed 0m 12s (remain 0m 28s) Loss: 0.0557(0.0454) \n",
      "EVAL: [200/330] Elapsed 0m 24s (remain 0m 15s) Loss: 0.0589(0.0447) \n",
      "EVAL: [300/330] Elapsed 0m 35s (remain 0m 3s) Loss: 0.0627(0.0450) \n"
     ]
    },
    {
     "name": "stderr",
     "output_type": "stream",
     "text": [
      "Epoch 4 - avg_train_loss: 0.0917  avg_val_loss: 0.0446  time: 520s\n",
      "Epoch 4 - Accuracy: 0.9377254604138978\n"
     ]
    },
    {
     "name": "stdout",
     "output_type": "stream",
     "text": [
      "EVAL: [329/330] Elapsed 0m 38s (remain 0m 0s) Loss: 0.0928(0.0446) \n",
      "Epoch: [5][0/1316] Elapsed 0m 1s (remain 30m 0s) Loss: 0.1019(0.1019) Grad: 0.0836 LR: 0.000066  \n",
      "Epoch: [5][100/1316] Elapsed 0m 37s (remain 7m 35s) Loss: 0.0876(0.0912) Grad: 0.2112 LR: 0.000065  \n",
      "Epoch: [5][200/1316] Elapsed 1m 15s (remain 6m 56s) Loss: 0.1441(0.0892) Grad: 0.1278 LR: 0.000064  \n",
      "Epoch: [5][300/1316] Elapsed 1m 51s (remain 6m 16s) Loss: 0.1635(0.0872) Grad: 0.2155 LR: 0.000063  \n",
      "Epoch: [5][400/1316] Elapsed 2m 28s (remain 5m 38s) Loss: 0.0459(0.0874) Grad: 0.1834 LR: 0.000062  \n",
      "Epoch: [5][500/1316] Elapsed 3m 5s (remain 5m 0s) Loss: 0.0279(0.0876) Grad: 0.1025 LR: 0.000061  \n",
      "Epoch: [5][600/1316] Elapsed 3m 41s (remain 4m 22s) Loss: 0.0775(0.0874) Grad: 0.1806 LR: 0.000059  \n",
      "Epoch: [5][700/1316] Elapsed 4m 18s (remain 3m 46s) Loss: 0.0332(0.0877) Grad: 0.1751 LR: 0.000058  \n",
      "Epoch: [5][800/1316] Elapsed 4m 54s (remain 3m 9s) Loss: 0.0596(0.0876) Grad: 0.1362 LR: 0.000057  \n",
      "Epoch: [5][900/1316] Elapsed 5m 31s (remain 2m 32s) Loss: 0.0457(0.0877) Grad: 0.0935 LR: 0.000056  \n",
      "Epoch: [5][1000/1316] Elapsed 6m 7s (remain 1m 55s) Loss: 0.0548(0.0871) Grad: 0.2382 LR: 0.000055  \n",
      "Epoch: [5][1100/1316] Elapsed 6m 44s (remain 1m 18s) Loss: 0.1107(0.0868) Grad: 0.2043 LR: 0.000054  \n",
      "Epoch: [5][1200/1316] Elapsed 7m 20s (remain 0m 42s) Loss: 0.0794(0.0870) Grad: 0.1642 LR: 0.000052  \n",
      "Epoch: [5][1300/1316] Elapsed 7m 57s (remain 0m 5s) Loss: 0.0578(0.0867) Grad: 0.1830 LR: 0.000051  \n",
      "Epoch: [5][1315/1316] Elapsed 8m 3s (remain 0m 0s) Loss: 0.1130(0.0867) Grad: 0.1446 LR: 0.000051  \n",
      "EVAL: [0/330] Elapsed 0m 0s (remain 5m 24s) Loss: 0.0236(0.0236) \n",
      "EVAL: [100/330] Elapsed 0m 12s (remain 0m 29s) Loss: 0.0420(0.0416) \n",
      "EVAL: [200/330] Elapsed 0m 24s (remain 0m 15s) Loss: 0.0661(0.0416) \n",
      "EVAL: [300/330] Elapsed 0m 35s (remain 0m 3s) Loss: 0.0496(0.0414) \n"
     ]
    },
    {
     "name": "stderr",
     "output_type": "stream",
     "text": [
      "Epoch 5 - avg_train_loss: 0.0867  avg_val_loss: 0.0410  time: 522s\n",
      "Epoch 5 - Accuracy: 0.9460793620656921\n",
      "Epoch 5 - Save Best Score: 0.9461 Model\n"
     ]
    },
    {
     "name": "stdout",
     "output_type": "stream",
     "text": [
      "EVAL: [329/330] Elapsed 0m 38s (remain 0m 0s) Loss: 0.0622(0.0410) \n",
      "Epoch: [6][0/1316] Elapsed 0m 1s (remain 29m 23s) Loss: 0.0706(0.0706) Grad: 0.2289 LR: 0.000051  \n",
      "Epoch: [6][100/1316] Elapsed 0m 38s (remain 7m 49s) Loss: 0.1427(0.0842) Grad: 0.1417 LR: 0.000050  \n",
      "Epoch: [6][200/1316] Elapsed 1m 15s (remain 6m 59s) Loss: 0.0931(0.0852) Grad: 0.1075 LR: 0.000049  \n",
      "Epoch: [6][300/1316] Elapsed 1m 52s (remain 6m 18s) Loss: 0.1114(0.0855) Grad: 0.1089 LR: 0.000048  \n",
      "Epoch: [6][400/1316] Elapsed 2m 28s (remain 5m 39s) Loss: 0.0856(0.0860) Grad: 0.1508 LR: 0.000046  \n",
      "Epoch: [6][500/1316] Elapsed 3m 5s (remain 5m 1s) Loss: 0.1104(0.0864) Grad: 0.1721 LR: 0.000045  \n",
      "Epoch: [6][600/1316] Elapsed 3m 42s (remain 4m 24s) Loss: 0.0623(0.0852) Grad: 0.1407 LR: 0.000044  \n",
      "Epoch: [6][700/1316] Elapsed 4m 19s (remain 3m 47s) Loss: 0.0636(0.0850) Grad: 0.1099 LR: 0.000043  \n",
      "Epoch: [6][800/1316] Elapsed 4m 55s (remain 3m 10s) Loss: 0.0513(0.0850) Grad: 0.2650 LR: 0.000042  \n",
      "Epoch: [6][900/1316] Elapsed 5m 33s (remain 2m 33s) Loss: 0.1267(0.0846) Grad: 0.1004 LR: 0.000041  \n",
      "Epoch: [6][1000/1316] Elapsed 6m 10s (remain 1m 56s) Loss: 0.0729(0.0847) Grad: 0.1181 LR: 0.000039  \n",
      "Epoch: [6][1100/1316] Elapsed 6m 47s (remain 1m 19s) Loss: 0.0426(0.0843) Grad: 0.2096 LR: 0.000038  \n",
      "Epoch: [6][1200/1316] Elapsed 7m 25s (remain 0m 42s) Loss: 0.0340(0.0846) Grad: 0.1353 LR: 0.000037  \n",
      "Epoch: [6][1300/1316] Elapsed 8m 1s (remain 0m 5s) Loss: 0.1284(0.0852) Grad: 0.1567 LR: 0.000036  \n",
      "Epoch: [6][1315/1316] Elapsed 8m 7s (remain 0m 0s) Loss: 0.0396(0.0852) Grad: 0.1937 LR: 0.000036  \n",
      "EVAL: [0/330] Elapsed 0m 0s (remain 4m 20s) Loss: 0.0258(0.0258) \n",
      "EVAL: [100/330] Elapsed 0m 12s (remain 0m 28s) Loss: 0.0566(0.0429) \n",
      "EVAL: [200/330] Elapsed 0m 24s (remain 0m 15s) Loss: 0.0655(0.0428) \n",
      "EVAL: [300/330] Elapsed 0m 35s (remain 0m 3s) Loss: 0.0500(0.0427) \n"
     ]
    },
    {
     "name": "stderr",
     "output_type": "stream",
     "text": [
      "Epoch 6 - avg_train_loss: 0.0852  avg_val_loss: 0.0422  time: 526s\n",
      "Epoch 6 - Accuracy: 0.9382950446174293\n"
     ]
    },
    {
     "name": "stdout",
     "output_type": "stream",
     "text": [
      "EVAL: [329/330] Elapsed 0m 38s (remain 0m 0s) Loss: 0.0363(0.0422) \n",
      "Epoch: [7][0/1316] Elapsed 0m 1s (remain 30m 20s) Loss: 0.0397(0.0397) Grad: 0.2070 LR: 0.000036  \n",
      "Epoch: [7][100/1316] Elapsed 0m 37s (remain 7m 28s) Loss: 0.0936(0.0657) Grad: 0.1300 LR: 0.000035  \n",
      "Epoch: [7][200/1316] Elapsed 1m 13s (remain 6m 46s) Loss: 0.0227(0.0630) Grad: 0.0837 LR: 0.000034  \n",
      "Epoch: [7][300/1316] Elapsed 1m 49s (remain 6m 8s) Loss: 0.0297(0.0625) Grad: 0.1378 LR: 0.000033  \n",
      "Epoch: [7][400/1316] Elapsed 2m 25s (remain 5m 30s) Loss: 0.1146(0.0631) Grad: 0.3840 LR: 0.000032  \n",
      "Epoch: [7][500/1316] Elapsed 3m 1s (remain 4m 54s) Loss: 0.0277(0.0635) Grad: 0.1565 LR: 0.000030  \n",
      "Epoch: [7][600/1316] Elapsed 3m 37s (remain 4m 18s) Loss: 0.0438(0.0634) Grad: 0.2470 LR: 0.000029  \n",
      "Epoch: [7][700/1316] Elapsed 4m 12s (remain 3m 41s) Loss: 0.0744(0.0638) Grad: 0.2826 LR: 0.000028  \n",
      "Epoch: [7][800/1316] Elapsed 4m 48s (remain 3m 5s) Loss: 0.0543(0.0635) Grad: 0.1509 LR: 0.000027  \n",
      "Epoch: [7][900/1316] Elapsed 5m 24s (remain 2m 29s) Loss: 0.0625(0.0634) Grad: 0.2723 LR: 0.000026  \n",
      "Epoch: [7][1000/1316] Elapsed 6m 0s (remain 1m 53s) Loss: 0.0636(0.0637) Grad: 0.2916 LR: 0.000025  \n",
      "Epoch: [7][1100/1316] Elapsed 6m 36s (remain 1m 17s) Loss: 0.0953(0.0638) Grad: 0.2950 LR: 0.000024  \n",
      "Epoch: [7][1200/1316] Elapsed 7m 13s (remain 0m 41s) Loss: 0.0341(0.0634) Grad: 0.1459 LR: 0.000023  \n",
      "Epoch: [7][1300/1316] Elapsed 7m 51s (remain 0m 5s) Loss: 0.1274(0.0634) Grad: 0.0591 LR: 0.000022  \n",
      "Epoch: [7][1315/1316] Elapsed 7m 56s (remain 0m 0s) Loss: 0.0239(0.0632) Grad: 0.2551 LR: 0.000022  \n",
      "EVAL: [0/330] Elapsed 0m 0s (remain 5m 11s) Loss: 0.0203(0.0203) \n",
      "EVAL: [100/330] Elapsed 0m 12s (remain 0m 28s) Loss: 0.0384(0.0373) \n",
      "EVAL: [200/330] Elapsed 0m 24s (remain 0m 15s) Loss: 0.0632(0.0377) \n",
      "EVAL: [300/330] Elapsed 0m 35s (remain 0m 3s) Loss: 0.0395(0.0377) \n"
     ]
    },
    {
     "name": "stderr",
     "output_type": "stream",
     "text": [
      "Epoch 7 - avg_train_loss: 0.0632  avg_val_loss: 0.0374  time: 515s\n",
      "Epoch 7 - Accuracy: 0.9466489462692235\n",
      "Epoch 7 - Save Best Score: 0.9466 Model\n"
     ]
    },
    {
     "name": "stdout",
     "output_type": "stream",
     "text": [
      "EVAL: [329/330] Elapsed 0m 38s (remain 0m 0s) Loss: 0.0939(0.0374) \n",
      "Epoch: [8][0/1316] Elapsed 0m 1s (remain 29m 46s) Loss: 0.0417(0.0417) Grad: 0.2245 LR: 0.000022  \n",
      "Epoch: [8][100/1316] Elapsed 0m 37s (remain 7m 27s) Loss: 0.0804(0.0562) Grad: 0.1157 LR: 0.000021  \n",
      "Epoch: [8][200/1316] Elapsed 1m 13s (remain 6m 46s) Loss: 0.0323(0.0617) Grad: 0.1630 LR: 0.000020  \n",
      "Epoch: [8][300/1316] Elapsed 1m 49s (remain 6m 8s) Loss: 0.0497(0.0628) Grad: 0.2258 LR: 0.000020  \n",
      "Epoch: [8][400/1316] Elapsed 2m 24s (remain 5m 30s) Loss: 0.0899(0.0619) Grad: 0.1566 LR: 0.000019  \n",
      "Epoch: [8][500/1316] Elapsed 3m 1s (remain 4m 55s) Loss: 0.1387(0.0622) Grad: 0.1909 LR: 0.000018  \n",
      "Epoch: [8][600/1316] Elapsed 3m 37s (remain 4m 19s) Loss: 0.0384(0.0618) Grad: 0.0777 LR: 0.000017  \n",
      "Epoch: [8][700/1316] Elapsed 4m 13s (remain 3m 42s) Loss: 0.0315(0.0612) Grad: 0.2026 LR: 0.000016  \n",
      "Epoch: [8][800/1316] Elapsed 4m 48s (remain 3m 5s) Loss: 0.1173(0.0603) Grad: 0.1270 LR: 0.000015  \n",
      "Epoch: [8][900/1316] Elapsed 5m 24s (remain 2m 29s) Loss: 0.0813(0.0607) Grad: 0.1210 LR: 0.000014  \n",
      "Epoch: [8][1000/1316] Elapsed 6m 0s (remain 1m 53s) Loss: 0.1442(0.0609) Grad: 0.2426 LR: 0.000014  \n",
      "Epoch: [8][1100/1316] Elapsed 6m 36s (remain 1m 17s) Loss: 0.0268(0.0610) Grad: 0.1332 LR: 0.000013  \n",
      "Epoch: [8][1200/1316] Elapsed 7m 12s (remain 0m 41s) Loss: 0.0463(0.0611) Grad: 0.2255 LR: 0.000012  \n",
      "Epoch: [8][1300/1316] Elapsed 7m 48s (remain 0m 5s) Loss: 0.0272(0.0609) Grad: 0.1732 LR: 0.000012  \n",
      "Epoch: [8][1315/1316] Elapsed 7m 53s (remain 0m 0s) Loss: 0.0429(0.0609) Grad: 0.2580 LR: 0.000011  \n",
      "EVAL: [0/330] Elapsed 0m 0s (remain 4m 36s) Loss: 0.0207(0.0207) \n",
      "EVAL: [100/330] Elapsed 0m 13s (remain 0m 29s) Loss: 0.0416(0.0369) \n",
      "EVAL: [200/330] Elapsed 0m 24s (remain 0m 15s) Loss: 0.0626(0.0376) \n",
      "EVAL: [300/330] Elapsed 0m 36s (remain 0m 3s) Loss: 0.0485(0.0376) \n"
     ]
    },
    {
     "name": "stderr",
     "output_type": "stream",
     "text": [
      "Epoch 8 - avg_train_loss: 0.0609  avg_val_loss: 0.0372  time: 513s\n",
      "Epoch 8 - Accuracy: 0.9485475602809949\n",
      "Epoch 8 - Save Best Score: 0.9485 Model\n"
     ]
    },
    {
     "name": "stdout",
     "output_type": "stream",
     "text": [
      "EVAL: [329/330] Elapsed 0m 38s (remain 0m 0s) Loss: 0.0866(0.0372) \n",
      "Epoch: [9][0/1316] Elapsed 0m 1s (remain 29m 8s) Loss: 0.0824(0.0824) Grad: 0.2030 LR: 0.000011  \n",
      "Epoch: [9][100/1316] Elapsed 0m 37s (remain 7m 32s) Loss: 0.0648(0.0613) Grad: 0.2663 LR: 0.000011  \n",
      "Epoch: [9][200/1316] Elapsed 1m 14s (remain 6m 51s) Loss: 0.0394(0.0642) Grad: 0.1696 LR: 0.000010  \n",
      "Epoch: [9][300/1316] Elapsed 1m 50s (remain 6m 11s) Loss: 0.0508(0.0642) Grad: 0.2166 LR: 0.000009  \n",
      "Epoch: [9][400/1316] Elapsed 2m 26s (remain 5m 33s) Loss: 0.0201(0.0643) Grad: 0.0852 LR: 0.000009  \n",
      "Epoch: [9][500/1316] Elapsed 3m 2s (remain 4m 56s) Loss: 0.0394(0.0655) Grad: 0.1473 LR: 0.000008  \n",
      "Epoch: [9][600/1316] Elapsed 3m 38s (remain 4m 19s) Loss: 0.0575(0.0644) Grad: 0.2046 LR: 0.000008  \n",
      "Epoch: [9][700/1316] Elapsed 4m 14s (remain 3m 43s) Loss: 0.1458(0.0646) Grad: 0.1669 LR: 0.000007  \n",
      "Epoch: [9][800/1316] Elapsed 4m 50s (remain 3m 6s) Loss: 0.0272(0.0640) Grad: 0.1781 LR: 0.000007  \n",
      "Epoch: [9][900/1316] Elapsed 5m 27s (remain 2m 30s) Loss: 0.0357(0.0637) Grad: 0.1589 LR: 0.000006  \n",
      "Epoch: [9][1000/1316] Elapsed 6m 3s (remain 1m 54s) Loss: 0.0656(0.0636) Grad: 0.2293 LR: 0.000006  \n",
      "Epoch: [9][1100/1316] Elapsed 6m 39s (remain 1m 18s) Loss: 0.0530(0.0629) Grad: 0.1552 LR: 0.000005  \n",
      "Epoch: [9][1200/1316] Elapsed 7m 15s (remain 0m 41s) Loss: 0.0628(0.0629) Grad: 0.1867 LR: 0.000005  \n",
      "Epoch: [9][1300/1316] Elapsed 7m 51s (remain 0m 5s) Loss: 0.1004(0.0624) Grad: 0.3256 LR: 0.000004  \n",
      "Epoch: [9][1315/1316] Elapsed 7m 56s (remain 0m 0s) Loss: 0.0243(0.0623) Grad: 0.1778 LR: 0.000004  \n",
      "EVAL: [0/330] Elapsed 0m 0s (remain 4m 29s) Loss: 0.0202(0.0202) \n",
      "EVAL: [100/330] Elapsed 0m 12s (remain 0m 28s) Loss: 0.0523(0.0389) \n",
      "EVAL: [200/330] Elapsed 0m 24s (remain 0m 15s) Loss: 0.0579(0.0389) \n",
      "EVAL: [300/330] Elapsed 0m 36s (remain 0m 3s) Loss: 0.0414(0.0388) \n"
     ]
    },
    {
     "name": "stderr",
     "output_type": "stream",
     "text": [
      "Epoch 9 - avg_train_loss: 0.0623  avg_val_loss: 0.0383  time: 515s\n",
      "Epoch 9 - Accuracy: 0.9477881146762863\n"
     ]
    },
    {
     "name": "stdout",
     "output_type": "stream",
     "text": [
      "EVAL: [329/330] Elapsed 0m 39s (remain 0m 0s) Loss: 0.0584(0.0383) \n",
      "Epoch: [10][0/1316] Elapsed 0m 1s (remain 26m 57s) Loss: 0.0247(0.0247) Grad: 0.1001 LR: 0.000004  \n",
      "Epoch: [10][100/1316] Elapsed 0m 36s (remain 7m 19s) Loss: 0.0224(0.0303) Grad: 0.0711 LR: 0.000004  \n",
      "Epoch: [10][200/1316] Elapsed 1m 10s (remain 6m 31s) Loss: 0.0276(0.0289) Grad: 0.1085 LR: 0.000004  \n",
      "Epoch: [10][300/1316] Elapsed 1m 44s (remain 5m 53s) Loss: 0.0352(0.0291) Grad: 0.1939 LR: 0.000003  \n",
      "Epoch: [10][400/1316] Elapsed 2m 19s (remain 5m 18s) Loss: 0.0369(0.0286) Grad: 0.2841 LR: 0.000003  \n",
      "Epoch: [10][500/1316] Elapsed 2m 53s (remain 4m 42s) Loss: 0.0182(0.0278) Grad: 0.0355 LR: 0.000003  \n",
      "Epoch: [10][600/1316] Elapsed 3m 27s (remain 4m 7s) Loss: 0.0269(0.0277) Grad: 0.1639 LR: 0.000003  \n",
      "Epoch: [10][700/1316] Elapsed 4m 1s (remain 3m 32s) Loss: 0.0440(0.0275) Grad: 0.2204 LR: 0.000003  \n",
      "Epoch: [10][800/1316] Elapsed 4m 36s (remain 2m 57s) Loss: 0.0195(0.0276) Grad: 0.0443 LR: 0.000002  \n",
      "Epoch: [10][900/1316] Elapsed 5m 10s (remain 2m 23s) Loss: 0.0231(0.0273) Grad: 0.0986 LR: 0.000002  \n",
      "Epoch: [10][1000/1316] Elapsed 5m 44s (remain 1m 48s) Loss: 0.0371(0.0272) Grad: 0.2014 LR: 0.000002  \n",
      "Epoch: [10][1100/1316] Elapsed 6m 19s (remain 1m 14s) Loss: 0.0376(0.0270) Grad: 0.2486 LR: 0.000002  \n",
      "Epoch: [10][1200/1316] Elapsed 6m 53s (remain 0m 39s) Loss: 0.0267(0.0269) Grad: 0.1389 LR: 0.000002  \n",
      "Epoch: [10][1300/1316] Elapsed 7m 28s (remain 0m 5s) Loss: 0.0191(0.0267) Grad: 0.0312 LR: 0.000002  \n",
      "Epoch: [10][1315/1316] Elapsed 7m 33s (remain 0m 0s) Loss: 0.0211(0.0267) Grad: 0.2311 LR: 0.000002  \n",
      "EVAL: [0/330] Elapsed 0m 0s (remain 4m 46s) Loss: 0.0186(0.0186) \n",
      "EVAL: [100/330] Elapsed 0m 12s (remain 0m 28s) Loss: 0.0448(0.0378) \n",
      "EVAL: [200/330] Elapsed 0m 24s (remain 0m 15s) Loss: 0.0616(0.0379) \n",
      "EVAL: [300/330] Elapsed 0m 35s (remain 0m 3s) Loss: 0.0564(0.0383) \n"
     ]
    },
    {
     "name": "stderr",
     "output_type": "stream",
     "text": [
      "Epoch 10 - avg_train_loss: 0.0267  avg_val_loss: 0.0381  time: 492s\n",
      "Epoch 10 - Accuracy: 0.9417125498386179\n",
      "Epoch 10 - Save final model\n"
     ]
    },
    {
     "name": "stdout",
     "output_type": "stream",
     "text": [
      "EVAL: [329/330] Elapsed 0m 38s (remain 0m 0s) Loss: 0.1356(0.0381) \n"
     ]
    },
    {
     "name": "stderr",
     "output_type": "stream",
     "text": [
      "========== fold: 3 result ==========\n",
      "Score: 0.94855\n",
      "========== fold: 4 training ==========\n"
     ]
    },
    {
     "name": "stdout",
     "output_type": "stream",
     "text": [
      "Epoch: [1][0/1316] Elapsed 0m 1s (remain 25m 26s) Loss: 0.2359(0.2359) Grad: 0.1905 LR: 0.000100  \n",
      "Epoch: [1][100/1316] Elapsed 0m 37s (remain 7m 29s) Loss: 0.1355(0.1559) Grad: 0.2213 LR: 0.000100  \n",
      "Epoch: [1][200/1316] Elapsed 1m 13s (remain 6m 46s) Loss: 0.1571(0.1277) Grad: 0.3182 LR: 0.000100  \n",
      "Epoch: [1][300/1316] Elapsed 1m 48s (remain 6m 7s) Loss: 0.0512(0.1120) Grad: 0.1897 LR: 0.000100  \n",
      "Epoch: [1][400/1316] Elapsed 2m 24s (remain 5m 30s) Loss: 0.0574(0.1023) Grad: 0.2393 LR: 0.000100  \n",
      "Epoch: [1][500/1316] Elapsed 3m 0s (remain 4m 53s) Loss: 0.0606(0.0954) Grad: 0.2554 LR: 0.000100  \n",
      "Epoch: [1][600/1316] Elapsed 3m 36s (remain 4m 17s) Loss: 0.0597(0.0903) Grad: 0.2082 LR: 0.000099  \n",
      "Epoch: [1][700/1316] Elapsed 4m 12s (remain 3m 41s) Loss: 0.0919(0.0855) Grad: 0.2185 LR: 0.000099  \n",
      "Epoch: [1][800/1316] Elapsed 4m 48s (remain 3m 5s) Loss: 0.0481(0.0826) Grad: 0.1406 LR: 0.000099  \n",
      "Epoch: [1][900/1316] Elapsed 5m 25s (remain 2m 29s) Loss: 0.0658(0.0798) Grad: 0.2621 LR: 0.000099  \n",
      "Epoch: [1][1000/1316] Elapsed 6m 1s (remain 1m 53s) Loss: 0.0402(0.0774) Grad: 0.1949 LR: 0.000099  \n",
      "Epoch: [1][1100/1316] Elapsed 6m 37s (remain 1m 17s) Loss: 0.0520(0.0753) Grad: 0.1769 LR: 0.000098  \n",
      "Epoch: [1][1200/1316] Elapsed 7m 13s (remain 0m 41s) Loss: 0.0770(0.0737) Grad: 0.3498 LR: 0.000098  \n",
      "Epoch: [1][1300/1316] Elapsed 7m 49s (remain 0m 5s) Loss: 0.0254(0.0722) Grad: 0.0973 LR: 0.000098  \n",
      "Epoch: [1][1315/1316] Elapsed 7m 54s (remain 0m 0s) Loss: 0.0350(0.0720) Grad: 0.2509 LR: 0.000098  \n",
      "EVAL: [0/330] Elapsed 0m 0s (remain 4m 26s) Loss: 0.0558(0.0558) \n",
      "EVAL: [100/330] Elapsed 0m 12s (remain 0m 29s) Loss: 0.0427(0.0461) \n",
      "EVAL: [200/330] Elapsed 0m 24s (remain 0m 15s) Loss: 0.0320(0.0430) \n",
      "EVAL: [300/330] Elapsed 0m 36s (remain 0m 3s) Loss: 0.0691(0.0440) \n"
     ]
    },
    {
     "name": "stderr",
     "output_type": "stream",
     "text": [
      "Epoch 1 - avg_train_loss: 0.0720  avg_val_loss: 0.0440  time: 514s\n",
      "Epoch 1 - Accuracy: 0.9288019745585723\n",
      "Epoch 1 - Save Best Score: 0.9288 Model\n"
     ]
    },
    {
     "name": "stdout",
     "output_type": "stream",
     "text": [
      "EVAL: [329/330] Elapsed 0m 39s (remain 0m 0s) Loss: 0.1838(0.0440) \n",
      "Epoch: [2][0/1316] Elapsed 0m 1s (remain 24m 37s) Loss: 0.0403(0.0403) Grad: 0.1916 LR: 0.000098  \n",
      "Epoch: [2][100/1316] Elapsed 0m 37s (remain 7m 25s) Loss: 0.0367(0.0370) Grad: 0.1803 LR: 0.000097  \n",
      "Epoch: [2][200/1316] Elapsed 1m 12s (remain 6m 43s) Loss: 0.0295(0.0387) Grad: 0.1848 LR: 0.000097  \n",
      "Epoch: [2][300/1316] Elapsed 1m 48s (remain 6m 5s) Loss: 0.0190(0.0382) Grad: 0.0275 LR: 0.000096  \n",
      "Epoch: [2][400/1316] Elapsed 2m 24s (remain 5m 28s) Loss: 0.0469(0.0382) Grad: 0.2984 LR: 0.000096  \n",
      "Epoch: [2][500/1316] Elapsed 2m 59s (remain 4m 52s) Loss: 0.0456(0.0379) Grad: 0.2321 LR: 0.000095  \n",
      "Epoch: [2][600/1316] Elapsed 3m 35s (remain 4m 16s) Loss: 0.0323(0.0382) Grad: 0.1580 LR: 0.000095  \n",
      "Epoch: [2][700/1316] Elapsed 4m 11s (remain 3m 40s) Loss: 0.0458(0.0384) Grad: 0.1911 LR: 0.000094  \n",
      "Epoch: [2][800/1316] Elapsed 4m 47s (remain 3m 4s) Loss: 0.0273(0.0384) Grad: 0.1319 LR: 0.000094  \n",
      "Epoch: [2][900/1316] Elapsed 5m 23s (remain 2m 28s) Loss: 0.0277(0.0383) Grad: 0.1649 LR: 0.000093  \n",
      "Epoch: [2][1000/1316] Elapsed 5m 59s (remain 1m 53s) Loss: 0.0472(0.0384) Grad: 0.3462 LR: 0.000093  \n",
      "Epoch: [2][1100/1316] Elapsed 6m 34s (remain 1m 17s) Loss: 0.0436(0.0383) Grad: 0.2272 LR: 0.000092  \n",
      "Epoch: [2][1200/1316] Elapsed 7m 10s (remain 0m 41s) Loss: 0.0443(0.0383) Grad: 0.3528 LR: 0.000091  \n",
      "Epoch: [2][1300/1316] Elapsed 7m 46s (remain 0m 5s) Loss: 0.0205(0.0384) Grad: 0.0532 LR: 0.000091  \n",
      "Epoch: [2][1315/1316] Elapsed 7m 51s (remain 0m 0s) Loss: 0.0407(0.0384) Grad: 0.2455 LR: 0.000091  \n",
      "EVAL: [0/330] Elapsed 0m 0s (remain 4m 13s) Loss: 0.0535(0.0535) \n",
      "EVAL: [100/330] Elapsed 0m 13s (remain 0m 29s) Loss: 0.0565(0.0494) \n",
      "EVAL: [200/330] Elapsed 0m 25s (remain 0m 16s) Loss: 0.0363(0.0469) \n",
      "EVAL: [300/330] Elapsed 0m 36s (remain 0m 3s) Loss: 0.0546(0.0469) \n"
     ]
    },
    {
     "name": "stderr",
     "output_type": "stream",
     "text": [
      "Epoch 2 - avg_train_loss: 0.0384  avg_val_loss: 0.0465  time: 511s\n",
      "Epoch 2 - Accuracy: 0.9210176571103095\n"
     ]
    },
    {
     "name": "stdout",
     "output_type": "stream",
     "text": [
      "EVAL: [329/330] Elapsed 0m 39s (remain 0m 0s) Loss: 0.0960(0.0465) \n",
      "Epoch: [3][0/1316] Elapsed 0m 1s (remain 29m 23s) Loss: 0.0901(0.0901) Grad: 0.2592 LR: 0.000091  \n",
      "Epoch: [3][100/1316] Elapsed 0m 39s (remain 8m 0s) Loss: 0.0828(0.1054) Grad: 0.2602 LR: 0.000090  \n",
      "Epoch: [3][200/1316] Elapsed 1m 18s (remain 7m 15s) Loss: 0.1160(0.1018) Grad: 0.1353 LR: 0.000089  \n",
      "Epoch: [3][300/1316] Elapsed 1m 56s (remain 6m 34s) Loss: 0.1408(0.1006) Grad: 0.1422 LR: 0.000088  \n",
      "Epoch: [3][400/1316] Elapsed 2m 35s (remain 5m 53s) Loss: 0.0810(0.0988) Grad: 0.2612 LR: 0.000088  \n",
      "Epoch: [3][500/1316] Elapsed 3m 13s (remain 5m 15s) Loss: 0.0494(0.0987) Grad: 0.1444 LR: 0.000087  \n",
      "Epoch: [3][600/1316] Elapsed 3m 52s (remain 4m 36s) Loss: 0.0881(0.0988) Grad: 0.2279 LR: 0.000086  \n",
      "Epoch: [3][700/1316] Elapsed 4m 31s (remain 3m 57s) Loss: 0.0423(0.0978) Grad: 0.1859 LR: 0.000085  \n",
      "Epoch: [3][800/1316] Elapsed 5m 9s (remain 3m 19s) Loss: 0.0633(0.0980) Grad: 0.1303 LR: 0.000084  \n",
      "Epoch: [3][900/1316] Elapsed 5m 48s (remain 2m 40s) Loss: 0.0993(0.0981) Grad: 0.1174 LR: 0.000084  \n",
      "Epoch: [3][1000/1316] Elapsed 6m 26s (remain 2m 1s) Loss: 0.0293(0.0978) Grad: 0.1230 LR: 0.000083  \n",
      "Epoch: [3][1100/1316] Elapsed 7m 4s (remain 1m 22s) Loss: 0.1373(0.0977) Grad: 0.1647 LR: 0.000082  \n",
      "Epoch: [3][1200/1316] Elapsed 7m 42s (remain 0m 44s) Loss: 0.0967(0.0974) Grad: 0.2737 LR: 0.000081  \n",
      "Epoch: [3][1300/1316] Elapsed 8m 20s (remain 0m 5s) Loss: 0.1250(0.0974) Grad: 0.1418 LR: 0.000080  \n",
      "Epoch: [3][1315/1316] Elapsed 8m 26s (remain 0m 0s) Loss: 0.1132(0.0973) Grad: 0.2132 LR: 0.000080  \n",
      "EVAL: [0/330] Elapsed 0m 0s (remain 4m 37s) Loss: 0.0438(0.0438) \n",
      "EVAL: [100/330] Elapsed 0m 12s (remain 0m 29s) Loss: 0.0260(0.0474) \n",
      "EVAL: [200/330] Elapsed 0m 24s (remain 0m 15s) Loss: 0.0434(0.0450) \n",
      "EVAL: [300/330] Elapsed 0m 36s (remain 0m 3s) Loss: 0.0659(0.0453) \n"
     ]
    },
    {
     "name": "stderr",
     "output_type": "stream",
     "text": [
      "Epoch 3 - avg_train_loss: 0.0973  avg_val_loss: 0.0454  time: 546s\n",
      "Epoch 3 - Accuracy: 0.9362065692044808\n",
      "Epoch 3 - Save Best Score: 0.9362 Model\n"
     ]
    },
    {
     "name": "stdout",
     "output_type": "stream",
     "text": [
      "EVAL: [329/330] Elapsed 0m 39s (remain 0m 0s) Loss: 0.1354(0.0454) \n",
      "Epoch: [4][0/1316] Elapsed 0m 1s (remain 29m 53s) Loss: 0.1645(0.1645) Grad: 0.1799 LR: 0.000080  \n",
      "Epoch: [4][100/1316] Elapsed 0m 39s (remain 7m 58s) Loss: 0.1360(0.0969) Grad: 0.1382 LR: 0.000079  \n",
      "Epoch: [4][200/1316] Elapsed 1m 18s (remain 7m 12s) Loss: 0.1451(0.0962) Grad: 0.1782 LR: 0.000078  \n",
      "Epoch: [4][300/1316] Elapsed 1m 56s (remain 6m 33s) Loss: 0.1341(0.0961) Grad: 0.1195 LR: 0.000077  \n",
      "Epoch: [4][400/1316] Elapsed 2m 35s (remain 5m 54s) Loss: 0.0613(0.0954) Grad: 0.1951 LR: 0.000076  \n",
      "Epoch: [4][500/1316] Elapsed 3m 13s (remain 5m 15s) Loss: 0.0422(0.0928) Grad: 0.1575 LR: 0.000075  \n",
      "Epoch: [4][600/1316] Elapsed 3m 52s (remain 4m 36s) Loss: 0.0936(0.0939) Grad: 0.1667 LR: 0.000074  \n",
      "Epoch: [4][700/1316] Elapsed 4m 30s (remain 3m 57s) Loss: 0.0284(0.0930) Grad: 0.1308 LR: 0.000073  \n",
      "Epoch: [4][800/1316] Elapsed 5m 9s (remain 3m 18s) Loss: 0.1028(0.0928) Grad: 0.2463 LR: 0.000072  \n",
      "Epoch: [4][900/1316] Elapsed 5m 47s (remain 2m 39s) Loss: 0.1073(0.0931) Grad: 0.0982 LR: 0.000071  \n",
      "Epoch: [4][1000/1316] Elapsed 6m 25s (remain 2m 1s) Loss: 0.0284(0.0920) Grad: 0.1076 LR: 0.000070  \n",
      "Epoch: [4][1100/1316] Elapsed 7m 3s (remain 1m 22s) Loss: 0.0926(0.0917) Grad: 0.1228 LR: 0.000069  \n",
      "Epoch: [4][1200/1316] Elapsed 7m 42s (remain 0m 44s) Loss: 0.1142(0.0914) Grad: 0.1772 LR: 0.000067  \n",
      "Epoch: [4][1300/1316] Elapsed 8m 20s (remain 0m 5s) Loss: 0.1443(0.0909) Grad: 0.1217 LR: 0.000066  \n",
      "Epoch: [4][1315/1316] Elapsed 8m 26s (remain 0m 0s) Loss: 0.0652(0.0911) Grad: 0.2135 LR: 0.000066  \n",
      "EVAL: [0/330] Elapsed 0m 0s (remain 4m 34s) Loss: 0.0406(0.0406) \n",
      "EVAL: [100/330] Elapsed 0m 12s (remain 0m 29s) Loss: 0.0274(0.0427) \n",
      "EVAL: [200/330] Elapsed 0m 24s (remain 0m 15s) Loss: 0.0397(0.0415) \n",
      "EVAL: [300/330] Elapsed 0m 36s (remain 0m 3s) Loss: 0.0441(0.0419) \n"
     ]
    },
    {
     "name": "stderr",
     "output_type": "stream",
     "text": [
      "Epoch 4 - avg_train_loss: 0.0911  avg_val_loss: 0.0421  time: 546s\n",
      "Epoch 4 - Accuracy: 0.9407632428327322\n",
      "Epoch 4 - Save Best Score: 0.9408 Model\n"
     ]
    },
    {
     "name": "stdout",
     "output_type": "stream",
     "text": [
      "EVAL: [329/330] Elapsed 0m 39s (remain 0m 0s) Loss: 0.1662(0.0421) \n",
      "Epoch: [5][0/1316] Elapsed 0m 1s (remain 29m 35s) Loss: 0.0301(0.0301) Grad: 0.1528 LR: 0.000066  \n",
      "Epoch: [5][100/1316] Elapsed 0m 39s (remain 7m 59s) Loss: 0.1105(0.0839) Grad: 0.1141 LR: 0.000065  \n",
      "Epoch: [5][200/1316] Elapsed 1m 18s (remain 7m 13s) Loss: 0.0816(0.0849) Grad: 0.0836 LR: 0.000064  \n",
      "Epoch: [5][300/1316] Elapsed 1m 56s (remain 6m 33s) Loss: 0.0429(0.0878) Grad: 0.1085 LR: 0.000063  \n",
      "Epoch: [5][400/1316] Elapsed 2m 35s (remain 5m 54s) Loss: 0.0336(0.0883) Grad: 0.1154 LR: 0.000062  \n",
      "Epoch: [5][500/1316] Elapsed 3m 13s (remain 5m 15s) Loss: 0.0258(0.0870) Grad: 0.0615 LR: 0.000061  \n",
      "Epoch: [5][600/1316] Elapsed 3m 52s (remain 4m 36s) Loss: 0.1119(0.0859) Grad: 0.1641 LR: 0.000059  \n",
      "Epoch: [5][700/1316] Elapsed 4m 30s (remain 3m 57s) Loss: 0.0773(0.0861) Grad: 0.2761 LR: 0.000058  \n",
      "Epoch: [5][800/1316] Elapsed 5m 8s (remain 3m 18s) Loss: 0.0907(0.0865) Grad: 0.1247 LR: 0.000057  \n",
      "Epoch: [5][900/1316] Elapsed 5m 46s (remain 2m 39s) Loss: 0.1026(0.0863) Grad: 0.1811 LR: 0.000056  \n",
      "Epoch: [5][1000/1316] Elapsed 6m 25s (remain 2m 1s) Loss: 0.0285(0.0861) Grad: 0.0975 LR: 0.000055  \n",
      "Epoch: [5][1100/1316] Elapsed 7m 3s (remain 1m 22s) Loss: 0.0479(0.0859) Grad: 0.1280 LR: 0.000054  \n",
      "Epoch: [5][1200/1316] Elapsed 7m 40s (remain 0m 44s) Loss: 0.1409(0.0859) Grad: 0.1657 LR: 0.000052  \n",
      "Epoch: [5][1300/1316] Elapsed 8m 19s (remain 0m 5s) Loss: 0.0476(0.0857) Grad: 0.2042 LR: 0.000051  \n",
      "Epoch: [5][1315/1316] Elapsed 8m 24s (remain 0m 0s) Loss: 0.0346(0.0858) Grad: 0.2802 LR: 0.000051  \n",
      "EVAL: [0/330] Elapsed 0m 0s (remain 4m 48s) Loss: 0.0430(0.0430) \n",
      "EVAL: [100/330] Elapsed 0m 12s (remain 0m 29s) Loss: 0.0270(0.0419) \n",
      "EVAL: [200/330] Elapsed 0m 24s (remain 0m 15s) Loss: 0.0446(0.0403) \n",
      "EVAL: [300/330] Elapsed 0m 36s (remain 0m 3s) Loss: 0.0558(0.0406) \n"
     ]
    },
    {
     "name": "stderr",
     "output_type": "stream",
     "text": [
      "Epoch 5 - avg_train_loss: 0.0858  avg_val_loss: 0.0405  time: 544s\n",
      "Epoch 5 - Accuracy: 0.9456996392633378\n",
      "Epoch 5 - Save Best Score: 0.9457 Model\n"
     ]
    },
    {
     "name": "stdout",
     "output_type": "stream",
     "text": [
      "EVAL: [329/330] Elapsed 0m 39s (remain 0m 0s) Loss: 0.0552(0.0405) \n",
      "Epoch: [6][0/1316] Elapsed 0m 1s (remain 31m 41s) Loss: 0.0893(0.0893) Grad: 0.1756 LR: 0.000051  \n",
      "Epoch: [6][100/1316] Elapsed 0m 39s (remain 7m 57s) Loss: 0.0331(0.0900) Grad: 0.1617 LR: 0.000050  \n",
      "Epoch: [6][200/1316] Elapsed 1m 18s (remain 7m 14s) Loss: 0.0607(0.0863) Grad: 0.2183 LR: 0.000049  \n",
      "Epoch: [6][300/1316] Elapsed 1m 56s (remain 6m 32s) Loss: 0.0461(0.0861) Grad: 0.1497 LR: 0.000048  \n",
      "Epoch: [6][400/1316] Elapsed 2m 34s (remain 5m 52s) Loss: 0.0222(0.0855) Grad: 0.0617 LR: 0.000046  \n",
      "Epoch: [6][500/1316] Elapsed 3m 12s (remain 5m 12s) Loss: 0.1399(0.0850) Grad: 0.1636 LR: 0.000045  \n",
      "Epoch: [6][600/1316] Elapsed 3m 50s (remain 4m 34s) Loss: 0.1151(0.0866) Grad: 0.1537 LR: 0.000044  \n",
      "Epoch: [6][700/1316] Elapsed 4m 28s (remain 3m 55s) Loss: 0.0765(0.0870) Grad: 0.1497 LR: 0.000043  \n",
      "Epoch: [6][800/1316] Elapsed 5m 6s (remain 3m 17s) Loss: 0.1137(0.0865) Grad: 0.1324 LR: 0.000042  \n",
      "Epoch: [6][900/1316] Elapsed 5m 44s (remain 2m 38s) Loss: 0.0357(0.0861) Grad: 0.1400 LR: 0.000041  \n",
      "Epoch: [6][1000/1316] Elapsed 6m 23s (remain 2m 0s) Loss: 0.0508(0.0854) Grad: 0.0986 LR: 0.000039  \n",
      "Epoch: [6][1100/1316] Elapsed 7m 1s (remain 1m 22s) Loss: 0.0860(0.0851) Grad: 0.1433 LR: 0.000038  \n",
      "Epoch: [6][1200/1316] Elapsed 7m 40s (remain 0m 44s) Loss: 0.1203(0.0849) Grad: 0.1684 LR: 0.000037  \n",
      "Epoch: [6][1300/1316] Elapsed 8m 17s (remain 0m 5s) Loss: 0.0465(0.0854) Grad: 0.1840 LR: 0.000036  \n",
      "Epoch: [6][1315/1316] Elapsed 8m 23s (remain 0m 0s) Loss: 0.1021(0.0852) Grad: 0.2055 LR: 0.000036  \n",
      "EVAL: [0/330] Elapsed 0m 0s (remain 4m 19s) Loss: 0.0409(0.0409) \n",
      "EVAL: [100/330] Elapsed 0m 12s (remain 0m 28s) Loss: 0.0341(0.0435) \n",
      "EVAL: [200/330] Elapsed 0m 24s (remain 0m 15s) Loss: 0.0343(0.0418) \n",
      "EVAL: [300/330] Elapsed 0m 36s (remain 0m 3s) Loss: 0.0522(0.0420) \n"
     ]
    },
    {
     "name": "stderr",
     "output_type": "stream",
     "text": [
      "Epoch 6 - avg_train_loss: 0.0852  avg_val_loss: 0.0421  time: 543s\n",
      "Epoch 6 - Accuracy: 0.9438010252515664\n"
     ]
    },
    {
     "name": "stdout",
     "output_type": "stream",
     "text": [
      "EVAL: [329/330] Elapsed 0m 39s (remain 0m 0s) Loss: 0.1219(0.0421) \n",
      "Epoch: [7][0/1316] Elapsed 0m 1s (remain 30m 12s) Loss: 0.0386(0.0386) Grad: 0.1823 LR: 0.000036  \n",
      "Epoch: [7][100/1316] Elapsed 0m 38s (remain 7m 46s) Loss: 0.0385(0.0687) Grad: 0.1504 LR: 0.000035  \n",
      "Epoch: [7][200/1316] Elapsed 1m 16s (remain 7m 4s) Loss: 0.0231(0.0674) Grad: 0.0703 LR: 0.000034  \n",
      "Epoch: [7][300/1316] Elapsed 1m 53s (remain 6m 23s) Loss: 0.0630(0.0655) Grad: 0.3079 LR: 0.000033  \n",
      "Epoch: [7][400/1316] Elapsed 2m 31s (remain 5m 45s) Loss: 0.1617(0.0652) Grad: 0.1410 LR: 0.000032  \n",
      "Epoch: [7][500/1316] Elapsed 3m 8s (remain 5m 7s) Loss: 0.1036(0.0646) Grad: 0.1162 LR: 0.000030  \n",
      "Epoch: [7][600/1316] Elapsed 3m 46s (remain 4m 29s) Loss: 0.1495(0.0658) Grad: 0.1274 LR: 0.000029  \n",
      "Epoch: [7][700/1316] Elapsed 4m 23s (remain 3m 51s) Loss: 0.0620(0.0657) Grad: 0.2420 LR: 0.000028  \n",
      "Epoch: [7][800/1316] Elapsed 5m 1s (remain 3m 13s) Loss: 0.0226(0.0660) Grad: 0.0812 LR: 0.000027  \n",
      "Epoch: [7][900/1316] Elapsed 5m 39s (remain 2m 36s) Loss: 0.0602(0.0658) Grad: 0.1966 LR: 0.000026  \n",
      "Epoch: [7][1000/1316] Elapsed 6m 16s (remain 1m 58s) Loss: 0.0543(0.0653) Grad: 0.1291 LR: 0.000025  \n",
      "Epoch: [7][1100/1316] Elapsed 6m 54s (remain 1m 20s) Loss: 0.0994(0.0650) Grad: 0.1427 LR: 0.000024  \n",
      "Epoch: [7][1200/1316] Elapsed 7m 32s (remain 0m 43s) Loss: 0.0182(0.0648) Grad: 0.0295 LR: 0.000023  \n",
      "Epoch: [7][1300/1316] Elapsed 8m 9s (remain 0m 5s) Loss: 0.0266(0.0650) Grad: 0.0974 LR: 0.000022  \n",
      "Epoch: [7][1315/1316] Elapsed 8m 15s (remain 0m 0s) Loss: 0.0805(0.0649) Grad: 0.3411 LR: 0.000022  \n",
      "EVAL: [0/330] Elapsed 0m 0s (remain 4m 40s) Loss: 0.0350(0.0350) \n",
      "EVAL: [100/330] Elapsed 0m 12s (remain 0m 29s) Loss: 0.0280(0.0398) \n",
      "EVAL: [200/330] Elapsed 0m 24s (remain 0m 15s) Loss: 0.0360(0.0388) \n",
      "EVAL: [300/330] Elapsed 0m 36s (remain 0m 3s) Loss: 0.0543(0.0390) \n"
     ]
    },
    {
     "name": "stderr",
     "output_type": "stream",
     "text": [
      "Epoch 7 - avg_train_loss: 0.0649  avg_val_loss: 0.0389  time: 535s\n",
      "Epoch 7 - Accuracy: 0.9439908866527434\n"
     ]
    },
    {
     "name": "stdout",
     "output_type": "stream",
     "text": [
      "EVAL: [329/330] Elapsed 0m 39s (remain 0m 0s) Loss: 0.1385(0.0389) \n",
      "Epoch: [8][0/1316] Elapsed 0m 1s (remain 32m 20s) Loss: 0.1180(0.1180) Grad: 0.1484 LR: 0.000022  \n",
      "Epoch: [8][100/1316] Elapsed 0m 39s (remain 7m 49s) Loss: 0.0368(0.0598) Grad: 0.2250 LR: 0.000021  \n",
      "Epoch: [8][200/1316] Elapsed 1m 16s (remain 7m 3s) Loss: 0.0894(0.0580) Grad: 0.1411 LR: 0.000020  \n",
      "Epoch: [8][300/1316] Elapsed 1m 53s (remain 6m 23s) Loss: 0.0185(0.0581) Grad: 0.0310 LR: 0.000020  \n",
      "Epoch: [8][400/1316] Elapsed 2m 31s (remain 5m 46s) Loss: 0.0834(0.0616) Grad: 0.1025 LR: 0.000019  \n",
      "Epoch: [8][500/1316] Elapsed 3m 9s (remain 5m 8s) Loss: 0.0291(0.0622) Grad: 0.1650 LR: 0.000018  \n",
      "Epoch: [8][600/1316] Elapsed 3m 47s (remain 4m 30s) Loss: 0.0346(0.0629) Grad: 0.2222 LR: 0.000017  \n",
      "Epoch: [8][700/1316] Elapsed 4m 24s (remain 3m 52s) Loss: 0.1272(0.0631) Grad: 0.1286 LR: 0.000016  \n",
      "Epoch: [8][800/1316] Elapsed 5m 2s (remain 3m 14s) Loss: 0.1366(0.0634) Grad: 0.1176 LR: 0.000015  \n",
      "Epoch: [8][900/1316] Elapsed 5m 40s (remain 2m 36s) Loss: 0.0241(0.0638) Grad: 0.0904 LR: 0.000014  \n",
      "Epoch: [8][1000/1316] Elapsed 6m 18s (remain 1m 59s) Loss: 0.0393(0.0633) Grad: 0.1501 LR: 0.000014  \n",
      "Epoch: [8][1100/1316] Elapsed 6m 55s (remain 1m 21s) Loss: 0.0518(0.0637) Grad: 0.2288 LR: 0.000013  \n",
      "Epoch: [8][1200/1316] Elapsed 7m 33s (remain 0m 43s) Loss: 0.0484(0.0630) Grad: 0.2046 LR: 0.000012  \n",
      "Epoch: [8][1300/1316] Elapsed 8m 10s (remain 0m 5s) Loss: 0.0790(0.0628) Grad: 0.0795 LR: 0.000012  \n",
      "Epoch: [8][1315/1316] Elapsed 8m 16s (remain 0m 0s) Loss: 0.1673(0.0628) Grad: 0.4722 LR: 0.000011  \n",
      "EVAL: [0/330] Elapsed 0m 0s (remain 4m 15s) Loss: 0.0267(0.0267) \n",
      "EVAL: [100/330] Elapsed 0m 13s (remain 0m 29s) Loss: 0.0260(0.0376) \n",
      "EVAL: [200/330] Elapsed 0m 24s (remain 0m 16s) Loss: 0.0352(0.0368) \n",
      "EVAL: [300/330] Elapsed 0m 36s (remain 0m 3s) Loss: 0.0691(0.0375) \n"
     ]
    },
    {
     "name": "stderr",
     "output_type": "stream",
     "text": [
      "Epoch 8 - avg_train_loss: 0.0628  avg_val_loss: 0.0377  time: 536s\n",
      "Epoch 8 - Accuracy: 0.9455097778621606\n"
     ]
    },
    {
     "name": "stdout",
     "output_type": "stream",
     "text": [
      "EVAL: [329/330] Elapsed 0m 39s (remain 0m 0s) Loss: 0.1324(0.0377) \n",
      "Epoch: [9][0/1316] Elapsed 0m 1s (remain 30m 11s) Loss: 0.1208(0.1208) Grad: 0.1104 LR: 0.000011  \n",
      "Epoch: [9][100/1316] Elapsed 0m 39s (remain 7m 52s) Loss: 0.0267(0.0589) Grad: 0.1457 LR: 0.000011  \n",
      "Epoch: [9][200/1316] Elapsed 1m 16s (remain 7m 6s) Loss: 0.0170(0.0587) Grad: 0.0213 LR: 0.000010  \n",
      "Epoch: [9][300/1316] Elapsed 1m 54s (remain 6m 25s) Loss: 0.0506(0.0602) Grad: 0.0848 LR: 0.000009  \n",
      "Epoch: [9][400/1316] Elapsed 2m 31s (remain 5m 46s) Loss: 0.0226(0.0623) Grad: 0.1032 LR: 0.000009  \n",
      "Epoch: [9][500/1316] Elapsed 3m 9s (remain 5m 8s) Loss: 0.0757(0.0622) Grad: 0.1210 LR: 0.000008  \n",
      "Epoch: [9][600/1316] Elapsed 3m 47s (remain 4m 30s) Loss: 0.0488(0.0618) Grad: 0.1797 LR: 0.000008  \n",
      "Epoch: [9][700/1316] Elapsed 4m 25s (remain 3m 52s) Loss: 0.0697(0.0616) Grad: 0.2677 LR: 0.000007  \n",
      "Epoch: [9][800/1316] Elapsed 5m 3s (remain 3m 14s) Loss: 0.0259(0.0616) Grad: 0.1299 LR: 0.000007  \n",
      "Epoch: [9][900/1316] Elapsed 5m 40s (remain 2m 36s) Loss: 0.0232(0.0627) Grad: 0.1107 LR: 0.000006  \n",
      "Epoch: [9][1000/1316] Elapsed 6m 18s (remain 1m 59s) Loss: 0.0894(0.0627) Grad: 0.2690 LR: 0.000006  \n",
      "Epoch: [9][1100/1316] Elapsed 6m 56s (remain 1m 21s) Loss: 0.1158(0.0627) Grad: 0.1648 LR: 0.000005  \n",
      "Epoch: [9][1200/1316] Elapsed 7m 34s (remain 0m 43s) Loss: 0.0632(0.0629) Grad: 0.2042 LR: 0.000005  \n",
      "Epoch: [9][1300/1316] Elapsed 8m 12s (remain 0m 5s) Loss: 0.0182(0.0631) Grad: 0.0281 LR: 0.000004  \n",
      "Epoch: [9][1315/1316] Elapsed 8m 17s (remain 0m 0s) Loss: 0.0513(0.0632) Grad: 0.2624 LR: 0.000004  \n",
      "EVAL: [0/330] Elapsed 0m 0s (remain 4m 35s) Loss: 0.0293(0.0293) \n",
      "EVAL: [100/330] Elapsed 0m 12s (remain 0m 29s) Loss: 0.0262(0.0377) \n",
      "EVAL: [200/330] Elapsed 0m 24s (remain 0m 15s) Loss: 0.0405(0.0369) \n",
      "EVAL: [300/330] Elapsed 0m 36s (remain 0m 3s) Loss: 0.0612(0.0372) \n"
     ]
    },
    {
     "name": "stderr",
     "output_type": "stream",
     "text": [
      "Epoch 9 - avg_train_loss: 0.0632  avg_val_loss: 0.0372  time: 538s\n",
      "Epoch 9 - Accuracy: 0.9472185304727548\n",
      "Epoch 9 - Save Best Score: 0.9472 Model\n"
     ]
    },
    {
     "name": "stdout",
     "output_type": "stream",
     "text": [
      "EVAL: [329/330] Elapsed 0m 39s (remain 0m 0s) Loss: 0.1256(0.0372) \n",
      "Epoch: [10][0/1316] Elapsed 0m 1s (remain 25m 59s) Loss: 0.0614(0.0614) Grad: 0.1722 LR: 0.000004  \n",
      "Epoch: [10][100/1316] Elapsed 0m 37s (remain 7m 25s) Loss: 0.0244(0.0288) Grad: 0.0947 LR: 0.000004  \n",
      "Epoch: [10][200/1316] Elapsed 1m 12s (remain 6m 42s) Loss: 0.0197(0.0284) Grad: 0.0575 LR: 0.000004  \n",
      "Epoch: [10][300/1316] Elapsed 1m 48s (remain 6m 5s) Loss: 0.0251(0.0278) Grad: 0.1149 LR: 0.000003  \n",
      "Epoch: [10][400/1316] Elapsed 2m 24s (remain 5m 28s) Loss: 0.0215(0.0276) Grad: 0.1343 LR: 0.000003  \n",
      "Epoch: [10][500/1316] Elapsed 2m 59s (remain 4m 52s) Loss: 0.0326(0.0276) Grad: 0.2201 LR: 0.000003  \n",
      "Epoch: [10][600/1316] Elapsed 3m 35s (remain 4m 16s) Loss: 0.0179(0.0276) Grad: 0.0238 LR: 0.000003  \n",
      "Epoch: [10][700/1316] Elapsed 4m 11s (remain 3m 40s) Loss: 0.0296(0.0275) Grad: 0.2351 LR: 0.000003  \n",
      "Epoch: [10][800/1316] Elapsed 4m 47s (remain 3m 4s) Loss: 0.0304(0.0274) Grad: 0.1878 LR: 0.000002  \n",
      "Epoch: [10][900/1316] Elapsed 5m 23s (remain 2m 28s) Loss: 0.0179(0.0274) Grad: 0.0385 LR: 0.000002  \n",
      "Epoch: [10][1000/1316] Elapsed 5m 59s (remain 1m 53s) Loss: 0.0254(0.0272) Grad: 0.1444 LR: 0.000002  \n",
      "Epoch: [10][1100/1316] Elapsed 6m 35s (remain 1m 17s) Loss: 0.0206(0.0271) Grad: 0.0380 LR: 0.000002  \n",
      "Epoch: [10][1200/1316] Elapsed 7m 11s (remain 0m 41s) Loss: 0.0189(0.0269) Grad: 0.0431 LR: 0.000002  \n",
      "Epoch: [10][1300/1316] Elapsed 7m 47s (remain 0m 5s) Loss: 0.0213(0.0269) Grad: 0.0654 LR: 0.000002  \n",
      "Epoch: [10][1315/1316] Elapsed 7m 52s (remain 0m 0s) Loss: 0.0212(0.0269) Grad: 0.0912 LR: 0.000002  \n",
      "EVAL: [0/330] Elapsed 0m 0s (remain 5m 9s) Loss: 0.0308(0.0308) \n",
      "EVAL: [100/330] Elapsed 0m 12s (remain 0m 29s) Loss: 0.0199(0.0381) \n",
      "EVAL: [200/330] Elapsed 0m 24s (remain 0m 15s) Loss: 0.0413(0.0370) \n",
      "EVAL: [300/330] Elapsed 0m 36s (remain 0m 3s) Loss: 0.0698(0.0377) \n"
     ]
    },
    {
     "name": "stderr",
     "output_type": "stream",
     "text": [
      "Epoch 10 - avg_train_loss: 0.0269  avg_val_loss: 0.0376  time: 512s\n",
      "Epoch 10 - Accuracy: 0.9434213024492121\n",
      "Epoch 10 - Save final model\n"
     ]
    },
    {
     "name": "stdout",
     "output_type": "stream",
     "text": [
      "EVAL: [329/330] Elapsed 0m 39s (remain 0m 0s) Loss: 0.1453(0.0376) \n"
     ]
    },
    {
     "name": "stderr",
     "output_type": "stream",
     "text": [
      "========== fold: 4 result ==========\n",
      "Score: 0.94722\n",
      "========== CV ==========\n",
      "Score: 0.94848\n"
     ]
    }
   ],
   "source": [
    "if __name__ == \"__main__\":\n",
    "    main()"
   ]
  }
 ],
 "metadata": {
  "kernelspec": {
   "display_name": "Python 3",
   "language": "python",
   "name": "python3"
  },
  "language_info": {
   "codemirror_mode": {
    "name": "ipython",
    "version": 3
   },
   "file_extension": ".py",
   "mimetype": "text/x-python",
   "name": "python",
   "nbconvert_exporter": "python",
   "pygments_lexer": "ipython3",
   "version": "3.7.9"
  }
 },
 "nbformat": 4,
 "nbformat_minor": 4
}
