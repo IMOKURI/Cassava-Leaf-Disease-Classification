{
 "cells": [
  {
   "cell_type": "markdown",
   "metadata": {},
   "source": [
    "# About this notebook  \n",
    "\n",
    "TBD..."
   ]
  },
  {
   "cell_type": "markdown",
   "metadata": {},
   "source": [
    "# Data Loading"
   ]
  },
  {
   "cell_type": "code",
   "execution_count": 1,
   "metadata": {},
   "outputs": [],
   "source": [
    "import os\n",
    "\n",
    "import pandas as pd\n",
    "import seaborn as sns\n",
    "from matplotlib import pyplot as plt"
   ]
  },
  {
   "cell_type": "code",
   "execution_count": 2,
   "metadata": {},
   "outputs": [
    {
     "data": {
      "text/plain": [
       "['train_tfrecords',\n",
       " 'train_images',\n",
       " 'test_images',\n",
       " 'label_num_to_disease_map.json',\n",
       " 'sample_submission.csv',\n",
       " 'train.csv',\n",
       " 'test_tfrecords']"
      ]
     },
     "execution_count": 2,
     "metadata": {},
     "output_type": "execute_result"
    }
   ],
   "source": [
    "os.listdir(\"../input/cassava-leaf-disease-classification\")"
   ]
  },
  {
   "cell_type": "code",
   "execution_count": 3,
   "metadata": {},
   "outputs": [
    {
     "data": {
      "text/html": [
       "<div>\n",
       "<style scoped>\n",
       "    .dataframe tbody tr th:only-of-type {\n",
       "        vertical-align: middle;\n",
       "    }\n",
       "\n",
       "    .dataframe tbody tr th {\n",
       "        vertical-align: top;\n",
       "    }\n",
       "\n",
       "    .dataframe thead th {\n",
       "        text-align: right;\n",
       "    }\n",
       "</style>\n",
       "<table border=\"1\" class=\"dataframe\">\n",
       "  <thead>\n",
       "    <tr style=\"text-align: right;\">\n",
       "      <th></th>\n",
       "      <th>image_id</th>\n",
       "      <th>label</th>\n",
       "      <th>0</th>\n",
       "      <th>1</th>\n",
       "      <th>2</th>\n",
       "      <th>3</th>\n",
       "      <th>4</th>\n",
       "    </tr>\n",
       "  </thead>\n",
       "  <tbody>\n",
       "    <tr>\n",
       "      <th>0</th>\n",
       "      <td>1000015157.jpg</td>\n",
       "      <td>0</td>\n",
       "      <td>0.373521</td>\n",
       "      <td>0.296580</td>\n",
       "      <td>0.124931</td>\n",
       "      <td>0.018632</td>\n",
       "      <td>0.186336</td>\n",
       "    </tr>\n",
       "    <tr>\n",
       "      <th>1</th>\n",
       "      <td>1000201771.jpg</td>\n",
       "      <td>3</td>\n",
       "      <td>0.020839</td>\n",
       "      <td>0.027160</td>\n",
       "      <td>0.037688</td>\n",
       "      <td>0.886378</td>\n",
       "      <td>0.027935</td>\n",
       "    </tr>\n",
       "    <tr>\n",
       "      <th>2</th>\n",
       "      <td>100042118.jpg</td>\n",
       "      <td>4</td>\n",
       "      <td>0.028102</td>\n",
       "      <td>0.335759</td>\n",
       "      <td>0.043405</td>\n",
       "      <td>0.054358</td>\n",
       "      <td>0.538376</td>\n",
       "    </tr>\n",
       "    <tr>\n",
       "      <th>3</th>\n",
       "      <td>1000723321.jpg</td>\n",
       "      <td>1</td>\n",
       "      <td>0.021610</td>\n",
       "      <td>0.843521</td>\n",
       "      <td>0.029899</td>\n",
       "      <td>0.046169</td>\n",
       "      <td>0.058801</td>\n",
       "    </tr>\n",
       "    <tr>\n",
       "      <th>4</th>\n",
       "      <td>1000812911.jpg</td>\n",
       "      <td>3</td>\n",
       "      <td>0.023698</td>\n",
       "      <td>0.019814</td>\n",
       "      <td>0.022040</td>\n",
       "      <td>0.913077</td>\n",
       "      <td>0.021371</td>\n",
       "    </tr>\n",
       "  </tbody>\n",
       "</table>\n",
       "</div>"
      ],
      "text/plain": [
       "         image_id  label         0         1         2         3         4\n",
       "0  1000015157.jpg      0  0.373521  0.296580  0.124931  0.018632  0.186336\n",
       "1  1000201771.jpg      3  0.020839  0.027160  0.037688  0.886378  0.027935\n",
       "2   100042118.jpg      4  0.028102  0.335759  0.043405  0.054358  0.538376\n",
       "3  1000723321.jpg      1  0.021610  0.843521  0.029899  0.046169  0.058801\n",
       "4  1000812911.jpg      3  0.023698  0.019814  0.022040  0.913077  0.021371"
      ]
     },
     "metadata": {},
     "output_type": "display_data"
    },
    {
     "data": {
      "text/html": [
       "<div>\n",
       "<style scoped>\n",
       "    .dataframe tbody tr th:only-of-type {\n",
       "        vertical-align: middle;\n",
       "    }\n",
       "\n",
       "    .dataframe tbody tr th {\n",
       "        vertical-align: top;\n",
       "    }\n",
       "\n",
       "    .dataframe thead th {\n",
       "        text-align: right;\n",
       "    }\n",
       "</style>\n",
       "<table border=\"1\" class=\"dataframe\">\n",
       "  <thead>\n",
       "    <tr style=\"text-align: right;\">\n",
       "      <th></th>\n",
       "      <th>image_id</th>\n",
       "      <th>label</th>\n",
       "    </tr>\n",
       "  </thead>\n",
       "  <tbody>\n",
       "    <tr>\n",
       "      <th>0</th>\n",
       "      <td>2216849948.jpg</td>\n",
       "      <td>4</td>\n",
       "    </tr>\n",
       "  </tbody>\n",
       "</table>\n",
       "</div>"
      ],
      "text/plain": [
       "         image_id  label\n",
       "0  2216849948.jpg      4"
      ]
     },
     "metadata": {},
     "output_type": "display_data"
    },
    {
     "data": {
      "text/html": [
       "<div>\n",
       "<style scoped>\n",
       "    .dataframe tbody tr th:only-of-type {\n",
       "        vertical-align: middle;\n",
       "    }\n",
       "\n",
       "    .dataframe tbody tr th {\n",
       "        vertical-align: top;\n",
       "    }\n",
       "\n",
       "    .dataframe thead th {\n",
       "        text-align: right;\n",
       "    }\n",
       "</style>\n",
       "<table border=\"1\" class=\"dataframe\">\n",
       "  <thead>\n",
       "    <tr style=\"text-align: right;\">\n",
       "      <th></th>\n",
       "      <th>0</th>\n",
       "    </tr>\n",
       "  </thead>\n",
       "  <tbody>\n",
       "    <tr>\n",
       "      <th>0</th>\n",
       "      <td>Cassava Bacterial Blight (CBB)</td>\n",
       "    </tr>\n",
       "    <tr>\n",
       "      <th>1</th>\n",
       "      <td>Cassava Brown Streak Disease (CBSD)</td>\n",
       "    </tr>\n",
       "    <tr>\n",
       "      <th>2</th>\n",
       "      <td>Cassava Green Mottle (CGM)</td>\n",
       "    </tr>\n",
       "    <tr>\n",
       "      <th>3</th>\n",
       "      <td>Cassava Mosaic Disease (CMD)</td>\n",
       "    </tr>\n",
       "    <tr>\n",
       "      <th>4</th>\n",
       "      <td>Healthy</td>\n",
       "    </tr>\n",
       "  </tbody>\n",
       "</table>\n",
       "</div>"
      ],
      "text/plain": [
       "                                     0\n",
       "0       Cassava Bacterial Blight (CBB)\n",
       "1  Cassava Brown Streak Disease (CBSD)\n",
       "2           Cassava Green Mottle (CGM)\n",
       "3         Cassava Mosaic Disease (CMD)\n",
       "4                              Healthy"
      ]
     },
     "metadata": {},
     "output_type": "display_data"
    }
   ],
   "source": [
    "# train = pd.read_csv(\"../input/cassava-leaf-disease-classification/train.csv\")\n",
    "# train = pd.read_csv(\"../input/cassava-leaf-disease-merged/oversample-0124.csv\")  # label 0124 x3\n",
    "\n",
    "train_id = pd.read_csv(\"../input/cassava-leaf-disease-merged/merged.csv\")[\"image_id\"]\n",
    "dist = pd.read_csv(\"distillation_label/ensemble-v3.csv\", header=None)\n",
    "train_label = pd.DataFrame(dist.idxmax(axis=1), columns=[\"label\"])\n",
    "train = pd.concat([train_id, train_label, dist], axis=1)\n",
    "\n",
    "test = pd.read_csv(\"../input/cassava-leaf-disease-classification/sample_submission.csv\")\n",
    "label_map = pd.read_json(\"../input/cassava-leaf-disease-classification/label_num_to_disease_map.json\", orient=\"index\")\n",
    "\n",
    "display(train.head())\n",
    "display(test.head())\n",
    "display(label_map)"
   ]
  },
  {
   "cell_type": "code",
   "execution_count": 4,
   "metadata": {},
   "outputs": [
    {
     "name": "stderr",
     "output_type": "stream",
     "text": [
      "/opt/conda/lib/python3.7/site-packages/seaborn/distributions.py:2557: FutureWarning: `distplot` is a deprecated function and will be removed in a future version. Please adapt your code to use either `displot` (a figure-level function with similar flexibility) or `histplot` (an axes-level function for histograms).\n",
      "  warnings.warn(msg, FutureWarning)\n"
     ]
    },
    {
     "data": {
      "text/plain": [
       "<AxesSubplot:xlabel='label'>"
      ]
     },
     "execution_count": 4,
     "metadata": {},
     "output_type": "execute_result"
    },
    {
     "data": {
      "image/png": "[encoded data removed]",
      "text/plain": [
       "<Figure size 432x288 with 1 Axes>"
      ]
     },
     "metadata": {
      "needs_background": "light"
     },
     "output_type": "display_data"
    }
   ],
   "source": [
    "sns.distplot(train[\"label\"], kde=False)"
   ]
  },
  {
   "cell_type": "markdown",
   "metadata": {},
   "source": [
    "# Directory settings"
   ]
  },
  {
   "cell_type": "code",
   "execution_count": 5,
   "metadata": {},
   "outputs": [],
   "source": [
    "# ====================================================\n",
    "# Directory settings\n",
    "# ====================================================\n",
    "import os\n",
    "\n",
    "OUTPUT_DIR = \"./\"\n",
    "if not os.path.exists(OUTPUT_DIR):\n",
    "    os.makedirs(OUTPUT_DIR)\n",
    "\n",
    "# TRAIN_PATH = \"../input/cassava-leaf-disease-classification/train_images\"\n",
    "TRAIN_PATH = \"../input/cassava-leaf-disease-merged/train\"\n",
    "TEST_PATH = \"../input/cassava-leaf-disease-classification/test_images\""
   ]
  },
  {
   "cell_type": "markdown",
   "metadata": {},
   "source": [
    "# CFG"
   ]
  },
  {
   "cell_type": "code",
   "execution_count": 6,
   "metadata": {},
   "outputs": [],
   "source": [
    "# ====================================================\n",
    "# CFG\n",
    "# ====================================================\n",
    "class CFG:\n",
    "    debug = False\n",
    "    apex = True\n",
    "    print_freq = 100\n",
    "    num_workers = 4\n",
    "    model_name = \"tf_efficientnet_b4_ns\"  # resnext50_32x4d, seresnext50_32x4d, tf_efficientnet_b3_ns, vit_base_patch16_384, deit_base_patch16_384\n",
    "    batch_size = 16\n",
    "    gradient_accumulation_steps = 2\n",
    "    size = 384 if \"it_base_\" in model_name else 512\n",
    "    n_fold = 5\n",
    "    trn_fold = [0, 1, 2, 3, 4]\n",
    "    criterion = \"BiTemperedLoss\"  # ['CrossEntropyLoss', 'BiTemperedLoss']\n",
    "    btl_t1 = 0.3  # Bi-Tempered Logistic Loss\n",
    "    btl_t2 = 1.0\n",
    "    label_smoothing = 0.2\n",
    "    kd_temperature = 10  # DistillationLoss\n",
    "    kd_alpha = 0.9  # DistillationLoss\n",
    "    scheduler = \"CosineAnnealingWarmRestarts\"  # ['ReduceLROnPlateau', 'CosineAnnealingLR', 'CosineAnnealingWarmRestarts', 'CosineAnnealingWarmupRestarts']\n",
    "    scheduler_batch_update = True\n",
    "    epochs = 10\n",
    "    # factor = 0.2  # ReduceLROnPlateau\n",
    "    # patience = 4  # ReduceLROnPlateau\n",
    "    # eps = 1e-6  # ReduceLROnPlateau\n",
    "    # T_max = 10  # CosineAnnealingLR\n",
    "    T_0 = (\n",
    "        len(train) // n_fold * (n_fold - 1) // batch_size // gradient_accumulation_steps * epochs + 5\n",
    "    )  # CosineAnnealingWarmRestarts\n",
    "    # first_cycle_steps = (\n",
    "    #     len(train) // n_fold * (n_fold - 1) // batch_size // gradient_accumulation_steps * epochs + 5\n",
    "    # )  # CosineAnnealingWarmupRestarts for batch update\n",
    "    # warmup_steps = first_cycle_steps // 10  # CosineAnnealingWarmupRestarts\n",
    "    # gamma = 0.8  # CosineAnnealingWarmupRestarts\n",
    "    lr = 1e-4\n",
    "    min_lr = 2e-6\n",
    "    weight_decay = 1e-6\n",
    "    max_grad_norm = 1000\n",
    "    seed = 5345\n",
    "    target_size = 5\n",
    "    target_col = \"label\"\n",
    "    train = True\n",
    "    inference = False\n",
    "\n",
    "\n",
    "if CFG.debug:\n",
    "    CFG.epochs = 1\n",
    "    train = train.sample(n=1000, random_state=CFG.seed).reset_index(drop=True)"
   ]
  },
  {
   "cell_type": "markdown",
   "metadata": {},
   "source": [
    "# Library"
   ]
  },
  {
   "cell_type": "code",
   "execution_count": 7,
   "metadata": {},
   "outputs": [],
   "source": [
    "# ====================================================\n",
    "# Library\n",
    "# ====================================================\n",
    "import sys\n",
    "\n",
    "sys.path.append(\"../input/pytorch-image-models/pytorch-image-models-master\")\n",
    "sys.path.append(\"../input/pytorchcosineannealingwithwarmup\")\n",
    "sys.path.append(\"../input/bitemperedlogloss/\")\n",
    "sys.path.append(\"../input/image-fmix/FMix-master\")\n",
    "\n",
    "import math\n",
    "import os\n",
    "import random\n",
    "import shutil\n",
    "import time\n",
    "import warnings\n",
    "from collections import Counter, defaultdict\n",
    "from contextlib import contextmanager\n",
    "from functools import partial\n",
    "from pathlib import Path\n",
    "\n",
    "import bi_tempered_loss_pytorch as btl\n",
    "import cv2\n",
    "import numpy as np\n",
    "import pandas as pd\n",
    "import scipy as sp\n",
    "import timm\n",
    "import torch\n",
    "import torch.nn as nn\n",
    "import torch.nn.functional as F\n",
    "import torchvision.models as models\n",
    "from albumentations import (\n",
    "    CenterCrop,\n",
    "    CoarseDropout,\n",
    "    Compose,\n",
    "    Cutout,\n",
    "    HorizontalFlip,\n",
    "    HueSaturationValue,\n",
    "    IAAAdditiveGaussianNoise,\n",
    "    ImageOnlyTransform,\n",
    "    Normalize,\n",
    "    OneOf,\n",
    "    RandomBrightness,\n",
    "    RandomBrightnessContrast,\n",
    "    RandomContrast,\n",
    "    RandomCrop,\n",
    "    RandomResizedCrop,\n",
    "    Resize,\n",
    "    Rotate,\n",
    "    ShiftScaleRotate,\n",
    "    Transpose,\n",
    "    VerticalFlip,\n",
    ")\n",
    "from albumentations.pytorch import ToTensorV2\n",
    "from cosine_annearing_with_warmup import CosineAnnealingWarmupRestarts\n",
    "from fmix import sample_mask\n",
    "from PIL import Image\n",
    "from sklearn import preprocessing\n",
    "from sklearn.metrics import accuracy_score\n",
    "from sklearn.model_selection import StratifiedKFold\n",
    "from torch.nn.parameter import Parameter\n",
    "from torch.optim import SGD, Adam\n",
    "from torch.optim.lr_scheduler import CosineAnnealingLR, CosineAnnealingWarmRestarts, ReduceLROnPlateau\n",
    "from torch.utils.data import DataLoader, Dataset\n",
    "from tqdm.auto import tqdm\n",
    "\n",
    "warnings.filterwarnings(\"ignore\")\n",
    "\n",
    "if CFG.apex:\n",
    "    from apex import amp\n",
    "\n",
    "device = torch.device(\"cuda\" if torch.cuda.is_available() else \"cpu\")"
   ]
  },
  {
   "cell_type": "markdown",
   "metadata": {},
   "source": [
    "# Utils"
   ]
  },
  {
   "cell_type": "code",
   "execution_count": 8,
   "metadata": {},
   "outputs": [],
   "source": [
    "# ====================================================\n",
    "# Utils\n",
    "# ====================================================\n",
    "def get_score(y_true, y_pred):\n",
    "    return accuracy_score(y_true, y_pred)\n",
    "\n",
    "\n",
    "@contextmanager\n",
    "def timer(name):\n",
    "    t0 = time.time()\n",
    "    LOGGER.info(f\"[{name}] start\")\n",
    "    yield\n",
    "    LOGGER.info(f\"[{name}] done in {time.time() - t0:.0f} s.\")\n",
    "\n",
    "\n",
    "def init_logger(log_file=OUTPUT_DIR + \"train.log\"):\n",
    "    from logging import INFO, FileHandler, Formatter, StreamHandler, getLogger\n",
    "\n",
    "    logger = getLogger(__name__)\n",
    "    logger.setLevel(INFO)\n",
    "    handler1 = StreamHandler()\n",
    "    handler1.setFormatter(Formatter(\"%(message)s\"))\n",
    "    handler2 = FileHandler(filename=log_file)\n",
    "    handler2.setFormatter(Formatter(\"%(message)s\"))\n",
    "    logger.addHandler(handler1)\n",
    "    logger.addHandler(handler2)\n",
    "    return logger\n",
    "\n",
    "\n",
    "LOGGER = init_logger()\n",
    "\n",
    "\n",
    "def seed_torch(seed=42):\n",
    "    random.seed(seed)\n",
    "    os.environ[\"PYTHONHASHSEED\"] = str(seed)\n",
    "    np.random.seed(seed)\n",
    "    torch.manual_seed(seed)\n",
    "    torch.cuda.manual_seed(seed)\n",
    "    torch.backends.cudnn.deterministic = True\n",
    "\n",
    "\n",
    "seed_torch(seed=CFG.seed)"
   ]
  },
  {
   "cell_type": "markdown",
   "metadata": {},
   "source": [
    "# CV split"
   ]
  },
  {
   "cell_type": "code",
   "execution_count": 9,
   "metadata": {},
   "outputs": [
    {
     "name": "stdout",
     "output_type": "stream",
     "text": [
      "fold  label\n",
      "0     0         279\n",
      "      1         671\n",
      "      2         590\n",
      "      3        3153\n",
      "      4         575\n",
      "1     0         278\n",
      "      1         671\n",
      "      2         590\n",
      "      3        3154\n",
      "      4         575\n",
      "2     0         278\n",
      "      1         672\n",
      "      2         589\n",
      "      3        3153\n",
      "      4         575\n",
      "3     0         278\n",
      "      1         672\n",
      "      2         589\n",
      "      3        3153\n",
      "      4         575\n",
      "4     0         278\n",
      "      1         672\n",
      "      2         589\n",
      "      3        3153\n",
      "      4         575\n",
      "dtype: int64\n"
     ]
    }
   ],
   "source": [
    "folds = train.copy()\n",
    "Fold = StratifiedKFold(n_splits=CFG.n_fold, shuffle=True, random_state=CFG.seed)\n",
    "for n, (train_index, val_index) in enumerate(Fold.split(folds, folds[CFG.target_col])):\n",
    "    folds.loc[val_index, \"fold\"] = int(n)\n",
    "folds[\"fold\"] = folds[\"fold\"].astype(int)\n",
    "print(folds.groupby([\"fold\", CFG.target_col]).size())"
   ]
  },
  {
   "cell_type": "markdown",
   "metadata": {},
   "source": [
    "# Dataset"
   ]
  },
  {
   "cell_type": "code",
   "execution_count": 10,
   "metadata": {},
   "outputs": [],
   "source": [
    "# ====================================================\n",
    "# Dataset\n",
    "# ====================================================\n",
    "class TrainDataset(Dataset):\n",
    "    def __init__(self, df, transform=None):\n",
    "        self.df = df\n",
    "        self.file_names = df[\"image_id\"].values\n",
    "        self.hard_target = df[\"label\"].values\n",
    "        self.soft_target = df[[0, 1, 2, 3, 4]].values\n",
    "        self.transform = transform\n",
    "\n",
    "    def __len__(self):\n",
    "        return len(self.df)\n",
    "\n",
    "    def __getitem__(self, idx):\n",
    "        file_name = self.file_names[idx]\n",
    "        file_path = f\"{TRAIN_PATH}/{file_name}\"\n",
    "        image = cv2.imread(file_path)\n",
    "        image = cv2.cvtColor(image, cv2.COLOR_BGR2RGB)\n",
    "        if self.transform:\n",
    "            augmented = self.transform(image=image)\n",
    "            image = augmented[\"image\"]\n",
    "        hard_target = torch.tensor(self.hard_target[idx]).long()\n",
    "        soft_target = torch.tensor(self.soft_target[idx]).float()\n",
    "        return image, hard_target, soft_target\n",
    "\n",
    "\n",
    "class TestDataset(Dataset):\n",
    "    def __init__(self, df, transform=None):\n",
    "        self.df = df\n",
    "        self.file_names = df[\"image_id\"].values\n",
    "        self.transform = transform\n",
    "\n",
    "    def __len__(self):\n",
    "        return len(self.df)\n",
    "\n",
    "    def __getitem__(self, idx):\n",
    "        file_name = self.file_names[idx]\n",
    "        file_path = f\"{TEST_PATH}/{file_name}\"\n",
    "        image = cv2.imread(file_path)\n",
    "        image = cv2.cvtColor(image, cv2.COLOR_BGR2RGB)\n",
    "        if self.transform:\n",
    "            augmented = self.transform(image=image)\n",
    "            image = augmented[\"image\"]\n",
    "        return image"
   ]
  },
  {
   "cell_type": "code",
   "execution_count": 11,
   "metadata": {},
   "outputs": [
    {
     "data": {
      "image/png": "[encoded data removed]",
      "text/plain": [
       "<Figure size 432x288 with 1 Axes>"
      ]
     },
     "metadata": {
      "needs_background": "light"
     },
     "output_type": "display_data"
    }
   ],
   "source": [
    "train_dataset = TrainDataset(train, transform=None)\n",
    "\n",
    "for i in range(1):\n",
    "    image, hard_target, soft_target = train_dataset[i]\n",
    "    plt.imshow(image)\n",
    "    plt.title(f\"hard_target: {hard_target}, soft_target: {soft_target}\")\n",
    "    plt.show()"
   ]
  },
  {
   "cell_type": "markdown",
   "metadata": {},
   "source": [
    "# Transforms"
   ]
  },
  {
   "cell_type": "code",
   "execution_count": 12,
   "metadata": {},
   "outputs": [],
   "source": [
    "# ====================================================\n",
    "# Transforms\n",
    "# ====================================================\n",
    "def get_transforms(*, data):\n",
    "\n",
    "    if data == \"train\":\n",
    "        return Compose(\n",
    "            [\n",
    "                # Resize(CFG.size, CFG.size),\n",
    "                RandomResizedCrop(CFG.size, CFG.size),\n",
    "                Transpose(p=0.5),\n",
    "                HorizontalFlip(p=0.5),\n",
    "                VerticalFlip(p=0.5),\n",
    "                ShiftScaleRotate(p=0.5),\n",
    "                HueSaturationValue(hue_shift_limit=0.2, sat_shift_limit=0.2, val_shift_limit=0.2, p=0.5),\n",
    "                RandomBrightnessContrast(brightness_limit=(-0.1, 0.1), contrast_limit=(-0.1, 0.1), p=0.5),\n",
    "                CoarseDropout(p=0.5),\n",
    "                Cutout(p=0.5),\n",
    "                Normalize(\n",
    "                    mean=[0.485, 0.456, 0.406],\n",
    "                    std=[0.229, 0.224, 0.225],\n",
    "                ),\n",
    "                ToTensorV2(),\n",
    "            ]\n",
    "        )\n",
    "\n",
    "    elif data == \"valid\":\n",
    "        return Compose(\n",
    "            [\n",
    "                Resize(CFG.size, CFG.size),\n",
    "                CenterCrop(CFG.size, CFG.size),\n",
    "                Normalize(\n",
    "                    mean=[0.485, 0.456, 0.406],\n",
    "                    std=[0.229, 0.224, 0.225],\n",
    "                ),\n",
    "                ToTensorV2(),\n",
    "            ]\n",
    "        )"
   ]
  },
  {
   "cell_type": "code",
   "execution_count": 13,
   "metadata": {},
   "outputs": [
    {
     "data": {
      "image/png": "[encoded data removed]",
      "text/plain": [
       "<Figure size 432x288 with 1 Axes>"
      ]
     },
     "metadata": {
      "needs_background": "light"
     },
     "output_type": "display_data"
    }
   ],
   "source": [
    "train_dataset = TrainDataset(train, transform=get_transforms(data=\"train\"))\n",
    "\n",
    "for i in range(1):\n",
    "    image, hard_target, soft_target = train_dataset[i]\n",
    "    plt.imshow(image[0])\n",
    "    plt.title(f\"hard_target: {hard_target}, soft_target: {soft_target}\")\n",
    "    plt.show()"
   ]
  },
  {
   "cell_type": "markdown",
   "metadata": {},
   "source": [
    "# CutMix / FMix\n"
   ]
  },
  {
   "cell_type": "code",
   "execution_count": 14,
   "metadata": {},
   "outputs": [],
   "source": [
    "def rand_bbox(size, lam):\n",
    "    W = size[2]\n",
    "    H = size[3]\n",
    "    cut_rat = np.sqrt(1.0 - lam)\n",
    "    cut_w = np.int(W * cut_rat)\n",
    "    cut_h = np.int(H * cut_rat)\n",
    "\n",
    "    # uniform\n",
    "    cx = np.random.randint(W)\n",
    "    cy = np.random.randint(H)\n",
    "\n",
    "    bbx1 = np.clip(cx - cut_w // 2, 0, W)\n",
    "    bby1 = np.clip(cy - cut_h // 2, 0, H)\n",
    "    bbx2 = np.clip(cx + cut_w // 2, 0, W)\n",
    "    bby2 = np.clip(cy + cut_h // 2, 0, H)\n",
    "    return bbx1, bby1, bbx2, bby2\n",
    "\n",
    "\n",
    "def cutmix(data, target, soft_target, alpha):\n",
    "    indices = torch.randperm(data.size(0))\n",
    "    shuffled_data = data[indices]\n",
    "    shuffled_target = target[indices]\n",
    "    shuffled_soft_target = soft_target[indices]\n",
    "\n",
    "    lam = np.clip(np.random.beta(alpha, alpha), 0.3, 0.4)\n",
    "    bbx1, bby1, bbx2, bby2 = rand_bbox(data.size(), lam)\n",
    "    new_data = data.clone()\n",
    "    new_data[:, :, bby1:bby2, bbx1:bbx2] = data[indices, :, bby1:bby2, bbx1:bbx2]\n",
    "    # adjust lambda to exactly match pixel ratio\n",
    "    lam = 1 - ((bbx2 - bbx1) * (bby2 - bby1) / (data.size()[-1] * data.size()[-2]))\n",
    "    targets = (target, soft_target, shuffled_target, shuffled_soft_target, lam)\n",
    "\n",
    "    return new_data, targets\n",
    "\n",
    "\n",
    "def fmix(data, targets, soft_target, alpha, decay_power, shape, max_soft=0.0, reformulate=False):\n",
    "    lam, mask = sample_mask(alpha, decay_power, shape, max_soft, reformulate)\n",
    "    if CFG.apex:\n",
    "        # mask = torch.tensor(mask, device=device).float()\n",
    "        mask = mask.astype(np.float32)\n",
    "    indices = torch.randperm(data.size(0))\n",
    "    shuffled_data = data[indices]\n",
    "    shuffled_targets = targets[indices]\n",
    "    shuffled_soft_target = soft_target[indices]\n",
    "    x1 = torch.from_numpy(mask).to(device) * data\n",
    "    x2 = torch.from_numpy(1 - mask).to(device) * shuffled_data\n",
    "    targets = (targets, soft_target, shuffled_targets, shuffled_soft_target, lam)\n",
    "\n",
    "    return (x1 + x2), targets"
   ]
  },
  {
   "cell_type": "markdown",
   "metadata": {},
   "source": [
    "# MixUp"
   ]
  },
  {
   "cell_type": "code",
   "execution_count": 15,
   "metadata": {},
   "outputs": [],
   "source": [
    "# https://github.com/yuhao318/mwh/blob/e9e2da8fc6/utils.py\n",
    "def mixup(x, y, soft_target, alpha=1.0, use_cuda=True):\n",
    "\n",
    "    \"\"\"Compute the mixup data. Return mixed inputs, pairs of targets, and lambda\"\"\"\n",
    "    if alpha > 0.0:\n",
    "        lam = np.random.beta(alpha, alpha)\n",
    "        lam = max(lam, 1 - lam)\n",
    "        # lam = min(lam, 1-lam)\n",
    "    else:\n",
    "        lam = 1.0\n",
    "    batch_size = x.size()[0]\n",
    "    if use_cuda:\n",
    "        index = torch.randperm(batch_size).cuda()\n",
    "    else:\n",
    "        index = torch.randperm(batch_size)\n",
    "\n",
    "    ## SYM\n",
    "    # mixed_x = lam * x + (1 - lam) * x[index,:]\n",
    "    # mixed_y = (1 - lam) * x + lam * x[index,:]\n",
    "    # mixed_image  = torch.cat([mixed_x,mixed_y], 0)\n",
    "    # y_a, y_b = y, y[index]\n",
    "    # mixed_label  = torch.cat([y_a,y_b], 0)\n",
    "\n",
    "    ## Reduce batch size\n",
    "    # new_batch_size = batch_size // 2\n",
    "    # x_i = x[ : new_batch_size]\n",
    "    # x_j = x[new_batch_size : ]\n",
    "    # y_a = y[ : new_batch_size]\n",
    "    # y_b = y[new_batch_size : ]\n",
    "    # mixed_x = lam * x_i + (1 - lam) * x_j\n",
    "\n",
    "    ## NO SYM\n",
    "    mixed_x = lam * x + (1 - lam) * x[index, :]\n",
    "    y_a, y_b = y, y[index]\n",
    "    shuffled_soft_target = soft_target[index]\n",
    "\n",
    "    ## Only Alpha\n",
    "    # mixed_x = 0.5 * x + (1 - 0.5) * x[index,:]\n",
    "    # mixed_image  = mixed_x\n",
    "    # y_a, y_b = y, y[index]\n",
    "    # ind_label = torch.randint_like(y, 0,2)\n",
    "    # mixed_label  = ind_label * y_a + (1-ind_label) * y_b\n",
    "\n",
    "    ## Reduce batch size and SYM\n",
    "    # new_batch_size = batch_size // 2\n",
    "    # x_i = x[ : new_batch_size]\n",
    "    # x_j = x[new_batch_size : ]\n",
    "    # y_a = y[ : new_batch_size]\n",
    "    # y_b = y[new_batch_size : ]\n",
    "    # mixed_x = lam * x_i + (1 - lam) * x_j\n",
    "    # mixed_y = (1 - lam) * x_i + lam * x_j\n",
    "    # mixed_x  = torch.cat([mixed_x,mixed_y], 0)\n",
    "    # y_b = torch.cat([y_b,y_a], 0)\n",
    "    # y_a = y\n",
    "\n",
    "    # return mixed_image, mixed_label, lam\n",
    "    return mixed_x, (y_a, soft_target, y_b, shuffled_soft_target, lam)"
   ]
  },
  {
   "cell_type": "markdown",
   "metadata": {},
   "source": [
    "# MODEL"
   ]
  },
  {
   "cell_type": "code",
   "execution_count": 16,
   "metadata": {},
   "outputs": [],
   "source": [
    "# ====================================================\n",
    "# MODEL\n",
    "# ====================================================\n",
    "class CassvaImgClassifier(nn.Module):\n",
    "    def __init__(self, model_name=\"resnext50_32x4d\", pretrained=False):\n",
    "        super().__init__()\n",
    "        self.model_name = model_name\n",
    "\n",
    "        if model_name.startswith(\"deit_\"):\n",
    "            self.model = torch.hub.load(\"facebookresearch/deit:main\", model_name, pretrained=True)\n",
    "\n",
    "            if model_name == \"deit_base_patch16_384\":\n",
    "                n_features = self.model.head.in_features\n",
    "                self.model.head = nn.Linear(n_features, CFG.target_size)\n",
    "\n",
    "        else:\n",
    "            self.model = timm.create_model(model_name, pretrained=pretrained)\n",
    "\n",
    "            if \"resnext50_32x4d\" in model_name:\n",
    "                n_features = self.model.fc.in_features\n",
    "                self.model.fc = nn.Linear(n_features, CFG.target_size)\n",
    "\n",
    "            elif model_name.startswith(\"tf_efficientnet\"):\n",
    "                n_features = self.model.classifier.in_features\n",
    "                self.model.classifier = nn.Linear(n_features, CFG.target_size)\n",
    "\n",
    "            elif model_name.startswith(\"vit_\"):\n",
    "                n_features = self.model.head.in_features\n",
    "                self.model.head = nn.Linear(n_features, CFG.target_size)\n",
    "\n",
    "    def forward(self, x):\n",
    "        x = self.model(x)\n",
    "        return x"
   ]
  },
  {
   "cell_type": "code",
   "execution_count": 17,
   "metadata": {},
   "outputs": [],
   "source": [
    "def freeze_batch_normalization(model):\n",
    "    if CFG.model_name.startswith(\"tf_efficientnet_\"):\n",
    "        for name1, child1 in model.named_children():\n",
    "            for name2, child2 in child1.named_children():\n",
    "                # print(f\"===== {name2} =====\")\n",
    "                if name2.startswith(\"bn\"):\n",
    "                    for param in child2.parameters():\n",
    "                        param.requires_grad = False\n",
    "                        # print(param.requires_grad)\n",
    "\n",
    "                for child3 in child2.children():\n",
    "                    if isinstance(child3, nn.modules.container.Sequential):\n",
    "                        for child4 in child3.children():\n",
    "                            for child5 in child4.children():\n",
    "                                if isinstance(child5, nn.BatchNorm2d):\n",
    "                                    # print(child5)\n",
    "                                    for param in child5.parameters():\n",
    "                                        param.requires_grad = False\n",
    "                                        # print(param.requires_grad)\n",
    "\n",
    "    if CFG.model_name.startswith(\"vit_\"):\n",
    "        try:\n",
    "            for m in model.modules():\n",
    "                if isinstance(m, nn.BatchNorm2d) or isinstance(m, nn.LayerNorm):\n",
    "                    m.eval()\n",
    "        except ValuError:\n",
    "            print(\"error with batchnorm2d or layernorm\")\n",
    "            return"
   ]
  },
  {
   "cell_type": "code",
   "execution_count": 18,
   "metadata": {},
   "outputs": [
    {
     "name": "stdout",
     "output_type": "stream",
     "text": [
      "tensor([[ 0.3405,  0.1432,  0.1180, -0.1272,  0.0600],\n",
      "        [-0.0630,  0.0255, -0.1061,  0.0779, -0.0010],\n",
      "        [ 0.0283,  0.0761, -0.0753,  0.0680,  0.0644],\n",
      "        [ 0.0899,  0.0703, -0.0103, -0.0237,  0.0643]],\n",
      "       grad_fn=<AddmmBackward>)\n"
     ]
    }
   ],
   "source": [
    "model = CassvaImgClassifier(model_name=CFG.model_name, pretrained=False)\n",
    "freeze_batch_normalization(model)\n",
    "# print(model)\n",
    "\n",
    "train_dataset = TrainDataset(train, transform=get_transforms(data=\"train\"))\n",
    "train_loader = DataLoader(train_dataset, batch_size=4, shuffle=True, num_workers=4, pin_memory=True, drop_last=True)\n",
    "\n",
    "for image, hard_target, soft_target in train_loader:\n",
    "    output = model(image)\n",
    "    print(output)\n",
    "    break"
   ]
  },
  {
   "cell_type": "markdown",
   "metadata": {},
   "source": [
    "# Loss functions"
   ]
  },
  {
   "cell_type": "code",
   "execution_count": 19,
   "metadata": {},
   "outputs": [],
   "source": [
    "class BiTemperedLogisticLoss(nn.Module):\n",
    "    def __init__(self, t1, t2, smoothing=0.0):\n",
    "        super(BiTemperedLogisticLoss, self).__init__()\n",
    "        self.t1 = t1\n",
    "        self.t2 = t2\n",
    "        self.smoothing = smoothing\n",
    "\n",
    "    def forward(self, logit_label, truth_label):\n",
    "        loss_label = btl.bi_tempered_logistic_loss(\n",
    "            logit_label, truth_label, t1=self.t1, t2=self.t2, label_smoothing=self.smoothing, reduction=\"none\"\n",
    "        )\n",
    "\n",
    "        loss_label = loss_label.mean()\n",
    "        return loss_label"
   ]
  },
  {
   "cell_type": "code",
   "execution_count": 20,
   "metadata": {},
   "outputs": [],
   "source": [
    "class DistillationLoss(nn.Module):\n",
    "    def __init__(self, criterion):\n",
    "        super().__init__()\n",
    "        self.criterion = criterion\n",
    "        self.alpha = CFG.kd_alpha\n",
    "        self.T = CFG.kd_temperature\n",
    "\n",
    "    # https://github.com/peterliht/knowledge-distillation-pytorch/blob/b1e4b6acb8d4e138ad12ba1aac22d5da42a85c10/model/net.py#L100\n",
    "    def forward(self, outputs, hard_target, soft_target):\n",
    "        \"\"\"\n",
    "        Compute the knowledge-distillation (KD) loss given outputs, labels.\n",
    "        \"Hyperparameters\": temperature and alpha\n",
    "        NOTE: the KL Divergence for PyTorch comparing the softmaxs of teacher\n",
    "        and student expects the input tensor to be log probabilities! See Issue #2\n",
    "        \"\"\"\n",
    "        KD_loss = nn.KLDivLoss()(F.log_softmax(outputs / self.T, dim=1), F.softmax(soft_target / self.T, dim=1)) * (\n",
    "            self.alpha * self.T * self.T\n",
    "        ) + self.criterion(outputs, hard_target) * (1.0 - self.alpha)\n",
    "\n",
    "        return KD_loss"
   ]
  },
  {
   "cell_type": "markdown",
   "metadata": {},
   "source": [
    "# Helper functions"
   ]
  },
  {
   "cell_type": "code",
   "execution_count": 21,
   "metadata": {},
   "outputs": [],
   "source": [
    "# ====================================================\n",
    "# Helper functions\n",
    "# ====================================================\n",
    "class AverageMeter(object):\n",
    "    \"\"\"Computes and stores the average and current value\"\"\"\n",
    "\n",
    "    def __init__(self):\n",
    "        self.reset()\n",
    "\n",
    "    def reset(self):\n",
    "        self.val = 0\n",
    "        self.avg = 0\n",
    "        self.sum = 0\n",
    "        self.count = 0\n",
    "\n",
    "    def update(self, val, n=1):\n",
    "        self.val = val\n",
    "        self.sum += val * n\n",
    "        self.count += n\n",
    "        self.avg = self.sum / self.count\n",
    "\n",
    "\n",
    "def asMinutes(s):\n",
    "    m = math.floor(s / 60)\n",
    "    s -= m * 60\n",
    "    return \"%dm %ds\" % (m, s)\n",
    "\n",
    "\n",
    "def timeSince(since, percent):\n",
    "    now = time.time()\n",
    "    s = now - since\n",
    "    es = s / (percent)\n",
    "    rs = es - s\n",
    "    return \"%s (remain %s)\" % (asMinutes(s), asMinutes(rs))\n",
    "\n",
    "\n",
    "def train_fn(train_loader, model, criterion, optimizer, epoch, scheduler, device, scheduler_batch_update=True):\n",
    "    batch_time = AverageMeter()\n",
    "    data_time = AverageMeter()\n",
    "    losses = AverageMeter()\n",
    "    scores = AverageMeter()\n",
    "    # switch to train mode\n",
    "    model.train()\n",
    "    start = end = time.time()\n",
    "    global_step = 0\n",
    "    for step, (images, hard_target, soft_target) in enumerate(train_loader):\n",
    "        # measure data loading time\n",
    "        data_time.update(time.time() - end)\n",
    "        images = images.to(device)\n",
    "        hard_target = hard_target.to(device)\n",
    "        soft_target = soft_target.to(device)\n",
    "        batch_size = hard_target.shape[0]\n",
    "\n",
    "        # CutMix, FMix\n",
    "        if epoch <= 1 or epoch >= CFG.epochs - 1:\n",
    "            mix_decision = 0.75  # Disable CutMix, FMix for final epoch\n",
    "        else:\n",
    "            mix_decision = np.random.rand()\n",
    "\n",
    "        if epoch >= CFG.epochs - 4:\n",
    "            mix_decision *= 2  # Reduce probability\n",
    "\n",
    "        if mix_decision < 0.25:\n",
    "            images, labels = cutmix(images, hard_target, soft_target, 1.0)\n",
    "        elif mix_decision >= 0.25 and mix_decision < 0.5:\n",
    "            images, labels = fmix(\n",
    "                images, hard_target, soft_target, alpha=1.0, decay_power=5.0, shape=(CFG.size, CFG.size)\n",
    "            )\n",
    "        elif mix_decision >= 0.5 and mix_decision < 0.75:\n",
    "            images, labels = mixup(images, hard_target, soft_target, alpha=0.5)\n",
    "\n",
    "        y_preds = model(images.float())\n",
    "\n",
    "        if mix_decision < 0.75:\n",
    "            loss = criterion(y_preds, labels[0], labels[1]) * labels[4] + criterion(y_preds, labels[2], labels[3]) * (\n",
    "                1.0 - labels[4]\n",
    "            )\n",
    "        else:\n",
    "            loss = criterion(y_preds, hard_target, soft_target)\n",
    "\n",
    "        # record loss\n",
    "        losses.update(loss.item(), batch_size)\n",
    "        if CFG.gradient_accumulation_steps > 1:\n",
    "            loss = loss / CFG.gradient_accumulation_steps\n",
    "        if CFG.apex:\n",
    "            with amp.scale_loss(loss, optimizer) as scaled_loss:\n",
    "                scaled_loss.backward()\n",
    "        else:\n",
    "            loss.backward()\n",
    "        grad_norm = torch.nn.utils.clip_grad_norm_(model.parameters(), CFG.max_grad_norm)\n",
    "        if (step + 1) % CFG.gradient_accumulation_steps == 0:\n",
    "            optimizer.step()\n",
    "            optimizer.zero_grad()\n",
    "\n",
    "            if CFG.scheduler_batch_update:\n",
    "                scheduler.step()\n",
    "\n",
    "            global_step += 1\n",
    "        # measure elapsed time\n",
    "        batch_time.update(time.time() - end)\n",
    "        end = time.time()\n",
    "        if step % CFG.print_freq == 0 or step == (len(train_loader) - 1):\n",
    "            print(\n",
    "                \"Epoch: [{0}][{1}/{2}] \"\n",
    "                # \"Data {data_time.val:.3f} ({data_time.avg:.3f}) \"\n",
    "                # \"Batch {batch_time.val:.3f} ({batch_time.avg:.3f}) \"\n",
    "                \"Elapsed {remain:s} \"\n",
    "                \"Loss: {loss.val:.4f}({loss.avg:.4f}) \"\n",
    "                \"Grad: {grad_norm:.4f} \"\n",
    "                \"LR: {lr:.6f}  \".format(\n",
    "                    epoch + 1,\n",
    "                    step,\n",
    "                    len(train_loader),\n",
    "                    # batch_time=batch_time,\n",
    "                    # data_time=data_time,\n",
    "                    loss=losses,\n",
    "                    remain=timeSince(start, float(step + 1) / len(train_loader)),\n",
    "                    grad_norm=grad_norm,\n",
    "                    lr=scheduler.get_lr()[0],\n",
    "                )\n",
    "            )\n",
    "    return losses.avg\n",
    "\n",
    "\n",
    "def valid_fn(valid_loader, model, criterion, device):\n",
    "    batch_time = AverageMeter()\n",
    "    data_time = AverageMeter()\n",
    "    losses = AverageMeter()\n",
    "    scores = AverageMeter()\n",
    "    # switch to evaluation mode\n",
    "    model.eval()\n",
    "    preds = []\n",
    "    start = end = time.time()\n",
    "    for step, (images, hard_target, soft_target) in enumerate(valid_loader):\n",
    "        # measure data loading time\n",
    "        data_time.update(time.time() - end)\n",
    "        images = images.to(device)\n",
    "        hard_target = hard_target.to(device)\n",
    "        soft_target = soft_target.to(device)\n",
    "        batch_size = hard_target.shape[0]\n",
    "        # compute loss\n",
    "        with torch.no_grad():\n",
    "            y_preds = model(images)\n",
    "        loss = criterion(y_preds, hard_target, soft_target)\n",
    "        losses.update(loss.item(), batch_size)\n",
    "        # record accuracy\n",
    "        preds.append(y_preds.softmax(1).to(\"cpu\").numpy())\n",
    "        if CFG.gradient_accumulation_steps > 1:\n",
    "            loss = loss / CFG.gradient_accumulation_steps\n",
    "        # measure elapsed time\n",
    "        batch_time.update(time.time() - end)\n",
    "        end = time.time()\n",
    "        if step % CFG.print_freq == 0 or step == (len(valid_loader) - 1):\n",
    "            print(\n",
    "                \"EVAL: [{0}/{1}] \"\n",
    "                # \"Data {data_time.val:.3f} ({data_time.avg:.3f}) \"\n",
    "                # \"Batch {batch_time.val:.3f} ({batch_time.avg:.3f}) \"\n",
    "                \"Elapsed {remain:s} \"\n",
    "                \"Loss: {loss.val:.4f}({loss.avg:.4f}) \".format(\n",
    "                    step,\n",
    "                    len(valid_loader),\n",
    "                    # batch_time=batch_time,\n",
    "                    # data_time=data_time,\n",
    "                    loss=losses,\n",
    "                    remain=timeSince(start, float(step + 1) / len(valid_loader)),\n",
    "                )\n",
    "            )\n",
    "    predictions = np.concatenate(preds)\n",
    "    return losses.avg, predictions\n",
    "\n",
    "\n",
    "def inference(model, states, test_loader, device):\n",
    "    model.to(device)\n",
    "    tk0 = tqdm(enumerate(test_loader), total=len(test_loader))\n",
    "    probs = []\n",
    "    for i, (images) in tk0:\n",
    "        images = images.to(device)\n",
    "        avg_preds = []\n",
    "        for state in states:\n",
    "            model.load_state_dict(state[\"model\"])\n",
    "            model.eval()\n",
    "            with torch.no_grad():\n",
    "                y_preds = model(images)\n",
    "            avg_preds.append(y_preds.softmax(1).to(\"cpu\").numpy())\n",
    "        avg_preds = np.mean(avg_preds, axis=0)\n",
    "        probs.append(avg_preds)\n",
    "    probs = np.concatenate(probs)\n",
    "    return probs"
   ]
  },
  {
   "cell_type": "markdown",
   "metadata": {},
   "source": [
    "# Train loop"
   ]
  },
  {
   "cell_type": "code",
   "execution_count": 22,
   "metadata": {
    "_cell_guid": "b1076dfc-b9ad-4769-8c92-a6c4dae69d19",
    "_uuid": "8f2839f25d086af736a60e9eeb907d3b93b6e0e5"
   },
   "outputs": [],
   "source": [
    "# ====================================================\n",
    "# Train loop\n",
    "# ====================================================\n",
    "def train_loop(folds, fold):\n",
    "\n",
    "    LOGGER.info(f\"========== fold: {fold} training ==========\")\n",
    "\n",
    "    # ====================================================\n",
    "    # loader\n",
    "    # ====================================================\n",
    "    trn_idx = folds[folds[\"fold\"] != fold].index\n",
    "    val_idx = folds[folds[\"fold\"] == fold].index\n",
    "\n",
    "    train_folds = folds.loc[trn_idx].reset_index(drop=True)\n",
    "    valid_folds = folds.loc[val_idx].reset_index(drop=True)\n",
    "\n",
    "    train_dataset = TrainDataset(train_folds, transform=get_transforms(data=\"train\"))\n",
    "    train_dataset_no_aug = TrainDataset(train_folds, transform=get_transforms(data=\"valid\"))\n",
    "    valid_dataset = TrainDataset(valid_folds, transform=get_transforms(data=\"valid\"))\n",
    "\n",
    "    train_loader = DataLoader(\n",
    "        train_dataset,\n",
    "        batch_size=CFG.batch_size,\n",
    "        shuffle=True,\n",
    "        num_workers=CFG.num_workers,\n",
    "        pin_memory=True,\n",
    "        drop_last=True,\n",
    "    )\n",
    "    train_loader_no_aug = DataLoader(\n",
    "        train_dataset_no_aug,\n",
    "        batch_size=CFG.batch_size,\n",
    "        shuffle=True,\n",
    "        num_workers=CFG.num_workers,\n",
    "        pin_memory=True,\n",
    "        drop_last=True,\n",
    "    )\n",
    "    valid_loader = DataLoader(\n",
    "        valid_dataset,\n",
    "        batch_size=CFG.batch_size,\n",
    "        shuffle=False,\n",
    "        num_workers=CFG.num_workers,\n",
    "        pin_memory=True,\n",
    "        drop_last=False,\n",
    "    )\n",
    "\n",
    "    # ====================================================\n",
    "    # scheduler\n",
    "    # ====================================================\n",
    "    def get_scheduler(optimizer):\n",
    "        if CFG.scheduler == \"ReduceLROnPlateau\":\n",
    "            scheduler = ReduceLROnPlateau(\n",
    "                optimizer, mode=\"min\", factor=CFG.factor, patience=CFG.patience, verbose=True, eps=CFG.eps\n",
    "            )\n",
    "        elif CFG.scheduler == \"CosineAnnealingLR\":\n",
    "            scheduler = CosineAnnealingLR(optimizer, T_max=CFG.T_max, eta_min=CFG.min_lr, last_epoch=-1)\n",
    "        elif CFG.scheduler == \"CosineAnnealingWarmRestarts\":\n",
    "            scheduler = CosineAnnealingWarmRestarts(optimizer, T_0=CFG.T_0, T_mult=1, eta_min=CFG.min_lr, last_epoch=-1)\n",
    "        elif CFG.scheduler == \"CosineAnnealingWarmupRestarts\":\n",
    "            scheduler = CosineAnnealingWarmupRestarts(\n",
    "                optimizer,\n",
    "                first_cycle_steps=CFG.first_cycle_steps,\n",
    "                cycle_mult=1.0,\n",
    "                max_lr=CFG.lr,\n",
    "                min_lr=CFG.min_lr,\n",
    "                warmup_steps=CFG.warmup_steps,\n",
    "                gamma=CFG.gamma,\n",
    "            )\n",
    "        return scheduler\n",
    "\n",
    "    # ====================================================\n",
    "    # model & optimizer\n",
    "    # ====================================================\n",
    "    model = CassvaImgClassifier(CFG.model_name, pretrained=True)\n",
    "    freeze_batch_normalization(model)\n",
    "\n",
    "    model.to(device)\n",
    "\n",
    "    # Use multi GPU\n",
    "    if device == torch.device(\"cuda\") and not CFG.apex:\n",
    "        model = torch.nn.DataParallel(model)  # make parallel\n",
    "        # torch.backends.cudnn.benchmark=True\n",
    "\n",
    "    optimizer = Adam(model.parameters(), lr=CFG.lr, weight_decay=CFG.weight_decay, amsgrad=False)\n",
    "    scheduler = get_scheduler(optimizer)\n",
    "\n",
    "    # ====================================================\n",
    "    # apex\n",
    "    # ====================================================\n",
    "    if CFG.apex:\n",
    "        model, optimizer = amp.initialize(model, optimizer, opt_level=\"O1\", verbosity=0)\n",
    "\n",
    "    # ====================================================\n",
    "    # Criterion\n",
    "    # ====================================================\n",
    "    def get_criterion():\n",
    "        if CFG.criterion == \"CrossEntropyLoss\":\n",
    "            hard_criterion = nn.CrossEntropyLoss()\n",
    "        elif CFG.criterion == \"BiTemperedLoss\":\n",
    "            hard_criterion = BiTemperedLogisticLoss(t1=CFG.btl_t1, t2=CFG.btl_t2, smoothing=CFG.label_smoothing)\n",
    "\n",
    "        criterion = DistillationLoss(hard_criterion)\n",
    "        return criterion\n",
    "\n",
    "    criterion = get_criterion()\n",
    "\n",
    "    # ====================================================\n",
    "    # loop\n",
    "    # ====================================================\n",
    "    best_score = 0.0\n",
    "    best_loss = np.inf\n",
    "\n",
    "    for epoch in range(CFG.epochs):\n",
    "\n",
    "        start_time = time.time()\n",
    "\n",
    "        # train\n",
    "        if epoch <= 1 or epoch >= CFG.epochs - 1:\n",
    "            avg_loss = train_fn(\n",
    "                train_loader_no_aug, model, criterion, optimizer, epoch, scheduler, device, CFG.scheduler_batch_update\n",
    "            )\n",
    "        else:\n",
    "            avg_loss = train_fn(\n",
    "                train_loader, model, criterion, optimizer, epoch, scheduler, device, CFG.scheduler_batch_update\n",
    "            )\n",
    "\n",
    "        # eval\n",
    "        avg_val_loss, preds = valid_fn(valid_loader, model, criterion, device)\n",
    "        valid_labels = valid_folds[CFG.target_col].values\n",
    "\n",
    "        if not CFG.scheduler_batch_update:\n",
    "            if isinstance(scheduler, ReduceLROnPlateau):\n",
    "                scheduler.step(avg_val_loss)\n",
    "            elif isinstance(scheduler, CosineAnnealingLR):\n",
    "                scheduler.step()\n",
    "            elif isinstance(scheduler, CosineAnnealingWarmRestarts):\n",
    "                scheduler.step()\n",
    "\n",
    "        # scoring\n",
    "        score = get_score(valid_labels, preds.argmax(1))\n",
    "\n",
    "        elapsed = time.time() - start_time\n",
    "\n",
    "        LOGGER.info(\n",
    "            f\"Epoch {epoch+1} - avg_train_loss: {avg_loss:.4f}  avg_val_loss: {avg_val_loss:.4f}  time: {elapsed:.0f}s\"\n",
    "        )\n",
    "        LOGGER.info(f\"Epoch {epoch+1} - Accuracy: {score}\")\n",
    "\n",
    "        if score > best_score:\n",
    "            best_score = score\n",
    "            LOGGER.info(f\"Epoch {epoch+1} - Save Best Score: {best_score:.4f} Model\")\n",
    "            torch.save(\n",
    "                {\"model\": model.state_dict(), \"preds\": preds}, OUTPUT_DIR + f\"{CFG.model_name}_fold{fold}_best.pth\"\n",
    "            )\n",
    "\n",
    "        if epoch == CFG.epochs - 1:\n",
    "            LOGGER.info(f\"Epoch {epoch+1} - Save final model\")\n",
    "            torch.save(\n",
    "                {\"model\": model.state_dict(), \"preds\": preds}, OUTPUT_DIR + f\"{CFG.model_name}_fold{fold}_final.pth\"\n",
    "            )\n",
    "\n",
    "    check_point = torch.load(OUTPUT_DIR + f\"{CFG.model_name}_fold{fold}_best.pth\")\n",
    "    valid_folds[[str(c) for c in range(5)]] = check_point[\"preds\"]\n",
    "    valid_folds[\"preds\"] = check_point[\"preds\"].argmax(1)\n",
    "\n",
    "    return valid_folds"
   ]
  },
  {
   "cell_type": "code",
   "execution_count": 23,
   "metadata": {},
   "outputs": [],
   "source": [
    "# ====================================================\n",
    "# main\n",
    "# ====================================================\n",
    "def main():\n",
    "\n",
    "    \"\"\"\n",
    "    Prepare: 1.train  2.test  3.submission  4.folds\n",
    "    \"\"\"\n",
    "\n",
    "    def get_result(result_df):\n",
    "        preds = result_df[\"preds\"].values\n",
    "        labels = result_df[CFG.target_col].values\n",
    "        score = get_score(labels, preds)\n",
    "        LOGGER.info(f\"Score: {score:<.5f}\")\n",
    "\n",
    "    if CFG.train:\n",
    "        # train\n",
    "        oof_df = pd.DataFrame()\n",
    "        for fold in range(CFG.n_fold):\n",
    "            if fold in CFG.trn_fold:\n",
    "                _oof_df = train_loop(folds, fold)\n",
    "                oof_df = pd.concat([oof_df, _oof_df])\n",
    "                LOGGER.info(f\"========== fold: {fold} result ==========\")\n",
    "                get_result(_oof_df)\n",
    "        # CV result\n",
    "        LOGGER.info(f\"========== CV ==========\")\n",
    "        get_result(oof_df)\n",
    "        # save result\n",
    "        oof_df.to_csv(OUTPUT_DIR + \"oof_df.csv\", index=False)\n",
    "\n",
    "    if CFG.inference:\n",
    "        # inference\n",
    "        model = CassvaImgClassifier(CFG.model_name, pretrained=False)\n",
    "        states = [torch.load(OUTPUT_DIR + f\"{CFG.model_name}_fold{fold}_best.pth\") for fold in CFG.trn_fold]\n",
    "        test_dataset = TestDataset(test, transform=get_transforms(data=\"valid\"))\n",
    "        test_loader = DataLoader(\n",
    "            test_dataset, batch_size=CFG.batch_size, shuffle=False, num_workers=CFG.num_workers, pin_memory=True\n",
    "        )\n",
    "        predictions = inference(model, states, test_loader, device)\n",
    "        # submission\n",
    "        test[\"label\"] = predictions.argmax(1)\n",
    "        test[[\"image_id\", \"label\"]].to_csv(OUTPUT_DIR + \"submission.csv\", index=False)"
   ]
  },
  {
   "cell_type": "code",
   "execution_count": 24,
   "metadata": {
    "_cell_guid": "79c7e3d0-c299-4dcb-8224-4455121ee9b0",
    "_uuid": "d629ff2d2480ee46fbb7e2d37f6b5fab8052498a"
   },
   "outputs": [
    {
     "name": "stderr",
     "output_type": "stream",
     "text": [
      "========== fold: 0 training ==========\n",
      "Downloading: \"https://github.com/rwightman/pytorch-image-models/releases/download/v0.1-weights/tf_efficientnet_b4_ns-d6313a46.pth\" to /root/.cache/torch/hub/checkpoints/tf_efficientnet_b4_ns-d6313a46.pth\n"
     ]
    },
    {
     "name": "stdout",
     "output_type": "stream",
     "text": [
      "Epoch: [1][0/1316] Elapsed 0m 8s (remain 191m 44s) Loss: 0.0409(0.0409) Grad: 0.0555 LR: 0.000100  \n",
      "Epoch: [1][100/1316] Elapsed 0m 40s (remain 8m 8s) Loss: 0.0284(0.0289) Grad: 0.0466 LR: 0.000100  \n",
      "Epoch: [1][200/1316] Elapsed 1m 11s (remain 6m 38s) Loss: 0.0200(0.0264) Grad: 0.0388 LR: 0.000100  \n",
      "Epoch: [1][300/1316] Elapsed 1m 43s (remain 5m 48s) Loss: 0.0207(0.0247) Grad: 0.0428 LR: 0.000100  \n",
      "Epoch: [1][400/1316] Elapsed 2m 14s (remain 5m 7s) Loss: 0.0204(0.0236) Grad: 0.0366 LR: 0.000100  \n",
      "Epoch: [1][500/1316] Elapsed 2m 46s (remain 4m 30s) Loss: 0.0196(0.0227) Grad: 0.0358 LR: 0.000100  \n",
      "Epoch: [1][600/1316] Elapsed 3m 17s (remain 3m 55s) Loss: 0.0151(0.0219) Grad: 0.0205 LR: 0.000099  \n",
      "Epoch: [1][700/1316] Elapsed 3m 48s (remain 3m 20s) Loss: 0.0177(0.0215) Grad: 0.0315 LR: 0.000099  \n",
      "Epoch: [1][800/1316] Elapsed 4m 20s (remain 2m 47s) Loss: 0.0174(0.0211) Grad: 0.0216 LR: 0.000099  \n",
      "Epoch: [1][900/1316] Elapsed 4m 51s (remain 2m 14s) Loss: 0.0152(0.0207) Grad: 0.0172 LR: 0.000099  \n",
      "Epoch: [1][1000/1316] Elapsed 5m 22s (remain 1m 41s) Loss: 0.0158(0.0204) Grad: 0.0223 LR: 0.000099  \n",
      "Epoch: [1][1100/1316] Elapsed 5m 54s (remain 1m 9s) Loss: 0.0161(0.0201) Grad: 0.0223 LR: 0.000098  \n",
      "Epoch: [1][1200/1316] Elapsed 6m 25s (remain 0m 36s) Loss: 0.0157(0.0198) Grad: 0.0247 LR: 0.000098  \n",
      "Epoch: [1][1300/1316] Elapsed 6m 57s (remain 0m 4s) Loss: 0.0219(0.0196) Grad: 0.0395 LR: 0.000098  \n",
      "Epoch: [1][1315/1316] Elapsed 7m 1s (remain 0m 0s) Loss: 0.0208(0.0195) Grad: 0.0510 LR: 0.000098  \n",
      "EVAL: [0/330] Elapsed 0m 1s (remain 5m 34s) Loss: 0.0189(0.0189) \n",
      "EVAL: [100/330] Elapsed 0m 17s (remain 0m 40s) Loss: 0.0145(0.0158) \n",
      "EVAL: [200/330] Elapsed 0m 35s (remain 0m 22s) Loss: 0.0157(0.0159) \n",
      "EVAL: [300/330] Elapsed 0m 54s (remain 0m 5s) Loss: 0.0165(0.0159) \n"
     ]
    },
    {
     "name": "stderr",
     "output_type": "stream",
     "text": [
      "Epoch 1 - avg_train_loss: 0.0195  avg_val_loss: 0.0159  time: 483s\n",
      "Epoch 1 - Accuracy: 0.9316628701594533\n",
      "Epoch 1 - Save Best Score: 0.9317 Model\n"
     ]
    },
    {
     "name": "stdout",
     "output_type": "stream",
     "text": [
      "EVAL: [329/330] Elapsed 1m 0s (remain 0m 0s) Loss: 0.0193(0.0159) \n",
      "Epoch: [2][0/1316] Elapsed 0m 1s (remain 24m 53s) Loss: 0.0167(0.0167) Grad: 0.0232 LR: 0.000098  \n",
      "Epoch: [2][100/1316] Elapsed 0m 31s (remain 6m 18s) Loss: 0.0148(0.0157) Grad: 0.0158 LR: 0.000097  \n",
      "Epoch: [2][200/1316] Elapsed 1m 2s (remain 5m 45s) Loss: 0.0155(0.0155) Grad: 0.0220 LR: 0.000097  \n",
      "Epoch: [2][300/1316] Elapsed 1m 32s (remain 5m 12s) Loss: 0.0154(0.0155) Grad: 0.0199 LR: 0.000096  \n",
      "Epoch: [2][400/1316] Elapsed 2m 2s (remain 4m 40s) Loss: 0.0154(0.0155) Grad: 0.0196 LR: 0.000096  \n",
      "Epoch: [2][500/1316] Elapsed 2m 33s (remain 4m 9s) Loss: 0.0148(0.0155) Grad: 0.0227 LR: 0.000095  \n",
      "Epoch: [2][600/1316] Elapsed 3m 3s (remain 3m 38s) Loss: 0.0135(0.0155) Grad: 0.0169 LR: 0.000095  \n",
      "Epoch: [2][700/1316] Elapsed 3m 34s (remain 3m 7s) Loss: 0.0147(0.0155) Grad: 0.0169 LR: 0.000094  \n",
      "Epoch: [2][800/1316] Elapsed 4m 4s (remain 2m 37s) Loss: 0.0159(0.0155) Grad: 0.0232 LR: 0.000094  \n",
      "Epoch: [2][900/1316] Elapsed 4m 34s (remain 2m 6s) Loss: 0.0164(0.0155) Grad: 0.0272 LR: 0.000093  \n",
      "Epoch: [2][1000/1316] Elapsed 5m 4s (remain 1m 35s) Loss: 0.0156(0.0155) Grad: 0.0299 LR: 0.000093  \n",
      "Epoch: [2][1100/1316] Elapsed 5m 34s (remain 1m 5s) Loss: 0.0130(0.0154) Grad: 0.0102 LR: 0.000092  \n",
      "Epoch: [2][1200/1316] Elapsed 6m 4s (remain 0m 34s) Loss: 0.0160(0.0154) Grad: 0.0292 LR: 0.000091  \n",
      "Epoch: [2][1300/1316] Elapsed 6m 34s (remain 0m 4s) Loss: 0.0181(0.0154) Grad: 0.0321 LR: 0.000091  \n",
      "Epoch: [2][1315/1316] Elapsed 6m 39s (remain 0m 0s) Loss: 0.0173(0.0154) Grad: 0.0251 LR: 0.000091  \n",
      "EVAL: [0/330] Elapsed 0m 0s (remain 4m 28s) Loss: 0.0184(0.0184) \n",
      "EVAL: [100/330] Elapsed 0m 11s (remain 0m 26s) Loss: 0.0139(0.0153) \n",
      "EVAL: [200/330] Elapsed 0m 22s (remain 0m 14s) Loss: 0.0153(0.0153) \n",
      "EVAL: [300/330] Elapsed 0m 33s (remain 0m 3s) Loss: 0.0161(0.0154) \n"
     ]
    },
    {
     "name": "stderr",
     "output_type": "stream",
     "text": [
      "Epoch 2 - avg_train_loss: 0.0154  avg_val_loss: 0.0153  time: 435s\n",
      "Epoch 2 - Accuracy: 0.937547456340167\n",
      "Epoch 2 - Save Best Score: 0.9375 Model\n"
     ]
    },
    {
     "name": "stdout",
     "output_type": "stream",
     "text": [
      "EVAL: [329/330] Elapsed 0m 35s (remain 0m 0s) Loss: 0.0179(0.0153) \n",
      "Epoch: [3][0/1316] Elapsed 0m 1s (remain 26m 29s) Loss: 0.0193(0.0193) Grad: 0.0260 LR: 0.000091  \n",
      "Epoch: [3][100/1316] Elapsed 0m 32s (remain 6m 36s) Loss: 0.0282(0.0239) Grad: 0.0192 LR: 0.000090  \n",
      "Epoch: [3][200/1316] Elapsed 1m 4s (remain 6m 0s) Loss: 0.0175(0.0240) Grad: 0.0251 LR: 0.000089  \n",
      "Epoch: [3][300/1316] Elapsed 1m 37s (remain 5m 27s) Loss: 0.0169(0.0235) Grad: 0.0199 LR: 0.000088  \n",
      "Epoch: [3][400/1316] Elapsed 2m 9s (remain 4m 55s) Loss: 0.0214(0.0232) Grad: 0.0255 LR: 0.000088  \n",
      "Epoch: [3][500/1316] Elapsed 2m 41s (remain 4m 22s) Loss: 0.0185(0.0231) Grad: 0.0281 LR: 0.000087  \n",
      "Epoch: [3][600/1316] Elapsed 3m 13s (remain 3m 50s) Loss: 0.0295(0.0230) Grad: 0.0189 LR: 0.000086  \n",
      "Epoch: [3][700/1316] Elapsed 3m 45s (remain 3m 18s) Loss: 0.0189(0.0231) Grad: 0.0277 LR: 0.000085  \n",
      "Epoch: [3][800/1316] Elapsed 4m 17s (remain 2m 45s) Loss: 0.0177(0.0230) Grad: 0.0239 LR: 0.000084  \n",
      "Epoch: [3][900/1316] Elapsed 4m 49s (remain 2m 13s) Loss: 0.0242(0.0230) Grad: 0.0164 LR: 0.000084  \n",
      "Epoch: [3][1000/1316] Elapsed 5m 21s (remain 1m 41s) Loss: 0.0154(0.0230) Grad: 0.0086 LR: 0.000083  \n",
      "Epoch: [3][1100/1316] Elapsed 5m 53s (remain 1m 9s) Loss: 0.0281(0.0230) Grad: 0.0229 LR: 0.000082  \n",
      "Epoch: [3][1200/1316] Elapsed 6m 25s (remain 0m 36s) Loss: 0.0269(0.0230) Grad: 0.0135 LR: 0.000081  \n",
      "Epoch: [3][1300/1316] Elapsed 6m 58s (remain 0m 4s) Loss: 0.0263(0.0230) Grad: 0.0278 LR: 0.000080  \n",
      "Epoch: [3][1315/1316] Elapsed 7m 2s (remain 0m 0s) Loss: 0.0230(0.0230) Grad: 0.0179 LR: 0.000080  \n",
      "EVAL: [0/330] Elapsed 0m 0s (remain 4m 37s) Loss: 0.0179(0.0179) \n",
      "EVAL: [100/330] Elapsed 0m 11s (remain 0m 26s) Loss: 0.0158(0.0159) \n",
      "EVAL: [200/330] Elapsed 0m 22s (remain 0m 14s) Loss: 0.0155(0.0160) \n",
      "EVAL: [300/330] Elapsed 0m 33s (remain 0m 3s) Loss: 0.0171(0.0160) \n"
     ]
    },
    {
     "name": "stderr",
     "output_type": "stream",
     "text": [
      "Epoch 3 - avg_train_loss: 0.0230  avg_val_loss: 0.0160  time: 459s\n",
      "Epoch 3 - Accuracy: 0.9347000759301443\n"
     ]
    },
    {
     "name": "stdout",
     "output_type": "stream",
     "text": [
      "EVAL: [329/330] Elapsed 0m 35s (remain 0m 0s) Loss: 0.0204(0.0160) \n",
      "Epoch: [4][0/1316] Elapsed 0m 1s (remain 26m 34s) Loss: 0.0139(0.0139) Grad: 0.0212 LR: 0.000080  \n",
      "Epoch: [4][100/1316] Elapsed 0m 33s (remain 6m 38s) Loss: 0.0278(0.0226) Grad: 0.0244 LR: 0.000079  \n",
      "Epoch: [4][200/1316] Elapsed 1m 5s (remain 6m 2s) Loss: 0.0170(0.0225) Grad: 0.0226 LR: 0.000078  \n",
      "Epoch: [4][300/1316] Elapsed 1m 36s (remain 5m 26s) Loss: 0.0243(0.0225) Grad: 0.0181 LR: 0.000077  \n",
      "Epoch: [4][400/1316] Elapsed 2m 8s (remain 4m 53s) Loss: 0.0151(0.0224) Grad: 0.0199 LR: 0.000076  \n",
      "Epoch: [4][500/1316] Elapsed 2m 40s (remain 4m 21s) Loss: 0.0165(0.0223) Grad: 0.0232 LR: 0.000075  \n",
      "Epoch: [4][600/1316] Elapsed 3m 12s (remain 3m 49s) Loss: 0.0323(0.0222) Grad: 0.0147 LR: 0.000074  \n",
      "Epoch: [4][700/1316] Elapsed 3m 44s (remain 3m 17s) Loss: 0.0296(0.0221) Grad: 0.0162 LR: 0.000073  \n",
      "Epoch: [4][800/1316] Elapsed 4m 16s (remain 2m 45s) Loss: 0.0219(0.0221) Grad: 0.0195 LR: 0.000072  \n",
      "Epoch: [4][900/1316] Elapsed 4m 48s (remain 2m 12s) Loss: 0.0133(0.0221) Grad: 0.0124 LR: 0.000071  \n",
      "Epoch: [4][1000/1316] Elapsed 5m 20s (remain 1m 40s) Loss: 0.0332(0.0221) Grad: 0.0218 LR: 0.000070  \n",
      "Epoch: [4][1100/1316] Elapsed 5m 52s (remain 1m 8s) Loss: 0.0294(0.0221) Grad: 0.0172 LR: 0.000069  \n",
      "Epoch: [4][1200/1316] Elapsed 6m 24s (remain 0m 36s) Loss: 0.0315(0.0221) Grad: 0.0221 LR: 0.000067  \n",
      "Epoch: [4][1300/1316] Elapsed 6m 56s (remain 0m 4s) Loss: 0.0185(0.0221) Grad: 0.0297 LR: 0.000066  \n",
      "Epoch: [4][1315/1316] Elapsed 7m 1s (remain 0m 0s) Loss: 0.0255(0.0221) Grad: 0.0193 LR: 0.000066  \n",
      "EVAL: [0/330] Elapsed 0m 0s (remain 4m 19s) Loss: 0.0174(0.0174) \n",
      "EVAL: [100/330] Elapsed 0m 11s (remain 0m 26s) Loss: 0.0144(0.0156) \n",
      "EVAL: [200/330] Elapsed 0m 22s (remain 0m 14s) Loss: 0.0142(0.0157) \n",
      "EVAL: [300/330] Elapsed 0m 33s (remain 0m 3s) Loss: 0.0183(0.0157) \n"
     ]
    },
    {
     "name": "stderr",
     "output_type": "stream",
     "text": [
      "Epoch 4 - avg_train_loss: 0.0221  avg_val_loss: 0.0157  time: 458s\n",
      "Epoch 4 - Accuracy: 0.9345102505694761\n"
     ]
    },
    {
     "name": "stdout",
     "output_type": "stream",
     "text": [
      "EVAL: [329/330] Elapsed 0m 36s (remain 0m 0s) Loss: 0.0247(0.0157) \n",
      "Epoch: [5][0/1316] Elapsed 0m 1s (remain 27m 10s) Loss: 0.0152(0.0152) Grad: 0.0189 LR: 0.000066  \n",
      "Epoch: [5][100/1316] Elapsed 0m 33s (remain 6m 38s) Loss: 0.0260(0.0225) Grad: 0.0245 LR: 0.000065  \n",
      "Epoch: [5][200/1316] Elapsed 1m 5s (remain 6m 3s) Loss: 0.0142(0.0221) Grad: 0.0104 LR: 0.000064  \n",
      "Epoch: [5][300/1316] Elapsed 1m 37s (remain 5m 29s) Loss: 0.0260(0.0222) Grad: 0.0143 LR: 0.000063  \n",
      "Epoch: [5][400/1316] Elapsed 2m 9s (remain 4m 55s) Loss: 0.0284(0.0219) Grad: 0.0213 LR: 0.000062  \n",
      "Epoch: [5][500/1316] Elapsed 2m 41s (remain 4m 22s) Loss: 0.0221(0.0217) Grad: 0.0297 LR: 0.000061  \n",
      "Epoch: [5][600/1316] Elapsed 3m 13s (remain 3m 49s) Loss: 0.0273(0.0219) Grad: 0.0138 LR: 0.000059  \n",
      "Epoch: [5][700/1316] Elapsed 3m 44s (remain 3m 17s) Loss: 0.0289(0.0218) Grad: 0.0267 LR: 0.000058  \n",
      "Epoch: [5][800/1316] Elapsed 4m 16s (remain 2m 45s) Loss: 0.0156(0.0218) Grad: 0.0201 LR: 0.000057  \n",
      "Epoch: [5][900/1316] Elapsed 4m 48s (remain 2m 12s) Loss: 0.0218(0.0218) Grad: 0.0197 LR: 0.000056  \n",
      "Epoch: [5][1000/1316] Elapsed 5m 20s (remain 1m 40s) Loss: 0.0168(0.0218) Grad: 0.0244 LR: 0.000055  \n",
      "Epoch: [5][1100/1316] Elapsed 5m 52s (remain 1m 8s) Loss: 0.0242(0.0218) Grad: 0.0179 LR: 0.000054  \n",
      "Epoch: [5][1200/1316] Elapsed 6m 23s (remain 0m 36s) Loss: 0.0202(0.0219) Grad: 0.0254 LR: 0.000052  \n",
      "Epoch: [5][1300/1316] Elapsed 6m 55s (remain 0m 4s) Loss: 0.0290(0.0218) Grad: 0.0208 LR: 0.000051  \n",
      "Epoch: [5][1315/1316] Elapsed 7m 0s (remain 0m 0s) Loss: 0.0191(0.0218) Grad: 0.0254 LR: 0.000051  \n",
      "EVAL: [0/330] Elapsed 0m 0s (remain 4m 41s) Loss: 0.0161(0.0161) \n",
      "EVAL: [100/330] Elapsed 0m 11s (remain 0m 25s) Loss: 0.0145(0.0154) \n",
      "EVAL: [200/330] Elapsed 0m 22s (remain 0m 14s) Loss: 0.0158(0.0155) \n",
      "EVAL: [300/330] Elapsed 0m 32s (remain 0m 3s) Loss: 0.0165(0.0155) \n"
     ]
    },
    {
     "name": "stderr",
     "output_type": "stream",
     "text": [
      "Epoch 5 - avg_train_loss: 0.0218  avg_val_loss: 0.0155  time: 456s\n",
      "Epoch 5 - Accuracy: 0.9386864085041762\n",
      "Epoch 5 - Save Best Score: 0.9387 Model\n"
     ]
    },
    {
     "name": "stdout",
     "output_type": "stream",
     "text": [
      "EVAL: [329/330] Elapsed 0m 35s (remain 0m 0s) Loss: 0.0196(0.0155) \n",
      "Epoch: [6][0/1316] Elapsed 0m 1s (remain 27m 14s) Loss: 0.0236(0.0236) Grad: 0.0135 LR: 0.000051  \n",
      "Epoch: [6][100/1316] Elapsed 0m 33s (remain 6m 40s) Loss: 0.0303(0.0225) Grad: 0.0249 LR: 0.000050  \n",
      "Epoch: [6][200/1316] Elapsed 1m 5s (remain 6m 1s) Loss: 0.0190(0.0221) Grad: 0.0129 LR: 0.000049  \n",
      "Epoch: [6][300/1316] Elapsed 1m 36s (remain 5m 26s) Loss: 0.0230(0.0220) Grad: 0.0156 LR: 0.000048  \n",
      "Epoch: [6][400/1316] Elapsed 2m 8s (remain 4m 53s) Loss: 0.0246(0.0219) Grad: 0.0165 LR: 0.000046  \n",
      "Epoch: [6][500/1316] Elapsed 2m 40s (remain 4m 20s) Loss: 0.0276(0.0220) Grad: 0.0220 LR: 0.000045  \n",
      "Epoch: [6][600/1316] Elapsed 3m 11s (remain 3m 48s) Loss: 0.0241(0.0218) Grad: 0.0324 LR: 0.000044  \n",
      "Epoch: [6][700/1316] Elapsed 3m 43s (remain 3m 16s) Loss: 0.0213(0.0218) Grad: 0.0302 LR: 0.000043  \n",
      "Epoch: [6][800/1316] Elapsed 4m 15s (remain 2m 44s) Loss: 0.0139(0.0217) Grad: 0.0121 LR: 0.000042  \n",
      "Epoch: [6][900/1316] Elapsed 4m 47s (remain 2m 12s) Loss: 0.0233(0.0217) Grad: 0.0158 LR: 0.000041  \n",
      "Epoch: [6][1000/1316] Elapsed 5m 19s (remain 1m 40s) Loss: 0.0252(0.0218) Grad: 0.0152 LR: 0.000039  \n",
      "Epoch: [6][1100/1316] Elapsed 5m 51s (remain 1m 8s) Loss: 0.0234(0.0218) Grad: 0.0129 LR: 0.000038  \n",
      "Epoch: [6][1200/1316] Elapsed 6m 23s (remain 0m 36s) Loss: 0.0210(0.0218) Grad: 0.0197 LR: 0.000037  \n",
      "Epoch: [6][1300/1316] Elapsed 6m 54s (remain 0m 4s) Loss: 0.0218(0.0219) Grad: 0.0161 LR: 0.000036  \n",
      "Epoch: [6][1315/1316] Elapsed 6m 59s (remain 0m 0s) Loss: 0.0167(0.0219) Grad: 0.0346 LR: 0.000036  \n",
      "EVAL: [0/330] Elapsed 0m 0s (remain 4m 23s) Loss: 0.0171(0.0171) \n",
      "EVAL: [100/330] Elapsed 0m 11s (remain 0m 26s) Loss: 0.0135(0.0151) \n",
      "EVAL: [200/330] Elapsed 0m 22s (remain 0m 14s) Loss: 0.0148(0.0152) \n",
      "EVAL: [300/330] Elapsed 0m 33s (remain 0m 3s) Loss: 0.0157(0.0152) \n"
     ]
    },
    {
     "name": "stderr",
     "output_type": "stream",
     "text": [
      "Epoch 6 - avg_train_loss: 0.0219  avg_val_loss: 0.0152  time: 456s\n",
      "Epoch 6 - Accuracy: 0.9424829157175398\n",
      "Epoch 6 - Save Best Score: 0.9425 Model\n"
     ]
    },
    {
     "name": "stdout",
     "output_type": "stream",
     "text": [
      "EVAL: [329/330] Elapsed 0m 35s (remain 0m 0s) Loss: 0.0196(0.0152) \n",
      "Epoch: [7][0/1316] Elapsed 0m 1s (remain 28m 0s) Loss: 0.0211(0.0211) Grad: 0.0251 LR: 0.000036  \n",
      "Epoch: [7][100/1316] Elapsed 0m 33s (remain 6m 38s) Loss: 0.0126(0.0185) Grad: 0.0115 LR: 0.000035  \n",
      "Epoch: [7][200/1316] Elapsed 1m 4s (remain 5m 56s) Loss: 0.0191(0.0180) Grad: 0.0258 LR: 0.000034  \n",
      "Epoch: [7][300/1316] Elapsed 1m 35s (remain 5m 21s) Loss: 0.0299(0.0181) Grad: 0.0170 LR: 0.000033  \n",
      "Epoch: [7][400/1316] Elapsed 2m 6s (remain 4m 48s) Loss: 0.0135(0.0183) Grad: 0.0117 LR: 0.000032  \n",
      "Epoch: [7][500/1316] Elapsed 2m 37s (remain 4m 16s) Loss: 0.0223(0.0185) Grad: 0.0181 LR: 0.000030  \n",
      "Epoch: [7][600/1316] Elapsed 3m 9s (remain 3m 45s) Loss: 0.0258(0.0184) Grad: 0.0200 LR: 0.000029  \n",
      "Epoch: [7][700/1316] Elapsed 3m 40s (remain 3m 13s) Loss: 0.0211(0.0185) Grad: 0.0337 LR: 0.000028  \n",
      "Epoch: [7][800/1316] Elapsed 4m 11s (remain 2m 41s) Loss: 0.0175(0.0184) Grad: 0.0223 LR: 0.000027  \n",
      "Epoch: [7][900/1316] Elapsed 4m 42s (remain 2m 10s) Loss: 0.0140(0.0184) Grad: 0.0183 LR: 0.000026  \n",
      "Epoch: [7][1000/1316] Elapsed 5m 13s (remain 1m 38s) Loss: 0.0312(0.0184) Grad: 0.0280 LR: 0.000025  \n",
      "Epoch: [7][1100/1316] Elapsed 5m 45s (remain 1m 7s) Loss: 0.0258(0.0185) Grad: 0.0222 LR: 0.000024  \n",
      "Epoch: [7][1200/1316] Elapsed 6m 15s (remain 0m 35s) Loss: 0.0149(0.0184) Grad: 0.0186 LR: 0.000023  \n",
      "Epoch: [7][1300/1316] Elapsed 6m 47s (remain 0m 4s) Loss: 0.0272(0.0184) Grad: 0.0228 LR: 0.000022  \n",
      "Epoch: [7][1315/1316] Elapsed 6m 51s (remain 0m 0s) Loss: 0.0146(0.0184) Grad: 0.0371 LR: 0.000022  \n",
      "EVAL: [0/330] Elapsed 0m 0s (remain 4m 14s) Loss: 0.0168(0.0168) \n",
      "EVAL: [100/330] Elapsed 0m 11s (remain 0m 25s) Loss: 0.0135(0.0149) \n",
      "EVAL: [200/330] Elapsed 0m 22s (remain 0m 14s) Loss: 0.0143(0.0150) \n",
      "EVAL: [300/330] Elapsed 0m 32s (remain 0m 3s) Loss: 0.0157(0.0150) \n"
     ]
    },
    {
     "name": "stderr",
     "output_type": "stream",
     "text": [
      "Epoch 7 - avg_train_loss: 0.0184  avg_val_loss: 0.0149  time: 447s\n",
      "Epoch 7 - Accuracy: 0.943621867881549\n",
      "Epoch 7 - Save Best Score: 0.9436 Model\n"
     ]
    },
    {
     "name": "stdout",
     "output_type": "stream",
     "text": [
      "EVAL: [329/330] Elapsed 0m 35s (remain 0m 0s) Loss: 0.0169(0.0149) \n",
      "Epoch: [8][0/1316] Elapsed 0m 1s (remain 26m 24s) Loss: 0.0156(0.0156) Grad: 0.0165 LR: 0.000022  \n",
      "Epoch: [8][100/1316] Elapsed 0m 32s (remain 6m 28s) Loss: 0.0149(0.0180) Grad: 0.0227 LR: 0.000021  \n",
      "Epoch: [8][200/1316] Elapsed 1m 2s (remain 5m 48s) Loss: 0.0166(0.0176) Grad: 0.0187 LR: 0.000020  \n",
      "Epoch: [8][300/1316] Elapsed 1m 34s (remain 5m 17s) Loss: 0.0156(0.0179) Grad: 0.0200 LR: 0.000020  \n",
      "Epoch: [8][400/1316] Elapsed 2m 5s (remain 4m 46s) Loss: 0.0138(0.0182) Grad: 0.0091 LR: 0.000019  \n",
      "Epoch: [8][500/1316] Elapsed 2m 36s (remain 4m 14s) Loss: 0.0193(0.0184) Grad: 0.0190 LR: 0.000018  \n",
      "Epoch: [8][600/1316] Elapsed 3m 7s (remain 3m 43s) Loss: 0.0152(0.0183) Grad: 0.0238 LR: 0.000017  \n",
      "Epoch: [8][700/1316] Elapsed 3m 39s (remain 3m 12s) Loss: 0.0145(0.0183) Grad: 0.0105 LR: 0.000016  \n",
      "Epoch: [8][800/1316] Elapsed 4m 10s (remain 2m 40s) Loss: 0.0214(0.0183) Grad: 0.0367 LR: 0.000015  \n",
      "Epoch: [8][900/1316] Elapsed 4m 41s (remain 2m 9s) Loss: 0.0131(0.0183) Grad: 0.0086 LR: 0.000014  \n",
      "Epoch: [8][1000/1316] Elapsed 5m 13s (remain 1m 38s) Loss: 0.0151(0.0183) Grad: 0.0157 LR: 0.000014  \n",
      "Epoch: [8][1100/1316] Elapsed 5m 44s (remain 1m 7s) Loss: 0.0124(0.0183) Grad: 0.0072 LR: 0.000013  \n",
      "Epoch: [8][1200/1316] Elapsed 6m 15s (remain 0m 35s) Loss: 0.0145(0.0183) Grad: 0.0259 LR: 0.000012  \n",
      "Epoch: [8][1300/1316] Elapsed 6m 46s (remain 0m 4s) Loss: 0.0135(0.0184) Grad: 0.0172 LR: 0.000012  \n",
      "Epoch: [8][1315/1316] Elapsed 6m 50s (remain 0m 0s) Loss: 0.0167(0.0183) Grad: 0.0292 LR: 0.000011  \n",
      "EVAL: [0/330] Elapsed 0m 0s (remain 4m 26s) Loss: 0.0165(0.0165) \n",
      "EVAL: [100/330] Elapsed 0m 11s (remain 0m 25s) Loss: 0.0134(0.0149) \n",
      "EVAL: [200/330] Elapsed 0m 22s (remain 0m 14s) Loss: 0.0143(0.0150) \n",
      "EVAL: [300/330] Elapsed 0m 32s (remain 0m 3s) Loss: 0.0164(0.0150) \n"
     ]
    },
    {
     "name": "stderr",
     "output_type": "stream",
     "text": [
      "Epoch 8 - avg_train_loss: 0.0183  avg_val_loss: 0.0150  time: 447s\n",
      "Epoch 8 - Accuracy: 0.9407744874715261\n"
     ]
    },
    {
     "name": "stdout",
     "output_type": "stream",
     "text": [
      "EVAL: [329/330] Elapsed 0m 35s (remain 0m 0s) Loss: 0.0185(0.0150) \n",
      "Epoch: [9][0/1316] Elapsed 0m 1s (remain 26m 20s) Loss: 0.0254(0.0254) Grad: 0.0215 LR: 0.000011  \n",
      "Epoch: [9][100/1316] Elapsed 0m 32s (remain 6m 27s) Loss: 0.0136(0.0188) Grad: 0.0158 LR: 0.000011  \n",
      "Epoch: [9][200/1316] Elapsed 1m 3s (remain 5m 49s) Loss: 0.0189(0.0180) Grad: 0.0155 LR: 0.000010  \n",
      "Epoch: [9][300/1316] Elapsed 1m 34s (remain 5m 19s) Loss: 0.0194(0.0183) Grad: 0.0254 LR: 0.000009  \n",
      "Epoch: [9][400/1316] Elapsed 2m 5s (remain 4m 46s) Loss: 0.0136(0.0184) Grad: 0.0109 LR: 0.000009  \n",
      "Epoch: [9][500/1316] Elapsed 2m 36s (remain 4m 14s) Loss: 0.0261(0.0185) Grad: 0.0173 LR: 0.000008  \n",
      "Epoch: [9][600/1316] Elapsed 3m 7s (remain 3m 43s) Loss: 0.0142(0.0184) Grad: 0.0192 LR: 0.000008  \n",
      "Epoch: [9][700/1316] Elapsed 3m 39s (remain 3m 12s) Loss: 0.0140(0.0184) Grad: 0.0238 LR: 0.000007  \n",
      "Epoch: [9][800/1316] Elapsed 4m 10s (remain 2m 40s) Loss: 0.0159(0.0184) Grad: 0.0174 LR: 0.000007  \n",
      "Epoch: [9][900/1316] Elapsed 4m 40s (remain 2m 9s) Loss: 0.0217(0.0183) Grad: 0.0290 LR: 0.000006  \n",
      "Epoch: [9][1000/1316] Elapsed 5m 11s (remain 1m 38s) Loss: 0.0157(0.0184) Grad: 0.0441 LR: 0.000006  \n",
      "Epoch: [9][1100/1316] Elapsed 5m 43s (remain 1m 7s) Loss: 0.0182(0.0184) Grad: 0.0281 LR: 0.000005  \n",
      "Epoch: [9][1200/1316] Elapsed 6m 13s (remain 0m 35s) Loss: 0.0240(0.0183) Grad: 0.0122 LR: 0.000005  \n",
      "Epoch: [9][1300/1316] Elapsed 6m 45s (remain 0m 4s) Loss: 0.0142(0.0183) Grad: 0.0038 LR: 0.000004  \n",
      "Epoch: [9][1315/1316] Elapsed 6m 49s (remain 0m 0s) Loss: 0.0141(0.0183) Grad: 0.0153 LR: 0.000004  \n",
      "EVAL: [0/330] Elapsed 0m 0s (remain 4m 15s) Loss: 0.0159(0.0159) \n",
      "EVAL: [100/330] Elapsed 0m 11s (remain 0m 26s) Loss: 0.0133(0.0149) \n",
      "EVAL: [200/330] Elapsed 0m 22s (remain 0m 14s) Loss: 0.0148(0.0150) \n",
      "EVAL: [300/330] Elapsed 0m 32s (remain 0m 3s) Loss: 0.0159(0.0150) \n"
     ]
    },
    {
     "name": "stderr",
     "output_type": "stream",
     "text": [
      "Epoch 9 - avg_train_loss: 0.0183  avg_val_loss: 0.0150  time: 445s\n",
      "Epoch 9 - Accuracy: 0.9421032649962034\n"
     ]
    },
    {
     "name": "stdout",
     "output_type": "stream",
     "text": [
      "EVAL: [329/330] Elapsed 0m 35s (remain 0m 0s) Loss: 0.0183(0.0150) \n",
      "Epoch: [10][0/1316] Elapsed 0m 1s (remain 24m 4s) Loss: 0.0136(0.0136) Grad: 0.0050 LR: 0.000004  \n",
      "Epoch: [10][100/1316] Elapsed 0m 31s (remain 6m 15s) Loss: 0.0152(0.0146) Grad: 0.0221 LR: 0.000004  \n",
      "Epoch: [10][200/1316] Elapsed 1m 1s (remain 5m 38s) Loss: 0.0156(0.0144) Grad: 0.0356 LR: 0.000004  \n",
      "Epoch: [10][300/1316] Elapsed 1m 30s (remain 5m 6s) Loss: 0.0134(0.0144) Grad: 0.0067 LR: 0.000003  \n",
      "Epoch: [10][400/1316] Elapsed 2m 1s (remain 4m 36s) Loss: 0.0134(0.0143) Grad: 0.0150 LR: 0.000003  \n",
      "Epoch: [10][500/1316] Elapsed 2m 31s (remain 4m 5s) Loss: 0.0129(0.0142) Grad: 0.0081 LR: 0.000003  \n",
      "Epoch: [10][600/1316] Elapsed 3m 1s (remain 3m 35s) Loss: 0.0158(0.0143) Grad: 0.0237 LR: 0.000003  \n",
      "Epoch: [10][700/1316] Elapsed 3m 31s (remain 3m 5s) Loss: 0.0174(0.0143) Grad: 0.0230 LR: 0.000003  \n",
      "Epoch: [10][800/1316] Elapsed 4m 1s (remain 2m 34s) Loss: 0.0147(0.0143) Grad: 0.0125 LR: 0.000002  \n",
      "Epoch: [10][900/1316] Elapsed 4m 31s (remain 2m 4s) Loss: 0.0143(0.0142) Grad: 0.0179 LR: 0.000002  \n",
      "Epoch: [10][1000/1316] Elapsed 5m 1s (remain 1m 34s) Loss: 0.0138(0.0142) Grad: 0.0082 LR: 0.000002  \n",
      "Epoch: [10][1100/1316] Elapsed 5m 31s (remain 1m 4s) Loss: 0.0135(0.0142) Grad: 0.0077 LR: 0.000002  \n",
      "Epoch: [10][1200/1316] Elapsed 6m 1s (remain 0m 34s) Loss: 0.0147(0.0142) Grad: 0.0215 LR: 0.000002  \n",
      "Epoch: [10][1300/1316] Elapsed 6m 31s (remain 0m 4s) Loss: 0.0152(0.0142) Grad: 0.0128 LR: 0.000002  \n",
      "Epoch: [10][1315/1316] Elapsed 6m 36s (remain 0m 0s) Loss: 0.0143(0.0142) Grad: 0.0203 LR: 0.000002  \n",
      "EVAL: [0/330] Elapsed 0m 0s (remain 3m 52s) Loss: 0.0160(0.0160) \n",
      "EVAL: [100/330] Elapsed 0m 11s (remain 0m 26s) Loss: 0.0132(0.0148) \n",
      "EVAL: [200/330] Elapsed 0m 22s (remain 0m 14s) Loss: 0.0142(0.0149) \n",
      "EVAL: [300/330] Elapsed 0m 32s (remain 0m 3s) Loss: 0.0171(0.0149) \n"
     ]
    },
    {
     "name": "stderr",
     "output_type": "stream",
     "text": [
      "Epoch 10 - avg_train_loss: 0.0142  avg_val_loss: 0.0149  time: 432s\n",
      "Epoch 10 - Accuracy: 0.9419134396355353\n",
      "Epoch 10 - Save final model\n"
     ]
    },
    {
     "name": "stdout",
     "output_type": "stream",
     "text": [
      "EVAL: [329/330] Elapsed 0m 35s (remain 0m 0s) Loss: 0.0189(0.0149) \n"
     ]
    },
    {
     "name": "stderr",
     "output_type": "stream",
     "text": [
      "========== fold: 0 result ==========\n",
      "Score: 0.94362\n",
      "========== fold: 1 training ==========\n"
     ]
    },
    {
     "name": "stdout",
     "output_type": "stream",
     "text": [
      "Epoch: [1][0/1316] Elapsed 0m 1s (remain 23m 59s) Loss: 0.0412(0.0412) Grad: 0.0540 LR: 0.000100  \n",
      "Epoch: [1][100/1316] Elapsed 0m 32s (remain 6m 26s) Loss: 0.0255(0.0289) Grad: 0.0475 LR: 0.000100  \n",
      "Epoch: [1][200/1316] Elapsed 1m 3s (remain 5m 51s) Loss: 0.0198(0.0258) Grad: 0.0395 LR: 0.000100  \n",
      "Epoch: [1][300/1316] Elapsed 1m 34s (remain 5m 17s) Loss: 0.0203(0.0243) Grad: 0.0382 LR: 0.000100  \n",
      "Epoch: [1][400/1316] Elapsed 2m 5s (remain 4m 46s) Loss: 0.0177(0.0233) Grad: 0.0315 LR: 0.000100  \n",
      "Epoch: [1][500/1316] Elapsed 2m 36s (remain 4m 14s) Loss: 0.0160(0.0225) Grad: 0.0256 LR: 0.000100  \n",
      "Epoch: [1][600/1316] Elapsed 3m 7s (remain 3m 43s) Loss: 0.0193(0.0219) Grad: 0.0281 LR: 0.000099  \n",
      "Epoch: [1][700/1316] Elapsed 3m 38s (remain 3m 12s) Loss: 0.0152(0.0214) Grad: 0.0241 LR: 0.000099  \n",
      "Epoch: [1][800/1316] Elapsed 4m 9s (remain 2m 40s) Loss: 0.0177(0.0210) Grad: 0.0244 LR: 0.000099  \n",
      "Epoch: [1][900/1316] Elapsed 4m 41s (remain 2m 9s) Loss: 0.0189(0.0206) Grad: 0.0307 LR: 0.000099  \n",
      "Epoch: [1][1000/1316] Elapsed 5m 12s (remain 1m 38s) Loss: 0.0144(0.0203) Grad: 0.0208 LR: 0.000099  \n",
      "Epoch: [1][1100/1316] Elapsed 5m 43s (remain 1m 7s) Loss: 0.0199(0.0200) Grad: 0.0345 LR: 0.000098  \n",
      "Epoch: [1][1200/1316] Elapsed 6m 14s (remain 0m 35s) Loss: 0.0192(0.0197) Grad: 0.0293 LR: 0.000098  \n",
      "Epoch: [1][1300/1316] Elapsed 6m 45s (remain 0m 4s) Loss: 0.0164(0.0195) Grad: 0.0245 LR: 0.000098  \n",
      "Epoch: [1][1315/1316] Elapsed 6m 50s (remain 0m 0s) Loss: 0.0174(0.0195) Grad: 0.0375 LR: 0.000098  \n",
      "EVAL: [0/330] Elapsed 0m 0s (remain 4m 25s) Loss: 0.0147(0.0147) \n",
      "EVAL: [100/330] Elapsed 0m 12s (remain 0m 27s) Loss: 0.0170(0.0159) \n",
      "EVAL: [200/330] Elapsed 0m 23s (remain 0m 14s) Loss: 0.0159(0.0159) \n",
      "EVAL: [300/330] Elapsed 0m 34s (remain 0m 3s) Loss: 0.0147(0.0159) \n"
     ]
    },
    {
     "name": "stderr",
     "output_type": "stream",
     "text": [
      "Epoch 1 - avg_train_loss: 0.0195  avg_val_loss: 0.0159  time: 448s\n",
      "Epoch 1 - Accuracy: 0.9371678056188307\n",
      "Epoch 1 - Save Best Score: 0.9372 Model\n"
     ]
    },
    {
     "name": "stdout",
     "output_type": "stream",
     "text": [
      "EVAL: [329/330] Elapsed 0m 36s (remain 0m 0s) Loss: 0.0130(0.0159) \n",
      "Epoch: [2][0/1316] Elapsed 0m 1s (remain 23m 41s) Loss: 0.0204(0.0204) Grad: 0.0284 LR: 0.000098  \n",
      "Epoch: [2][100/1316] Elapsed 0m 32s (remain 6m 32s) Loss: 0.0132(0.0158) Grad: 0.0072 LR: 0.000097  \n",
      "Epoch: [2][200/1316] Elapsed 1m 3s (remain 5m 53s) Loss: 0.0171(0.0157) Grad: 0.0264 LR: 0.000097  \n",
      "Epoch: [2][300/1316] Elapsed 1m 34s (remain 5m 20s) Loss: 0.0149(0.0156) Grad: 0.0250 LR: 0.000096  \n",
      "Epoch: [2][400/1316] Elapsed 2m 6s (remain 4m 47s) Loss: 0.0151(0.0157) Grad: 0.0260 LR: 0.000096  \n",
      "Epoch: [2][500/1316] Elapsed 2m 37s (remain 4m 16s) Loss: 0.0161(0.0156) Grad: 0.0220 LR: 0.000095  \n",
      "Epoch: [2][600/1316] Elapsed 3m 8s (remain 3m 44s) Loss: 0.0162(0.0156) Grad: 0.0218 LR: 0.000095  \n",
      "Epoch: [2][700/1316] Elapsed 3m 39s (remain 3m 12s) Loss: 0.0146(0.0155) Grad: 0.0205 LR: 0.000094  \n",
      "Epoch: [2][800/1316] Elapsed 4m 11s (remain 2m 41s) Loss: 0.0133(0.0155) Grad: 0.0126 LR: 0.000094  \n",
      "Epoch: [2][900/1316] Elapsed 4m 42s (remain 2m 10s) Loss: 0.0162(0.0155) Grad: 0.0190 LR: 0.000093  \n",
      "Epoch: [2][1000/1316] Elapsed 5m 13s (remain 1m 38s) Loss: 0.0162(0.0154) Grad: 0.0188 LR: 0.000093  \n",
      "Epoch: [2][1100/1316] Elapsed 5m 44s (remain 1m 7s) Loss: 0.0145(0.0154) Grad: 0.0147 LR: 0.000092  \n",
      "Epoch: [2][1200/1316] Elapsed 6m 16s (remain 0m 36s) Loss: 0.0137(0.0154) Grad: 0.0080 LR: 0.000091  \n",
      "Epoch: [2][1300/1316] Elapsed 6m 47s (remain 0m 4s) Loss: 0.0155(0.0154) Grad: 0.0198 LR: 0.000091  \n",
      "Epoch: [2][1315/1316] Elapsed 6m 52s (remain 0m 0s) Loss: 0.0156(0.0154) Grad: 0.0239 LR: 0.000091  \n",
      "EVAL: [0/330] Elapsed 0m 0s (remain 4m 28s) Loss: 0.0140(0.0140) \n",
      "EVAL: [100/330] Elapsed 0m 11s (remain 0m 26s) Loss: 0.0164(0.0152) \n",
      "EVAL: [200/330] Elapsed 0m 22s (remain 0m 14s) Loss: 0.0168(0.0153) \n",
      "EVAL: [300/330] Elapsed 0m 33s (remain 0m 3s) Loss: 0.0139(0.0153) \n"
     ]
    },
    {
     "name": "stderr",
     "output_type": "stream",
     "text": [
      "Epoch 2 - avg_train_loss: 0.0154  avg_val_loss: 0.0152  time: 449s\n",
      "Epoch 2 - Accuracy: 0.940584662110858\n",
      "Epoch 2 - Save Best Score: 0.9406 Model\n"
     ]
    },
    {
     "name": "stdout",
     "output_type": "stream",
     "text": [
      "EVAL: [329/330] Elapsed 0m 36s (remain 0m 0s) Loss: 0.0129(0.0152) \n",
      "Epoch: [3][0/1316] Elapsed 0m 1s (remain 28m 9s) Loss: 0.0191(0.0191) Grad: 0.0377 LR: 0.000091  \n",
      "Epoch: [3][100/1316] Elapsed 0m 34s (remain 6m 53s) Loss: 0.0299(0.0239) Grad: 0.0311 LR: 0.000090  \n",
      "Epoch: [3][200/1316] Elapsed 1m 7s (remain 6m 13s) Loss: 0.0301(0.0239) Grad: 0.0194 LR: 0.000089  \n",
      "Epoch: [3][300/1316] Elapsed 1m 40s (remain 5m 39s) Loss: 0.0277(0.0240) Grad: 0.0155 LR: 0.000088  \n",
      "Epoch: [3][400/1316] Elapsed 2m 13s (remain 5m 5s) Loss: 0.0170(0.0238) Grad: 0.0213 LR: 0.000088  \n",
      "Epoch: [3][500/1316] Elapsed 2m 46s (remain 4m 31s) Loss: 0.0246(0.0237) Grad: 0.0148 LR: 0.000087  \n",
      "Epoch: [3][600/1316] Elapsed 3m 19s (remain 3m 57s) Loss: 0.0302(0.0233) Grad: 0.0171 LR: 0.000086  \n",
      "Epoch: [3][700/1316] Elapsed 3m 52s (remain 3m 24s) Loss: 0.0298(0.0234) Grad: 0.0291 LR: 0.000085  \n",
      "Epoch: [3][800/1316] Elapsed 4m 26s (remain 2m 51s) Loss: 0.0176(0.0233) Grad: 0.0265 LR: 0.000084  \n",
      "Epoch: [3][900/1316] Elapsed 4m 59s (remain 2m 17s) Loss: 0.0194(0.0232) Grad: 0.0253 LR: 0.000084  \n",
      "Epoch: [3][1000/1316] Elapsed 5m 32s (remain 1m 44s) Loss: 0.0334(0.0231) Grad: 0.0220 LR: 0.000083  \n",
      "Epoch: [3][1100/1316] Elapsed 6m 5s (remain 1m 11s) Loss: 0.0156(0.0232) Grad: 0.0132 LR: 0.000082  \n",
      "Epoch: [3][1200/1316] Elapsed 6m 38s (remain 0m 38s) Loss: 0.0280(0.0231) Grad: 0.0253 LR: 0.000081  \n",
      "Epoch: [3][1300/1316] Elapsed 7m 11s (remain 0m 4s) Loss: 0.0286(0.0231) Grad: 0.0202 LR: 0.000080  \n",
      "Epoch: [3][1315/1316] Elapsed 7m 16s (remain 0m 0s) Loss: 0.0161(0.0230) Grad: 0.0253 LR: 0.000080  \n",
      "EVAL: [0/330] Elapsed 0m 0s (remain 4m 15s) Loss: 0.0150(0.0150) \n",
      "EVAL: [100/330] Elapsed 0m 11s (remain 0m 26s) Loss: 0.0158(0.0160) \n",
      "EVAL: [200/330] Elapsed 0m 22s (remain 0m 14s) Loss: 0.0164(0.0159) \n",
      "EVAL: [300/330] Elapsed 0m 33s (remain 0m 3s) Loss: 0.0170(0.0160) \n"
     ]
    },
    {
     "name": "stderr",
     "output_type": "stream",
     "text": [
      "Epoch 3 - avg_train_loss: 0.0230  avg_val_loss: 0.0160  time: 473s\n",
      "Epoch 3 - Accuracy: 0.9301442672741078\n"
     ]
    },
    {
     "name": "stdout",
     "output_type": "stream",
     "text": [
      "EVAL: [329/330] Elapsed 0m 36s (remain 0m 0s) Loss: 0.0133(0.0160) \n",
      "Epoch: [4][0/1316] Elapsed 0m 1s (remain 28m 43s) Loss: 0.0263(0.0263) Grad: 0.0256 LR: 0.000080  \n",
      "Epoch: [4][100/1316] Elapsed 0m 34s (remain 6m 59s) Loss: 0.0175(0.0216) Grad: 0.0240 LR: 0.000079  \n",
      "Epoch: [4][200/1316] Elapsed 1m 8s (remain 6m 19s) Loss: 0.0194(0.0224) Grad: 0.0305 LR: 0.000078  \n",
      "Epoch: [4][300/1316] Elapsed 1m 41s (remain 5m 43s) Loss: 0.0266(0.0225) Grad: 0.0190 LR: 0.000077  \n",
      "Epoch: [4][400/1316] Elapsed 2m 14s (remain 5m 7s) Loss: 0.0300(0.0224) Grad: 0.0263 LR: 0.000076  \n",
      "Epoch: [4][500/1316] Elapsed 2m 47s (remain 4m 33s) Loss: 0.0191(0.0224) Grad: 0.0266 LR: 0.000075  \n",
      "Epoch: [4][600/1316] Elapsed 3m 21s (remain 3m 59s) Loss: 0.0147(0.0223) Grad: 0.0100 LR: 0.000074  \n",
      "Epoch: [4][700/1316] Elapsed 3m 54s (remain 3m 25s) Loss: 0.0272(0.0223) Grad: 0.0224 LR: 0.000073  \n",
      "Epoch: [4][800/1316] Elapsed 4m 27s (remain 2m 52s) Loss: 0.0284(0.0223) Grad: 0.0232 LR: 0.000072  \n",
      "Epoch: [4][900/1316] Elapsed 5m 1s (remain 2m 18s) Loss: 0.0192(0.0221) Grad: 0.0247 LR: 0.000071  \n",
      "Epoch: [4][1000/1316] Elapsed 5m 33s (remain 1m 45s) Loss: 0.0226(0.0221) Grad: 0.0382 LR: 0.000070  \n",
      "Epoch: [4][1100/1316] Elapsed 6m 6s (remain 1m 11s) Loss: 0.0238(0.0221) Grad: 0.0115 LR: 0.000069  \n",
      "Epoch: [4][1200/1316] Elapsed 6m 40s (remain 0m 38s) Loss: 0.0313(0.0222) Grad: 0.0226 LR: 0.000067  \n",
      "Epoch: [4][1300/1316] Elapsed 7m 13s (remain 0m 4s) Loss: 0.0215(0.0222) Grad: 0.0281 LR: 0.000066  \n",
      "Epoch: [4][1315/1316] Elapsed 7m 18s (remain 0m 0s) Loss: 0.0174(0.0222) Grad: 0.0308 LR: 0.000066  \n",
      "EVAL: [0/330] Elapsed 0m 0s (remain 3m 53s) Loss: 0.0139(0.0139) \n",
      "EVAL: [100/330] Elapsed 0m 11s (remain 0m 26s) Loss: 0.0149(0.0152) \n",
      "EVAL: [200/330] Elapsed 0m 22s (remain 0m 14s) Loss: 0.0149(0.0151) \n",
      "EVAL: [300/330] Elapsed 0m 33s (remain 0m 3s) Loss: 0.0149(0.0151) \n"
     ]
    },
    {
     "name": "stderr",
     "output_type": "stream",
     "text": [
      "Epoch 4 - avg_train_loss: 0.0222  avg_val_loss: 0.0152  time: 475s\n",
      "Epoch 4 - Accuracy: 0.9438116932422171\n",
      "Epoch 4 - Save Best Score: 0.9438 Model\n"
     ]
    },
    {
     "name": "stdout",
     "output_type": "stream",
     "text": [
      "EVAL: [329/330] Elapsed 0m 36s (remain 0m 0s) Loss: 0.0126(0.0152) \n",
      "Epoch: [5][0/1316] Elapsed 0m 1s (remain 26m 22s) Loss: 0.0190(0.0190) Grad: 0.0229 LR: 0.000066  \n",
      "Epoch: [5][100/1316] Elapsed 0m 34s (remain 6m 52s) Loss: 0.0347(0.0225) Grad: 0.0353 LR: 0.000065  \n",
      "Epoch: [5][200/1316] Elapsed 1m 7s (remain 6m 13s) Loss: 0.0154(0.0219) Grad: 0.0201 LR: 0.000064  \n",
      "Epoch: [5][300/1316] Elapsed 1m 40s (remain 5m 39s) Loss: 0.0249(0.0218) Grad: 0.0229 LR: 0.000063  \n",
      "Epoch: [5][400/1316] Elapsed 2m 13s (remain 5m 5s) Loss: 0.0139(0.0216) Grad: 0.0153 LR: 0.000062  \n",
      "Epoch: [5][500/1316] Elapsed 2m 46s (remain 4m 31s) Loss: 0.0231(0.0217) Grad: 0.0188 LR: 0.000061  \n",
      "Epoch: [5][600/1316] Elapsed 3m 19s (remain 3m 57s) Loss: 0.0293(0.0218) Grad: 0.0256 LR: 0.000059  \n",
      "Epoch: [5][700/1316] Elapsed 3m 52s (remain 3m 24s) Loss: 0.0219(0.0218) Grad: 0.0233 LR: 0.000058  \n",
      "Epoch: [5][800/1316] Elapsed 4m 26s (remain 2m 51s) Loss: 0.0239(0.0218) Grad: 0.0195 LR: 0.000057  \n",
      "Epoch: [5][900/1316] Elapsed 4m 58s (remain 2m 17s) Loss: 0.0261(0.0217) Grad: 0.0184 LR: 0.000056  \n",
      "Epoch: [5][1000/1316] Elapsed 5m 32s (remain 1m 44s) Loss: 0.0261(0.0218) Grad: 0.0135 LR: 0.000055  \n",
      "Epoch: [5][1100/1316] Elapsed 6m 5s (remain 1m 11s) Loss: 0.0235(0.0219) Grad: 0.0153 LR: 0.000054  \n",
      "Epoch: [5][1200/1316] Elapsed 6m 38s (remain 0m 38s) Loss: 0.0175(0.0219) Grad: 0.0180 LR: 0.000052  \n",
      "Epoch: [5][1300/1316] Elapsed 7m 11s (remain 0m 4s) Loss: 0.0204(0.0219) Grad: 0.0469 LR: 0.000051  \n",
      "Epoch: [5][1315/1316] Elapsed 7m 16s (remain 0m 0s) Loss: 0.0168(0.0219) Grad: 0.0473 LR: 0.000051  \n",
      "EVAL: [0/330] Elapsed 0m 0s (remain 4m 51s) Loss: 0.0141(0.0141) \n",
      "EVAL: [100/330] Elapsed 0m 12s (remain 0m 27s) Loss: 0.0148(0.0151) \n",
      "EVAL: [200/330] Elapsed 0m 23s (remain 0m 14s) Loss: 0.0167(0.0151) \n",
      "EVAL: [300/330] Elapsed 0m 34s (remain 0m 3s) Loss: 0.0152(0.0151) \n"
     ]
    },
    {
     "name": "stderr",
     "output_type": "stream",
     "text": [
      "Epoch 5 - avg_train_loss: 0.0219  avg_val_loss: 0.0152  time: 474s\n",
      "Epoch 5 - Accuracy: 0.9500759301442673\n",
      "Epoch 5 - Save Best Score: 0.9501 Model\n"
     ]
    },
    {
     "name": "stdout",
     "output_type": "stream",
     "text": [
      "EVAL: [329/330] Elapsed 0m 36s (remain 0m 0s) Loss: 0.0130(0.0152) \n",
      "Epoch: [6][0/1316] Elapsed 0m 1s (remain 28m 53s) Loss: 0.0289(0.0289) Grad: 0.0161 LR: 0.000051  \n",
      "Epoch: [6][100/1316] Elapsed 0m 34s (remain 6m 51s) Loss: 0.0196(0.0206) Grad: 0.0188 LR: 0.000050  \n",
      "Epoch: [6][200/1316] Elapsed 1m 7s (remain 6m 13s) Loss: 0.0159(0.0210) Grad: 0.0290 LR: 0.000049  \n",
      "Epoch: [6][300/1316] Elapsed 1m 39s (remain 5m 36s) Loss: 0.0259(0.0210) Grad: 0.0155 LR: 0.000048  \n",
      "Epoch: [6][400/1316] Elapsed 2m 13s (remain 5m 3s) Loss: 0.0158(0.0212) Grad: 0.0215 LR: 0.000046  \n",
      "Epoch: [6][500/1316] Elapsed 2m 46s (remain 4m 30s) Loss: 0.0318(0.0213) Grad: 0.0198 LR: 0.000045  \n",
      "Epoch: [6][600/1316] Elapsed 3m 19s (remain 3m 57s) Loss: 0.0132(0.0214) Grad: 0.0100 LR: 0.000044  \n",
      "Epoch: [6][700/1316] Elapsed 3m 52s (remain 3m 24s) Loss: 0.0230(0.0213) Grad: 0.0190 LR: 0.000043  \n",
      "Epoch: [6][800/1316] Elapsed 4m 26s (remain 2m 51s) Loss: 0.0194(0.0214) Grad: 0.0086 LR: 0.000042  \n",
      "Epoch: [6][900/1316] Elapsed 4m 59s (remain 2m 17s) Loss: 0.0145(0.0215) Grad: 0.0228 LR: 0.000041  \n",
      "Epoch: [6][1000/1316] Elapsed 5m 32s (remain 1m 44s) Loss: 0.0163(0.0215) Grad: 0.0188 LR: 0.000039  \n",
      "Epoch: [6][1100/1316] Elapsed 6m 5s (remain 1m 11s) Loss: 0.0214(0.0215) Grad: 0.0110 LR: 0.000038  \n",
      "Epoch: [6][1200/1316] Elapsed 6m 38s (remain 0m 38s) Loss: 0.0259(0.0215) Grad: 0.0200 LR: 0.000037  \n",
      "Epoch: [6][1300/1316] Elapsed 7m 10s (remain 0m 4s) Loss: 0.0182(0.0215) Grad: 0.0218 LR: 0.000036  \n",
      "Epoch: [6][1315/1316] Elapsed 7m 15s (remain 0m 0s) Loss: 0.0184(0.0215) Grad: 0.0187 LR: 0.000036  \n",
      "EVAL: [0/330] Elapsed 0m 0s (remain 4m 42s) Loss: 0.0138(0.0138) \n",
      "EVAL: [100/330] Elapsed 0m 11s (remain 0m 27s) Loss: 0.0148(0.0151) \n",
      "EVAL: [200/330] Elapsed 0m 23s (remain 0m 14s) Loss: 0.0163(0.0150) \n",
      "EVAL: [300/330] Elapsed 0m 34s (remain 0m 3s) Loss: 0.0148(0.0150) \n"
     ]
    },
    {
     "name": "stderr",
     "output_type": "stream",
     "text": [
      "Epoch 6 - avg_train_loss: 0.0215  avg_val_loss: 0.0150  time: 473s\n",
      "Epoch 6 - Accuracy: 0.9502657555049354\n",
      "Epoch 6 - Save Best Score: 0.9503 Model\n"
     ]
    },
    {
     "name": "stdout",
     "output_type": "stream",
     "text": [
      "EVAL: [329/330] Elapsed 0m 36s (remain 0m 0s) Loss: 0.0124(0.0150) \n",
      "Epoch: [7][0/1316] Elapsed 0m 1s (remain 28m 40s) Loss: 0.0151(0.0151) Grad: 0.0143 LR: 0.000036  \n",
      "Epoch: [7][100/1316] Elapsed 0m 33s (remain 6m 48s) Loss: 0.0203(0.0198) Grad: 0.0260 LR: 0.000035  \n",
      "Epoch: [7][200/1316] Elapsed 1m 6s (remain 6m 11s) Loss: 0.0152(0.0189) Grad: 0.0193 LR: 0.000034  \n",
      "Epoch: [7][300/1316] Elapsed 1m 39s (remain 5m 34s) Loss: 0.0149(0.0187) Grad: 0.0175 LR: 0.000033  \n",
      "Epoch: [7][400/1316] Elapsed 2m 12s (remain 5m 1s) Loss: 0.0153(0.0186) Grad: 0.0207 LR: 0.000032  \n",
      "Epoch: [7][500/1316] Elapsed 2m 44s (remain 4m 27s) Loss: 0.0134(0.0186) Grad: 0.0136 LR: 0.000030  \n",
      "Epoch: [7][600/1316] Elapsed 3m 16s (remain 3m 54s) Loss: 0.0244(0.0186) Grad: 0.0151 LR: 0.000029  \n",
      "Epoch: [7][700/1316] Elapsed 3m 49s (remain 3m 21s) Loss: 0.0144(0.0186) Grad: 0.0176 LR: 0.000028  \n",
      "Epoch: [7][800/1316] Elapsed 4m 21s (remain 2m 48s) Loss: 0.0150(0.0187) Grad: 0.0202 LR: 0.000027  \n",
      "Epoch: [7][900/1316] Elapsed 4m 53s (remain 2m 15s) Loss: 0.0144(0.0186) Grad: 0.0086 LR: 0.000026  \n",
      "Epoch: [7][1000/1316] Elapsed 5m 25s (remain 1m 42s) Loss: 0.0231(0.0186) Grad: 0.0243 LR: 0.000025  \n",
      "Epoch: [7][1100/1316] Elapsed 5m 58s (remain 1m 10s) Loss: 0.0153(0.0186) Grad: 0.0245 LR: 0.000024  \n",
      "Epoch: [7][1200/1316] Elapsed 6m 31s (remain 0m 37s) Loss: 0.0219(0.0186) Grad: 0.0239 LR: 0.000023  \n",
      "Epoch: [7][1300/1316] Elapsed 7m 3s (remain 0m 4s) Loss: 0.0132(0.0186) Grad: 0.0122 LR: 0.000022  \n",
      "Epoch: [7][1315/1316] Elapsed 7m 8s (remain 0m 0s) Loss: 0.0192(0.0186) Grad: 0.0248 LR: 0.000022  \n",
      "EVAL: [0/330] Elapsed 0m 0s (remain 4m 3s) Loss: 0.0137(0.0137) \n",
      "EVAL: [100/330] Elapsed 0m 11s (remain 0m 26s) Loss: 0.0147(0.0149) \n",
      "EVAL: [200/330] Elapsed 0m 22s (remain 0m 14s) Loss: 0.0157(0.0148) \n",
      "EVAL: [300/330] Elapsed 0m 33s (remain 0m 3s) Loss: 0.0144(0.0148) \n"
     ]
    },
    {
     "name": "stderr",
     "output_type": "stream",
     "text": [
      "Epoch 7 - avg_train_loss: 0.0186  avg_val_loss: 0.0148  time: 465s\n",
      "Epoch 7 - Accuracy: 0.9498861047835991\n"
     ]
    },
    {
     "name": "stdout",
     "output_type": "stream",
     "text": [
      "EVAL: [329/330] Elapsed 0m 36s (remain 0m 0s) Loss: 0.0126(0.0148) \n",
      "Epoch: [8][0/1316] Elapsed 0m 1s (remain 29m 7s) Loss: 0.0320(0.0320) Grad: 0.0245 LR: 0.000022  \n",
      "Epoch: [8][100/1316] Elapsed 0m 33s (remain 6m 47s) Loss: 0.0173(0.0188) Grad: 0.0226 LR: 0.000021  \n",
      "Epoch: [8][200/1316] Elapsed 1m 6s (remain 6m 9s) Loss: 0.0151(0.0186) Grad: 0.0182 LR: 0.000020  \n",
      "Epoch: [8][300/1316] Elapsed 1m 39s (remain 5m 34s) Loss: 0.0149(0.0186) Grad: 0.0226 LR: 0.000020  \n",
      "Epoch: [8][400/1316] Elapsed 2m 11s (remain 5m 0s) Loss: 0.0252(0.0186) Grad: 0.0331 LR: 0.000019  \n",
      "Epoch: [8][500/1316] Elapsed 2m 43s (remain 4m 26s) Loss: 0.0179(0.0185) Grad: 0.0337 LR: 0.000018  \n",
      "Epoch: [8][600/1316] Elapsed 3m 16s (remain 3m 53s) Loss: 0.0141(0.0184) Grad: 0.0199 LR: 0.000017  \n",
      "Epoch: [8][700/1316] Elapsed 3m 48s (remain 3m 20s) Loss: 0.0194(0.0183) Grad: 0.0112 LR: 0.000016  \n",
      "Epoch: [8][800/1316] Elapsed 4m 20s (remain 2m 47s) Loss: 0.0134(0.0183) Grad: 0.0069 LR: 0.000015  \n",
      "Epoch: [8][900/1316] Elapsed 4m 53s (remain 2m 15s) Loss: 0.0156(0.0183) Grad: 0.0227 LR: 0.000014  \n",
      "Epoch: [8][1000/1316] Elapsed 5m 26s (remain 1m 42s) Loss: 0.0153(0.0183) Grad: 0.0215 LR: 0.000014  \n",
      "Epoch: [8][1100/1316] Elapsed 5m 58s (remain 1m 10s) Loss: 0.0175(0.0183) Grad: 0.0251 LR: 0.000013  \n",
      "Epoch: [8][1200/1316] Elapsed 6m 31s (remain 0m 37s) Loss: 0.0167(0.0183) Grad: 0.0203 LR: 0.000012  \n",
      "Epoch: [8][1300/1316] Elapsed 7m 4s (remain 0m 4s) Loss: 0.0138(0.0184) Grad: 0.0190 LR: 0.000012  \n",
      "Epoch: [8][1315/1316] Elapsed 7m 9s (remain 0m 0s) Loss: 0.0159(0.0185) Grad: 0.0416 LR: 0.000011  \n",
      "EVAL: [0/330] Elapsed 0m 0s (remain 4m 38s) Loss: 0.0140(0.0140) \n",
      "EVAL: [100/330] Elapsed 0m 11s (remain 0m 26s) Loss: 0.0149(0.0149) \n",
      "EVAL: [200/330] Elapsed 0m 22s (remain 0m 14s) Loss: 0.0158(0.0149) \n",
      "EVAL: [300/330] Elapsed 0m 33s (remain 0m 3s) Loss: 0.0152(0.0149) \n"
     ]
    },
    {
     "name": "stderr",
     "output_type": "stream",
     "text": [
      "Epoch 8 - avg_train_loss: 0.0185  avg_val_loss: 0.0149  time: 465s\n",
      "Epoch 8 - Accuracy: 0.9519741837509491\n",
      "Epoch 8 - Save Best Score: 0.9520 Model\n"
     ]
    },
    {
     "name": "stdout",
     "output_type": "stream",
     "text": [
      "EVAL: [329/330] Elapsed 0m 36s (remain 0m 0s) Loss: 0.0128(0.0149) \n",
      "Epoch: [9][0/1316] Elapsed 0m 1s (remain 28m 6s) Loss: 0.0132(0.0132) Grad: 0.0072 LR: 0.000011  \n",
      "Epoch: [9][100/1316] Elapsed 0m 33s (remain 6m 47s) Loss: 0.0273(0.0185) Grad: 0.0207 LR: 0.000011  \n",
      "Epoch: [9][200/1316] Elapsed 1m 6s (remain 6m 9s) Loss: 0.0146(0.0184) Grad: 0.0106 LR: 0.000010  \n",
      "Epoch: [9][300/1316] Elapsed 1m 39s (remain 5m 34s) Loss: 0.0130(0.0187) Grad: 0.0052 LR: 0.000009  \n",
      "Epoch: [9][400/1316] Elapsed 2m 11s (remain 5m 0s) Loss: 0.0151(0.0185) Grad: 0.0217 LR: 0.000009  \n",
      "Epoch: [9][500/1316] Elapsed 2m 44s (remain 4m 27s) Loss: 0.0152(0.0184) Grad: 0.0178 LR: 0.000008  \n",
      "Epoch: [9][600/1316] Elapsed 3m 16s (remain 3m 54s) Loss: 0.0135(0.0185) Grad: 0.0137 LR: 0.000008  \n",
      "Epoch: [9][700/1316] Elapsed 3m 49s (remain 3m 21s) Loss: 0.0160(0.0185) Grad: 0.0207 LR: 0.000007  \n",
      "Epoch: [9][800/1316] Elapsed 4m 22s (remain 2m 48s) Loss: 0.0150(0.0184) Grad: 0.0184 LR: 0.000007  \n",
      "Epoch: [9][900/1316] Elapsed 4m 54s (remain 2m 15s) Loss: 0.0172(0.0185) Grad: 0.0284 LR: 0.000006  \n",
      "Epoch: [9][1000/1316] Elapsed 5m 27s (remain 1m 43s) Loss: 0.0142(0.0185) Grad: 0.0136 LR: 0.000006  \n",
      "Epoch: [9][1100/1316] Elapsed 6m 0s (remain 1m 10s) Loss: 0.0164(0.0185) Grad: 0.0181 LR: 0.000005  \n",
      "Epoch: [9][1200/1316] Elapsed 6m 32s (remain 0m 37s) Loss: 0.0218(0.0184) Grad: 0.0529 LR: 0.000005  \n",
      "Epoch: [9][1300/1316] Elapsed 7m 5s (remain 0m 4s) Loss: 0.0194(0.0184) Grad: 0.0171 LR: 0.000004  \n",
      "Epoch: [9][1315/1316] Elapsed 7m 10s (remain 0m 0s) Loss: 0.0127(0.0184) Grad: 0.0286 LR: 0.000004  \n",
      "EVAL: [0/330] Elapsed 0m 0s (remain 4m 13s) Loss: 0.0138(0.0138) \n",
      "EVAL: [100/330] Elapsed 0m 12s (remain 0m 27s) Loss: 0.0147(0.0148) \n",
      "EVAL: [200/330] Elapsed 0m 23s (remain 0m 14s) Loss: 0.0155(0.0147) \n",
      "EVAL: [300/330] Elapsed 0m 34s (remain 0m 3s) Loss: 0.0147(0.0147) \n"
     ]
    },
    {
     "name": "stderr",
     "output_type": "stream",
     "text": [
      "Epoch 9 - avg_train_loss: 0.0184  avg_val_loss: 0.0147  time: 467s\n",
      "Epoch 9 - Accuracy: 0.9527334851936219\n",
      "Epoch 9 - Save Best Score: 0.9527 Model\n"
     ]
    },
    {
     "name": "stdout",
     "output_type": "stream",
     "text": [
      "EVAL: [329/330] Elapsed 0m 36s (remain 0m 0s) Loss: 0.0126(0.0147) \n",
      "Epoch: [10][0/1316] Elapsed 0m 1s (remain 23m 37s) Loss: 0.0142(0.0142) Grad: 0.0157 LR: 0.000004  \n",
      "Epoch: [10][100/1316] Elapsed 0m 32s (remain 6m 29s) Loss: 0.0139(0.0143) Grad: 0.0110 LR: 0.000004  \n",
      "Epoch: [10][200/1316] Elapsed 1m 3s (remain 5m 52s) Loss: 0.0128(0.0143) Grad: 0.0074 LR: 0.000004  \n",
      "Epoch: [10][300/1316] Elapsed 1m 34s (remain 5m 19s) Loss: 0.0144(0.0143) Grad: 0.0160 LR: 0.000003  \n",
      "Epoch: [10][400/1316] Elapsed 2m 6s (remain 4m 47s) Loss: 0.0125(0.0143) Grad: 0.0066 LR: 0.000003  \n",
      "Epoch: [10][500/1316] Elapsed 2m 37s (remain 4m 15s) Loss: 0.0141(0.0143) Grad: 0.0205 LR: 0.000003  \n",
      "Epoch: [10][600/1316] Elapsed 3m 8s (remain 3m 44s) Loss: 0.0148(0.0143) Grad: 0.0139 LR: 0.000003  \n",
      "Epoch: [10][700/1316] Elapsed 3m 39s (remain 3m 12s) Loss: 0.0128(0.0143) Grad: 0.0059 LR: 0.000003  \n",
      "Epoch: [10][800/1316] Elapsed 4m 11s (remain 2m 41s) Loss: 0.0154(0.0142) Grad: 0.0297 LR: 0.000002  \n",
      "Epoch: [10][900/1316] Elapsed 4m 42s (remain 2m 10s) Loss: 0.0129(0.0142) Grad: 0.0082 LR: 0.000002  \n",
      "Epoch: [10][1000/1316] Elapsed 5m 13s (remain 1m 38s) Loss: 0.0127(0.0142) Grad: 0.0043 LR: 0.000002  \n",
      "Epoch: [10][1100/1316] Elapsed 5m 45s (remain 1m 7s) Loss: 0.0133(0.0142) Grad: 0.0075 LR: 0.000002  \n",
      "Epoch: [10][1200/1316] Elapsed 6m 16s (remain 0m 36s) Loss: 0.0137(0.0142) Grad: 0.0126 LR: 0.000002  \n",
      "Epoch: [10][1300/1316] Elapsed 6m 48s (remain 0m 4s) Loss: 0.0128(0.0142) Grad: 0.0117 LR: 0.000002  \n",
      "Epoch: [10][1315/1316] Elapsed 6m 52s (remain 0m 0s) Loss: 0.0134(0.0142) Grad: 0.0110 LR: 0.000002  \n",
      "EVAL: [0/330] Elapsed 0m 0s (remain 4m 7s) Loss: 0.0139(0.0139) \n",
      "EVAL: [100/330] Elapsed 0m 12s (remain 0m 27s) Loss: 0.0157(0.0147) \n",
      "EVAL: [200/330] Elapsed 0m 23s (remain 0m 14s) Loss: 0.0153(0.0146) \n",
      "EVAL: [300/330] Elapsed 0m 33s (remain 0m 3s) Loss: 0.0137(0.0146) \n"
     ]
    },
    {
     "name": "stderr",
     "output_type": "stream",
     "text": [
      "Epoch 10 - avg_train_loss: 0.0142  avg_val_loss: 0.0146  time: 449s\n",
      "Epoch 10 - Accuracy: 0.951784358390281\n",
      "Epoch 10 - Save final model\n"
     ]
    },
    {
     "name": "stdout",
     "output_type": "stream",
     "text": [
      "EVAL: [329/330] Elapsed 0m 36s (remain 0m 0s) Loss: 0.0125(0.0146) \n"
     ]
    },
    {
     "name": "stderr",
     "output_type": "stream",
     "text": [
      "========== fold: 1 result ==========\n",
      "Score: 0.95273\n",
      "========== fold: 2 training ==========\n"
     ]
    },
    {
     "name": "stdout",
     "output_type": "stream",
     "text": [
      "Epoch: [1][0/1316] Elapsed 0m 1s (remain 23m 6s) Loss: 0.0444(0.0444) Grad: 0.0795 LR: 0.000100  \n",
      "Epoch: [1][100/1316] Elapsed 0m 33s (remain 6m 43s) Loss: 0.0234(0.0303) Grad: 0.0368 LR: 0.000100  \n",
      "Epoch: [1][200/1316] Elapsed 1m 5s (remain 6m 5s) Loss: 0.0246(0.0272) Grad: 0.0424 LR: 0.000100  \n",
      "Epoch: [1][300/1316] Elapsed 1m 38s (remain 5m 31s) Loss: 0.0188(0.0251) Grad: 0.0309 LR: 0.000100  \n",
      "Epoch: [1][400/1316] Elapsed 2m 10s (remain 4m 58s) Loss: 0.0183(0.0238) Grad: 0.0324 LR: 0.000100  \n",
      "Epoch: [1][500/1316] Elapsed 2m 43s (remain 4m 25s) Loss: 0.0190(0.0230) Grad: 0.0327 LR: 0.000100  \n",
      "Epoch: [1][600/1316] Elapsed 3m 15s (remain 3m 52s) Loss: 0.0188(0.0222) Grad: 0.0316 LR: 0.000099  \n",
      "Epoch: [1][700/1316] Elapsed 3m 48s (remain 3m 20s) Loss: 0.0170(0.0217) Grad: 0.0236 LR: 0.000099  \n",
      "Epoch: [1][800/1316] Elapsed 4m 20s (remain 2m 47s) Loss: 0.0196(0.0213) Grad: 0.0281 LR: 0.000099  \n",
      "Epoch: [1][900/1316] Elapsed 4m 53s (remain 2m 15s) Loss: 0.0161(0.0208) Grad: 0.0258 LR: 0.000099  \n",
      "Epoch: [1][1000/1316] Elapsed 5m 26s (remain 1m 42s) Loss: 0.0153(0.0205) Grad: 0.0223 LR: 0.000099  \n",
      "Epoch: [1][1100/1316] Elapsed 5m 58s (remain 1m 10s) Loss: 0.0184(0.0202) Grad: 0.0258 LR: 0.000098  \n",
      "Epoch: [1][1200/1316] Elapsed 6m 31s (remain 0m 37s) Loss: 0.0145(0.0199) Grad: 0.0236 LR: 0.000098  \n",
      "Epoch: [1][1300/1316] Elapsed 7m 3s (remain 0m 4s) Loss: 0.0174(0.0197) Grad: 0.0268 LR: 0.000098  \n",
      "Epoch: [1][1315/1316] Elapsed 7m 8s (remain 0m 0s) Loss: 0.0175(0.0196) Grad: 0.0357 LR: 0.000098  \n",
      "EVAL: [0/330] Elapsed 0m 0s (remain 4m 10s) Loss: 0.0141(0.0141) \n",
      "EVAL: [100/330] Elapsed 0m 12s (remain 0m 27s) Loss: 0.0148(0.0155) \n",
      "EVAL: [200/330] Elapsed 0m 23s (remain 0m 15s) Loss: 0.0146(0.0154) \n",
      "EVAL: [300/330] Elapsed 0m 34s (remain 0m 3s) Loss: 0.0161(0.0156) \n"
     ]
    },
    {
     "name": "stderr",
     "output_type": "stream",
     "text": [
      "Epoch 1 - avg_train_loss: 0.0196  avg_val_loss: 0.0156  time: 466s\n",
      "Epoch 1 - Accuracy: 0.9382950446174293\n",
      "Epoch 1 - Save Best Score: 0.9383 Model\n"
     ]
    },
    {
     "name": "stdout",
     "output_type": "stream",
     "text": [
      "EVAL: [329/330] Elapsed 0m 37s (remain 0m 0s) Loss: 0.0118(0.0156) \n",
      "Epoch: [2][0/1316] Elapsed 0m 1s (remain 23m 13s) Loss: 0.0153(0.0153) Grad: 0.0221 LR: 0.000098  \n",
      "Epoch: [2][100/1316] Elapsed 0m 33s (remain 6m 46s) Loss: 0.0184(0.0156) Grad: 0.0312 LR: 0.000097  \n",
      "Epoch: [2][200/1316] Elapsed 1m 6s (remain 6m 9s) Loss: 0.0190(0.0156) Grad: 0.0303 LR: 0.000097  \n",
      "Epoch: [2][300/1316] Elapsed 1m 39s (remain 5m 35s) Loss: 0.0151(0.0156) Grad: 0.0166 LR: 0.000096  \n",
      "Epoch: [2][400/1316] Elapsed 2m 11s (remain 5m 0s) Loss: 0.0142(0.0156) Grad: 0.0159 LR: 0.000096  \n",
      "Epoch: [2][500/1316] Elapsed 2m 44s (remain 4m 27s) Loss: 0.0182(0.0156) Grad: 0.0261 LR: 0.000095  \n",
      "Epoch: [2][600/1316] Elapsed 3m 17s (remain 3m 54s) Loss: 0.0134(0.0156) Grad: 0.0105 LR: 0.000095  \n",
      "Epoch: [2][700/1316] Elapsed 3m 49s (remain 3m 21s) Loss: 0.0170(0.0155) Grad: 0.0264 LR: 0.000094  \n",
      "Epoch: [2][800/1316] Elapsed 4m 22s (remain 2m 48s) Loss: 0.0166(0.0154) Grad: 0.0207 LR: 0.000094  \n",
      "Epoch: [2][900/1316] Elapsed 4m 54s (remain 2m 15s) Loss: 0.0155(0.0154) Grad: 0.0269 LR: 0.000093  \n",
      "Epoch: [2][1000/1316] Elapsed 5m 26s (remain 1m 42s) Loss: 0.0143(0.0154) Grad: 0.0211 LR: 0.000093  \n",
      "Epoch: [2][1100/1316] Elapsed 5m 59s (remain 1m 10s) Loss: 0.0164(0.0154) Grad: 0.0289 LR: 0.000092  \n",
      "Epoch: [2][1200/1316] Elapsed 6m 32s (remain 0m 37s) Loss: 0.0144(0.0154) Grad: 0.0258 LR: 0.000091  \n",
      "Epoch: [2][1300/1316] Elapsed 7m 4s (remain 0m 4s) Loss: 0.0129(0.0154) Grad: 0.0081 LR: 0.000091  \n",
      "Epoch: [2][1315/1316] Elapsed 7m 9s (remain 0m 0s) Loss: 0.0137(0.0154) Grad: 0.0186 LR: 0.000091  \n",
      "EVAL: [0/330] Elapsed 0m 0s (remain 4m 45s) Loss: 0.0133(0.0133) \n",
      "EVAL: [100/330] Elapsed 0m 12s (remain 0m 27s) Loss: 0.0149(0.0152) \n",
      "EVAL: [200/330] Elapsed 0m 23s (remain 0m 14s) Loss: 0.0140(0.0152) \n",
      "EVAL: [300/330] Elapsed 0m 34s (remain 0m 3s) Loss: 0.0142(0.0153) \n"
     ]
    },
    {
     "name": "stderr",
     "output_type": "stream",
     "text": [
      "Epoch 2 - avg_train_loss: 0.0154  avg_val_loss: 0.0153  time: 467s\n",
      "Epoch 2 - Accuracy: 0.9400037972280235\n",
      "Epoch 2 - Save Best Score: 0.9400 Model\n"
     ]
    },
    {
     "name": "stdout",
     "output_type": "stream",
     "text": [
      "EVAL: [329/330] Elapsed 0m 37s (remain 0m 0s) Loss: 0.0118(0.0153) \n",
      "Epoch: [3][0/1316] Elapsed 0m 1s (remain 26m 24s) Loss: 0.0342(0.0342) Grad: 0.0378 LR: 0.000091  \n",
      "Epoch: [3][100/1316] Elapsed 0m 36s (remain 7m 15s) Loss: 0.0154(0.0242) Grad: 0.0211 LR: 0.000090  \n",
      "Epoch: [3][200/1316] Elapsed 1m 10s (remain 6m 32s) Loss: 0.0251(0.0235) Grad: 0.0189 LR: 0.000089  \n",
      "Epoch: [3][300/1316] Elapsed 1m 45s (remain 5m 54s) Loss: 0.0191(0.0234) Grad: 0.0231 LR: 0.000088  \n",
      "Epoch: [3][400/1316] Elapsed 2m 19s (remain 5m 18s) Loss: 0.0169(0.0233) Grad: 0.0203 LR: 0.000088  \n",
      "Epoch: [3][500/1316] Elapsed 2m 53s (remain 4m 42s) Loss: 0.0217(0.0232) Grad: 0.0172 LR: 0.000087  \n",
      "Epoch: [3][600/1316] Elapsed 3m 28s (remain 4m 8s) Loss: 0.0218(0.0231) Grad: 0.0151 LR: 0.000086  \n",
      "Epoch: [3][700/1316] Elapsed 4m 2s (remain 3m 32s) Loss: 0.0257(0.0231) Grad: 0.0291 LR: 0.000085  \n",
      "Epoch: [3][800/1316] Elapsed 4m 37s (remain 2m 58s) Loss: 0.0203(0.0230) Grad: 0.0251 LR: 0.000084  \n",
      "Epoch: [3][900/1316] Elapsed 5m 11s (remain 2m 23s) Loss: 0.0245(0.0229) Grad: 0.0137 LR: 0.000084  \n",
      "Epoch: [3][1000/1316] Elapsed 5m 46s (remain 1m 48s) Loss: 0.0166(0.0228) Grad: 0.0246 LR: 0.000083  \n",
      "Epoch: [3][1100/1316] Elapsed 6m 21s (remain 1m 14s) Loss: 0.0274(0.0228) Grad: 0.0291 LR: 0.000082  \n",
      "Epoch: [3][1200/1316] Elapsed 6m 55s (remain 0m 39s) Loss: 0.0206(0.0228) Grad: 0.0142 LR: 0.000081  \n",
      "Epoch: [3][1300/1316] Elapsed 7m 30s (remain 0m 5s) Loss: 0.0210(0.0227) Grad: 0.0255 LR: 0.000080  \n",
      "Epoch: [3][1315/1316] Elapsed 7m 35s (remain 0m 0s) Loss: 0.0208(0.0227) Grad: 0.0373 LR: 0.000080  \n",
      "EVAL: [0/330] Elapsed 0m 0s (remain 3m 57s) Loss: 0.0139(0.0139) \n",
      "EVAL: [100/330] Elapsed 0m 12s (remain 0m 28s) Loss: 0.0156(0.0153) \n",
      "EVAL: [200/330] Elapsed 0m 23s (remain 0m 15s) Loss: 0.0144(0.0153) \n",
      "EVAL: [300/330] Elapsed 0m 34s (remain 0m 3s) Loss: 0.0148(0.0154) \n"
     ]
    },
    {
     "name": "stderr",
     "output_type": "stream",
     "text": [
      "Epoch 3 - avg_train_loss: 0.0227  avg_val_loss: 0.0154  time: 493s\n",
      "Epoch 3 - Accuracy: 0.9430415796468578\n",
      "Epoch 3 - Save Best Score: 0.9430 Model\n"
     ]
    },
    {
     "name": "stdout",
     "output_type": "stream",
     "text": [
      "EVAL: [329/330] Elapsed 0m 37s (remain 0m 0s) Loss: 0.0118(0.0154) \n",
      "Epoch: [4][0/1316] Elapsed 0m 1s (remain 30m 11s) Loss: 0.0183(0.0183) Grad: 0.0176 LR: 0.000080  \n",
      "Epoch: [4][100/1316] Elapsed 0m 36s (remain 7m 21s) Loss: 0.0282(0.0221) Grad: 0.0205 LR: 0.000079  \n",
      "Epoch: [4][200/1316] Elapsed 1m 11s (remain 6m 35s) Loss: 0.0286(0.0224) Grad: 0.0202 LR: 0.000078  \n",
      "Epoch: [4][300/1316] Elapsed 1m 46s (remain 5m 59s) Loss: 0.0164(0.0224) Grad: 0.0222 LR: 0.000077  \n",
      "Epoch: [4][400/1316] Elapsed 2m 21s (remain 5m 22s) Loss: 0.0148(0.0223) Grad: 0.0160 LR: 0.000076  \n",
      "Epoch: [4][500/1316] Elapsed 2m 55s (remain 4m 46s) Loss: 0.0160(0.0223) Grad: 0.0169 LR: 0.000075  \n",
      "Epoch: [4][600/1316] Elapsed 3m 30s (remain 4m 10s) Loss: 0.0299(0.0223) Grad: 0.0226 LR: 0.000074  \n",
      "Epoch: [4][700/1316] Elapsed 4m 4s (remain 3m 34s) Loss: 0.0147(0.0221) Grad: 0.0205 LR: 0.000073  \n",
      "Epoch: [4][800/1316] Elapsed 4m 38s (remain 2m 59s) Loss: 0.0178(0.0220) Grad: 0.0241 LR: 0.000072  \n",
      "Epoch: [4][900/1316] Elapsed 5m 13s (remain 2m 24s) Loss: 0.0295(0.0220) Grad: 0.0175 LR: 0.000071  \n",
      "Epoch: [4][1000/1316] Elapsed 5m 48s (remain 1m 49s) Loss: 0.0141(0.0222) Grad: 0.0116 LR: 0.000070  \n",
      "Epoch: [4][1100/1316] Elapsed 6m 22s (remain 1m 14s) Loss: 0.0216(0.0221) Grad: 0.0133 LR: 0.000069  \n",
      "Epoch: [4][1200/1316] Elapsed 6m 57s (remain 0m 40s) Loss: 0.0150(0.0220) Grad: 0.0208 LR: 0.000067  \n",
      "Epoch: [4][1300/1316] Elapsed 7m 32s (remain 0m 5s) Loss: 0.0278(0.0221) Grad: 0.0244 LR: 0.000066  \n",
      "Epoch: [4][1315/1316] Elapsed 7m 37s (remain 0m 0s) Loss: 0.0265(0.0221) Grad: 0.0210 LR: 0.000066  \n",
      "EVAL: [0/330] Elapsed 0m 0s (remain 4m 48s) Loss: 0.0139(0.0139) \n",
      "EVAL: [100/330] Elapsed 0m 12s (remain 0m 27s) Loss: 0.0161(0.0152) \n",
      "EVAL: [200/330] Elapsed 0m 23s (remain 0m 15s) Loss: 0.0149(0.0152) \n",
      "EVAL: [300/330] Elapsed 0m 34s (remain 0m 3s) Loss: 0.0141(0.0152) \n"
     ]
    },
    {
     "name": "stderr",
     "output_type": "stream",
     "text": [
      "Epoch 4 - avg_train_loss: 0.0221  avg_val_loss: 0.0152  time: 494s\n",
      "Epoch 4 - Accuracy: 0.9432314410480349\n",
      "Epoch 4 - Save Best Score: 0.9432 Model\n"
     ]
    },
    {
     "name": "stdout",
     "output_type": "stream",
     "text": [
      "EVAL: [329/330] Elapsed 0m 37s (remain 0m 0s) Loss: 0.0118(0.0152) \n",
      "Epoch: [5][0/1316] Elapsed 0m 1s (remain 25m 59s) Loss: 0.0193(0.0193) Grad: 0.0195 LR: 0.000066  \n",
      "Epoch: [5][100/1316] Elapsed 0m 36s (remain 7m 20s) Loss: 0.0251(0.0221) Grad: 0.0189 LR: 0.000065  \n",
      "Epoch: [5][200/1316] Elapsed 1m 11s (remain 6m 36s) Loss: 0.0243(0.0222) Grad: 0.0187 LR: 0.000064  \n",
      "Epoch: [5][300/1316] Elapsed 1m 46s (remain 5m 58s) Loss: 0.0167(0.0222) Grad: 0.0177 LR: 0.000063  \n",
      "Epoch: [5][400/1316] Elapsed 2m 21s (remain 5m 22s) Loss: 0.0222(0.0221) Grad: 0.0186 LR: 0.000062  \n",
      "Epoch: [5][500/1316] Elapsed 2m 56s (remain 4m 46s) Loss: 0.0165(0.0220) Grad: 0.0217 LR: 0.000061  \n",
      "Epoch: [5][600/1316] Elapsed 3m 31s (remain 4m 11s) Loss: 0.0248(0.0221) Grad: 0.0159 LR: 0.000059  \n",
      "Epoch: [5][700/1316] Elapsed 4m 6s (remain 3m 35s) Loss: 0.0261(0.0221) Grad: 0.0160 LR: 0.000058  \n",
      "Epoch: [5][800/1316] Elapsed 4m 40s (remain 3m 0s) Loss: 0.0142(0.0221) Grad: 0.0201 LR: 0.000057  \n",
      "Epoch: [5][900/1316] Elapsed 5m 15s (remain 2m 25s) Loss: 0.0193(0.0220) Grad: 0.0146 LR: 0.000056  \n",
      "Epoch: [5][1000/1316] Elapsed 5m 49s (remain 1m 50s) Loss: 0.0284(0.0220) Grad: 0.0198 LR: 0.000055  \n",
      "Epoch: [5][1100/1316] Elapsed 6m 23s (remain 1m 14s) Loss: 0.0162(0.0220) Grad: 0.0203 LR: 0.000054  \n",
      "Epoch: [5][1200/1316] Elapsed 6m 58s (remain 0m 40s) Loss: 0.0210(0.0219) Grad: 0.0124 LR: 0.000052  \n",
      "Epoch: [5][1300/1316] Elapsed 7m 32s (remain 0m 5s) Loss: 0.0171(0.0219) Grad: 0.0145 LR: 0.000051  \n",
      "Epoch: [5][1315/1316] Elapsed 7m 37s (remain 0m 0s) Loss: 0.0243(0.0219) Grad: 0.0233 LR: 0.000051  \n",
      "EVAL: [0/330] Elapsed 0m 0s (remain 4m 17s) Loss: 0.0143(0.0143) \n",
      "EVAL: [100/330] Elapsed 0m 12s (remain 0m 27s) Loss: 0.0164(0.0152) \n",
      "EVAL: [200/330] Elapsed 0m 23s (remain 0m 15s) Loss: 0.0148(0.0152) \n",
      "EVAL: [300/330] Elapsed 0m 34s (remain 0m 3s) Loss: 0.0143(0.0153) \n"
     ]
    },
    {
     "name": "stderr",
     "output_type": "stream",
     "text": [
      "Epoch 5 - avg_train_loss: 0.0219  avg_val_loss: 0.0153  time: 495s\n",
      "Epoch 5 - Accuracy: 0.9470286690715778\n",
      "Epoch 5 - Save Best Score: 0.9470 Model\n"
     ]
    },
    {
     "name": "stdout",
     "output_type": "stream",
     "text": [
      "EVAL: [329/330] Elapsed 0m 37s (remain 0m 0s) Loss: 0.0118(0.0153) \n",
      "Epoch: [6][0/1316] Elapsed 0m 1s (remain 29m 30s) Loss: 0.0247(0.0247) Grad: 0.0278 LR: 0.000051  \n",
      "Epoch: [6][100/1316] Elapsed 0m 36s (remain 7m 19s) Loss: 0.0330(0.0224) Grad: 0.0273 LR: 0.000050  \n",
      "Epoch: [6][200/1316] Elapsed 1m 11s (remain 6m 34s) Loss: 0.0287(0.0222) Grad: 0.0230 LR: 0.000049  \n",
      "Epoch: [6][300/1316] Elapsed 1m 45s (remain 5m 57s) Loss: 0.0201(0.0220) Grad: 0.0338 LR: 0.000048  \n",
      "Epoch: [6][400/1316] Elapsed 2m 20s (remain 5m 20s) Loss: 0.0252(0.0217) Grad: 0.0141 LR: 0.000046  \n",
      "Epoch: [6][500/1316] Elapsed 2m 54s (remain 4m 44s) Loss: 0.0212(0.0217) Grad: 0.0276 LR: 0.000045  \n",
      "Epoch: [6][600/1316] Elapsed 3m 29s (remain 4m 8s) Loss: 0.0209(0.0217) Grad: 0.0286 LR: 0.000044  \n",
      "Epoch: [6][700/1316] Elapsed 4m 3s (remain 3m 33s) Loss: 0.0275(0.0216) Grad: 0.0164 LR: 0.000043  \n",
      "Epoch: [6][800/1316] Elapsed 4m 38s (remain 2m 58s) Loss: 0.0151(0.0216) Grad: 0.0174 LR: 0.000042  \n",
      "Epoch: [6][900/1316] Elapsed 5m 12s (remain 2m 23s) Loss: 0.0210(0.0217) Grad: 0.0153 LR: 0.000041  \n",
      "Epoch: [6][1000/1316] Elapsed 5m 46s (remain 1m 49s) Loss: 0.0248(0.0217) Grad: 0.0175 LR: 0.000039  \n",
      "Epoch: [6][1100/1316] Elapsed 6m 21s (remain 1m 14s) Loss: 0.0221(0.0216) Grad: 0.0218 LR: 0.000038  \n",
      "Epoch: [6][1200/1316] Elapsed 6m 56s (remain 0m 39s) Loss: 0.0297(0.0217) Grad: 0.0193 LR: 0.000037  \n",
      "Epoch: [6][1300/1316] Elapsed 7m 31s (remain 0m 5s) Loss: 0.0153(0.0216) Grad: 0.0152 LR: 0.000036  \n",
      "Epoch: [6][1315/1316] Elapsed 7m 36s (remain 0m 0s) Loss: 0.0158(0.0216) Grad: 0.0280 LR: 0.000036  \n",
      "EVAL: [0/330] Elapsed 0m 0s (remain 4m 54s) Loss: 0.0139(0.0139) \n",
      "EVAL: [100/330] Elapsed 0m 12s (remain 0m 27s) Loss: 0.0166(0.0151) \n",
      "EVAL: [200/330] Elapsed 0m 23s (remain 0m 15s) Loss: 0.0140(0.0151) \n",
      "EVAL: [300/330] Elapsed 0m 34s (remain 0m 3s) Loss: 0.0139(0.0151) \n"
     ]
    },
    {
     "name": "stderr",
     "output_type": "stream",
     "text": [
      "Epoch 6 - avg_train_loss: 0.0216  avg_val_loss: 0.0151  time: 494s\n",
      "Epoch 6 - Accuracy: 0.9491171444845263\n",
      "Epoch 6 - Save Best Score: 0.9491 Model\n"
     ]
    },
    {
     "name": "stdout",
     "output_type": "stream",
     "text": [
      "EVAL: [329/330] Elapsed 0m 37s (remain 0m 0s) Loss: 0.0118(0.0151) \n",
      "Epoch: [7][0/1316] Elapsed 0m 1s (remain 28m 4s) Loss: 0.0144(0.0144) Grad: 0.0136 LR: 0.000036  \n",
      "Epoch: [7][100/1316] Elapsed 0m 35s (remain 7m 7s) Loss: 0.0152(0.0188) Grad: 0.0184 LR: 0.000035  \n",
      "Epoch: [7][200/1316] Elapsed 1m 9s (remain 6m 23s) Loss: 0.0361(0.0185) Grad: 0.0431 LR: 0.000034  \n",
      "Epoch: [7][300/1316] Elapsed 1m 43s (remain 5m 48s) Loss: 0.0211(0.0188) Grad: 0.0146 LR: 0.000033  \n",
      "Epoch: [7][400/1316] Elapsed 2m 17s (remain 5m 13s) Loss: 0.0244(0.0185) Grad: 0.0381 LR: 0.000032  \n",
      "Epoch: [7][500/1316] Elapsed 2m 51s (remain 4m 38s) Loss: 0.0148(0.0185) Grad: 0.0122 LR: 0.000030  \n",
      "Epoch: [7][600/1316] Elapsed 3m 25s (remain 4m 4s) Loss: 0.0178(0.0185) Grad: 0.0265 LR: 0.000029  \n",
      "Epoch: [7][700/1316] Elapsed 3m 59s (remain 3m 30s) Loss: 0.0204(0.0184) Grad: 0.0120 LR: 0.000028  \n",
      "Epoch: [7][800/1316] Elapsed 4m 33s (remain 2m 55s) Loss: 0.0143(0.0184) Grad: 0.0154 LR: 0.000027  \n",
      "Epoch: [7][900/1316] Elapsed 5m 7s (remain 2m 21s) Loss: 0.0144(0.0184) Grad: 0.0215 LR: 0.000026  \n",
      "Epoch: [7][1000/1316] Elapsed 5m 42s (remain 1m 47s) Loss: 0.0162(0.0184) Grad: 0.0245 LR: 0.000025  \n",
      "Epoch: [7][1100/1316] Elapsed 6m 16s (remain 1m 13s) Loss: 0.0147(0.0185) Grad: 0.0150 LR: 0.000024  \n",
      "Epoch: [7][1200/1316] Elapsed 6m 49s (remain 0m 39s) Loss: 0.0161(0.0184) Grad: 0.0201 LR: 0.000023  \n",
      "Epoch: [7][1300/1316] Elapsed 7m 23s (remain 0m 5s) Loss: 0.0185(0.0184) Grad: 0.0267 LR: 0.000022  \n",
      "Epoch: [7][1315/1316] Elapsed 7m 28s (remain 0m 0s) Loss: 0.0291(0.0184) Grad: 0.0252 LR: 0.000022  \n",
      "EVAL: [0/330] Elapsed 0m 0s (remain 4m 18s) Loss: 0.0138(0.0138) \n",
      "EVAL: [100/330] Elapsed 0m 12s (remain 0m 27s) Loss: 0.0168(0.0149) \n",
      "EVAL: [200/330] Elapsed 0m 23s (remain 0m 15s) Loss: 0.0138(0.0149) \n",
      "EVAL: [300/330] Elapsed 0m 34s (remain 0m 3s) Loss: 0.0137(0.0150) \n"
     ]
    },
    {
     "name": "stderr",
     "output_type": "stream",
     "text": [
      "Epoch 7 - avg_train_loss: 0.0184  avg_val_loss: 0.0150  time: 486s\n",
      "Epoch 7 - Accuracy: 0.9483576988798177\n"
     ]
    },
    {
     "name": "stdout",
     "output_type": "stream",
     "text": [
      "EVAL: [329/330] Elapsed 0m 37s (remain 0m 0s) Loss: 0.0118(0.0150) \n",
      "Epoch: [8][0/1316] Elapsed 0m 1s (remain 28m 8s) Loss: 0.0186(0.0186) Grad: 0.0250 LR: 0.000022  \n",
      "Epoch: [8][100/1316] Elapsed 0m 35s (remain 7m 7s) Loss: 0.0169(0.0182) Grad: 0.0248 LR: 0.000021  \n",
      "Epoch: [8][200/1316] Elapsed 1m 9s (remain 6m 26s) Loss: 0.0167(0.0188) Grad: 0.0291 LR: 0.000020  \n",
      "Epoch: [8][300/1316] Elapsed 1m 43s (remain 5m 47s) Loss: 0.0172(0.0185) Grad: 0.0133 LR: 0.000020  \n",
      "Epoch: [8][400/1316] Elapsed 2m 16s (remain 5m 12s) Loss: 0.0186(0.0183) Grad: 0.0330 LR: 0.000019  \n",
      "Epoch: [8][500/1316] Elapsed 2m 50s (remain 4m 37s) Loss: 0.0170(0.0184) Grad: 0.0161 LR: 0.000018  \n",
      "Epoch: [8][600/1316] Elapsed 3m 24s (remain 4m 3s) Loss: 0.0327(0.0185) Grad: 0.0260 LR: 0.000017  \n",
      "Epoch: [8][700/1316] Elapsed 3m 59s (remain 3m 29s) Loss: 0.0303(0.0185) Grad: 0.0253 LR: 0.000016  \n",
      "Epoch: [8][800/1316] Elapsed 4m 32s (remain 2m 55s) Loss: 0.0244(0.0184) Grad: 0.0145 LR: 0.000015  \n",
      "Epoch: [8][900/1316] Elapsed 5m 7s (remain 2m 21s) Loss: 0.0207(0.0184) Grad: 0.0126 LR: 0.000014  \n",
      "Epoch: [8][1000/1316] Elapsed 5m 41s (remain 1m 47s) Loss: 0.0132(0.0184) Grad: 0.0092 LR: 0.000014  \n",
      "Epoch: [8][1100/1316] Elapsed 6m 15s (remain 1m 13s) Loss: 0.0178(0.0184) Grad: 0.0314 LR: 0.000013  \n",
      "Epoch: [8][1200/1316] Elapsed 6m 50s (remain 0m 39s) Loss: 0.0241(0.0184) Grad: 0.0196 LR: 0.000012  \n",
      "Epoch: [8][1300/1316] Elapsed 7m 24s (remain 0m 5s) Loss: 0.0155(0.0183) Grad: 0.0184 LR: 0.000012  \n",
      "Epoch: [8][1315/1316] Elapsed 7m 29s (remain 0m 0s) Loss: 0.0136(0.0183) Grad: 0.0327 LR: 0.000011  \n",
      "EVAL: [0/330] Elapsed 0m 0s (remain 4m 4s) Loss: 0.0136(0.0136) \n",
      "EVAL: [100/330] Elapsed 0m 12s (remain 0m 27s) Loss: 0.0171(0.0149) \n",
      "EVAL: [200/330] Elapsed 0m 23s (remain 0m 15s) Loss: 0.0134(0.0149) \n",
      "EVAL: [300/330] Elapsed 0m 34s (remain 0m 3s) Loss: 0.0139(0.0150) \n"
     ]
    },
    {
     "name": "stderr",
     "output_type": "stream",
     "text": [
      "Epoch 8 - avg_train_loss: 0.0183  avg_val_loss: 0.0150  time: 487s\n",
      "Epoch 8 - Accuracy: 0.9422821340421492\n"
     ]
    },
    {
     "name": "stdout",
     "output_type": "stream",
     "text": [
      "EVAL: [329/330] Elapsed 0m 37s (remain 0m 0s) Loss: 0.0118(0.0150) \n",
      "Epoch: [9][0/1316] Elapsed 0m 1s (remain 27m 2s) Loss: 0.0194(0.0194) Grad: 0.0274 LR: 0.000011  \n",
      "Epoch: [9][100/1316] Elapsed 0m 35s (remain 7m 12s) Loss: 0.0143(0.0186) Grad: 0.0170 LR: 0.000011  \n",
      "Epoch: [9][200/1316] Elapsed 1m 10s (remain 6m 30s) Loss: 0.0217(0.0184) Grad: 0.0241 LR: 0.000010  \n",
      "Epoch: [9][300/1316] Elapsed 1m 44s (remain 5m 52s) Loss: 0.0136(0.0180) Grad: 0.0053 LR: 0.000009  \n",
      "Epoch: [9][400/1316] Elapsed 2m 18s (remain 5m 16s) Loss: 0.0125(0.0179) Grad: 0.0046 LR: 0.000009  \n",
      "Epoch: [9][500/1316] Elapsed 2m 52s (remain 4m 40s) Loss: 0.0273(0.0180) Grad: 0.0169 LR: 0.000008  \n",
      "Epoch: [9][600/1316] Elapsed 3m 26s (remain 4m 5s) Loss: 0.0313(0.0180) Grad: 0.0262 LR: 0.000008  \n",
      "Epoch: [9][700/1316] Elapsed 4m 0s (remain 3m 30s) Loss: 0.0156(0.0180) Grad: 0.0190 LR: 0.000007  \n",
      "Epoch: [9][800/1316] Elapsed 4m 34s (remain 2m 56s) Loss: 0.0160(0.0181) Grad: 0.0221 LR: 0.000007  \n",
      "Epoch: [9][900/1316] Elapsed 5m 8s (remain 2m 22s) Loss: 0.0158(0.0181) Grad: 0.0244 LR: 0.000006  \n",
      "Epoch: [9][1000/1316] Elapsed 5m 42s (remain 1m 47s) Loss: 0.0219(0.0181) Grad: 0.0182 LR: 0.000006  \n",
      "Epoch: [9][1100/1316] Elapsed 6m 16s (remain 1m 13s) Loss: 0.0136(0.0180) Grad: 0.0129 LR: 0.000005  \n",
      "Epoch: [9][1200/1316] Elapsed 6m 50s (remain 0m 39s) Loss: 0.0319(0.0181) Grad: 0.0306 LR: 0.000005  \n",
      "Epoch: [9][1300/1316] Elapsed 7m 25s (remain 0m 5s) Loss: 0.0155(0.0181) Grad: 0.0172 LR: 0.000004  \n",
      "Epoch: [9][1315/1316] Elapsed 7m 30s (remain 0m 0s) Loss: 0.0131(0.0181) Grad: 0.0285 LR: 0.000004  \n",
      "EVAL: [0/330] Elapsed 0m 0s (remain 4m 8s) Loss: 0.0135(0.0135) \n",
      "EVAL: [100/330] Elapsed 0m 12s (remain 0m 27s) Loss: 0.0164(0.0147) \n",
      "EVAL: [200/330] Elapsed 0m 23s (remain 0m 15s) Loss: 0.0137(0.0147) \n",
      "EVAL: [300/330] Elapsed 0m 34s (remain 0m 3s) Loss: 0.0134(0.0148) \n"
     ]
    },
    {
     "name": "stderr",
     "output_type": "stream",
     "text": [
      "Epoch 9 - avg_train_loss: 0.0181  avg_val_loss: 0.0148  time: 487s\n",
      "Epoch 9 - Accuracy: 0.9494968672868805\n",
      "Epoch 9 - Save Best Score: 0.9495 Model\n"
     ]
    },
    {
     "name": "stdout",
     "output_type": "stream",
     "text": [
      "EVAL: [329/330] Elapsed 0m 37s (remain 0m 0s) Loss: 0.0117(0.0148) \n",
      "Epoch: [10][0/1316] Elapsed 0m 1s (remain 23m 32s) Loss: 0.0151(0.0151) Grad: 0.0238 LR: 0.000004  \n",
      "Epoch: [10][100/1316] Elapsed 0m 33s (remain 6m 48s) Loss: 0.0131(0.0145) Grad: 0.0124 LR: 0.000004  \n",
      "Epoch: [10][200/1316] Elapsed 1m 6s (remain 6m 10s) Loss: 0.0145(0.0143) Grad: 0.0177 LR: 0.000004  \n",
      "Epoch: [10][300/1316] Elapsed 1m 40s (remain 5m 39s) Loss: 0.0157(0.0143) Grad: 0.0243 LR: 0.000003  \n",
      "Epoch: [10][400/1316] Elapsed 2m 12s (remain 5m 3s) Loss: 0.0133(0.0142) Grad: 0.0056 LR: 0.000003  \n",
      "Epoch: [10][500/1316] Elapsed 2m 45s (remain 4m 29s) Loss: 0.0132(0.0142) Grad: 0.0056 LR: 0.000003  \n",
      "Epoch: [10][600/1316] Elapsed 3m 17s (remain 3m 55s) Loss: 0.0130(0.0142) Grad: 0.0038 LR: 0.000003  \n",
      "Epoch: [10][700/1316] Elapsed 3m 50s (remain 3m 22s) Loss: 0.0134(0.0142) Grad: 0.0081 LR: 0.000003  \n",
      "Epoch: [10][800/1316] Elapsed 4m 22s (remain 2m 49s) Loss: 0.0135(0.0142) Grad: 0.0125 LR: 0.000002  \n",
      "Epoch: [10][900/1316] Elapsed 4m 55s (remain 2m 16s) Loss: 0.0144(0.0142) Grad: 0.0214 LR: 0.000002  \n",
      "Epoch: [10][1000/1316] Elapsed 5m 28s (remain 1m 43s) Loss: 0.0138(0.0142) Grad: 0.0085 LR: 0.000002  \n",
      "Epoch: [10][1100/1316] Elapsed 6m 1s (remain 1m 10s) Loss: 0.0154(0.0141) Grad: 0.0256 LR: 0.000002  \n",
      "Epoch: [10][1200/1316] Elapsed 6m 34s (remain 0m 37s) Loss: 0.0141(0.0141) Grad: 0.0056 LR: 0.000002  \n",
      "Epoch: [10][1300/1316] Elapsed 7m 6s (remain 0m 4s) Loss: 0.0129(0.0141) Grad: 0.0081 LR: 0.000002  \n",
      "Epoch: [10][1315/1316] Elapsed 7m 11s (remain 0m 0s) Loss: 0.0141(0.0141) Grad: 0.0217 LR: 0.000002  \n",
      "EVAL: [0/330] Elapsed 0m 0s (remain 4m 43s) Loss: 0.0133(0.0133) \n",
      "EVAL: [100/330] Elapsed 0m 12s (remain 0m 27s) Loss: 0.0158(0.0147) \n",
      "EVAL: [200/330] Elapsed 0m 23s (remain 0m 15s) Loss: 0.0140(0.0147) \n",
      "EVAL: [300/330] Elapsed 0m 34s (remain 0m 3s) Loss: 0.0134(0.0148) \n"
     ]
    },
    {
     "name": "stderr",
     "output_type": "stream",
     "text": [
      "Epoch 10 - avg_train_loss: 0.0141  avg_val_loss: 0.0148  time: 469s\n",
      "Epoch 10 - Accuracy: 0.9468388076704006\n",
      "Epoch 10 - Save final model\n"
     ]
    },
    {
     "name": "stdout",
     "output_type": "stream",
     "text": [
      "EVAL: [329/330] Elapsed 0m 37s (remain 0m 0s) Loss: 0.0118(0.0148) \n"
     ]
    },
    {
     "name": "stderr",
     "output_type": "stream",
     "text": [
      "========== fold: 2 result ==========\n",
      "Score: 0.94950\n",
      "========== fold: 3 training ==========\n"
     ]
    },
    {
     "name": "stdout",
     "output_type": "stream",
     "text": [
      "Epoch: [1][0/1316] Elapsed 0m 1s (remain 23m 18s) Loss: 0.0416(0.0416) Grad: 0.0585 LR: 0.000100  \n",
      "Epoch: [1][100/1316] Elapsed 0m 35s (remain 7m 3s) Loss: 0.0243(0.0292) Grad: 0.0435 LR: 0.000100  \n",
      "Epoch: [1][200/1316] Elapsed 1m 9s (remain 6m 24s) Loss: 0.0262(0.0262) Grad: 0.0501 LR: 0.000100  \n",
      "Epoch: [1][300/1316] Elapsed 1m 43s (remain 5m 50s) Loss: 0.0199(0.0242) Grad: 0.0306 LR: 0.000100  \n",
      "Epoch: [1][400/1316] Elapsed 2m 18s (remain 5m 16s) Loss: 0.0172(0.0234) Grad: 0.0295 LR: 0.000100  \n",
      "Epoch: [1][500/1316] Elapsed 2m 52s (remain 4m 40s) Loss: 0.0161(0.0224) Grad: 0.0273 LR: 0.000100  \n",
      "Epoch: [1][600/1316] Elapsed 3m 25s (remain 4m 5s) Loss: 0.0197(0.0218) Grad: 0.0317 LR: 0.000099  \n",
      "Epoch: [1][700/1316] Elapsed 4m 0s (remain 3m 30s) Loss: 0.0195(0.0213) Grad: 0.0372 LR: 0.000099  \n",
      "Epoch: [1][800/1316] Elapsed 4m 33s (remain 2m 56s) Loss: 0.0166(0.0209) Grad: 0.0281 LR: 0.000099  \n",
      "Epoch: [1][900/1316] Elapsed 5m 8s (remain 2m 21s) Loss: 0.0185(0.0205) Grad: 0.0293 LR: 0.000099  \n",
      "Epoch: [1][1000/1316] Elapsed 5m 42s (remain 1m 47s) Loss: 0.0174(0.0202) Grad: 0.0303 LR: 0.000099  \n",
      "Epoch: [1][1100/1316] Elapsed 6m 16s (remain 1m 13s) Loss: 0.0170(0.0199) Grad: 0.0262 LR: 0.000098  \n",
      "Epoch: [1][1200/1316] Elapsed 6m 50s (remain 0m 39s) Loss: 0.0220(0.0197) Grad: 0.0354 LR: 0.000098  \n",
      "Epoch: [1][1300/1316] Elapsed 7m 24s (remain 0m 5s) Loss: 0.0168(0.0195) Grad: 0.0255 LR: 0.000098  \n",
      "Epoch: [1][1315/1316] Elapsed 7m 29s (remain 0m 0s) Loss: 0.0175(0.0195) Grad: 0.0298 LR: 0.000098  \n",
      "EVAL: [0/330] Elapsed 0m 0s (remain 4m 35s) Loss: 0.0168(0.0168) \n",
      "EVAL: [100/330] Elapsed 0m 12s (remain 0m 28s) Loss: 0.0178(0.0163) \n",
      "EVAL: [200/330] Elapsed 0m 24s (remain 0m 15s) Loss: 0.0152(0.0162) \n",
      "EVAL: [300/330] Elapsed 0m 35s (remain 0m 3s) Loss: 0.0173(0.0161) \n"
     ]
    },
    {
     "name": "stderr",
     "output_type": "stream",
     "text": [
      "Epoch 1 - avg_train_loss: 0.0195  avg_val_loss: 0.0160  time: 487s\n",
      "Epoch 1 - Accuracy: 0.9251946079362066\n",
      "Epoch 1 - Save Best Score: 0.9252 Model\n"
     ]
    },
    {
     "name": "stdout",
     "output_type": "stream",
     "text": [
      "EVAL: [329/330] Elapsed 0m 38s (remain 0m 0s) Loss: 0.0236(0.0160) \n",
      "Epoch: [2][0/1316] Elapsed 0m 1s (remain 24m 53s) Loss: 0.0140(0.0140) Grad: 0.0103 LR: 0.000098  \n",
      "Epoch: [2][100/1316] Elapsed 0m 34s (remain 7m 0s) Loss: 0.0195(0.0156) Grad: 0.0307 LR: 0.000097  \n",
      "Epoch: [2][200/1316] Elapsed 1m 8s (remain 6m 21s) Loss: 0.0149(0.0155) Grad: 0.0232 LR: 0.000097  \n",
      "Epoch: [2][300/1316] Elapsed 1m 43s (remain 5m 47s) Loss: 0.0147(0.0155) Grad: 0.0254 LR: 0.000096  \n",
      "Epoch: [2][400/1316] Elapsed 2m 16s (remain 5m 12s) Loss: 0.0187(0.0154) Grad: 0.0337 LR: 0.000096  \n",
      "Epoch: [2][500/1316] Elapsed 2m 50s (remain 4m 37s) Loss: 0.0155(0.0155) Grad: 0.0284 LR: 0.000095  \n",
      "Epoch: [2][600/1316] Elapsed 3m 24s (remain 4m 3s) Loss: 0.0135(0.0155) Grad: 0.0091 LR: 0.000095  \n",
      "Epoch: [2][700/1316] Elapsed 3m 58s (remain 3m 29s) Loss: 0.0141(0.0154) Grad: 0.0197 LR: 0.000094  \n",
      "Epoch: [2][800/1316] Elapsed 4m 32s (remain 2m 55s) Loss: 0.0132(0.0154) Grad: 0.0100 LR: 0.000094  \n",
      "Epoch: [2][900/1316] Elapsed 5m 6s (remain 2m 21s) Loss: 0.0160(0.0154) Grad: 0.0235 LR: 0.000093  \n",
      "Epoch: [2][1000/1316] Elapsed 5m 40s (remain 1m 47s) Loss: 0.0178(0.0154) Grad: 0.0331 LR: 0.000093  \n",
      "Epoch: [2][1100/1316] Elapsed 6m 13s (remain 1m 12s) Loss: 0.0162(0.0154) Grad: 0.0233 LR: 0.000092  \n",
      "Epoch: [2][1200/1316] Elapsed 6m 47s (remain 0m 39s) Loss: 0.0156(0.0154) Grad: 0.0208 LR: 0.000091  \n",
      "Epoch: [2][1300/1316] Elapsed 7m 21s (remain 0m 5s) Loss: 0.0146(0.0153) Grad: 0.0254 LR: 0.000091  \n",
      "Epoch: [2][1315/1316] Elapsed 7m 26s (remain 0m 0s) Loss: 0.0138(0.0153) Grad: 0.0263 LR: 0.000091  \n",
      "EVAL: [0/330] Elapsed 0m 0s (remain 4m 43s) Loss: 0.0153(0.0153) \n",
      "EVAL: [100/330] Elapsed 0m 12s (remain 0m 28s) Loss: 0.0150(0.0159) \n",
      "EVAL: [200/330] Elapsed 0m 24s (remain 0m 15s) Loss: 0.0148(0.0158) \n",
      "EVAL: [300/330] Elapsed 0m 35s (remain 0m 3s) Loss: 0.0162(0.0157) \n"
     ]
    },
    {
     "name": "stderr",
     "output_type": "stream",
     "text": [
      "Epoch 2 - avg_train_loss: 0.0153  avg_val_loss: 0.0156  time: 485s\n",
      "Epoch 2 - Accuracy: 0.9286121131573951\n",
      "Epoch 2 - Save Best Score: 0.9286 Model\n"
     ]
    },
    {
     "name": "stdout",
     "output_type": "stream",
     "text": [
      "EVAL: [329/330] Elapsed 0m 38s (remain 0m 0s) Loss: 0.0285(0.0156) \n",
      "Epoch: [3][0/1316] Elapsed 0m 1s (remain 30m 19s) Loss: 0.0314(0.0314) Grad: 0.0424 LR: 0.000091  \n",
      "Epoch: [3][100/1316] Elapsed 0m 37s (remain 7m 33s) Loss: 0.0197(0.0241) Grad: 0.0274 LR: 0.000090  \n",
      "Epoch: [3][200/1316] Elapsed 1m 13s (remain 6m 50s) Loss: 0.0147(0.0236) Grad: 0.0144 LR: 0.000089  \n",
      "Epoch: [3][300/1316] Elapsed 1m 50s (remain 6m 12s) Loss: 0.0320(0.0234) Grad: 0.0238 LR: 0.000088  \n",
      "Epoch: [3][400/1316] Elapsed 2m 27s (remain 5m 35s) Loss: 0.0178(0.0233) Grad: 0.0253 LR: 0.000088  \n",
      "Epoch: [3][500/1316] Elapsed 3m 3s (remain 4m 58s) Loss: 0.0261(0.0232) Grad: 0.0336 LR: 0.000087  \n",
      "Epoch: [3][600/1316] Elapsed 3m 39s (remain 4m 21s) Loss: 0.0241(0.0231) Grad: 0.0147 LR: 0.000086  \n",
      "Epoch: [3][700/1316] Elapsed 4m 16s (remain 3m 44s) Loss: 0.0195(0.0230) Grad: 0.0159 LR: 0.000085  \n",
      "Epoch: [3][800/1316] Elapsed 4m 52s (remain 3m 8s) Loss: 0.0288(0.0229) Grad: 0.0229 LR: 0.000084  \n",
      "Epoch: [3][900/1316] Elapsed 5m 29s (remain 2m 31s) Loss: 0.0191(0.0228) Grad: 0.0248 LR: 0.000084  \n",
      "Epoch: [3][1000/1316] Elapsed 6m 5s (remain 1m 55s) Loss: 0.0282(0.0228) Grad: 0.0193 LR: 0.000083  \n",
      "Epoch: [3][1100/1316] Elapsed 6m 41s (remain 1m 18s) Loss: 0.0291(0.0227) Grad: 0.0208 LR: 0.000082  \n",
      "Epoch: [3][1200/1316] Elapsed 7m 17s (remain 0m 41s) Loss: 0.0168(0.0227) Grad: 0.0152 LR: 0.000081  \n",
      "Epoch: [3][1300/1316] Elapsed 7m 53s (remain 0m 5s) Loss: 0.0177(0.0227) Grad: 0.0313 LR: 0.000080  \n",
      "Epoch: [3][1315/1316] Elapsed 7m 59s (remain 0m 0s) Loss: 0.0160(0.0227) Grad: 0.0273 LR: 0.000080  \n",
      "EVAL: [0/330] Elapsed 0m 0s (remain 4m 56s) Loss: 0.0154(0.0154) \n",
      "EVAL: [100/330] Elapsed 0m 12s (remain 0m 28s) Loss: 0.0169(0.0159) \n",
      "EVAL: [200/330] Elapsed 0m 24s (remain 0m 15s) Loss: 0.0152(0.0159) \n",
      "EVAL: [300/330] Elapsed 0m 35s (remain 0m 3s) Loss: 0.0169(0.0158) \n"
     ]
    },
    {
     "name": "stderr",
     "output_type": "stream",
     "text": [
      "Epoch 3 - avg_train_loss: 0.0227  avg_val_loss: 0.0158  time: 518s\n",
      "Epoch 3 - Accuracy: 0.9360167078033036\n",
      "Epoch 3 - Save Best Score: 0.9360 Model\n"
     ]
    },
    {
     "name": "stdout",
     "output_type": "stream",
     "text": [
      "EVAL: [329/330] Elapsed 0m 38s (remain 0m 0s) Loss: 0.0199(0.0158) \n",
      "Epoch: [4][0/1316] Elapsed 0m 1s (remain 32m 44s) Loss: 0.0155(0.0155) Grad: 0.0209 LR: 0.000080  \n",
      "Epoch: [4][100/1316] Elapsed 0m 37s (remain 7m 30s) Loss: 0.0195(0.0222) Grad: 0.0335 LR: 0.000079  \n",
      "Epoch: [4][200/1316] Elapsed 1m 14s (remain 6m 50s) Loss: 0.0210(0.0219) Grad: 0.0184 LR: 0.000078  \n",
      "Epoch: [4][300/1316] Elapsed 1m 50s (remain 6m 13s) Loss: 0.0201(0.0223) Grad: 0.0283 LR: 0.000077  \n",
      "Epoch: [4][400/1316] Elapsed 2m 27s (remain 5m 35s) Loss: 0.0259(0.0222) Grad: 0.0148 LR: 0.000076  \n",
      "Epoch: [4][500/1316] Elapsed 3m 3s (remain 4m 58s) Loss: 0.0181(0.0222) Grad: 0.0156 LR: 0.000075  \n",
      "Epoch: [4][600/1316] Elapsed 3m 39s (remain 4m 21s) Loss: 0.0159(0.0221) Grad: 0.0265 LR: 0.000074  \n",
      "Epoch: [4][700/1316] Elapsed 4m 16s (remain 3m 44s) Loss: 0.0169(0.0221) Grad: 0.0208 LR: 0.000073  \n",
      "Epoch: [4][800/1316] Elapsed 4m 52s (remain 3m 8s) Loss: 0.0147(0.0221) Grad: 0.0160 LR: 0.000072  \n",
      "Epoch: [4][900/1316] Elapsed 5m 29s (remain 2m 31s) Loss: 0.0187(0.0221) Grad: 0.0275 LR: 0.000071  \n",
      "Epoch: [4][1000/1316] Elapsed 6m 6s (remain 1m 55s) Loss: 0.0154(0.0222) Grad: 0.0237 LR: 0.000070  \n",
      "Epoch: [4][1100/1316] Elapsed 6m 43s (remain 1m 18s) Loss: 0.0292(0.0222) Grad: 0.0141 LR: 0.000069  \n",
      "Epoch: [4][1200/1316] Elapsed 7m 19s (remain 0m 42s) Loss: 0.0314(0.0222) Grad: 0.0238 LR: 0.000067  \n",
      "Epoch: [4][1300/1316] Elapsed 7m 56s (remain 0m 5s) Loss: 0.0187(0.0221) Grad: 0.0241 LR: 0.000066  \n",
      "Epoch: [4][1315/1316] Elapsed 8m 1s (remain 0m 0s) Loss: 0.0249(0.0221) Grad: 0.0232 LR: 0.000066  \n",
      "EVAL: [0/330] Elapsed 0m 0s (remain 5m 3s) Loss: 0.0158(0.0158) \n",
      "EVAL: [100/330] Elapsed 0m 12s (remain 0m 28s) Loss: 0.0167(0.0156) \n",
      "EVAL: [200/330] Elapsed 0m 24s (remain 0m 15s) Loss: 0.0149(0.0155) \n",
      "EVAL: [300/330] Elapsed 0m 35s (remain 0m 3s) Loss: 0.0169(0.0155) \n"
     ]
    },
    {
     "name": "stderr",
     "output_type": "stream",
     "text": [
      "Epoch 4 - avg_train_loss: 0.0221  avg_val_loss: 0.0155  time: 520s\n",
      "Epoch 4 - Accuracy: 0.9415226884374407\n",
      "Epoch 4 - Save Best Score: 0.9415 Model\n"
     ]
    },
    {
     "name": "stdout",
     "output_type": "stream",
     "text": [
      "EVAL: [329/330] Elapsed 0m 38s (remain 0m 0s) Loss: 0.0223(0.0155) \n",
      "Epoch: [5][0/1316] Elapsed 0m 1s (remain 29m 35s) Loss: 0.0228(0.0228) Grad: 0.0208 LR: 0.000066  \n",
      "Epoch: [5][100/1316] Elapsed 0m 37s (remain 7m 35s) Loss: 0.0191(0.0219) Grad: 0.0218 LR: 0.000065  \n",
      "Epoch: [5][200/1316] Elapsed 1m 15s (remain 6m 56s) Loss: 0.0275(0.0217) Grad: 0.0275 LR: 0.000064  \n",
      "Epoch: [5][300/1316] Elapsed 1m 51s (remain 6m 14s) Loss: 0.0143(0.0218) Grad: 0.0137 LR: 0.000063  \n",
      "Epoch: [5][400/1316] Elapsed 2m 27s (remain 5m 37s) Loss: 0.0253(0.0217) Grad: 0.0209 LR: 0.000062  \n",
      "Epoch: [5][500/1316] Elapsed 3m 4s (remain 4m 59s) Loss: 0.0258(0.0218) Grad: 0.0218 LR: 0.000061  \n",
      "Epoch: [5][600/1316] Elapsed 3m 41s (remain 4m 23s) Loss: 0.0278(0.0218) Grad: 0.0208 LR: 0.000059  \n",
      "Epoch: [5][700/1316] Elapsed 4m 17s (remain 3m 45s) Loss: 0.0237(0.0218) Grad: 0.0245 LR: 0.000058  \n",
      "Epoch: [5][800/1316] Elapsed 4m 53s (remain 3m 8s) Loss: 0.0177(0.0218) Grad: 0.0258 LR: 0.000057  \n",
      "Epoch: [5][900/1316] Elapsed 5m 30s (remain 2m 32s) Loss: 0.0226(0.0218) Grad: 0.0308 LR: 0.000056  \n",
      "Epoch: [5][1000/1316] Elapsed 6m 7s (remain 1m 55s) Loss: 0.0228(0.0218) Grad: 0.0271 LR: 0.000055  \n",
      "Epoch: [5][1100/1316] Elapsed 6m 43s (remain 1m 18s) Loss: 0.0163(0.0218) Grad: 0.0204 LR: 0.000054  \n",
      "Epoch: [5][1200/1316] Elapsed 7m 19s (remain 0m 42s) Loss: 0.0132(0.0219) Grad: 0.0117 LR: 0.000052  \n",
      "Epoch: [5][1300/1316] Elapsed 7m 55s (remain 0m 5s) Loss: 0.0340(0.0220) Grad: 0.0308 LR: 0.000051  \n",
      "Epoch: [5][1315/1316] Elapsed 8m 1s (remain 0m 0s) Loss: 0.0269(0.0220) Grad: 0.0289 LR: 0.000051  \n",
      "EVAL: [0/330] Elapsed 0m 0s (remain 4m 27s) Loss: 0.0155(0.0155) \n",
      "EVAL: [100/330] Elapsed 0m 12s (remain 0m 28s) Loss: 0.0162(0.0158) \n",
      "EVAL: [200/330] Elapsed 0m 24s (remain 0m 15s) Loss: 0.0155(0.0157) \n",
      "EVAL: [300/330] Elapsed 0m 35s (remain 0m 3s) Loss: 0.0162(0.0157) \n"
     ]
    },
    {
     "name": "stderr",
     "output_type": "stream",
     "text": [
      "Epoch 5 - avg_train_loss: 0.0220  avg_val_loss: 0.0157  time: 520s\n",
      "Epoch 5 - Accuracy: 0.9390544902221378\n"
     ]
    },
    {
     "name": "stdout",
     "output_type": "stream",
     "text": [
      "EVAL: [329/330] Elapsed 0m 38s (remain 0m 0s) Loss: 0.0200(0.0157) \n",
      "Epoch: [6][0/1316] Elapsed 0m 1s (remain 29m 9s) Loss: 0.0148(0.0148) Grad: 0.0169 LR: 0.000051  \n",
      "Epoch: [6][100/1316] Elapsed 0m 37s (remain 7m 33s) Loss: 0.0199(0.0214) Grad: 0.0209 LR: 0.000050  \n",
      "Epoch: [6][200/1316] Elapsed 1m 14s (remain 6m 50s) Loss: 0.0372(0.0216) Grad: 0.0424 LR: 0.000049  \n",
      "Epoch: [6][300/1316] Elapsed 1m 50s (remain 6m 13s) Loss: 0.0210(0.0217) Grad: 0.0204 LR: 0.000048  \n",
      "Epoch: [6][400/1316] Elapsed 2m 26s (remain 5m 35s) Loss: 0.0282(0.0217) Grad: 0.0165 LR: 0.000046  \n",
      "Epoch: [6][500/1316] Elapsed 3m 2s (remain 4m 57s) Loss: 0.0208(0.0217) Grad: 0.0325 LR: 0.000045  \n",
      "Epoch: [6][600/1316] Elapsed 3m 39s (remain 4m 20s) Loss: 0.0186(0.0215) Grad: 0.0290 LR: 0.000044  \n",
      "Epoch: [6][700/1316] Elapsed 4m 15s (remain 3m 43s) Loss: 0.0309(0.0215) Grad: 0.0192 LR: 0.000043  \n",
      "Epoch: [6][800/1316] Elapsed 4m 51s (remain 3m 7s) Loss: 0.0156(0.0214) Grad: 0.0235 LR: 0.000042  \n",
      "Epoch: [6][900/1316] Elapsed 5m 28s (remain 2m 31s) Loss: 0.0132(0.0214) Grad: 0.0091 LR: 0.000041  \n",
      "Epoch: [6][1000/1316] Elapsed 6m 4s (remain 1m 54s) Loss: 0.0202(0.0214) Grad: 0.0107 LR: 0.000039  \n",
      "Epoch: [6][1100/1316] Elapsed 6m 41s (remain 1m 18s) Loss: 0.0174(0.0215) Grad: 0.0259 LR: 0.000038  \n",
      "Epoch: [6][1200/1316] Elapsed 7m 17s (remain 0m 41s) Loss: 0.0248(0.0215) Grad: 0.0212 LR: 0.000037  \n",
      "Epoch: [6][1300/1316] Elapsed 7m 53s (remain 0m 5s) Loss: 0.0199(0.0215) Grad: 0.0124 LR: 0.000036  \n",
      "Epoch: [6][1315/1316] Elapsed 7m 59s (remain 0m 0s) Loss: 0.0160(0.0215) Grad: 0.0265 LR: 0.000036  \n",
      "EVAL: [0/330] Elapsed 0m 0s (remain 4m 47s) Loss: 0.0155(0.0155) \n",
      "EVAL: [100/330] Elapsed 0m 12s (remain 0m 28s) Loss: 0.0164(0.0154) \n",
      "EVAL: [200/330] Elapsed 0m 24s (remain 0m 15s) Loss: 0.0158(0.0154) \n",
      "EVAL: [300/330] Elapsed 0m 35s (remain 0m 3s) Loss: 0.0162(0.0154) \n"
     ]
    },
    {
     "name": "stderr",
     "output_type": "stream",
     "text": [
      "Epoch 6 - avg_train_loss: 0.0215  avg_val_loss: 0.0153  time: 517s\n",
      "Epoch 6 - Accuracy: 0.9401936586292007\n"
     ]
    },
    {
     "name": "stdout",
     "output_type": "stream",
     "text": [
      "EVAL: [329/330] Elapsed 0m 37s (remain 0m 0s) Loss: 0.0180(0.0153) \n",
      "Epoch: [7][0/1316] Elapsed 0m 1s (remain 27m 27s) Loss: 0.0184(0.0184) Grad: 0.0269 LR: 0.000036  \n",
      "Epoch: [7][100/1316] Elapsed 0m 37s (remain 7m 31s) Loss: 0.0175(0.0182) Grad: 0.0159 LR: 0.000035  \n",
      "Epoch: [7][200/1316] Elapsed 1m 12s (remain 6m 44s) Loss: 0.0133(0.0181) Grad: 0.0133 LR: 0.000034  \n",
      "Epoch: [7][300/1316] Elapsed 1m 48s (remain 6m 6s) Loss: 0.0245(0.0184) Grad: 0.0229 LR: 0.000033  \n",
      "Epoch: [7][400/1316] Elapsed 2m 24s (remain 5m 29s) Loss: 0.0188(0.0183) Grad: 0.0132 LR: 0.000032  \n",
      "Epoch: [7][500/1316] Elapsed 3m 0s (remain 4m 53s) Loss: 0.0160(0.0183) Grad: 0.0190 LR: 0.000030  \n",
      "Epoch: [7][600/1316] Elapsed 3m 36s (remain 4m 18s) Loss: 0.0133(0.0183) Grad: 0.0121 LR: 0.000029  \n",
      "Epoch: [7][700/1316] Elapsed 4m 12s (remain 3m 41s) Loss: 0.0265(0.0183) Grad: 0.0216 LR: 0.000028  \n",
      "Epoch: [7][800/1316] Elapsed 4m 48s (remain 3m 5s) Loss: 0.0279(0.0184) Grad: 0.0208 LR: 0.000027  \n",
      "Epoch: [7][900/1316] Elapsed 5m 24s (remain 2m 29s) Loss: 0.0160(0.0183) Grad: 0.0219 LR: 0.000026  \n",
      "Epoch: [7][1000/1316] Elapsed 5m 59s (remain 1m 53s) Loss: 0.0222(0.0184) Grad: 0.0167 LR: 0.000025  \n",
      "Epoch: [7][1100/1316] Elapsed 6m 36s (remain 1m 17s) Loss: 0.0169(0.0185) Grad: 0.0219 LR: 0.000024  \n",
      "Epoch: [7][1200/1316] Elapsed 7m 11s (remain 0m 41s) Loss: 0.0176(0.0184) Grad: 0.0222 LR: 0.000023  \n",
      "Epoch: [7][1300/1316] Elapsed 7m 47s (remain 0m 5s) Loss: 0.0131(0.0184) Grad: 0.0088 LR: 0.000022  \n",
      "Epoch: [7][1315/1316] Elapsed 7m 52s (remain 0m 0s) Loss: 0.0246(0.0184) Grad: 0.0253 LR: 0.000022  \n",
      "EVAL: [0/330] Elapsed 0m 0s (remain 4m 57s) Loss: 0.0143(0.0143) \n",
      "EVAL: [100/330] Elapsed 0m 12s (remain 0m 28s) Loss: 0.0158(0.0151) \n",
      "EVAL: [200/330] Elapsed 0m 24s (remain 0m 15s) Loss: 0.0153(0.0151) \n",
      "EVAL: [300/330] Elapsed 0m 35s (remain 0m 3s) Loss: 0.0156(0.0150) \n"
     ]
    },
    {
     "name": "stderr",
     "output_type": "stream",
     "text": [
      "Epoch 7 - avg_train_loss: 0.0184  avg_val_loss: 0.0150  time: 511s\n",
      "Epoch 7 - Accuracy: 0.9424719954433264\n",
      "Epoch 7 - Save Best Score: 0.9425 Model\n"
     ]
    },
    {
     "name": "stdout",
     "output_type": "stream",
     "text": [
      "EVAL: [329/330] Elapsed 0m 38s (remain 0m 0s) Loss: 0.0145(0.0150) \n",
      "Epoch: [8][0/1316] Elapsed 0m 1s (remain 29m 49s) Loss: 0.0262(0.0262) Grad: 0.0341 LR: 0.000022  \n",
      "Epoch: [8][100/1316] Elapsed 0m 37s (remain 7m 28s) Loss: 0.0133(0.0188) Grad: 0.0098 LR: 0.000021  \n",
      "Epoch: [8][200/1316] Elapsed 1m 12s (remain 6m 44s) Loss: 0.0178(0.0189) Grad: 0.0192 LR: 0.000020  \n",
      "Epoch: [8][300/1316] Elapsed 1m 48s (remain 6m 4s) Loss: 0.0236(0.0188) Grad: 0.0099 LR: 0.000020  \n",
      "Epoch: [8][400/1316] Elapsed 2m 23s (remain 5m 28s) Loss: 0.0192(0.0185) Grad: 0.0214 LR: 0.000019  \n",
      "Epoch: [8][500/1316] Elapsed 2m 59s (remain 4m 51s) Loss: 0.0142(0.0184) Grad: 0.0139 LR: 0.000018  \n",
      "Epoch: [8][600/1316] Elapsed 3m 35s (remain 4m 16s) Loss: 0.0182(0.0186) Grad: 0.0289 LR: 0.000017  \n",
      "Epoch: [8][700/1316] Elapsed 4m 11s (remain 3m 40s) Loss: 0.0151(0.0185) Grad: 0.0223 LR: 0.000016  \n",
      "Epoch: [8][800/1316] Elapsed 4m 47s (remain 3m 4s) Loss: 0.0140(0.0186) Grad: 0.0141 LR: 0.000015  \n",
      "Epoch: [8][900/1316] Elapsed 5m 22s (remain 2m 28s) Loss: 0.0223(0.0185) Grad: 0.0230 LR: 0.000014  \n",
      "Epoch: [8][1000/1316] Elapsed 5m 58s (remain 1m 52s) Loss: 0.0187(0.0186) Grad: 0.0332 LR: 0.000014  \n",
      "Epoch: [8][1100/1316] Elapsed 6m 34s (remain 1m 16s) Loss: 0.0146(0.0186) Grad: 0.0115 LR: 0.000013  \n",
      "Epoch: [8][1200/1316] Elapsed 7m 9s (remain 0m 41s) Loss: 0.0139(0.0186) Grad: 0.0128 LR: 0.000012  \n",
      "Epoch: [8][1300/1316] Elapsed 7m 45s (remain 0m 5s) Loss: 0.0164(0.0186) Grad: 0.0323 LR: 0.000012  \n",
      "Epoch: [8][1315/1316] Elapsed 7m 50s (remain 0m 0s) Loss: 0.0153(0.0186) Grad: 0.0223 LR: 0.000011  \n",
      "EVAL: [0/330] Elapsed 0m 0s (remain 4m 34s) Loss: 0.0144(0.0144) \n",
      "EVAL: [100/330] Elapsed 0m 12s (remain 0m 28s) Loss: 0.0157(0.0151) \n",
      "EVAL: [200/330] Elapsed 0m 23s (remain 0m 15s) Loss: 0.0156(0.0150) \n",
      "EVAL: [300/330] Elapsed 0m 35s (remain 0m 3s) Loss: 0.0147(0.0149) \n"
     ]
    },
    {
     "name": "stderr",
     "output_type": "stream",
     "text": [
      "Epoch 8 - avg_train_loss: 0.0186  avg_val_loss: 0.0149  time: 509s\n",
      "Epoch 8 - Accuracy: 0.9447503322574521\n",
      "Epoch 8 - Save Best Score: 0.9448 Model\n"
     ]
    },
    {
     "name": "stdout",
     "output_type": "stream",
     "text": [
      "EVAL: [329/330] Elapsed 0m 38s (remain 0m 0s) Loss: 0.0134(0.0149) \n",
      "Epoch: [9][0/1316] Elapsed 0m 1s (remain 29m 37s) Loss: 0.0161(0.0161) Grad: 0.0206 LR: 0.000011  \n",
      "Epoch: [9][100/1316] Elapsed 0m 37s (remain 7m 27s) Loss: 0.0172(0.0181) Grad: 0.0205 LR: 0.000011  \n",
      "Epoch: [9][200/1316] Elapsed 1m 12s (remain 6m 44s) Loss: 0.0239(0.0185) Grad: 0.0164 LR: 0.000010  \n",
      "Epoch: [9][300/1316] Elapsed 1m 48s (remain 6m 5s) Loss: 0.0170(0.0185) Grad: 0.0245 LR: 0.000009  \n",
      "Epoch: [9][400/1316] Elapsed 2m 23s (remain 5m 28s) Loss: 0.0208(0.0184) Grad: 0.0250 LR: 0.000009  \n",
      "Epoch: [9][500/1316] Elapsed 2m 58s (remain 4m 51s) Loss: 0.0176(0.0183) Grad: 0.0275 LR: 0.000008  \n",
      "Epoch: [9][600/1316] Elapsed 3m 34s (remain 4m 15s) Loss: 0.0173(0.0184) Grad: 0.0300 LR: 0.000008  \n",
      "Epoch: [9][700/1316] Elapsed 4m 10s (remain 3m 39s) Loss: 0.0156(0.0183) Grad: 0.0219 LR: 0.000007  \n",
      "Epoch: [9][800/1316] Elapsed 4m 46s (remain 3m 4s) Loss: 0.0138(0.0183) Grad: 0.0091 LR: 0.000007  \n",
      "Epoch: [9][900/1316] Elapsed 5m 22s (remain 2m 28s) Loss: 0.0361(0.0184) Grad: 0.0327 LR: 0.000006  \n",
      "Epoch: [9][1000/1316] Elapsed 5m 57s (remain 1m 52s) Loss: 0.0129(0.0184) Grad: 0.0116 LR: 0.000006  \n",
      "Epoch: [9][1100/1316] Elapsed 6m 33s (remain 1m 16s) Loss: 0.0171(0.0183) Grad: 0.0228 LR: 0.000005  \n",
      "Epoch: [9][1200/1316] Elapsed 7m 9s (remain 0m 41s) Loss: 0.0221(0.0183) Grad: 0.0208 LR: 0.000005  \n",
      "Epoch: [9][1300/1316] Elapsed 7m 44s (remain 0m 5s) Loss: 0.0139(0.0183) Grad: 0.0136 LR: 0.000004  \n",
      "Epoch: [9][1315/1316] Elapsed 7m 49s (remain 0m 0s) Loss: 0.0176(0.0183) Grad: 0.0299 LR: 0.000004  \n",
      "EVAL: [0/330] Elapsed 0m 0s (remain 4m 16s) Loss: 0.0144(0.0144) \n",
      "EVAL: [100/330] Elapsed 0m 12s (remain 0m 28s) Loss: 0.0160(0.0150) \n",
      "EVAL: [200/330] Elapsed 0m 23s (remain 0m 15s) Loss: 0.0150(0.0149) \n",
      "EVAL: [300/330] Elapsed 0m 35s (remain 0m 3s) Loss: 0.0147(0.0149) \n"
     ]
    },
    {
     "name": "stderr",
     "output_type": "stream",
     "text": [
      "Epoch 9 - avg_train_loss: 0.0183  avg_val_loss: 0.0148  time: 508s\n",
      "Epoch 9 - Accuracy: 0.9483576988798177\n",
      "Epoch 9 - Save Best Score: 0.9484 Model\n"
     ]
    },
    {
     "name": "stdout",
     "output_type": "stream",
     "text": [
      "EVAL: [329/330] Elapsed 0m 37s (remain 0m 0s) Loss: 0.0153(0.0148) \n",
      "Epoch: [10][0/1316] Elapsed 0m 1s (remain 26m 50s) Loss: 0.0157(0.0157) Grad: 0.0257 LR: 0.000004  \n",
      "Epoch: [10][100/1316] Elapsed 0m 35s (remain 7m 5s) Loss: 0.0158(0.0145) Grad: 0.0152 LR: 0.000004  \n",
      "Epoch: [10][200/1316] Elapsed 1m 9s (remain 6m 25s) Loss: 0.0181(0.0144) Grad: 0.0282 LR: 0.000004  \n",
      "Epoch: [10][300/1316] Elapsed 1m 43s (remain 5m 47s) Loss: 0.0123(0.0143) Grad: 0.0023 LR: 0.000003  \n",
      "Epoch: [10][400/1316] Elapsed 2m 17s (remain 5m 13s) Loss: 0.0143(0.0143) Grad: 0.0081 LR: 0.000003  \n",
      "Epoch: [10][500/1316] Elapsed 2m 50s (remain 4m 38s) Loss: 0.0147(0.0142) Grad: 0.0239 LR: 0.000003  \n",
      "Epoch: [10][600/1316] Elapsed 3m 24s (remain 4m 3s) Loss: 0.0126(0.0142) Grad: 0.0059 LR: 0.000003  \n",
      "Epoch: [10][700/1316] Elapsed 3m 59s (remain 3m 30s) Loss: 0.0129(0.0142) Grad: 0.0046 LR: 0.000003  \n",
      "Epoch: [10][800/1316] Elapsed 4m 33s (remain 2m 55s) Loss: 0.0157(0.0142) Grad: 0.0225 LR: 0.000002  \n",
      "Epoch: [10][900/1316] Elapsed 5m 7s (remain 2m 21s) Loss: 0.0146(0.0141) Grad: 0.0215 LR: 0.000002  \n",
      "Epoch: [10][1000/1316] Elapsed 5m 41s (remain 1m 47s) Loss: 0.0125(0.0141) Grad: 0.0106 LR: 0.000002  \n",
      "Epoch: [10][1100/1316] Elapsed 6m 15s (remain 1m 13s) Loss: 0.0136(0.0141) Grad: 0.0134 LR: 0.000002  \n",
      "Epoch: [10][1200/1316] Elapsed 6m 49s (remain 0m 39s) Loss: 0.0146(0.0141) Grad: 0.0116 LR: 0.000002  \n",
      "Epoch: [10][1300/1316] Elapsed 7m 23s (remain 0m 5s) Loss: 0.0128(0.0141) Grad: 0.0033 LR: 0.000002  \n",
      "Epoch: [10][1315/1316] Elapsed 7m 28s (remain 0m 0s) Loss: 0.0127(0.0141) Grad: 0.0063 LR: 0.000002  \n",
      "EVAL: [0/330] Elapsed 0m 0s (remain 4m 21s) Loss: 0.0147(0.0147) \n",
      "EVAL: [100/330] Elapsed 0m 12s (remain 0m 28s) Loss: 0.0157(0.0151) \n",
      "EVAL: [200/330] Elapsed 0m 24s (remain 0m 15s) Loss: 0.0157(0.0149) \n",
      "EVAL: [300/330] Elapsed 0m 35s (remain 0m 3s) Loss: 0.0147(0.0148) \n"
     ]
    },
    {
     "name": "stderr",
     "output_type": "stream",
     "text": [
      "Epoch 10 - avg_train_loss: 0.0141  avg_val_loss: 0.0148  time: 487s\n",
      "Epoch 10 - Accuracy: 0.9441807480539206\n",
      "Epoch 10 - Save final model\n"
     ]
    },
    {
     "name": "stdout",
     "output_type": "stream",
     "text": [
      "EVAL: [329/330] Elapsed 0m 38s (remain 0m 0s) Loss: 0.0151(0.0148) \n"
     ]
    },
    {
     "name": "stderr",
     "output_type": "stream",
     "text": [
      "========== fold: 3 result ==========\n",
      "Score: 0.94836\n",
      "========== fold: 4 training ==========\n"
     ]
    },
    {
     "name": "stdout",
     "output_type": "stream",
     "text": [
      "Epoch: [1][0/1316] Elapsed 0m 1s (remain 24m 15s) Loss: 0.0467(0.0467) Grad: 0.0773 LR: 0.000100  \n",
      "Epoch: [1][100/1316] Elapsed 0m 36s (remain 7m 22s) Loss: 0.0202(0.0293) Grad: 0.0315 LR: 0.000100  \n",
      "Epoch: [1][200/1316] Elapsed 1m 12s (remain 6m 42s) Loss: 0.0256(0.0263) Grad: 0.0471 LR: 0.000100  \n",
      "Epoch: [1][300/1316] Elapsed 1m 48s (remain 6m 5s) Loss: 0.0279(0.0246) Grad: 0.0522 LR: 0.000100  \n",
      "Epoch: [1][400/1316] Elapsed 2m 23s (remain 5m 28s) Loss: 0.0169(0.0235) Grad: 0.0281 LR: 0.000100  \n",
      "Epoch: [1][500/1316] Elapsed 2m 59s (remain 4m 51s) Loss: 0.0225(0.0227) Grad: 0.0375 LR: 0.000100  \n",
      "Epoch: [1][600/1316] Elapsed 3m 34s (remain 4m 15s) Loss: 0.0162(0.0221) Grad: 0.0224 LR: 0.000099  \n",
      "Epoch: [1][700/1316] Elapsed 4m 10s (remain 3m 39s) Loss: 0.0156(0.0215) Grad: 0.0212 LR: 0.000099  \n",
      "Epoch: [1][800/1316] Elapsed 4m 45s (remain 3m 3s) Loss: 0.0167(0.0211) Grad: 0.0274 LR: 0.000099  \n",
      "Epoch: [1][900/1316] Elapsed 5m 21s (remain 2m 28s) Loss: 0.0162(0.0207) Grad: 0.0281 LR: 0.000099  \n",
      "Epoch: [1][1000/1316] Elapsed 5m 57s (remain 1m 52s) Loss: 0.0150(0.0204) Grad: 0.0242 LR: 0.000099  \n",
      "Epoch: [1][1100/1316] Elapsed 6m 32s (remain 1m 16s) Loss: 0.0153(0.0201) Grad: 0.0218 LR: 0.000098  \n",
      "Epoch: [1][1200/1316] Elapsed 7m 8s (remain 0m 41s) Loss: 0.0143(0.0198) Grad: 0.0152 LR: 0.000098  \n",
      "Epoch: [1][1300/1316] Elapsed 7m 44s (remain 0m 5s) Loss: 0.0153(0.0196) Grad: 0.0187 LR: 0.000098  \n",
      "Epoch: [1][1315/1316] Elapsed 7m 49s (remain 0m 0s) Loss: 0.0186(0.0196) Grad: 0.0369 LR: 0.000098  \n",
      "EVAL: [0/330] Elapsed 0m 0s (remain 4m 19s) Loss: 0.0178(0.0178) \n",
      "EVAL: [100/330] Elapsed 0m 12s (remain 0m 28s) Loss: 0.0154(0.0158) \n",
      "EVAL: [200/330] Elapsed 0m 24s (remain 0m 15s) Loss: 0.0164(0.0158) \n",
      "EVAL: [300/330] Elapsed 0m 36s (remain 0m 3s) Loss: 0.0218(0.0157) \n"
     ]
    },
    {
     "name": "stderr",
     "output_type": "stream",
     "text": [
      "Epoch 1 - avg_train_loss: 0.0196  avg_val_loss: 0.0157  time: 509s\n",
      "Epoch 1 - Accuracy: 0.9398139358268464\n",
      "Epoch 1 - Save Best Score: 0.9398 Model\n"
     ]
    },
    {
     "name": "stdout",
     "output_type": "stream",
     "text": [
      "EVAL: [329/330] Elapsed 0m 38s (remain 0m 0s) Loss: 0.0153(0.0157) \n",
      "Epoch: [2][0/1316] Elapsed 0m 1s (remain 24m 16s) Loss: 0.0146(0.0146) Grad: 0.0184 LR: 0.000098  \n",
      "Epoch: [2][100/1316] Elapsed 0m 36s (remain 7m 21s) Loss: 0.0162(0.0159) Grad: 0.0230 LR: 0.000097  \n",
      "Epoch: [2][200/1316] Elapsed 1m 12s (remain 6m 40s) Loss: 0.0146(0.0157) Grad: 0.0194 LR: 0.000097  \n",
      "Epoch: [2][300/1316] Elapsed 1m 47s (remain 6m 3s) Loss: 0.0143(0.0156) Grad: 0.0179 LR: 0.000096  \n",
      "Epoch: [2][400/1316] Elapsed 2m 23s (remain 5m 27s) Loss: 0.0166(0.0156) Grad: 0.0311 LR: 0.000096  \n",
      "Epoch: [2][500/1316] Elapsed 2m 59s (remain 4m 51s) Loss: 0.0129(0.0155) Grad: 0.0088 LR: 0.000095  \n",
      "Epoch: [2][600/1316] Elapsed 3m 34s (remain 4m 15s) Loss: 0.0143(0.0155) Grad: 0.0159 LR: 0.000095  \n",
      "Epoch: [2][700/1316] Elapsed 4m 10s (remain 3m 39s) Loss: 0.0163(0.0155) Grad: 0.0271 LR: 0.000094  \n",
      "Epoch: [2][800/1316] Elapsed 4m 45s (remain 3m 3s) Loss: 0.0156(0.0155) Grad: 0.0169 LR: 0.000094  \n",
      "Epoch: [2][900/1316] Elapsed 5m 21s (remain 2m 28s) Loss: 0.0150(0.0155) Grad: 0.0217 LR: 0.000093  \n",
      "Epoch: [2][1000/1316] Elapsed 5m 57s (remain 1m 52s) Loss: 0.0145(0.0155) Grad: 0.0143 LR: 0.000093  \n",
      "Epoch: [2][1100/1316] Elapsed 6m 33s (remain 1m 16s) Loss: 0.0163(0.0155) Grad: 0.0231 LR: 0.000092  \n",
      "Epoch: [2][1200/1316] Elapsed 7m 9s (remain 0m 41s) Loss: 0.0126(0.0154) Grad: 0.0072 LR: 0.000091  \n",
      "Epoch: [2][1300/1316] Elapsed 7m 44s (remain 0m 5s) Loss: 0.0156(0.0154) Grad: 0.0194 LR: 0.000091  \n",
      "Epoch: [2][1315/1316] Elapsed 7m 50s (remain 0m 0s) Loss: 0.0144(0.0154) Grad: 0.0224 LR: 0.000091  \n",
      "EVAL: [0/330] Elapsed 0m 0s (remain 4m 52s) Loss: 0.0160(0.0160) \n",
      "EVAL: [100/330] Elapsed 0m 12s (remain 0m 29s) Loss: 0.0158(0.0154) \n",
      "EVAL: [200/330] Elapsed 0m 24s (remain 0m 15s) Loss: 0.0173(0.0153) \n",
      "EVAL: [300/330] Elapsed 0m 36s (remain 0m 3s) Loss: 0.0174(0.0153) \n"
     ]
    },
    {
     "name": "stderr",
     "output_type": "stream",
     "text": [
      "Epoch 2 - avg_train_loss: 0.0154  avg_val_loss: 0.0153  time: 509s\n",
      "Epoch 2 - Accuracy: 0.9426618568445035\n",
      "Epoch 2 - Save Best Score: 0.9427 Model\n"
     ]
    },
    {
     "name": "stdout",
     "output_type": "stream",
     "text": [
      "EVAL: [329/330] Elapsed 0m 39s (remain 0m 0s) Loss: 0.0157(0.0153) \n",
      "Epoch: [3][0/1316] Elapsed 0m 1s (remain 29m 36s) Loss: 0.0184(0.0184) Grad: 0.0287 LR: 0.000091  \n",
      "Epoch: [3][100/1316] Elapsed 0m 39s (remain 7m 54s) Loss: 0.0299(0.0235) Grad: 0.0226 LR: 0.000090  \n",
      "Epoch: [3][200/1316] Elapsed 1m 17s (remain 7m 9s) Loss: 0.0263(0.0235) Grad: 0.0179 LR: 0.000089  \n",
      "Epoch: [3][300/1316] Elapsed 1m 55s (remain 6m 31s) Loss: 0.0145(0.0235) Grad: 0.0221 LR: 0.000088  \n",
      "Epoch: [3][400/1316] Elapsed 2m 34s (remain 5m 51s) Loss: 0.0225(0.0234) Grad: 0.0251 LR: 0.000088  \n",
      "Epoch: [3][500/1316] Elapsed 3m 12s (remain 5m 12s) Loss: 0.0168(0.0233) Grad: 0.0251 LR: 0.000087  \n",
      "Epoch: [3][600/1316] Elapsed 3m 50s (remain 4m 33s) Loss: 0.0171(0.0232) Grad: 0.0229 LR: 0.000086  \n",
      "Epoch: [3][700/1316] Elapsed 4m 28s (remain 3m 55s) Loss: 0.0251(0.0233) Grad: 0.0285 LR: 0.000085  \n",
      "Epoch: [3][800/1316] Elapsed 5m 6s (remain 3m 17s) Loss: 0.0247(0.0232) Grad: 0.0191 LR: 0.000084  \n",
      "Epoch: [3][900/1316] Elapsed 5m 44s (remain 2m 38s) Loss: 0.0286(0.0231) Grad: 0.0264 LR: 0.000084  \n",
      "Epoch: [3][1000/1316] Elapsed 6m 22s (remain 2m 0s) Loss: 0.0151(0.0231) Grad: 0.0175 LR: 0.000083  \n",
      "Epoch: [3][1100/1316] Elapsed 7m 0s (remain 1m 22s) Loss: 0.0156(0.0231) Grad: 0.0177 LR: 0.000082  \n",
      "Epoch: [3][1200/1316] Elapsed 7m 38s (remain 0m 43s) Loss: 0.0167(0.0230) Grad: 0.0229 LR: 0.000081  \n",
      "Epoch: [3][1300/1316] Elapsed 8m 16s (remain 0m 5s) Loss: 0.0174(0.0230) Grad: 0.0256 LR: 0.000080  \n",
      "Epoch: [3][1315/1316] Elapsed 8m 21s (remain 0m 0s) Loss: 0.0316(0.0230) Grad: 0.0349 LR: 0.000080  \n",
      "EVAL: [0/330] Elapsed 0m 0s (remain 4m 40s) Loss: 0.0157(0.0157) \n",
      "EVAL: [100/330] Elapsed 0m 12s (remain 0m 28s) Loss: 0.0151(0.0157) \n",
      "EVAL: [200/330] Elapsed 0m 24s (remain 0m 15s) Loss: 0.0165(0.0156) \n",
      "EVAL: [300/330] Elapsed 0m 36s (remain 0m 3s) Loss: 0.0182(0.0156) \n"
     ]
    },
    {
     "name": "stderr",
     "output_type": "stream",
     "text": [
      "Epoch 3 - avg_train_loss: 0.0230  avg_val_loss: 0.0156  time: 541s\n",
      "Epoch 3 - Accuracy: 0.9434213024492121\n",
      "Epoch 3 - Save Best Score: 0.9434 Model\n"
     ]
    },
    {
     "name": "stdout",
     "output_type": "stream",
     "text": [
      "EVAL: [329/330] Elapsed 0m 38s (remain 0m 0s) Loss: 0.0168(0.0156) \n",
      "Epoch: [4][0/1316] Elapsed 0m 1s (remain 30m 39s) Loss: 0.0212(0.0212) Grad: 0.0260 LR: 0.000080  \n",
      "Epoch: [4][100/1316] Elapsed 0m 39s (remain 7m 56s) Loss: 0.0157(0.0222) Grad: 0.0217 LR: 0.000079  \n",
      "Epoch: [4][200/1316] Elapsed 1m 17s (remain 7m 10s) Loss: 0.0170(0.0222) Grad: 0.0208 LR: 0.000078  \n",
      "Epoch: [4][300/1316] Elapsed 1m 55s (remain 6m 28s) Loss: 0.0158(0.0221) Grad: 0.0160 LR: 0.000077  \n",
      "Epoch: [4][400/1316] Elapsed 2m 33s (remain 5m 49s) Loss: 0.0288(0.0221) Grad: 0.0157 LR: 0.000076  \n",
      "Epoch: [4][500/1316] Elapsed 3m 11s (remain 5m 11s) Loss: 0.0301(0.0221) Grad: 0.0200 LR: 0.000075  \n",
      "Epoch: [4][600/1316] Elapsed 3m 50s (remain 4m 33s) Loss: 0.0264(0.0222) Grad: 0.0121 LR: 0.000074  \n",
      "Epoch: [4][700/1316] Elapsed 4m 28s (remain 3m 55s) Loss: 0.0157(0.0222) Grad: 0.0226 LR: 0.000073  \n",
      "Epoch: [4][800/1316] Elapsed 5m 6s (remain 3m 17s) Loss: 0.0216(0.0223) Grad: 0.0256 LR: 0.000072  \n",
      "Epoch: [4][900/1316] Elapsed 5m 44s (remain 2m 38s) Loss: 0.0262(0.0223) Grad: 0.0136 LR: 0.000071  \n",
      "Epoch: [4][1000/1316] Elapsed 6m 22s (remain 2m 0s) Loss: 0.0191(0.0222) Grad: 0.0224 LR: 0.000070  \n",
      "Epoch: [4][1100/1316] Elapsed 7m 0s (remain 1m 22s) Loss: 0.0155(0.0222) Grad: 0.0234 LR: 0.000069  \n",
      "Epoch: [4][1200/1316] Elapsed 7m 39s (remain 0m 43s) Loss: 0.0243(0.0222) Grad: 0.0136 LR: 0.000067  \n",
      "Epoch: [4][1300/1316] Elapsed 8m 17s (remain 0m 5s) Loss: 0.0223(0.0221) Grad: 0.0141 LR: 0.000066  \n",
      "Epoch: [4][1315/1316] Elapsed 8m 23s (remain 0m 0s) Loss: 0.0233(0.0221) Grad: 0.0303 LR: 0.000066  \n",
      "EVAL: [0/330] Elapsed 0m 0s (remain 4m 34s) Loss: 0.0163(0.0163) \n",
      "EVAL: [100/330] Elapsed 0m 12s (remain 0m 29s) Loss: 0.0151(0.0155) \n",
      "EVAL: [200/330] Elapsed 0m 24s (remain 0m 15s) Loss: 0.0155(0.0154) \n",
      "EVAL: [300/330] Elapsed 0m 36s (remain 0m 3s) Loss: 0.0194(0.0154) \n"
     ]
    },
    {
     "name": "stderr",
     "output_type": "stream",
     "text": [
      "Epoch 4 - avg_train_loss: 0.0221  avg_val_loss: 0.0154  time: 543s\n",
      "Epoch 4 - Accuracy: 0.9413328270362635\n"
     ]
    },
    {
     "name": "stdout",
     "output_type": "stream",
     "text": [
      "EVAL: [329/330] Elapsed 0m 39s (remain 0m 0s) Loss: 0.0172(0.0154) \n",
      "Epoch: [5][0/1316] Elapsed 0m 1s (remain 32m 7s) Loss: 0.0175(0.0175) Grad: 0.0329 LR: 0.000066  \n",
      "Epoch: [5][100/1316] Elapsed 0m 40s (remain 8m 1s) Loss: 0.0250(0.0221) Grad: 0.0306 LR: 0.000065  \n",
      "Epoch: [5][200/1316] Elapsed 1m 17s (remain 7m 12s) Loss: 0.0204(0.0218) Grad: 0.0235 LR: 0.000064  \n",
      "Epoch: [5][300/1316] Elapsed 1m 56s (remain 6m 31s) Loss: 0.0248(0.0219) Grad: 0.0152 LR: 0.000063  \n",
      "Epoch: [5][400/1316] Elapsed 2m 34s (remain 5m 52s) Loss: 0.0143(0.0218) Grad: 0.0180 LR: 0.000062  \n",
      "Epoch: [5][500/1316] Elapsed 3m 12s (remain 5m 13s) Loss: 0.0247(0.0218) Grad: 0.0182 LR: 0.000061  \n",
      "Epoch: [5][600/1316] Elapsed 3m 50s (remain 4m 34s) Loss: 0.0183(0.0218) Grad: 0.0178 LR: 0.000059  \n",
      "Epoch: [5][700/1316] Elapsed 4m 28s (remain 3m 55s) Loss: 0.0252(0.0218) Grad: 0.0195 LR: 0.000058  \n",
      "Epoch: [5][800/1316] Elapsed 5m 7s (remain 3m 17s) Loss: 0.0269(0.0218) Grad: 0.0168 LR: 0.000057  \n",
      "Epoch: [5][900/1316] Elapsed 5m 45s (remain 2m 39s) Loss: 0.0250(0.0218) Grad: 0.0183 LR: 0.000056  \n",
      "Epoch: [5][1000/1316] Elapsed 6m 23s (remain 2m 0s) Loss: 0.0193(0.0218) Grad: 0.0218 LR: 0.000055  \n",
      "Epoch: [5][1100/1316] Elapsed 7m 2s (remain 1m 22s) Loss: 0.0254(0.0218) Grad: 0.0194 LR: 0.000054  \n",
      "Epoch: [5][1200/1316] Elapsed 7m 40s (remain 0m 44s) Loss: 0.0178(0.0218) Grad: 0.0230 LR: 0.000052  \n",
      "Epoch: [5][1300/1316] Elapsed 8m 18s (remain 0m 5s) Loss: 0.0290(0.0217) Grad: 0.0200 LR: 0.000051  \n",
      "Epoch: [5][1315/1316] Elapsed 8m 23s (remain 0m 0s) Loss: 0.0138(0.0217) Grad: 0.0223 LR: 0.000051  \n",
      "EVAL: [0/330] Elapsed 0m 0s (remain 4m 39s) Loss: 0.0157(0.0157) \n",
      "EVAL: [100/330] Elapsed 0m 13s (remain 0m 29s) Loss: 0.0141(0.0152) \n",
      "EVAL: [200/330] Elapsed 0m 24s (remain 0m 16s) Loss: 0.0155(0.0152) \n",
      "EVAL: [300/330] Elapsed 0m 36s (remain 0m 3s) Loss: 0.0197(0.0152) \n"
     ]
    },
    {
     "name": "stderr",
     "output_type": "stream",
     "text": [
      "Epoch 5 - avg_train_loss: 0.0217  avg_val_loss: 0.0152  time: 543s\n",
      "Epoch 5 - Accuracy: 0.9447503322574521\n",
      "Epoch 5 - Save Best Score: 0.9448 Model\n"
     ]
    },
    {
     "name": "stdout",
     "output_type": "stream",
     "text": [
      "EVAL: [329/330] Elapsed 0m 39s (remain 0m 0s) Loss: 0.0173(0.0152) \n",
      "Epoch: [6][0/1316] Elapsed 0m 1s (remain 31m 6s) Loss: 0.0258(0.0258) Grad: 0.0173 LR: 0.000051  \n",
      "Epoch: [6][100/1316] Elapsed 0m 39s (remain 7m 56s) Loss: 0.0256(0.0217) Grad: 0.0149 LR: 0.000050  \n",
      "Epoch: [6][200/1316] Elapsed 1m 17s (remain 7m 10s) Loss: 0.0256(0.0216) Grad: 0.0306 LR: 0.000049  \n",
      "Epoch: [6][300/1316] Elapsed 1m 55s (remain 6m 29s) Loss: 0.0254(0.0217) Grad: 0.0205 LR: 0.000048  \n",
      "Epoch: [6][400/1316] Elapsed 2m 33s (remain 5m 50s) Loss: 0.0288(0.0216) Grad: 0.0166 LR: 0.000046  \n",
      "Epoch: [6][500/1316] Elapsed 3m 11s (remain 5m 11s) Loss: 0.0144(0.0216) Grad: 0.0163 LR: 0.000045  \n",
      "Epoch: [6][600/1316] Elapsed 3m 49s (remain 4m 33s) Loss: 0.0184(0.0217) Grad: 0.0301 LR: 0.000044  \n",
      "Epoch: [6][700/1316] Elapsed 4m 27s (remain 3m 54s) Loss: 0.0221(0.0217) Grad: 0.0347 LR: 0.000043  \n",
      "Epoch: [6][800/1316] Elapsed 5m 6s (remain 3m 17s) Loss: 0.0207(0.0216) Grad: 0.0128 LR: 0.000042  \n",
      "Epoch: [6][900/1316] Elapsed 5m 45s (remain 2m 38s) Loss: 0.0227(0.0217) Grad: 0.0213 LR: 0.000041  \n",
      "Epoch: [6][1000/1316] Elapsed 6m 22s (remain 2m 0s) Loss: 0.0155(0.0216) Grad: 0.0223 LR: 0.000039  \n",
      "Epoch: [6][1100/1316] Elapsed 7m 1s (remain 1m 22s) Loss: 0.0272(0.0216) Grad: 0.0150 LR: 0.000038  \n",
      "Epoch: [6][1200/1316] Elapsed 7m 39s (remain 0m 44s) Loss: 0.0274(0.0216) Grad: 0.0116 LR: 0.000037  \n",
      "Epoch: [6][1300/1316] Elapsed 8m 17s (remain 0m 5s) Loss: 0.0219(0.0215) Grad: 0.0131 LR: 0.000036  \n",
      "Epoch: [6][1315/1316] Elapsed 8m 23s (remain 0m 0s) Loss: 0.0208(0.0215) Grad: 0.0223 LR: 0.000036  \n",
      "EVAL: [0/330] Elapsed 0m 0s (remain 4m 33s) Loss: 0.0157(0.0157) \n",
      "EVAL: [100/330] Elapsed 0m 12s (remain 0m 28s) Loss: 0.0155(0.0150) \n",
      "EVAL: [200/330] Elapsed 0m 24s (remain 0m 15s) Loss: 0.0153(0.0149) \n",
      "EVAL: [300/330] Elapsed 0m 36s (remain 0m 3s) Loss: 0.0189(0.0149) \n"
     ]
    },
    {
     "name": "stderr",
     "output_type": "stream",
     "text": [
      "Epoch 6 - avg_train_loss: 0.0215  avg_val_loss: 0.0149  time: 543s\n",
      "Epoch 6 - Accuracy: 0.950066451490412\n",
      "Epoch 6 - Save Best Score: 0.9501 Model\n"
     ]
    },
    {
     "name": "stdout",
     "output_type": "stream",
     "text": [
      "EVAL: [329/330] Elapsed 0m 39s (remain 0m 0s) Loss: 0.0173(0.0149) \n",
      "Epoch: [7][0/1316] Elapsed 0m 1s (remain 30m 11s) Loss: 0.0203(0.0203) Grad: 0.0287 LR: 0.000036  \n",
      "Epoch: [7][100/1316] Elapsed 0m 39s (remain 7m 51s) Loss: 0.0212(0.0183) Grad: 0.0114 LR: 0.000035  \n",
      "Epoch: [7][200/1316] Elapsed 1m 16s (remain 7m 6s) Loss: 0.0136(0.0187) Grad: 0.0144 LR: 0.000034  \n",
      "Epoch: [7][300/1316] Elapsed 1m 54s (remain 6m 26s) Loss: 0.0172(0.0185) Grad: 0.0225 LR: 0.000033  \n",
      "Epoch: [7][400/1316] Elapsed 2m 32s (remain 5m 46s) Loss: 0.0151(0.0184) Grad: 0.0150 LR: 0.000032  \n",
      "Epoch: [7][500/1316] Elapsed 3m 9s (remain 5m 8s) Loss: 0.0142(0.0185) Grad: 0.0112 LR: 0.000030  \n",
      "Epoch: [7][600/1316] Elapsed 3m 46s (remain 4m 29s) Loss: 0.0166(0.0184) Grad: 0.0196 LR: 0.000029  \n",
      "Epoch: [7][700/1316] Elapsed 4m 23s (remain 3m 51s) Loss: 0.0164(0.0184) Grad: 0.0174 LR: 0.000028  \n",
      "Epoch: [7][800/1316] Elapsed 5m 1s (remain 3m 13s) Loss: 0.0133(0.0183) Grad: 0.0070 LR: 0.000027  \n",
      "Epoch: [7][900/1316] Elapsed 5m 38s (remain 2m 36s) Loss: 0.0148(0.0184) Grad: 0.0309 LR: 0.000026  \n",
      "Epoch: [7][1000/1316] Elapsed 6m 16s (remain 1m 58s) Loss: 0.0165(0.0184) Grad: 0.0323 LR: 0.000025  \n",
      "Epoch: [7][1100/1316] Elapsed 6m 54s (remain 1m 20s) Loss: 0.0250(0.0183) Grad: 0.0102 LR: 0.000024  \n",
      "Epoch: [7][1200/1316] Elapsed 7m 31s (remain 0m 43s) Loss: 0.0152(0.0183) Grad: 0.0219 LR: 0.000023  \n",
      "Epoch: [7][1300/1316] Elapsed 8m 9s (remain 0m 5s) Loss: 0.0167(0.0184) Grad: 0.0220 LR: 0.000022  \n",
      "Epoch: [7][1315/1316] Elapsed 8m 14s (remain 0m 0s) Loss: 0.0148(0.0184) Grad: 0.0265 LR: 0.000022  \n",
      "EVAL: [0/330] Elapsed 0m 0s (remain 4m 35s) Loss: 0.0148(0.0148) \n",
      "EVAL: [100/330] Elapsed 0m 12s (remain 0m 29s) Loss: 0.0140(0.0147) \n",
      "EVAL: [200/330] Elapsed 0m 24s (remain 0m 15s) Loss: 0.0157(0.0147) \n",
      "EVAL: [300/330] Elapsed 0m 36s (remain 0m 3s) Loss: 0.0182(0.0147) \n"
     ]
    },
    {
     "name": "stderr",
     "output_type": "stream",
     "text": [
      "Epoch 7 - avg_train_loss: 0.0184  avg_val_loss: 0.0147  time: 534s\n",
      "Epoch 7 - Accuracy: 0.9498765900892349\n"
     ]
    },
    {
     "name": "stdout",
     "output_type": "stream",
     "text": [
      "EVAL: [329/330] Elapsed 0m 39s (remain 0m 0s) Loss: 0.0155(0.0147) \n",
      "Epoch: [8][0/1316] Elapsed 0m 1s (remain 30m 44s) Loss: 0.0170(0.0170) Grad: 0.0267 LR: 0.000022  \n",
      "Epoch: [8][100/1316] Elapsed 0m 39s (remain 7m 50s) Loss: 0.0138(0.0179) Grad: 0.0150 LR: 0.000021  \n",
      "Epoch: [8][200/1316] Elapsed 1m 16s (remain 7m 6s) Loss: 0.0198(0.0182) Grad: 0.0284 LR: 0.000020  \n",
      "Epoch: [8][300/1316] Elapsed 1m 54s (remain 6m 26s) Loss: 0.0140(0.0181) Grad: 0.0087 LR: 0.000020  \n",
      "Epoch: [8][400/1316] Elapsed 2m 32s (remain 5m 47s) Loss: 0.0127(0.0182) Grad: 0.0077 LR: 0.000019  \n",
      "Epoch: [8][500/1316] Elapsed 3m 9s (remain 5m 8s) Loss: 0.0162(0.0182) Grad: 0.0214 LR: 0.000018  \n",
      "Epoch: [8][600/1316] Elapsed 3m 47s (remain 4m 30s) Loss: 0.0130(0.0183) Grad: 0.0092 LR: 0.000017  \n",
      "Epoch: [8][700/1316] Elapsed 4m 25s (remain 3m 52s) Loss: 0.0290(0.0183) Grad: 0.0226 LR: 0.000016  \n",
      "Epoch: [8][800/1316] Elapsed 5m 3s (remain 3m 14s) Loss: 0.0159(0.0184) Grad: 0.0249 LR: 0.000015  \n",
      "Epoch: [8][900/1316] Elapsed 5m 40s (remain 2m 36s) Loss: 0.0149(0.0185) Grad: 0.0165 LR: 0.000014  \n",
      "Epoch: [8][1000/1316] Elapsed 6m 17s (remain 1m 58s) Loss: 0.0138(0.0184) Grad: 0.0146 LR: 0.000014  \n",
      "Epoch: [8][1100/1316] Elapsed 6m 55s (remain 1m 21s) Loss: 0.0163(0.0184) Grad: 0.0195 LR: 0.000013  \n",
      "Epoch: [8][1200/1316] Elapsed 7m 32s (remain 0m 43s) Loss: 0.0245(0.0184) Grad: 0.0203 LR: 0.000012  \n",
      "Epoch: [8][1300/1316] Elapsed 8m 10s (remain 0m 5s) Loss: 0.0135(0.0184) Grad: 0.0148 LR: 0.000012  \n",
      "Epoch: [8][1315/1316] Elapsed 8m 15s (remain 0m 0s) Loss: 0.0194(0.0184) Grad: 0.0340 LR: 0.000011  \n",
      "EVAL: [0/330] Elapsed 0m 0s (remain 4m 35s) Loss: 0.0151(0.0151) \n",
      "EVAL: [100/330] Elapsed 0m 12s (remain 0m 28s) Loss: 0.0140(0.0150) \n",
      "EVAL: [200/330] Elapsed 0m 24s (remain 0m 15s) Loss: 0.0151(0.0149) \n",
      "EVAL: [300/330] Elapsed 0m 35s (remain 0m 3s) Loss: 0.0188(0.0149) \n"
     ]
    },
    {
     "name": "stderr",
     "output_type": "stream",
     "text": [
      "Epoch 8 - avg_train_loss: 0.0184  avg_val_loss: 0.0149  time: 535s\n",
      "Epoch 8 - Accuracy: 0.9527245111068919\n",
      "Epoch 8 - Save Best Score: 0.9527 Model\n"
     ]
    },
    {
     "name": "stdout",
     "output_type": "stream",
     "text": [
      "EVAL: [329/330] Elapsed 0m 38s (remain 0m 0s) Loss: 0.0162(0.0149) \n",
      "Epoch: [9][0/1316] Elapsed 0m 1s (remain 30m 41s) Loss: 0.0154(0.0154) Grad: 0.0207 LR: 0.000011  \n",
      "Epoch: [9][100/1316] Elapsed 0m 38s (remain 7m 47s) Loss: 0.0214(0.0189) Grad: 0.0352 LR: 0.000011  \n",
      "Epoch: [9][200/1316] Elapsed 1m 16s (remain 7m 2s) Loss: 0.0240(0.0186) Grad: 0.0178 LR: 0.000010  \n",
      "Epoch: [9][300/1316] Elapsed 1m 53s (remain 6m 22s) Loss: 0.0172(0.0182) Grad: 0.0222 LR: 0.000009  \n",
      "Epoch: [9][400/1316] Elapsed 2m 31s (remain 5m 44s) Loss: 0.0136(0.0182) Grad: 0.0080 LR: 0.000009  \n",
      "Epoch: [9][500/1316] Elapsed 3m 8s (remain 5m 6s) Loss: 0.0148(0.0182) Grad: 0.0158 LR: 0.000008  \n",
      "Epoch: [9][600/1316] Elapsed 3m 45s (remain 4m 28s) Loss: 0.0175(0.0180) Grad: 0.0255 LR: 0.000008  \n",
      "Epoch: [9][700/1316] Elapsed 4m 23s (remain 3m 50s) Loss: 0.0129(0.0180) Grad: 0.0079 LR: 0.000007  \n",
      "Epoch: [9][800/1316] Elapsed 5m 0s (remain 3m 13s) Loss: 0.0142(0.0180) Grad: 0.0183 LR: 0.000007  \n",
      "Epoch: [9][900/1316] Elapsed 5m 38s (remain 2m 35s) Loss: 0.0131(0.0180) Grad: 0.0098 LR: 0.000006  \n",
      "Epoch: [9][1000/1316] Elapsed 6m 15s (remain 1m 58s) Loss: 0.0145(0.0179) Grad: 0.0096 LR: 0.000006  \n",
      "Epoch: [9][1100/1316] Elapsed 6m 52s (remain 1m 20s) Loss: 0.0144(0.0179) Grad: 0.0112 LR: 0.000005  \n",
      "Epoch: [9][1200/1316] Elapsed 7m 30s (remain 0m 43s) Loss: 0.0174(0.0180) Grad: 0.0184 LR: 0.000005  \n",
      "Epoch: [9][1300/1316] Elapsed 8m 7s (remain 0m 5s) Loss: 0.0157(0.0180) Grad: 0.0265 LR: 0.000004  \n",
      "Epoch: [9][1315/1316] Elapsed 8m 13s (remain 0m 0s) Loss: 0.0211(0.0180) Grad: 0.0225 LR: 0.000004  \n",
      "EVAL: [0/330] Elapsed 0m 0s (remain 4m 17s) Loss: 0.0152(0.0152) \n",
      "EVAL: [100/330] Elapsed 0m 12s (remain 0m 29s) Loss: 0.0142(0.0147) \n",
      "EVAL: [200/330] Elapsed 0m 24s (remain 0m 15s) Loss: 0.0149(0.0147) \n",
      "EVAL: [300/330] Elapsed 0m 36s (remain 0m 3s) Loss: 0.0190(0.0147) \n"
     ]
    },
    {
     "name": "stderr",
     "output_type": "stream",
     "text": [
      "Epoch 9 - avg_train_loss: 0.0180  avg_val_loss: 0.0147  time: 532s\n",
      "Epoch 9 - Accuracy: 0.9548129865198405\n",
      "Epoch 9 - Save Best Score: 0.9548 Model\n"
     ]
    },
    {
     "name": "stdout",
     "output_type": "stream",
     "text": [
      "EVAL: [329/330] Elapsed 0m 39s (remain 0m 0s) Loss: 0.0154(0.0147) \n",
      "Epoch: [10][0/1316] Elapsed 0m 1s (remain 26m 35s) Loss: 0.0137(0.0137) Grad: 0.0085 LR: 0.000004  \n",
      "Epoch: [10][100/1316] Elapsed 0m 36s (remain 7m 22s) Loss: 0.0138(0.0144) Grad: 0.0097 LR: 0.000004  \n",
      "Epoch: [10][200/1316] Elapsed 1m 12s (remain 6m 40s) Loss: 0.0125(0.0143) Grad: 0.0032 LR: 0.000004  \n",
      "Epoch: [10][300/1316] Elapsed 1m 47s (remain 6m 2s) Loss: 0.0132(0.0143) Grad: 0.0133 LR: 0.000003  \n",
      "Epoch: [10][400/1316] Elapsed 2m 22s (remain 5m 26s) Loss: 0.0145(0.0143) Grad: 0.0164 LR: 0.000003  \n",
      "Epoch: [10][500/1316] Elapsed 2m 58s (remain 4m 50s) Loss: 0.0167(0.0142) Grad: 0.0284 LR: 0.000003  \n",
      "Epoch: [10][600/1316] Elapsed 3m 33s (remain 4m 14s) Loss: 0.0152(0.0142) Grad: 0.0265 LR: 0.000003  \n",
      "Epoch: [10][700/1316] Elapsed 4m 9s (remain 3m 38s) Loss: 0.0142(0.0142) Grad: 0.0093 LR: 0.000003  \n",
      "Epoch: [10][800/1316] Elapsed 4m 45s (remain 3m 3s) Loss: 0.0150(0.0142) Grad: 0.0113 LR: 0.000002  \n",
      "Epoch: [10][900/1316] Elapsed 5m 21s (remain 2m 27s) Loss: 0.0128(0.0142) Grad: 0.0053 LR: 0.000002  \n",
      "Epoch: [10][1000/1316] Elapsed 5m 56s (remain 1m 52s) Loss: 0.0171(0.0142) Grad: 0.0287 LR: 0.000002  \n",
      "Epoch: [10][1100/1316] Elapsed 6m 32s (remain 1m 16s) Loss: 0.0139(0.0142) Grad: 0.0061 LR: 0.000002  \n",
      "Epoch: [10][1200/1316] Elapsed 7m 8s (remain 0m 41s) Loss: 0.0127(0.0142) Grad: 0.0068 LR: 0.000002  \n",
      "Epoch: [10][1300/1316] Elapsed 7m 44s (remain 0m 5s) Loss: 0.0132(0.0142) Grad: 0.0116 LR: 0.000002  \n",
      "Epoch: [10][1315/1316] Elapsed 7m 49s (remain 0m 0s) Loss: 0.0144(0.0142) Grad: 0.0114 LR: 0.000002  \n",
      "EVAL: [0/330] Elapsed 0m 0s (remain 4m 45s) Loss: 0.0153(0.0153) \n",
      "EVAL: [100/330] Elapsed 0m 12s (remain 0m 28s) Loss: 0.0146(0.0146) \n",
      "EVAL: [200/330] Elapsed 0m 24s (remain 0m 15s) Loss: 0.0152(0.0145) \n",
      "EVAL: [300/330] Elapsed 0m 35s (remain 0m 3s) Loss: 0.0210(0.0146) \n"
     ]
    },
    {
     "name": "stderr",
     "output_type": "stream",
     "text": [
      "Epoch 10 - avg_train_loss: 0.0142  avg_val_loss: 0.0146  time: 508s\n",
      "Epoch 10 - Accuracy: 0.9517752041010062\n",
      "Epoch 10 - Save final model\n"
     ]
    },
    {
     "name": "stdout",
     "output_type": "stream",
     "text": [
      "EVAL: [329/330] Elapsed 0m 38s (remain 0m 0s) Loss: 0.0149(0.0146) \n"
     ]
    },
    {
     "name": "stderr",
     "output_type": "stream",
     "text": [
      "========== fold: 4 result ==========\n",
      "Score: 0.95481\n",
      "========== CV ==========\n",
      "Score: 0.94980\n"
     ]
    }
   ],
   "source": [
    "if __name__ == \"__main__\":\n",
    "    main()"
   ]
  }
 ],
 "metadata": {
  "kernelspec": {
   "display_name": "Python 3",
   "language": "python",
   "name": "python3"
  },
  "language_info": {
   "codemirror_mode": {
    "name": "ipython",
    "version": 3
   },
   "file_extension": ".py",
   "mimetype": "text/x-python",
   "name": "python",
   "nbconvert_exporter": "python",
   "pygments_lexer": "ipython3",
   "version": "3.7.9"
  }
 },
 "nbformat": 4,
 "nbformat_minor": 4
}
