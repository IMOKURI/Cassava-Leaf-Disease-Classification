{
 "cells": [
  {
   "cell_type": "markdown",
   "metadata": {},
   "source": [
    "# About this notebook  \n",
    "\n",
    "TBD..."
   ]
  },
  {
   "cell_type": "markdown",
   "metadata": {},
   "source": [
    "# Data Loading"
   ]
  },
  {
   "cell_type": "code",
   "execution_count": 1,
   "metadata": {},
   "outputs": [],
   "source": [
    "import os\n",
    "\n",
    "import pandas as pd\n",
    "import seaborn as sns\n",
    "from matplotlib import pyplot as plt"
   ]
  },
  {
   "cell_type": "code",
   "execution_count": 2,
   "metadata": {},
   "outputs": [
    {
     "data": {
      "text/plain": [
       "['train_tfrecords',\n",
       " 'train_images',\n",
       " 'test_images',\n",
       " 'label_num_to_disease_map.json',\n",
       " 'sample_submission.csv',\n",
       " 'train.csv',\n",
       " 'test_tfrecords']"
      ]
     },
     "execution_count": 2,
     "metadata": {},
     "output_type": "execute_result"
    }
   ],
   "source": [
    "os.listdir(\"../input/cassava-leaf-disease-classification\")"
   ]
  },
  {
   "cell_type": "code",
   "execution_count": 3,
   "metadata": {},
   "outputs": [
    {
     "data": {
      "text/html": [
       "<div>\n",
       "<style scoped>\n",
       "    .dataframe tbody tr th:only-of-type {\n",
       "        vertical-align: middle;\n",
       "    }\n",
       "\n",
       "    .dataframe tbody tr th {\n",
       "        vertical-align: top;\n",
       "    }\n",
       "\n",
       "    .dataframe thead th {\n",
       "        text-align: right;\n",
       "    }\n",
       "</style>\n",
       "<table border=\"1\" class=\"dataframe\">\n",
       "  <thead>\n",
       "    <tr style=\"text-align: right;\">\n",
       "      <th></th>\n",
       "      <th>image_id</th>\n",
       "      <th>label</th>\n",
       "      <th>0</th>\n",
       "      <th>1</th>\n",
       "      <th>2</th>\n",
       "      <th>3</th>\n",
       "      <th>4</th>\n",
       "    </tr>\n",
       "  </thead>\n",
       "  <tbody>\n",
       "    <tr>\n",
       "      <th>0</th>\n",
       "      <td>1000015157.jpg</td>\n",
       "      <td>0</td>\n",
       "      <td>0.373521</td>\n",
       "      <td>0.296580</td>\n",
       "      <td>0.124931</td>\n",
       "      <td>0.018632</td>\n",
       "      <td>0.186336</td>\n",
       "    </tr>\n",
       "    <tr>\n",
       "      <th>1</th>\n",
       "      <td>1000201771.jpg</td>\n",
       "      <td>3</td>\n",
       "      <td>0.020839</td>\n",
       "      <td>0.027160</td>\n",
       "      <td>0.037688</td>\n",
       "      <td>0.886378</td>\n",
       "      <td>0.027935</td>\n",
       "    </tr>\n",
       "    <tr>\n",
       "      <th>2</th>\n",
       "      <td>100042118.jpg</td>\n",
       "      <td>4</td>\n",
       "      <td>0.028102</td>\n",
       "      <td>0.335759</td>\n",
       "      <td>0.043405</td>\n",
       "      <td>0.054358</td>\n",
       "      <td>0.538376</td>\n",
       "    </tr>\n",
       "    <tr>\n",
       "      <th>3</th>\n",
       "      <td>1000723321.jpg</td>\n",
       "      <td>1</td>\n",
       "      <td>0.021610</td>\n",
       "      <td>0.843521</td>\n",
       "      <td>0.029899</td>\n",
       "      <td>0.046169</td>\n",
       "      <td>0.058801</td>\n",
       "    </tr>\n",
       "    <tr>\n",
       "      <th>4</th>\n",
       "      <td>1000812911.jpg</td>\n",
       "      <td>3</td>\n",
       "      <td>0.023698</td>\n",
       "      <td>0.019814</td>\n",
       "      <td>0.022040</td>\n",
       "      <td>0.913077</td>\n",
       "      <td>0.021371</td>\n",
       "    </tr>\n",
       "  </tbody>\n",
       "</table>\n",
       "</div>"
      ],
      "text/plain": [
       "         image_id  label         0         1         2         3         4\n",
       "0  1000015157.jpg      0  0.373521  0.296580  0.124931  0.018632  0.186336\n",
       "1  1000201771.jpg      3  0.020839  0.027160  0.037688  0.886378  0.027935\n",
       "2   100042118.jpg      4  0.028102  0.335759  0.043405  0.054358  0.538376\n",
       "3  1000723321.jpg      1  0.021610  0.843521  0.029899  0.046169  0.058801\n",
       "4  1000812911.jpg      3  0.023698  0.019814  0.022040  0.913077  0.021371"
      ]
     },
     "metadata": {},
     "output_type": "display_data"
    },
    {
     "data": {
      "text/html": [
       "<div>\n",
       "<style scoped>\n",
       "    .dataframe tbody tr th:only-of-type {\n",
       "        vertical-align: middle;\n",
       "    }\n",
       "\n",
       "    .dataframe tbody tr th {\n",
       "        vertical-align: top;\n",
       "    }\n",
       "\n",
       "    .dataframe thead th {\n",
       "        text-align: right;\n",
       "    }\n",
       "</style>\n",
       "<table border=\"1\" class=\"dataframe\">\n",
       "  <thead>\n",
       "    <tr style=\"text-align: right;\">\n",
       "      <th></th>\n",
       "      <th>image_id</th>\n",
       "      <th>label</th>\n",
       "    </tr>\n",
       "  </thead>\n",
       "  <tbody>\n",
       "    <tr>\n",
       "      <th>0</th>\n",
       "      <td>2216849948.jpg</td>\n",
       "      <td>4</td>\n",
       "    </tr>\n",
       "  </tbody>\n",
       "</table>\n",
       "</div>"
      ],
      "text/plain": [
       "         image_id  label\n",
       "0  2216849948.jpg      4"
      ]
     },
     "metadata": {},
     "output_type": "display_data"
    },
    {
     "data": {
      "text/html": [
       "<div>\n",
       "<style scoped>\n",
       "    .dataframe tbody tr th:only-of-type {\n",
       "        vertical-align: middle;\n",
       "    }\n",
       "\n",
       "    .dataframe tbody tr th {\n",
       "        vertical-align: top;\n",
       "    }\n",
       "\n",
       "    .dataframe thead th {\n",
       "        text-align: right;\n",
       "    }\n",
       "</style>\n",
       "<table border=\"1\" class=\"dataframe\">\n",
       "  <thead>\n",
       "    <tr style=\"text-align: right;\">\n",
       "      <th></th>\n",
       "      <th>0</th>\n",
       "    </tr>\n",
       "  </thead>\n",
       "  <tbody>\n",
       "    <tr>\n",
       "      <th>0</th>\n",
       "      <td>Cassava Bacterial Blight (CBB)</td>\n",
       "    </tr>\n",
       "    <tr>\n",
       "      <th>1</th>\n",
       "      <td>Cassava Brown Streak Disease (CBSD)</td>\n",
       "    </tr>\n",
       "    <tr>\n",
       "      <th>2</th>\n",
       "      <td>Cassava Green Mottle (CGM)</td>\n",
       "    </tr>\n",
       "    <tr>\n",
       "      <th>3</th>\n",
       "      <td>Cassava Mosaic Disease (CMD)</td>\n",
       "    </tr>\n",
       "    <tr>\n",
       "      <th>4</th>\n",
       "      <td>Healthy</td>\n",
       "    </tr>\n",
       "  </tbody>\n",
       "</table>\n",
       "</div>"
      ],
      "text/plain": [
       "                                     0\n",
       "0       Cassava Bacterial Blight (CBB)\n",
       "1  Cassava Brown Streak Disease (CBSD)\n",
       "2           Cassava Green Mottle (CGM)\n",
       "3         Cassava Mosaic Disease (CMD)\n",
       "4                              Healthy"
      ]
     },
     "metadata": {},
     "output_type": "display_data"
    }
   ],
   "source": [
    "# train = pd.read_csv(\"../input/cassava-leaf-disease-classification/train.csv\")\n",
    "# train = pd.read_csv(\"../input/cassava-leaf-disease-merged/oversample-0124.csv\")  # label 0124 x3\n",
    "\n",
    "train_id = pd.read_csv(\"../input/cassava-leaf-disease-merged/merged.csv\")[\"image_id\"]\n",
    "dist = pd.read_csv(\"distillation_label/ensemble-v3.csv\", header=None)\n",
    "train_label = pd.DataFrame(dist.idxmax(axis=1), columns=[\"label\"])\n",
    "train = pd.concat([train_id, train_label, dist], axis=1)\n",
    "\n",
    "test = pd.read_csv(\"../input/cassava-leaf-disease-classification/sample_submission.csv\")\n",
    "label_map = pd.read_json(\"../input/cassava-leaf-disease-classification/label_num_to_disease_map.json\", orient=\"index\")\n",
    "\n",
    "display(train.head())\n",
    "display(test.head())\n",
    "display(label_map)"
   ]
  },
  {
   "cell_type": "code",
   "execution_count": 4,
   "metadata": {},
   "outputs": [
    {
     "name": "stderr",
     "output_type": "stream",
     "text": [
      "/opt/conda/lib/python3.7/site-packages/seaborn/distributions.py:2557: FutureWarning: `distplot` is a deprecated function and will be removed in a future version. Please adapt your code to use either `displot` (a figure-level function with similar flexibility) or `histplot` (an axes-level function for histograms).\n",
      "  warnings.warn(msg, FutureWarning)\n"
     ]
    },
    {
     "data": {
      "text/plain": [
       "<AxesSubplot:xlabel='label'>"
      ]
     },
     "execution_count": 4,
     "metadata": {},
     "output_type": "execute_result"
    },
    {
     "data": {
      "image/png": "[encoded data removed]",
      "text/plain": [
       "<Figure size 432x288 with 1 Axes>"
      ]
     },
     "metadata": {
      "needs_background": "light"
     },
     "output_type": "display_data"
    }
   ],
   "source": [
    "sns.distplot(train[\"label\"], kde=False)"
   ]
  },
  {
   "cell_type": "markdown",
   "metadata": {},
   "source": [
    "# Directory settings"
   ]
  },
  {
   "cell_type": "code",
   "execution_count": 5,
   "metadata": {},
   "outputs": [],
   "source": [
    "# ====================================================\n",
    "# Directory settings\n",
    "# ====================================================\n",
    "import os\n",
    "\n",
    "OUTPUT_DIR = \"./\"\n",
    "if not os.path.exists(OUTPUT_DIR):\n",
    "    os.makedirs(OUTPUT_DIR)\n",
    "\n",
    "# TRAIN_PATH = \"../input/cassava-leaf-disease-classification/train_images\"\n",
    "TRAIN_PATH = \"../input/cassava-leaf-disease-merged/train\"\n",
    "TEST_PATH = \"../input/cassava-leaf-disease-classification/test_images\""
   ]
  },
  {
   "cell_type": "markdown",
   "metadata": {},
   "source": [
    "# CFG"
   ]
  },
  {
   "cell_type": "code",
   "execution_count": 6,
   "metadata": {},
   "outputs": [],
   "source": [
    "# ====================================================\n",
    "# CFG\n",
    "# ====================================================\n",
    "class CFG:\n",
    "    debug = False\n",
    "    apex = True\n",
    "    print_freq = 100\n",
    "    num_workers = 4\n",
    "    model_name = \"tf_efficientnet_b4_ns\"  # resnext50_32x4d, seresnext50_32x4d, tf_efficientnet_b3_ns, vit_base_patch16_384, deit_base_patch16_384\n",
    "    batch_size = 16\n",
    "    gradient_accumulation_steps = 2\n",
    "    size = 384 if \"it_base_\" in model_name else 512\n",
    "    n_fold = 5\n",
    "    trn_fold = [0, 1, 2, 3, 4]\n",
    "    criterion = \"BiTemperedLoss\"  # ['CrossEntropyLoss', 'BiTemperedLoss']\n",
    "    btl_t1 = 0.3  # Bi-Tempered Logistic Loss\n",
    "    btl_t2 = 1.0\n",
    "    label_smoothing = 0.2\n",
    "    scheduler = \"CosineAnnealingWarmRestarts\"  # ['ReduceLROnPlateau', 'CosineAnnealingLR', 'CosineAnnealingWarmRestarts', 'CosineAnnealingWarmupRestarts']\n",
    "    scheduler_batch_update = True\n",
    "    epochs = 10\n",
    "    # factor = 0.2  # ReduceLROnPlateau\n",
    "    # patience = 4  # ReduceLROnPlateau\n",
    "    # eps = 1e-6  # ReduceLROnPlateau\n",
    "    # T_max = 10  # CosineAnnealingLR\n",
    "    T_0 = (\n",
    "        len(train) // n_fold * (n_fold - 1) // batch_size // gradient_accumulation_steps * epochs + 5\n",
    "    )  # CosineAnnealingWarmRestarts\n",
    "    # first_cycle_steps = (\n",
    "    #     len(train) // n_fold * (n_fold - 1) // batch_size // gradient_accumulation_steps * epochs + 5\n",
    "    # )  # CosineAnnealingWarmupRestarts for batch update\n",
    "    # warmup_steps = first_cycle_steps // 10  # CosineAnnealingWarmupRestarts\n",
    "    # gamma = 0.8  # CosineAnnealingWarmupRestarts\n",
    "    lr = 1e-4\n",
    "    min_lr = 2e-6\n",
    "    weight_decay = 1e-6\n",
    "    max_grad_norm = 1000\n",
    "    seed = 4345\n",
    "    target_size = 5\n",
    "    target_col = \"label\"\n",
    "    train = True\n",
    "    inference = False\n",
    "\n",
    "\n",
    "if CFG.debug:\n",
    "    CFG.epochs = 1\n",
    "    train = train.sample(n=1000, random_state=CFG.seed).reset_index(drop=True)"
   ]
  },
  {
   "cell_type": "markdown",
   "metadata": {},
   "source": [
    "# Library"
   ]
  },
  {
   "cell_type": "code",
   "execution_count": 7,
   "metadata": {},
   "outputs": [],
   "source": [
    "# ====================================================\n",
    "# Library\n",
    "# ====================================================\n",
    "import sys\n",
    "\n",
    "sys.path.append(\"../input/pytorch-image-models/pytorch-image-models-master\")\n",
    "sys.path.append(\"../input/pytorchcosineannealingwithwarmup\")\n",
    "sys.path.append(\"../input/bitemperedlogloss/\")\n",
    "sys.path.append(\"../input/image-fmix/FMix-master\")\n",
    "\n",
    "import math\n",
    "import os\n",
    "import random\n",
    "import shutil\n",
    "import time\n",
    "import warnings\n",
    "from collections import Counter, defaultdict\n",
    "from contextlib import contextmanager\n",
    "from functools import partial\n",
    "from pathlib import Path\n",
    "\n",
    "import bi_tempered_loss_pytorch as btl\n",
    "import cv2\n",
    "import numpy as np\n",
    "import pandas as pd\n",
    "import scipy as sp\n",
    "import timm\n",
    "import torch\n",
    "import torch.nn as nn\n",
    "import torch.nn.functional as F\n",
    "import torchvision.models as models\n",
    "from albumentations import (\n",
    "    CenterCrop,\n",
    "    CoarseDropout,\n",
    "    Compose,\n",
    "    Cutout,\n",
    "    HorizontalFlip,\n",
    "    HueSaturationValue,\n",
    "    IAAAdditiveGaussianNoise,\n",
    "    ImageOnlyTransform,\n",
    "    Normalize,\n",
    "    OneOf,\n",
    "    RandomBrightness,\n",
    "    RandomBrightnessContrast,\n",
    "    RandomContrast,\n",
    "    RandomCrop,\n",
    "    RandomResizedCrop,\n",
    "    Resize,\n",
    "    Rotate,\n",
    "    ShiftScaleRotate,\n",
    "    Transpose,\n",
    "    VerticalFlip,\n",
    ")\n",
    "from albumentations.pytorch import ToTensorV2\n",
    "from cosine_annearing_with_warmup import CosineAnnealingWarmupRestarts\n",
    "from fmix import sample_mask\n",
    "from PIL import Image\n",
    "from sklearn import preprocessing\n",
    "from sklearn.metrics import accuracy_score\n",
    "from sklearn.model_selection import StratifiedKFold\n",
    "from torch.nn.parameter import Parameter\n",
    "from torch.optim import SGD, Adam\n",
    "from torch.optim.lr_scheduler import CosineAnnealingLR, CosineAnnealingWarmRestarts, ReduceLROnPlateau\n",
    "from torch.utils.data import DataLoader, Dataset\n",
    "from tqdm.auto import tqdm\n",
    "\n",
    "warnings.filterwarnings(\"ignore\")\n",
    "\n",
    "if CFG.apex:\n",
    "    from apex import amp\n",
    "\n",
    "device = torch.device(\"cuda\" if torch.cuda.is_available() else \"cpu\")"
   ]
  },
  {
   "cell_type": "markdown",
   "metadata": {},
   "source": [
    "# Utils"
   ]
  },
  {
   "cell_type": "code",
   "execution_count": 8,
   "metadata": {},
   "outputs": [],
   "source": [
    "# ====================================================\n",
    "# Utils\n",
    "# ====================================================\n",
    "def get_score(y_true, y_pred):\n",
    "    return accuracy_score(y_true, y_pred)\n",
    "\n",
    "\n",
    "@contextmanager\n",
    "def timer(name):\n",
    "    t0 = time.time()\n",
    "    LOGGER.info(f\"[{name}] start\")\n",
    "    yield\n",
    "    LOGGER.info(f\"[{name}] done in {time.time() - t0:.0f} s.\")\n",
    "\n",
    "\n",
    "def init_logger(log_file=OUTPUT_DIR + \"train.log\"):\n",
    "    from logging import INFO, FileHandler, Formatter, StreamHandler, getLogger\n",
    "\n",
    "    logger = getLogger(__name__)\n",
    "    logger.setLevel(INFO)\n",
    "    handler1 = StreamHandler()\n",
    "    handler1.setFormatter(Formatter(\"%(message)s\"))\n",
    "    handler2 = FileHandler(filename=log_file)\n",
    "    handler2.setFormatter(Formatter(\"%(message)s\"))\n",
    "    logger.addHandler(handler1)\n",
    "    logger.addHandler(handler2)\n",
    "    return logger\n",
    "\n",
    "\n",
    "LOGGER = init_logger()\n",
    "\n",
    "\n",
    "def seed_torch(seed=42):\n",
    "    random.seed(seed)\n",
    "    os.environ[\"PYTHONHASHSEED\"] = str(seed)\n",
    "    np.random.seed(seed)\n",
    "    torch.manual_seed(seed)\n",
    "    torch.cuda.manual_seed(seed)\n",
    "    torch.backends.cudnn.deterministic = True\n",
    "\n",
    "\n",
    "seed_torch(seed=CFG.seed)"
   ]
  },
  {
   "cell_type": "markdown",
   "metadata": {},
   "source": [
    "# CV split"
   ]
  },
  {
   "cell_type": "code",
   "execution_count": 9,
   "metadata": {},
   "outputs": [
    {
     "name": "stdout",
     "output_type": "stream",
     "text": [
      "fold  label\n",
      "0     0         279\n",
      "      1         671\n",
      "      2         590\n",
      "      3        3153\n",
      "      4         575\n",
      "1     0         278\n",
      "      1         671\n",
      "      2         590\n",
      "      3        3154\n",
      "      4         575\n",
      "2     0         278\n",
      "      1         672\n",
      "      2         589\n",
      "      3        3153\n",
      "      4         575\n",
      "3     0         278\n",
      "      1         672\n",
      "      2         589\n",
      "      3        3153\n",
      "      4         575\n",
      "4     0         278\n",
      "      1         672\n",
      "      2         589\n",
      "      3        3153\n",
      "      4         575\n",
      "dtype: int64\n"
     ]
    }
   ],
   "source": [
    "folds = train.copy()\n",
    "Fold = StratifiedKFold(n_splits=CFG.n_fold, shuffle=True, random_state=CFG.seed)\n",
    "for n, (train_index, val_index) in enumerate(Fold.split(folds, folds[CFG.target_col])):\n",
    "    folds.loc[val_index, \"fold\"] = int(n)\n",
    "folds[\"fold\"] = folds[\"fold\"].astype(int)\n",
    "print(folds.groupby([\"fold\", CFG.target_col]).size())"
   ]
  },
  {
   "cell_type": "markdown",
   "metadata": {},
   "source": [
    "# Dataset"
   ]
  },
  {
   "cell_type": "code",
   "execution_count": 10,
   "metadata": {},
   "outputs": [],
   "source": [
    "# ====================================================\n",
    "# Dataset\n",
    "# ====================================================\n",
    "class TrainDataset(Dataset):\n",
    "    def __init__(self, df, transform=None):\n",
    "        self.df = df\n",
    "        self.file_names = df[\"image_id\"].values\n",
    "        self.labels = df[[0, 1, 2, 3, 4]].values\n",
    "        self.transform = transform\n",
    "\n",
    "    def __len__(self):\n",
    "        return len(self.df)\n",
    "\n",
    "    def __getitem__(self, idx):\n",
    "        file_name = self.file_names[idx]\n",
    "        file_path = f\"{TRAIN_PATH}/{file_name}\"\n",
    "        image = cv2.imread(file_path)\n",
    "        image = cv2.cvtColor(image, cv2.COLOR_BGR2RGB)\n",
    "        if self.transform:\n",
    "            augmented = self.transform(image=image)\n",
    "            image = augmented[\"image\"]\n",
    "        label = torch.tensor(self.labels[idx]).float()\n",
    "        return image, label\n",
    "\n",
    "\n",
    "class TestDataset(Dataset):\n",
    "    def __init__(self, df, transform=None):\n",
    "        self.df = df\n",
    "        self.file_names = df[\"image_id\"].values\n",
    "        self.transform = transform\n",
    "\n",
    "    def __len__(self):\n",
    "        return len(self.df)\n",
    "\n",
    "    def __getitem__(self, idx):\n",
    "        file_name = self.file_names[idx]\n",
    "        file_path = f\"{TEST_PATH}/{file_name}\"\n",
    "        image = cv2.imread(file_path)\n",
    "        image = cv2.cvtColor(image, cv2.COLOR_BGR2RGB)\n",
    "        if self.transform:\n",
    "            augmented = self.transform(image=image)\n",
    "            image = augmented[\"image\"]\n",
    "        return image"
   ]
  },
  {
   "cell_type": "code",
   "execution_count": 11,
   "metadata": {},
   "outputs": [
    {
     "data": {
      "image/png": "[encoded data removed]",
      "text/plain": [
       "<Figure size 432x288 with 1 Axes>"
      ]
     },
     "metadata": {
      "needs_background": "light"
     },
     "output_type": "display_data"
    }
   ],
   "source": [
    "train_dataset = TrainDataset(train, transform=None)\n",
    "\n",
    "for i in range(1):\n",
    "    image, label = train_dataset[i]\n",
    "    plt.imshow(image)\n",
    "    plt.title(f\"label: {label}\")\n",
    "    plt.show()"
   ]
  },
  {
   "cell_type": "markdown",
   "metadata": {},
   "source": [
    "# Transforms"
   ]
  },
  {
   "cell_type": "code",
   "execution_count": 12,
   "metadata": {},
   "outputs": [],
   "source": [
    "# ====================================================\n",
    "# Transforms\n",
    "# ====================================================\n",
    "def get_transforms(*, data):\n",
    "\n",
    "    if data == \"train\":\n",
    "        return Compose(\n",
    "            [\n",
    "                # Resize(CFG.size, CFG.size),\n",
    "                RandomResizedCrop(CFG.size, CFG.size),\n",
    "                Transpose(p=0.5),\n",
    "                HorizontalFlip(p=0.5),\n",
    "                VerticalFlip(p=0.5),\n",
    "                ShiftScaleRotate(p=0.5),\n",
    "                HueSaturationValue(hue_shift_limit=0.2, sat_shift_limit=0.2, val_shift_limit=0.2, p=0.5),\n",
    "                RandomBrightnessContrast(brightness_limit=(-0.1, 0.1), contrast_limit=(-0.1, 0.1), p=0.5),\n",
    "                CoarseDropout(p=0.5),\n",
    "                Cutout(p=0.5),\n",
    "                Normalize(\n",
    "                    mean=[0.485, 0.456, 0.406],\n",
    "                    std=[0.229, 0.224, 0.225],\n",
    "                ),\n",
    "                ToTensorV2(),\n",
    "            ]\n",
    "        )\n",
    "\n",
    "    elif data == \"valid\":\n",
    "        return Compose(\n",
    "            [\n",
    "                Resize(CFG.size, CFG.size),\n",
    "                CenterCrop(CFG.size, CFG.size),\n",
    "                Normalize(\n",
    "                    mean=[0.485, 0.456, 0.406],\n",
    "                    std=[0.229, 0.224, 0.225],\n",
    "                ),\n",
    "                ToTensorV2(),\n",
    "            ]\n",
    "        )"
   ]
  },
  {
   "cell_type": "code",
   "execution_count": 13,
   "metadata": {},
   "outputs": [
    {
     "data": {
      "image/png": "[encoded data removed]",
      "text/plain": [
       "<Figure size 432x288 with 1 Axes>"
      ]
     },
     "metadata": {
      "needs_background": "light"
     },
     "output_type": "display_data"
    }
   ],
   "source": [
    "train_dataset = TrainDataset(train, transform=get_transforms(data=\"train\"))\n",
    "\n",
    "for i in range(1):\n",
    "    image, label = train_dataset[i]\n",
    "    plt.imshow(image[0])\n",
    "    plt.title(f\"label: {label}\")\n",
    "    plt.show()"
   ]
  },
  {
   "cell_type": "markdown",
   "metadata": {},
   "source": [
    "# CutMix / FMix\n"
   ]
  },
  {
   "cell_type": "code",
   "execution_count": 14,
   "metadata": {},
   "outputs": [],
   "source": [
    "def rand_bbox(size, lam):\n",
    "    W = size[2]\n",
    "    H = size[3]\n",
    "    cut_rat = np.sqrt(1.0 - lam)\n",
    "    cut_w = np.int(W * cut_rat)\n",
    "    cut_h = np.int(H * cut_rat)\n",
    "\n",
    "    # uniform\n",
    "    cx = np.random.randint(W)\n",
    "    cy = np.random.randint(H)\n",
    "\n",
    "    bbx1 = np.clip(cx - cut_w // 2, 0, W)\n",
    "    bby1 = np.clip(cy - cut_h // 2, 0, H)\n",
    "    bbx2 = np.clip(cx + cut_w // 2, 0, W)\n",
    "    bby2 = np.clip(cy + cut_h // 2, 0, H)\n",
    "    return bbx1, bby1, bbx2, bby2\n",
    "\n",
    "\n",
    "def cutmix(data, target, alpha):\n",
    "    indices = torch.randperm(data.size(0))\n",
    "    shuffled_data = data[indices]\n",
    "    shuffled_target = target[indices]\n",
    "\n",
    "    lam = np.clip(np.random.beta(alpha, alpha), 0.3, 0.4)\n",
    "    bbx1, bby1, bbx2, bby2 = rand_bbox(data.size(), lam)\n",
    "    new_data = data.clone()\n",
    "    new_data[:, :, bby1:bby2, bbx1:bbx2] = data[indices, :, bby1:bby2, bbx1:bbx2]\n",
    "    # adjust lambda to exactly match pixel ratio\n",
    "    lam = 1 - ((bbx2 - bbx1) * (bby2 - bby1) / (data.size()[-1] * data.size()[-2]))\n",
    "    targets = (target, shuffled_target, lam)\n",
    "\n",
    "    return new_data, targets\n",
    "\n",
    "\n",
    "def fmix(data, targets, alpha, decay_power, shape, max_soft=0.0, reformulate=False):\n",
    "    lam, mask = sample_mask(alpha, decay_power, shape, max_soft, reformulate)\n",
    "    if CFG.apex:\n",
    "        # mask = torch.tensor(mask, device=device).float()\n",
    "        mask = mask.astype(np.float32)\n",
    "    indices = torch.randperm(data.size(0))\n",
    "    shuffled_data = data[indices]\n",
    "    shuffled_targets = targets[indices]\n",
    "    x1 = torch.from_numpy(mask).to(device) * data\n",
    "    x2 = torch.from_numpy(1 - mask).to(device) * shuffled_data\n",
    "    targets = (targets, shuffled_targets, lam)\n",
    "\n",
    "    return (x1 + x2), targets"
   ]
  },
  {
   "cell_type": "markdown",
   "metadata": {},
   "source": [
    "# MixUp"
   ]
  },
  {
   "cell_type": "code",
   "execution_count": 15,
   "metadata": {},
   "outputs": [],
   "source": [
    "# https://github.com/yuhao318/mwh/blob/e9e2da8fc6/utils.py\n",
    "def mixup(x, y, alpha=1.0, use_cuda=True):\n",
    "\n",
    "    \"\"\"Compute the mixup data. Return mixed inputs, pairs of targets, and lambda\"\"\"\n",
    "    if alpha > 0.0:\n",
    "        lam = np.random.beta(alpha, alpha)\n",
    "        lam = max(lam, 1 - lam)\n",
    "        # lam = min(lam, 1-lam)\n",
    "    else:\n",
    "        lam = 1.0\n",
    "    batch_size = x.size()[0]\n",
    "    if use_cuda:\n",
    "        index = torch.randperm(batch_size).cuda()\n",
    "    else:\n",
    "        index = torch.randperm(batch_size)\n",
    "\n",
    "    ## SYM\n",
    "    # mixed_x = lam * x + (1 - lam) * x[index,:]\n",
    "    # mixed_y = (1 - lam) * x + lam * x[index,:]\n",
    "    # mixed_image  = torch.cat([mixed_x,mixed_y], 0)\n",
    "    # y_a, y_b = y, y[index]\n",
    "    # mixed_label  = torch.cat([y_a,y_b], 0)\n",
    "\n",
    "    ## Reduce batch size\n",
    "    # new_batch_size = batch_size // 2\n",
    "    # x_i = x[ : new_batch_size]\n",
    "    # x_j = x[new_batch_size : ]\n",
    "    # y_a = y[ : new_batch_size]\n",
    "    # y_b = y[new_batch_size : ]\n",
    "    # mixed_x = lam * x_i + (1 - lam) * x_j\n",
    "\n",
    "    ## NO SYM\n",
    "    mixed_x = lam * x + (1 - lam) * x[index, :]\n",
    "    y_a, y_b = y, y[index]\n",
    "\n",
    "    ## Only Alpha\n",
    "    # mixed_x = 0.5 * x + (1 - 0.5) * x[index,:]\n",
    "    # mixed_image  = mixed_x\n",
    "    # y_a, y_b = y, y[index]\n",
    "    # ind_label = torch.randint_like(y, 0,2)\n",
    "    # mixed_label  = ind_label * y_a + (1-ind_label) * y_b\n",
    "\n",
    "    ## Reduce batch size and SYM\n",
    "    # new_batch_size = batch_size // 2\n",
    "    # x_i = x[ : new_batch_size]\n",
    "    # x_j = x[new_batch_size : ]\n",
    "    # y_a = y[ : new_batch_size]\n",
    "    # y_b = y[new_batch_size : ]\n",
    "    # mixed_x = lam * x_i + (1 - lam) * x_j\n",
    "    # mixed_y = (1 - lam) * x_i + lam * x_j\n",
    "    # mixed_x  = torch.cat([mixed_x,mixed_y], 0)\n",
    "    # y_b = torch.cat([y_b,y_a], 0)\n",
    "    # y_a = y\n",
    "\n",
    "    # return mixed_image, mixed_label, lam\n",
    "    return mixed_x, (y_a, y_b, lam)"
   ]
  },
  {
   "cell_type": "markdown",
   "metadata": {},
   "source": [
    "# MODEL"
   ]
  },
  {
   "cell_type": "code",
   "execution_count": 16,
   "metadata": {},
   "outputs": [],
   "source": [
    "# ====================================================\n",
    "# MODEL\n",
    "# ====================================================\n",
    "class CassvaImgClassifier(nn.Module):\n",
    "    def __init__(self, model_name=\"resnext50_32x4d\", pretrained=False):\n",
    "        super().__init__()\n",
    "        self.model_name = model_name\n",
    "\n",
    "        if model_name.startswith(\"deit_\"):\n",
    "            self.model = torch.hub.load(\"facebookresearch/deit:main\", model_name, pretrained=True)\n",
    "\n",
    "            if model_name == \"deit_base_patch16_384\":\n",
    "                n_features = self.model.head.in_features\n",
    "                self.model.head = nn.Linear(n_features, CFG.target_size)\n",
    "\n",
    "        else:\n",
    "            self.model = timm.create_model(model_name, pretrained=pretrained)\n",
    "\n",
    "            if \"resnext50_32x4d\" in model_name:\n",
    "                n_features = self.model.fc.in_features\n",
    "                self.model.fc = nn.Linear(n_features, CFG.target_size)\n",
    "\n",
    "            elif model_name.startswith(\"tf_efficientnet\"):\n",
    "                n_features = self.model.classifier.in_features\n",
    "                self.model.classifier = nn.Linear(n_features, CFG.target_size)\n",
    "\n",
    "            elif model_name.startswith(\"vit_\"):\n",
    "                n_features = self.model.head.in_features\n",
    "                self.model.head = nn.Linear(n_features, CFG.target_size)\n",
    "\n",
    "    def forward(self, x):\n",
    "        x = self.model(x)\n",
    "        return x"
   ]
  },
  {
   "cell_type": "code",
   "execution_count": 17,
   "metadata": {},
   "outputs": [],
   "source": [
    "def freeze_batch_normalization(model):\n",
    "    if CFG.model_name.startswith(\"tf_efficientnet_\"):\n",
    "        for name1, child1 in model.named_children():\n",
    "            for name2, child2 in child1.named_children():\n",
    "                # print(f\"===== {name2} =====\")\n",
    "                if name2.startswith(\"bn\"):\n",
    "                    for param in child2.parameters():\n",
    "                        param.requires_grad = False\n",
    "                        # print(param.requires_grad)\n",
    "\n",
    "                for child3 in child2.children():\n",
    "                    if isinstance(child3, nn.modules.container.Sequential):\n",
    "                        for child4 in child3.children():\n",
    "                            for child5 in child4.children():\n",
    "                                if isinstance(child5, nn.BatchNorm2d):\n",
    "                                    # print(child5)\n",
    "                                    for param in child5.parameters():\n",
    "                                        param.requires_grad = False\n",
    "                                        # print(param.requires_grad)\n",
    "\n",
    "    if CFG.model_name.startswith(\"vit_\"):\n",
    "        try:\n",
    "            for m in model.modules():\n",
    "                if isinstance(m, nn.BatchNorm2d) or isinstance(m, nn.LayerNorm):\n",
    "                    m.eval()\n",
    "        except ValuError:\n",
    "            print(\"error with batchnorm2d or layernorm\")\n",
    "            return"
   ]
  },
  {
   "cell_type": "code",
   "execution_count": 18,
   "metadata": {},
   "outputs": [
    {
     "name": "stdout",
     "output_type": "stream",
     "text": [
      "tensor([[-0.1136, -0.0275, -0.0638, -0.0219,  0.0110],\n",
      "        [-0.0199,  0.0141, -0.1306, -0.1365,  0.0059],\n",
      "        [-0.0290,  0.0125, -0.1253, -0.1239,  0.0049],\n",
      "        [-0.4218, -0.4824,  0.2077,  0.5835, -0.0065]],\n",
      "       grad_fn=<AddmmBackward>)\n"
     ]
    }
   ],
   "source": [
    "model = CassvaImgClassifier(model_name=CFG.model_name, pretrained=False)\n",
    "freeze_batch_normalization(model)\n",
    "# print(model)\n",
    "\n",
    "train_dataset = TrainDataset(train, transform=get_transforms(data=\"train\"))\n",
    "train_loader = DataLoader(train_dataset, batch_size=4, shuffle=True, num_workers=4, pin_memory=True, drop_last=True)\n",
    "\n",
    "for image, label in train_loader:\n",
    "    output = model(image)\n",
    "    print(output)\n",
    "    break"
   ]
  },
  {
   "cell_type": "markdown",
   "metadata": {},
   "source": [
    "# Loss functions"
   ]
  },
  {
   "cell_type": "code",
   "execution_count": 19,
   "metadata": {},
   "outputs": [],
   "source": [
    "class BiTemperedLogisticLoss(nn.Module):\n",
    "    def __init__(self, t1, t2, smoothing=0.0):\n",
    "        super(BiTemperedLogisticLoss, self).__init__()\n",
    "        self.t1 = t1\n",
    "        self.t2 = t2\n",
    "        self.smoothing = smoothing\n",
    "\n",
    "    def forward(self, logit_label, truth_label):\n",
    "        loss_label = btl.bi_tempered_logistic_loss(\n",
    "            logit_label, truth_label, t1=self.t1, t2=self.t2, label_smoothing=self.smoothing, reduction=\"none\"\n",
    "        )\n",
    "\n",
    "        loss_label = loss_label.mean()\n",
    "        return loss_label"
   ]
  },
  {
   "cell_type": "markdown",
   "metadata": {},
   "source": [
    "# Helper functions"
   ]
  },
  {
   "cell_type": "code",
   "execution_count": 20,
   "metadata": {},
   "outputs": [],
   "source": [
    "# ====================================================\n",
    "# Helper functions\n",
    "# ====================================================\n",
    "class AverageMeter(object):\n",
    "    \"\"\"Computes and stores the average and current value\"\"\"\n",
    "\n",
    "    def __init__(self):\n",
    "        self.reset()\n",
    "\n",
    "    def reset(self):\n",
    "        self.val = 0\n",
    "        self.avg = 0\n",
    "        self.sum = 0\n",
    "        self.count = 0\n",
    "\n",
    "    def update(self, val, n=1):\n",
    "        self.val = val\n",
    "        self.sum += val * n\n",
    "        self.count += n\n",
    "        self.avg = self.sum / self.count\n",
    "\n",
    "\n",
    "def asMinutes(s):\n",
    "    m = math.floor(s / 60)\n",
    "    s -= m * 60\n",
    "    return \"%dm %ds\" % (m, s)\n",
    "\n",
    "\n",
    "def timeSince(since, percent):\n",
    "    now = time.time()\n",
    "    s = now - since\n",
    "    es = s / (percent)\n",
    "    rs = es - s\n",
    "    return \"%s (remain %s)\" % (asMinutes(s), asMinutes(rs))\n",
    "\n",
    "\n",
    "def train_fn(train_loader, model, criterion, optimizer, epoch, scheduler, device, scheduler_batch_update=True):\n",
    "    batch_time = AverageMeter()\n",
    "    data_time = AverageMeter()\n",
    "    losses = AverageMeter()\n",
    "    scores = AverageMeter()\n",
    "    # switch to train mode\n",
    "    model.train()\n",
    "    start = end = time.time()\n",
    "    global_step = 0\n",
    "    for step, (images, labels) in enumerate(train_loader):\n",
    "        # measure data loading time\n",
    "        data_time.update(time.time() - end)\n",
    "        images = images.to(device)\n",
    "        labels = labels.to(device)\n",
    "        batch_size = labels.shape[0]\n",
    "\n",
    "        # CutMix, FMix\n",
    "        if epoch <= 1 or epoch >= CFG.epochs - 1:\n",
    "            mix_decision = 0.75  # Disable CutMix, FMix for final epoch\n",
    "        else:\n",
    "            mix_decision = np.random.rand()\n",
    "\n",
    "        if epoch >= CFG.epochs - 4:\n",
    "            mix_decision *= 2  # Reduce probability\n",
    "\n",
    "        if mix_decision < 0.25:\n",
    "            images, labels = cutmix(images, labels, 1.0)\n",
    "        elif mix_decision >= 0.25 and mix_decision < 0.5:\n",
    "            images, labels = fmix(images, labels, alpha=1.0, decay_power=5.0, shape=(CFG.size, CFG.size))\n",
    "        elif mix_decision >= 0.5 and mix_decision < 0.75:\n",
    "            images, labels = mixup(images, labels, alpha=0.5)\n",
    "\n",
    "        y_preds = model(images.float())\n",
    "\n",
    "        if mix_decision < 0.75:\n",
    "            loss = criterion(y_preds, labels[0]) * labels[2] + criterion(y_preds, labels[1]) * (1.0 - labels[2])\n",
    "        else:\n",
    "            loss = criterion(y_preds, labels)\n",
    "\n",
    "        # record loss\n",
    "        losses.update(loss.item(), batch_size)\n",
    "        if CFG.gradient_accumulation_steps > 1:\n",
    "            loss = loss / CFG.gradient_accumulation_steps\n",
    "        if CFG.apex:\n",
    "            with amp.scale_loss(loss, optimizer) as scaled_loss:\n",
    "                scaled_loss.backward()\n",
    "        else:\n",
    "            loss.backward()\n",
    "        grad_norm = torch.nn.utils.clip_grad_norm_(model.parameters(), CFG.max_grad_norm)\n",
    "        if (step + 1) % CFG.gradient_accumulation_steps == 0:\n",
    "            optimizer.step()\n",
    "            optimizer.zero_grad()\n",
    "\n",
    "            if CFG.scheduler_batch_update:\n",
    "                scheduler.step()\n",
    "\n",
    "            global_step += 1\n",
    "        # measure elapsed time\n",
    "        batch_time.update(time.time() - end)\n",
    "        end = time.time()\n",
    "        if step % CFG.print_freq == 0 or step == (len(train_loader) - 1):\n",
    "            print(\n",
    "                \"Epoch: [{0}][{1}/{2}] \"\n",
    "                # \"Data {data_time.val:.3f} ({data_time.avg:.3f}) \"\n",
    "                # \"Batch {batch_time.val:.3f} ({batch_time.avg:.3f}) \"\n",
    "                \"Elapsed {remain:s} \"\n",
    "                \"Loss: {loss.val:.4f}({loss.avg:.4f}) \"\n",
    "                \"Grad: {grad_norm:.4f} \"\n",
    "                \"LR: {lr:.6f}  \".format(\n",
    "                    epoch + 1,\n",
    "                    step,\n",
    "                    len(train_loader),\n",
    "                    # batch_time=batch_time,\n",
    "                    # data_time=data_time,\n",
    "                    loss=losses,\n",
    "                    remain=timeSince(start, float(step + 1) / len(train_loader)),\n",
    "                    grad_norm=grad_norm,\n",
    "                    lr=scheduler.get_lr()[0],\n",
    "                )\n",
    "            )\n",
    "    return losses.avg\n",
    "\n",
    "\n",
    "def valid_fn(valid_loader, model, criterion, device):\n",
    "    batch_time = AverageMeter()\n",
    "    data_time = AverageMeter()\n",
    "    losses = AverageMeter()\n",
    "    scores = AverageMeter()\n",
    "    # switch to evaluation mode\n",
    "    model.eval()\n",
    "    preds = []\n",
    "    start = end = time.time()\n",
    "    for step, (images, labels) in enumerate(valid_loader):\n",
    "        # measure data loading time\n",
    "        data_time.update(time.time() - end)\n",
    "        images = images.to(device)\n",
    "        labels = labels.to(device)\n",
    "        batch_size = labels.shape[0]\n",
    "        # compute loss\n",
    "        with torch.no_grad():\n",
    "            y_preds = model(images)\n",
    "        loss = criterion(y_preds, labels)\n",
    "        losses.update(loss.item(), batch_size)\n",
    "        # record accuracy\n",
    "        preds.append(y_preds.softmax(1).to(\"cpu\").numpy())\n",
    "        if CFG.gradient_accumulation_steps > 1:\n",
    "            loss = loss / CFG.gradient_accumulation_steps\n",
    "        # measure elapsed time\n",
    "        batch_time.update(time.time() - end)\n",
    "        end = time.time()\n",
    "        if step % CFG.print_freq == 0 or step == (len(valid_loader) - 1):\n",
    "            print(\n",
    "                \"EVAL: [{0}/{1}] \"\n",
    "                # \"Data {data_time.val:.3f} ({data_time.avg:.3f}) \"\n",
    "                # \"Batch {batch_time.val:.3f} ({batch_time.avg:.3f}) \"\n",
    "                \"Elapsed {remain:s} \"\n",
    "                \"Loss: {loss.val:.4f}({loss.avg:.4f}) \".format(\n",
    "                    step,\n",
    "                    len(valid_loader),\n",
    "                    # batch_time=batch_time,\n",
    "                    # data_time=data_time,\n",
    "                    loss=losses,\n",
    "                    remain=timeSince(start, float(step + 1) / len(valid_loader)),\n",
    "                )\n",
    "            )\n",
    "    predictions = np.concatenate(preds)\n",
    "    return losses.avg, predictions\n",
    "\n",
    "\n",
    "def inference(model, states, test_loader, device):\n",
    "    model.to(device)\n",
    "    tk0 = tqdm(enumerate(test_loader), total=len(test_loader))\n",
    "    probs = []\n",
    "    for i, (images) in tk0:\n",
    "        images = images.to(device)\n",
    "        avg_preds = []\n",
    "        for state in states:\n",
    "            model.load_state_dict(state[\"model\"])\n",
    "            model.eval()\n",
    "            with torch.no_grad():\n",
    "                y_preds = model(images)\n",
    "            avg_preds.append(y_preds.softmax(1).to(\"cpu\").numpy())\n",
    "        avg_preds = np.mean(avg_preds, axis=0)\n",
    "        probs.append(avg_preds)\n",
    "    probs = np.concatenate(probs)\n",
    "    return probs"
   ]
  },
  {
   "cell_type": "markdown",
   "metadata": {},
   "source": [
    "# Train loop"
   ]
  },
  {
   "cell_type": "code",
   "execution_count": 21,
   "metadata": {
    "_cell_guid": "b1076dfc-b9ad-4769-8c92-a6c4dae69d19",
    "_uuid": "8f2839f25d086af736a60e9eeb907d3b93b6e0e5"
   },
   "outputs": [],
   "source": [
    "# ====================================================\n",
    "# Train loop\n",
    "# ====================================================\n",
    "def train_loop(folds, fold):\n",
    "\n",
    "    LOGGER.info(f\"========== fold: {fold} training ==========\")\n",
    "\n",
    "    # ====================================================\n",
    "    # loader\n",
    "    # ====================================================\n",
    "    trn_idx = folds[folds[\"fold\"] != fold].index\n",
    "    val_idx = folds[folds[\"fold\"] == fold].index\n",
    "\n",
    "    train_folds = folds.loc[trn_idx].reset_index(drop=True)\n",
    "    valid_folds = folds.loc[val_idx].reset_index(drop=True)\n",
    "\n",
    "    train_dataset = TrainDataset(train_folds, transform=get_transforms(data=\"train\"))\n",
    "    train_dataset_no_aug = TrainDataset(train_folds, transform=get_transforms(data=\"valid\"))\n",
    "    valid_dataset = TrainDataset(valid_folds, transform=get_transforms(data=\"valid\"))\n",
    "\n",
    "    train_loader = DataLoader(\n",
    "        train_dataset,\n",
    "        batch_size=CFG.batch_size,\n",
    "        shuffle=True,\n",
    "        num_workers=CFG.num_workers,\n",
    "        pin_memory=True,\n",
    "        drop_last=True,\n",
    "    )\n",
    "    train_loader_no_aug = DataLoader(\n",
    "        train_dataset_no_aug,\n",
    "        batch_size=CFG.batch_size,\n",
    "        shuffle=True,\n",
    "        num_workers=CFG.num_workers,\n",
    "        pin_memory=True,\n",
    "        drop_last=True,\n",
    "    )\n",
    "    valid_loader = DataLoader(\n",
    "        valid_dataset,\n",
    "        batch_size=CFG.batch_size,\n",
    "        shuffle=False,\n",
    "        num_workers=CFG.num_workers,\n",
    "        pin_memory=True,\n",
    "        drop_last=False,\n",
    "    )\n",
    "\n",
    "    # ====================================================\n",
    "    # scheduler\n",
    "    # ====================================================\n",
    "    def get_scheduler(optimizer):\n",
    "        if CFG.scheduler == \"ReduceLROnPlateau\":\n",
    "            scheduler = ReduceLROnPlateau(\n",
    "                optimizer, mode=\"min\", factor=CFG.factor, patience=CFG.patience, verbose=True, eps=CFG.eps\n",
    "            )\n",
    "        elif CFG.scheduler == \"CosineAnnealingLR\":\n",
    "            scheduler = CosineAnnealingLR(optimizer, T_max=CFG.T_max, eta_min=CFG.min_lr, last_epoch=-1)\n",
    "        elif CFG.scheduler == \"CosineAnnealingWarmRestarts\":\n",
    "            scheduler = CosineAnnealingWarmRestarts(optimizer, T_0=CFG.T_0, T_mult=1, eta_min=CFG.min_lr, last_epoch=-1)\n",
    "        elif CFG.scheduler == \"CosineAnnealingWarmupRestarts\":\n",
    "            scheduler = CosineAnnealingWarmupRestarts(\n",
    "                optimizer,\n",
    "                first_cycle_steps=CFG.first_cycle_steps,\n",
    "                cycle_mult=1.0,\n",
    "                max_lr=CFG.lr,\n",
    "                min_lr=CFG.min_lr,\n",
    "                warmup_steps=CFG.warmup_steps,\n",
    "                gamma=CFG.gamma,\n",
    "            )\n",
    "        return scheduler\n",
    "\n",
    "    # ====================================================\n",
    "    # model & optimizer\n",
    "    # ====================================================\n",
    "    model = CassvaImgClassifier(CFG.model_name, pretrained=True)\n",
    "    freeze_batch_normalization(model)\n",
    "\n",
    "    model.to(device)\n",
    "\n",
    "    # Use multi GPU\n",
    "    if device == torch.device(\"cuda\") and not CFG.apex:\n",
    "        model = torch.nn.DataParallel(model)  # make parallel\n",
    "        # torch.backends.cudnn.benchmark=True\n",
    "\n",
    "    optimizer = Adam(model.parameters(), lr=CFG.lr, weight_decay=CFG.weight_decay, amsgrad=False)\n",
    "    scheduler = get_scheduler(optimizer)\n",
    "\n",
    "    # ====================================================\n",
    "    # apex\n",
    "    # ====================================================\n",
    "    if CFG.apex:\n",
    "        model, optimizer = amp.initialize(model, optimizer, opt_level=\"O1\", verbosity=0)\n",
    "\n",
    "    # ====================================================\n",
    "    # Criterion\n",
    "    # ====================================================\n",
    "    def get_criterion():\n",
    "        if CFG.criterion == \"CrossEntropyLoss\":\n",
    "            criterion = nn.CrossEntropyLoss()\n",
    "        elif CFG.criterion == \"BiTemperedLoss\":\n",
    "            criterion = BiTemperedLogisticLoss(t1=CFG.btl_t1, t2=CFG.btl_t2, smoothing=CFG.label_smoothing)\n",
    "        return criterion\n",
    "\n",
    "    criterion = get_criterion()\n",
    "\n",
    "    # ====================================================\n",
    "    # loop\n",
    "    # ====================================================\n",
    "    best_score = 0.0\n",
    "    best_loss = np.inf\n",
    "\n",
    "    for epoch in range(CFG.epochs):\n",
    "\n",
    "        start_time = time.time()\n",
    "\n",
    "        # train\n",
    "        if epoch <= 1 or epoch >= CFG.epochs - 1:\n",
    "            avg_loss = train_fn(\n",
    "                train_loader_no_aug, model, criterion, optimizer, epoch, scheduler, device, CFG.scheduler_batch_update\n",
    "            )\n",
    "        else:\n",
    "            avg_loss = train_fn(\n",
    "                train_loader, model, criterion, optimizer, epoch, scheduler, device, CFG.scheduler_batch_update\n",
    "            )\n",
    "\n",
    "        # eval\n",
    "        avg_val_loss, preds = valid_fn(valid_loader, model, criterion, device)\n",
    "        valid_labels = valid_folds[CFG.target_col].values\n",
    "\n",
    "        if not CFG.scheduler_batch_update:\n",
    "            if isinstance(scheduler, ReduceLROnPlateau):\n",
    "                scheduler.step(avg_val_loss)\n",
    "            elif isinstance(scheduler, CosineAnnealingLR):\n",
    "                scheduler.step()\n",
    "            elif isinstance(scheduler, CosineAnnealingWarmRestarts):\n",
    "                scheduler.step()\n",
    "\n",
    "        # scoring\n",
    "        score = get_score(valid_labels, preds.argmax(1))\n",
    "\n",
    "        elapsed = time.time() - start_time\n",
    "\n",
    "        LOGGER.info(\n",
    "            f\"Epoch {epoch+1} - avg_train_loss: {avg_loss:.4f}  avg_val_loss: {avg_val_loss:.4f}  time: {elapsed:.0f}s\"\n",
    "        )\n",
    "        LOGGER.info(f\"Epoch {epoch+1} - Accuracy: {score}\")\n",
    "\n",
    "        if score > best_score:\n",
    "            best_score = score\n",
    "            LOGGER.info(f\"Epoch {epoch+1} - Save Best Score: {best_score:.4f} Model\")\n",
    "            torch.save(\n",
    "                {\"model\": model.state_dict(), \"preds\": preds}, OUTPUT_DIR + f\"{CFG.model_name}_fold{fold}_best.pth\"\n",
    "            )\n",
    "\n",
    "        if epoch == CFG.epochs - 1:\n",
    "            LOGGER.info(f\"Epoch {epoch+1} - Save final model\")\n",
    "            torch.save(\n",
    "                {\"model\": model.state_dict(), \"preds\": preds}, OUTPUT_DIR + f\"{CFG.model_name}_fold{fold}_final.pth\"\n",
    "            )\n",
    "\n",
    "    check_point = torch.load(OUTPUT_DIR + f\"{CFG.model_name}_fold{fold}_best.pth\")\n",
    "    valid_folds[[str(c) for c in range(5)]] = check_point[\"preds\"]\n",
    "    valid_folds[\"preds\"] = check_point[\"preds\"].argmax(1)\n",
    "\n",
    "    return valid_folds"
   ]
  },
  {
   "cell_type": "code",
   "execution_count": 22,
   "metadata": {},
   "outputs": [],
   "source": [
    "# ====================================================\n",
    "# main\n",
    "# ====================================================\n",
    "def main():\n",
    "\n",
    "    \"\"\"\n",
    "    Prepare: 1.train  2.test  3.submission  4.folds\n",
    "    \"\"\"\n",
    "\n",
    "    def get_result(result_df):\n",
    "        preds = result_df[\"preds\"].values\n",
    "        labels = result_df[CFG.target_col].values\n",
    "        score = get_score(labels, preds)\n",
    "        LOGGER.info(f\"Score: {score:<.5f}\")\n",
    "\n",
    "    if CFG.train:\n",
    "        # train\n",
    "        oof_df = pd.DataFrame()\n",
    "        for fold in range(CFG.n_fold):\n",
    "            if fold in CFG.trn_fold:\n",
    "                _oof_df = train_loop(folds, fold)\n",
    "                oof_df = pd.concat([oof_df, _oof_df])\n",
    "                LOGGER.info(f\"========== fold: {fold} result ==========\")\n",
    "                get_result(_oof_df)\n",
    "        # CV result\n",
    "        LOGGER.info(f\"========== CV ==========\")\n",
    "        get_result(oof_df)\n",
    "        # save result\n",
    "        oof_df.to_csv(OUTPUT_DIR + \"oof_df.csv\", index=False)\n",
    "\n",
    "    if CFG.inference:\n",
    "        # inference\n",
    "        model = CassvaImgClassifier(CFG.model_name, pretrained=False)\n",
    "        states = [torch.load(OUTPUT_DIR + f\"{CFG.model_name}_fold{fold}_best.pth\") for fold in CFG.trn_fold]\n",
    "        test_dataset = TestDataset(test, transform=get_transforms(data=\"valid\"))\n",
    "        test_loader = DataLoader(\n",
    "            test_dataset, batch_size=CFG.batch_size, shuffle=False, num_workers=CFG.num_workers, pin_memory=True\n",
    "        )\n",
    "        predictions = inference(model, states, test_loader, device)\n",
    "        # submission\n",
    "        test[\"label\"] = predictions.argmax(1)\n",
    "        test[[\"image_id\", \"label\"]].to_csv(OUTPUT_DIR + \"submission.csv\", index=False)"
   ]
  },
  {
   "cell_type": "code",
   "execution_count": 23,
   "metadata": {
    "_cell_guid": "79c7e3d0-c299-4dcb-8224-4455121ee9b0",
    "_uuid": "d629ff2d2480ee46fbb7e2d37f6b5fab8052498a"
   },
   "outputs": [
    {
     "name": "stderr",
     "output_type": "stream",
     "text": [
      "========== fold: 0 training ==========\n"
     ]
    },
    {
     "name": "stdout",
     "output_type": "stream",
     "text": [
      "Epoch: [1][0/1316] Elapsed 0m 2s (remain 49m 41s) Loss: 0.2054(0.2054) Grad: 0.2171 LR: 0.000100  \n",
      "Epoch: [1][100/1316] Elapsed 0m 34s (remain 6m 59s) Loss: 0.0640(0.1118) Grad: 0.1675 LR: 0.000100  \n",
      "Epoch: [1][200/1316] Elapsed 1m 7s (remain 6m 13s) Loss: 0.0119(0.0833) Grad: 0.0676 LR: 0.000100  \n",
      "Epoch: [1][300/1316] Elapsed 1m 39s (remain 5m 36s) Loss: 0.0408(0.0698) Grad: 0.1943 LR: 0.000100  \n",
      "Epoch: [1][400/1316] Elapsed 2m 12s (remain 5m 1s) Loss: 0.0243(0.0609) Grad: 0.1583 LR: 0.000100  \n",
      "Epoch: [1][500/1316] Elapsed 2m 44s (remain 4m 27s) Loss: 0.0275(0.0542) Grad: 0.1963 LR: 0.000100  \n",
      "Epoch: [1][600/1316] Elapsed 3m 17s (remain 3m 54s) Loss: 0.0142(0.0492) Grad: 0.1175 LR: 0.000099  \n",
      "Epoch: [1][700/1316] Elapsed 3m 49s (remain 3m 21s) Loss: 0.0315(0.0464) Grad: 0.1504 LR: 0.000099  \n",
      "Epoch: [1][800/1316] Elapsed 4m 21s (remain 2m 48s) Loss: 0.0094(0.0434) Grad: 0.1011 LR: 0.000099  \n",
      "Epoch: [1][900/1316] Elapsed 4m 54s (remain 2m 15s) Loss: 0.0161(0.0409) Grad: 0.1259 LR: 0.000099  \n",
      "Epoch: [1][1000/1316] Elapsed 5m 26s (remain 1m 42s) Loss: 0.0146(0.0388) Grad: 0.1340 LR: 0.000099  \n",
      "Epoch: [1][1100/1316] Elapsed 5m 58s (remain 1m 9s) Loss: 0.0052(0.0367) Grad: 0.0570 LR: 0.000098  \n",
      "Epoch: [1][1200/1316] Elapsed 6m 30s (remain 0m 37s) Loss: 0.0038(0.0353) Grad: 0.0468 LR: 0.000098  \n",
      "Epoch: [1][1300/1316] Elapsed 7m 2s (remain 0m 4s) Loss: 0.0037(0.0337) Grad: 0.0324 LR: 0.000098  \n",
      "Epoch: [1][1315/1316] Elapsed 7m 7s (remain 0m 0s) Loss: 0.0255(0.0335) Grad: 0.2209 LR: 0.000098  \n",
      "EVAL: [0/330] Elapsed 0m 1s (remain 5m 45s) Loss: 0.0092(0.0092) \n",
      "EVAL: [100/330] Elapsed 0m 17s (remain 0m 38s) Loss: 0.0063(0.0106) \n",
      "EVAL: [200/330] Elapsed 0m 34s (remain 0m 21s) Loss: 0.0103(0.0107) \n",
      "EVAL: [300/330] Elapsed 0m 52s (remain 0m 5s) Loss: 0.0095(0.0112) \n"
     ]
    },
    {
     "name": "stderr",
     "output_type": "stream",
     "text": [
      "Epoch 1 - avg_train_loss: 0.0335  avg_val_loss: 0.0115  time: 485s\n",
      "Epoch 1 - Accuracy: 0.9341305998481397\n",
      "Epoch 1 - Save Best Score: 0.9341 Model\n"
     ]
    },
    {
     "name": "stdout",
     "output_type": "stream",
     "text": [
      "EVAL: [329/330] Elapsed 0m 57s (remain 0m 0s) Loss: 0.0114(0.0115) \n",
      "Epoch: [2][0/1316] Elapsed 0m 1s (remain 23m 7s) Loss: 0.0090(0.0090) Grad: 0.0749 LR: 0.000098  \n",
      "Epoch: [2][100/1316] Elapsed 0m 32s (remain 6m 30s) Loss: 0.0119(0.0114) Grad: 0.1228 LR: 0.000097  \n",
      "Epoch: [2][200/1316] Elapsed 1m 3s (remain 5m 53s) Loss: 0.0174(0.0115) Grad: 0.1300 LR: 0.000097  \n",
      "Epoch: [2][300/1316] Elapsed 1m 34s (remain 5m 19s) Loss: 0.0210(0.0111) Grad: 0.1525 LR: 0.000096  \n",
      "Epoch: [2][400/1316] Elapsed 2m 6s (remain 4m 47s) Loss: 0.0060(0.0108) Grad: 0.0593 LR: 0.000096  \n",
      "Epoch: [2][500/1316] Elapsed 2m 37s (remain 4m 16s) Loss: 0.0081(0.0106) Grad: 0.1186 LR: 0.000095  \n",
      "Epoch: [2][600/1316] Elapsed 3m 8s (remain 3m 44s) Loss: 0.0067(0.0105) Grad: 0.0867 LR: 0.000095  \n",
      "Epoch: [2][700/1316] Elapsed 3m 39s (remain 3m 12s) Loss: 0.0044(0.0104) Grad: 0.0522 LR: 0.000094  \n",
      "Epoch: [2][800/1316] Elapsed 4m 11s (remain 2m 41s) Loss: 0.0060(0.0102) Grad: 0.0715 LR: 0.000094  \n",
      "Epoch: [2][900/1316] Elapsed 4m 42s (remain 2m 9s) Loss: 0.0091(0.0101) Grad: 0.1039 LR: 0.000093  \n",
      "Epoch: [2][1000/1316] Elapsed 5m 13s (remain 1m 38s) Loss: 0.0051(0.0100) Grad: 0.0689 LR: 0.000093  \n",
      "Epoch: [2][1100/1316] Elapsed 5m 44s (remain 1m 7s) Loss: 0.0019(0.0099) Grad: 0.0217 LR: 0.000092  \n",
      "Epoch: [2][1200/1316] Elapsed 6m 15s (remain 0m 35s) Loss: 0.0159(0.0099) Grad: 0.1420 LR: 0.000091  \n",
      "Epoch: [2][1300/1316] Elapsed 6m 46s (remain 0m 4s) Loss: 0.0017(0.0097) Grad: 0.0193 LR: 0.000091  \n",
      "Epoch: [2][1315/1316] Elapsed 6m 51s (remain 0m 0s) Loss: 0.0107(0.0097) Grad: 0.1633 LR: 0.000091  \n",
      "EVAL: [0/330] Elapsed 0m 0s (remain 4m 38s) Loss: 0.0035(0.0035) \n",
      "EVAL: [100/330] Elapsed 0m 12s (remain 0m 27s) Loss: 0.0038(0.0088) \n",
      "EVAL: [200/330] Elapsed 0m 23s (remain 0m 15s) Loss: 0.0093(0.0086) \n",
      "EVAL: [300/330] Elapsed 0m 34s (remain 0m 3s) Loss: 0.0106(0.0091) \n"
     ]
    },
    {
     "name": "stderr",
     "output_type": "stream",
     "text": [
      "Epoch 2 - avg_train_loss: 0.0097  avg_val_loss: 0.0091  time: 449s\n",
      "Epoch 2 - Accuracy: 0.9369779802581625\n",
      "Epoch 2 - Save Best Score: 0.9370 Model\n"
     ]
    },
    {
     "name": "stdout",
     "output_type": "stream",
     "text": [
      "EVAL: [329/330] Elapsed 0m 37s (remain 0m 0s) Loss: 0.0178(0.0091) \n",
      "Epoch: [3][0/1316] Elapsed 0m 1s (remain 27m 38s) Loss: 0.1012(0.1012) Grad: 0.1294 LR: 0.000091  \n",
      "Epoch: [3][100/1316] Elapsed 0m 33s (remain 6m 47s) Loss: 0.0775(0.0676) Grad: 0.1374 LR: 0.000090  \n",
      "Epoch: [3][200/1316] Elapsed 1m 6s (remain 6m 9s) Loss: 0.0692(0.0654) Grad: 0.1111 LR: 0.000089  \n",
      "Epoch: [3][300/1316] Elapsed 1m 39s (remain 5m 35s) Loss: 0.0717(0.0636) Grad: 0.1120 LR: 0.000088  \n",
      "Epoch: [3][400/1316] Elapsed 2m 12s (remain 5m 1s) Loss: 0.0595(0.0638) Grad: 0.0951 LR: 0.000088  \n",
      "Epoch: [3][500/1316] Elapsed 2m 44s (remain 4m 27s) Loss: 0.0856(0.0645) Grad: 0.1327 LR: 0.000087  \n",
      "Epoch: [3][600/1316] Elapsed 3m 17s (remain 3m 54s) Loss: 0.0175(0.0637) Grad: 0.1211 LR: 0.000086  \n",
      "Epoch: [3][700/1316] Elapsed 3m 50s (remain 3m 22s) Loss: 0.0805(0.0632) Grad: 0.1769 LR: 0.000085  \n",
      "Epoch: [3][800/1316] Elapsed 4m 23s (remain 2m 49s) Loss: 0.0713(0.0622) Grad: 0.1335 LR: 0.000084  \n",
      "Epoch: [3][900/1316] Elapsed 4m 57s (remain 2m 16s) Loss: 0.0652(0.0621) Grad: 0.1232 LR: 0.000084  \n",
      "Epoch: [3][1000/1316] Elapsed 5m 29s (remain 1m 43s) Loss: 0.0138(0.0621) Grad: 0.1574 LR: 0.000083  \n",
      "Epoch: [3][1100/1316] Elapsed 6m 2s (remain 1m 10s) Loss: 0.0732(0.0613) Grad: 0.0822 LR: 0.000082  \n",
      "Epoch: [3][1200/1316] Elapsed 6m 36s (remain 0m 37s) Loss: 0.0747(0.0615) Grad: 0.0544 LR: 0.000081  \n",
      "Epoch: [3][1300/1316] Elapsed 7m 8s (remain 0m 4s) Loss: 0.1065(0.0614) Grad: 0.1096 LR: 0.000080  \n",
      "Epoch: [3][1315/1316] Elapsed 7m 13s (remain 0m 0s) Loss: 0.0198(0.0613) Grad: 0.1762 LR: 0.000080  \n",
      "EVAL: [0/330] Elapsed 0m 0s (remain 4m 19s) Loss: 0.0064(0.0064) \n",
      "EVAL: [100/330] Elapsed 0m 12s (remain 0m 28s) Loss: 0.0116(0.0126) \n",
      "EVAL: [200/330] Elapsed 0m 23s (remain 0m 15s) Loss: 0.0091(0.0121) \n",
      "EVAL: [300/330] Elapsed 0m 35s (remain 0m 3s) Loss: 0.0109(0.0123) \n"
     ]
    },
    {
     "name": "stderr",
     "output_type": "stream",
     "text": [
      "Epoch 3 - avg_train_loss: 0.0613  avg_val_loss: 0.0122  time: 471s\n",
      "Epoch 3 - Accuracy: 0.9328018223234624\n"
     ]
    },
    {
     "name": "stdout",
     "output_type": "stream",
     "text": [
      "EVAL: [329/330] Elapsed 0m 37s (remain 0m 0s) Loss: 0.0187(0.0122) \n",
      "Epoch: [4][0/1316] Elapsed 0m 1s (remain 27m 51s) Loss: 0.0180(0.0180) Grad: 0.1115 LR: 0.000080  \n",
      "Epoch: [4][100/1316] Elapsed 0m 34s (remain 6m 59s) Loss: 0.0496(0.0593) Grad: 0.1463 LR: 0.000079  \n",
      "Epoch: [4][200/1316] Elapsed 1m 8s (remain 6m 19s) Loss: 0.0717(0.0569) Grad: 0.0977 LR: 0.000078  \n",
      "Epoch: [4][300/1316] Elapsed 1m 41s (remain 5m 41s) Loss: 0.0290(0.0573) Grad: 0.0595 LR: 0.000077  \n",
      "Epoch: [4][400/1316] Elapsed 2m 14s (remain 5m 6s) Loss: 0.0427(0.0569) Grad: 0.0951 LR: 0.000076  \n",
      "Epoch: [4][500/1316] Elapsed 2m 47s (remain 4m 32s) Loss: 0.1028(0.0580) Grad: 0.0997 LR: 0.000075  \n",
      "Epoch: [4][600/1316] Elapsed 3m 20s (remain 3m 58s) Loss: 0.0373(0.0570) Grad: 0.1010 LR: 0.000074  \n",
      "Epoch: [4][700/1316] Elapsed 3m 53s (remain 3m 24s) Loss: 0.0596(0.0572) Grad: 0.1550 LR: 0.000073  \n",
      "Epoch: [4][800/1316] Elapsed 4m 26s (remain 2m 51s) Loss: 0.0225(0.0568) Grad: 0.1371 LR: 0.000072  \n",
      "Epoch: [4][900/1316] Elapsed 4m 58s (remain 2m 17s) Loss: 0.0848(0.0569) Grad: 0.0901 LR: 0.000071  \n",
      "Epoch: [4][1000/1316] Elapsed 5m 31s (remain 1m 44s) Loss: 0.0594(0.0566) Grad: 0.1535 LR: 0.000070  \n",
      "Epoch: [4][1100/1316] Elapsed 6m 3s (remain 1m 11s) Loss: 0.0186(0.0572) Grad: 0.1189 LR: 0.000069  \n",
      "Epoch: [4][1200/1316] Elapsed 6m 36s (remain 0m 37s) Loss: 0.0394(0.0573) Grad: 0.1800 LR: 0.000067  \n",
      "Epoch: [4][1300/1316] Elapsed 7m 9s (remain 0m 4s) Loss: 0.1068(0.0576) Grad: 0.1778 LR: 0.000066  \n",
      "Epoch: [4][1315/1316] Elapsed 7m 14s (remain 0m 0s) Loss: 0.0237(0.0576) Grad: 0.1668 LR: 0.000066  \n",
      "EVAL: [0/330] Elapsed 0m 0s (remain 5m 1s) Loss: 0.0048(0.0048) \n",
      "EVAL: [100/330] Elapsed 0m 12s (remain 0m 27s) Loss: 0.0116(0.0100) \n",
      "EVAL: [200/330] Elapsed 0m 23s (remain 0m 15s) Loss: 0.0076(0.0096) \n",
      "EVAL: [300/330] Elapsed 0m 34s (remain 0m 3s) Loss: 0.0107(0.0100) \n"
     ]
    },
    {
     "name": "stderr",
     "output_type": "stream",
     "text": [
      "Epoch 4 - avg_train_loss: 0.0576  avg_val_loss: 0.0103  time: 472s\n",
      "Epoch 4 - Accuracy: 0.935459377372817\n"
     ]
    },
    {
     "name": "stdout",
     "output_type": "stream",
     "text": [
      "EVAL: [329/330] Elapsed 0m 37s (remain 0m 0s) Loss: 0.0490(0.0103) \n",
      "Epoch: [5][0/1316] Elapsed 0m 1s (remain 28m 29s) Loss: 0.0554(0.0554) Grad: 0.1323 LR: 0.000066  \n",
      "Epoch: [5][100/1316] Elapsed 0m 34s (remain 6m 50s) Loss: 0.0432(0.0530) Grad: 0.1516 LR: 0.000065  \n",
      "Epoch: [5][200/1316] Elapsed 1m 7s (remain 6m 14s) Loss: 0.0100(0.0542) Grad: 0.0827 LR: 0.000064  \n",
      "Epoch: [5][300/1316] Elapsed 1m 40s (remain 5m 40s) Loss: 0.0871(0.0548) Grad: 0.0808 LR: 0.000063  \n",
      "Epoch: [5][400/1316] Elapsed 2m 14s (remain 5m 6s) Loss: 0.0260(0.0550) Grad: 0.1199 LR: 0.000062  \n",
      "Epoch: [5][500/1316] Elapsed 2m 48s (remain 4m 33s) Loss: 0.0964(0.0537) Grad: 0.1030 LR: 0.000061  \n",
      "Epoch: [5][600/1316] Elapsed 3m 21s (remain 3m 59s) Loss: 0.0346(0.0534) Grad: 0.1157 LR: 0.000059  \n",
      "Epoch: [5][700/1316] Elapsed 3m 54s (remain 3m 26s) Loss: 0.0736(0.0533) Grad: 0.0840 LR: 0.000058  \n",
      "Epoch: [5][800/1316] Elapsed 4m 28s (remain 2m 52s) Loss: 0.0225(0.0528) Grad: 0.1039 LR: 0.000057  \n",
      "Epoch: [5][900/1316] Elapsed 5m 1s (remain 2m 18s) Loss: 0.0410(0.0531) Grad: 0.1100 LR: 0.000056  \n",
      "Epoch: [5][1000/1316] Elapsed 5m 34s (remain 1m 45s) Loss: 0.0386(0.0535) Grad: 0.1642 LR: 0.000055  \n",
      "Epoch: [5][1100/1316] Elapsed 6m 8s (remain 1m 11s) Loss: 0.0148(0.0533) Grad: 0.0933 LR: 0.000054  \n",
      "Epoch: [5][1200/1316] Elapsed 6m 40s (remain 0m 38s) Loss: 0.1209(0.0537) Grad: 0.1073 LR: 0.000052  \n",
      "Epoch: [5][1300/1316] Elapsed 7m 13s (remain 0m 4s) Loss: 0.0305(0.0533) Grad: 0.0714 LR: 0.000051  \n",
      "Epoch: [5][1315/1316] Elapsed 7m 18s (remain 0m 0s) Loss: 0.0640(0.0533) Grad: 0.1944 LR: 0.000051  \n",
      "EVAL: [0/330] Elapsed 0m 0s (remain 4m 14s) Loss: 0.0034(0.0034) \n",
      "EVAL: [100/330] Elapsed 0m 12s (remain 0m 27s) Loss: 0.0092(0.0085) \n",
      "EVAL: [200/330] Elapsed 0m 23s (remain 0m 15s) Loss: 0.0049(0.0082) \n",
      "EVAL: [300/330] Elapsed 0m 34s (remain 0m 3s) Loss: 0.0096(0.0086) \n"
     ]
    },
    {
     "name": "stderr",
     "output_type": "stream",
     "text": [
      "Epoch 5 - avg_train_loss: 0.0533  avg_val_loss: 0.0088  time: 476s\n",
      "Epoch 5 - Accuracy: 0.940584662110858\n",
      "Epoch 5 - Save Best Score: 0.9406 Model\n"
     ]
    },
    {
     "name": "stdout",
     "output_type": "stream",
     "text": [
      "EVAL: [329/330] Elapsed 0m 37s (remain 0m 0s) Loss: 0.0285(0.0088) \n",
      "Epoch: [6][0/1316] Elapsed 0m 1s (remain 31m 44s) Loss: 0.0455(0.0455) Grad: 0.0429 LR: 0.000051  \n",
      "Epoch: [6][100/1316] Elapsed 0m 34s (remain 6m 50s) Loss: 0.0830(0.0464) Grad: 0.1042 LR: 0.000050  \n",
      "Epoch: [6][200/1316] Elapsed 1m 6s (remain 6m 9s) Loss: 0.0110(0.0458) Grad: 0.1113 LR: 0.000049  \n",
      "Epoch: [6][300/1316] Elapsed 1m 38s (remain 5m 33s) Loss: 0.0211(0.0480) Grad: 0.1383 LR: 0.000048  \n",
      "Epoch: [6][400/1316] Elapsed 2m 11s (remain 5m 0s) Loss: 0.0667(0.0490) Grad: 0.1240 LR: 0.000046  \n",
      "Epoch: [6][500/1316] Elapsed 2m 43s (remain 4m 26s) Loss: 0.0347(0.0508) Grad: 0.0799 LR: 0.000045  \n",
      "Epoch: [6][600/1316] Elapsed 3m 16s (remain 3m 53s) Loss: 0.0084(0.0511) Grad: 0.0561 LR: 0.000044  \n",
      "Epoch: [6][700/1316] Elapsed 3m 48s (remain 3m 20s) Loss: 0.1267(0.0514) Grad: 0.1319 LR: 0.000043  \n",
      "Epoch: [6][800/1316] Elapsed 4m 20s (remain 2m 47s) Loss: 0.0845(0.0519) Grad: 0.1021 LR: 0.000042  \n",
      "Epoch: [6][900/1316] Elapsed 4m 52s (remain 2m 14s) Loss: 0.0511(0.0520) Grad: 0.0716 LR: 0.000041  \n",
      "Epoch: [6][1000/1316] Elapsed 5m 25s (remain 1m 42s) Loss: 0.0577(0.0520) Grad: 0.0986 LR: 0.000039  \n",
      "Epoch: [6][1100/1316] Elapsed 5m 58s (remain 1m 9s) Loss: 0.0855(0.0521) Grad: 0.0793 LR: 0.000038  \n",
      "Epoch: [6][1200/1316] Elapsed 6m 30s (remain 0m 37s) Loss: 0.0280(0.0525) Grad: 0.0516 LR: 0.000037  \n",
      "Epoch: [6][1300/1316] Elapsed 7m 2s (remain 0m 4s) Loss: 0.1115(0.0526) Grad: 0.0777 LR: 0.000036  \n",
      "Epoch: [6][1315/1316] Elapsed 7m 7s (remain 0m 0s) Loss: 0.0845(0.0529) Grad: 0.1196 LR: 0.000036  \n",
      "EVAL: [0/330] Elapsed 0m 0s (remain 4m 38s) Loss: 0.0038(0.0038) \n",
      "EVAL: [100/330] Elapsed 0m 11s (remain 0m 27s) Loss: 0.0072(0.0098) \n",
      "EVAL: [200/330] Elapsed 0m 23s (remain 0m 14s) Loss: 0.0061(0.0096) \n",
      "EVAL: [300/330] Elapsed 0m 34s (remain 0m 3s) Loss: 0.0109(0.0098) \n"
     ]
    },
    {
     "name": "stderr",
     "output_type": "stream",
     "text": [
      "Epoch 6 - avg_train_loss: 0.0529  avg_val_loss: 0.0099  time: 464s\n",
      "Epoch 6 - Accuracy: 0.9390660592255126\n"
     ]
    },
    {
     "name": "stdout",
     "output_type": "stream",
     "text": [
      "EVAL: [329/330] Elapsed 0m 36s (remain 0m 0s) Loss: 0.0450(0.0099) \n",
      "Epoch: [7][0/1316] Elapsed 0m 1s (remain 27m 5s) Loss: 0.0981(0.0981) Grad: 0.1207 LR: 0.000036  \n",
      "Epoch: [7][100/1316] Elapsed 0m 33s (remain 6m 42s) Loss: 0.0338(0.0350) Grad: 0.0833 LR: 0.000035  \n",
      "Epoch: [7][200/1316] Elapsed 1m 5s (remain 6m 1s) Loss: 0.0068(0.0335) Grad: 0.0726 LR: 0.000034  \n",
      "Epoch: [7][300/1316] Elapsed 1m 36s (remain 5m 26s) Loss: 0.0286(0.0341) Grad: 0.1516 LR: 0.000033  \n",
      "Epoch: [7][400/1316] Elapsed 2m 8s (remain 4m 54s) Loss: 0.0835(0.0334) Grad: 0.1282 LR: 0.000032  \n",
      "Epoch: [7][500/1316] Elapsed 2m 41s (remain 4m 21s) Loss: 0.0172(0.0343) Grad: 0.1283 LR: 0.000030  \n",
      "Epoch: [7][600/1316] Elapsed 3m 12s (remain 3m 49s) Loss: 0.0069(0.0341) Grad: 0.0747 LR: 0.000029  \n",
      "Epoch: [7][700/1316] Elapsed 3m 44s (remain 3m 17s) Loss: 0.0346(0.0338) Grad: 0.1860 LR: 0.000028  \n",
      "Epoch: [7][800/1316] Elapsed 4m 16s (remain 2m 44s) Loss: 0.0234(0.0334) Grad: 0.1266 LR: 0.000027  \n",
      "Epoch: [7][900/1316] Elapsed 4m 47s (remain 2m 12s) Loss: 0.0277(0.0330) Grad: 0.1303 LR: 0.000026  \n",
      "Epoch: [7][1000/1316] Elapsed 5m 19s (remain 1m 40s) Loss: 0.0036(0.0324) Grad: 0.0347 LR: 0.000025  \n",
      "Epoch: [7][1100/1316] Elapsed 5m 51s (remain 1m 8s) Loss: 0.0143(0.0328) Grad: 0.1043 LR: 0.000024  \n",
      "Epoch: [7][1200/1316] Elapsed 6m 22s (remain 0m 36s) Loss: 0.0153(0.0328) Grad: 0.0732 LR: 0.000023  \n",
      "Epoch: [7][1300/1316] Elapsed 6m 54s (remain 0m 4s) Loss: 0.0282(0.0328) Grad: 0.2187 LR: 0.000022  \n",
      "Epoch: [7][1315/1316] Elapsed 6m 59s (remain 0m 0s) Loss: 0.0183(0.0329) Grad: 0.1624 LR: 0.000022  \n",
      "EVAL: [0/330] Elapsed 0m 0s (remain 4m 15s) Loss: 0.0042(0.0042) \n",
      "EVAL: [100/330] Elapsed 0m 11s (remain 0m 26s) Loss: 0.0047(0.0069) \n",
      "EVAL: [200/330] Elapsed 0m 23s (remain 0m 15s) Loss: 0.0053(0.0067) \n",
      "EVAL: [300/330] Elapsed 0m 35s (remain 0m 3s) Loss: 0.0101(0.0067) \n"
     ]
    },
    {
     "name": "stderr",
     "output_type": "stream",
     "text": [
      "Epoch 7 - avg_train_loss: 0.0329  avg_val_loss: 0.0069  time: 458s\n",
      "Epoch 7 - Accuracy: 0.9438116932422171\n",
      "Epoch 7 - Save Best Score: 0.9438 Model\n"
     ]
    },
    {
     "name": "stdout",
     "output_type": "stream",
     "text": [
      "EVAL: [329/330] Elapsed 0m 38s (remain 0m 0s) Loss: 0.0401(0.0069) \n",
      "Epoch: [8][0/1316] Elapsed 0m 1s (remain 30m 7s) Loss: 0.0826(0.0826) Grad: 0.1297 LR: 0.000022  \n",
      "Epoch: [8][100/1316] Elapsed 0m 34s (remain 6m 53s) Loss: 0.0878(0.0332) Grad: 0.0647 LR: 0.000021  \n",
      "Epoch: [8][200/1316] Elapsed 1m 7s (remain 6m 17s) Loss: 0.0102(0.0346) Grad: 0.0967 LR: 0.000020  \n",
      "Epoch: [8][300/1316] Elapsed 1m 40s (remain 5m 38s) Loss: 0.0084(0.0330) Grad: 0.0745 LR: 0.000020  \n",
      "Epoch: [8][400/1316] Elapsed 2m 13s (remain 5m 3s) Loss: 0.0083(0.0320) Grad: 0.0953 LR: 0.000019  \n",
      "Epoch: [8][500/1316] Elapsed 2m 45s (remain 4m 29s) Loss: 0.0115(0.0331) Grad: 0.0881 LR: 0.000018  \n",
      "Epoch: [8][600/1316] Elapsed 3m 18s (remain 3m 55s) Loss: 0.0110(0.0319) Grad: 0.0762 LR: 0.000017  \n",
      "Epoch: [8][700/1316] Elapsed 3m 50s (remain 3m 22s) Loss: 0.0368(0.0322) Grad: 0.0593 LR: 0.000016  \n",
      "Epoch: [8][800/1316] Elapsed 4m 22s (remain 2m 48s) Loss: 0.0184(0.0319) Grad: 0.1202 LR: 0.000015  \n",
      "Epoch: [8][900/1316] Elapsed 4m 54s (remain 2m 15s) Loss: 0.0141(0.0313) Grad: 0.1275 LR: 0.000014  \n",
      "Epoch: [8][1000/1316] Elapsed 5m 26s (remain 1m 42s) Loss: 0.0051(0.0312) Grad: 0.0506 LR: 0.000014  \n",
      "Epoch: [8][1100/1316] Elapsed 5m 58s (remain 1m 10s) Loss: 0.0825(0.0314) Grad: 0.0847 LR: 0.000013  \n",
      "Epoch: [8][1200/1316] Elapsed 6m 30s (remain 0m 37s) Loss: 0.0233(0.0311) Grad: 0.1537 LR: 0.000012  \n",
      "Epoch: [8][1300/1316] Elapsed 7m 3s (remain 0m 4s) Loss: 0.0843(0.0311) Grad: 0.0755 LR: 0.000012  \n",
      "Epoch: [8][1315/1316] Elapsed 7m 8s (remain 0m 0s) Loss: 0.0097(0.0310) Grad: 0.1145 LR: 0.000011  \n",
      "EVAL: [0/330] Elapsed 0m 0s (remain 4m 27s) Loss: 0.0027(0.0027) \n",
      "EVAL: [100/330] Elapsed 0m 12s (remain 0m 28s) Loss: 0.0047(0.0068) \n",
      "EVAL: [200/330] Elapsed 0m 24s (remain 0m 15s) Loss: 0.0042(0.0066) \n",
      "EVAL: [300/330] Elapsed 0m 35s (remain 0m 3s) Loss: 0.0086(0.0068) \n"
     ]
    },
    {
     "name": "stderr",
     "output_type": "stream",
     "text": [
      "Epoch 8 - avg_train_loss: 0.0310  avg_val_loss: 0.0069  time: 467s\n",
      "Epoch 8 - Accuracy: 0.9409643128321944\n"
     ]
    },
    {
     "name": "stdout",
     "output_type": "stream",
     "text": [
      "EVAL: [329/330] Elapsed 0m 38s (remain 0m 0s) Loss: 0.0493(0.0069) \n",
      "Epoch: [9][0/1316] Elapsed 0m 1s (remain 28m 6s) Loss: 0.0701(0.0701) Grad: 0.0700 LR: 0.000011  \n",
      "Epoch: [9][100/1316] Elapsed 0m 34s (remain 6m 49s) Loss: 0.0036(0.0278) Grad: 0.0497 LR: 0.000011  \n",
      "Epoch: [9][200/1316] Elapsed 1m 6s (remain 6m 10s) Loss: 0.0529(0.0310) Grad: 0.1108 LR: 0.000010  \n",
      "Epoch: [9][300/1316] Elapsed 1m 39s (remain 5m 35s) Loss: 0.0524(0.0317) Grad: 0.0964 LR: 0.000009  \n",
      "Epoch: [9][400/1316] Elapsed 2m 12s (remain 5m 1s) Loss: 0.0101(0.0326) Grad: 0.1121 LR: 0.000009  \n",
      "Epoch: [9][500/1316] Elapsed 2m 44s (remain 4m 27s) Loss: 0.0104(0.0321) Grad: 0.0954 LR: 0.000008  \n",
      "Epoch: [9][600/1316] Elapsed 3m 16s (remain 3m 54s) Loss: 0.0156(0.0324) Grad: 0.1291 LR: 0.000008  \n",
      "Epoch: [9][700/1316] Elapsed 3m 49s (remain 3m 21s) Loss: 0.0047(0.0323) Grad: 0.0826 LR: 0.000007  \n",
      "Epoch: [9][800/1316] Elapsed 4m 21s (remain 2m 48s) Loss: 0.0559(0.0317) Grad: 0.0698 LR: 0.000007  \n",
      "Epoch: [9][900/1316] Elapsed 4m 54s (remain 2m 15s) Loss: 0.0066(0.0318) Grad: 0.0644 LR: 0.000006  \n",
      "Epoch: [9][1000/1316] Elapsed 5m 27s (remain 1m 42s) Loss: 0.0884(0.0318) Grad: 0.1237 LR: 0.000006  \n",
      "Epoch: [9][1100/1316] Elapsed 6m 0s (remain 1m 10s) Loss: 0.0097(0.0316) Grad: 0.0911 LR: 0.000005  \n",
      "Epoch: [9][1200/1316] Elapsed 6m 33s (remain 0m 37s) Loss: 0.0057(0.0319) Grad: 0.0545 LR: 0.000005  \n",
      "Epoch: [9][1300/1316] Elapsed 7m 5s (remain 0m 4s) Loss: 0.0048(0.0317) Grad: 0.0530 LR: 0.000004  \n",
      "Epoch: [9][1315/1316] Elapsed 7m 10s (remain 0m 0s) Loss: 0.0098(0.0317) Grad: 0.1361 LR: 0.000004  \n",
      "EVAL: [0/330] Elapsed 0m 0s (remain 4m 19s) Loss: 0.0025(0.0025) \n",
      "EVAL: [100/330] Elapsed 0m 12s (remain 0m 27s) Loss: 0.0038(0.0067) \n",
      "EVAL: [200/330] Elapsed 0m 24s (remain 0m 15s) Loss: 0.0035(0.0066) \n",
      "EVAL: [300/330] Elapsed 0m 35s (remain 0m 3s) Loss: 0.0086(0.0067) \n"
     ]
    },
    {
     "name": "stderr",
     "output_type": "stream",
     "text": [
      "Epoch 9 - avg_train_loss: 0.0317  avg_val_loss: 0.0067  time: 469s\n",
      "Epoch 9 - Accuracy: 0.940584662110858\n"
     ]
    },
    {
     "name": "stdout",
     "output_type": "stream",
     "text": [
      "EVAL: [329/330] Elapsed 0m 38s (remain 0m 0s) Loss: 0.0441(0.0067) \n",
      "Epoch: [10][0/1316] Elapsed 0m 1s (remain 25m 22s) Loss: 0.0051(0.0051) Grad: 0.0482 LR: 0.000004  \n",
      "Epoch: [10][100/1316] Elapsed 0m 32s (remain 6m 35s) Loss: 0.0069(0.0058) Grad: 0.0753 LR: 0.000004  \n",
      "Epoch: [10][200/1316] Elapsed 1m 4s (remain 5m 56s) Loss: 0.0049(0.0056) Grad: 0.0448 LR: 0.000004  \n",
      "Epoch: [10][300/1316] Elapsed 1m 35s (remain 5m 21s) Loss: 0.0058(0.0056) Grad: 0.0731 LR: 0.000003  \n",
      "Epoch: [10][400/1316] Elapsed 2m 6s (remain 4m 49s) Loss: 0.0024(0.0054) Grad: 0.0411 LR: 0.000003  \n",
      "Epoch: [10][500/1316] Elapsed 2m 38s (remain 4m 17s) Loss: 0.0084(0.0053) Grad: 0.0939 LR: 0.000003  \n",
      "Epoch: [10][600/1316] Elapsed 3m 9s (remain 3m 45s) Loss: 0.0131(0.0055) Grad: 0.0977 LR: 0.000003  \n",
      "Epoch: [10][700/1316] Elapsed 3m 41s (remain 3m 13s) Loss: 0.0116(0.0054) Grad: 0.0979 LR: 0.000003  \n",
      "Epoch: [10][800/1316] Elapsed 4m 12s (remain 2m 42s) Loss: 0.0020(0.0054) Grad: 0.0372 LR: 0.000002  \n",
      "Epoch: [10][900/1316] Elapsed 4m 43s (remain 2m 10s) Loss: 0.0071(0.0053) Grad: 0.0623 LR: 0.000002  \n",
      "Epoch: [10][1000/1316] Elapsed 5m 15s (remain 1m 39s) Loss: 0.0061(0.0053) Grad: 0.0603 LR: 0.000002  \n",
      "Epoch: [10][1100/1316] Elapsed 5m 46s (remain 1m 7s) Loss: 0.0019(0.0053) Grad: 0.0300 LR: 0.000002  \n",
      "Epoch: [10][1200/1316] Elapsed 6m 17s (remain 0m 36s) Loss: 0.0216(0.0052) Grad: 0.1317 LR: 0.000002  \n",
      "Epoch: [10][1300/1316] Elapsed 6m 49s (remain 0m 4s) Loss: 0.0031(0.0052) Grad: 0.0609 LR: 0.000002  \n",
      "Epoch: [10][1315/1316] Elapsed 6m 54s (remain 0m 0s) Loss: 0.0122(0.0052) Grad: 0.1518 LR: 0.000002  \n",
      "EVAL: [0/330] Elapsed 0m 0s (remain 4m 24s) Loss: 0.0023(0.0023) \n",
      "EVAL: [100/330] Elapsed 0m 12s (remain 0m 27s) Loss: 0.0032(0.0063) \n",
      "EVAL: [200/330] Elapsed 0m 23s (remain 0m 15s) Loss: 0.0056(0.0063) \n",
      "EVAL: [300/330] Elapsed 0m 34s (remain 0m 3s) Loss: 0.0052(0.0064) \n"
     ]
    },
    {
     "name": "stderr",
     "output_type": "stream",
     "text": [
      "Epoch 10 - avg_train_loss: 0.0052  avg_val_loss: 0.0065  time: 452s\n",
      "Epoch 10 - Accuracy: 0.9430523917995444\n",
      "Epoch 10 - Save final model\n"
     ]
    },
    {
     "name": "stdout",
     "output_type": "stream",
     "text": [
      "EVAL: [329/330] Elapsed 0m 37s (remain 0m 0s) Loss: 0.0372(0.0065) \n"
     ]
    },
    {
     "name": "stderr",
     "output_type": "stream",
     "text": [
      "========== fold: 0 result ==========\n",
      "Score: 0.94381\n",
      "========== fold: 1 training ==========\n"
     ]
    },
    {
     "name": "stdout",
     "output_type": "stream",
     "text": [
      "Epoch: [1][0/1316] Elapsed 0m 1s (remain 25m 45s) Loss: 0.1888(0.1888) Grad: 0.2332 LR: 0.000100  \n",
      "Epoch: [1][100/1316] Elapsed 0m 34s (remain 6m 52s) Loss: 0.0924(0.1094) Grad: 0.2329 LR: 0.000100  \n",
      "Epoch: [1][200/1316] Elapsed 1m 7s (remain 6m 16s) Loss: 0.0401(0.0843) Grad: 0.1929 LR: 0.000100  \n",
      "Epoch: [1][300/1316] Elapsed 1m 40s (remain 5m 40s) Loss: 0.0465(0.0699) Grad: 0.1746 LR: 0.000100  \n",
      "Epoch: [1][400/1316] Elapsed 2m 14s (remain 5m 6s) Loss: 0.0155(0.0612) Grad: 0.1369 LR: 0.000100  \n",
      "Epoch: [1][500/1316] Elapsed 2m 47s (remain 4m 32s) Loss: 0.0235(0.0549) Grad: 0.1051 LR: 0.000100  \n",
      "Epoch: [1][600/1316] Elapsed 3m 20s (remain 3m 58s) Loss: 0.0100(0.0504) Grad: 0.0898 LR: 0.000099  \n",
      "Epoch: [1][700/1316] Elapsed 3m 54s (remain 3m 25s) Loss: 0.0266(0.0466) Grad: 0.1948 LR: 0.000099  \n",
      "Epoch: [1][800/1316] Elapsed 4m 27s (remain 2m 51s) Loss: 0.0093(0.0436) Grad: 0.0909 LR: 0.000099  \n",
      "Epoch: [1][900/1316] Elapsed 5m 0s (remain 2m 18s) Loss: 0.0287(0.0412) Grad: 0.1518 LR: 0.000099  \n",
      "Epoch: [1][1000/1316] Elapsed 5m 34s (remain 1m 45s) Loss: 0.0135(0.0392) Grad: 0.0890 LR: 0.000099  \n",
      "Epoch: [1][1100/1316] Elapsed 6m 7s (remain 1m 11s) Loss: 0.0178(0.0373) Grad: 0.1270 LR: 0.000098  \n",
      "Epoch: [1][1200/1316] Elapsed 6m 41s (remain 0m 38s) Loss: 0.0148(0.0359) Grad: 0.1194 LR: 0.000098  \n",
      "Epoch: [1][1300/1316] Elapsed 7m 14s (remain 0m 5s) Loss: 0.0079(0.0344) Grad: 0.0966 LR: 0.000098  \n",
      "Epoch: [1][1315/1316] Elapsed 7m 19s (remain 0m 0s) Loss: 0.0144(0.0342) Grad: 0.1908 LR: 0.000098  \n",
      "EVAL: [0/330] Elapsed 0m 0s (remain 4m 43s) Loss: 0.0025(0.0025) \n",
      "EVAL: [100/330] Elapsed 0m 12s (remain 0m 28s) Loss: 0.0081(0.0119) \n",
      "EVAL: [200/330] Elapsed 0m 24s (remain 0m 15s) Loss: 0.0056(0.0114) \n",
      "EVAL: [300/330] Elapsed 0m 36s (remain 0m 3s) Loss: 0.0154(0.0118) \n"
     ]
    },
    {
     "name": "stderr",
     "output_type": "stream",
     "text": [
      "Epoch 1 - avg_train_loss: 0.0342  avg_val_loss: 0.0121  time: 478s\n",
      "Epoch 1 - Accuracy: 0.9339407744874715\n",
      "Epoch 1 - Save Best Score: 0.9339 Model\n"
     ]
    },
    {
     "name": "stdout",
     "output_type": "stream",
     "text": [
      "EVAL: [329/330] Elapsed 0m 38s (remain 0m 0s) Loss: 0.0633(0.0121) \n",
      "Epoch: [2][0/1316] Elapsed 0m 1s (remain 24m 57s) Loss: 0.0058(0.0058) Grad: 0.0513 LR: 0.000098  \n",
      "Epoch: [2][100/1316] Elapsed 0m 34s (remain 6m 58s) Loss: 0.0072(0.0126) Grad: 0.0651 LR: 0.000097  \n",
      "Epoch: [2][200/1316] Elapsed 1m 7s (remain 6m 17s) Loss: 0.0071(0.0120) Grad: 0.0933 LR: 0.000097  \n",
      "Epoch: [2][300/1316] Elapsed 1m 41s (remain 5m 40s) Loss: 0.0042(0.0119) Grad: 0.0605 LR: 0.000096  \n",
      "Epoch: [2][400/1316] Elapsed 2m 14s (remain 5m 6s) Loss: 0.0127(0.0115) Grad: 0.1267 LR: 0.000096  \n",
      "Epoch: [2][500/1316] Elapsed 2m 47s (remain 4m 32s) Loss: 0.0050(0.0112) Grad: 0.0473 LR: 0.000095  \n",
      "Epoch: [2][600/1316] Elapsed 3m 20s (remain 3m 58s) Loss: 0.0035(0.0109) Grad: 0.0453 LR: 0.000095  \n",
      "Epoch: [2][700/1316] Elapsed 3m 52s (remain 3m 24s) Loss: 0.0073(0.0106) Grad: 0.0698 LR: 0.000094  \n",
      "Epoch: [2][800/1316] Elapsed 4m 25s (remain 2m 50s) Loss: 0.0059(0.0105) Grad: 0.0742 LR: 0.000094  \n",
      "Epoch: [2][900/1316] Elapsed 4m 57s (remain 2m 17s) Loss: 0.0050(0.0103) Grad: 0.0533 LR: 0.000093  \n",
      "Epoch: [2][1000/1316] Elapsed 5m 29s (remain 1m 43s) Loss: 0.0036(0.0101) Grad: 0.0376 LR: 0.000093  \n",
      "Epoch: [2][1100/1316] Elapsed 6m 1s (remain 1m 10s) Loss: 0.0185(0.0101) Grad: 0.1205 LR: 0.000092  \n",
      "Epoch: [2][1200/1316] Elapsed 6m 32s (remain 0m 37s) Loss: 0.0036(0.0099) Grad: 0.0484 LR: 0.000091  \n",
      "Epoch: [2][1300/1316] Elapsed 7m 4s (remain 0m 4s) Loss: 0.0043(0.0099) Grad: 0.0494 LR: 0.000091  \n",
      "Epoch: [2][1315/1316] Elapsed 7m 9s (remain 0m 0s) Loss: 0.0049(0.0098) Grad: 0.1568 LR: 0.000091  \n",
      "EVAL: [0/330] Elapsed 0m 0s (remain 4m 21s) Loss: 0.0022(0.0022) \n",
      "EVAL: [100/330] Elapsed 0m 11s (remain 0m 26s) Loss: 0.0061(0.0091) \n",
      "EVAL: [200/330] Elapsed 0m 22s (remain 0m 14s) Loss: 0.0058(0.0083) \n",
      "EVAL: [300/330] Elapsed 0m 33s (remain 0m 3s) Loss: 0.0054(0.0084) \n"
     ]
    },
    {
     "name": "stderr",
     "output_type": "stream",
     "text": [
      "Epoch 2 - avg_train_loss: 0.0098  avg_val_loss: 0.0086  time: 466s\n",
      "Epoch 2 - Accuracy: 0.9417236142748672\n",
      "Epoch 2 - Save Best Score: 0.9417 Model\n"
     ]
    },
    {
     "name": "stdout",
     "output_type": "stream",
     "text": [
      "EVAL: [329/330] Elapsed 0m 36s (remain 0m 0s) Loss: 0.0314(0.0086) \n",
      "Epoch: [3][0/1316] Elapsed 0m 1s (remain 27m 18s) Loss: 0.0655(0.0655) Grad: 0.2003 LR: 0.000091  \n",
      "Epoch: [3][100/1316] Elapsed 0m 34s (remain 7m 0s) Loss: 0.0526(0.0638) Grad: 0.2107 LR: 0.000090  \n",
      "Epoch: [3][200/1316] Elapsed 1m 8s (remain 6m 18s) Loss: 0.0535(0.0622) Grad: 0.1069 LR: 0.000089  \n",
      "Epoch: [3][300/1316] Elapsed 1m 41s (remain 5m 42s) Loss: 0.0627(0.0615) Grad: 0.1488 LR: 0.000088  \n",
      "Epoch: [3][400/1316] Elapsed 2m 15s (remain 5m 9s) Loss: 0.1145(0.0608) Grad: 0.1454 LR: 0.000088  \n",
      "Epoch: [3][500/1316] Elapsed 2m 49s (remain 4m 35s) Loss: 0.0112(0.0619) Grad: 0.0811 LR: 0.000087  \n",
      "Epoch: [3][600/1316] Elapsed 3m 22s (remain 4m 1s) Loss: 0.1431(0.0633) Grad: 0.2596 LR: 0.000086  \n",
      "Epoch: [3][700/1316] Elapsed 3m 56s (remain 3m 27s) Loss: 0.0348(0.0640) Grad: 0.1915 LR: 0.000085  \n",
      "Epoch: [3][800/1316] Elapsed 4m 30s (remain 2m 53s) Loss: 0.0916(0.0629) Grad: 0.1143 LR: 0.000084  \n",
      "Epoch: [3][900/1316] Elapsed 5m 3s (remain 2m 19s) Loss: 0.1358(0.0619) Grad: 0.1580 LR: 0.000084  \n",
      "Epoch: [3][1000/1316] Elapsed 5m 38s (remain 1m 46s) Loss: 0.0439(0.0621) Grad: 0.1250 LR: 0.000083  \n",
      "Epoch: [3][1100/1316] Elapsed 6m 11s (remain 1m 12s) Loss: 0.0558(0.0613) Grad: 0.0610 LR: 0.000082  \n",
      "Epoch: [3][1200/1316] Elapsed 6m 45s (remain 0m 38s) Loss: 0.0300(0.0610) Grad: 0.1513 LR: 0.000081  \n",
      "Epoch: [3][1300/1316] Elapsed 7m 20s (remain 0m 5s) Loss: 0.0477(0.0604) Grad: 0.1067 LR: 0.000080  \n",
      "Epoch: [3][1315/1316] Elapsed 7m 25s (remain 0m 0s) Loss: 0.1030(0.0606) Grad: 0.3324 LR: 0.000080  \n",
      "EVAL: [0/330] Elapsed 0m 0s (remain 4m 49s) Loss: 0.0048(0.0048) \n",
      "EVAL: [100/330] Elapsed 0m 12s (remain 0m 29s) Loss: 0.0066(0.0105) \n",
      "EVAL: [200/330] Elapsed 0m 25s (remain 0m 16s) Loss: 0.0153(0.0104) \n",
      "EVAL: [300/330] Elapsed 0m 36s (remain 0m 3s) Loss: 0.0105(0.0106) \n"
     ]
    },
    {
     "name": "stderr",
     "output_type": "stream",
     "text": [
      "Epoch 3 - avg_train_loss: 0.0606  avg_val_loss: 0.0108  time: 485s\n",
      "Epoch 3 - Accuracy: 0.9407744874715261\n"
     ]
    },
    {
     "name": "stdout",
     "output_type": "stream",
     "text": [
      "EVAL: [329/330] Elapsed 0m 39s (remain 0m 0s) Loss: 0.0346(0.0108) \n",
      "Epoch: [4][0/1316] Elapsed 0m 1s (remain 28m 40s) Loss: 0.0361(0.0361) Grad: 0.0636 LR: 0.000080  \n",
      "Epoch: [4][100/1316] Elapsed 0m 36s (remain 7m 22s) Loss: 0.0648(0.0535) Grad: 0.1542 LR: 0.000079  \n",
      "Epoch: [4][200/1316] Elapsed 1m 12s (remain 6m 42s) Loss: 0.0263(0.0559) Grad: 0.1490 LR: 0.000078  \n",
      "Epoch: [4][300/1316] Elapsed 1m 48s (remain 6m 4s) Loss: 0.0147(0.0577) Grad: 0.1159 LR: 0.000077  \n",
      "Epoch: [4][400/1316] Elapsed 2m 23s (remain 5m 27s) Loss: 0.0840(0.0569) Grad: 0.1344 LR: 0.000076  \n",
      "Epoch: [4][500/1316] Elapsed 2m 59s (remain 4m 52s) Loss: 0.0130(0.0559) Grad: 0.1060 LR: 0.000075  \n",
      "Epoch: [4][600/1316] Elapsed 3m 35s (remain 4m 16s) Loss: 0.0844(0.0568) Grad: 0.1262 LR: 0.000074  \n",
      "Epoch: [4][700/1316] Elapsed 4m 11s (remain 3m 40s) Loss: 0.0230(0.0568) Grad: 0.1014 LR: 0.000073  \n",
      "Epoch: [4][800/1316] Elapsed 4m 47s (remain 3m 4s) Loss: 0.0880(0.0564) Grad: 0.0770 LR: 0.000072  \n",
      "Epoch: [4][900/1316] Elapsed 5m 22s (remain 2m 28s) Loss: 0.0304(0.0563) Grad: 0.1282 LR: 0.000071  \n",
      "Epoch: [4][1000/1316] Elapsed 5m 57s (remain 1m 52s) Loss: 0.0402(0.0560) Grad: 0.1385 LR: 0.000070  \n",
      "Epoch: [4][1100/1316] Elapsed 6m 32s (remain 1m 16s) Loss: 0.0636(0.0561) Grad: 0.0761 LR: 0.000069  \n",
      "Epoch: [4][1200/1316] Elapsed 7m 6s (remain 0m 40s) Loss: 0.0769(0.0563) Grad: 0.0783 LR: 0.000067  \n",
      "Epoch: [4][1300/1316] Elapsed 7m 41s (remain 0m 5s) Loss: 0.0948(0.0559) Grad: 0.1093 LR: 0.000066  \n",
      "Epoch: [4][1315/1316] Elapsed 7m 46s (remain 0m 0s) Loss: 0.0131(0.0558) Grad: 0.1208 LR: 0.000066  \n",
      "EVAL: [0/330] Elapsed 0m 0s (remain 4m 32s) Loss: 0.0040(0.0040) \n",
      "EVAL: [100/330] Elapsed 0m 12s (remain 0m 28s) Loss: 0.0075(0.0099) \n",
      "EVAL: [200/330] Elapsed 0m 24s (remain 0m 15s) Loss: 0.0095(0.0099) \n",
      "EVAL: [300/330] Elapsed 0m 35s (remain 0m 3s) Loss: 0.0076(0.0100) \n"
     ]
    },
    {
     "name": "stderr",
     "output_type": "stream",
     "text": [
      "Epoch 4 - avg_train_loss: 0.0558  avg_val_loss: 0.0100  time: 505s\n",
      "Epoch 4 - Accuracy: 0.9403948367501899\n"
     ]
    },
    {
     "name": "stdout",
     "output_type": "stream",
     "text": [
      "EVAL: [329/330] Elapsed 0m 38s (remain 0m 0s) Loss: 0.0169(0.0100) \n",
      "Epoch: [5][0/1316] Elapsed 0m 1s (remain 29m 41s) Loss: 0.1224(0.1224) Grad: 0.1247 LR: 0.000066  \n",
      "Epoch: [5][100/1316] Elapsed 0m 35s (remain 7m 7s) Loss: 0.0923(0.0566) Grad: 0.1363 LR: 0.000065  \n",
      "Epoch: [5][200/1316] Elapsed 1m 10s (remain 6m 29s) Loss: 0.0295(0.0568) Grad: 0.0894 LR: 0.000064  \n",
      "Epoch: [5][300/1316] Elapsed 1m 45s (remain 5m 54s) Loss: 0.1008(0.0545) Grad: 0.1330 LR: 0.000063  \n",
      "Epoch: [5][400/1316] Elapsed 2m 20s (remain 5m 19s) Loss: 0.0652(0.0542) Grad: 0.1231 LR: 0.000062  \n",
      "Epoch: [5][500/1316] Elapsed 2m 54s (remain 4m 44s) Loss: 0.0938(0.0536) Grad: 0.1234 LR: 0.000061  \n",
      "Epoch: [5][600/1316] Elapsed 3m 29s (remain 4m 9s) Loss: 0.0177(0.0534) Grad: 0.0474 LR: 0.000059  \n",
      "Epoch: [5][700/1316] Elapsed 4m 4s (remain 3m 34s) Loss: 0.0656(0.0534) Grad: 0.0860 LR: 0.000058  \n",
      "Epoch: [5][800/1316] Elapsed 4m 38s (remain 2m 59s) Loss: 0.0424(0.0542) Grad: 0.0977 LR: 0.000057  \n",
      "Epoch: [5][900/1316] Elapsed 5m 12s (remain 2m 24s) Loss: 0.0438(0.0541) Grad: 0.0600 LR: 0.000056  \n",
      "Epoch: [5][1000/1316] Elapsed 5m 47s (remain 1m 49s) Loss: 0.0286(0.0535) Grad: 0.1129 LR: 0.000055  \n",
      "Epoch: [5][1100/1316] Elapsed 6m 22s (remain 1m 14s) Loss: 0.0459(0.0538) Grad: 0.0688 LR: 0.000054  \n",
      "Epoch: [5][1200/1316] Elapsed 6m 57s (remain 0m 39s) Loss: 0.0548(0.0534) Grad: 0.0478 LR: 0.000052  \n",
      "Epoch: [5][1300/1316] Elapsed 7m 33s (remain 0m 5s) Loss: 0.0050(0.0539) Grad: 0.0382 LR: 0.000051  \n",
      "Epoch: [5][1315/1316] Elapsed 7m 38s (remain 0m 0s) Loss: 0.0138(0.0538) Grad: 0.2136 LR: 0.000051  \n",
      "EVAL: [0/330] Elapsed 0m 0s (remain 4m 50s) Loss: 0.0030(0.0030) \n",
      "EVAL: [100/330] Elapsed 0m 13s (remain 0m 29s) Loss: 0.0069(0.0088) \n",
      "EVAL: [200/330] Elapsed 0m 25s (remain 0m 16s) Loss: 0.0104(0.0091) \n",
      "EVAL: [300/330] Elapsed 0m 37s (remain 0m 3s) Loss: 0.0068(0.0091) \n"
     ]
    },
    {
     "name": "stderr",
     "output_type": "stream",
     "text": [
      "Epoch 5 - avg_train_loss: 0.0538  avg_val_loss: 0.0091  time: 498s\n",
      "Epoch 5 - Accuracy: 0.9424829157175398\n",
      "Epoch 5 - Save Best Score: 0.9425 Model\n"
     ]
    },
    {
     "name": "stdout",
     "output_type": "stream",
     "text": [
      "EVAL: [329/330] Elapsed 0m 40s (remain 0m 0s) Loss: 0.0230(0.0091) \n",
      "Epoch: [6][0/1316] Elapsed 0m 1s (remain 27m 42s) Loss: 0.1170(0.1170) Grad: 0.1241 LR: 0.000051  \n",
      "Epoch: [6][100/1316] Elapsed 0m 37s (remain 7m 29s) Loss: 0.0166(0.0518) Grad: 0.0724 LR: 0.000050  \n",
      "Epoch: [6][200/1316] Elapsed 1m 13s (remain 6m 46s) Loss: 0.0237(0.0531) Grad: 0.1797 LR: 0.000049  \n",
      "Epoch: [6][300/1316] Elapsed 1m 49s (remain 6m 8s) Loss: 0.0675(0.0529) Grad: 0.0788 LR: 0.000048  \n",
      "Epoch: [6][400/1316] Elapsed 2m 23s (remain 5m 28s) Loss: 0.1261(0.0530) Grad: 0.1070 LR: 0.000046  \n",
      "Epoch: [6][500/1316] Elapsed 2m 59s (remain 4m 51s) Loss: 0.0484(0.0532) Grad: 0.0971 LR: 0.000045  \n",
      "Epoch: [6][600/1316] Elapsed 3m 34s (remain 4m 15s) Loss: 0.0178(0.0522) Grad: 0.1305 LR: 0.000044  \n",
      "Epoch: [6][700/1316] Elapsed 4m 10s (remain 3m 40s) Loss: 0.0396(0.0516) Grad: 0.1008 LR: 0.000043  \n",
      "Epoch: [6][800/1316] Elapsed 4m 46s (remain 3m 4s) Loss: 0.0247(0.0514) Grad: 0.1355 LR: 0.000042  \n",
      "Epoch: [6][900/1316] Elapsed 5m 23s (remain 2m 28s) Loss: 0.0521(0.0518) Grad: 0.1194 LR: 0.000041  \n",
      "Epoch: [6][1000/1316] Elapsed 5m 58s (remain 1m 52s) Loss: 0.0830(0.0522) Grad: 0.0673 LR: 0.000039  \n",
      "Epoch: [6][1100/1316] Elapsed 6m 34s (remain 1m 17s) Loss: 0.0052(0.0524) Grad: 0.0487 LR: 0.000038  \n",
      "Epoch: [6][1200/1316] Elapsed 7m 9s (remain 0m 41s) Loss: 0.1264(0.0522) Grad: 0.0738 LR: 0.000037  \n",
      "Epoch: [6][1300/1316] Elapsed 7m 45s (remain 0m 5s) Loss: 0.0153(0.0521) Grad: 0.1126 LR: 0.000036  \n",
      "Epoch: [6][1315/1316] Elapsed 7m 50s (remain 0m 0s) Loss: 0.0846(0.0522) Grad: 0.2195 LR: 0.000036  \n",
      "EVAL: [0/330] Elapsed 0m 0s (remain 4m 39s) Loss: 0.0027(0.0027) \n",
      "EVAL: [100/330] Elapsed 0m 13s (remain 0m 29s) Loss: 0.0068(0.0088) \n",
      "EVAL: [200/330] Elapsed 0m 25s (remain 0m 16s) Loss: 0.0134(0.0087) \n",
      "EVAL: [300/330] Elapsed 0m 37s (remain 0m 3s) Loss: 0.0060(0.0088) \n"
     ]
    },
    {
     "name": "stderr",
     "output_type": "stream",
     "text": [
      "Epoch 6 - avg_train_loss: 0.0522  avg_val_loss: 0.0089  time: 511s\n",
      "Epoch 6 - Accuracy: 0.9422930903568717\n"
     ]
    },
    {
     "name": "stdout",
     "output_type": "stream",
     "text": [
      "EVAL: [329/330] Elapsed 0m 39s (remain 0m 0s) Loss: 0.0195(0.0089) \n",
      "Epoch: [7][0/1316] Elapsed 0m 1s (remain 31m 17s) Loss: 0.0294(0.0294) Grad: 0.0378 LR: 0.000036  \n",
      "Epoch: [7][100/1316] Elapsed 0m 36s (remain 7m 18s) Loss: 0.0189(0.0340) Grad: 0.0688 LR: 0.000035  \n",
      "Epoch: [7][200/1316] Elapsed 1m 11s (remain 6m 33s) Loss: 0.0839(0.0332) Grad: 0.1647 LR: 0.000034  \n",
      "Epoch: [7][300/1316] Elapsed 1m 46s (remain 5m 58s) Loss: 0.0790(0.0331) Grad: 0.1016 LR: 0.000033  \n",
      "Epoch: [7][400/1316] Elapsed 2m 20s (remain 5m 21s) Loss: 0.0113(0.0343) Grad: 0.0863 LR: 0.000032  \n",
      "Epoch: [7][500/1316] Elapsed 2m 55s (remain 4m 46s) Loss: 0.0986(0.0339) Grad: 0.0960 LR: 0.000030  \n",
      "Epoch: [7][600/1316] Elapsed 3m 30s (remain 4m 10s) Loss: 0.0125(0.0336) Grad: 0.0880 LR: 0.000029  \n",
      "Epoch: [7][700/1316] Elapsed 4m 4s (remain 3m 34s) Loss: 0.0134(0.0336) Grad: 0.1010 LR: 0.000028  \n",
      "Epoch: [7][800/1316] Elapsed 4m 39s (remain 2m 59s) Loss: 0.0364(0.0323) Grad: 0.1252 LR: 0.000027  \n",
      "Epoch: [7][900/1316] Elapsed 5m 13s (remain 2m 24s) Loss: 0.0171(0.0321) Grad: 0.1964 LR: 0.000026  \n",
      "Epoch: [7][1000/1316] Elapsed 5m 47s (remain 1m 49s) Loss: 0.0171(0.0318) Grad: 0.1344 LR: 0.000025  \n",
      "Epoch: [7][1100/1316] Elapsed 6m 22s (remain 1m 14s) Loss: 0.0036(0.0317) Grad: 0.0387 LR: 0.000024  \n",
      "Epoch: [7][1200/1316] Elapsed 6m 56s (remain 0m 39s) Loss: 0.0109(0.0321) Grad: 0.0974 LR: 0.000023  \n",
      "Epoch: [7][1300/1316] Elapsed 7m 31s (remain 0m 5s) Loss: 0.0118(0.0325) Grad: 0.0671 LR: 0.000022  \n",
      "Epoch: [7][1315/1316] Elapsed 7m 36s (remain 0m 0s) Loss: 0.0091(0.0325) Grad: 0.1484 LR: 0.000022  \n",
      "EVAL: [0/330] Elapsed 0m 0s (remain 4m 32s) Loss: 0.0027(0.0027) \n",
      "EVAL: [100/330] Elapsed 0m 12s (remain 0m 28s) Loss: 0.0075(0.0079) \n",
      "EVAL: [200/330] Elapsed 0m 24s (remain 0m 15s) Loss: 0.0134(0.0083) \n",
      "EVAL: [300/330] Elapsed 0m 36s (remain 0m 3s) Loss: 0.0080(0.0085) \n"
     ]
    },
    {
     "name": "stderr",
     "output_type": "stream",
     "text": [
      "Epoch 7 - avg_train_loss: 0.0325  avg_val_loss: 0.0086  time: 496s\n",
      "Epoch 7 - Accuracy: 0.9409643128321944\n"
     ]
    },
    {
     "name": "stdout",
     "output_type": "stream",
     "text": [
      "EVAL: [329/330] Elapsed 0m 39s (remain 0m 0s) Loss: 0.0319(0.0086) \n",
      "Epoch: [8][0/1316] Elapsed 0m 1s (remain 32m 3s) Loss: 0.0881(0.0881) Grad: 0.0945 LR: 0.000022  \n",
      "Epoch: [8][100/1316] Elapsed 0m 36s (remain 7m 17s) Loss: 0.0728(0.0365) Grad: 0.0928 LR: 0.000021  \n",
      "Epoch: [8][200/1316] Elapsed 1m 10s (remain 6m 31s) Loss: 0.0054(0.0339) Grad: 0.0285 LR: 0.000020  \n",
      "Epoch: [8][300/1316] Elapsed 1m 44s (remain 5m 53s) Loss: 0.0044(0.0329) Grad: 0.0479 LR: 0.000020  \n",
      "Epoch: [8][400/1316] Elapsed 2m 18s (remain 5m 17s) Loss: 0.0026(0.0340) Grad: 0.0357 LR: 0.000019  \n",
      "Epoch: [8][500/1316] Elapsed 2m 53s (remain 4m 43s) Loss: 0.0565(0.0341) Grad: 0.0934 LR: 0.000018  \n",
      "Epoch: [8][600/1316] Elapsed 3m 28s (remain 4m 8s) Loss: 0.1064(0.0333) Grad: 0.0705 LR: 0.000017  \n",
      "Epoch: [8][700/1316] Elapsed 4m 3s (remain 3m 33s) Loss: 0.0065(0.0335) Grad: 0.0648 LR: 0.000016  \n",
      "Epoch: [8][800/1316] Elapsed 4m 38s (remain 2m 58s) Loss: 0.0085(0.0330) Grad: 0.0686 LR: 0.000015  \n",
      "Epoch: [8][900/1316] Elapsed 5m 12s (remain 2m 24s) Loss: 0.0514(0.0329) Grad: 0.0348 LR: 0.000014  \n",
      "Epoch: [8][1000/1316] Elapsed 5m 47s (remain 1m 49s) Loss: 0.0702(0.0330) Grad: 0.1094 LR: 0.000014  \n",
      "Epoch: [8][1100/1316] Elapsed 6m 22s (remain 1m 14s) Loss: 0.0180(0.0325) Grad: 0.0994 LR: 0.000013  \n",
      "Epoch: [8][1200/1316] Elapsed 6m 56s (remain 0m 39s) Loss: 0.0935(0.0323) Grad: 0.0896 LR: 0.000012  \n",
      "Epoch: [8][1300/1316] Elapsed 7m 31s (remain 0m 5s) Loss: 0.0649(0.0324) Grad: 0.0975 LR: 0.000012  \n",
      "Epoch: [8][1315/1316] Elapsed 7m 36s (remain 0m 0s) Loss: 0.0778(0.0323) Grad: 0.1304 LR: 0.000011  \n",
      "EVAL: [0/330] Elapsed 0m 0s (remain 4m 58s) Loss: 0.0027(0.0027) \n",
      "EVAL: [100/330] Elapsed 0m 12s (remain 0m 29s) Loss: 0.0058(0.0075) \n",
      "EVAL: [200/330] Elapsed 0m 25s (remain 0m 16s) Loss: 0.0123(0.0078) \n",
      "EVAL: [300/330] Elapsed 0m 36s (remain 0m 3s) Loss: 0.0064(0.0079) \n"
     ]
    },
    {
     "name": "stderr",
     "output_type": "stream",
     "text": [
      "Epoch 8 - avg_train_loss: 0.0323  avg_val_loss: 0.0079  time: 496s\n",
      "Epoch 8 - Accuracy: 0.9421032649962034\n"
     ]
    },
    {
     "name": "stdout",
     "output_type": "stream",
     "text": [
      "EVAL: [329/330] Elapsed 0m 39s (remain 0m 0s) Loss: 0.0168(0.0079) \n",
      "Epoch: [9][0/1316] Elapsed 0m 1s (remain 28m 18s) Loss: 0.0117(0.0117) Grad: 0.1390 LR: 0.000011  \n",
      "Epoch: [9][100/1316] Elapsed 0m 36s (remain 7m 20s) Loss: 0.0052(0.0288) Grad: 0.0672 LR: 0.000011  \n",
      "Epoch: [9][200/1316] Elapsed 1m 11s (remain 6m 36s) Loss: 0.1034(0.0298) Grad: 0.0762 LR: 0.000010  \n",
      "Epoch: [9][300/1316] Elapsed 1m 46s (remain 5m 58s) Loss: 0.0101(0.0303) Grad: 0.0817 LR: 0.000009  \n",
      "Epoch: [9][400/1316] Elapsed 2m 21s (remain 5m 22s) Loss: 0.0837(0.0317) Grad: 0.1006 LR: 0.000009  \n",
      "Epoch: [9][500/1316] Elapsed 2m 56s (remain 4m 47s) Loss: 0.0334(0.0312) Grad: 0.1634 LR: 0.000008  \n",
      "Epoch: [9][600/1316] Elapsed 3m 31s (remain 4m 11s) Loss: 0.0097(0.0315) Grad: 0.0904 LR: 0.000008  \n",
      "Epoch: [9][700/1316] Elapsed 4m 5s (remain 3m 35s) Loss: 0.0774(0.0312) Grad: 0.0852 LR: 0.000007  \n",
      "Epoch: [9][800/1316] Elapsed 4m 40s (remain 3m 0s) Loss: 0.0066(0.0307) Grad: 0.0493 LR: 0.000007  \n",
      "Epoch: [9][900/1316] Elapsed 5m 15s (remain 2m 25s) Loss: 0.0091(0.0308) Grad: 0.0663 LR: 0.000006  \n",
      "Epoch: [9][1000/1316] Elapsed 5m 49s (remain 1m 50s) Loss: 0.0049(0.0301) Grad: 0.0855 LR: 0.000006  \n",
      "Epoch: [9][1100/1316] Elapsed 6m 23s (remain 1m 14s) Loss: 0.0873(0.0305) Grad: 0.0679 LR: 0.000005  \n",
      "Epoch: [9][1200/1316] Elapsed 6m 57s (remain 0m 39s) Loss: 0.0056(0.0304) Grad: 0.0484 LR: 0.000005  \n",
      "Epoch: [9][1300/1316] Elapsed 7m 32s (remain 0m 5s) Loss: 0.0102(0.0300) Grad: 0.0643 LR: 0.000004  \n",
      "Epoch: [9][1315/1316] Elapsed 7m 37s (remain 0m 0s) Loss: 0.0049(0.0300) Grad: 0.0926 LR: 0.000004  \n",
      "EVAL: [0/330] Elapsed 0m 0s (remain 4m 49s) Loss: 0.0017(0.0017) \n",
      "EVAL: [100/330] Elapsed 0m 12s (remain 0m 28s) Loss: 0.0054(0.0064) \n",
      "EVAL: [200/330] Elapsed 0m 24s (remain 0m 15s) Loss: 0.0125(0.0067) \n",
      "EVAL: [300/330] Elapsed 0m 35s (remain 0m 3s) Loss: 0.0041(0.0067) \n"
     ]
    },
    {
     "name": "stderr",
     "output_type": "stream",
     "text": [
      "Epoch 9 - avg_train_loss: 0.0300  avg_val_loss: 0.0068  time: 496s\n",
      "Epoch 9 - Accuracy: 0.9447608200455581\n",
      "Epoch 9 - Save Best Score: 0.9448 Model\n"
     ]
    },
    {
     "name": "stdout",
     "output_type": "stream",
     "text": [
      "EVAL: [329/330] Elapsed 0m 38s (remain 0m 0s) Loss: 0.0160(0.0068) \n",
      "Epoch: [10][0/1316] Elapsed 0m 1s (remain 26m 23s) Loss: 0.0053(0.0053) Grad: 0.0852 LR: 0.000004  \n",
      "Epoch: [10][100/1316] Elapsed 0m 34s (remain 6m 54s) Loss: 0.0013(0.0063) Grad: 0.0227 LR: 0.000004  \n",
      "Epoch: [10][200/1316] Elapsed 1m 7s (remain 6m 14s) Loss: 0.0023(0.0061) Grad: 0.0271 LR: 0.000004  \n",
      "Epoch: [10][300/1316] Elapsed 1m 40s (remain 5m 38s) Loss: 0.0043(0.0059) Grad: 0.0437 LR: 0.000003  \n",
      "Epoch: [10][400/1316] Elapsed 2m 13s (remain 5m 4s) Loss: 0.0062(0.0058) Grad: 0.0542 LR: 0.000003  \n",
      "Epoch: [10][500/1316] Elapsed 2m 46s (remain 4m 30s) Loss: 0.0070(0.0057) Grad: 0.0759 LR: 0.000003  \n",
      "Epoch: [10][600/1316] Elapsed 3m 18s (remain 3m 56s) Loss: 0.0013(0.0055) Grad: 0.0245 LR: 0.000003  \n",
      "Epoch: [10][700/1316] Elapsed 3m 51s (remain 3m 23s) Loss: 0.0025(0.0055) Grad: 0.0369 LR: 0.000003  \n",
      "Epoch: [10][800/1316] Elapsed 4m 24s (remain 2m 50s) Loss: 0.0025(0.0054) Grad: 0.0333 LR: 0.000002  \n",
      "Epoch: [10][900/1316] Elapsed 4m 57s (remain 2m 16s) Loss: 0.0049(0.0055) Grad: 0.0809 LR: 0.000002  \n",
      "Epoch: [10][1000/1316] Elapsed 5m 29s (remain 1m 43s) Loss: 0.0033(0.0054) Grad: 0.0358 LR: 0.000002  \n",
      "Epoch: [10][1100/1316] Elapsed 6m 2s (remain 1m 10s) Loss: 0.0043(0.0053) Grad: 0.0458 LR: 0.000002  \n",
      "Epoch: [10][1200/1316] Elapsed 6m 35s (remain 0m 37s) Loss: 0.0046(0.0053) Grad: 0.0838 LR: 0.000002  \n",
      "Epoch: [10][1300/1316] Elapsed 7m 7s (remain 0m 4s) Loss: 0.0095(0.0053) Grad: 0.0853 LR: 0.000002  \n",
      "Epoch: [10][1315/1316] Elapsed 7m 12s (remain 0m 0s) Loss: 0.0036(0.0053) Grad: 0.0707 LR: 0.000002  \n",
      "EVAL: [0/330] Elapsed 0m 0s (remain 4m 23s) Loss: 0.0012(0.0012) \n",
      "EVAL: [100/330] Elapsed 0m 12s (remain 0m 27s) Loss: 0.0046(0.0059) \n",
      "EVAL: [200/330] Elapsed 0m 23s (remain 0m 15s) Loss: 0.0053(0.0058) \n",
      "EVAL: [300/330] Elapsed 0m 35s (remain 0m 3s) Loss: 0.0042(0.0060) \n"
     ]
    },
    {
     "name": "stderr",
     "output_type": "stream",
     "text": [
      "Epoch 10 - avg_train_loss: 0.0053  avg_val_loss: 0.0060  time: 471s\n",
      "Epoch 10 - Accuracy: 0.9472285497342445\n",
      "Epoch 10 - Save Best Score: 0.9472 Model\n"
     ]
    },
    {
     "name": "stdout",
     "output_type": "stream",
     "text": [
      "EVAL: [329/330] Elapsed 0m 37s (remain 0m 0s) Loss: 0.0301(0.0060) \n"
     ]
    },
    {
     "name": "stderr",
     "output_type": "stream",
     "text": [
      "Epoch 10 - Save final model\n",
      "========== fold: 1 result ==========\n",
      "Score: 0.94723\n",
      "========== fold: 2 training ==========\n"
     ]
    },
    {
     "name": "stdout",
     "output_type": "stream",
     "text": [
      "Epoch: [1][0/1316] Elapsed 0m 1s (remain 25m 12s) Loss: 0.2116(0.2116) Grad: 0.2437 LR: 0.000100  \n",
      "Epoch: [1][100/1316] Elapsed 0m 36s (remain 7m 13s) Loss: 0.1055(0.1121) Grad: 0.2475 LR: 0.000100  \n",
      "Epoch: [1][200/1316] Elapsed 1m 10s (remain 6m 32s) Loss: 0.0604(0.0878) Grad: 0.2206 LR: 0.000100  \n",
      "Epoch: [1][300/1316] Elapsed 1m 45s (remain 5m 55s) Loss: 0.0240(0.0728) Grad: 0.1569 LR: 0.000100  \n",
      "Epoch: [1][400/1316] Elapsed 2m 19s (remain 5m 18s) Loss: 0.0112(0.0626) Grad: 0.0855 LR: 0.000100  \n",
      "Epoch: [1][500/1316] Elapsed 2m 54s (remain 4m 43s) Loss: 0.0383(0.0565) Grad: 0.2010 LR: 0.000100  \n",
      "Epoch: [1][600/1316] Elapsed 3m 28s (remain 4m 8s) Loss: 0.0421(0.0516) Grad: 0.1718 LR: 0.000099  \n",
      "Epoch: [1][700/1316] Elapsed 4m 3s (remain 3m 33s) Loss: 0.0278(0.0477) Grad: 0.1721 LR: 0.000099  \n",
      "Epoch: [1][800/1316] Elapsed 4m 38s (remain 2m 58s) Loss: 0.0182(0.0449) Grad: 0.1505 LR: 0.000099  \n",
      "Epoch: [1][900/1316] Elapsed 5m 13s (remain 2m 24s) Loss: 0.0365(0.0424) Grad: 0.1667 LR: 0.000099  \n",
      "Epoch: [1][1000/1316] Elapsed 5m 47s (remain 1m 49s) Loss: 0.0186(0.0401) Grad: 0.1237 LR: 0.000099  \n",
      "Epoch: [1][1100/1316] Elapsed 6m 22s (remain 1m 14s) Loss: 0.0237(0.0380) Grad: 0.1567 LR: 0.000098  \n",
      "Epoch: [1][1200/1316] Elapsed 6m 56s (remain 0m 39s) Loss: 0.0051(0.0365) Grad: 0.0526 LR: 0.000098  \n",
      "Epoch: [1][1300/1316] Elapsed 7m 30s (remain 0m 5s) Loss: 0.0109(0.0351) Grad: 0.0977 LR: 0.000098  \n",
      "Epoch: [1][1315/1316] Elapsed 7m 35s (remain 0m 0s) Loss: 0.0162(0.0349) Grad: 0.1570 LR: 0.000098  \n",
      "EVAL: [0/330] Elapsed 0m 0s (remain 4m 59s) Loss: 0.0230(0.0230) \n",
      "EVAL: [100/330] Elapsed 0m 12s (remain 0m 27s) Loss: 0.0022(0.0096) \n",
      "EVAL: [200/330] Elapsed 0m 23s (remain 0m 15s) Loss: 0.0223(0.0104) \n",
      "EVAL: [300/330] Elapsed 0m 34s (remain 0m 3s) Loss: 0.0029(0.0105) \n"
     ]
    },
    {
     "name": "stderr",
     "output_type": "stream",
     "text": [
      "Epoch 1 - avg_train_loss: 0.0349  avg_val_loss: 0.0106  time: 493s\n",
      "Epoch 1 - Accuracy: 0.9352572621985951\n",
      "Epoch 1 - Save Best Score: 0.9353 Model\n"
     ]
    },
    {
     "name": "stdout",
     "output_type": "stream",
     "text": [
      "EVAL: [329/330] Elapsed 0m 37s (remain 0m 0s) Loss: 0.0035(0.0106) \n",
      "Epoch: [2][0/1316] Elapsed 0m 1s (remain 24m 39s) Loss: 0.0146(0.0146) Grad: 0.1096 LR: 0.000098  \n",
      "Epoch: [2][100/1316] Elapsed 0m 35s (remain 7m 3s) Loss: 0.0215(0.0116) Grad: 0.1548 LR: 0.000097  \n",
      "Epoch: [2][200/1316] Elapsed 1m 9s (remain 6m 23s) Loss: 0.0078(0.0116) Grad: 0.0830 LR: 0.000097  \n",
      "Epoch: [2][300/1316] Elapsed 1m 42s (remain 5m 44s) Loss: 0.0273(0.0109) Grad: 0.1490 LR: 0.000096  \n",
      "Epoch: [2][400/1316] Elapsed 2m 15s (remain 5m 8s) Loss: 0.0115(0.0107) Grad: 0.1077 LR: 0.000096  \n",
      "Epoch: [2][500/1316] Elapsed 2m 48s (remain 4m 34s) Loss: 0.0097(0.0106) Grad: 0.0869 LR: 0.000095  \n",
      "Epoch: [2][600/1316] Elapsed 3m 22s (remain 4m 0s) Loss: 0.0041(0.0107) Grad: 0.0650 LR: 0.000095  \n",
      "Epoch: [2][700/1316] Elapsed 3m 57s (remain 3m 28s) Loss: 0.0041(0.0105) Grad: 0.0456 LR: 0.000094  \n",
      "Epoch: [2][800/1316] Elapsed 4m 33s (remain 2m 55s) Loss: 0.0081(0.0105) Grad: 0.1115 LR: 0.000094  \n",
      "Epoch: [2][900/1316] Elapsed 5m 9s (remain 2m 22s) Loss: 0.0085(0.0104) Grad: 0.0912 LR: 0.000093  \n",
      "Epoch: [2][1000/1316] Elapsed 5m 45s (remain 1m 48s) Loss: 0.0156(0.0102) Grad: 0.1411 LR: 0.000093  \n",
      "Epoch: [2][1100/1316] Elapsed 6m 22s (remain 1m 14s) Loss: 0.0032(0.0100) Grad: 0.0413 LR: 0.000092  \n",
      "Epoch: [2][1200/1316] Elapsed 6m 58s (remain 0m 40s) Loss: 0.0057(0.0099) Grad: 0.0583 LR: 0.000091  \n",
      "Epoch: [2][1300/1316] Elapsed 7m 33s (remain 0m 5s) Loss: 0.0051(0.0098) Grad: 0.0629 LR: 0.000091  \n",
      "Epoch: [2][1315/1316] Elapsed 7m 39s (remain 0m 0s) Loss: 0.0028(0.0098) Grad: 0.0605 LR: 0.000091  \n",
      "EVAL: [0/330] Elapsed 0m 0s (remain 4m 54s) Loss: 0.0089(0.0089) \n",
      "EVAL: [100/330] Elapsed 0m 12s (remain 0m 28s) Loss: 0.0030(0.0083) \n",
      "EVAL: [200/330] Elapsed 0m 24s (remain 0m 15s) Loss: 0.0091(0.0088) \n",
      "EVAL: [300/330] Elapsed 0m 35s (remain 0m 3s) Loss: 0.0011(0.0085) \n"
     ]
    },
    {
     "name": "stderr",
     "output_type": "stream",
     "text": [
      "Epoch 2 - avg_train_loss: 0.0098  avg_val_loss: 0.0083  time: 497s\n",
      "Epoch 2 - Accuracy: 0.9470286690715778\n",
      "Epoch 2 - Save Best Score: 0.9470 Model\n"
     ]
    },
    {
     "name": "stdout",
     "output_type": "stream",
     "text": [
      "EVAL: [329/330] Elapsed 0m 38s (remain 0m 0s) Loss: 0.0007(0.0083) \n",
      "Epoch: [3][0/1316] Elapsed 0m 1s (remain 26m 44s) Loss: 0.0907(0.0907) Grad: 0.1627 LR: 0.000091  \n",
      "Epoch: [3][100/1316] Elapsed 0m 38s (remain 7m 42s) Loss: 0.1319(0.0655) Grad: 0.1638 LR: 0.000090  \n",
      "Epoch: [3][200/1316] Elapsed 1m 15s (remain 7m 0s) Loss: 0.0399(0.0675) Grad: 0.1824 LR: 0.000089  \n",
      "Epoch: [3][300/1316] Elapsed 1m 53s (remain 6m 21s) Loss: 0.0429(0.0684) Grad: 0.1662 LR: 0.000088  \n",
      "Epoch: [3][400/1316] Elapsed 2m 30s (remain 5m 43s) Loss: 0.0788(0.0665) Grad: 0.0771 LR: 0.000088  \n",
      "Epoch: [3][500/1316] Elapsed 3m 8s (remain 5m 7s) Loss: 0.0176(0.0658) Grad: 0.1556 LR: 0.000087  \n",
      "Epoch: [3][600/1316] Elapsed 3m 46s (remain 4m 29s) Loss: 0.0916(0.0654) Grad: 0.1097 LR: 0.000086  \n",
      "Epoch: [3][700/1316] Elapsed 4m 25s (remain 3m 52s) Loss: 0.0484(0.0645) Grad: 0.2052 LR: 0.000085  \n",
      "Epoch: [3][800/1316] Elapsed 5m 3s (remain 3m 15s) Loss: 0.0429(0.0640) Grad: 0.1311 LR: 0.000084  \n",
      "Epoch: [3][900/1316] Elapsed 5m 41s (remain 2m 37s) Loss: 0.0479(0.0644) Grad: 0.1234 LR: 0.000084  \n",
      "Epoch: [3][1000/1316] Elapsed 6m 18s (remain 1m 59s) Loss: 0.1457(0.0643) Grad: 0.1369 LR: 0.000083  \n",
      "Epoch: [3][1100/1316] Elapsed 6m 55s (remain 1m 21s) Loss: 0.0884(0.0637) Grad: 0.0854 LR: 0.000082  \n",
      "Epoch: [3][1200/1316] Elapsed 7m 33s (remain 0m 43s) Loss: 0.0419(0.0636) Grad: 0.1471 LR: 0.000081  \n",
      "Epoch: [3][1300/1316] Elapsed 8m 10s (remain 0m 5s) Loss: 0.0731(0.0634) Grad: 0.0993 LR: 0.000080  \n",
      "Epoch: [3][1315/1316] Elapsed 8m 15s (remain 0m 0s) Loss: 0.0229(0.0632) Grad: 0.2003 LR: 0.000080  \n",
      "EVAL: [0/330] Elapsed 0m 0s (remain 4m 46s) Loss: 0.0121(0.0121) \n",
      "EVAL: [100/330] Elapsed 0m 12s (remain 0m 29s) Loss: 0.0065(0.0085) \n",
      "EVAL: [200/330] Elapsed 0m 25s (remain 0m 16s) Loss: 0.0146(0.0094) \n",
      "EVAL: [300/330] Elapsed 0m 36s (remain 0m 3s) Loss: 0.0047(0.0095) \n"
     ]
    },
    {
     "name": "stderr",
     "output_type": "stream",
     "text": [
      "Epoch 3 - avg_train_loss: 0.0632  avg_val_loss: 0.0096  time: 536s\n",
      "Epoch 3 - Accuracy: 0.9470286690715778\n"
     ]
    },
    {
     "name": "stdout",
     "output_type": "stream",
     "text": [
      "EVAL: [329/330] Elapsed 0m 39s (remain 0m 0s) Loss: 0.0037(0.0096) \n",
      "Epoch: [4][0/1316] Elapsed 0m 1s (remain 29m 37s) Loss: 0.0601(0.0601) Grad: 0.0876 LR: 0.000080  \n",
      "Epoch: [4][100/1316] Elapsed 0m 38s (remain 7m 46s) Loss: 0.0205(0.0584) Grad: 0.0582 LR: 0.000079  \n",
      "Epoch: [4][200/1316] Elapsed 1m 16s (remain 7m 2s) Loss: 0.0384(0.0551) Grad: 0.1188 LR: 0.000078  \n",
      "Epoch: [4][300/1316] Elapsed 1m 53s (remain 6m 22s) Loss: 0.0855(0.0547) Grad: 0.0975 LR: 0.000077  \n",
      "Epoch: [4][400/1316] Elapsed 2m 30s (remain 5m 44s) Loss: 0.0192(0.0555) Grad: 0.1307 LR: 0.000076  \n",
      "Epoch: [4][500/1316] Elapsed 3m 7s (remain 5m 5s) Loss: 0.0839(0.0543) Grad: 0.0892 LR: 0.000075  \n",
      "Epoch: [4][600/1316] Elapsed 3m 44s (remain 4m 26s) Loss: 0.0733(0.0545) Grad: 0.1273 LR: 0.000074  \n",
      "Epoch: [4][700/1316] Elapsed 4m 21s (remain 3m 49s) Loss: 0.0186(0.0551) Grad: 0.1232 LR: 0.000073  \n",
      "Epoch: [4][800/1316] Elapsed 4m 58s (remain 3m 11s) Loss: 0.0262(0.0555) Grad: 0.1563 LR: 0.000072  \n",
      "Epoch: [4][900/1316] Elapsed 5m 35s (remain 2m 34s) Loss: 0.1316(0.0561) Grad: 0.1928 LR: 0.000071  \n",
      "Epoch: [4][1000/1316] Elapsed 6m 12s (remain 1m 57s) Loss: 0.0952(0.0561) Grad: 0.0815 LR: 0.000070  \n",
      "Epoch: [4][1100/1316] Elapsed 6m 49s (remain 1m 19s) Loss: 0.0741(0.0565) Grad: 0.0736 LR: 0.000069  \n",
      "Epoch: [4][1200/1316] Elapsed 7m 25s (remain 0m 42s) Loss: 0.0515(0.0563) Grad: 0.1315 LR: 0.000067  \n",
      "Epoch: [4][1300/1316] Elapsed 8m 1s (remain 0m 5s) Loss: 0.0167(0.0562) Grad: 0.0934 LR: 0.000066  \n",
      "Epoch: [4][1315/1316] Elapsed 8m 7s (remain 0m 0s) Loss: 0.0210(0.0562) Grad: 0.1150 LR: 0.000066  \n",
      "EVAL: [0/330] Elapsed 0m 0s (remain 4m 45s) Loss: 0.0072(0.0072) \n",
      "EVAL: [100/330] Elapsed 0m 12s (remain 0m 29s) Loss: 0.0059(0.0085) \n",
      "EVAL: [200/330] Elapsed 0m 24s (remain 0m 15s) Loss: 0.0127(0.0091) \n",
      "EVAL: [300/330] Elapsed 0m 36s (remain 0m 3s) Loss: 0.0030(0.0093) \n"
     ]
    },
    {
     "name": "stderr",
     "output_type": "stream",
     "text": [
      "Epoch 4 - avg_train_loss: 0.0562  avg_val_loss: 0.0095  time: 527s\n",
      "Epoch 4 - Accuracy: 0.9479779760774635\n",
      "Epoch 4 - Save Best Score: 0.9480 Model\n"
     ]
    },
    {
     "name": "stdout",
     "output_type": "stream",
     "text": [
      "EVAL: [329/330] Elapsed 0m 39s (remain 0m 0s) Loss: 0.0008(0.0095) \n",
      "Epoch: [5][0/1316] Elapsed 0m 1s (remain 30m 31s) Loss: 0.0760(0.0760) Grad: 0.1188 LR: 0.000066  \n",
      "Epoch: [5][100/1316] Elapsed 0m 38s (remain 7m 40s) Loss: 0.1045(0.0561) Grad: 0.1117 LR: 0.000065  \n",
      "Epoch: [5][200/1316] Elapsed 1m 15s (remain 6m 57s) Loss: 0.0718(0.0552) Grad: 0.1045 LR: 0.000064  \n",
      "Epoch: [5][300/1316] Elapsed 1m 51s (remain 6m 17s) Loss: 0.1251(0.0538) Grad: 0.1249 LR: 0.000063  \n",
      "Epoch: [5][400/1316] Elapsed 2m 28s (remain 5m 39s) Loss: 0.0311(0.0538) Grad: 0.1274 LR: 0.000062  \n",
      "Epoch: [5][500/1316] Elapsed 3m 5s (remain 5m 1s) Loss: 0.0351(0.0540) Grad: 0.0800 LR: 0.000061  \n",
      "Epoch: [5][600/1316] Elapsed 3m 41s (remain 4m 23s) Loss: 0.0792(0.0537) Grad: 0.0659 LR: 0.000059  \n",
      "Epoch: [5][700/1316] Elapsed 4m 18s (remain 3m 46s) Loss: 0.0046(0.0534) Grad: 0.0379 LR: 0.000058  \n",
      "Epoch: [5][800/1316] Elapsed 4m 55s (remain 3m 9s) Loss: 0.0825(0.0529) Grad: 0.1254 LR: 0.000057  \n",
      "Epoch: [5][900/1316] Elapsed 5m 32s (remain 2m 33s) Loss: 0.0750(0.0530) Grad: 0.0865 LR: 0.000056  \n",
      "Epoch: [5][1000/1316] Elapsed 6m 9s (remain 1m 56s) Loss: 0.1087(0.0532) Grad: 0.1054 LR: 0.000055  \n",
      "Epoch: [5][1100/1316] Elapsed 6m 46s (remain 1m 19s) Loss: 0.1117(0.0529) Grad: 0.1374 LR: 0.000054  \n",
      "Epoch: [5][1200/1316] Elapsed 7m 22s (remain 0m 42s) Loss: 0.0937(0.0529) Grad: 0.1142 LR: 0.000052  \n",
      "Epoch: [5][1300/1316] Elapsed 7m 59s (remain 0m 5s) Loss: 0.1028(0.0527) Grad: 0.0916 LR: 0.000051  \n",
      "Epoch: [5][1315/1316] Elapsed 8m 4s (remain 0m 0s) Loss: 0.0352(0.0528) Grad: 0.1615 LR: 0.000051  \n",
      "EVAL: [0/330] Elapsed 0m 0s (remain 4m 37s) Loss: 0.0115(0.0115) \n",
      "EVAL: [100/330] Elapsed 0m 12s (remain 0m 28s) Loss: 0.0070(0.0098) \n",
      "EVAL: [200/330] Elapsed 0m 24s (remain 0m 15s) Loss: 0.0167(0.0103) \n",
      "EVAL: [300/330] Elapsed 0m 36s (remain 0m 3s) Loss: 0.0065(0.0103) \n"
     ]
    },
    {
     "name": "stderr",
     "output_type": "stream",
     "text": [
      "Epoch 5 - avg_train_loss: 0.0528  avg_val_loss: 0.0104  time: 524s\n",
      "Epoch 5 - Accuracy: 0.9443706094550978\n"
     ]
    },
    {
     "name": "stdout",
     "output_type": "stream",
     "text": [
      "EVAL: [329/330] Elapsed 0m 39s (remain 0m 0s) Loss: 0.0043(0.0104) \n",
      "Epoch: [6][0/1316] Elapsed 0m 1s (remain 29m 20s) Loss: 0.0061(0.0061) Grad: 0.0577 LR: 0.000051  \n",
      "Epoch: [6][100/1316] Elapsed 0m 38s (remain 7m 46s) Loss: 0.0146(0.0550) Grad: 0.1135 LR: 0.000050  \n",
      "Epoch: [6][200/1316] Elapsed 1m 15s (remain 6m 58s) Loss: 0.0082(0.0535) Grad: 0.0763 LR: 0.000049  \n",
      "Epoch: [6][300/1316] Elapsed 1m 52s (remain 6m 20s) Loss: 0.0646(0.0541) Grad: 0.1095 LR: 0.000048  \n",
      "Epoch: [6][400/1316] Elapsed 2m 29s (remain 5m 41s) Loss: 0.0714(0.0519) Grad: 0.0560 LR: 0.000046  \n",
      "Epoch: [6][500/1316] Elapsed 3m 6s (remain 5m 3s) Loss: 0.0139(0.0522) Grad: 0.0441 LR: 0.000045  \n",
      "Epoch: [6][600/1316] Elapsed 3m 43s (remain 4m 25s) Loss: 0.1020(0.0525) Grad: 0.0838 LR: 0.000044  \n",
      "Epoch: [6][700/1316] Elapsed 4m 20s (remain 3m 48s) Loss: 0.1087(0.0523) Grad: 0.1287 LR: 0.000043  \n",
      "Epoch: [6][800/1316] Elapsed 4m 57s (remain 3m 11s) Loss: 0.0847(0.0528) Grad: 0.0910 LR: 0.000042  \n",
      "Epoch: [6][900/1316] Elapsed 5m 33s (remain 2m 33s) Loss: 0.0306(0.0528) Grad: 0.0831 LR: 0.000041  \n",
      "Epoch: [6][1000/1316] Elapsed 6m 10s (remain 1m 56s) Loss: 0.0255(0.0528) Grad: 0.0616 LR: 0.000039  \n",
      "Epoch: [6][1100/1316] Elapsed 6m 47s (remain 1m 19s) Loss: 0.0404(0.0526) Grad: 0.0258 LR: 0.000038  \n",
      "Epoch: [6][1200/1316] Elapsed 7m 24s (remain 0m 42s) Loss: 0.0311(0.0522) Grad: 0.1147 LR: 0.000037  \n",
      "Epoch: [6][1300/1316] Elapsed 8m 0s (remain 0m 5s) Loss: 0.0086(0.0524) Grad: 0.1100 LR: 0.000036  \n",
      "Epoch: [6][1315/1316] Elapsed 8m 5s (remain 0m 0s) Loss: 0.0404(0.0523) Grad: 0.2099 LR: 0.000036  \n",
      "EVAL: [0/330] Elapsed 0m 0s (remain 4m 28s) Loss: 0.0060(0.0060) \n",
      "EVAL: [100/330] Elapsed 0m 12s (remain 0m 28s) Loss: 0.0045(0.0070) \n",
      "EVAL: [200/330] Elapsed 0m 24s (remain 0m 15s) Loss: 0.0136(0.0075) \n",
      "EVAL: [300/330] Elapsed 0m 35s (remain 0m 3s) Loss: 0.0018(0.0075) \n"
     ]
    },
    {
     "name": "stderr",
     "output_type": "stream",
     "text": [
      "Epoch 6 - avg_train_loss: 0.0523  avg_val_loss: 0.0077  time: 524s\n",
      "Epoch 6 - Accuracy: 0.9479779760774635\n"
     ]
    },
    {
     "name": "stdout",
     "output_type": "stream",
     "text": [
      "EVAL: [329/330] Elapsed 0m 38s (remain 0m 0s) Loss: 0.0008(0.0077) \n",
      "Epoch: [7][0/1316] Elapsed 0m 1s (remain 30m 28s) Loss: 0.0073(0.0073) Grad: 0.0609 LR: 0.000036  \n",
      "Epoch: [7][100/1316] Elapsed 0m 37s (remain 7m 27s) Loss: 0.0195(0.0340) Grad: 0.1006 LR: 0.000035  \n",
      "Epoch: [7][200/1316] Elapsed 1m 12s (remain 6m 43s) Loss: 0.0080(0.0345) Grad: 0.0638 LR: 0.000034  \n",
      "Epoch: [7][300/1316] Elapsed 1m 48s (remain 6m 4s) Loss: 0.0779(0.0342) Grad: 0.0908 LR: 0.000033  \n",
      "Epoch: [7][400/1316] Elapsed 2m 23s (remain 5m 27s) Loss: 0.0097(0.0339) Grad: 0.0966 LR: 0.000032  \n",
      "Epoch: [7][500/1316] Elapsed 2m 58s (remain 4m 50s) Loss: 0.0046(0.0344) Grad: 0.0610 LR: 0.000030  \n",
      "Epoch: [7][600/1316] Elapsed 3m 34s (remain 4m 15s) Loss: 0.0821(0.0345) Grad: 0.0775 LR: 0.000029  \n",
      "Epoch: [7][700/1316] Elapsed 4m 10s (remain 3m 39s) Loss: 0.0140(0.0346) Grad: 0.0514 LR: 0.000028  \n",
      "Epoch: [7][800/1316] Elapsed 4m 45s (remain 3m 3s) Loss: 0.0039(0.0347) Grad: 0.0546 LR: 0.000027  \n",
      "Epoch: [7][900/1316] Elapsed 5m 21s (remain 2m 27s) Loss: 0.0634(0.0339) Grad: 0.0921 LR: 0.000026  \n",
      "Epoch: [7][1000/1316] Elapsed 5m 56s (remain 1m 52s) Loss: 0.0043(0.0329) Grad: 0.0561 LR: 0.000025  \n",
      "Epoch: [7][1100/1316] Elapsed 6m 32s (remain 1m 16s) Loss: 0.0431(0.0324) Grad: 0.0716 LR: 0.000024  \n",
      "Epoch: [7][1200/1316] Elapsed 7m 7s (remain 0m 40s) Loss: 0.0072(0.0326) Grad: 0.0684 LR: 0.000023  \n",
      "Epoch: [7][1300/1316] Elapsed 7m 44s (remain 0m 5s) Loss: 0.0108(0.0324) Grad: 0.0550 LR: 0.000022  \n",
      "Epoch: [7][1315/1316] Elapsed 7m 50s (remain 0m 0s) Loss: 0.0178(0.0325) Grad: 0.1218 LR: 0.000022  \n",
      "EVAL: [0/330] Elapsed 0m 0s (remain 4m 56s) Loss: 0.0029(0.0029) \n",
      "EVAL: [100/330] Elapsed 0m 13s (remain 0m 29s) Loss: 0.0040(0.0059) \n",
      "EVAL: [200/330] Elapsed 0m 25s (remain 0m 16s) Loss: 0.0151(0.0067) \n",
      "EVAL: [300/330] Elapsed 0m 36s (remain 0m 3s) Loss: 0.0012(0.0065) \n"
     ]
    },
    {
     "name": "stderr",
     "output_type": "stream",
     "text": [
      "Epoch 7 - avg_train_loss: 0.0325  avg_val_loss: 0.0066  time: 510s\n",
      "Epoch 7 - Accuracy: 0.9489272830833492\n",
      "Epoch 7 - Save Best Score: 0.9489 Model\n"
     ]
    },
    {
     "name": "stdout",
     "output_type": "stream",
     "text": [
      "EVAL: [329/330] Elapsed 0m 39s (remain 0m 0s) Loss: 0.0007(0.0066) \n",
      "Epoch: [8][0/1316] Elapsed 0m 1s (remain 28m 57s) Loss: 0.0093(0.0093) Grad: 0.0894 LR: 0.000022  \n",
      "Epoch: [8][100/1316] Elapsed 0m 38s (remain 7m 48s) Loss: 0.0785(0.0344) Grad: 0.0692 LR: 0.000021  \n",
      "Epoch: [8][200/1316] Elapsed 1m 14s (remain 6m 53s) Loss: 0.0040(0.0333) Grad: 0.0646 LR: 0.000020  \n",
      "Epoch: [8][300/1316] Elapsed 1m 49s (remain 6m 10s) Loss: 0.0448(0.0314) Grad: 0.0737 LR: 0.000020  \n",
      "Epoch: [8][400/1316] Elapsed 2m 25s (remain 5m 32s) Loss: 0.0424(0.0318) Grad: 0.1135 LR: 0.000019  \n",
      "Epoch: [8][500/1316] Elapsed 3m 1s (remain 4m 55s) Loss: 0.0566(0.0318) Grad: 0.0615 LR: 0.000018  \n",
      "Epoch: [8][600/1316] Elapsed 3m 37s (remain 4m 19s) Loss: 0.0052(0.0324) Grad: 0.0911 LR: 0.000017  \n",
      "Epoch: [8][700/1316] Elapsed 4m 14s (remain 3m 43s) Loss: 0.0064(0.0325) Grad: 0.0666 LR: 0.000016  \n",
      "Epoch: [8][800/1316] Elapsed 4m 50s (remain 3m 6s) Loss: 0.0212(0.0322) Grad: 0.1369 LR: 0.000015  \n",
      "Epoch: [8][900/1316] Elapsed 5m 26s (remain 2m 30s) Loss: 0.0085(0.0319) Grad: 0.0931 LR: 0.000014  \n",
      "Epoch: [8][1000/1316] Elapsed 6m 2s (remain 1m 54s) Loss: 0.0052(0.0319) Grad: 0.0524 LR: 0.000014  \n",
      "Epoch: [8][1100/1316] Elapsed 6m 38s (remain 1m 17s) Loss: 0.0074(0.0319) Grad: 0.0743 LR: 0.000013  \n",
      "Epoch: [8][1200/1316] Elapsed 7m 14s (remain 0m 41s) Loss: 0.0148(0.0317) Grad: 0.1318 LR: 0.000012  \n",
      "Epoch: [8][1300/1316] Elapsed 7m 50s (remain 0m 5s) Loss: 0.0091(0.0318) Grad: 0.0791 LR: 0.000012  \n",
      "Epoch: [8][1315/1316] Elapsed 7m 55s (remain 0m 0s) Loss: 0.1065(0.0321) Grad: 0.0766 LR: 0.000011  \n",
      "EVAL: [0/330] Elapsed 0m 0s (remain 5m 27s) Loss: 0.0035(0.0035) \n",
      "EVAL: [100/330] Elapsed 0m 12s (remain 0m 28s) Loss: 0.0039(0.0067) \n",
      "EVAL: [200/330] Elapsed 0m 24s (remain 0m 15s) Loss: 0.0180(0.0073) \n",
      "EVAL: [300/330] Elapsed 0m 35s (remain 0m 3s) Loss: 0.0019(0.0070) \n"
     ]
    },
    {
     "name": "stderr",
     "output_type": "stream",
     "text": [
      "Epoch 8 - avg_train_loss: 0.0321  avg_val_loss: 0.0071  time: 514s\n",
      "Epoch 8 - Accuracy: 0.9468388076704006\n"
     ]
    },
    {
     "name": "stdout",
     "output_type": "stream",
     "text": [
      "EVAL: [329/330] Elapsed 0m 38s (remain 0m 0s) Loss: 0.0009(0.0071) \n",
      "Epoch: [9][0/1316] Elapsed 0m 1s (remain 29m 42s) Loss: 0.0050(0.0050) Grad: 0.0518 LR: 0.000011  \n",
      "Epoch: [9][100/1316] Elapsed 0m 37s (remain 7m 27s) Loss: 0.0058(0.0335) Grad: 0.0652 LR: 0.000011  \n",
      "Epoch: [9][200/1316] Elapsed 1m 12s (remain 6m 44s) Loss: 0.0198(0.0341) Grad: 0.1638 LR: 0.000010  \n",
      "Epoch: [9][300/1316] Elapsed 1m 48s (remain 6m 6s) Loss: 0.0404(0.0332) Grad: 0.0826 LR: 0.000009  \n",
      "Epoch: [9][400/1316] Elapsed 2m 25s (remain 5m 31s) Loss: 0.0691(0.0332) Grad: 0.0916 LR: 0.000009  \n",
      "Epoch: [9][500/1316] Elapsed 3m 1s (remain 4m 55s) Loss: 0.0042(0.0336) Grad: 0.0394 LR: 0.000008  \n",
      "Epoch: [9][600/1316] Elapsed 3m 37s (remain 4m 18s) Loss: 0.0148(0.0331) Grad: 0.1190 LR: 0.000008  \n",
      "Epoch: [9][700/1316] Elapsed 4m 13s (remain 3m 42s) Loss: 0.0500(0.0336) Grad: 0.0652 LR: 0.000007  \n",
      "Epoch: [9][800/1316] Elapsed 4m 48s (remain 3m 5s) Loss: 0.1210(0.0331) Grad: 0.2066 LR: 0.000007  \n",
      "Epoch: [9][900/1316] Elapsed 5m 24s (remain 2m 29s) Loss: 0.0109(0.0328) Grad: 0.0971 LR: 0.000006  \n",
      "Epoch: [9][1000/1316] Elapsed 6m 0s (remain 1m 53s) Loss: 0.0501(0.0327) Grad: 0.1044 LR: 0.000006  \n",
      "Epoch: [9][1100/1316] Elapsed 6m 36s (remain 1m 17s) Loss: 0.0061(0.0329) Grad: 0.0617 LR: 0.000005  \n",
      "Epoch: [9][1200/1316] Elapsed 7m 12s (remain 0m 41s) Loss: 0.0058(0.0330) Grad: 0.0689 LR: 0.000005  \n",
      "Epoch: [9][1300/1316] Elapsed 7m 48s (remain 0m 5s) Loss: 0.0055(0.0331) Grad: 0.0679 LR: 0.000004  \n",
      "Epoch: [9][1315/1316] Elapsed 7m 53s (remain 0m 0s) Loss: 0.0554(0.0331) Grad: 0.1073 LR: 0.000004  \n",
      "EVAL: [0/330] Elapsed 0m 0s (remain 4m 42s) Loss: 0.0036(0.0036) \n",
      "EVAL: [100/330] Elapsed 0m 12s (remain 0m 28s) Loss: 0.0035(0.0065) \n",
      "EVAL: [200/330] Elapsed 0m 24s (remain 0m 15s) Loss: 0.0173(0.0071) \n",
      "EVAL: [300/330] Elapsed 0m 36s (remain 0m 3s) Loss: 0.0015(0.0068) \n"
     ]
    },
    {
     "name": "stderr",
     "output_type": "stream",
     "text": [
      "Epoch 9 - avg_train_loss: 0.0331  avg_val_loss: 0.0069  time: 513s\n",
      "Epoch 9 - Accuracy: 0.9477881146762863\n"
     ]
    },
    {
     "name": "stdout",
     "output_type": "stream",
     "text": [
      "EVAL: [329/330] Elapsed 0m 39s (remain 0m 0s) Loss: 0.0009(0.0069) \n",
      "Epoch: [10][0/1316] Elapsed 0m 1s (remain 25m 13s) Loss: 0.0101(0.0101) Grad: 0.0950 LR: 0.000004  \n",
      "Epoch: [10][100/1316] Elapsed 0m 36s (remain 7m 15s) Loss: 0.0068(0.0058) Grad: 0.0695 LR: 0.000004  \n",
      "Epoch: [10][200/1316] Elapsed 1m 11s (remain 6m 33s) Loss: 0.0062(0.0057) Grad: 0.0849 LR: 0.000004  \n",
      "Epoch: [10][300/1316] Elapsed 1m 45s (remain 5m 56s) Loss: 0.0065(0.0055) Grad: 0.1066 LR: 0.000003  \n",
      "Epoch: [10][400/1316] Elapsed 2m 20s (remain 5m 20s) Loss: 0.0082(0.0054) Grad: 0.0860 LR: 0.000003  \n",
      "Epoch: [10][500/1316] Elapsed 2m 55s (remain 4m 45s) Loss: 0.0024(0.0053) Grad: 0.0353 LR: 0.000003  \n",
      "Epoch: [10][600/1316] Elapsed 3m 31s (remain 4m 11s) Loss: 0.0034(0.0053) Grad: 0.0570 LR: 0.000003  \n",
      "Epoch: [10][700/1316] Elapsed 4m 7s (remain 3m 37s) Loss: 0.0088(0.0053) Grad: 0.0904 LR: 0.000003  \n",
      "Epoch: [10][800/1316] Elapsed 4m 44s (remain 3m 2s) Loss: 0.0010(0.0052) Grad: 0.0173 LR: 0.000002  \n",
      "Epoch: [10][900/1316] Elapsed 5m 20s (remain 2m 27s) Loss: 0.0013(0.0051) Grad: 0.0241 LR: 0.000002  \n",
      "Epoch: [10][1000/1316] Elapsed 5m 56s (remain 1m 52s) Loss: 0.0044(0.0051) Grad: 0.0544 LR: 0.000002  \n",
      "Epoch: [10][1100/1316] Elapsed 6m 32s (remain 1m 16s) Loss: 0.0066(0.0051) Grad: 0.0855 LR: 0.000002  \n",
      "Epoch: [10][1200/1316] Elapsed 7m 9s (remain 0m 41s) Loss: 0.0078(0.0050) Grad: 0.0801 LR: 0.000002  \n",
      "Epoch: [10][1300/1316] Elapsed 7m 45s (remain 0m 5s) Loss: 0.0112(0.0050) Grad: 0.1159 LR: 0.000002  \n",
      "Epoch: [10][1315/1316] Elapsed 7m 50s (remain 0m 0s) Loss: 0.0056(0.0050) Grad: 0.0889 LR: 0.000002  \n",
      "EVAL: [0/330] Elapsed 0m 0s (remain 4m 50s) Loss: 0.0040(0.0040) \n",
      "EVAL: [100/330] Elapsed 0m 13s (remain 0m 30s) Loss: 0.0017(0.0055) \n",
      "EVAL: [200/330] Elapsed 0m 25s (remain 0m 16s) Loss: 0.0190(0.0059) \n",
      "EVAL: [300/330] Elapsed 0m 37s (remain 0m 3s) Loss: 0.0021(0.0057) \n"
     ]
    },
    {
     "name": "stderr",
     "output_type": "stream",
     "text": [
      "Epoch 10 - avg_train_loss: 0.0050  avg_val_loss: 0.0059  time: 512s\n",
      "Epoch 10 - Accuracy: 0.950066451490412\n",
      "Epoch 10 - Save Best Score: 0.9501 Model\n"
     ]
    },
    {
     "name": "stdout",
     "output_type": "stream",
     "text": [
      "EVAL: [329/330] Elapsed 0m 40s (remain 0m 0s) Loss: 0.0021(0.0059) \n"
     ]
    },
    {
     "name": "stderr",
     "output_type": "stream",
     "text": [
      "Epoch 10 - Save final model\n",
      "========== fold: 2 result ==========\n",
      "Score: 0.95007\n",
      "========== fold: 3 training ==========\n"
     ]
    },
    {
     "name": "stdout",
     "output_type": "stream",
     "text": [
      "Epoch: [1][0/1316] Elapsed 0m 1s (remain 30m 0s) Loss: 0.2059(0.2059) Grad: 0.2524 LR: 0.000100  \n",
      "Epoch: [1][100/1316] Elapsed 0m 39s (remain 7m 55s) Loss: 0.0858(0.1129) Grad: 0.1996 LR: 0.000100  \n",
      "Epoch: [1][200/1316] Elapsed 1m 17s (remain 7m 12s) Loss: 0.1044(0.0879) Grad: 0.2380 LR: 0.000100  \n",
      "Epoch: [1][300/1316] Elapsed 1m 56s (remain 6m 32s) Loss: 0.0519(0.0722) Grad: 0.2249 LR: 0.000100  \n",
      "Epoch: [1][400/1316] Elapsed 2m 33s (remain 5m 51s) Loss: 0.0282(0.0628) Grad: 0.1386 LR: 0.000100  \n",
      "Epoch: [1][500/1316] Elapsed 3m 11s (remain 5m 11s) Loss: 0.0247(0.0557) Grad: 0.1928 LR: 0.000100  \n",
      "Epoch: [1][600/1316] Elapsed 3m 49s (remain 4m 32s) Loss: 0.0213(0.0509) Grad: 0.1455 LR: 0.000099  \n",
      "Epoch: [1][700/1316] Elapsed 4m 27s (remain 3m 54s) Loss: 0.0292(0.0470) Grad: 0.2142 LR: 0.000099  \n",
      "Epoch: [1][800/1316] Elapsed 5m 5s (remain 3m 16s) Loss: 0.0087(0.0440) Grad: 0.0825 LR: 0.000099  \n",
      "Epoch: [1][900/1316] Elapsed 5m 43s (remain 2m 38s) Loss: 0.0099(0.0416) Grad: 0.0696 LR: 0.000099  \n",
      "Epoch: [1][1000/1316] Elapsed 6m 21s (remain 2m 0s) Loss: 0.0213(0.0394) Grad: 0.1460 LR: 0.000099  \n",
      "Epoch: [1][1100/1316] Elapsed 7m 0s (remain 1m 22s) Loss: 0.0072(0.0376) Grad: 0.0996 LR: 0.000098  \n",
      "Epoch: [1][1200/1316] Elapsed 7m 37s (remain 0m 43s) Loss: 0.0223(0.0360) Grad: 0.1386 LR: 0.000098  \n",
      "Epoch: [1][1300/1316] Elapsed 8m 15s (remain 0m 5s) Loss: 0.0161(0.0345) Grad: 0.1354 LR: 0.000098  \n",
      "Epoch: [1][1315/1316] Elapsed 8m 21s (remain 0m 0s) Loss: 0.0126(0.0343) Grad: 0.1775 LR: 0.000098  \n",
      "EVAL: [0/330] Elapsed 0m 0s (remain 5m 3s) Loss: 0.0226(0.0226) \n",
      "EVAL: [100/330] Elapsed 0m 13s (remain 0m 30s) Loss: 0.0114(0.0115) \n",
      "EVAL: [200/330] Elapsed 0m 26s (remain 0m 16s) Loss: 0.0135(0.0110) \n",
      "EVAL: [300/330] Elapsed 0m 38s (remain 0m 3s) Loss: 0.0132(0.0108) \n"
     ]
    },
    {
     "name": "stderr",
     "output_type": "stream",
     "text": [
      "Epoch 1 - avg_train_loss: 0.0343  avg_val_loss: 0.0108  time: 543s\n",
      "Epoch 1 - Accuracy: 0.9434213024492121\n",
      "Epoch 1 - Save Best Score: 0.9434 Model\n"
     ]
    },
    {
     "name": "stdout",
     "output_type": "stream",
     "text": [
      "EVAL: [329/330] Elapsed 0m 41s (remain 0m 0s) Loss: 0.0033(0.0108) \n",
      "Epoch: [2][0/1316] Elapsed 0m 1s (remain 27m 57s) Loss: 0.0134(0.0134) Grad: 0.1008 LR: 0.000098  \n",
      "Epoch: [2][100/1316] Elapsed 0m 39s (remain 7m 56s) Loss: 0.0055(0.0120) Grad: 0.0591 LR: 0.000097  \n",
      "Epoch: [2][200/1316] Elapsed 1m 17s (remain 7m 8s) Loss: 0.0020(0.0112) Grad: 0.0282 LR: 0.000097  \n",
      "Epoch: [2][300/1316] Elapsed 1m 54s (remain 6m 27s) Loss: 0.0086(0.0112) Grad: 0.0987 LR: 0.000096  \n",
      "Epoch: [2][400/1316] Elapsed 2m 32s (remain 5m 48s) Loss: 0.0047(0.0110) Grad: 0.0554 LR: 0.000096  \n",
      "Epoch: [2][500/1316] Elapsed 3m 10s (remain 5m 9s) Loss: 0.0081(0.0108) Grad: 0.0961 LR: 0.000095  \n",
      "Epoch: [2][600/1316] Elapsed 3m 47s (remain 4m 30s) Loss: 0.0158(0.0106) Grad: 0.1041 LR: 0.000095  \n",
      "Epoch: [2][700/1316] Elapsed 4m 25s (remain 3m 52s) Loss: 0.0042(0.0105) Grad: 0.0458 LR: 0.000094  \n",
      "Epoch: [2][800/1316] Elapsed 5m 3s (remain 3m 15s) Loss: 0.0074(0.0103) Grad: 0.0817 LR: 0.000094  \n",
      "Epoch: [2][900/1316] Elapsed 5m 42s (remain 2m 37s) Loss: 0.0162(0.0103) Grad: 0.1080 LR: 0.000093  \n",
      "Epoch: [2][1000/1316] Elapsed 6m 20s (remain 1m 59s) Loss: 0.0035(0.0100) Grad: 0.0394 LR: 0.000093  \n",
      "Epoch: [2][1100/1316] Elapsed 6m 59s (remain 1m 21s) Loss: 0.0047(0.0098) Grad: 0.0472 LR: 0.000092  \n",
      "Epoch: [2][1200/1316] Elapsed 7m 37s (remain 0m 43s) Loss: 0.0038(0.0097) Grad: 0.0584 LR: 0.000091  \n",
      "Epoch: [2][1300/1316] Elapsed 8m 16s (remain 0m 5s) Loss: 0.0046(0.0096) Grad: 0.0583 LR: 0.000091  \n",
      "Epoch: [2][1315/1316] Elapsed 8m 21s (remain 0m 0s) Loss: 0.0029(0.0096) Grad: 0.0846 LR: 0.000091  \n",
      "EVAL: [0/330] Elapsed 0m 0s (remain 5m 12s) Loss: 0.0153(0.0153) \n",
      "EVAL: [100/330] Elapsed 0m 13s (remain 0m 31s) Loss: 0.0082(0.0084) \n",
      "EVAL: [200/330] Elapsed 0m 26s (remain 0m 17s) Loss: 0.0072(0.0082) \n",
      "EVAL: [300/330] Elapsed 0m 38s (remain 0m 3s) Loss: 0.0094(0.0084) \n"
     ]
    },
    {
     "name": "stderr",
     "output_type": "stream",
     "text": [
      "Epoch 2 - avg_train_loss: 0.0096  avg_val_loss: 0.0083  time: 544s\n",
      "Epoch 2 - Accuracy: 0.9456996392633378\n",
      "Epoch 2 - Save Best Score: 0.9457 Model\n"
     ]
    },
    {
     "name": "stdout",
     "output_type": "stream",
     "text": [
      "EVAL: [329/330] Elapsed 0m 41s (remain 0m 0s) Loss: 0.0106(0.0083) \n",
      "Epoch: [3][0/1316] Elapsed 0m 1s (remain 33m 8s) Loss: 0.0577(0.0577) Grad: 0.2742 LR: 0.000091  \n",
      "Epoch: [3][100/1316] Elapsed 0m 41s (remain 8m 19s) Loss: 0.0199(0.0710) Grad: 0.1377 LR: 0.000090  \n",
      "Epoch: [3][200/1316] Elapsed 1m 21s (remain 7m 31s) Loss: 0.0382(0.0655) Grad: 0.1778 LR: 0.000089  \n",
      "Epoch: [3][300/1316] Elapsed 2m 1s (remain 6m 50s) Loss: 0.0251(0.0658) Grad: 0.1620 LR: 0.000088  \n",
      "Epoch: [3][400/1316] Elapsed 2m 41s (remain 6m 9s) Loss: 0.0416(0.0638) Grad: 0.1328 LR: 0.000088  \n",
      "Epoch: [3][500/1316] Elapsed 3m 21s (remain 5m 28s) Loss: 0.0229(0.0627) Grad: 0.1331 LR: 0.000087  \n",
      "Epoch: [3][600/1316] Elapsed 4m 2s (remain 4m 48s) Loss: 0.0657(0.0634) Grad: 0.1017 LR: 0.000086  \n",
      "Epoch: [3][700/1316] Elapsed 4m 42s (remain 4m 8s) Loss: 0.0436(0.0627) Grad: 0.1431 LR: 0.000085  \n",
      "Epoch: [3][800/1316] Elapsed 5m 22s (remain 3m 27s) Loss: 0.0753(0.0618) Grad: 0.0874 LR: 0.000084  \n",
      "Epoch: [3][900/1316] Elapsed 6m 2s (remain 2m 47s) Loss: 0.0887(0.0619) Grad: 0.1339 LR: 0.000084  \n",
      "Epoch: [3][1000/1316] Elapsed 6m 43s (remain 2m 6s) Loss: 0.0165(0.0614) Grad: 0.1247 LR: 0.000083  \n",
      "Epoch: [3][1100/1316] Elapsed 7m 22s (remain 1m 26s) Loss: 0.0864(0.0614) Grad: 0.1047 LR: 0.000082  \n",
      "Epoch: [3][1200/1316] Elapsed 8m 3s (remain 0m 46s) Loss: 0.0128(0.0609) Grad: 0.0950 LR: 0.000081  \n",
      "Epoch: [3][1300/1316] Elapsed 8m 43s (remain 0m 6s) Loss: 0.0269(0.0607) Grad: 0.1113 LR: 0.000080  \n",
      "Epoch: [3][1315/1316] Elapsed 8m 49s (remain 0m 0s) Loss: 0.0198(0.0607) Grad: 0.1971 LR: 0.000080  \n",
      "EVAL: [0/330] Elapsed 0m 1s (remain 5m 29s) Loss: 0.0204(0.0204) \n",
      "EVAL: [100/330] Elapsed 0m 13s (remain 0m 31s) Loss: 0.0115(0.0103) \n",
      "EVAL: [200/330] Elapsed 0m 26s (remain 0m 17s) Loss: 0.0134(0.0101) \n",
      "EVAL: [300/330] Elapsed 0m 38s (remain 0m 3s) Loss: 0.0098(0.0101) \n"
     ]
    },
    {
     "name": "stderr",
     "output_type": "stream",
     "text": [
      "Epoch 3 - avg_train_loss: 0.0607  avg_val_loss: 0.0100  time: 571s\n",
      "Epoch 3 - Accuracy: 0.9398139358268464\n"
     ]
    },
    {
     "name": "stdout",
     "output_type": "stream",
     "text": [
      "EVAL: [329/330] Elapsed 0m 42s (remain 0m 0s) Loss: 0.0045(0.0100) \n",
      "Epoch: [4][0/1316] Elapsed 0m 1s (remain 32m 31s) Loss: 0.0953(0.0953) Grad: 0.1320 LR: 0.000080  \n",
      "Epoch: [4][100/1316] Elapsed 0m 42s (remain 8m 28s) Loss: 0.0446(0.0535) Grad: 0.0968 LR: 0.000079  \n",
      "Epoch: [4][200/1316] Elapsed 1m 22s (remain 7m 35s) Loss: 0.0702(0.0555) Grad: 0.1052 LR: 0.000078  \n",
      "Epoch: [4][300/1316] Elapsed 2m 1s (remain 6m 49s) Loss: 0.0234(0.0565) Grad: 0.1393 LR: 0.000077  \n",
      "Epoch: [4][400/1316] Elapsed 2m 41s (remain 6m 7s) Loss: 0.0138(0.0567) Grad: 0.0827 LR: 0.000076  \n",
      "Epoch: [4][500/1316] Elapsed 3m 21s (remain 5m 28s) Loss: 0.0071(0.0559) Grad: 0.0662 LR: 0.000075  \n",
      "Epoch: [4][600/1316] Elapsed 4m 1s (remain 4m 47s) Loss: 0.0413(0.0567) Grad: 0.1066 LR: 0.000074  \n",
      "Epoch: [4][700/1316] Elapsed 4m 42s (remain 4m 7s) Loss: 0.1047(0.0564) Grad: 0.1065 LR: 0.000073  \n",
      "Epoch: [4][800/1316] Elapsed 5m 22s (remain 3m 27s) Loss: 0.0458(0.0556) Grad: 0.0879 LR: 0.000072  \n",
      "Epoch: [4][900/1316] Elapsed 6m 2s (remain 2m 47s) Loss: 0.1032(0.0550) Grad: 0.1660 LR: 0.000071  \n",
      "Epoch: [4][1000/1316] Elapsed 6m 42s (remain 2m 6s) Loss: 0.0225(0.0556) Grad: 0.1656 LR: 0.000070  \n",
      "Epoch: [4][1100/1316] Elapsed 7m 23s (remain 1m 26s) Loss: 0.0431(0.0558) Grad: 0.1182 LR: 0.000069  \n",
      "Epoch: [4][1200/1316] Elapsed 8m 2s (remain 0m 46s) Loss: 0.1139(0.0557) Grad: 0.0863 LR: 0.000067  \n",
      "Epoch: [4][1300/1316] Elapsed 8m 42s (remain 0m 6s) Loss: 0.0413(0.0557) Grad: 0.0761 LR: 0.000066  \n",
      "Epoch: [4][1315/1316] Elapsed 8m 48s (remain 0m 0s) Loss: 0.0795(0.0556) Grad: 0.1606 LR: 0.000066  \n",
      "EVAL: [0/330] Elapsed 0m 1s (remain 6m 0s) Loss: 0.0223(0.0223) \n",
      "EVAL: [100/330] Elapsed 0m 13s (remain 0m 30s) Loss: 0.0045(0.0086) \n",
      "EVAL: [200/330] Elapsed 0m 26s (remain 0m 16s) Loss: 0.0092(0.0084) \n",
      "EVAL: [300/330] Elapsed 0m 38s (remain 0m 3s) Loss: 0.0050(0.0084) \n"
     ]
    },
    {
     "name": "stderr",
     "output_type": "stream",
     "text": [
      "Epoch 4 - avg_train_loss: 0.0556  avg_val_loss: 0.0083  time: 570s\n",
      "Epoch 4 - Accuracy: 0.9436111638503892\n"
     ]
    },
    {
     "name": "stdout",
     "output_type": "stream",
     "text": [
      "EVAL: [329/330] Elapsed 0m 41s (remain 0m 0s) Loss: 0.0011(0.0083) \n",
      "Epoch: [5][0/1316] Elapsed 0m 1s (remain 31m 43s) Loss: 0.0218(0.0218) Grad: 0.1352 LR: 0.000066  \n",
      "Epoch: [5][100/1316] Elapsed 0m 41s (remain 8m 15s) Loss: 0.0096(0.0530) Grad: 0.1006 LR: 0.000065  \n",
      "Epoch: [5][200/1316] Elapsed 1m 20s (remain 7m 26s) Loss: 0.0181(0.0530) Grad: 0.0883 LR: 0.000064  \n",
      "Epoch: [5][300/1316] Elapsed 2m 0s (remain 6m 45s) Loss: 0.0239(0.0534) Grad: 0.0566 LR: 0.000063  \n",
      "Epoch: [5][400/1316] Elapsed 2m 40s (remain 6m 5s) Loss: 0.0492(0.0521) Grad: 0.0690 LR: 0.000062  \n",
      "Epoch: [5][500/1316] Elapsed 3m 20s (remain 5m 25s) Loss: 0.0862(0.0527) Grad: 0.1253 LR: 0.000061  \n",
      "Epoch: [5][600/1316] Elapsed 4m 0s (remain 4m 45s) Loss: 0.0401(0.0521) Grad: 0.1202 LR: 0.000059  \n",
      "Epoch: [5][700/1316] Elapsed 4m 40s (remain 4m 5s) Loss: 0.1017(0.0523) Grad: 0.0910 LR: 0.000058  \n",
      "Epoch: [5][800/1316] Elapsed 5m 20s (remain 3m 25s) Loss: 0.0049(0.0523) Grad: 0.0484 LR: 0.000057  \n",
      "Epoch: [5][900/1316] Elapsed 6m 0s (remain 2m 46s) Loss: 0.1065(0.0517) Grad: 0.0797 LR: 0.000056  \n",
      "Epoch: [5][1000/1316] Elapsed 6m 40s (remain 2m 5s) Loss: 0.0376(0.0517) Grad: 0.1490 LR: 0.000055  \n",
      "Epoch: [5][1100/1316] Elapsed 7m 20s (remain 1m 25s) Loss: 0.0109(0.0519) Grad: 0.0911 LR: 0.000054  \n",
      "Epoch: [5][1200/1316] Elapsed 7m 59s (remain 0m 45s) Loss: 0.0664(0.0516) Grad: 0.0968 LR: 0.000052  \n",
      "Epoch: [5][1300/1316] Elapsed 8m 39s (remain 0m 5s) Loss: 0.0982(0.0516) Grad: 0.0975 LR: 0.000051  \n",
      "Epoch: [5][1315/1316] Elapsed 8m 45s (remain 0m 0s) Loss: 0.1025(0.0517) Grad: 0.1533 LR: 0.000051  \n",
      "EVAL: [0/330] Elapsed 0m 1s (remain 5m 56s) Loss: 0.0180(0.0180) \n",
      "EVAL: [100/330] Elapsed 0m 13s (remain 0m 30s) Loss: 0.0068(0.0091) \n",
      "EVAL: [200/330] Elapsed 0m 25s (remain 0m 16s) Loss: 0.0114(0.0091) \n",
      "EVAL: [300/330] Elapsed 0m 38s (remain 0m 3s) Loss: 0.0063(0.0091) \n"
     ]
    },
    {
     "name": "stderr",
     "output_type": "stream",
     "text": [
      "Epoch 5 - avg_train_loss: 0.0517  avg_val_loss: 0.0092  time: 567s\n",
      "Epoch 5 - Accuracy: 0.9496867286880577\n",
      "Epoch 5 - Save Best Score: 0.9497 Model\n"
     ]
    },
    {
     "name": "stdout",
     "output_type": "stream",
     "text": [
      "EVAL: [329/330] Elapsed 0m 41s (remain 0m 0s) Loss: 0.0026(0.0092) \n",
      "Epoch: [6][0/1316] Elapsed 0m 1s (remain 33m 6s) Loss: 0.0255(0.0255) Grad: 0.0643 LR: 0.000051  \n",
      "Epoch: [6][100/1316] Elapsed 0m 41s (remain 8m 14s) Loss: 0.0134(0.0505) Grad: 0.0944 LR: 0.000050  \n",
      "Epoch: [6][200/1316] Elapsed 1m 20s (remain 7m 26s) Loss: 0.0088(0.0506) Grad: 0.0811 LR: 0.000049  \n",
      "Epoch: [6][300/1316] Elapsed 2m 0s (remain 6m 46s) Loss: 0.0824(0.0506) Grad: 0.0826 LR: 0.000048  \n",
      "Epoch: [6][400/1316] Elapsed 2m 40s (remain 6m 6s) Loss: 0.0462(0.0517) Grad: 0.0571 LR: 0.000046  \n",
      "Epoch: [6][500/1316] Elapsed 3m 20s (remain 5m 25s) Loss: 0.0854(0.0511) Grad: 0.0898 LR: 0.000045  \n",
      "Epoch: [6][600/1316] Elapsed 4m 0s (remain 4m 46s) Loss: 0.0098(0.0515) Grad: 0.0705 LR: 0.000044  \n",
      "Epoch: [6][700/1316] Elapsed 4m 39s (remain 4m 5s) Loss: 0.0439(0.0513) Grad: 0.0818 LR: 0.000043  \n",
      "Epoch: [6][800/1316] Elapsed 5m 19s (remain 3m 25s) Loss: 0.0806(0.0514) Grad: 0.0853 LR: 0.000042  \n",
      "Epoch: [6][900/1316] Elapsed 5m 59s (remain 2m 45s) Loss: 0.0693(0.0515) Grad: 0.0786 LR: 0.000041  \n",
      "Epoch: [6][1000/1316] Elapsed 6m 39s (remain 2m 5s) Loss: 0.0620(0.0511) Grad: 0.0827 LR: 0.000039  \n",
      "Epoch: [6][1100/1316] Elapsed 7m 18s (remain 1m 25s) Loss: 0.0579(0.0513) Grad: 0.1506 LR: 0.000038  \n",
      "Epoch: [6][1200/1316] Elapsed 7m 57s (remain 0m 45s) Loss: 0.0467(0.0515) Grad: 0.1011 LR: 0.000037  \n",
      "Epoch: [6][1300/1316] Elapsed 8m 37s (remain 0m 5s) Loss: 0.0142(0.0519) Grad: 0.1463 LR: 0.000036  \n",
      "Epoch: [6][1315/1316] Elapsed 8m 43s (remain 0m 0s) Loss: 0.0084(0.0520) Grad: 0.0942 LR: 0.000036  \n",
      "EVAL: [0/330] Elapsed 0m 0s (remain 4m 45s) Loss: 0.0130(0.0130) \n",
      "EVAL: [100/330] Elapsed 0m 13s (remain 0m 29s) Loss: 0.0083(0.0081) \n",
      "EVAL: [200/330] Elapsed 0m 25s (remain 0m 16s) Loss: 0.0126(0.0084) \n",
      "EVAL: [300/330] Elapsed 0m 37s (remain 0m 3s) Loss: 0.0058(0.0082) \n"
     ]
    },
    {
     "name": "stderr",
     "output_type": "stream",
     "text": [
      "Epoch 6 - avg_train_loss: 0.0520  avg_val_loss: 0.0082  time: 563s\n",
      "Epoch 6 - Accuracy: 0.9525346497057148\n",
      "Epoch 6 - Save Best Score: 0.9525 Model\n"
     ]
    },
    {
     "name": "stdout",
     "output_type": "stream",
     "text": [
      "EVAL: [329/330] Elapsed 0m 40s (remain 0m 0s) Loss: 0.0022(0.0082) \n",
      "Epoch: [7][0/1316] Elapsed 0m 1s (remain 30m 42s) Loss: 0.0089(0.0089) Grad: 0.0645 LR: 0.000036  \n",
      "Epoch: [7][100/1316] Elapsed 0m 40s (remain 8m 5s) Loss: 0.0827(0.0326) Grad: 0.0858 LR: 0.000035  \n",
      "Epoch: [7][200/1316] Elapsed 1m 18s (remain 7m 16s) Loss: 0.0188(0.0315) Grad: 0.1613 LR: 0.000034  \n",
      "Epoch: [7][300/1316] Elapsed 1m 57s (remain 6m 35s) Loss: 0.0093(0.0312) Grad: 0.0911 LR: 0.000033  \n",
      "Epoch: [7][400/1316] Elapsed 2m 35s (remain 5m 54s) Loss: 0.0104(0.0310) Grad: 0.1132 LR: 0.000032  \n",
      "Epoch: [7][500/1316] Elapsed 3m 13s (remain 5m 14s) Loss: 0.0158(0.0311) Grad: 0.1781 LR: 0.000030  \n",
      "Epoch: [7][600/1316] Elapsed 3m 52s (remain 4m 36s) Loss: 0.0159(0.0311) Grad: 0.1137 LR: 0.000029  \n",
      "Epoch: [7][700/1316] Elapsed 4m 30s (remain 3m 57s) Loss: 0.0047(0.0307) Grad: 0.0615 LR: 0.000028  \n",
      "Epoch: [7][800/1316] Elapsed 5m 8s (remain 3m 18s) Loss: 0.0079(0.0304) Grad: 0.0791 LR: 0.000027  \n",
      "Epoch: [7][900/1316] Elapsed 5m 47s (remain 2m 40s) Loss: 0.0229(0.0305) Grad: 0.1172 LR: 0.000026  \n",
      "Epoch: [7][1000/1316] Elapsed 6m 25s (remain 2m 1s) Loss: 0.0091(0.0305) Grad: 0.0881 LR: 0.000025  \n",
      "Epoch: [7][1100/1316] Elapsed 7m 3s (remain 1m 22s) Loss: 0.0116(0.0308) Grad: 0.0774 LR: 0.000024  \n",
      "Epoch: [7][1200/1316] Elapsed 7m 42s (remain 0m 44s) Loss: 0.0172(0.0309) Grad: 0.1038 LR: 0.000023  \n",
      "Epoch: [7][1300/1316] Elapsed 8m 20s (remain 0m 5s) Loss: 0.0081(0.0312) Grad: 0.0868 LR: 0.000022  \n",
      "Epoch: [7][1315/1316] Elapsed 8m 25s (remain 0m 0s) Loss: 0.0068(0.0311) Grad: 0.1245 LR: 0.000022  \n",
      "EVAL: [0/330] Elapsed 0m 0s (remain 5m 4s) Loss: 0.0090(0.0090) \n",
      "EVAL: [100/330] Elapsed 0m 13s (remain 0m 29s) Loss: 0.0081(0.0066) \n",
      "EVAL: [200/330] Elapsed 0m 25s (remain 0m 16s) Loss: 0.0087(0.0066) \n",
      "EVAL: [300/330] Elapsed 0m 37s (remain 0m 3s) Loss: 0.0060(0.0065) \n"
     ]
    },
    {
     "name": "stderr",
     "output_type": "stream",
     "text": [
      "Epoch 7 - avg_train_loss: 0.0311  avg_val_loss: 0.0064  time: 546s\n",
      "Epoch 7 - Accuracy: 0.9559521549269033\n",
      "Epoch 7 - Save Best Score: 0.9560 Model\n"
     ]
    },
    {
     "name": "stdout",
     "output_type": "stream",
     "text": [
      "EVAL: [329/330] Elapsed 0m 40s (remain 0m 0s) Loss: 0.0045(0.0064) \n",
      "Epoch: [8][0/1316] Elapsed 0m 1s (remain 32m 30s) Loss: 0.0706(0.0706) Grad: 0.1021 LR: 0.000022  \n",
      "Epoch: [8][100/1316] Elapsed 0m 39s (remain 7m 57s) Loss: 0.0109(0.0336) Grad: 0.1437 LR: 0.000021  \n",
      "Epoch: [8][200/1316] Elapsed 1m 17s (remain 7m 12s) Loss: 0.0184(0.0305) Grad: 0.0592 LR: 0.000020  \n",
      "Epoch: [8][300/1316] Elapsed 1m 56s (remain 6m 31s) Loss: 0.0434(0.0305) Grad: 0.0576 LR: 0.000020  \n",
      "Epoch: [8][400/1316] Elapsed 2m 34s (remain 5m 53s) Loss: 0.1032(0.0327) Grad: 0.1064 LR: 0.000019  \n",
      "Epoch: [8][500/1316] Elapsed 3m 13s (remain 5m 14s) Loss: 0.0130(0.0316) Grad: 0.1189 LR: 0.000018  \n",
      "Epoch: [8][600/1316] Elapsed 3m 51s (remain 4m 35s) Loss: 0.1021(0.0318) Grad: 0.0987 LR: 0.000017  \n",
      "Epoch: [8][700/1316] Elapsed 4m 30s (remain 3m 56s) Loss: 0.0102(0.0314) Grad: 0.0789 LR: 0.000016  \n",
      "Epoch: [8][800/1316] Elapsed 5m 8s (remain 3m 18s) Loss: 0.0038(0.0314) Grad: 0.0715 LR: 0.000015  \n",
      "Epoch: [8][900/1316] Elapsed 5m 46s (remain 2m 39s) Loss: 0.0129(0.0307) Grad: 0.0955 LR: 0.000014  \n",
      "Epoch: [8][1000/1316] Elapsed 6m 24s (remain 2m 1s) Loss: 0.1251(0.0303) Grad: 0.1631 LR: 0.000014  \n",
      "Epoch: [8][1100/1316] Elapsed 7m 3s (remain 1m 22s) Loss: 0.0820(0.0306) Grad: 0.0745 LR: 0.000013  \n",
      "Epoch: [8][1200/1316] Elapsed 7m 41s (remain 0m 44s) Loss: 0.0241(0.0306) Grad: 0.0738 LR: 0.000012  \n",
      "Epoch: [8][1300/1316] Elapsed 8m 20s (remain 0m 5s) Loss: 0.0342(0.0304) Grad: 0.2033 LR: 0.000012  \n",
      "Epoch: [8][1315/1316] Elapsed 8m 25s (remain 0m 0s) Loss: 0.1039(0.0304) Grad: 0.1219 LR: 0.000011  \n",
      "EVAL: [0/330] Elapsed 0m 0s (remain 4m 58s) Loss: 0.0114(0.0114) \n",
      "EVAL: [100/330] Elapsed 0m 13s (remain 0m 29s) Loss: 0.0062(0.0061) \n",
      "EVAL: [200/330] Elapsed 0m 25s (remain 0m 16s) Loss: 0.0083(0.0062) \n",
      "EVAL: [300/330] Elapsed 0m 37s (remain 0m 3s) Loss: 0.0051(0.0060) \n"
     ]
    },
    {
     "name": "stderr",
     "output_type": "stream",
     "text": [
      "Epoch 8 - avg_train_loss: 0.0304  avg_val_loss: 0.0060  time: 546s\n",
      "Epoch 8 - Accuracy: 0.9546231251186634\n"
     ]
    },
    {
     "name": "stdout",
     "output_type": "stream",
     "text": [
      "EVAL: [329/330] Elapsed 0m 39s (remain 0m 0s) Loss: 0.0014(0.0060) \n",
      "Epoch: [9][0/1316] Elapsed 0m 1s (remain 31m 2s) Loss: 0.0063(0.0063) Grad: 0.0719 LR: 0.000011  \n",
      "Epoch: [9][100/1316] Elapsed 0m 39s (remain 7m 53s) Loss: 0.0206(0.0269) Grad: 0.1206 LR: 0.000011  \n",
      "Epoch: [9][200/1316] Elapsed 1m 17s (remain 7m 10s) Loss: 0.0775(0.0295) Grad: 0.1028 LR: 0.000010  \n",
      "Epoch: [9][300/1316] Elapsed 1m 55s (remain 6m 29s) Loss: 0.0890(0.0313) Grad: 0.0612 LR: 0.000009  \n",
      "Epoch: [9][400/1316] Elapsed 2m 33s (remain 5m 49s) Loss: 0.0088(0.0306) Grad: 0.0985 LR: 0.000009  \n",
      "Epoch: [9][500/1316] Elapsed 3m 11s (remain 5m 11s) Loss: 0.0402(0.0311) Grad: 0.1325 LR: 0.000008  \n",
      "Epoch: [9][600/1316] Elapsed 3m 48s (remain 4m 32s) Loss: 0.0749(0.0304) Grad: 0.0981 LR: 0.000008  \n",
      "Epoch: [9][700/1316] Elapsed 4m 26s (remain 3m 53s) Loss: 0.0082(0.0306) Grad: 0.0792 LR: 0.000007  \n",
      "Epoch: [9][800/1316] Elapsed 5m 3s (remain 3m 15s) Loss: 0.0080(0.0299) Grad: 0.0778 LR: 0.000007  \n",
      "Epoch: [9][900/1316] Elapsed 5m 41s (remain 2m 37s) Loss: 0.0972(0.0293) Grad: 0.0888 LR: 0.000006  \n",
      "Epoch: [9][1000/1316] Elapsed 6m 18s (remain 1m 59s) Loss: 0.0254(0.0298) Grad: 0.1285 LR: 0.000006  \n",
      "Epoch: [9][1100/1316] Elapsed 6m 57s (remain 1m 21s) Loss: 0.0124(0.0306) Grad: 0.0978 LR: 0.000005  \n",
      "Epoch: [9][1200/1316] Elapsed 7m 36s (remain 0m 43s) Loss: 0.0070(0.0304) Grad: 0.0650 LR: 0.000005  \n",
      "Epoch: [9][1300/1316] Elapsed 8m 15s (remain 0m 5s) Loss: 0.0094(0.0303) Grad: 0.0981 LR: 0.000004  \n",
      "Epoch: [9][1315/1316] Elapsed 8m 21s (remain 0m 0s) Loss: 0.0209(0.0302) Grad: 0.1593 LR: 0.000004  \n",
      "EVAL: [0/330] Elapsed 0m 0s (remain 4m 51s) Loss: 0.0119(0.0119) \n",
      "EVAL: [100/330] Elapsed 0m 13s (remain 0m 31s) Loss: 0.0095(0.0066) \n",
      "EVAL: [200/330] Elapsed 0m 26s (remain 0m 16s) Loss: 0.0122(0.0066) \n",
      "EVAL: [300/330] Elapsed 0m 38s (remain 0m 3s) Loss: 0.0048(0.0065) \n"
     ]
    },
    {
     "name": "stderr",
     "output_type": "stream",
     "text": [
      "Epoch 9 - avg_train_loss: 0.0302  avg_val_loss: 0.0065  time: 543s\n",
      "Epoch 9 - Accuracy: 0.9555724321245491\n"
     ]
    },
    {
     "name": "stdout",
     "output_type": "stream",
     "text": [
      "EVAL: [329/330] Elapsed 0m 41s (remain 0m 0s) Loss: 0.0017(0.0065) \n",
      "Epoch: [10][0/1316] Elapsed 0m 1s (remain 26m 5s) Loss: 0.0179(0.0179) Grad: 0.1262 LR: 0.000004  \n",
      "Epoch: [10][100/1316] Elapsed 0m 39s (remain 7m 50s) Loss: 0.0048(0.0064) Grad: 0.0567 LR: 0.000004  \n",
      "Epoch: [10][200/1316] Elapsed 1m 16s (remain 7m 6s) Loss: 0.0024(0.0058) Grad: 0.0312 LR: 0.000004  \n",
      "Epoch: [10][300/1316] Elapsed 1m 54s (remain 6m 26s) Loss: 0.0035(0.0058) Grad: 0.0463 LR: 0.000003  \n",
      "Epoch: [10][400/1316] Elapsed 2m 31s (remain 5m 46s) Loss: 0.0058(0.0057) Grad: 0.0621 LR: 0.000003  \n",
      "Epoch: [10][500/1316] Elapsed 3m 8s (remain 5m 7s) Loss: 0.0041(0.0056) Grad: 0.0341 LR: 0.000003  \n",
      "Epoch: [10][600/1316] Elapsed 3m 45s (remain 4m 28s) Loss: 0.0040(0.0054) Grad: 0.0428 LR: 0.000003  \n",
      "Epoch: [10][700/1316] Elapsed 4m 23s (remain 3m 50s) Loss: 0.0028(0.0052) Grad: 0.0453 LR: 0.000003  \n",
      "Epoch: [10][800/1316] Elapsed 5m 0s (remain 3m 12s) Loss: 0.0081(0.0052) Grad: 0.0596 LR: 0.000002  \n",
      "Epoch: [10][900/1316] Elapsed 5m 37s (remain 2m 35s) Loss: 0.0162(0.0052) Grad: 0.1430 LR: 0.000002  \n",
      "Epoch: [10][1000/1316] Elapsed 6m 15s (remain 1m 58s) Loss: 0.0048(0.0051) Grad: 0.0721 LR: 0.000002  \n",
      "Epoch: [10][1100/1316] Elapsed 6m 52s (remain 1m 20s) Loss: 0.0053(0.0051) Grad: 0.0598 LR: 0.000002  \n",
      "Epoch: [10][1200/1316] Elapsed 7m 30s (remain 0m 43s) Loss: 0.0017(0.0051) Grad: 0.0196 LR: 0.000002  \n",
      "Epoch: [10][1300/1316] Elapsed 8m 7s (remain 0m 5s) Loss: 0.0037(0.0051) Grad: 0.0445 LR: 0.000002  \n",
      "Epoch: [10][1315/1316] Elapsed 8m 12s (remain 0m 0s) Loss: 0.0066(0.0051) Grad: 0.0928 LR: 0.000002  \n",
      "EVAL: [0/330] Elapsed 0m 0s (remain 4m 39s) Loss: 0.0083(0.0083) \n",
      "EVAL: [100/330] Elapsed 0m 13s (remain 0m 29s) Loss: 0.0037(0.0060) \n",
      "EVAL: [200/330] Elapsed 0m 25s (remain 0m 16s) Loss: 0.0047(0.0057) \n",
      "EVAL: [300/330] Elapsed 0m 37s (remain 0m 3s) Loss: 0.0046(0.0056) \n"
     ]
    },
    {
     "name": "stderr",
     "output_type": "stream",
     "text": [
      "Epoch 10 - avg_train_loss: 0.0051  avg_val_loss: 0.0057  time: 533s\n",
      "Epoch 10 - Accuracy: 0.954053540915132\n",
      "Epoch 10 - Save final model\n"
     ]
    },
    {
     "name": "stdout",
     "output_type": "stream",
     "text": [
      "EVAL: [329/330] Elapsed 0m 40s (remain 0m 0s) Loss: 0.0021(0.0057) \n"
     ]
    },
    {
     "name": "stderr",
     "output_type": "stream",
     "text": [
      "========== fold: 3 result ==========\n",
      "Score: 0.95595\n",
      "========== fold: 4 training ==========\n"
     ]
    },
    {
     "name": "stdout",
     "output_type": "stream",
     "text": [
      "Epoch: [1][0/1316] Elapsed 0m 1s (remain 27m 35s) Loss: 0.1986(0.1986) Grad: 0.2262 LR: 0.000100  \n",
      "Epoch: [1][100/1316] Elapsed 0m 40s (remain 8m 10s) Loss: 0.0722(0.1157) Grad: 0.1704 LR: 0.000100  \n",
      "Epoch: [1][200/1316] Elapsed 1m 20s (remain 7m 28s) Loss: 0.0460(0.0874) Grad: 0.2023 LR: 0.000100  \n",
      "Epoch: [1][300/1316] Elapsed 2m 1s (remain 6m 49s) Loss: 0.0365(0.0738) Grad: 0.2040 LR: 0.000100  \n",
      "Epoch: [1][400/1316] Elapsed 2m 42s (remain 6m 11s) Loss: 0.0252(0.0638) Grad: 0.1754 LR: 0.000100  \n",
      "Epoch: [1][500/1316] Elapsed 3m 24s (remain 5m 32s) Loss: 0.0269(0.0575) Grad: 0.1624 LR: 0.000100  \n",
      "Epoch: [1][600/1316] Elapsed 4m 5s (remain 4m 51s) Loss: 0.0293(0.0524) Grad: 0.2367 LR: 0.000099  \n",
      "Epoch: [1][700/1316] Elapsed 4m 45s (remain 4m 10s) Loss: 0.0395(0.0486) Grad: 0.2220 LR: 0.000099  \n",
      "Epoch: [1][800/1316] Elapsed 5m 25s (remain 3m 29s) Loss: 0.0180(0.0454) Grad: 0.1386 LR: 0.000099  \n",
      "Epoch: [1][900/1316] Elapsed 6m 6s (remain 2m 48s) Loss: 0.0302(0.0429) Grad: 0.1934 LR: 0.000099  \n",
      "Epoch: [1][1000/1316] Elapsed 6m 47s (remain 2m 8s) Loss: 0.0088(0.0409) Grad: 0.0947 LR: 0.000099  \n",
      "Epoch: [1][1100/1316] Elapsed 7m 28s (remain 1m 27s) Loss: 0.0347(0.0389) Grad: 0.1716 LR: 0.000098  \n",
      "Epoch: [1][1200/1316] Elapsed 8m 8s (remain 0m 46s) Loss: 0.0225(0.0370) Grad: 0.1860 LR: 0.000098  \n",
      "Epoch: [1][1300/1316] Elapsed 8m 49s (remain 0m 6s) Loss: 0.0069(0.0355) Grad: 0.0982 LR: 0.000098  \n",
      "Epoch: [1][1315/1316] Elapsed 8m 55s (remain 0m 0s) Loss: 0.0172(0.0353) Grad: 0.2212 LR: 0.000098  \n",
      "EVAL: [0/330] Elapsed 0m 0s (remain 5m 13s) Loss: 0.0063(0.0063) \n",
      "EVAL: [100/330] Elapsed 0m 14s (remain 0m 31s) Loss: 0.0156(0.0114) \n",
      "EVAL: [200/330] Elapsed 0m 26s (remain 0m 17s) Loss: 0.0096(0.0114) \n",
      "EVAL: [300/330] Elapsed 0m 39s (remain 0m 3s) Loss: 0.0039(0.0112) \n"
     ]
    },
    {
     "name": "stderr",
     "output_type": "stream",
     "text": [
      "Epoch 1 - avg_train_loss: 0.0353  avg_val_loss: 0.0113  time: 578s\n",
      "Epoch 1 - Accuracy: 0.9403835200303778\n",
      "Epoch 1 - Save Best Score: 0.9404 Model\n"
     ]
    },
    {
     "name": "stdout",
     "output_type": "stream",
     "text": [
      "EVAL: [329/330] Elapsed 0m 42s (remain 0m 0s) Loss: 0.0066(0.0113) \n",
      "Epoch: [2][0/1316] Elapsed 0m 1s (remain 28m 47s) Loss: 0.0036(0.0036) Grad: 0.0439 LR: 0.000098  \n",
      "Epoch: [2][100/1316] Elapsed 0m 41s (remain 8m 24s) Loss: 0.0076(0.0117) Grad: 0.0932 LR: 0.000097  \n",
      "Epoch: [2][200/1316] Elapsed 1m 21s (remain 7m 34s) Loss: 0.0172(0.0112) Grad: 0.1136 LR: 0.000097  \n",
      "Epoch: [2][300/1316] Elapsed 2m 2s (remain 6m 52s) Loss: 0.0138(0.0111) Grad: 0.1108 LR: 0.000096  \n",
      "Epoch: [2][400/1316] Elapsed 2m 42s (remain 6m 11s) Loss: 0.0203(0.0108) Grad: 0.1346 LR: 0.000096  \n",
      "Epoch: [2][500/1316] Elapsed 3m 22s (remain 5m 30s) Loss: 0.0067(0.0107) Grad: 0.0959 LR: 0.000095  \n",
      "Epoch: [2][600/1316] Elapsed 4m 2s (remain 4m 49s) Loss: 0.0045(0.0107) Grad: 0.0497 LR: 0.000095  \n",
      "Epoch: [2][700/1316] Elapsed 4m 43s (remain 4m 8s) Loss: 0.0240(0.0107) Grad: 0.1582 LR: 0.000094  \n",
      "Epoch: [2][800/1316] Elapsed 5m 24s (remain 3m 28s) Loss: 0.0111(0.0106) Grad: 0.0919 LR: 0.000094  \n",
      "Epoch: [2][900/1316] Elapsed 6m 4s (remain 2m 47s) Loss: 0.0078(0.0105) Grad: 0.0924 LR: 0.000093  \n",
      "Epoch: [2][1000/1316] Elapsed 6m 44s (remain 2m 7s) Loss: 0.0063(0.0104) Grad: 0.0656 LR: 0.000093  \n",
      "Epoch: [2][1100/1316] Elapsed 7m 25s (remain 1m 27s) Loss: 0.0069(0.0103) Grad: 0.0664 LR: 0.000092  \n",
      "Epoch: [2][1200/1316] Elapsed 8m 6s (remain 0m 46s) Loss: 0.0042(0.0101) Grad: 0.0421 LR: 0.000091  \n",
      "Epoch: [2][1300/1316] Elapsed 8m 46s (remain 0m 6s) Loss: 0.0055(0.0100) Grad: 0.0615 LR: 0.000091  \n",
      "Epoch: [2][1315/1316] Elapsed 8m 52s (remain 0m 0s) Loss: 0.0096(0.0100) Grad: 0.1630 LR: 0.000091  \n",
      "EVAL: [0/330] Elapsed 0m 0s (remain 4m 50s) Loss: 0.0040(0.0040) \n",
      "EVAL: [100/330] Elapsed 0m 14s (remain 0m 32s) Loss: 0.0157(0.0081) \n",
      "EVAL: [200/330] Elapsed 0m 27s (remain 0m 17s) Loss: 0.0098(0.0083) \n",
      "EVAL: [300/330] Elapsed 0m 39s (remain 0m 3s) Loss: 0.0033(0.0082) \n"
     ]
    },
    {
     "name": "stderr",
     "output_type": "stream",
     "text": [
      "Epoch 2 - avg_train_loss: 0.0100  avg_val_loss: 0.0082  time: 576s\n",
      "Epoch 2 - Accuracy: 0.9483576988798177\n",
      "Epoch 2 - Save Best Score: 0.9484 Model\n"
     ]
    },
    {
     "name": "stdout",
     "output_type": "stream",
     "text": [
      "EVAL: [329/330] Elapsed 0m 43s (remain 0m 0s) Loss: 0.0019(0.0082) \n",
      "Epoch: [3][0/1316] Elapsed 0m 1s (remain 32m 38s) Loss: 0.1003(0.1003) Grad: 0.1793 LR: 0.000091  \n",
      "Epoch: [3][100/1316] Elapsed 0m 43s (remain 8m 45s) Loss: 0.0890(0.0663) Grad: 0.1445 LR: 0.000090  \n",
      "Epoch: [3][200/1316] Elapsed 1m 26s (remain 7m 57s) Loss: 0.0478(0.0643) Grad: 0.1442 LR: 0.000089  \n",
      "Epoch: [3][300/1316] Elapsed 2m 8s (remain 7m 13s) Loss: 0.0478(0.0636) Grad: 0.0880 LR: 0.000088  \n",
      "Epoch: [3][400/1316] Elapsed 2m 51s (remain 6m 31s) Loss: 0.0137(0.0638) Grad: 0.0707 LR: 0.000088  \n",
      "Epoch: [3][500/1316] Elapsed 3m 34s (remain 5m 48s) Loss: 0.1110(0.0628) Grad: 0.1305 LR: 0.000087  \n",
      "Epoch: [3][600/1316] Elapsed 4m 16s (remain 5m 5s) Loss: 0.0467(0.0615) Grad: 0.1539 LR: 0.000086  \n",
      "Epoch: [3][700/1316] Elapsed 4m 59s (remain 4m 22s) Loss: 0.0224(0.0614) Grad: 0.1802 LR: 0.000085  \n",
      "Epoch: [3][800/1316] Elapsed 5m 41s (remain 3m 39s) Loss: 0.0603(0.0608) Grad: 0.0814 LR: 0.000084  \n",
      "Epoch: [3][900/1316] Elapsed 6m 24s (remain 2m 57s) Loss: 0.0280(0.0602) Grad: 0.1125 LR: 0.000084  \n",
      "Epoch: [3][1000/1316] Elapsed 7m 6s (remain 2m 14s) Loss: 0.0483(0.0610) Grad: 0.0953 LR: 0.000083  \n",
      "Epoch: [3][1100/1316] Elapsed 7m 48s (remain 1m 31s) Loss: 0.0108(0.0612) Grad: 0.0823 LR: 0.000082  \n",
      "Epoch: [3][1200/1316] Elapsed 8m 29s (remain 0m 48s) Loss: 0.0291(0.0605) Grad: 0.2186 LR: 0.000081  \n",
      "Epoch: [3][1300/1316] Elapsed 9m 11s (remain 0m 6s) Loss: 0.1242(0.0602) Grad: 0.1387 LR: 0.000080  \n",
      "Epoch: [3][1315/1316] Elapsed 9m 17s (remain 0m 0s) Loss: 0.0987(0.0602) Grad: 0.2217 LR: 0.000080  \n",
      "EVAL: [0/330] Elapsed 0m 0s (remain 5m 19s) Loss: 0.0116(0.0116) \n",
      "EVAL: [100/330] Elapsed 0m 13s (remain 0m 31s) Loss: 0.0051(0.0099) \n",
      "EVAL: [200/330] Elapsed 0m 26s (remain 0m 16s) Loss: 0.0075(0.0101) \n",
      "EVAL: [300/330] Elapsed 0m 38s (remain 0m 3s) Loss: 0.0118(0.0103) \n"
     ]
    },
    {
     "name": "stderr",
     "output_type": "stream",
     "text": [
      "Epoch 3 - avg_train_loss: 0.0602  avg_val_loss: 0.0105  time: 600s\n",
      "Epoch 3 - Accuracy: 0.940573381431555\n"
     ]
    },
    {
     "name": "stdout",
     "output_type": "stream",
     "text": [
      "EVAL: [329/330] Elapsed 0m 41s (remain 0m 0s) Loss: 0.0051(0.0105) \n",
      "Epoch: [4][0/1316] Elapsed 0m 1s (remain 31m 54s) Loss: 0.1210(0.1210) Grad: 0.1557 LR: 0.000080  \n",
      "Epoch: [4][100/1316] Elapsed 0m 43s (remain 8m 38s) Loss: 0.0124(0.0556) Grad: 0.0815 LR: 0.000079  \n",
      "Epoch: [4][200/1316] Elapsed 1m 24s (remain 7m 46s) Loss: 0.1136(0.0555) Grad: 0.1230 LR: 0.000078  \n",
      "Epoch: [4][300/1316] Elapsed 2m 5s (remain 7m 4s) Loss: 0.0579(0.0559) Grad: 0.1734 LR: 0.000077  \n",
      "Epoch: [4][400/1316] Elapsed 2m 46s (remain 6m 20s) Loss: 0.0401(0.0561) Grad: 0.0782 LR: 0.000076  \n",
      "Epoch: [4][500/1316] Elapsed 3m 27s (remain 5m 38s) Loss: 0.1014(0.0564) Grad: 0.1241 LR: 0.000075  \n",
      "Epoch: [4][600/1316] Elapsed 4m 9s (remain 4m 56s) Loss: 0.1114(0.0566) Grad: 0.0992 LR: 0.000074  \n",
      "Epoch: [4][700/1316] Elapsed 4m 50s (remain 4m 15s) Loss: 0.1419(0.0567) Grad: 0.1442 LR: 0.000073  \n",
      "Epoch: [4][800/1316] Elapsed 5m 31s (remain 3m 33s) Loss: 0.0754(0.0559) Grad: 0.0810 LR: 0.000072  \n",
      "Epoch: [4][900/1316] Elapsed 6m 13s (remain 2m 52s) Loss: 0.0064(0.0557) Grad: 0.0545 LR: 0.000071  \n",
      "Epoch: [4][1000/1316] Elapsed 6m 55s (remain 2m 10s) Loss: 0.0500(0.0557) Grad: 0.1839 LR: 0.000070  \n",
      "Epoch: [4][1100/1316] Elapsed 7m 35s (remain 1m 29s) Loss: 0.0297(0.0553) Grad: 0.1306 LR: 0.000069  \n",
      "Epoch: [4][1200/1316] Elapsed 8m 16s (remain 0m 47s) Loss: 0.0833(0.0558) Grad: 0.1081 LR: 0.000067  \n",
      "Epoch: [4][1300/1316] Elapsed 8m 58s (remain 0m 6s) Loss: 0.0644(0.0558) Grad: 0.1014 LR: 0.000066  \n",
      "Epoch: [4][1315/1316] Elapsed 9m 4s (remain 0m 0s) Loss: 0.0113(0.0558) Grad: 0.1094 LR: 0.000066  \n",
      "EVAL: [0/330] Elapsed 0m 0s (remain 5m 9s) Loss: 0.0134(0.0134) \n",
      "EVAL: [100/330] Elapsed 0m 13s (remain 0m 30s) Loss: 0.0048(0.0084) \n",
      "EVAL: [200/330] Elapsed 0m 25s (remain 0m 16s) Loss: 0.0081(0.0088) \n",
      "EVAL: [300/330] Elapsed 0m 37s (remain 0m 3s) Loss: 0.0101(0.0088) \n"
     ]
    },
    {
     "name": "stderr",
     "output_type": "stream",
     "text": [
      "Epoch 4 - avg_train_loss: 0.0558  avg_val_loss: 0.0089  time: 585s\n",
      "Epoch 4 - Accuracy: 0.9456996392633378\n"
     ]
    },
    {
     "name": "stdout",
     "output_type": "stream",
     "text": [
      "EVAL: [329/330] Elapsed 0m 40s (remain 0m 0s) Loss: 0.0083(0.0089) \n",
      "Epoch: [5][0/1316] Elapsed 0m 1s (remain 30m 52s) Loss: 0.0189(0.0189) Grad: 0.1176 LR: 0.000066  \n",
      "Epoch: [5][100/1316] Elapsed 0m 42s (remain 8m 26s) Loss: 0.0527(0.0520) Grad: 0.1366 LR: 0.000065  \n",
      "Epoch: [5][200/1316] Elapsed 1m 22s (remain 7m 39s) Loss: 0.0840(0.0549) Grad: 0.0538 LR: 0.000064  \n",
      "Epoch: [5][300/1316] Elapsed 2m 3s (remain 6m 55s) Loss: 0.0631(0.0543) Grad: 0.0867 LR: 0.000063  \n",
      "Epoch: [5][400/1316] Elapsed 2m 43s (remain 6m 13s) Loss: 0.0089(0.0535) Grad: 0.0507 LR: 0.000062  \n",
      "Epoch: [5][500/1316] Elapsed 3m 24s (remain 5m 33s) Loss: 0.0169(0.0524) Grad: 0.1419 LR: 0.000061  \n",
      "Epoch: [5][600/1316] Elapsed 4m 6s (remain 4m 52s) Loss: 0.1060(0.0527) Grad: 0.1319 LR: 0.000059  \n",
      "Epoch: [5][700/1316] Elapsed 4m 46s (remain 4m 11s) Loss: 0.0820(0.0532) Grad: 0.0885 LR: 0.000058  \n",
      "Epoch: [5][800/1316] Elapsed 5m 26s (remain 3m 29s) Loss: 0.0736(0.0533) Grad: 0.0886 LR: 0.000057  \n",
      "Epoch: [5][900/1316] Elapsed 6m 6s (remain 2m 48s) Loss: 0.0374(0.0530) Grad: 0.0654 LR: 0.000056  \n",
      "Epoch: [5][1000/1316] Elapsed 6m 46s (remain 2m 8s) Loss: 0.0794(0.0529) Grad: 0.1418 LR: 0.000055  \n",
      "Epoch: [5][1100/1316] Elapsed 7m 27s (remain 1m 27s) Loss: 0.0690(0.0533) Grad: 0.0946 LR: 0.000054  \n",
      "Epoch: [5][1200/1316] Elapsed 8m 8s (remain 0m 46s) Loss: 0.0602(0.0535) Grad: 0.0942 LR: 0.000052  \n",
      "Epoch: [5][1300/1316] Elapsed 8m 50s (remain 0m 6s) Loss: 0.0641(0.0537) Grad: 0.1070 LR: 0.000051  \n",
      "Epoch: [5][1315/1316] Elapsed 8m 56s (remain 0m 0s) Loss: 0.0885(0.0537) Grad: 0.1197 LR: 0.000051  \n",
      "EVAL: [0/330] Elapsed 0m 1s (remain 5m 35s) Loss: 0.0124(0.0124) \n",
      "EVAL: [100/330] Elapsed 0m 13s (remain 0m 31s) Loss: 0.0047(0.0092) \n",
      "EVAL: [200/330] Elapsed 0m 26s (remain 0m 17s) Loss: 0.0096(0.0097) \n",
      "EVAL: [300/330] Elapsed 0m 39s (remain 0m 3s) Loss: 0.0143(0.0097) \n"
     ]
    },
    {
     "name": "stderr",
     "output_type": "stream",
     "text": [
      "Epoch 5 - avg_train_loss: 0.0537  avg_val_loss: 0.0098  time: 579s\n",
      "Epoch 5 - Accuracy: 0.9447503322574521\n"
     ]
    },
    {
     "name": "stdout",
     "output_type": "stream",
     "text": [
      "EVAL: [329/330] Elapsed 0m 42s (remain 0m 0s) Loss: 0.0136(0.0098) \n",
      "Epoch: [6][0/1316] Elapsed 0m 1s (remain 32m 14s) Loss: 0.0683(0.0683) Grad: 0.0524 LR: 0.000051  \n",
      "Epoch: [6][100/1316] Elapsed 0m 43s (remain 8m 37s) Loss: 0.0921(0.0469) Grad: 0.0867 LR: 0.000050  \n",
      "Epoch: [6][200/1316] Elapsed 1m 24s (remain 7m 49s) Loss: 0.1203(0.0489) Grad: 0.1249 LR: 0.000049  \n",
      "Epoch: [6][300/1316] Elapsed 2m 6s (remain 7m 6s) Loss: 0.1514(0.0516) Grad: 0.2041 LR: 0.000048  \n",
      "Epoch: [6][400/1316] Elapsed 2m 48s (remain 6m 24s) Loss: 0.0718(0.0544) Grad: 0.1022 LR: 0.000046  \n",
      "Epoch: [6][500/1316] Elapsed 3m 30s (remain 5m 42s) Loss: 0.0332(0.0537) Grad: 0.1763 LR: 0.000045  \n",
      "Epoch: [6][600/1316] Elapsed 4m 14s (remain 5m 2s) Loss: 0.0707(0.0529) Grad: 0.1428 LR: 0.000044  \n",
      "Epoch: [6][700/1316] Elapsed 4m 56s (remain 4m 20s) Loss: 0.0946(0.0530) Grad: 0.1184 LR: 0.000043  \n",
      "Epoch: [6][800/1316] Elapsed 5m 38s (remain 3m 37s) Loss: 0.0678(0.0528) Grad: 0.1395 LR: 0.000042  \n",
      "Epoch: [6][900/1316] Elapsed 6m 20s (remain 2m 55s) Loss: 0.1035(0.0526) Grad: 0.0996 LR: 0.000041  \n",
      "Epoch: [6][1000/1316] Elapsed 7m 2s (remain 2m 12s) Loss: 0.0496(0.0530) Grad: 0.0753 LR: 0.000039  \n",
      "Epoch: [6][1100/1316] Elapsed 7m 44s (remain 1m 30s) Loss: 0.0346(0.0525) Grad: 0.0648 LR: 0.000038  \n",
      "Epoch: [6][1200/1316] Elapsed 8m 26s (remain 0m 48s) Loss: 0.0822(0.0528) Grad: 0.0769 LR: 0.000037  \n",
      "Epoch: [6][1300/1316] Elapsed 9m 7s (remain 0m 6s) Loss: 0.0560(0.0520) Grad: 0.0975 LR: 0.000036  \n",
      "Epoch: [6][1315/1316] Elapsed 9m 13s (remain 0m 0s) Loss: 0.0336(0.0519) Grad: 0.2197 LR: 0.000036  \n",
      "EVAL: [0/330] Elapsed 0m 0s (remain 4m 37s) Loss: 0.0084(0.0084) \n",
      "EVAL: [100/330] Elapsed 0m 13s (remain 0m 31s) Loss: 0.0040(0.0067) \n",
      "EVAL: [200/330] Elapsed 0m 26s (remain 0m 16s) Loss: 0.0110(0.0068) \n",
      "EVAL: [300/330] Elapsed 0m 39s (remain 0m 3s) Loss: 0.0067(0.0068) \n"
     ]
    },
    {
     "name": "stderr",
     "output_type": "stream",
     "text": [
      "Epoch 6 - avg_train_loss: 0.0519  avg_val_loss: 0.0070  time: 596s\n",
      "Epoch 6 - Accuracy: 0.9510157584962977\n",
      "Epoch 6 - Save Best Score: 0.9510 Model\n"
     ]
    },
    {
     "name": "stdout",
     "output_type": "stream",
     "text": [
      "EVAL: [329/330] Elapsed 0m 42s (remain 0m 0s) Loss: 0.0033(0.0070) \n",
      "Epoch: [7][0/1316] Elapsed 0m 1s (remain 32m 36s) Loss: 0.0074(0.0074) Grad: 0.0669 LR: 0.000036  \n",
      "Epoch: [7][100/1316] Elapsed 0m 43s (remain 8m 37s) Loss: 0.1006(0.0362) Grad: 0.0980 LR: 0.000035  \n",
      "Epoch: [7][200/1316] Elapsed 1m 24s (remain 7m 47s) Loss: 0.0129(0.0339) Grad: 0.1461 LR: 0.000034  \n",
      "Epoch: [7][300/1316] Elapsed 2m 5s (remain 7m 2s) Loss: 0.0879(0.0330) Grad: 0.1103 LR: 0.000033  \n",
      "Epoch: [7][400/1316] Elapsed 2m 45s (remain 6m 18s) Loss: 0.0148(0.0322) Grad: 0.0885 LR: 0.000032  \n",
      "Epoch: [7][500/1316] Elapsed 3m 26s (remain 5m 36s) Loss: 0.0205(0.0336) Grad: 0.0832 LR: 0.000030  \n",
      "Epoch: [7][600/1316] Elapsed 4m 8s (remain 4m 55s) Loss: 0.0039(0.0331) Grad: 0.0629 LR: 0.000029  \n",
      "Epoch: [7][700/1316] Elapsed 4m 49s (remain 4m 13s) Loss: 0.0158(0.0334) Grad: 0.1021 LR: 0.000028  \n",
      "Epoch: [7][800/1316] Elapsed 5m 30s (remain 3m 32s) Loss: 0.0090(0.0334) Grad: 0.0851 LR: 0.000027  \n",
      "Epoch: [7][900/1316] Elapsed 6m 11s (remain 2m 51s) Loss: 0.0668(0.0336) Grad: 0.0588 LR: 0.000026  \n",
      "Epoch: [7][1000/1316] Elapsed 6m 52s (remain 2m 9s) Loss: 0.0188(0.0329) Grad: 0.1048 LR: 0.000025  \n",
      "Epoch: [7][1100/1316] Elapsed 7m 33s (remain 1m 28s) Loss: 0.0854(0.0329) Grad: 0.0623 LR: 0.000024  \n",
      "Epoch: [7][1200/1316] Elapsed 8m 14s (remain 0m 47s) Loss: 0.0022(0.0326) Grad: 0.0239 LR: 0.000023  \n",
      "Epoch: [7][1300/1316] Elapsed 8m 55s (remain 0m 6s) Loss: 0.0116(0.0326) Grad: 0.1146 LR: 0.000022  \n",
      "Epoch: [7][1315/1316] Elapsed 9m 1s (remain 0m 0s) Loss: 0.0912(0.0324) Grad: 0.1725 LR: 0.000022  \n",
      "EVAL: [0/330] Elapsed 0m 0s (remain 5m 1s) Loss: 0.0062(0.0062) \n",
      "EVAL: [100/330] Elapsed 0m 13s (remain 0m 31s) Loss: 0.0034(0.0058) \n",
      "EVAL: [200/330] Elapsed 0m 26s (remain 0m 16s) Loss: 0.0121(0.0059) \n",
      "EVAL: [300/330] Elapsed 0m 38s (remain 0m 3s) Loss: 0.0062(0.0059) \n"
     ]
    },
    {
     "name": "stderr",
     "output_type": "stream",
     "text": [
      "Epoch 7 - avg_train_loss: 0.0324  avg_val_loss: 0.0060  time: 583s\n",
      "Epoch 7 - Accuracy: 0.9508258970951206\n"
     ]
    },
    {
     "name": "stdout",
     "output_type": "stream",
     "text": [
      "EVAL: [329/330] Elapsed 0m 42s (remain 0m 0s) Loss: 0.0027(0.0060) \n",
      "Epoch: [8][0/1316] Elapsed 0m 1s (remain 31m 32s) Loss: 0.0241(0.0241) Grad: 0.1123 LR: 0.000022  \n",
      "Epoch: [8][100/1316] Elapsed 0m 43s (remain 8m 37s) Loss: 0.0093(0.0341) Grad: 0.0880 LR: 0.000021  \n",
      "Epoch: [8][200/1316] Elapsed 1m 23s (remain 7m 45s) Loss: 0.0318(0.0309) Grad: 0.1213 LR: 0.000020  \n",
      "Epoch: [8][300/1316] Elapsed 2m 4s (remain 7m 0s) Loss: 0.0073(0.0320) Grad: 0.0689 LR: 0.000020  \n",
      "Epoch: [8][400/1316] Elapsed 2m 45s (remain 6m 18s) Loss: 0.0416(0.0324) Grad: 0.0489 LR: 0.000019  \n",
      "Epoch: [8][500/1316] Elapsed 3m 27s (remain 5m 36s) Loss: 0.0214(0.0310) Grad: 0.1648 LR: 0.000018  \n",
      "Epoch: [8][600/1316] Elapsed 4m 8s (remain 4m 55s) Loss: 0.0546(0.0319) Grad: 0.0615 LR: 0.000017  \n",
      "Epoch: [8][700/1316] Elapsed 4m 49s (remain 4m 13s) Loss: 0.0165(0.0316) Grad: 0.1735 LR: 0.000016  \n",
      "Epoch: [8][800/1316] Elapsed 5m 29s (remain 3m 32s) Loss: 0.0210(0.0309) Grad: 0.1266 LR: 0.000015  \n",
      "Epoch: [8][900/1316] Elapsed 6m 10s (remain 2m 50s) Loss: 0.0197(0.0311) Grad: 0.1321 LR: 0.000014  \n",
      "Epoch: [8][1000/1316] Elapsed 6m 50s (remain 2m 9s) Loss: 0.0799(0.0305) Grad: 0.0963 LR: 0.000014  \n",
      "Epoch: [8][1100/1316] Elapsed 7m 31s (remain 1m 28s) Loss: 0.0491(0.0307) Grad: 0.0908 LR: 0.000013  \n",
      "Epoch: [8][1200/1316] Elapsed 8m 11s (remain 0m 47s) Loss: 0.0039(0.0306) Grad: 0.0429 LR: 0.000012  \n",
      "Epoch: [8][1300/1316] Elapsed 8m 51s (remain 0m 6s) Loss: 0.0083(0.0304) Grad: 0.0780 LR: 0.000012  \n",
      "Epoch: [8][1315/1316] Elapsed 8m 57s (remain 0m 0s) Loss: 0.0686(0.0304) Grad: 0.0900 LR: 0.000011  \n",
      "EVAL: [0/330] Elapsed 0m 0s (remain 4m 57s) Loss: 0.0054(0.0054) \n",
      "EVAL: [100/330] Elapsed 0m 13s (remain 0m 30s) Loss: 0.0068(0.0061) \n",
      "EVAL: [200/330] Elapsed 0m 26s (remain 0m 16s) Loss: 0.0113(0.0062) \n",
      "EVAL: [300/330] Elapsed 0m 38s (remain 0m 3s) Loss: 0.0073(0.0062) \n"
     ]
    },
    {
     "name": "stderr",
     "output_type": "stream",
     "text": [
      "Epoch 8 - avg_train_loss: 0.0304  avg_val_loss: 0.0063  time: 580s\n",
      "Epoch 8 - Accuracy: 0.9504461742927662\n"
     ]
    },
    {
     "name": "stdout",
     "output_type": "stream",
     "text": [
      "EVAL: [329/330] Elapsed 0m 41s (remain 0m 0s) Loss: 0.0062(0.0063) \n",
      "Epoch: [9][0/1316] Elapsed 0m 1s (remain 31m 25s) Loss: 0.0038(0.0038) Grad: 0.0421 LR: 0.000011  \n",
      "Epoch: [9][100/1316] Elapsed 0m 42s (remain 8m 36s) Loss: 0.0059(0.0302) Grad: 0.0931 LR: 0.000011  \n",
      "Epoch: [9][200/1316] Elapsed 1m 23s (remain 7m 45s) Loss: 0.0418(0.0288) Grad: 0.0773 LR: 0.000010  \n",
      "Epoch: [9][300/1316] Elapsed 2m 6s (remain 7m 5s) Loss: 0.0715(0.0304) Grad: 0.1827 LR: 0.000009  \n",
      "Epoch: [9][400/1316] Elapsed 2m 48s (remain 6m 24s) Loss: 0.0173(0.0307) Grad: 0.0959 LR: 0.000009  \n",
      "Epoch: [9][500/1316] Elapsed 3m 30s (remain 5m 42s) Loss: 0.0748(0.0301) Grad: 0.0798 LR: 0.000008  \n",
      "Epoch: [9][600/1316] Elapsed 4m 12s (remain 5m 0s) Loss: 0.0038(0.0304) Grad: 0.0455 LR: 0.000008  \n",
      "Epoch: [9][700/1316] Elapsed 4m 54s (remain 4m 18s) Loss: 0.0920(0.0310) Grad: 0.1044 LR: 0.000007  \n",
      "Epoch: [9][800/1316] Elapsed 5m 36s (remain 3m 36s) Loss: 0.0919(0.0314) Grad: 0.0907 LR: 0.000007  \n",
      "Epoch: [9][900/1316] Elapsed 6m 18s (remain 2m 54s) Loss: 0.0737(0.0307) Grad: 0.0644 LR: 0.000006  \n",
      "Epoch: [9][1000/1316] Elapsed 7m 0s (remain 2m 12s) Loss: 0.0107(0.0306) Grad: 0.0955 LR: 0.000006  \n",
      "Epoch: [9][1100/1316] Elapsed 7m 42s (remain 1m 30s) Loss: 0.0306(0.0308) Grad: 0.0976 LR: 0.000005  \n",
      "Epoch: [9][1200/1316] Elapsed 8m 24s (remain 0m 48s) Loss: 0.0107(0.0312) Grad: 0.1201 LR: 0.000005  \n",
      "Epoch: [9][1300/1316] Elapsed 9m 6s (remain 0m 6s) Loss: 0.0864(0.0314) Grad: 0.0724 LR: 0.000004  \n",
      "Epoch: [9][1315/1316] Elapsed 9m 12s (remain 0m 0s) Loss: 0.0214(0.0313) Grad: 0.1888 LR: 0.000004  \n",
      "EVAL: [0/330] Elapsed 0m 0s (remain 4m 48s) Loss: 0.0051(0.0051) \n",
      "EVAL: [100/330] Elapsed 0m 13s (remain 0m 31s) Loss: 0.0064(0.0059) \n",
      "EVAL: [200/330] Elapsed 0m 26s (remain 0m 17s) Loss: 0.0092(0.0060) \n",
      "EVAL: [300/330] Elapsed 0m 39s (remain 0m 3s) Loss: 0.0069(0.0060) \n"
     ]
    },
    {
     "name": "stderr",
     "output_type": "stream",
     "text": [
      "Epoch 9 - avg_train_loss: 0.0313  avg_val_loss: 0.0061  time: 596s\n",
      "Epoch 9 - Accuracy: 0.9506360356939434\n"
     ]
    },
    {
     "name": "stdout",
     "output_type": "stream",
     "text": [
      "EVAL: [329/330] Elapsed 0m 42s (remain 0m 0s) Loss: 0.0073(0.0061) \n",
      "Epoch: [10][0/1316] Elapsed 0m 1s (remain 27m 51s) Loss: 0.0049(0.0049) Grad: 0.0632 LR: 0.000004  \n",
      "Epoch: [10][100/1316] Elapsed 0m 42s (remain 8m 27s) Loss: 0.0054(0.0064) Grad: 0.0340 LR: 0.000004  \n",
      "Epoch: [10][200/1316] Elapsed 1m 22s (remain 7m 37s) Loss: 0.0044(0.0059) Grad: 0.0519 LR: 0.000004  \n",
      "Epoch: [10][300/1316] Elapsed 2m 3s (remain 6m 55s) Loss: 0.0025(0.0055) Grad: 0.0584 LR: 0.000003  \n",
      "Epoch: [10][400/1316] Elapsed 2m 44s (remain 6m 15s) Loss: 0.0022(0.0055) Grad: 0.0476 LR: 0.000003  \n",
      "Epoch: [10][500/1316] Elapsed 3m 25s (remain 5m 34s) Loss: 0.0068(0.0057) Grad: 0.0798 LR: 0.000003  \n",
      "Epoch: [10][600/1316] Elapsed 4m 5s (remain 4m 52s) Loss: 0.0048(0.0055) Grad: 0.0600 LR: 0.000003  \n",
      "Epoch: [10][700/1316] Elapsed 4m 45s (remain 4m 10s) Loss: 0.0063(0.0055) Grad: 0.0522 LR: 0.000003  \n",
      "Epoch: [10][800/1316] Elapsed 5m 27s (remain 3m 30s) Loss: 0.0017(0.0055) Grad: 0.0319 LR: 0.000002  \n",
      "Epoch: [10][900/1316] Elapsed 6m 7s (remain 2m 49s) Loss: 0.0028(0.0054) Grad: 0.0402 LR: 0.000002  \n",
      "Epoch: [10][1000/1316] Elapsed 6m 47s (remain 2m 8s) Loss: 0.0040(0.0053) Grad: 0.0485 LR: 0.000002  \n",
      "Epoch: [10][1100/1316] Elapsed 7m 28s (remain 1m 27s) Loss: 0.0017(0.0053) Grad: 0.0327 LR: 0.000002  \n",
      "Epoch: [10][1200/1316] Elapsed 8m 8s (remain 0m 46s) Loss: 0.0034(0.0053) Grad: 0.0487 LR: 0.000002  \n",
      "Epoch: [10][1300/1316] Elapsed 8m 49s (remain 0m 6s) Loss: 0.0071(0.0053) Grad: 0.0707 LR: 0.000002  \n",
      "Epoch: [10][1315/1316] Elapsed 8m 55s (remain 0m 0s) Loss: 0.0037(0.0053) Grad: 0.0890 LR: 0.000002  \n",
      "EVAL: [0/330] Elapsed 0m 0s (remain 5m 3s) Loss: 0.0047(0.0047) \n",
      "EVAL: [100/330] Elapsed 0m 14s (remain 0m 31s) Loss: 0.0052(0.0054) \n",
      "EVAL: [200/330] Elapsed 0m 27s (remain 0m 17s) Loss: 0.0138(0.0058) \n",
      "EVAL: [300/330] Elapsed 0m 39s (remain 0m 3s) Loss: 0.0059(0.0060) \n"
     ]
    },
    {
     "name": "stderr",
     "output_type": "stream",
     "text": [
      "Epoch 10 - avg_train_loss: 0.0053  avg_val_loss: 0.0061  time: 578s\n",
      "Epoch 10 - Accuracy: 0.950066451490412\n",
      "Epoch 10 - Save final model\n"
     ]
    },
    {
     "name": "stdout",
     "output_type": "stream",
     "text": [
      "EVAL: [329/330] Elapsed 0m 42s (remain 0m 0s) Loss: 0.0053(0.0061) \n"
     ]
    },
    {
     "name": "stderr",
     "output_type": "stream",
     "text": [
      "========== fold: 4 result ==========\n",
      "Score: 0.95102\n",
      "========== CV ==========\n",
      "Score: 0.94961\n"
     ]
    }
   ],
   "source": [
    "if __name__ == \"__main__\":\n",
    "    main()"
   ]
  }
 ],
 "metadata": {
  "kernelspec": {
   "display_name": "Python 3",
   "language": "python",
   "name": "python3"
  },
  "language_info": {
   "codemirror_mode": {
    "name": "ipython",
    "version": 3
   },
   "file_extension": ".py",
   "mimetype": "text/x-python",
   "name": "python",
   "nbconvert_exporter": "python",
   "pygments_lexer": "ipython3",
   "version": "3.7.9"
  }
 },
 "nbformat": 4,
 "nbformat_minor": 4
}
