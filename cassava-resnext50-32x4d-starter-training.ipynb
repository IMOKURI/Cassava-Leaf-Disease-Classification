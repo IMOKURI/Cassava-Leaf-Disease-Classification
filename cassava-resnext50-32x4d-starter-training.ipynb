{
 "cells": [
  {
   "cell_type": "markdown",
   "metadata": {},
   "source": [
    "# About this notebook  \n",
    "- PyTorch resnext50_32x4d starter code  \n",
    "- StratifiedKFold 5 folds  \n",
    "\n",
    "If this notebook is helpful, feel free to upvote :)"
   ]
  },
  {
   "cell_type": "code",
   "execution_count": 1,
   "metadata": {},
   "outputs": [],
   "source": [
    "import os\n",
    "\n",
    "if os.environ.get(\"KAGGLE_KERNEL_RUN_TYPE\") is None:\n",
    "    ON_KAGGLE = False\n",
    "else:\n",
    "    ON_KAGGLE = True"
   ]
  },
  {
   "cell_type": "markdown",
   "metadata": {},
   "source": [
    "# Data Loading"
   ]
  },
  {
   "cell_type": "code",
   "execution_count": 2,
   "metadata": {},
   "outputs": [],
   "source": [
    "import os\n",
    "\n",
    "import pandas as pd\n",
    "import seaborn as sns\n",
    "from matplotlib import pyplot as plt"
   ]
  },
  {
   "cell_type": "code",
   "execution_count": 3,
   "metadata": {},
   "outputs": [
    {
     "data": {
      "text/plain": [
       "['label_num_to_disease_map.json',\n",
       " 'sample_submission.csv',\n",
       " 'train_tfrecords',\n",
       " 'test_tfrecords',\n",
       " 'test_images',\n",
       " 'train_images',\n",
       " 'train.csv']"
      ]
     },
     "execution_count": 3,
     "metadata": {},
     "output_type": "execute_result"
    }
   ],
   "source": [
    "os.listdir(\"../input/cassava-leaf-disease-classification\")"
   ]
  },
  {
   "cell_type": "code",
   "execution_count": 4,
   "metadata": {},
   "outputs": [
    {
     "data": {
      "text/html": [
       "<div>\n",
       "<style scoped>\n",
       "    .dataframe tbody tr th:only-of-type {\n",
       "        vertical-align: middle;\n",
       "    }\n",
       "\n",
       "    .dataframe tbody tr th {\n",
       "        vertical-align: top;\n",
       "    }\n",
       "\n",
       "    .dataframe thead th {\n",
       "        text-align: right;\n",
       "    }\n",
       "</style>\n",
       "<table border=\"1\" class=\"dataframe\">\n",
       "  <thead>\n",
       "    <tr style=\"text-align: right;\">\n",
       "      <th></th>\n",
       "      <th>image_id</th>\n",
       "      <th>label</th>\n",
       "      <th>source</th>\n",
       "    </tr>\n",
       "  </thead>\n",
       "  <tbody>\n",
       "    <tr>\n",
       "      <th>0</th>\n",
       "      <td>1000015157.jpg</td>\n",
       "      <td>0</td>\n",
       "      <td>2020</td>\n",
       "    </tr>\n",
       "    <tr>\n",
       "      <th>1</th>\n",
       "      <td>1000201771.jpg</td>\n",
       "      <td>3</td>\n",
       "      <td>2020</td>\n",
       "    </tr>\n",
       "    <tr>\n",
       "      <th>2</th>\n",
       "      <td>100042118.jpg</td>\n",
       "      <td>1</td>\n",
       "      <td>2020</td>\n",
       "    </tr>\n",
       "    <tr>\n",
       "      <th>3</th>\n",
       "      <td>1000723321.jpg</td>\n",
       "      <td>1</td>\n",
       "      <td>2020</td>\n",
       "    </tr>\n",
       "    <tr>\n",
       "      <th>4</th>\n",
       "      <td>1000812911.jpg</td>\n",
       "      <td>3</td>\n",
       "      <td>2020</td>\n",
       "    </tr>\n",
       "  </tbody>\n",
       "</table>\n",
       "</div>"
      ],
      "text/plain": [
       "         image_id  label  source\n",
       "0  1000015157.jpg      0    2020\n",
       "1  1000201771.jpg      3    2020\n",
       "2   100042118.jpg      1    2020\n",
       "3  1000723321.jpg      1    2020\n",
       "4  1000812911.jpg      3    2020"
      ]
     },
     "metadata": {},
     "output_type": "display_data"
    },
    {
     "data": {
      "text/html": [
       "<div>\n",
       "<style scoped>\n",
       "    .dataframe tbody tr th:only-of-type {\n",
       "        vertical-align: middle;\n",
       "    }\n",
       "\n",
       "    .dataframe tbody tr th {\n",
       "        vertical-align: top;\n",
       "    }\n",
       "\n",
       "    .dataframe thead th {\n",
       "        text-align: right;\n",
       "    }\n",
       "</style>\n",
       "<table border=\"1\" class=\"dataframe\">\n",
       "  <thead>\n",
       "    <tr style=\"text-align: right;\">\n",
       "      <th></th>\n",
       "      <th>image_id</th>\n",
       "      <th>label</th>\n",
       "    </tr>\n",
       "  </thead>\n",
       "  <tbody>\n",
       "    <tr>\n",
       "      <th>0</th>\n",
       "      <td>2216849948.jpg</td>\n",
       "      <td>4</td>\n",
       "    </tr>\n",
       "  </tbody>\n",
       "</table>\n",
       "</div>"
      ],
      "text/plain": [
       "         image_id  label\n",
       "0  2216849948.jpg      4"
      ]
     },
     "metadata": {},
     "output_type": "display_data"
    },
    {
     "data": {
      "text/html": [
       "<div>\n",
       "<style scoped>\n",
       "    .dataframe tbody tr th:only-of-type {\n",
       "        vertical-align: middle;\n",
       "    }\n",
       "\n",
       "    .dataframe tbody tr th {\n",
       "        vertical-align: top;\n",
       "    }\n",
       "\n",
       "    .dataframe thead th {\n",
       "        text-align: right;\n",
       "    }\n",
       "</style>\n",
       "<table border=\"1\" class=\"dataframe\">\n",
       "  <thead>\n",
       "    <tr style=\"text-align: right;\">\n",
       "      <th></th>\n",
       "      <th>0</th>\n",
       "    </tr>\n",
       "  </thead>\n",
       "  <tbody>\n",
       "    <tr>\n",
       "      <th>0</th>\n",
       "      <td>Cassava Bacterial Blight (CBB)</td>\n",
       "    </tr>\n",
       "    <tr>\n",
       "      <th>1</th>\n",
       "      <td>Cassava Brown Streak Disease (CBSD)</td>\n",
       "    </tr>\n",
       "    <tr>\n",
       "      <th>2</th>\n",
       "      <td>Cassava Green Mottle (CGM)</td>\n",
       "    </tr>\n",
       "    <tr>\n",
       "      <th>3</th>\n",
       "      <td>Cassava Mosaic Disease (CMD)</td>\n",
       "    </tr>\n",
       "    <tr>\n",
       "      <th>4</th>\n",
       "      <td>Healthy</td>\n",
       "    </tr>\n",
       "  </tbody>\n",
       "</table>\n",
       "</div>"
      ],
      "text/plain": [
       "                                     0\n",
       "0       Cassava Bacterial Blight (CBB)\n",
       "1  Cassava Brown Streak Disease (CBSD)\n",
       "2           Cassava Green Mottle (CGM)\n",
       "3         Cassava Mosaic Disease (CMD)\n",
       "4                              Healthy"
      ]
     },
     "metadata": {},
     "output_type": "display_data"
    }
   ],
   "source": [
    "# train = pd.read_csv(\"../input/cassava-leaf-disease-classification/train.csv\")\n",
    "train = pd.read_csv(\"../input/cassava-leaf-disease-merged/merged.csv\")\n",
    "test = pd.read_csv(\"../input/cassava-leaf-disease-classification/sample_submission.csv\")\n",
    "label_map = pd.read_json(\"../input/cassava-leaf-disease-classification/label_num_to_disease_map.json\", orient=\"index\")\n",
    "display(train.head())\n",
    "display(test.head())\n",
    "display(label_map)"
   ]
  },
  {
   "cell_type": "code",
   "execution_count": 5,
   "metadata": {},
   "outputs": [
    {
     "name": "stderr",
     "output_type": "stream",
     "text": [
      "/home/ubuntu/work/pytorch/.venv/lib/python3.7/site-packages/seaborn/distributions.py:2551: FutureWarning: `distplot` is a deprecated function and will be removed in a future version. Please adapt your code to use either `displot` (a figure-level function with similar flexibility) or `histplot` (an axes-level function for histograms).\n",
      "  warnings.warn(msg, FutureWarning)\n"
     ]
    },
    {
     "data": {
      "text/plain": [
       "<AxesSubplot:xlabel='label'>"
      ]
     },
     "execution_count": 5,
     "metadata": {},
     "output_type": "execute_result"
    },
    {
     "data": {
      "image/png": "[encoded data removed]",
      "text/plain": [
       "<Figure size 432x288 with 1 Axes>"
      ]
     },
     "metadata": {
      "needs_background": "light"
     },
     "output_type": "display_data"
    }
   ],
   "source": [
    "sns.distplot(train[\"label\"], kde=False)"
   ]
  },
  {
   "cell_type": "markdown",
   "metadata": {},
   "source": [
    "# Directory settings"
   ]
  },
  {
   "cell_type": "code",
   "execution_count": 6,
   "metadata": {},
   "outputs": [],
   "source": [
    "# ====================================================\n",
    "# Directory settings\n",
    "# ====================================================\n",
    "import os\n",
    "\n",
    "OUTPUT_DIR = \"./\"\n",
    "if not os.path.exists(OUTPUT_DIR):\n",
    "    os.makedirs(OUTPUT_DIR)\n",
    "\n",
    "# TRAIN_PATH = \"../input/cassava-leaf-disease-classification/train_images\"\n",
    "TRAIN_PATH = \"../input/cassava-leaf-disease-merged/train\"\n",
    "TEST_PATH = \"../input/cassava-leaf-disease-classification/test_images\""
   ]
  },
  {
   "cell_type": "markdown",
   "metadata": {},
   "source": [
    "# CFG"
   ]
  },
  {
   "cell_type": "code",
   "execution_count": 7,
   "metadata": {},
   "outputs": [],
   "source": [
    "# ====================================================\n",
    "# CFG\n",
    "# ====================================================\n",
    "class CFG:\n",
    "    debug = False\n",
    "    apex = False\n",
    "    print_freq = 100\n",
    "    num_workers = 4\n",
    "    model_name = \"resnext50_32x4d\"\n",
    "    size = 512  # 512 if ON_KAGGLE else 384\n",
    "    criterion = \"BiTemperedLoss\"  # ['CrossEntropyLoss', 'BiTemperedLoss']\n",
    "    btl_t1 = 0.3  # Bi-Tempered Logistic Loss\n",
    "    btl_t2 = 1.0\n",
    "    label_smoothing = 0.05\n",
    "    scheduler = (\n",
    "        \"CosineAnnealingWarmRestarts\"  # ['ReduceLROnPlateau', 'CosineAnnealingLR', 'CosineAnnealingWarmRestarts']\n",
    "    )\n",
    "    epochs = 10\n",
    "    # factor=0.2 # ReduceLROnPlateau\n",
    "    # patience=4 # ReduceLROnPlateau\n",
    "    # eps=1e-6 # ReduceLROnPlateau\n",
    "    # T_max=10 # CosineAnnealingLR\n",
    "    T_0 = 10  # CosineAnnealingWarmRestarts\n",
    "    lr = 1e-4\n",
    "    min_lr = 1e-6\n",
    "    batch_size = 14\n",
    "    weight_decay = 1e-6\n",
    "    gradient_accumulation_steps = 1\n",
    "    max_grad_norm = 1000\n",
    "    seed = 22\n",
    "    target_size = 5\n",
    "    target_col = \"label\"\n",
    "    n_fold = 5\n",
    "    trn_fold = [0, 1, 2, 3, 4]\n",
    "    train = True\n",
    "    inference = False\n",
    "\n",
    "\n",
    "if CFG.debug:\n",
    "    CFG.epochs = 1\n",
    "    train = train.sample(n=1000, random_state=CFG.seed).reset_index(drop=True)"
   ]
  },
  {
   "cell_type": "markdown",
   "metadata": {},
   "source": [
    "# Library"
   ]
  },
  {
   "cell_type": "code",
   "execution_count": 8,
   "metadata": {},
   "outputs": [],
   "source": [
    "# ====================================================\n",
    "# Library\n",
    "# ====================================================\n",
    "import sys\n",
    "\n",
    "sys.path.append(\"../input/pytorch-image-models/pytorch-image-models-master\")\n",
    "sys.path.append(\"../input/bitemperedlogloss/\")\n",
    "\n",
    "import math\n",
    "import os\n",
    "import random\n",
    "import shutil\n",
    "import time\n",
    "import warnings\n",
    "from collections import Counter, defaultdict\n",
    "from contextlib import contextmanager\n",
    "from functools import partial\n",
    "from pathlib import Path\n",
    "\n",
    "import bi_tempered_loss_pytorch as btl\n",
    "import cv2\n",
    "import numpy as np\n",
    "import pandas as pd\n",
    "import scipy as sp\n",
    "import timm\n",
    "import torch\n",
    "import torch.nn as nn\n",
    "import torch.nn.functional as F\n",
    "import torchvision.models as models\n",
    "from albumentations import (\n",
    "    Compose,\n",
    "    Cutout,\n",
    "    HorizontalFlip,\n",
    "    IAAAdditiveGaussianNoise,\n",
    "    ImageOnlyTransform,\n",
    "    Normalize,\n",
    "    OneOf,\n",
    "    RandomBrightness,\n",
    "    RandomBrightnessContrast,\n",
    "    RandomContrast,\n",
    "    RandomCrop,\n",
    "    RandomResizedCrop,\n",
    "    Resize,\n",
    "    Rotate,\n",
    "    ShiftScaleRotate,\n",
    "    Transpose,\n",
    "    VerticalFlip,\n",
    ")\n",
    "from albumentations.pytorch import ToTensorV2\n",
    "from PIL import Image\n",
    "from sklearn import preprocessing\n",
    "from sklearn.metrics import accuracy_score\n",
    "from sklearn.model_selection import StratifiedKFold\n",
    "from torch.nn.parameter import Parameter\n",
    "from torch.optim import SGD, Adam\n",
    "from torch.optim.lr_scheduler import CosineAnnealingLR, CosineAnnealingWarmRestarts, ReduceLROnPlateau\n",
    "from torch.utils.data import DataLoader, Dataset\n",
    "from tqdm.auto import tqdm\n",
    "\n",
    "warnings.filterwarnings(\"ignore\")\n",
    "\n",
    "if CFG.apex:\n",
    "    from apex import amp\n",
    "\n",
    "device = torch.device(\"cuda\" if torch.cuda.is_available() else \"cpu\")"
   ]
  },
  {
   "cell_type": "markdown",
   "metadata": {},
   "source": [
    "# Utils"
   ]
  },
  {
   "cell_type": "code",
   "execution_count": 9,
   "metadata": {},
   "outputs": [],
   "source": [
    "# ====================================================\n",
    "# Utils\n",
    "# ====================================================\n",
    "def get_score(y_true, y_pred):\n",
    "    return accuracy_score(y_true, y_pred)\n",
    "\n",
    "\n",
    "@contextmanager\n",
    "def timer(name):\n",
    "    t0 = time.time()\n",
    "    LOGGER.info(f\"[{name}] start\")\n",
    "    yield\n",
    "    LOGGER.info(f\"[{name}] done in {time.time() - t0:.0f} s.\")\n",
    "\n",
    "\n",
    "def init_logger(log_file=OUTPUT_DIR + \"train.log\"):\n",
    "    from logging import INFO, FileHandler, Formatter, StreamHandler, getLogger\n",
    "\n",
    "    logger = getLogger(__name__)\n",
    "    logger.setLevel(INFO)\n",
    "    handler1 = StreamHandler()\n",
    "    handler1.setFormatter(Formatter(\"%(message)s\"))\n",
    "    handler2 = FileHandler(filename=log_file)\n",
    "    handler2.setFormatter(Formatter(\"%(message)s\"))\n",
    "    logger.addHandler(handler1)\n",
    "    logger.addHandler(handler2)\n",
    "    return logger\n",
    "\n",
    "\n",
    "LOGGER = init_logger()\n",
    "\n",
    "\n",
    "def seed_torch(seed=42):\n",
    "    random.seed(seed)\n",
    "    os.environ[\"PYTHONHASHSEED\"] = str(seed)\n",
    "    np.random.seed(seed)\n",
    "    torch.manual_seed(seed)\n",
    "    torch.cuda.manual_seed(seed)\n",
    "    torch.backends.cudnn.deterministic = True\n",
    "\n",
    "\n",
    "seed_torch(seed=CFG.seed)"
   ]
  },
  {
   "cell_type": "markdown",
   "metadata": {},
   "source": [
    "# CV split"
   ]
  },
  {
   "cell_type": "code",
   "execution_count": 10,
   "metadata": {},
   "outputs": [
    {
     "name": "stdout",
     "output_type": "stream",
     "text": [
      "fold  label\n",
      "0     0         299\n",
      "      1         695\n",
      "      2         604\n",
      "      3        3092\n",
      "      4         578\n",
      "1     0         299\n",
      "      1         695\n",
      "      2         604\n",
      "      3        3092\n",
      "      4         578\n",
      "2     0         298\n",
      "      1         695\n",
      "      2         603\n",
      "      3        3093\n",
      "      4         578\n",
      "3     0         298\n",
      "      1         695\n",
      "      2         603\n",
      "      3        3093\n",
      "      4         578\n",
      "4     0         298\n",
      "      1         696\n",
      "      2         603\n",
      "      3        3092\n",
      "      4         578\n",
      "dtype: int64\n"
     ]
    }
   ],
   "source": [
    "folds = train.copy()\n",
    "Fold = StratifiedKFold(n_splits=CFG.n_fold, shuffle=True, random_state=CFG.seed)\n",
    "for n, (train_index, val_index) in enumerate(Fold.split(folds, folds[CFG.target_col])):\n",
    "    folds.loc[val_index, \"fold\"] = int(n)\n",
    "folds[\"fold\"] = folds[\"fold\"].astype(int)\n",
    "print(folds.groupby([\"fold\", CFG.target_col]).size())"
   ]
  },
  {
   "cell_type": "markdown",
   "metadata": {},
   "source": [
    "# Dataset"
   ]
  },
  {
   "cell_type": "code",
   "execution_count": 11,
   "metadata": {},
   "outputs": [],
   "source": [
    "# ====================================================\n",
    "# Dataset\n",
    "# ====================================================\n",
    "class TrainDataset(Dataset):\n",
    "    def __init__(self, df, transform=None):\n",
    "        self.df = df\n",
    "        self.file_names = df[\"image_id\"].values\n",
    "        self.labels = df[\"label\"].values\n",
    "        self.transform = transform\n",
    "\n",
    "    def __len__(self):\n",
    "        return len(self.df)\n",
    "\n",
    "    def __getitem__(self, idx):\n",
    "        file_name = self.file_names[idx]\n",
    "        file_path = f\"{TRAIN_PATH}/{file_name}\"\n",
    "        image = cv2.imread(file_path)\n",
    "        image = cv2.cvtColor(image, cv2.COLOR_BGR2RGB)\n",
    "        if self.transform:\n",
    "            augmented = self.transform(image=image)\n",
    "            image = augmented[\"image\"]\n",
    "        label = torch.tensor(self.labels[idx]).long()\n",
    "        return image, label\n",
    "\n",
    "\n",
    "class TestDataset(Dataset):\n",
    "    def __init__(self, df, transform=None):\n",
    "        self.df = df\n",
    "        self.file_names = df[\"image_id\"].values\n",
    "        self.transform = transform\n",
    "\n",
    "    def __len__(self):\n",
    "        return len(self.df)\n",
    "\n",
    "    def __getitem__(self, idx):\n",
    "        file_name = self.file_names[idx]\n",
    "        file_path = f\"{TEST_PATH}/{file_name}\"\n",
    "        image = cv2.imread(file_path)\n",
    "        image = cv2.cvtColor(image, cv2.COLOR_BGR2RGB)\n",
    "        if self.transform:\n",
    "            augmented = self.transform(image=image)\n",
    "            image = augmented[\"image\"]\n",
    "        return image"
   ]
  },
  {
   "cell_type": "code",
   "execution_count": 12,
   "metadata": {},
   "outputs": [
    {
     "data": {
      "image/png": "[encoded data removed]",
      "text/plain": [
       "<Figure size 432x288 with 1 Axes>"
      ]
     },
     "metadata": {
      "needs_background": "light"
     },
     "output_type": "display_data"
    }
   ],
   "source": [
    "train_dataset = TrainDataset(train, transform=None)\n",
    "\n",
    "for i in range(1):\n",
    "    image, label = train_dataset[i]\n",
    "    plt.imshow(image)\n",
    "    plt.title(f\"label: {label}\")\n",
    "    plt.show()"
   ]
  },
  {
   "cell_type": "markdown",
   "metadata": {},
   "source": [
    "# Transforms"
   ]
  },
  {
   "cell_type": "code",
   "execution_count": 13,
   "metadata": {},
   "outputs": [],
   "source": [
    "# ====================================================\n",
    "# Transforms\n",
    "# ====================================================\n",
    "def get_transforms(*, data):\n",
    "\n",
    "    if data == \"train\":\n",
    "        return Compose(\n",
    "            [\n",
    "                # Resize(CFG.size, CFG.size),\n",
    "                RandomResizedCrop(CFG.size, CFG.size),\n",
    "                Transpose(p=0.5),\n",
    "                HorizontalFlip(p=0.5),\n",
    "                VerticalFlip(p=0.5),\n",
    "                ShiftScaleRotate(p=0.5),\n",
    "                Normalize(\n",
    "                    mean=[0.485, 0.456, 0.406],\n",
    "                    std=[0.229, 0.224, 0.225],\n",
    "                ),\n",
    "                ToTensorV2(),\n",
    "            ]\n",
    "        )\n",
    "\n",
    "    elif data == \"valid\":\n",
    "        return Compose(\n",
    "            [\n",
    "                Resize(CFG.size, CFG.size),\n",
    "                Normalize(\n",
    "                    mean=[0.485, 0.456, 0.406],\n",
    "                    std=[0.229, 0.224, 0.225],\n",
    "                ),\n",
    "                ToTensorV2(),\n",
    "            ]\n",
    "        )"
   ]
  },
  {
   "cell_type": "code",
   "execution_count": 14,
   "metadata": {},
   "outputs": [
    {
     "data": {
      "image/png": "[encoded data removed]",
      "text/plain": [
       "<Figure size 432x288 with 1 Axes>"
      ]
     },
     "metadata": {
      "needs_background": "light"
     },
     "output_type": "display_data"
    }
   ],
   "source": [
    "train_dataset = TrainDataset(train, transform=get_transforms(data=\"train\"))\n",
    "\n",
    "for i in range(1):\n",
    "    image, label = train_dataset[i]\n",
    "    plt.imshow(image[0])\n",
    "    plt.title(f\"label: {label}\")\n",
    "    plt.show()"
   ]
  },
  {
   "cell_type": "markdown",
   "metadata": {},
   "source": [
    "# MODEL"
   ]
  },
  {
   "cell_type": "code",
   "execution_count": 15,
   "metadata": {},
   "outputs": [],
   "source": [
    "# ====================================================\n",
    "# MODEL\n",
    "# ====================================================\n",
    "class CustomResNext(nn.Module):\n",
    "    def __init__(self, model_name=\"resnext50_32x4d\", pretrained=False):\n",
    "        super().__init__()\n",
    "        self.model = timm.create_model(model_name, pretrained=pretrained)\n",
    "        n_features = self.model.fc.in_features\n",
    "        self.model.fc = nn.Linear(n_features, CFG.target_size)\n",
    "\n",
    "    def forward(self, x):\n",
    "        x = self.model(x)\n",
    "        return x"
   ]
  },
  {
   "cell_type": "code",
   "execution_count": 16,
   "metadata": {},
   "outputs": [
    {
     "name": "stdout",
     "output_type": "stream",
     "text": [
      "tensor([[ 0.1549, -0.0089,  0.0330,  0.0390, -0.3349],\n",
      "        [ 0.1110,  0.1037, -0.0444, -0.0676, -0.5088],\n",
      "        [ 0.2024,  0.1188,  0.1331,  0.1483, -0.1627],\n",
      "        [ 0.2517,  0.0700,  0.1259, -0.0479, -0.1377]],\n",
      "       grad_fn=<AddmmBackward>)\n"
     ]
    }
   ],
   "source": [
    "model = CustomResNext(model_name=CFG.model_name, pretrained=False)\n",
    "train_dataset = TrainDataset(train, transform=get_transforms(data=\"train\"))\n",
    "train_loader = DataLoader(train_dataset, batch_size=4, shuffle=True, num_workers=4, pin_memory=True, drop_last=True)\n",
    "\n",
    "for image, label in train_loader:\n",
    "    output = model(image)\n",
    "    print(output)\n",
    "    break"
   ]
  },
  {
   "cell_type": "markdown",
   "metadata": {},
   "source": [
    "# Loss functions"
   ]
  },
  {
   "cell_type": "code",
   "execution_count": 17,
   "metadata": {},
   "outputs": [],
   "source": [
    "class BiTemperedLogisticLoss(nn.Module):\n",
    "    def __init__(self, t1, t2, smoothing=0.0):\n",
    "        super(BiTemperedLogisticLoss, self).__init__()\n",
    "        self.t1 = t1\n",
    "        self.t2 = t2\n",
    "        self.smoothing = smoothing\n",
    "\n",
    "    def forward(self, logit_label, truth_label):\n",
    "        loss_label = btl.bi_tempered_logistic_loss(\n",
    "            logit_label, truth_label, t1=self.t1, t2=self.t2, label_smoothing=self.smoothing, reduction=\"none\"\n",
    "        )\n",
    "\n",
    "        loss_label = loss_label.mean()\n",
    "        return loss_label"
   ]
  },
  {
   "cell_type": "markdown",
   "metadata": {},
   "source": [
    "# Helper functions"
   ]
  },
  {
   "cell_type": "code",
   "execution_count": 18,
   "metadata": {},
   "outputs": [],
   "source": [
    "# ====================================================\n",
    "# Helper functions\n",
    "# ====================================================\n",
    "class AverageMeter(object):\n",
    "    \"\"\"Computes and stores the average and current value\"\"\"\n",
    "\n",
    "    def __init__(self):\n",
    "        self.reset()\n",
    "\n",
    "    def reset(self):\n",
    "        self.val = 0\n",
    "        self.avg = 0\n",
    "        self.sum = 0\n",
    "        self.count = 0\n",
    "\n",
    "    def update(self, val, n=1):\n",
    "        self.val = val\n",
    "        self.sum += val * n\n",
    "        self.count += n\n",
    "        self.avg = self.sum / self.count\n",
    "\n",
    "\n",
    "def asMinutes(s):\n",
    "    m = math.floor(s / 60)\n",
    "    s -= m * 60\n",
    "    return \"%dm %ds\" % (m, s)\n",
    "\n",
    "\n",
    "def timeSince(since, percent):\n",
    "    now = time.time()\n",
    "    s = now - since\n",
    "    es = s / (percent)\n",
    "    rs = es - s\n",
    "    return \"%s (remain %s)\" % (asMinutes(s), asMinutes(rs))\n",
    "\n",
    "\n",
    "def train_fn(train_loader, model, criterion, optimizer, epoch, scheduler, device):\n",
    "    batch_time = AverageMeter()\n",
    "    data_time = AverageMeter()\n",
    "    losses = AverageMeter()\n",
    "    scores = AverageMeter()\n",
    "    # switch to train mode\n",
    "    model.train()\n",
    "    start = end = time.time()\n",
    "    global_step = 0\n",
    "    for step, (images, labels) in enumerate(train_loader):\n",
    "        # measure data loading time\n",
    "        data_time.update(time.time() - end)\n",
    "        images = images.to(device)\n",
    "        labels = labels.to(device)\n",
    "        batch_size = labels.size(0)\n",
    "        y_preds = model(images)\n",
    "        loss = criterion(y_preds, labels)\n",
    "        # record loss\n",
    "        losses.update(loss.item(), batch_size)\n",
    "        if CFG.gradient_accumulation_steps > 1:\n",
    "            loss = loss / CFG.gradient_accumulation_steps\n",
    "        if CFG.apex:\n",
    "            with amp.scale_loss(loss, optimizer) as scaled_loss:\n",
    "                scaled_loss.backward()\n",
    "        else:\n",
    "            loss.backward()\n",
    "        grad_norm = torch.nn.utils.clip_grad_norm_(model.parameters(), CFG.max_grad_norm)\n",
    "        if (step + 1) % CFG.gradient_accumulation_steps == 0:\n",
    "            optimizer.step()\n",
    "            optimizer.zero_grad()\n",
    "            global_step += 1\n",
    "        # measure elapsed time\n",
    "        batch_time.update(time.time() - end)\n",
    "        end = time.time()\n",
    "        if step % CFG.print_freq == 0 or step == (len(train_loader) - 1):\n",
    "            print(\n",
    "                \"Epoch: [{0}][{1}/{2}] \"\n",
    "                \"Data {data_time.val:.3f} ({data_time.avg:.3f}) \"\n",
    "                \"Elapsed {remain:s} \"\n",
    "                \"Loss: {loss.val:.4f}({loss.avg:.4f}) \"\n",
    "                \"Grad: {grad_norm:.4f}  \"\n",
    "                #'LR: {lr:.6f}  '\n",
    "                .format(\n",
    "                    epoch + 1,\n",
    "                    step,\n",
    "                    len(train_loader),\n",
    "                    batch_time=batch_time,\n",
    "                    data_time=data_time,\n",
    "                    loss=losses,\n",
    "                    remain=timeSince(start, float(step + 1) / len(train_loader)),\n",
    "                    grad_norm=grad_norm,\n",
    "                    # lr=scheduler.get_lr()[0],\n",
    "                )\n",
    "            )\n",
    "    return losses.avg\n",
    "\n",
    "\n",
    "def valid_fn(valid_loader, model, criterion, device):\n",
    "    batch_time = AverageMeter()\n",
    "    data_time = AverageMeter()\n",
    "    losses = AverageMeter()\n",
    "    scores = AverageMeter()\n",
    "    # switch to evaluation mode\n",
    "    model.eval()\n",
    "    preds = []\n",
    "    start = end = time.time()\n",
    "    for step, (images, labels) in enumerate(valid_loader):\n",
    "        # measure data loading time\n",
    "        data_time.update(time.time() - end)\n",
    "        images = images.to(device)\n",
    "        labels = labels.to(device)\n",
    "        batch_size = labels.size(0)\n",
    "        # compute loss\n",
    "        with torch.no_grad():\n",
    "            y_preds = model(images)\n",
    "        loss = criterion(y_preds, labels)\n",
    "        losses.update(loss.item(), batch_size)\n",
    "        # record accuracy\n",
    "        preds.append(y_preds.softmax(1).to(\"cpu\").numpy())\n",
    "        if CFG.gradient_accumulation_steps > 1:\n",
    "            loss = loss / CFG.gradient_accumulation_steps\n",
    "        # measure elapsed time\n",
    "        batch_time.update(time.time() - end)\n",
    "        end = time.time()\n",
    "        if step % CFG.print_freq == 0 or step == (len(valid_loader) - 1):\n",
    "            print(\n",
    "                \"EVAL: [{0}/{1}] \"\n",
    "                \"Data {data_time.val:.3f} ({data_time.avg:.3f}) \"\n",
    "                \"Elapsed {remain:s} \"\n",
    "                \"Loss: {loss.val:.4f}({loss.avg:.4f}) \".format(\n",
    "                    step,\n",
    "                    len(valid_loader),\n",
    "                    batch_time=batch_time,\n",
    "                    data_time=data_time,\n",
    "                    loss=losses,\n",
    "                    remain=timeSince(start, float(step + 1) / len(valid_loader)),\n",
    "                )\n",
    "            )\n",
    "    predictions = np.concatenate(preds)\n",
    "    return losses.avg, predictions\n",
    "\n",
    "\n",
    "def inference(model, states, test_loader, device):\n",
    "    model.to(device)\n",
    "    tk0 = tqdm(enumerate(test_loader), total=len(test_loader))\n",
    "    probs = []\n",
    "    for i, (images) in tk0:\n",
    "        images = images.to(device)\n",
    "        avg_preds = []\n",
    "        for state in states:\n",
    "            model.load_state_dict(state[\"model\"])\n",
    "            model.eval()\n",
    "            with torch.no_grad():\n",
    "                y_preds = model(images)\n",
    "            avg_preds.append(y_preds.softmax(1).to(\"cpu\").numpy())\n",
    "        avg_preds = np.mean(avg_preds, axis=0)\n",
    "        probs.append(avg_preds)\n",
    "    probs = np.concatenate(probs)\n",
    "    return probs"
   ]
  },
  {
   "cell_type": "markdown",
   "metadata": {},
   "source": [
    "# Train loop"
   ]
  },
  {
   "cell_type": "code",
   "execution_count": 19,
   "metadata": {
    "_cell_guid": "b1076dfc-b9ad-4769-8c92-a6c4dae69d19",
    "_uuid": "8f2839f25d086af736a60e9eeb907d3b93b6e0e5"
   },
   "outputs": [],
   "source": [
    "# ====================================================\n",
    "# Train loop\n",
    "# ====================================================\n",
    "def train_loop(folds, fold):\n",
    "\n",
    "    LOGGER.info(f\"========== fold: {fold} training ==========\")\n",
    "\n",
    "    # ====================================================\n",
    "    # loader\n",
    "    # ====================================================\n",
    "    trn_idx = folds[folds[\"fold\"] != fold].index\n",
    "    val_idx = folds[folds[\"fold\"] == fold].index\n",
    "\n",
    "    train_folds = folds.loc[trn_idx].reset_index(drop=True)\n",
    "    valid_folds = folds.loc[val_idx].reset_index(drop=True)\n",
    "\n",
    "    train_dataset = TrainDataset(train_folds, transform=get_transforms(data=\"train\"))\n",
    "    valid_dataset = TrainDataset(valid_folds, transform=get_transforms(data=\"valid\"))\n",
    "\n",
    "    train_loader = DataLoader(\n",
    "        train_dataset,\n",
    "        batch_size=CFG.batch_size,\n",
    "        shuffle=True,\n",
    "        num_workers=CFG.num_workers,\n",
    "        pin_memory=True,\n",
    "        drop_last=True,\n",
    "    )\n",
    "    valid_loader = DataLoader(\n",
    "        valid_dataset,\n",
    "        batch_size=CFG.batch_size,\n",
    "        shuffle=False,\n",
    "        num_workers=CFG.num_workers,\n",
    "        pin_memory=True,\n",
    "        drop_last=False,\n",
    "    )\n",
    "\n",
    "    # ====================================================\n",
    "    # scheduler\n",
    "    # ====================================================\n",
    "    def get_scheduler(optimizer):\n",
    "        if CFG.scheduler == \"ReduceLROnPlateau\":\n",
    "            scheduler = ReduceLROnPlateau(\n",
    "                optimizer, mode=\"min\", factor=CFG.factor, patience=CFG.patience, verbose=True, eps=CFG.eps\n",
    "            )\n",
    "        elif CFG.scheduler == \"CosineAnnealingLR\":\n",
    "            scheduler = CosineAnnealingLR(optimizer, T_max=CFG.T_max, eta_min=CFG.min_lr, last_epoch=-1)\n",
    "        elif CFG.scheduler == \"CosineAnnealingWarmRestarts\":\n",
    "            scheduler = CosineAnnealingWarmRestarts(optimizer, T_0=CFG.T_0, T_mult=1, eta_min=CFG.min_lr, last_epoch=-1)\n",
    "        return scheduler\n",
    "\n",
    "    # ====================================================\n",
    "    # model & optimizer\n",
    "    # ====================================================\n",
    "    model = CustomResNext(CFG.model_name, pretrained=True)\n",
    "    model.to(device)\n",
    "\n",
    "    # Use multi GPU\n",
    "    if device == torch.device(\"cuda\"):\n",
    "        model = torch.nn.DataParallel(model)  # make parallel\n",
    "        # torch.backends.cudnn.benchmark=True\n",
    "\n",
    "    optimizer = Adam(model.parameters(), lr=CFG.lr, weight_decay=CFG.weight_decay, amsgrad=False)\n",
    "    scheduler = get_scheduler(optimizer)\n",
    "\n",
    "    # ====================================================\n",
    "    # apex\n",
    "    # ====================================================\n",
    "    if CFG.apex:\n",
    "        model, optimizer = amp.initialize(model, optimizer, opt_level=\"O1\", verbosity=0)\n",
    "\n",
    "    # ====================================================\n",
    "    # Criterion\n",
    "    # ====================================================\n",
    "    def get_criterion():\n",
    "        if CFG.criterion == \"CrossEntropyLoss\":\n",
    "            criterion = nn.CrossEntropyLoss()\n",
    "        elif CFG.criterion == \"BiTemperedLoss\":\n",
    "            criterion = BiTemperedLogisticLoss(t1=CFG.btl_t1, t2=CFG.btl_t2, smoothing=CFG.label_smoothing)\n",
    "        return criterion\n",
    "\n",
    "    criterion = get_criterion()\n",
    "\n",
    "    # ====================================================\n",
    "    # loop\n",
    "    # ====================================================\n",
    "    best_score = 0.0\n",
    "    best_loss = np.inf\n",
    "\n",
    "    for epoch in range(CFG.epochs):\n",
    "\n",
    "        start_time = time.time()\n",
    "\n",
    "        # train\n",
    "        avg_loss = train_fn(train_loader, model, criterion, optimizer, epoch, scheduler, device)\n",
    "\n",
    "        # eval\n",
    "        avg_val_loss, preds = valid_fn(valid_loader, model, criterion, device)\n",
    "        valid_labels = valid_folds[CFG.target_col].values\n",
    "\n",
    "        if isinstance(scheduler, ReduceLROnPlateau):\n",
    "            scheduler.step(avg_val_loss)\n",
    "        elif isinstance(scheduler, CosineAnnealingLR):\n",
    "            scheduler.step()\n",
    "        elif isinstance(scheduler, CosineAnnealingWarmRestarts):\n",
    "            scheduler.step()\n",
    "\n",
    "        # scoring\n",
    "        score = get_score(valid_labels, preds.argmax(1))\n",
    "\n",
    "        elapsed = time.time() - start_time\n",
    "\n",
    "        LOGGER.info(\n",
    "            f\"Epoch {epoch+1} - avg_train_loss: {avg_loss:.4f}  avg_val_loss: {avg_val_loss:.4f}  time: {elapsed:.0f}s\"\n",
    "        )\n",
    "        LOGGER.info(f\"Epoch {epoch+1} - Accuracy: {score}\")\n",
    "\n",
    "        if score > best_score:\n",
    "            best_score = score\n",
    "            LOGGER.info(f\"Epoch {epoch+1} - Save Best Score: {best_score:.4f} Model\")\n",
    "            torch.save(\n",
    "                {\"model\": model.state_dict(), \"preds\": preds}, OUTPUT_DIR + f\"{CFG.model_name}_fold{fold}_best.pth\"\n",
    "            )\n",
    "\n",
    "    check_point = torch.load(OUTPUT_DIR + f\"{CFG.model_name}_fold{fold}_best.pth\")\n",
    "    valid_folds[[str(c) for c in range(5)]] = check_point[\"preds\"]\n",
    "    valid_folds[\"preds\"] = check_point[\"preds\"].argmax(1)\n",
    "\n",
    "    return valid_folds"
   ]
  },
  {
   "cell_type": "code",
   "execution_count": 20,
   "metadata": {},
   "outputs": [],
   "source": [
    "# ====================================================\n",
    "# main\n",
    "# ====================================================\n",
    "def main():\n",
    "\n",
    "    \"\"\"\n",
    "    Prepare: 1.train  2.test  3.submission  4.folds\n",
    "    \"\"\"\n",
    "\n",
    "    def get_result(result_df):\n",
    "        preds = result_df[\"preds\"].values\n",
    "        labels = result_df[CFG.target_col].values\n",
    "        score = get_score(labels, preds)\n",
    "        LOGGER.info(f\"Score: {score:<.5f}\")\n",
    "\n",
    "    if CFG.train:\n",
    "        # train\n",
    "        oof_df = pd.DataFrame()\n",
    "        for fold in range(CFG.n_fold):\n",
    "            if fold in CFG.trn_fold:\n",
    "                _oof_df = train_loop(folds, fold)\n",
    "                oof_df = pd.concat([oof_df, _oof_df])\n",
    "                LOGGER.info(f\"========== fold: {fold} result ==========\")\n",
    "                get_result(_oof_df)\n",
    "        # CV result\n",
    "        LOGGER.info(f\"========== CV ==========\")\n",
    "        get_result(oof_df)\n",
    "        # save result\n",
    "        oof_df.to_csv(OUTPUT_DIR + \"oof_df.csv\", index=False)\n",
    "\n",
    "    if CFG.inference:\n",
    "        # inference\n",
    "        model = CustomResNext(CFG.model_name, pretrained=False)\n",
    "        states = [torch.load(OUTPUT_DIR + f\"{CFG.model_name}_fold{fold}_best.pth\") for fold in CFG.trn_fold]\n",
    "        test_dataset = TestDataset(test, transform=get_transforms(data=\"valid\"))\n",
    "        test_loader = DataLoader(\n",
    "            test_dataset, batch_size=CFG.batch_size, shuffle=False, num_workers=CFG.num_workers, pin_memory=True\n",
    "        )\n",
    "        predictions = inference(model, states, test_loader, device)\n",
    "        # submission\n",
    "        test[\"label\"] = predictions.argmax(1)\n",
    "        test[[\"image_id\", \"label\"]].to_csv(OUTPUT_DIR + \"submission.csv\", index=False)"
   ]
  },
  {
   "cell_type": "code",
   "execution_count": 21,
   "metadata": {
    "_cell_guid": "79c7e3d0-c299-4dcb-8224-4455121ee9b0",
    "_uuid": "d629ff2d2480ee46fbb7e2d37f6b5fab8052498a"
   },
   "outputs": [
    {
     "name": "stderr",
     "output_type": "stream",
     "text": [
      "========== fold: 0 training ==========\n"
     ]
    },
    {
     "name": "stdout",
     "output_type": "stream",
     "text": [
      "Epoch: [1][0/1504] Data 0.503 (0.503) Elapsed 0m 4s (remain 100m 12s) Loss: 0.5103(0.5103) Grad: 2.6407  \n",
      "Epoch: [1][100/1504] Data 0.000 (0.005) Elapsed 2m 15s (remain 31m 21s) Loss: 0.2944(0.2904) Grad: 3.6892  \n",
      "Epoch: [1][200/1504] Data 0.000 (0.003) Elapsed 4m 26s (remain 28m 50s) Loss: 0.1597(0.2582) Grad: 2.5196  \n",
      "Epoch: [1][300/1504] Data 0.000 (0.002) Elapsed 6m 38s (remain 26m 31s) Loss: 0.0908(0.2431) Grad: 2.4672  \n",
      "Epoch: [1][400/1504] Data 0.000 (0.001) Elapsed 8m 49s (remain 24m 17s) Loss: 0.3009(0.2314) Grad: 3.3226  \n",
      "Epoch: [1][500/1504] Data 0.000 (0.001) Elapsed 11m 1s (remain 22m 3s) Loss: 0.2236(0.2227) Grad: 2.7766  \n",
      "Epoch: [1][600/1504] Data 0.000 (0.001) Elapsed 13m 12s (remain 19m 50s) Loss: 0.2051(0.2165) Grad: 3.0786  \n",
      "Epoch: [1][700/1504] Data 0.000 (0.001) Elapsed 15m 24s (remain 17m 38s) Loss: 0.0549(0.2129) Grad: 2.3625  \n",
      "Epoch: [1][800/1504] Data 0.000 (0.001) Elapsed 17m 35s (remain 15m 26s) Loss: 0.2011(0.2108) Grad: 3.0286  \n",
      "Epoch: [1][900/1504] Data 0.000 (0.001) Elapsed 19m 47s (remain 13m 14s) Loss: 0.0992(0.2068) Grad: 1.6318  \n",
      "Epoch: [1][1000/1504] Data 0.000 (0.001) Elapsed 21m 58s (remain 11m 2s) Loss: 0.1155(0.2041) Grad: 1.7129  \n",
      "Epoch: [1][1100/1504] Data 0.000 (0.001) Elapsed 24m 9s (remain 8m 50s) Loss: 0.2928(0.2033) Grad: 2.1654  \n",
      "Epoch: [1][1200/1504] Data 0.000 (0.001) Elapsed 26m 21s (remain 6m 38s) Loss: 0.2401(0.2011) Grad: 2.9507  \n",
      "Epoch: [1][1300/1504] Data 0.000 (0.001) Elapsed 28m 32s (remain 4m 27s) Loss: 0.1504(0.1984) Grad: 1.5432  \n",
      "Epoch: [1][1400/1504] Data 0.000 (0.001) Elapsed 30m 44s (remain 2m 15s) Loss: 0.2834(0.1968) Grad: 1.6019  \n",
      "Epoch: [1][1500/1504] Data 0.000 (0.000) Elapsed 32m 55s (remain 0m 3s) Loss: 0.1416(0.1937) Grad: 1.2430  \n",
      "Epoch: [1][1503/1504] Data 0.000 (0.000) Elapsed 32m 59s (remain 0m 0s) Loss: 0.2421(0.1937) Grad: 1.6467  \n",
      "EVAL: [0/377] Data 0.518 (0.518) Elapsed 0m 0s (remain 5m 28s) Loss: 0.1520(0.1520) \n",
      "EVAL: [100/377] Data 0.000 (0.005) Elapsed 0m 35s (remain 1m 36s) Loss: 0.1015(0.1376) \n",
      "EVAL: [200/377] Data 0.000 (0.003) Elapsed 1m 9s (remain 1m 0s) Loss: 0.2504(0.1312) \n",
      "EVAL: [300/377] Data 0.000 (0.002) Elapsed 1m 43s (remain 0m 26s) Loss: 0.1842(0.1323) \n"
     ]
    },
    {
     "name": "stderr",
     "output_type": "stream",
     "text": [
      "Epoch 1 - avg_train_loss: 0.1937  avg_val_loss: 0.1313  time: 2109s\n",
      "Epoch 1 - Accuracy: 0.8578208048595293\n",
      "Epoch 1 - Save Best Score: 0.8578 Model\n"
     ]
    },
    {
     "name": "stdout",
     "output_type": "stream",
     "text": [
      "EVAL: [376/377] Data 0.000 (0.002) Elapsed 2m 9s (remain 0m 0s) Loss: 0.1991(0.1313) \n",
      "Epoch: [2][0/1504] Data 0.496 (0.496) Elapsed 0m 1s (remain 46m 2s) Loss: 0.2391(0.2391) Grad: 2.7694  \n",
      "Epoch: [2][100/1504] Data 0.000 (0.005) Elapsed 2m 13s (remain 30m 50s) Loss: 0.1650(0.1585) Grad: 1.6471  \n",
      "Epoch: [2][200/1504] Data 0.000 (0.003) Elapsed 4m 24s (remain 28m 35s) Loss: 0.0467(0.1639) Grad: 0.8053  \n",
      "Epoch: [2][300/1504] Data 0.000 (0.002) Elapsed 6m 36s (remain 26m 23s) Loss: 0.2451(0.1607) Grad: 2.7336  \n",
      "Epoch: [2][400/1504] Data 0.000 (0.001) Elapsed 8m 47s (remain 24m 10s) Loss: 0.1971(0.1637) Grad: 3.9458  \n",
      "Epoch: [2][500/1504] Data 0.000 (0.001) Elapsed 10m 58s (remain 21m 58s) Loss: 0.1697(0.1635) Grad: 1.5757  \n",
      "Epoch: [2][600/1504] Data 0.000 (0.001) Elapsed 13m 10s (remain 19m 47s) Loss: 0.1187(0.1631) Grad: 0.7748  \n",
      "Epoch: [2][700/1504] Data 0.000 (0.001) Elapsed 15m 21s (remain 17m 35s) Loss: 0.0401(0.1598) Grad: 1.2622  \n",
      "Epoch: [2][800/1504] Data 0.000 (0.001) Elapsed 17m 33s (remain 15m 24s) Loss: 0.2748(0.1598) Grad: 2.0807  \n",
      "Epoch: [2][900/1504] Data 0.000 (0.001) Elapsed 19m 44s (remain 13m 12s) Loss: 0.1628(0.1582) Grad: 2.0788  \n",
      "Epoch: [2][1000/1504] Data 0.000 (0.001) Elapsed 21m 55s (remain 11m 1s) Loss: 0.2164(0.1573) Grad: 1.7045  \n",
      "Epoch: [2][1100/1504] Data 0.000 (0.001) Elapsed 24m 7s (remain 8m 49s) Loss: 0.2708(0.1569) Grad: 1.8174  \n",
      "Epoch: [2][1200/1504] Data 0.000 (0.001) Elapsed 26m 18s (remain 6m 38s) Loss: 0.1169(0.1557) Grad: 1.6753  \n",
      "Epoch: [2][1300/1504] Data 0.000 (0.001) Elapsed 28m 29s (remain 4m 26s) Loss: 0.2521(0.1557) Grad: 1.2499  \n",
      "Epoch: [2][1400/1504] Data 0.000 (0.001) Elapsed 30m 41s (remain 2m 15s) Loss: 0.1413(0.1556) Grad: 1.3282  \n",
      "Epoch: [2][1500/1504] Data 0.000 (0.000) Elapsed 32m 52s (remain 0m 3s) Loss: 0.1022(0.1549) Grad: 0.9667  \n",
      "Epoch: [2][1503/1504] Data 0.000 (0.000) Elapsed 32m 56s (remain 0m 0s) Loss: 0.2193(0.1549) Grad: 1.8045  \n",
      "EVAL: [0/377] Data 0.502 (0.502) Elapsed 0m 0s (remain 5m 22s) Loss: 0.2067(0.2067) \n",
      "EVAL: [100/377] Data 0.000 (0.005) Elapsed 0m 35s (remain 1m 36s) Loss: 0.1168(0.1288) \n",
      "EVAL: [200/377] Data 0.000 (0.003) Elapsed 1m 9s (remain 1m 0s) Loss: 0.1935(0.1215) \n",
      "EVAL: [300/377] Data 0.000 (0.002) Elapsed 1m 43s (remain 0m 26s) Loss: 0.1604(0.1219) \n"
     ]
    },
    {
     "name": "stderr",
     "output_type": "stream",
     "text": [
      "Epoch 2 - avg_train_loss: 0.1549  avg_val_loss: 0.1221  time: 2106s\n",
      "Epoch 2 - Accuracy: 0.8642748671222475\n",
      "Epoch 2 - Save Best Score: 0.8643 Model\n"
     ]
    },
    {
     "name": "stdout",
     "output_type": "stream",
     "text": [
      "EVAL: [376/377] Data 0.000 (0.002) Elapsed 2m 9s (remain 0m 0s) Loss: 0.0397(0.1221) \n",
      "Epoch: [3][0/1504] Data 0.483 (0.483) Elapsed 0m 1s (remain 45m 30s) Loss: 0.0057(0.0057) Grad: 0.2519  \n",
      "Epoch: [3][100/1504] Data 0.000 (0.005) Elapsed 2m 13s (remain 30m 49s) Loss: 0.0073(0.1481) Grad: 0.3378  \n",
      "Epoch: [3][200/1504] Data 0.000 (0.003) Elapsed 4m 24s (remain 28m 35s) Loss: 0.3481(0.1465) Grad: 2.3604  \n",
      "Epoch: [3][300/1504] Data 0.000 (0.002) Elapsed 6m 36s (remain 26m 22s) Loss: 0.1330(0.1474) Grad: 1.1330  \n",
      "Epoch: [3][400/1504] Data 0.000 (0.001) Elapsed 8m 47s (remain 24m 10s) Loss: 0.1508(0.1463) Grad: 2.3788  \n",
      "Epoch: [3][500/1504] Data 0.000 (0.001) Elapsed 10m 58s (remain 21m 58s) Loss: 0.1309(0.1469) Grad: 1.8618  \n",
      "Epoch: [3][600/1504] Data 0.000 (0.001) Elapsed 13m 10s (remain 19m 47s) Loss: 0.1977(0.1440) Grad: 1.0242  \n",
      "Epoch: [3][700/1504] Data 0.000 (0.001) Elapsed 15m 21s (remain 17m 35s) Loss: 0.1326(0.1442) Grad: 1.8662  \n",
      "Epoch: [3][800/1504] Data 0.000 (0.001) Elapsed 17m 32s (remain 15m 24s) Loss: 0.1927(0.1435) Grad: 1.7831  \n",
      "Epoch: [3][900/1504] Data 0.000 (0.001) Elapsed 19m 44s (remain 13m 12s) Loss: 0.0997(0.1434) Grad: 0.8197  \n",
      "Epoch: [3][1000/1504] Data 0.000 (0.001) Elapsed 21m 55s (remain 11m 1s) Loss: 0.1843(0.1435) Grad: 1.4723  \n",
      "Epoch: [3][1100/1504] Data 0.000 (0.001) Elapsed 24m 7s (remain 8m 49s) Loss: 0.2389(0.1440) Grad: 1.6683  \n",
      "Epoch: [3][1200/1504] Data 0.000 (0.001) Elapsed 26m 18s (remain 6m 38s) Loss: 0.0897(0.1448) Grad: 1.1221  \n",
      "Epoch: [3][1300/1504] Data 0.000 (0.001) Elapsed 28m 29s (remain 4m 26s) Loss: 0.1118(0.1441) Grad: 1.5438  \n",
      "Epoch: [3][1400/1504] Data 0.000 (0.000) Elapsed 30m 41s (remain 2m 15s) Loss: 0.2287(0.1443) Grad: 1.4207  \n",
      "Epoch: [3][1500/1504] Data 0.000 (0.000) Elapsed 32m 52s (remain 0m 3s) Loss: 0.0815(0.1445) Grad: 0.9432  \n",
      "Epoch: [3][1503/1504] Data 0.000 (0.000) Elapsed 32m 56s (remain 0m 0s) Loss: 0.1440(0.1444) Grad: 1.5082  \n",
      "EVAL: [0/377] Data 0.511 (0.511) Elapsed 0m 0s (remain 5m 28s) Loss: 0.1676(0.1676) \n",
      "EVAL: [100/377] Data 0.000 (0.005) Elapsed 0m 35s (remain 1m 36s) Loss: 0.0636(0.1419) \n",
      "EVAL: [200/377] Data 0.000 (0.003) Elapsed 1m 9s (remain 1m 0s) Loss: 0.2417(0.1356) \n",
      "EVAL: [300/377] Data 0.000 (0.002) Elapsed 1m 43s (remain 0m 26s) Loss: 0.1935(0.1354) \n"
     ]
    },
    {
     "name": "stderr",
     "output_type": "stream",
     "text": [
      "Epoch 3 - avg_train_loss: 0.1444  avg_val_loss: 0.1380  time: 2106s\n",
      "Epoch 3 - Accuracy: 0.8490888382687927\n"
     ]
    },
    {
     "name": "stdout",
     "output_type": "stream",
     "text": [
      "EVAL: [376/377] Data 0.000 (0.002) Elapsed 2m 9s (remain 0m 0s) Loss: 0.1970(0.1380) \n",
      "Epoch: [4][0/1504] Data 0.543 (0.543) Elapsed 0m 1s (remain 46m 56s) Loss: 0.0712(0.0712) Grad: 1.1386  \n",
      "Epoch: [4][100/1504] Data 0.000 (0.006) Elapsed 2m 13s (remain 30m 49s) Loss: 0.0894(0.1469) Grad: 0.7414  \n",
      "Epoch: [4][200/1504] Data 0.000 (0.003) Elapsed 4m 24s (remain 28m 34s) Loss: 0.1752(0.1364) Grad: 1.5385  \n",
      "Epoch: [4][300/1504] Data 0.000 (0.002) Elapsed 6m 35s (remain 26m 21s) Loss: 0.0672(0.1333) Grad: 0.6698  \n",
      "Epoch: [4][400/1504] Data 0.000 (0.002) Elapsed 8m 47s (remain 24m 9s) Loss: 0.1690(0.1365) Grad: 1.2414  \n",
      "Epoch: [4][500/1504] Data 0.000 (0.001) Elapsed 10m 58s (remain 21m 58s) Loss: 0.1593(0.1349) Grad: 2.1888  \n",
      "Epoch: [4][600/1504] Data 0.000 (0.001) Elapsed 13m 9s (remain 19m 46s) Loss: 0.1625(0.1333) Grad: 0.9856  \n",
      "Epoch: [4][700/1504] Data 0.000 (0.001) Elapsed 15m 21s (remain 17m 35s) Loss: 0.2134(0.1349) Grad: 1.1747  \n",
      "Epoch: [4][800/1504] Data 0.000 (0.001) Elapsed 17m 32s (remain 15m 23s) Loss: 0.1851(0.1347) Grad: 1.6611  \n",
      "Epoch: [4][900/1504] Data 0.000 (0.001) Elapsed 19m 43s (remain 13m 12s) Loss: 0.3151(0.1347) Grad: 3.0183  \n",
      "Epoch: [4][1000/1504] Data 0.000 (0.001) Elapsed 21m 54s (remain 11m 0s) Loss: 0.1537(0.1341) Grad: 1.1510  \n",
      "Epoch: [4][1100/1504] Data 0.000 (0.001) Elapsed 24m 6s (remain 8m 49s) Loss: 0.1703(0.1345) Grad: 0.8672  \n",
      "Epoch: [4][1200/1504] Data 0.000 (0.001) Elapsed 26m 17s (remain 6m 38s) Loss: 0.1500(0.1346) Grad: 1.3750  \n",
      "Epoch: [4][1300/1504] Data 0.000 (0.001) Elapsed 28m 28s (remain 4m 26s) Loss: 0.2643(0.1353) Grad: 1.5942  \n",
      "Epoch: [4][1400/1504] Data 0.000 (0.001) Elapsed 30m 40s (remain 2m 15s) Loss: 0.1906(0.1358) Grad: 1.5865  \n",
      "Epoch: [4][1500/1504] Data 0.000 (0.001) Elapsed 32m 51s (remain 0m 3s) Loss: 0.0355(0.1351) Grad: 0.6732  \n",
      "Epoch: [4][1503/1504] Data 0.000 (0.001) Elapsed 32m 55s (remain 0m 0s) Loss: 0.0911(0.1350) Grad: 1.0437  \n",
      "EVAL: [0/377] Data 0.454 (0.454) Elapsed 0m 0s (remain 5m 7s) Loss: 0.2028(0.2028) \n",
      "EVAL: [100/377] Data 0.000 (0.005) Elapsed 0m 35s (remain 1m 36s) Loss: 0.0811(0.1278) \n",
      "EVAL: [200/377] Data 0.000 (0.002) Elapsed 1m 9s (remain 1m 0s) Loss: 0.2742(0.1221) \n",
      "EVAL: [300/377] Data 0.000 (0.002) Elapsed 1m 43s (remain 0m 26s) Loss: 0.2010(0.1262) \n"
     ]
    },
    {
     "name": "stderr",
     "output_type": "stream",
     "text": [
      "Epoch 4 - avg_train_loss: 0.1350  avg_val_loss: 0.1283  time: 2105s\n",
      "Epoch 4 - Accuracy: 0.8604783599088838\n"
     ]
    },
    {
     "name": "stdout",
     "output_type": "stream",
     "text": [
      "EVAL: [376/377] Data 0.000 (0.001) Elapsed 2m 9s (remain 0m 0s) Loss: 0.0645(0.1283) \n",
      "Epoch: [5][0/1504] Data 0.470 (0.470) Elapsed 0m 1s (remain 45m 5s) Loss: 0.1644(0.1644) Grad: 1.2955  \n",
      "Epoch: [5][100/1504] Data 0.000 (0.005) Elapsed 2m 13s (remain 30m 50s) Loss: 0.0719(0.1340) Grad: 0.5788  \n",
      "Epoch: [5][200/1504] Data 0.000 (0.003) Elapsed 4m 24s (remain 28m 36s) Loss: 0.1674(0.1294) Grad: 1.4056  \n",
      "Epoch: [5][300/1504] Data 0.000 (0.002) Elapsed 6m 36s (remain 26m 23s) Loss: 0.2107(0.1341) Grad: 1.7841  \n",
      "Epoch: [5][400/1504] Data 0.000 (0.001) Elapsed 8m 47s (remain 24m 10s) Loss: 0.3194(0.1317) Grad: 2.7838  \n",
      "Epoch: [5][500/1504] Data 0.000 (0.001) Elapsed 10m 58s (remain 21m 59s) Loss: 0.0284(0.1318) Grad: 0.5535  \n",
      "Epoch: [5][600/1504] Data 0.000 (0.001) Elapsed 13m 10s (remain 19m 47s) Loss: 0.0359(0.1332) Grad: 0.9606  \n",
      "Epoch: [5][700/1504] Data 0.000 (0.001) Elapsed 15m 21s (remain 17m 35s) Loss: 0.1585(0.1324) Grad: 1.4272  \n",
      "Epoch: [5][800/1504] Data 0.000 (0.001) Elapsed 17m 33s (remain 15m 24s) Loss: 0.1593(0.1321) Grad: 1.7287  \n",
      "Epoch: [5][900/1504] Data 0.000 (0.001) Elapsed 19m 44s (remain 13m 12s) Loss: 0.1133(0.1321) Grad: 1.0326  \n",
      "Epoch: [5][1000/1504] Data 0.000 (0.001) Elapsed 21m 56s (remain 11m 1s) Loss: 0.1004(0.1326) Grad: 1.0307  \n",
      "Epoch: [5][1100/1504] Data 0.000 (0.001) Elapsed 24m 7s (remain 8m 49s) Loss: 0.0691(0.1316) Grad: 1.5237  \n",
      "Epoch: [5][1200/1504] Data 0.000 (0.001) Elapsed 26m 18s (remain 6m 38s) Loss: 0.2713(0.1320) Grad: 1.4817  \n",
      "Epoch: [5][1300/1504] Data 0.000 (0.001) Elapsed 28m 30s (remain 4m 26s) Loss: 0.0680(0.1306) Grad: 2.3818  \n",
      "Epoch: [5][1400/1504] Data 0.000 (0.000) Elapsed 30m 41s (remain 2m 15s) Loss: 0.0238(0.1308) Grad: 0.4425  \n",
      "Epoch: [5][1500/1504] Data 0.000 (0.000) Elapsed 32m 53s (remain 0m 3s) Loss: 0.0747(0.1307) Grad: 0.3832  \n",
      "Epoch: [5][1503/1504] Data 0.000 (0.000) Elapsed 32m 57s (remain 0m 0s) Loss: 0.1363(0.1308) Grad: 1.7539  \n",
      "EVAL: [0/377] Data 0.458 (0.458) Elapsed 0m 0s (remain 5m 8s) Loss: 0.2057(0.2057) \n",
      "EVAL: [100/377] Data 0.000 (0.005) Elapsed 0m 35s (remain 1m 36s) Loss: 0.0985(0.1163) \n",
      "EVAL: [200/377] Data 0.000 (0.002) Elapsed 1m 9s (remain 1m 0s) Loss: 0.1745(0.1113) \n",
      "EVAL: [300/377] Data 0.000 (0.002) Elapsed 1m 43s (remain 0m 26s) Loss: 0.1454(0.1123) \n"
     ]
    },
    {
     "name": "stderr",
     "output_type": "stream",
     "text": [
      "Epoch 5 - avg_train_loss: 0.1308  avg_val_loss: 0.1134  time: 2107s\n",
      "Epoch 5 - Accuracy: 0.8809794988610479\n",
      "Epoch 5 - Save Best Score: 0.8810 Model\n"
     ]
    },
    {
     "name": "stdout",
     "output_type": "stream",
     "text": [
      "EVAL: [376/377] Data 0.000 (0.001) Elapsed 2m 9s (remain 0m 0s) Loss: 0.3202(0.1134) \n",
      "Epoch: [6][0/1504] Data 0.466 (0.466) Elapsed 0m 1s (remain 45m 17s) Loss: 0.0490(0.0490) Grad: 1.7602  \n",
      "Epoch: [6][100/1504] Data 0.000 (0.005) Elapsed 2m 13s (remain 30m 49s) Loss: 0.1152(0.1258) Grad: 1.4510  \n",
      "Epoch: [6][200/1504] Data 0.000 (0.002) Elapsed 4m 24s (remain 28m 35s) Loss: 0.1244(0.1258) Grad: 1.2758  \n",
      "Epoch: [6][300/1504] Data 0.000 (0.002) Elapsed 6m 36s (remain 26m 23s) Loss: 0.1134(0.1253) Grad: 3.3224  \n",
      "Epoch: [6][400/1504] Data 0.000 (0.001) Elapsed 8m 47s (remain 24m 11s) Loss: 0.0744(0.1238) Grad: 1.6568  \n",
      "Epoch: [6][500/1504] Data 0.000 (0.001) Elapsed 10m 58s (remain 21m 59s) Loss: 0.2668(0.1222) Grad: 1.2350  \n",
      "Epoch: [6][600/1504] Data 0.000 (0.001) Elapsed 13m 10s (remain 19m 47s) Loss: 0.0940(0.1205) Grad: 1.1789  \n",
      "Epoch: [6][700/1504] Data 0.000 (0.001) Elapsed 15m 21s (remain 17m 35s) Loss: 0.1197(0.1202) Grad: 1.6210  \n",
      "Epoch: [6][800/1504] Data 0.000 (0.001) Elapsed 17m 33s (remain 15m 24s) Loss: 0.0868(0.1202) Grad: 0.9774  \n",
      "Epoch: [6][900/1504] Data 0.000 (0.001) Elapsed 19m 44s (remain 13m 12s) Loss: 0.1971(0.1203) Grad: 1.6988  \n",
      "Epoch: [6][1000/1504] Data 0.000 (0.001) Elapsed 21m 56s (remain 11m 1s) Loss: 0.0382(0.1196) Grad: 1.4193  \n",
      "Epoch: [6][1100/1504] Data 0.000 (0.001) Elapsed 24m 7s (remain 8m 49s) Loss: 0.3043(0.1199) Grad: 1.6635  \n",
      "Epoch: [6][1200/1504] Data 0.000 (0.001) Elapsed 26m 18s (remain 6m 38s) Loss: 0.1168(0.1202) Grad: 1.0960  \n",
      "Epoch: [6][1300/1504] Data 0.000 (0.001) Elapsed 28m 30s (remain 4m 26s) Loss: 0.1085(0.1214) Grad: 1.4791  \n",
      "Epoch: [6][1400/1504] Data 0.000 (0.000) Elapsed 30m 41s (remain 2m 15s) Loss: 0.2404(0.1222) Grad: 1.6261  \n",
      "Epoch: [6][1500/1504] Data 0.000 (0.000) Elapsed 32m 53s (remain 0m 3s) Loss: 0.0339(0.1222) Grad: 1.0015  \n",
      "Epoch: [6][1503/1504] Data 0.000 (0.000) Elapsed 32m 57s (remain 0m 0s) Loss: 0.0195(0.1221) Grad: 0.6223  \n",
      "EVAL: [0/377] Data 0.472 (0.472) Elapsed 0m 0s (remain 5m 11s) Loss: 0.1826(0.1826) \n",
      "EVAL: [100/377] Data 0.000 (0.005) Elapsed 0m 35s (remain 1m 36s) Loss: 0.0819(0.1351) \n",
      "EVAL: [200/377] Data 0.000 (0.002) Elapsed 1m 9s (remain 1m 0s) Loss: 0.2669(0.1320) \n",
      "EVAL: [300/377] Data 0.000 (0.002) Elapsed 1m 43s (remain 0m 26s) Loss: 0.1633(0.1342) \n"
     ]
    },
    {
     "name": "stderr",
     "output_type": "stream",
     "text": [
      "Epoch 6 - avg_train_loss: 0.1221  avg_val_loss: 0.1315  time: 2107s\n",
      "Epoch 6 - Accuracy: 0.8563022019741837\n"
     ]
    },
    {
     "name": "stdout",
     "output_type": "stream",
     "text": [
      "EVAL: [376/377] Data 0.000 (0.001) Elapsed 2m 9s (remain 0m 0s) Loss: 0.0213(0.1315) \n",
      "Epoch: [7][0/1504] Data 0.477 (0.477) Elapsed 0m 1s (remain 45m 19s) Loss: 0.1618(0.1618) Grad: 1.3806  \n",
      "Epoch: [7][100/1504] Data 0.000 (0.005) Elapsed 2m 13s (remain 30m 51s) Loss: 0.1032(0.1035) Grad: 1.0333  \n",
      "Epoch: [7][200/1504] Data 0.000 (0.003) Elapsed 4m 24s (remain 28m 35s) Loss: 0.2411(0.1060) Grad: 1.4247  \n",
      "Epoch: [7][300/1504] Data 0.000 (0.002) Elapsed 6m 36s (remain 26m 23s) Loss: 0.2988(0.1103) Grad: 1.6151  \n",
      "Epoch: [7][400/1504] Data 0.000 (0.001) Elapsed 8m 47s (remain 24m 11s) Loss: 0.0737(0.1151) Grad: 1.2479  \n",
      "Epoch: [7][500/1504] Data 0.000 (0.001) Elapsed 10m 59s (remain 21m 59s) Loss: 0.0975(0.1138) Grad: 1.7309  \n",
      "Epoch: [7][600/1504] Data 0.000 (0.001) Elapsed 13m 10s (remain 19m 47s) Loss: 0.0728(0.1152) Grad: 1.3323  \n",
      "Epoch: [7][700/1504] Data 0.000 (0.001) Elapsed 15m 21s (remain 17m 36s) Loss: 0.3347(0.1148) Grad: 1.0468  \n",
      "Epoch: [7][800/1504] Data 0.000 (0.001) Elapsed 17m 33s (remain 15m 24s) Loss: 0.1654(0.1146) Grad: 2.0395  \n",
      "Epoch: [7][900/1504] Data 0.000 (0.001) Elapsed 19m 44s (remain 13m 12s) Loss: 0.0453(0.1146) Grad: 0.8565  \n",
      "Epoch: [7][1000/1504] Data 0.000 (0.001) Elapsed 21m 56s (remain 11m 1s) Loss: 0.0795(0.1139) Grad: 1.4745  \n",
      "Epoch: [7][1100/1504] Data 0.000 (0.001) Elapsed 24m 7s (remain 8m 49s) Loss: 0.0447(0.1145) Grad: 1.6765  \n",
      "Epoch: [7][1200/1504] Data 0.000 (0.001) Elapsed 26m 18s (remain 6m 38s) Loss: 0.0298(0.1150) Grad: 1.0303  \n",
      "Epoch: [7][1300/1504] Data 0.000 (0.001) Elapsed 28m 30s (remain 4m 26s) Loss: 0.1566(0.1155) Grad: 2.2591  \n",
      "Epoch: [7][1400/1504] Data 0.000 (0.000) Elapsed 30m 41s (remain 2m 15s) Loss: 0.0989(0.1151) Grad: 1.7070  \n",
      "Epoch: [7][1500/1504] Data 0.000 (0.000) Elapsed 32m 53s (remain 0m 3s) Loss: 0.0862(0.1152) Grad: 1.3624  \n",
      "Epoch: [7][1503/1504] Data 0.000 (0.000) Elapsed 32m 57s (remain 0m 0s) Loss: 0.0920(0.1151) Grad: 2.1629  \n",
      "EVAL: [0/377] Data 0.477 (0.477) Elapsed 0m 0s (remain 5m 14s) Loss: 0.1832(0.1832) \n",
      "EVAL: [100/377] Data 0.000 (0.005) Elapsed 0m 35s (remain 1m 36s) Loss: 0.0934(0.1098) \n",
      "EVAL: [200/377] Data 0.000 (0.003) Elapsed 1m 9s (remain 1m 0s) Loss: 0.1970(0.1038) \n",
      "EVAL: [300/377] Data 0.000 (0.002) Elapsed 1m 43s (remain 0m 26s) Loss: 0.1695(0.1065) \n"
     ]
    },
    {
     "name": "stderr",
     "output_type": "stream",
     "text": [
      "Epoch 7 - avg_train_loss: 0.1151  avg_val_loss: 0.1061  time: 2107s\n",
      "Epoch 7 - Accuracy: 0.8874335611237661\n",
      "Epoch 7 - Save Best Score: 0.8874 Model\n"
     ]
    },
    {
     "name": "stdout",
     "output_type": "stream",
     "text": [
      "EVAL: [376/377] Data 0.000 (0.001) Elapsed 2m 9s (remain 0m 0s) Loss: 0.3090(0.1061) \n",
      "Epoch: [8][0/1504] Data 0.503 (0.503) Elapsed 0m 1s (remain 46m 0s) Loss: 0.1764(0.1764) Grad: 2.7782  \n",
      "Epoch: [8][100/1504] Data 0.000 (0.005) Elapsed 2m 13s (remain 30m 52s) Loss: 0.1045(0.1077) Grad: 1.5742  \n",
      "Epoch: [8][200/1504] Data 0.000 (0.003) Elapsed 4m 24s (remain 28m 36s) Loss: 0.0643(0.1120) Grad: 2.0600  \n",
      "Epoch: [8][300/1504] Data 0.000 (0.002) Elapsed 6m 36s (remain 26m 23s) Loss: 0.1326(0.1142) Grad: 1.0167  \n",
      "Epoch: [8][400/1504] Data 0.000 (0.001) Elapsed 8m 47s (remain 24m 11s) Loss: 0.0542(0.1139) Grad: 1.2258  \n",
      "Epoch: [8][500/1504] Data 0.000 (0.001) Elapsed 10m 59s (remain 21m 59s) Loss: 0.1188(0.1145) Grad: 1.3459  \n",
      "Epoch: [8][600/1504] Data 0.000 (0.001) Elapsed 13m 10s (remain 19m 47s) Loss: 0.1405(0.1156) Grad: 1.5815  \n",
      "Epoch: [8][700/1504] Data 0.000 (0.001) Elapsed 15m 21s (remain 17m 35s) Loss: 0.1490(0.1145) Grad: 0.9968  \n",
      "Epoch: [8][800/1504] Data 0.000 (0.001) Elapsed 17m 33s (remain 15m 24s) Loss: 0.2348(0.1127) Grad: 1.4721  \n",
      "Epoch: [8][900/1504] Data 0.000 (0.001) Elapsed 19m 44s (remain 13m 12s) Loss: 0.0480(0.1135) Grad: 0.9934  \n",
      "Epoch: [8][1000/1504] Data 0.000 (0.001) Elapsed 21m 56s (remain 11m 1s) Loss: 0.0853(0.1127) Grad: 1.1739  \n",
      "Epoch: [8][1100/1504] Data 0.000 (0.001) Elapsed 24m 7s (remain 8m 49s) Loss: 0.0030(0.1127) Grad: 0.1627  \n",
      "Epoch: [8][1200/1504] Data 0.000 (0.001) Elapsed 26m 18s (remain 6m 38s) Loss: 0.1082(0.1138) Grad: 1.7979  \n",
      "Epoch: [8][1300/1504] Data 0.000 (0.001) Elapsed 28m 30s (remain 4m 26s) Loss: 0.0490(0.1131) Grad: 1.1470  \n",
      "Epoch: [8][1400/1504] Data 0.000 (0.001) Elapsed 30m 41s (remain 2m 15s) Loss: 0.0484(0.1124) Grad: 1.3504  \n",
      "Epoch: [8][1500/1504] Data 0.000 (0.001) Elapsed 32m 53s (remain 0m 3s) Loss: 0.1547(0.1117) Grad: 2.0783  \n",
      "Epoch: [8][1503/1504] Data 0.000 (0.001) Elapsed 32m 57s (remain 0m 0s) Loss: 0.1251(0.1117) Grad: 1.4110  \n",
      "EVAL: [0/377] Data 0.462 (0.462) Elapsed 0m 0s (remain 5m 5s) Loss: 0.1336(0.1336) \n",
      "EVAL: [100/377] Data 0.000 (0.005) Elapsed 0m 35s (remain 1m 36s) Loss: 0.0935(0.1129) \n",
      "EVAL: [200/377] Data 0.000 (0.002) Elapsed 1m 9s (remain 1m 0s) Loss: 0.2067(0.1049) \n",
      "EVAL: [300/377] Data 0.000 (0.002) Elapsed 1m 43s (remain 0m 26s) Loss: 0.1560(0.1072) \n"
     ]
    },
    {
     "name": "stderr",
     "output_type": "stream",
     "text": [
      "Epoch 8 - avg_train_loss: 0.1117  avg_val_loss: 0.1062  time: 2107s\n",
      "Epoch 8 - Accuracy: 0.8872437357630979\n"
     ]
    },
    {
     "name": "stdout",
     "output_type": "stream",
     "text": [
      "EVAL: [376/377] Data 0.000 (0.001) Elapsed 2m 9s (remain 0m 0s) Loss: 0.2461(0.1062) \n",
      "Epoch: [9][0/1504] Data 0.502 (0.502) Elapsed 0m 1s (remain 45m 54s) Loss: 0.1572(0.1572) Grad: 1.3273  \n",
      "Epoch: [9][100/1504] Data 0.000 (0.005) Elapsed 2m 13s (remain 30m 51s) Loss: 0.1857(0.1103) Grad: 1.2658  \n",
      "Epoch: [9][200/1504] Data 0.000 (0.003) Elapsed 4m 24s (remain 28m 36s) Loss: 0.1547(0.1100) Grad: 1.9728  \n",
      "Epoch: [9][300/1504] Data 0.000 (0.002) Elapsed 6m 36s (remain 26m 23s) Loss: 0.0816(0.1078) Grad: 1.0675  \n",
      "Epoch: [9][400/1504] Data 0.000 (0.001) Elapsed 8m 47s (remain 24m 11s) Loss: 0.0769(0.1057) Grad: 1.7846  \n",
      "Epoch: [9][500/1504] Data 0.000 (0.001) Elapsed 10m 59s (remain 21m 59s) Loss: 0.2264(0.1070) Grad: 2.2097  \n",
      "Epoch: [9][600/1504] Data 0.000 (0.001) Elapsed 13m 10s (remain 19m 47s) Loss: 0.0568(0.1074) Grad: 1.1793  \n",
      "Epoch: [9][700/1504] Data 0.000 (0.001) Elapsed 15m 21s (remain 17m 36s) Loss: 0.1874(0.1086) Grad: 2.1633  \n",
      "Epoch: [9][800/1504] Data 0.000 (0.001) Elapsed 17m 33s (remain 15m 24s) Loss: 0.1337(0.1090) Grad: 0.9980  \n",
      "Epoch: [9][900/1504] Data 0.000 (0.001) Elapsed 19m 44s (remain 13m 12s) Loss: 0.1110(0.1073) Grad: 0.7337  \n",
      "Epoch: [9][1000/1504] Data 0.000 (0.001) Elapsed 21m 56s (remain 11m 1s) Loss: 0.0465(0.1064) Grad: 1.0939  \n",
      "Epoch: [9][1100/1504] Data 0.000 (0.001) Elapsed 24m 7s (remain 8m 49s) Loss: 0.1048(0.1065) Grad: 1.9263  \n",
      "Epoch: [9][1200/1504] Data 0.000 (0.001) Elapsed 26m 19s (remain 6m 38s) Loss: 0.1227(0.1064) Grad: 1.1603  \n",
      "Epoch: [9][1300/1504] Data 0.000 (0.001) Elapsed 28m 30s (remain 4m 26s) Loss: 0.0151(0.1050) Grad: 0.4808  \n",
      "Epoch: [9][1400/1504] Data 0.000 (0.001) Elapsed 30m 42s (remain 2m 15s) Loss: 0.1215(0.1052) Grad: 2.0502  \n",
      "Epoch: [9][1500/1504] Data 0.000 (0.000) Elapsed 32m 53s (remain 0m 3s) Loss: 0.0808(0.1051) Grad: 1.6128  \n",
      "Epoch: [9][1503/1504] Data 0.000 (0.000) Elapsed 32m 57s (remain 0m 0s) Loss: 0.1271(0.1052) Grad: 1.3099  \n",
      "EVAL: [0/377] Data 0.549 (0.549) Elapsed 0m 0s (remain 5m 38s) Loss: 0.1609(0.1609) \n",
      "EVAL: [100/377] Data 0.000 (0.006) Elapsed 0m 35s (remain 1m 36s) Loss: 0.0813(0.1090) \n",
      "EVAL: [200/377] Data 0.000 (0.003) Elapsed 1m 9s (remain 1m 0s) Loss: 0.2649(0.1045) \n",
      "EVAL: [300/377] Data 0.000 (0.002) Elapsed 1m 43s (remain 0m 26s) Loss: 0.1657(0.1079) \n"
     ]
    },
    {
     "name": "stderr",
     "output_type": "stream",
     "text": [
      "Epoch 9 - avg_train_loss: 0.1052  avg_val_loss: 0.1065  time: 2107s\n",
      "Epoch 9 - Accuracy: 0.8883826879271071\n",
      "Epoch 9 - Save Best Score: 0.8884 Model\n"
     ]
    },
    {
     "name": "stdout",
     "output_type": "stream",
     "text": [
      "EVAL: [376/377] Data 0.000 (0.002) Elapsed 2m 9s (remain 0m 0s) Loss: 0.2335(0.1065) \n",
      "Epoch: [10][0/1504] Data 0.506 (0.506) Elapsed 0m 1s (remain 46m 3s) Loss: 0.2043(0.2043) Grad: 1.3944  \n",
      "Epoch: [10][100/1504] Data 0.000 (0.005) Elapsed 2m 13s (remain 30m 51s) Loss: 0.1494(0.1067) Grad: 2.1979  \n",
      "Epoch: [10][200/1504] Data 0.000 (0.003) Elapsed 4m 24s (remain 28m 36s) Loss: 0.0705(0.1031) Grad: 1.2307  \n",
      "Epoch: [10][300/1504] Data 0.000 (0.002) Elapsed 6m 36s (remain 26m 23s) Loss: 0.0743(0.1046) Grad: 0.8702  \n",
      "Epoch: [10][400/1504] Data 0.000 (0.001) Elapsed 8m 47s (remain 24m 11s) Loss: 0.0965(0.1025) Grad: 0.7466  \n",
      "Epoch: [10][500/1504] Data 0.000 (0.001) Elapsed 10m 59s (remain 21m 59s) Loss: 0.1091(0.1043) Grad: 1.2852  \n",
      "Epoch: [10][600/1504] Data 0.000 (0.001) Elapsed 13m 10s (remain 19m 47s) Loss: 0.0326(0.1049) Grad: 0.9556  \n",
      "Epoch: [10][700/1504] Data 0.000 (0.001) Elapsed 15m 21s (remain 17m 36s) Loss: 0.0975(0.1060) Grad: 1.6401  \n",
      "Epoch: [10][800/1504] Data 0.000 (0.001) Elapsed 17m 33s (remain 15m 24s) Loss: 0.1674(0.1050) Grad: 0.9555  \n",
      "Epoch: [10][900/1504] Data 0.000 (0.001) Elapsed 19m 44s (remain 13m 12s) Loss: 0.2231(0.1051) Grad: 1.6794  \n",
      "Epoch: [10][1000/1504] Data 0.000 (0.001) Elapsed 21m 56s (remain 11m 1s) Loss: 0.1030(0.1051) Grad: 0.5230  \n",
      "Epoch: [10][1100/1504] Data 0.000 (0.001) Elapsed 24m 7s (remain 8m 49s) Loss: 0.0667(0.1051) Grad: 1.6310  \n",
      "Epoch: [10][1200/1504] Data 0.000 (0.001) Elapsed 26m 18s (remain 6m 38s) Loss: 0.0518(0.1046) Grad: 1.8132  \n",
      "Epoch: [10][1300/1504] Data 0.000 (0.001) Elapsed 28m 30s (remain 4m 26s) Loss: 0.1508(0.1047) Grad: 1.9108  \n",
      "Epoch: [10][1400/1504] Data 0.000 (0.001) Elapsed 30m 41s (remain 2m 15s) Loss: 0.1901(0.1035) Grad: 1.2358  \n",
      "Epoch: [10][1500/1504] Data 0.000 (0.000) Elapsed 32m 52s (remain 0m 3s) Loss: 0.1149(0.1032) Grad: 1.4852  \n",
      "Epoch: [10][1503/1504] Data 0.000 (0.000) Elapsed 32m 56s (remain 0m 0s) Loss: 0.1104(0.1031) Grad: 1.9906  \n",
      "EVAL: [0/377] Data 0.484 (0.484) Elapsed 0m 0s (remain 5m 17s) Loss: 0.1537(0.1537) \n",
      "EVAL: [100/377] Data 0.000 (0.005) Elapsed 0m 35s (remain 1m 36s) Loss: 0.0911(0.1100) \n",
      "EVAL: [200/377] Data 0.000 (0.003) Elapsed 1m 9s (remain 1m 0s) Loss: 0.2512(0.1040) \n",
      "EVAL: [300/377] Data 0.000 (0.002) Elapsed 1m 43s (remain 0m 26s) Loss: 0.1673(0.1075) \n"
     ]
    },
    {
     "name": "stderr",
     "output_type": "stream",
     "text": [
      "Epoch 10 - avg_train_loss: 0.1031  avg_val_loss: 0.1060  time: 2107s\n",
      "Epoch 10 - Accuracy: 0.8900911161731208\n",
      "Epoch 10 - Save Best Score: 0.8901 Model\n"
     ]
    },
    {
     "name": "stdout",
     "output_type": "stream",
     "text": [
      "EVAL: [376/377] Data 0.000 (0.001) Elapsed 2m 9s (remain 0m 0s) Loss: 0.2721(0.1060) \n"
     ]
    },
    {
     "name": "stderr",
     "output_type": "stream",
     "text": [
      "========== fold: 0 result ==========\n",
      "Score: 0.89009\n",
      "========== fold: 1 training ==========\n"
     ]
    },
    {
     "name": "stdout",
     "output_type": "stream",
     "text": [
      "Epoch: [1][0/1504] Data 0.470 (0.470) Elapsed 0m 1s (remain 45m 22s) Loss: 0.5361(0.5361) Grad: 2.4103  \n",
      "Epoch: [1][100/1504] Data 0.000 (0.005) Elapsed 2m 13s (remain 30m 51s) Loss: 0.1243(0.2891) Grad: 1.7932  \n",
      "Epoch: [1][200/1504] Data 0.000 (0.003) Elapsed 4m 24s (remain 28m 35s) Loss: 0.2721(0.2576) Grad: 3.2120  \n",
      "Epoch: [1][300/1504] Data 0.000 (0.002) Elapsed 6m 35s (remain 26m 22s) Loss: 0.0836(0.2398) Grad: 1.5238  \n",
      "Epoch: [1][400/1504] Data 0.000 (0.001) Elapsed 8m 47s (remain 24m 10s) Loss: 0.4739(0.2326) Grad: 4.1593  \n",
      "Epoch: [1][500/1504] Data 0.000 (0.001) Elapsed 10m 58s (remain 21m 58s) Loss: 0.2361(0.2273) Grad: 3.3233  \n",
      "Epoch: [1][600/1504] Data 0.000 (0.001) Elapsed 13m 9s (remain 19m 46s) Loss: 0.0986(0.2208) Grad: 2.0870  \n",
      "Epoch: [1][700/1504] Data 0.000 (0.001) Elapsed 15m 21s (remain 17m 35s) Loss: 0.1543(0.2139) Grad: 2.2922  \n",
      "Epoch: [1][800/1504] Data 0.000 (0.001) Elapsed 17m 32s (remain 15m 23s) Loss: 0.2475(0.2112) Grad: 2.0686  \n",
      "Epoch: [1][900/1504] Data 0.000 (0.001) Elapsed 19m 43s (remain 13m 12s) Loss: 0.3050(0.2089) Grad: 3.6073  \n",
      "Epoch: [1][1000/1504] Data 0.000 (0.001) Elapsed 21m 55s (remain 11m 0s) Loss: 0.1628(0.2046) Grad: 2.0107  \n",
      "Epoch: [1][1100/1504] Data 0.000 (0.001) Elapsed 24m 6s (remain 8m 49s) Loss: 0.1200(0.2022) Grad: 1.9861  \n",
      "Epoch: [1][1200/1504] Data 0.000 (0.001) Elapsed 26m 18s (remain 6m 38s) Loss: 0.2020(0.1995) Grad: 3.5394  \n",
      "Epoch: [1][1300/1504] Data 0.000 (0.001) Elapsed 28m 29s (remain 4m 26s) Loss: 0.0278(0.1971) Grad: 0.7538  \n",
      "Epoch: [1][1400/1504] Data 0.000 (0.000) Elapsed 30m 40s (remain 2m 15s) Loss: 0.0719(0.1945) Grad: 1.6972  \n",
      "Epoch: [1][1500/1504] Data 0.000 (0.000) Elapsed 32m 52s (remain 0m 3s) Loss: 0.3101(0.1931) Grad: 2.5504  \n",
      "Epoch: [1][1503/1504] Data 0.000 (0.000) Elapsed 32m 56s (remain 0m 0s) Loss: 0.2635(0.1932) Grad: 2.1501  \n",
      "EVAL: [0/377] Data 0.463 (0.463) Elapsed 0m 0s (remain 5m 9s) Loss: 0.1274(0.1274) \n",
      "EVAL: [100/377] Data 0.000 (0.005) Elapsed 0m 35s (remain 1m 35s) Loss: 0.0804(0.1286) \n",
      "EVAL: [200/377] Data 0.000 (0.002) Elapsed 1m 9s (remain 1m 0s) Loss: 0.1220(0.1344) \n",
      "EVAL: [300/377] Data 0.000 (0.002) Elapsed 1m 43s (remain 0m 26s) Loss: 0.2853(0.1375) \n"
     ]
    },
    {
     "name": "stderr",
     "output_type": "stream",
     "text": [
      "Epoch 1 - avg_train_loss: 0.1932  avg_val_loss: 0.1369  time: 2106s\n",
      "Epoch 1 - Accuracy: 0.8553530751708428\n",
      "Epoch 1 - Save Best Score: 0.8554 Model\n"
     ]
    },
    {
     "name": "stdout",
     "output_type": "stream",
     "text": [
      "EVAL: [376/377] Data 0.000 (0.001) Elapsed 2m 9s (remain 0m 0s) Loss: 0.0233(0.1369) \n",
      "Epoch: [2][0/1504] Data 0.477 (0.477) Elapsed 0m 1s (remain 45m 21s) Loss: 0.1532(0.1532) Grad: 0.7786  \n",
      "Epoch: [2][100/1504] Data 0.000 (0.005) Elapsed 2m 13s (remain 30m 51s) Loss: 0.1389(0.1515) Grad: 2.3428  \n",
      "Epoch: [2][200/1504] Data 0.000 (0.003) Elapsed 4m 24s (remain 28m 36s) Loss: 0.2084(0.1575) Grad: 1.4244  \n",
      "Epoch: [2][300/1504] Data 0.000 (0.002) Elapsed 6m 36s (remain 26m 23s) Loss: 0.2315(0.1564) Grad: 2.7053  \n",
      "Epoch: [2][400/1504] Data 0.000 (0.001) Elapsed 8m 47s (remain 24m 11s) Loss: 0.1056(0.1556) Grad: 2.1243  \n",
      "Epoch: [2][500/1504] Data 0.000 (0.001) Elapsed 10m 59s (remain 21m 59s) Loss: 0.1944(0.1590) Grad: 3.2322  \n",
      "Epoch: [2][600/1504] Data 0.000 (0.001) Elapsed 13m 10s (remain 19m 47s) Loss: 0.2382(0.1593) Grad: 1.9123  \n",
      "Epoch: [2][700/1504] Data 0.000 (0.001) Elapsed 15m 21s (remain 17m 36s) Loss: 0.1223(0.1579) Grad: 1.7358  \n",
      "Epoch: [2][800/1504] Data 0.000 (0.001) Elapsed 17m 33s (remain 15m 24s) Loss: 0.1525(0.1577) Grad: 3.4100  \n",
      "Epoch: [2][900/1504] Data 0.000 (0.001) Elapsed 19m 44s (remain 13m 12s) Loss: 0.2525(0.1577) Grad: 2.2286  \n",
      "Epoch: [2][1000/1504] Data 0.000 (0.001) Elapsed 21m 56s (remain 11m 1s) Loss: 0.1574(0.1574) Grad: 1.1527  \n",
      "Epoch: [2][1100/1504] Data 0.000 (0.001) Elapsed 24m 7s (remain 8m 49s) Loss: 0.1353(0.1572) Grad: 1.5974  \n",
      "Epoch: [2][1200/1504] Data 0.000 (0.001) Elapsed 26m 19s (remain 6m 38s) Loss: 0.1712(0.1562) Grad: 1.1907  \n",
      "Epoch: [2][1300/1504] Data 0.000 (0.001) Elapsed 28m 30s (remain 4m 26s) Loss: 0.1484(0.1557) Grad: 1.9338  \n",
      "Epoch: [2][1400/1504] Data 0.000 (0.000) Elapsed 30m 42s (remain 2m 15s) Loss: 0.0983(0.1545) Grad: 1.2674  \n",
      "Epoch: [2][1500/1504] Data 0.000 (0.000) Elapsed 32m 53s (remain 0m 3s) Loss: 0.1816(0.1544) Grad: 1.9405  \n",
      "Epoch: [2][1503/1504] Data 0.000 (0.000) Elapsed 32m 57s (remain 0m 0s) Loss: 0.1936(0.1544) Grad: 1.5735  \n",
      "EVAL: [0/377] Data 0.461 (0.461) Elapsed 0m 0s (remain 5m 7s) Loss: 0.1668(0.1668) \n",
      "EVAL: [100/377] Data 0.000 (0.005) Elapsed 0m 35s (remain 1m 36s) Loss: 0.1021(0.1287) \n",
      "EVAL: [200/377] Data 0.000 (0.002) Elapsed 1m 9s (remain 1m 0s) Loss: 0.1452(0.1326) \n",
      "EVAL: [300/377] Data 0.000 (0.002) Elapsed 1m 43s (remain 0m 26s) Loss: 0.1697(0.1330) \n"
     ]
    },
    {
     "name": "stderr",
     "output_type": "stream",
     "text": [
      "Epoch 2 - avg_train_loss: 0.1544  avg_val_loss: 0.1312  time: 2107s\n",
      "Epoch 2 - Accuracy: 0.8587699316628702\n",
      "Epoch 2 - Save Best Score: 0.8588 Model\n"
     ]
    },
    {
     "name": "stdout",
     "output_type": "stream",
     "text": [
      "EVAL: [376/377] Data 0.000 (0.001) Elapsed 2m 9s (remain 0m 0s) Loss: 0.0784(0.1312) \n",
      "Epoch: [3][0/1504] Data 0.481 (0.481) Elapsed 0m 1s (remain 45m 27s) Loss: 0.1679(0.1679) Grad: 1.2857  \n",
      "Epoch: [3][100/1504] Data 0.000 (0.005) Elapsed 2m 13s (remain 30m 50s) Loss: 0.2396(0.1446) Grad: 2.1007  \n",
      "Epoch: [3][200/1504] Data 0.000 (0.003) Elapsed 4m 24s (remain 28m 34s) Loss: 0.0825(0.1488) Grad: 1.7349  \n",
      "Epoch: [3][300/1504] Data 0.000 (0.002) Elapsed 6m 36s (remain 26m 22s) Loss: 0.0875(0.1477) Grad: 1.9936  \n",
      "Epoch: [3][400/1504] Data 0.000 (0.001) Elapsed 8m 47s (remain 24m 10s) Loss: 0.2326(0.1477) Grad: 1.2601  \n",
      "Epoch: [3][500/1504] Data 0.000 (0.001) Elapsed 10m 58s (remain 21m 58s) Loss: 0.1204(0.1495) Grad: 1.5191  \n",
      "Epoch: [3][600/1504] Data 0.000 (0.001) Elapsed 13m 10s (remain 19m 47s) Loss: 0.1268(0.1486) Grad: 2.3797  \n",
      "Epoch: [3][700/1504] Data 0.000 (0.001) Elapsed 15m 21s (remain 17m 35s) Loss: 0.0859(0.1472) Grad: 1.5581  \n",
      "Epoch: [3][800/1504] Data 0.000 (0.001) Elapsed 17m 32s (remain 15m 24s) Loss: 0.1693(0.1480) Grad: 1.4726  \n",
      "Epoch: [3][900/1504] Data 0.000 (0.001) Elapsed 19m 44s (remain 13m 12s) Loss: 0.2124(0.1467) Grad: 1.2095  \n",
      "Epoch: [3][1000/1504] Data 0.000 (0.001) Elapsed 21m 55s (remain 11m 1s) Loss: 0.1133(0.1453) Grad: 0.8912  \n",
      "Epoch: [3][1100/1504] Data 0.000 (0.001) Elapsed 24m 7s (remain 8m 49s) Loss: 0.0241(0.1465) Grad: 0.4367  \n",
      "Epoch: [3][1200/1504] Data 0.000 (0.001) Elapsed 26m 18s (remain 6m 38s) Loss: 0.0774(0.1469) Grad: 1.1601  \n",
      "Epoch: [3][1300/1504] Data 0.000 (0.001) Elapsed 28m 29s (remain 4m 26s) Loss: 0.1749(0.1470) Grad: 1.8987  \n",
      "Epoch: [3][1400/1504] Data 0.000 (0.000) Elapsed 30m 41s (remain 2m 15s) Loss: 0.2070(0.1464) Grad: 1.8703  \n",
      "Epoch: [3][1500/1504] Data 0.000 (0.000) Elapsed 32m 52s (remain 0m 3s) Loss: 0.2238(0.1453) Grad: 1.9283  \n",
      "Epoch: [3][1503/1504] Data 0.000 (0.000) Elapsed 32m 56s (remain 0m 0s) Loss: 0.1758(0.1453) Grad: 1.3077  \n",
      "EVAL: [0/377] Data 0.480 (0.480) Elapsed 0m 0s (remain 5m 14s) Loss: 0.1705(0.1705) \n",
      "EVAL: [100/377] Data 0.000 (0.005) Elapsed 0m 35s (remain 1m 36s) Loss: 0.0888(0.1169) \n",
      "EVAL: [200/377] Data 0.000 (0.003) Elapsed 1m 9s (remain 1m 0s) Loss: 0.2091(0.1213) \n",
      "EVAL: [300/377] Data 0.000 (0.002) Elapsed 1m 43s (remain 0m 26s) Loss: 0.1676(0.1239) \n"
     ]
    },
    {
     "name": "stderr",
     "output_type": "stream",
     "text": [
      "Epoch 3 - avg_train_loss: 0.1453  avg_val_loss: 0.1226  time: 2107s\n",
      "Epoch 3 - Accuracy: 0.8709187547456341\n",
      "Epoch 3 - Save Best Score: 0.8709 Model\n"
     ]
    },
    {
     "name": "stdout",
     "output_type": "stream",
     "text": [
      "EVAL: [376/377] Data 0.000 (0.001) Elapsed 2m 9s (remain 0m 0s) Loss: 0.0816(0.1226) \n",
      "Epoch: [4][0/1504] Data 0.466 (0.466) Elapsed 0m 1s (remain 44m 58s) Loss: 0.2133(0.2133) Grad: 1.6583  \n",
      "Epoch: [4][100/1504] Data 0.000 (0.005) Elapsed 2m 13s (remain 30m 50s) Loss: 0.0766(0.1356) Grad: 1.2354  \n",
      "Epoch: [4][200/1504] Data 0.000 (0.002) Elapsed 4m 24s (remain 28m 36s) Loss: 0.1050(0.1396) Grad: 1.0854  \n",
      "Epoch: [4][300/1504] Data 0.000 (0.002) Elapsed 6m 36s (remain 26m 23s) Loss: 0.0412(0.1424) Grad: 1.2684  \n",
      "Epoch: [4][400/1504] Data 0.000 (0.001) Elapsed 8m 47s (remain 24m 11s) Loss: 0.1392(0.1420) Grad: 1.2848  \n",
      "Epoch: [4][500/1504] Data 0.000 (0.001) Elapsed 10m 59s (remain 21m 59s) Loss: 0.1823(0.1412) Grad: 1.7581  \n",
      "Epoch: [4][600/1504] Data 0.000 (0.001) Elapsed 13m 10s (remain 19m 47s) Loss: 0.1497(0.1389) Grad: 2.0241  \n",
      "Epoch: [4][700/1504] Data 0.000 (0.001) Elapsed 15m 21s (remain 17m 36s) Loss: 0.2078(0.1384) Grad: 1.2672  \n",
      "Epoch: [4][800/1504] Data 0.000 (0.001) Elapsed 17m 33s (remain 15m 24s) Loss: 0.2387(0.1392) Grad: 1.8608  \n",
      "Epoch: [4][900/1504] Data 0.000 (0.001) Elapsed 19m 44s (remain 13m 12s) Loss: 0.2069(0.1376) Grad: 1.3470  \n",
      "Epoch: [4][1000/1504] Data 0.000 (0.001) Elapsed 21m 56s (remain 11m 1s) Loss: 0.0379(0.1364) Grad: 1.1775  \n",
      "Epoch: [4][1100/1504] Data 0.000 (0.001) Elapsed 24m 7s (remain 8m 49s) Loss: 0.0211(0.1358) Grad: 0.7677  \n",
      "Epoch: [4][1200/1504] Data 0.000 (0.001) Elapsed 26m 18s (remain 6m 38s) Loss: 0.0693(0.1360) Grad: 0.7377  \n",
      "Epoch: [4][1300/1504] Data 0.000 (0.001) Elapsed 28m 30s (remain 4m 26s) Loss: 0.1009(0.1362) Grad: 1.0951  \n",
      "Epoch: [4][1400/1504] Data 0.000 (0.000) Elapsed 30m 41s (remain 2m 15s) Loss: 0.2072(0.1368) Grad: 2.1292  \n",
      "Epoch: [4][1500/1504] Data 0.000 (0.000) Elapsed 32m 53s (remain 0m 3s) Loss: 0.1459(0.1363) Grad: 1.4094  \n",
      "Epoch: [4][1503/1504] Data 0.000 (0.000) Elapsed 32m 57s (remain 0m 0s) Loss: 0.2226(0.1362) Grad: 1.3664  \n",
      "EVAL: [0/377] Data 0.483 (0.483) Elapsed 0m 0s (remain 5m 17s) Loss: 0.1705(0.1705) \n",
      "EVAL: [100/377] Data 0.000 (0.005) Elapsed 0m 35s (remain 1m 36s) Loss: 0.0545(0.1199) \n",
      "EVAL: [200/377] Data 0.000 (0.003) Elapsed 1m 9s (remain 1m 0s) Loss: 0.1134(0.1210) \n",
      "EVAL: [300/377] Data 0.000 (0.002) Elapsed 1m 43s (remain 0m 26s) Loss: 0.2293(0.1226) \n"
     ]
    },
    {
     "name": "stderr",
     "output_type": "stream",
     "text": [
      "Epoch 4 - avg_train_loss: 0.1362  avg_val_loss: 0.1205  time: 2107s\n",
      "Epoch 4 - Accuracy: 0.8675018982536067\n"
     ]
    },
    {
     "name": "stdout",
     "output_type": "stream",
     "text": [
      "EVAL: [376/377] Data 0.000 (0.001) Elapsed 2m 9s (remain 0m 0s) Loss: 0.0152(0.1205) \n",
      "Epoch: [5][0/1504] Data 0.493 (0.493) Elapsed 0m 1s (remain 45m 44s) Loss: 0.1172(0.1172) Grad: 0.6887  \n",
      "Epoch: [5][100/1504] Data 0.000 (0.005) Elapsed 2m 13s (remain 30m 49s) Loss: 0.1246(0.1369) Grad: 0.9390  \n",
      "Epoch: [5][200/1504] Data 0.000 (0.003) Elapsed 4m 24s (remain 28m 34s) Loss: 0.0591(0.1302) Grad: 1.3147  \n",
      "Epoch: [5][300/1504] Data 0.000 (0.002) Elapsed 6m 35s (remain 26m 21s) Loss: 0.1410(0.1299) Grad: 1.4348  \n",
      "Epoch: [5][400/1504] Data 0.000 (0.001) Elapsed 8m 47s (remain 24m 9s) Loss: 0.0980(0.1288) Grad: 1.6763  \n",
      "Epoch: [5][500/1504] Data 0.000 (0.001) Elapsed 10m 58s (remain 21m 58s) Loss: 0.0884(0.1263) Grad: 1.7913  \n",
      "Epoch: [5][600/1504] Data 0.000 (0.001) Elapsed 13m 9s (remain 19m 46s) Loss: 0.2461(0.1273) Grad: 1.6195  \n",
      "Epoch: [5][700/1504] Data 0.000 (0.001) Elapsed 15m 21s (remain 17m 35s) Loss: 0.2969(0.1284) Grad: 2.2520  \n",
      "Epoch: [5][800/1504] Data 0.000 (0.001) Elapsed 17m 32s (remain 15m 23s) Loss: 0.1116(0.1283) Grad: 1.7756  \n",
      "Epoch: [5][900/1504] Data 0.000 (0.001) Elapsed 19m 43s (remain 13m 12s) Loss: 0.1098(0.1270) Grad: 1.6414  \n",
      "Epoch: [5][1000/1504] Data 0.000 (0.001) Elapsed 21m 55s (remain 11m 0s) Loss: 0.0135(0.1270) Grad: 0.8667  \n",
      "Epoch: [5][1100/1504] Data 0.000 (0.001) Elapsed 24m 6s (remain 8m 49s) Loss: 0.0454(0.1265) Grad: 1.0866  \n",
      "Epoch: [5][1200/1504] Data 0.000 (0.001) Elapsed 26m 17s (remain 6m 38s) Loss: 0.1773(0.1267) Grad: 2.0307  \n",
      "Epoch: [5][1300/1504] Data 0.000 (0.001) Elapsed 28m 28s (remain 4m 26s) Loss: 0.1065(0.1264) Grad: 1.3889  \n",
      "Epoch: [5][1400/1504] Data 0.000 (0.001) Elapsed 30m 40s (remain 2m 15s) Loss: 0.1867(0.1268) Grad: 1.4741  \n",
      "Epoch: [5][1500/1504] Data 0.000 (0.000) Elapsed 32m 51s (remain 0m 3s) Loss: 0.0769(0.1267) Grad: 1.3615  \n",
      "Epoch: [5][1503/1504] Data 0.000 (0.000) Elapsed 32m 55s (remain 0m 0s) Loss: 0.1615(0.1267) Grad: 1.7404  \n",
      "EVAL: [0/377] Data 0.457 (0.457) Elapsed 0m 0s (remain 5m 8s) Loss: 0.1373(0.1373) \n",
      "EVAL: [100/377] Data 0.000 (0.005) Elapsed 0m 35s (remain 1m 36s) Loss: 0.0613(0.1145) \n",
      "EVAL: [200/377] Data 0.000 (0.002) Elapsed 1m 9s (remain 1m 0s) Loss: 0.1960(0.1164) \n",
      "EVAL: [300/377] Data 0.000 (0.002) Elapsed 1m 43s (remain 0m 26s) Loss: 0.1671(0.1167) \n"
     ]
    },
    {
     "name": "stderr",
     "output_type": "stream",
     "text": [
      "Epoch 5 - avg_train_loss: 0.1267  avg_val_loss: 0.1172  time: 2105s\n",
      "Epoch 5 - Accuracy: 0.8750949126803341\n",
      "Epoch 5 - Save Best Score: 0.8751 Model\n"
     ]
    },
    {
     "name": "stdout",
     "output_type": "stream",
     "text": [
      "EVAL: [376/377] Data 0.000 (0.001) Elapsed 2m 9s (remain 0m 0s) Loss: 0.0197(0.1172) \n",
      "Epoch: [6][0/1504] Data 0.480 (0.480) Elapsed 0m 1s (remain 45m 21s) Loss: 0.0562(0.0562) Grad: 1.0463  \n",
      "Epoch: [6][100/1504] Data 0.000 (0.005) Elapsed 2m 13s (remain 30m 52s) Loss: 0.1498(0.1218) Grad: 1.6425  \n",
      "Epoch: [6][200/1504] Data 0.000 (0.003) Elapsed 4m 24s (remain 28m 35s) Loss: 0.0938(0.1287) Grad: 1.3299  \n",
      "Epoch: [6][300/1504] Data 0.000 (0.002) Elapsed 6m 36s (remain 26m 22s) Loss: 0.0972(0.1239) Grad: 1.3430  \n",
      "Epoch: [6][400/1504] Data 0.000 (0.001) Elapsed 8m 47s (remain 24m 10s) Loss: 0.0992(0.1219) Grad: 1.2435  \n",
      "Epoch: [6][500/1504] Data 0.000 (0.001) Elapsed 10m 58s (remain 21m 59s) Loss: 0.1385(0.1219) Grad: 2.4815  \n",
      "Epoch: [6][600/1504] Data 0.000 (0.001) Elapsed 13m 10s (remain 19m 47s) Loss: 0.0697(0.1207) Grad: 1.1287  \n",
      "Epoch: [6][700/1504] Data 0.000 (0.001) Elapsed 15m 21s (remain 17m 35s) Loss: 0.1358(0.1235) Grad: 1.1798  \n",
      "Epoch: [6][800/1504] Data 0.000 (0.001) Elapsed 17m 33s (remain 15m 24s) Loss: 0.1130(0.1236) Grad: 2.2995  \n",
      "Epoch: [6][900/1504] Data 0.000 (0.001) Elapsed 19m 44s (remain 13m 12s) Loss: 0.0606(0.1229) Grad: 1.0049  \n",
      "Epoch: [6][1000/1504] Data 0.000 (0.001) Elapsed 21m 55s (remain 11m 1s) Loss: 0.0330(0.1227) Grad: 1.2256  \n",
      "Epoch: [6][1100/1504] Data 0.000 (0.001) Elapsed 24m 7s (remain 8m 49s) Loss: 0.1979(0.1222) Grad: 2.3998  \n",
      "Epoch: [6][1200/1504] Data 0.000 (0.001) Elapsed 26m 18s (remain 6m 38s) Loss: 0.1583(0.1223) Grad: 1.7087  \n",
      "Epoch: [6][1300/1504] Data 0.000 (0.001) Elapsed 28m 30s (remain 4m 26s) Loss: 0.0997(0.1222) Grad: 1.7749  \n",
      "Epoch: [6][1400/1504] Data 0.000 (0.001) Elapsed 30m 41s (remain 2m 15s) Loss: 0.0664(0.1221) Grad: 1.2325  \n",
      "Epoch: [6][1500/1504] Data 0.000 (0.000) Elapsed 32m 52s (remain 0m 3s) Loss: 0.2247(0.1225) Grad: 2.0128  \n",
      "Epoch: [6][1503/1504] Data 0.000 (0.000) Elapsed 32m 56s (remain 0m 0s) Loss: 0.0640(0.1225) Grad: 1.2062  \n",
      "EVAL: [0/377] Data 0.484 (0.484) Elapsed 0m 0s (remain 5m 18s) Loss: 0.1629(0.1629) \n",
      "EVAL: [100/377] Data 0.000 (0.005) Elapsed 0m 35s (remain 1m 36s) Loss: 0.0439(0.1167) \n",
      "EVAL: [200/377] Data 0.000 (0.003) Elapsed 1m 9s (remain 1m 0s) Loss: 0.1706(0.1167) \n",
      "EVAL: [300/377] Data 0.000 (0.002) Elapsed 1m 43s (remain 0m 26s) Loss: 0.1606(0.1190) \n"
     ]
    },
    {
     "name": "stderr",
     "output_type": "stream",
     "text": [
      "Epoch 6 - avg_train_loss: 0.1225  avg_val_loss: 0.1163  time: 2107s\n",
      "Epoch 6 - Accuracy: 0.8731966590736523\n"
     ]
    },
    {
     "name": "stdout",
     "output_type": "stream",
     "text": [
      "EVAL: [376/377] Data 0.000 (0.001) Elapsed 2m 9s (remain 0m 0s) Loss: 0.0103(0.1163) \n",
      "Epoch: [7][0/1504] Data 0.490 (0.490) Elapsed 0m 1s (remain 45m 45s) Loss: 0.0730(0.0730) Grad: 1.2254  \n",
      "Epoch: [7][100/1504] Data 0.000 (0.005) Elapsed 2m 13s (remain 30m 51s) Loss: 0.0803(0.1011) Grad: 1.5311  \n",
      "Epoch: [7][200/1504] Data 0.000 (0.003) Elapsed 4m 24s (remain 28m 36s) Loss: 0.2796(0.1137) Grad: 1.7982  \n",
      "Epoch: [7][300/1504] Data 0.000 (0.002) Elapsed 6m 36s (remain 26m 23s) Loss: 0.0498(0.1139) Grad: 1.0424  \n",
      "Epoch: [7][400/1504] Data 0.000 (0.001) Elapsed 8m 47s (remain 24m 11s) Loss: 0.0626(0.1147) Grad: 1.4941  \n",
      "Epoch: [7][500/1504] Data 0.000 (0.001) Elapsed 10m 59s (remain 21m 59s) Loss: 0.0818(0.1140) Grad: 1.1696  \n",
      "Epoch: [7][600/1504] Data 0.000 (0.001) Elapsed 13m 10s (remain 19m 47s) Loss: 0.0445(0.1139) Grad: 1.3472  \n",
      "Epoch: [7][700/1504] Data 0.000 (0.001) Elapsed 15m 22s (remain 17m 36s) Loss: 0.0508(0.1149) Grad: 1.1102  \n",
      "Epoch: [7][800/1504] Data 0.000 (0.001) Elapsed 17m 33s (remain 15m 24s) Loss: 0.2349(0.1156) Grad: 2.2266  \n",
      "Epoch: [7][900/1504] Data 0.000 (0.001) Elapsed 19m 44s (remain 13m 13s) Loss: 0.1397(0.1157) Grad: 1.2882  \n",
      "Epoch: [7][1000/1504] Data 0.000 (0.001) Elapsed 21m 56s (remain 11m 1s) Loss: 0.1821(0.1162) Grad: 1.9165  \n",
      "Epoch: [7][1100/1504] Data 0.000 (0.001) Elapsed 24m 7s (remain 8m 49s) Loss: 0.1453(0.1163) Grad: 2.1847  \n",
      "Epoch: [7][1200/1504] Data 0.000 (0.001) Elapsed 26m 19s (remain 6m 38s) Loss: 0.1302(0.1164) Grad: 1.0490  \n",
      "Epoch: [7][1300/1504] Data 0.000 (0.001) Elapsed 28m 30s (remain 4m 26s) Loss: 0.0444(0.1166) Grad: 1.2378  \n",
      "Epoch: [7][1400/1504] Data 0.000 (0.001) Elapsed 30m 42s (remain 2m 15s) Loss: 0.0348(0.1168) Grad: 0.6172  \n",
      "Epoch: [7][1500/1504] Data 0.000 (0.000) Elapsed 32m 53s (remain 0m 3s) Loss: 0.1029(0.1164) Grad: 1.9885  \n",
      "Epoch: [7][1503/1504] Data 0.000 (0.000) Elapsed 32m 57s (remain 0m 0s) Loss: 0.1232(0.1164) Grad: 1.4652  \n",
      "EVAL: [0/377] Data 0.472 (0.472) Elapsed 0m 0s (remain 5m 14s) Loss: 0.1568(0.1568) \n",
      "EVAL: [100/377] Data 0.000 (0.005) Elapsed 0m 35s (remain 1m 36s) Loss: 0.0732(0.1058) \n",
      "EVAL: [200/377] Data 0.000 (0.003) Elapsed 1m 9s (remain 1m 0s) Loss: 0.1522(0.1082) \n",
      "EVAL: [300/377] Data 0.000 (0.002) Elapsed 1m 43s (remain 0m 26s) Loss: 0.1981(0.1094) \n"
     ]
    },
    {
     "name": "stderr",
     "output_type": "stream",
     "text": [
      "Epoch 7 - avg_train_loss: 0.1164  avg_val_loss: 0.1095  time: 2108s\n",
      "Epoch 7 - Accuracy: 0.8836370539104025\n",
      "Epoch 7 - Save Best Score: 0.8836 Model\n"
     ]
    },
    {
     "name": "stdout",
     "output_type": "stream",
     "text": [
      "EVAL: [376/377] Data 0.000 (0.001) Elapsed 2m 9s (remain 0m 0s) Loss: 0.0331(0.1095) \n",
      "Epoch: [8][0/1504] Data 0.482 (0.482) Elapsed 0m 1s (remain 45m 24s) Loss: 0.1104(0.1104) Grad: 1.6289  \n",
      "Epoch: [8][100/1504] Data 0.000 (0.005) Elapsed 2m 13s (remain 30m 49s) Loss: 0.1130(0.1158) Grad: 1.4641  \n",
      "Epoch: [8][200/1504] Data 0.000 (0.003) Elapsed 4m 24s (remain 28m 34s) Loss: 0.1685(0.1085) Grad: 1.7116  \n",
      "Epoch: [8][300/1504] Data 0.000 (0.002) Elapsed 6m 35s (remain 26m 22s) Loss: 0.0186(0.1083) Grad: 0.4717  \n",
      "Epoch: [8][400/1504] Data 0.000 (0.001) Elapsed 8m 47s (remain 24m 10s) Loss: 0.0681(0.1097) Grad: 1.3785  \n",
      "Epoch: [8][500/1504] Data 0.000 (0.001) Elapsed 10m 58s (remain 21m 58s) Loss: 0.0747(0.1105) Grad: 1.3399  \n",
      "Epoch: [8][600/1504] Data 0.000 (0.001) Elapsed 13m 9s (remain 19m 46s) Loss: 0.0955(0.1092) Grad: 0.1302  \n",
      "Epoch: [8][700/1504] Data 0.000 (0.001) Elapsed 15m 21s (remain 17m 35s) Loss: 0.1091(0.1088) Grad: 1.0265  \n",
      "Epoch: [8][800/1504] Data 0.000 (0.001) Elapsed 17m 32s (remain 15m 23s) Loss: 0.1279(0.1096) Grad: 1.4771  \n",
      "Epoch: [8][900/1504] Data 0.000 (0.001) Elapsed 19m 43s (remain 13m 12s) Loss: 0.1193(0.1109) Grad: 1.8456  \n",
      "Epoch: [8][1000/1504] Data 0.000 (0.001) Elapsed 21m 55s (remain 11m 0s) Loss: 0.0969(0.1103) Grad: 1.0921  \n",
      "Epoch: [8][1100/1504] Data 0.000 (0.001) Elapsed 24m 6s (remain 8m 49s) Loss: 0.1732(0.1094) Grad: 1.5270  \n",
      "Epoch: [8][1200/1504] Data 0.000 (0.001) Elapsed 26m 17s (remain 6m 38s) Loss: 0.0307(0.1093) Grad: 1.0592  \n",
      "Epoch: [8][1300/1504] Data 0.000 (0.001) Elapsed 28m 29s (remain 4m 26s) Loss: 0.0856(0.1083) Grad: 1.4050  \n",
      "Epoch: [8][1400/1504] Data 0.000 (0.000) Elapsed 30m 40s (remain 2m 15s) Loss: 0.0818(0.1085) Grad: 0.4498  \n",
      "Epoch: [8][1500/1504] Data 0.000 (0.000) Elapsed 32m 51s (remain 0m 3s) Loss: 0.1074(0.1092) Grad: 1.0031  \n",
      "Epoch: [8][1503/1504] Data 0.000 (0.000) Elapsed 32m 55s (remain 0m 0s) Loss: 0.1487(0.1091) Grad: 1.7126  \n",
      "EVAL: [0/377] Data 0.478 (0.478) Elapsed 0m 0s (remain 5m 15s) Loss: 0.1629(0.1629) \n",
      "EVAL: [100/377] Data 0.000 (0.005) Elapsed 0m 35s (remain 1m 36s) Loss: 0.0465(0.1067) \n",
      "EVAL: [200/377] Data 0.000 (0.003) Elapsed 1m 9s (remain 1m 0s) Loss: 0.1678(0.1074) \n",
      "EVAL: [300/377] Data 0.000 (0.002) Elapsed 1m 43s (remain 0m 26s) Loss: 0.2139(0.1094) \n"
     ]
    },
    {
     "name": "stderr",
     "output_type": "stream",
     "text": [
      "Epoch 8 - avg_train_loss: 0.1091  avg_val_loss: 0.1087  time: 2106s\n",
      "Epoch 8 - Accuracy: 0.8853454821564161\n",
      "Epoch 8 - Save Best Score: 0.8853 Model\n"
     ]
    },
    {
     "name": "stdout",
     "output_type": "stream",
     "text": [
      "EVAL: [376/377] Data 0.000 (0.001) Elapsed 2m 9s (remain 0m 0s) Loss: 0.0081(0.1087) \n",
      "Epoch: [9][0/1504] Data 0.469 (0.469) Elapsed 0m 1s (remain 45m 7s) Loss: 0.0282(0.0282) Grad: 0.9817  \n",
      "Epoch: [9][100/1504] Data 0.000 (0.005) Elapsed 2m 13s (remain 30m 49s) Loss: 0.1317(0.1009) Grad: 1.7668  \n",
      "Epoch: [9][200/1504] Data 0.000 (0.002) Elapsed 4m 24s (remain 28m 33s) Loss: 0.1348(0.1051) Grad: 2.1315  \n",
      "Epoch: [9][300/1504] Data 0.000 (0.002) Elapsed 6m 35s (remain 26m 20s) Loss: 0.0636(0.1074) Grad: 1.6119  \n",
      "Epoch: [9][400/1504] Data 0.000 (0.001) Elapsed 8m 46s (remain 24m 8s) Loss: 0.2896(0.1065) Grad: 1.0305  \n",
      "Epoch: [9][500/1504] Data 0.000 (0.001) Elapsed 10m 57s (remain 21m 57s) Loss: 0.0490(0.1069) Grad: 1.0993  \n",
      "Epoch: [9][600/1504] Data 0.000 (0.001) Elapsed 13m 9s (remain 19m 45s) Loss: 0.0551(0.1054) Grad: 0.7484  \n",
      "Epoch: [9][700/1504] Data 0.000 (0.001) Elapsed 15m 20s (remain 17m 34s) Loss: 0.1547(0.1058) Grad: 1.2066  \n",
      "Epoch: [9][800/1504] Data 0.000 (0.001) Elapsed 17m 31s (remain 15m 22s) Loss: 0.1361(0.1055) Grad: 1.8210  \n",
      "Epoch: [9][900/1504] Data 0.000 (0.001) Elapsed 19m 42s (remain 13m 11s) Loss: 0.1216(0.1059) Grad: 1.7551  \n",
      "Epoch: [9][1000/1504] Data 0.000 (0.001) Elapsed 21m 53s (remain 11m 0s) Loss: 0.0769(0.1054) Grad: 1.1165  \n",
      "Epoch: [9][1100/1504] Data 0.000 (0.001) Elapsed 24m 4s (remain 8m 48s) Loss: 0.0801(0.1051) Grad: 1.2774  \n",
      "Epoch: [9][1200/1504] Data 0.000 (0.000) Elapsed 26m 16s (remain 6m 37s) Loss: 0.0749(0.1046) Grad: 1.9245  \n",
      "Epoch: [9][1300/1504] Data 0.000 (0.000) Elapsed 28m 27s (remain 4m 26s) Loss: 0.1146(0.1049) Grad: 1.6398  \n",
      "Epoch: [9][1400/1504] Data 0.000 (0.000) Elapsed 30m 38s (remain 2m 15s) Loss: 0.1483(0.1045) Grad: 2.6201  \n",
      "Epoch: [9][1500/1504] Data 0.000 (0.000) Elapsed 32m 49s (remain 0m 3s) Loss: 0.0645(0.1041) Grad: 1.1680  \n",
      "Epoch: [9][1503/1504] Data 0.000 (0.000) Elapsed 32m 53s (remain 0m 0s) Loss: 0.1997(0.1040) Grad: 1.5214  \n",
      "EVAL: [0/377] Data 0.478 (0.478) Elapsed 0m 0s (remain 5m 15s) Loss: 0.1649(0.1649) \n",
      "EVAL: [100/377] Data 0.000 (0.005) Elapsed 0m 35s (remain 1m 36s) Loss: 0.0537(0.1134) \n",
      "EVAL: [200/377] Data 0.000 (0.003) Elapsed 1m 9s (remain 1m 0s) Loss: 0.1667(0.1114) \n",
      "EVAL: [300/377] Data 0.000 (0.002) Elapsed 1m 43s (remain 0m 26s) Loss: 0.1798(0.1119) \n"
     ]
    },
    {
     "name": "stderr",
     "output_type": "stream",
     "text": [
      "Epoch 9 - avg_train_loss: 0.1040  avg_val_loss: 0.1108  time: 2103s\n",
      "Epoch 9 - Accuracy: 0.8802201974183751\n"
     ]
    },
    {
     "name": "stdout",
     "output_type": "stream",
     "text": [
      "EVAL: [376/377] Data 0.000 (0.001) Elapsed 2m 9s (remain 0m 0s) Loss: 0.0082(0.1108) \n",
      "Epoch: [10][0/1504] Data 0.474 (0.474) Elapsed 0m 1s (remain 45m 16s) Loss: 0.1321(0.1321) Grad: 1.1629  \n",
      "Epoch: [10][100/1504] Data 0.000 (0.005) Elapsed 2m 13s (remain 30m 49s) Loss: 0.0278(0.1052) Grad: 1.1694  \n",
      "Epoch: [10][200/1504] Data 0.000 (0.003) Elapsed 4m 24s (remain 28m 35s) Loss: 0.1107(0.0987) Grad: 0.7060  \n",
      "Epoch: [10][300/1504] Data 0.000 (0.002) Elapsed 6m 35s (remain 26m 22s) Loss: 0.1400(0.1021) Grad: 1.5015  \n",
      "Epoch: [10][400/1504] Data 0.000 (0.001) Elapsed 8m 47s (remain 24m 10s) Loss: 0.2465(0.1011) Grad: 1.9466  \n",
      "Epoch: [10][500/1504] Data 0.000 (0.001) Elapsed 10m 58s (remain 21m 58s) Loss: 0.2331(0.1004) Grad: 1.9176  \n",
      "Epoch: [10][600/1504] Data 0.000 (0.001) Elapsed 13m 10s (remain 19m 46s) Loss: 0.0167(0.0999) Grad: 0.4306  \n",
      "Epoch: [10][700/1504] Data 0.000 (0.001) Elapsed 15m 21s (remain 17m 35s) Loss: 0.0927(0.1005) Grad: 1.0465  \n",
      "Epoch: [10][800/1504] Data 0.000 (0.001) Elapsed 17m 32s (remain 15m 23s) Loss: 0.0032(0.1001) Grad: 0.1079  \n",
      "Epoch: [10][900/1504] Data 0.000 (0.001) Elapsed 19m 43s (remain 13m 12s) Loss: 0.0623(0.1007) Grad: 1.2994  \n",
      "Epoch: [10][1000/1504] Data 0.000 (0.001) Elapsed 21m 55s (remain 11m 0s) Loss: 0.0537(0.1013) Grad: 1.4049  \n",
      "Epoch: [10][1100/1504] Data 0.000 (0.001) Elapsed 24m 6s (remain 8m 49s) Loss: 0.0208(0.1020) Grad: 0.7361  \n",
      "Epoch: [10][1200/1504] Data 0.000 (0.001) Elapsed 26m 18s (remain 6m 38s) Loss: 0.0590(0.1019) Grad: 1.0313  \n",
      "Epoch: [10][1300/1504] Data 0.000 (0.001) Elapsed 28m 29s (remain 4m 26s) Loss: 0.0313(0.1017) Grad: 1.1164  \n",
      "Epoch: [10][1400/1504] Data 0.000 (0.000) Elapsed 30m 40s (remain 2m 15s) Loss: 0.1313(0.1017) Grad: 1.6071  \n",
      "Epoch: [10][1500/1504] Data 0.000 (0.000) Elapsed 32m 52s (remain 0m 3s) Loss: 0.0420(0.1019) Grad: 1.3862  \n",
      "Epoch: [10][1503/1504] Data 0.000 (0.000) Elapsed 32m 56s (remain 0m 0s) Loss: 0.0487(0.1019) Grad: 1.3420  \n",
      "EVAL: [0/377] Data 0.467 (0.467) Elapsed 0m 0s (remain 5m 11s) Loss: 0.1649(0.1649) \n",
      "EVAL: [100/377] Data 0.000 (0.005) Elapsed 0m 35s (remain 1m 36s) Loss: 0.0435(0.1081) \n",
      "EVAL: [200/377] Data 0.000 (0.003) Elapsed 1m 9s (remain 1m 0s) Loss: 0.1559(0.1076) \n",
      "EVAL: [300/377] Data 0.000 (0.002) Elapsed 1m 43s (remain 0m 26s) Loss: 0.1965(0.1086) \n"
     ]
    },
    {
     "name": "stderr",
     "output_type": "stream",
     "text": [
      "Epoch 10 - avg_train_loss: 0.1019  avg_val_loss: 0.1079  time: 2106s\n",
      "Epoch 10 - Accuracy: 0.8855353075170843\n",
      "Epoch 10 - Save Best Score: 0.8855 Model\n"
     ]
    },
    {
     "name": "stdout",
     "output_type": "stream",
     "text": [
      "EVAL: [376/377] Data 0.000 (0.001) Elapsed 2m 9s (remain 0m 0s) Loss: 0.0101(0.1079) \n"
     ]
    },
    {
     "name": "stderr",
     "output_type": "stream",
     "text": [
      "========== fold: 1 result ==========\n",
      "Score: 0.88554\n",
      "========== fold: 2 training ==========\n"
     ]
    },
    {
     "name": "stdout",
     "output_type": "stream",
     "text": [
      "Epoch: [1][0/1505] Data 0.469 (0.469) Elapsed 0m 1s (remain 45m 29s) Loss: 0.4716(0.4716) Grad: 2.8233  \n",
      "Epoch: [1][100/1505] Data 0.000 (0.005) Elapsed 2m 13s (remain 30m 51s) Loss: 0.2368(0.2853) Grad: 4.8644  \n",
      "Epoch: [1][200/1505] Data 0.000 (0.002) Elapsed 4m 24s (remain 28m 36s) Loss: 0.2115(0.2539) Grad: 2.2192  \n",
      "Epoch: [1][300/1505] Data 0.000 (0.002) Elapsed 6m 35s (remain 26m 23s) Loss: 0.1945(0.2415) Grad: 4.1248  \n",
      "Epoch: [1][400/1505] Data 0.000 (0.001) Elapsed 8m 47s (remain 24m 11s) Loss: 0.3722(0.2337) Grad: 4.3114  \n",
      "Epoch: [1][500/1505] Data 0.000 (0.001) Elapsed 10m 58s (remain 21m 59s) Loss: 0.3904(0.2268) Grad: 3.3733  \n",
      "Epoch: [1][600/1505] Data 0.000 (0.001) Elapsed 13m 9s (remain 19m 47s) Loss: 0.1496(0.2212) Grad: 2.0557  \n",
      "Epoch: [1][700/1505] Data 0.000 (0.001) Elapsed 15m 21s (remain 17m 36s) Loss: 0.1717(0.2162) Grad: 2.0403  \n",
      "Epoch: [1][800/1505] Data 0.000 (0.001) Elapsed 17m 32s (remain 15m 24s) Loss: 0.0828(0.2110) Grad: 2.0050  \n",
      "Epoch: [1][900/1505] Data 0.000 (0.001) Elapsed 19m 43s (remain 13m 13s) Loss: 0.1508(0.2074) Grad: 1.5395  \n",
      "Epoch: [1][1000/1505] Data 0.000 (0.001) Elapsed 21m 54s (remain 11m 2s) Loss: 0.1100(0.2041) Grad: 2.1688  \n",
      "Epoch: [1][1100/1505] Data 0.000 (0.001) Elapsed 24m 6s (remain 8m 50s) Loss: 0.2603(0.2023) Grad: 2.6236  \n",
      "Epoch: [1][1200/1505] Data 0.000 (0.000) Elapsed 26m 17s (remain 6m 39s) Loss: 0.0352(0.2002) Grad: 0.9560  \n",
      "Epoch: [1][1300/1505] Data 0.000 (0.000) Elapsed 28m 28s (remain 4m 27s) Loss: 0.1508(0.1976) Grad: 2.2264  \n",
      "Epoch: [1][1400/1505] Data 0.000 (0.000) Elapsed 30m 40s (remain 2m 16s) Loss: 0.1657(0.1957) Grad: 1.7164  \n",
      "Epoch: [1][1500/1505] Data 0.000 (0.000) Elapsed 32m 51s (remain 0m 5s) Loss: 0.1765(0.1936) Grad: 1.7826  \n",
      "Epoch: [1][1504/1505] Data 0.000 (0.000) Elapsed 32m 56s (remain 0m 0s) Loss: 0.1348(0.1935) Grad: 1.5375  \n",
      "EVAL: [0/377] Data 0.458 (0.458) Elapsed 0m 0s (remain 5m 6s) Loss: 0.0869(0.0869) \n",
      "EVAL: [100/377] Data 0.000 (0.005) Elapsed 0m 35s (remain 1m 36s) Loss: 0.1527(0.1468) \n",
      "EVAL: [200/377] Data 0.000 (0.002) Elapsed 1m 9s (remain 1m 0s) Loss: 0.1410(0.1463) \n",
      "EVAL: [300/377] Data 0.000 (0.002) Elapsed 1m 43s (remain 0m 26s) Loss: 0.1048(0.1470) \n"
     ]
    },
    {
     "name": "stderr",
     "output_type": "stream",
     "text": [
      "Epoch 1 - avg_train_loss: 0.1935  avg_val_loss: 0.1465  time: 2106s\n",
      "Epoch 1 - Accuracy: 0.8424150370229733\n",
      "Epoch 1 - Save Best Score: 0.8424 Model\n"
     ]
    },
    {
     "name": "stdout",
     "output_type": "stream",
     "text": [
      "EVAL: [376/377] Data 0.000 (0.001) Elapsed 2m 9s (remain 0m 0s) Loss: 0.0288(0.1465) \n",
      "Epoch: [2][0/1505] Data 0.475 (0.475) Elapsed 0m 1s (remain 45m 20s) Loss: 0.0494(0.0494) Grad: 0.9277  \n",
      "Epoch: [2][100/1505] Data 0.000 (0.005) Elapsed 2m 13s (remain 30m 50s) Loss: 0.3077(0.1605) Grad: 2.1739  \n",
      "Epoch: [2][200/1505] Data 0.000 (0.003) Elapsed 4m 24s (remain 28m 35s) Loss: 0.0909(0.1618) Grad: 1.5243  \n",
      "Epoch: [2][300/1505] Data 0.000 (0.002) Elapsed 6m 35s (remain 26m 23s) Loss: 0.2407(0.1626) Grad: 2.7197  \n",
      "Epoch: [2][400/1505] Data 0.000 (0.001) Elapsed 8m 47s (remain 24m 10s) Loss: 0.0776(0.1600) Grad: 1.4457  \n",
      "Epoch: [2][500/1505] Data 0.000 (0.001) Elapsed 10m 58s (remain 21m 59s) Loss: 0.1594(0.1565) Grad: 1.8049  \n",
      "Epoch: [2][600/1505] Data 0.000 (0.001) Elapsed 13m 9s (remain 19m 47s) Loss: 0.0853(0.1566) Grad: 1.3503  \n",
      "Epoch: [2][700/1505] Data 0.000 (0.001) Elapsed 15m 20s (remain 17m 36s) Loss: 0.0294(0.1559) Grad: 0.8411  \n",
      "Epoch: [2][800/1505] Data 0.000 (0.001) Elapsed 17m 32s (remain 15m 24s) Loss: 0.2255(0.1550) Grad: 1.6038  \n",
      "Epoch: [2][900/1505] Data 0.000 (0.001) Elapsed 19m 43s (remain 13m 13s) Loss: 0.2385(0.1558) Grad: 1.1786  \n",
      "Epoch: [2][1000/1505] Data 0.000 (0.001) Elapsed 21m 54s (remain 11m 2s) Loss: 0.0442(0.1551) Grad: 1.2375  \n",
      "Epoch: [2][1100/1505] Data 0.000 (0.001) Elapsed 24m 6s (remain 8m 50s) Loss: 0.1572(0.1549) Grad: 0.8998  \n",
      "Epoch: [2][1200/1505] Data 0.000 (0.001) Elapsed 26m 17s (remain 6m 39s) Loss: 0.0356(0.1540) Grad: 0.9620  \n",
      "Epoch: [2][1300/1505] Data 0.000 (0.001) Elapsed 28m 28s (remain 4m 27s) Loss: 0.2989(0.1543) Grad: 2.2997  \n",
      "Epoch: [2][1400/1505] Data 0.000 (0.000) Elapsed 30m 40s (remain 2m 16s) Loss: 0.1373(0.1548) Grad: 1.2334  \n",
      "Epoch: [2][1500/1505] Data 0.000 (0.000) Elapsed 32m 51s (remain 0m 5s) Loss: 0.1444(0.1543) Grad: 1.3158  \n",
      "Epoch: [2][1504/1505] Data 0.000 (0.000) Elapsed 32m 56s (remain 0m 0s) Loss: 0.1240(0.1543) Grad: 1.1884  \n",
      "EVAL: [0/377] Data 0.490 (0.490) Elapsed 0m 0s (remain 5m 20s) Loss: 0.2161(0.2161) \n",
      "EVAL: [100/377] Data 0.000 (0.005) Elapsed 0m 35s (remain 1m 36s) Loss: 0.0955(0.1368) \n",
      "EVAL: [200/377] Data 0.000 (0.003) Elapsed 1m 9s (remain 1m 0s) Loss: 0.1247(0.1345) \n",
      "EVAL: [300/377] Data 0.000 (0.002) Elapsed 1m 43s (remain 0m 26s) Loss: 0.0992(0.1328) \n"
     ]
    },
    {
     "name": "stderr",
     "output_type": "stream",
     "text": [
      "Epoch 2 - avg_train_loss: 0.1543  avg_val_loss: 0.1321  time: 2107s\n",
      "Epoch 2 - Accuracy: 0.8568445035124359\n",
      "Epoch 2 - Save Best Score: 0.8568 Model\n"
     ]
    },
    {
     "name": "stdout",
     "output_type": "stream",
     "text": [
      "EVAL: [376/377] Data 0.000 (0.001) Elapsed 2m 9s (remain 0m 0s) Loss: 0.0791(0.1321) \n",
      "Epoch: [3][0/1505] Data 0.471 (0.471) Elapsed 0m 1s (remain 45m 6s) Loss: 0.1911(0.1911) Grad: 1.6246  \n",
      "Epoch: [3][100/1505] Data 0.000 (0.005) Elapsed 2m 13s (remain 30m 52s) Loss: 0.1190(0.1361) Grad: 1.9735  \n",
      "Epoch: [3][200/1505] Data 0.000 (0.003) Elapsed 4m 24s (remain 28m 37s) Loss: 0.0675(0.1451) Grad: 1.2327  \n",
      "Epoch: [3][300/1505] Data 0.000 (0.002) Elapsed 6m 36s (remain 26m 24s) Loss: 0.2438(0.1441) Grad: 2.4313  \n",
      "Epoch: [3][400/1505] Data 0.000 (0.001) Elapsed 8m 47s (remain 24m 12s) Loss: 0.1884(0.1459) Grad: 2.1127  \n",
      "Epoch: [3][500/1505] Data 0.000 (0.001) Elapsed 10m 58s (remain 22m 0s) Loss: 0.1904(0.1464) Grad: 1.0057  \n",
      "Epoch: [3][600/1505] Data 0.000 (0.001) Elapsed 13m 10s (remain 19m 48s) Loss: 0.1902(0.1450) Grad: 2.0009  \n",
      "Epoch: [3][700/1505] Data 0.000 (0.001) Elapsed 15m 21s (remain 17m 37s) Loss: 0.2356(0.1433) Grad: 2.2550  \n",
      "Epoch: [3][800/1505] Data 0.000 (0.001) Elapsed 17m 33s (remain 15m 25s) Loss: 0.2835(0.1440) Grad: 1.1749  \n",
      "Epoch: [3][900/1505] Data 0.000 (0.001) Elapsed 19m 44s (remain 13m 14s) Loss: 0.1638(0.1444) Grad: 1.7563  \n",
      "Epoch: [3][1000/1505] Data 0.000 (0.001) Elapsed 21m 56s (remain 11m 2s) Loss: 0.0930(0.1454) Grad: 1.1523  \n",
      "Epoch: [3][1100/1505] Data 0.000 (0.001) Elapsed 24m 7s (remain 8m 51s) Loss: 0.1109(0.1456) Grad: 0.8398  \n",
      "Epoch: [3][1200/1505] Data 0.000 (0.001) Elapsed 26m 18s (remain 6m 39s) Loss: 0.2002(0.1449) Grad: 1.0523  \n",
      "Epoch: [3][1300/1505] Data 0.000 (0.001) Elapsed 28m 30s (remain 4m 28s) Loss: 0.1161(0.1442) Grad: 1.5092  \n",
      "Epoch: [3][1400/1505] Data 0.000 (0.000) Elapsed 30m 41s (remain 2m 16s) Loss: 0.1280(0.1448) Grad: 1.2264  \n",
      "Epoch: [3][1500/1505] Data 0.000 (0.000) Elapsed 32m 53s (remain 0m 5s) Loss: 0.1159(0.1454) Grad: 1.1883  \n",
      "Epoch: [3][1504/1505] Data 0.000 (0.000) Elapsed 32m 58s (remain 0m 0s) Loss: 0.1401(0.1454) Grad: 1.0978  \n",
      "EVAL: [0/377] Data 0.448 (0.448) Elapsed 0m 0s (remain 5m 2s) Loss: 0.1164(0.1164) \n",
      "EVAL: [100/377] Data 0.000 (0.005) Elapsed 0m 35s (remain 1m 35s) Loss: 0.1312(0.1243) \n",
      "EVAL: [200/377] Data 0.000 (0.002) Elapsed 1m 9s (remain 1m 0s) Loss: 0.1405(0.1199) \n",
      "EVAL: [300/377] Data 0.000 (0.002) Elapsed 1m 43s (remain 0m 26s) Loss: 0.0470(0.1205) \n"
     ]
    },
    {
     "name": "stderr",
     "output_type": "stream",
     "text": [
      "Epoch 3 - avg_train_loss: 0.1454  avg_val_loss: 0.1205  time: 2108s\n",
      "Epoch 3 - Accuracy: 0.8657679893677616\n",
      "Epoch 3 - Save Best Score: 0.8658 Model\n"
     ]
    },
    {
     "name": "stdout",
     "output_type": "stream",
     "text": [
      "EVAL: [376/377] Data 0.000 (0.001) Elapsed 2m 9s (remain 0m 0s) Loss: 0.0100(0.1205) \n",
      "Epoch: [4][0/1505] Data 0.482 (0.482) Elapsed 0m 1s (remain 45m 28s) Loss: 0.0373(0.0373) Grad: 0.6009  \n",
      "Epoch: [4][100/1505] Data 0.000 (0.005) Elapsed 2m 13s (remain 30m 50s) Loss: 0.0475(0.1290) Grad: 1.0287  \n",
      "Epoch: [4][200/1505] Data 0.000 (0.003) Elapsed 4m 24s (remain 28m 36s) Loss: 0.1528(0.1337) Grad: 2.3300  \n",
      "Epoch: [4][300/1505] Data 0.000 (0.002) Elapsed 6m 35s (remain 26m 23s) Loss: 0.1091(0.1337) Grad: 2.6340  \n",
      "Epoch: [4][400/1505] Data 0.000 (0.001) Elapsed 8m 47s (remain 24m 11s) Loss: 0.0186(0.1361) Grad: 0.8790  \n",
      "Epoch: [4][500/1505] Data 0.000 (0.001) Elapsed 10m 58s (remain 21m 59s) Loss: 0.2640(0.1369) Grad: 1.6792  \n",
      "Epoch: [4][600/1505] Data 0.000 (0.001) Elapsed 13m 9s (remain 19m 48s) Loss: 0.2331(0.1371) Grad: 2.0353  \n",
      "Epoch: [4][700/1505] Data 0.000 (0.001) Elapsed 15m 21s (remain 17m 36s) Loss: 0.1530(0.1372) Grad: 2.2273  \n",
      "Epoch: [4][800/1505] Data 0.000 (0.001) Elapsed 17m 32s (remain 15m 25s) Loss: 0.0812(0.1368) Grad: 1.5490  \n",
      "Epoch: [4][900/1505] Data 0.000 (0.001) Elapsed 19m 43s (remain 13m 13s) Loss: 0.0398(0.1353) Grad: 1.3971  \n",
      "Epoch: [4][1000/1505] Data 0.000 (0.001) Elapsed 21m 55s (remain 11m 2s) Loss: 0.2629(0.1358) Grad: 1.2085  \n",
      "Epoch: [4][1100/1505] Data 0.000 (0.001) Elapsed 24m 6s (remain 8m 50s) Loss: 0.1659(0.1356) Grad: 0.8579  \n",
      "Epoch: [4][1200/1505] Data 0.000 (0.001) Elapsed 26m 17s (remain 6m 39s) Loss: 0.0355(0.1359) Grad: 1.0678  \n",
      "Epoch: [4][1300/1505] Data 0.000 (0.000) Elapsed 28m 29s (remain 4m 28s) Loss: 0.1845(0.1359) Grad: 1.4522  \n",
      "Epoch: [4][1400/1505] Data 0.000 (0.000) Elapsed 30m 40s (remain 2m 16s) Loss: 0.1572(0.1353) Grad: 1.5449  \n",
      "Epoch: [4][1500/1505] Data 0.000 (0.000) Elapsed 32m 51s (remain 0m 5s) Loss: 0.2328(0.1356) Grad: 1.8612  \n",
      "Epoch: [4][1504/1505] Data 0.000 (0.000) Elapsed 32m 57s (remain 0m 0s) Loss: 0.0326(0.1355) Grad: 0.8458  \n",
      "EVAL: [0/377] Data 0.560 (0.560) Elapsed 0m 0s (remain 5m 48s) Loss: 0.1241(0.1241) \n",
      "EVAL: [100/377] Data 0.000 (0.006) Elapsed 0m 35s (remain 1m 36s) Loss: 0.1353(0.1135) \n",
      "EVAL: [200/377] Data 0.000 (0.003) Elapsed 1m 9s (remain 1m 0s) Loss: 0.1169(0.1141) \n",
      "EVAL: [300/377] Data 0.000 (0.002) Elapsed 1m 43s (remain 0m 26s) Loss: 0.0708(0.1126) \n"
     ]
    },
    {
     "name": "stderr",
     "output_type": "stream",
     "text": [
      "Epoch 4 - avg_train_loss: 0.1355  avg_val_loss: 0.1132  time: 2107s\n",
      "Epoch 4 - Accuracy: 0.8777292576419214\n",
      "Epoch 4 - Save Best Score: 0.8777 Model\n"
     ]
    },
    {
     "name": "stdout",
     "output_type": "stream",
     "text": [
      "EVAL: [376/377] Data 0.000 (0.002) Elapsed 2m 9s (remain 0m 0s) Loss: 0.0125(0.1132) \n",
      "Epoch: [5][0/1505] Data 0.469 (0.469) Elapsed 0m 1s (remain 45m 10s) Loss: 0.0446(0.0446) Grad: 0.9585  \n",
      "Epoch: [5][100/1505] Data 0.000 (0.005) Elapsed 2m 13s (remain 30m 52s) Loss: 0.1617(0.1291) Grad: 1.5366  \n",
      "Epoch: [5][200/1505] Data 0.000 (0.002) Elapsed 4m 24s (remain 28m 36s) Loss: 0.1731(0.1306) Grad: 1.1813  \n",
      "Epoch: [5][300/1505] Data 0.000 (0.002) Elapsed 6m 35s (remain 26m 23s) Loss: 0.1454(0.1315) Grad: 1.6025  \n",
      "Epoch: [5][400/1505] Data 0.000 (0.001) Elapsed 8m 47s (remain 24m 11s) Loss: 0.0927(0.1298) Grad: 1.4428  \n",
      "Epoch: [5][500/1505] Data 0.000 (0.001) Elapsed 10m 58s (remain 22m 0s) Loss: 0.0917(0.1295) Grad: 0.5758  \n",
      "Epoch: [5][600/1505] Data 0.000 (0.001) Elapsed 13m 10s (remain 19m 48s) Loss: 0.1602(0.1293) Grad: 1.5074  \n",
      "Epoch: [5][700/1505] Data 0.000 (0.001) Elapsed 15m 21s (remain 17m 36s) Loss: 0.2218(0.1309) Grad: 1.2402  \n",
      "Epoch: [5][800/1505] Data 0.000 (0.001) Elapsed 17m 32s (remain 15m 25s) Loss: 0.1354(0.1314) Grad: 2.0964  \n",
      "Epoch: [5][900/1505] Data 0.000 (0.001) Elapsed 19m 44s (remain 13m 13s) Loss: 0.1143(0.1308) Grad: 0.9258  \n",
      "Epoch: [5][1000/1505] Data 0.000 (0.001) Elapsed 21m 55s (remain 11m 2s) Loss: 0.0549(0.1302) Grad: 0.9830  \n",
      "Epoch: [5][1100/1505] Data 0.000 (0.001) Elapsed 24m 7s (remain 8m 50s) Loss: 0.2221(0.1297) Grad: 1.7733  \n",
      "Epoch: [5][1200/1505] Data 0.000 (0.001) Elapsed 26m 18s (remain 6m 39s) Loss: 0.0703(0.1289) Grad: 1.3439  \n",
      "Epoch: [5][1300/1505] Data 0.000 (0.001) Elapsed 28m 29s (remain 4m 28s) Loss: 0.0485(0.1288) Grad: 1.2668  \n",
      "Epoch: [5][1400/1505] Data 0.000 (0.000) Elapsed 30m 41s (remain 2m 16s) Loss: 0.1464(0.1289) Grad: 2.7709  \n",
      "Epoch: [5][1500/1505] Data 0.000 (0.000) Elapsed 32m 52s (remain 0m 5s) Loss: 0.1039(0.1292) Grad: 1.2767  \n",
      "Epoch: [5][1504/1505] Data 0.000 (0.000) Elapsed 32m 57s (remain 0m 0s) Loss: 0.1164(0.1294) Grad: 1.9928  \n",
      "EVAL: [0/377] Data 0.475 (0.475) Elapsed 0m 0s (remain 5m 15s) Loss: 0.2053(0.2053) \n",
      "EVAL: [100/377] Data 0.000 (0.005) Elapsed 0m 35s (remain 1m 36s) Loss: 0.2041(0.1462) \n",
      "EVAL: [200/377] Data 0.000 (0.003) Elapsed 1m 9s (remain 1m 0s) Loss: 0.1119(0.1446) \n",
      "EVAL: [300/377] Data 0.000 (0.002) Elapsed 1m 43s (remain 0m 26s) Loss: 0.1144(0.1482) \n"
     ]
    },
    {
     "name": "stderr",
     "output_type": "stream",
     "text": [
      "Epoch 5 - avg_train_loss: 0.1294  avg_val_loss: 0.1450  time: 2108s\n",
      "Epoch 5 - Accuracy: 0.8435542054300361\n"
     ]
    },
    {
     "name": "stdout",
     "output_type": "stream",
     "text": [
      "EVAL: [376/377] Data 0.000 (0.001) Elapsed 2m 9s (remain 0m 0s) Loss: 0.0948(0.1450) \n",
      "Epoch: [6][0/1505] Data 0.489 (0.489) Elapsed 0m 1s (remain 45m 41s) Loss: 0.1343(0.1343) Grad: 2.1805  \n",
      "Epoch: [6][100/1505] Data 0.000 (0.005) Elapsed 2m 13s (remain 30m 50s) Loss: 0.0568(0.1079) Grad: 0.8501  \n",
      "Epoch: [6][200/1505] Data 0.000 (0.003) Elapsed 4m 24s (remain 28m 36s) Loss: 0.2261(0.1167) Grad: 2.3048  \n",
      "Epoch: [6][300/1505] Data 0.000 (0.002) Elapsed 6m 35s (remain 26m 23s) Loss: 0.0833(0.1227) Grad: 2.2828  \n",
      "Epoch: [6][400/1505] Data 0.000 (0.001) Elapsed 8m 47s (remain 24m 11s) Loss: 0.0665(0.1209) Grad: 1.3733  \n",
      "Epoch: [6][500/1505] Data 0.000 (0.001) Elapsed 10m 58s (remain 21m 59s) Loss: 0.1833(0.1248) Grad: 1.1449  \n",
      "Epoch: [6][600/1505] Data 0.000 (0.001) Elapsed 13m 9s (remain 19m 48s) Loss: 0.0026(0.1237) Grad: 0.0584  \n",
      "Epoch: [6][700/1505] Data 0.000 (0.001) Elapsed 15m 21s (remain 17m 36s) Loss: 0.1653(0.1245) Grad: 1.1606  \n",
      "Epoch: [6][800/1505] Data 0.000 (0.001) Elapsed 17m 32s (remain 15m 25s) Loss: 0.0033(0.1242) Grad: 0.1108  \n",
      "Epoch: [6][900/1505] Data 0.000 (0.001) Elapsed 19m 43s (remain 13m 13s) Loss: 0.1138(0.1247) Grad: 0.5928  \n",
      "Epoch: [6][1000/1505] Data 0.000 (0.001) Elapsed 21m 55s (remain 11m 2s) Loss: 0.1722(0.1242) Grad: 1.0944  \n",
      "Epoch: [6][1100/1505] Data 0.000 (0.001) Elapsed 24m 6s (remain 8m 50s) Loss: 0.0282(0.1238) Grad: 0.7556  \n",
      "Epoch: [6][1200/1505] Data 0.000 (0.001) Elapsed 26m 17s (remain 6m 39s) Loss: 0.1217(0.1239) Grad: 1.9868  \n",
      "Epoch: [6][1300/1505] Data 0.000 (0.001) Elapsed 28m 29s (remain 4m 28s) Loss: 0.2102(0.1238) Grad: 1.2771  \n",
      "Epoch: [6][1400/1505] Data 0.000 (0.001) Elapsed 30m 40s (remain 2m 16s) Loss: 0.0888(0.1236) Grad: 1.0047  \n",
      "Epoch: [6][1500/1505] Data 0.000 (0.000) Elapsed 32m 52s (remain 0m 5s) Loss: 0.1373(0.1239) Grad: 1.0733  \n",
      "Epoch: [6][1504/1505] Data 0.000 (0.000) Elapsed 32m 57s (remain 0m 0s) Loss: 0.2134(0.1239) Grad: 1.3879  \n",
      "EVAL: [0/377] Data 0.463 (0.463) Elapsed 0m 0s (remain 5m 10s) Loss: 0.1267(0.1267) \n",
      "EVAL: [100/377] Data 0.000 (0.005) Elapsed 0m 35s (remain 1m 36s) Loss: 0.1902(0.1248) \n",
      "EVAL: [200/377] Data 0.000 (0.002) Elapsed 1m 9s (remain 1m 0s) Loss: 0.1511(0.1226) \n",
      "EVAL: [300/377] Data 0.000 (0.002) Elapsed 1m 43s (remain 0m 26s) Loss: 0.0821(0.1214) \n"
     ]
    },
    {
     "name": "stderr",
     "output_type": "stream",
     "text": [
      "Epoch 6 - avg_train_loss: 0.1239  avg_val_loss: 0.1187  time: 2107s\n",
      "Epoch 6 - Accuracy: 0.8716536928042529\n"
     ]
    },
    {
     "name": "stdout",
     "output_type": "stream",
     "text": [
      "EVAL: [376/377] Data 0.000 (0.001) Elapsed 2m 9s (remain 0m 0s) Loss: 0.0020(0.1187) \n",
      "Epoch: [7][0/1505] Data 0.471 (0.471) Elapsed 0m 1s (remain 45m 12s) Loss: 0.1283(0.1283) Grad: 1.3485  \n",
      "Epoch: [7][100/1505] Data 0.000 (0.005) Elapsed 2m 13s (remain 30m 51s) Loss: 0.1365(0.1111) Grad: 1.8271  \n",
      "Epoch: [7][200/1505] Data 0.000 (0.002) Elapsed 4m 24s (remain 28m 37s) Loss: 0.0880(0.1129) Grad: 1.6981  \n",
      "Epoch: [7][300/1505] Data 0.000 (0.002) Elapsed 6m 36s (remain 26m 24s) Loss: 0.0563(0.1147) Grad: 1.2911  \n",
      "Epoch: [7][400/1505] Data 0.000 (0.001) Elapsed 8m 47s (remain 24m 12s) Loss: 0.0366(0.1134) Grad: 0.8698  \n",
      "Epoch: [7][500/1505] Data 0.000 (0.001) Elapsed 10m 58s (remain 22m 0s) Loss: 0.1560(0.1162) Grad: 2.1023  \n",
      "Epoch: [7][600/1505] Data 0.000 (0.001) Elapsed 13m 10s (remain 19m 48s) Loss: 0.1471(0.1170) Grad: 1.3511  \n",
      "Epoch: [7][700/1505] Data 0.000 (0.001) Elapsed 15m 21s (remain 17m 37s) Loss: 0.0399(0.1170) Grad: 0.6432  \n",
      "Epoch: [7][800/1505] Data 0.000 (0.001) Elapsed 17m 33s (remain 15m 25s) Loss: 0.0175(0.1149) Grad: 0.7021  \n",
      "Epoch: [7][900/1505] Data 0.000 (0.001) Elapsed 19m 44s (remain 13m 13s) Loss: 0.0528(0.1162) Grad: 1.1550  \n",
      "Epoch: [7][1000/1505] Data 0.000 (0.001) Elapsed 21m 55s (remain 11m 2s) Loss: 0.0994(0.1165) Grad: 1.7292  \n",
      "Epoch: [7][1100/1505] Data 0.000 (0.001) Elapsed 24m 7s (remain 8m 51s) Loss: 0.0709(0.1168) Grad: 1.4083  \n",
      "Epoch: [7][1200/1505] Data 0.000 (0.001) Elapsed 26m 18s (remain 6m 39s) Loss: 0.1111(0.1166) Grad: 1.7858  \n",
      "Epoch: [7][1300/1505] Data 0.000 (0.001) Elapsed 28m 29s (remain 4m 28s) Loss: 0.0691(0.1155) Grad: 1.2722  \n",
      "Epoch: [7][1400/1505] Data 0.000 (0.000) Elapsed 30m 41s (remain 2m 16s) Loss: 0.0969(0.1156) Grad: 1.7787  \n",
      "Epoch: [7][1500/1505] Data 0.000 (0.000) Elapsed 32m 52s (remain 0m 5s) Loss: 0.0901(0.1160) Grad: 1.1066  \n",
      "Epoch: [7][1504/1505] Data 0.000 (0.000) Elapsed 32m 58s (remain 0m 0s) Loss: 0.0852(0.1160) Grad: 1.5979  \n",
      "EVAL: [0/377] Data 0.434 (0.434) Elapsed 0m 0s (remain 4m 57s) Loss: 0.1640(0.1640) \n",
      "EVAL: [100/377] Data 0.000 (0.004) Elapsed 0m 35s (remain 1m 35s) Loss: 0.1556(0.1147) \n",
      "EVAL: [200/377] Data 0.000 (0.002) Elapsed 1m 9s (remain 1m 0s) Loss: 0.1008(0.1129) \n",
      "EVAL: [300/377] Data 0.000 (0.002) Elapsed 1m 43s (remain 0m 26s) Loss: 0.0819(0.1115) \n"
     ]
    },
    {
     "name": "stderr",
     "output_type": "stream",
     "text": [
      "Epoch 7 - avg_train_loss: 0.1160  avg_val_loss: 0.1104  time: 2108s\n",
      "Epoch 7 - Accuracy: 0.8817163470666414\n",
      "Epoch 7 - Save Best Score: 0.8817 Model\n"
     ]
    },
    {
     "name": "stdout",
     "output_type": "stream",
     "text": [
      "EVAL: [376/377] Data 0.000 (0.001) Elapsed 2m 9s (remain 0m 0s) Loss: 0.0019(0.1104) \n",
      "Epoch: [8][0/1505] Data 0.493 (0.493) Elapsed 0m 1s (remain 45m 53s) Loss: 0.1434(0.1434) Grad: 1.4851  \n",
      "Epoch: [8][100/1505] Data 0.000 (0.005) Elapsed 2m 13s (remain 30m 54s) Loss: 0.0402(0.1073) Grad: 1.1343  \n",
      "Epoch: [8][200/1505] Data 0.000 (0.003) Elapsed 4m 24s (remain 28m 37s) Loss: 0.1434(0.1038) Grad: 1.8493  \n",
      "Epoch: [8][300/1505] Data 0.000 (0.002) Elapsed 6m 36s (remain 26m 24s) Loss: 0.1171(0.1053) Grad: 1.5889  \n",
      "Epoch: [8][400/1505] Data 0.000 (0.001) Elapsed 8m 47s (remain 24m 12s) Loss: 0.1411(0.1067) Grad: 1.9238  \n",
      "Epoch: [8][500/1505] Data 0.000 (0.001) Elapsed 10m 58s (remain 22m 0s) Loss: 0.1828(0.1084) Grad: 1.9733  \n",
      "Epoch: [8][600/1505] Data 0.000 (0.001) Elapsed 13m 10s (remain 19m 48s) Loss: 0.2317(0.1095) Grad: 1.0281  \n",
      "Epoch: [8][700/1505] Data 0.000 (0.001) Elapsed 15m 21s (remain 17m 37s) Loss: 0.2117(0.1107) Grad: 2.0195  \n",
      "Epoch: [8][800/1505] Data 0.000 (0.001) Elapsed 17m 33s (remain 15m 25s) Loss: 0.0552(0.1104) Grad: 1.2082  \n",
      "Epoch: [8][900/1505] Data 0.000 (0.001) Elapsed 19m 44s (remain 13m 14s) Loss: 0.2932(0.1108) Grad: 2.1311  \n",
      "Epoch: [8][1000/1505] Data 0.000 (0.001) Elapsed 21m 56s (remain 11m 2s) Loss: 0.0764(0.1113) Grad: 1.0234  \n",
      "Epoch: [8][1100/1505] Data 0.000 (0.001) Elapsed 24m 7s (remain 8m 51s) Loss: 0.1123(0.1103) Grad: 1.4384  \n",
      "Epoch: [8][1200/1505] Data 0.000 (0.001) Elapsed 26m 18s (remain 6m 39s) Loss: 0.1117(0.1112) Grad: 2.0242  \n",
      "Epoch: [8][1300/1505] Data 0.000 (0.001) Elapsed 28m 30s (remain 4m 28s) Loss: 0.1538(0.1109) Grad: 2.6267  \n",
      "Epoch: [8][1400/1505] Data 0.000 (0.001) Elapsed 30m 41s (remain 2m 16s) Loss: 0.0154(0.1107) Grad: 0.4312  \n",
      "Epoch: [8][1500/1505] Data 0.000 (0.000) Elapsed 32m 53s (remain 0m 5s) Loss: 0.0769(0.1103) Grad: 1.0388  \n",
      "Epoch: [8][1504/1505] Data 0.000 (0.000) Elapsed 32m 58s (remain 0m 0s) Loss: 0.0476(0.1102) Grad: 0.4663  \n",
      "EVAL: [0/377] Data 0.483 (0.483) Elapsed 0m 0s (remain 5m 18s) Loss: 0.1268(0.1268) \n",
      "EVAL: [100/377] Data 0.000 (0.005) Elapsed 0m 35s (remain 1m 36s) Loss: 0.1543(0.1064) \n",
      "EVAL: [200/377] Data 0.000 (0.003) Elapsed 1m 9s (remain 1m 0s) Loss: 0.0885(0.1079) \n",
      "EVAL: [300/377] Data 0.000 (0.002) Elapsed 1m 43s (remain 0m 26s) Loss: 0.0710(0.1079) \n"
     ]
    },
    {
     "name": "stderr",
     "output_type": "stream",
     "text": [
      "Epoch 8 - avg_train_loss: 0.1102  avg_val_loss: 0.1069  time: 2108s\n",
      "Epoch 8 - Accuracy: 0.8839946838807671\n",
      "Epoch 8 - Save Best Score: 0.8840 Model\n"
     ]
    },
    {
     "name": "stdout",
     "output_type": "stream",
     "text": [
      "EVAL: [376/377] Data 0.000 (0.001) Elapsed 2m 9s (remain 0m 0s) Loss: 0.0016(0.1069) \n",
      "Epoch: [9][0/1505] Data 0.511 (0.511) Elapsed 0m 1s (remain 46m 6s) Loss: 0.1723(0.1723) Grad: 1.4431  \n",
      "Epoch: [9][100/1505] Data 0.000 (0.005) Elapsed 2m 13s (remain 30m 52s) Loss: 0.0249(0.1012) Grad: 0.8201  \n",
      "Epoch: [9][200/1505] Data 0.000 (0.003) Elapsed 4m 24s (remain 28m 37s) Loss: 0.0663(0.1009) Grad: 1.1313  \n",
      "Epoch: [9][300/1505] Data 0.000 (0.002) Elapsed 6m 36s (remain 26m 24s) Loss: 0.0948(0.1062) Grad: 1.9134  \n",
      "Epoch: [9][400/1505] Data 0.000 (0.001) Elapsed 8m 47s (remain 24m 12s) Loss: 0.1460(0.1075) Grad: 0.7164  \n",
      "Epoch: [9][500/1505] Data 0.000 (0.001) Elapsed 10m 59s (remain 22m 0s) Loss: 0.1010(0.1078) Grad: 1.1196  \n",
      "Epoch: [9][600/1505] Data 0.000 (0.001) Elapsed 13m 10s (remain 19m 49s) Loss: 0.0171(0.1076) Grad: 0.9718  \n",
      "Epoch: [9][700/1505] Data 0.000 (0.001) Elapsed 15m 21s (remain 17m 37s) Loss: 0.2004(0.1081) Grad: 1.7481  \n",
      "Epoch: [9][800/1505] Data 0.000 (0.001) Elapsed 17m 33s (remain 15m 25s) Loss: 0.1173(0.1078) Grad: 1.8591  \n",
      "Epoch: [9][900/1505] Data 0.000 (0.001) Elapsed 19m 44s (remain 13m 14s) Loss: 0.1690(0.1080) Grad: 1.9073  \n",
      "Epoch: [9][1000/1505] Data 0.000 (0.001) Elapsed 21m 56s (remain 11m 2s) Loss: 0.0738(0.1074) Grad: 1.6581  \n",
      "Epoch: [9][1100/1505] Data 0.000 (0.001) Elapsed 24m 7s (remain 8m 51s) Loss: 0.0951(0.1067) Grad: 1.3995  \n",
      "Epoch: [9][1200/1505] Data 0.000 (0.001) Elapsed 26m 19s (remain 6m 39s) Loss: 0.1387(0.1070) Grad: 1.8815  \n",
      "Epoch: [9][1300/1505] Data 0.000 (0.001) Elapsed 28m 30s (remain 4m 28s) Loss: 0.1950(0.1063) Grad: 1.9503  \n",
      "Epoch: [9][1400/1505] Data 0.000 (0.001) Elapsed 30m 42s (remain 2m 16s) Loss: 0.0669(0.1059) Grad: 1.9855  \n",
      "Epoch: [9][1500/1505] Data 0.000 (0.001) Elapsed 32m 53s (remain 0m 5s) Loss: 0.0971(0.1057) Grad: 1.6949  \n",
      "Epoch: [9][1504/1505] Data 0.000 (0.001) Elapsed 32m 58s (remain 0m 0s) Loss: 0.0141(0.1056) Grad: 0.6099  \n",
      "EVAL: [0/377] Data 0.464 (0.464) Elapsed 0m 0s (remain 5m 6s) Loss: 0.1227(0.1227) \n",
      "EVAL: [100/377] Data 0.000 (0.005) Elapsed 0m 35s (remain 1m 36s) Loss: 0.1668(0.1070) \n",
      "EVAL: [200/377] Data 0.000 (0.002) Elapsed 1m 9s (remain 1m 0s) Loss: 0.0869(0.1078) \n",
      "EVAL: [300/377] Data 0.000 (0.002) Elapsed 1m 43s (remain 0m 26s) Loss: 0.0713(0.1076) \n"
     ]
    },
    {
     "name": "stderr",
     "output_type": "stream",
     "text": [
      "Epoch 9 - avg_train_loss: 0.1056  avg_val_loss: 0.1063  time: 2109s\n",
      "Epoch 9 - Accuracy: 0.8860831592937156\n",
      "Epoch 9 - Save Best Score: 0.8861 Model\n"
     ]
    },
    {
     "name": "stdout",
     "output_type": "stream",
     "text": [
      "EVAL: [376/377] Data 0.000 (0.001) Elapsed 2m 9s (remain 0m 0s) Loss: 0.0017(0.1063) \n",
      "Epoch: [10][0/1505] Data 0.480 (0.480) Elapsed 0m 1s (remain 45m 21s) Loss: 0.2317(0.2317) Grad: 2.3606  \n",
      "Epoch: [10][100/1505] Data 0.000 (0.005) Elapsed 2m 13s (remain 30m 50s) Loss: 0.0240(0.0978) Grad: 0.7718  \n",
      "Epoch: [10][200/1505] Data 0.000 (0.003) Elapsed 4m 24s (remain 28m 35s) Loss: 0.0767(0.1009) Grad: 2.3875  \n",
      "Epoch: [10][300/1505] Data 0.000 (0.002) Elapsed 6m 35s (remain 26m 23s) Loss: 0.1138(0.1007) Grad: 2.3314  \n",
      "Epoch: [10][400/1505] Data 0.000 (0.001) Elapsed 8m 47s (remain 24m 11s) Loss: 0.0911(0.1017) Grad: 1.5276  \n",
      "Epoch: [10][500/1505] Data 0.000 (0.001) Elapsed 10m 58s (remain 21m 59s) Loss: 0.0890(0.1019) Grad: 1.4451  \n",
      "Epoch: [10][600/1505] Data 0.000 (0.001) Elapsed 13m 9s (remain 19m 48s) Loss: 0.0094(0.1042) Grad: 0.4344  \n",
      "Epoch: [10][700/1505] Data 0.000 (0.001) Elapsed 15m 21s (remain 17m 36s) Loss: 0.1352(0.1034) Grad: 2.0163  \n",
      "Epoch: [10][800/1505] Data 0.000 (0.001) Elapsed 17m 32s (remain 15m 25s) Loss: 0.0138(0.1024) Grad: 0.3990  \n",
      "Epoch: [10][900/1505] Data 0.000 (0.001) Elapsed 19m 43s (remain 13m 13s) Loss: 0.2488(0.1014) Grad: 1.4195  \n",
      "Epoch: [10][1000/1505] Data 0.000 (0.001) Elapsed 21m 55s (remain 11m 2s) Loss: 0.1685(0.1022) Grad: 1.5688  \n",
      "Epoch: [10][1100/1505] Data 0.000 (0.001) Elapsed 24m 6s (remain 8m 50s) Loss: 0.0818(0.1028) Grad: 0.7422  \n",
      "Epoch: [10][1200/1505] Data 0.000 (0.001) Elapsed 26m 17s (remain 6m 39s) Loss: 0.0033(0.1026) Grad: 0.1272  \n",
      "Epoch: [10][1300/1505] Data 0.000 (0.001) Elapsed 28m 29s (remain 4m 27s) Loss: 0.2226(0.1024) Grad: 1.8928  \n",
      "Epoch: [10][1400/1505] Data 0.000 (0.000) Elapsed 30m 40s (remain 2m 16s) Loss: 0.0151(0.1029) Grad: 0.4678  \n",
      "Epoch: [10][1500/1505] Data 0.000 (0.000) Elapsed 32m 51s (remain 0m 5s) Loss: 0.1312(0.1038) Grad: 1.7999  \n",
      "Epoch: [10][1504/1505] Data 0.000 (0.000) Elapsed 32m 56s (remain 0m 0s) Loss: 0.0768(0.1036) Grad: 1.3246  \n",
      "EVAL: [0/377] Data 0.463 (0.463) Elapsed 0m 0s (remain 5m 11s) Loss: 0.1386(0.1386) \n",
      "EVAL: [100/377] Data 0.000 (0.005) Elapsed 0m 35s (remain 1m 36s) Loss: 0.1720(0.1040) \n",
      "EVAL: [200/377] Data 0.000 (0.002) Elapsed 1m 9s (remain 1m 0s) Loss: 0.0921(0.1058) \n",
      "EVAL: [300/377] Data 0.000 (0.002) Elapsed 1m 43s (remain 0m 26s) Loss: 0.0688(0.1067) \n"
     ]
    },
    {
     "name": "stderr",
     "output_type": "stream",
     "text": [
      "Epoch 10 - avg_train_loss: 0.1036  avg_val_loss: 0.1051  time: 2107s\n",
      "Epoch 10 - Accuracy: 0.8872223277007785\n",
      "Epoch 10 - Save Best Score: 0.8872 Model\n"
     ]
    },
    {
     "name": "stdout",
     "output_type": "stream",
     "text": [
      "EVAL: [376/377] Data 0.000 (0.001) Elapsed 2m 9s (remain 0m 0s) Loss: 0.0013(0.1051) \n"
     ]
    },
    {
     "name": "stderr",
     "output_type": "stream",
     "text": [
      "========== fold: 2 result ==========\n",
      "Score: 0.88722\n",
      "========== fold: 3 training ==========\n"
     ]
    },
    {
     "name": "stdout",
     "output_type": "stream",
     "text": [
      "Epoch: [1][0/1505] Data 0.470 (0.470) Elapsed 0m 1s (remain 45m 23s) Loss: 0.5037(0.5037) Grad: 2.2456  \n",
      "Epoch: [1][100/1505] Data 0.000 (0.005) Elapsed 2m 13s (remain 30m 53s) Loss: 0.1350(0.2903) Grad: 2.9613  \n",
      "Epoch: [1][200/1505] Data 0.000 (0.002) Elapsed 4m 24s (remain 28m 37s) Loss: 0.3266(0.2658) Grad: 3.5889  \n",
      "Epoch: [1][300/1505] Data 0.000 (0.002) Elapsed 6m 36s (remain 26m 24s) Loss: 0.1654(0.2516) Grad: 2.4607  \n",
      "Epoch: [1][400/1505] Data 0.000 (0.001) Elapsed 8m 47s (remain 24m 12s) Loss: 0.2101(0.2396) Grad: 2.9715  \n",
      "Epoch: [1][500/1505] Data 0.000 (0.001) Elapsed 10m 59s (remain 22m 0s) Loss: 0.2736(0.2275) Grad: 2.5384  \n",
      "Epoch: [1][600/1505] Data 0.000 (0.001) Elapsed 13m 10s (remain 19m 49s) Loss: 0.1286(0.2222) Grad: 1.8488  \n",
      "Epoch: [1][700/1505] Data 0.000 (0.001) Elapsed 15m 21s (remain 17m 37s) Loss: 0.2035(0.2170) Grad: 2.1611  \n",
      "Epoch: [1][800/1505] Data 0.000 (0.001) Elapsed 17m 33s (remain 15m 25s) Loss: 0.2628(0.2136) Grad: 2.6351  \n",
      "Epoch: [1][900/1505] Data 0.000 (0.001) Elapsed 19m 44s (remain 13m 14s) Loss: 0.2113(0.2089) Grad: 1.5527  \n",
      "Epoch: [1][1000/1505] Data 0.000 (0.001) Elapsed 21m 56s (remain 11m 2s) Loss: 0.1445(0.2054) Grad: 2.5368  \n",
      "Epoch: [1][1100/1505] Data 0.000 (0.001) Elapsed 24m 7s (remain 8m 51s) Loss: 0.3112(0.2033) Grad: 1.4139  \n",
      "Epoch: [1][1200/1505] Data 0.000 (0.001) Elapsed 26m 19s (remain 6m 39s) Loss: 0.1588(0.1997) Grad: 1.7881  \n",
      "Epoch: [1][1300/1505] Data 0.000 (0.001) Elapsed 28m 30s (remain 4m 28s) Loss: 0.1082(0.1976) Grad: 1.5895  \n",
      "Epoch: [1][1400/1505] Data 0.000 (0.000) Elapsed 30m 42s (remain 2m 16s) Loss: 0.2479(0.1965) Grad: 2.1186  \n",
      "Epoch: [1][1500/1505] Data 0.000 (0.000) Elapsed 32m 53s (remain 0m 5s) Loss: 0.3262(0.1943) Grad: 2.2963  \n",
      "Epoch: [1][1504/1505] Data 0.000 (0.000) Elapsed 32m 58s (remain 0m 0s) Loss: 0.0470(0.1940) Grad: 1.5304  \n",
      "EVAL: [0/377] Data 0.489 (0.489) Elapsed 0m 0s (remain 5m 19s) Loss: 0.1565(0.1565) \n",
      "EVAL: [100/377] Data 0.000 (0.005) Elapsed 0m 35s (remain 1m 36s) Loss: 0.1346(0.1590) \n",
      "EVAL: [200/377] Data 0.000 (0.003) Elapsed 1m 9s (remain 1m 0s) Loss: 0.2093(0.1524) \n",
      "EVAL: [300/377] Data 0.000 (0.002) Elapsed 1m 43s (remain 0m 26s) Loss: 0.2914(0.1530) \n"
     ]
    },
    {
     "name": "stderr",
     "output_type": "stream",
     "text": [
      "Epoch 1 - avg_train_loss: 0.1940  avg_val_loss: 0.1503  time: 2109s\n",
      "Epoch 1 - Accuracy: 0.8314030757546991\n",
      "Epoch 1 - Save Best Score: 0.8314 Model\n"
     ]
    },
    {
     "name": "stdout",
     "output_type": "stream",
     "text": [
      "EVAL: [376/377] Data 0.000 (0.001) Elapsed 2m 9s (remain 0m 0s) Loss: 0.0562(0.1503) \n",
      "Epoch: [2][0/1505] Data 0.483 (0.483) Elapsed 0m 1s (remain 45m 30s) Loss: 0.0830(0.0830) Grad: 1.6547  \n",
      "Epoch: [2][100/1505] Data 0.000 (0.005) Elapsed 2m 13s (remain 30m 52s) Loss: 0.1186(0.1663) Grad: 1.8650  \n",
      "Epoch: [2][200/1505] Data 0.000 (0.003) Elapsed 4m 24s (remain 28m 37s) Loss: 0.0760(0.1672) Grad: 1.5053  \n",
      "Epoch: [2][300/1505] Data 0.000 (0.002) Elapsed 6m 36s (remain 26m 24s) Loss: 0.1946(0.1672) Grad: 2.7007  \n",
      "Epoch: [2][400/1505] Data 0.000 (0.001) Elapsed 8m 47s (remain 24m 12s) Loss: 0.0998(0.1655) Grad: 2.2366  \n",
      "Epoch: [2][500/1505] Data 0.000 (0.001) Elapsed 10m 59s (remain 22m 0s) Loss: 0.1241(0.1634) Grad: 1.9512  \n",
      "Epoch: [2][600/1505] Data 0.000 (0.001) Elapsed 13m 10s (remain 19m 48s) Loss: 0.1841(0.1627) Grad: 1.8780  \n",
      "Epoch: [2][700/1505] Data 0.000 (0.001) Elapsed 15m 21s (remain 17m 37s) Loss: 0.3280(0.1637) Grad: 1.7943  \n",
      "Epoch: [2][800/1505] Data 0.000 (0.001) Elapsed 17m 33s (remain 15m 25s) Loss: 0.1404(0.1613) Grad: 1.5149  \n",
      "Epoch: [2][900/1505] Data 0.000 (0.001) Elapsed 19m 44s (remain 13m 14s) Loss: 0.3371(0.1600) Grad: 4.4570  \n",
      "Epoch: [2][1000/1505] Data 0.000 (0.001) Elapsed 21m 56s (remain 11m 2s) Loss: 0.0736(0.1603) Grad: 1.2176  \n",
      "Epoch: [2][1100/1505] Data 0.000 (0.001) Elapsed 24m 7s (remain 8m 51s) Loss: 0.0787(0.1585) Grad: 0.8958  \n",
      "Epoch: [2][1200/1505] Data 0.000 (0.001) Elapsed 26m 18s (remain 6m 39s) Loss: 0.0886(0.1588) Grad: 1.8408  \n",
      "Epoch: [2][1300/1505] Data 0.000 (0.001) Elapsed 28m 30s (remain 4m 28s) Loss: 0.0941(0.1582) Grad: 1.2904  \n",
      "Epoch: [2][1400/1505] Data 0.000 (0.000) Elapsed 30m 41s (remain 2m 16s) Loss: 0.1463(0.1571) Grad: 1.5613  \n",
      "Epoch: [2][1500/1505] Data 0.000 (0.000) Elapsed 32m 53s (remain 0m 5s) Loss: 0.1984(0.1561) Grad: 1.1420  \n",
      "Epoch: [2][1504/1505] Data 0.000 (0.000) Elapsed 32m 58s (remain 0m 0s) Loss: 0.1210(0.1561) Grad: 1.5183  \n",
      "EVAL: [0/377] Data 0.494 (0.494) Elapsed 0m 0s (remain 5m 19s) Loss: 0.1779(0.1779) \n",
      "EVAL: [100/377] Data 0.000 (0.005) Elapsed 0m 35s (remain 1m 36s) Loss: 0.1638(0.1280) \n",
      "EVAL: [200/377] Data 0.000 (0.003) Elapsed 1m 9s (remain 1m 0s) Loss: 0.1645(0.1204) \n",
      "EVAL: [300/377] Data 0.000 (0.002) Elapsed 1m 43s (remain 0m 26s) Loss: 0.2009(0.1227) \n"
     ]
    },
    {
     "name": "stderr",
     "output_type": "stream",
     "text": [
      "Epoch 2 - avg_train_loss: 0.1561  avg_val_loss: 0.1228  time: 2108s\n",
      "Epoch 2 - Accuracy: 0.8678564647807101\n",
      "Epoch 2 - Save Best Score: 0.8679 Model\n"
     ]
    },
    {
     "name": "stdout",
     "output_type": "stream",
     "text": [
      "EVAL: [376/377] Data 0.000 (0.001) Elapsed 2m 9s (remain 0m 0s) Loss: 0.0050(0.1228) \n",
      "Epoch: [3][0/1505] Data 0.459 (0.459) Elapsed 0m 1s (remain 44m 49s) Loss: 0.2312(0.2312) Grad: 2.1540  \n",
      "Epoch: [3][100/1505] Data 0.000 (0.005) Elapsed 2m 13s (remain 30m 51s) Loss: 0.1648(0.1506) Grad: 1.5157  \n",
      "Epoch: [3][200/1505] Data 0.000 (0.002) Elapsed 4m 24s (remain 28m 36s) Loss: 0.1183(0.1485) Grad: 2.3419  \n",
      "Epoch: [3][300/1505] Data 0.000 (0.002) Elapsed 6m 35s (remain 26m 23s) Loss: 0.2284(0.1528) Grad: 2.0446  \n",
      "Epoch: [3][400/1505] Data 0.000 (0.001) Elapsed 8m 47s (remain 24m 11s) Loss: 0.0995(0.1502) Grad: 2.1451  \n",
      "Epoch: [3][500/1505] Data 0.000 (0.001) Elapsed 10m 58s (remain 21m 59s) Loss: 0.0181(0.1518) Grad: 0.6751  \n",
      "Epoch: [3][600/1505] Data 0.000 (0.001) Elapsed 13m 9s (remain 19m 48s) Loss: 0.0908(0.1501) Grad: 2.5578  \n",
      "Epoch: [3][700/1505] Data 0.000 (0.001) Elapsed 15m 21s (remain 17m 36s) Loss: 0.1438(0.1474) Grad: 1.0285  \n",
      "Epoch: [3][800/1505] Data 0.000 (0.001) Elapsed 17m 32s (remain 15m 25s) Loss: 0.1775(0.1450) Grad: 1.2323  \n",
      "Epoch: [3][900/1505] Data 0.000 (0.001) Elapsed 19m 43s (remain 13m 13s) Loss: 0.0706(0.1450) Grad: 0.9820  \n",
      "Epoch: [3][1000/1505] Data 0.000 (0.001) Elapsed 21m 55s (remain 11m 2s) Loss: 0.1032(0.1445) Grad: 1.5844  \n",
      "Epoch: [3][1100/1505] Data 0.000 (0.001) Elapsed 24m 6s (remain 8m 50s) Loss: 0.1896(0.1452) Grad: 1.6554  \n",
      "Epoch: [3][1200/1505] Data 0.000 (0.001) Elapsed 26m 17s (remain 6m 39s) Loss: 0.0794(0.1450) Grad: 0.6572  \n",
      "Epoch: [3][1300/1505] Data 0.000 (0.001) Elapsed 28m 29s (remain 4m 28s) Loss: 0.2269(0.1446) Grad: 1.7617  \n",
      "Epoch: [3][1400/1505] Data 0.000 (0.000) Elapsed 30m 40s (remain 2m 16s) Loss: 0.0387(0.1449) Grad: 0.8017  \n",
      "Epoch: [3][1500/1505] Data 0.000 (0.000) Elapsed 32m 51s (remain 0m 5s) Loss: 0.1456(0.1450) Grad: 1.7991  \n",
      "Epoch: [3][1504/1505] Data 0.000 (0.000) Elapsed 32m 57s (remain 0m 0s) Loss: 0.2095(0.1451) Grad: 1.7719  \n",
      "EVAL: [0/377] Data 0.551 (0.551) Elapsed 0m 0s (remain 5m 41s) Loss: 0.0947(0.0947) \n",
      "EVAL: [100/377] Data 0.000 (0.006) Elapsed 0m 35s (remain 1m 36s) Loss: 0.1005(0.1306) \n",
      "EVAL: [200/377] Data 0.000 (0.003) Elapsed 1m 9s (remain 1m 0s) Loss: 0.1392(0.1208) \n",
      "EVAL: [300/377] Data 0.000 (0.002) Elapsed 1m 43s (remain 0m 26s) Loss: 0.2296(0.1223) \n"
     ]
    },
    {
     "name": "stderr",
     "output_type": "stream",
     "text": [
      "Epoch 3 - avg_train_loss: 0.1451  avg_val_loss: 0.1217  time: 2107s\n",
      "Epoch 3 - Accuracy: 0.8678564647807101\n"
     ]
    },
    {
     "name": "stdout",
     "output_type": "stream",
     "text": [
      "EVAL: [376/377] Data 0.000 (0.002) Elapsed 2m 9s (remain 0m 0s) Loss: 0.0018(0.1217) \n",
      "Epoch: [4][0/1505] Data 0.476 (0.476) Elapsed 0m 1s (remain 45m 21s) Loss: 0.2965(0.2965) Grad: 2.2919  \n",
      "Epoch: [4][100/1505] Data 0.000 (0.005) Elapsed 2m 13s (remain 30m 53s) Loss: 0.1336(0.1469) Grad: 1.9482  \n",
      "Epoch: [4][200/1505] Data 0.000 (0.003) Elapsed 4m 24s (remain 28m 37s) Loss: 0.1802(0.1383) Grad: 2.0671  \n",
      "Epoch: [4][300/1505] Data 0.000 (0.002) Elapsed 6m 36s (remain 26m 24s) Loss: 0.1100(0.1378) Grad: 1.2942  \n",
      "Epoch: [4][400/1505] Data 0.000 (0.001) Elapsed 8m 47s (remain 24m 12s) Loss: 0.1796(0.1373) Grad: 1.8891  \n",
      "Epoch: [4][500/1505] Data 0.000 (0.001) Elapsed 10m 59s (remain 22m 0s) Loss: 0.1345(0.1386) Grad: 2.0003  \n",
      "Epoch: [4][600/1505] Data 0.000 (0.001) Elapsed 13m 10s (remain 19m 49s) Loss: 0.1657(0.1383) Grad: 1.9959  \n",
      "Epoch: [4][700/1505] Data 0.000 (0.001) Elapsed 15m 22s (remain 17m 37s) Loss: 0.1136(0.1386) Grad: 1.1582  \n",
      "Epoch: [4][800/1505] Data 0.000 (0.001) Elapsed 17m 33s (remain 15m 25s) Loss: 0.1353(0.1378) Grad: 2.1004  \n",
      "Epoch: [4][900/1505] Data 0.000 (0.001) Elapsed 19m 44s (remain 13m 14s) Loss: 0.1382(0.1378) Grad: 2.1480  \n",
      "Epoch: [4][1000/1505] Data 0.000 (0.001) Elapsed 21m 56s (remain 11m 2s) Loss: 0.2470(0.1372) Grad: 2.0435  \n",
      "Epoch: [4][1100/1505] Data 0.000 (0.001) Elapsed 24m 7s (remain 8m 51s) Loss: 0.1020(0.1370) Grad: 1.0199  \n",
      "Epoch: [4][1200/1505] Data 0.000 (0.001) Elapsed 26m 19s (remain 6m 39s) Loss: 0.1736(0.1364) Grad: 1.6473  \n",
      "Epoch: [4][1300/1505] Data 0.000 (0.001) Elapsed 28m 30s (remain 4m 28s) Loss: 0.3017(0.1359) Grad: 1.7062  \n",
      "Epoch: [4][1400/1505] Data 0.000 (0.000) Elapsed 30m 42s (remain 2m 16s) Loss: 0.0509(0.1361) Grad: 1.1556  \n",
      "Epoch: [4][1500/1505] Data 0.000 (0.000) Elapsed 32m 53s (remain 0m 5s) Loss: 0.1124(0.1366) Grad: 1.7931  \n",
      "Epoch: [4][1504/1505] Data 0.000 (0.000) Elapsed 32m 59s (remain 0m 0s) Loss: 0.0890(0.1367) Grad: 1.8008  \n",
      "EVAL: [0/377] Data 0.455 (0.455) Elapsed 0m 0s (remain 5m 5s) Loss: 0.1595(0.1595) \n",
      "EVAL: [100/377] Data 0.000 (0.005) Elapsed 0m 35s (remain 1m 36s) Loss: 0.0876(0.1173) \n",
      "EVAL: [200/377] Data 0.000 (0.002) Elapsed 1m 9s (remain 1m 0s) Loss: 0.1796(0.1120) \n",
      "EVAL: [300/377] Data 0.000 (0.002) Elapsed 1m 43s (remain 0m 26s) Loss: 0.1796(0.1140) \n"
     ]
    },
    {
     "name": "stderr",
     "output_type": "stream",
     "text": [
      "Epoch 4 - avg_train_loss: 0.1367  avg_val_loss: 0.1155  time: 2109s\n",
      "Epoch 4 - Accuracy: 0.87051452439719\n",
      "Epoch 4 - Save Best Score: 0.8705 Model\n"
     ]
    },
    {
     "name": "stdout",
     "output_type": "stream",
     "text": [
      "EVAL: [376/377] Data 0.000 (0.001) Elapsed 2m 9s (remain 0m 0s) Loss: 0.0020(0.1155) \n",
      "Epoch: [5][0/1505] Data 0.478 (0.478) Elapsed 0m 1s (remain 45m 18s) Loss: 0.1408(0.1408) Grad: 1.6862  \n",
      "Epoch: [5][100/1505] Data 0.000 (0.005) Elapsed 2m 13s (remain 30m 53s) Loss: 0.0216(0.1417) Grad: 0.5615  \n",
      "Epoch: [5][200/1505] Data 0.000 (0.003) Elapsed 4m 24s (remain 28m 38s) Loss: 0.2101(0.1308) Grad: 1.7000  \n",
      "Epoch: [5][300/1505] Data 0.000 (0.002) Elapsed 6m 36s (remain 26m 25s) Loss: 0.0713(0.1310) Grad: 1.5012  \n",
      "Epoch: [5][400/1505] Data 0.000 (0.001) Elapsed 8m 47s (remain 24m 13s) Loss: 0.0339(0.1311) Grad: 0.9969  \n",
      "Epoch: [5][500/1505] Data 0.000 (0.001) Elapsed 10m 59s (remain 22m 1s) Loss: 0.1525(0.1314) Grad: 1.9327  \n",
      "Epoch: [5][600/1505] Data 0.000 (0.001) Elapsed 13m 10s (remain 19m 49s) Loss: 0.1369(0.1305) Grad: 0.5624  \n",
      "Epoch: [5][700/1505] Data 0.000 (0.001) Elapsed 15m 22s (remain 17m 37s) Loss: 0.0462(0.1296) Grad: 2.1154  \n",
      "Epoch: [5][800/1505] Data 0.000 (0.001) Elapsed 17m 33s (remain 15m 26s) Loss: 0.0966(0.1298) Grad: 1.6340  \n",
      "Epoch: [5][900/1505] Data 0.000 (0.001) Elapsed 19m 45s (remain 13m 14s) Loss: 0.1363(0.1298) Grad: 1.4099  \n",
      "Epoch: [5][1000/1505] Data 0.000 (0.001) Elapsed 21m 56s (remain 11m 3s) Loss: 0.1951(0.1291) Grad: 1.8053  \n",
      "Epoch: [5][1100/1505] Data 0.000 (0.001) Elapsed 24m 8s (remain 8m 51s) Loss: 0.1763(0.1287) Grad: 2.1572  \n",
      "Epoch: [5][1200/1505] Data 0.000 (0.001) Elapsed 26m 19s (remain 6m 39s) Loss: 0.2560(0.1294) Grad: 1.1595  \n",
      "Epoch: [5][1300/1505] Data 0.000 (0.001) Elapsed 28m 31s (remain 4m 28s) Loss: 0.2814(0.1293) Grad: 0.5365  \n",
      "Epoch: [5][1400/1505] Data 0.000 (0.001) Elapsed 30m 43s (remain 2m 16s) Loss: 0.1800(0.1297) Grad: 1.5130  \n",
      "Epoch: [5][1500/1505] Data 0.000 (0.000) Elapsed 32m 54s (remain 0m 5s) Loss: 0.1517(0.1309) Grad: 1.9640  \n",
      "Epoch: [5][1504/1505] Data 0.000 (0.000) Elapsed 32m 59s (remain 0m 0s) Loss: 0.1484(0.1310) Grad: 0.9194  \n",
      "EVAL: [0/377] Data 0.489 (0.489) Elapsed 0m 0s (remain 5m 20s) Loss: 0.1463(0.1463) \n",
      "EVAL: [100/377] Data 0.000 (0.005) Elapsed 0m 35s (remain 1m 36s) Loss: 0.0873(0.1131) \n",
      "EVAL: [200/377] Data 0.000 (0.003) Elapsed 1m 9s (remain 1m 0s) Loss: 0.1359(0.1068) \n",
      "EVAL: [300/377] Data 0.000 (0.002) Elapsed 1m 43s (remain 0m 26s) Loss: 0.1929(0.1093) \n"
     ]
    },
    {
     "name": "stderr",
     "output_type": "stream",
     "text": [
      "Epoch 5 - avg_train_loss: 0.1310  avg_val_loss: 0.1099  time: 2110s\n",
      "Epoch 5 - Accuracy: 0.8803873172584014\n",
      "Epoch 5 - Save Best Score: 0.8804 Model\n"
     ]
    },
    {
     "name": "stdout",
     "output_type": "stream",
     "text": [
      "EVAL: [376/377] Data 0.000 (0.001) Elapsed 2m 9s (remain 0m 0s) Loss: 0.0039(0.1099) \n",
      "Epoch: [6][0/1505] Data 0.485 (0.485) Elapsed 0m 1s (remain 45m 30s) Loss: 0.0536(0.0536) Grad: 0.7147  \n",
      "Epoch: [6][100/1505] Data 0.000 (0.005) Elapsed 2m 13s (remain 30m 53s) Loss: 0.0307(0.1271) Grad: 0.9092  \n",
      "Epoch: [6][200/1505] Data 0.000 (0.003) Elapsed 4m 24s (remain 28m 38s) Loss: 0.0989(0.1289) Grad: 1.0128  \n",
      "Epoch: [6][300/1505] Data 0.000 (0.002) Elapsed 6m 36s (remain 26m 25s) Loss: 0.1052(0.1246) Grad: 1.5614  \n",
      "Epoch: [6][400/1505] Data 0.000 (0.001) Elapsed 8m 47s (remain 24m 13s) Loss: 0.1079(0.1252) Grad: 0.8643  \n",
      "Epoch: [6][500/1505] Data 0.000 (0.001) Elapsed 10m 59s (remain 22m 1s) Loss: 0.1554(0.1258) Grad: 2.3577  \n",
      "Epoch: [6][600/1505] Data 0.000 (0.001) Elapsed 13m 10s (remain 19m 49s) Loss: 0.0558(0.1270) Grad: 1.0853  \n",
      "Epoch: [6][700/1505] Data 0.000 (0.001) Elapsed 15m 22s (remain 17m 37s) Loss: 0.0320(0.1259) Grad: 1.0903  \n",
      "Epoch: [6][800/1505] Data 0.000 (0.001) Elapsed 17m 33s (remain 15m 26s) Loss: 0.0414(0.1255) Grad: 0.9351  \n",
      "Epoch: [6][900/1505] Data 0.000 (0.001) Elapsed 19m 45s (remain 13m 14s) Loss: 0.0045(0.1240) Grad: 0.2320  \n",
      "Epoch: [6][1000/1505] Data 0.000 (0.001) Elapsed 21m 56s (remain 11m 3s) Loss: 0.0494(0.1240) Grad: 0.8108  \n",
      "Epoch: [6][1100/1505] Data 0.000 (0.001) Elapsed 24m 8s (remain 8m 51s) Loss: 0.1927(0.1231) Grad: 1.6791  \n",
      "Epoch: [6][1200/1505] Data 0.000 (0.001) Elapsed 26m 19s (remain 6m 39s) Loss: 0.0436(0.1232) Grad: 0.9858  \n",
      "Epoch: [6][1300/1505] Data 0.000 (0.001) Elapsed 28m 31s (remain 4m 28s) Loss: 0.0527(0.1232) Grad: 0.9106  \n",
      "Epoch: [6][1400/1505] Data 0.000 (0.001) Elapsed 30m 42s (remain 2m 16s) Loss: 0.1565(0.1232) Grad: 1.2189  \n",
      "Epoch: [6][1500/1505] Data 0.000 (0.000) Elapsed 32m 54s (remain 0m 5s) Loss: 0.0353(0.1235) Grad: 2.0467  \n",
      "Epoch: [6][1504/1505] Data 0.000 (0.000) Elapsed 32m 59s (remain 0m 0s) Loss: 0.0844(0.1233) Grad: 1.0938  \n",
      "EVAL: [0/377] Data 0.474 (0.474) Elapsed 0m 0s (remain 5m 14s) Loss: 0.1528(0.1528) \n",
      "EVAL: [100/377] Data 0.000 (0.005) Elapsed 0m 35s (remain 1m 36s) Loss: 0.0802(0.1166) \n",
      "EVAL: [200/377] Data 0.000 (0.003) Elapsed 1m 9s (remain 1m 0s) Loss: 0.1145(0.1094) \n",
      "EVAL: [300/377] Data 0.000 (0.002) Elapsed 1m 43s (remain 0m 26s) Loss: 0.2282(0.1121) \n"
     ]
    },
    {
     "name": "stderr",
     "output_type": "stream",
     "text": [
      "Epoch 6 - avg_train_loss: 0.1233  avg_val_loss: 0.1125  time: 2109s\n",
      "Epoch 6 - Accuracy: 0.87583064363015\n"
     ]
    },
    {
     "name": "stdout",
     "output_type": "stream",
     "text": [
      "EVAL: [376/377] Data 0.000 (0.001) Elapsed 2m 9s (remain 0m 0s) Loss: 0.0013(0.1125) \n",
      "Epoch: [7][0/1505] Data 0.495 (0.495) Elapsed 0m 1s (remain 45m 51s) Loss: 0.1709(0.1709) Grad: 1.0015  \n",
      "Epoch: [7][100/1505] Data 0.000 (0.005) Elapsed 2m 13s (remain 30m 52s) Loss: 0.1266(0.1234) Grad: 1.1816  \n",
      "Epoch: [7][200/1505] Data 0.000 (0.003) Elapsed 4m 24s (remain 28m 37s) Loss: 0.1619(0.1199) Grad: 1.4665  \n",
      "Epoch: [7][300/1505] Data 0.000 (0.002) Elapsed 6m 36s (remain 26m 24s) Loss: 0.0552(0.1150) Grad: 1.0652  \n",
      "Epoch: [7][400/1505] Data 0.000 (0.001) Elapsed 8m 47s (remain 24m 12s) Loss: 0.0786(0.1155) Grad: 1.2218  \n",
      "Epoch: [7][500/1505] Data 0.000 (0.001) Elapsed 10m 59s (remain 22m 0s) Loss: 0.1802(0.1138) Grad: 1.5358  \n",
      "Epoch: [7][600/1505] Data 0.000 (0.001) Elapsed 13m 10s (remain 19m 48s) Loss: 0.1353(0.1155) Grad: 1.7036  \n",
      "Epoch: [7][700/1505] Data 0.000 (0.001) Elapsed 15m 21s (remain 17m 37s) Loss: 0.1841(0.1151) Grad: 0.8838  \n",
      "Epoch: [7][800/1505] Data 0.000 (0.001) Elapsed 17m 33s (remain 15m 25s) Loss: 0.0942(0.1169) Grad: 1.5051  \n",
      "Epoch: [7][900/1505] Data 0.000 (0.001) Elapsed 19m 44s (remain 13m 14s) Loss: 0.1189(0.1176) Grad: 1.3784  \n",
      "Epoch: [7][1000/1505] Data 0.000 (0.001) Elapsed 21m 56s (remain 11m 2s) Loss: 0.0233(0.1180) Grad: 0.8128  \n",
      "Epoch: [7][1100/1505] Data 0.000 (0.001) Elapsed 24m 7s (remain 8m 51s) Loss: 0.0241(0.1173) Grad: 0.9360  \n",
      "Epoch: [7][1200/1505] Data 0.000 (0.001) Elapsed 26m 18s (remain 6m 39s) Loss: 0.1131(0.1167) Grad: 1.1556  \n",
      "Epoch: [7][1300/1505] Data 0.000 (0.001) Elapsed 28m 30s (remain 4m 28s) Loss: 0.1679(0.1172) Grad: 1.2253  \n",
      "Epoch: [7][1400/1505] Data 0.000 (0.001) Elapsed 30m 41s (remain 2m 16s) Loss: 0.0885(0.1181) Grad: 0.7504  \n",
      "Epoch: [7][1500/1505] Data 0.000 (0.000) Elapsed 32m 53s (remain 0m 5s) Loss: 0.0331(0.1171) Grad: 1.1761  \n",
      "Epoch: [7][1504/1505] Data 0.000 (0.000) Elapsed 32m 58s (remain 0m 0s) Loss: 0.0656(0.1171) Grad: 1.1903  \n",
      "EVAL: [0/377] Data 0.490 (0.490) Elapsed 0m 0s (remain 5m 19s) Loss: 0.1880(0.1880) \n",
      "EVAL: [100/377] Data 0.000 (0.005) Elapsed 0m 35s (remain 1m 36s) Loss: 0.0777(0.1147) \n",
      "EVAL: [200/377] Data 0.000 (0.003) Elapsed 1m 9s (remain 1m 0s) Loss: 0.1880(0.1077) \n",
      "EVAL: [300/377] Data 0.000 (0.002) Elapsed 1m 43s (remain 0m 26s) Loss: 0.1889(0.1119) \n"
     ]
    },
    {
     "name": "stderr",
     "output_type": "stream",
     "text": [
      "Epoch 7 - avg_train_loss: 0.1171  avg_val_loss: 0.1117  time: 2108s\n",
      "Epoch 7 - Accuracy: 0.87583064363015\n"
     ]
    },
    {
     "name": "stdout",
     "output_type": "stream",
     "text": [
      "EVAL: [376/377] Data 0.000 (0.001) Elapsed 2m 9s (remain 0m 0s) Loss: 0.0011(0.1117) \n",
      "Epoch: [8][0/1505] Data 0.490 (0.490) Elapsed 0m 1s (remain 45m 35s) Loss: 0.0218(0.0218) Grad: 0.5994  \n",
      "Epoch: [8][100/1505] Data 0.000 (0.005) Elapsed 2m 13s (remain 30m 52s) Loss: 0.1788(0.1207) Grad: 2.4088  \n",
      "Epoch: [8][200/1505] Data 0.000 (0.003) Elapsed 4m 24s (remain 28m 37s) Loss: 0.1808(0.1144) Grad: 1.6817  \n",
      "Epoch: [8][300/1505] Data 0.000 (0.002) Elapsed 6m 36s (remain 26m 24s) Loss: 0.2608(0.1134) Grad: 2.9199  \n",
      "Epoch: [8][400/1505] Data 0.000 (0.001) Elapsed 8m 47s (remain 24m 12s) Loss: 0.1522(0.1101) Grad: 0.9495  \n",
      "Epoch: [8][500/1505] Data 0.000 (0.001) Elapsed 10m 59s (remain 22m 0s) Loss: 0.0749(0.1134) Grad: 1.4064  \n",
      "Epoch: [8][600/1505] Data 0.000 (0.001) Elapsed 13m 10s (remain 19m 48s) Loss: 0.2411(0.1129) Grad: 1.5847  \n",
      "Epoch: [8][700/1505] Data 0.000 (0.001) Elapsed 15m 21s (remain 17m 37s) Loss: 0.1392(0.1141) Grad: 0.6144  \n",
      "Epoch: [8][800/1505] Data 0.000 (0.001) Elapsed 17m 33s (remain 15m 25s) Loss: 0.1154(0.1134) Grad: 1.4323  \n",
      "Epoch: [8][900/1505] Data 0.000 (0.001) Elapsed 19m 44s (remain 13m 14s) Loss: 0.0920(0.1127) Grad: 0.9225  \n",
      "Epoch: [8][1000/1505] Data 0.000 (0.001) Elapsed 21m 56s (remain 11m 2s) Loss: 0.0430(0.1116) Grad: 0.9290  \n",
      "Epoch: [8][1100/1505] Data 0.000 (0.001) Elapsed 24m 7s (remain 8m 51s) Loss: 0.0467(0.1119) Grad: 1.1915  \n",
      "Epoch: [8][1200/1505] Data 0.000 (0.001) Elapsed 26m 18s (remain 6m 39s) Loss: 0.0588(0.1116) Grad: 1.1860  \n",
      "Epoch: [8][1300/1505] Data 0.000 (0.001) Elapsed 28m 30s (remain 4m 28s) Loss: 0.1748(0.1116) Grad: 1.9656  \n",
      "Epoch: [8][1400/1505] Data 0.000 (0.000) Elapsed 30m 41s (remain 2m 16s) Loss: 0.1173(0.1113) Grad: 0.9010  \n",
      "Epoch: [8][1500/1505] Data 0.000 (0.000) Elapsed 32m 53s (remain 0m 5s) Loss: 0.2330(0.1107) Grad: 1.4839  \n",
      "Epoch: [8][1504/1505] Data 0.000 (0.000) Elapsed 32m 58s (remain 0m 0s) Loss: 0.0681(0.1107) Grad: 2.1258  \n",
      "EVAL: [0/377] Data 0.449 (0.449) Elapsed 0m 0s (remain 5m 4s) Loss: 0.1431(0.1431) \n",
      "EVAL: [100/377] Data 0.000 (0.005) Elapsed 0m 35s (remain 1m 35s) Loss: 0.0867(0.1053) \n",
      "EVAL: [200/377] Data 0.000 (0.002) Elapsed 1m 9s (remain 1m 0s) Loss: 0.1326(0.0988) \n",
      "EVAL: [300/377] Data 0.000 (0.002) Elapsed 1m 43s (remain 0m 26s) Loss: 0.1954(0.1018) \n"
     ]
    },
    {
     "name": "stderr",
     "output_type": "stream",
     "text": [
      "Epoch 8 - avg_train_loss: 0.1107  avg_val_loss: 0.1021  time: 2108s\n",
      "Epoch 8 - Accuracy: 0.889310803113727\n",
      "Epoch 8 - Save Best Score: 0.8893 Model\n"
     ]
    },
    {
     "name": "stdout",
     "output_type": "stream",
     "text": [
      "EVAL: [376/377] Data 0.000 (0.001) Elapsed 2m 9s (remain 0m 0s) Loss: 0.0011(0.1021) \n",
      "Epoch: [9][0/1505] Data 0.489 (0.489) Elapsed 0m 1s (remain 45m 40s) Loss: 0.1349(0.1349) Grad: 1.4139  \n",
      "Epoch: [9][100/1505] Data 0.000 (0.005) Elapsed 2m 13s (remain 30m 53s) Loss: 0.4122(0.1184) Grad: 1.8030  \n",
      "Epoch: [9][200/1505] Data 0.000 (0.003) Elapsed 4m 24s (remain 28m 38s) Loss: 0.1690(0.1113) Grad: 1.5955  \n",
      "Epoch: [9][300/1505] Data 0.000 (0.002) Elapsed 6m 36s (remain 26m 25s) Loss: 0.0558(0.1092) Grad: 1.2947  \n",
      "Epoch: [9][400/1505] Data 0.000 (0.001) Elapsed 8m 47s (remain 24m 13s) Loss: 0.2027(0.1076) Grad: 2.5338  \n",
      "Epoch: [9][500/1505] Data 0.000 (0.001) Elapsed 10m 59s (remain 22m 1s) Loss: 0.1357(0.1074) Grad: 1.8360  \n",
      "Epoch: [9][600/1505] Data 0.000 (0.001) Elapsed 13m 10s (remain 19m 49s) Loss: 0.0019(0.1071) Grad: 0.0474  \n",
      "Epoch: [9][700/1505] Data 0.000 (0.001) Elapsed 15m 22s (remain 17m 38s) Loss: 0.0591(0.1065) Grad: 1.2590  \n",
      "Epoch: [9][800/1505] Data 0.000 (0.001) Elapsed 17m 33s (remain 15m 26s) Loss: 0.1458(0.1070) Grad: 1.3327  \n",
      "Epoch: [9][900/1505] Data 0.000 (0.001) Elapsed 19m 45s (remain 13m 14s) Loss: 0.0897(0.1070) Grad: 1.4630  \n",
      "Epoch: [9][1000/1505] Data 0.000 (0.001) Elapsed 21m 57s (remain 11m 3s) Loss: 0.1417(0.1061) Grad: 1.4780  \n",
      "Epoch: [9][1100/1505] Data 0.000 (0.001) Elapsed 24m 8s (remain 8m 51s) Loss: 0.2201(0.1065) Grad: 2.3822  \n",
      "Epoch: [9][1200/1505] Data 0.000 (0.001) Elapsed 26m 19s (remain 6m 39s) Loss: 0.2166(0.1070) Grad: 2.0833  \n",
      "Epoch: [9][1300/1505] Data 0.000 (0.001) Elapsed 28m 31s (remain 4m 28s) Loss: 0.1339(0.1065) Grad: 1.4504  \n",
      "Epoch: [9][1400/1505] Data 0.000 (0.001) Elapsed 30m 42s (remain 2m 16s) Loss: 0.0279(0.1072) Grad: 0.7725  \n",
      "Epoch: [9][1500/1505] Data 0.000 (0.001) Elapsed 32m 54s (remain 0m 5s) Loss: 0.1351(0.1068) Grad: 1.6812  \n",
      "Epoch: [9][1504/1505] Data 0.000 (0.001) Elapsed 32m 59s (remain 0m 0s) Loss: 0.0015(0.1067) Grad: 0.0246  \n",
      "EVAL: [0/377] Data 0.522 (0.522) Elapsed 0m 0s (remain 5m 30s) Loss: 0.1714(0.1714) \n",
      "EVAL: [100/377] Data 0.000 (0.005) Elapsed 0m 35s (remain 1m 36s) Loss: 0.0583(0.1069) \n",
      "EVAL: [200/377] Data 0.000 (0.003) Elapsed 1m 9s (remain 1m 0s) Loss: 0.1093(0.0996) \n",
      "EVAL: [300/377] Data 0.000 (0.002) Elapsed 1m 43s (remain 0m 26s) Loss: 0.1832(0.1028) \n"
     ]
    },
    {
     "name": "stderr",
     "output_type": "stream",
     "text": [
      "Epoch 9 - avg_train_loss: 0.1067  avg_val_loss: 0.1023  time: 2109s\n",
      "Epoch 9 - Accuracy: 0.8887412189101955\n"
     ]
    },
    {
     "name": "stdout",
     "output_type": "stream",
     "text": [
      "EVAL: [376/377] Data 0.000 (0.002) Elapsed 2m 9s (remain 0m 0s) Loss: 0.0017(0.1023) \n",
      "Epoch: [10][0/1505] Data 0.527 (0.527) Elapsed 0m 1s (remain 46m 36s) Loss: 0.1255(0.1255) Grad: 1.8539  \n",
      "Epoch: [10][100/1505] Data 0.000 (0.005) Elapsed 2m 13s (remain 30m 53s) Loss: 0.0906(0.0999) Grad: 1.3126  \n",
      "Epoch: [10][200/1505] Data 0.000 (0.003) Elapsed 4m 24s (remain 28m 37s) Loss: 0.0224(0.0973) Grad: 0.7095  \n",
      "Epoch: [10][300/1505] Data 0.000 (0.002) Elapsed 6m 36s (remain 26m 24s) Loss: 0.0688(0.0998) Grad: 1.1073  \n",
      "Epoch: [10][400/1505] Data 0.000 (0.001) Elapsed 8m 47s (remain 24m 12s) Loss: 0.1547(0.1028) Grad: 1.9569  \n",
      "Epoch: [10][500/1505] Data 0.000 (0.001) Elapsed 10m 59s (remain 22m 0s) Loss: 0.0712(0.1035) Grad: 1.4329  \n",
      "Epoch: [10][600/1505] Data 0.000 (0.001) Elapsed 13m 10s (remain 19m 48s) Loss: 0.1519(0.1034) Grad: 1.6166  \n",
      "Epoch: [10][700/1505] Data 0.000 (0.001) Elapsed 15m 21s (remain 17m 37s) Loss: 0.0672(0.1030) Grad: 1.3596  \n",
      "Epoch: [10][800/1505] Data 0.000 (0.001) Elapsed 17m 33s (remain 15m 25s) Loss: 0.1928(0.1028) Grad: 1.6604  \n",
      "Epoch: [10][900/1505] Data 0.000 (0.001) Elapsed 19m 44s (remain 13m 14s) Loss: 0.1499(0.1041) Grad: 2.4082  \n",
      "Epoch: [10][1000/1505] Data 0.000 (0.001) Elapsed 21m 56s (remain 11m 2s) Loss: 0.1047(0.1037) Grad: 1.2709  \n",
      "Epoch: [10][1100/1505] Data 0.000 (0.001) Elapsed 24m 7s (remain 8m 51s) Loss: 0.1551(0.1036) Grad: 1.3337  \n",
      "Epoch: [10][1200/1505] Data 0.000 (0.001) Elapsed 26m 18s (remain 6m 39s) Loss: 0.0979(0.1032) Grad: 1.9328  \n",
      "Epoch: [10][1300/1505] Data 0.000 (0.001) Elapsed 28m 30s (remain 4m 28s) Loss: 0.0720(0.1027) Grad: 1.8445  \n",
      "Epoch: [10][1400/1505] Data 0.000 (0.001) Elapsed 30m 41s (remain 2m 16s) Loss: 0.0668(0.1022) Grad: 1.0464  \n",
      "Epoch: [10][1500/1505] Data 0.000 (0.000) Elapsed 32m 53s (remain 0m 5s) Loss: 0.0698(0.1022) Grad: 1.5623  \n",
      "Epoch: [10][1504/1505] Data 0.000 (0.000) Elapsed 32m 58s (remain 0m 0s) Loss: 0.1347(0.1023) Grad: 1.5000  \n",
      "EVAL: [0/377] Data 0.460 (0.460) Elapsed 0m 0s (remain 5m 10s) Loss: 0.1498(0.1498) \n",
      "EVAL: [100/377] Data 0.000 (0.005) Elapsed 0m 35s (remain 1m 36s) Loss: 0.0670(0.1029) \n",
      "EVAL: [200/377] Data 0.000 (0.002) Elapsed 1m 9s (remain 1m 0s) Loss: 0.1277(0.0972) \n",
      "EVAL: [300/377] Data 0.000 (0.002) Elapsed 1m 43s (remain 0m 26s) Loss: 0.1665(0.1009) \n"
     ]
    },
    {
     "name": "stderr",
     "output_type": "stream",
     "text": [
      "Epoch 10 - avg_train_loss: 0.1023  avg_val_loss: 0.1009  time: 2108s\n",
      "Epoch 10 - Accuracy: 0.8902601101196127\n",
      "Epoch 10 - Save Best Score: 0.8903 Model\n"
     ]
    },
    {
     "name": "stdout",
     "output_type": "stream",
     "text": [
      "EVAL: [376/377] Data 0.000 (0.001) Elapsed 2m 9s (remain 0m 0s) Loss: 0.0014(0.1009) \n"
     ]
    },
    {
     "name": "stderr",
     "output_type": "stream",
     "text": [
      "========== fold: 3 result ==========\n",
      "Score: 0.89026\n",
      "========== fold: 4 training ==========\n"
     ]
    },
    {
     "name": "stdout",
     "output_type": "stream",
     "text": [
      "Epoch: [1][0/1505] Data 0.475 (0.475) Elapsed 0m 1s (remain 45m 22s) Loss: 0.4944(0.4944) Grad: 2.3981  \n",
      "Epoch: [1][100/1505] Data 0.000 (0.005) Elapsed 2m 13s (remain 30m 52s) Loss: 0.3568(0.2875) Grad: 3.6217  \n",
      "Epoch: [1][200/1505] Data 0.000 (0.002) Elapsed 4m 24s (remain 28m 36s) Loss: 0.1337(0.2498) Grad: 2.6479  \n",
      "Epoch: [1][300/1505] Data 0.000 (0.002) Elapsed 6m 36s (remain 26m 24s) Loss: 0.2356(0.2413) Grad: 3.3392  \n",
      "Epoch: [1][400/1505] Data 0.000 (0.001) Elapsed 8m 47s (remain 24m 12s) Loss: 0.1126(0.2324) Grad: 2.2509  \n",
      "Epoch: [1][500/1505] Data 0.000 (0.001) Elapsed 10m 58s (remain 22m 0s) Loss: 0.2197(0.2257) Grad: 3.1514  \n",
      "Epoch: [1][600/1505] Data 0.000 (0.001) Elapsed 13m 10s (remain 19m 48s) Loss: 0.2891(0.2218) Grad: 2.8060  \n",
      "Epoch: [1][700/1505] Data 0.000 (0.001) Elapsed 15m 21s (remain 17m 37s) Loss: 0.2326(0.2159) Grad: 4.6101  \n",
      "Epoch: [1][800/1505] Data 0.000 (0.001) Elapsed 17m 33s (remain 15m 25s) Loss: 0.2295(0.2120) Grad: 1.8104  \n",
      "Epoch: [1][900/1505] Data 0.000 (0.001) Elapsed 19m 44s (remain 13m 13s) Loss: 0.2390(0.2094) Grad: 2.2469  \n",
      "Epoch: [1][1000/1505] Data 0.000 (0.001) Elapsed 21m 55s (remain 11m 2s) Loss: 0.1440(0.2072) Grad: 0.9739  \n",
      "Epoch: [1][1100/1505] Data 0.000 (0.001) Elapsed 24m 7s (remain 8m 50s) Loss: 0.2193(0.2052) Grad: 2.0506  \n",
      "Epoch: [1][1200/1505] Data 0.000 (0.001) Elapsed 26m 18s (remain 6m 39s) Loss: 0.2657(0.2037) Grad: 2.0421  \n",
      "Epoch: [1][1300/1505] Data 0.000 (0.001) Elapsed 28m 29s (remain 4m 28s) Loss: 0.3061(0.1998) Grad: 3.0146  \n",
      "Epoch: [1][1400/1505] Data 0.000 (0.000) Elapsed 30m 41s (remain 2m 16s) Loss: 0.2217(0.1984) Grad: 2.0531  \n",
      "Epoch: [1][1500/1505] Data 0.000 (0.000) Elapsed 32m 52s (remain 0m 5s) Loss: 0.3033(0.1970) Grad: 2.9333  \n",
      "Epoch: [1][1504/1505] Data 0.000 (0.000) Elapsed 32m 57s (remain 0m 0s) Loss: 0.1690(0.1969) Grad: 2.0146  \n",
      "EVAL: [0/377] Data 0.454 (0.454) Elapsed 0m 0s (remain 5m 6s) Loss: 0.0758(0.0758) \n",
      "EVAL: [100/377] Data 0.000 (0.005) Elapsed 0m 35s (remain 1m 36s) Loss: 0.2315(0.1301) \n",
      "EVAL: [200/377] Data 0.000 (0.002) Elapsed 1m 9s (remain 1m 0s) Loss: 0.2401(0.1348) \n",
      "EVAL: [300/377] Data 0.000 (0.002) Elapsed 1m 43s (remain 0m 26s) Loss: 0.1441(0.1319) \n"
     ]
    },
    {
     "name": "stderr",
     "output_type": "stream",
     "text": [
      "Epoch 1 - avg_train_loss: 0.1969  avg_val_loss: 0.1329  time: 2108s\n",
      "Epoch 1 - Accuracy: 0.855705335105373\n",
      "Epoch 1 - Save Best Score: 0.8557 Model\n"
     ]
    },
    {
     "name": "stdout",
     "output_type": "stream",
     "text": [
      "EVAL: [376/377] Data 0.000 (0.001) Elapsed 2m 9s (remain 0m 0s) Loss: 0.1340(0.1329) \n",
      "Epoch: [2][0/1505] Data 0.473 (0.473) Elapsed 0m 1s (remain 45m 13s) Loss: 0.2545(0.2545) Grad: 2.3247  \n",
      "Epoch: [2][100/1505] Data 0.000 (0.005) Elapsed 2m 13s (remain 30m 53s) Loss: 0.0579(0.1694) Grad: 1.4286  \n",
      "Epoch: [2][200/1505] Data 0.000 (0.003) Elapsed 4m 24s (remain 28m 37s) Loss: 0.0701(0.1618) Grad: 1.5484  \n",
      "Epoch: [2][300/1505] Data 0.000 (0.002) Elapsed 6m 36s (remain 26m 25s) Loss: 0.1885(0.1636) Grad: 3.2042  \n",
      "Epoch: [2][400/1505] Data 0.000 (0.001) Elapsed 8m 47s (remain 24m 12s) Loss: 0.2639(0.1615) Grad: 3.3506  \n",
      "Epoch: [2][500/1505] Data 0.000 (0.001) Elapsed 10m 59s (remain 22m 1s) Loss: 0.1303(0.1602) Grad: 2.2585  \n",
      "Epoch: [2][600/1505] Data 0.000 (0.001) Elapsed 13m 10s (remain 19m 49s) Loss: 0.2607(0.1628) Grad: 1.6419  \n",
      "Epoch: [2][700/1505] Data 0.000 (0.001) Elapsed 15m 22s (remain 17m 37s) Loss: 0.1342(0.1618) Grad: 1.2781  \n",
      "Epoch: [2][800/1505] Data 0.000 (0.001) Elapsed 17m 33s (remain 15m 25s) Loss: 0.1679(0.1609) Grad: 2.5543  \n",
      "Epoch: [2][900/1505] Data 0.000 (0.001) Elapsed 19m 45s (remain 13m 14s) Loss: 0.2103(0.1606) Grad: 1.5208  \n",
      "Epoch: [2][1000/1505] Data 0.000 (0.001) Elapsed 21m 56s (remain 11m 2s) Loss: 0.0224(0.1596) Grad: 0.8185  \n",
      "Epoch: [2][1100/1505] Data 0.000 (0.001) Elapsed 24m 7s (remain 8m 51s) Loss: 0.1768(0.1584) Grad: 3.1294  \n",
      "Epoch: [2][1200/1505] Data 0.000 (0.001) Elapsed 26m 19s (remain 6m 39s) Loss: 0.1567(0.1583) Grad: 1.7930  \n",
      "Epoch: [2][1300/1505] Data 0.000 (0.001) Elapsed 28m 30s (remain 4m 28s) Loss: 0.1828(0.1580) Grad: 1.4955  \n",
      "Epoch: [2][1400/1505] Data 0.000 (0.000) Elapsed 30m 42s (remain 2m 16s) Loss: 0.2823(0.1567) Grad: 1.0894  \n",
      "Epoch: [2][1500/1505] Data 0.000 (0.000) Elapsed 32m 53s (remain 0m 5s) Loss: 0.1960(0.1568) Grad: 1.5847  \n",
      "Epoch: [2][1504/1505] Data 0.000 (0.000) Elapsed 32m 58s (remain 0m 0s) Loss: 0.0954(0.1567) Grad: 1.6346  \n",
      "EVAL: [0/377] Data 0.473 (0.473) Elapsed 0m 0s (remain 5m 14s) Loss: 0.1504(0.1504) \n",
      "EVAL: [100/377] Data 0.000 (0.005) Elapsed 0m 35s (remain 1m 36s) Loss: 0.2347(0.1423) \n",
      "EVAL: [200/377] Data 0.000 (0.003) Elapsed 1m 9s (remain 1m 0s) Loss: 0.2235(0.1434) \n",
      "EVAL: [300/377] Data 0.000 (0.002) Elapsed 1m 43s (remain 0m 26s) Loss: 0.1567(0.1427) \n"
     ]
    },
    {
     "name": "stderr",
     "output_type": "stream",
     "text": [
      "Epoch 2 - avg_train_loss: 0.1567  avg_val_loss: 0.1419  time: 2109s\n",
      "Epoch 2 - Accuracy: 0.8355800265805962\n"
     ]
    },
    {
     "name": "stdout",
     "output_type": "stream",
     "text": [
      "EVAL: [376/377] Data 0.000 (0.001) Elapsed 2m 9s (remain 0m 0s) Loss: 0.1443(0.1419) \n",
      "Epoch: [3][0/1505] Data 0.477 (0.477) Elapsed 0m 1s (remain 45m 23s) Loss: 0.2298(0.2298) Grad: 2.4336  \n",
      "Epoch: [3][100/1505] Data 0.000 (0.005) Elapsed 2m 13s (remain 30m 51s) Loss: 0.0651(0.1538) Grad: 1.6392  \n",
      "Epoch: [3][200/1505] Data 0.000 (0.003) Elapsed 4m 24s (remain 28m 36s) Loss: 0.1384(0.1469) Grad: 1.9480  \n",
      "Epoch: [3][300/1505] Data 0.000 (0.002) Elapsed 6m 36s (remain 26m 24s) Loss: 0.0450(0.1444) Grad: 1.1552  \n",
      "Epoch: [3][400/1505] Data 0.000 (0.001) Elapsed 8m 47s (remain 24m 11s) Loss: 0.1123(0.1452) Grad: 0.9325  \n",
      "Epoch: [3][500/1505] Data 0.000 (0.001) Elapsed 10m 58s (remain 22m 0s) Loss: 0.1850(0.1446) Grad: 1.9601  \n",
      "Epoch: [3][600/1505] Data 0.000 (0.001) Elapsed 13m 10s (remain 19m 48s) Loss: 0.2526(0.1436) Grad: 2.0969  \n",
      "Epoch: [3][700/1505] Data 0.000 (0.001) Elapsed 15m 21s (remain 17m 36s) Loss: 0.2733(0.1445) Grad: 1.7199  \n",
      "Epoch: [3][800/1505] Data 0.000 (0.001) Elapsed 17m 33s (remain 15m 25s) Loss: 0.0735(0.1448) Grad: 1.1384  \n",
      "Epoch: [3][900/1505] Data 0.000 (0.001) Elapsed 19m 44s (remain 13m 13s) Loss: 0.2031(0.1452) Grad: 1.9630  \n",
      "Epoch: [3][1000/1505] Data 0.000 (0.001) Elapsed 21m 55s (remain 11m 2s) Loss: 0.2583(0.1455) Grad: 2.3922  \n",
      "Epoch: [3][1100/1505] Data 0.000 (0.001) Elapsed 24m 7s (remain 8m 51s) Loss: 0.1224(0.1457) Grad: 1.1117  \n",
      "Epoch: [3][1200/1505] Data 0.000 (0.001) Elapsed 26m 18s (remain 6m 39s) Loss: 0.1308(0.1441) Grad: 1.1991  \n",
      "Epoch: [3][1300/1505] Data 0.000 (0.001) Elapsed 28m 29s (remain 4m 28s) Loss: 0.1004(0.1435) Grad: 1.5599  \n",
      "Epoch: [3][1400/1505] Data 0.000 (0.000) Elapsed 30m 41s (remain 2m 16s) Loss: 0.1512(0.1433) Grad: 1.6887  \n",
      "Epoch: [3][1500/1505] Data 0.000 (0.000) Elapsed 32m 52s (remain 0m 5s) Loss: 0.0680(0.1437) Grad: 1.5394  \n",
      "Epoch: [3][1504/1505] Data 0.000 (0.000) Elapsed 32m 57s (remain 0m 0s) Loss: 0.0340(0.1437) Grad: 1.4826  \n",
      "EVAL: [0/377] Data 0.474 (0.474) Elapsed 0m 0s (remain 5m 12s) Loss: 0.0666(0.0666) \n",
      "EVAL: [100/377] Data 0.000 (0.005) Elapsed 0m 35s (remain 1m 36s) Loss: 0.1811(0.1328) \n",
      "EVAL: [200/377] Data 0.000 (0.003) Elapsed 1m 9s (remain 1m 0s) Loss: 0.1524(0.1338) \n",
      "EVAL: [300/377] Data 0.000 (0.002) Elapsed 1m 43s (remain 0m 26s) Loss: 0.1274(0.1337) \n"
     ]
    },
    {
     "name": "stderr",
     "output_type": "stream",
     "text": [
      "Epoch 3 - avg_train_loss: 0.1437  avg_val_loss: 0.1326  time: 2108s\n",
      "Epoch 3 - Accuracy: 0.8591228403265616\n",
      "Epoch 3 - Save Best Score: 0.8591 Model\n"
     ]
    },
    {
     "name": "stdout",
     "output_type": "stream",
     "text": [
      "EVAL: [376/377] Data 0.000 (0.001) Elapsed 2m 9s (remain 0m 0s) Loss: 0.0760(0.1326) \n",
      "Epoch: [4][0/1505] Data 0.465 (0.465) Elapsed 0m 1s (remain 45m 6s) Loss: 0.1424(0.1424) Grad: 2.0057  \n",
      "Epoch: [4][100/1505] Data 0.000 (0.005) Elapsed 2m 13s (remain 30m 52s) Loss: 0.0512(0.1423) Grad: 1.6294  \n",
      "Epoch: [4][200/1505] Data 0.000 (0.002) Elapsed 4m 24s (remain 28m 35s) Loss: 0.2572(0.1400) Grad: 1.4085  \n",
      "Epoch: [4][300/1505] Data 0.000 (0.002) Elapsed 6m 35s (remain 26m 23s) Loss: 0.0698(0.1354) Grad: 1.3724  \n",
      "Epoch: [4][400/1505] Data 0.000 (0.001) Elapsed 8m 47s (remain 24m 11s) Loss: 0.1725(0.1381) Grad: 2.0123  \n",
      "Epoch: [4][500/1505] Data 0.000 (0.001) Elapsed 10m 58s (remain 21m 59s) Loss: 0.1660(0.1379) Grad: 1.5283  \n",
      "Epoch: [4][600/1505] Data 0.000 (0.001) Elapsed 13m 9s (remain 19m 47s) Loss: 0.0250(0.1390) Grad: 0.7669  \n",
      "Epoch: [4][700/1505] Data 0.000 (0.001) Elapsed 15m 21s (remain 17m 36s) Loss: 0.0446(0.1379) Grad: 1.6229  \n",
      "Epoch: [4][800/1505] Data 0.000 (0.001) Elapsed 17m 32s (remain 15m 24s) Loss: 0.1441(0.1379) Grad: 1.3835  \n",
      "Epoch: [4][900/1505] Data 0.000 (0.001) Elapsed 19m 43s (remain 13m 13s) Loss: 0.1259(0.1364) Grad: 1.2608  \n",
      "Epoch: [4][1000/1505] Data 0.000 (0.001) Elapsed 21m 55s (remain 11m 2s) Loss: 0.1440(0.1357) Grad: 2.1495  \n",
      "Epoch: [4][1100/1505] Data 0.000 (0.001) Elapsed 24m 6s (remain 8m 50s) Loss: 0.3140(0.1362) Grad: 1.6264  \n",
      "Epoch: [4][1200/1505] Data 0.000 (0.001) Elapsed 26m 17s (remain 6m 39s) Loss: 0.1792(0.1371) Grad: 2.1037  \n",
      "Epoch: [4][1300/1505] Data 0.000 (0.001) Elapsed 28m 29s (remain 4m 27s) Loss: 0.2371(0.1374) Grad: 2.8306  \n",
      "Epoch: [4][1400/1505] Data 0.000 (0.000) Elapsed 30m 40s (remain 2m 16s) Loss: 0.0972(0.1365) Grad: 1.4273  \n",
      "Epoch: [4][1500/1505] Data 0.000 (0.000) Elapsed 32m 51s (remain 0m 5s) Loss: 0.0809(0.1361) Grad: 1.1753  \n",
      "Epoch: [4][1504/1505] Data 0.000 (0.000) Elapsed 32m 56s (remain 0m 0s) Loss: 0.2889(0.1361) Grad: 1.9006  \n",
      "EVAL: [0/377] Data 0.476 (0.476) Elapsed 0m 0s (remain 5m 14s) Loss: 0.0865(0.0865) \n",
      "EVAL: [100/377] Data 0.000 (0.005) Elapsed 0m 35s (remain 1m 36s) Loss: 0.1797(0.1313) \n",
      "EVAL: [200/377] Data 0.000 (0.003) Elapsed 1m 9s (remain 1m 0s) Loss: 0.1341(0.1265) \n",
      "EVAL: [300/377] Data 0.000 (0.002) Elapsed 1m 43s (remain 0m 26s) Loss: 0.1109(0.1228) \n"
     ]
    },
    {
     "name": "stderr",
     "output_type": "stream",
     "text": [
      "Epoch 4 - avg_train_loss: 0.1361  avg_val_loss: 0.1237  time: 2107s\n",
      "Epoch 4 - Accuracy: 0.8612113157395102\n",
      "Epoch 4 - Save Best Score: 0.8612 Model\n"
     ]
    },
    {
     "name": "stdout",
     "output_type": "stream",
     "text": [
      "EVAL: [376/377] Data 0.000 (0.001) Elapsed 2m 9s (remain 0m 0s) Loss: 0.0659(0.1237) \n",
      "Epoch: [5][0/1505] Data 0.475 (0.475) Elapsed 0m 1s (remain 45m 21s) Loss: 0.0185(0.0185) Grad: 0.5652  \n",
      "Epoch: [5][100/1505] Data 0.000 (0.005) Elapsed 2m 13s (remain 30m 50s) Loss: 0.1457(0.1320) Grad: 2.2100  \n",
      "Epoch: [5][200/1505] Data 0.000 (0.003) Elapsed 4m 24s (remain 28m 36s) Loss: 0.1760(0.1234) Grad: 1.6482  \n",
      "Epoch: [5][300/1505] Data 0.000 (0.002) Elapsed 6m 35s (remain 26m 23s) Loss: 0.0689(0.1232) Grad: 1.6920  \n",
      "Epoch: [5][400/1505] Data 0.000 (0.001) Elapsed 8m 47s (remain 24m 11s) Loss: 0.1642(0.1276) Grad: 2.8751  \n",
      "Epoch: [5][500/1505] Data 0.000 (0.001) Elapsed 10m 58s (remain 21m 59s) Loss: 0.1121(0.1269) Grad: 1.5024  \n",
      "Epoch: [5][600/1505] Data 0.000 (0.001) Elapsed 13m 10s (remain 19m 48s) Loss: 0.1005(0.1267) Grad: 1.4944  \n",
      "Epoch: [5][700/1505] Data 0.000 (0.001) Elapsed 15m 21s (remain 17m 36s) Loss: 0.0972(0.1287) Grad: 1.2380  \n",
      "Epoch: [5][800/1505] Data 0.000 (0.001) Elapsed 17m 32s (remain 15m 25s) Loss: 0.0449(0.1285) Grad: 1.1805  \n",
      "Epoch: [5][900/1505] Data 0.000 (0.001) Elapsed 19m 44s (remain 13m 13s) Loss: 0.0584(0.1295) Grad: 1.1253  \n",
      "Epoch: [5][1000/1505] Data 0.000 (0.001) Elapsed 21m 55s (remain 11m 2s) Loss: 0.1222(0.1304) Grad: 1.2630  \n",
      "Epoch: [5][1100/1505] Data 0.000 (0.001) Elapsed 24m 7s (remain 8m 50s) Loss: 0.1299(0.1299) Grad: 1.5773  \n",
      "Epoch: [5][1200/1505] Data 0.000 (0.001) Elapsed 26m 18s (remain 6m 39s) Loss: 0.0811(0.1306) Grad: 1.8534  \n",
      "Epoch: [5][1300/1505] Data 0.000 (0.001) Elapsed 28m 29s (remain 4m 28s) Loss: 0.0662(0.1305) Grad: 1.1140  \n",
      "Epoch: [5][1400/1505] Data 0.000 (0.000) Elapsed 30m 41s (remain 2m 16s) Loss: 0.1102(0.1304) Grad: 1.4364  \n",
      "Epoch: [5][1500/1505] Data 0.000 (0.000) Elapsed 32m 52s (remain 0m 5s) Loss: 0.1250(0.1306) Grad: 1.1210  \n",
      "Epoch: [5][1504/1505] Data 0.000 (0.000) Elapsed 32m 57s (remain 0m 0s) Loss: 0.0460(0.1306) Grad: 1.3660  \n",
      "EVAL: [0/377] Data 0.520 (0.520) Elapsed 0m 0s (remain 5m 30s) Loss: 0.0541(0.0541) \n",
      "EVAL: [100/377] Data 0.000 (0.005) Elapsed 0m 35s (remain 1m 36s) Loss: 0.1893(0.1214) \n",
      "EVAL: [200/377] Data 0.000 (0.003) Elapsed 1m 9s (remain 1m 0s) Loss: 0.1437(0.1237) \n",
      "EVAL: [300/377] Data 0.000 (0.002) Elapsed 1m 43s (remain 0m 26s) Loss: 0.1304(0.1239) \n"
     ]
    },
    {
     "name": "stderr",
     "output_type": "stream",
     "text": [
      "Epoch 5 - avg_train_loss: 0.1306  avg_val_loss: 0.1225  time: 2107s\n",
      "Epoch 5 - Accuracy: 0.8665274349724701\n",
      "Epoch 5 - Save Best Score: 0.8665 Model\n"
     ]
    },
    {
     "name": "stdout",
     "output_type": "stream",
     "text": [
      "EVAL: [376/377] Data 0.000 (0.002) Elapsed 2m 9s (remain 0m 0s) Loss: 0.0016(0.1225) \n",
      "Epoch: [6][0/1505] Data 0.472 (0.472) Elapsed 0m 1s (remain 45m 16s) Loss: 0.2075(0.2075) Grad: 2.3170  \n",
      "Epoch: [6][100/1505] Data 0.000 (0.005) Elapsed 2m 13s (remain 30m 52s) Loss: 0.1540(0.1194) Grad: 0.6084  \n",
      "Epoch: [6][200/1505] Data 0.000 (0.002) Elapsed 4m 24s (remain 28m 36s) Loss: 0.0716(0.1235) Grad: 1.2758  \n",
      "Epoch: [6][300/1505] Data 0.000 (0.002) Elapsed 6m 35s (remain 26m 23s) Loss: 0.1490(0.1235) Grad: 1.7694  \n",
      "Epoch: [6][400/1505] Data 0.000 (0.001) Elapsed 8m 47s (remain 24m 11s) Loss: 0.0658(0.1249) Grad: 0.8122  \n",
      "Epoch: [6][500/1505] Data 0.000 (0.001) Elapsed 10m 58s (remain 21m 59s) Loss: 0.1480(0.1261) Grad: 1.6702  \n",
      "Epoch: [6][600/1505] Data 0.000 (0.001) Elapsed 13m 10s (remain 19m 48s) Loss: 0.0641(0.1256) Grad: 1.7700  \n",
      "Epoch: [6][700/1505] Data 0.000 (0.001) Elapsed 15m 21s (remain 17m 36s) Loss: 0.0709(0.1238) Grad: 2.1552  \n",
      "Epoch: [6][800/1505] Data 0.000 (0.001) Elapsed 17m 32s (remain 15m 25s) Loss: 0.1201(0.1232) Grad: 2.1729  \n",
      "Epoch: [6][900/1505] Data 0.000 (0.001) Elapsed 19m 44s (remain 13m 13s) Loss: 0.1500(0.1235) Grad: 2.5671  \n",
      "Epoch: [6][1000/1505] Data 0.000 (0.001) Elapsed 21m 55s (remain 11m 2s) Loss: 0.1021(0.1237) Grad: 1.3657  \n",
      "Epoch: [6][1100/1505] Data 0.000 (0.001) Elapsed 24m 6s (remain 8m 50s) Loss: 0.0662(0.1237) Grad: 0.8066  \n",
      "Epoch: [6][1200/1505] Data 0.000 (0.001) Elapsed 26m 18s (remain 6m 39s) Loss: 0.1889(0.1235) Grad: 1.0716  \n",
      "Epoch: [6][1300/1505] Data 0.000 (0.001) Elapsed 28m 29s (remain 4m 28s) Loss: 0.0981(0.1233) Grad: 0.3286  \n",
      "Epoch: [6][1400/1505] Data 0.000 (0.000) Elapsed 30m 41s (remain 2m 16s) Loss: 0.1725(0.1226) Grad: 2.0404  \n",
      "Epoch: [6][1500/1505] Data 0.000 (0.000) Elapsed 32m 52s (remain 0m 5s) Loss: 0.2909(0.1228) Grad: 2.2926  \n",
      "Epoch: [6][1504/1505] Data 0.000 (0.000) Elapsed 32m 57s (remain 0m 0s) Loss: 0.1644(0.1229) Grad: 1.0705  \n",
      "EVAL: [0/377] Data 0.495 (0.495) Elapsed 0m 0s (remain 5m 22s) Loss: 0.0614(0.0614) \n",
      "EVAL: [100/377] Data 0.000 (0.005) Elapsed 0m 35s (remain 1m 36s) Loss: 0.1533(0.1245) \n",
      "EVAL: [200/377] Data 0.000 (0.003) Elapsed 1m 9s (remain 1m 0s) Loss: 0.1353(0.1271) \n",
      "EVAL: [300/377] Data 0.000 (0.002) Elapsed 1m 43s (remain 0m 26s) Loss: 0.1411(0.1273) \n"
     ]
    },
    {
     "name": "stderr",
     "output_type": "stream",
     "text": [
      "Epoch 6 - avg_train_loss: 0.1229  avg_val_loss: 0.1261  time: 2108s\n",
      "Epoch 6 - Accuracy: 0.8644389595595215\n"
     ]
    },
    {
     "name": "stdout",
     "output_type": "stream",
     "text": [
      "EVAL: [376/377] Data 0.000 (0.001) Elapsed 2m 9s (remain 0m 0s) Loss: 0.2008(0.1261) \n",
      "Epoch: [7][0/1505] Data 0.500 (0.500) Elapsed 0m 1s (remain 46m 0s) Loss: 0.1374(0.1374) Grad: 2.3551  \n",
      "Epoch: [7][100/1505] Data 0.000 (0.005) Elapsed 2m 13s (remain 30m 51s) Loss: 0.1834(0.1183) Grad: 2.2408  \n",
      "Epoch: [7][200/1505] Data 0.000 (0.003) Elapsed 4m 24s (remain 28m 36s) Loss: 0.0894(0.1171) Grad: 1.2028  \n",
      "Epoch: [7][300/1505] Data 0.000 (0.002) Elapsed 6m 35s (remain 26m 23s) Loss: 0.2263(0.1174) Grad: 1.2846  \n",
      "Epoch: [7][400/1505] Data 0.000 (0.001) Elapsed 8m 47s (remain 24m 11s) Loss: 0.1115(0.1186) Grad: 1.5448  \n",
      "Epoch: [7][500/1505] Data 0.000 (0.001) Elapsed 10m 58s (remain 21m 59s) Loss: 0.0966(0.1197) Grad: 0.7286  \n",
      "Epoch: [7][600/1505] Data 0.000 (0.001) Elapsed 13m 9s (remain 19m 48s) Loss: 0.2050(0.1204) Grad: 2.1143  \n",
      "Epoch: [7][700/1505] Data 0.000 (0.001) Elapsed 15m 21s (remain 17m 36s) Loss: 0.0590(0.1203) Grad: 1.5721  \n",
      "Epoch: [7][800/1505] Data 0.001 (0.001) Elapsed 17m 32s (remain 15m 25s) Loss: 0.1287(0.1189) Grad: 1.3216  \n",
      "Epoch: [7][900/1505] Data 0.000 (0.001) Elapsed 19m 44s (remain 13m 13s) Loss: 0.0423(0.1184) Grad: 0.9320  \n",
      "Epoch: [7][1000/1505] Data 0.000 (0.001) Elapsed 21m 55s (remain 11m 2s) Loss: 0.1729(0.1173) Grad: 1.1230  \n",
      "Epoch: [7][1100/1505] Data 0.000 (0.001) Elapsed 24m 6s (remain 8m 50s) Loss: 0.1634(0.1178) Grad: 1.9346  \n",
      "Epoch: [7][1200/1505] Data 0.000 (0.001) Elapsed 26m 18s (remain 6m 39s) Loss: 0.0173(0.1176) Grad: 0.7521  \n",
      "Epoch: [7][1300/1505] Data 0.000 (0.001) Elapsed 28m 29s (remain 4m 28s) Loss: 0.0703(0.1165) Grad: 1.3923  \n",
      "Epoch: [7][1400/1505] Data 0.000 (0.000) Elapsed 30m 40s (remain 2m 16s) Loss: 0.1919(0.1161) Grad: 2.2958  \n",
      "Epoch: [7][1500/1505] Data 0.000 (0.000) Elapsed 32m 52s (remain 0m 5s) Loss: 0.1549(0.1161) Grad: 1.2588  \n",
      "Epoch: [7][1504/1505] Data 0.000 (0.000) Elapsed 32m 57s (remain 0m 0s) Loss: 0.1514(0.1161) Grad: 1.2393  \n",
      "EVAL: [0/377] Data 0.539 (0.539) Elapsed 0m 0s (remain 5m 36s) Loss: 0.1036(0.1036) \n",
      "EVAL: [100/377] Data 0.000 (0.005) Elapsed 0m 35s (remain 1m 36s) Loss: 0.1880(0.1206) \n",
      "EVAL: [200/377] Data 0.000 (0.003) Elapsed 1m 9s (remain 1m 0s) Loss: 0.0993(0.1217) \n",
      "EVAL: [300/377] Data 0.000 (0.002) Elapsed 1m 43s (remain 0m 26s) Loss: 0.1362(0.1212) \n"
     ]
    },
    {
     "name": "stderr",
     "output_type": "stream",
     "text": [
      "Epoch 7 - avg_train_loss: 0.1161  avg_val_loss: 0.1208  time: 2107s\n",
      "Epoch 7 - Accuracy: 0.868995633187773\n",
      "Epoch 7 - Save Best Score: 0.8690 Model\n"
     ]
    },
    {
     "name": "stdout",
     "output_type": "stream",
     "text": [
      "EVAL: [376/377] Data 0.000 (0.002) Elapsed 2m 9s (remain 0m 0s) Loss: 0.0279(0.1208) \n",
      "Epoch: [8][0/1505] Data 0.476 (0.476) Elapsed 0m 1s (remain 45m 22s) Loss: 0.1813(0.1813) Grad: 1.4890  \n",
      "Epoch: [8][100/1505] Data 0.000 (0.005) Elapsed 2m 13s (remain 30m 50s) Loss: 0.1319(0.0986) Grad: 1.7084  \n",
      "Epoch: [8][200/1505] Data 0.000 (0.003) Elapsed 4m 24s (remain 28m 36s) Loss: 0.0858(0.1045) Grad: 1.8521  \n",
      "Epoch: [8][300/1505] Data 0.000 (0.002) Elapsed 6m 35s (remain 26m 23s) Loss: 0.1046(0.1087) Grad: 1.4036  \n",
      "Epoch: [8][400/1505] Data 0.000 (0.001) Elapsed 8m 47s (remain 24m 11s) Loss: 0.0791(0.1089) Grad: 1.7735  \n",
      "Epoch: [8][500/1505] Data 0.000 (0.001) Elapsed 10m 58s (remain 21m 59s) Loss: 0.1486(0.1079) Grad: 2.2352  \n",
      "Epoch: [8][600/1505] Data 0.000 (0.001) Elapsed 13m 9s (remain 19m 48s) Loss: 0.1023(0.1078) Grad: 1.2503  \n",
      "Epoch: [8][700/1505] Data 0.000 (0.001) Elapsed 15m 21s (remain 17m 36s) Loss: 0.1338(0.1092) Grad: 1.1057  \n",
      "Epoch: [8][800/1505] Data 0.000 (0.001) Elapsed 17m 32s (remain 15m 25s) Loss: 0.1535(0.1083) Grad: 2.2455  \n",
      "Epoch: [8][900/1505] Data 0.000 (0.001) Elapsed 19m 43s (remain 13m 13s) Loss: 0.1000(0.1089) Grad: 0.8275  \n",
      "Epoch: [8][1000/1505] Data 0.000 (0.001) Elapsed 21m 55s (remain 11m 2s) Loss: 0.1394(0.1097) Grad: 0.9196  \n",
      "Epoch: [8][1100/1505] Data 0.000 (0.001) Elapsed 24m 6s (remain 8m 50s) Loss: 0.1794(0.1102) Grad: 1.8765  \n",
      "Epoch: [8][1200/1505] Data 0.000 (0.001) Elapsed 26m 17s (remain 6m 39s) Loss: 0.0979(0.1107) Grad: 1.5655  \n",
      "Epoch: [8][1300/1505] Data 0.000 (0.001) Elapsed 28m 29s (remain 4m 28s) Loss: 0.2741(0.1108) Grad: 2.5089  \n",
      "Epoch: [8][1400/1505] Data 0.000 (0.000) Elapsed 30m 40s (remain 2m 16s) Loss: 0.0830(0.1106) Grad: 0.9496  \n",
      "Epoch: [8][1500/1505] Data 0.000 (0.000) Elapsed 32m 51s (remain 0m 5s) Loss: 0.3705(0.1106) Grad: 2.0008  \n",
      "Epoch: [8][1504/1505] Data 0.000 (0.000) Elapsed 32m 57s (remain 0m 0s) Loss: 0.0701(0.1106) Grad: 1.1649  \n",
      "EVAL: [0/377] Data 0.452 (0.452) Elapsed 0m 0s (remain 5m 4s) Loss: 0.0890(0.0890) \n",
      "EVAL: [100/377] Data 0.000 (0.005) Elapsed 0m 35s (remain 1m 36s) Loss: 0.1610(0.1180) \n",
      "EVAL: [200/377] Data 0.000 (0.002) Elapsed 1m 9s (remain 1m 0s) Loss: 0.0797(0.1167) \n",
      "EVAL: [300/377] Data 0.000 (0.002) Elapsed 1m 43s (remain 0m 26s) Loss: 0.1113(0.1157) \n"
     ]
    },
    {
     "name": "stderr",
     "output_type": "stream",
     "text": [
      "Epoch 8 - avg_train_loss: 0.1106  avg_val_loss: 0.1146  time: 2107s\n",
      "Epoch 8 - Accuracy: 0.8767799506360356\n",
      "Epoch 8 - Save Best Score: 0.8768 Model\n"
     ]
    },
    {
     "name": "stdout",
     "output_type": "stream",
     "text": [
      "EVAL: [376/377] Data 0.000 (0.001) Elapsed 2m 9s (remain 0m 0s) Loss: 0.0108(0.1146) \n",
      "Epoch: [9][0/1505] Data 0.501 (0.501) Elapsed 0m 1s (remain 46m 4s) Loss: 0.1387(0.1387) Grad: 2.1032  \n",
      "Epoch: [9][100/1505] Data 0.000 (0.005) Elapsed 2m 13s (remain 30m 52s) Loss: 0.0331(0.1220) Grad: 1.3310  \n",
      "Epoch: [9][200/1505] Data 0.000 (0.003) Elapsed 4m 24s (remain 28m 37s) Loss: 0.1754(0.1124) Grad: 1.4054  \n",
      "Epoch: [9][300/1505] Data 0.000 (0.002) Elapsed 6m 36s (remain 26m 24s) Loss: 0.0255(0.1112) Grad: 0.9231  \n",
      "Epoch: [9][400/1505] Data 0.000 (0.001) Elapsed 8m 47s (remain 24m 12s) Loss: 0.1772(0.1094) Grad: 1.5558  \n",
      "Epoch: [9][500/1505] Data 0.000 (0.001) Elapsed 10m 58s (remain 22m 0s) Loss: 0.0930(0.1112) Grad: 1.1564  \n",
      "Epoch: [9][600/1505] Data 0.000 (0.001) Elapsed 13m 10s (remain 19m 48s) Loss: 0.1928(0.1105) Grad: 1.7386  \n",
      "Epoch: [9][700/1505] Data 0.000 (0.001) Elapsed 15m 21s (remain 17m 37s) Loss: 0.0990(0.1080) Grad: 1.1085  \n",
      "Epoch: [9][800/1505] Data 0.000 (0.001) Elapsed 17m 33s (remain 15m 25s) Loss: 0.1403(0.1080) Grad: 1.5714  \n",
      "Epoch: [9][900/1505] Data 0.000 (0.001) Elapsed 19m 44s (remain 13m 14s) Loss: 0.1275(0.1073) Grad: 1.3948  \n",
      "Epoch: [9][1000/1505] Data 0.000 (0.001) Elapsed 21m 55s (remain 11m 2s) Loss: 0.1680(0.1084) Grad: 1.8532  \n",
      "Epoch: [9][1100/1505] Data 0.000 (0.001) Elapsed 24m 7s (remain 8m 51s) Loss: 0.0425(0.1086) Grad: 1.4970  \n",
      "Epoch: [9][1200/1505] Data 0.000 (0.001) Elapsed 26m 18s (remain 6m 39s) Loss: 0.2127(0.1086) Grad: 0.9343  \n",
      "Epoch: [9][1300/1505] Data 0.000 (0.001) Elapsed 28m 30s (remain 4m 28s) Loss: 0.1083(0.1080) Grad: 0.8652  \n",
      "Epoch: [9][1400/1505] Data 0.000 (0.001) Elapsed 30m 41s (remain 2m 16s) Loss: 0.0082(0.1081) Grad: 0.2703  \n",
      "Epoch: [9][1500/1505] Data 0.000 (0.000) Elapsed 32m 53s (remain 0m 5s) Loss: 0.0581(0.1078) Grad: 0.7886  \n",
      "Epoch: [9][1504/1505] Data 0.000 (0.000) Elapsed 32m 58s (remain 0m 0s) Loss: 0.1007(0.1077) Grad: 0.6956  \n",
      "EVAL: [0/377] Data 0.479 (0.479) Elapsed 0m 0s (remain 5m 14s) Loss: 0.0621(0.0621) \n",
      "EVAL: [100/377] Data 0.000 (0.005) Elapsed 0m 35s (remain 1m 36s) Loss: 0.1755(0.1112) \n",
      "EVAL: [200/377] Data 0.000 (0.003) Elapsed 1m 9s (remain 1m 0s) Loss: 0.1096(0.1122) \n",
      "EVAL: [300/377] Data 0.000 (0.002) Elapsed 1m 43s (remain 0m 26s) Loss: 0.1322(0.1098) \n"
     ]
    },
    {
     "name": "stderr",
     "output_type": "stream",
     "text": [
      "Epoch 9 - avg_train_loss: 0.1077  avg_val_loss: 0.1086  time: 2108s\n",
      "Epoch 9 - Accuracy: 0.881336624264287\n",
      "Epoch 9 - Save Best Score: 0.8813 Model\n"
     ]
    },
    {
     "name": "stdout",
     "output_type": "stream",
     "text": [
      "EVAL: [376/377] Data 0.000 (0.001) Elapsed 2m 9s (remain 0m 0s) Loss: 0.0363(0.1086) \n",
      "Epoch: [10][0/1505] Data 0.469 (0.469) Elapsed 0m 1s (remain 45m 6s) Loss: 0.0795(0.0795) Grad: 1.3590  \n",
      "Epoch: [10][100/1505] Data 0.000 (0.005) Elapsed 2m 13s (remain 30m 51s) Loss: 0.0349(0.0978) Grad: 1.2486  \n",
      "Epoch: [10][200/1505] Data 0.000 (0.002) Elapsed 4m 24s (remain 28m 37s) Loss: 0.1152(0.0968) Grad: 1.7405  \n",
      "Epoch: [10][300/1505] Data 0.000 (0.002) Elapsed 6m 36s (remain 26m 24s) Loss: 0.0250(0.1019) Grad: 1.0203  \n",
      "Epoch: [10][400/1505] Data 0.000 (0.001) Elapsed 8m 47s (remain 24m 12s) Loss: 0.0770(0.1019) Grad: 1.6928  \n",
      "Epoch: [10][500/1505] Data 0.000 (0.001) Elapsed 10m 59s (remain 22m 0s) Loss: 0.0540(0.1022) Grad: 2.2459  \n",
      "Epoch: [10][600/1505] Data 0.000 (0.001) Elapsed 13m 10s (remain 19m 49s) Loss: 0.1019(0.1008) Grad: 1.0245  \n",
      "Epoch: [10][700/1505] Data 0.000 (0.001) Elapsed 15m 22s (remain 17m 37s) Loss: 0.1553(0.1009) Grad: 1.5936  \n",
      "Epoch: [10][800/1505] Data 0.000 (0.001) Elapsed 17m 33s (remain 15m 25s) Loss: 0.0794(0.1011) Grad: 1.4956  \n",
      "Epoch: [10][900/1505] Data 0.000 (0.001) Elapsed 19m 44s (remain 13m 14s) Loss: 0.1230(0.1012) Grad: 1.9701  \n",
      "Epoch: [10][1000/1505] Data 0.000 (0.001) Elapsed 21m 56s (remain 11m 2s) Loss: 0.0886(0.1012) Grad: 1.2808  \n",
      "Epoch: [10][1100/1505] Data 0.000 (0.001) Elapsed 24m 7s (remain 8m 51s) Loss: 0.1192(0.1019) Grad: 1.4329  \n",
      "Epoch: [10][1200/1505] Data 0.000 (0.001) Elapsed 26m 19s (remain 6m 39s) Loss: 0.1968(0.1027) Grad: 0.8554  \n",
      "Epoch: [10][1300/1505] Data 0.000 (0.001) Elapsed 28m 30s (remain 4m 28s) Loss: 0.4050(0.1026) Grad: 2.7720  \n",
      "Epoch: [10][1400/1505] Data 0.000 (0.000) Elapsed 30m 42s (remain 2m 16s) Loss: 0.0176(0.1022) Grad: 0.7425  \n",
      "Epoch: [10][1500/1505] Data 0.000 (0.000) Elapsed 32m 53s (remain 0m 5s) Loss: 0.0486(0.1025) Grad: 1.5379  \n",
      "Epoch: [10][1504/1505] Data 0.000 (0.000) Elapsed 32m 58s (remain 0m 0s) Loss: 0.0973(0.1025) Grad: 1.5031  \n",
      "EVAL: [0/377] Data 0.495 (0.495) Elapsed 0m 0s (remain 5m 22s) Loss: 0.0615(0.0615) \n",
      "EVAL: [100/377] Data 0.000 (0.005) Elapsed 0m 35s (remain 1m 36s) Loss: 0.1745(0.1069) \n",
      "EVAL: [200/377] Data 0.000 (0.003) Elapsed 1m 9s (remain 1m 0s) Loss: 0.1031(0.1084) \n",
      "EVAL: [300/377] Data 0.000 (0.002) Elapsed 1m 43s (remain 0m 26s) Loss: 0.1283(0.1059) \n"
     ]
    },
    {
     "name": "stderr",
     "output_type": "stream",
     "text": [
      "Epoch 10 - avg_train_loss: 0.1025  avg_val_loss: 0.1054  time: 2109s\n",
      "Epoch 10 - Accuracy: 0.8855135750901841\n",
      "Epoch 10 - Save Best Score: 0.8855 Model\n"
     ]
    },
    {
     "name": "stdout",
     "output_type": "stream",
     "text": [
      "EVAL: [376/377] Data 0.000 (0.001) Elapsed 2m 9s (remain 0m 0s) Loss: 0.0452(0.1054) \n"
     ]
    },
    {
     "name": "stderr",
     "output_type": "stream",
     "text": [
      "========== fold: 4 result ==========\n",
      "Score: 0.88551\n",
      "========== CV ==========\n",
      "Score: 0.88772\n"
     ]
    }
   ],
   "source": [
    "if __name__ == \"__main__\":\n",
    "    main()"
   ]
  }
 ],
 "metadata": {
  "kernelspec": {
   "display_name": "pytorch",
   "language": "python",
   "name": "pytorch"
  },
  "language_info": {
   "codemirror_mode": {
    "name": "ipython",
    "version": 3
   },
   "file_extension": ".py",
   "mimetype": "text/x-python",
   "name": "python",
   "nbconvert_exporter": "python",
   "pygments_lexer": "ipython3",
   "version": "3.7.8"
  }
 },
 "nbformat": 4,
 "nbformat_minor": 4
}
