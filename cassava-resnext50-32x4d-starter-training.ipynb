{
 "cells": [
  {
   "cell_type": "markdown",
   "metadata": {},
   "source": [
    "# About this notebook  \n",
    "- PyTorch resnext50_32x4d starter code  \n",
    "- StratifiedKFold 5 folds  \n",
    "\n",
    "If this notebook is helpful, feel free to upvote :)"
   ]
  },
  {
   "cell_type": "code",
   "execution_count": 1,
   "metadata": {},
   "outputs": [],
   "source": [
    "import os\n",
    "\n",
    "if os.environ.get(\"KAGGLE_KERNEL_RUN_TYPE\") is None:\n",
    "    ON_KAGGLE = False\n",
    "else:\n",
    "    ON_KAGGLE = True"
   ]
  },
  {
   "cell_type": "markdown",
   "metadata": {},
   "source": [
    "# Data Loading"
   ]
  },
  {
   "cell_type": "code",
   "execution_count": 2,
   "metadata": {},
   "outputs": [],
   "source": [
    "import os\n",
    "\n",
    "import pandas as pd\n",
    "import seaborn as sns\n",
    "from matplotlib import pyplot as plt"
   ]
  },
  {
   "cell_type": "code",
   "execution_count": 3,
   "metadata": {},
   "outputs": [
    {
     "data": {
      "text/plain": [
       "['label_num_to_disease_map.json',\n",
       " 'sample_submission.csv',\n",
       " 'train_tfrecords',\n",
       " 'test_tfrecords',\n",
       " 'test_images',\n",
       " 'train_images',\n",
       " 'train.csv']"
      ]
     },
     "execution_count": 3,
     "metadata": {},
     "output_type": "execute_result"
    }
   ],
   "source": [
    "os.listdir(\"../input/cassava-leaf-disease-classification\")"
   ]
  },
  {
   "cell_type": "code",
   "execution_count": 4,
   "metadata": {},
   "outputs": [
    {
     "data": {
      "text/html": [
       "<div>\n",
       "<style scoped>\n",
       "    .dataframe tbody tr th:only-of-type {\n",
       "        vertical-align: middle;\n",
       "    }\n",
       "\n",
       "    .dataframe tbody tr th {\n",
       "        vertical-align: top;\n",
       "    }\n",
       "\n",
       "    .dataframe thead th {\n",
       "        text-align: right;\n",
       "    }\n",
       "</style>\n",
       "<table border=\"1\" class=\"dataframe\">\n",
       "  <thead>\n",
       "    <tr style=\"text-align: right;\">\n",
       "      <th></th>\n",
       "      <th>image_id</th>\n",
       "      <th>label</th>\n",
       "      <th>source</th>\n",
       "    </tr>\n",
       "  </thead>\n",
       "  <tbody>\n",
       "    <tr>\n",
       "      <th>0</th>\n",
       "      <td>1000015157.jpg</td>\n",
       "      <td>0</td>\n",
       "      <td>2020</td>\n",
       "    </tr>\n",
       "    <tr>\n",
       "      <th>1</th>\n",
       "      <td>1000201771.jpg</td>\n",
       "      <td>3</td>\n",
       "      <td>2020</td>\n",
       "    </tr>\n",
       "    <tr>\n",
       "      <th>2</th>\n",
       "      <td>100042118.jpg</td>\n",
       "      <td>1</td>\n",
       "      <td>2020</td>\n",
       "    </tr>\n",
       "    <tr>\n",
       "      <th>3</th>\n",
       "      <td>1000723321.jpg</td>\n",
       "      <td>1</td>\n",
       "      <td>2020</td>\n",
       "    </tr>\n",
       "    <tr>\n",
       "      <th>4</th>\n",
       "      <td>1000812911.jpg</td>\n",
       "      <td>3</td>\n",
       "      <td>2020</td>\n",
       "    </tr>\n",
       "  </tbody>\n",
       "</table>\n",
       "</div>"
      ],
      "text/plain": [
       "         image_id  label  source\n",
       "0  1000015157.jpg      0    2020\n",
       "1  1000201771.jpg      3    2020\n",
       "2   100042118.jpg      1    2020\n",
       "3  1000723321.jpg      1    2020\n",
       "4  1000812911.jpg      3    2020"
      ]
     },
     "metadata": {},
     "output_type": "display_data"
    },
    {
     "data": {
      "text/html": [
       "<div>\n",
       "<style scoped>\n",
       "    .dataframe tbody tr th:only-of-type {\n",
       "        vertical-align: middle;\n",
       "    }\n",
       "\n",
       "    .dataframe tbody tr th {\n",
       "        vertical-align: top;\n",
       "    }\n",
       "\n",
       "    .dataframe thead th {\n",
       "        text-align: right;\n",
       "    }\n",
       "</style>\n",
       "<table border=\"1\" class=\"dataframe\">\n",
       "  <thead>\n",
       "    <tr style=\"text-align: right;\">\n",
       "      <th></th>\n",
       "      <th>image_id</th>\n",
       "      <th>label</th>\n",
       "    </tr>\n",
       "  </thead>\n",
       "  <tbody>\n",
       "    <tr>\n",
       "      <th>0</th>\n",
       "      <td>2216849948.jpg</td>\n",
       "      <td>4</td>\n",
       "    </tr>\n",
       "  </tbody>\n",
       "</table>\n",
       "</div>"
      ],
      "text/plain": [
       "         image_id  label\n",
       "0  2216849948.jpg      4"
      ]
     },
     "metadata": {},
     "output_type": "display_data"
    },
    {
     "data": {
      "text/html": [
       "<div>\n",
       "<style scoped>\n",
       "    .dataframe tbody tr th:only-of-type {\n",
       "        vertical-align: middle;\n",
       "    }\n",
       "\n",
       "    .dataframe tbody tr th {\n",
       "        vertical-align: top;\n",
       "    }\n",
       "\n",
       "    .dataframe thead th {\n",
       "        text-align: right;\n",
       "    }\n",
       "</style>\n",
       "<table border=\"1\" class=\"dataframe\">\n",
       "  <thead>\n",
       "    <tr style=\"text-align: right;\">\n",
       "      <th></th>\n",
       "      <th>0</th>\n",
       "    </tr>\n",
       "  </thead>\n",
       "  <tbody>\n",
       "    <tr>\n",
       "      <th>0</th>\n",
       "      <td>Cassava Bacterial Blight (CBB)</td>\n",
       "    </tr>\n",
       "    <tr>\n",
       "      <th>1</th>\n",
       "      <td>Cassava Brown Streak Disease (CBSD)</td>\n",
       "    </tr>\n",
       "    <tr>\n",
       "      <th>2</th>\n",
       "      <td>Cassava Green Mottle (CGM)</td>\n",
       "    </tr>\n",
       "    <tr>\n",
       "      <th>3</th>\n",
       "      <td>Cassava Mosaic Disease (CMD)</td>\n",
       "    </tr>\n",
       "    <tr>\n",
       "      <th>4</th>\n",
       "      <td>Healthy</td>\n",
       "    </tr>\n",
       "  </tbody>\n",
       "</table>\n",
       "</div>"
      ],
      "text/plain": [
       "                                     0\n",
       "0       Cassava Bacterial Blight (CBB)\n",
       "1  Cassava Brown Streak Disease (CBSD)\n",
       "2           Cassava Green Mottle (CGM)\n",
       "3         Cassava Mosaic Disease (CMD)\n",
       "4                              Healthy"
      ]
     },
     "metadata": {},
     "output_type": "display_data"
    }
   ],
   "source": [
    "# train = pd.read_csv(\"../input/cassava-leaf-disease-classification/train.csv\")\n",
    "train = pd.read_csv(\"../input/cassava-leaf-disease-merged/merged.csv\")\n",
    "test = pd.read_csv(\"../input/cassava-leaf-disease-classification/sample_submission.csv\")\n",
    "label_map = pd.read_json(\"../input/cassava-leaf-disease-classification/label_num_to_disease_map.json\", orient=\"index\")\n",
    "display(train.head())\n",
    "display(test.head())\n",
    "display(label_map)"
   ]
  },
  {
   "cell_type": "code",
   "execution_count": 5,
   "metadata": {},
   "outputs": [
    {
     "name": "stderr",
     "output_type": "stream",
     "text": [
      "/home/ubuntu/work/pytorch/.venv/lib/python3.7/site-packages/seaborn/distributions.py:2551: FutureWarning: `distplot` is a deprecated function and will be removed in a future version. Please adapt your code to use either `displot` (a figure-level function with similar flexibility) or `histplot` (an axes-level function for histograms).\n",
      "  warnings.warn(msg, FutureWarning)\n"
     ]
    },
    {
     "data": {
      "text/plain": [
       "<AxesSubplot:xlabel='label'>"
      ]
     },
     "execution_count": 5,
     "metadata": {},
     "output_type": "execute_result"
    },
    {
     "data": {
      "image/png": "[encoded data removed]",
      "text/plain": [
       "<Figure size 432x288 with 1 Axes>"
      ]
     },
     "metadata": {
      "needs_background": "light"
     },
     "output_type": "display_data"
    }
   ],
   "source": [
    "sns.distplot(train[\"label\"], kde=False)"
   ]
  },
  {
   "cell_type": "markdown",
   "metadata": {},
   "source": [
    "# Directory settings"
   ]
  },
  {
   "cell_type": "code",
   "execution_count": 6,
   "metadata": {},
   "outputs": [],
   "source": [
    "# ====================================================\n",
    "# Directory settings\n",
    "# ====================================================\n",
    "import os\n",
    "\n",
    "OUTPUT_DIR = \"./\"\n",
    "if not os.path.exists(OUTPUT_DIR):\n",
    "    os.makedirs(OUTPUT_DIR)\n",
    "\n",
    "# TRAIN_PATH = \"../input/cassava-leaf-disease-classification/train_images\"\n",
    "TRAIN_PATH = \"../input/cassava-leaf-disease-merged/train\"\n",
    "TEST_PATH = \"../input/cassava-leaf-disease-classification/test_images\""
   ]
  },
  {
   "cell_type": "markdown",
   "metadata": {},
   "source": [
    "# CFG"
   ]
  },
  {
   "cell_type": "code",
   "execution_count": 7,
   "metadata": {},
   "outputs": [],
   "source": [
    "# ====================================================\n",
    "# CFG\n",
    "# ====================================================\n",
    "class CFG:\n",
    "    debug = False\n",
    "    apex = False\n",
    "    print_freq = 100\n",
    "    num_workers = 4\n",
    "    model_name = \"resnext50_32x4d\"\n",
    "    size = 384  # 512 if ON_KAGGLE else 384\n",
    "    criterion = \"BiTemperedLoss\"  # ['CrossEntropyLoss', 'BiTemperedLoss']\n",
    "    btl_t1 = 0.3  # Bi-Tempered Logistic Loss\n",
    "    btl_t2 = 1.0\n",
    "    label_smoothing = 0.05\n",
    "    scheduler = (\n",
    "        \"CosineAnnealingWarmRestarts\"  # ['ReduceLROnPlateau', 'CosineAnnealingLR', 'CosineAnnealingWarmRestarts']\n",
    "    )\n",
    "    epochs = 10\n",
    "    # factor=0.2 # ReduceLROnPlateau\n",
    "    # patience=4 # ReduceLROnPlateau\n",
    "    # eps=1e-6 # ReduceLROnPlateau\n",
    "    # T_max=10 # CosineAnnealingLR\n",
    "    T_0 = 10  # CosineAnnealingWarmRestarts\n",
    "    lr = 1e-4\n",
    "    min_lr = 1e-6\n",
    "    batch_size = 24\n",
    "    weight_decay = 1e-6\n",
    "    gradient_accumulation_steps = 1\n",
    "    max_grad_norm = 1000\n",
    "    seed = 22\n",
    "    target_size = 5\n",
    "    target_col = \"label\"\n",
    "    n_fold = 5\n",
    "    trn_fold = [0, 1, 2, 3, 4]\n",
    "    train = True\n",
    "    inference = False\n",
    "\n",
    "\n",
    "if CFG.debug:\n",
    "    CFG.epochs = 1\n",
    "    train = train.sample(n=1000, random_state=CFG.seed).reset_index(drop=True)"
   ]
  },
  {
   "cell_type": "markdown",
   "metadata": {},
   "source": [
    "# Library"
   ]
  },
  {
   "cell_type": "code",
   "execution_count": 8,
   "metadata": {},
   "outputs": [],
   "source": [
    "# ====================================================\n",
    "# Library\n",
    "# ====================================================\n",
    "import sys\n",
    "\n",
    "sys.path.append(\"../input/pytorch-image-models/pytorch-image-models-master\")\n",
    "sys.path.append(\"../input/bitemperedlogloss/\")\n",
    "\n",
    "import math\n",
    "import os\n",
    "import random\n",
    "import shutil\n",
    "import time\n",
    "import warnings\n",
    "from collections import Counter, defaultdict\n",
    "from contextlib import contextmanager\n",
    "from functools import partial\n",
    "from pathlib import Path\n",
    "\n",
    "import bi_tempered_loss_pytorch as btl\n",
    "import cv2\n",
    "import numpy as np\n",
    "import pandas as pd\n",
    "import scipy as sp\n",
    "import timm\n",
    "import torch\n",
    "import torch.nn as nn\n",
    "import torch.nn.functional as F\n",
    "import torchvision.models as models\n",
    "from albumentations import (\n",
    "    Compose,\n",
    "    Cutout,\n",
    "    HorizontalFlip,\n",
    "    IAAAdditiveGaussianNoise,\n",
    "    ImageOnlyTransform,\n",
    "    Normalize,\n",
    "    OneOf,\n",
    "    RandomBrightness,\n",
    "    RandomBrightnessContrast,\n",
    "    RandomContrast,\n",
    "    RandomCrop,\n",
    "    RandomResizedCrop,\n",
    "    Resize,\n",
    "    Rotate,\n",
    "    ShiftScaleRotate,\n",
    "    Transpose,\n",
    "    VerticalFlip,\n",
    ")\n",
    "from albumentations.pytorch import ToTensorV2\n",
    "from PIL import Image\n",
    "from sklearn import preprocessing\n",
    "from sklearn.metrics import accuracy_score\n",
    "from sklearn.model_selection import StratifiedKFold\n",
    "from torch.nn.parameter import Parameter\n",
    "from torch.optim import SGD, Adam\n",
    "from torch.optim.lr_scheduler import CosineAnnealingLR, CosineAnnealingWarmRestarts, ReduceLROnPlateau\n",
    "from torch.utils.data import DataLoader, Dataset\n",
    "from tqdm.auto import tqdm\n",
    "\n",
    "warnings.filterwarnings(\"ignore\")\n",
    "\n",
    "if CFG.apex:\n",
    "    from apex import amp\n",
    "\n",
    "device = torch.device(\"cuda\" if torch.cuda.is_available() else \"cpu\")"
   ]
  },
  {
   "cell_type": "markdown",
   "metadata": {},
   "source": [
    "# Utils"
   ]
  },
  {
   "cell_type": "code",
   "execution_count": 9,
   "metadata": {},
   "outputs": [],
   "source": [
    "# ====================================================\n",
    "# Utils\n",
    "# ====================================================\n",
    "def get_score(y_true, y_pred):\n",
    "    return accuracy_score(y_true, y_pred)\n",
    "\n",
    "\n",
    "@contextmanager\n",
    "def timer(name):\n",
    "    t0 = time.time()\n",
    "    LOGGER.info(f\"[{name}] start\")\n",
    "    yield\n",
    "    LOGGER.info(f\"[{name}] done in {time.time() - t0:.0f} s.\")\n",
    "\n",
    "\n",
    "def init_logger(log_file=OUTPUT_DIR + \"train.log\"):\n",
    "    from logging import INFO, FileHandler, Formatter, StreamHandler, getLogger\n",
    "\n",
    "    logger = getLogger(__name__)\n",
    "    logger.setLevel(INFO)\n",
    "    handler1 = StreamHandler()\n",
    "    handler1.setFormatter(Formatter(\"%(message)s\"))\n",
    "    handler2 = FileHandler(filename=log_file)\n",
    "    handler2.setFormatter(Formatter(\"%(message)s\"))\n",
    "    logger.addHandler(handler1)\n",
    "    logger.addHandler(handler2)\n",
    "    return logger\n",
    "\n",
    "\n",
    "LOGGER = init_logger()\n",
    "\n",
    "\n",
    "def seed_torch(seed=42):\n",
    "    random.seed(seed)\n",
    "    os.environ[\"PYTHONHASHSEED\"] = str(seed)\n",
    "    np.random.seed(seed)\n",
    "    torch.manual_seed(seed)\n",
    "    torch.cuda.manual_seed(seed)\n",
    "    torch.backends.cudnn.deterministic = True\n",
    "\n",
    "\n",
    "seed_torch(seed=CFG.seed)"
   ]
  },
  {
   "cell_type": "markdown",
   "metadata": {},
   "source": [
    "# CV split"
   ]
  },
  {
   "cell_type": "code",
   "execution_count": 10,
   "metadata": {},
   "outputs": [
    {
     "name": "stdout",
     "output_type": "stream",
     "text": [
      "fold  label\n",
      "0     0         299\n",
      "      1         695\n",
      "      2         604\n",
      "      3        3092\n",
      "      4         578\n",
      "1     0         299\n",
      "      1         695\n",
      "      2         604\n",
      "      3        3092\n",
      "      4         578\n",
      "2     0         298\n",
      "      1         695\n",
      "      2         603\n",
      "      3        3093\n",
      "      4         578\n",
      "3     0         298\n",
      "      1         695\n",
      "      2         603\n",
      "      3        3093\n",
      "      4         578\n",
      "4     0         298\n",
      "      1         696\n",
      "      2         603\n",
      "      3        3092\n",
      "      4         578\n",
      "dtype: int64\n"
     ]
    }
   ],
   "source": [
    "folds = train.copy()\n",
    "Fold = StratifiedKFold(n_splits=CFG.n_fold, shuffle=True, random_state=CFG.seed)\n",
    "for n, (train_index, val_index) in enumerate(Fold.split(folds, folds[CFG.target_col])):\n",
    "    folds.loc[val_index, \"fold\"] = int(n)\n",
    "folds[\"fold\"] = folds[\"fold\"].astype(int)\n",
    "print(folds.groupby([\"fold\", CFG.target_col]).size())"
   ]
  },
  {
   "cell_type": "markdown",
   "metadata": {},
   "source": [
    "# Dataset"
   ]
  },
  {
   "cell_type": "code",
   "execution_count": 11,
   "metadata": {},
   "outputs": [],
   "source": [
    "# ====================================================\n",
    "# Dataset\n",
    "# ====================================================\n",
    "class TrainDataset(Dataset):\n",
    "    def __init__(self, df, transform=None):\n",
    "        self.df = df\n",
    "        self.file_names = df[\"image_id\"].values\n",
    "        self.labels = df[\"label\"].values\n",
    "        self.transform = transform\n",
    "\n",
    "    def __len__(self):\n",
    "        return len(self.df)\n",
    "\n",
    "    def __getitem__(self, idx):\n",
    "        file_name = self.file_names[idx]\n",
    "        file_path = f\"{TRAIN_PATH}/{file_name}\"\n",
    "        image = cv2.imread(file_path)\n",
    "        image = cv2.cvtColor(image, cv2.COLOR_BGR2RGB)\n",
    "        if self.transform:\n",
    "            augmented = self.transform(image=image)\n",
    "            image = augmented[\"image\"]\n",
    "        label = torch.tensor(self.labels[idx]).long()\n",
    "        return image, label\n",
    "\n",
    "\n",
    "class TestDataset(Dataset):\n",
    "    def __init__(self, df, transform=None):\n",
    "        self.df = df\n",
    "        self.file_names = df[\"image_id\"].values\n",
    "        self.transform = transform\n",
    "\n",
    "    def __len__(self):\n",
    "        return len(self.df)\n",
    "\n",
    "    def __getitem__(self, idx):\n",
    "        file_name = self.file_names[idx]\n",
    "        file_path = f\"{TEST_PATH}/{file_name}\"\n",
    "        image = cv2.imread(file_path)\n",
    "        image = cv2.cvtColor(image, cv2.COLOR_BGR2RGB)\n",
    "        if self.transform:\n",
    "            augmented = self.transform(image=image)\n",
    "            image = augmented[\"image\"]\n",
    "        return image"
   ]
  },
  {
   "cell_type": "code",
   "execution_count": 12,
   "metadata": {},
   "outputs": [
    {
     "data": {
      "image/png": "[encoded data removed]",
      "text/plain": [
       "<Figure size 432x288 with 1 Axes>"
      ]
     },
     "metadata": {
      "needs_background": "light"
     },
     "output_type": "display_data"
    }
   ],
   "source": [
    "train_dataset = TrainDataset(train, transform=None)\n",
    "\n",
    "for i in range(1):\n",
    "    image, label = train_dataset[i]\n",
    "    plt.imshow(image)\n",
    "    plt.title(f\"label: {label}\")\n",
    "    plt.show()"
   ]
  },
  {
   "cell_type": "markdown",
   "metadata": {},
   "source": [
    "# Transforms"
   ]
  },
  {
   "cell_type": "code",
   "execution_count": 13,
   "metadata": {},
   "outputs": [],
   "source": [
    "# ====================================================\n",
    "# Transforms\n",
    "# ====================================================\n",
    "def get_transforms(*, data):\n",
    "\n",
    "    if data == \"train\":\n",
    "        return Compose(\n",
    "            [\n",
    "                # Resize(CFG.size, CFG.size),\n",
    "                RandomResizedCrop(CFG.size, CFG.size),\n",
    "                Transpose(p=0.5),\n",
    "                HorizontalFlip(p=0.5),\n",
    "                VerticalFlip(p=0.5),\n",
    "                ShiftScaleRotate(p=0.5),\n",
    "                Normalize(\n",
    "                    mean=[0.485, 0.456, 0.406],\n",
    "                    std=[0.229, 0.224, 0.225],\n",
    "                ),\n",
    "                ToTensorV2(),\n",
    "            ]\n",
    "        )\n",
    "\n",
    "    elif data == \"valid\":\n",
    "        return Compose(\n",
    "            [\n",
    "                Resize(CFG.size, CFG.size),\n",
    "                Normalize(\n",
    "                    mean=[0.485, 0.456, 0.406],\n",
    "                    std=[0.229, 0.224, 0.225],\n",
    "                ),\n",
    "                ToTensorV2(),\n",
    "            ]\n",
    "        )"
   ]
  },
  {
   "cell_type": "code",
   "execution_count": 14,
   "metadata": {},
   "outputs": [
    {
     "data": {
      "image/png": "[encoded data removed]",
      "text/plain": [
       "<Figure size 432x288 with 1 Axes>"
      ]
     },
     "metadata": {
      "needs_background": "light"
     },
     "output_type": "display_data"
    }
   ],
   "source": [
    "train_dataset = TrainDataset(train, transform=get_transforms(data=\"train\"))\n",
    "\n",
    "for i in range(1):\n",
    "    image, label = train_dataset[i]\n",
    "    plt.imshow(image[0])\n",
    "    plt.title(f\"label: {label}\")\n",
    "    plt.show()"
   ]
  },
  {
   "cell_type": "markdown",
   "metadata": {},
   "source": [
    "# MODEL"
   ]
  },
  {
   "cell_type": "code",
   "execution_count": 15,
   "metadata": {},
   "outputs": [],
   "source": [
    "# ====================================================\n",
    "# MODEL\n",
    "# ====================================================\n",
    "class CustomResNext(nn.Module):\n",
    "    def __init__(self, model_name=\"resnext50_32x4d\", pretrained=False):\n",
    "        super().__init__()\n",
    "        self.model = timm.create_model(model_name, pretrained=pretrained)\n",
    "        n_features = self.model.fc.in_features\n",
    "        self.model.fc = nn.Linear(n_features, CFG.target_size)\n",
    "\n",
    "    def forward(self, x):\n",
    "        x = self.model(x)\n",
    "        return x"
   ]
  },
  {
   "cell_type": "code",
   "execution_count": 16,
   "metadata": {},
   "outputs": [
    {
     "name": "stdout",
     "output_type": "stream",
     "text": [
      "tensor([[ 0.1431,  0.0153,  0.0244,  0.0381, -0.3684],\n",
      "        [ 0.1256,  0.1112, -0.0494, -0.0359, -0.5083],\n",
      "        [ 0.1774,  0.0931,  0.1443,  0.1434, -0.1211],\n",
      "        [ 0.2822,  0.0414,  0.1201, -0.0730, -0.1520]],\n",
      "       grad_fn=<AddmmBackward>)\n"
     ]
    }
   ],
   "source": [
    "model = CustomResNext(model_name=CFG.model_name, pretrained=False)\n",
    "train_dataset = TrainDataset(train, transform=get_transforms(data=\"train\"))\n",
    "train_loader = DataLoader(train_dataset, batch_size=4, shuffle=True, num_workers=4, pin_memory=True, drop_last=True)\n",
    "\n",
    "for image, label in train_loader:\n",
    "    output = model(image)\n",
    "    print(output)\n",
    "    break"
   ]
  },
  {
   "cell_type": "markdown",
   "metadata": {},
   "source": [
    "# Loss functions"
   ]
  },
  {
   "cell_type": "code",
   "execution_count": 17,
   "metadata": {},
   "outputs": [],
   "source": [
    "class BiTemperedLogisticLoss(nn.Module):\n",
    "    def __init__(self, t1, t2, smoothing=0.0):\n",
    "        super(BiTemperedLogisticLoss, self).__init__()\n",
    "        self.t1 = t1\n",
    "        self.t2 = t2\n",
    "        self.smoothing = smoothing\n",
    "\n",
    "    def forward(self, logit_label, truth_label):\n",
    "        loss_label = btl.bi_tempered_logistic_loss(\n",
    "            logit_label, truth_label, t1=self.t1, t2=self.t2, label_smoothing=self.smoothing, reduction=\"none\"\n",
    "        )\n",
    "\n",
    "        loss_label = loss_label.mean()\n",
    "        return loss_label"
   ]
  },
  {
   "cell_type": "markdown",
   "metadata": {},
   "source": [
    "# Helper functions"
   ]
  },
  {
   "cell_type": "code",
   "execution_count": 18,
   "metadata": {},
   "outputs": [],
   "source": [
    "# ====================================================\n",
    "# Helper functions\n",
    "# ====================================================\n",
    "class AverageMeter(object):\n",
    "    \"\"\"Computes and stores the average and current value\"\"\"\n",
    "\n",
    "    def __init__(self):\n",
    "        self.reset()\n",
    "\n",
    "    def reset(self):\n",
    "        self.val = 0\n",
    "        self.avg = 0\n",
    "        self.sum = 0\n",
    "        self.count = 0\n",
    "\n",
    "    def update(self, val, n=1):\n",
    "        self.val = val\n",
    "        self.sum += val * n\n",
    "        self.count += n\n",
    "        self.avg = self.sum / self.count\n",
    "\n",
    "\n",
    "def asMinutes(s):\n",
    "    m = math.floor(s / 60)\n",
    "    s -= m * 60\n",
    "    return \"%dm %ds\" % (m, s)\n",
    "\n",
    "\n",
    "def timeSince(since, percent):\n",
    "    now = time.time()\n",
    "    s = now - since\n",
    "    es = s / (percent)\n",
    "    rs = es - s\n",
    "    return \"%s (remain %s)\" % (asMinutes(s), asMinutes(rs))\n",
    "\n",
    "\n",
    "def train_fn(train_loader, model, criterion, optimizer, epoch, scheduler, device):\n",
    "    batch_time = AverageMeter()\n",
    "    data_time = AverageMeter()\n",
    "    losses = AverageMeter()\n",
    "    scores = AverageMeter()\n",
    "    # switch to train mode\n",
    "    model.train()\n",
    "    start = end = time.time()\n",
    "    global_step = 0\n",
    "    for step, (images, labels) in enumerate(train_loader):\n",
    "        # measure data loading time\n",
    "        data_time.update(time.time() - end)\n",
    "        images = images.to(device)\n",
    "        labels = labels.to(device)\n",
    "        batch_size = labels.size(0)\n",
    "        y_preds = model(images)\n",
    "        loss = criterion(y_preds, labels)\n",
    "        # record loss\n",
    "        losses.update(loss.item(), batch_size)\n",
    "        if CFG.gradient_accumulation_steps > 1:\n",
    "            loss = loss / CFG.gradient_accumulation_steps\n",
    "        if CFG.apex:\n",
    "            with amp.scale_loss(loss, optimizer) as scaled_loss:\n",
    "                scaled_loss.backward()\n",
    "        else:\n",
    "            loss.backward()\n",
    "        grad_norm = torch.nn.utils.clip_grad_norm_(model.parameters(), CFG.max_grad_norm)\n",
    "        if (step + 1) % CFG.gradient_accumulation_steps == 0:\n",
    "            optimizer.step()\n",
    "            optimizer.zero_grad()\n",
    "            global_step += 1\n",
    "        # measure elapsed time\n",
    "        batch_time.update(time.time() - end)\n",
    "        end = time.time()\n",
    "        if step % CFG.print_freq == 0 or step == (len(train_loader) - 1):\n",
    "            print(\n",
    "                \"Epoch: [{0}][{1}/{2}] \"\n",
    "                \"Data {data_time.val:.3f} ({data_time.avg:.3f}) \"\n",
    "                \"Elapsed {remain:s} \"\n",
    "                \"Loss: {loss.val:.4f}({loss.avg:.4f}) \"\n",
    "                \"Grad: {grad_norm:.4f}  \"\n",
    "                #'LR: {lr:.6f}  '\n",
    "                .format(\n",
    "                    epoch + 1,\n",
    "                    step,\n",
    "                    len(train_loader),\n",
    "                    batch_time=batch_time,\n",
    "                    data_time=data_time,\n",
    "                    loss=losses,\n",
    "                    remain=timeSince(start, float(step + 1) / len(train_loader)),\n",
    "                    grad_norm=grad_norm,\n",
    "                    # lr=scheduler.get_lr()[0],\n",
    "                )\n",
    "            )\n",
    "    return losses.avg\n",
    "\n",
    "\n",
    "def valid_fn(valid_loader, model, criterion, device):\n",
    "    batch_time = AverageMeter()\n",
    "    data_time = AverageMeter()\n",
    "    losses = AverageMeter()\n",
    "    scores = AverageMeter()\n",
    "    # switch to evaluation mode\n",
    "    model.eval()\n",
    "    preds = []\n",
    "    start = end = time.time()\n",
    "    for step, (images, labels) in enumerate(valid_loader):\n",
    "        # measure data loading time\n",
    "        data_time.update(time.time() - end)\n",
    "        images = images.to(device)\n",
    "        labels = labels.to(device)\n",
    "        batch_size = labels.size(0)\n",
    "        # compute loss\n",
    "        with torch.no_grad():\n",
    "            y_preds = model(images)\n",
    "        loss = criterion(y_preds, labels)\n",
    "        losses.update(loss.item(), batch_size)\n",
    "        # record accuracy\n",
    "        preds.append(y_preds.softmax(1).to(\"cpu\").numpy())\n",
    "        if CFG.gradient_accumulation_steps > 1:\n",
    "            loss = loss / CFG.gradient_accumulation_steps\n",
    "        # measure elapsed time\n",
    "        batch_time.update(time.time() - end)\n",
    "        end = time.time()\n",
    "        if step % CFG.print_freq == 0 or step == (len(valid_loader) - 1):\n",
    "            print(\n",
    "                \"EVAL: [{0}/{1}] \"\n",
    "                \"Data {data_time.val:.3f} ({data_time.avg:.3f}) \"\n",
    "                \"Elapsed {remain:s} \"\n",
    "                \"Loss: {loss.val:.4f}({loss.avg:.4f}) \".format(\n",
    "                    step,\n",
    "                    len(valid_loader),\n",
    "                    batch_time=batch_time,\n",
    "                    data_time=data_time,\n",
    "                    loss=losses,\n",
    "                    remain=timeSince(start, float(step + 1) / len(valid_loader)),\n",
    "                )\n",
    "            )\n",
    "    predictions = np.concatenate(preds)\n",
    "    return losses.avg, predictions\n",
    "\n",
    "\n",
    "def inference(model, states, test_loader, device):\n",
    "    model.to(device)\n",
    "    tk0 = tqdm(enumerate(test_loader), total=len(test_loader))\n",
    "    probs = []\n",
    "    for i, (images) in tk0:\n",
    "        images = images.to(device)\n",
    "        avg_preds = []\n",
    "        for state in states:\n",
    "            model.load_state_dict(state[\"model\"])\n",
    "            model.eval()\n",
    "            with torch.no_grad():\n",
    "                y_preds = model(images)\n",
    "            avg_preds.append(y_preds.softmax(1).to(\"cpu\").numpy())\n",
    "        avg_preds = np.mean(avg_preds, axis=0)\n",
    "        probs.append(avg_preds)\n",
    "    probs = np.concatenate(probs)\n",
    "    return probs"
   ]
  },
  {
   "cell_type": "markdown",
   "metadata": {},
   "source": [
    "# Train loop"
   ]
  },
  {
   "cell_type": "code",
   "execution_count": 19,
   "metadata": {
    "_cell_guid": "b1076dfc-b9ad-4769-8c92-a6c4dae69d19",
    "_uuid": "8f2839f25d086af736a60e9eeb907d3b93b6e0e5"
   },
   "outputs": [],
   "source": [
    "# ====================================================\n",
    "# Train loop\n",
    "# ====================================================\n",
    "def train_loop(folds, fold):\n",
    "\n",
    "    LOGGER.info(f\"========== fold: {fold} training ==========\")\n",
    "\n",
    "    # ====================================================\n",
    "    # loader\n",
    "    # ====================================================\n",
    "    trn_idx = folds[folds[\"fold\"] != fold].index\n",
    "    val_idx = folds[folds[\"fold\"] == fold].index\n",
    "\n",
    "    train_folds = folds.loc[trn_idx].reset_index(drop=True)\n",
    "    valid_folds = folds.loc[val_idx].reset_index(drop=True)\n",
    "\n",
    "    train_dataset = TrainDataset(train_folds, transform=get_transforms(data=\"train\"))\n",
    "    valid_dataset = TrainDataset(valid_folds, transform=get_transforms(data=\"valid\"))\n",
    "\n",
    "    train_loader = DataLoader(\n",
    "        train_dataset,\n",
    "        batch_size=CFG.batch_size,\n",
    "        shuffle=True,\n",
    "        num_workers=CFG.num_workers,\n",
    "        pin_memory=True,\n",
    "        drop_last=True,\n",
    "    )\n",
    "    valid_loader = DataLoader(\n",
    "        valid_dataset,\n",
    "        batch_size=CFG.batch_size,\n",
    "        shuffle=False,\n",
    "        num_workers=CFG.num_workers,\n",
    "        pin_memory=True,\n",
    "        drop_last=False,\n",
    "    )\n",
    "\n",
    "    # ====================================================\n",
    "    # scheduler\n",
    "    # ====================================================\n",
    "    def get_scheduler(optimizer):\n",
    "        if CFG.scheduler == \"ReduceLROnPlateau\":\n",
    "            scheduler = ReduceLROnPlateau(\n",
    "                optimizer, mode=\"min\", factor=CFG.factor, patience=CFG.patience, verbose=True, eps=CFG.eps\n",
    "            )\n",
    "        elif CFG.scheduler == \"CosineAnnealingLR\":\n",
    "            scheduler = CosineAnnealingLR(optimizer, T_max=CFG.T_max, eta_min=CFG.min_lr, last_epoch=-1)\n",
    "        elif CFG.scheduler == \"CosineAnnealingWarmRestarts\":\n",
    "            scheduler = CosineAnnealingWarmRestarts(optimizer, T_0=CFG.T_0, T_mult=1, eta_min=CFG.min_lr, last_epoch=-1)\n",
    "        return scheduler\n",
    "\n",
    "    # ====================================================\n",
    "    # model & optimizer\n",
    "    # ====================================================\n",
    "    model = CustomResNext(CFG.model_name, pretrained=True)\n",
    "    model.to(device)\n",
    "\n",
    "    # Use multi GPU\n",
    "    if device == torch.device(\"cuda\"):\n",
    "        model = torch.nn.DataParallel(model)  # make parallel\n",
    "        # torch.backends.cudnn.benchmark=True\n",
    "\n",
    "    optimizer = Adam(model.parameters(), lr=CFG.lr, weight_decay=CFG.weight_decay, amsgrad=False)\n",
    "    scheduler = get_scheduler(optimizer)\n",
    "\n",
    "    # ====================================================\n",
    "    # apex\n",
    "    # ====================================================\n",
    "    if CFG.apex:\n",
    "        model, optimizer = amp.initialize(model, optimizer, opt_level=\"O1\", verbosity=0)\n",
    "\n",
    "    # ====================================================\n",
    "    # Criterion\n",
    "    # ====================================================\n",
    "    def get_criterion():\n",
    "        if CFG.criterion == \"CrossEntropyLoss\":\n",
    "            criterion = nn.CrossEntropyLoss()\n",
    "        elif CFG.criterion == \"BiTemperedLoss\":\n",
    "            criterion = BiTemperedLogisticLoss(t1=CFG.btl_t1, t2=CFG.btl_t2, smoothing=CFG.label_smoothing)\n",
    "        return criterion\n",
    "\n",
    "    criterion = get_criterion()\n",
    "\n",
    "    # ====================================================\n",
    "    # loop\n",
    "    # ====================================================\n",
    "    best_score = 0.0\n",
    "    best_loss = np.inf\n",
    "\n",
    "    for epoch in range(CFG.epochs):\n",
    "\n",
    "        start_time = time.time()\n",
    "\n",
    "        # train\n",
    "        avg_loss = train_fn(train_loader, model, criterion, optimizer, epoch, scheduler, device)\n",
    "\n",
    "        # eval\n",
    "        avg_val_loss, preds = valid_fn(valid_loader, model, criterion, device)\n",
    "        valid_labels = valid_folds[CFG.target_col].values\n",
    "\n",
    "        if isinstance(scheduler, ReduceLROnPlateau):\n",
    "            scheduler.step(avg_val_loss)\n",
    "        elif isinstance(scheduler, CosineAnnealingLR):\n",
    "            scheduler.step()\n",
    "        elif isinstance(scheduler, CosineAnnealingWarmRestarts):\n",
    "            scheduler.step()\n",
    "\n",
    "        # scoring\n",
    "        score = get_score(valid_labels, preds.argmax(1))\n",
    "\n",
    "        elapsed = time.time() - start_time\n",
    "\n",
    "        LOGGER.info(\n",
    "            f\"Epoch {epoch+1} - avg_train_loss: {avg_loss:.4f}  avg_val_loss: {avg_val_loss:.4f}  time: {elapsed:.0f}s\"\n",
    "        )\n",
    "        LOGGER.info(f\"Epoch {epoch+1} - Accuracy: {score}\")\n",
    "\n",
    "        if score > best_score:\n",
    "            best_score = score\n",
    "            LOGGER.info(f\"Epoch {epoch+1} - Save Best Score: {best_score:.4f} Model\")\n",
    "            torch.save(\n",
    "                {\"model\": model.state_dict(), \"preds\": preds}, OUTPUT_DIR + f\"{CFG.model_name}_fold{fold}_best.pth\"\n",
    "            )\n",
    "\n",
    "    check_point = torch.load(OUTPUT_DIR + f\"{CFG.model_name}_fold{fold}_best.pth\")\n",
    "    valid_folds[[str(c) for c in range(5)]] = check_point[\"preds\"]\n",
    "    valid_folds[\"preds\"] = check_point[\"preds\"].argmax(1)\n",
    "\n",
    "    return valid_folds"
   ]
  },
  {
   "cell_type": "code",
   "execution_count": 20,
   "metadata": {},
   "outputs": [],
   "source": [
    "# ====================================================\n",
    "# main\n",
    "# ====================================================\n",
    "def main():\n",
    "\n",
    "    \"\"\"\n",
    "    Prepare: 1.train  2.test  3.submission  4.folds\n",
    "    \"\"\"\n",
    "\n",
    "    def get_result(result_df):\n",
    "        preds = result_df[\"preds\"].values\n",
    "        labels = result_df[CFG.target_col].values\n",
    "        score = get_score(labels, preds)\n",
    "        LOGGER.info(f\"Score: {score:<.5f}\")\n",
    "\n",
    "    if CFG.train:\n",
    "        # train\n",
    "        oof_df = pd.DataFrame()\n",
    "        for fold in range(CFG.n_fold):\n",
    "            if fold in CFG.trn_fold:\n",
    "                _oof_df = train_loop(folds, fold)\n",
    "                oof_df = pd.concat([oof_df, _oof_df])\n",
    "                LOGGER.info(f\"========== fold: {fold} result ==========\")\n",
    "                get_result(_oof_df)\n",
    "        # CV result\n",
    "        LOGGER.info(f\"========== CV ==========\")\n",
    "        get_result(oof_df)\n",
    "        # save result\n",
    "        oof_df.to_csv(OUTPUT_DIR + \"oof_df.csv\", index=False)\n",
    "\n",
    "    if CFG.inference:\n",
    "        # inference\n",
    "        model = CustomResNext(CFG.model_name, pretrained=False)\n",
    "        states = [torch.load(OUTPUT_DIR + f\"{CFG.model_name}_fold{fold}_best.pth\") for fold in CFG.trn_fold]\n",
    "        test_dataset = TestDataset(test, transform=get_transforms(data=\"valid\"))\n",
    "        test_loader = DataLoader(\n",
    "            test_dataset, batch_size=CFG.batch_size, shuffle=False, num_workers=CFG.num_workers, pin_memory=True\n",
    "        )\n",
    "        predictions = inference(model, states, test_loader, device)\n",
    "        # submission\n",
    "        test[\"label\"] = predictions.argmax(1)\n",
    "        test[[\"image_id\", \"label\"]].to_csv(OUTPUT_DIR + \"submission.csv\", index=False)"
   ]
  },
  {
   "cell_type": "code",
   "execution_count": 21,
   "metadata": {
    "_cell_guid": "79c7e3d0-c299-4dcb-8224-4455121ee9b0",
    "_uuid": "d629ff2d2480ee46fbb7e2d37f6b5fab8052498a"
   },
   "outputs": [
    {
     "name": "stderr",
     "output_type": "stream",
     "text": [
      "========== fold: 0 training ==========\n"
     ]
    },
    {
     "name": "stdout",
     "output_type": "stream",
     "text": [
      "Epoch: [1][0/877] Data 0.522 (0.522) Elapsed 0m 4s (remain 59m 9s) Loss: 0.5014(0.5014) Grad: 2.0269  \n",
      "Epoch: [1][100/877] Data 0.000 (0.005) Elapsed 2m 10s (remain 16m 42s) Loss: 0.2099(0.2630) Grad: 2.4945  \n",
      "Epoch: [1][200/877] Data 0.000 (0.003) Elapsed 4m 16s (remain 14m 24s) Loss: 0.2746(0.2337) Grad: 2.6252  \n",
      "Epoch: [1][300/877] Data 0.000 (0.002) Elapsed 6m 23s (remain 12m 13s) Loss: 0.1913(0.2153) Grad: 2.3768  \n",
      "Epoch: [1][400/877] Data 0.000 (0.001) Elapsed 8m 29s (remain 10m 4s) Loss: 0.2140(0.2043) Grad: 2.4719  \n",
      "Epoch: [1][500/877] Data 0.000 (0.001) Elapsed 10m 35s (remain 7m 57s) Loss: 0.2331(0.1993) Grad: 3.5517  \n",
      "Epoch: [1][600/877] Data 0.000 (0.001) Elapsed 12m 42s (remain 5m 50s) Loss: 0.1729(0.1967) Grad: 2.4866  \n",
      "Epoch: [1][700/877] Data 0.000 (0.001) Elapsed 14m 48s (remain 3m 43s) Loss: 0.2539(0.1928) Grad: 2.6344  \n",
      "Epoch: [1][800/877] Data 0.000 (0.001) Elapsed 16m 54s (remain 1m 36s) Loss: 0.1644(0.1892) Grad: 1.7496  \n",
      "Epoch: [1][876/877] Data 0.000 (0.001) Elapsed 18m 30s (remain 0m 0s) Loss: 0.2396(0.1860) Grad: 2.3727  \n",
      "EVAL: [0/220] Data 0.460 (0.460) Elapsed 0m 0s (remain 2m 58s) Loss: 0.1497(0.1497) \n",
      "EVAL: [100/220] Data 0.000 (0.005) Elapsed 0m 34s (remain 0m 40s) Loss: 0.1486(0.1477) \n",
      "EVAL: [200/220] Data 0.000 (0.002) Elapsed 1m 7s (remain 0m 6s) Loss: 0.0720(0.1549) \n"
     ]
    },
    {
     "name": "stderr",
     "output_type": "stream",
     "text": [
      "Epoch 1 - avg_train_loss: 0.1860  avg_val_loss: 0.1552  time: 1185s\n",
      "Epoch 1 - Accuracy: 0.8263097949886105\n",
      "Epoch 1 - Save Best Score: 0.8263 Model\n"
     ]
    },
    {
     "name": "stdout",
     "output_type": "stream",
     "text": [
      "EVAL: [219/220] Data 0.000 (0.002) Elapsed 1m 14s (remain 0m 0s) Loss: 0.2311(0.1552) \n",
      "Epoch: [2][0/877] Data 0.485 (0.485) Elapsed 0m 1s (remain 25m 49s) Loss: 0.2041(0.2041) Grad: 1.8695  \n",
      "Epoch: [2][100/877] Data 0.000 (0.005) Elapsed 2m 8s (remain 16m 24s) Loss: 0.1170(0.1590) Grad: 1.2392  \n",
      "Epoch: [2][200/877] Data 0.000 (0.003) Elapsed 4m 14s (remain 14m 16s) Loss: 0.2664(0.1542) Grad: 2.4339  \n",
      "Epoch: [2][300/877] Data 0.000 (0.002) Elapsed 6m 20s (remain 12m 8s) Loss: 0.1593(0.1557) Grad: 1.5074  \n",
      "Epoch: [2][400/877] Data 0.000 (0.001) Elapsed 8m 27s (remain 10m 2s) Loss: 0.0737(0.1529) Grad: 2.1466  \n",
      "Epoch: [2][500/877] Data 0.000 (0.001) Elapsed 10m 33s (remain 7m 55s) Loss: 0.1675(0.1526) Grad: 1.6579  \n",
      "Epoch: [2][600/877] Data 0.000 (0.001) Elapsed 12m 39s (remain 5m 48s) Loss: 0.1096(0.1514) Grad: 1.0127  \n",
      "Epoch: [2][700/877] Data 0.000 (0.001) Elapsed 14m 46s (remain 3m 42s) Loss: 0.2348(0.1511) Grad: 2.1257  \n",
      "Epoch: [2][800/877] Data 0.000 (0.001) Elapsed 16m 52s (remain 1m 36s) Loss: 0.2756(0.1519) Grad: 1.9027  \n",
      "Epoch: [2][876/877] Data 0.000 (0.001) Elapsed 18m 28s (remain 0m 0s) Loss: 0.1247(0.1514) Grad: 1.3657  \n",
      "EVAL: [0/220] Data 0.477 (0.477) Elapsed 0m 0s (remain 3m 2s) Loss: 0.1575(0.1575) \n",
      "EVAL: [100/220] Data 0.000 (0.005) Elapsed 0m 34s (remain 0m 40s) Loss: 0.0913(0.1274) \n",
      "EVAL: [200/220] Data 0.000 (0.003) Elapsed 1m 8s (remain 0m 6s) Loss: 0.0539(0.1319) \n"
     ]
    },
    {
     "name": "stderr",
     "output_type": "stream",
     "text": [
      "Epoch 2 - avg_train_loss: 0.1514  avg_val_loss: 0.1334  time: 1183s\n",
      "Epoch 2 - Accuracy: 0.8536446469248291\n",
      "Epoch 2 - Save Best Score: 0.8536 Model\n"
     ]
    },
    {
     "name": "stdout",
     "output_type": "stream",
     "text": [
      "EVAL: [219/220] Data 0.000 (0.002) Elapsed 1m 14s (remain 0m 0s) Loss: 0.2208(0.1334) \n",
      "Epoch: [3][0/877] Data 0.497 (0.497) Elapsed 0m 1s (remain 25m 56s) Loss: 0.0443(0.0443) Grad: 0.7903  \n",
      "Epoch: [3][100/877] Data 0.000 (0.005) Elapsed 2m 8s (remain 16m 23s) Loss: 0.1313(0.1376) Grad: 1.5709  \n",
      "Epoch: [3][200/877] Data 0.000 (0.003) Elapsed 4m 14s (remain 14m 15s) Loss: 0.1333(0.1404) Grad: 1.7870  \n",
      "Epoch: [3][300/877] Data 0.000 (0.002) Elapsed 6m 20s (remain 12m 8s) Loss: 0.1073(0.1397) Grad: 1.3417  \n",
      "Epoch: [3][400/877] Data 0.000 (0.001) Elapsed 8m 26s (remain 10m 1s) Loss: 0.0967(0.1395) Grad: 1.0826  \n",
      "Epoch: [3][500/877] Data 0.000 (0.001) Elapsed 10m 32s (remain 7m 55s) Loss: 0.1079(0.1395) Grad: 1.8976  \n",
      "Epoch: [3][600/877] Data 0.000 (0.001) Elapsed 12m 39s (remain 5m 48s) Loss: 0.1250(0.1395) Grad: 0.9924  \n",
      "Epoch: [3][700/877] Data 0.000 (0.001) Elapsed 14m 45s (remain 3m 42s) Loss: 0.1468(0.1402) Grad: 1.6996  \n",
      "Epoch: [3][800/877] Data 0.000 (0.001) Elapsed 16m 51s (remain 1m 36s) Loss: 0.1442(0.1396) Grad: 1.5621  \n",
      "Epoch: [3][876/877] Data 0.000 (0.001) Elapsed 18m 27s (remain 0m 0s) Loss: 0.0990(0.1397) Grad: 1.5580  \n",
      "EVAL: [0/220] Data 0.503 (0.503) Elapsed 0m 0s (remain 3m 7s) Loss: 0.1086(0.1086) \n",
      "EVAL: [100/220] Data 0.000 (0.005) Elapsed 0m 34s (remain 0m 40s) Loss: 0.0811(0.1253) \n",
      "EVAL: [200/220] Data 0.000 (0.003) Elapsed 1m 7s (remain 0m 6s) Loss: 0.0470(0.1302) \n"
     ]
    },
    {
     "name": "stderr",
     "output_type": "stream",
     "text": [
      "Epoch 3 - avg_train_loss: 0.1397  avg_val_loss: 0.1307  time: 1182s\n",
      "Epoch 3 - Accuracy: 0.8591495823842066\n",
      "Epoch 3 - Save Best Score: 0.8591 Model\n"
     ]
    },
    {
     "name": "stdout",
     "output_type": "stream",
     "text": [
      "EVAL: [219/220] Data 0.000 (0.002) Elapsed 1m 14s (remain 0m 0s) Loss: 0.2684(0.1307) \n",
      "Epoch: [4][0/877] Data 0.482 (0.482) Elapsed 0m 1s (remain 25m 41s) Loss: 0.0743(0.0743) Grad: 1.2062  \n",
      "Epoch: [4][100/877] Data 0.000 (0.005) Elapsed 2m 8s (remain 16m 23s) Loss: 0.2487(0.1300) Grad: 1.2687  \n",
      "Epoch: [4][200/877] Data 0.000 (0.003) Elapsed 4m 14s (remain 14m 15s) Loss: 0.1083(0.1298) Grad: 1.1732  \n",
      "Epoch: [4][300/877] Data 0.000 (0.002) Elapsed 6m 20s (remain 12m 8s) Loss: 0.1333(0.1330) Grad: 1.2754  \n",
      "Epoch: [4][400/877] Data 0.000 (0.001) Elapsed 8m 26s (remain 10m 1s) Loss: 0.2089(0.1333) Grad: 1.2830  \n",
      "Epoch: [4][500/877] Data 0.000 (0.001) Elapsed 10m 32s (remain 7m 55s) Loss: 0.0415(0.1335) Grad: 0.7856  \n",
      "Epoch: [4][600/877] Data 0.000 (0.001) Elapsed 12m 39s (remain 5m 48s) Loss: 0.0972(0.1327) Grad: 0.9189  \n",
      "Epoch: [4][700/877] Data 0.000 (0.001) Elapsed 14m 45s (remain 3m 42s) Loss: 0.0621(0.1334) Grad: 1.0140  \n",
      "Epoch: [4][800/877] Data 0.000 (0.001) Elapsed 16m 51s (remain 1m 35s) Loss: 0.1310(0.1333) Grad: 1.6907  \n",
      "Epoch: [4][876/877] Data 0.000 (0.001) Elapsed 18m 27s (remain 0m 0s) Loss: 0.0237(0.1337) Grad: 0.6459  \n",
      "EVAL: [0/220] Data 0.500 (0.500) Elapsed 0m 0s (remain 3m 6s) Loss: 0.1481(0.1481) \n",
      "EVAL: [100/220] Data 0.000 (0.005) Elapsed 0m 34s (remain 0m 40s) Loss: 0.0723(0.1092) \n",
      "EVAL: [200/220] Data 0.000 (0.003) Elapsed 1m 7s (remain 0m 6s) Loss: 0.0303(0.1146) \n"
     ]
    },
    {
     "name": "stderr",
     "output_type": "stream",
     "text": [
      "Epoch 4 - avg_train_loss: 0.1337  avg_val_loss: 0.1142  time: 1182s\n",
      "Epoch 4 - Accuracy: 0.8804100227790432\n",
      "Epoch 4 - Save Best Score: 0.8804 Model\n"
     ]
    },
    {
     "name": "stdout",
     "output_type": "stream",
     "text": [
      "EVAL: [219/220] Data 0.000 (0.002) Elapsed 1m 14s (remain 0m 0s) Loss: 0.1852(0.1142) \n",
      "Epoch: [5][0/877] Data 0.637 (0.637) Elapsed 0m 1s (remain 27m 58s) Loss: 0.1831(0.1831) Grad: 0.9889  \n",
      "Epoch: [5][100/877] Data 0.000 (0.006) Elapsed 2m 8s (remain 16m 24s) Loss: 0.1027(0.1262) Grad: 1.1720  \n",
      "Epoch: [5][200/877] Data 0.000 (0.003) Elapsed 4m 14s (remain 14m 15s) Loss: 0.1146(0.1268) Grad: 1.7263  \n",
      "Epoch: [5][300/877] Data 0.000 (0.002) Elapsed 6m 20s (remain 12m 8s) Loss: 0.1121(0.1281) Grad: 1.9513  \n",
      "Epoch: [5][400/877] Data 0.000 (0.002) Elapsed 8m 26s (remain 10m 1s) Loss: 0.0611(0.1274) Grad: 1.1734  \n",
      "Epoch: [5][500/877] Data 0.000 (0.001) Elapsed 10m 33s (remain 7m 55s) Loss: 0.2516(0.1264) Grad: 1.7093  \n",
      "Epoch: [5][600/877] Data 0.000 (0.001) Elapsed 12m 39s (remain 5m 48s) Loss: 0.1003(0.1258) Grad: 0.9505  \n",
      "Epoch: [5][700/877] Data 0.000 (0.001) Elapsed 14m 45s (remain 3m 42s) Loss: 0.1933(0.1268) Grad: 1.1843  \n",
      "Epoch: [5][800/877] Data 0.000 (0.001) Elapsed 16m 51s (remain 1m 35s) Loss: 0.1458(0.1251) Grad: 1.5110  \n",
      "Epoch: [5][876/877] Data 0.000 (0.001) Elapsed 18m 27s (remain 0m 0s) Loss: 0.1587(0.1250) Grad: 1.8081  \n",
      "EVAL: [0/220] Data 0.470 (0.470) Elapsed 0m 0s (remain 2m 58s) Loss: 0.1266(0.1266) \n",
      "EVAL: [100/220] Data 0.000 (0.005) Elapsed 0m 34s (remain 0m 40s) Loss: 0.1097(0.1137) \n",
      "EVAL: [200/220] Data 0.000 (0.002) Elapsed 1m 7s (remain 0m 6s) Loss: 0.0277(0.1199) \n"
     ]
    },
    {
     "name": "stderr",
     "output_type": "stream",
     "text": [
      "Epoch 5 - avg_train_loss: 0.1250  avg_val_loss: 0.1198  time: 1182s\n",
      "Epoch 5 - Accuracy: 0.873006833712984\n"
     ]
    },
    {
     "name": "stdout",
     "output_type": "stream",
     "text": [
      "EVAL: [219/220] Data 0.000 (0.002) Elapsed 1m 14s (remain 0m 0s) Loss: 0.1772(0.1198) \n",
      "Epoch: [6][0/877] Data 0.507 (0.507) Elapsed 0m 1s (remain 26m 7s) Loss: 0.0550(0.0550) Grad: 1.2751  \n",
      "Epoch: [6][100/877] Data 0.000 (0.005) Elapsed 2m 8s (remain 16m 23s) Loss: 0.0845(0.1177) Grad: 0.7757  \n",
      "Epoch: [6][200/877] Data 0.000 (0.003) Elapsed 4m 14s (remain 14m 14s) Loss: 0.0714(0.1197) Grad: 1.2635  \n",
      "Epoch: [6][300/877] Data 0.000 (0.002) Elapsed 6m 20s (remain 12m 7s) Loss: 0.1652(0.1188) Grad: 2.0865  \n",
      "Epoch: [6][400/877] Data 0.000 (0.001) Elapsed 8m 26s (remain 10m 1s) Loss: 0.1308(0.1182) Grad: 1.2317  \n",
      "Epoch: [6][500/877] Data 0.000 (0.001) Elapsed 10m 32s (remain 7m 54s) Loss: 0.0816(0.1183) Grad: 0.8855  \n",
      "Epoch: [6][600/877] Data 0.000 (0.001) Elapsed 12m 38s (remain 5m 48s) Loss: 0.0591(0.1174) Grad: 1.1901  \n",
      "Epoch: [6][700/877] Data 0.000 (0.001) Elapsed 14m 45s (remain 3m 42s) Loss: 0.1182(0.1176) Grad: 1.3904  \n",
      "Epoch: [6][800/877] Data 0.000 (0.001) Elapsed 16m 51s (remain 1m 35s) Loss: 0.1739(0.1187) Grad: 1.5262  \n",
      "Epoch: [6][876/877] Data 0.000 (0.001) Elapsed 18m 27s (remain 0m 0s) Loss: 0.0559(0.1189) Grad: 1.0127  \n",
      "EVAL: [0/220] Data 0.468 (0.468) Elapsed 0m 0s (remain 2m 59s) Loss: 0.0807(0.0807) \n",
      "EVAL: [100/220] Data 0.000 (0.005) Elapsed 0m 34s (remain 0m 40s) Loss: 0.1652(0.1147) \n",
      "EVAL: [200/220] Data 0.000 (0.002) Elapsed 1m 7s (remain 0m 6s) Loss: 0.0220(0.1194) \n"
     ]
    },
    {
     "name": "stderr",
     "output_type": "stream",
     "text": [
      "Epoch 6 - avg_train_loss: 0.1189  avg_val_loss: 0.1185  time: 1182s\n",
      "Epoch 6 - Accuracy: 0.8709187547456341\n"
     ]
    },
    {
     "name": "stdout",
     "output_type": "stream",
     "text": [
      "EVAL: [219/220] Data 0.000 (0.002) Elapsed 1m 14s (remain 0m 0s) Loss: 0.2046(0.1185) \n",
      "Epoch: [7][0/877] Data 0.490 (0.490) Elapsed 0m 1s (remain 25m 54s) Loss: 0.1222(0.1222) Grad: 1.0871  \n",
      "Epoch: [7][100/877] Data 0.000 (0.005) Elapsed 2m 8s (remain 16m 24s) Loss: 0.0901(0.1033) Grad: 1.2507  \n",
      "Epoch: [7][200/877] Data 0.000 (0.003) Elapsed 4m 14s (remain 14m 15s) Loss: 0.1144(0.1080) Grad: 0.9549  \n",
      "Epoch: [7][300/877] Data 0.000 (0.002) Elapsed 6m 20s (remain 12m 8s) Loss: 0.0802(0.1114) Grad: 1.3493  \n",
      "Epoch: [7][400/877] Data 0.000 (0.001) Elapsed 8m 26s (remain 10m 1s) Loss: 0.0939(0.1122) Grad: 0.8752  \n",
      "Epoch: [7][500/877] Data 0.000 (0.001) Elapsed 10m 33s (remain 7m 55s) Loss: 0.0819(0.1128) Grad: 0.9052  \n",
      "Epoch: [7][600/877] Data 0.000 (0.001) Elapsed 12m 39s (remain 5m 48s) Loss: 0.1451(0.1112) Grad: 1.9496  \n",
      "Epoch: [7][700/877] Data 0.000 (0.001) Elapsed 14m 45s (remain 3m 42s) Loss: 0.0658(0.1123) Grad: 1.2901  \n",
      "Epoch: [7][800/877] Data 0.000 (0.001) Elapsed 16m 51s (remain 1m 36s) Loss: 0.1212(0.1121) Grad: 1.6394  \n",
      "Epoch: [7][876/877] Data 0.000 (0.001) Elapsed 18m 27s (remain 0m 0s) Loss: 0.0567(0.1112) Grad: 1.2690  \n",
      "EVAL: [0/220] Data 0.465 (0.465) Elapsed 0m 0s (remain 2m 59s) Loss: 0.1349(0.1349) \n",
      "EVAL: [100/220] Data 0.000 (0.005) Elapsed 0m 34s (remain 0m 40s) Loss: 0.0995(0.1067) \n",
      "EVAL: [200/220] Data 0.000 (0.002) Elapsed 1m 7s (remain 0m 6s) Loss: 0.0590(0.1115) \n"
     ]
    },
    {
     "name": "stderr",
     "output_type": "stream",
     "text": [
      "Epoch 7 - avg_train_loss: 0.1112  avg_val_loss: 0.1109  time: 1182s\n",
      "Epoch 7 - Accuracy: 0.8805998481397115\n",
      "Epoch 7 - Save Best Score: 0.8806 Model\n"
     ]
    },
    {
     "name": "stdout",
     "output_type": "stream",
     "text": [
      "EVAL: [219/220] Data 0.000 (0.002) Elapsed 1m 14s (remain 0m 0s) Loss: 0.2156(0.1109) \n",
      "Epoch: [8][0/877] Data 0.502 (0.502) Elapsed 0m 1s (remain 26m 3s) Loss: 0.1312(0.1312) Grad: 2.2976  \n",
      "Epoch: [8][100/877] Data 0.000 (0.005) Elapsed 2m 8s (remain 16m 23s) Loss: 0.0466(0.1061) Grad: 1.0617  \n",
      "Epoch: [8][200/877] Data 0.000 (0.003) Elapsed 4m 14s (remain 14m 14s) Loss: 0.0547(0.1088) Grad: 0.9126  \n",
      "Epoch: [8][300/877] Data 0.002 (0.002) Elapsed 6m 20s (remain 12m 8s) Loss: 0.0740(0.1102) Grad: 1.0972  \n",
      "Epoch: [8][400/877] Data 0.000 (0.001) Elapsed 8m 26s (remain 10m 1s) Loss: 0.0255(0.1101) Grad: 0.7525  \n",
      "Epoch: [8][500/877] Data 0.000 (0.001) Elapsed 10m 32s (remain 7m 54s) Loss: 0.1080(0.1079) Grad: 1.1972  \n",
      "Epoch: [8][600/877] Data 0.000 (0.001) Elapsed 12m 39s (remain 5m 48s) Loss: 0.0869(0.1070) Grad: 1.3181  \n",
      "Epoch: [8][700/877] Data 0.000 (0.001) Elapsed 14m 45s (remain 3m 42s) Loss: 0.1379(0.1084) Grad: 1.9411  \n",
      "Epoch: [8][800/877] Data 0.000 (0.001) Elapsed 16m 51s (remain 1m 35s) Loss: 0.0214(0.1072) Grad: 0.7057  \n",
      "Epoch: [8][876/877] Data 0.000 (0.001) Elapsed 18m 27s (remain 0m 0s) Loss: 0.1128(0.1064) Grad: 1.5025  \n",
      "EVAL: [0/220] Data 0.484 (0.484) Elapsed 0m 0s (remain 3m 3s) Loss: 0.1308(0.1308) \n",
      "EVAL: [100/220] Data 0.000 (0.005) Elapsed 0m 34s (remain 0m 40s) Loss: 0.0910(0.1051) \n",
      "EVAL: [200/220] Data 0.000 (0.003) Elapsed 1m 7s (remain 0m 6s) Loss: 0.0380(0.1094) \n"
     ]
    },
    {
     "name": "stderr",
     "output_type": "stream",
     "text": [
      "Epoch 8 - avg_train_loss: 0.1064  avg_val_loss: 0.1085  time: 1182s\n",
      "Epoch 8 - Accuracy: 0.8855353075170843\n",
      "Epoch 8 - Save Best Score: 0.8855 Model\n"
     ]
    },
    {
     "name": "stdout",
     "output_type": "stream",
     "text": [
      "EVAL: [219/220] Data 0.000 (0.002) Elapsed 1m 14s (remain 0m 0s) Loss: 0.1902(0.1085) \n",
      "Epoch: [9][0/877] Data 0.498 (0.498) Elapsed 0m 1s (remain 25m 55s) Loss: 0.0885(0.0885) Grad: 0.7262  \n",
      "Epoch: [9][100/877] Data 0.000 (0.005) Elapsed 2m 8s (remain 16m 24s) Loss: 0.0323(0.1009) Grad: 1.0315  \n",
      "Epoch: [9][200/877] Data 0.000 (0.003) Elapsed 4m 14s (remain 14m 15s) Loss: 0.1690(0.1010) Grad: 1.4544  \n",
      "Epoch: [9][300/877] Data 0.000 (0.002) Elapsed 6m 20s (remain 12m 8s) Loss: 0.0899(0.1019) Grad: 1.6495  \n",
      "Epoch: [9][400/877] Data 0.000 (0.001) Elapsed 8m 26s (remain 10m 1s) Loss: 0.1066(0.1049) Grad: 1.8192  \n",
      "Epoch: [9][500/877] Data 0.000 (0.001) Elapsed 10m 33s (remain 7m 55s) Loss: 0.0868(0.1047) Grad: 1.0334  \n",
      "Epoch: [9][600/877] Data 0.000 (0.001) Elapsed 12m 39s (remain 5m 48s) Loss: 0.0845(0.1033) Grad: 1.1230  \n",
      "Epoch: [9][700/877] Data 0.000 (0.001) Elapsed 14m 45s (remain 3m 42s) Loss: 0.0960(0.1028) Grad: 1.2858  \n",
      "Epoch: [9][800/877] Data 0.000 (0.001) Elapsed 16m 52s (remain 1m 36s) Loss: 0.0617(0.1023) Grad: 1.6187  \n",
      "Epoch: [9][876/877] Data 0.000 (0.001) Elapsed 18m 28s (remain 0m 0s) Loss: 0.0904(0.1020) Grad: 0.9206  \n",
      "EVAL: [0/220] Data 0.494 (0.494) Elapsed 0m 0s (remain 3m 5s) Loss: 0.1121(0.1121) \n",
      "EVAL: [100/220] Data 0.000 (0.005) Elapsed 0m 34s (remain 0m 40s) Loss: 0.1083(0.1025) \n",
      "EVAL: [200/220] Data 0.000 (0.003) Elapsed 1m 7s (remain 0m 6s) Loss: 0.0408(0.1072) \n"
     ]
    },
    {
     "name": "stderr",
     "output_type": "stream",
     "text": [
      "Epoch 9 - avg_train_loss: 0.1020  avg_val_loss: 0.1066  time: 1183s\n",
      "Epoch 9 - Accuracy: 0.8857251328777525\n",
      "Epoch 9 - Save Best Score: 0.8857 Model\n"
     ]
    },
    {
     "name": "stdout",
     "output_type": "stream",
     "text": [
      "EVAL: [219/220] Data 0.000 (0.002) Elapsed 1m 14s (remain 0m 0s) Loss: 0.2080(0.1066) \n",
      "Epoch: [10][0/877] Data 0.505 (0.505) Elapsed 0m 1s (remain 26m 6s) Loss: 0.1289(0.1289) Grad: 1.2641  \n",
      "Epoch: [10][100/877] Data 0.000 (0.005) Elapsed 2m 8s (remain 16m 24s) Loss: 0.0584(0.1036) Grad: 1.2267  \n",
      "Epoch: [10][200/877] Data 0.000 (0.003) Elapsed 4m 14s (remain 14m 15s) Loss: 0.1958(0.1020) Grad: 1.4242  \n",
      "Epoch: [10][300/877] Data 0.000 (0.002) Elapsed 6m 20s (remain 12m 8s) Loss: 0.1245(0.1023) Grad: 1.4372  \n",
      "Epoch: [10][400/877] Data 0.000 (0.001) Elapsed 8m 27s (remain 10m 2s) Loss: 0.0220(0.1033) Grad: 0.9051  \n",
      "Epoch: [10][500/877] Data 0.000 (0.001) Elapsed 10m 33s (remain 7m 55s) Loss: 0.1476(0.1012) Grad: 1.0890  \n",
      "Epoch: [10][600/877] Data 0.000 (0.001) Elapsed 12m 39s (remain 5m 48s) Loss: 0.0534(0.1019) Grad: 1.4695  \n",
      "Epoch: [10][700/877] Data 0.000 (0.001) Elapsed 14m 46s (remain 3m 42s) Loss: 0.1731(0.1025) Grad: 1.7011  \n",
      "Epoch: [10][800/877] Data 0.000 (0.001) Elapsed 16m 52s (remain 1m 36s) Loss: 0.0699(0.1015) Grad: 1.4309  \n",
      "Epoch: [10][876/877] Data 0.000 (0.001) Elapsed 18m 28s (remain 0m 0s) Loss: 0.0615(0.1005) Grad: 0.7651  \n",
      "EVAL: [0/220] Data 0.504 (0.504) Elapsed 0m 0s (remain 3m 7s) Loss: 0.1074(0.1074) \n",
      "EVAL: [100/220] Data 0.000 (0.005) Elapsed 0m 34s (remain 0m 40s) Loss: 0.1002(0.1015) \n",
      "EVAL: [200/220] Data 0.000 (0.003) Elapsed 1m 7s (remain 0m 6s) Loss: 0.0444(0.1070) \n"
     ]
    },
    {
     "name": "stderr",
     "output_type": "stream",
     "text": [
      "Epoch 10 - avg_train_loss: 0.1005  avg_val_loss: 0.1064  time: 1183s\n",
      "Epoch 10 - Accuracy: 0.8861047835990888\n",
      "Epoch 10 - Save Best Score: 0.8861 Model\n"
     ]
    },
    {
     "name": "stdout",
     "output_type": "stream",
     "text": [
      "EVAL: [219/220] Data 0.000 (0.002) Elapsed 1m 14s (remain 0m 0s) Loss: 0.2014(0.1064) \n"
     ]
    },
    {
     "name": "stderr",
     "output_type": "stream",
     "text": [
      "========== fold: 0 result ==========\n",
      "Score: 0.88610\n",
      "========== fold: 1 training ==========\n"
     ]
    },
    {
     "name": "stdout",
     "output_type": "stream",
     "text": [
      "Epoch: [1][0/877] Data 0.497 (0.497) Elapsed 0m 1s (remain 26m 4s) Loss: 0.5373(0.5373) Grad: 2.1754  \n",
      "Epoch: [1][100/877] Data 0.000 (0.005) Elapsed 2m 7s (remain 16m 23s) Loss: 0.2265(0.2694) Grad: 3.2839  \n",
      "Epoch: [1][200/877] Data 0.000 (0.003) Elapsed 4m 14s (remain 14m 15s) Loss: 0.4154(0.2350) Grad: 2.6937  \n",
      "Epoch: [1][300/877] Data 0.000 (0.002) Elapsed 6m 20s (remain 12m 8s) Loss: 0.2959(0.2200) Grad: 2.0560  \n",
      "Epoch: [1][400/877] Data 0.000 (0.001) Elapsed 8m 26s (remain 10m 1s) Loss: 0.1428(0.2096) Grad: 2.1064  \n",
      "Epoch: [1][500/877] Data 0.000 (0.001) Elapsed 10m 33s (remain 7m 55s) Loss: 0.1564(0.2025) Grad: 2.7510  \n",
      "Epoch: [1][600/877] Data 0.000 (0.001) Elapsed 12m 39s (remain 5m 48s) Loss: 0.1934(0.1977) Grad: 2.3791  \n",
      "Epoch: [1][700/877] Data 0.000 (0.001) Elapsed 14m 45s (remain 3m 42s) Loss: 0.2182(0.1924) Grad: 2.1427  \n",
      "Epoch: [1][800/877] Data 0.000 (0.001) Elapsed 16m 51s (remain 1m 35s) Loss: 0.2240(0.1884) Grad: 2.9147  \n",
      "Epoch: [1][876/877] Data 0.000 (0.001) Elapsed 18m 27s (remain 0m 0s) Loss: 0.2164(0.1867) Grad: 2.1983  \n",
      "EVAL: [0/220] Data 0.490 (0.490) Elapsed 0m 0s (remain 3m 4s) Loss: 0.1907(0.1907) \n",
      "EVAL: [100/220] Data 0.000 (0.005) Elapsed 0m 34s (remain 0m 40s) Loss: 0.2091(0.1622) \n",
      "EVAL: [200/220] Data 0.000 (0.003) Elapsed 1m 8s (remain 0m 6s) Loss: 0.1614(0.1597) \n"
     ]
    },
    {
     "name": "stderr",
     "output_type": "stream",
     "text": [
      "Epoch 1 - avg_train_loss: 0.1867  avg_val_loss: 0.1587  time: 1182s\n",
      "Epoch 1 - Accuracy: 0.821753986332574\n",
      "Epoch 1 - Save Best Score: 0.8218 Model\n"
     ]
    },
    {
     "name": "stdout",
     "output_type": "stream",
     "text": [
      "EVAL: [219/220] Data 0.000 (0.002) Elapsed 1m 14s (remain 0m 0s) Loss: 0.1745(0.1587) \n",
      "Epoch: [2][0/877] Data 0.515 (0.515) Elapsed 0m 1s (remain 26m 11s) Loss: 0.1562(0.1562) Grad: 1.3425  \n",
      "Epoch: [2][100/877] Data 0.000 (0.005) Elapsed 2m 7s (remain 16m 23s) Loss: 0.0911(0.1527) Grad: 1.7188  \n",
      "Epoch: [2][200/877] Data 0.000 (0.003) Elapsed 4m 14s (remain 14m 15s) Loss: 0.0875(0.1513) Grad: 1.2956  \n",
      "Epoch: [2][300/877] Data 0.000 (0.002) Elapsed 6m 20s (remain 12m 8s) Loss: 0.1125(0.1540) Grad: 1.9660  \n",
      "Epoch: [2][400/877] Data 0.000 (0.001) Elapsed 8m 26s (remain 10m 1s) Loss: 0.2282(0.1539) Grad: 1.6342  \n",
      "Epoch: [2][500/877] Data 0.000 (0.001) Elapsed 10m 32s (remain 7m 55s) Loss: 0.1084(0.1536) Grad: 1.0934  \n",
      "Epoch: [2][600/877] Data 0.000 (0.001) Elapsed 12m 39s (remain 5m 48s) Loss: 0.1999(0.1530) Grad: 2.2667  \n",
      "Epoch: [2][700/877] Data 0.000 (0.001) Elapsed 14m 45s (remain 3m 42s) Loss: 0.1502(0.1525) Grad: 1.6182  \n",
      "Epoch: [2][800/877] Data 0.000 (0.001) Elapsed 16m 51s (remain 1m 35s) Loss: 0.2805(0.1517) Grad: 1.6106  \n",
      "Epoch: [2][876/877] Data 0.000 (0.001) Elapsed 18m 27s (remain 0m 0s) Loss: 0.0981(0.1507) Grad: 1.7357  \n",
      "EVAL: [0/220] Data 0.518 (0.518) Elapsed 0m 0s (remain 3m 9s) Loss: 0.1866(0.1866) \n",
      "EVAL: [100/220] Data 0.000 (0.005) Elapsed 0m 34s (remain 0m 40s) Loss: 0.1938(0.1453) \n",
      "EVAL: [200/220] Data 0.000 (0.003) Elapsed 1m 7s (remain 0m 6s) Loss: 0.1427(0.1448) \n"
     ]
    },
    {
     "name": "stderr",
     "output_type": "stream",
     "text": [
      "Epoch 2 - avg_train_loss: 0.1507  avg_val_loss: 0.1443  time: 1182s\n",
      "Epoch 2 - Accuracy: 0.8430144267274108\n",
      "Epoch 2 - Save Best Score: 0.8430 Model\n"
     ]
    },
    {
     "name": "stdout",
     "output_type": "stream",
     "text": [
      "EVAL: [219/220] Data 0.000 (0.003) Elapsed 1m 14s (remain 0m 0s) Loss: 0.1628(0.1443) \n",
      "Epoch: [3][0/877] Data 0.511 (0.511) Elapsed 0m 1s (remain 26m 20s) Loss: 0.1854(0.1854) Grad: 1.1952  \n",
      "Epoch: [3][100/877] Data 0.000 (0.005) Elapsed 2m 8s (remain 16m 24s) Loss: 0.1189(0.1476) Grad: 1.3696  \n",
      "Epoch: [3][200/877] Data 0.000 (0.003) Elapsed 4m 14s (remain 14m 15s) Loss: 0.2490(0.1450) Grad: 1.4044  \n",
      "Epoch: [3][300/877] Data 0.000 (0.002) Elapsed 6m 20s (remain 12m 8s) Loss: 0.1513(0.1436) Grad: 1.3624  \n",
      "Epoch: [3][400/877] Data 0.000 (0.001) Elapsed 8m 26s (remain 10m 1s) Loss: 0.2102(0.1430) Grad: 2.8024  \n",
      "Epoch: [3][500/877] Data 0.000 (0.001) Elapsed 10m 33s (remain 7m 55s) Loss: 0.1494(0.1414) Grad: 1.7183  \n",
      "Epoch: [3][600/877] Data 0.000 (0.001) Elapsed 12m 39s (remain 5m 48s) Loss: 0.1022(0.1410) Grad: 0.9892  \n",
      "Epoch: [3][700/877] Data 0.000 (0.001) Elapsed 14m 45s (remain 3m 42s) Loss: 0.1831(0.1423) Grad: 1.9327  \n",
      "Epoch: [3][800/877] Data 0.000 (0.001) Elapsed 16m 52s (remain 1m 36s) Loss: 0.1898(0.1422) Grad: 1.3437  \n",
      "Epoch: [3][876/877] Data 0.000 (0.001) Elapsed 18m 28s (remain 0m 0s) Loss: 0.1111(0.1411) Grad: 1.3657  \n",
      "EVAL: [0/220] Data 0.524 (0.524) Elapsed 0m 0s (remain 3m 12s) Loss: 0.2032(0.2032) \n",
      "EVAL: [100/220] Data 0.000 (0.005) Elapsed 0m 34s (remain 0m 40s) Loss: 0.2033(0.1231) \n",
      "EVAL: [200/220] Data 0.000 (0.003) Elapsed 1m 7s (remain 0m 6s) Loss: 0.1409(0.1282) \n"
     ]
    },
    {
     "name": "stderr",
     "output_type": "stream",
     "text": [
      "Epoch 3 - avg_train_loss: 0.1411  avg_val_loss: 0.1280  time: 1182s\n",
      "Epoch 3 - Accuracy: 0.8642748671222475\n",
      "Epoch 3 - Save Best Score: 0.8643 Model\n"
     ]
    },
    {
     "name": "stdout",
     "output_type": "stream",
     "text": [
      "EVAL: [219/220] Data 0.000 (0.003) Elapsed 1m 14s (remain 0m 0s) Loss: 0.2204(0.1280) \n",
      "Epoch: [4][0/877] Data 0.491 (0.491) Elapsed 0m 1s (remain 25m 55s) Loss: 0.1534(0.1534) Grad: 1.5994  \n",
      "Epoch: [4][100/877] Data 0.000 (0.005) Elapsed 2m 8s (remain 16m 24s) Loss: 0.2080(0.1326) Grad: 2.0754  \n",
      "Epoch: [4][200/877] Data 0.000 (0.003) Elapsed 4m 14s (remain 14m 15s) Loss: 0.1452(0.1344) Grad: 1.9143  \n",
      "Epoch: [4][300/877] Data 0.000 (0.002) Elapsed 6m 20s (remain 12m 8s) Loss: 0.1963(0.1356) Grad: 1.4783  \n",
      "Epoch: [4][400/877] Data 0.000 (0.001) Elapsed 8m 26s (remain 10m 1s) Loss: 0.1515(0.1330) Grad: 1.1505  \n",
      "Epoch: [4][500/877] Data 0.000 (0.001) Elapsed 10m 33s (remain 7m 55s) Loss: 0.0493(0.1320) Grad: 1.2154  \n",
      "Epoch: [4][600/877] Data 0.000 (0.001) Elapsed 12m 39s (remain 5m 48s) Loss: 0.1204(0.1316) Grad: 1.0934  \n",
      "Epoch: [4][700/877] Data 0.000 (0.001) Elapsed 14m 45s (remain 3m 42s) Loss: 0.1061(0.1314) Grad: 1.5191  \n",
      "Epoch: [4][800/877] Data 0.000 (0.001) Elapsed 16m 52s (remain 1m 36s) Loss: 0.1052(0.1324) Grad: 1.2842  \n",
      "Epoch: [4][876/877] Data 0.000 (0.001) Elapsed 18m 27s (remain 0m 0s) Loss: 0.0660(0.1315) Grad: 0.6274  \n",
      "EVAL: [0/220] Data 0.497 (0.497) Elapsed 0m 0s (remain 3m 5s) Loss: 0.2309(0.2309) \n",
      "EVAL: [100/220] Data 0.000 (0.005) Elapsed 0m 34s (remain 0m 40s) Loss: 0.1976(0.1226) \n",
      "EVAL: [200/220] Data 0.000 (0.003) Elapsed 1m 8s (remain 0m 6s) Loss: 0.1271(0.1208) \n"
     ]
    },
    {
     "name": "stderr",
     "output_type": "stream",
     "text": [
      "Epoch 4 - avg_train_loss: 0.1315  avg_val_loss: 0.1214  time: 1182s\n",
      "Epoch 4 - Accuracy: 0.8669324221716022\n",
      "Epoch 4 - Save Best Score: 0.8669 Model\n"
     ]
    },
    {
     "name": "stdout",
     "output_type": "stream",
     "text": [
      "EVAL: [219/220] Data 0.000 (0.002) Elapsed 1m 14s (remain 0m 0s) Loss: 0.1679(0.1214) \n",
      "Epoch: [5][0/877] Data 0.494 (0.494) Elapsed 0m 1s (remain 25m 56s) Loss: 0.2037(0.2037) Grad: 1.9364  \n",
      "Epoch: [5][100/877] Data 0.000 (0.005) Elapsed 2m 8s (remain 16m 23s) Loss: 0.1623(0.1377) Grad: 1.8515  \n",
      "Epoch: [5][200/877] Data 0.000 (0.003) Elapsed 4m 14s (remain 14m 15s) Loss: 0.1707(0.1294) Grad: 1.5342  \n",
      "Epoch: [5][300/877] Data 0.000 (0.002) Elapsed 6m 20s (remain 12m 8s) Loss: 0.1200(0.1252) Grad: 0.9540  \n",
      "Epoch: [5][400/877] Data 0.000 (0.001) Elapsed 8m 26s (remain 10m 1s) Loss: 0.1621(0.1263) Grad: 1.1839  \n",
      "Epoch: [5][500/877] Data 0.000 (0.001) Elapsed 10m 33s (remain 7m 55s) Loss: 0.1641(0.1268) Grad: 1.6314  \n",
      "Epoch: [5][600/877] Data 0.000 (0.001) Elapsed 12m 39s (remain 5m 48s) Loss: 0.1216(0.1270) Grad: 1.6413  \n",
      "Epoch: [5][700/877] Data 0.000 (0.001) Elapsed 14m 45s (remain 3m 42s) Loss: 0.1294(0.1266) Grad: 1.3559  \n",
      "Epoch: [5][800/877] Data 0.000 (0.001) Elapsed 16m 52s (remain 1m 36s) Loss: 0.0709(0.1270) Grad: 0.9826  \n",
      "Epoch: [5][876/877] Data 0.000 (0.001) Elapsed 18m 28s (remain 0m 0s) Loss: 0.1647(0.1268) Grad: 1.3940  \n",
      "EVAL: [0/220] Data 0.484 (0.484) Elapsed 0m 0s (remain 3m 3s) Loss: 0.1914(0.1914) \n",
      "EVAL: [100/220] Data 0.000 (0.005) Elapsed 0m 34s (remain 0m 40s) Loss: 0.1567(0.1192) \n",
      "EVAL: [200/220] Data 0.000 (0.003) Elapsed 1m 8s (remain 0m 6s) Loss: 0.1528(0.1199) \n"
     ]
    },
    {
     "name": "stderr",
     "output_type": "stream",
     "text": [
      "Epoch 5 - avg_train_loss: 0.1268  avg_val_loss: 0.1206  time: 1183s\n",
      "Epoch 5 - Accuracy: 0.8694001518602885\n",
      "Epoch 5 - Save Best Score: 0.8694 Model\n"
     ]
    },
    {
     "name": "stdout",
     "output_type": "stream",
     "text": [
      "EVAL: [219/220] Data 0.000 (0.002) Elapsed 1m 14s (remain 0m 0s) Loss: 0.0893(0.1206) \n",
      "Epoch: [6][0/877] Data 0.488 (0.488) Elapsed 0m 1s (remain 25m 52s) Loss: 0.1405(0.1405) Grad: 1.7307  \n",
      "Epoch: [6][100/877] Data 0.000 (0.005) Elapsed 2m 8s (remain 16m 24s) Loss: 0.1574(0.1272) Grad: 1.7215  \n",
      "Epoch: [6][200/877] Data 0.000 (0.003) Elapsed 4m 14s (remain 14m 15s) Loss: 0.1155(0.1193) Grad: 1.2763  \n",
      "Epoch: [6][300/877] Data 0.000 (0.002) Elapsed 6m 20s (remain 12m 8s) Loss: 0.1613(0.1181) Grad: 1.6761  \n",
      "Epoch: [6][400/877] Data 0.000 (0.001) Elapsed 8m 27s (remain 10m 1s) Loss: 0.0535(0.1187) Grad: 0.6719  \n",
      "Epoch: [6][500/877] Data 0.000 (0.001) Elapsed 10m 33s (remain 7m 55s) Loss: 0.1863(0.1190) Grad: 1.4296  \n",
      "Epoch: [6][600/877] Data 0.000 (0.001) Elapsed 12m 39s (remain 5m 48s) Loss: 0.0767(0.1182) Grad: 1.3190  \n",
      "Epoch: [6][700/877] Data 0.000 (0.001) Elapsed 14m 45s (remain 3m 42s) Loss: 0.1866(0.1169) Grad: 1.1298  \n",
      "Epoch: [6][800/877] Data 0.000 (0.001) Elapsed 16m 52s (remain 1m 36s) Loss: 0.1545(0.1170) Grad: 2.1198  \n",
      "Epoch: [6][876/877] Data 0.000 (0.001) Elapsed 18m 28s (remain 0m 0s) Loss: 0.0880(0.1172) Grad: 0.8581  \n",
      "EVAL: [0/220] Data 0.517 (0.517) Elapsed 0m 0s (remain 3m 10s) Loss: 0.2046(0.2046) \n",
      "EVAL: [100/220] Data 0.000 (0.005) Elapsed 0m 34s (remain 0m 40s) Loss: 0.1920(0.1072) \n",
      "EVAL: [200/220] Data 0.000 (0.003) Elapsed 1m 8s (remain 0m 6s) Loss: 0.1162(0.1099) \n"
     ]
    },
    {
     "name": "stderr",
     "output_type": "stream",
     "text": [
      "Epoch 6 - avg_train_loss: 0.1172  avg_val_loss: 0.1105  time: 1183s\n",
      "Epoch 6 - Accuracy: 0.878132118451025\n",
      "Epoch 6 - Save Best Score: 0.8781 Model\n"
     ]
    },
    {
     "name": "stdout",
     "output_type": "stream",
     "text": [
      "EVAL: [219/220] Data 0.000 (0.002) Elapsed 1m 14s (remain 0m 0s) Loss: 0.1422(0.1105) \n",
      "Epoch: [7][0/877] Data 0.528 (0.528) Elapsed 0m 1s (remain 26m 26s) Loss: 0.0626(0.0626) Grad: 1.2171  \n",
      "Epoch: [7][100/877] Data 0.000 (0.005) Elapsed 2m 8s (remain 16m 24s) Loss: 0.1511(0.1065) Grad: 1.1291  \n",
      "Epoch: [7][200/877] Data 0.000 (0.003) Elapsed 4m 14s (remain 14m 15s) Loss: 0.1152(0.1070) Grad: 1.4192  \n",
      "Epoch: [7][300/877] Data 0.000 (0.002) Elapsed 6m 20s (remain 12m 8s) Loss: 0.0409(0.1074) Grad: 0.8006  \n",
      "Epoch: [7][400/877] Data 0.000 (0.001) Elapsed 8m 26s (remain 10m 1s) Loss: 0.1258(0.1104) Grad: 1.2991  \n",
      "Epoch: [7][500/877] Data 0.000 (0.001) Elapsed 10m 33s (remain 7m 55s) Loss: 0.0960(0.1115) Grad: 1.8802  \n",
      "Epoch: [7][600/877] Data 0.000 (0.001) Elapsed 12m 39s (remain 5m 48s) Loss: 0.0911(0.1115) Grad: 1.4735  \n",
      "Epoch: [7][700/877] Data 0.000 (0.001) Elapsed 14m 45s (remain 3m 42s) Loss: 0.1111(0.1116) Grad: 1.2188  \n",
      "Epoch: [7][800/877] Data 0.000 (0.001) Elapsed 16m 51s (remain 1m 36s) Loss: 0.0454(0.1125) Grad: 1.2075  \n",
      "Epoch: [7][876/877] Data 0.000 (0.001) Elapsed 18m 27s (remain 0m 0s) Loss: 0.1698(0.1123) Grad: 1.3629  \n",
      "EVAL: [0/220] Data 0.513 (0.513) Elapsed 0m 0s (remain 3m 9s) Loss: 0.1756(0.1756) \n",
      "EVAL: [100/220] Data 0.000 (0.005) Elapsed 0m 34s (remain 0m 40s) Loss: 0.1584(0.1040) \n",
      "EVAL: [200/220] Data 0.000 (0.003) Elapsed 1m 7s (remain 0m 6s) Loss: 0.1280(0.1072) \n"
     ]
    },
    {
     "name": "stderr",
     "output_type": "stream",
     "text": [
      "Epoch 7 - avg_train_loss: 0.1123  avg_val_loss: 0.1083  time: 1182s\n",
      "Epoch 7 - Accuracy: 0.8826879271070615\n",
      "Epoch 7 - Save Best Score: 0.8827 Model\n"
     ]
    },
    {
     "name": "stdout",
     "output_type": "stream",
     "text": [
      "EVAL: [219/220] Data 0.000 (0.002) Elapsed 1m 14s (remain 0m 0s) Loss: 0.1226(0.1083) \n",
      "Epoch: [8][0/877] Data 0.523 (0.523) Elapsed 0m 1s (remain 26m 19s) Loss: 0.0816(0.0816) Grad: 1.5863  \n",
      "Epoch: [8][100/877] Data 0.000 (0.005) Elapsed 2m 8s (remain 16m 23s) Loss: 0.1307(0.1031) Grad: 1.0433  \n",
      "Epoch: [8][200/877] Data 0.000 (0.003) Elapsed 4m 14s (remain 14m 15s) Loss: 0.1010(0.1039) Grad: 1.1240  \n",
      "Epoch: [8][300/877] Data 0.000 (0.002) Elapsed 6m 20s (remain 12m 8s) Loss: 0.2489(0.1059) Grad: 1.9542  \n",
      "Epoch: [8][400/877] Data 0.000 (0.001) Elapsed 8m 26s (remain 10m 1s) Loss: 0.1721(0.1050) Grad: 1.8188  \n",
      "Epoch: [8][500/877] Data 0.000 (0.001) Elapsed 10m 32s (remain 7m 54s) Loss: 0.0938(0.1075) Grad: 1.3645  \n",
      "Epoch: [8][600/877] Data 0.000 (0.001) Elapsed 12m 39s (remain 5m 48s) Loss: 0.0758(0.1065) Grad: 0.7084  \n",
      "Epoch: [8][700/877] Data 0.000 (0.001) Elapsed 14m 45s (remain 3m 42s) Loss: 0.0510(0.1059) Grad: 1.2658  \n",
      "Epoch: [8][800/877] Data 0.000 (0.001) Elapsed 16m 51s (remain 1m 35s) Loss: 0.1301(0.1060) Grad: 2.1458  \n",
      "Epoch: [8][876/877] Data 0.000 (0.001) Elapsed 18m 27s (remain 0m 0s) Loss: 0.0342(0.1068) Grad: 1.0782  \n",
      "EVAL: [0/220] Data 0.537 (0.537) Elapsed 0m 0s (remain 3m 15s) Loss: 0.1740(0.1740) \n",
      "EVAL: [100/220] Data 0.000 (0.005) Elapsed 0m 34s (remain 0m 40s) Loss: 0.1637(0.1039) \n",
      "EVAL: [200/220] Data 0.000 (0.003) Elapsed 1m 8s (remain 0m 6s) Loss: 0.1518(0.1063) \n"
     ]
    },
    {
     "name": "stderr",
     "output_type": "stream",
     "text": [
      "Epoch 8 - avg_train_loss: 0.1068  avg_val_loss: 0.1080  time: 1182s\n",
      "Epoch 8 - Accuracy: 0.8832574031890661\n",
      "Epoch 8 - Save Best Score: 0.8833 Model\n"
     ]
    },
    {
     "name": "stdout",
     "output_type": "stream",
     "text": [
      "EVAL: [219/220] Data 0.000 (0.003) Elapsed 1m 14s (remain 0m 0s) Loss: 0.1649(0.1080) \n",
      "Epoch: [9][0/877] Data 0.501 (0.501) Elapsed 0m 1s (remain 26m 3s) Loss: 0.0254(0.0254) Grad: 0.8981  \n",
      "Epoch: [9][100/877] Data 0.000 (0.005) Elapsed 2m 8s (remain 16m 23s) Loss: 0.0678(0.1026) Grad: 1.2660  \n",
      "Epoch: [9][200/877] Data 0.000 (0.003) Elapsed 4m 14s (remain 14m 15s) Loss: 0.0899(0.1054) Grad: 1.4484  \n",
      "Epoch: [9][300/877] Data 0.000 (0.002) Elapsed 6m 20s (remain 12m 8s) Loss: 0.0554(0.1060) Grad: 1.3616  \n",
      "Epoch: [9][400/877] Data 0.000 (0.001) Elapsed 8m 26s (remain 10m 1s) Loss: 0.1003(0.1055) Grad: 1.2772  \n",
      "Epoch: [9][500/877] Data 0.000 (0.001) Elapsed 10m 33s (remain 7m 55s) Loss: 0.1447(0.1048) Grad: 1.5619  \n",
      "Epoch: [9][600/877] Data 0.000 (0.001) Elapsed 12m 39s (remain 5m 48s) Loss: 0.0748(0.1034) Grad: 1.3584  \n",
      "Epoch: [9][700/877] Data 0.000 (0.001) Elapsed 14m 45s (remain 3m 42s) Loss: 0.0671(0.1021) Grad: 1.2137  \n",
      "Epoch: [9][800/877] Data 0.000 (0.001) Elapsed 16m 51s (remain 1m 36s) Loss: 0.1352(0.1022) Grad: 1.6403  \n",
      "Epoch: [9][876/877] Data 0.000 (0.001) Elapsed 18m 27s (remain 0m 0s) Loss: 0.0734(0.1017) Grad: 0.5638  \n",
      "EVAL: [0/220] Data 0.529 (0.529) Elapsed 0m 0s (remain 3m 13s) Loss: 0.1597(0.1597) \n",
      "EVAL: [100/220] Data 0.000 (0.005) Elapsed 0m 34s (remain 0m 40s) Loss: 0.1593(0.1043) \n",
      "EVAL: [200/220] Data 0.000 (0.003) Elapsed 1m 8s (remain 0m 6s) Loss: 0.1303(0.1060) \n"
     ]
    },
    {
     "name": "stderr",
     "output_type": "stream",
     "text": [
      "Epoch 9 - avg_train_loss: 0.1017  avg_val_loss: 0.1077  time: 1182s\n",
      "Epoch 9 - Accuracy: 0.8809794988610479\n"
     ]
    },
    {
     "name": "stdout",
     "output_type": "stream",
     "text": [
      "EVAL: [219/220] Data 0.000 (0.003) Elapsed 1m 14s (remain 0m 0s) Loss: 0.1316(0.1077) \n",
      "Epoch: [10][0/877] Data 0.490 (0.490) Elapsed 0m 1s (remain 25m 59s) Loss: 0.0746(0.0746) Grad: 1.1624  \n",
      "Epoch: [10][100/877] Data 0.000 (0.005) Elapsed 2m 8s (remain 16m 24s) Loss: 0.1180(0.0921) Grad: 1.6994  \n",
      "Epoch: [10][200/877] Data 0.000 (0.003) Elapsed 4m 14s (remain 14m 15s) Loss: 0.0340(0.0994) Grad: 1.0922  \n",
      "Epoch: [10][300/877] Data 0.000 (0.002) Elapsed 6m 20s (remain 12m 8s) Loss: 0.1798(0.0987) Grad: 1.4305  \n",
      "Epoch: [10][400/877] Data 0.000 (0.001) Elapsed 8m 27s (remain 10m 2s) Loss: 0.1033(0.0972) Grad: 1.4288  \n",
      "Epoch: [10][500/877] Data 0.000 (0.001) Elapsed 10m 33s (remain 7m 55s) Loss: 0.0571(0.0966) Grad: 1.1721  \n",
      "Epoch: [10][600/877] Data 0.000 (0.001) Elapsed 12m 39s (remain 5m 48s) Loss: 0.1392(0.0970) Grad: 1.5289  \n",
      "Epoch: [10][700/877] Data 0.000 (0.001) Elapsed 14m 46s (remain 3m 42s) Loss: 0.0979(0.0981) Grad: 1.4219  \n",
      "Epoch: [10][800/877] Data 0.000 (0.001) Elapsed 16m 52s (remain 1m 36s) Loss: 0.0315(0.0981) Grad: 0.8537  \n",
      "Epoch: [10][876/877] Data 0.000 (0.001) Elapsed 18m 28s (remain 0m 0s) Loss: 0.0563(0.0982) Grad: 1.0556  \n",
      "EVAL: [0/220] Data 0.516 (0.516) Elapsed 0m 0s (remain 3m 10s) Loss: 0.1832(0.1832) \n",
      "EVAL: [100/220] Data 0.000 (0.005) Elapsed 0m 34s (remain 0m 40s) Loss: 0.1647(0.1056) \n",
      "EVAL: [200/220] Data 0.000 (0.003) Elapsed 1m 8s (remain 0m 6s) Loss: 0.1165(0.1071) \n"
     ]
    },
    {
     "name": "stderr",
     "output_type": "stream",
     "text": [
      "Epoch 10 - avg_train_loss: 0.0982  avg_val_loss: 0.1084  time: 1183s\n",
      "Epoch 10 - Accuracy: 0.8807896735003796\n"
     ]
    },
    {
     "name": "stdout",
     "output_type": "stream",
     "text": [
      "EVAL: [219/220] Data 0.000 (0.003) Elapsed 1m 14s (remain 0m 0s) Loss: 0.1353(0.1084) \n"
     ]
    },
    {
     "name": "stderr",
     "output_type": "stream",
     "text": [
      "========== fold: 1 result ==========\n",
      "Score: 0.88326\n",
      "========== fold: 2 training ==========\n"
     ]
    },
    {
     "name": "stdout",
     "output_type": "stream",
     "text": [
      "Epoch: [1][0/877] Data 0.488 (0.488) Elapsed 0m 1s (remain 26m 2s) Loss: 0.4755(0.4755) Grad: 2.2619  \n",
      "Epoch: [1][100/877] Data 0.000 (0.005) Elapsed 2m 8s (remain 16m 23s) Loss: 0.2351(0.2603) Grad: 3.0977  \n",
      "Epoch: [1][200/877] Data 0.000 (0.003) Elapsed 4m 14s (remain 14m 15s) Loss: 0.2301(0.2353) Grad: 2.4030  \n",
      "Epoch: [1][300/877] Data 0.000 (0.002) Elapsed 6m 20s (remain 12m 8s) Loss: 0.2708(0.2205) Grad: 2.3381  \n",
      "Epoch: [1][400/877] Data 0.000 (0.001) Elapsed 8m 26s (remain 10m 1s) Loss: 0.2712(0.2109) Grad: 3.3248  \n",
      "Epoch: [1][500/877] Data 0.000 (0.001) Elapsed 10m 33s (remain 7m 55s) Loss: 0.1365(0.2032) Grad: 1.6819  \n",
      "Epoch: [1][600/877] Data 0.000 (0.001) Elapsed 12m 39s (remain 5m 48s) Loss: 0.2664(0.1988) Grad: 2.9948  \n",
      "Epoch: [1][700/877] Data 0.000 (0.001) Elapsed 14m 45s (remain 3m 42s) Loss: 0.0412(0.1939) Grad: 1.2039  \n",
      "Epoch: [1][800/877] Data 0.000 (0.001) Elapsed 16m 52s (remain 1m 36s) Loss: 0.1619(0.1899) Grad: 1.4331  \n",
      "Epoch: [1][876/877] Data 0.000 (0.001) Elapsed 18m 28s (remain 0m 0s) Loss: 0.2112(0.1872) Grad: 1.5212  \n",
      "EVAL: [0/220] Data 0.464 (0.464) Elapsed 0m 0s (remain 2m 58s) Loss: 0.1447(0.1447) \n",
      "EVAL: [100/220] Data 0.000 (0.005) Elapsed 0m 34s (remain 0m 40s) Loss: 0.0809(0.1347) \n",
      "EVAL: [200/220] Data 0.000 (0.002) Elapsed 1m 8s (remain 0m 6s) Loss: 0.1536(0.1378) \n"
     ]
    },
    {
     "name": "stderr",
     "output_type": "stream",
     "text": [
      "Epoch 1 - avg_train_loss: 0.1872  avg_val_loss: 0.1387  time: 1183s\n",
      "Epoch 1 - Accuracy: 0.844693373837099\n",
      "Epoch 1 - Save Best Score: 0.8447 Model\n"
     ]
    },
    {
     "name": "stdout",
     "output_type": "stream",
     "text": [
      "EVAL: [219/220] Data 0.000 (0.002) Elapsed 1m 14s (remain 0m 0s) Loss: 0.1764(0.1387) \n",
      "Epoch: [2][0/877] Data 0.497 (0.497) Elapsed 0m 1s (remain 25m 57s) Loss: 0.0733(0.0733) Grad: 1.0691  \n",
      "Epoch: [2][100/877] Data 0.000 (0.005) Elapsed 2m 8s (remain 16m 24s) Loss: 0.2265(0.1570) Grad: 2.2157  \n",
      "Epoch: [2][200/877] Data 0.000 (0.003) Elapsed 4m 14s (remain 14m 15s) Loss: 0.2426(0.1550) Grad: 2.0430  \n",
      "Epoch: [2][300/877] Data 0.000 (0.002) Elapsed 6m 20s (remain 12m 8s) Loss: 0.1387(0.1520) Grad: 1.5109  \n",
      "Epoch: [2][400/877] Data 0.000 (0.001) Elapsed 8m 27s (remain 10m 1s) Loss: 0.1285(0.1514) Grad: 1.2653  \n",
      "Epoch: [2][500/877] Data 0.000 (0.001) Elapsed 10m 33s (remain 7m 55s) Loss: 0.0765(0.1503) Grad: 1.8991  \n",
      "Epoch: [2][600/877] Data 0.000 (0.001) Elapsed 12m 39s (remain 5m 48s) Loss: 0.1225(0.1506) Grad: 1.4318  \n",
      "Epoch: [2][700/877] Data 0.000 (0.001) Elapsed 14m 46s (remain 3m 42s) Loss: 0.0304(0.1500) Grad: 0.9734  \n",
      "Epoch: [2][800/877] Data 0.000 (0.001) Elapsed 16m 52s (remain 1m 36s) Loss: 0.0932(0.1507) Grad: 1.5555  \n",
      "Epoch: [2][876/877] Data 0.000 (0.001) Elapsed 18m 28s (remain 0m 0s) Loss: 0.1419(0.1505) Grad: 1.8825  \n",
      "EVAL: [0/220] Data 0.472 (0.472) Elapsed 0m 0s (remain 2m 59s) Loss: 0.0999(0.0999) \n",
      "EVAL: [100/220] Data 0.000 (0.005) Elapsed 0m 34s (remain 0m 40s) Loss: 0.0376(0.1349) \n",
      "EVAL: [200/220] Data 0.000 (0.002) Elapsed 1m 7s (remain 0m 6s) Loss: 0.2573(0.1365) \n"
     ]
    },
    {
     "name": "stderr",
     "output_type": "stream",
     "text": [
      "Epoch 2 - avg_train_loss: 0.1505  avg_val_loss: 0.1372  time: 1183s\n",
      "Epoch 2 - Accuracy: 0.8492500474653503\n",
      "Epoch 2 - Save Best Score: 0.8493 Model\n"
     ]
    },
    {
     "name": "stdout",
     "output_type": "stream",
     "text": [
      "EVAL: [219/220] Data 0.000 (0.002) Elapsed 1m 14s (remain 0m 0s) Loss: 0.2496(0.1372) \n",
      "Epoch: [3][0/877] Data 0.496 (0.496) Elapsed 0m 1s (remain 25m 54s) Loss: 0.1464(0.1464) Grad: 1.8354  \n",
      "Epoch: [3][100/877] Data 0.000 (0.005) Elapsed 2m 7s (remain 16m 23s) Loss: 0.0318(0.1388) Grad: 0.7020  \n",
      "Epoch: [3][200/877] Data 0.000 (0.003) Elapsed 4m 14s (remain 14m 14s) Loss: 0.1968(0.1410) Grad: 1.9009  \n",
      "Epoch: [3][300/877] Data 0.000 (0.002) Elapsed 6m 20s (remain 12m 7s) Loss: 0.1458(0.1417) Grad: 1.5889  \n",
      "Epoch: [3][400/877] Data 0.000 (0.001) Elapsed 8m 26s (remain 10m 1s) Loss: 0.1343(0.1396) Grad: 1.5150  \n",
      "Epoch: [3][500/877] Data 0.000 (0.001) Elapsed 10m 32s (remain 7m 54s) Loss: 0.0972(0.1406) Grad: 1.9889  \n",
      "Epoch: [3][600/877] Data 0.000 (0.001) Elapsed 12m 38s (remain 5m 48s) Loss: 0.0894(0.1400) Grad: 0.9486  \n",
      "Epoch: [3][700/877] Data 0.000 (0.001) Elapsed 14m 45s (remain 3m 42s) Loss: 0.1479(0.1399) Grad: 1.5719  \n",
      "Epoch: [3][800/877] Data 0.000 (0.001) Elapsed 16m 51s (remain 1m 35s) Loss: 0.1100(0.1392) Grad: 1.8492  \n",
      "Epoch: [3][876/877] Data 0.000 (0.001) Elapsed 18m 27s (remain 0m 0s) Loss: 0.1625(0.1407) Grad: 1.6450  \n",
      "EVAL: [0/220] Data 0.512 (0.512) Elapsed 0m 0s (remain 3m 9s) Loss: 0.1466(0.1466) \n",
      "EVAL: [100/220] Data 0.000 (0.005) Elapsed 0m 34s (remain 0m 40s) Loss: 0.0771(0.1250) \n",
      "EVAL: [200/220] Data 0.000 (0.003) Elapsed 1m 7s (remain 0m 6s) Loss: 0.1945(0.1257) \n"
     ]
    },
    {
     "name": "stderr",
     "output_type": "stream",
     "text": [
      "Epoch 3 - avg_train_loss: 0.1407  avg_val_loss: 0.1280  time: 1182s\n",
      "Epoch 3 - Accuracy: 0.859692424530093\n",
      "Epoch 3 - Save Best Score: 0.8597 Model\n"
     ]
    },
    {
     "name": "stdout",
     "output_type": "stream",
     "text": [
      "EVAL: [219/220] Data 0.000 (0.002) Elapsed 1m 14s (remain 0m 0s) Loss: 0.1246(0.1280) \n",
      "Epoch: [4][0/877] Data 0.498 (0.498) Elapsed 0m 1s (remain 25m 58s) Loss: 0.0839(0.0839) Grad: 1.1908  \n",
      "Epoch: [4][100/877] Data 0.000 (0.005) Elapsed 2m 8s (remain 16m 24s) Loss: 0.1680(0.1312) Grad: 1.3771  \n",
      "Epoch: [4][200/877] Data 0.000 (0.003) Elapsed 4m 14s (remain 14m 15s) Loss: 0.0521(0.1315) Grad: 0.7918  \n",
      "Epoch: [4][300/877] Data 0.000 (0.002) Elapsed 6m 20s (remain 12m 8s) Loss: 0.1359(0.1341) Grad: 1.4179  \n",
      "Epoch: [4][400/877] Data 0.000 (0.001) Elapsed 8m 27s (remain 10m 1s) Loss: 0.1238(0.1327) Grad: 1.5928  \n",
      "Epoch: [4][500/877] Data 0.000 (0.001) Elapsed 10m 33s (remain 7m 55s) Loss: 0.0861(0.1330) Grad: 1.3213  \n",
      "Epoch: [4][600/877] Data 0.000 (0.001) Elapsed 12m 39s (remain 5m 48s) Loss: 0.0981(0.1330) Grad: 1.1131  \n",
      "Epoch: [4][700/877] Data 0.000 (0.001) Elapsed 14m 46s (remain 3m 42s) Loss: 0.1529(0.1337) Grad: 1.6520  \n",
      "Epoch: [4][800/877] Data 0.000 (0.001) Elapsed 16m 52s (remain 1m 36s) Loss: 0.0246(0.1329) Grad: 0.6295  \n",
      "Epoch: [4][876/877] Data 0.000 (0.001) Elapsed 18m 28s (remain 0m 0s) Loss: 0.0803(0.1328) Grad: 0.9682  \n",
      "EVAL: [0/220] Data 0.466 (0.466) Elapsed 0m 0s (remain 2m 59s) Loss: 0.1283(0.1283) \n",
      "EVAL: [100/220] Data 0.000 (0.005) Elapsed 0m 34s (remain 0m 40s) Loss: 0.1161(0.1138) \n",
      "EVAL: [200/220] Data 0.000 (0.002) Elapsed 1m 8s (remain 0m 6s) Loss: 0.1131(0.1158) \n"
     ]
    },
    {
     "name": "stderr",
     "output_type": "stream",
     "text": [
      "Epoch 4 - avg_train_loss: 0.1328  avg_val_loss: 0.1167  time: 1183s\n",
      "Epoch 4 - Accuracy: 0.87715967343839\n",
      "Epoch 4 - Save Best Score: 0.8772 Model\n"
     ]
    },
    {
     "name": "stdout",
     "output_type": "stream",
     "text": [
      "EVAL: [219/220] Data 0.000 (0.002) Elapsed 1m 14s (remain 0m 0s) Loss: 0.1532(0.1167) \n",
      "Epoch: [5][0/877] Data 0.506 (0.506) Elapsed 0m 1s (remain 26m 5s) Loss: 0.0805(0.0805) Grad: 0.9703  \n",
      "Epoch: [5][100/877] Data 0.000 (0.005) Elapsed 2m 8s (remain 16m 23s) Loss: 0.1695(0.1240) Grad: 1.6603  \n",
      "Epoch: [5][200/877] Data 0.000 (0.003) Elapsed 4m 14s (remain 14m 15s) Loss: 0.1645(0.1274) Grad: 1.3527  \n",
      "Epoch: [5][300/877] Data 0.000 (0.002) Elapsed 6m 20s (remain 12m 8s) Loss: 0.2018(0.1254) Grad: 1.6460  \n",
      "Epoch: [5][400/877] Data 0.000 (0.001) Elapsed 8m 26s (remain 10m 1s) Loss: 0.0623(0.1262) Grad: 0.9425  \n",
      "Epoch: [5][500/877] Data 0.000 (0.001) Elapsed 10m 33s (remain 7m 55s) Loss: 0.1368(0.1268) Grad: 1.5909  \n",
      "Epoch: [5][600/877] Data 0.000 (0.001) Elapsed 12m 39s (remain 5m 48s) Loss: 0.1918(0.1267) Grad: 1.0761  \n",
      "Epoch: [5][700/877] Data 0.000 (0.001) Elapsed 14m 45s (remain 3m 42s) Loss: 0.1308(0.1256) Grad: 1.6222  \n",
      "Epoch: [5][800/877] Data 0.000 (0.001) Elapsed 16m 51s (remain 1m 35s) Loss: 0.0542(0.1252) Grad: 1.3690  \n",
      "Epoch: [5][876/877] Data 0.000 (0.001) Elapsed 18m 27s (remain 0m 0s) Loss: 0.1736(0.1256) Grad: 1.6380  \n",
      "EVAL: [0/220] Data 0.485 (0.485) Elapsed 0m 0s (remain 3m 4s) Loss: 0.1276(0.1276) \n",
      "EVAL: [100/220] Data 0.000 (0.005) Elapsed 0m 34s (remain 0m 40s) Loss: 0.1097(0.1119) \n",
      "EVAL: [200/220] Data 0.000 (0.003) Elapsed 1m 7s (remain 0m 6s) Loss: 0.1317(0.1130) \n"
     ]
    },
    {
     "name": "stderr",
     "output_type": "stream",
     "text": [
      "Epoch 5 - avg_train_loss: 0.1256  avg_val_loss: 0.1139  time: 1182s\n",
      "Epoch 5 - Accuracy: 0.8777292576419214\n",
      "Epoch 5 - Save Best Score: 0.8777 Model\n"
     ]
    },
    {
     "name": "stdout",
     "output_type": "stream",
     "text": [
      "EVAL: [219/220] Data 0.000 (0.002) Elapsed 1m 14s (remain 0m 0s) Loss: 0.1786(0.1139) \n",
      "Epoch: [6][0/877] Data 0.559 (0.559) Elapsed 0m 1s (remain 26m 53s) Loss: 0.0948(0.0948) Grad: 1.3871  \n",
      "Epoch: [6][100/877] Data 0.000 (0.006) Elapsed 2m 8s (remain 16m 24s) Loss: 0.1440(0.1110) Grad: 1.8976  \n",
      "Epoch: [6][200/877] Data 0.000 (0.003) Elapsed 4m 14s (remain 14m 15s) Loss: 0.1708(0.1218) Grad: 1.1687  \n",
      "Epoch: [6][300/877] Data 0.000 (0.002) Elapsed 6m 20s (remain 12m 8s) Loss: 0.1264(0.1224) Grad: 1.6873  \n",
      "Epoch: [6][400/877] Data 0.000 (0.002) Elapsed 8m 27s (remain 10m 2s) Loss: 0.1684(0.1217) Grad: 1.2775  \n",
      "Epoch: [6][500/877] Data 0.000 (0.001) Elapsed 10m 33s (remain 7m 55s) Loss: 0.1713(0.1211) Grad: 1.2877  \n",
      "Epoch: [6][600/877] Data 0.000 (0.001) Elapsed 12m 39s (remain 5m 48s) Loss: 0.0795(0.1204) Grad: 1.2960  \n",
      "Epoch: [6][700/877] Data 0.000 (0.001) Elapsed 14m 46s (remain 3m 42s) Loss: 0.1589(0.1201) Grad: 1.6857  \n",
      "Epoch: [6][800/877] Data 0.000 (0.001) Elapsed 16m 52s (remain 1m 36s) Loss: 0.1434(0.1206) Grad: 1.2763  \n",
      "Epoch: [6][876/877] Data 0.000 (0.001) Elapsed 18m 28s (remain 0m 0s) Loss: 0.1695(0.1206) Grad: 2.0245  \n",
      "EVAL: [0/220] Data 0.479 (0.479) Elapsed 0m 0s (remain 3m 1s) Loss: 0.1429(0.1429) \n",
      "EVAL: [100/220] Data 0.000 (0.005) Elapsed 0m 34s (remain 0m 40s) Loss: 0.0938(0.1091) \n",
      "EVAL: [200/220] Data 0.000 (0.003) Elapsed 1m 7s (remain 0m 6s) Loss: 0.1371(0.1085) \n"
     ]
    },
    {
     "name": "stderr",
     "output_type": "stream",
     "text": [
      "Epoch 6 - avg_train_loss: 0.1206  avg_val_loss: 0.1095  time: 1183s\n",
      "Epoch 6 - Accuracy: 0.881336624264287\n",
      "Epoch 6 - Save Best Score: 0.8813 Model\n"
     ]
    },
    {
     "name": "stdout",
     "output_type": "stream",
     "text": [
      "EVAL: [219/220] Data 0.000 (0.002) Elapsed 1m 14s (remain 0m 0s) Loss: 0.1329(0.1095) \n",
      "Epoch: [7][0/877] Data 0.516 (0.516) Elapsed 0m 1s (remain 26m 13s) Loss: 0.1008(0.1008) Grad: 1.3789  \n",
      "Epoch: [7][100/877] Data 0.000 (0.005) Elapsed 2m 7s (remain 16m 23s) Loss: 0.1684(0.1134) Grad: 1.6426  \n",
      "Epoch: [7][200/877] Data 0.000 (0.003) Elapsed 4m 14s (remain 14m 14s) Loss: 0.1491(0.1116) Grad: 1.3176  \n",
      "Epoch: [7][300/877] Data 0.000 (0.002) Elapsed 6m 20s (remain 12m 7s) Loss: 0.1373(0.1137) Grad: 2.1782  \n",
      "Epoch: [7][400/877] Data 0.000 (0.001) Elapsed 8m 26s (remain 10m 1s) Loss: 0.0696(0.1137) Grad: 0.8557  \n",
      "Epoch: [7][500/877] Data 0.000 (0.001) Elapsed 10m 32s (remain 7m 54s) Loss: 0.1099(0.1132) Grad: 1.0403  \n",
      "Epoch: [7][600/877] Data 0.000 (0.001) Elapsed 12m 38s (remain 5m 48s) Loss: 0.0816(0.1132) Grad: 0.7379  \n",
      "Epoch: [7][700/877] Data 0.000 (0.001) Elapsed 14m 44s (remain 3m 42s) Loss: 0.1063(0.1143) Grad: 1.0660  \n",
      "Epoch: [7][800/877] Data 0.000 (0.001) Elapsed 16m 51s (remain 1m 35s) Loss: 0.0838(0.1130) Grad: 1.4322  \n",
      "Epoch: [7][876/877] Data 0.000 (0.001) Elapsed 18m 26s (remain 0m 0s) Loss: 0.1646(0.1133) Grad: 2.3029  \n",
      "EVAL: [0/220] Data 0.523 (0.523) Elapsed 0m 0s (remain 3m 11s) Loss: 0.1529(0.1529) \n",
      "EVAL: [100/220] Data 0.000 (0.005) Elapsed 0m 34s (remain 0m 40s) Loss: 0.0751(0.1076) \n",
      "EVAL: [200/220] Data 0.000 (0.003) Elapsed 1m 8s (remain 0m 6s) Loss: 0.1438(0.1062) \n"
     ]
    },
    {
     "name": "stderr",
     "output_type": "stream",
     "text": [
      "Epoch 7 - avg_train_loss: 0.1133  avg_val_loss: 0.1073  time: 1181s\n",
      "Epoch 7 - Accuracy: 0.8841845452819442\n",
      "Epoch 7 - Save Best Score: 0.8842 Model\n"
     ]
    },
    {
     "name": "stdout",
     "output_type": "stream",
     "text": [
      "EVAL: [219/220] Data 0.000 (0.003) Elapsed 1m 14s (remain 0m 0s) Loss: 0.2470(0.1073) \n",
      "Epoch: [8][0/877] Data 0.497 (0.497) Elapsed 0m 1s (remain 25m 58s) Loss: 0.0958(0.0958) Grad: 0.9929  \n",
      "Epoch: [8][100/877] Data 0.000 (0.005) Elapsed 2m 8s (remain 16m 23s) Loss: 0.0237(0.0973) Grad: 0.8001  \n",
      "Epoch: [8][200/877] Data 0.000 (0.003) Elapsed 4m 14s (remain 14m 15s) Loss: 0.0962(0.1005) Grad: 1.9264  \n",
      "Epoch: [8][300/877] Data 0.000 (0.002) Elapsed 6m 20s (remain 12m 8s) Loss: 0.0458(0.1043) Grad: 0.9703  \n",
      "Epoch: [8][400/877] Data 0.000 (0.001) Elapsed 8m 26s (remain 10m 1s) Loss: 0.1170(0.1055) Grad: 1.2464  \n",
      "Epoch: [8][500/877] Data 0.000 (0.001) Elapsed 10m 32s (remain 7m 55s) Loss: 0.1140(0.1057) Grad: 1.0199  \n",
      "Epoch: [8][600/877] Data 0.000 (0.001) Elapsed 12m 39s (remain 5m 48s) Loss: 0.1116(0.1062) Grad: 1.5866  \n",
      "Epoch: [8][700/877] Data 0.000 (0.001) Elapsed 14m 45s (remain 3m 42s) Loss: 0.0331(0.1067) Grad: 1.0357  \n",
      "Epoch: [8][800/877] Data 0.000 (0.001) Elapsed 16m 51s (remain 1m 35s) Loss: 0.0865(0.1072) Grad: 2.0512  \n",
      "Epoch: [8][876/877] Data 0.000 (0.001) Elapsed 18m 27s (remain 0m 0s) Loss: 0.0605(0.1065) Grad: 0.2642  \n",
      "EVAL: [0/220] Data 0.473 (0.473) Elapsed 0m 0s (remain 3m 0s) Loss: 0.1356(0.1356) \n",
      "EVAL: [100/220] Data 0.000 (0.005) Elapsed 0m 34s (remain 0m 40s) Loss: 0.0862(0.1064) \n",
      "EVAL: [200/220] Data 0.000 (0.003) Elapsed 1m 8s (remain 0m 6s) Loss: 0.1512(0.1067) \n"
     ]
    },
    {
     "name": "stderr",
     "output_type": "stream",
     "text": [
      "Epoch 8 - avg_train_loss: 0.1065  avg_val_loss: 0.1079  time: 1182s\n",
      "Epoch 8 - Accuracy: 0.8851338522878299\n",
      "Epoch 8 - Save Best Score: 0.8851 Model\n"
     ]
    },
    {
     "name": "stdout",
     "output_type": "stream",
     "text": [
      "EVAL: [219/220] Data 0.000 (0.002) Elapsed 1m 14s (remain 0m 0s) Loss: 0.1790(0.1079) \n",
      "Epoch: [9][0/877] Data 0.501 (0.501) Elapsed 0m 1s (remain 26m 7s) Loss: 0.1197(0.1197) Grad: 1.3744  \n",
      "Epoch: [9][100/877] Data 0.000 (0.005) Elapsed 2m 8s (remain 16m 24s) Loss: 0.1427(0.0967) Grad: 1.5814  \n",
      "Epoch: [9][200/877] Data 0.000 (0.003) Elapsed 4m 14s (remain 14m 15s) Loss: 0.0552(0.1044) Grad: 1.2295  \n",
      "Epoch: [9][300/877] Data 0.000 (0.002) Elapsed 6m 20s (remain 12m 8s) Loss: 0.0878(0.1031) Grad: 0.9439  \n",
      "Epoch: [9][400/877] Data 0.000 (0.001) Elapsed 8m 26s (remain 10m 1s) Loss: 0.1258(0.1025) Grad: 1.3894  \n",
      "Epoch: [9][500/877] Data 0.000 (0.001) Elapsed 10m 32s (remain 7m 55s) Loss: 0.0572(0.1025) Grad: 0.7915  \n",
      "Epoch: [9][600/877] Data 0.000 (0.001) Elapsed 12m 39s (remain 5m 48s) Loss: 0.0099(0.1026) Grad: 0.4054  \n",
      "Epoch: [9][700/877] Data 0.000 (0.001) Elapsed 14m 45s (remain 3m 42s) Loss: 0.0614(0.1024) Grad: 1.3508  \n",
      "Epoch: [9][800/877] Data 0.000 (0.001) Elapsed 16m 51s (remain 1m 35s) Loss: 0.1428(0.1018) Grad: 1.4998  \n",
      "Epoch: [9][876/877] Data 0.000 (0.001) Elapsed 18m 27s (remain 0m 0s) Loss: 0.1016(0.1022) Grad: 1.4087  \n",
      "EVAL: [0/220] Data 0.519 (0.519) Elapsed 0m 0s (remain 3m 11s) Loss: 0.1343(0.1343) \n",
      "EVAL: [100/220] Data 0.000 (0.005) Elapsed 0m 34s (remain 0m 40s) Loss: 0.0794(0.1062) \n",
      "EVAL: [200/220] Data 0.000 (0.003) Elapsed 1m 8s (remain 0m 6s) Loss: 0.1364(0.1056) \n"
     ]
    },
    {
     "name": "stderr",
     "output_type": "stream",
     "text": [
      "Epoch 9 - avg_train_loss: 0.1022  avg_val_loss: 0.1060  time: 1182s\n",
      "Epoch 9 - Accuracy: 0.885323713689007\n",
      "Epoch 9 - Save Best Score: 0.8853 Model\n"
     ]
    },
    {
     "name": "stdout",
     "output_type": "stream",
     "text": [
      "EVAL: [219/220] Data 0.000 (0.003) Elapsed 1m 14s (remain 0m 0s) Loss: 0.1232(0.1060) \n",
      "Epoch: [10][0/877] Data 0.498 (0.498) Elapsed 0m 1s (remain 25m 58s) Loss: 0.1781(0.1781) Grad: 1.3778  \n",
      "Epoch: [10][100/877] Data 0.000 (0.005) Elapsed 2m 8s (remain 16m 24s) Loss: 0.2410(0.1021) Grad: 2.0652  \n",
      "Epoch: [10][200/877] Data 0.000 (0.003) Elapsed 4m 14s (remain 14m 15s) Loss: 0.0942(0.0997) Grad: 1.0767  \n",
      "Epoch: [10][300/877] Data 0.000 (0.002) Elapsed 6m 20s (remain 12m 8s) Loss: 0.0301(0.0977) Grad: 0.7535  \n",
      "Epoch: [10][400/877] Data 0.000 (0.001) Elapsed 8m 27s (remain 10m 1s) Loss: 0.1761(0.0991) Grad: 1.9966  \n",
      "Epoch: [10][500/877] Data 0.000 (0.001) Elapsed 10m 33s (remain 7m 55s) Loss: 0.0538(0.0978) Grad: 0.7030  \n",
      "Epoch: [10][600/877] Data 0.000 (0.001) Elapsed 12m 39s (remain 5m 48s) Loss: 0.1785(0.0992) Grad: 1.8299  \n",
      "Epoch: [10][700/877] Data 0.000 (0.001) Elapsed 14m 45s (remain 3m 42s) Loss: 0.0440(0.0992) Grad: 1.4367  \n",
      "Epoch: [10][800/877] Data 0.000 (0.001) Elapsed 16m 52s (remain 1m 36s) Loss: 0.1074(0.0997) Grad: 1.1998  \n",
      "Epoch: [10][876/877] Data 0.000 (0.001) Elapsed 18m 28s (remain 0m 0s) Loss: 0.0296(0.0999) Grad: 1.1055  \n",
      "EVAL: [0/220] Data 0.505 (0.505) Elapsed 0m 0s (remain 3m 8s) Loss: 0.1362(0.1362) \n",
      "EVAL: [100/220] Data 0.000 (0.005) Elapsed 0m 34s (remain 0m 40s) Loss: 0.0768(0.1048) \n",
      "EVAL: [200/220] Data 0.000 (0.003) Elapsed 1m 8s (remain 0m 6s) Loss: 0.1259(0.1045) \n"
     ]
    },
    {
     "name": "stderr",
     "output_type": "stream",
     "text": [
      "Epoch 10 - avg_train_loss: 0.0999  avg_val_loss: 0.1050  time: 1183s\n",
      "Epoch 10 - Accuracy: 0.8874121891019555\n",
      "Epoch 10 - Save Best Score: 0.8874 Model\n"
     ]
    },
    {
     "name": "stdout",
     "output_type": "stream",
     "text": [
      "EVAL: [219/220] Data 0.000 (0.002) Elapsed 1m 14s (remain 0m 0s) Loss: 0.1342(0.1050) \n"
     ]
    },
    {
     "name": "stderr",
     "output_type": "stream",
     "text": [
      "========== fold: 2 result ==========\n",
      "Score: 0.88741\n",
      "========== fold: 3 training ==========\n"
     ]
    },
    {
     "name": "stdout",
     "output_type": "stream",
     "text": [
      "Epoch: [1][0/877] Data 0.513 (0.513) Elapsed 0m 1s (remain 26m 16s) Loss: 0.5032(0.5032) Grad: 1.9158  \n",
      "Epoch: [1][100/877] Data 0.000 (0.005) Elapsed 2m 7s (remain 16m 23s) Loss: 0.3351(0.2691) Grad: 3.5533  \n",
      "Epoch: [1][200/877] Data 0.000 (0.003) Elapsed 4m 14s (remain 14m 15s) Loss: 0.1830(0.2373) Grad: 3.3565  \n",
      "Epoch: [1][300/877] Data 0.000 (0.002) Elapsed 6m 20s (remain 12m 8s) Loss: 0.2003(0.2168) Grad: 1.8705  \n",
      "Epoch: [1][400/877] Data 0.000 (0.001) Elapsed 8m 26s (remain 10m 1s) Loss: 0.0638(0.2084) Grad: 1.8136  \n",
      "Epoch: [1][500/877] Data 0.000 (0.001) Elapsed 10m 33s (remain 7m 55s) Loss: 0.1288(0.2021) Grad: 1.5202  \n",
      "Epoch: [1][600/877] Data 0.000 (0.001) Elapsed 12m 39s (remain 5m 48s) Loss: 0.0709(0.1964) Grad: 1.1930  \n",
      "Epoch: [1][700/877] Data 0.000 (0.001) Elapsed 14m 45s (remain 3m 42s) Loss: 0.1123(0.1925) Grad: 1.2028  \n",
      "Epoch: [1][800/877] Data 0.000 (0.001) Elapsed 16m 51s (remain 1m 35s) Loss: 0.2447(0.1897) Grad: 1.8450  \n",
      "Epoch: [1][876/877] Data 0.000 (0.001) Elapsed 18m 27s (remain 0m 0s) Loss: 0.0919(0.1870) Grad: 1.2713  \n",
      "EVAL: [0/220] Data 0.481 (0.481) Elapsed 0m 0s (remain 3m 3s) Loss: 0.2140(0.2140) \n",
      "EVAL: [100/220] Data 0.000 (0.005) Elapsed 0m 34s (remain 0m 40s) Loss: 0.1306(0.1477) \n",
      "EVAL: [200/220] Data 0.000 (0.003) Elapsed 1m 7s (remain 0m 6s) Loss: 0.1350(0.1425) \n"
     ]
    },
    {
     "name": "stderr",
     "output_type": "stream",
     "text": [
      "Epoch 1 - avg_train_loss: 0.1870  avg_val_loss: 0.1417  time: 1182s\n",
      "Epoch 1 - Accuracy: 0.8424150370229733\n",
      "Epoch 1 - Save Best Score: 0.8424 Model\n"
     ]
    },
    {
     "name": "stdout",
     "output_type": "stream",
     "text": [
      "EVAL: [219/220] Data 0.000 (0.002) Elapsed 1m 14s (remain 0m 0s) Loss: 0.1464(0.1417) \n",
      "Epoch: [2][0/877] Data 0.515 (0.515) Elapsed 0m 1s (remain 26m 18s) Loss: 0.0408(0.0408) Grad: 1.0530  \n",
      "Epoch: [2][100/877] Data 0.000 (0.005) Elapsed 2m 7s (remain 16m 22s) Loss: 0.2004(0.1533) Grad: 2.0495  \n",
      "Epoch: [2][200/877] Data 0.000 (0.003) Elapsed 4m 14s (remain 14m 14s) Loss: 0.1782(0.1562) Grad: 1.9810  \n",
      "Epoch: [2][300/877] Data 0.000 (0.002) Elapsed 6m 20s (remain 12m 7s) Loss: 0.2453(0.1564) Grad: 1.6095  \n",
      "Epoch: [2][400/877] Data 0.000 (0.001) Elapsed 8m 26s (remain 10m 1s) Loss: 0.1189(0.1567) Grad: 1.1945  \n",
      "Epoch: [2][500/877] Data 0.000 (0.001) Elapsed 10m 32s (remain 7m 54s) Loss: 0.1312(0.1550) Grad: 1.5309  \n",
      "Epoch: [2][600/877] Data 0.000 (0.001) Elapsed 12m 38s (remain 5m 48s) Loss: 0.2159(0.1541) Grad: 1.7168  \n",
      "Epoch: [2][700/877] Data 0.000 (0.001) Elapsed 14m 44s (remain 3m 42s) Loss: 0.1504(0.1528) Grad: 2.1369  \n",
      "Epoch: [2][800/877] Data 0.000 (0.001) Elapsed 16m 51s (remain 1m 35s) Loss: 0.1661(0.1516) Grad: 1.4151  \n",
      "Epoch: [2][876/877] Data 0.000 (0.001) Elapsed 18m 26s (remain 0m 0s) Loss: 0.1072(0.1503) Grad: 1.0734  \n",
      "EVAL: [0/220] Data 0.488 (0.488) Elapsed 0m 0s (remain 3m 3s) Loss: 0.1718(0.1718) \n",
      "EVAL: [100/220] Data 0.000 (0.005) Elapsed 0m 34s (remain 0m 40s) Loss: 0.0519(0.1267) \n",
      "EVAL: [200/220] Data 0.000 (0.003) Elapsed 1m 7s (remain 0m 6s) Loss: 0.1039(0.1313) \n"
     ]
    },
    {
     "name": "stderr",
     "output_type": "stream",
     "text": [
      "Epoch 2 - avg_train_loss: 0.1503  avg_val_loss: 0.1327  time: 1181s\n",
      "Epoch 2 - Accuracy: 0.852857414087716\n",
      "Epoch 2 - Save Best Score: 0.8529 Model\n"
     ]
    },
    {
     "name": "stdout",
     "output_type": "stream",
     "text": [
      "EVAL: [219/220] Data 0.000 (0.002) Elapsed 1m 14s (remain 0m 0s) Loss: 0.1948(0.1327) \n",
      "Epoch: [3][0/877] Data 0.514 (0.514) Elapsed 0m 1s (remain 26m 14s) Loss: 0.1289(0.1289) Grad: 1.1349  \n",
      "Epoch: [3][100/877] Data 0.000 (0.005) Elapsed 2m 7s (remain 16m 23s) Loss: 0.1455(0.1581) Grad: 1.3062  \n",
      "Epoch: [3][200/877] Data 0.000 (0.003) Elapsed 4m 14s (remain 14m 14s) Loss: 0.1622(0.1547) Grad: 2.5717  \n",
      "Epoch: [3][300/877] Data 0.000 (0.002) Elapsed 6m 20s (remain 12m 7s) Loss: 0.1508(0.1505) Grad: 1.6170  \n",
      "Epoch: [3][400/877] Data 0.000 (0.001) Elapsed 8m 26s (remain 10m 1s) Loss: 0.0872(0.1476) Grad: 1.4357  \n",
      "Epoch: [3][500/877] Data 0.000 (0.001) Elapsed 10m 32s (remain 7m 54s) Loss: 0.0953(0.1452) Grad: 1.1158  \n",
      "Epoch: [3][600/877] Data 0.000 (0.001) Elapsed 12m 38s (remain 5m 48s) Loss: 0.1314(0.1447) Grad: 1.4918  \n",
      "Epoch: [3][700/877] Data 0.000 (0.001) Elapsed 14m 44s (remain 3m 42s) Loss: 0.1313(0.1453) Grad: 1.1370  \n",
      "Epoch: [3][800/877] Data 0.000 (0.001) Elapsed 16m 50s (remain 1m 35s) Loss: 0.0616(0.1453) Grad: 1.0635  \n",
      "Epoch: [3][876/877] Data 0.000 (0.001) Elapsed 18m 26s (remain 0m 0s) Loss: 0.0540(0.1439) Grad: 1.0078  \n",
      "EVAL: [0/220] Data 0.540 (0.540) Elapsed 0m 0s (remain 3m 14s) Loss: 0.1912(0.1912) \n",
      "EVAL: [100/220] Data 0.000 (0.005) Elapsed 0m 34s (remain 0m 40s) Loss: 0.0420(0.1171) \n",
      "EVAL: [200/220] Data 0.000 (0.003) Elapsed 1m 8s (remain 0m 6s) Loss: 0.1930(0.1179) \n"
     ]
    },
    {
     "name": "stderr",
     "output_type": "stream",
     "text": [
      "Epoch 3 - avg_train_loss: 0.1439  avg_val_loss: 0.1186  time: 1181s\n",
      "Epoch 3 - Accuracy: 0.87317258401367\n",
      "Epoch 3 - Save Best Score: 0.8732 Model\n"
     ]
    },
    {
     "name": "stdout",
     "output_type": "stream",
     "text": [
      "EVAL: [219/220] Data 0.000 (0.003) Elapsed 1m 14s (remain 0m 0s) Loss: 0.1377(0.1186) \n",
      "Epoch: [4][0/877] Data 0.508 (0.508) Elapsed 0m 1s (remain 26m 11s) Loss: 0.2278(0.2278) Grad: 2.5422  \n",
      "Epoch: [4][100/877] Data 0.000 (0.005) Elapsed 2m 8s (remain 16m 24s) Loss: 0.0518(0.1329) Grad: 0.8282  \n",
      "Epoch: [4][200/877] Data 0.000 (0.003) Elapsed 4m 14s (remain 14m 15s) Loss: 0.1321(0.1352) Grad: 1.3285  \n",
      "Epoch: [4][300/877] Data 0.000 (0.002) Elapsed 6m 20s (remain 12m 8s) Loss: 0.1149(0.1337) Grad: 1.8618  \n",
      "Epoch: [4][400/877] Data 0.000 (0.001) Elapsed 8m 27s (remain 10m 1s) Loss: 0.1689(0.1368) Grad: 1.8569  \n",
      "Epoch: [4][500/877] Data 0.000 (0.001) Elapsed 10m 33s (remain 7m 55s) Loss: 0.0996(0.1370) Grad: 1.2338  \n",
      "Epoch: [4][600/877] Data 0.000 (0.001) Elapsed 12m 39s (remain 5m 48s) Loss: 0.2687(0.1362) Grad: 2.2064  \n",
      "Epoch: [4][700/877] Data 0.000 (0.001) Elapsed 14m 45s (remain 3m 42s) Loss: 0.1637(0.1342) Grad: 1.1155  \n",
      "Epoch: [4][800/877] Data 0.000 (0.001) Elapsed 16m 52s (remain 1m 36s) Loss: 0.1614(0.1338) Grad: 1.2410  \n",
      "Epoch: [4][876/877] Data 0.000 (0.001) Elapsed 18m 28s (remain 0m 0s) Loss: 0.1381(0.1335) Grad: 1.3701  \n",
      "EVAL: [0/220] Data 0.524 (0.524) Elapsed 0m 0s (remain 3m 12s) Loss: 0.1703(0.1703) \n",
      "EVAL: [100/220] Data 0.000 (0.005) Elapsed 0m 34s (remain 0m 40s) Loss: 0.0514(0.1131) \n",
      "EVAL: [200/220] Data 0.000 (0.003) Elapsed 1m 8s (remain 0m 6s) Loss: 0.1787(0.1152) \n"
     ]
    },
    {
     "name": "stderr",
     "output_type": "stream",
     "text": [
      "Epoch 4 - avg_train_loss: 0.1335  avg_val_loss: 0.1155  time: 1183s\n",
      "Epoch 4 - Accuracy: 0.8737421682172014\n",
      "Epoch 4 - Save Best Score: 0.8737 Model\n"
     ]
    },
    {
     "name": "stdout",
     "output_type": "stream",
     "text": [
      "EVAL: [219/220] Data 0.000 (0.003) Elapsed 1m 14s (remain 0m 0s) Loss: 0.1243(0.1155) \n",
      "Epoch: [5][0/877] Data 0.500 (0.500) Elapsed 0m 1s (remain 25m 59s) Loss: 0.1449(0.1449) Grad: 1.5370  \n",
      "Epoch: [5][100/877] Data 0.000 (0.005) Elapsed 2m 8s (remain 16m 24s) Loss: 0.1161(0.1271) Grad: 1.8750  \n",
      "Epoch: [5][200/877] Data 0.000 (0.003) Elapsed 4m 14s (remain 14m 15s) Loss: 0.1224(0.1273) Grad: 1.6065  \n",
      "Epoch: [5][300/877] Data 0.000 (0.002) Elapsed 6m 20s (remain 12m 8s) Loss: 0.2508(0.1266) Grad: 1.7857  \n",
      "Epoch: [5][400/877] Data 0.000 (0.001) Elapsed 8m 27s (remain 10m 1s) Loss: 0.1145(0.1251) Grad: 0.8857  \n",
      "Epoch: [5][500/877] Data 0.000 (0.001) Elapsed 10m 33s (remain 7m 55s) Loss: 0.0874(0.1244) Grad: 1.6392  \n",
      "Epoch: [5][600/877] Data 0.000 (0.001) Elapsed 12m 39s (remain 5m 48s) Loss: 0.1119(0.1248) Grad: 1.4333  \n",
      "Epoch: [5][700/877] Data 0.000 (0.001) Elapsed 14m 45s (remain 3m 42s) Loss: 0.1684(0.1252) Grad: 1.0440  \n",
      "Epoch: [5][800/877] Data 0.000 (0.001) Elapsed 16m 52s (remain 1m 36s) Loss: 0.2699(0.1252) Grad: 1.9534  \n",
      "Epoch: [5][876/877] Data 0.000 (0.001) Elapsed 18m 28s (remain 0m 0s) Loss: 0.1107(0.1264) Grad: 1.4078  \n",
      "EVAL: [0/220] Data 0.567 (0.567) Elapsed 0m 0s (remain 3m 21s) Loss: 0.1535(0.1535) \n",
      "EVAL: [100/220] Data 0.000 (0.006) Elapsed 0m 34s (remain 0m 40s) Loss: 0.0617(0.1085) \n",
      "EVAL: [200/220] Data 0.000 (0.003) Elapsed 1m 8s (remain 0m 6s) Loss: 0.1168(0.1091) \n"
     ]
    },
    {
     "name": "stderr",
     "output_type": "stream",
     "text": [
      "Epoch 5 - avg_train_loss: 0.1264  avg_val_loss: 0.1100  time: 1183s\n",
      "Epoch 5 - Accuracy: 0.87981773305487\n",
      "Epoch 5 - Save Best Score: 0.8798 Model\n"
     ]
    },
    {
     "name": "stdout",
     "output_type": "stream",
     "text": [
      "EVAL: [219/220] Data 0.000 (0.003) Elapsed 1m 14s (remain 0m 0s) Loss: 0.1615(0.1100) \n",
      "Epoch: [6][0/877] Data 0.507 (0.507) Elapsed 0m 1s (remain 26m 6s) Loss: 0.0487(0.0487) Grad: 1.0189  \n",
      "Epoch: [6][100/877] Data 0.000 (0.005) Elapsed 2m 8s (remain 16m 23s) Loss: 0.2197(0.1272) Grad: 1.6000  \n",
      "Epoch: [6][200/877] Data 0.000 (0.003) Elapsed 4m 14s (remain 14m 15s) Loss: 0.0957(0.1234) Grad: 1.1459  \n",
      "Epoch: [6][300/877] Data 0.000 (0.002) Elapsed 6m 20s (remain 12m 8s) Loss: 0.0917(0.1237) Grad: 1.0070  \n",
      "Epoch: [6][400/877] Data 0.000 (0.001) Elapsed 8m 26s (remain 10m 1s) Loss: 0.0781(0.1246) Grad: 1.4902  \n",
      "Epoch: [6][500/877] Data 0.000 (0.001) Elapsed 10m 32s (remain 7m 54s) Loss: 0.0917(0.1222) Grad: 1.1357  \n",
      "Epoch: [6][600/877] Data 0.000 (0.001) Elapsed 12m 39s (remain 5m 48s) Loss: 0.0793(0.1208) Grad: 0.8771  \n",
      "Epoch: [6][700/877] Data 0.000 (0.001) Elapsed 14m 45s (remain 3m 42s) Loss: 0.1651(0.1194) Grad: 1.7898  \n",
      "Epoch: [6][800/877] Data 0.000 (0.001) Elapsed 16m 51s (remain 1m 35s) Loss: 0.1426(0.1184) Grad: 1.0585  \n",
      "Epoch: [6][876/877] Data 0.000 (0.001) Elapsed 18m 27s (remain 0m 0s) Loss: 0.0956(0.1192) Grad: 1.5868  \n",
      "EVAL: [0/220] Data 0.491 (0.491) Elapsed 0m 0s (remain 3m 4s) Loss: 0.1267(0.1267) \n",
      "EVAL: [100/220] Data 0.000 (0.005) Elapsed 0m 34s (remain 0m 40s) Loss: 0.0941(0.1117) \n",
      "EVAL: [200/220] Data 0.000 (0.003) Elapsed 1m 7s (remain 0m 6s) Loss: 0.1078(0.1126) \n"
     ]
    },
    {
     "name": "stderr",
     "output_type": "stream",
     "text": [
      "Epoch 6 - avg_train_loss: 0.1192  avg_val_loss: 0.1140  time: 1182s\n",
      "Epoch 6 - Accuracy: 0.8756407822289729\n"
     ]
    },
    {
     "name": "stdout",
     "output_type": "stream",
     "text": [
      "EVAL: [219/220] Data 0.000 (0.002) Elapsed 1m 14s (remain 0m 0s) Loss: 0.1730(0.1140) \n",
      "Epoch: [7][0/877] Data 0.553 (0.553) Elapsed 0m 1s (remain 26m 43s) Loss: 0.1856(0.1856) Grad: 1.3888  \n",
      "Epoch: [7][100/877] Data 0.000 (0.006) Elapsed 2m 8s (remain 16m 24s) Loss: 0.1141(0.1152) Grad: 1.3602  \n",
      "Epoch: [7][200/877] Data 0.000 (0.003) Elapsed 4m 14s (remain 14m 15s) Loss: 0.0812(0.1093) Grad: 1.2522  \n",
      "Epoch: [7][300/877] Data 0.000 (0.002) Elapsed 6m 20s (remain 12m 8s) Loss: 0.0726(0.1101) Grad: 1.7009  \n",
      "Epoch: [7][400/877] Data 0.000 (0.002) Elapsed 8m 27s (remain 10m 1s) Loss: 0.0934(0.1095) Grad: 1.3934  \n",
      "Epoch: [7][500/877] Data 0.000 (0.001) Elapsed 10m 33s (remain 7m 55s) Loss: 0.0924(0.1108) Grad: 1.1735  \n",
      "Epoch: [7][600/877] Data 0.000 (0.001) Elapsed 12m 39s (remain 5m 48s) Loss: 0.1318(0.1116) Grad: 1.4887  \n",
      "Epoch: [7][700/877] Data 0.000 (0.001) Elapsed 14m 45s (remain 3m 42s) Loss: 0.0600(0.1119) Grad: 1.2920  \n",
      "Epoch: [7][800/877] Data 0.000 (0.001) Elapsed 16m 52s (remain 1m 36s) Loss: 0.0294(0.1126) Grad: 0.7786  \n",
      "Epoch: [7][876/877] Data 0.000 (0.001) Elapsed 18m 28s (remain 0m 0s) Loss: 0.1664(0.1130) Grad: 1.6522  \n",
      "EVAL: [0/220] Data 0.475 (0.475) Elapsed 0m 0s (remain 3m 1s) Loss: 0.1373(0.1373) \n",
      "EVAL: [100/220] Data 0.000 (0.005) Elapsed 0m 34s (remain 0m 40s) Loss: 0.0392(0.1019) \n",
      "EVAL: [200/220] Data 0.000 (0.003) Elapsed 1m 8s (remain 0m 6s) Loss: 0.0936(0.1053) \n"
     ]
    },
    {
     "name": "stderr",
     "output_type": "stream",
     "text": [
      "Epoch 7 - avg_train_loss: 0.1130  avg_val_loss: 0.1063  time: 1183s\n",
      "Epoch 7 - Accuracy: 0.8841845452819442\n",
      "Epoch 7 - Save Best Score: 0.8842 Model\n"
     ]
    },
    {
     "name": "stdout",
     "output_type": "stream",
     "text": [
      "EVAL: [219/220] Data 0.000 (0.002) Elapsed 1m 14s (remain 0m 0s) Loss: 0.1793(0.1063) \n",
      "Epoch: [8][0/877] Data 0.511 (0.511) Elapsed 0m 1s (remain 26m 12s) Loss: 0.0517(0.0517) Grad: 1.1470  \n",
      "Epoch: [8][100/877] Data 0.000 (0.005) Elapsed 2m 8s (remain 16m 23s) Loss: 0.0515(0.1018) Grad: 0.7233  \n",
      "Epoch: [8][200/877] Data 0.000 (0.003) Elapsed 4m 14s (remain 14m 15s) Loss: 0.0839(0.1081) Grad: 1.4321  \n",
      "Epoch: [8][300/877] Data 0.000 (0.002) Elapsed 6m 20s (remain 12m 8s) Loss: 0.0474(0.1070) Grad: 0.8232  \n",
      "Epoch: [8][400/877] Data 0.000 (0.001) Elapsed 8m 26s (remain 10m 1s) Loss: 0.2345(0.1092) Grad: 2.1928  \n",
      "Epoch: [8][500/877] Data 0.000 (0.001) Elapsed 10m 33s (remain 7m 55s) Loss: 0.1331(0.1084) Grad: 0.9160  \n",
      "Epoch: [8][600/877] Data 0.000 (0.001) Elapsed 12m 39s (remain 5m 48s) Loss: 0.2335(0.1076) Grad: 1.7620  \n",
      "Epoch: [8][700/877] Data 0.000 (0.001) Elapsed 14m 45s (remain 3m 42s) Loss: 0.0694(0.1073) Grad: 1.1786  \n",
      "Epoch: [8][800/877] Data 0.000 (0.001) Elapsed 16m 51s (remain 1m 36s) Loss: 0.0507(0.1073) Grad: 1.2145  \n",
      "Epoch: [8][876/877] Data 0.000 (0.001) Elapsed 18m 27s (remain 0m 0s) Loss: 0.0383(0.1067) Grad: 0.8606  \n",
      "EVAL: [0/220] Data 0.503 (0.503) Elapsed 0m 0s (remain 3m 7s) Loss: 0.1058(0.1058) \n",
      "EVAL: [100/220] Data 0.000 (0.005) Elapsed 0m 34s (remain 0m 40s) Loss: 0.0613(0.1005) \n",
      "EVAL: [200/220] Data 0.000 (0.003) Elapsed 1m 7s (remain 0m 6s) Loss: 0.0517(0.1014) \n"
     ]
    },
    {
     "name": "stderr",
     "output_type": "stream",
     "text": [
      "Epoch 8 - avg_train_loss: 0.1067  avg_val_loss: 0.1023  time: 1182s\n",
      "Epoch 8 - Accuracy: 0.8872223277007785\n",
      "Epoch 8 - Save Best Score: 0.8872 Model\n"
     ]
    },
    {
     "name": "stdout",
     "output_type": "stream",
     "text": [
      "EVAL: [219/220] Data 0.000 (0.002) Elapsed 1m 14s (remain 0m 0s) Loss: 0.1585(0.1023) \n",
      "Epoch: [9][0/877] Data 0.542 (0.542) Elapsed 0m 1s (remain 26m 36s) Loss: 0.1170(0.1170) Grad: 1.5579  \n",
      "Epoch: [9][100/877] Data 0.000 (0.006) Elapsed 2m 8s (remain 16m 24s) Loss: 0.1859(0.1044) Grad: 1.7304  \n",
      "Epoch: [9][200/877] Data 0.000 (0.003) Elapsed 4m 14s (remain 14m 16s) Loss: 0.1014(0.1032) Grad: 1.5458  \n",
      "Epoch: [9][300/877] Data 0.000 (0.002) Elapsed 6m 20s (remain 12m 8s) Loss: 0.1063(0.1032) Grad: 1.4617  \n",
      "Epoch: [9][400/877] Data 0.000 (0.002) Elapsed 8m 27s (remain 10m 2s) Loss: 0.0410(0.1021) Grad: 1.2236  \n",
      "Epoch: [9][500/877] Data 0.000 (0.001) Elapsed 10m 33s (remain 7m 55s) Loss: 0.0940(0.1022) Grad: 1.0523  \n",
      "Epoch: [9][600/877] Data 0.000 (0.001) Elapsed 12m 39s (remain 5m 48s) Loss: 0.1200(0.1022) Grad: 1.4306  \n",
      "Epoch: [9][700/877] Data 0.000 (0.001) Elapsed 14m 46s (remain 3m 42s) Loss: 0.1508(0.1024) Grad: 2.1285  \n",
      "Epoch: [9][800/877] Data 0.000 (0.001) Elapsed 16m 52s (remain 1m 36s) Loss: 0.1560(0.1027) Grad: 2.0083  \n",
      "Epoch: [9][876/877] Data 0.000 (0.001) Elapsed 18m 28s (remain 0m 0s) Loss: 0.2238(0.1026) Grad: 1.4235  \n",
      "EVAL: [0/220] Data 0.514 (0.514) Elapsed 0m 0s (remain 3m 9s) Loss: 0.1158(0.1158) \n",
      "EVAL: [100/220] Data 0.000 (0.005) Elapsed 0m 34s (remain 0m 40s) Loss: 0.0491(0.0976) \n",
      "EVAL: [200/220] Data 0.000 (0.003) Elapsed 1m 8s (remain 0m 6s) Loss: 0.1121(0.1005) \n"
     ]
    },
    {
     "name": "stderr",
     "output_type": "stream",
     "text": [
      "Epoch 9 - avg_train_loss: 0.1026  avg_val_loss: 0.1011  time: 1183s\n",
      "Epoch 9 - Accuracy: 0.8904499715207899\n",
      "Epoch 9 - Save Best Score: 0.8904 Model\n"
     ]
    },
    {
     "name": "stdout",
     "output_type": "stream",
     "text": [
      "EVAL: [219/220] Data 0.000 (0.003) Elapsed 1m 14s (remain 0m 0s) Loss: 0.1760(0.1011) \n",
      "Epoch: [10][0/877] Data 0.508 (0.508) Elapsed 0m 1s (remain 26m 6s) Loss: 0.1483(0.1483) Grad: 1.7243  \n",
      "Epoch: [10][100/877] Data 0.000 (0.005) Elapsed 2m 8s (remain 16m 24s) Loss: 0.0996(0.0940) Grad: 1.3505  \n",
      "Epoch: [10][200/877] Data 0.000 (0.003) Elapsed 4m 14s (remain 14m 15s) Loss: 0.0959(0.0986) Grad: 0.8510  \n",
      "Epoch: [10][300/877] Data 0.000 (0.002) Elapsed 6m 20s (remain 12m 8s) Loss: 0.0468(0.1025) Grad: 1.1819  \n",
      "Epoch: [10][400/877] Data 0.000 (0.001) Elapsed 8m 26s (remain 10m 1s) Loss: 0.0376(0.1012) Grad: 0.9151  \n",
      "Epoch: [10][500/877] Data 0.000 (0.001) Elapsed 10m 33s (remain 7m 55s) Loss: 0.0260(0.1019) Grad: 0.5365  \n",
      "Epoch: [10][600/877] Data 0.000 (0.001) Elapsed 12m 39s (remain 5m 48s) Loss: 0.0337(0.1012) Grad: 1.1166  \n",
      "Epoch: [10][700/877] Data 0.000 (0.001) Elapsed 14m 45s (remain 3m 42s) Loss: 0.1025(0.1006) Grad: 1.2944  \n",
      "Epoch: [10][800/877] Data 0.000 (0.001) Elapsed 16m 51s (remain 1m 35s) Loss: 0.1012(0.0994) Grad: 1.8767  \n",
      "Epoch: [10][876/877] Data 0.000 (0.001) Elapsed 18m 27s (remain 0m 0s) Loss: 0.0895(0.0993) Grad: 1.2536  \n",
      "EVAL: [0/220] Data 0.485 (0.485) Elapsed 0m 0s (remain 3m 3s) Loss: 0.1325(0.1325) \n",
      "EVAL: [100/220] Data 0.000 (0.005) Elapsed 0m 34s (remain 0m 40s) Loss: 0.0509(0.0974) \n",
      "EVAL: [200/220] Data 0.000 (0.003) Elapsed 1m 7s (remain 0m 6s) Loss: 0.0897(0.1003) \n"
     ]
    },
    {
     "name": "stderr",
     "output_type": "stream",
     "text": [
      "Epoch 10 - avg_train_loss: 0.0993  avg_val_loss: 0.1010  time: 1182s\n",
      "Epoch 10 - Accuracy: 0.8919688627302069\n",
      "Epoch 10 - Save Best Score: 0.8920 Model\n"
     ]
    },
    {
     "name": "stdout",
     "output_type": "stream",
     "text": [
      "EVAL: [219/220] Data 0.000 (0.002) Elapsed 1m 14s (remain 0m 0s) Loss: 0.1594(0.1010) \n"
     ]
    },
    {
     "name": "stderr",
     "output_type": "stream",
     "text": [
      "========== fold: 3 result ==========\n",
      "Score: 0.89197\n",
      "========== fold: 4 training ==========\n"
     ]
    },
    {
     "name": "stdout",
     "output_type": "stream",
     "text": [
      "Epoch: [1][0/877] Data 0.476 (0.476) Elapsed 0m 1s (remain 25m 43s) Loss: 0.5014(0.5014) Grad: 1.9370  \n",
      "Epoch: [1][100/877] Data 0.000 (0.005) Elapsed 2m 7s (remain 16m 22s) Loss: 0.3366(0.2559) Grad: 3.9500  \n",
      "Epoch: [1][200/877] Data 0.000 (0.003) Elapsed 4m 14s (remain 14m 14s) Loss: 0.1349(0.2286) Grad: 1.8490  \n",
      "Epoch: [1][300/877] Data 0.000 (0.002) Elapsed 6m 20s (remain 12m 7s) Loss: 0.1659(0.2155) Grad: 2.2299  \n",
      "Epoch: [1][400/877] Data 0.000 (0.001) Elapsed 8m 26s (remain 10m 1s) Loss: 0.2268(0.2059) Grad: 2.1545  \n",
      "Epoch: [1][500/877] Data 0.000 (0.001) Elapsed 10m 32s (remain 7m 54s) Loss: 0.1305(0.2007) Grad: 1.8536  \n",
      "Epoch: [1][600/877] Data 0.000 (0.001) Elapsed 12m 39s (remain 5m 48s) Loss: 0.2762(0.1967) Grad: 2.4312  \n",
      "Epoch: [1][700/877] Data 0.000 (0.001) Elapsed 14m 45s (remain 3m 42s) Loss: 0.2371(0.1932) Grad: 1.6724  \n",
      "Epoch: [1][800/877] Data 0.000 (0.001) Elapsed 16m 51s (remain 1m 35s) Loss: 0.1019(0.1891) Grad: 1.8980  \n",
      "Epoch: [1][876/877] Data 0.000 (0.001) Elapsed 18m 27s (remain 0m 0s) Loss: 0.1022(0.1868) Grad: 1.3613  \n",
      "EVAL: [0/220] Data 0.494 (0.494) Elapsed 0m 0s (remain 3m 5s) Loss: 0.0610(0.0610) \n",
      "EVAL: [100/220] Data 0.000 (0.005) Elapsed 0m 34s (remain 0m 40s) Loss: 0.1864(0.1354) \n",
      "EVAL: [200/220] Data 0.000 (0.003) Elapsed 1m 7s (remain 0m 6s) Loss: 0.1167(0.1366) \n"
     ]
    },
    {
     "name": "stderr",
     "output_type": "stream",
     "text": [
      "Epoch 1 - avg_train_loss: 0.1868  avg_val_loss: 0.1386  time: 1182s\n",
      "Epoch 1 - Accuracy: 0.8494399088665274\n",
      "Epoch 1 - Save Best Score: 0.8494 Model\n"
     ]
    },
    {
     "name": "stdout",
     "output_type": "stream",
     "text": [
      "EVAL: [219/220] Data 0.000 (0.002) Elapsed 1m 14s (remain 0m 0s) Loss: 0.1061(0.1386) \n",
      "Epoch: [2][0/877] Data 0.514 (0.514) Elapsed 0m 1s (remain 26m 13s) Loss: 0.2161(0.2161) Grad: 2.3574  \n",
      "Epoch: [2][100/877] Data 0.000 (0.005) Elapsed 2m 8s (remain 16m 24s) Loss: 0.1507(0.1544) Grad: 2.1380  \n",
      "Epoch: [2][200/877] Data 0.000 (0.003) Elapsed 4m 14s (remain 14m 15s) Loss: 0.1241(0.1538) Grad: 1.6505  \n",
      "Epoch: [2][300/877] Data 0.000 (0.002) Elapsed 6m 20s (remain 12m 8s) Loss: 0.1200(0.1540) Grad: 2.4711  \n",
      "Epoch: [2][400/877] Data 0.000 (0.001) Elapsed 8m 26s (remain 10m 1s) Loss: 0.1083(0.1566) Grad: 2.2045  \n",
      "Epoch: [2][500/877] Data 0.000 (0.001) Elapsed 10m 32s (remain 7m 54s) Loss: 0.2028(0.1547) Grad: 2.1784  \n",
      "Epoch: [2][600/877] Data 0.000 (0.001) Elapsed 12m 39s (remain 5m 48s) Loss: 0.1842(0.1530) Grad: 1.6822  \n",
      "Epoch: [2][700/877] Data 0.000 (0.001) Elapsed 14m 45s (remain 3m 42s) Loss: 0.1253(0.1530) Grad: 1.7773  \n",
      "Epoch: [2][800/877] Data 0.000 (0.001) Elapsed 16m 51s (remain 1m 35s) Loss: 0.0602(0.1528) Grad: 1.0197  \n",
      "Epoch: [2][876/877] Data 0.000 (0.001) Elapsed 18m 27s (remain 0m 0s) Loss: 0.0778(0.1525) Grad: 1.5859  \n",
      "EVAL: [0/220] Data 0.550 (0.550) Elapsed 0m 0s (remain 3m 17s) Loss: 0.0939(0.0939) \n",
      "EVAL: [100/220] Data 0.000 (0.006) Elapsed 0m 34s (remain 0m 40s) Loss: 0.2762(0.1197) \n",
      "EVAL: [200/220] Data 0.000 (0.003) Elapsed 1m 7s (remain 0m 6s) Loss: 0.0798(0.1217) \n"
     ]
    },
    {
     "name": "stderr",
     "output_type": "stream",
     "text": [
      "Epoch 2 - avg_train_loss: 0.1525  avg_val_loss: 0.1234  time: 1182s\n",
      "Epoch 2 - Accuracy: 0.8651984051642301\n",
      "Epoch 2 - Save Best Score: 0.8652 Model\n"
     ]
    },
    {
     "name": "stdout",
     "output_type": "stream",
     "text": [
      "EVAL: [219/220] Data 0.000 (0.003) Elapsed 1m 14s (remain 0m 0s) Loss: 0.1184(0.1234) \n",
      "Epoch: [3][0/877] Data 0.512 (0.512) Elapsed 0m 1s (remain 26m 11s) Loss: 0.1817(0.1817) Grad: 1.3039  \n",
      "Epoch: [3][100/877] Data 0.000 (0.005) Elapsed 2m 8s (remain 16m 24s) Loss: 0.1695(0.1381) Grad: 1.7710  \n",
      "Epoch: [3][200/877] Data 0.000 (0.003) Elapsed 4m 14s (remain 14m 15s) Loss: 0.1741(0.1387) Grad: 1.9991  \n",
      "Epoch: [3][300/877] Data 0.000 (0.002) Elapsed 6m 20s (remain 12m 8s) Loss: 0.1407(0.1379) Grad: 1.6528  \n",
      "Epoch: [3][400/877] Data 0.000 (0.001) Elapsed 8m 26s (remain 10m 1s) Loss: 0.1924(0.1382) Grad: 1.4995  \n",
      "Epoch: [3][500/877] Data 0.000 (0.001) Elapsed 10m 33s (remain 7m 55s) Loss: 0.1686(0.1396) Grad: 1.0302  \n",
      "Epoch: [3][600/877] Data 0.000 (0.001) Elapsed 12m 39s (remain 5m 48s) Loss: 0.0529(0.1403) Grad: 0.8341  \n",
      "Epoch: [3][700/877] Data 0.000 (0.001) Elapsed 14m 45s (remain 3m 42s) Loss: 0.1203(0.1397) Grad: 0.8219  \n",
      "Epoch: [3][800/877] Data 0.000 (0.001) Elapsed 16m 51s (remain 1m 36s) Loss: 0.1850(0.1398) Grad: 1.4458  \n",
      "Epoch: [3][876/877] Data 0.000 (0.001) Elapsed 18m 27s (remain 0m 0s) Loss: 0.2223(0.1404) Grad: 1.4144  \n",
      "EVAL: [0/220] Data 0.524 (0.524) Elapsed 0m 0s (remain 3m 35s) Loss: 0.0923(0.0923) \n",
      "EVAL: [100/220] Data 0.000 (0.005) Elapsed 0m 34s (remain 0m 40s) Loss: 0.2249(0.1238) \n",
      "EVAL: [200/220] Data 0.000 (0.003) Elapsed 1m 8s (remain 0m 6s) Loss: 0.0897(0.1247) \n"
     ]
    },
    {
     "name": "stderr",
     "output_type": "stream",
     "text": [
      "Epoch 3 - avg_train_loss: 0.1404  avg_val_loss: 0.1267  time: 1182s\n",
      "Epoch 3 - Accuracy: 0.8638693753559902\n"
     ]
    },
    {
     "name": "stdout",
     "output_type": "stream",
     "text": [
      "EVAL: [219/220] Data 0.000 (0.003) Elapsed 1m 14s (remain 0m 0s) Loss: 0.1714(0.1267) \n",
      "Epoch: [4][0/877] Data 0.530 (0.530) Elapsed 0m 1s (remain 26m 28s) Loss: 0.1142(0.1142) Grad: 1.1157  \n",
      "Epoch: [4][100/877] Data 0.000 (0.005) Elapsed 2m 8s (remain 16m 24s) Loss: 0.0891(0.1303) Grad: 1.3138  \n",
      "Epoch: [4][200/877] Data 0.000 (0.003) Elapsed 4m 14s (remain 14m 15s) Loss: 0.1320(0.1336) Grad: 1.2627  \n",
      "Epoch: [4][300/877] Data 0.000 (0.002) Elapsed 6m 20s (remain 12m 8s) Loss: 0.1566(0.1338) Grad: 1.3363  \n",
      "Epoch: [4][400/877] Data 0.000 (0.001) Elapsed 8m 26s (remain 10m 1s) Loss: 0.1460(0.1330) Grad: 1.7760  \n",
      "Epoch: [4][500/877] Data 0.000 (0.001) Elapsed 10m 33s (remain 7m 55s) Loss: 0.0941(0.1319) Grad: 1.1112  \n",
      "Epoch: [4][600/877] Data 0.000 (0.001) Elapsed 12m 39s (remain 5m 48s) Loss: 0.0926(0.1316) Grad: 0.9389  \n",
      "Epoch: [4][700/877] Data 0.000 (0.001) Elapsed 14m 45s (remain 3m 42s) Loss: 0.1567(0.1325) Grad: 1.5452  \n",
      "Epoch: [4][800/877] Data 0.000 (0.001) Elapsed 16m 51s (remain 1m 35s) Loss: 0.1384(0.1328) Grad: 1.4230  \n",
      "Epoch: [4][876/877] Data 0.000 (0.001) Elapsed 18m 27s (remain 0m 0s) Loss: 0.0727(0.1324) Grad: 1.4733  \n",
      "EVAL: [0/220] Data 0.503 (0.503) Elapsed 0m 0s (remain 3m 7s) Loss: 0.0627(0.0627) \n",
      "EVAL: [100/220] Data 0.000 (0.005) Elapsed 0m 34s (remain 0m 40s) Loss: 0.2085(0.1147) \n",
      "EVAL: [200/220] Data 0.000 (0.003) Elapsed 1m 7s (remain 0m 6s) Loss: 0.0880(0.1130) \n"
     ]
    },
    {
     "name": "stderr",
     "output_type": "stream",
     "text": [
      "Epoch 4 - avg_train_loss: 0.1324  avg_val_loss: 0.1153  time: 1182s\n",
      "Epoch 4 - Accuracy: 0.8707043857983672\n",
      "Epoch 4 - Save Best Score: 0.8707 Model\n"
     ]
    },
    {
     "name": "stdout",
     "output_type": "stream",
     "text": [
      "EVAL: [219/220] Data 0.000 (0.002) Elapsed 1m 14s (remain 0m 0s) Loss: 0.0485(0.1153) \n",
      "Epoch: [5][0/877] Data 0.526 (0.526) Elapsed 0m 1s (remain 26m 23s) Loss: 0.1373(0.1373) Grad: 1.6559  \n",
      "Epoch: [5][100/877] Data 0.000 (0.005) Elapsed 2m 8s (remain 16m 24s) Loss: 0.1626(0.1222) Grad: 1.4251  \n",
      "Epoch: [5][200/877] Data 0.000 (0.003) Elapsed 4m 14s (remain 14m 15s) Loss: 0.1681(0.1223) Grad: 1.1476  \n",
      "Epoch: [5][300/877] Data 0.000 (0.002) Elapsed 6m 20s (remain 12m 8s) Loss: 0.1049(0.1229) Grad: 2.0684  \n",
      "Epoch: [5][400/877] Data 0.000 (0.001) Elapsed 8m 26s (remain 10m 1s) Loss: 0.1173(0.1246) Grad: 1.5728  \n",
      "Epoch: [5][500/877] Data 0.000 (0.001) Elapsed 10m 33s (remain 7m 55s) Loss: 0.0628(0.1244) Grad: 1.0066  \n",
      "Epoch: [5][600/877] Data 0.000 (0.001) Elapsed 12m 39s (remain 5m 48s) Loss: 0.1345(0.1244) Grad: 1.4259  \n",
      "Epoch: [5][700/877] Data 0.000 (0.001) Elapsed 14m 45s (remain 3m 42s) Loss: 0.0643(0.1260) Grad: 1.2701  \n",
      "Epoch: [5][800/877] Data 0.000 (0.001) Elapsed 16m 51s (remain 1m 35s) Loss: 0.2427(0.1262) Grad: 1.6446  \n",
      "Epoch: [5][876/877] Data 0.000 (0.001) Elapsed 18m 27s (remain 0m 0s) Loss: 0.0646(0.1264) Grad: 1.0704  \n",
      "EVAL: [0/220] Data 0.488 (0.488) Elapsed 0m 0s (remain 3m 4s) Loss: 0.0524(0.0524) \n",
      "EVAL: [100/220] Data 0.000 (0.005) Elapsed 0m 34s (remain 0m 40s) Loss: 0.2149(0.1168) \n",
      "EVAL: [200/220] Data 0.000 (0.003) Elapsed 1m 8s (remain 0m 6s) Loss: 0.0836(0.1178) \n"
     ]
    },
    {
     "name": "stderr",
     "output_type": "stream",
     "text": [
      "Epoch 5 - avg_train_loss: 0.1264  avg_val_loss: 0.1192  time: 1182s\n",
      "Epoch 5 - Accuracy: 0.8691854945889501\n"
     ]
    },
    {
     "name": "stdout",
     "output_type": "stream",
     "text": [
      "EVAL: [219/220] Data 0.000 (0.002) Elapsed 1m 14s (remain 0m 0s) Loss: 0.0114(0.1192) \n",
      "Epoch: [6][0/877] Data 0.509 (0.509) Elapsed 0m 1s (remain 26m 10s) Loss: 0.1739(0.1739) Grad: 1.4642  \n",
      "Epoch: [6][100/877] Data 0.000 (0.005) Elapsed 2m 8s (remain 16m 24s) Loss: 0.0748(0.1204) Grad: 1.7217  \n",
      "Epoch: [6][200/877] Data 0.000 (0.003) Elapsed 4m 14s (remain 14m 15s) Loss: 0.1815(0.1219) Grad: 1.1451  \n",
      "Epoch: [6][300/877] Data 0.000 (0.002) Elapsed 6m 20s (remain 12m 8s) Loss: 0.1343(0.1215) Grad: 1.1756  \n",
      "Epoch: [6][400/877] Data 0.000 (0.001) Elapsed 8m 27s (remain 10m 1s) Loss: 0.0944(0.1204) Grad: 0.6694  \n",
      "Epoch: [6][500/877] Data 0.000 (0.001) Elapsed 10m 33s (remain 7m 55s) Loss: 0.1539(0.1212) Grad: 1.7183  \n",
      "Epoch: [6][600/877] Data 0.000 (0.001) Elapsed 12m 39s (remain 5m 48s) Loss: 0.0851(0.1207) Grad: 1.0808  \n",
      "Epoch: [6][700/877] Data 0.000 (0.001) Elapsed 14m 46s (remain 3m 42s) Loss: 0.1028(0.1209) Grad: 1.0360  \n",
      "Epoch: [6][800/877] Data 0.000 (0.001) Elapsed 16m 52s (remain 1m 36s) Loss: 0.1565(0.1202) Grad: 1.5023  \n",
      "Epoch: [6][876/877] Data 0.000 (0.001) Elapsed 18m 28s (remain 0m 0s) Loss: 0.1506(0.1200) Grad: 1.5191  \n",
      "EVAL: [0/220] Data 0.496 (0.496) Elapsed 0m 0s (remain 3m 6s) Loss: 0.0529(0.0529) \n",
      "EVAL: [100/220] Data 0.000 (0.005) Elapsed 0m 34s (remain 0m 40s) Loss: 0.1988(0.1108) \n",
      "EVAL: [200/220] Data 0.000 (0.003) Elapsed 1m 8s (remain 0m 6s) Loss: 0.0948(0.1103) \n"
     ]
    },
    {
     "name": "stderr",
     "output_type": "stream",
     "text": [
      "Epoch 6 - avg_train_loss: 0.1200  avg_val_loss: 0.1115  time: 1183s\n",
      "Epoch 6 - Accuracy: 0.881336624264287\n",
      "Epoch 6 - Save Best Score: 0.8813 Model\n"
     ]
    },
    {
     "name": "stdout",
     "output_type": "stream",
     "text": [
      "EVAL: [219/220] Data 0.000 (0.002) Elapsed 1m 14s (remain 0m 0s) Loss: 0.0584(0.1115) \n",
      "Epoch: [7][0/877] Data 0.513 (0.513) Elapsed 0m 1s (remain 26m 13s) Loss: 0.1513(0.1513) Grad: 1.7729  \n",
      "Epoch: [7][100/877] Data 0.000 (0.005) Elapsed 2m 8s (remain 16m 24s) Loss: 0.0459(0.1058) Grad: 0.7785  \n",
      "Epoch: [7][200/877] Data 0.000 (0.003) Elapsed 4m 14s (remain 14m 15s) Loss: 0.1144(0.1088) Grad: 1.6149  \n",
      "Epoch: [7][300/877] Data 0.000 (0.002) Elapsed 6m 20s (remain 12m 8s) Loss: 0.0193(0.1133) Grad: 0.7469  \n",
      "Epoch: [7][400/877] Data 0.000 (0.001) Elapsed 8m 27s (remain 10m 1s) Loss: 0.1438(0.1144) Grad: 1.6728  \n",
      "Epoch: [7][500/877] Data 0.000 (0.001) Elapsed 10m 33s (remain 7m 55s) Loss: 0.0742(0.1144) Grad: 0.8526  \n",
      "Epoch: [7][600/877] Data 0.000 (0.001) Elapsed 12m 39s (remain 5m 48s) Loss: 0.1557(0.1141) Grad: 1.3260  \n",
      "Epoch: [7][700/877] Data 0.000 (0.001) Elapsed 14m 46s (remain 3m 42s) Loss: 0.1263(0.1142) Grad: 1.8157  \n",
      "Epoch: [7][800/877] Data 0.000 (0.001) Elapsed 16m 52s (remain 1m 36s) Loss: 0.0714(0.1132) Grad: 1.5664  \n",
      "Epoch: [7][876/877] Data 0.000 (0.001) Elapsed 18m 28s (remain 0m 0s) Loss: 0.1460(0.1134) Grad: 1.5276  \n",
      "EVAL: [0/220] Data 0.479 (0.479) Elapsed 0m 0s (remain 3m 3s) Loss: 0.0631(0.0631) \n",
      "EVAL: [100/220] Data 0.000 (0.005) Elapsed 0m 34s (remain 0m 40s) Loss: 0.1957(0.1116) \n",
      "EVAL: [200/220] Data 0.000 (0.003) Elapsed 1m 8s (remain 0m 6s) Loss: 0.1051(0.1091) \n"
     ]
    },
    {
     "name": "stderr",
     "output_type": "stream",
     "text": [
      "Epoch 7 - avg_train_loss: 0.1134  avg_val_loss: 0.1105  time: 1183s\n",
      "Epoch 7 - Accuracy: 0.8820960698689956\n",
      "Epoch 7 - Save Best Score: 0.8821 Model\n"
     ]
    },
    {
     "name": "stdout",
     "output_type": "stream",
     "text": [
      "EVAL: [219/220] Data 0.000 (0.002) Elapsed 1m 14s (remain 0m 0s) Loss: 0.0316(0.1105) \n",
      "Epoch: [8][0/877] Data 0.503 (0.503) Elapsed 0m 1s (remain 26m 3s) Loss: 0.1773(0.1773) Grad: 1.1226  \n",
      "Epoch: [8][100/877] Data 0.000 (0.005) Elapsed 2m 8s (remain 16m 24s) Loss: 0.0468(0.0981) Grad: 1.0702  \n",
      "Epoch: [8][200/877] Data 0.000 (0.003) Elapsed 4m 14s (remain 14m 15s) Loss: 0.0815(0.1017) Grad: 1.9984  \n",
      "Epoch: [8][300/877] Data 0.000 (0.002) Elapsed 6m 20s (remain 12m 8s) Loss: 0.0933(0.1023) Grad: 1.1060  \n",
      "Epoch: [8][400/877] Data 0.000 (0.001) Elapsed 8m 27s (remain 10m 1s) Loss: 0.0522(0.1040) Grad: 1.3733  \n",
      "Epoch: [8][500/877] Data 0.000 (0.001) Elapsed 10m 33s (remain 7m 55s) Loss: 0.0823(0.1054) Grad: 1.3728  \n",
      "Epoch: [8][600/877] Data 0.000 (0.001) Elapsed 12m 39s (remain 5m 48s) Loss: 0.0115(0.1063) Grad: 0.6366  \n",
      "Epoch: [8][700/877] Data 0.000 (0.001) Elapsed 14m 45s (remain 3m 42s) Loss: 0.0721(0.1075) Grad: 1.2666  \n",
      "Epoch: [8][800/877] Data 0.000 (0.001) Elapsed 16m 52s (remain 1m 36s) Loss: 0.0495(0.1075) Grad: 1.4308  \n",
      "Epoch: [8][876/877] Data 0.000 (0.001) Elapsed 18m 28s (remain 0m 0s) Loss: 0.1982(0.1073) Grad: 1.6040  \n",
      "EVAL: [0/220] Data 0.503 (0.503) Elapsed 0m 0s (remain 3m 7s) Loss: 0.0974(0.0974) \n",
      "EVAL: [100/220] Data 0.000 (0.005) Elapsed 0m 34s (remain 0m 40s) Loss: 0.1850(0.1112) \n",
      "EVAL: [200/220] Data 0.000 (0.003) Elapsed 1m 8s (remain 0m 6s) Loss: 0.0858(0.1114) \n"
     ]
    },
    {
     "name": "stderr",
     "output_type": "stream",
     "text": [
      "Epoch 8 - avg_train_loss: 0.1073  avg_val_loss: 0.1127  time: 1183s\n",
      "Epoch 8 - Accuracy: 0.8762103664325043\n"
     ]
    },
    {
     "name": "stdout",
     "output_type": "stream",
     "text": [
      "EVAL: [219/220] Data 0.000 (0.002) Elapsed 1m 14s (remain 0m 0s) Loss: 0.0538(0.1127) \n",
      "Epoch: [9][0/877] Data 0.523 (0.523) Elapsed 0m 1s (remain 26m 21s) Loss: 0.0669(0.0669) Grad: 1.1910  \n",
      "Epoch: [9][100/877] Data 0.000 (0.005) Elapsed 2m 8s (remain 16m 24s) Loss: 0.0968(0.1088) Grad: 1.8631  \n",
      "Epoch: [9][200/877] Data 0.000 (0.003) Elapsed 4m 14s (remain 14m 15s) Loss: 0.1215(0.1045) Grad: 1.2670  \n",
      "Epoch: [9][300/877] Data 0.000 (0.002) Elapsed 6m 20s (remain 12m 8s) Loss: 0.1135(0.1064) Grad: 1.3077  \n",
      "Epoch: [9][400/877] Data 0.000 (0.001) Elapsed 8m 27s (remain 10m 1s) Loss: 0.2004(0.1044) Grad: 1.7154  \n",
      "Epoch: [9][500/877] Data 0.000 (0.001) Elapsed 10m 33s (remain 7m 55s) Loss: 0.1879(0.1033) Grad: 1.6844  \n",
      "Epoch: [9][600/877] Data 0.000 (0.001) Elapsed 12m 39s (remain 5m 48s) Loss: 0.1241(0.1054) Grad: 1.5859  \n",
      "Epoch: [9][700/877] Data 0.000 (0.001) Elapsed 14m 45s (remain 3m 42s) Loss: 0.1263(0.1048) Grad: 0.8759  \n",
      "Epoch: [9][800/877] Data 0.000 (0.001) Elapsed 16m 52s (remain 1m 36s) Loss: 0.1688(0.1044) Grad: 2.1314  \n",
      "Epoch: [9][876/877] Data 0.000 (0.001) Elapsed 18m 28s (remain 0m 0s) Loss: 0.0317(0.1038) Grad: 0.8337  \n",
      "EVAL: [0/220] Data 0.527 (0.527) Elapsed 0m 0s (remain 3m 12s) Loss: 0.0553(0.0553) \n",
      "EVAL: [100/220] Data 0.000 (0.005) Elapsed 0m 34s (remain 0m 40s) Loss: 0.1728(0.1038) \n",
      "EVAL: [200/220] Data 0.000 (0.003) Elapsed 1m 8s (remain 0m 6s) Loss: 0.0919(0.1034) \n"
     ]
    },
    {
     "name": "stderr",
     "output_type": "stream",
     "text": [
      "Epoch 9 - avg_train_loss: 0.1038  avg_val_loss: 0.1046  time: 1183s\n",
      "Epoch 9 - Accuracy: 0.8849439908866528\n",
      "Epoch 9 - Save Best Score: 0.8849 Model\n"
     ]
    },
    {
     "name": "stdout",
     "output_type": "stream",
     "text": [
      "EVAL: [219/220] Data 0.000 (0.003) Elapsed 1m 14s (remain 0m 0s) Loss: 0.0253(0.1046) \n",
      "Epoch: [10][0/877] Data 0.509 (0.509) Elapsed 0m 1s (remain 26m 9s) Loss: 0.0982(0.0982) Grad: 1.1423  \n",
      "Epoch: [10][100/877] Data 0.000 (0.005) Elapsed 2m 8s (remain 16m 24s) Loss: 0.1308(0.0909) Grad: 1.6209  \n",
      "Epoch: [10][200/877] Data 0.000 (0.003) Elapsed 4m 14s (remain 14m 15s) Loss: 0.1343(0.0958) Grad: 1.5941  \n",
      "Epoch: [10][300/877] Data 0.000 (0.002) Elapsed 6m 20s (remain 12m 8s) Loss: 0.0439(0.0977) Grad: 0.7448  \n",
      "Epoch: [10][400/877] Data 0.000 (0.001) Elapsed 8m 27s (remain 10m 2s) Loss: 0.1299(0.0981) Grad: 1.4879  \n",
      "Epoch: [10][500/877] Data 0.000 (0.001) Elapsed 10m 33s (remain 7m 55s) Loss: 0.0808(0.0986) Grad: 1.4963  \n",
      "Epoch: [10][600/877] Data 0.000 (0.001) Elapsed 12m 39s (remain 5m 48s) Loss: 0.1906(0.0989) Grad: 2.5033  \n",
      "Epoch: [10][700/877] Data 0.000 (0.001) Elapsed 14m 46s (remain 3m 42s) Loss: 0.1346(0.1002) Grad: 1.4362  \n",
      "Epoch: [10][800/877] Data 0.000 (0.001) Elapsed 16m 52s (remain 1m 36s) Loss: 0.0473(0.0991) Grad: 1.4111  \n",
      "Epoch: [10][876/877] Data 0.000 (0.001) Elapsed 18m 28s (remain 0m 0s) Loss: 0.1203(0.0996) Grad: 1.3088  \n",
      "EVAL: [0/220] Data 0.502 (0.502) Elapsed 0m 0s (remain 3m 7s) Loss: 0.0570(0.0570) \n",
      "EVAL: [100/220] Data 0.000 (0.005) Elapsed 0m 34s (remain 0m 40s) Loss: 0.1858(0.1029) \n",
      "EVAL: [200/220] Data 0.000 (0.003) Elapsed 1m 8s (remain 0m 6s) Loss: 0.0822(0.1033) \n"
     ]
    },
    {
     "name": "stderr",
     "output_type": "stream",
     "text": [
      "Epoch 10 - avg_train_loss: 0.0996  avg_val_loss: 0.1046  time: 1183s\n",
      "Epoch 10 - Accuracy: 0.8841845452819442\n"
     ]
    },
    {
     "name": "stdout",
     "output_type": "stream",
     "text": [
      "EVAL: [219/220] Data 0.000 (0.002) Elapsed 1m 14s (remain 0m 0s) Loss: 0.0243(0.1046) \n"
     ]
    },
    {
     "name": "stderr",
     "output_type": "stream",
     "text": [
      "========== fold: 4 result ==========\n",
      "Score: 0.88494\n",
      "========== CV ==========\n",
      "Score: 0.88674\n"
     ]
    }
   ],
   "source": [
    "if __name__ == \"__main__\":\n",
    "    main()"
   ]
  }
 ],
 "metadata": {
  "kernelspec": {
   "display_name": "pytorch",
   "language": "python",
   "name": "pytorch"
  },
  "language_info": {
   "codemirror_mode": {
    "name": "ipython",
    "version": 3
   },
   "file_extension": ".py",
   "mimetype": "text/x-python",
   "name": "python",
   "nbconvert_exporter": "python",
   "pygments_lexer": "ipython3",
   "version": "3.7.8"
  }
 },
 "nbformat": 4,
 "nbformat_minor": 4
}
