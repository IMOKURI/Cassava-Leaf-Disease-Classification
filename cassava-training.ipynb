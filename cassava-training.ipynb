{
 "cells": [
  {
   "cell_type": "markdown",
   "metadata": {},
   "source": [
    "# About this notebook  \n",
    "\n",
    "TBD..."
   ]
  },
  {
   "cell_type": "markdown",
   "metadata": {},
   "source": [
    "# Data Loading"
   ]
  },
  {
   "cell_type": "code",
   "execution_count": 1,
   "metadata": {},
   "outputs": [],
   "source": [
    "import os\n",
    "\n",
    "import pandas as pd\n",
    "import seaborn as sns\n",
    "from matplotlib import pyplot as plt"
   ]
  },
  {
   "cell_type": "code",
   "execution_count": 2,
   "metadata": {},
   "outputs": [
    {
     "data": {
      "text/plain": [
       "['train_tfrecords',\n",
       " 'train_images',\n",
       " 'test_images',\n",
       " 'label_num_to_disease_map.json',\n",
       " 'sample_submission.csv',\n",
       " 'train.csv',\n",
       " 'test_tfrecords']"
      ]
     },
     "execution_count": 2,
     "metadata": {},
     "output_type": "execute_result"
    }
   ],
   "source": [
    "os.listdir(\"../input/cassava-leaf-disease-classification\")"
   ]
  },
  {
   "cell_type": "code",
   "execution_count": 3,
   "metadata": {},
   "outputs": [
    {
     "data": {
      "text/html": [
       "<div>\n",
       "<style scoped>\n",
       "    .dataframe tbody tr th:only-of-type {\n",
       "        vertical-align: middle;\n",
       "    }\n",
       "\n",
       "    .dataframe tbody tr th {\n",
       "        vertical-align: top;\n",
       "    }\n",
       "\n",
       "    .dataframe thead th {\n",
       "        text-align: right;\n",
       "    }\n",
       "</style>\n",
       "<table border=\"1\" class=\"dataframe\">\n",
       "  <thead>\n",
       "    <tr style=\"text-align: right;\">\n",
       "      <th></th>\n",
       "      <th>image_id</th>\n",
       "      <th>label</th>\n",
       "      <th>source</th>\n",
       "    </tr>\n",
       "  </thead>\n",
       "  <tbody>\n",
       "    <tr>\n",
       "      <th>0</th>\n",
       "      <td>1000015157.jpg</td>\n",
       "      <td>0</td>\n",
       "      <td>2020</td>\n",
       "    </tr>\n",
       "    <tr>\n",
       "      <th>1</th>\n",
       "      <td>1000201771.jpg</td>\n",
       "      <td>3</td>\n",
       "      <td>2020</td>\n",
       "    </tr>\n",
       "    <tr>\n",
       "      <th>2</th>\n",
       "      <td>100042118.jpg</td>\n",
       "      <td>1</td>\n",
       "      <td>2020</td>\n",
       "    </tr>\n",
       "    <tr>\n",
       "      <th>3</th>\n",
       "      <td>1000723321.jpg</td>\n",
       "      <td>1</td>\n",
       "      <td>2020</td>\n",
       "    </tr>\n",
       "    <tr>\n",
       "      <th>4</th>\n",
       "      <td>1000812911.jpg</td>\n",
       "      <td>3</td>\n",
       "      <td>2020</td>\n",
       "    </tr>\n",
       "  </tbody>\n",
       "</table>\n",
       "</div>"
      ],
      "text/plain": [
       "         image_id  label  source\n",
       "0  1000015157.jpg      0    2020\n",
       "1  1000201771.jpg      3    2020\n",
       "2   100042118.jpg      1    2020\n",
       "3  1000723321.jpg      1    2020\n",
       "4  1000812911.jpg      3    2020"
      ]
     },
     "metadata": {},
     "output_type": "display_data"
    },
    {
     "data": {
      "text/html": [
       "<div>\n",
       "<style scoped>\n",
       "    .dataframe tbody tr th:only-of-type {\n",
       "        vertical-align: middle;\n",
       "    }\n",
       "\n",
       "    .dataframe tbody tr th {\n",
       "        vertical-align: top;\n",
       "    }\n",
       "\n",
       "    .dataframe thead th {\n",
       "        text-align: right;\n",
       "    }\n",
       "</style>\n",
       "<table border=\"1\" class=\"dataframe\">\n",
       "  <thead>\n",
       "    <tr style=\"text-align: right;\">\n",
       "      <th></th>\n",
       "      <th>image_id</th>\n",
       "      <th>label</th>\n",
       "    </tr>\n",
       "  </thead>\n",
       "  <tbody>\n",
       "    <tr>\n",
       "      <th>0</th>\n",
       "      <td>2216849948.jpg</td>\n",
       "      <td>4</td>\n",
       "    </tr>\n",
       "  </tbody>\n",
       "</table>\n",
       "</div>"
      ],
      "text/plain": [
       "         image_id  label\n",
       "0  2216849948.jpg      4"
      ]
     },
     "metadata": {},
     "output_type": "display_data"
    },
    {
     "data": {
      "text/html": [
       "<div>\n",
       "<style scoped>\n",
       "    .dataframe tbody tr th:only-of-type {\n",
       "        vertical-align: middle;\n",
       "    }\n",
       "\n",
       "    .dataframe tbody tr th {\n",
       "        vertical-align: top;\n",
       "    }\n",
       "\n",
       "    .dataframe thead th {\n",
       "        text-align: right;\n",
       "    }\n",
       "</style>\n",
       "<table border=\"1\" class=\"dataframe\">\n",
       "  <thead>\n",
       "    <tr style=\"text-align: right;\">\n",
       "      <th></th>\n",
       "      <th>0</th>\n",
       "    </tr>\n",
       "  </thead>\n",
       "  <tbody>\n",
       "    <tr>\n",
       "      <th>0</th>\n",
       "      <td>Cassava Bacterial Blight (CBB)</td>\n",
       "    </tr>\n",
       "    <tr>\n",
       "      <th>1</th>\n",
       "      <td>Cassava Brown Streak Disease (CBSD)</td>\n",
       "    </tr>\n",
       "    <tr>\n",
       "      <th>2</th>\n",
       "      <td>Cassava Green Mottle (CGM)</td>\n",
       "    </tr>\n",
       "    <tr>\n",
       "      <th>3</th>\n",
       "      <td>Cassava Mosaic Disease (CMD)</td>\n",
       "    </tr>\n",
       "    <tr>\n",
       "      <th>4</th>\n",
       "      <td>Healthy</td>\n",
       "    </tr>\n",
       "  </tbody>\n",
       "</table>\n",
       "</div>"
      ],
      "text/plain": [
       "                                     0\n",
       "0       Cassava Bacterial Blight (CBB)\n",
       "1  Cassava Brown Streak Disease (CBSD)\n",
       "2           Cassava Green Mottle (CGM)\n",
       "3         Cassava Mosaic Disease (CMD)\n",
       "4                              Healthy"
      ]
     },
     "metadata": {},
     "output_type": "display_data"
    }
   ],
   "source": [
    "# train = pd.read_csv(\"../input/cassava-leaf-disease-classification/train.csv\")\n",
    "train = pd.read_csv(\"../input/cassava-leaf-disease-merged/merged.csv\")\n",
    "# train = pd.read_csv(\"../input/cassava-leaf-disease-merged/oversample-0124.csv\")  # label 0124 x3\n",
    "test = pd.read_csv(\"../input/cassava-leaf-disease-classification/sample_submission.csv\")\n",
    "label_map = pd.read_json(\"../input/cassava-leaf-disease-classification/label_num_to_disease_map.json\", orient=\"index\")\n",
    "display(train.head())\n",
    "display(test.head())\n",
    "display(label_map)"
   ]
  },
  {
   "cell_type": "code",
   "execution_count": 4,
   "metadata": {},
   "outputs": [
    {
     "name": "stderr",
     "output_type": "stream",
     "text": [
      "/opt/conda/lib/python3.7/site-packages/seaborn/distributions.py:2557: FutureWarning: `distplot` is a deprecated function and will be removed in a future version. Please adapt your code to use either `displot` (a figure-level function with similar flexibility) or `histplot` (an axes-level function for histograms).\n",
      "  warnings.warn(msg, FutureWarning)\n"
     ]
    },
    {
     "data": {
      "text/plain": [
       "<AxesSubplot:xlabel='label'>"
      ]
     },
     "execution_count": 4,
     "metadata": {},
     "output_type": "execute_result"
    },
    {
     "data": {
      "image/png": "[encoded data removed]",
      "text/plain": [
       "<Figure size 432x288 with 1 Axes>"
      ]
     },
     "metadata": {
      "needs_background": "light"
     },
     "output_type": "display_data"
    }
   ],
   "source": [
    "sns.distplot(train[\"label\"], kde=False)"
   ]
  },
  {
   "cell_type": "markdown",
   "metadata": {},
   "source": [
    "# Directory settings"
   ]
  },
  {
   "cell_type": "code",
   "execution_count": 5,
   "metadata": {},
   "outputs": [],
   "source": [
    "# ====================================================\n",
    "# Directory settings\n",
    "# ====================================================\n",
    "import os\n",
    "\n",
    "OUTPUT_DIR = \"./\"\n",
    "if not os.path.exists(OUTPUT_DIR):\n",
    "    os.makedirs(OUTPUT_DIR)\n",
    "\n",
    "# TRAIN_PATH = \"../input/cassava-leaf-disease-classification/train_images\"\n",
    "TRAIN_PATH = \"../input/cassava-leaf-disease-merged/train\"\n",
    "TEST_PATH = \"../input/cassava-leaf-disease-classification/test_images\""
   ]
  },
  {
   "cell_type": "markdown",
   "metadata": {},
   "source": [
    "# CFG"
   ]
  },
  {
   "cell_type": "code",
   "execution_count": 6,
   "metadata": {},
   "outputs": [],
   "source": [
    "# ====================================================\n",
    "# CFG\n",
    "# ====================================================\n",
    "class CFG:\n",
    "    debug = False\n",
    "    apex = True\n",
    "    print_freq = 100\n",
    "    num_workers = 4\n",
    "    model_name = \"tf_efficientnet_b3_ns\"  # resnext50_32x4d, tf_efficientnet_b3_ns, tf_efficientnet_b4_ns, vit_base_patch16_384, deit_base_patch16_384\n",
    "    batch_size = 24\n",
    "    gradient_accumulation_steps = 2\n",
    "    size = 384 if \"it_base_\" in model_name else 512\n",
    "    n_fold = 5\n",
    "    trn_fold = [0, 1, 2, 3, 4]\n",
    "    criterion = \"BiTemperedLoss\"  # ['CrossEntropyLoss', 'BiTemperedLoss']\n",
    "    btl_t1 = 0.3  # Bi-Tempered Logistic Loss\n",
    "    btl_t2 = 1.0\n",
    "    label_smoothing = 0.05\n",
    "    scheduler = \"CosineAnnealingWarmRestarts\"  # ['ReduceLROnPlateau', 'CosineAnnealingLR', 'CosineAnnealingWarmRestarts', 'CosineAnnealingWarmupRestarts']\n",
    "    scheduler_batch_update = True\n",
    "    epochs = 10\n",
    "    # factor = 0.2  # ReduceLROnPlateau\n",
    "    # patience = 4  # ReduceLROnPlateau\n",
    "    # eps = 1e-6  # ReduceLROnPlateau\n",
    "    # T_max = 10  # CosineAnnealingLR\n",
    "    T_0 = len(train) // n_fold * (n_fold - 1) // batch_size // gradient_accumulation_steps * epochs  # CosineAnnealingWarmRestarts\n",
    "    # first_cycle_steps = (\n",
    "    #     len(train) // n_fold * (n_fold - 1) // batch_size // gradient_accumulation_steps * epochs\n",
    "    # )  # CosineAnnealingWarmupRestarts for batch update\n",
    "    # warmup_steps = first_cycle_steps // 10  # CosineAnnealingWarmupRestarts\n",
    "    # gamma = 0.8  # CosineAnnealingWarmupRestarts\n",
    "    lr = 1e-4\n",
    "    min_lr = 2e-6\n",
    "    weight_decay = 1e-6\n",
    "    max_grad_norm = 1000\n",
    "    seed = 2234\n",
    "    target_size = 5\n",
    "    target_col = \"label\"\n",
    "    train = True\n",
    "    inference = False\n",
    "\n",
    "\n",
    "if CFG.debug:\n",
    "    CFG.epochs = 1\n",
    "    train = train.sample(n=1000, random_state=CFG.seed).reset_index(drop=True)"
   ]
  },
  {
   "cell_type": "markdown",
   "metadata": {},
   "source": [
    "# Library"
   ]
  },
  {
   "cell_type": "code",
   "execution_count": 7,
   "metadata": {},
   "outputs": [],
   "source": [
    "# ====================================================\n",
    "# Library\n",
    "# ====================================================\n",
    "import sys\n",
    "\n",
    "sys.path.append(\"../input/pytorch-image-models/pytorch-image-models-master\")\n",
    "sys.path.append(\"../input/pytorchcosineannealingwithwarmup\")\n",
    "sys.path.append(\"../input/bitemperedlogloss/\")\n",
    "sys.path.append(\"../input/image-fmix/FMix-master\")\n",
    "\n",
    "import math\n",
    "import os\n",
    "import random\n",
    "import shutil\n",
    "import time\n",
    "import warnings\n",
    "from collections import Counter, defaultdict\n",
    "from contextlib import contextmanager\n",
    "from functools import partial\n",
    "from pathlib import Path\n",
    "\n",
    "import bi_tempered_loss_pytorch as btl\n",
    "import cv2\n",
    "import numpy as np\n",
    "import pandas as pd\n",
    "import scipy as sp\n",
    "import timm\n",
    "import torch\n",
    "import torch.nn as nn\n",
    "import torch.nn.functional as F\n",
    "import torchvision.models as models\n",
    "from albumentations import (\n",
    "    CenterCrop,\n",
    "    CoarseDropout,\n",
    "    Compose,\n",
    "    Cutout,\n",
    "    HorizontalFlip,\n",
    "    HueSaturationValue,\n",
    "    IAAAdditiveGaussianNoise,\n",
    "    ImageOnlyTransform,\n",
    "    Normalize,\n",
    "    OneOf,\n",
    "    RandomBrightness,\n",
    "    RandomBrightnessContrast,\n",
    "    RandomContrast,\n",
    "    RandomCrop,\n",
    "    RandomResizedCrop,\n",
    "    Resize,\n",
    "    Rotate,\n",
    "    ShiftScaleRotate,\n",
    "    Transpose,\n",
    "    VerticalFlip,\n",
    ")\n",
    "from albumentations.pytorch import ToTensorV2\n",
    "from cosine_annearing_with_warmup import CosineAnnealingWarmupRestarts\n",
    "from fmix import sample_mask\n",
    "from PIL import Image\n",
    "from sklearn import preprocessing\n",
    "from sklearn.metrics import accuracy_score\n",
    "from sklearn.model_selection import StratifiedKFold\n",
    "from torch.nn.parameter import Parameter\n",
    "from torch.optim import SGD, Adam\n",
    "from torch.optim.lr_scheduler import CosineAnnealingLR, CosineAnnealingWarmRestarts, ReduceLROnPlateau\n",
    "from torch.utils.data import DataLoader, Dataset\n",
    "from tqdm.auto import tqdm\n",
    "\n",
    "warnings.filterwarnings(\"ignore\")\n",
    "\n",
    "if CFG.apex:\n",
    "    from apex import amp\n",
    "\n",
    "device = torch.device(\"cuda\" if torch.cuda.is_available() else \"cpu\")"
   ]
  },
  {
   "cell_type": "markdown",
   "metadata": {},
   "source": [
    "# Utils"
   ]
  },
  {
   "cell_type": "code",
   "execution_count": 8,
   "metadata": {},
   "outputs": [],
   "source": [
    "# ====================================================\n",
    "# Utils\n",
    "# ====================================================\n",
    "def get_score(y_true, y_pred):\n",
    "    return accuracy_score(y_true, y_pred)\n",
    "\n",
    "\n",
    "@contextmanager\n",
    "def timer(name):\n",
    "    t0 = time.time()\n",
    "    LOGGER.info(f\"[{name}] start\")\n",
    "    yield\n",
    "    LOGGER.info(f\"[{name}] done in {time.time() - t0:.0f} s.\")\n",
    "\n",
    "\n",
    "def init_logger(log_file=OUTPUT_DIR + \"train.log\"):\n",
    "    from logging import INFO, FileHandler, Formatter, StreamHandler, getLogger\n",
    "\n",
    "    logger = getLogger(__name__)\n",
    "    logger.setLevel(INFO)\n",
    "    handler1 = StreamHandler()\n",
    "    handler1.setFormatter(Formatter(\"%(message)s\"))\n",
    "    handler2 = FileHandler(filename=log_file)\n",
    "    handler2.setFormatter(Formatter(\"%(message)s\"))\n",
    "    logger.addHandler(handler1)\n",
    "    logger.addHandler(handler2)\n",
    "    return logger\n",
    "\n",
    "\n",
    "LOGGER = init_logger()\n",
    "\n",
    "\n",
    "def seed_torch(seed=42):\n",
    "    random.seed(seed)\n",
    "    os.environ[\"PYTHONHASHSEED\"] = str(seed)\n",
    "    np.random.seed(seed)\n",
    "    torch.manual_seed(seed)\n",
    "    torch.cuda.manual_seed(seed)\n",
    "    torch.backends.cudnn.deterministic = True\n",
    "\n",
    "\n",
    "seed_torch(seed=CFG.seed)"
   ]
  },
  {
   "cell_type": "markdown",
   "metadata": {},
   "source": [
    "# CV split"
   ]
  },
  {
   "cell_type": "code",
   "execution_count": 9,
   "metadata": {},
   "outputs": [
    {
     "name": "stdout",
     "output_type": "stream",
     "text": [
      "fold  label\n",
      "0     0         299\n",
      "      1         695\n",
      "      2         604\n",
      "      3        3092\n",
      "      4         578\n",
      "1     0         299\n",
      "      1         695\n",
      "      2         604\n",
      "      3        3092\n",
      "      4         578\n",
      "2     0         298\n",
      "      1         695\n",
      "      2         603\n",
      "      3        3093\n",
      "      4         578\n",
      "3     0         298\n",
      "      1         695\n",
      "      2         603\n",
      "      3        3093\n",
      "      4         578\n",
      "4     0         298\n",
      "      1         696\n",
      "      2         603\n",
      "      3        3092\n",
      "      4         578\n",
      "dtype: int64\n"
     ]
    }
   ],
   "source": [
    "folds = train.copy()\n",
    "Fold = StratifiedKFold(n_splits=CFG.n_fold, shuffle=True, random_state=CFG.seed)\n",
    "for n, (train_index, val_index) in enumerate(Fold.split(folds, folds[CFG.target_col])):\n",
    "    folds.loc[val_index, \"fold\"] = int(n)\n",
    "folds[\"fold\"] = folds[\"fold\"].astype(int)\n",
    "print(folds.groupby([\"fold\", CFG.target_col]).size())"
   ]
  },
  {
   "cell_type": "markdown",
   "metadata": {},
   "source": [
    "# Dataset"
   ]
  },
  {
   "cell_type": "code",
   "execution_count": 10,
   "metadata": {},
   "outputs": [],
   "source": [
    "# ====================================================\n",
    "# Dataset\n",
    "# ====================================================\n",
    "class TrainDataset(Dataset):\n",
    "    def __init__(self, df, transform=None):\n",
    "        self.df = df\n",
    "        self.file_names = df[\"image_id\"].values\n",
    "        self.labels = df[\"label\"].values\n",
    "        self.transform = transform\n",
    "\n",
    "    def __len__(self):\n",
    "        return len(self.df)\n",
    "\n",
    "    def __getitem__(self, idx):\n",
    "        file_name = self.file_names[idx]\n",
    "        file_path = f\"{TRAIN_PATH}/{file_name}\"\n",
    "        image = cv2.imread(file_path)\n",
    "        image = cv2.cvtColor(image, cv2.COLOR_BGR2RGB)\n",
    "        if self.transform:\n",
    "            augmented = self.transform(image=image)\n",
    "            image = augmented[\"image\"]\n",
    "        label = torch.tensor(self.labels[idx]).long()\n",
    "        return image, label\n",
    "\n",
    "\n",
    "class TestDataset(Dataset):\n",
    "    def __init__(self, df, transform=None):\n",
    "        self.df = df\n",
    "        self.file_names = df[\"image_id\"].values\n",
    "        self.transform = transform\n",
    "\n",
    "    def __len__(self):\n",
    "        return len(self.df)\n",
    "\n",
    "    def __getitem__(self, idx):\n",
    "        file_name = self.file_names[idx]\n",
    "        file_path = f\"{TEST_PATH}/{file_name}\"\n",
    "        image = cv2.imread(file_path)\n",
    "        image = cv2.cvtColor(image, cv2.COLOR_BGR2RGB)\n",
    "        if self.transform:\n",
    "            augmented = self.transform(image=image)\n",
    "            image = augmented[\"image\"]\n",
    "        return image"
   ]
  },
  {
   "cell_type": "code",
   "execution_count": 11,
   "metadata": {},
   "outputs": [
    {
     "data": {
      "image/png": "[encoded data removed]",
      "text/plain": [
       "<Figure size 432x288 with 1 Axes>"
      ]
     },
     "metadata": {
      "needs_background": "light"
     },
     "output_type": "display_data"
    }
   ],
   "source": [
    "train_dataset = TrainDataset(train, transform=None)\n",
    "\n",
    "for i in range(1):\n",
    "    image, label = train_dataset[i]\n",
    "    plt.imshow(image)\n",
    "    plt.title(f\"label: {label}\")\n",
    "    plt.show()"
   ]
  },
  {
   "cell_type": "markdown",
   "metadata": {},
   "source": [
    "# Transforms"
   ]
  },
  {
   "cell_type": "code",
   "execution_count": 12,
   "metadata": {},
   "outputs": [],
   "source": [
    "# ====================================================\n",
    "# Transforms\n",
    "# ====================================================\n",
    "def get_transforms(*, data):\n",
    "\n",
    "    if data == \"train\":\n",
    "        return Compose(\n",
    "            [\n",
    "                # Resize(CFG.size, CFG.size),\n",
    "                RandomResizedCrop(CFG.size, CFG.size),\n",
    "                Transpose(p=0.5),\n",
    "                HorizontalFlip(p=0.5),\n",
    "                VerticalFlip(p=0.5),\n",
    "                ShiftScaleRotate(p=0.5),\n",
    "                HueSaturationValue(hue_shift_limit=0.2, sat_shift_limit=0.2, val_shift_limit=0.2, p=0.5),\n",
    "                RandomBrightnessContrast(brightness_limit=(-0.1, 0.1), contrast_limit=(-0.1, 0.1), p=0.5),\n",
    "                CoarseDropout(p=0.5),\n",
    "                Cutout(p=0.5),\n",
    "                Normalize(\n",
    "                    mean=[0.485, 0.456, 0.406],\n",
    "                    std=[0.229, 0.224, 0.225],\n",
    "                ),\n",
    "                ToTensorV2(),\n",
    "            ]\n",
    "        )\n",
    "\n",
    "    elif data == \"valid\":\n",
    "        return Compose(\n",
    "            [\n",
    "                Resize(CFG.size, CFG.size),\n",
    "                CenterCrop(CFG.size, CFG.size),\n",
    "                Normalize(\n",
    "                    mean=[0.485, 0.456, 0.406],\n",
    "                    std=[0.229, 0.224, 0.225],\n",
    "                ),\n",
    "                ToTensorV2(),\n",
    "            ]\n",
    "        )"
   ]
  },
  {
   "cell_type": "code",
   "execution_count": 13,
   "metadata": {},
   "outputs": [
    {
     "data": {
      "image/png": "[encoded data removed]",
      "text/plain": [
       "<Figure size 432x288 with 1 Axes>"
      ]
     },
     "metadata": {
      "needs_background": "light"
     },
     "output_type": "display_data"
    }
   ],
   "source": [
    "train_dataset = TrainDataset(train, transform=get_transforms(data=\"train\"))\n",
    "\n",
    "for i in range(1):\n",
    "    image, label = train_dataset[i]\n",
    "    plt.imshow(image[0])\n",
    "    plt.title(f\"label: {label}\")\n",
    "    plt.show()"
   ]
  },
  {
   "cell_type": "markdown",
   "metadata": {},
   "source": [
    "# CutMix / FMix\n"
   ]
  },
  {
   "cell_type": "code",
   "execution_count": 14,
   "metadata": {},
   "outputs": [],
   "source": [
    "def rand_bbox(size, lam):\n",
    "    W = size[2]\n",
    "    H = size[3]\n",
    "    cut_rat = np.sqrt(1.0 - lam)\n",
    "    cut_w = np.int(W * cut_rat)\n",
    "    cut_h = np.int(H * cut_rat)\n",
    "\n",
    "    # uniform\n",
    "    cx = np.random.randint(W)\n",
    "    cy = np.random.randint(H)\n",
    "\n",
    "    bbx1 = np.clip(cx - cut_w // 2, 0, W)\n",
    "    bby1 = np.clip(cy - cut_h // 2, 0, H)\n",
    "    bbx2 = np.clip(cx + cut_w // 2, 0, W)\n",
    "    bby2 = np.clip(cy + cut_h // 2, 0, H)\n",
    "    return bbx1, bby1, bbx2, bby2\n",
    "\n",
    "\n",
    "def cutmix(data, target, alpha):\n",
    "    indices = torch.randperm(data.size(0))\n",
    "    shuffled_data = data[indices]\n",
    "    shuffled_target = target[indices]\n",
    "\n",
    "    lam = np.clip(np.random.beta(alpha, alpha), 0.3, 0.4)\n",
    "    bbx1, bby1, bbx2, bby2 = rand_bbox(data.size(), lam)\n",
    "    new_data = data.clone()\n",
    "    new_data[:, :, bby1:bby2, bbx1:bbx2] = data[indices, :, bby1:bby2, bbx1:bbx2]\n",
    "    # adjust lambda to exactly match pixel ratio\n",
    "    lam = 1 - ((bbx2 - bbx1) * (bby2 - bby1) / (data.size()[-1] * data.size()[-2]))\n",
    "    targets = (target, shuffled_target, lam)\n",
    "\n",
    "    return new_data, targets\n",
    "\n",
    "\n",
    "def fmix(data, targets, alpha, decay_power, shape, max_soft=0.0, reformulate=False):\n",
    "    lam, mask = sample_mask(alpha, decay_power, shape, max_soft, reformulate)\n",
    "    if CFG.apex:\n",
    "        # mask = torch.tensor(mask, device=device).float()\n",
    "        mask = mask.astype(np.float32)\n",
    "    indices = torch.randperm(data.size(0))\n",
    "    shuffled_data = data[indices]\n",
    "    shuffled_targets = targets[indices]\n",
    "    x1 = torch.from_numpy(mask).to(device) * data\n",
    "    x2 = torch.from_numpy(1 - mask).to(device) * shuffled_data\n",
    "    targets = (targets, shuffled_targets, lam)\n",
    "\n",
    "    return (x1 + x2), targets"
   ]
  },
  {
   "cell_type": "markdown",
   "metadata": {},
   "source": [
    "# MixUp"
   ]
  },
  {
   "cell_type": "code",
   "execution_count": 15,
   "metadata": {},
   "outputs": [],
   "source": [
    "# https://github.com/yuhao318/mwh/blob/e9e2da8fc6/utils.py\n",
    "def mixup(x, y, alpha=1.0, use_cuda=True):\n",
    "\n",
    "    \"\"\"Compute the mixup data. Return mixed inputs, pairs of targets, and lambda\"\"\"\n",
    "    if alpha > 0.0:\n",
    "        lam = np.random.beta(alpha, alpha)\n",
    "        lam = max(lam, 1 - lam)\n",
    "        # lam = min(lam, 1-lam)\n",
    "    else:\n",
    "        lam = 1.0\n",
    "    batch_size = x.size()[0]\n",
    "    if use_cuda:\n",
    "        index = torch.randperm(batch_size).cuda()\n",
    "    else:\n",
    "        index = torch.randperm(batch_size)\n",
    "\n",
    "    ## SYM\n",
    "    # mixed_x = lam * x + (1 - lam) * x[index,:]\n",
    "    # mixed_y = (1 - lam) * x + lam * x[index,:]\n",
    "    # mixed_image  = torch.cat([mixed_x,mixed_y], 0)\n",
    "    # y_a, y_b = y, y[index]\n",
    "    # mixed_label  = torch.cat([y_a,y_b], 0)\n",
    "\n",
    "    ## Reduce batch size\n",
    "    # new_batch_size = batch_size // 2\n",
    "    # x_i = x[ : new_batch_size]\n",
    "    # x_j = x[new_batch_size : ]\n",
    "    # y_a = y[ : new_batch_size]\n",
    "    # y_b = y[new_batch_size : ]\n",
    "    # mixed_x = lam * x_i + (1 - lam) * x_j\n",
    "\n",
    "    ## NO SYM\n",
    "    mixed_x = lam * x + (1 - lam) * x[index, :]\n",
    "    y_a, y_b = y, y[index]\n",
    "\n",
    "    ## Only Alpha\n",
    "    # mixed_x = 0.5 * x + (1 - 0.5) * x[index,:]\n",
    "    # mixed_image  = mixed_x\n",
    "    # y_a, y_b = y, y[index]\n",
    "    # ind_label = torch.randint_like(y, 0,2)\n",
    "    # mixed_label  = ind_label * y_a + (1-ind_label) * y_b\n",
    "\n",
    "    ## Reduce batch size and SYM\n",
    "    # new_batch_size = batch_size // 2\n",
    "    # x_i = x[ : new_batch_size]\n",
    "    # x_j = x[new_batch_size : ]\n",
    "    # y_a = y[ : new_batch_size]\n",
    "    # y_b = y[new_batch_size : ]\n",
    "    # mixed_x = lam * x_i + (1 - lam) * x_j\n",
    "    # mixed_y = (1 - lam) * x_i + lam * x_j\n",
    "    # mixed_x  = torch.cat([mixed_x,mixed_y], 0)\n",
    "    # y_b = torch.cat([y_b,y_a], 0)\n",
    "    # y_a = y\n",
    "\n",
    "    # return mixed_image, mixed_label, lam\n",
    "    return mixed_x, (y_a, y_b, lam)"
   ]
  },
  {
   "cell_type": "markdown",
   "metadata": {},
   "source": [
    "# MODEL"
   ]
  },
  {
   "cell_type": "code",
   "execution_count": 16,
   "metadata": {},
   "outputs": [],
   "source": [
    "# ====================================================\n",
    "# MODEL\n",
    "# ====================================================\n",
    "class CassvaImgClassifier(nn.Module):\n",
    "    def __init__(self, model_name=\"resnext50_32x4d\", pretrained=False):\n",
    "        super().__init__()\n",
    "        self.model_name = model_name\n",
    "\n",
    "        if model_name.startswith(\"deit_\"):\n",
    "            self.model = torch.hub.load(\"facebookresearch/deit:main\", model_name, pretrained=True)\n",
    "\n",
    "            if model_name == \"deit_base_patch16_384\":\n",
    "                n_features = self.model.head.in_features\n",
    "                self.model.head = nn.Linear(n_features, CFG.target_size)\n",
    "\n",
    "        else:\n",
    "            self.model = timm.create_model(model_name, pretrained=pretrained)\n",
    "\n",
    "            if model_name == \"resnext50_32x4d\":\n",
    "                n_features = self.model.fc.in_features\n",
    "                self.model.fc = nn.Linear(n_features, CFG.target_size)\n",
    "\n",
    "            elif model_name.startswith(\"tf_efficientnet\"):\n",
    "                n_features = self.model.classifier.in_features\n",
    "                self.model.classifier = nn.Linear(n_features, CFG.target_size)\n",
    "\n",
    "            elif model_name.startswith(\"vit_\"):\n",
    "                n_features = self.model.head.in_features\n",
    "                self.model.head = nn.Linear(n_features, CFG.target_size)\n",
    "\n",
    "    def forward(self, x):\n",
    "        x = self.model(x)\n",
    "        return x"
   ]
  },
  {
   "cell_type": "code",
   "execution_count": 17,
   "metadata": {},
   "outputs": [],
   "source": [
    "def freeze_batch_normalization(model):\n",
    "    if CFG.model_name.startswith(\"tf_efficientnet_\"):\n",
    "        for name1, child1 in model.named_children():\n",
    "            for name2, child2 in child1.named_children():\n",
    "                # print(f\"===== {name2} =====\")\n",
    "                if name2.startswith(\"bn\"):\n",
    "                    for param in child2.parameters():\n",
    "                        param.requires_grad = False\n",
    "                        # print(param.requires_grad)\n",
    "\n",
    "                for child3 in child2.children():\n",
    "                    if isinstance(child3, nn.modules.container.Sequential):\n",
    "                        for child4 in child3.children():\n",
    "                            for child5 in child4.children():\n",
    "                                if isinstance(child5, nn.BatchNorm2d):\n",
    "                                    # print(child5)\n",
    "                                    for param in child5.parameters():\n",
    "                                        param.requires_grad = False\n",
    "                                        # print(param.requires_grad)"
   ]
  },
  {
   "cell_type": "code",
   "execution_count": 18,
   "metadata": {},
   "outputs": [
    {
     "name": "stdout",
     "output_type": "stream",
     "text": [
      "tensor([[ 0.0814, -0.0171,  0.1005,  0.0140, -0.1159],\n",
      "        [ 0.2671,  0.1666, -0.0649,  0.1493, -0.0416],\n",
      "        [ 0.0967,  0.0237,  0.0580,  0.0321, -0.0953],\n",
      "        [ 0.5588,  0.5761, -0.1882,  0.3052,  0.1273]],\n",
      "       grad_fn=<AddmmBackward>)\n"
     ]
    }
   ],
   "source": [
    "model = CassvaImgClassifier(model_name=CFG.model_name, pretrained=False)\n",
    "freeze_batch_normalization(model)\n",
    "# print(model)\n",
    "\n",
    "train_dataset = TrainDataset(train, transform=get_transforms(data=\"train\"))\n",
    "train_loader = DataLoader(train_dataset, batch_size=4, shuffle=True, num_workers=4, pin_memory=True, drop_last=True)\n",
    "\n",
    "for image, label in train_loader:\n",
    "    output = model(image)\n",
    "    print(output)\n",
    "    break"
   ]
  },
  {
   "cell_type": "markdown",
   "metadata": {},
   "source": [
    "# Loss functions"
   ]
  },
  {
   "cell_type": "code",
   "execution_count": 19,
   "metadata": {},
   "outputs": [],
   "source": [
    "class BiTemperedLogisticLoss(nn.Module):\n",
    "    def __init__(self, t1, t2, smoothing=0.0):\n",
    "        super(BiTemperedLogisticLoss, self).__init__()\n",
    "        self.t1 = t1\n",
    "        self.t2 = t2\n",
    "        self.smoothing = smoothing\n",
    "\n",
    "    def forward(self, logit_label, truth_label):\n",
    "        loss_label = btl.bi_tempered_logistic_loss(\n",
    "            logit_label, truth_label, t1=self.t1, t2=self.t2, label_smoothing=self.smoothing, reduction=\"none\"\n",
    "        )\n",
    "\n",
    "        loss_label = loss_label.mean()\n",
    "        return loss_label"
   ]
  },
  {
   "cell_type": "markdown",
   "metadata": {},
   "source": [
    "# Helper functions"
   ]
  },
  {
   "cell_type": "code",
   "execution_count": 20,
   "metadata": {},
   "outputs": [],
   "source": [
    "# ====================================================\n",
    "# Helper functions\n",
    "# ====================================================\n",
    "class AverageMeter(object):\n",
    "    \"\"\"Computes and stores the average and current value\"\"\"\n",
    "\n",
    "    def __init__(self):\n",
    "        self.reset()\n",
    "\n",
    "    def reset(self):\n",
    "        self.val = 0\n",
    "        self.avg = 0\n",
    "        self.sum = 0\n",
    "        self.count = 0\n",
    "\n",
    "    def update(self, val, n=1):\n",
    "        self.val = val\n",
    "        self.sum += val * n\n",
    "        self.count += n\n",
    "        self.avg = self.sum / self.count\n",
    "\n",
    "\n",
    "def asMinutes(s):\n",
    "    m = math.floor(s / 60)\n",
    "    s -= m * 60\n",
    "    return \"%dm %ds\" % (m, s)\n",
    "\n",
    "\n",
    "def timeSince(since, percent):\n",
    "    now = time.time()\n",
    "    s = now - since\n",
    "    es = s / (percent)\n",
    "    rs = es - s\n",
    "    return \"%s (remain %s)\" % (asMinutes(s), asMinutes(rs))\n",
    "\n",
    "\n",
    "def train_fn(train_loader, model, criterion, optimizer, epoch, scheduler, device, scheduler_batch_update=True):\n",
    "    batch_time = AverageMeter()\n",
    "    data_time = AverageMeter()\n",
    "    losses = AverageMeter()\n",
    "    scores = AverageMeter()\n",
    "    # switch to train mode\n",
    "    model.train()\n",
    "    start = end = time.time()\n",
    "    global_step = 0\n",
    "    for step, (images, labels) in enumerate(train_loader):\n",
    "        # measure data loading time\n",
    "        data_time.update(time.time() - end)\n",
    "        images = images.to(device)\n",
    "        labels = labels.to(device)\n",
    "        batch_size = labels.size(0)\n",
    "\n",
    "        # CutMix, FMix\n",
    "        if epoch <= 1 or epoch >= CFG.epochs - 1:\n",
    "            mix_decision = 0.75  # Disable CutMix, FMix for final epoch\n",
    "        else:\n",
    "            mix_decision = np.random.rand()\n",
    "\n",
    "        if epoch >= CFG.epochs - 4:\n",
    "            mix_decision *= 2  # Reduce probability\n",
    "\n",
    "        if mix_decision < 0.25:\n",
    "            images, labels = cutmix(images, labels, 1.0)\n",
    "        elif mix_decision >= 0.25 and mix_decision < 0.5:\n",
    "            images, labels = fmix(images, labels, alpha=1.0, decay_power=5.0, shape=(CFG.size, CFG.size))\n",
    "        # elif mix_decision >= 0.5 and mix_decision < 0.75:\n",
    "        #     images, labels = mixup(images, labels, alpha=0.5)\n",
    "\n",
    "        y_preds = model(images.float())\n",
    "\n",
    "        if mix_decision < 0.5:\n",
    "            loss = criterion(y_preds, labels[0]) * labels[2] + criterion(y_preds, labels[1]) * (1.0 - labels[2])\n",
    "        else:\n",
    "            loss = criterion(y_preds, labels)\n",
    "\n",
    "        # record loss\n",
    "        losses.update(loss.item(), batch_size)\n",
    "        if CFG.gradient_accumulation_steps > 1:\n",
    "            loss = loss / CFG.gradient_accumulation_steps\n",
    "        if CFG.apex:\n",
    "            with amp.scale_loss(loss, optimizer) as scaled_loss:\n",
    "                scaled_loss.backward()\n",
    "        else:\n",
    "            loss.backward()\n",
    "        grad_norm = torch.nn.utils.clip_grad_norm_(model.parameters(), CFG.max_grad_norm)\n",
    "        if (step + 1) % CFG.gradient_accumulation_steps == 0:\n",
    "            optimizer.step()\n",
    "            optimizer.zero_grad()\n",
    "\n",
    "            if CFG.scheduler_batch_update:\n",
    "                scheduler.step()\n",
    "\n",
    "            global_step += 1\n",
    "        # measure elapsed time\n",
    "        batch_time.update(time.time() - end)\n",
    "        end = time.time()\n",
    "        if step % CFG.print_freq == 0 or step == (len(train_loader) - 1):\n",
    "            print(\n",
    "                \"Epoch: [{0}][{1}/{2}] \"\n",
    "                # \"Data {data_time.val:.3f} ({data_time.avg:.3f}) \"\n",
    "                # \"Batch {batch_time.val:.3f} ({batch_time.avg:.3f}) \"\n",
    "                \"Elapsed {remain:s} \"\n",
    "                \"Loss: {loss.val:.4f}({loss.avg:.4f}) \"\n",
    "                \"Grad: {grad_norm:.4f} \"\n",
    "                \"LR: {lr:.6f}  \".format(\n",
    "                    epoch + 1,\n",
    "                    step,\n",
    "                    len(train_loader),\n",
    "                    # batch_time=batch_time,\n",
    "                    # data_time=data_time,\n",
    "                    loss=losses,\n",
    "                    remain=timeSince(start, float(step + 1) / len(train_loader)),\n",
    "                    grad_norm=grad_norm,\n",
    "                    lr=scheduler.get_lr()[0],\n",
    "                )\n",
    "            )\n",
    "    return losses.avg\n",
    "\n",
    "\n",
    "def valid_fn(valid_loader, model, criterion, device):\n",
    "    batch_time = AverageMeter()\n",
    "    data_time = AverageMeter()\n",
    "    losses = AverageMeter()\n",
    "    scores = AverageMeter()\n",
    "    # switch to evaluation mode\n",
    "    model.eval()\n",
    "    preds = []\n",
    "    start = end = time.time()\n",
    "    for step, (images, labels) in enumerate(valid_loader):\n",
    "        # measure data loading time\n",
    "        data_time.update(time.time() - end)\n",
    "        images = images.to(device)\n",
    "        labels = labels.to(device)\n",
    "        batch_size = labels.size(0)\n",
    "        # compute loss\n",
    "        with torch.no_grad():\n",
    "            y_preds = model(images)\n",
    "        loss = criterion(y_preds, labels)\n",
    "        losses.update(loss.item(), batch_size)\n",
    "        # record accuracy\n",
    "        preds.append(y_preds.softmax(1).to(\"cpu\").numpy())\n",
    "        if CFG.gradient_accumulation_steps > 1:\n",
    "            loss = loss / CFG.gradient_accumulation_steps\n",
    "        # measure elapsed time\n",
    "        batch_time.update(time.time() - end)\n",
    "        end = time.time()\n",
    "        if step % CFG.print_freq == 0 or step == (len(valid_loader) - 1):\n",
    "            print(\n",
    "                \"EVAL: [{0}/{1}] \"\n",
    "                # \"Data {data_time.val:.3f} ({data_time.avg:.3f}) \"\n",
    "                # \"Batch {batch_time.val:.3f} ({batch_time.avg:.3f}) \"\n",
    "                \"Elapsed {remain:s} \"\n",
    "                \"Loss: {loss.val:.4f}({loss.avg:.4f}) \".format(\n",
    "                    step,\n",
    "                    len(valid_loader),\n",
    "                    # batch_time=batch_time,\n",
    "                    # data_time=data_time,\n",
    "                    loss=losses,\n",
    "                    remain=timeSince(start, float(step + 1) / len(valid_loader)),\n",
    "                )\n",
    "            )\n",
    "    predictions = np.concatenate(preds)\n",
    "    return losses.avg, predictions\n",
    "\n",
    "\n",
    "def inference(model, states, test_loader, device):\n",
    "    model.to(device)\n",
    "    tk0 = tqdm(enumerate(test_loader), total=len(test_loader))\n",
    "    probs = []\n",
    "    for i, (images) in tk0:\n",
    "        images = images.to(device)\n",
    "        avg_preds = []\n",
    "        for state in states:\n",
    "            model.load_state_dict(state[\"model\"])\n",
    "            model.eval()\n",
    "            with torch.no_grad():\n",
    "                y_preds = model(images)\n",
    "            avg_preds.append(y_preds.softmax(1).to(\"cpu\").numpy())\n",
    "        avg_preds = np.mean(avg_preds, axis=0)\n",
    "        probs.append(avg_preds)\n",
    "    probs = np.concatenate(probs)\n",
    "    return probs"
   ]
  },
  {
   "cell_type": "markdown",
   "metadata": {},
   "source": [
    "# Train loop"
   ]
  },
  {
   "cell_type": "code",
   "execution_count": 21,
   "metadata": {
    "_cell_guid": "b1076dfc-b9ad-4769-8c92-a6c4dae69d19",
    "_uuid": "8f2839f25d086af736a60e9eeb907d3b93b6e0e5"
   },
   "outputs": [],
   "source": [
    "# ====================================================\n",
    "# Train loop\n",
    "# ====================================================\n",
    "def train_loop(folds, fold):\n",
    "\n",
    "    LOGGER.info(f\"========== fold: {fold} training ==========\")\n",
    "\n",
    "    # ====================================================\n",
    "    # loader\n",
    "    # ====================================================\n",
    "    trn_idx = folds[folds[\"fold\"] != fold].index\n",
    "    val_idx = folds[folds[\"fold\"] == fold].index\n",
    "\n",
    "    train_folds = folds.loc[trn_idx].reset_index(drop=True)\n",
    "    valid_folds = folds.loc[val_idx].reset_index(drop=True)\n",
    "\n",
    "    train_dataset = TrainDataset(train_folds, transform=get_transforms(data=\"train\"))\n",
    "    train_dataset_no_aug = TrainDataset(train_folds, transform=get_transforms(data=\"valid\"))\n",
    "    valid_dataset = TrainDataset(valid_folds, transform=get_transforms(data=\"valid\"))\n",
    "\n",
    "    train_loader = DataLoader(\n",
    "        train_dataset,\n",
    "        batch_size=CFG.batch_size,\n",
    "        shuffle=True,\n",
    "        num_workers=CFG.num_workers,\n",
    "        pin_memory=True,\n",
    "        drop_last=True,\n",
    "    )\n",
    "    train_loader_no_aug = DataLoader(\n",
    "        train_dataset_no_aug,\n",
    "        batch_size=CFG.batch_size,\n",
    "        shuffle=True,\n",
    "        num_workers=CFG.num_workers,\n",
    "        pin_memory=True,\n",
    "        drop_last=True,\n",
    "    )\n",
    "    valid_loader = DataLoader(\n",
    "        valid_dataset,\n",
    "        batch_size=CFG.batch_size,\n",
    "        shuffle=False,\n",
    "        num_workers=CFG.num_workers,\n",
    "        pin_memory=True,\n",
    "        drop_last=False,\n",
    "    )\n",
    "\n",
    "    # ====================================================\n",
    "    # scheduler\n",
    "    # ====================================================\n",
    "    def get_scheduler(optimizer):\n",
    "        if CFG.scheduler == \"ReduceLROnPlateau\":\n",
    "            scheduler = ReduceLROnPlateau(\n",
    "                optimizer, mode=\"min\", factor=CFG.factor, patience=CFG.patience, verbose=True, eps=CFG.eps\n",
    "            )\n",
    "        elif CFG.scheduler == \"CosineAnnealingLR\":\n",
    "            scheduler = CosineAnnealingLR(optimizer, T_max=CFG.T_max, eta_min=CFG.min_lr, last_epoch=-1)\n",
    "        elif CFG.scheduler == \"CosineAnnealingWarmRestarts\":\n",
    "            scheduler = CosineAnnealingWarmRestarts(optimizer, T_0=CFG.T_0, T_mult=1, eta_min=CFG.min_lr, last_epoch=-1)\n",
    "        elif CFG.scheduler == \"CosineAnnealingWarmupRestarts\":\n",
    "            scheduler = CosineAnnealingWarmupRestarts(\n",
    "                optimizer,\n",
    "                first_cycle_steps=CFG.first_cycle_steps,\n",
    "                cycle_mult=1.0,\n",
    "                max_lr=CFG.lr,\n",
    "                min_lr=CFG.min_lr,\n",
    "                warmup_steps=CFG.warmup_steps,\n",
    "                gamma=CFG.gamma,\n",
    "            )\n",
    "        return scheduler\n",
    "\n",
    "    # ====================================================\n",
    "    # model & optimizer\n",
    "    # ====================================================\n",
    "    model = CassvaImgClassifier(CFG.model_name, pretrained=True)\n",
    "    freeze_batch_normalization(model)\n",
    "\n",
    "    model.to(device)\n",
    "\n",
    "    # Use multi GPU\n",
    "    if device == torch.device(\"cuda\") and not CFG.apex:\n",
    "        model = torch.nn.DataParallel(model)  # make parallel\n",
    "        # torch.backends.cudnn.benchmark=True\n",
    "\n",
    "    optimizer = Adam(model.parameters(), lr=CFG.lr, weight_decay=CFG.weight_decay, amsgrad=False)\n",
    "    scheduler = get_scheduler(optimizer)\n",
    "\n",
    "    # ====================================================\n",
    "    # apex\n",
    "    # ====================================================\n",
    "    if CFG.apex:\n",
    "        model, optimizer = amp.initialize(model, optimizer, opt_level=\"O1\", verbosity=0)\n",
    "\n",
    "    # ====================================================\n",
    "    # Criterion\n",
    "    # ====================================================\n",
    "    def get_criterion():\n",
    "        if CFG.criterion == \"CrossEntropyLoss\":\n",
    "            criterion = nn.CrossEntropyLoss()\n",
    "        elif CFG.criterion == \"BiTemperedLoss\":\n",
    "            criterion = BiTemperedLogisticLoss(t1=CFG.btl_t1, t2=CFG.btl_t2, smoothing=CFG.label_smoothing)\n",
    "        return criterion\n",
    "\n",
    "    criterion = get_criterion()\n",
    "\n",
    "    # ====================================================\n",
    "    # loop\n",
    "    # ====================================================\n",
    "    best_score = 0.0\n",
    "    best_loss = np.inf\n",
    "\n",
    "    for epoch in range(CFG.epochs):\n",
    "\n",
    "        start_time = time.time()\n",
    "\n",
    "        # train\n",
    "        if epoch <= 1 or epoch >= CFG.epochs - 1:\n",
    "            avg_loss = train_fn(\n",
    "                train_loader_no_aug, model, criterion, optimizer, epoch, scheduler, device, CFG.scheduler_batch_update\n",
    "            )\n",
    "        else:\n",
    "            avg_loss = train_fn(\n",
    "                train_loader, model, criterion, optimizer, epoch, scheduler, device, CFG.scheduler_batch_update\n",
    "            )\n",
    "\n",
    "        # eval\n",
    "        avg_val_loss, preds = valid_fn(valid_loader, model, criterion, device)\n",
    "        valid_labels = valid_folds[CFG.target_col].values\n",
    "\n",
    "        if not CFG.scheduler_batch_update:\n",
    "            if isinstance(scheduler, ReduceLROnPlateau):\n",
    "                scheduler.step(avg_val_loss)\n",
    "            elif isinstance(scheduler, CosineAnnealingLR):\n",
    "                scheduler.step()\n",
    "            elif isinstance(scheduler, CosineAnnealingWarmRestarts):\n",
    "                scheduler.step()\n",
    "\n",
    "        # scoring\n",
    "        score = get_score(valid_labels, preds.argmax(1))\n",
    "\n",
    "        elapsed = time.time() - start_time\n",
    "\n",
    "        LOGGER.info(\n",
    "            f\"Epoch {epoch+1} - avg_train_loss: {avg_loss:.4f}  avg_val_loss: {avg_val_loss:.4f}  time: {elapsed:.0f}s\"\n",
    "        )\n",
    "        LOGGER.info(f\"Epoch {epoch+1} - Accuracy: {score}\")\n",
    "\n",
    "        if score > best_score:\n",
    "            best_score = score\n",
    "            LOGGER.info(f\"Epoch {epoch+1} - Save Best Score: {best_score:.4f} Model\")\n",
    "            torch.save(\n",
    "                {\"model\": model.state_dict(), \"preds\": preds}, OUTPUT_DIR + f\"{CFG.model_name}_fold{fold}_best.pth\"\n",
    "            )\n",
    "\n",
    "        if epoch == CFG.epochs - 1:\n",
    "            LOGGER.info(f\"Epoch {epoch+1} - Save final model\")\n",
    "            torch.save(\n",
    "                {\"model\": model.state_dict(), \"preds\": preds}, OUTPUT_DIR + f\"{CFG.model_name}_fold{fold}_final.pth\"\n",
    "            )\n",
    "\n",
    "    check_point = torch.load(OUTPUT_DIR + f\"{CFG.model_name}_fold{fold}_best.pth\")\n",
    "    valid_folds[[str(c) for c in range(5)]] = check_point[\"preds\"]\n",
    "    valid_folds[\"preds\"] = check_point[\"preds\"].argmax(1)\n",
    "\n",
    "    return valid_folds"
   ]
  },
  {
   "cell_type": "code",
   "execution_count": 22,
   "metadata": {},
   "outputs": [],
   "source": [
    "# ====================================================\n",
    "# main\n",
    "# ====================================================\n",
    "def main():\n",
    "\n",
    "    \"\"\"\n",
    "    Prepare: 1.train  2.test  3.submission  4.folds\n",
    "    \"\"\"\n",
    "\n",
    "    def get_result(result_df):\n",
    "        preds = result_df[\"preds\"].values\n",
    "        labels = result_df[CFG.target_col].values\n",
    "        score = get_score(labels, preds)\n",
    "        LOGGER.info(f\"Score: {score:<.5f}\")\n",
    "\n",
    "    if CFG.train:\n",
    "        # train\n",
    "        oof_df = pd.DataFrame()\n",
    "        for fold in range(CFG.n_fold):\n",
    "            if fold in CFG.trn_fold:\n",
    "                _oof_df = train_loop(folds, fold)\n",
    "                oof_df = pd.concat([oof_df, _oof_df])\n",
    "                LOGGER.info(f\"========== fold: {fold} result ==========\")\n",
    "                get_result(_oof_df)\n",
    "        # CV result\n",
    "        LOGGER.info(f\"========== CV ==========\")\n",
    "        get_result(oof_df)\n",
    "        # save result\n",
    "        oof_df.to_csv(OUTPUT_DIR + \"oof_df.csv\", index=False)\n",
    "\n",
    "    if CFG.inference:\n",
    "        # inference\n",
    "        model = CassvaImgClassifier(CFG.model_name, pretrained=False)\n",
    "        states = [torch.load(OUTPUT_DIR + f\"{CFG.model_name}_fold{fold}_best.pth\") for fold in CFG.trn_fold]\n",
    "        test_dataset = TestDataset(test, transform=get_transforms(data=\"valid\"))\n",
    "        test_loader = DataLoader(\n",
    "            test_dataset, batch_size=CFG.batch_size, shuffle=False, num_workers=CFG.num_workers, pin_memory=True\n",
    "        )\n",
    "        predictions = inference(model, states, test_loader, device)\n",
    "        # submission\n",
    "        test[\"label\"] = predictions.argmax(1)\n",
    "        test[[\"image_id\", \"label\"]].to_csv(OUTPUT_DIR + \"submission.csv\", index=False)"
   ]
  },
  {
   "cell_type": "code",
   "execution_count": 23,
   "metadata": {
    "_cell_guid": "79c7e3d0-c299-4dcb-8224-4455121ee9b0",
    "_uuid": "d629ff2d2480ee46fbb7e2d37f6b5fab8052498a"
   },
   "outputs": [
    {
     "name": "stderr",
     "output_type": "stream",
     "text": [
      "========== fold: 0 training ==========\n"
     ]
    },
    {
     "name": "stdout",
     "output_type": "stream",
     "text": [
      "Epoch: [1][0/877] Elapsed 0m 2s (remain 31m 19s) Loss: 0.5143(0.5143) Grad: 0.2528 LR: 0.000100  \n",
      "Epoch: [1][100/877] Elapsed 0m 34s (remain 4m 24s) Loss: 0.2099(0.3281) Grad: 0.2428 LR: 0.000100  \n",
      "Epoch: [1][200/877] Elapsed 1m 6s (remain 3m 43s) Loss: 0.0881(0.2681) Grad: 0.2728 LR: 0.000100  \n",
      "Epoch: [1][300/877] Elapsed 1m 38s (remain 3m 9s) Loss: 0.1432(0.2286) Grad: 0.3735 LR: 0.000100  \n",
      "Epoch: [1][400/877] Elapsed 2m 11s (remain 2m 35s) Loss: 0.3283(0.2065) Grad: 0.4445 LR: 0.000099  \n",
      "Epoch: [1][500/877] Elapsed 2m 43s (remain 2m 2s) Loss: 0.2511(0.1931) Grad: 0.5777 LR: 0.000099  \n",
      "Epoch: [1][600/877] Elapsed 3m 15s (remain 1m 29s) Loss: 0.1814(0.1819) Grad: 0.4862 LR: 0.000099  \n",
      "Epoch: [1][700/877] Elapsed 3m 47s (remain 0m 57s) Loss: 0.1654(0.1733) Grad: 0.3958 LR: 0.000098  \n",
      "Epoch: [1][800/877] Elapsed 4m 20s (remain 0m 24s) Loss: 0.1005(0.1673) Grad: 0.3285 LR: 0.000098  \n",
      "Epoch: [1][876/877] Elapsed 4m 44s (remain 0m 0s) Loss: 0.0820(0.1637) Grad: 0.3117 LR: 0.000098  \n",
      "EVAL: [0/220] Elapsed 0m 1s (remain 4m 13s) Loss: 0.0942(0.0942) \n",
      "EVAL: [100/220] Elapsed 0m 19s (remain 0m 23s) Loss: 0.1476(0.1109) \n",
      "EVAL: [200/220] Elapsed 0m 37s (remain 0m 3s) Loss: 0.0623(0.1124) \n"
     ]
    },
    {
     "name": "stderr",
     "output_type": "stream",
     "text": [
      "Epoch 1 - avg_train_loss: 0.1637  avg_val_loss: 0.1120  time: 325s\n",
      "Epoch 1 - Accuracy: 0.8768033409263477\n",
      "Epoch 1 - Save Best Score: 0.8768 Model\n"
     ]
    },
    {
     "name": "stdout",
     "output_type": "stream",
     "text": [
      "EVAL: [219/220] Elapsed 0m 40s (remain 0m 0s) Loss: 0.2319(0.1120) \n",
      "Epoch: [2][0/877] Elapsed 0m 1s (remain 22m 12s) Loss: 0.0941(0.0941) Grad: 0.4738 LR: 0.000098  \n",
      "Epoch: [2][100/877] Elapsed 0m 34s (remain 4m 22s) Loss: 0.0761(0.0920) Grad: 0.2839 LR: 0.000097  \n",
      "Epoch: [2][200/877] Elapsed 1m 6s (remain 3m 43s) Loss: 0.1013(0.0932) Grad: 0.4782 LR: 0.000096  \n",
      "Epoch: [2][300/877] Elapsed 1m 38s (remain 3m 7s) Loss: 0.1276(0.0896) Grad: 0.2895 LR: 0.000096  \n",
      "Epoch: [2][400/877] Elapsed 2m 10s (remain 2m 34s) Loss: 0.1581(0.0890) Grad: 0.3549 LR: 0.000095  \n",
      "Epoch: [2][500/877] Elapsed 2m 42s (remain 2m 1s) Loss: 0.1372(0.0894) Grad: 0.4117 LR: 0.000094  \n",
      "Epoch: [2][600/877] Elapsed 3m 14s (remain 1m 29s) Loss: 0.0691(0.0882) Grad: 0.3700 LR: 0.000093  \n",
      "Epoch: [2][700/877] Elapsed 3m 46s (remain 0m 56s) Loss: 0.1013(0.0890) Grad: 0.3467 LR: 0.000092  \n",
      "Epoch: [2][800/877] Elapsed 4m 18s (remain 0m 24s) Loss: 0.0123(0.0886) Grad: 0.1645 LR: 0.000091  \n",
      "Epoch: [2][876/877] Elapsed 4m 42s (remain 0m 0s) Loss: 0.0622(0.0886) Grad: 0.5063 LR: 0.000091  \n",
      "EVAL: [0/220] Elapsed 0m 1s (remain 4m 31s) Loss: 0.1321(0.1321) \n",
      "EVAL: [100/220] Elapsed 0m 18s (remain 0m 21s) Loss: 0.1496(0.1099) \n",
      "EVAL: [200/220] Elapsed 0m 36s (remain 0m 3s) Loss: 0.0658(0.1103) \n"
     ]
    },
    {
     "name": "stderr",
     "output_type": "stream",
     "text": [
      "Epoch 2 - avg_train_loss: 0.0886  avg_val_loss: 0.1092  time: 321s\n",
      "Epoch 2 - Accuracy: 0.8807896735003796\n",
      "Epoch 2 - Save Best Score: 0.8808 Model\n"
     ]
    },
    {
     "name": "stdout",
     "output_type": "stream",
     "text": [
      "EVAL: [219/220] Elapsed 0m 38s (remain 0m 0s) Loss: 0.1470(0.1092) \n",
      "Epoch: [3][0/877] Elapsed 0m 1s (remain 24m 31s) Loss: 0.2429(0.2429) Grad: 0.7452 LR: 0.000091  \n",
      "Epoch: [3][100/877] Elapsed 0m 37s (remain 4m 46s) Loss: 0.1679(0.2115) Grad: 0.5614 LR: 0.000090  \n",
      "Epoch: [3][200/877] Elapsed 1m 12s (remain 4m 4s) Loss: 0.1467(0.1977) Grad: 0.4413 LR: 0.000088  \n",
      "Epoch: [3][300/877] Elapsed 1m 47s (remain 3m 25s) Loss: 0.2631(0.1996) Grad: 0.2399 LR: 0.000087  \n",
      "Epoch: [3][400/877] Elapsed 2m 22s (remain 2m 49s) Loss: 0.1356(0.1910) Grad: 0.4383 LR: 0.000086  \n",
      "Epoch: [3][500/877] Elapsed 2m 57s (remain 2m 13s) Loss: 0.2891(0.1917) Grad: 0.2490 LR: 0.000085  \n",
      "Epoch: [3][600/877] Elapsed 3m 32s (remain 1m 37s) Loss: 0.1835(0.1912) Grad: 0.4214 LR: 0.000084  \n",
      "Epoch: [3][700/877] Elapsed 4m 7s (remain 1m 2s) Loss: 0.2186(0.1905) Grad: 0.4052 LR: 0.000082  \n",
      "Epoch: [3][800/877] Elapsed 4m 43s (remain 0m 26s) Loss: 0.1648(0.1917) Grad: 0.1513 LR: 0.000081  \n",
      "Epoch: [3][876/877] Elapsed 5m 9s (remain 0m 0s) Loss: 0.2718(0.1910) Grad: 0.2739 LR: 0.000080  \n",
      "EVAL: [0/220] Elapsed 0m 1s (remain 3m 52s) Loss: 0.1071(0.1071) \n",
      "EVAL: [100/220] Elapsed 0m 18s (remain 0m 22s) Loss: 0.1051(0.1090) \n",
      "EVAL: [200/220] Elapsed 0m 36s (remain 0m 3s) Loss: 0.0688(0.1104) \n"
     ]
    },
    {
     "name": "stderr",
     "output_type": "stream",
     "text": [
      "Epoch 3 - avg_train_loss: 0.1910  avg_val_loss: 0.1090  time: 348s\n",
      "Epoch 3 - Accuracy: 0.880030372057707\n"
     ]
    },
    {
     "name": "stdout",
     "output_type": "stream",
     "text": [
      "EVAL: [219/220] Elapsed 0m 38s (remain 0m 0s) Loss: 0.1537(0.1090) \n",
      "Epoch: [4][0/877] Elapsed 0m 1s (remain 23m 12s) Loss: 0.1365(0.1365) Grad: 0.3957 LR: 0.000080  \n",
      "Epoch: [4][100/877] Elapsed 0m 37s (remain 4m 45s) Loss: 0.1616(0.1717) Grad: 0.3388 LR: 0.000078  \n",
      "Epoch: [4][200/877] Elapsed 1m 12s (remain 4m 3s) Loss: 0.2263(0.1753) Grad: 0.2100 LR: 0.000077  \n",
      "Epoch: [4][300/877] Elapsed 1m 47s (remain 3m 25s) Loss: 0.1661(0.1768) Grad: 0.3052 LR: 0.000075  \n",
      "Epoch: [4][400/877] Elapsed 2m 22s (remain 2m 49s) Loss: 0.0974(0.1787) Grad: 0.3181 LR: 0.000074  \n",
      "Epoch: [4][500/877] Elapsed 2m 57s (remain 2m 13s) Loss: 0.0801(0.1813) Grad: 0.3606 LR: 0.000072  \n",
      "Epoch: [4][600/877] Elapsed 3m 32s (remain 1m 37s) Loss: 0.1858(0.1793) Grad: 0.2852 LR: 0.000071  \n",
      "Epoch: [4][700/877] Elapsed 4m 7s (remain 1m 2s) Loss: 0.0675(0.1815) Grad: 0.3369 LR: 0.000069  \n",
      "Epoch: [4][800/877] Elapsed 4m 43s (remain 0m 26s) Loss: 0.1498(0.1807) Grad: 0.3821 LR: 0.000067  \n",
      "Epoch: [4][876/877] Elapsed 5m 9s (remain 0m 0s) Loss: 0.0787(0.1802) Grad: 0.3110 LR: 0.000066  \n",
      "EVAL: [0/220] Elapsed 0m 1s (remain 3m 52s) Loss: 0.0873(0.0873) \n",
      "EVAL: [100/220] Elapsed 0m 18s (remain 0m 22s) Loss: 0.1233(0.1066) \n",
      "EVAL: [200/220] Elapsed 0m 36s (remain 0m 3s) Loss: 0.0724(0.1077) \n"
     ]
    },
    {
     "name": "stderr",
     "output_type": "stream",
     "text": [
      "Epoch 4 - avg_train_loss: 0.1802  avg_val_loss: 0.1062  time: 348s\n",
      "Epoch 4 - Accuracy: 0.8864844343204252\n",
      "Epoch 4 - Save Best Score: 0.8865 Model\n"
     ]
    },
    {
     "name": "stdout",
     "output_type": "stream",
     "text": [
      "EVAL: [219/220] Elapsed 0m 38s (remain 0m 0s) Loss: 0.1532(0.1062) \n",
      "Epoch: [5][0/877] Elapsed 0m 1s (remain 21m 36s) Loss: 0.1254(0.1254) Grad: 0.4473 LR: 0.000066  \n",
      "Epoch: [5][100/877] Elapsed 0m 36s (remain 4m 42s) Loss: 0.1866(0.1623) Grad: 0.3016 LR: 0.000064  \n",
      "Epoch: [5][200/877] Elapsed 1m 11s (remain 4m 1s) Loss: 0.1803(0.1674) Grad: 0.3460 LR: 0.000063  \n",
      "Epoch: [5][300/877] Elapsed 1m 46s (remain 3m 24s) Loss: 0.0920(0.1704) Grad: 0.3216 LR: 0.000061  \n",
      "Epoch: [5][400/877] Elapsed 2m 21s (remain 2m 48s) Loss: 0.3078(0.1696) Grad: 0.3032 LR: 0.000059  \n",
      "Epoch: [5][500/877] Elapsed 2m 57s (remain 2m 12s) Loss: 0.1193(0.1710) Grad: 0.2808 LR: 0.000058  \n",
      "Epoch: [5][600/877] Elapsed 3m 32s (remain 1m 37s) Loss: 0.1010(0.1708) Grad: 0.3304 LR: 0.000056  \n",
      "Epoch: [5][700/877] Elapsed 4m 7s (remain 1m 2s) Loss: 0.2054(0.1731) Grad: 0.3955 LR: 0.000054  \n",
      "Epoch: [5][800/877] Elapsed 4m 41s (remain 0m 26s) Loss: 0.1648(0.1709) Grad: 0.4548 LR: 0.000052  \n",
      "Epoch: [5][876/877] Elapsed 5m 8s (remain 0m 0s) Loss: 0.0943(0.1702) Grad: 0.4747 LR: 0.000051  \n",
      "EVAL: [0/220] Elapsed 0m 1s (remain 3m 50s) Loss: 0.0834(0.0834) \n",
      "EVAL: [100/220] Elapsed 0m 18s (remain 0m 22s) Loss: 0.1497(0.1043) \n",
      "EVAL: [200/220] Elapsed 0m 35s (remain 0m 3s) Loss: 0.0773(0.1049) \n"
     ]
    },
    {
     "name": "stderr",
     "output_type": "stream",
     "text": [
      "Epoch 5 - avg_train_loss: 0.1702  avg_val_loss: 0.1040  time: 347s\n",
      "Epoch 5 - Accuracy: 0.8861047835990888\n"
     ]
    },
    {
     "name": "stdout",
     "output_type": "stream",
     "text": [
      "EVAL: [219/220] Elapsed 0m 38s (remain 0m 0s) Loss: 0.1957(0.1040) \n",
      "Epoch: [6][0/877] Elapsed 0m 1s (remain 23m 35s) Loss: 0.1958(0.1958) Grad: 0.6253 LR: 0.000051  \n",
      "Epoch: [6][100/877] Elapsed 0m 36s (remain 4m 40s) Loss: 0.2378(0.1756) Grad: 0.2711 LR: 0.000049  \n",
      "Epoch: [6][200/877] Elapsed 1m 11s (remain 4m 0s) Loss: 0.0278(0.1768) Grad: 0.2084 LR: 0.000047  \n",
      "Epoch: [6][300/877] Elapsed 1m 46s (remain 3m 24s) Loss: 0.2383(0.1748) Grad: 0.2744 LR: 0.000046  \n",
      "Epoch: [6][400/877] Elapsed 2m 21s (remain 2m 47s) Loss: 0.1701(0.1773) Grad: 0.3936 LR: 0.000044  \n",
      "Epoch: [6][500/877] Elapsed 2m 56s (remain 2m 12s) Loss: 0.2899(0.1747) Grad: 0.3350 LR: 0.000042  \n",
      "Epoch: [6][600/877] Elapsed 3m 31s (remain 1m 36s) Loss: 0.1756(0.1770) Grad: 0.2230 LR: 0.000041  \n",
      "Epoch: [6][700/877] Elapsed 4m 6s (remain 1m 1s) Loss: 0.1853(0.1746) Grad: 0.2913 LR: 0.000039  \n",
      "Epoch: [6][800/877] Elapsed 4m 40s (remain 0m 26s) Loss: 0.1345(0.1720) Grad: 0.5209 LR: 0.000037  \n",
      "Epoch: [6][876/877] Elapsed 5m 7s (remain 0m 0s) Loss: 0.0662(0.1717) Grad: 0.2083 LR: 0.000036  \n",
      "EVAL: [0/220] Elapsed 0m 1s (remain 3m 50s) Loss: 0.0875(0.0875) \n",
      "EVAL: [100/220] Elapsed 0m 18s (remain 0m 21s) Loss: 0.1164(0.1055) \n",
      "EVAL: [200/220] Elapsed 0m 35s (remain 0m 3s) Loss: 0.0757(0.1050) \n"
     ]
    },
    {
     "name": "stderr",
     "output_type": "stream",
     "text": [
      "Epoch 6 - avg_train_loss: 0.1717  avg_val_loss: 0.1034  time: 345s\n",
      "Epoch 6 - Accuracy: 0.8881928625664389\n",
      "Epoch 6 - Save Best Score: 0.8882 Model\n"
     ]
    },
    {
     "name": "stdout",
     "output_type": "stream",
     "text": [
      "EVAL: [219/220] Elapsed 0m 37s (remain 0m 0s) Loss: 0.2044(0.1034) \n",
      "Epoch: [7][0/877] Elapsed 0m 1s (remain 24m 2s) Loss: 0.2147(0.2147) Grad: 0.3782 LR: 0.000036  \n",
      "Epoch: [7][100/877] Elapsed 0m 36s (remain 4m 36s) Loss: 0.0944(0.1412) Grad: 0.3172 LR: 0.000034  \n",
      "Epoch: [7][200/877] Elapsed 1m 10s (remain 3m 55s) Loss: 0.0735(0.1383) Grad: 0.2879 LR: 0.000033  \n",
      "Epoch: [7][300/877] Elapsed 1m 44s (remain 3m 20s) Loss: 0.3492(0.1417) Grad: 0.2654 LR: 0.000031  \n",
      "Epoch: [7][400/877] Elapsed 2m 18s (remain 2m 44s) Loss: 0.1066(0.1403) Grad: 0.4763 LR: 0.000029  \n",
      "Epoch: [7][500/877] Elapsed 2m 53s (remain 2m 9s) Loss: 0.0765(0.1397) Grad: 0.3232 LR: 0.000028  \n",
      "Epoch: [7][600/877] Elapsed 3m 27s (remain 1m 35s) Loss: 0.1407(0.1405) Grad: 0.3698 LR: 0.000026  \n",
      "Epoch: [7][700/877] Elapsed 4m 2s (remain 1m 0s) Loss: 0.1249(0.1395) Grad: 0.3328 LR: 0.000025  \n",
      "Epoch: [7][800/877] Elapsed 4m 36s (remain 0m 26s) Loss: 0.0833(0.1394) Grad: 0.2886 LR: 0.000023  \n",
      "Epoch: [7][876/877] Elapsed 5m 2s (remain 0m 0s) Loss: 0.0595(0.1392) Grad: 0.2735 LR: 0.000022  \n",
      "EVAL: [0/220] Elapsed 0m 1s (remain 3m 43s) Loss: 0.0809(0.0809) \n",
      "EVAL: [100/220] Elapsed 0m 18s (remain 0m 21s) Loss: 0.1323(0.1049) \n",
      "EVAL: [200/220] Elapsed 0m 35s (remain 0m 3s) Loss: 0.0778(0.1038) \n"
     ]
    },
    {
     "name": "stderr",
     "output_type": "stream",
     "text": [
      "Epoch 7 - avg_train_loss: 0.1392  avg_val_loss: 0.1026  time: 341s\n",
      "Epoch 7 - Accuracy: 0.8872437357630979\n"
     ]
    },
    {
     "name": "stdout",
     "output_type": "stream",
     "text": [
      "EVAL: [219/220] Elapsed 0m 37s (remain 0m 0s) Loss: 0.2016(0.1026) \n",
      "Epoch: [8][0/877] Elapsed 0m 1s (remain 22m 26s) Loss: 0.1087(0.1087) Grad: 0.5269 LR: 0.000022  \n",
      "Epoch: [8][100/877] Elapsed 0m 36s (remain 4m 38s) Loss: 0.1337(0.1550) Grad: 0.2911 LR: 0.000021  \n",
      "Epoch: [8][200/877] Elapsed 1m 10s (remain 3m 57s) Loss: 0.1567(0.1380) Grad: 0.2637 LR: 0.000019  \n",
      "Epoch: [8][300/877] Elapsed 1m 44s (remain 3m 20s) Loss: 0.0425(0.1346) Grad: 0.3555 LR: 0.000018  \n",
      "Epoch: [8][400/877] Elapsed 2m 19s (remain 2m 45s) Loss: 0.0182(0.1343) Grad: 0.1606 LR: 0.000017  \n",
      "Epoch: [8][500/877] Elapsed 2m 53s (remain 2m 10s) Loss: 0.1635(0.1323) Grad: 0.4674 LR: 0.000016  \n",
      "Epoch: [8][600/877] Elapsed 3m 28s (remain 1m 35s) Loss: 0.0847(0.1327) Grad: 0.3565 LR: 0.000014  \n",
      "Epoch: [8][700/877] Elapsed 4m 2s (remain 1m 0s) Loss: 0.0983(0.1330) Grad: 0.2733 LR: 0.000013  \n",
      "Epoch: [8][800/877] Elapsed 4m 37s (remain 0m 26s) Loss: 0.0665(0.1327) Grad: 0.3963 LR: 0.000012  \n",
      "Epoch: [8][876/877] Elapsed 5m 2s (remain 0m 0s) Loss: 0.0970(0.1329) Grad: 0.3532 LR: 0.000011  \n",
      "EVAL: [0/220] Elapsed 0m 1s (remain 3m 57s) Loss: 0.0794(0.0794) \n",
      "EVAL: [100/220] Elapsed 0m 18s (remain 0m 21s) Loss: 0.1377(0.1037) \n",
      "EVAL: [200/220] Elapsed 0m 35s (remain 0m 3s) Loss: 0.0869(0.1030) \n"
     ]
    },
    {
     "name": "stderr",
     "output_type": "stream",
     "text": [
      "Epoch 8 - avg_train_loss: 0.1329  avg_val_loss: 0.1018  time: 341s\n",
      "Epoch 8 - Accuracy: 0.8870539104024298\n"
     ]
    },
    {
     "name": "stdout",
     "output_type": "stream",
     "text": [
      "EVAL: [219/220] Elapsed 0m 38s (remain 0m 0s) Loss: 0.1799(0.1018) \n",
      "Epoch: [9][0/877] Elapsed 0m 1s (remain 23m 7s) Loss: 0.2592(0.2592) Grad: 0.4307 LR: 0.000011  \n",
      "Epoch: [9][100/877] Elapsed 0m 36s (remain 4m 37s) Loss: 0.0754(0.1361) Grad: 0.4511 LR: 0.000010  \n",
      "Epoch: [9][200/877] Elapsed 1m 10s (remain 3m 57s) Loss: 0.1551(0.1320) Grad: 0.3669 LR: 0.000009  \n",
      "Epoch: [9][300/877] Elapsed 1m 44s (remain 3m 20s) Loss: 0.1607(0.1273) Grad: 0.6095 LR: 0.000008  \n",
      "Epoch: [9][400/877] Elapsed 2m 19s (remain 2m 45s) Loss: 0.3462(0.1288) Grad: 0.3670 LR: 0.000008  \n",
      "Epoch: [9][500/877] Elapsed 2m 53s (remain 2m 10s) Loss: 0.1601(0.1277) Grad: 0.2482 LR: 0.000007  \n",
      "Epoch: [9][600/877] Elapsed 3m 28s (remain 1m 35s) Loss: 0.0849(0.1294) Grad: 0.4729 LR: 0.000006  \n",
      "Epoch: [9][700/877] Elapsed 4m 2s (remain 1m 0s) Loss: 0.2709(0.1292) Grad: 0.2528 LR: 0.000005  \n",
      "Epoch: [9][800/877] Elapsed 4m 36s (remain 0m 26s) Loss: 0.0713(0.1285) Grad: 0.4092 LR: 0.000005  \n",
      "Epoch: [9][876/877] Elapsed 5m 2s (remain 0m 0s) Loss: 0.1010(0.1277) Grad: 0.4413 LR: 0.000004  \n",
      "EVAL: [0/220] Elapsed 0m 1s (remain 3m 55s) Loss: 0.0846(0.0846) \n",
      "EVAL: [100/220] Elapsed 0m 18s (remain 0m 21s) Loss: 0.1458(0.1019) \n",
      "EVAL: [200/220] Elapsed 0m 35s (remain 0m 3s) Loss: 0.0854(0.1019) \n"
     ]
    },
    {
     "name": "stderr",
     "output_type": "stream",
     "text": [
      "Epoch 9 - avg_train_loss: 0.1277  avg_val_loss: 0.1009  time: 341s\n",
      "Epoch 9 - Accuracy: 0.8891419893697798\n",
      "Epoch 9 - Save Best Score: 0.8891 Model\n"
     ]
    },
    {
     "name": "stdout",
     "output_type": "stream",
     "text": [
      "EVAL: [219/220] Elapsed 0m 38s (remain 0m 0s) Loss: 0.1989(0.1009) \n",
      "Epoch: [10][0/877] Elapsed 0m 1s (remain 18m 52s) Loss: 0.0324(0.0324) Grad: 0.4875 LR: 0.000004  \n",
      "Epoch: [10][100/877] Elapsed 0m 33s (remain 4m 14s) Loss: 0.0797(0.0634) Grad: 0.3630 LR: 0.000004  \n",
      "Epoch: [10][200/877] Elapsed 1m 4s (remain 3m 38s) Loss: 0.0142(0.0656) Grad: 0.1734 LR: 0.000003  \n",
      "Epoch: [10][300/877] Elapsed 1m 36s (remain 3m 5s) Loss: 0.0648(0.0646) Grad: 0.3536 LR: 0.000003  \n",
      "Epoch: [10][400/877] Elapsed 2m 8s (remain 2m 32s) Loss: 0.1539(0.0619) Grad: 0.4848 LR: 0.000003  \n",
      "Epoch: [10][500/877] Elapsed 2m 40s (remain 2m 0s) Loss: 0.1698(0.0627) Grad: 0.5114 LR: 0.000002  \n",
      "Epoch: [10][600/877] Elapsed 3m 11s (remain 1m 28s) Loss: 0.0665(0.0635) Grad: 0.5823 LR: 0.000002  \n",
      "Epoch: [10][700/877] Elapsed 3m 43s (remain 0m 56s) Loss: 0.0549(0.0635) Grad: 0.1733 LR: 0.000002  \n",
      "Epoch: [10][800/877] Elapsed 4m 15s (remain 0m 24s) Loss: 0.0200(0.0628) Grad: 0.2546 LR: 0.000002  \n",
      "Epoch: [10][876/877] Elapsed 4m 39s (remain 0m 0s) Loss: 0.1274(0.0638) Grad: 0.4634 LR: 0.000100  \n",
      "EVAL: [0/220] Elapsed 0m 1s (remain 3m 47s) Loss: 0.0987(0.0987) \n",
      "EVAL: [100/220] Elapsed 0m 18s (remain 0m 21s) Loss: 0.1304(0.1057) \n",
      "EVAL: [200/220] Elapsed 0m 35s (remain 0m 3s) Loss: 0.0636(0.1051) \n"
     ]
    },
    {
     "name": "stderr",
     "output_type": "stream",
     "text": [
      "Epoch 10 - avg_train_loss: 0.0638  avg_val_loss: 0.1037  time: 318s\n",
      "Epoch 10 - Accuracy: 0.8883826879271071\n",
      "Epoch 10 - Save final model\n"
     ]
    },
    {
     "name": "stdout",
     "output_type": "stream",
     "text": [
      "EVAL: [219/220] Elapsed 0m 38s (remain 0m 0s) Loss: 0.1822(0.1037) \n"
     ]
    },
    {
     "name": "stderr",
     "output_type": "stream",
     "text": [
      "========== fold: 0 result ==========\n",
      "Score: 0.88914\n",
      "========== fold: 1 training ==========\n"
     ]
    },
    {
     "name": "stdout",
     "output_type": "stream",
     "text": [
      "Epoch: [1][0/877] Elapsed 0m 1s (remain 21m 1s) Loss: 0.4976(0.4976) Grad: 0.3448 LR: 0.000100  \n",
      "Epoch: [1][100/877] Elapsed 0m 34s (remain 4m 28s) Loss: 0.2107(0.3064) Grad: 0.2871 LR: 0.000100  \n",
      "Epoch: [1][200/877] Elapsed 1m 8s (remain 3m 49s) Loss: 0.1690(0.2569) Grad: 0.3782 LR: 0.000100  \n",
      "Epoch: [1][300/877] Elapsed 1m 42s (remain 3m 15s) Loss: 0.1608(0.2251) Grad: 0.3540 LR: 0.000100  \n",
      "Epoch: [1][400/877] Elapsed 2m 15s (remain 2m 40s) Loss: 0.1218(0.2049) Grad: 0.3950 LR: 0.000099  \n",
      "Epoch: [1][500/877] Elapsed 2m 48s (remain 2m 6s) Loss: 0.1194(0.1902) Grad: 0.3352 LR: 0.000099  \n",
      "Epoch: [1][600/877] Elapsed 3m 21s (remain 1m 32s) Loss: 0.1258(0.1805) Grad: 0.3356 LR: 0.000099  \n",
      "Epoch: [1][700/877] Elapsed 3m 54s (remain 0m 58s) Loss: 0.0712(0.1714) Grad: 0.3435 LR: 0.000098  \n",
      "Epoch: [1][800/877] Elapsed 4m 28s (remain 0m 25s) Loss: 0.0954(0.1661) Grad: 0.3265 LR: 0.000098  \n",
      "Epoch: [1][876/877] Elapsed 4m 53s (remain 0m 0s) Loss: 0.1807(0.1614) Grad: 0.3732 LR: 0.000098  \n",
      "EVAL: [0/220] Elapsed 0m 1s (remain 4m 0s) Loss: 0.1327(0.1327) \n",
      "EVAL: [100/220] Elapsed 0m 18s (remain 0m 21s) Loss: 0.0995(0.1145) \n",
      "EVAL: [200/220] Elapsed 0m 35s (remain 0m 3s) Loss: 0.1005(0.1062) \n"
     ]
    },
    {
     "name": "stderr",
     "output_type": "stream",
     "text": [
      "Epoch 1 - avg_train_loss: 0.1614  avg_val_loss: 0.1076  time: 331s\n",
      "Epoch 1 - Accuracy: 0.8798405466970387\n",
      "Epoch 1 - Save Best Score: 0.8798 Model\n"
     ]
    },
    {
     "name": "stdout",
     "output_type": "stream",
     "text": [
      "EVAL: [219/220] Elapsed 0m 37s (remain 0m 0s) Loss: 0.0981(0.1076) \n",
      "Epoch: [2][0/877] Elapsed 0m 1s (remain 20m 29s) Loss: 0.1053(0.1053) Grad: 0.5451 LR: 0.000098  \n",
      "Epoch: [2][100/877] Elapsed 0m 34s (remain 4m 28s) Loss: 0.1134(0.0873) Grad: 0.4883 LR: 0.000097  \n",
      "Epoch: [2][200/877] Elapsed 1m 7s (remain 3m 48s) Loss: 0.1164(0.0859) Grad: 0.3927 LR: 0.000096  \n",
      "Epoch: [2][300/877] Elapsed 1m 40s (remain 3m 13s) Loss: 0.0283(0.0843) Grad: 0.2800 LR: 0.000096  \n",
      "Epoch: [2][400/877] Elapsed 2m 14s (remain 2m 39s) Loss: 0.1042(0.0876) Grad: 0.5019 LR: 0.000095  \n",
      "Epoch: [2][500/877] Elapsed 2m 47s (remain 2m 5s) Loss: 0.0463(0.0886) Grad: 0.2295 LR: 0.000094  \n",
      "Epoch: [2][600/877] Elapsed 3m 20s (remain 1m 32s) Loss: 0.0774(0.0877) Grad: 0.3861 LR: 0.000093  \n",
      "Epoch: [2][700/877] Elapsed 3m 53s (remain 0m 58s) Loss: 0.1375(0.0896) Grad: 0.6945 LR: 0.000092  \n",
      "Epoch: [2][800/877] Elapsed 4m 26s (remain 0m 25s) Loss: 0.1515(0.0903) Grad: 0.5190 LR: 0.000091  \n",
      "Epoch: [2][876/877] Elapsed 4m 51s (remain 0m 0s) Loss: 0.0702(0.0900) Grad: 0.4898 LR: 0.000091  \n",
      "EVAL: [0/220] Elapsed 0m 1s (remain 3m 58s) Loss: 0.1122(0.1122) \n",
      "EVAL: [100/220] Elapsed 0m 18s (remain 0m 21s) Loss: 0.0878(0.1127) \n",
      "EVAL: [200/220] Elapsed 0m 35s (remain 0m 3s) Loss: 0.0617(0.1070) \n"
     ]
    },
    {
     "name": "stderr",
     "output_type": "stream",
     "text": [
      "Epoch 2 - avg_train_loss: 0.0900  avg_val_loss: 0.1076  time: 330s\n",
      "Epoch 2 - Accuracy: 0.8802201974183751\n",
      "Epoch 2 - Save Best Score: 0.8802 Model\n"
     ]
    },
    {
     "name": "stdout",
     "output_type": "stream",
     "text": [
      "EVAL: [219/220] Elapsed 0m 37s (remain 0m 0s) Loss: 0.1563(0.1076) \n",
      "Epoch: [3][0/877] Elapsed 0m 1s (remain 22m 25s) Loss: 0.1303(0.1303) Grad: 0.7833 LR: 0.000091  \n",
      "Epoch: [3][100/877] Elapsed 0m 37s (remain 4m 49s) Loss: 0.2068(0.2170) Grad: 0.4991 LR: 0.000090  \n",
      "Epoch: [3][200/877] Elapsed 1m 14s (remain 4m 9s) Loss: 0.1422(0.2082) Grad: 0.4081 LR: 0.000088  \n",
      "Epoch: [3][300/877] Elapsed 1m 50s (remain 3m 30s) Loss: 0.1098(0.2077) Grad: 0.4433 LR: 0.000087  \n",
      "Epoch: [3][400/877] Elapsed 2m 25s (remain 2m 53s) Loss: 0.1727(0.1998) Grad: 0.5101 LR: 0.000086  \n",
      "Epoch: [3][500/877] Elapsed 3m 2s (remain 2m 16s) Loss: 0.2495(0.2001) Grad: 0.3256 LR: 0.000085  \n",
      "Epoch: [3][600/877] Elapsed 3m 39s (remain 1m 40s) Loss: 0.1636(0.1956) Grad: 0.2124 LR: 0.000084  \n",
      "Epoch: [3][700/877] Elapsed 4m 16s (remain 1m 4s) Loss: 0.1151(0.1956) Grad: 0.3530 LR: 0.000082  \n",
      "Epoch: [3][800/877] Elapsed 4m 53s (remain 0m 27s) Loss: 0.1420(0.1946) Grad: 0.4584 LR: 0.000081  \n",
      "Epoch: [3][876/877] Elapsed 5m 21s (remain 0m 0s) Loss: 0.1591(0.1937) Grad: 0.3595 LR: 0.000080  \n",
      "EVAL: [0/220] Elapsed 0m 1s (remain 4m 7s) Loss: 0.1533(0.1533) \n",
      "EVAL: [100/220] Elapsed 0m 19s (remain 0m 22s) Loss: 0.1243(0.1170) \n",
      "EVAL: [200/220] Elapsed 0m 36s (remain 0m 3s) Loss: 0.0898(0.1107) \n"
     ]
    },
    {
     "name": "stderr",
     "output_type": "stream",
     "text": [
      "Epoch 3 - avg_train_loss: 0.1937  avg_val_loss: 0.1122  time: 361s\n",
      "Epoch 3 - Accuracy: 0.880030372057707\n"
     ]
    },
    {
     "name": "stdout",
     "output_type": "stream",
     "text": [
      "EVAL: [219/220] Elapsed 0m 39s (remain 0m 0s) Loss: 0.0998(0.1122) \n",
      "Epoch: [4][0/877] Elapsed 0m 1s (remain 27m 32s) Loss: 0.1378(0.1378) Grad: 0.5437 LR: 0.000080  \n",
      "Epoch: [4][100/877] Elapsed 0m 39s (remain 5m 1s) Loss: 0.1281(0.1637) Grad: 0.3871 LR: 0.000078  \n",
      "Epoch: [4][200/877] Elapsed 1m 16s (remain 4m 17s) Loss: 0.1779(0.1683) Grad: 0.4937 LR: 0.000077  \n",
      "Epoch: [4][300/877] Elapsed 1m 53s (remain 3m 37s) Loss: 0.1779(0.1692) Grad: 0.3211 LR: 0.000075  \n",
      "Epoch: [4][400/877] Elapsed 2m 30s (remain 2m 58s) Loss: 0.1450(0.1722) Grad: 0.5205 LR: 0.000074  \n",
      "Epoch: [4][500/877] Elapsed 3m 7s (remain 2m 20s) Loss: 0.1447(0.1749) Grad: 0.4909 LR: 0.000072  \n",
      "Epoch: [4][600/877] Elapsed 3m 44s (remain 1m 42s) Loss: 0.2007(0.1737) Grad: 0.2903 LR: 0.000071  \n",
      "Epoch: [4][700/877] Elapsed 4m 20s (remain 1m 5s) Loss: 0.0902(0.1753) Grad: 0.3406 LR: 0.000069  \n",
      "Epoch: [4][800/877] Elapsed 4m 56s (remain 0m 28s) Loss: 0.1471(0.1779) Grad: 0.3619 LR: 0.000067  \n",
      "Epoch: [4][876/877] Elapsed 5m 23s (remain 0m 0s) Loss: 0.1640(0.1781) Grad: 0.3545 LR: 0.000066  \n",
      "EVAL: [0/220] Elapsed 0m 1s (remain 3m 40s) Loss: 0.1169(0.1169) \n",
      "EVAL: [100/220] Elapsed 0m 18s (remain 0m 21s) Loss: 0.0929(0.1059) \n",
      "EVAL: [200/220] Elapsed 0m 34s (remain 0m 3s) Loss: 0.0731(0.0999) \n"
     ]
    },
    {
     "name": "stderr",
     "output_type": "stream",
     "text": [
      "Epoch 4 - avg_train_loss: 0.1781  avg_val_loss: 0.1015  time: 361s\n",
      "Epoch 4 - Accuracy: 0.8878132118451025\n",
      "Epoch 4 - Save Best Score: 0.8878 Model\n"
     ]
    },
    {
     "name": "stdout",
     "output_type": "stream",
     "text": [
      "EVAL: [219/220] Elapsed 0m 37s (remain 0m 0s) Loss: 0.1260(0.1015) \n",
      "Epoch: [5][0/877] Elapsed 0m 1s (remain 22m 55s) Loss: 0.3574(0.3574) Grad: 0.4672 LR: 0.000066  \n",
      "Epoch: [5][100/877] Elapsed 0m 37s (remain 4m 51s) Loss: 0.1980(0.1825) Grad: 0.3110 LR: 0.000064  \n",
      "Epoch: [5][200/877] Elapsed 1m 13s (remain 4m 7s) Loss: 0.2946(0.1717) Grad: 0.3495 LR: 0.000063  \n",
      "Epoch: [5][300/877] Elapsed 1m 49s (remain 3m 29s) Loss: 0.3111(0.1740) Grad: 0.2066 LR: 0.000061  \n",
      "Epoch: [5][400/877] Elapsed 2m 25s (remain 2m 52s) Loss: 0.1401(0.1731) Grad: 0.2069 LR: 0.000059  \n",
      "Epoch: [5][500/877] Elapsed 3m 1s (remain 2m 16s) Loss: 0.2159(0.1741) Grad: 0.2572 LR: 0.000058  \n",
      "Epoch: [5][600/877] Elapsed 3m 37s (remain 1m 39s) Loss: 0.1560(0.1739) Grad: 0.4061 LR: 0.000056  \n",
      "Epoch: [5][700/877] Elapsed 4m 13s (remain 1m 3s) Loss: 0.1003(0.1741) Grad: 0.3005 LR: 0.000054  \n",
      "Epoch: [5][800/877] Elapsed 4m 49s (remain 0m 27s) Loss: 0.2475(0.1747) Grad: 0.1985 LR: 0.000052  \n",
      "Epoch: [5][876/877] Elapsed 5m 16s (remain 0m 0s) Loss: 0.1285(0.1744) Grad: 0.3692 LR: 0.000051  \n",
      "EVAL: [0/220] Elapsed 0m 1s (remain 3m 51s) Loss: 0.1349(0.1349) \n",
      "EVAL: [100/220] Elapsed 0m 18s (remain 0m 21s) Loss: 0.1085(0.1083) \n",
      "EVAL: [200/220] Elapsed 0m 34s (remain 0m 3s) Loss: 0.0878(0.1018) \n"
     ]
    },
    {
     "name": "stderr",
     "output_type": "stream",
     "text": [
      "Epoch 5 - avg_train_loss: 0.1744  avg_val_loss: 0.1031  time: 354s\n",
      "Epoch 5 - Accuracy: 0.8853454821564161\n"
     ]
    },
    {
     "name": "stdout",
     "output_type": "stream",
     "text": [
      "EVAL: [219/220] Elapsed 0m 37s (remain 0m 0s) Loss: 0.1117(0.1031) \n",
      "Epoch: [6][0/877] Elapsed 0m 1s (remain 22m 23s) Loss: 0.3179(0.3179) Grad: 0.4345 LR: 0.000051  \n",
      "Epoch: [6][100/877] Elapsed 0m 38s (remain 4m 52s) Loss: 0.1415(0.1612) Grad: 0.4556 LR: 0.000049  \n",
      "Epoch: [6][200/877] Elapsed 1m 13s (remain 4m 8s) Loss: 0.1243(0.1693) Grad: 0.4461 LR: 0.000047  \n",
      "Epoch: [6][300/877] Elapsed 1m 50s (remain 3m 30s) Loss: 0.1535(0.1702) Grad: 0.3160 LR: 0.000046  \n",
      "Epoch: [6][400/877] Elapsed 2m 25s (remain 2m 53s) Loss: 0.2393(0.1712) Grad: 0.2840 LR: 0.000044  \n",
      "Epoch: [6][500/877] Elapsed 3m 1s (remain 2m 16s) Loss: 0.1880(0.1706) Grad: 0.4391 LR: 0.000042  \n",
      "Epoch: [6][600/877] Elapsed 3m 37s (remain 1m 39s) Loss: 0.0864(0.1687) Grad: 0.2848 LR: 0.000041  \n",
      "Epoch: [6][700/877] Elapsed 4m 13s (remain 1m 3s) Loss: 0.0313(0.1694) Grad: 0.2847 LR: 0.000039  \n",
      "Epoch: [6][800/877] Elapsed 4m 49s (remain 0m 27s) Loss: 0.0920(0.1690) Grad: 0.3563 LR: 0.000037  \n",
      "Epoch: [6][876/877] Elapsed 5m 16s (remain 0m 0s) Loss: 0.1706(0.1708) Grad: 0.4552 LR: 0.000036  \n",
      "EVAL: [0/220] Elapsed 0m 1s (remain 3m 49s) Loss: 0.1307(0.1307) \n",
      "EVAL: [100/220] Elapsed 0m 18s (remain 0m 21s) Loss: 0.1134(0.1044) \n",
      "EVAL: [200/220] Elapsed 0m 35s (remain 0m 3s) Loss: 0.0946(0.0981) \n"
     ]
    },
    {
     "name": "stderr",
     "output_type": "stream",
     "text": [
      "Epoch 6 - avg_train_loss: 0.1708  avg_val_loss: 0.0998  time: 354s\n",
      "Epoch 6 - Accuracy: 0.8925588458618071\n",
      "Epoch 6 - Save Best Score: 0.8926 Model\n"
     ]
    },
    {
     "name": "stdout",
     "output_type": "stream",
     "text": [
      "EVAL: [219/220] Elapsed 0m 37s (remain 0m 0s) Loss: 0.1216(0.0998) \n",
      "Epoch: [7][0/877] Elapsed 0m 1s (remain 22m 27s) Loss: 0.1098(0.1098) Grad: 0.5447 LR: 0.000036  \n",
      "Epoch: [7][100/877] Elapsed 0m 37s (remain 4m 48s) Loss: 0.1363(0.1423) Grad: 0.3722 LR: 0.000034  \n",
      "Epoch: [7][200/877] Elapsed 1m 12s (remain 4m 4s) Loss: 0.2503(0.1371) Grad: 0.1568 LR: 0.000033  \n",
      "Epoch: [7][300/877] Elapsed 1m 48s (remain 3m 27s) Loss: 0.1425(0.1382) Grad: 0.3310 LR: 0.000031  \n",
      "Epoch: [7][400/877] Elapsed 2m 23s (remain 2m 50s) Loss: 0.1166(0.1373) Grad: 0.4382 LR: 0.000029  \n",
      "Epoch: [7][500/877] Elapsed 2m 59s (remain 2m 14s) Loss: 0.3220(0.1368) Grad: 0.3838 LR: 0.000028  \n",
      "Epoch: [7][600/877] Elapsed 3m 34s (remain 1m 38s) Loss: 0.1053(0.1365) Grad: 0.4132 LR: 0.000026  \n",
      "Epoch: [7][700/877] Elapsed 4m 10s (remain 1m 2s) Loss: 0.0887(0.1383) Grad: 0.3196 LR: 0.000025  \n",
      "Epoch: [7][800/877] Elapsed 4m 46s (remain 0m 27s) Loss: 0.1290(0.1388) Grad: 0.4677 LR: 0.000023  \n",
      "Epoch: [7][876/877] Elapsed 5m 13s (remain 0m 0s) Loss: 0.1009(0.1399) Grad: 0.3505 LR: 0.000022  \n",
      "EVAL: [0/220] Elapsed 0m 1s (remain 3m 47s) Loss: 0.1112(0.1112) \n",
      "EVAL: [100/220] Elapsed 0m 18s (remain 0m 21s) Loss: 0.1113(0.1023) \n",
      "EVAL: [200/220] Elapsed 0m 35s (remain 0m 3s) Loss: 0.0922(0.0953) \n"
     ]
    },
    {
     "name": "stderr",
     "output_type": "stream",
     "text": [
      "Epoch 7 - avg_train_loss: 0.1399  avg_val_loss: 0.0964  time: 351s\n",
      "Epoch 7 - Accuracy: 0.8952164009111617\n",
      "Epoch 7 - Save Best Score: 0.8952 Model\n"
     ]
    },
    {
     "name": "stdout",
     "output_type": "stream",
     "text": [
      "EVAL: [219/220] Elapsed 0m 37s (remain 0m 0s) Loss: 0.1010(0.0964) \n",
      "Epoch: [8][0/877] Elapsed 0m 1s (remain 25m 44s) Loss: 0.1786(0.1786) Grad: 0.4065 LR: 0.000022  \n",
      "Epoch: [8][100/877] Elapsed 0m 37s (remain 4m 47s) Loss: 0.1719(0.1424) Grad: 0.1967 LR: 0.000021  \n",
      "Epoch: [8][200/877] Elapsed 1m 12s (remain 4m 5s) Loss: 0.0793(0.1396) Grad: 0.3895 LR: 0.000019  \n",
      "Epoch: [8][300/877] Elapsed 1m 48s (remain 3m 27s) Loss: 0.0840(0.1368) Grad: 0.4251 LR: 0.000018  \n",
      "Epoch: [8][400/877] Elapsed 2m 23s (remain 2m 50s) Loss: 0.1297(0.1389) Grad: 0.4014 LR: 0.000017  \n",
      "Epoch: [8][500/877] Elapsed 2m 59s (remain 2m 14s) Loss: 0.1555(0.1365) Grad: 0.4247 LR: 0.000016  \n",
      "Epoch: [8][600/877] Elapsed 3m 34s (remain 1m 38s) Loss: 0.2933(0.1345) Grad: 0.3015 LR: 0.000014  \n",
      "Epoch: [8][700/877] Elapsed 4m 9s (remain 1m 2s) Loss: 0.1018(0.1343) Grad: 0.4200 LR: 0.000013  \n",
      "Epoch: [8][800/877] Elapsed 4m 44s (remain 0m 27s) Loss: 0.1970(0.1350) Grad: 0.1945 LR: 0.000012  \n",
      "Epoch: [8][876/877] Elapsed 5m 11s (remain 0m 0s) Loss: 0.0647(0.1339) Grad: 0.4538 LR: 0.000011  \n",
      "EVAL: [0/220] Elapsed 0m 1s (remain 3m 54s) Loss: 0.1230(0.1230) \n",
      "EVAL: [100/220] Elapsed 0m 18s (remain 0m 21s) Loss: 0.1059(0.1019) \n",
      "EVAL: [200/220] Elapsed 0m 35s (remain 0m 3s) Loss: 0.0882(0.0946) \n"
     ]
    },
    {
     "name": "stderr",
     "output_type": "stream",
     "text": [
      "Epoch 8 - avg_train_loss: 0.1339  avg_val_loss: 0.0956  time: 350s\n",
      "Epoch 8 - Accuracy: 0.8971146545178436\n",
      "Epoch 8 - Save Best Score: 0.8971 Model\n"
     ]
    },
    {
     "name": "stdout",
     "output_type": "stream",
     "text": [
      "EVAL: [219/220] Elapsed 0m 37s (remain 0m 0s) Loss: 0.1010(0.0956) \n",
      "Epoch: [9][0/877] Elapsed 0m 1s (remain 23m 12s) Loss: 0.0828(0.0828) Grad: 0.5681 LR: 0.000011  \n",
      "Epoch: [9][100/877] Elapsed 0m 37s (remain 4m 51s) Loss: 0.1915(0.1241) Grad: 0.5513 LR: 0.000010  \n",
      "Epoch: [9][200/877] Elapsed 1m 13s (remain 4m 8s) Loss: 0.1739(0.1304) Grad: 0.3845 LR: 0.000009  \n",
      "Epoch: [9][300/877] Elapsed 1m 50s (remain 3m 30s) Loss: 0.2896(0.1301) Grad: 0.2442 LR: 0.000008  \n",
      "Epoch: [9][400/877] Elapsed 2m 26s (remain 2m 54s) Loss: 0.0963(0.1308) Grad: 0.3839 LR: 0.000008  \n",
      "Epoch: [9][500/877] Elapsed 3m 3s (remain 2m 17s) Loss: 0.3945(0.1306) Grad: 0.3799 LR: 0.000007  \n",
      "Epoch: [9][600/877] Elapsed 3m 40s (remain 1m 41s) Loss: 0.0888(0.1309) Grad: 0.3150 LR: 0.000006  \n",
      "Epoch: [9][700/877] Elapsed 4m 16s (remain 1m 4s) Loss: 0.0778(0.1325) Grad: 0.3102 LR: 0.000005  \n",
      "Epoch: [9][800/877] Elapsed 4m 53s (remain 0m 27s) Loss: 0.0429(0.1332) Grad: 0.2911 LR: 0.000005  \n",
      "Epoch: [9][876/877] Elapsed 5m 20s (remain 0m 0s) Loss: 0.0600(0.1331) Grad: 0.3510 LR: 0.000004  \n",
      "EVAL: [0/220] Elapsed 0m 1s (remain 4m 7s) Loss: 0.1325(0.1325) \n",
      "EVAL: [100/220] Elapsed 0m 18s (remain 0m 22s) Loss: 0.1044(0.1010) \n",
      "EVAL: [200/220] Elapsed 0m 36s (remain 0m 3s) Loss: 0.0912(0.0937) \n"
     ]
    },
    {
     "name": "stderr",
     "output_type": "stream",
     "text": [
      "Epoch 9 - avg_train_loss: 0.1331  avg_val_loss: 0.0950  time: 360s\n",
      "Epoch 9 - Accuracy: 0.896545178435839\n"
     ]
    },
    {
     "name": "stdout",
     "output_type": "stream",
     "text": [
      "EVAL: [219/220] Elapsed 0m 39s (remain 0m 0s) Loss: 0.0926(0.0950) \n",
      "Epoch: [10][0/877] Elapsed 0m 1s (remain 24m 21s) Loss: 0.0400(0.0400) Grad: 0.5146 LR: 0.000004  \n",
      "Epoch: [10][100/877] Elapsed 0m 35s (remain 4m 32s) Loss: 0.0207(0.0637) Grad: 0.1691 LR: 0.000004  \n",
      "Epoch: [10][200/877] Elapsed 1m 9s (remain 3m 52s) Loss: 0.0942(0.0681) Grad: 0.3000 LR: 0.000003  \n",
      "Epoch: [10][300/877] Elapsed 1m 42s (remain 3m 16s) Loss: 0.1090(0.0680) Grad: 0.3210 LR: 0.000003  \n",
      "Epoch: [10][400/877] Elapsed 2m 15s (remain 2m 41s) Loss: 0.0314(0.0656) Grad: 0.2915 LR: 0.000003  \n",
      "Epoch: [10][500/877] Elapsed 2m 50s (remain 2m 7s) Loss: 0.0402(0.0661) Grad: 0.3225 LR: 0.000002  \n",
      "Epoch: [10][600/877] Elapsed 3m 23s (remain 1m 33s) Loss: 0.0081(0.0670) Grad: 0.1212 LR: 0.000002  \n",
      "Epoch: [10][700/877] Elapsed 3m 56s (remain 0m 59s) Loss: 0.0542(0.0656) Grad: 0.3658 LR: 0.000002  \n",
      "Epoch: [10][800/877] Elapsed 4m 29s (remain 0m 25s) Loss: 0.0488(0.0656) Grad: 0.3752 LR: 0.000002  \n",
      "Epoch: [10][876/877] Elapsed 4m 55s (remain 0m 0s) Loss: 0.0342(0.0649) Grad: 0.2947 LR: 0.000100  \n",
      "EVAL: [0/220] Elapsed 0m 1s (remain 4m 18s) Loss: 0.1133(0.1133) \n",
      "EVAL: [100/220] Elapsed 0m 18s (remain 0m 21s) Loss: 0.1126(0.1029) \n",
      "EVAL: [200/220] Elapsed 0m 35s (remain 0m 3s) Loss: 0.0864(0.0965) \n"
     ]
    },
    {
     "name": "stderr",
     "output_type": "stream",
     "text": [
      "Epoch 10 - avg_train_loss: 0.0649  avg_val_loss: 0.0975  time: 333s\n",
      "Epoch 10 - Accuracy: 0.8952164009111617\n",
      "Epoch 10 - Save final model\n"
     ]
    },
    {
     "name": "stdout",
     "output_type": "stream",
     "text": [
      "EVAL: [219/220] Elapsed 0m 37s (remain 0m 0s) Loss: 0.1068(0.0975) \n"
     ]
    },
    {
     "name": "stderr",
     "output_type": "stream",
     "text": [
      "========== fold: 1 result ==========\n",
      "Score: 0.89711\n",
      "========== fold: 2 training ==========\n"
     ]
    },
    {
     "name": "stdout",
     "output_type": "stream",
     "text": [
      "Epoch: [1][0/877] Elapsed 0m 1s (remain 19m 10s) Loss: 0.5149(0.5149) Grad: 0.2915 LR: 0.000100  \n",
      "Epoch: [1][100/877] Elapsed 0m 36s (remain 4m 38s) Loss: 0.1708(0.3323) Grad: 0.2613 LR: 0.000100  \n",
      "Epoch: [1][200/877] Elapsed 1m 11s (remain 3m 59s) Loss: 0.1861(0.2632) Grad: 0.4502 LR: 0.000100  \n",
      "Epoch: [1][300/877] Elapsed 1m 45s (remain 3m 22s) Loss: 0.0976(0.2239) Grad: 0.2933 LR: 0.000100  \n",
      "Epoch: [1][400/877] Elapsed 2m 19s (remain 2m 46s) Loss: 0.0540(0.2041) Grad: 0.3692 LR: 0.000099  \n",
      "Epoch: [1][500/877] Elapsed 2m 54s (remain 2m 10s) Loss: 0.1377(0.1895) Grad: 0.3601 LR: 0.000099  \n",
      "Epoch: [1][600/877] Elapsed 3m 28s (remain 1m 35s) Loss: 0.0693(0.1802) Grad: 0.2652 LR: 0.000099  \n",
      "Epoch: [1][700/877] Elapsed 4m 3s (remain 1m 1s) Loss: 0.1630(0.1713) Grad: 0.4957 LR: 0.000098  \n",
      "Epoch: [1][800/877] Elapsed 4m 38s (remain 0m 26s) Loss: 0.0980(0.1651) Grad: 0.3794 LR: 0.000098  \n",
      "Epoch: [1][876/877] Elapsed 5m 4s (remain 0m 0s) Loss: 0.1114(0.1615) Grad: 0.4746 LR: 0.000098  \n",
      "EVAL: [0/220] Elapsed 0m 1s (remain 3m 55s) Loss: 0.1560(0.1560) \n",
      "EVAL: [100/220] Elapsed 0m 18s (remain 0m 21s) Loss: 0.1201(0.1049) \n",
      "EVAL: [200/220] Elapsed 0m 35s (remain 0m 3s) Loss: 0.0365(0.1102) \n"
     ]
    },
    {
     "name": "stderr",
     "output_type": "stream",
     "text": [
      "Epoch 1 - avg_train_loss: 0.1615  avg_val_loss: 0.1117  time: 342s\n",
      "Epoch 1 - Accuracy: 0.8739320296183786\n",
      "Epoch 1 - Save Best Score: 0.8739 Model\n"
     ]
    },
    {
     "name": "stdout",
     "output_type": "stream",
     "text": [
      "EVAL: [219/220] Elapsed 0m 37s (remain 0m 0s) Loss: 0.3718(0.1117) \n",
      "Epoch: [2][0/877] Elapsed 0m 1s (remain 21m 5s) Loss: 0.0315(0.0315) Grad: 0.5358 LR: 0.000098  \n",
      "Epoch: [2][100/877] Elapsed 0m 35s (remain 4m 33s) Loss: 0.0749(0.1012) Grad: 0.3189 LR: 0.000097  \n",
      "Epoch: [2][200/877] Elapsed 1m 10s (remain 3m 56s) Loss: 0.2658(0.0962) Grad: 0.5590 LR: 0.000096  \n",
      "Epoch: [2][300/877] Elapsed 1m 44s (remain 3m 20s) Loss: 0.0715(0.0949) Grad: 0.4826 LR: 0.000096  \n",
      "Epoch: [2][400/877] Elapsed 2m 19s (remain 2m 45s) Loss: 0.1221(0.0940) Grad: 0.5797 LR: 0.000095  \n",
      "Epoch: [2][500/877] Elapsed 2m 54s (remain 2m 10s) Loss: 0.0312(0.0935) Grad: 0.2199 LR: 0.000094  \n",
      "Epoch: [2][600/877] Elapsed 3m 29s (remain 1m 36s) Loss: 0.0579(0.0930) Grad: 0.5076 LR: 0.000093  \n",
      "Epoch: [2][700/877] Elapsed 4m 3s (remain 1m 1s) Loss: 0.0169(0.0926) Grad: 0.1971 LR: 0.000092  \n",
      "Epoch: [2][800/877] Elapsed 4m 38s (remain 0m 26s) Loss: 0.0076(0.0914) Grad: 0.1315 LR: 0.000091  \n",
      "Epoch: [2][876/877] Elapsed 5m 4s (remain 0m 0s) Loss: 0.1619(0.0921) Grad: 0.5128 LR: 0.000091  \n",
      "EVAL: [0/220] Elapsed 0m 1s (remain 4m 24s) Loss: 0.1277(0.1277) \n",
      "EVAL: [100/220] Elapsed 0m 18s (remain 0m 21s) Loss: 0.1065(0.1049) \n",
      "EVAL: [200/220] Elapsed 0m 35s (remain 0m 3s) Loss: 0.0348(0.1081) \n"
     ]
    },
    {
     "name": "stderr",
     "output_type": "stream",
     "text": [
      "Epoch 2 - avg_train_loss: 0.0921  avg_val_loss: 0.1090  time: 342s\n",
      "Epoch 2 - Accuracy: 0.8775393962407443\n",
      "Epoch 2 - Save Best Score: 0.8775 Model\n"
     ]
    },
    {
     "name": "stdout",
     "output_type": "stream",
     "text": [
      "EVAL: [219/220] Elapsed 0m 38s (remain 0m 0s) Loss: 0.3085(0.1090) \n",
      "Epoch: [3][0/877] Elapsed 0m 1s (remain 26m 54s) Loss: 0.1654(0.1654) Grad: 0.7187 LR: 0.000091  \n",
      "Epoch: [3][100/877] Elapsed 0m 39s (remain 5m 3s) Loss: 0.2951(0.2161) Grad: 0.3383 LR: 0.000090  \n",
      "Epoch: [3][200/877] Elapsed 1m 16s (remain 4m 17s) Loss: 0.3465(0.2066) Grad: 0.3244 LR: 0.000088  \n",
      "Epoch: [3][300/877] Elapsed 1m 54s (remain 3m 38s) Loss: 0.2535(0.1985) Grad: 0.2266 LR: 0.000087  \n",
      "Epoch: [3][400/877] Elapsed 2m 31s (remain 3m 0s) Loss: 0.1239(0.1998) Grad: 0.3839 LR: 0.000086  \n",
      "Epoch: [3][500/877] Elapsed 3m 9s (remain 2m 21s) Loss: 0.0904(0.1954) Grad: 0.3201 LR: 0.000085  \n",
      "Epoch: [3][600/877] Elapsed 3m 46s (remain 1m 43s) Loss: 0.2983(0.1964) Grad: 0.2494 LR: 0.000084  \n",
      "Epoch: [3][700/877] Elapsed 4m 23s (remain 1m 6s) Loss: 0.1168(0.1954) Grad: 0.2878 LR: 0.000082  \n",
      "Epoch: [3][800/877] Elapsed 5m 0s (remain 0m 28s) Loss: 0.2773(0.1961) Grad: 0.2972 LR: 0.000081  \n",
      "Epoch: [3][876/877] Elapsed 5m 27s (remain 0m 0s) Loss: 0.2226(0.1951) Grad: 0.4435 LR: 0.000080  \n",
      "EVAL: [0/220] Elapsed 0m 1s (remain 4m 11s) Loss: 0.1234(0.1234) \n",
      "EVAL: [100/220] Elapsed 0m 18s (remain 0m 21s) Loss: 0.1228(0.0999) \n",
      "EVAL: [200/220] Elapsed 0m 35s (remain 0m 3s) Loss: 0.0516(0.1029) \n"
     ]
    },
    {
     "name": "stderr",
     "output_type": "stream",
     "text": [
      "Epoch 3 - avg_train_loss: 0.1951  avg_val_loss: 0.1039  time: 366s\n",
      "Epoch 3 - Accuracy: 0.885323713689007\n",
      "Epoch 3 - Save Best Score: 0.8853 Model\n"
     ]
    },
    {
     "name": "stdout",
     "output_type": "stream",
     "text": [
      "EVAL: [219/220] Elapsed 0m 38s (remain 0m 0s) Loss: 0.2213(0.1039) \n",
      "Epoch: [4][0/877] Elapsed 0m 1s (remain 23m 21s) Loss: 0.0571(0.0571) Grad: 0.5791 LR: 0.000080  \n",
      "Epoch: [4][100/877] Elapsed 0m 38s (remain 4m 58s) Loss: 0.1264(0.1876) Grad: 0.3761 LR: 0.000078  \n",
      "Epoch: [4][200/877] Elapsed 1m 15s (remain 4m 15s) Loss: 0.1114(0.1868) Grad: 0.3624 LR: 0.000077  \n",
      "Epoch: [4][300/877] Elapsed 1m 52s (remain 3m 35s) Loss: 0.1243(0.1858) Grad: 0.4409 LR: 0.000075  \n",
      "Epoch: [4][400/877] Elapsed 2m 29s (remain 2m 57s) Loss: 0.2871(0.1861) Grad: 0.1983 LR: 0.000074  \n",
      "Epoch: [4][500/877] Elapsed 3m 6s (remain 2m 19s) Loss: 0.1771(0.1844) Grad: 0.4456 LR: 0.000072  \n",
      "Epoch: [4][600/877] Elapsed 3m 43s (remain 1m 42s) Loss: 0.2258(0.1842) Grad: 0.2315 LR: 0.000071  \n",
      "Epoch: [4][700/877] Elapsed 4m 20s (remain 1m 5s) Loss: 0.1421(0.1838) Grad: 0.3417 LR: 0.000069  \n",
      "Epoch: [4][800/877] Elapsed 4m 57s (remain 0m 28s) Loss: 0.1017(0.1837) Grad: 0.4073 LR: 0.000067  \n",
      "Epoch: [4][876/877] Elapsed 5m 24s (remain 0m 0s) Loss: 0.0928(0.1825) Grad: 0.3604 LR: 0.000066  \n",
      "EVAL: [0/220] Elapsed 0m 1s (remain 4m 5s) Loss: 0.1669(0.1669) \n",
      "EVAL: [100/220] Elapsed 0m 18s (remain 0m 21s) Loss: 0.1445(0.1000) \n",
      "EVAL: [200/220] Elapsed 0m 35s (remain 0m 3s) Loss: 0.0527(0.1049) \n"
     ]
    },
    {
     "name": "stderr",
     "output_type": "stream",
     "text": [
      "Epoch 4 - avg_train_loss: 0.1825  avg_val_loss: 0.1055  time: 363s\n",
      "Epoch 4 - Accuracy: 0.8796278716536928\n"
     ]
    },
    {
     "name": "stdout",
     "output_type": "stream",
     "text": [
      "EVAL: [219/220] Elapsed 0m 37s (remain 0m 0s) Loss: 0.1979(0.1055) \n",
      "Epoch: [5][0/877] Elapsed 0m 1s (remain 24m 7s) Loss: 0.3160(0.3160) Grad: 0.3983 LR: 0.000066  \n",
      "Epoch: [5][100/877] Elapsed 0m 38s (remain 4m 59s) Loss: 0.1015(0.1716) Grad: 0.3526 LR: 0.000064  \n",
      "Epoch: [5][200/877] Elapsed 1m 16s (remain 4m 16s) Loss: 0.2101(0.1744) Grad: 0.1655 LR: 0.000063  \n",
      "Epoch: [5][300/877] Elapsed 1m 53s (remain 3m 36s) Loss: 0.2254(0.1759) Grad: 0.3234 LR: 0.000061  \n",
      "Epoch: [5][400/877] Elapsed 2m 30s (remain 2m 58s) Loss: 0.2200(0.1729) Grad: 0.2363 LR: 0.000059  \n",
      "Epoch: [5][500/877] Elapsed 3m 6s (remain 2m 20s) Loss: 0.0685(0.1742) Grad: 0.1601 LR: 0.000058  \n",
      "Epoch: [5][600/877] Elapsed 3m 43s (remain 1m 42s) Loss: 0.1184(0.1760) Grad: 0.3992 LR: 0.000056  \n",
      "Epoch: [5][700/877] Elapsed 4m 20s (remain 1m 5s) Loss: 0.1469(0.1760) Grad: 0.3691 LR: 0.000054  \n",
      "Epoch: [5][800/877] Elapsed 4m 57s (remain 0m 28s) Loss: 0.1534(0.1759) Grad: 0.4392 LR: 0.000052  \n",
      "Epoch: [5][876/877] Elapsed 5m 26s (remain 0m 0s) Loss: 0.2322(0.1752) Grad: 0.2593 LR: 0.000051  \n",
      "EVAL: [0/220] Elapsed 0m 1s (remain 3m 54s) Loss: 0.1190(0.1190) \n",
      "EVAL: [100/220] Elapsed 0m 18s (remain 0m 21s) Loss: 0.1403(0.1003) \n",
      "EVAL: [200/220] Elapsed 0m 35s (remain 0m 3s) Loss: 0.0534(0.1041) \n"
     ]
    },
    {
     "name": "stderr",
     "output_type": "stream",
     "text": [
      "Epoch 5 - avg_train_loss: 0.1752  avg_val_loss: 0.1052  time: 364s\n",
      "Epoch 5 - Accuracy: 0.8847541294854756\n"
     ]
    },
    {
     "name": "stdout",
     "output_type": "stream",
     "text": [
      "EVAL: [219/220] Elapsed 0m 37s (remain 0m 0s) Loss: 0.1970(0.1052) \n",
      "Epoch: [6][0/877] Elapsed 0m 1s (remain 23m 55s) Loss: 0.2582(0.2582) Grad: 0.3659 LR: 0.000051  \n",
      "Epoch: [6][100/877] Elapsed 0m 39s (remain 5m 0s) Loss: 0.2509(0.1668) Grad: 0.2480 LR: 0.000049  \n",
      "Epoch: [6][200/877] Elapsed 1m 16s (remain 4m 16s) Loss: 0.2244(0.1748) Grad: 0.3918 LR: 0.000047  \n",
      "Epoch: [6][300/877] Elapsed 1m 53s (remain 3m 36s) Loss: 0.0659(0.1732) Grad: 0.2461 LR: 0.000046  \n",
      "Epoch: [6][400/877] Elapsed 2m 30s (remain 2m 58s) Loss: 0.1166(0.1716) Grad: 0.3316 LR: 0.000044  \n",
      "Epoch: [6][500/877] Elapsed 3m 7s (remain 2m 20s) Loss: 0.1861(0.1680) Grad: 0.4151 LR: 0.000042  \n",
      "Epoch: [6][600/877] Elapsed 3m 45s (remain 1m 43s) Loss: 0.2626(0.1708) Grad: 0.2169 LR: 0.000041  \n",
      "Epoch: [6][700/877] Elapsed 4m 22s (remain 1m 5s) Loss: 0.3891(0.1717) Grad: 0.3269 LR: 0.000039  \n",
      "Epoch: [6][800/877] Elapsed 4m 59s (remain 0m 28s) Loss: 0.2442(0.1736) Grad: 0.3537 LR: 0.000037  \n",
      "Epoch: [6][876/877] Elapsed 5m 27s (remain 0m 0s) Loss: 0.1567(0.1754) Grad: 0.3372 LR: 0.000036  \n",
      "EVAL: [0/220] Elapsed 0m 1s (remain 3m 39s) Loss: 0.1292(0.1292) \n",
      "EVAL: [100/220] Elapsed 0m 18s (remain 0m 21s) Loss: 0.1542(0.1002) \n",
      "EVAL: [200/220] Elapsed 0m 35s (remain 0m 3s) Loss: 0.0553(0.1030) \n"
     ]
    },
    {
     "name": "stderr",
     "output_type": "stream",
     "text": [
      "Epoch 6 - avg_train_loss: 0.1754  avg_val_loss: 0.1032  time: 366s\n",
      "Epoch 6 - Accuracy: 0.8872223277007785\n",
      "Epoch 6 - Save Best Score: 0.8872 Model\n"
     ]
    },
    {
     "name": "stdout",
     "output_type": "stream",
     "text": [
      "EVAL: [219/220] Elapsed 0m 37s (remain 0m 0s) Loss: 0.1700(0.1032) \n",
      "Epoch: [7][0/877] Elapsed 0m 1s (remain 23m 24s) Loss: 0.0687(0.0687) Grad: 0.5221 LR: 0.000036  \n",
      "Epoch: [7][100/877] Elapsed 0m 38s (remain 4m 54s) Loss: 0.0538(0.1447) Grad: 0.4269 LR: 0.000034  \n",
      "Epoch: [7][200/877] Elapsed 1m 15s (remain 4m 13s) Loss: 0.1203(0.1446) Grad: 0.2778 LR: 0.000033  \n",
      "Epoch: [7][300/877] Elapsed 1m 51s (remain 3m 34s) Loss: 0.2195(0.1421) Grad: 0.4715 LR: 0.000031  \n",
      "Epoch: [7][400/877] Elapsed 2m 28s (remain 2m 56s) Loss: 0.2298(0.1413) Grad: 0.2897 LR: 0.000029  \n",
      "Epoch: [7][500/877] Elapsed 3m 4s (remain 2m 18s) Loss: 0.0929(0.1399) Grad: 0.3538 LR: 0.000028  \n",
      "Epoch: [7][600/877] Elapsed 3m 41s (remain 1m 41s) Loss: 0.1438(0.1377) Grad: 0.5091 LR: 0.000026  \n",
      "Epoch: [7][700/877] Elapsed 4m 17s (remain 1m 4s) Loss: 0.3400(0.1381) Grad: 0.2520 LR: 0.000025  \n",
      "Epoch: [7][800/877] Elapsed 4m 53s (remain 0m 27s) Loss: 0.1415(0.1380) Grad: 0.4702 LR: 0.000023  \n",
      "Epoch: [7][876/877] Elapsed 5m 21s (remain 0m 0s) Loss: 0.2830(0.1377) Grad: 0.2866 LR: 0.000022  \n",
      "EVAL: [0/220] Elapsed 0m 1s (remain 4m 2s) Loss: 0.1170(0.1170) \n",
      "EVAL: [100/220] Elapsed 0m 18s (remain 0m 21s) Loss: 0.1317(0.0944) \n",
      "EVAL: [200/220] Elapsed 0m 35s (remain 0m 3s) Loss: 0.0472(0.0985) \n"
     ]
    },
    {
     "name": "stderr",
     "output_type": "stream",
     "text": [
      "Epoch 7 - avg_train_loss: 0.1377  avg_val_loss: 0.0998  time: 359s\n",
      "Epoch 7 - Accuracy: 0.8885513575090184\n",
      "Epoch 7 - Save Best Score: 0.8886 Model\n"
     ]
    },
    {
     "name": "stdout",
     "output_type": "stream",
     "text": [
      "EVAL: [219/220] Elapsed 0m 37s (remain 0m 0s) Loss: 0.1938(0.0998) \n",
      "Epoch: [8][0/877] Elapsed 0m 1s (remain 23m 47s) Loss: 0.0871(0.0871) Grad: 0.4828 LR: 0.000022  \n",
      "Epoch: [8][100/877] Elapsed 0m 38s (remain 4m 57s) Loss: 0.0723(0.1352) Grad: 0.4105 LR: 0.000021  \n",
      "Epoch: [8][200/877] Elapsed 1m 15s (remain 4m 12s) Loss: 0.1625(0.1302) Grad: 0.3341 LR: 0.000019  \n",
      "Epoch: [8][300/877] Elapsed 1m 51s (remain 3m 33s) Loss: 0.0948(0.1318) Grad: 0.3542 LR: 0.000018  \n",
      "Epoch: [8][400/877] Elapsed 2m 27s (remain 2m 55s) Loss: 0.1760(0.1313) Grad: 0.2992 LR: 0.000017  \n",
      "Epoch: [8][500/877] Elapsed 3m 4s (remain 2m 18s) Loss: 0.0404(0.1302) Grad: 0.2471 LR: 0.000016  \n",
      "Epoch: [8][600/877] Elapsed 3m 40s (remain 1m 41s) Loss: 0.0633(0.1304) Grad: 0.3141 LR: 0.000014  \n",
      "Epoch: [8][700/877] Elapsed 4m 17s (remain 1m 4s) Loss: 0.1350(0.1314) Grad: 0.4933 LR: 0.000013  \n",
      "Epoch: [8][800/877] Elapsed 4m 54s (remain 0m 27s) Loss: 0.1127(0.1332) Grad: 0.3957 LR: 0.000012  \n",
      "Epoch: [8][876/877] Elapsed 5m 21s (remain 0m 0s) Loss: 0.1250(0.1322) Grad: 0.4392 LR: 0.000011  \n",
      "EVAL: [0/220] Elapsed 0m 1s (remain 3m 53s) Loss: 0.1206(0.1206) \n",
      "EVAL: [100/220] Elapsed 0m 18s (remain 0m 21s) Loss: 0.1314(0.0924) \n",
      "EVAL: [200/220] Elapsed 0m 35s (remain 0m 3s) Loss: 0.0487(0.0964) \n"
     ]
    },
    {
     "name": "stderr",
     "output_type": "stream",
     "text": [
      "Epoch 8 - avg_train_loss: 0.1322  avg_val_loss: 0.0975  time: 360s\n",
      "Epoch 8 - Accuracy: 0.8896905259160812\n",
      "Epoch 8 - Save Best Score: 0.8897 Model\n"
     ]
    },
    {
     "name": "stdout",
     "output_type": "stream",
     "text": [
      "EVAL: [219/220] Elapsed 0m 38s (remain 0m 0s) Loss: 0.1862(0.0975) \n",
      "Epoch: [9][0/877] Elapsed 0m 1s (remain 24m 48s) Loss: 0.0606(0.0606) Grad: 0.5852 LR: 0.000011  \n",
      "Epoch: [9][100/877] Elapsed 0m 38s (remain 4m 54s) Loss: 0.0809(0.1301) Grad: 0.1560 LR: 0.000010  \n",
      "Epoch: [9][200/877] Elapsed 1m 14s (remain 4m 11s) Loss: 0.2169(0.1342) Grad: 0.3436 LR: 0.000009  \n",
      "Epoch: [9][300/877] Elapsed 1m 51s (remain 3m 32s) Loss: 0.1130(0.1334) Grad: 0.3260 LR: 0.000008  \n",
      "Epoch: [9][400/877] Elapsed 2m 27s (remain 2m 55s) Loss: 0.1424(0.1330) Grad: 0.3892 LR: 0.000008  \n",
      "Epoch: [9][500/877] Elapsed 3m 4s (remain 2m 18s) Loss: 0.0463(0.1357) Grad: 0.3653 LR: 0.000007  \n",
      "Epoch: [9][600/877] Elapsed 3m 41s (remain 1m 41s) Loss: 0.1254(0.1345) Grad: 0.4101 LR: 0.000006  \n",
      "Epoch: [9][700/877] Elapsed 4m 17s (remain 1m 4s) Loss: 0.0801(0.1324) Grad: 0.5001 LR: 0.000005  \n",
      "Epoch: [9][800/877] Elapsed 4m 54s (remain 0m 27s) Loss: 0.0466(0.1307) Grad: 0.2940 LR: 0.000005  \n",
      "Epoch: [9][876/877] Elapsed 5m 22s (remain 0m 0s) Loss: 0.1465(0.1297) Grad: 0.4883 LR: 0.000004  \n",
      "EVAL: [0/220] Elapsed 0m 1s (remain 3m 57s) Loss: 0.1137(0.1137) \n",
      "EVAL: [100/220] Elapsed 0m 18s (remain 0m 21s) Loss: 0.1229(0.0920) \n",
      "EVAL: [200/220] Elapsed 0m 35s (remain 0m 3s) Loss: 0.0363(0.0959) \n"
     ]
    },
    {
     "name": "stderr",
     "output_type": "stream",
     "text": [
      "Epoch 9 - avg_train_loss: 0.1297  avg_val_loss: 0.0970  time: 360s\n",
      "Epoch 9 - Accuracy: 0.8898803873172584\n",
      "Epoch 9 - Save Best Score: 0.8899 Model\n"
     ]
    },
    {
     "name": "stdout",
     "output_type": "stream",
     "text": [
      "EVAL: [219/220] Elapsed 0m 37s (remain 0m 0s) Loss: 0.1926(0.0970) \n",
      "Epoch: [10][0/877] Elapsed 0m 1s (remain 21m 20s) Loss: 0.0650(0.0650) Grad: 0.5877 LR: 0.000004  \n",
      "Epoch: [10][100/877] Elapsed 0m 35s (remain 4m 36s) Loss: 0.0814(0.0647) Grad: 0.4471 LR: 0.000004  \n",
      "Epoch: [10][200/877] Elapsed 1m 10s (remain 3m 57s) Loss: 0.0732(0.0658) Grad: 0.3674 LR: 0.000003  \n",
      "Epoch: [10][300/877] Elapsed 1m 45s (remain 3m 21s) Loss: 0.0349(0.0663) Grad: 0.3384 LR: 0.000003  \n",
      "Epoch: [10][400/877] Elapsed 2m 19s (remain 2m 45s) Loss: 0.0438(0.0656) Grad: 0.2719 LR: 0.000003  \n",
      "Epoch: [10][500/877] Elapsed 2m 54s (remain 2m 10s) Loss: 0.0259(0.0652) Grad: 0.3255 LR: 0.000002  \n",
      "Epoch: [10][600/877] Elapsed 3m 29s (remain 1m 36s) Loss: 0.0695(0.0655) Grad: 0.2327 LR: 0.000002  \n",
      "Epoch: [10][700/877] Elapsed 4m 3s (remain 1m 1s) Loss: 0.1085(0.0653) Grad: 0.2332 LR: 0.000002  \n",
      "Epoch: [10][800/877] Elapsed 4m 38s (remain 0m 26s) Loss: 0.0399(0.0648) Grad: 0.3238 LR: 0.000002  \n",
      "Epoch: [10][876/877] Elapsed 5m 4s (remain 0m 0s) Loss: 0.0351(0.0648) Grad: 0.1828 LR: 0.000100  \n",
      "EVAL: [0/220] Elapsed 0m 1s (remain 3m 54s) Loss: 0.1021(0.1021) \n",
      "EVAL: [100/220] Elapsed 0m 18s (remain 0m 21s) Loss: 0.1584(0.0927) \n",
      "EVAL: [200/220] Elapsed 0m 35s (remain 0m 3s) Loss: 0.0372(0.0977) \n"
     ]
    },
    {
     "name": "stderr",
     "output_type": "stream",
     "text": [
      "Epoch 10 - avg_train_loss: 0.0648  avg_val_loss: 0.0986  time: 342s\n",
      "Epoch 10 - Accuracy: 0.8929181697360926\n",
      "Epoch 10 - Save Best Score: 0.8929 Model\n"
     ]
    },
    {
     "name": "stdout",
     "output_type": "stream",
     "text": [
      "EVAL: [219/220] Elapsed 0m 37s (remain 0m 0s) Loss: 0.2264(0.0986) \n"
     ]
    },
    {
     "name": "stderr",
     "output_type": "stream",
     "text": [
      "Epoch 10 - Save final model\n",
      "========== fold: 2 result ==========\n",
      "Score: 0.89292\n",
      "========== fold: 3 training ==========\n"
     ]
    },
    {
     "name": "stdout",
     "output_type": "stream",
     "text": [
      "Epoch: [1][0/877] Elapsed 0m 1s (remain 23m 0s) Loss: 0.4794(0.4794) Grad: 0.3158 LR: 0.000100  \n",
      "Epoch: [1][100/877] Elapsed 0m 37s (remain 4m 46s) Loss: 0.2418(0.3171) Grad: 0.2110 LR: 0.000100  \n",
      "Epoch: [1][200/877] Elapsed 1m 13s (remain 4m 5s) Loss: 0.1373(0.2652) Grad: 0.1960 LR: 0.000100  \n",
      "Epoch: [1][300/877] Elapsed 1m 48s (remain 3m 28s) Loss: 0.1045(0.2318) Grad: 0.3581 LR: 0.000100  \n",
      "Epoch: [1][400/877] Elapsed 2m 24s (remain 2m 51s) Loss: 0.1937(0.2097) Grad: 0.3312 LR: 0.000099  \n",
      "Epoch: [1][500/877] Elapsed 3m 0s (remain 2m 15s) Loss: 0.0951(0.1946) Grad: 0.3075 LR: 0.000099  \n",
      "Epoch: [1][600/877] Elapsed 3m 35s (remain 1m 39s) Loss: 0.0776(0.1833) Grad: 0.2470 LR: 0.000099  \n",
      "Epoch: [1][700/877] Elapsed 4m 11s (remain 1m 3s) Loss: 0.0648(0.1750) Grad: 0.3049 LR: 0.000098  \n",
      "Epoch: [1][800/877] Elapsed 4m 47s (remain 0m 27s) Loss: 0.1079(0.1682) Grad: 0.4329 LR: 0.000098  \n",
      "Epoch: [1][876/877] Elapsed 5m 14s (remain 0m 0s) Loss: 0.0880(0.1644) Grad: 0.3808 LR: 0.000098  \n",
      "EVAL: [0/220] Elapsed 0m 1s (remain 4m 5s) Loss: 0.1267(0.1267) \n",
      "EVAL: [100/220] Elapsed 0m 18s (remain 0m 22s) Loss: 0.1392(0.1072) \n",
      "EVAL: [200/220] Elapsed 0m 35s (remain 0m 3s) Loss: 0.0113(0.1103) \n"
     ]
    },
    {
     "name": "stderr",
     "output_type": "stream",
     "text": [
      "Epoch 1 - avg_train_loss: 0.1644  avg_val_loss: 0.1097  time: 353s\n",
      "Epoch 1 - Accuracy: 0.8781089804442757\n",
      "Epoch 1 - Save Best Score: 0.8781 Model\n"
     ]
    },
    {
     "name": "stdout",
     "output_type": "stream",
     "text": [
      "EVAL: [219/220] Elapsed 0m 38s (remain 0m 0s) Loss: 0.0998(0.1097) \n",
      "Epoch: [2][0/877] Elapsed 0m 1s (remain 21m 55s) Loss: 0.1710(0.1710) Grad: 0.5164 LR: 0.000098  \n",
      "Epoch: [2][100/877] Elapsed 0m 37s (remain 4m 46s) Loss: 0.0730(0.0957) Grad: 0.2249 LR: 0.000097  \n",
      "Epoch: [2][200/877] Elapsed 1m 13s (remain 4m 6s) Loss: 0.0617(0.0958) Grad: 0.3595 LR: 0.000096  \n",
      "Epoch: [2][300/877] Elapsed 1m 49s (remain 3m 28s) Loss: 0.1443(0.0947) Grad: 0.4824 LR: 0.000096  \n",
      "Epoch: [2][400/877] Elapsed 2m 24s (remain 2m 51s) Loss: 0.0819(0.0933) Grad: 0.4258 LR: 0.000095  \n",
      "Epoch: [2][500/877] Elapsed 3m 0s (remain 2m 15s) Loss: 0.0374(0.0923) Grad: 0.3268 LR: 0.000094  \n",
      "Epoch: [2][600/877] Elapsed 3m 36s (remain 1m 39s) Loss: 0.0421(0.0913) Grad: 0.4158 LR: 0.000093  \n",
      "Epoch: [2][700/877] Elapsed 4m 12s (remain 1m 3s) Loss: 0.0486(0.0919) Grad: 0.4263 LR: 0.000092  \n",
      "Epoch: [2][800/877] Elapsed 4m 48s (remain 0m 27s) Loss: 0.0184(0.0928) Grad: 0.2181 LR: 0.000091  \n",
      "Epoch: [2][876/877] Elapsed 5m 15s (remain 0m 0s) Loss: 0.1326(0.0921) Grad: 0.3590 LR: 0.000091  \n",
      "EVAL: [0/220] Elapsed 0m 1s (remain 4m 21s) Loss: 0.1311(0.1311) \n",
      "EVAL: [100/220] Elapsed 0m 18s (remain 0m 21s) Loss: 0.1626(0.1049) \n",
      "EVAL: [200/220] Elapsed 0m 35s (remain 0m 3s) Loss: 0.0347(0.1109) \n"
     ]
    },
    {
     "name": "stderr",
     "output_type": "stream",
     "text": [
      "Epoch 2 - avg_train_loss: 0.0921  avg_val_loss: 0.1098  time: 354s\n",
      "Epoch 2 - Accuracy: 0.8777292576419214\n"
     ]
    },
    {
     "name": "stdout",
     "output_type": "stream",
     "text": [
      "EVAL: [219/220] Elapsed 0m 38s (remain 0m 0s) Loss: 0.1445(0.1098) \n",
      "Epoch: [3][0/877] Elapsed 0m 1s (remain 26m 49s) Loss: 0.1837(0.1837) Grad: 0.6598 LR: 0.000091  \n",
      "Epoch: [3][100/877] Elapsed 0m 40s (remain 5m 10s) Loss: 0.2313(0.2156) Grad: 0.2906 LR: 0.000090  \n",
      "Epoch: [3][200/877] Elapsed 1m 19s (remain 4m 26s) Loss: 0.2685(0.2131) Grad: 0.3666 LR: 0.000088  \n",
      "Epoch: [3][300/877] Elapsed 1m 57s (remain 3m 45s) Loss: 0.0819(0.2033) Grad: 0.3771 LR: 0.000087  \n",
      "Epoch: [3][400/877] Elapsed 2m 35s (remain 3m 5s) Loss: 0.2307(0.1992) Grad: 0.3060 LR: 0.000086  \n",
      "Epoch: [3][500/877] Elapsed 3m 14s (remain 2m 25s) Loss: 0.1040(0.1968) Grad: 0.3876 LR: 0.000085  \n",
      "Epoch: [3][600/877] Elapsed 3m 52s (remain 1m 46s) Loss: 0.2279(0.1976) Grad: 0.2799 LR: 0.000084  \n",
      "Epoch: [3][700/877] Elapsed 4m 30s (remain 1m 7s) Loss: 0.0637(0.1958) Grad: 0.3057 LR: 0.000082  \n",
      "Epoch: [3][800/877] Elapsed 5m 8s (remain 0m 29s) Loss: 0.1822(0.1942) Grad: 0.3286 LR: 0.000081  \n",
      "Epoch: [3][876/877] Elapsed 5m 38s (remain 0m 0s) Loss: 0.1469(0.1929) Grad: 0.3278 LR: 0.000080  \n",
      "EVAL: [0/220] Elapsed 0m 1s (remain 3m 54s) Loss: 0.1199(0.1199) \n",
      "EVAL: [100/220] Elapsed 0m 18s (remain 0m 22s) Loss: 0.1379(0.1005) \n",
      "EVAL: [200/220] Elapsed 0m 36s (remain 0m 3s) Loss: 0.0200(0.1046) \n"
     ]
    },
    {
     "name": "stderr",
     "output_type": "stream",
     "text": [
      "Epoch 3 - avg_train_loss: 0.1929  avg_val_loss: 0.1041  time: 377s\n",
      "Epoch 3 - Accuracy: 0.8847541294854756\n",
      "Epoch 3 - Save Best Score: 0.8848 Model\n"
     ]
    },
    {
     "name": "stdout",
     "output_type": "stream",
     "text": [
      "EVAL: [219/220] Elapsed 0m 38s (remain 0m 0s) Loss: 0.1196(0.1041) \n",
      "Epoch: [4][0/877] Elapsed 0m 1s (remain 26m 54s) Loss: 0.1506(0.1506) Grad: 0.4150 LR: 0.000080  \n",
      "Epoch: [4][100/877] Elapsed 0m 40s (remain 5m 8s) Loss: 0.2434(0.1754) Grad: 0.2150 LR: 0.000078  \n",
      "Epoch: [4][200/877] Elapsed 1m 18s (remain 4m 23s) Loss: 0.2314(0.1790) Grad: 0.2298 LR: 0.000077  \n",
      "Epoch: [4][300/877] Elapsed 1m 56s (remain 3m 43s) Loss: 0.1931(0.1768) Grad: 0.5096 LR: 0.000075  \n",
      "Epoch: [4][400/877] Elapsed 2m 35s (remain 3m 4s) Loss: 0.1251(0.1796) Grad: 0.4246 LR: 0.000074  \n",
      "Epoch: [4][500/877] Elapsed 3m 13s (remain 2m 25s) Loss: 0.2578(0.1790) Grad: 0.1932 LR: 0.000072  \n",
      "Epoch: [4][600/877] Elapsed 3m 51s (remain 1m 46s) Loss: 0.3176(0.1789) Grad: 0.2388 LR: 0.000071  \n",
      "Epoch: [4][700/877] Elapsed 4m 30s (remain 1m 7s) Loss: 0.0982(0.1810) Grad: 0.1812 LR: 0.000069  \n",
      "Epoch: [4][800/877] Elapsed 5m 9s (remain 0m 29s) Loss: 0.0463(0.1802) Grad: 0.3371 LR: 0.000067  \n",
      "Epoch: [4][876/877] Elapsed 5m 38s (remain 0m 0s) Loss: 0.4389(0.1799) Grad: 0.3813 LR: 0.000066  \n",
      "EVAL: [0/220] Elapsed 0m 1s (remain 4m 14s) Loss: 0.1152(0.1152) \n",
      "EVAL: [100/220] Elapsed 0m 19s (remain 0m 22s) Loss: 0.1130(0.0936) \n",
      "EVAL: [200/220] Elapsed 0m 37s (remain 0m 3s) Loss: 0.0256(0.0984) \n"
     ]
    },
    {
     "name": "stderr",
     "output_type": "stream",
     "text": [
      "Epoch 4 - avg_train_loss: 0.1799  avg_val_loss: 0.0988  time: 379s\n",
      "Epoch 4 - Accuracy: 0.8927283083349156\n",
      "Epoch 4 - Save Best Score: 0.8927 Model\n"
     ]
    },
    {
     "name": "stdout",
     "output_type": "stream",
     "text": [
      "EVAL: [219/220] Elapsed 0m 40s (remain 0m 0s) Loss: 0.1103(0.0988) \n",
      "Epoch: [5][0/877] Elapsed 0m 1s (remain 28m 24s) Loss: 0.2398(0.2398) Grad: 0.4272 LR: 0.000066  \n",
      "Epoch: [5][100/877] Elapsed 0m 41s (remain 5m 18s) Loss: 0.1018(0.1855) Grad: 0.2956 LR: 0.000064  \n",
      "Epoch: [5][200/877] Elapsed 1m 20s (remain 4m 31s) Loss: 0.3262(0.1834) Grad: 0.3116 LR: 0.000063  \n",
      "Epoch: [5][300/877] Elapsed 1m 59s (remain 3m 49s) Loss: 0.2499(0.1834) Grad: 0.2009 LR: 0.000061  \n",
      "Epoch: [5][400/877] Elapsed 2m 38s (remain 3m 8s) Loss: 0.1031(0.1792) Grad: 0.4151 LR: 0.000059  \n",
      "Epoch: [5][500/877] Elapsed 3m 17s (remain 2m 28s) Loss: 0.1809(0.1761) Grad: 0.1860 LR: 0.000058  \n",
      "Epoch: [5][600/877] Elapsed 3m 56s (remain 1m 48s) Loss: 0.1274(0.1765) Grad: 0.3781 LR: 0.000056  \n",
      "Epoch: [5][700/877] Elapsed 4m 35s (remain 1m 9s) Loss: 0.1091(0.1769) Grad: 0.3375 LR: 0.000054  \n",
      "Epoch: [5][800/877] Elapsed 5m 14s (remain 0m 29s) Loss: 0.0658(0.1744) Grad: 0.3902 LR: 0.000052  \n",
      "Epoch: [5][876/877] Elapsed 5m 42s (remain 0m 0s) Loss: 0.0629(0.1735) Grad: 0.3869 LR: 0.000051  \n",
      "EVAL: [0/220] Elapsed 0m 1s (remain 4m 15s) Loss: 0.0992(0.0992) \n",
      "EVAL: [100/220] Elapsed 0m 18s (remain 0m 22s) Loss: 0.1130(0.1009) \n",
      "EVAL: [200/220] Elapsed 0m 36s (remain 0m 3s) Loss: 0.0324(0.1037) \n"
     ]
    },
    {
     "name": "stderr",
     "output_type": "stream",
     "text": [
      "Epoch 5 - avg_train_loss: 0.1735  avg_val_loss: 0.1033  time: 382s\n",
      "Epoch 5 - Accuracy: 0.8876020505031327\n"
     ]
    },
    {
     "name": "stdout",
     "output_type": "stream",
     "text": [
      "EVAL: [219/220] Elapsed 0m 39s (remain 0m 0s) Loss: 0.1290(0.1033) \n",
      "Epoch: [6][0/877] Elapsed 0m 1s (remain 25m 36s) Loss: 0.3605(0.3605) Grad: 0.4740 LR: 0.000051  \n",
      "Epoch: [6][100/877] Elapsed 0m 40s (remain 5m 12s) Loss: 0.1217(0.1767) Grad: 0.1887 LR: 0.000049  \n",
      "Epoch: [6][200/877] Elapsed 1m 19s (remain 4m 26s) Loss: 0.2679(0.1718) Grad: 0.4223 LR: 0.000047  \n",
      "Epoch: [6][300/877] Elapsed 1m 58s (remain 3m 45s) Loss: 0.0868(0.1734) Grad: 0.2939 LR: 0.000046  \n",
      "Epoch: [6][400/877] Elapsed 2m 36s (remain 3m 5s) Loss: 0.1549(0.1737) Grad: 0.4112 LR: 0.000044  \n",
      "Epoch: [6][500/877] Elapsed 3m 15s (remain 2m 26s) Loss: 0.1601(0.1734) Grad: 0.2796 LR: 0.000042  \n",
      "Epoch: [6][600/877] Elapsed 3m 54s (remain 1m 47s) Loss: 0.0912(0.1736) Grad: 0.3878 LR: 0.000041  \n",
      "Epoch: [6][700/877] Elapsed 4m 33s (remain 1m 8s) Loss: 0.3561(0.1721) Grad: 0.3010 LR: 0.000039  \n",
      "Epoch: [6][800/877] Elapsed 5m 12s (remain 0m 29s) Loss: 0.1940(0.1724) Grad: 0.5527 LR: 0.000037  \n",
      "Epoch: [6][876/877] Elapsed 5m 41s (remain 0m 0s) Loss: 0.0972(0.1726) Grad: 0.3572 LR: 0.000036  \n",
      "EVAL: [0/220] Elapsed 0m 1s (remain 4m 19s) Loss: 0.0966(0.0966) \n",
      "EVAL: [100/220] Elapsed 0m 18s (remain 0m 22s) Loss: 0.1285(0.0959) \n",
      "EVAL: [200/220] Elapsed 0m 36s (remain 0m 3s) Loss: 0.0330(0.0992) \n"
     ]
    },
    {
     "name": "stderr",
     "output_type": "stream",
     "text": [
      "Epoch 6 - avg_train_loss: 0.1726  avg_val_loss: 0.0991  time: 381s\n",
      "Epoch 6 - Accuracy: 0.8923485855325612\n"
     ]
    },
    {
     "name": "stdout",
     "output_type": "stream",
     "text": [
      "EVAL: [219/220] Elapsed 0m 38s (remain 0m 0s) Loss: 0.1350(0.0991) \n",
      "Epoch: [7][0/877] Elapsed 0m 1s (remain 24m 54s) Loss: 0.1226(0.1226) Grad: 0.4189 LR: 0.000036  \n",
      "Epoch: [7][100/877] Elapsed 0m 40s (remain 5m 7s) Loss: 0.3601(0.1366) Grad: 0.2602 LR: 0.000034  \n",
      "Epoch: [7][200/877] Elapsed 1m 18s (remain 4m 22s) Loss: 0.2220(0.1351) Grad: 0.2128 LR: 0.000033  \n",
      "Epoch: [7][300/877] Elapsed 1m 56s (remain 3m 42s) Loss: 0.0821(0.1349) Grad: 0.4261 LR: 0.000031  \n",
      "Epoch: [7][400/877] Elapsed 2m 34s (remain 3m 3s) Loss: 0.1153(0.1332) Grad: 0.3656 LR: 0.000029  \n",
      "Epoch: [7][500/877] Elapsed 3m 13s (remain 2m 25s) Loss: 0.0830(0.1363) Grad: 0.3247 LR: 0.000028  \n",
      "Epoch: [7][600/877] Elapsed 3m 51s (remain 1m 46s) Loss: 0.1055(0.1376) Grad: 0.4568 LR: 0.000026  \n",
      "Epoch: [7][700/877] Elapsed 4m 30s (remain 1m 7s) Loss: 0.2353(0.1374) Grad: 0.2853 LR: 0.000025  \n",
      "Epoch: [7][800/877] Elapsed 5m 8s (remain 0m 29s) Loss: 0.0904(0.1381) Grad: 0.2890 LR: 0.000023  \n",
      "Epoch: [7][876/877] Elapsed 5m 37s (remain 0m 0s) Loss: 0.0639(0.1373) Grad: 0.2760 LR: 0.000022  \n",
      "EVAL: [0/220] Elapsed 0m 1s (remain 4m 29s) Loss: 0.0872(0.0872) \n",
      "EVAL: [100/220] Elapsed 0m 18s (remain 0m 22s) Loss: 0.1353(0.0929) \n",
      "EVAL: [200/220] Elapsed 0m 36s (remain 0m 3s) Loss: 0.0251(0.0965) \n"
     ]
    },
    {
     "name": "stderr",
     "output_type": "stream",
     "text": [
      "Epoch 7 - avg_train_loss: 0.1373  avg_val_loss: 0.0964  time: 377s\n",
      "Epoch 7 - Accuracy: 0.8900702487184355\n"
     ]
    },
    {
     "name": "stdout",
     "output_type": "stream",
     "text": [
      "EVAL: [219/220] Elapsed 0m 39s (remain 0m 0s) Loss: 0.1377(0.0964) \n",
      "Epoch: [8][0/877] Elapsed 0m 1s (remain 26m 8s) Loss: 0.1182(0.1182) Grad: 0.4689 LR: 0.000022  \n",
      "Epoch: [8][100/877] Elapsed 0m 40s (remain 5m 10s) Loss: 0.1978(0.1382) Grad: 0.5447 LR: 0.000021  \n",
      "Epoch: [8][200/877] Elapsed 1m 18s (remain 4m 24s) Loss: 0.0347(0.1345) Grad: 0.2504 LR: 0.000019  \n",
      "Epoch: [8][300/877] Elapsed 1m 57s (remain 3m 44s) Loss: 0.1703(0.1414) Grad: 0.2068 LR: 0.000018  \n",
      "Epoch: [8][400/877] Elapsed 2m 35s (remain 3m 4s) Loss: 0.0387(0.1405) Grad: 0.2613 LR: 0.000017  \n",
      "Epoch: [8][500/877] Elapsed 3m 13s (remain 2m 25s) Loss: 0.0401(0.1386) Grad: 0.2985 LR: 0.000016  \n",
      "Epoch: [8][600/877] Elapsed 3m 52s (remain 1m 46s) Loss: 0.0505(0.1390) Grad: 0.1913 LR: 0.000014  \n",
      "Epoch: [8][700/877] Elapsed 4m 30s (remain 1m 8s) Loss: 0.0715(0.1406) Grad: 0.3516 LR: 0.000013  \n",
      "Epoch: [8][800/877] Elapsed 5m 9s (remain 0m 29s) Loss: 0.1732(0.1403) Grad: 0.2032 LR: 0.000012  \n",
      "Epoch: [8][876/877] Elapsed 5m 37s (remain 0m 0s) Loss: 0.1491(0.1397) Grad: 0.4004 LR: 0.000011  \n",
      "EVAL: [0/220] Elapsed 0m 1s (remain 4m 12s) Loss: 0.0880(0.0880) \n",
      "EVAL: [100/220] Elapsed 0m 19s (remain 0m 22s) Loss: 0.1292(0.0958) \n",
      "EVAL: [200/220] Elapsed 0m 36s (remain 0m 3s) Loss: 0.0226(0.0989) \n"
     ]
    },
    {
     "name": "stderr",
     "output_type": "stream",
     "text": [
      "Epoch 8 - avg_train_loss: 0.1397  avg_val_loss: 0.0984  time: 377s\n",
      "Epoch 8 - Accuracy: 0.8902601101196127\n"
     ]
    },
    {
     "name": "stdout",
     "output_type": "stream",
     "text": [
      "EVAL: [219/220] Elapsed 0m 39s (remain 0m 0s) Loss: 0.1272(0.0984) \n",
      "Epoch: [9][0/877] Elapsed 0m 1s (remain 25m 23s) Loss: 0.2468(0.2468) Grad: 0.5471 LR: 0.000011  \n",
      "Epoch: [9][100/877] Elapsed 0m 40s (remain 5m 12s) Loss: 0.1398(0.1354) Grad: 0.3523 LR: 0.000010  \n",
      "Epoch: [9][200/877] Elapsed 1m 19s (remain 4m 26s) Loss: 0.0349(0.1270) Grad: 0.2322 LR: 0.000009  \n",
      "Epoch: [9][300/877] Elapsed 1m 57s (remain 3m 44s) Loss: 0.0405(0.1282) Grad: 0.1841 LR: 0.000008  \n",
      "Epoch: [9][400/877] Elapsed 2m 35s (remain 3m 4s) Loss: 0.1677(0.1297) Grad: 0.3969 LR: 0.000008  \n",
      "Epoch: [9][500/877] Elapsed 3m 13s (remain 2m 25s) Loss: 0.0534(0.1285) Grad: 0.3457 LR: 0.000007  \n",
      "Epoch: [9][600/877] Elapsed 3m 52s (remain 1m 46s) Loss: 0.0579(0.1321) Grad: 0.4398 LR: 0.000006  \n",
      "Epoch: [9][700/877] Elapsed 4m 30s (remain 1m 7s) Loss: 0.0824(0.1324) Grad: 0.3757 LR: 0.000005  \n",
      "Epoch: [9][800/877] Elapsed 5m 8s (remain 0m 29s) Loss: 0.1192(0.1324) Grad: 0.4567 LR: 0.000005  \n",
      "Epoch: [9][876/877] Elapsed 5m 37s (remain 0m 0s) Loss: 0.0725(0.1327) Grad: 0.3701 LR: 0.000004  \n",
      "EVAL: [0/220] Elapsed 0m 1s (remain 4m 16s) Loss: 0.0924(0.0924) \n",
      "EVAL: [100/220] Elapsed 0m 18s (remain 0m 21s) Loss: 0.1302(0.0928) \n",
      "EVAL: [200/220] Elapsed 0m 36s (remain 0m 3s) Loss: 0.0244(0.0966) \n"
     ]
    },
    {
     "name": "stderr",
     "output_type": "stream",
     "text": [
      "Epoch 9 - avg_train_loss: 0.1327  avg_val_loss: 0.0964  time: 377s\n",
      "Epoch 9 - Accuracy: 0.8929181697360926\n",
      "Epoch 9 - Save Best Score: 0.8929 Model\n"
     ]
    },
    {
     "name": "stdout",
     "output_type": "stream",
     "text": [
      "EVAL: [219/220] Elapsed 0m 38s (remain 0m 0s) Loss: 0.1419(0.0964) \n",
      "Epoch: [10][0/877] Elapsed 0m 1s (remain 23m 32s) Loss: 0.0506(0.0506) Grad: 0.5039 LR: 0.000004  \n",
      "Epoch: [10][100/877] Elapsed 0m 37s (remain 4m 50s) Loss: 0.0825(0.0652) Grad: 0.3401 LR: 0.000004  \n",
      "Epoch: [10][200/877] Elapsed 1m 14s (remain 4m 10s) Loss: 0.1107(0.0664) Grad: 0.4061 LR: 0.000003  \n",
      "Epoch: [10][300/877] Elapsed 1m 50s (remain 3m 31s) Loss: 0.0198(0.0683) Grad: 0.2878 LR: 0.000003  \n",
      "Epoch: [10][400/877] Elapsed 2m 27s (remain 2m 54s) Loss: 0.0171(0.0687) Grad: 0.2387 LR: 0.000003  \n",
      "Epoch: [10][500/877] Elapsed 3m 3s (remain 2m 17s) Loss: 0.0247(0.0687) Grad: 0.2855 LR: 0.000002  \n",
      "Epoch: [10][600/877] Elapsed 3m 40s (remain 1m 41s) Loss: 0.0165(0.0684) Grad: 0.1375 LR: 0.000002  \n",
      "Epoch: [10][700/877] Elapsed 4m 16s (remain 1m 4s) Loss: 0.1167(0.0674) Grad: 0.2458 LR: 0.000002  \n",
      "Epoch: [10][800/877] Elapsed 4m 53s (remain 0m 27s) Loss: 0.0636(0.0669) Grad: 0.3174 LR: 0.000002  \n",
      "Epoch: [10][876/877] Elapsed 5m 20s (remain 0m 0s) Loss: 0.0285(0.0666) Grad: 0.3042 LR: 0.000100  \n",
      "EVAL: [0/220] Elapsed 0m 1s (remain 3m 56s) Loss: 0.0982(0.0982) \n",
      "EVAL: [100/220] Elapsed 0m 18s (remain 0m 22s) Loss: 0.1290(0.0945) \n",
      "EVAL: [200/220] Elapsed 0m 36s (remain 0m 3s) Loss: 0.0242(0.0984) \n"
     ]
    },
    {
     "name": "stderr",
     "output_type": "stream",
     "text": [
      "Epoch 10 - avg_train_loss: 0.0666  avg_val_loss: 0.0983  time: 360s\n",
      "Epoch 10 - Accuracy: 0.8915891399278527\n",
      "Epoch 10 - Save final model\n"
     ]
    },
    {
     "name": "stdout",
     "output_type": "stream",
     "text": [
      "EVAL: [219/220] Elapsed 0m 39s (remain 0m 0s) Loss: 0.0833(0.0983) \n"
     ]
    },
    {
     "name": "stderr",
     "output_type": "stream",
     "text": [
      "========== fold: 3 result ==========\n",
      "Score: 0.89292\n",
      "========== fold: 4 training ==========\n"
     ]
    },
    {
     "name": "stdout",
     "output_type": "stream",
     "text": [
      "Epoch: [1][0/877] Elapsed 0m 1s (remain 21m 3s) Loss: 0.5055(0.5055) Grad: 0.3053 LR: 0.000100  \n",
      "Epoch: [1][100/877] Elapsed 0m 39s (remain 5m 2s) Loss: 0.2631(0.3326) Grad: 0.1741 LR: 0.000100  \n",
      "Epoch: [1][200/877] Elapsed 1m 17s (remain 4m 19s) Loss: 0.1327(0.2697) Grad: 0.3534 LR: 0.000100  \n",
      "Epoch: [1][300/877] Elapsed 1m 54s (remain 3m 38s) Loss: 0.1043(0.2324) Grad: 0.3463 LR: 0.000100  \n",
      "Epoch: [1][400/877] Elapsed 2m 31s (remain 3m 0s) Loss: 0.1089(0.2101) Grad: 0.3765 LR: 0.000099  \n",
      "Epoch: [1][500/877] Elapsed 3m 9s (remain 2m 22s) Loss: 0.0741(0.1942) Grad: 0.3017 LR: 0.000099  \n",
      "Epoch: [1][600/877] Elapsed 3m 47s (remain 1m 44s) Loss: 0.1446(0.1842) Grad: 0.4055 LR: 0.000099  \n",
      "Epoch: [1][700/877] Elapsed 4m 24s (remain 1m 6s) Loss: 0.1203(0.1762) Grad: 0.4421 LR: 0.000098  \n",
      "Epoch: [1][800/877] Elapsed 5m 2s (remain 0m 28s) Loss: 0.1360(0.1692) Grad: 0.3678 LR: 0.000098  \n",
      "Epoch: [1][876/877] Elapsed 5m 30s (remain 0m 0s) Loss: 0.0640(0.1633) Grad: 0.2984 LR: 0.000098  \n",
      "EVAL: [0/220] Elapsed 0m 1s (remain 4m 37s) Loss: 0.1534(0.1534) \n",
      "EVAL: [100/220] Elapsed 0m 19s (remain 0m 22s) Loss: 0.1197(0.1075) \n",
      "EVAL: [200/220] Elapsed 0m 36s (remain 0m 3s) Loss: 0.0720(0.1106) \n"
     ]
    },
    {
     "name": "stderr",
     "output_type": "stream",
     "text": [
      "Epoch 1 - avg_train_loss: 0.1633  avg_val_loss: 0.1117  time: 371s\n",
      "Epoch 1 - Accuracy: 0.8775393962407443\n",
      "Epoch 1 - Save Best Score: 0.8775 Model\n"
     ]
    },
    {
     "name": "stdout",
     "output_type": "stream",
     "text": [
      "EVAL: [219/220] Elapsed 0m 39s (remain 0m 0s) Loss: 0.2145(0.1117) \n",
      "Epoch: [2][0/877] Elapsed 0m 1s (remain 22m 0s) Loss: 0.1583(0.1583) Grad: 0.4991 LR: 0.000098  \n",
      "Epoch: [2][100/877] Elapsed 0m 39s (remain 5m 3s) Loss: 0.0347(0.1019) Grad: 0.2152 LR: 0.000097  \n",
      "Epoch: [2][200/877] Elapsed 1m 17s (remain 4m 21s) Loss: 0.0247(0.0957) Grad: 0.2703 LR: 0.000096  \n",
      "Epoch: [2][300/877] Elapsed 1m 55s (remain 3m 41s) Loss: 0.0349(0.0931) Grad: 0.3077 LR: 0.000096  \n",
      "Epoch: [2][400/877] Elapsed 2m 33s (remain 3m 1s) Loss: 0.1166(0.0911) Grad: 0.4244 LR: 0.000095  \n",
      "Epoch: [2][500/877] Elapsed 3m 11s (remain 2m 23s) Loss: 0.0633(0.0916) Grad: 0.2692 LR: 0.000094  \n",
      "Epoch: [2][600/877] Elapsed 3m 48s (remain 1m 45s) Loss: 0.0478(0.0927) Grad: 0.5310 LR: 0.000093  \n",
      "Epoch: [2][700/877] Elapsed 4m 26s (remain 1m 6s) Loss: 0.0255(0.0931) Grad: 0.2415 LR: 0.000092  \n",
      "Epoch: [2][800/877] Elapsed 5m 4s (remain 0m 28s) Loss: 0.0660(0.0924) Grad: 0.4148 LR: 0.000091  \n",
      "Epoch: [2][876/877] Elapsed 5m 33s (remain 0m 0s) Loss: 0.1125(0.0919) Grad: 0.4699 LR: 0.000091  \n",
      "EVAL: [0/220] Elapsed 0m 1s (remain 4m 13s) Loss: 0.2114(0.2114) \n",
      "EVAL: [100/220] Elapsed 0m 19s (remain 0m 22s) Loss: 0.1201(0.1098) \n",
      "EVAL: [200/220] Elapsed 0m 37s (remain 0m 3s) Loss: 0.0832(0.1112) \n"
     ]
    },
    {
     "name": "stderr",
     "output_type": "stream",
     "text": [
      "Epoch 2 - avg_train_loss: 0.0919  avg_val_loss: 0.1117  time: 373s\n",
      "Epoch 2 - Accuracy: 0.8767799506360356\n"
     ]
    },
    {
     "name": "stdout",
     "output_type": "stream",
     "text": [
      "EVAL: [219/220] Elapsed 0m 39s (remain 0m 0s) Loss: 0.1262(0.1117) \n",
      "Epoch: [3][0/877] Elapsed 0m 1s (remain 23m 27s) Loss: 0.0890(0.0890) Grad: 0.6544 LR: 0.000091  \n",
      "Epoch: [3][100/877] Elapsed 0m 41s (remain 5m 20s) Loss: 0.2938(0.2166) Grad: 0.2643 LR: 0.000090  \n",
      "Epoch: [3][200/877] Elapsed 1m 21s (remain 4m 34s) Loss: 0.0990(0.2123) Grad: 0.3572 LR: 0.000088  \n",
      "Epoch: [3][300/877] Elapsed 2m 1s (remain 3m 53s) Loss: 0.2615(0.2063) Grad: 0.2611 LR: 0.000087  \n",
      "Epoch: [3][400/877] Elapsed 2m 41s (remain 3m 11s) Loss: 0.2700(0.2027) Grad: 0.2748 LR: 0.000086  \n",
      "Epoch: [3][500/877] Elapsed 3m 21s (remain 2m 31s) Loss: 0.0969(0.2010) Grad: 0.4212 LR: 0.000085  \n",
      "Epoch: [3][600/877] Elapsed 4m 1s (remain 1m 50s) Loss: 0.0889(0.1980) Grad: 0.3232 LR: 0.000084  \n",
      "Epoch: [3][700/877] Elapsed 4m 41s (remain 1m 10s) Loss: 0.2139(0.1980) Grad: 0.3071 LR: 0.000082  \n",
      "Epoch: [3][800/877] Elapsed 5m 21s (remain 0m 30s) Loss: 0.1206(0.1956) Grad: 0.4078 LR: 0.000081  \n",
      "Epoch: [3][876/877] Elapsed 5m 51s (remain 0m 0s) Loss: 0.0973(0.1945) Grad: 0.4808 LR: 0.000080  \n",
      "EVAL: [0/220] Elapsed 0m 1s (remain 4m 0s) Loss: 0.1883(0.1883) \n",
      "EVAL: [100/220] Elapsed 0m 19s (remain 0m 22s) Loss: 0.1457(0.1067) \n",
      "EVAL: [200/220] Elapsed 0m 36s (remain 0m 3s) Loss: 0.0860(0.1085) \n"
     ]
    },
    {
     "name": "stderr",
     "output_type": "stream",
     "text": [
      "Epoch 3 - avg_train_loss: 0.1945  avg_val_loss: 0.1094  time: 391s\n",
      "Epoch 3 - Accuracy: 0.8826656540725271\n",
      "Epoch 3 - Save Best Score: 0.8827 Model\n"
     ]
    },
    {
     "name": "stdout",
     "output_type": "stream",
     "text": [
      "EVAL: [219/220] Elapsed 0m 39s (remain 0m 0s) Loss: 0.1791(0.1094) \n",
      "Epoch: [4][0/877] Elapsed 0m 1s (remain 24m 52s) Loss: 0.2416(0.2416) Grad: 0.5710 LR: 0.000080  \n",
      "Epoch: [4][100/877] Elapsed 0m 42s (remain 5m 23s) Loss: 0.2739(0.1768) Grad: 0.2546 LR: 0.000078  \n",
      "Epoch: [4][200/877] Elapsed 1m 21s (remain 4m 35s) Loss: 0.3058(0.1756) Grad: 0.3083 LR: 0.000077  \n",
      "Epoch: [4][300/877] Elapsed 2m 0s (remain 3m 51s) Loss: 0.1019(0.1796) Grad: 0.4141 LR: 0.000075  \n",
      "Epoch: [4][400/877] Elapsed 2m 40s (remain 3m 10s) Loss: 0.2898(0.1795) Grad: 0.2469 LR: 0.000074  \n",
      "Epoch: [4][500/877] Elapsed 3m 20s (remain 2m 30s) Loss: 0.1725(0.1767) Grad: 0.5149 LR: 0.000072  \n",
      "Epoch: [4][600/877] Elapsed 3m 59s (remain 1m 49s) Loss: 0.0270(0.1784) Grad: 0.2225 LR: 0.000071  \n",
      "Epoch: [4][700/877] Elapsed 4m 39s (remain 1m 10s) Loss: 0.2161(0.1787) Grad: 0.4019 LR: 0.000069  \n",
      "Epoch: [4][800/877] Elapsed 5m 18s (remain 0m 30s) Loss: 0.2088(0.1783) Grad: 0.2501 LR: 0.000067  \n",
      "Epoch: [4][876/877] Elapsed 5m 48s (remain 0m 0s) Loss: 0.2754(0.1784) Grad: 0.3744 LR: 0.000066  \n",
      "EVAL: [0/220] Elapsed 0m 1s (remain 4m 38s) Loss: 0.2170(0.2170) \n",
      "EVAL: [100/220] Elapsed 0m 19s (remain 0m 22s) Loss: 0.1539(0.1090) \n",
      "EVAL: [200/220] Elapsed 0m 36s (remain 0m 3s) Loss: 0.1027(0.1103) \n"
     ]
    },
    {
     "name": "stderr",
     "output_type": "stream",
     "text": [
      "Epoch 4 - avg_train_loss: 0.1784  avg_val_loss: 0.1107  time: 388s\n",
      "Epoch 4 - Accuracy: 0.8769698120372128\n"
     ]
    },
    {
     "name": "stdout",
     "output_type": "stream",
     "text": [
      "EVAL: [219/220] Elapsed 0m 39s (remain 0m 0s) Loss: 0.1550(0.1107) \n",
      "Epoch: [5][0/877] Elapsed 0m 1s (remain 27m 23s) Loss: 0.2126(0.2126) Grad: 0.4301 LR: 0.000066  \n",
      "Epoch: [5][100/877] Elapsed 0m 42s (remain 5m 23s) Loss: 0.0409(0.1777) Grad: 0.2578 LR: 0.000064  \n",
      "Epoch: [5][200/877] Elapsed 1m 21s (remain 4m 34s) Loss: 0.1040(0.1780) Grad: 0.2393 LR: 0.000063  \n",
      "Epoch: [5][300/877] Elapsed 2m 1s (remain 3m 53s) Loss: 0.1496(0.1790) Grad: 0.3906 LR: 0.000061  \n",
      "Epoch: [5][400/877] Elapsed 2m 41s (remain 3m 12s) Loss: 0.2854(0.1780) Grad: 0.2106 LR: 0.000059  \n",
      "Epoch: [5][500/877] Elapsed 3m 22s (remain 2m 31s) Loss: 0.1896(0.1779) Grad: 0.5207 LR: 0.000058  \n",
      "Epoch: [5][600/877] Elapsed 4m 2s (remain 1m 51s) Loss: 0.2245(0.1766) Grad: 0.1582 LR: 0.000056  \n",
      "Epoch: [5][700/877] Elapsed 4m 42s (remain 1m 10s) Loss: 0.2304(0.1764) Grad: 0.2215 LR: 0.000054  \n",
      "Epoch: [5][800/877] Elapsed 5m 22s (remain 0m 30s) Loss: 0.1597(0.1758) Grad: 0.3463 LR: 0.000052  \n",
      "Epoch: [5][876/877] Elapsed 5m 52s (remain 0m 0s) Loss: 0.2780(0.1767) Grad: 0.3264 LR: 0.000051  \n",
      "EVAL: [0/220] Elapsed 0m 1s (remain 4m 31s) Loss: 0.2295(0.2295) \n",
      "EVAL: [100/220] Elapsed 0m 18s (remain 0m 22s) Loss: 0.1465(0.1048) \n",
      "EVAL: [200/220] Elapsed 0m 37s (remain 0m 3s) Loss: 0.0712(0.1072) \n"
     ]
    },
    {
     "name": "stderr",
     "output_type": "stream",
     "text": [
      "Epoch 5 - avg_train_loss: 0.1767  avg_val_loss: 0.1079  time: 393s\n",
      "Epoch 5 - Accuracy: 0.87848870324663\n"
     ]
    },
    {
     "name": "stdout",
     "output_type": "stream",
     "text": [
      "EVAL: [219/220] Elapsed 0m 39s (remain 0m 0s) Loss: 0.1130(0.1079) \n",
      "Epoch: [6][0/877] Elapsed 0m 1s (remain 24m 40s) Loss: 0.0817(0.0817) Grad: 0.4544 LR: 0.000051  \n",
      "Epoch: [6][100/877] Elapsed 0m 41s (remain 5m 22s) Loss: 0.2965(0.1662) Grad: 0.3463 LR: 0.000049  \n",
      "Epoch: [6][200/877] Elapsed 1m 21s (remain 4m 35s) Loss: 0.3759(0.1686) Grad: 0.3478 LR: 0.000047  \n",
      "Epoch: [6][300/877] Elapsed 2m 1s (remain 3m 53s) Loss: 0.2579(0.1706) Grad: 0.3375 LR: 0.000046  \n",
      "Epoch: [6][400/877] Elapsed 2m 41s (remain 3m 12s) Loss: 0.1267(0.1706) Grad: 0.3016 LR: 0.000044  \n",
      "Epoch: [6][500/877] Elapsed 3m 21s (remain 2m 31s) Loss: 0.1682(0.1699) Grad: 0.4736 LR: 0.000042  \n",
      "Epoch: [6][600/877] Elapsed 4m 1s (remain 1m 51s) Loss: 0.1859(0.1699) Grad: 0.4569 LR: 0.000041  \n",
      "Epoch: [6][700/877] Elapsed 4m 41s (remain 1m 10s) Loss: 0.3270(0.1711) Grad: 0.2267 LR: 0.000039  \n",
      "Epoch: [6][800/877] Elapsed 5m 21s (remain 0m 30s) Loss: 0.0871(0.1720) Grad: 0.4284 LR: 0.000037  \n",
      "Epoch: [6][876/877] Elapsed 5m 51s (remain 0m 0s) Loss: 0.1052(0.1736) Grad: 0.3177 LR: 0.000036  \n",
      "EVAL: [0/220] Elapsed 0m 1s (remain 4m 4s) Loss: 0.2029(0.2029) \n",
      "EVAL: [100/220] Elapsed 0m 19s (remain 0m 22s) Loss: 0.1507(0.1031) \n",
      "EVAL: [200/220] Elapsed 0m 37s (remain 0m 3s) Loss: 0.0891(0.1039) \n"
     ]
    },
    {
     "name": "stderr",
     "output_type": "stream",
     "text": [
      "Epoch 6 - avg_train_loss: 0.1736  avg_val_loss: 0.1049  time: 392s\n",
      "Epoch 6 - Accuracy: 0.8851338522878299\n",
      "Epoch 6 - Save Best Score: 0.8851 Model\n"
     ]
    },
    {
     "name": "stdout",
     "output_type": "stream",
     "text": [
      "EVAL: [219/220] Elapsed 0m 39s (remain 0m 0s) Loss: 0.1551(0.1049) \n",
      "Epoch: [7][0/877] Elapsed 0m 1s (remain 24m 44s) Loss: 0.0883(0.0883) Grad: 0.4729 LR: 0.000036  \n",
      "Epoch: [7][100/877] Elapsed 0m 41s (remain 5m 15s) Loss: 0.0950(0.1292) Grad: 0.3476 LR: 0.000034  \n",
      "Epoch: [7][200/877] Elapsed 1m 20s (remain 4m 30s) Loss: 0.0390(0.1348) Grad: 0.2600 LR: 0.000033  \n",
      "Epoch: [7][300/877] Elapsed 1m 59s (remain 3m 48s) Loss: 0.1454(0.1334) Grad: 0.3046 LR: 0.000031  \n",
      "Epoch: [7][400/877] Elapsed 2m 38s (remain 3m 8s) Loss: 0.0965(0.1290) Grad: 0.4628 LR: 0.000029  \n",
      "Epoch: [7][500/877] Elapsed 3m 17s (remain 2m 28s) Loss: 0.1341(0.1280) Grad: 0.4686 LR: 0.000028  \n",
      "Epoch: [7][600/877] Elapsed 3m 57s (remain 1m 48s) Loss: 0.0557(0.1299) Grad: 0.3047 LR: 0.000026  \n",
      "Epoch: [7][700/877] Elapsed 4m 36s (remain 1m 9s) Loss: 0.1019(0.1315) Grad: 0.5722 LR: 0.000025  \n",
      "Epoch: [7][800/877] Elapsed 5m 15s (remain 0m 29s) Loss: 0.0545(0.1299) Grad: 0.3745 LR: 0.000023  \n",
      "Epoch: [7][876/877] Elapsed 5m 45s (remain 0m 0s) Loss: 0.4070(0.1302) Grad: 0.4590 LR: 0.000022  \n",
      "EVAL: [0/220] Elapsed 0m 1s (remain 4m 14s) Loss: 0.1921(0.1921) \n",
      "EVAL: [100/220] Elapsed 0m 19s (remain 0m 22s) Loss: 0.1477(0.0984) \n",
      "EVAL: [200/220] Elapsed 0m 37s (remain 0m 3s) Loss: 0.0887(0.1000) \n"
     ]
    },
    {
     "name": "stderr",
     "output_type": "stream",
     "text": [
      "Epoch 7 - avg_train_loss: 0.1302  avg_val_loss: 0.1007  time: 385s\n",
      "Epoch 7 - Accuracy: 0.8870324662996013\n",
      "Epoch 7 - Save Best Score: 0.8870 Model\n"
     ]
    },
    {
     "name": "stdout",
     "output_type": "stream",
     "text": [
      "EVAL: [219/220] Elapsed 0m 39s (remain 0m 0s) Loss: 0.1729(0.1007) \n",
      "Epoch: [8][0/877] Elapsed 0m 1s (remain 25m 10s) Loss: 0.2861(0.2861) Grad: 0.5395 LR: 0.000022  \n",
      "Epoch: [8][100/877] Elapsed 0m 41s (remain 5m 16s) Loss: 0.2027(0.1448) Grad: 0.1907 LR: 0.000021  \n",
      "Epoch: [8][200/877] Elapsed 1m 20s (remain 4m 29s) Loss: 0.1607(0.1394) Grad: 0.4054 LR: 0.000019  \n",
      "Epoch: [8][300/877] Elapsed 1m 59s (remain 3m 48s) Loss: 0.1309(0.1360) Grad: 0.4219 LR: 0.000018  \n",
      "Epoch: [8][400/877] Elapsed 2m 38s (remain 3m 8s) Loss: 0.0786(0.1354) Grad: 0.4949 LR: 0.000017  \n",
      "Epoch: [8][500/877] Elapsed 3m 18s (remain 2m 28s) Loss: 0.0716(0.1376) Grad: 0.3804 LR: 0.000016  \n",
      "Epoch: [8][600/877] Elapsed 3m 57s (remain 1m 49s) Loss: 0.1563(0.1356) Grad: 0.4464 LR: 0.000014  \n",
      "Epoch: [8][700/877] Elapsed 4m 36s (remain 1m 9s) Loss: 0.0555(0.1365) Grad: 0.3242 LR: 0.000013  \n",
      "Epoch: [8][800/877] Elapsed 5m 15s (remain 0m 29s) Loss: 0.2285(0.1369) Grad: 0.1925 LR: 0.000012  \n",
      "Epoch: [8][876/877] Elapsed 5m 45s (remain 0m 0s) Loss: 0.0804(0.1369) Grad: 0.3541 LR: 0.000011  \n",
      "EVAL: [0/220] Elapsed 0m 1s (remain 4m 46s) Loss: 0.1856(0.1856) \n",
      "EVAL: [100/220] Elapsed 0m 19s (remain 0m 22s) Loss: 0.1646(0.0992) \n",
      "EVAL: [200/220] Elapsed 0m 37s (remain 0m 3s) Loss: 0.0894(0.1006) \n"
     ]
    },
    {
     "name": "stderr",
     "output_type": "stream",
     "text": [
      "Epoch 8 - avg_train_loss: 0.1369  avg_val_loss: 0.1015  time: 386s\n",
      "Epoch 8 - Accuracy: 0.8902601101196127\n",
      "Epoch 8 - Save Best Score: 0.8903 Model\n"
     ]
    },
    {
     "name": "stdout",
     "output_type": "stream",
     "text": [
      "EVAL: [219/220] Elapsed 0m 39s (remain 0m 0s) Loss: 0.1797(0.1015) \n",
      "Epoch: [9][0/877] Elapsed 0m 1s (remain 28m 21s) Loss: 0.2551(0.2551) Grad: 0.5364 LR: 0.000011  \n",
      "Epoch: [9][100/877] Elapsed 0m 41s (remain 5m 21s) Loss: 0.0642(0.1347) Grad: 0.3727 LR: 0.000010  \n",
      "Epoch: [9][200/877] Elapsed 1m 21s (remain 4m 33s) Loss: 0.1892(0.1353) Grad: 0.4487 LR: 0.000009  \n",
      "Epoch: [9][300/877] Elapsed 2m 1s (remain 3m 51s) Loss: 0.1826(0.1299) Grad: 0.5377 LR: 0.000008  \n",
      "Epoch: [9][400/877] Elapsed 2m 40s (remain 3m 10s) Loss: 0.0564(0.1305) Grad: 0.2862 LR: 0.000008  \n",
      "Epoch: [9][500/877] Elapsed 3m 20s (remain 2m 30s) Loss: 0.1008(0.1337) Grad: 0.4070 LR: 0.000007  \n",
      "Epoch: [9][600/877] Elapsed 4m 0s (remain 1m 50s) Loss: 0.1407(0.1339) Grad: 0.2974 LR: 0.000006  \n",
      "Epoch: [9][700/877] Elapsed 4m 39s (remain 1m 10s) Loss: 0.1345(0.1321) Grad: 0.4107 LR: 0.000005  \n",
      "Epoch: [9][800/877] Elapsed 5m 18s (remain 0m 30s) Loss: 0.0733(0.1308) Grad: 0.3225 LR: 0.000005  \n",
      "Epoch: [9][876/877] Elapsed 5m 48s (remain 0m 0s) Loss: 0.0940(0.1309) Grad: 0.4832 LR: 0.000004  \n",
      "EVAL: [0/220] Elapsed 0m 1s (remain 4m 9s) Loss: 0.2094(0.2094) \n",
      "EVAL: [100/220] Elapsed 0m 19s (remain 0m 22s) Loss: 0.1426(0.0981) \n",
      "EVAL: [200/220] Elapsed 0m 37s (remain 0m 3s) Loss: 0.0719(0.0994) \n"
     ]
    },
    {
     "name": "stderr",
     "output_type": "stream",
     "text": [
      "Epoch 9 - avg_train_loss: 0.1309  avg_val_loss: 0.1001  time: 388s\n",
      "Epoch 9 - Accuracy: 0.8906398329219669\n",
      "Epoch 9 - Save Best Score: 0.8906 Model\n"
     ]
    },
    {
     "name": "stdout",
     "output_type": "stream",
     "text": [
      "EVAL: [219/220] Elapsed 0m 39s (remain 0m 0s) Loss: 0.1517(0.1001) \n",
      "Epoch: [10][0/877] Elapsed 0m 1s (remain 22m 36s) Loss: 0.1548(0.1548) Grad: 0.6577 LR: 0.000004  \n",
      "Epoch: [10][100/877] Elapsed 0m 39s (remain 5m 4s) Loss: 0.0524(0.0670) Grad: 0.1214 LR: 0.000004  \n",
      "Epoch: [10][200/877] Elapsed 1m 17s (remain 4m 19s) Loss: 0.1831(0.0649) Grad: 0.2908 LR: 0.000003  \n",
      "Epoch: [10][300/877] Elapsed 1m 54s (remain 3m 39s) Loss: 0.0678(0.0651) Grad: 0.2597 LR: 0.000003  \n",
      "Epoch: [10][400/877] Elapsed 2m 32s (remain 3m 0s) Loss: 0.0285(0.0648) Grad: 0.2083 LR: 0.000003  \n",
      "Epoch: [10][500/877] Elapsed 3m 10s (remain 2m 22s) Loss: 0.0523(0.0650) Grad: 0.3369 LR: 0.000002  \n",
      "Epoch: [10][600/877] Elapsed 3m 48s (remain 1m 44s) Loss: 0.1034(0.0650) Grad: 0.3554 LR: 0.000002  \n",
      "Epoch: [10][700/877] Elapsed 4m 25s (remain 1m 6s) Loss: 0.0253(0.0649) Grad: 0.2378 LR: 0.000002  \n",
      "Epoch: [10][800/877] Elapsed 5m 3s (remain 0m 28s) Loss: 0.0158(0.0647) Grad: 0.2993 LR: 0.000002  \n",
      "Epoch: [10][876/877] Elapsed 5m 31s (remain 0m 0s) Loss: 0.0802(0.0647) Grad: 0.3979 LR: 0.000100  \n",
      "EVAL: [0/220] Elapsed 0m 1s (remain 4m 3s) Loss: 0.2343(0.2343) \n",
      "EVAL: [100/220] Elapsed 0m 19s (remain 0m 22s) Loss: 0.1242(0.0996) \n",
      "EVAL: [200/220] Elapsed 0m 37s (remain 0m 3s) Loss: 0.0578(0.1013) \n"
     ]
    },
    {
     "name": "stderr",
     "output_type": "stream",
     "text": [
      "Epoch 10 - avg_train_loss: 0.0647  avg_val_loss: 0.1016  time: 372s\n",
      "Epoch 10 - Accuracy: 0.8851338522878299\n",
      "Epoch 10 - Save final model\n"
     ]
    },
    {
     "name": "stdout",
     "output_type": "stream",
     "text": [
      "EVAL: [219/220] Elapsed 0m 40s (remain 0m 0s) Loss: 0.1144(0.1016) \n"
     ]
    },
    {
     "name": "stderr",
     "output_type": "stream",
     "text": [
      "========== fold: 4 result ==========\n",
      "Score: 0.89064\n",
      "========== CV ==========\n",
      "Score: 0.89255\n"
     ]
    }
   ],
   "source": [
    "if __name__ == \"__main__\":\n",
    "    main()"
   ]
  }
 ],
 "metadata": {
  "kernelspec": {
   "display_name": "Python 3",
   "language": "python",
   "name": "python3"
  },
  "language_info": {
   "codemirror_mode": {
    "name": "ipython",
    "version": 3
   },
   "file_extension": ".py",
   "mimetype": "text/x-python",
   "name": "python",
   "nbconvert_exporter": "python",
   "pygments_lexer": "ipython3",
   "version": "3.7.9"
  }
 },
 "nbformat": 4,
 "nbformat_minor": 4
}
