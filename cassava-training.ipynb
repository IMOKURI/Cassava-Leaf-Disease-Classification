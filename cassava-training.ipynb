{
 "cells": [
  {
   "cell_type": "markdown",
   "metadata": {},
   "source": [
    "# About this notebook  \n",
    "\n",
    "TBD..."
   ]
  },
  {
   "cell_type": "markdown",
   "metadata": {},
   "source": [
    "# Data Loading"
   ]
  },
  {
   "cell_type": "code",
   "execution_count": 1,
   "metadata": {},
   "outputs": [],
   "source": [
    "import os\n",
    "\n",
    "import pandas as pd\n",
    "import seaborn as sns\n",
    "from matplotlib import pyplot as plt"
   ]
  },
  {
   "cell_type": "code",
   "execution_count": 2,
   "metadata": {},
   "outputs": [
    {
     "data": {
      "text/plain": [
       "['train_tfrecords',\n",
       " 'train_images',\n",
       " 'test_images',\n",
       " 'label_num_to_disease_map.json',\n",
       " 'sample_submission.csv',\n",
       " 'train.csv',\n",
       " 'test_tfrecords']"
      ]
     },
     "execution_count": 2,
     "metadata": {},
     "output_type": "execute_result"
    }
   ],
   "source": [
    "os.listdir(\"../input/cassava-leaf-disease-classification\")"
   ]
  },
  {
   "cell_type": "code",
   "execution_count": 3,
   "metadata": {},
   "outputs": [
    {
     "data": {
      "text/html": [
       "<div>\n",
       "<style scoped>\n",
       "    .dataframe tbody tr th:only-of-type {\n",
       "        vertical-align: middle;\n",
       "    }\n",
       "\n",
       "    .dataframe tbody tr th {\n",
       "        vertical-align: top;\n",
       "    }\n",
       "\n",
       "    .dataframe thead th {\n",
       "        text-align: right;\n",
       "    }\n",
       "</style>\n",
       "<table border=\"1\" class=\"dataframe\">\n",
       "  <thead>\n",
       "    <tr style=\"text-align: right;\">\n",
       "      <th></th>\n",
       "      <th>image_id</th>\n",
       "      <th>label</th>\n",
       "      <th>source</th>\n",
       "    </tr>\n",
       "  </thead>\n",
       "  <tbody>\n",
       "    <tr>\n",
       "      <th>0</th>\n",
       "      <td>1000015157.jpg</td>\n",
       "      <td>0</td>\n",
       "      <td>2020</td>\n",
       "    </tr>\n",
       "    <tr>\n",
       "      <th>1</th>\n",
       "      <td>1000201771.jpg</td>\n",
       "      <td>3</td>\n",
       "      <td>2020</td>\n",
       "    </tr>\n",
       "    <tr>\n",
       "      <th>2</th>\n",
       "      <td>100042118.jpg</td>\n",
       "      <td>1</td>\n",
       "      <td>2020</td>\n",
       "    </tr>\n",
       "    <tr>\n",
       "      <th>3</th>\n",
       "      <td>1000723321.jpg</td>\n",
       "      <td>1</td>\n",
       "      <td>2020</td>\n",
       "    </tr>\n",
       "    <tr>\n",
       "      <th>4</th>\n",
       "      <td>1000812911.jpg</td>\n",
       "      <td>3</td>\n",
       "      <td>2020</td>\n",
       "    </tr>\n",
       "  </tbody>\n",
       "</table>\n",
       "</div>"
      ],
      "text/plain": [
       "         image_id  label  source\n",
       "0  1000015157.jpg      0    2020\n",
       "1  1000201771.jpg      3    2020\n",
       "2   100042118.jpg      1    2020\n",
       "3  1000723321.jpg      1    2020\n",
       "4  1000812911.jpg      3    2020"
      ]
     },
     "metadata": {},
     "output_type": "display_data"
    },
    {
     "data": {
      "text/html": [
       "<div>\n",
       "<style scoped>\n",
       "    .dataframe tbody tr th:only-of-type {\n",
       "        vertical-align: middle;\n",
       "    }\n",
       "\n",
       "    .dataframe tbody tr th {\n",
       "        vertical-align: top;\n",
       "    }\n",
       "\n",
       "    .dataframe thead th {\n",
       "        text-align: right;\n",
       "    }\n",
       "</style>\n",
       "<table border=\"1\" class=\"dataframe\">\n",
       "  <thead>\n",
       "    <tr style=\"text-align: right;\">\n",
       "      <th></th>\n",
       "      <th>image_id</th>\n",
       "      <th>label</th>\n",
       "    </tr>\n",
       "  </thead>\n",
       "  <tbody>\n",
       "    <tr>\n",
       "      <th>0</th>\n",
       "      <td>2216849948.jpg</td>\n",
       "      <td>4</td>\n",
       "    </tr>\n",
       "  </tbody>\n",
       "</table>\n",
       "</div>"
      ],
      "text/plain": [
       "         image_id  label\n",
       "0  2216849948.jpg      4"
      ]
     },
     "metadata": {},
     "output_type": "display_data"
    },
    {
     "data": {
      "text/html": [
       "<div>\n",
       "<style scoped>\n",
       "    .dataframe tbody tr th:only-of-type {\n",
       "        vertical-align: middle;\n",
       "    }\n",
       "\n",
       "    .dataframe tbody tr th {\n",
       "        vertical-align: top;\n",
       "    }\n",
       "\n",
       "    .dataframe thead th {\n",
       "        text-align: right;\n",
       "    }\n",
       "</style>\n",
       "<table border=\"1\" class=\"dataframe\">\n",
       "  <thead>\n",
       "    <tr style=\"text-align: right;\">\n",
       "      <th></th>\n",
       "      <th>0</th>\n",
       "    </tr>\n",
       "  </thead>\n",
       "  <tbody>\n",
       "    <tr>\n",
       "      <th>0</th>\n",
       "      <td>Cassava Bacterial Blight (CBB)</td>\n",
       "    </tr>\n",
       "    <tr>\n",
       "      <th>1</th>\n",
       "      <td>Cassava Brown Streak Disease (CBSD)</td>\n",
       "    </tr>\n",
       "    <tr>\n",
       "      <th>2</th>\n",
       "      <td>Cassava Green Mottle (CGM)</td>\n",
       "    </tr>\n",
       "    <tr>\n",
       "      <th>3</th>\n",
       "      <td>Cassava Mosaic Disease (CMD)</td>\n",
       "    </tr>\n",
       "    <tr>\n",
       "      <th>4</th>\n",
       "      <td>Healthy</td>\n",
       "    </tr>\n",
       "  </tbody>\n",
       "</table>\n",
       "</div>"
      ],
      "text/plain": [
       "                                     0\n",
       "0       Cassava Bacterial Blight (CBB)\n",
       "1  Cassava Brown Streak Disease (CBSD)\n",
       "2           Cassava Green Mottle (CGM)\n",
       "3         Cassava Mosaic Disease (CMD)\n",
       "4                              Healthy"
      ]
     },
     "metadata": {},
     "output_type": "display_data"
    }
   ],
   "source": [
    "# train = pd.read_csv(\"../input/cassava-leaf-disease-classification/train.csv\")\n",
    "train = pd.read_csv(\"../input/cassava-leaf-disease-merged/merged.csv\")\n",
    "# train = pd.read_csv(\"../input/cassava-leaf-disease-merged/oversample-0124.csv\")  # label 0124 x3\n",
    "test = pd.read_csv(\"../input/cassava-leaf-disease-classification/sample_submission.csv\")\n",
    "label_map = pd.read_json(\"../input/cassava-leaf-disease-classification/label_num_to_disease_map.json\", orient=\"index\")\n",
    "display(train.head())\n",
    "display(test.head())\n",
    "display(label_map)"
   ]
  },
  {
   "cell_type": "code",
   "execution_count": 4,
   "metadata": {},
   "outputs": [
    {
     "name": "stderr",
     "output_type": "stream",
     "text": [
      "/opt/conda/lib/python3.7/site-packages/seaborn/distributions.py:2557: FutureWarning: `distplot` is a deprecated function and will be removed in a future version. Please adapt your code to use either `displot` (a figure-level function with similar flexibility) or `histplot` (an axes-level function for histograms).\n",
      "  warnings.warn(msg, FutureWarning)\n"
     ]
    },
    {
     "data": {
      "text/plain": [
       "<AxesSubplot:xlabel='label'>"
      ]
     },
     "execution_count": 4,
     "metadata": {},
     "output_type": "execute_result"
    },
    {
     "data": {
      "image/png": "[encoded data removed]",
      "text/plain": [
       "<Figure size 432x288 with 1 Axes>"
      ]
     },
     "metadata": {
      "needs_background": "light"
     },
     "output_type": "display_data"
    }
   ],
   "source": [
    "sns.distplot(train[\"label\"], kde=False)"
   ]
  },
  {
   "cell_type": "markdown",
   "metadata": {},
   "source": [
    "# Directory settings"
   ]
  },
  {
   "cell_type": "code",
   "execution_count": 5,
   "metadata": {},
   "outputs": [],
   "source": [
    "# ====================================================\n",
    "# Directory settings\n",
    "# ====================================================\n",
    "import os\n",
    "\n",
    "OUTPUT_DIR = \"./\"\n",
    "if not os.path.exists(OUTPUT_DIR):\n",
    "    os.makedirs(OUTPUT_DIR)\n",
    "\n",
    "# TRAIN_PATH = \"../input/cassava-leaf-disease-classification/train_images\"\n",
    "TRAIN_PATH = \"../input/cassava-leaf-disease-merged/train\"\n",
    "TEST_PATH = \"../input/cassava-leaf-disease-classification/test_images\""
   ]
  },
  {
   "cell_type": "markdown",
   "metadata": {},
   "source": [
    "# CFG"
   ]
  },
  {
   "cell_type": "code",
   "execution_count": 6,
   "metadata": {},
   "outputs": [],
   "source": [
    "# ====================================================\n",
    "# CFG\n",
    "# ====================================================\n",
    "class CFG:\n",
    "    debug = False\n",
    "    apex = True\n",
    "    print_freq = 100\n",
    "    num_workers = 4\n",
    "    model_name = \"vit_base_patch16_384\"  # resnext50_32x4d, seresnext50_32x4d, tf_efficientnet_b3_ns, vit_base_patch16_384, deit_base_patch16_384\n",
    "    batch_size = 16\n",
    "    gradient_accumulation_steps = 2\n",
    "    size = 384 if \"it_base_\" in model_name else 512\n",
    "    n_fold = 5\n",
    "    trn_fold = [0, 1, 2, 3, 4]\n",
    "    criterion = \"BiTemperedLoss\"  # ['CrossEntropyLoss', 'BiTemperedLoss']\n",
    "    btl_t1 = 0.3  # Bi-Tempered Logistic Loss\n",
    "    btl_t2 = 1.0\n",
    "    label_smoothing = 0.2\n",
    "    scheduler = \"CosineAnnealingWarmRestarts\"  # ['ReduceLROnPlateau', 'CosineAnnealingLR', 'CosineAnnealingWarmRestarts', 'CosineAnnealingWarmupRestarts']\n",
    "    scheduler_batch_update = True\n",
    "    epochs = 10\n",
    "    # factor = 0.2  # ReduceLROnPlateau\n",
    "    # patience = 4  # ReduceLROnPlateau\n",
    "    # eps = 1e-6  # ReduceLROnPlateau\n",
    "    # T_max = 10  # CosineAnnealingLR\n",
    "    T_0 = (\n",
    "        len(train) // n_fold * (n_fold - 1) // batch_size // gradient_accumulation_steps * epochs + 5\n",
    "    )  # CosineAnnealingWarmRestarts\n",
    "    # first_cycle_steps = (\n",
    "    #     len(train) // n_fold * (n_fold - 1) // batch_size // gradient_accumulation_steps * epochs + 5\n",
    "    # )  # CosineAnnealingWarmupRestarts for batch update\n",
    "    # warmup_steps = first_cycle_steps // 10  # CosineAnnealingWarmupRestarts\n",
    "    # gamma = 0.8  # CosineAnnealingWarmupRestarts\n",
    "    lr = 1e-4\n",
    "    min_lr = 2e-6\n",
    "    weight_decay = 1e-6\n",
    "    max_grad_norm = 1000\n",
    "    seed = 4012\n",
    "    target_size = 5\n",
    "    target_col = \"label\"\n",
    "    train = True\n",
    "    inference = False\n",
    "\n",
    "\n",
    "if CFG.debug:\n",
    "    CFG.epochs = 1\n",
    "    train = train.sample(n=1000, random_state=CFG.seed).reset_index(drop=True)"
   ]
  },
  {
   "cell_type": "markdown",
   "metadata": {},
   "source": [
    "# Library"
   ]
  },
  {
   "cell_type": "code",
   "execution_count": 7,
   "metadata": {},
   "outputs": [],
   "source": [
    "# ====================================================\n",
    "# Library\n",
    "# ====================================================\n",
    "import sys\n",
    "\n",
    "sys.path.append(\"../input/pytorch-image-models/pytorch-image-models-master\")\n",
    "sys.path.append(\"../input/pytorchcosineannealingwithwarmup\")\n",
    "sys.path.append(\"../input/bitemperedlogloss/\")\n",
    "sys.path.append(\"../input/image-fmix/FMix-master\")\n",
    "\n",
    "import math\n",
    "import os\n",
    "import random\n",
    "import shutil\n",
    "import time\n",
    "import warnings\n",
    "from collections import Counter, defaultdict\n",
    "from contextlib import contextmanager\n",
    "from functools import partial\n",
    "from pathlib import Path\n",
    "\n",
    "import bi_tempered_loss_pytorch as btl\n",
    "import cv2\n",
    "import numpy as np\n",
    "import pandas as pd\n",
    "import scipy as sp\n",
    "import timm\n",
    "import torch\n",
    "import torch.nn as nn\n",
    "import torch.nn.functional as F\n",
    "import torchvision.models as models\n",
    "from albumentations import (\n",
    "    CenterCrop,\n",
    "    CoarseDropout,\n",
    "    Compose,\n",
    "    Cutout,\n",
    "    HorizontalFlip,\n",
    "    HueSaturationValue,\n",
    "    IAAAdditiveGaussianNoise,\n",
    "    ImageOnlyTransform,\n",
    "    Normalize,\n",
    "    OneOf,\n",
    "    RandomBrightness,\n",
    "    RandomBrightnessContrast,\n",
    "    RandomContrast,\n",
    "    RandomCrop,\n",
    "    RandomResizedCrop,\n",
    "    Resize,\n",
    "    Rotate,\n",
    "    ShiftScaleRotate,\n",
    "    Transpose,\n",
    "    VerticalFlip,\n",
    ")\n",
    "from albumentations.pytorch import ToTensorV2\n",
    "from cosine_annearing_with_warmup import CosineAnnealingWarmupRestarts\n",
    "from fmix import sample_mask\n",
    "from PIL import Image\n",
    "from sklearn import preprocessing\n",
    "from sklearn.metrics import accuracy_score\n",
    "from sklearn.model_selection import StratifiedKFold\n",
    "from torch.nn.parameter import Parameter\n",
    "from torch.optim import SGD, Adam\n",
    "from torch.optim.lr_scheduler import CosineAnnealingLR, CosineAnnealingWarmRestarts, ReduceLROnPlateau\n",
    "from torch.utils.data import DataLoader, Dataset\n",
    "from tqdm.auto import tqdm\n",
    "\n",
    "warnings.filterwarnings(\"ignore\")\n",
    "\n",
    "if CFG.apex:\n",
    "    from apex import amp\n",
    "\n",
    "device = torch.device(\"cuda\" if torch.cuda.is_available() else \"cpu\")"
   ]
  },
  {
   "cell_type": "markdown",
   "metadata": {},
   "source": [
    "# Utils"
   ]
  },
  {
   "cell_type": "code",
   "execution_count": 8,
   "metadata": {},
   "outputs": [],
   "source": [
    "# ====================================================\n",
    "# Utils\n",
    "# ====================================================\n",
    "def get_score(y_true, y_pred):\n",
    "    return accuracy_score(y_true, y_pred)\n",
    "\n",
    "\n",
    "@contextmanager\n",
    "def timer(name):\n",
    "    t0 = time.time()\n",
    "    LOGGER.info(f\"[{name}] start\")\n",
    "    yield\n",
    "    LOGGER.info(f\"[{name}] done in {time.time() - t0:.0f} s.\")\n",
    "\n",
    "\n",
    "def init_logger(log_file=OUTPUT_DIR + \"train.log\"):\n",
    "    from logging import INFO, FileHandler, Formatter, StreamHandler, getLogger\n",
    "\n",
    "    logger = getLogger(__name__)\n",
    "    logger.setLevel(INFO)\n",
    "    handler1 = StreamHandler()\n",
    "    handler1.setFormatter(Formatter(\"%(message)s\"))\n",
    "    handler2 = FileHandler(filename=log_file)\n",
    "    handler2.setFormatter(Formatter(\"%(message)s\"))\n",
    "    logger.addHandler(handler1)\n",
    "    logger.addHandler(handler2)\n",
    "    return logger\n",
    "\n",
    "\n",
    "LOGGER = init_logger()\n",
    "\n",
    "\n",
    "def seed_torch(seed=42):\n",
    "    random.seed(seed)\n",
    "    os.environ[\"PYTHONHASHSEED\"] = str(seed)\n",
    "    np.random.seed(seed)\n",
    "    torch.manual_seed(seed)\n",
    "    torch.cuda.manual_seed(seed)\n",
    "    torch.backends.cudnn.deterministic = True\n",
    "\n",
    "\n",
    "seed_torch(seed=CFG.seed)"
   ]
  },
  {
   "cell_type": "markdown",
   "metadata": {},
   "source": [
    "# CV split"
   ]
  },
  {
   "cell_type": "code",
   "execution_count": 9,
   "metadata": {},
   "outputs": [
    {
     "name": "stdout",
     "output_type": "stream",
     "text": [
      "fold  label\n",
      "0     0         299\n",
      "      1         695\n",
      "      2         604\n",
      "      3        3092\n",
      "      4         578\n",
      "1     0         299\n",
      "      1         695\n",
      "      2         604\n",
      "      3        3092\n",
      "      4         578\n",
      "2     0         298\n",
      "      1         695\n",
      "      2         603\n",
      "      3        3093\n",
      "      4         578\n",
      "3     0         298\n",
      "      1         695\n",
      "      2         603\n",
      "      3        3093\n",
      "      4         578\n",
      "4     0         298\n",
      "      1         696\n",
      "      2         603\n",
      "      3        3092\n",
      "      4         578\n",
      "dtype: int64\n"
     ]
    }
   ],
   "source": [
    "folds = train.copy()\n",
    "Fold = StratifiedKFold(n_splits=CFG.n_fold, shuffle=True, random_state=CFG.seed)\n",
    "for n, (train_index, val_index) in enumerate(Fold.split(folds, folds[CFG.target_col])):\n",
    "    folds.loc[val_index, \"fold\"] = int(n)\n",
    "folds[\"fold\"] = folds[\"fold\"].astype(int)\n",
    "print(folds.groupby([\"fold\", CFG.target_col]).size())"
   ]
  },
  {
   "cell_type": "markdown",
   "metadata": {},
   "source": [
    "# Dataset"
   ]
  },
  {
   "cell_type": "code",
   "execution_count": 10,
   "metadata": {},
   "outputs": [],
   "source": [
    "# ====================================================\n",
    "# Dataset\n",
    "# ====================================================\n",
    "class TrainDataset(Dataset):\n",
    "    def __init__(self, df, transform=None):\n",
    "        self.df = df\n",
    "        self.file_names = df[\"image_id\"].values\n",
    "        self.labels = df[\"label\"].values\n",
    "        self.transform = transform\n",
    "\n",
    "    def __len__(self):\n",
    "        return len(self.df)\n",
    "\n",
    "    def __getitem__(self, idx):\n",
    "        file_name = self.file_names[idx]\n",
    "        file_path = f\"{TRAIN_PATH}/{file_name}\"\n",
    "        image = cv2.imread(file_path)\n",
    "        image = cv2.cvtColor(image, cv2.COLOR_BGR2RGB)\n",
    "        if self.transform:\n",
    "            augmented = self.transform(image=image)\n",
    "            image = augmented[\"image\"]\n",
    "        label = torch.tensor(self.labels[idx]).long()\n",
    "        return image, label\n",
    "\n",
    "\n",
    "class TestDataset(Dataset):\n",
    "    def __init__(self, df, transform=None):\n",
    "        self.df = df\n",
    "        self.file_names = df[\"image_id\"].values\n",
    "        self.transform = transform\n",
    "\n",
    "    def __len__(self):\n",
    "        return len(self.df)\n",
    "\n",
    "    def __getitem__(self, idx):\n",
    "        file_name = self.file_names[idx]\n",
    "        file_path = f\"{TEST_PATH}/{file_name}\"\n",
    "        image = cv2.imread(file_path)\n",
    "        image = cv2.cvtColor(image, cv2.COLOR_BGR2RGB)\n",
    "        if self.transform:\n",
    "            augmented = self.transform(image=image)\n",
    "            image = augmented[\"image\"]\n",
    "        return image"
   ]
  },
  {
   "cell_type": "code",
   "execution_count": 11,
   "metadata": {},
   "outputs": [
    {
     "data": {
      "image/png": "[encoded data removed]",
      "text/plain": [
       "<Figure size 432x288 with 1 Axes>"
      ]
     },
     "metadata": {
      "needs_background": "light"
     },
     "output_type": "display_data"
    }
   ],
   "source": [
    "train_dataset = TrainDataset(train, transform=None)\n",
    "\n",
    "for i in range(1):\n",
    "    image, label = train_dataset[i]\n",
    "    plt.imshow(image)\n",
    "    plt.title(f\"label: {label}\")\n",
    "    plt.show()"
   ]
  },
  {
   "cell_type": "markdown",
   "metadata": {},
   "source": [
    "# Transforms"
   ]
  },
  {
   "cell_type": "code",
   "execution_count": 12,
   "metadata": {},
   "outputs": [],
   "source": [
    "# ====================================================\n",
    "# Transforms\n",
    "# ====================================================\n",
    "def get_transforms(*, data):\n",
    "\n",
    "    if data == \"train\":\n",
    "        return Compose(\n",
    "            [\n",
    "                # Resize(CFG.size, CFG.size),\n",
    "                RandomResizedCrop(CFG.size, CFG.size),\n",
    "                Transpose(p=0.5),\n",
    "                HorizontalFlip(p=0.5),\n",
    "                VerticalFlip(p=0.5),\n",
    "                ShiftScaleRotate(p=0.5),\n",
    "                HueSaturationValue(hue_shift_limit=0.2, sat_shift_limit=0.2, val_shift_limit=0.2, p=0.5),\n",
    "                RandomBrightnessContrast(brightness_limit=(-0.1, 0.1), contrast_limit=(-0.1, 0.1), p=0.5),\n",
    "                CoarseDropout(p=0.5),\n",
    "                Cutout(p=0.5),\n",
    "                Normalize(\n",
    "                    mean=[0.485, 0.456, 0.406],\n",
    "                    std=[0.229, 0.224, 0.225],\n",
    "                ),\n",
    "                ToTensorV2(),\n",
    "            ]\n",
    "        )\n",
    "\n",
    "    elif data == \"valid\":\n",
    "        return Compose(\n",
    "            [\n",
    "                Resize(CFG.size, CFG.size),\n",
    "                CenterCrop(CFG.size, CFG.size),\n",
    "                Normalize(\n",
    "                    mean=[0.485, 0.456, 0.406],\n",
    "                    std=[0.229, 0.224, 0.225],\n",
    "                ),\n",
    "                ToTensorV2(),\n",
    "            ]\n",
    "        )"
   ]
  },
  {
   "cell_type": "code",
   "execution_count": 13,
   "metadata": {},
   "outputs": [
    {
     "data": {
      "image/png": "[encoded data removed]",
      "text/plain": [
       "<Figure size 432x288 with 1 Axes>"
      ]
     },
     "metadata": {
      "needs_background": "light"
     },
     "output_type": "display_data"
    }
   ],
   "source": [
    "train_dataset = TrainDataset(train, transform=get_transforms(data=\"train\"))\n",
    "\n",
    "for i in range(1):\n",
    "    image, label = train_dataset[i]\n",
    "    plt.imshow(image[0])\n",
    "    plt.title(f\"label: {label}\")\n",
    "    plt.show()"
   ]
  },
  {
   "cell_type": "markdown",
   "metadata": {},
   "source": [
    "# CutMix / FMix\n"
   ]
  },
  {
   "cell_type": "code",
   "execution_count": 14,
   "metadata": {},
   "outputs": [],
   "source": [
    "def rand_bbox(size, lam):\n",
    "    W = size[2]\n",
    "    H = size[3]\n",
    "    cut_rat = np.sqrt(1.0 - lam)\n",
    "    cut_w = np.int(W * cut_rat)\n",
    "    cut_h = np.int(H * cut_rat)\n",
    "\n",
    "    # uniform\n",
    "    cx = np.random.randint(W)\n",
    "    cy = np.random.randint(H)\n",
    "\n",
    "    bbx1 = np.clip(cx - cut_w // 2, 0, W)\n",
    "    bby1 = np.clip(cy - cut_h // 2, 0, H)\n",
    "    bbx2 = np.clip(cx + cut_w // 2, 0, W)\n",
    "    bby2 = np.clip(cy + cut_h // 2, 0, H)\n",
    "    return bbx1, bby1, bbx2, bby2\n",
    "\n",
    "\n",
    "def cutmix(data, target, alpha):\n",
    "    indices = torch.randperm(data.size(0))\n",
    "    shuffled_data = data[indices]\n",
    "    shuffled_target = target[indices]\n",
    "\n",
    "    lam = np.clip(np.random.beta(alpha, alpha), 0.3, 0.4)\n",
    "    bbx1, bby1, bbx2, bby2 = rand_bbox(data.size(), lam)\n",
    "    new_data = data.clone()\n",
    "    new_data[:, :, bby1:bby2, bbx1:bbx2] = data[indices, :, bby1:bby2, bbx1:bbx2]\n",
    "    # adjust lambda to exactly match pixel ratio\n",
    "    lam = 1 - ((bbx2 - bbx1) * (bby2 - bby1) / (data.size()[-1] * data.size()[-2]))\n",
    "    targets = (target, shuffled_target, lam)\n",
    "\n",
    "    return new_data, targets\n",
    "\n",
    "\n",
    "def fmix(data, targets, alpha, decay_power, shape, max_soft=0.0, reformulate=False):\n",
    "    lam, mask = sample_mask(alpha, decay_power, shape, max_soft, reformulate)\n",
    "    if CFG.apex:\n",
    "        # mask = torch.tensor(mask, device=device).float()\n",
    "        mask = mask.astype(np.float32)\n",
    "    indices = torch.randperm(data.size(0))\n",
    "    shuffled_data = data[indices]\n",
    "    shuffled_targets = targets[indices]\n",
    "    x1 = torch.from_numpy(mask).to(device) * data\n",
    "    x2 = torch.from_numpy(1 - mask).to(device) * shuffled_data\n",
    "    targets = (targets, shuffled_targets, lam)\n",
    "\n",
    "    return (x1 + x2), targets"
   ]
  },
  {
   "cell_type": "markdown",
   "metadata": {},
   "source": [
    "# MixUp"
   ]
  },
  {
   "cell_type": "code",
   "execution_count": 15,
   "metadata": {},
   "outputs": [],
   "source": [
    "# https://github.com/yuhao318/mwh/blob/e9e2da8fc6/utils.py\n",
    "def mixup(x, y, alpha=1.0, use_cuda=True):\n",
    "\n",
    "    \"\"\"Compute the mixup data. Return mixed inputs, pairs of targets, and lambda\"\"\"\n",
    "    if alpha > 0.0:\n",
    "        lam = np.random.beta(alpha, alpha)\n",
    "        lam = max(lam, 1 - lam)\n",
    "        # lam = min(lam, 1-lam)\n",
    "    else:\n",
    "        lam = 1.0\n",
    "    batch_size = x.size()[0]\n",
    "    if use_cuda:\n",
    "        index = torch.randperm(batch_size).cuda()\n",
    "    else:\n",
    "        index = torch.randperm(batch_size)\n",
    "\n",
    "    ## SYM\n",
    "    # mixed_x = lam * x + (1 - lam) * x[index,:]\n",
    "    # mixed_y = (1 - lam) * x + lam * x[index,:]\n",
    "    # mixed_image  = torch.cat([mixed_x,mixed_y], 0)\n",
    "    # y_a, y_b = y, y[index]\n",
    "    # mixed_label  = torch.cat([y_a,y_b], 0)\n",
    "\n",
    "    ## Reduce batch size\n",
    "    # new_batch_size = batch_size // 2\n",
    "    # x_i = x[ : new_batch_size]\n",
    "    # x_j = x[new_batch_size : ]\n",
    "    # y_a = y[ : new_batch_size]\n",
    "    # y_b = y[new_batch_size : ]\n",
    "    # mixed_x = lam * x_i + (1 - lam) * x_j\n",
    "\n",
    "    ## NO SYM\n",
    "    mixed_x = lam * x + (1 - lam) * x[index, :]\n",
    "    y_a, y_b = y, y[index]\n",
    "\n",
    "    ## Only Alpha\n",
    "    # mixed_x = 0.5 * x + (1 - 0.5) * x[index,:]\n",
    "    # mixed_image  = mixed_x\n",
    "    # y_a, y_b = y, y[index]\n",
    "    # ind_label = torch.randint_like(y, 0,2)\n",
    "    # mixed_label  = ind_label * y_a + (1-ind_label) * y_b\n",
    "\n",
    "    ## Reduce batch size and SYM\n",
    "    # new_batch_size = batch_size // 2\n",
    "    # x_i = x[ : new_batch_size]\n",
    "    # x_j = x[new_batch_size : ]\n",
    "    # y_a = y[ : new_batch_size]\n",
    "    # y_b = y[new_batch_size : ]\n",
    "    # mixed_x = lam * x_i + (1 - lam) * x_j\n",
    "    # mixed_y = (1 - lam) * x_i + lam * x_j\n",
    "    # mixed_x  = torch.cat([mixed_x,mixed_y], 0)\n",
    "    # y_b = torch.cat([y_b,y_a], 0)\n",
    "    # y_a = y\n",
    "\n",
    "    # return mixed_image, mixed_label, lam\n",
    "    return mixed_x, (y_a, y_b, lam)"
   ]
  },
  {
   "cell_type": "markdown",
   "metadata": {},
   "source": [
    "# MODEL"
   ]
  },
  {
   "cell_type": "code",
   "execution_count": 16,
   "metadata": {},
   "outputs": [],
   "source": [
    "# ====================================================\n",
    "# MODEL\n",
    "# ====================================================\n",
    "class CassvaImgClassifier(nn.Module):\n",
    "    def __init__(self, model_name=\"resnext50_32x4d\", pretrained=False):\n",
    "        super().__init__()\n",
    "        self.model_name = model_name\n",
    "\n",
    "        if model_name.startswith(\"deit_\"):\n",
    "            self.model = torch.hub.load(\"facebookresearch/deit:main\", model_name, pretrained=True)\n",
    "\n",
    "            if model_name == \"deit_base_patch16_384\":\n",
    "                n_features = self.model.head.in_features\n",
    "                self.model.head = nn.Linear(n_features, CFG.target_size)\n",
    "\n",
    "        else:\n",
    "            self.model = timm.create_model(model_name, pretrained=pretrained)\n",
    "\n",
    "            if \"resnext50_32x4d\" in model_name:\n",
    "                n_features = self.model.fc.in_features\n",
    "                self.model.fc = nn.Linear(n_features, CFG.target_size)\n",
    "\n",
    "            elif model_name.startswith(\"tf_efficientnet\"):\n",
    "                n_features = self.model.classifier.in_features\n",
    "                self.model.classifier = nn.Linear(n_features, CFG.target_size)\n",
    "\n",
    "            elif model_name.startswith(\"vit_\"):\n",
    "                n_features = self.model.head.in_features\n",
    "                self.model.head = nn.Linear(n_features, CFG.target_size)\n",
    "\n",
    "    def forward(self, x):\n",
    "        x = self.model(x)\n",
    "        return x"
   ]
  },
  {
   "cell_type": "code",
   "execution_count": 17,
   "metadata": {},
   "outputs": [],
   "source": [
    "def freeze_batch_normalization(model):\n",
    "    if CFG.model_name.startswith(\"tf_efficientnet_\"):\n",
    "        for name1, child1 in model.named_children():\n",
    "            for name2, child2 in child1.named_children():\n",
    "                # print(f\"===== {name2} =====\")\n",
    "                if name2.startswith(\"bn\"):\n",
    "                    for param in child2.parameters():\n",
    "                        param.requires_grad = False\n",
    "                        # print(param.requires_grad)\n",
    "\n",
    "                for child3 in child2.children():\n",
    "                    if isinstance(child3, nn.modules.container.Sequential):\n",
    "                        for child4 in child3.children():\n",
    "                            for child5 in child4.children():\n",
    "                                if isinstance(child5, nn.BatchNorm2d):\n",
    "                                    # print(child5)\n",
    "                                    for param in child5.parameters():\n",
    "                                        param.requires_grad = False\n",
    "                                        # print(param.requires_grad)\n",
    "\n",
    "    if CFG.model_name.startswith(\"vit_\"):\n",
    "        try:\n",
    "            for m in model.modules():\n",
    "                if isinstance(m, nn.BatchNorm2d) or isinstance(m, nn.LayerNorm):\n",
    "                    m.eval()\n",
    "        except ValuError:\n",
    "            print(\"error with batchnorm2d or layernorm\")\n",
    "            return"
   ]
  },
  {
   "cell_type": "code",
   "execution_count": 18,
   "metadata": {},
   "outputs": [
    {
     "name": "stdout",
     "output_type": "stream",
     "text": [
      "tensor([[-0.0045, -0.7661, -0.0946, -0.1649, -0.0217],\n",
      "        [-0.0315, -0.5681, -0.2877, -0.5274, -0.9344],\n",
      "        [-0.7614, -0.4533, -0.2327, -0.3871, -0.4727],\n",
      "        [-0.4639, -0.4113, -0.1818, -0.3499, -0.5625]],\n",
      "       grad_fn=<AddmmBackward>)\n"
     ]
    }
   ],
   "source": [
    "model = CassvaImgClassifier(model_name=CFG.model_name, pretrained=False)\n",
    "freeze_batch_normalization(model)\n",
    "# print(model)\n",
    "\n",
    "train_dataset = TrainDataset(train, transform=get_transforms(data=\"train\"))\n",
    "train_loader = DataLoader(train_dataset, batch_size=4, shuffle=True, num_workers=4, pin_memory=True, drop_last=True)\n",
    "\n",
    "for image, label in train_loader:\n",
    "    output = model(image)\n",
    "    print(output)\n",
    "    break"
   ]
  },
  {
   "cell_type": "markdown",
   "metadata": {},
   "source": [
    "# Loss functions"
   ]
  },
  {
   "cell_type": "code",
   "execution_count": 19,
   "metadata": {},
   "outputs": [],
   "source": [
    "class BiTemperedLogisticLoss(nn.Module):\n",
    "    def __init__(self, t1, t2, smoothing=0.0):\n",
    "        super(BiTemperedLogisticLoss, self).__init__()\n",
    "        self.t1 = t1\n",
    "        self.t2 = t2\n",
    "        self.smoothing = smoothing\n",
    "\n",
    "    def forward(self, logit_label, truth_label):\n",
    "        loss_label = btl.bi_tempered_logistic_loss(\n",
    "            logit_label, truth_label, t1=self.t1, t2=self.t2, label_smoothing=self.smoothing, reduction=\"none\"\n",
    "        )\n",
    "\n",
    "        loss_label = loss_label.mean()\n",
    "        return loss_label"
   ]
  },
  {
   "cell_type": "markdown",
   "metadata": {},
   "source": [
    "# Helper functions"
   ]
  },
  {
   "cell_type": "code",
   "execution_count": 20,
   "metadata": {},
   "outputs": [],
   "source": [
    "# ====================================================\n",
    "# Helper functions\n",
    "# ====================================================\n",
    "class AverageMeter(object):\n",
    "    \"\"\"Computes and stores the average and current value\"\"\"\n",
    "\n",
    "    def __init__(self):\n",
    "        self.reset()\n",
    "\n",
    "    def reset(self):\n",
    "        self.val = 0\n",
    "        self.avg = 0\n",
    "        self.sum = 0\n",
    "        self.count = 0\n",
    "\n",
    "    def update(self, val, n=1):\n",
    "        self.val = val\n",
    "        self.sum += val * n\n",
    "        self.count += n\n",
    "        self.avg = self.sum / self.count\n",
    "\n",
    "\n",
    "def asMinutes(s):\n",
    "    m = math.floor(s / 60)\n",
    "    s -= m * 60\n",
    "    return \"%dm %ds\" % (m, s)\n",
    "\n",
    "\n",
    "def timeSince(since, percent):\n",
    "    now = time.time()\n",
    "    s = now - since\n",
    "    es = s / (percent)\n",
    "    rs = es - s\n",
    "    return \"%s (remain %s)\" % (asMinutes(s), asMinutes(rs))\n",
    "\n",
    "\n",
    "def train_fn(train_loader, model, criterion, optimizer, epoch, scheduler, device, scheduler_batch_update=True):\n",
    "    batch_time = AverageMeter()\n",
    "    data_time = AverageMeter()\n",
    "    losses = AverageMeter()\n",
    "    scores = AverageMeter()\n",
    "    # switch to train mode\n",
    "    model.train()\n",
    "    start = end = time.time()\n",
    "    global_step = 0\n",
    "    for step, (images, labels) in enumerate(train_loader):\n",
    "        # measure data loading time\n",
    "        data_time.update(time.time() - end)\n",
    "        images = images.to(device)\n",
    "        labels = labels.to(device)\n",
    "        batch_size = labels.size(0)\n",
    "\n",
    "        # CutMix, FMix\n",
    "        if epoch <= 1 or epoch >= CFG.epochs - 1:\n",
    "            mix_decision = 0.75  # Disable CutMix, FMix for final epoch\n",
    "        else:\n",
    "            mix_decision = np.random.rand()\n",
    "\n",
    "        if epoch >= CFG.epochs - 4:\n",
    "            mix_decision *= 2  # Reduce probability\n",
    "\n",
    "        if mix_decision < 0.25:\n",
    "            images, labels = cutmix(images, labels, 1.0)\n",
    "        elif mix_decision >= 0.25 and mix_decision < 0.5:\n",
    "            images, labels = fmix(images, labels, alpha=1.0, decay_power=5.0, shape=(CFG.size, CFG.size))\n",
    "        elif mix_decision >= 0.5 and mix_decision < 0.75:\n",
    "            images, labels = mixup(images, labels, alpha=0.5)\n",
    "\n",
    "        y_preds = model(images.float())\n",
    "\n",
    "        if mix_decision < 0.75:\n",
    "            loss = criterion(y_preds, labels[0]) * labels[2] + criterion(y_preds, labels[1]) * (1.0 - labels[2])\n",
    "        else:\n",
    "            loss = criterion(y_preds, labels)\n",
    "\n",
    "        # record loss\n",
    "        losses.update(loss.item(), batch_size)\n",
    "        if CFG.gradient_accumulation_steps > 1:\n",
    "            loss = loss / CFG.gradient_accumulation_steps\n",
    "        if CFG.apex:\n",
    "            with amp.scale_loss(loss, optimizer) as scaled_loss:\n",
    "                scaled_loss.backward()\n",
    "        else:\n",
    "            loss.backward()\n",
    "        grad_norm = torch.nn.utils.clip_grad_norm_(model.parameters(), CFG.max_grad_norm)\n",
    "        if (step + 1) % CFG.gradient_accumulation_steps == 0:\n",
    "            optimizer.step()\n",
    "            optimizer.zero_grad()\n",
    "\n",
    "            if CFG.scheduler_batch_update:\n",
    "                scheduler.step()\n",
    "\n",
    "            global_step += 1\n",
    "        # measure elapsed time\n",
    "        batch_time.update(time.time() - end)\n",
    "        end = time.time()\n",
    "        if step % CFG.print_freq == 0 or step == (len(train_loader) - 1):\n",
    "            print(\n",
    "                \"Epoch: [{0}][{1}/{2}] \"\n",
    "                # \"Data {data_time.val:.3f} ({data_time.avg:.3f}) \"\n",
    "                # \"Batch {batch_time.val:.3f} ({batch_time.avg:.3f}) \"\n",
    "                \"Elapsed {remain:s} \"\n",
    "                \"Loss: {loss.val:.4f}({loss.avg:.4f}) \"\n",
    "                \"Grad: {grad_norm:.4f} \"\n",
    "                \"LR: {lr:.6f}  \".format(\n",
    "                    epoch + 1,\n",
    "                    step,\n",
    "                    len(train_loader),\n",
    "                    # batch_time=batch_time,\n",
    "                    # data_time=data_time,\n",
    "                    loss=losses,\n",
    "                    remain=timeSince(start, float(step + 1) / len(train_loader)),\n",
    "                    grad_norm=grad_norm,\n",
    "                    lr=scheduler.get_lr()[0],\n",
    "                )\n",
    "            )\n",
    "    return losses.avg\n",
    "\n",
    "\n",
    "def valid_fn(valid_loader, model, criterion, device):\n",
    "    batch_time = AverageMeter()\n",
    "    data_time = AverageMeter()\n",
    "    losses = AverageMeter()\n",
    "    scores = AverageMeter()\n",
    "    # switch to evaluation mode\n",
    "    model.eval()\n",
    "    preds = []\n",
    "    start = end = time.time()\n",
    "    for step, (images, labels) in enumerate(valid_loader):\n",
    "        # measure data loading time\n",
    "        data_time.update(time.time() - end)\n",
    "        images = images.to(device)\n",
    "        labels = labels.to(device)\n",
    "        batch_size = labels.size(0)\n",
    "        # compute loss\n",
    "        with torch.no_grad():\n",
    "            y_preds = model(images)\n",
    "        loss = criterion(y_preds, labels)\n",
    "        losses.update(loss.item(), batch_size)\n",
    "        # record accuracy\n",
    "        preds.append(y_preds.softmax(1).to(\"cpu\").numpy())\n",
    "        if CFG.gradient_accumulation_steps > 1:\n",
    "            loss = loss / CFG.gradient_accumulation_steps\n",
    "        # measure elapsed time\n",
    "        batch_time.update(time.time() - end)\n",
    "        end = time.time()\n",
    "        if step % CFG.print_freq == 0 or step == (len(valid_loader) - 1):\n",
    "            print(\n",
    "                \"EVAL: [{0}/{1}] \"\n",
    "                # \"Data {data_time.val:.3f} ({data_time.avg:.3f}) \"\n",
    "                # \"Batch {batch_time.val:.3f} ({batch_time.avg:.3f}) \"\n",
    "                \"Elapsed {remain:s} \"\n",
    "                \"Loss: {loss.val:.4f}({loss.avg:.4f}) \".format(\n",
    "                    step,\n",
    "                    len(valid_loader),\n",
    "                    # batch_time=batch_time,\n",
    "                    # data_time=data_time,\n",
    "                    loss=losses,\n",
    "                    remain=timeSince(start, float(step + 1) / len(valid_loader)),\n",
    "                )\n",
    "            )\n",
    "    predictions = np.concatenate(preds)\n",
    "    return losses.avg, predictions\n",
    "\n",
    "\n",
    "def inference(model, states, test_loader, device):\n",
    "    model.to(device)\n",
    "    tk0 = tqdm(enumerate(test_loader), total=len(test_loader))\n",
    "    probs = []\n",
    "    for i, (images) in tk0:\n",
    "        images = images.to(device)\n",
    "        avg_preds = []\n",
    "        for state in states:\n",
    "            model.load_state_dict(state[\"model\"])\n",
    "            model.eval()\n",
    "            with torch.no_grad():\n",
    "                y_preds = model(images)\n",
    "            avg_preds.append(y_preds.softmax(1).to(\"cpu\").numpy())\n",
    "        avg_preds = np.mean(avg_preds, axis=0)\n",
    "        probs.append(avg_preds)\n",
    "    probs = np.concatenate(probs)\n",
    "    return probs"
   ]
  },
  {
   "cell_type": "markdown",
   "metadata": {},
   "source": [
    "# Train loop"
   ]
  },
  {
   "cell_type": "code",
   "execution_count": 21,
   "metadata": {
    "_cell_guid": "b1076dfc-b9ad-4769-8c92-a6c4dae69d19",
    "_uuid": "8f2839f25d086af736a60e9eeb907d3b93b6e0e5"
   },
   "outputs": [],
   "source": [
    "# ====================================================\n",
    "# Train loop\n",
    "# ====================================================\n",
    "def train_loop(folds, fold):\n",
    "\n",
    "    LOGGER.info(f\"========== fold: {fold} training ==========\")\n",
    "\n",
    "    # ====================================================\n",
    "    # loader\n",
    "    # ====================================================\n",
    "    trn_idx = folds[folds[\"fold\"] != fold].index\n",
    "    val_idx = folds[folds[\"fold\"] == fold].index\n",
    "\n",
    "    train_folds = folds.loc[trn_idx].reset_index(drop=True)\n",
    "    valid_folds = folds.loc[val_idx].reset_index(drop=True)\n",
    "\n",
    "    train_dataset = TrainDataset(train_folds, transform=get_transforms(data=\"train\"))\n",
    "    train_dataset_no_aug = TrainDataset(train_folds, transform=get_transforms(data=\"valid\"))\n",
    "    valid_dataset = TrainDataset(valid_folds, transform=get_transforms(data=\"valid\"))\n",
    "\n",
    "    train_loader = DataLoader(\n",
    "        train_dataset,\n",
    "        batch_size=CFG.batch_size,\n",
    "        shuffle=True,\n",
    "        num_workers=CFG.num_workers,\n",
    "        pin_memory=True,\n",
    "        drop_last=True,\n",
    "    )\n",
    "    train_loader_no_aug = DataLoader(\n",
    "        train_dataset_no_aug,\n",
    "        batch_size=CFG.batch_size,\n",
    "        shuffle=True,\n",
    "        num_workers=CFG.num_workers,\n",
    "        pin_memory=True,\n",
    "        drop_last=True,\n",
    "    )\n",
    "    valid_loader = DataLoader(\n",
    "        valid_dataset,\n",
    "        batch_size=CFG.batch_size,\n",
    "        shuffle=False,\n",
    "        num_workers=CFG.num_workers,\n",
    "        pin_memory=True,\n",
    "        drop_last=False,\n",
    "    )\n",
    "\n",
    "    # ====================================================\n",
    "    # scheduler\n",
    "    # ====================================================\n",
    "    def get_scheduler(optimizer):\n",
    "        if CFG.scheduler == \"ReduceLROnPlateau\":\n",
    "            scheduler = ReduceLROnPlateau(\n",
    "                optimizer, mode=\"min\", factor=CFG.factor, patience=CFG.patience, verbose=True, eps=CFG.eps\n",
    "            )\n",
    "        elif CFG.scheduler == \"CosineAnnealingLR\":\n",
    "            scheduler = CosineAnnealingLR(optimizer, T_max=CFG.T_max, eta_min=CFG.min_lr, last_epoch=-1)\n",
    "        elif CFG.scheduler == \"CosineAnnealingWarmRestarts\":\n",
    "            scheduler = CosineAnnealingWarmRestarts(optimizer, T_0=CFG.T_0, T_mult=1, eta_min=CFG.min_lr, last_epoch=-1)\n",
    "        elif CFG.scheduler == \"CosineAnnealingWarmupRestarts\":\n",
    "            scheduler = CosineAnnealingWarmupRestarts(\n",
    "                optimizer,\n",
    "                first_cycle_steps=CFG.first_cycle_steps,\n",
    "                cycle_mult=1.0,\n",
    "                max_lr=CFG.lr,\n",
    "                min_lr=CFG.min_lr,\n",
    "                warmup_steps=CFG.warmup_steps,\n",
    "                gamma=CFG.gamma,\n",
    "            )\n",
    "        return scheduler\n",
    "\n",
    "    # ====================================================\n",
    "    # model & optimizer\n",
    "    # ====================================================\n",
    "    model = CassvaImgClassifier(CFG.model_name, pretrained=True)\n",
    "    freeze_batch_normalization(model)\n",
    "\n",
    "    model.to(device)\n",
    "\n",
    "    # Use multi GPU\n",
    "    if device == torch.device(\"cuda\") and not CFG.apex:\n",
    "        model = torch.nn.DataParallel(model)  # make parallel\n",
    "        # torch.backends.cudnn.benchmark=True\n",
    "\n",
    "    optimizer = Adam(model.parameters(), lr=CFG.lr, weight_decay=CFG.weight_decay, amsgrad=False)\n",
    "    scheduler = get_scheduler(optimizer)\n",
    "\n",
    "    # ====================================================\n",
    "    # apex\n",
    "    # ====================================================\n",
    "    if CFG.apex:\n",
    "        model, optimizer = amp.initialize(model, optimizer, opt_level=\"O1\", verbosity=0)\n",
    "\n",
    "    # ====================================================\n",
    "    # Criterion\n",
    "    # ====================================================\n",
    "    def get_criterion():\n",
    "        if CFG.criterion == \"CrossEntropyLoss\":\n",
    "            criterion = nn.CrossEntropyLoss()\n",
    "        elif CFG.criterion == \"BiTemperedLoss\":\n",
    "            criterion = BiTemperedLogisticLoss(t1=CFG.btl_t1, t2=CFG.btl_t2, smoothing=CFG.label_smoothing)\n",
    "        return criterion\n",
    "\n",
    "    criterion = get_criterion()\n",
    "\n",
    "    # ====================================================\n",
    "    # loop\n",
    "    # ====================================================\n",
    "    best_score = 0.0\n",
    "    best_loss = np.inf\n",
    "\n",
    "    for epoch in range(CFG.epochs):\n",
    "\n",
    "        start_time = time.time()\n",
    "\n",
    "        # train\n",
    "        if epoch <= 1 or epoch >= CFG.epochs - 1:\n",
    "            avg_loss = train_fn(\n",
    "                train_loader_no_aug, model, criterion, optimizer, epoch, scheduler, device, CFG.scheduler_batch_update\n",
    "            )\n",
    "        else:\n",
    "            avg_loss = train_fn(\n",
    "                train_loader, model, criterion, optimizer, epoch, scheduler, device, CFG.scheduler_batch_update\n",
    "            )\n",
    "\n",
    "        # eval\n",
    "        avg_val_loss, preds = valid_fn(valid_loader, model, criterion, device)\n",
    "        valid_labels = valid_folds[CFG.target_col].values\n",
    "\n",
    "        if not CFG.scheduler_batch_update:\n",
    "            if isinstance(scheduler, ReduceLROnPlateau):\n",
    "                scheduler.step(avg_val_loss)\n",
    "            elif isinstance(scheduler, CosineAnnealingLR):\n",
    "                scheduler.step()\n",
    "            elif isinstance(scheduler, CosineAnnealingWarmRestarts):\n",
    "                scheduler.step()\n",
    "\n",
    "        # scoring\n",
    "        score = get_score(valid_labels, preds.argmax(1))\n",
    "\n",
    "        elapsed = time.time() - start_time\n",
    "\n",
    "        LOGGER.info(\n",
    "            f\"Epoch {epoch+1} - avg_train_loss: {avg_loss:.4f}  avg_val_loss: {avg_val_loss:.4f}  time: {elapsed:.0f}s\"\n",
    "        )\n",
    "        LOGGER.info(f\"Epoch {epoch+1} - Accuracy: {score}\")\n",
    "\n",
    "        if score > best_score:\n",
    "            best_score = score\n",
    "            LOGGER.info(f\"Epoch {epoch+1} - Save Best Score: {best_score:.4f} Model\")\n",
    "            torch.save(\n",
    "                {\"model\": model.state_dict(), \"preds\": preds}, OUTPUT_DIR + f\"{CFG.model_name}_fold{fold}_best.pth\"\n",
    "            )\n",
    "\n",
    "        if epoch == CFG.epochs - 1:\n",
    "            LOGGER.info(f\"Epoch {epoch+1} - Save final model\")\n",
    "            torch.save(\n",
    "                {\"model\": model.state_dict(), \"preds\": preds}, OUTPUT_DIR + f\"{CFG.model_name}_fold{fold}_final.pth\"\n",
    "            )\n",
    "\n",
    "    check_point = torch.load(OUTPUT_DIR + f\"{CFG.model_name}_fold{fold}_best.pth\")\n",
    "    valid_folds[[str(c) for c in range(5)]] = check_point[\"preds\"]\n",
    "    valid_folds[\"preds\"] = check_point[\"preds\"].argmax(1)\n",
    "\n",
    "    return valid_folds"
   ]
  },
  {
   "cell_type": "code",
   "execution_count": 22,
   "metadata": {},
   "outputs": [],
   "source": [
    "# ====================================================\n",
    "# main\n",
    "# ====================================================\n",
    "def main():\n",
    "\n",
    "    \"\"\"\n",
    "    Prepare: 1.train  2.test  3.submission  4.folds\n",
    "    \"\"\"\n",
    "\n",
    "    def get_result(result_df):\n",
    "        preds = result_df[\"preds\"].values\n",
    "        labels = result_df[CFG.target_col].values\n",
    "        score = get_score(labels, preds)\n",
    "        LOGGER.info(f\"Score: {score:<.5f}\")\n",
    "\n",
    "    if CFG.train:\n",
    "        # train\n",
    "        oof_df = pd.DataFrame()\n",
    "        for fold in range(CFG.n_fold):\n",
    "            if fold in CFG.trn_fold:\n",
    "                _oof_df = train_loop(folds, fold)\n",
    "                oof_df = pd.concat([oof_df, _oof_df])\n",
    "                LOGGER.info(f\"========== fold: {fold} result ==========\")\n",
    "                get_result(_oof_df)\n",
    "        # CV result\n",
    "        LOGGER.info(f\"========== CV ==========\")\n",
    "        get_result(oof_df)\n",
    "        # save result\n",
    "        oof_df.to_csv(OUTPUT_DIR + \"oof_df.csv\", index=False)\n",
    "\n",
    "    if CFG.inference:\n",
    "        # inference\n",
    "        model = CassvaImgClassifier(CFG.model_name, pretrained=False)\n",
    "        states = [torch.load(OUTPUT_DIR + f\"{CFG.model_name}_fold{fold}_best.pth\") for fold in CFG.trn_fold]\n",
    "        test_dataset = TestDataset(test, transform=get_transforms(data=\"valid\"))\n",
    "        test_loader = DataLoader(\n",
    "            test_dataset, batch_size=CFG.batch_size, shuffle=False, num_workers=CFG.num_workers, pin_memory=True\n",
    "        )\n",
    "        predictions = inference(model, states, test_loader, device)\n",
    "        # submission\n",
    "        test[\"label\"] = predictions.argmax(1)\n",
    "        test[[\"image_id\", \"label\"]].to_csv(OUTPUT_DIR + \"submission.csv\", index=False)"
   ]
  },
  {
   "cell_type": "code",
   "execution_count": 23,
   "metadata": {
    "_cell_guid": "79c7e3d0-c299-4dcb-8224-4455121ee9b0",
    "_uuid": "d629ff2d2480ee46fbb7e2d37f6b5fab8052498a"
   },
   "outputs": [
    {
     "name": "stderr",
     "output_type": "stream",
     "text": [
      "========== fold: 0 training ==========\n"
     ]
    },
    {
     "name": "stdout",
     "output_type": "stream",
     "text": [
      "Epoch: [1][0/1316] Elapsed 0m 1s (remain 33m 14s) Loss: 0.5794(0.5794) Grad: 1.5508 LR: 0.000100  \n",
      "Epoch: [1][100/1316] Elapsed 0m 29s (remain 5m 52s) Loss: 0.0620(0.1618) Grad: 0.6770 LR: 0.000100  \n",
      "Epoch: [1][200/1316] Elapsed 0m 56s (remain 5m 16s) Loss: 0.1746(0.1321) Grad: 0.6205 LR: 0.000100  \n",
      "Epoch: [1][300/1316] Elapsed 1m 24s (remain 4m 46s) Loss: 0.0775(0.1234) Grad: 0.3096 LR: 0.000100  \n",
      "Epoch: [1][400/1316] Elapsed 1m 52s (remain 4m 17s) Loss: 0.0577(0.1178) Grad: 0.7273 LR: 0.000100  \n",
      "Epoch: [1][500/1316] Elapsed 2m 20s (remain 3m 48s) Loss: 0.1269(0.1127) Grad: 0.4751 LR: 0.000100  \n",
      "Epoch: [1][600/1316] Elapsed 2m 48s (remain 3m 20s) Loss: 0.0861(0.1091) Grad: 0.5093 LR: 0.000099  \n",
      "Epoch: [1][700/1316] Elapsed 3m 16s (remain 2m 52s) Loss: 0.0807(0.1056) Grad: 0.6507 LR: 0.000099  \n",
      "Epoch: [1][800/1316] Elapsed 3m 43s (remain 2m 23s) Loss: 0.0916(0.1033) Grad: 0.4107 LR: 0.000099  \n",
      "Epoch: [1][900/1316] Elapsed 4m 11s (remain 1m 55s) Loss: 0.0680(0.1001) Grad: 0.3385 LR: 0.000099  \n",
      "Epoch: [1][1000/1316] Elapsed 4m 39s (remain 1m 27s) Loss: 0.0480(0.0983) Grad: 0.5507 LR: 0.000099  \n",
      "Epoch: [1][1100/1316] Elapsed 5m 7s (remain 1m 0s) Loss: 0.0940(0.0968) Grad: 0.6482 LR: 0.000098  \n",
      "Epoch: [1][1200/1316] Elapsed 5m 35s (remain 0m 32s) Loss: 0.2296(0.0955) Grad: 0.6231 LR: 0.000098  \n",
      "Epoch: [1][1300/1316] Elapsed 6m 3s (remain 0m 4s) Loss: 0.1272(0.0944) Grad: 0.4961 LR: 0.000098  \n",
      "Epoch: [1][1315/1316] Elapsed 6m 7s (remain 0m 0s) Loss: 0.1169(0.0942) Grad: 0.4749 LR: 0.000098  \n",
      "EVAL: [0/330] Elapsed 0m 0s (remain 4m 6s) Loss: 0.0405(0.0405) \n",
      "EVAL: [100/330] Elapsed 0m 10s (remain 0m 22s) Loss: 0.0450(0.0812) \n",
      "EVAL: [200/330] Elapsed 0m 19s (remain 0m 12s) Loss: 0.0472(0.0759) \n",
      "EVAL: [300/330] Elapsed 0m 28s (remain 0m 2s) Loss: 0.0809(0.0746) \n"
     ]
    },
    {
     "name": "stderr",
     "output_type": "stream",
     "text": [
      "Epoch 1 - avg_train_loss: 0.0942  avg_val_loss: 0.0750  time: 399s\n",
      "Epoch 1 - Accuracy: 0.8747152619589977\n",
      "Epoch 1 - Save Best Score: 0.8747 Model\n"
     ]
    },
    {
     "name": "stdout",
     "output_type": "stream",
     "text": [
      "EVAL: [329/330] Elapsed 0m 31s (remain 0m 0s) Loss: 0.0119(0.0750) \n",
      "Epoch: [2][0/1316] Elapsed 0m 0s (remain 21m 36s) Loss: 0.0518(0.0518) Grad: 0.2093 LR: 0.000098  \n",
      "Epoch: [2][100/1316] Elapsed 0m 28s (remain 5m 46s) Loss: 0.0607(0.0613) Grad: 0.6515 LR: 0.000097  \n",
      "Epoch: [2][200/1316] Elapsed 0m 56s (remain 5m 14s) Loss: 0.1083(0.0578) Grad: 0.4569 LR: 0.000097  \n",
      "Epoch: [2][300/1316] Elapsed 1m 24s (remain 4m 44s) Loss: 0.0052(0.0610) Grad: 0.1117 LR: 0.000096  \n",
      "Epoch: [2][400/1316] Elapsed 1m 52s (remain 4m 16s) Loss: 0.0982(0.0612) Grad: 0.3762 LR: 0.000096  \n",
      "Epoch: [2][500/1316] Elapsed 2m 20s (remain 3m 48s) Loss: 0.0025(0.0612) Grad: 0.0627 LR: 0.000095  \n",
      "Epoch: [2][600/1316] Elapsed 2m 48s (remain 3m 20s) Loss: 0.0654(0.0619) Grad: 0.3446 LR: 0.000095  \n",
      "Epoch: [2][700/1316] Elapsed 3m 16s (remain 2m 51s) Loss: 0.0478(0.0616) Grad: 0.3664 LR: 0.000094  \n",
      "Epoch: [2][800/1316] Elapsed 3m 44s (remain 2m 24s) Loss: 0.0261(0.0619) Grad: 0.3881 LR: 0.000094  \n",
      "Epoch: [2][900/1316] Elapsed 4m 12s (remain 1m 56s) Loss: 0.0022(0.0615) Grad: 0.0438 LR: 0.000093  \n",
      "Epoch: [2][1000/1316] Elapsed 4m 40s (remain 1m 28s) Loss: 0.0361(0.0610) Grad: 0.3850 LR: 0.000093  \n",
      "Epoch: [2][1100/1316] Elapsed 5m 8s (remain 1m 0s) Loss: 0.0615(0.0617) Grad: 0.4590 LR: 0.000092  \n",
      "Epoch: [2][1200/1316] Elapsed 5m 36s (remain 0m 32s) Loss: 0.1092(0.0621) Grad: 0.5148 LR: 0.000091  \n",
      "Epoch: [2][1300/1316] Elapsed 6m 4s (remain 0m 4s) Loss: 0.0020(0.0630) Grad: 0.0387 LR: 0.000091  \n",
      "Epoch: [2][1315/1316] Elapsed 6m 8s (remain 0m 0s) Loss: 0.0842(0.0631) Grad: 0.7475 LR: 0.000091  \n",
      "EVAL: [0/330] Elapsed 0m 0s (remain 4m 3s) Loss: 0.0464(0.0464) \n",
      "EVAL: [100/330] Elapsed 0m 10s (remain 0m 23s) Loss: 0.0354(0.0803) \n",
      "EVAL: [200/330] Elapsed 0m 19s (remain 0m 12s) Loss: 0.0454(0.0757) \n",
      "EVAL: [300/330] Elapsed 0m 29s (remain 0m 2s) Loss: 0.0728(0.0757) \n"
     ]
    },
    {
     "name": "stderr",
     "output_type": "stream",
     "text": [
      "Epoch 2 - avg_train_loss: 0.0631  avg_val_loss: 0.0759  time: 401s\n",
      "Epoch 2 - Accuracy: 0.8714882308276386\n"
     ]
    },
    {
     "name": "stdout",
     "output_type": "stream",
     "text": [
      "EVAL: [329/330] Elapsed 0m 31s (remain 0m 0s) Loss: 0.0074(0.0759) \n",
      "Epoch: [3][0/1316] Elapsed 0m 1s (remain 24m 14s) Loss: 0.0811(0.0811) Grad: 0.4605 LR: 0.000091  \n",
      "Epoch: [3][100/1316] Elapsed 0m 29s (remain 6m 0s) Loss: 0.1928(0.1346) Grad: 0.5552 LR: 0.000090  \n",
      "Epoch: [3][200/1316] Elapsed 0m 59s (remain 5m 28s) Loss: 0.1511(0.1324) Grad: 0.7042 LR: 0.000089  \n",
      "Epoch: [3][300/1316] Elapsed 1m 28s (remain 4m 57s) Loss: 0.1278(0.1355) Grad: 0.4176 LR: 0.000088  \n",
      "Epoch: [3][400/1316] Elapsed 1m 57s (remain 4m 28s) Loss: 0.0663(0.1341) Grad: 0.3144 LR: 0.000088  \n",
      "Epoch: [3][500/1316] Elapsed 2m 27s (remain 3m 59s) Loss: 0.1598(0.1353) Grad: 0.4819 LR: 0.000087  \n",
      "Epoch: [3][600/1316] Elapsed 2m 56s (remain 3m 29s) Loss: 0.0939(0.1361) Grad: 0.4698 LR: 0.000086  \n",
      "Epoch: [3][700/1316] Elapsed 3m 24s (remain 2m 59s) Loss: 0.1890(0.1353) Grad: 0.3756 LR: 0.000085  \n",
      "Epoch: [3][800/1316] Elapsed 3m 54s (remain 2m 30s) Loss: 0.1341(0.1349) Grad: 0.2458 LR: 0.000084  \n",
      "Epoch: [3][900/1316] Elapsed 4m 23s (remain 2m 1s) Loss: 0.2085(0.1341) Grad: 0.2949 LR: 0.000084  \n",
      "Epoch: [3][1000/1316] Elapsed 4m 52s (remain 1m 31s) Loss: 0.1961(0.1332) Grad: 0.3775 LR: 0.000083  \n",
      "Epoch: [3][1100/1316] Elapsed 5m 21s (remain 1m 2s) Loss: 0.1497(0.1330) Grad: 0.4560 LR: 0.000082  \n",
      "Epoch: [3][1200/1316] Elapsed 5m 49s (remain 0m 33s) Loss: 0.2012(0.1329) Grad: 0.3040 LR: 0.000081  \n",
      "Epoch: [3][1300/1316] Elapsed 6m 18s (remain 0m 4s) Loss: 0.1879(0.1316) Grad: 0.4014 LR: 0.000080  \n",
      "Epoch: [3][1315/1316] Elapsed 6m 22s (remain 0m 0s) Loss: 0.1419(0.1320) Grad: 0.5158 LR: 0.000080  \n",
      "EVAL: [0/330] Elapsed 0m 0s (remain 4m 4s) Loss: 0.0197(0.0197) \n",
      "EVAL: [100/330] Elapsed 0m 10s (remain 0m 23s) Loss: 0.0415(0.0772) \n",
      "EVAL: [200/330] Elapsed 0m 19s (remain 0m 12s) Loss: 0.0665(0.0731) \n",
      "EVAL: [300/330] Elapsed 0m 28s (remain 0m 2s) Loss: 0.0703(0.0719) \n"
     ]
    },
    {
     "name": "stderr",
     "output_type": "stream",
     "text": [
      "Epoch 3 - avg_train_loss: 0.1320  avg_val_loss: 0.0727  time: 415s\n",
      "Epoch 3 - Accuracy: 0.8813591495823843\n",
      "Epoch 3 - Save Best Score: 0.8814 Model\n"
     ]
    },
    {
     "name": "stdout",
     "output_type": "stream",
     "text": [
      "EVAL: [329/330] Elapsed 0m 31s (remain 0m 0s) Loss: 0.0375(0.0727) \n",
      "Epoch: [4][0/1316] Elapsed 0m 1s (remain 22m 57s) Loss: 0.2282(0.2282) Grad: 0.2311 LR: 0.000080  \n",
      "Epoch: [4][100/1316] Elapsed 0m 30s (remain 6m 1s) Loss: 0.1166(0.1262) Grad: 0.2102 LR: 0.000079  \n",
      "Epoch: [4][200/1316] Elapsed 0m 58s (remain 5m 26s) Loss: 0.1011(0.1306) Grad: 0.3382 LR: 0.000078  \n",
      "Epoch: [4][300/1316] Elapsed 1m 27s (remain 4m 55s) Loss: 0.1233(0.1276) Grad: 0.3841 LR: 0.000077  \n",
      "Epoch: [4][400/1316] Elapsed 1m 56s (remain 4m 26s) Loss: 0.2027(0.1291) Grad: 0.4707 LR: 0.000076  \n",
      "Epoch: [4][500/1316] Elapsed 2m 25s (remain 3m 56s) Loss: 0.2004(0.1294) Grad: 0.3210 LR: 0.000075  \n",
      "Epoch: [4][600/1316] Elapsed 2m 54s (remain 3m 27s) Loss: 0.1269(0.1293) Grad: 0.4369 LR: 0.000074  \n",
      "Epoch: [4][700/1316] Elapsed 3m 23s (remain 2m 58s) Loss: 0.0426(0.1283) Grad: 0.6314 LR: 0.000073  \n",
      "Epoch: [4][800/1316] Elapsed 3m 52s (remain 2m 29s) Loss: 0.0981(0.1286) Grad: 0.5293 LR: 0.000072  \n",
      "Epoch: [4][900/1316] Elapsed 4m 20s (remain 2m 0s) Loss: 0.0586(0.1280) Grad: 0.3483 LR: 0.000071  \n",
      "Epoch: [4][1000/1316] Elapsed 4m 49s (remain 1m 31s) Loss: 0.1728(0.1272) Grad: 0.3108 LR: 0.000070  \n",
      "Epoch: [4][1100/1316] Elapsed 5m 18s (remain 1m 2s) Loss: 0.1327(0.1276) Grad: 0.3630 LR: 0.000069  \n",
      "Epoch: [4][1200/1316] Elapsed 5m 47s (remain 0m 33s) Loss: 0.1657(0.1275) Grad: 0.5266 LR: 0.000067  \n",
      "Epoch: [4][1300/1316] Elapsed 6m 15s (remain 0m 4s) Loss: 0.1702(0.1273) Grad: 0.2982 LR: 0.000066  \n",
      "Epoch: [4][1315/1316] Elapsed 6m 20s (remain 0m 0s) Loss: 0.1202(0.1276) Grad: 0.3690 LR: 0.000066  \n",
      "EVAL: [0/330] Elapsed 0m 0s (remain 4m 18s) Loss: 0.0217(0.0217) \n",
      "EVAL: [100/330] Elapsed 0m 9s (remain 0m 22s) Loss: 0.0329(0.0846) \n",
      "EVAL: [200/330] Elapsed 0m 19s (remain 0m 12s) Loss: 0.0545(0.0798) \n",
      "EVAL: [300/330] Elapsed 0m 28s (remain 0m 2s) Loss: 0.0595(0.0779) \n"
     ]
    },
    {
     "name": "stderr",
     "output_type": "stream",
     "text": [
      "Epoch 4 - avg_train_loss: 0.1276  avg_val_loss: 0.0782  time: 411s\n",
      "Epoch 4 - Accuracy: 0.8697798025816249\n"
     ]
    },
    {
     "name": "stdout",
     "output_type": "stream",
     "text": [
      "EVAL: [329/330] Elapsed 0m 30s (remain 0m 0s) Loss: 0.0193(0.0782) \n",
      "Epoch: [5][0/1316] Elapsed 0m 1s (remain 23m 34s) Loss: 0.0269(0.0269) Grad: 0.4591 LR: 0.000066  \n",
      "Epoch: [5][100/1316] Elapsed 0m 29s (remain 5m 58s) Loss: 0.1449(0.1113) Grad: 0.1427 LR: 0.000065  \n",
      "Epoch: [5][200/1316] Elapsed 0m 58s (remain 5m 23s) Loss: 0.1162(0.1167) Grad: 0.3916 LR: 0.000064  \n",
      "Epoch: [5][300/1316] Elapsed 1m 27s (remain 4m 53s) Loss: 0.1850(0.1232) Grad: 0.2240 LR: 0.000063  \n",
      "Epoch: [5][400/1316] Elapsed 1m 55s (remain 4m 23s) Loss: 0.1377(0.1245) Grad: 0.2900 LR: 0.000062  \n",
      "Epoch: [5][500/1316] Elapsed 2m 24s (remain 3m 54s) Loss: 0.0704(0.1231) Grad: 0.1215 LR: 0.000061  \n",
      "Epoch: [5][600/1316] Elapsed 2m 52s (remain 3m 25s) Loss: 0.0754(0.1215) Grad: 0.2239 LR: 0.000059  \n",
      "Epoch: [5][700/1316] Elapsed 3m 21s (remain 2m 56s) Loss: 0.0804(0.1200) Grad: 0.1463 LR: 0.000058  \n",
      "Epoch: [5][800/1316] Elapsed 3m 49s (remain 2m 27s) Loss: 0.0464(0.1200) Grad: 0.4916 LR: 0.000057  \n",
      "Epoch: [5][900/1316] Elapsed 4m 18s (remain 1m 59s) Loss: 0.0420(0.1207) Grad: 0.3824 LR: 0.000056  \n",
      "Epoch: [5][1000/1316] Elapsed 4m 47s (remain 1m 30s) Loss: 0.1937(0.1207) Grad: 0.6489 LR: 0.000055  \n",
      "Epoch: [5][1100/1316] Elapsed 5m 15s (remain 1m 1s) Loss: 0.0697(0.1215) Grad: 0.4398 LR: 0.000054  \n",
      "Epoch: [5][1200/1316] Elapsed 5m 44s (remain 0m 32s) Loss: 0.2253(0.1216) Grad: 0.6585 LR: 0.000052  \n",
      "Epoch: [5][1300/1316] Elapsed 6m 12s (remain 0m 4s) Loss: 0.1692(0.1216) Grad: 0.2582 LR: 0.000051  \n",
      "Epoch: [5][1315/1316] Elapsed 6m 16s (remain 0m 0s) Loss: 0.1297(0.1217) Grad: 0.4006 LR: 0.000051  \n",
      "EVAL: [0/330] Elapsed 0m 0s (remain 4m 15s) Loss: 0.0683(0.0683) \n",
      "EVAL: [100/330] Elapsed 0m 9s (remain 0m 22s) Loss: 0.0317(0.0779) \n",
      "EVAL: [200/330] Elapsed 0m 19s (remain 0m 12s) Loss: 0.0532(0.0721) \n",
      "EVAL: [300/330] Elapsed 0m 28s (remain 0m 2s) Loss: 0.0679(0.0722) \n"
     ]
    },
    {
     "name": "stderr",
     "output_type": "stream",
     "text": [
      "Epoch 5 - avg_train_loss: 0.1217  avg_val_loss: 0.0727  time: 408s\n",
      "Epoch 5 - Accuracy: 0.8775626423690205\n"
     ]
    },
    {
     "name": "stdout",
     "output_type": "stream",
     "text": [
      "EVAL: [329/330] Elapsed 0m 30s (remain 0m 0s) Loss: 0.0128(0.0727) \n",
      "Epoch: [6][0/1316] Elapsed 0m 1s (remain 23m 41s) Loss: 0.2198(0.2198) Grad: 0.2444 LR: 0.000051  \n",
      "Epoch: [6][100/1316] Elapsed 0m 29s (remain 5m 57s) Loss: 0.1722(0.1177) Grad: 0.2204 LR: 0.000050  \n",
      "Epoch: [6][200/1316] Elapsed 0m 58s (remain 5m 24s) Loss: 0.0230(0.1181) Grad: 0.2906 LR: 0.000049  \n",
      "Epoch: [6][300/1316] Elapsed 1m 26s (remain 4m 53s) Loss: 0.1141(0.1166) Grad: 0.1652 LR: 0.000048  \n",
      "Epoch: [6][400/1316] Elapsed 1m 55s (remain 4m 23s) Loss: 0.0045(0.1179) Grad: 0.1287 LR: 0.000046  \n",
      "Epoch: [6][500/1316] Elapsed 2m 24s (remain 3m 54s) Loss: 0.1303(0.1190) Grad: 0.2090 LR: 0.000045  \n",
      "Epoch: [6][600/1316] Elapsed 2m 52s (remain 3m 25s) Loss: 0.0669(0.1190) Grad: 0.6446 LR: 0.000044  \n",
      "Epoch: [6][700/1316] Elapsed 3m 21s (remain 2m 56s) Loss: 0.1525(0.1197) Grad: 0.2132 LR: 0.000043  \n",
      "Epoch: [6][800/1316] Elapsed 3m 49s (remain 2m 27s) Loss: 0.1690(0.1193) Grad: 0.4294 LR: 0.000042  \n",
      "Epoch: [6][900/1316] Elapsed 4m 18s (remain 1m 59s) Loss: 0.1713(0.1199) Grad: 0.2894 LR: 0.000041  \n",
      "Epoch: [6][1000/1316] Elapsed 4m 47s (remain 1m 30s) Loss: 0.1692(0.1199) Grad: 0.1959 LR: 0.000039  \n",
      "Epoch: [6][1100/1316] Elapsed 5m 15s (remain 1m 1s) Loss: 0.1611(0.1184) Grad: 0.4049 LR: 0.000038  \n",
      "Epoch: [6][1200/1316] Elapsed 5m 44s (remain 0m 32s) Loss: 0.0204(0.1178) Grad: 0.2263 LR: 0.000037  \n",
      "Epoch: [6][1300/1316] Elapsed 6m 12s (remain 0m 4s) Loss: 0.1952(0.1188) Grad: 0.3120 LR: 0.000036  \n",
      "Epoch: [6][1315/1316] Elapsed 6m 17s (remain 0m 0s) Loss: 0.1183(0.1185) Grad: 0.3185 LR: 0.000036  \n",
      "EVAL: [0/330] Elapsed 0m 0s (remain 4m 22s) Loss: 0.0328(0.0328) \n",
      "EVAL: [100/330] Elapsed 0m 9s (remain 0m 22s) Loss: 0.0195(0.0729) \n",
      "EVAL: [200/330] Elapsed 0m 19s (remain 0m 12s) Loss: 0.0515(0.0662) \n",
      "EVAL: [300/330] Elapsed 0m 28s (remain 0m 2s) Loss: 0.0446(0.0656) \n"
     ]
    },
    {
     "name": "stderr",
     "output_type": "stream",
     "text": [
      "Epoch 6 - avg_train_loss: 0.1185  avg_val_loss: 0.0667  time: 408s\n",
      "Epoch 6 - Accuracy: 0.8815489749430524\n",
      "Epoch 6 - Save Best Score: 0.8815 Model\n"
     ]
    },
    {
     "name": "stdout",
     "output_type": "stream",
     "text": [
      "EVAL: [329/330] Elapsed 0m 30s (remain 0m 0s) Loss: 0.0097(0.0667) \n",
      "Epoch: [7][0/1316] Elapsed 0m 1s (remain 22m 9s) Loss: 0.0107(0.0107) Grad: 0.1687 LR: 0.000036  \n",
      "Epoch: [7][100/1316] Elapsed 0m 29s (remain 5m 54s) Loss: 0.0214(0.0829) Grad: 0.2404 LR: 0.000035  \n",
      "Epoch: [7][200/1316] Elapsed 0m 57s (remain 5m 19s) Loss: 0.0625(0.0841) Grad: 0.2602 LR: 0.000034  \n",
      "Epoch: [7][300/1316] Elapsed 1m 25s (remain 4m 49s) Loss: 0.0922(0.0849) Grad: 0.4619 LR: 0.000033  \n",
      "Epoch: [7][400/1316] Elapsed 1m 53s (remain 4m 19s) Loss: 0.0074(0.0847) Grad: 0.1346 LR: 0.000032  \n",
      "Epoch: [7][500/1316] Elapsed 2m 22s (remain 3m 51s) Loss: 0.0100(0.0852) Grad: 0.1651 LR: 0.000030  \n",
      "Epoch: [7][600/1316] Elapsed 2m 50s (remain 3m 22s) Loss: 0.0138(0.0867) Grad: 0.2100 LR: 0.000029  \n",
      "Epoch: [7][700/1316] Elapsed 3m 18s (remain 2m 54s) Loss: 0.0508(0.0872) Grad: 0.1703 LR: 0.000028  \n",
      "Epoch: [7][800/1316] Elapsed 3m 46s (remain 2m 25s) Loss: 0.0121(0.0870) Grad: 0.1416 LR: 0.000027  \n",
      "Epoch: [7][900/1316] Elapsed 4m 14s (remain 1m 57s) Loss: 0.1349(0.0869) Grad: 0.2078 LR: 0.000026  \n",
      "Epoch: [7][1000/1316] Elapsed 4m 42s (remain 1m 29s) Loss: 0.1381(0.0883) Grad: 0.2669 LR: 0.000025  \n",
      "Epoch: [7][1100/1316] Elapsed 5m 11s (remain 1m 0s) Loss: 0.1051(0.0879) Grad: 0.4254 LR: 0.000024  \n",
      "Epoch: [7][1200/1316] Elapsed 5m 39s (remain 0m 32s) Loss: 0.0118(0.0879) Grad: 0.1945 LR: 0.000023  \n",
      "Epoch: [7][1300/1316] Elapsed 6m 7s (remain 0m 4s) Loss: 0.0219(0.0883) Grad: 0.1894 LR: 0.000022  \n",
      "Epoch: [7][1315/1316] Elapsed 6m 11s (remain 0m 0s) Loss: 0.0160(0.0884) Grad: 0.5046 LR: 0.000022  \n",
      "EVAL: [0/330] Elapsed 0m 0s (remain 3m 55s) Loss: 0.0624(0.0624) \n",
      "EVAL: [100/330] Elapsed 0m 9s (remain 0m 22s) Loss: 0.0147(0.0711) \n",
      "EVAL: [200/330] Elapsed 0m 19s (remain 0m 12s) Loss: 0.0498(0.0649) \n",
      "EVAL: [300/330] Elapsed 0m 28s (remain 0m 2s) Loss: 0.0605(0.0651) \n"
     ]
    },
    {
     "name": "stderr",
     "output_type": "stream",
     "text": [
      "Epoch 7 - avg_train_loss: 0.0884  avg_val_loss: 0.0657  time: 403s\n",
      "Epoch 7 - Accuracy: 0.8864844343204252\n",
      "Epoch 7 - Save Best Score: 0.8865 Model\n"
     ]
    },
    {
     "name": "stdout",
     "output_type": "stream",
     "text": [
      "EVAL: [329/330] Elapsed 0m 30s (remain 0m 0s) Loss: 0.0031(0.0657) \n",
      "Epoch: [8][0/1316] Elapsed 0m 1s (remain 23m 13s) Loss: 0.0340(0.0340) Grad: 0.2127 LR: 0.000022  \n",
      "Epoch: [8][100/1316] Elapsed 0m 29s (remain 5m 54s) Loss: 0.0130(0.0814) Grad: 0.2066 LR: 0.000021  \n",
      "Epoch: [8][200/1316] Elapsed 0m 57s (remain 5m 19s) Loss: 0.1860(0.0867) Grad: 0.2227 LR: 0.000020  \n",
      "Epoch: [8][300/1316] Elapsed 1m 25s (remain 4m 49s) Loss: 0.1121(0.0885) Grad: 0.1712 LR: 0.000020  \n",
      "Epoch: [8][400/1316] Elapsed 1m 54s (remain 4m 20s) Loss: 0.2409(0.0897) Grad: 0.3688 LR: 0.000019  \n",
      "Epoch: [8][500/1316] Elapsed 2m 22s (remain 3m 51s) Loss: 0.0131(0.0885) Grad: 0.1875 LR: 0.000018  \n",
      "Epoch: [8][600/1316] Elapsed 2m 50s (remain 3m 22s) Loss: 0.0725(0.0868) Grad: 0.5009 LR: 0.000017  \n",
      "Epoch: [8][700/1316] Elapsed 3m 18s (remain 2m 54s) Loss: 0.0504(0.0860) Grad: 0.3113 LR: 0.000016  \n",
      "Epoch: [8][800/1316] Elapsed 3m 46s (remain 2m 25s) Loss: 0.0539(0.0859) Grad: 0.3364 LR: 0.000015  \n",
      "Epoch: [8][900/1316] Elapsed 4m 14s (remain 1m 57s) Loss: 0.1235(0.0854) Grad: 0.1804 LR: 0.000014  \n",
      "Epoch: [8][1000/1316] Elapsed 4m 42s (remain 1m 29s) Loss: 0.1177(0.0847) Grad: 0.4785 LR: 0.000014  \n",
      "Epoch: [8][1100/1316] Elapsed 5m 10s (remain 1m 0s) Loss: 0.1390(0.0841) Grad: 0.7309 LR: 0.000013  \n",
      "Epoch: [8][1200/1316] Elapsed 5m 38s (remain 0m 32s) Loss: 0.0073(0.0839) Grad: 0.1771 LR: 0.000012  \n",
      "Epoch: [8][1300/1316] Elapsed 6m 7s (remain 0m 4s) Loss: 0.0059(0.0838) Grad: 0.1056 LR: 0.000012  \n",
      "Epoch: [8][1315/1316] Elapsed 6m 11s (remain 0m 0s) Loss: 0.0561(0.0837) Grad: 0.4958 LR: 0.000011  \n",
      "EVAL: [0/330] Elapsed 0m 0s (remain 3m 59s) Loss: 0.0497(0.0497) \n",
      "EVAL: [100/330] Elapsed 0m 9s (remain 0m 22s) Loss: 0.0193(0.0711) \n",
      "EVAL: [200/330] Elapsed 0m 18s (remain 0m 12s) Loss: 0.0453(0.0659) \n",
      "EVAL: [300/330] Elapsed 0m 27s (remain 0m 2s) Loss: 0.0548(0.0651) \n"
     ]
    },
    {
     "name": "stderr",
     "output_type": "stream",
     "text": [
      "Epoch 8 - avg_train_loss: 0.0837  avg_val_loss: 0.0661  time: 402s\n",
      "Epoch 8 - Accuracy: 0.8864844343204252\n"
     ]
    },
    {
     "name": "stdout",
     "output_type": "stream",
     "text": [
      "EVAL: [329/330] Elapsed 0m 30s (remain 0m 0s) Loss: 0.0142(0.0661) \n",
      "Epoch: [9][0/1316] Elapsed 0m 1s (remain 22m 42s) Loss: 0.0629(0.0629) Grad: 0.3279 LR: 0.000011  \n",
      "Epoch: [9][100/1316] Elapsed 0m 29s (remain 5m 52s) Loss: 0.0162(0.0849) Grad: 0.3036 LR: 0.000011  \n",
      "Epoch: [9][200/1316] Elapsed 0m 57s (remain 5m 17s) Loss: 0.1059(0.0826) Grad: 0.3660 LR: 0.000010  \n",
      "Epoch: [9][300/1316] Elapsed 1m 25s (remain 4m 48s) Loss: 0.1051(0.0829) Grad: 0.4595 LR: 0.000009  \n",
      "Epoch: [9][400/1316] Elapsed 1m 53s (remain 4m 19s) Loss: 0.1104(0.0832) Grad: 0.3982 LR: 0.000009  \n",
      "Epoch: [9][500/1316] Elapsed 2m 21s (remain 3m 50s) Loss: 0.0470(0.0830) Grad: 0.4210 LR: 0.000008  \n",
      "Epoch: [9][600/1316] Elapsed 2m 49s (remain 3m 22s) Loss: 0.1476(0.0829) Grad: 0.4234 LR: 0.000008  \n",
      "Epoch: [9][700/1316] Elapsed 3m 18s (remain 2m 53s) Loss: 0.0346(0.0833) Grad: 0.2840 LR: 0.000007  \n",
      "Epoch: [9][800/1316] Elapsed 3m 46s (remain 2m 25s) Loss: 0.0225(0.0842) Grad: 0.2916 LR: 0.000007  \n",
      "Epoch: [9][900/1316] Elapsed 4m 14s (remain 1m 57s) Loss: 0.0663(0.0828) Grad: 0.1348 LR: 0.000006  \n",
      "Epoch: [9][1000/1316] Elapsed 4m 42s (remain 1m 28s) Loss: 0.0551(0.0824) Grad: 0.2445 LR: 0.000006  \n",
      "Epoch: [9][1100/1316] Elapsed 5m 10s (remain 1m 0s) Loss: 0.0586(0.0816) Grad: 0.3524 LR: 0.000005  \n",
      "Epoch: [9][1200/1316] Elapsed 5m 38s (remain 0m 32s) Loss: 0.0273(0.0806) Grad: 0.2217 LR: 0.000005  \n",
      "Epoch: [9][1300/1316] Elapsed 6m 7s (remain 0m 4s) Loss: 0.0214(0.0805) Grad: 0.2665 LR: 0.000004  \n",
      "Epoch: [9][1315/1316] Elapsed 6m 11s (remain 0m 0s) Loss: 0.1858(0.0806) Grad: 0.3973 LR: 0.000004  \n",
      "EVAL: [0/330] Elapsed 0m 0s (remain 4m 5s) Loss: 0.0419(0.0419) \n",
      "EVAL: [100/330] Elapsed 0m 9s (remain 0m 22s) Loss: 0.0165(0.0706) \n",
      "EVAL: [200/330] Elapsed 0m 19s (remain 0m 12s) Loss: 0.0427(0.0646) \n",
      "EVAL: [300/330] Elapsed 0m 28s (remain 0m 2s) Loss: 0.0555(0.0638) \n"
     ]
    },
    {
     "name": "stderr",
     "output_type": "stream",
     "text": [
      "Epoch 9 - avg_train_loss: 0.0806  avg_val_loss: 0.0644  time: 402s\n",
      "Epoch 9 - Accuracy: 0.889331814730448\n",
      "Epoch 9 - Save Best Score: 0.8893 Model\n"
     ]
    },
    {
     "name": "stdout",
     "output_type": "stream",
     "text": [
      "EVAL: [329/330] Elapsed 0m 30s (remain 0m 0s) Loss: 0.0042(0.0644) \n",
      "Epoch: [10][0/1316] Elapsed 0m 0s (remain 20m 40s) Loss: 0.0610(0.0610) Grad: 0.2535 LR: 0.000004  \n",
      "Epoch: [10][100/1316] Elapsed 0m 28s (remain 5m 44s) Loss: 0.0058(0.0343) Grad: 0.1475 LR: 0.000004  \n",
      "Epoch: [10][200/1316] Elapsed 0m 56s (remain 5m 12s) Loss: 0.0036(0.0330) Grad: 0.0906 LR: 0.000004  \n",
      "Epoch: [10][300/1316] Elapsed 1m 23s (remain 4m 43s) Loss: 0.0043(0.0346) Grad: 0.0908 LR: 0.000003  \n",
      "Epoch: [10][400/1316] Elapsed 1m 51s (remain 4m 14s) Loss: 0.0381(0.0341) Grad: 0.3217 LR: 0.000003  \n",
      "Epoch: [10][500/1316] Elapsed 2m 19s (remain 3m 47s) Loss: 0.0227(0.0340) Grad: 0.2869 LR: 0.000003  \n",
      "Epoch: [10][600/1316] Elapsed 2m 47s (remain 3m 19s) Loss: 0.0340(0.0336) Grad: 0.3269 LR: 0.000003  \n",
      "Epoch: [10][700/1316] Elapsed 3m 15s (remain 2m 51s) Loss: 0.0455(0.0329) Grad: 0.2140 LR: 0.000003  \n",
      "Epoch: [10][800/1316] Elapsed 3m 43s (remain 2m 23s) Loss: 0.0013(0.0328) Grad: 0.0493 LR: 0.000002  \n",
      "Epoch: [10][900/1316] Elapsed 4m 11s (remain 1m 55s) Loss: 0.0507(0.0327) Grad: 0.1147 LR: 0.000002  \n",
      "Epoch: [10][1000/1316] Elapsed 4m 38s (remain 1m 27s) Loss: 0.0104(0.0324) Grad: 0.1960 LR: 0.000002  \n",
      "Epoch: [10][1100/1316] Elapsed 5m 6s (remain 0m 59s) Loss: 0.0284(0.0323) Grad: 0.3931 LR: 0.000002  \n",
      "Epoch: [10][1200/1316] Elapsed 5m 34s (remain 0m 32s) Loss: 0.0402(0.0320) Grad: 0.2115 LR: 0.000002  \n",
      "Epoch: [10][1300/1316] Elapsed 6m 2s (remain 0m 4s) Loss: 0.0083(0.0321) Grad: 0.2255 LR: 0.000002  \n",
      "Epoch: [10][1315/1316] Elapsed 6m 6s (remain 0m 0s) Loss: 0.0016(0.0320) Grad: 0.0566 LR: 0.000002  \n",
      "EVAL: [0/330] Elapsed 0m 0s (remain 4m 32s) Loss: 0.0415(0.0415) \n",
      "EVAL: [100/330] Elapsed 0m 10s (remain 0m 24s) Loss: 0.0150(0.0717) \n",
      "EVAL: [200/330] Elapsed 0m 19s (remain 0m 12s) Loss: 0.0439(0.0654) \n",
      "EVAL: [300/330] Elapsed 0m 29s (remain 0m 2s) Loss: 0.0663(0.0641) \n"
     ]
    },
    {
     "name": "stderr",
     "output_type": "stream",
     "text": [
      "Epoch 10 - avg_train_loss: 0.0320  avg_val_loss: 0.0645  time: 399s\n",
      "Epoch 10 - Accuracy: 0.8887623386484435\n",
      "Epoch 10 - Save final model\n"
     ]
    },
    {
     "name": "stdout",
     "output_type": "stream",
     "text": [
      "EVAL: [329/330] Elapsed 0m 31s (remain 0m 0s) Loss: 0.0036(0.0645) \n"
     ]
    },
    {
     "name": "stderr",
     "output_type": "stream",
     "text": [
      "========== fold: 0 result ==========\n",
      "Score: 0.88933\n",
      "========== fold: 1 training ==========\n"
     ]
    },
    {
     "name": "stdout",
     "output_type": "stream",
     "text": [
      "Epoch: [1][0/1316] Elapsed 0m 1s (remain 22m 12s) Loss: 0.3938(0.3938) Grad: 1.0752 LR: 0.000100  \n",
      "Epoch: [1][100/1316] Elapsed 0m 29s (remain 6m 0s) Loss: 0.0506(0.1542) Grad: 0.5262 LR: 0.000100  \n",
      "Epoch: [1][200/1316] Elapsed 0m 58s (remain 5m 25s) Loss: 0.1708(0.1338) Grad: 1.1141 LR: 0.000100  \n",
      "Epoch: [1][300/1316] Elapsed 1m 27s (remain 4m 54s) Loss: 0.1212(0.1227) Grad: 0.6295 LR: 0.000100  \n",
      "Epoch: [1][400/1316] Elapsed 1m 56s (remain 4m 25s) Loss: 0.1585(0.1160) Grad: 0.5976 LR: 0.000100  \n",
      "Epoch: [1][500/1316] Elapsed 2m 24s (remain 3m 55s) Loss: 0.0234(0.1121) Grad: 0.3520 LR: 0.000100  \n",
      "Epoch: [1][600/1316] Elapsed 2m 53s (remain 3m 26s) Loss: 0.0632(0.1083) Grad: 0.5974 LR: 0.000099  \n",
      "Epoch: [1][700/1316] Elapsed 3m 22s (remain 2m 57s) Loss: 0.0813(0.1048) Grad: 0.5535 LR: 0.000099  \n",
      "Epoch: [1][800/1316] Elapsed 3m 50s (remain 2m 28s) Loss: 0.0833(0.1030) Grad: 0.5260 LR: 0.000099  \n",
      "Epoch: [1][900/1316] Elapsed 4m 19s (remain 1m 59s) Loss: 0.0592(0.1012) Grad: 0.6174 LR: 0.000099  \n",
      "Epoch: [1][1000/1316] Elapsed 4m 48s (remain 1m 30s) Loss: 0.0741(0.0990) Grad: 0.7688 LR: 0.000099  \n",
      "Epoch: [1][1100/1316] Elapsed 5m 16s (remain 1m 1s) Loss: 0.0390(0.0978) Grad: 0.2674 LR: 0.000098  \n",
      "Epoch: [1][1200/1316] Elapsed 5m 45s (remain 0m 33s) Loss: 0.1256(0.0959) Grad: 0.9131 LR: 0.000098  \n",
      "Epoch: [1][1300/1316] Elapsed 6m 13s (remain 0m 4s) Loss: 0.0429(0.0950) Grad: 0.3650 LR: 0.000098  \n",
      "Epoch: [1][1315/1316] Elapsed 6m 18s (remain 0m 0s) Loss: 0.0759(0.0949) Grad: 0.8643 LR: 0.000098  \n",
      "EVAL: [0/330] Elapsed 0m 0s (remain 4m 7s) Loss: 0.1108(0.1108) \n",
      "EVAL: [100/330] Elapsed 0m 10s (remain 0m 23s) Loss: 0.0585(0.0859) \n",
      "EVAL: [200/330] Elapsed 0m 19s (remain 0m 12s) Loss: 0.1329(0.0848) \n",
      "EVAL: [300/330] Elapsed 0m 28s (remain 0m 2s) Loss: 0.1062(0.0837) \n"
     ]
    },
    {
     "name": "stderr",
     "output_type": "stream",
     "text": [
      "Epoch 1 - avg_train_loss: 0.0949  avg_val_loss: 0.0835  time: 410s\n",
      "Epoch 1 - Accuracy: 0.8599088838268792\n",
      "Epoch 1 - Save Best Score: 0.8599 Model\n"
     ]
    },
    {
     "name": "stdout",
     "output_type": "stream",
     "text": [
      "EVAL: [329/330] Elapsed 0m 31s (remain 0m 0s) Loss: 0.1781(0.0835) \n",
      "Epoch: [2][0/1316] Elapsed 0m 0s (remain 21m 34s) Loss: 0.0759(0.0759) Grad: 0.3035 LR: 0.000098  \n",
      "Epoch: [2][100/1316] Elapsed 0m 29s (remain 5m 55s) Loss: 0.1273(0.0570) Grad: 0.4411 LR: 0.000097  \n",
      "Epoch: [2][200/1316] Elapsed 0m 58s (remain 5m 22s) Loss: 0.0145(0.0580) Grad: 0.3240 LR: 0.000097  \n",
      "Epoch: [2][300/1316] Elapsed 1m 26s (remain 4m 51s) Loss: 0.1398(0.0575) Grad: 0.4806 LR: 0.000096  \n",
      "Epoch: [2][400/1316] Elapsed 1m 55s (remain 4m 22s) Loss: 0.1532(0.0589) Grad: 0.6860 LR: 0.000096  \n",
      "Epoch: [2][500/1316] Elapsed 2m 23s (remain 3m 53s) Loss: 0.0898(0.0598) Grad: 0.6051 LR: 0.000095  \n",
      "Epoch: [2][600/1316] Elapsed 2m 52s (remain 3m 25s) Loss: 0.0632(0.0596) Grad: 0.3273 LR: 0.000095  \n",
      "Epoch: [2][700/1316] Elapsed 3m 21s (remain 2m 56s) Loss: 0.1574(0.0601) Grad: 0.6752 LR: 0.000094  \n",
      "Epoch: [2][800/1316] Elapsed 3m 49s (remain 2m 27s) Loss: 0.0497(0.0595) Grad: 0.4030 LR: 0.000094  \n",
      "Epoch: [2][900/1316] Elapsed 4m 18s (remain 1m 59s) Loss: 0.0162(0.0600) Grad: 0.2676 LR: 0.000093  \n",
      "Epoch: [2][1000/1316] Elapsed 4m 47s (remain 1m 30s) Loss: 0.0936(0.0614) Grad: 0.3385 LR: 0.000093  \n",
      "Epoch: [2][1100/1316] Elapsed 5m 15s (remain 1m 1s) Loss: 0.0414(0.0618) Grad: 0.3122 LR: 0.000092  \n",
      "Epoch: [2][1200/1316] Elapsed 5m 44s (remain 0m 32s) Loss: 0.0561(0.0615) Grad: 0.6190 LR: 0.000091  \n",
      "Epoch: [2][1300/1316] Elapsed 6m 13s (remain 0m 4s) Loss: 0.0600(0.0613) Grad: 0.3786 LR: 0.000091  \n",
      "Epoch: [2][1315/1316] Elapsed 6m 17s (remain 0m 0s) Loss: 0.0753(0.0612) Grad: 0.6435 LR: 0.000091  \n",
      "EVAL: [0/330] Elapsed 0m 0s (remain 4m 19s) Loss: 0.1033(0.1033) \n",
      "EVAL: [100/330] Elapsed 0m 10s (remain 0m 23s) Loss: 0.0661(0.0816) \n",
      "EVAL: [200/330] Elapsed 0m 19s (remain 0m 12s) Loss: 0.1633(0.0795) \n",
      "EVAL: [300/330] Elapsed 0m 28s (remain 0m 2s) Loss: 0.0872(0.0769) \n"
     ]
    },
    {
     "name": "stderr",
     "output_type": "stream",
     "text": [
      "Epoch 2 - avg_train_loss: 0.0612  avg_val_loss: 0.0769  time: 409s\n",
      "Epoch 2 - Accuracy: 0.8712984054669703\n",
      "Epoch 2 - Save Best Score: 0.8713 Model\n"
     ]
    },
    {
     "name": "stdout",
     "output_type": "stream",
     "text": [
      "EVAL: [329/330] Elapsed 0m 31s (remain 0m 0s) Loss: 0.2423(0.0769) \n",
      "Epoch: [3][0/1316] Elapsed 0m 1s (remain 24m 22s) Loss: 0.1564(0.1564) Grad: 0.2926 LR: 0.000091  \n",
      "Epoch: [3][100/1316] Elapsed 0m 30s (remain 6m 11s) Loss: 0.1854(0.1545) Grad: 0.3667 LR: 0.000090  \n",
      "Epoch: [3][200/1316] Elapsed 1m 0s (remain 5m 34s) Loss: 0.0962(0.1424) Grad: 0.3435 LR: 0.000089  \n",
      "Epoch: [3][300/1316] Elapsed 1m 29s (remain 5m 3s) Loss: 0.2087(0.1414) Grad: 0.4175 LR: 0.000088  \n",
      "Epoch: [3][400/1316] Elapsed 1m 59s (remain 4m 33s) Loss: 0.0663(0.1369) Grad: 0.3258 LR: 0.000088  \n",
      "Epoch: [3][500/1316] Elapsed 2m 29s (remain 4m 2s) Loss: 0.1205(0.1347) Grad: 0.1768 LR: 0.000087  \n",
      "Epoch: [3][600/1316] Elapsed 2m 59s (remain 3m 33s) Loss: 0.1077(0.1343) Grad: 0.3037 LR: 0.000086  \n",
      "Epoch: [3][700/1316] Elapsed 3m 28s (remain 3m 3s) Loss: 0.1337(0.1337) Grad: 0.3110 LR: 0.000085  \n",
      "Epoch: [3][800/1316] Elapsed 3m 58s (remain 2m 33s) Loss: 0.0733(0.1333) Grad: 0.3598 LR: 0.000084  \n",
      "Epoch: [3][900/1316] Elapsed 4m 28s (remain 2m 3s) Loss: 0.1613(0.1317) Grad: 0.3427 LR: 0.000084  \n",
      "Epoch: [3][1000/1316] Elapsed 4m 58s (remain 1m 33s) Loss: 0.1299(0.1315) Grad: 0.2369 LR: 0.000083  \n",
      "Epoch: [3][1100/1316] Elapsed 5m 27s (remain 1m 3s) Loss: 0.1809(0.1318) Grad: 0.3898 LR: 0.000082  \n",
      "Epoch: [3][1200/1316] Elapsed 5m 57s (remain 0m 34s) Loss: 0.0975(0.1327) Grad: 0.2412 LR: 0.000081  \n",
      "Epoch: [3][1300/1316] Elapsed 6m 27s (remain 0m 4s) Loss: 0.0591(0.1320) Grad: 0.2401 LR: 0.000080  \n",
      "Epoch: [3][1315/1316] Elapsed 6m 31s (remain 0m 0s) Loss: 0.2194(0.1321) Grad: 0.7684 LR: 0.000080  \n",
      "EVAL: [0/330] Elapsed 0m 0s (remain 4m 31s) Loss: 0.1053(0.1053) \n",
      "EVAL: [100/330] Elapsed 0m 10s (remain 0m 23s) Loss: 0.0594(0.0759) \n",
      "EVAL: [200/330] Elapsed 0m 19s (remain 0m 12s) Loss: 0.1235(0.0755) \n",
      "EVAL: [300/330] Elapsed 0m 28s (remain 0m 2s) Loss: 0.1046(0.0745) \n"
     ]
    },
    {
     "name": "stderr",
     "output_type": "stream",
     "text": [
      "Epoch 3 - avg_train_loss: 0.1321  avg_val_loss: 0.0750  time: 423s\n",
      "Epoch 3 - Accuracy: 0.8737661351556568\n",
      "Epoch 3 - Save Best Score: 0.8738 Model\n"
     ]
    },
    {
     "name": "stdout",
     "output_type": "stream",
     "text": [
      "EVAL: [329/330] Elapsed 0m 31s (remain 0m 0s) Loss: 0.1480(0.0750) \n",
      "Epoch: [4][0/1316] Elapsed 0m 1s (remain 24m 28s) Loss: 0.0721(0.0721) Grad: 0.3545 LR: 0.000080  \n",
      "Epoch: [4][100/1316] Elapsed 0m 30s (remain 6m 10s) Loss: 0.0615(0.1228) Grad: 0.3400 LR: 0.000079  \n",
      "Epoch: [4][200/1316] Elapsed 1m 0s (remain 5m 36s) Loss: 0.1090(0.1253) Grad: 0.2296 LR: 0.000078  \n",
      "Epoch: [4][300/1316] Elapsed 1m 30s (remain 5m 4s) Loss: 0.1733(0.1255) Grad: 0.3332 LR: 0.000077  \n",
      "Epoch: [4][400/1316] Elapsed 2m 0s (remain 4m 33s) Loss: 0.1362(0.1270) Grad: 0.2556 LR: 0.000076  \n",
      "Epoch: [4][500/1316] Elapsed 2m 29s (remain 4m 3s) Loss: 0.1475(0.1263) Grad: 0.3920 LR: 0.000075  \n",
      "Epoch: [4][600/1316] Elapsed 2m 59s (remain 3m 33s) Loss: 0.0283(0.1261) Grad: 0.1491 LR: 0.000074  \n",
      "Epoch: [4][700/1316] Elapsed 3m 28s (remain 3m 3s) Loss: 0.0560(0.1257) Grad: 0.1916 LR: 0.000073  \n",
      "Epoch: [4][800/1316] Elapsed 3m 58s (remain 2m 33s) Loss: 0.1701(0.1253) Grad: 0.2882 LR: 0.000072  \n",
      "Epoch: [4][900/1316] Elapsed 4m 28s (remain 2m 3s) Loss: 0.1119(0.1247) Grad: 0.3488 LR: 0.000071  \n",
      "Epoch: [4][1000/1316] Elapsed 4m 57s (remain 1m 33s) Loss: 0.0787(0.1244) Grad: 0.4096 LR: 0.000070  \n",
      "Epoch: [4][1100/1316] Elapsed 5m 27s (remain 1m 3s) Loss: 0.1705(0.1245) Grad: 0.3922 LR: 0.000069  \n",
      "Epoch: [4][1200/1316] Elapsed 5m 57s (remain 0m 34s) Loss: 0.0876(0.1247) Grad: 0.3764 LR: 0.000067  \n",
      "Epoch: [4][1300/1316] Elapsed 6m 26s (remain 0m 4s) Loss: 0.2215(0.1250) Grad: 0.2539 LR: 0.000066  \n",
      "Epoch: [4][1315/1316] Elapsed 6m 30s (remain 0m 0s) Loss: 0.1097(0.1250) Grad: 0.4040 LR: 0.000066  \n",
      "EVAL: [0/330] Elapsed 0m 0s (remain 4m 19s) Loss: 0.1291(0.1291) \n",
      "EVAL: [100/330] Elapsed 0m 10s (remain 0m 23s) Loss: 0.0524(0.0756) \n",
      "EVAL: [200/330] Elapsed 0m 19s (remain 0m 12s) Loss: 0.0945(0.0735) \n",
      "EVAL: [300/330] Elapsed 0m 28s (remain 0m 2s) Loss: 0.0933(0.0721) \n"
     ]
    },
    {
     "name": "stderr",
     "output_type": "stream",
     "text": [
      "Epoch 4 - avg_train_loss: 0.1250  avg_val_loss: 0.0728  time: 423s\n",
      "Epoch 4 - Accuracy: 0.8785117691723614\n",
      "Epoch 4 - Save Best Score: 0.8785 Model\n"
     ]
    },
    {
     "name": "stdout",
     "output_type": "stream",
     "text": [
      "EVAL: [329/330] Elapsed 0m 31s (remain 0m 0s) Loss: 0.1501(0.0728) \n",
      "Epoch: [5][0/1316] Elapsed 0m 1s (remain 25m 28s) Loss: 0.1205(0.1205) Grad: 0.3345 LR: 0.000066  \n",
      "Epoch: [5][100/1316] Elapsed 0m 30s (remain 6m 10s) Loss: 0.1856(0.1302) Grad: 0.5525 LR: 0.000065  \n",
      "Epoch: [5][200/1316] Elapsed 1m 0s (remain 5m 34s) Loss: 0.1046(0.1279) Grad: 0.2798 LR: 0.000064  \n",
      "Epoch: [5][300/1316] Elapsed 1m 29s (remain 5m 2s) Loss: 0.1619(0.1245) Grad: 0.2699 LR: 0.000063  \n",
      "Epoch: [5][400/1316] Elapsed 1m 59s (remain 4m 32s) Loss: 0.1215(0.1255) Grad: 0.1789 LR: 0.000062  \n",
      "Epoch: [5][500/1316] Elapsed 2m 29s (remain 4m 2s) Loss: 0.0623(0.1264) Grad: 0.1854 LR: 0.000061  \n",
      "Epoch: [5][600/1316] Elapsed 2m 58s (remain 3m 32s) Loss: 0.0580(0.1258) Grad: 0.3491 LR: 0.000059  \n",
      "Epoch: [5][700/1316] Elapsed 3m 28s (remain 3m 2s) Loss: 0.1113(0.1250) Grad: 0.3659 LR: 0.000058  \n",
      "Epoch: [5][800/1316] Elapsed 3m 57s (remain 2m 32s) Loss: 0.0966(0.1248) Grad: 0.2022 LR: 0.000057  \n",
      "Epoch: [5][900/1316] Elapsed 4m 27s (remain 2m 3s) Loss: 0.1831(0.1239) Grad: 0.2956 LR: 0.000056  \n",
      "Epoch: [5][1000/1316] Elapsed 4m 56s (remain 1m 33s) Loss: 0.1278(0.1231) Grad: 0.2760 LR: 0.000055  \n",
      "Epoch: [5][1100/1316] Elapsed 5m 26s (remain 1m 3s) Loss: 0.1896(0.1232) Grad: 0.4795 LR: 0.000054  \n",
      "Epoch: [5][1200/1316] Elapsed 5m 55s (remain 0m 34s) Loss: 0.1532(0.1226) Grad: 0.2743 LR: 0.000052  \n",
      "Epoch: [5][1300/1316] Elapsed 6m 25s (remain 0m 4s) Loss: 0.1825(0.1225) Grad: 0.3661 LR: 0.000051  \n",
      "Epoch: [5][1315/1316] Elapsed 6m 29s (remain 0m 0s) Loss: 0.1454(0.1224) Grad: 0.5433 LR: 0.000051  \n",
      "EVAL: [0/330] Elapsed 0m 0s (remain 4m 20s) Loss: 0.1236(0.1236) \n",
      "EVAL: [100/330] Elapsed 0m 10s (remain 0m 23s) Loss: 0.0534(0.0737) \n",
      "EVAL: [200/330] Elapsed 0m 19s (remain 0m 12s) Loss: 0.1071(0.0726) \n",
      "EVAL: [300/330] Elapsed 0m 28s (remain 0m 2s) Loss: 0.1161(0.0715) \n"
     ]
    },
    {
     "name": "stderr",
     "output_type": "stream",
     "text": [
      "Epoch 5 - avg_train_loss: 0.1224  avg_val_loss: 0.0722  time: 421s\n",
      "Epoch 5 - Accuracy: 0.8737661351556568\n"
     ]
    },
    {
     "name": "stdout",
     "output_type": "stream",
     "text": [
      "EVAL: [329/330] Elapsed 0m 31s (remain 0m 0s) Loss: 0.2496(0.0722) \n",
      "Epoch: [6][0/1316] Elapsed 0m 1s (remain 24m 58s) Loss: 0.1145(0.1145) Grad: 0.2936 LR: 0.000051  \n",
      "Epoch: [6][100/1316] Elapsed 0m 30s (remain 6m 9s) Loss: 0.1693(0.1264) Grad: 0.1579 LR: 0.000050  \n",
      "Epoch: [6][200/1316] Elapsed 1m 0s (remain 5m 33s) Loss: 0.0251(0.1255) Grad: 0.3345 LR: 0.000049  \n",
      "Epoch: [6][300/1316] Elapsed 1m 29s (remain 5m 2s) Loss: 0.1477(0.1220) Grad: 0.2828 LR: 0.000048  \n",
      "Epoch: [6][400/1316] Elapsed 1m 59s (remain 4m 32s) Loss: 0.0198(0.1198) Grad: 0.1800 LR: 0.000046  \n",
      "Epoch: [6][500/1316] Elapsed 2m 29s (remain 4m 2s) Loss: 0.2018(0.1191) Grad: 0.3386 LR: 0.000045  \n",
      "Epoch: [6][600/1316] Elapsed 2m 58s (remain 3m 32s) Loss: 0.1113(0.1183) Grad: 0.2086 LR: 0.000044  \n",
      "Epoch: [6][700/1316] Elapsed 3m 28s (remain 3m 2s) Loss: 0.1039(0.1171) Grad: 0.3615 LR: 0.000043  \n",
      "Epoch: [6][800/1316] Elapsed 3m 57s (remain 2m 32s) Loss: 0.1001(0.1180) Grad: 0.2412 LR: 0.000042  \n",
      "Epoch: [6][900/1316] Elapsed 4m 26s (remain 2m 2s) Loss: 0.1311(0.1189) Grad: 0.2439 LR: 0.000041  \n",
      "Epoch: [6][1000/1316] Elapsed 4m 56s (remain 1m 33s) Loss: 0.1457(0.1191) Grad: 0.4265 LR: 0.000039  \n",
      "Epoch: [6][1100/1316] Elapsed 5m 25s (remain 1m 3s) Loss: 0.0383(0.1191) Grad: 0.1671 LR: 0.000038  \n",
      "Epoch: [6][1200/1316] Elapsed 5m 54s (remain 0m 33s) Loss: 0.2180(0.1191) Grad: 0.3842 LR: 0.000037  \n",
      "Epoch: [6][1300/1316] Elapsed 6m 24s (remain 0m 4s) Loss: 0.0387(0.1194) Grad: 0.1790 LR: 0.000036  \n",
      "Epoch: [6][1315/1316] Elapsed 6m 28s (remain 0m 0s) Loss: 0.1775(0.1195) Grad: 0.4963 LR: 0.000036  \n",
      "EVAL: [0/330] Elapsed 0m 0s (remain 4m 25s) Loss: 0.1273(0.1273) \n",
      "EVAL: [100/330] Elapsed 0m 10s (remain 0m 22s) Loss: 0.0554(0.0729) \n",
      "EVAL: [200/330] Elapsed 0m 19s (remain 0m 12s) Loss: 0.1218(0.0711) \n",
      "EVAL: [300/330] Elapsed 0m 28s (remain 0m 2s) Loss: 0.1215(0.0700) \n"
     ]
    },
    {
     "name": "stderr",
     "output_type": "stream",
     "text": [
      "Epoch 6 - avg_train_loss: 0.1195  avg_val_loss: 0.0702  time: 420s\n",
      "Epoch 6 - Accuracy: 0.8787015945330297\n",
      "Epoch 6 - Save Best Score: 0.8787 Model\n"
     ]
    },
    {
     "name": "stdout",
     "output_type": "stream",
     "text": [
      "EVAL: [329/330] Elapsed 0m 30s (remain 0m 0s) Loss: 0.1658(0.0702) \n",
      "Epoch: [7][0/1316] Elapsed 0m 1s (remain 25m 34s) Loss: 0.1515(0.1515) Grad: 0.3249 LR: 0.000036  \n",
      "Epoch: [7][100/1316] Elapsed 0m 30s (remain 6m 5s) Loss: 0.0466(0.0824) Grad: 0.2120 LR: 0.000035  \n",
      "Epoch: [7][200/1316] Elapsed 0m 59s (remain 5m 29s) Loss: 0.1246(0.0882) Grad: 0.3913 LR: 0.000034  \n",
      "Epoch: [7][300/1316] Elapsed 1m 28s (remain 4m 58s) Loss: 0.0720(0.0886) Grad: 0.5792 LR: 0.000033  \n",
      "Epoch: [7][400/1316] Elapsed 1m 57s (remain 4m 28s) Loss: 0.0822(0.0887) Grad: 0.5478 LR: 0.000032  \n",
      "Epoch: [7][500/1316] Elapsed 2m 26s (remain 3m 58s) Loss: 0.0680(0.0865) Grad: 0.4421 LR: 0.000030  \n",
      "Epoch: [7][600/1316] Elapsed 2m 55s (remain 3m 29s) Loss: 0.0103(0.0874) Grad: 0.1951 LR: 0.000029  \n",
      "Epoch: [7][700/1316] Elapsed 3m 24s (remain 2m 59s) Loss: 0.0299(0.0870) Grad: 0.3965 LR: 0.000028  \n",
      "Epoch: [7][800/1316] Elapsed 3m 54s (remain 2m 30s) Loss: 0.1569(0.0863) Grad: 0.2447 LR: 0.000027  \n",
      "Epoch: [7][900/1316] Elapsed 4m 23s (remain 2m 1s) Loss: 0.0783(0.0865) Grad: 0.3331 LR: 0.000026  \n",
      "Epoch: [7][1000/1316] Elapsed 4m 52s (remain 1m 31s) Loss: 0.0733(0.0872) Grad: 0.5093 LR: 0.000025  \n",
      "Epoch: [7][1100/1316] Elapsed 5m 21s (remain 1m 2s) Loss: 0.0727(0.0870) Grad: 0.3451 LR: 0.000024  \n",
      "Epoch: [7][1200/1316] Elapsed 5m 50s (remain 0m 33s) Loss: 0.0647(0.0867) Grad: 0.3421 LR: 0.000023  \n",
      "Epoch: [7][1300/1316] Elapsed 6m 19s (remain 0m 4s) Loss: 0.2032(0.0868) Grad: 0.3889 LR: 0.000022  \n",
      "Epoch: [7][1315/1316] Elapsed 6m 23s (remain 0m 0s) Loss: 0.0607(0.0869) Grad: 0.4226 LR: 0.000022  \n",
      "EVAL: [0/330] Elapsed 0m 0s (remain 4m 8s) Loss: 0.1264(0.1264) \n",
      "EVAL: [100/330] Elapsed 0m 10s (remain 0m 22s) Loss: 0.0567(0.0718) \n",
      "EVAL: [200/330] Elapsed 0m 19s (remain 0m 12s) Loss: 0.1270(0.0719) \n",
      "EVAL: [300/330] Elapsed 0m 28s (remain 0m 2s) Loss: 0.1235(0.0709) \n"
     ]
    },
    {
     "name": "stderr",
     "output_type": "stream",
     "text": [
      "Epoch 7 - avg_train_loss: 0.0869  avg_val_loss: 0.0716  time: 415s\n",
      "Epoch 7 - Accuracy: 0.8802201974183751\n",
      "Epoch 7 - Save Best Score: 0.8802 Model\n"
     ]
    },
    {
     "name": "stdout",
     "output_type": "stream",
     "text": [
      "EVAL: [329/330] Elapsed 0m 30s (remain 0m 0s) Loss: 0.1437(0.0716) \n",
      "Epoch: [8][0/1316] Elapsed 0m 1s (remain 24m 10s) Loss: 0.0084(0.0084) Grad: 0.1289 LR: 0.000022  \n",
      "Epoch: [8][100/1316] Elapsed 0m 30s (remain 6m 4s) Loss: 0.0578(0.0928) Grad: 0.6008 LR: 0.000021  \n",
      "Epoch: [8][200/1316] Elapsed 0m 59s (remain 5m 28s) Loss: 0.0577(0.0864) Grad: 0.1549 LR: 0.000020  \n",
      "Epoch: [8][300/1316] Elapsed 1m 28s (remain 4m 57s) Loss: 0.1369(0.0839) Grad: 0.3428 LR: 0.000020  \n",
      "Epoch: [8][400/1316] Elapsed 1m 57s (remain 4m 27s) Loss: 0.2176(0.0835) Grad: 0.3693 LR: 0.000019  \n",
      "Epoch: [8][500/1316] Elapsed 2m 26s (remain 3m 57s) Loss: 0.0182(0.0837) Grad: 0.2678 LR: 0.000018  \n",
      "Epoch: [8][600/1316] Elapsed 2m 55s (remain 3m 28s) Loss: 0.2497(0.0863) Grad: 0.2575 LR: 0.000017  \n",
      "Epoch: [8][700/1316] Elapsed 3m 24s (remain 2m 59s) Loss: 0.0474(0.0860) Grad: 0.2975 LR: 0.000016  \n",
      "Epoch: [8][800/1316] Elapsed 3m 53s (remain 2m 29s) Loss: 0.0863(0.0856) Grad: 0.3137 LR: 0.000015  \n",
      "Epoch: [8][900/1316] Elapsed 4m 22s (remain 2m 0s) Loss: 0.0638(0.0853) Grad: 0.3679 LR: 0.000014  \n",
      "Epoch: [8][1000/1316] Elapsed 4m 50s (remain 1m 31s) Loss: 0.0141(0.0845) Grad: 0.2391 LR: 0.000014  \n",
      "Epoch: [8][1100/1316] Elapsed 5m 19s (remain 1m 2s) Loss: 0.1807(0.0844) Grad: 0.4671 LR: 0.000013  \n",
      "Epoch: [8][1200/1316] Elapsed 5m 48s (remain 0m 33s) Loss: 0.1189(0.0828) Grad: 0.2942 LR: 0.000012  \n",
      "Epoch: [8][1300/1316] Elapsed 6m 17s (remain 0m 4s) Loss: 0.0262(0.0821) Grad: 0.3067 LR: 0.000012  \n",
      "Epoch: [8][1315/1316] Elapsed 6m 22s (remain 0m 0s) Loss: 0.0198(0.0821) Grad: 0.2930 LR: 0.000011  \n",
      "EVAL: [0/330] Elapsed 0m 0s (remain 4m 24s) Loss: 0.1415(0.1415) \n",
      "EVAL: [100/330] Elapsed 0m 10s (remain 0m 22s) Loss: 0.0623(0.0728) \n",
      "EVAL: [200/330] Elapsed 0m 19s (remain 0m 12s) Loss: 0.1268(0.0706) \n",
      "EVAL: [300/330] Elapsed 0m 28s (remain 0m 2s) Loss: 0.1299(0.0697) \n"
     ]
    },
    {
     "name": "stderr",
     "output_type": "stream",
     "text": [
      "Epoch 8 - avg_train_loss: 0.0821  avg_val_loss: 0.0704  time: 413s\n",
      "Epoch 8 - Accuracy: 0.8813591495823843\n",
      "Epoch 8 - Save Best Score: 0.8814 Model\n"
     ]
    },
    {
     "name": "stdout",
     "output_type": "stream",
     "text": [
      "EVAL: [329/330] Elapsed 0m 30s (remain 0m 0s) Loss: 0.1501(0.0704) \n",
      "Epoch: [9][0/1316] Elapsed 0m 1s (remain 25m 14s) Loss: 0.0813(0.0813) Grad: 0.2993 LR: 0.000011  \n",
      "Epoch: [9][100/1316] Elapsed 0m 30s (remain 6m 4s) Loss: 0.0569(0.0763) Grad: 0.2445 LR: 0.000011  \n",
      "Epoch: [9][200/1316] Elapsed 0m 59s (remain 5m 27s) Loss: 0.0256(0.0788) Grad: 0.1924 LR: 0.000010  \n",
      "Epoch: [9][300/1316] Elapsed 1m 28s (remain 4m 57s) Loss: 0.1143(0.0794) Grad: 0.4793 LR: 0.000009  \n",
      "Epoch: [9][400/1316] Elapsed 1m 57s (remain 4m 27s) Loss: 0.0956(0.0784) Grad: 0.7019 LR: 0.000009  \n",
      "Epoch: [9][500/1316] Elapsed 2m 26s (remain 3m 57s) Loss: 0.2148(0.0794) Grad: 0.4088 LR: 0.000008  \n",
      "Epoch: [9][600/1316] Elapsed 2m 55s (remain 3m 28s) Loss: 0.2126(0.0792) Grad: 0.4287 LR: 0.000008  \n",
      "Epoch: [9][700/1316] Elapsed 3m 24s (remain 2m 59s) Loss: 0.0285(0.0788) Grad: 0.3012 LR: 0.000007  \n",
      "Epoch: [9][800/1316] Elapsed 3m 53s (remain 2m 30s) Loss: 0.0035(0.0787) Grad: 0.0745 LR: 0.000007  \n",
      "Epoch: [9][900/1316] Elapsed 4m 23s (remain 2m 1s) Loss: 0.0455(0.0779) Grad: 0.2660 LR: 0.000006  \n",
      "Epoch: [9][1000/1316] Elapsed 4m 52s (remain 1m 32s) Loss: 0.1101(0.0786) Grad: 0.4882 LR: 0.000006  \n",
      "Epoch: [9][1100/1316] Elapsed 5m 22s (remain 1m 2s) Loss: 0.0644(0.0787) Grad: 0.2184 LR: 0.000005  \n",
      "Epoch: [9][1200/1316] Elapsed 5m 51s (remain 0m 33s) Loss: 0.0890(0.0785) Grad: 0.3970 LR: 0.000005  \n",
      "Epoch: [9][1300/1316] Elapsed 6m 21s (remain 0m 4s) Loss: 0.0647(0.0791) Grad: 0.3314 LR: 0.000004  \n",
      "Epoch: [9][1315/1316] Elapsed 6m 25s (remain 0m 0s) Loss: 0.0695(0.0791) Grad: 0.4821 LR: 0.000004  \n",
      "EVAL: [0/330] Elapsed 0m 0s (remain 4m 20s) Loss: 0.1242(0.1242) \n",
      "EVAL: [100/330] Elapsed 0m 10s (remain 0m 23s) Loss: 0.0599(0.0708) \n",
      "EVAL: [200/330] Elapsed 0m 19s (remain 0m 12s) Loss: 0.1124(0.0689) \n",
      "EVAL: [300/330] Elapsed 0m 29s (remain 0m 2s) Loss: 0.1204(0.0682) \n"
     ]
    },
    {
     "name": "stderr",
     "output_type": "stream",
     "text": [
      "Epoch 9 - avg_train_loss: 0.0791  avg_val_loss: 0.0685  time: 418s\n",
      "Epoch 9 - Accuracy: 0.8836370539104025\n",
      "Epoch 9 - Save Best Score: 0.8836 Model\n"
     ]
    },
    {
     "name": "stdout",
     "output_type": "stream",
     "text": [
      "EVAL: [329/330] Elapsed 0m 31s (remain 0m 0s) Loss: 0.1833(0.0685) \n",
      "Epoch: [10][0/1316] Elapsed 0m 1s (remain 23m 42s) Loss: 0.0502(0.0502) Grad: 0.2274 LR: 0.000004  \n",
      "Epoch: [10][100/1316] Elapsed 0m 29s (remain 5m 57s) Loss: 0.0914(0.0354) Grad: 0.3171 LR: 0.000004  \n",
      "Epoch: [10][200/1316] Elapsed 0m 58s (remain 5m 24s) Loss: 0.0708(0.0320) Grad: 0.8493 LR: 0.000004  \n",
      "Epoch: [10][300/1316] Elapsed 1m 27s (remain 4m 54s) Loss: 0.0041(0.0314) Grad: 0.0841 LR: 0.000003  \n",
      "Epoch: [10][400/1316] Elapsed 1m 56s (remain 4m 25s) Loss: 0.0415(0.0299) Grad: 0.1948 LR: 0.000003  \n",
      "Epoch: [10][500/1316] Elapsed 2m 25s (remain 3m 55s) Loss: 0.0523(0.0301) Grad: 0.1838 LR: 0.000003  \n",
      "Epoch: [10][600/1316] Elapsed 2m 53s (remain 3m 26s) Loss: 0.0485(0.0304) Grad: 0.3507 LR: 0.000003  \n",
      "Epoch: [10][700/1316] Elapsed 3m 22s (remain 2m 57s) Loss: 0.0217(0.0301) Grad: 0.3630 LR: 0.000003  \n",
      "Epoch: [10][800/1316] Elapsed 3m 50s (remain 2m 28s) Loss: 0.0495(0.0301) Grad: 0.2497 LR: 0.000002  \n",
      "Epoch: [10][900/1316] Elapsed 4m 19s (remain 1m 59s) Loss: 0.0276(0.0303) Grad: 0.2319 LR: 0.000002  \n",
      "Epoch: [10][1000/1316] Elapsed 4m 48s (remain 1m 30s) Loss: 0.0457(0.0305) Grad: 0.3000 LR: 0.000002  \n",
      "Epoch: [10][1100/1316] Elapsed 5m 16s (remain 1m 1s) Loss: 0.0531(0.0303) Grad: 0.4847 LR: 0.000002  \n",
      "Epoch: [10][1200/1316] Elapsed 5m 45s (remain 0m 33s) Loss: 0.0184(0.0299) Grad: 0.2971 LR: 0.000002  \n",
      "Epoch: [10][1300/1316] Elapsed 6m 13s (remain 0m 4s) Loss: 0.0017(0.0297) Grad: 0.0366 LR: 0.000002  \n",
      "Epoch: [10][1315/1316] Elapsed 6m 17s (remain 0m 0s) Loss: 0.0014(0.0298) Grad: 0.1611 LR: 0.000002  \n",
      "EVAL: [0/330] Elapsed 0m 0s (remain 4m 6s) Loss: 0.1328(0.1328) \n",
      "EVAL: [100/330] Elapsed 0m 10s (remain 0m 23s) Loss: 0.0531(0.0710) \n",
      "EVAL: [200/330] Elapsed 0m 19s (remain 0m 12s) Loss: 0.1226(0.0689) \n",
      "EVAL: [300/330] Elapsed 0m 28s (remain 0m 2s) Loss: 0.1163(0.0686) \n"
     ]
    },
    {
     "name": "stderr",
     "output_type": "stream",
     "text": [
      "Epoch 10 - avg_train_loss: 0.0298  avg_val_loss: 0.0687  time: 409s\n",
      "Epoch 10 - Accuracy: 0.8857251328777525\n",
      "Epoch 10 - Save Best Score: 0.8857 Model\n"
     ]
    },
    {
     "name": "stdout",
     "output_type": "stream",
     "text": [
      "EVAL: [329/330] Elapsed 0m 31s (remain 0m 0s) Loss: 0.1591(0.0687) \n"
     ]
    },
    {
     "name": "stderr",
     "output_type": "stream",
     "text": [
      "Epoch 10 - Save final model\n",
      "========== fold: 1 result ==========\n",
      "Score: 0.88573\n",
      "========== fold: 2 training ==========\n"
     ]
    },
    {
     "name": "stdout",
     "output_type": "stream",
     "text": [
      "Epoch: [1][0/1316] Elapsed 0m 1s (remain 21m 56s) Loss: 0.3502(0.3502) Grad: 1.5674 LR: 0.000100  \n",
      "Epoch: [1][100/1316] Elapsed 0m 30s (remain 6m 5s) Loss: 0.1129(0.1630) Grad: 0.5336 LR: 0.000100  \n",
      "Epoch: [1][200/1316] Elapsed 0m 59s (remain 5m 31s) Loss: 0.0570(0.1322) Grad: 0.3947 LR: 0.000100  \n",
      "Epoch: [1][300/1316] Elapsed 1m 29s (remain 5m 0s) Loss: 0.0921(0.1191) Grad: 0.8923 LR: 0.000100  \n",
      "Epoch: [1][400/1316] Elapsed 1m 58s (remain 4m 29s) Loss: 0.0831(0.1131) Grad: 0.5532 LR: 0.000100  \n",
      "Epoch: [1][500/1316] Elapsed 2m 27s (remain 4m 0s) Loss: 0.0293(0.1107) Grad: 0.3575 LR: 0.000100  \n",
      "Epoch: [1][600/1316] Elapsed 2m 56s (remain 3m 30s) Loss: 0.0526(0.1068) Grad: 0.6075 LR: 0.000099  \n",
      "Epoch: [1][700/1316] Elapsed 3m 26s (remain 3m 0s) Loss: 0.0325(0.1038) Grad: 0.2935 LR: 0.000099  \n",
      "Epoch: [1][800/1316] Elapsed 3m 55s (remain 2m 31s) Loss: 0.1387(0.1004) Grad: 0.9193 LR: 0.000099  \n",
      "Epoch: [1][900/1316] Elapsed 4m 24s (remain 2m 2s) Loss: 0.0592(0.0992) Grad: 0.3632 LR: 0.000099  \n",
      "Epoch: [1][1000/1316] Elapsed 4m 54s (remain 1m 32s) Loss: 0.0793(0.0975) Grad: 0.3564 LR: 0.000099  \n",
      "Epoch: [1][1100/1316] Elapsed 5m 23s (remain 1m 3s) Loss: 0.0798(0.0958) Grad: 0.5157 LR: 0.000098  \n",
      "Epoch: [1][1200/1316] Elapsed 5m 52s (remain 0m 33s) Loss: 0.1101(0.0951) Grad: 0.7652 LR: 0.000098  \n",
      "Epoch: [1][1300/1316] Elapsed 6m 21s (remain 0m 4s) Loss: 0.1102(0.0938) Grad: 0.4663 LR: 0.000098  \n",
      "Epoch: [1][1315/1316] Elapsed 6m 26s (remain 0m 0s) Loss: 0.0489(0.0937) Grad: 0.4973 LR: 0.000098  \n",
      "EVAL: [0/330] Elapsed 0m 0s (remain 4m 23s) Loss: 0.0911(0.0911) \n",
      "EVAL: [100/330] Elapsed 0m 10s (remain 0m 23s) Loss: 0.0455(0.0787) \n",
      "EVAL: [200/330] Elapsed 0m 19s (remain 0m 12s) Loss: 0.0931(0.0785) \n",
      "EVAL: [300/330] Elapsed 0m 28s (remain 0m 2s) Loss: 0.0269(0.0764) \n"
     ]
    },
    {
     "name": "stderr",
     "output_type": "stream",
     "text": [
      "Epoch 1 - avg_train_loss: 0.0937  avg_val_loss: 0.0768  time: 418s\n",
      "Epoch 1 - Accuracy: 0.8708942471995443\n",
      "Epoch 1 - Save Best Score: 0.8709 Model\n"
     ]
    },
    {
     "name": "stdout",
     "output_type": "stream",
     "text": [
      "EVAL: [329/330] Elapsed 0m 31s (remain 0m 0s) Loss: 0.1557(0.0768) \n",
      "Epoch: [2][0/1316] Elapsed 0m 1s (remain 22m 21s) Loss: 0.0511(0.0511) Grad: 0.1941 LR: 0.000098  \n",
      "Epoch: [2][100/1316] Elapsed 0m 30s (remain 6m 4s) Loss: 0.0073(0.0535) Grad: 0.1417 LR: 0.000097  \n",
      "Epoch: [2][200/1316] Elapsed 0m 59s (remain 5m 30s) Loss: 0.0756(0.0562) Grad: 0.4073 LR: 0.000097  \n",
      "Epoch: [2][300/1316] Elapsed 1m 28s (remain 4m 59s) Loss: 0.0566(0.0580) Grad: 0.2191 LR: 0.000096  \n",
      "Epoch: [2][400/1316] Elapsed 1m 58s (remain 4m 29s) Loss: 0.0074(0.0603) Grad: 0.1665 LR: 0.000096  \n",
      "Epoch: [2][500/1316] Elapsed 2m 27s (remain 3m 59s) Loss: 0.0558(0.0605) Grad: 0.3246 LR: 0.000095  \n",
      "Epoch: [2][600/1316] Elapsed 2m 56s (remain 3m 29s) Loss: 0.0534(0.0609) Grad: 0.4327 LR: 0.000095  \n",
      "Epoch: [2][700/1316] Elapsed 3m 25s (remain 3m 0s) Loss: 0.1029(0.0610) Grad: 0.8566 LR: 0.000094  \n",
      "Epoch: [2][800/1316] Elapsed 3m 54s (remain 2m 31s) Loss: 0.0197(0.0616) Grad: 0.3299 LR: 0.000094  \n",
      "Epoch: [2][900/1316] Elapsed 4m 24s (remain 2m 1s) Loss: 0.0431(0.0614) Grad: 0.1817 LR: 0.000093  \n",
      "Epoch: [2][1000/1316] Elapsed 4m 53s (remain 1m 32s) Loss: 0.0578(0.0620) Grad: 0.3101 LR: 0.000093  \n",
      "Epoch: [2][1100/1316] Elapsed 5m 22s (remain 1m 2s) Loss: 0.0433(0.0621) Grad: 0.3155 LR: 0.000092  \n",
      "Epoch: [2][1200/1316] Elapsed 5m 51s (remain 0m 33s) Loss: 0.1300(0.0620) Grad: 0.4736 LR: 0.000091  \n",
      "Epoch: [2][1300/1316] Elapsed 6m 21s (remain 0m 4s) Loss: 0.0902(0.0625) Grad: 0.5399 LR: 0.000091  \n",
      "Epoch: [2][1315/1316] Elapsed 6m 25s (remain 0m 0s) Loss: 0.0504(0.0624) Grad: 0.5793 LR: 0.000091  \n",
      "EVAL: [0/330] Elapsed 0m 0s (remain 4m 20s) Loss: 0.1179(0.1179) \n",
      "EVAL: [100/330] Elapsed 0m 10s (remain 0m 22s) Loss: 0.0141(0.0795) \n",
      "EVAL: [200/330] Elapsed 0m 19s (remain 0m 12s) Loss: 0.0767(0.0800) \n",
      "EVAL: [300/330] Elapsed 0m 28s (remain 0m 2s) Loss: 0.0960(0.0795) \n"
     ]
    },
    {
     "name": "stderr",
     "output_type": "stream",
     "text": [
      "Epoch 2 - avg_train_loss: 0.0624  avg_val_loss: 0.0798  time: 417s\n",
      "Epoch 2 - Accuracy: 0.8632997911524587\n"
     ]
    },
    {
     "name": "stdout",
     "output_type": "stream",
     "text": [
      "EVAL: [329/330] Elapsed 0m 31s (remain 0m 0s) Loss: 0.2442(0.0798) \n",
      "Epoch: [3][0/1316] Elapsed 0m 1s (remain 23m 58s) Loss: 0.0850(0.0850) Grad: 0.3972 LR: 0.000091  \n",
      "Epoch: [3][100/1316] Elapsed 0m 31s (remain 6m 14s) Loss: 0.1982(0.1573) Grad: 0.2330 LR: 0.000090  \n",
      "Epoch: [3][200/1316] Elapsed 1m 1s (remain 5m 39s) Loss: 0.1080(0.1510) Grad: 0.7524 LR: 0.000089  \n",
      "Epoch: [3][300/1316] Elapsed 1m 31s (remain 5m 7s) Loss: 0.1047(0.1459) Grad: 0.3631 LR: 0.000088  \n",
      "Epoch: [3][400/1316] Elapsed 2m 1s (remain 4m 36s) Loss: 0.2325(0.1417) Grad: 0.4415 LR: 0.000088  \n",
      "Epoch: [3][500/1316] Elapsed 2m 31s (remain 4m 6s) Loss: 0.0737(0.1386) Grad: 0.2725 LR: 0.000087  \n",
      "Epoch: [3][600/1316] Elapsed 3m 1s (remain 3m 35s) Loss: 0.1048(0.1376) Grad: 0.5473 LR: 0.000086  \n",
      "Epoch: [3][700/1316] Elapsed 3m 31s (remain 3m 5s) Loss: 0.2182(0.1362) Grad: 0.2940 LR: 0.000085  \n",
      "Epoch: [3][800/1316] Elapsed 4m 1s (remain 2m 35s) Loss: 0.1634(0.1348) Grad: 0.3729 LR: 0.000084  \n",
      "Epoch: [3][900/1316] Elapsed 4m 31s (remain 2m 5s) Loss: 0.0906(0.1340) Grad: 0.6660 LR: 0.000084  \n",
      "Epoch: [3][1000/1316] Elapsed 5m 1s (remain 1m 34s) Loss: 0.0683(0.1338) Grad: 0.3226 LR: 0.000083  \n",
      "Epoch: [3][1100/1316] Elapsed 5m 32s (remain 1m 4s) Loss: 0.1160(0.1333) Grad: 0.5055 LR: 0.000082  \n",
      "Epoch: [3][1200/1316] Elapsed 6m 2s (remain 0m 34s) Loss: 0.1135(0.1326) Grad: 0.2376 LR: 0.000081  \n",
      "Epoch: [3][1300/1316] Elapsed 6m 32s (remain 0m 4s) Loss: 0.1894(0.1326) Grad: 0.2070 LR: 0.000080  \n",
      "Epoch: [3][1315/1316] Elapsed 6m 36s (remain 0m 0s) Loss: 0.0817(0.1325) Grad: 0.4807 LR: 0.000080  \n",
      "EVAL: [0/330] Elapsed 0m 0s (remain 4m 30s) Loss: 0.0729(0.0729) \n",
      "EVAL: [100/330] Elapsed 0m 10s (remain 0m 23s) Loss: 0.0351(0.0697) \n",
      "EVAL: [200/330] Elapsed 0m 19s (remain 0m 12s) Loss: 0.1016(0.0711) \n",
      "EVAL: [300/330] Elapsed 0m 28s (remain 0m 2s) Loss: 0.0410(0.0697) \n"
     ]
    },
    {
     "name": "stderr",
     "output_type": "stream",
     "text": [
      "Epoch 3 - avg_train_loss: 0.1325  avg_val_loss: 0.0709  time: 428s\n",
      "Epoch 3 - Accuracy: 0.8786785646478071\n",
      "Epoch 3 - Save Best Score: 0.8787 Model\n"
     ]
    },
    {
     "name": "stdout",
     "output_type": "stream",
     "text": [
      "EVAL: [329/330] Elapsed 0m 31s (remain 0m 0s) Loss: 0.1766(0.0709) \n",
      "Epoch: [4][0/1316] Elapsed 0m 1s (remain 24m 16s) Loss: 0.1486(0.1486) Grad: 0.1742 LR: 0.000080  \n",
      "Epoch: [4][100/1316] Elapsed 0m 31s (remain 6m 15s) Loss: 0.0953(0.1255) Grad: 0.2014 LR: 0.000079  \n",
      "Epoch: [4][200/1316] Elapsed 1m 1s (remain 5m 40s) Loss: 0.1086(0.1273) Grad: 0.5497 LR: 0.000078  \n",
      "Epoch: [4][300/1316] Elapsed 1m 31s (remain 5m 9s) Loss: 0.1175(0.1271) Grad: 0.1709 LR: 0.000077  \n",
      "Epoch: [4][400/1316] Elapsed 2m 2s (remain 4m 38s) Loss: 0.0647(0.1248) Grad: 0.6161 LR: 0.000076  \n",
      "Epoch: [4][500/1316] Elapsed 2m 32s (remain 4m 8s) Loss: 0.1709(0.1283) Grad: 0.5220 LR: 0.000075  \n",
      "Epoch: [4][600/1316] Elapsed 3m 3s (remain 3m 38s) Loss: 0.0727(0.1276) Grad: 0.3683 LR: 0.000074  \n",
      "Epoch: [4][700/1316] Elapsed 3m 34s (remain 3m 7s) Loss: 0.2010(0.1279) Grad: 0.4525 LR: 0.000073  \n",
      "Epoch: [4][800/1316] Elapsed 4m 4s (remain 2m 37s) Loss: 0.1022(0.1270) Grad: 0.3610 LR: 0.000072  \n",
      "Epoch: [4][900/1316] Elapsed 4m 35s (remain 2m 6s) Loss: 0.1573(0.1286) Grad: 0.1525 LR: 0.000071  \n",
      "Epoch: [4][1000/1316] Elapsed 5m 6s (remain 1m 36s) Loss: 0.1742(0.1277) Grad: 0.2802 LR: 0.000070  \n",
      "Epoch: [4][1100/1316] Elapsed 5m 36s (remain 1m 5s) Loss: 0.1875(0.1280) Grad: 0.3363 LR: 0.000069  \n",
      "Epoch: [4][1200/1316] Elapsed 6m 7s (remain 0m 35s) Loss: 0.0415(0.1275) Grad: 0.3275 LR: 0.000067  \n",
      "Epoch: [4][1300/1316] Elapsed 6m 37s (remain 0m 4s) Loss: 0.0198(0.1267) Grad: 0.1548 LR: 0.000066  \n",
      "Epoch: [4][1315/1316] Elapsed 6m 42s (remain 0m 0s) Loss: 0.0741(0.1264) Grad: 0.3873 LR: 0.000066  \n",
      "EVAL: [0/330] Elapsed 0m 0s (remain 4m 42s) Loss: 0.0803(0.0803) \n",
      "EVAL: [100/330] Elapsed 0m 10s (remain 0m 23s) Loss: 0.0086(0.0702) \n",
      "EVAL: [200/330] Elapsed 0m 19s (remain 0m 12s) Loss: 0.1057(0.0702) \n",
      "EVAL: [300/330] Elapsed 0m 29s (remain 0m 2s) Loss: 0.0456(0.0699) \n"
     ]
    },
    {
     "name": "stderr",
     "output_type": "stream",
     "text": [
      "Epoch 4 - avg_train_loss: 0.1264  avg_val_loss: 0.0713  time: 434s\n",
      "Epoch 4 - Accuracy: 0.8788684260489843\n",
      "Epoch 4 - Save Best Score: 0.8789 Model\n"
     ]
    },
    {
     "name": "stdout",
     "output_type": "stream",
     "text": [
      "EVAL: [329/330] Elapsed 0m 31s (remain 0m 0s) Loss: 0.2430(0.0713) \n",
      "Epoch: [5][0/1316] Elapsed 0m 1s (remain 25m 54s) Loss: 0.1384(0.1384) Grad: 0.3855 LR: 0.000066  \n",
      "Epoch: [5][100/1316] Elapsed 0m 31s (remain 6m 20s) Loss: 0.1743(0.1208) Grad: 0.3210 LR: 0.000065  \n",
      "Epoch: [5][200/1316] Elapsed 1m 1s (remain 5m 43s) Loss: 0.0851(0.1279) Grad: 0.1459 LR: 0.000064  \n",
      "Epoch: [5][300/1316] Elapsed 1m 31s (remain 5m 9s) Loss: 0.0720(0.1273) Grad: 0.2458 LR: 0.000063  \n",
      "Epoch: [5][400/1316] Elapsed 2m 1s (remain 4m 37s) Loss: 0.0855(0.1251) Grad: 0.4899 LR: 0.000062  \n",
      "Epoch: [5][500/1316] Elapsed 2m 31s (remain 4m 6s) Loss: 0.0496(0.1262) Grad: 0.1325 LR: 0.000061  \n",
      "Epoch: [5][600/1316] Elapsed 3m 1s (remain 3m 35s) Loss: 0.1130(0.1263) Grad: 0.4221 LR: 0.000059  \n",
      "Epoch: [5][700/1316] Elapsed 3m 31s (remain 3m 5s) Loss: 0.0147(0.1245) Grad: 0.2386 LR: 0.000058  \n",
      "Epoch: [5][800/1316] Elapsed 4m 1s (remain 2m 35s) Loss: 0.0905(0.1253) Grad: 0.2600 LR: 0.000057  \n",
      "Epoch: [5][900/1316] Elapsed 4m 31s (remain 2m 4s) Loss: 0.0439(0.1256) Grad: 0.3264 LR: 0.000056  \n",
      "Epoch: [5][1000/1316] Elapsed 5m 1s (remain 1m 34s) Loss: 0.1264(0.1240) Grad: 0.3719 LR: 0.000055  \n",
      "Epoch: [5][1100/1316] Elapsed 5m 31s (remain 1m 4s) Loss: 0.1874(0.1238) Grad: 0.3343 LR: 0.000054  \n",
      "Epoch: [5][1200/1316] Elapsed 6m 0s (remain 0m 34s) Loss: 0.1367(0.1232) Grad: 0.3678 LR: 0.000052  \n",
      "Epoch: [5][1300/1316] Elapsed 6m 30s (remain 0m 4s) Loss: 0.1254(0.1227) Grad: 0.2609 LR: 0.000051  \n",
      "Epoch: [5][1315/1316] Elapsed 6m 35s (remain 0m 0s) Loss: 0.1029(0.1227) Grad: 0.5773 LR: 0.000051  \n",
      "EVAL: [0/330] Elapsed 0m 0s (remain 4m 5s) Loss: 0.0759(0.0759) \n",
      "EVAL: [100/330] Elapsed 0m 10s (remain 0m 22s) Loss: 0.0135(0.0707) \n",
      "EVAL: [200/330] Elapsed 0m 19s (remain 0m 12s) Loss: 0.0934(0.0705) \n",
      "EVAL: [300/330] Elapsed 0m 28s (remain 0m 2s) Loss: 0.0387(0.0693) \n"
     ]
    },
    {
     "name": "stderr",
     "output_type": "stream",
     "text": [
      "Epoch 5 - avg_train_loss: 0.1227  avg_val_loss: 0.0703  time: 426s\n",
      "Epoch 5 - Accuracy: 0.8803873172584014\n",
      "Epoch 5 - Save Best Score: 0.8804 Model\n"
     ]
    },
    {
     "name": "stdout",
     "output_type": "stream",
     "text": [
      "EVAL: [329/330] Elapsed 0m 31s (remain 0m 0s) Loss: 0.1796(0.0703) \n",
      "Epoch: [6][0/1316] Elapsed 0m 1s (remain 24m 56s) Loss: 0.1884(0.1884) Grad: 0.3291 LR: 0.000051  \n",
      "Epoch: [6][100/1316] Elapsed 0m 31s (remain 6m 15s) Loss: 0.1098(0.1266) Grad: 0.2408 LR: 0.000050  \n",
      "Epoch: [6][200/1316] Elapsed 1m 0s (remain 5m 38s) Loss: 0.0941(0.1209) Grad: 0.4568 LR: 0.000049  \n",
      "Epoch: [6][300/1316] Elapsed 1m 30s (remain 5m 5s) Loss: 0.0506(0.1201) Grad: 0.2968 LR: 0.000048  \n",
      "Epoch: [6][400/1316] Elapsed 2m 0s (remain 4m 34s) Loss: 0.1168(0.1197) Grad: 0.3980 LR: 0.000046  \n",
      "Epoch: [6][500/1316] Elapsed 2m 29s (remain 4m 3s) Loss: 0.1785(0.1209) Grad: 0.4035 LR: 0.000045  \n",
      "Epoch: [6][600/1316] Elapsed 2m 59s (remain 3m 33s) Loss: 0.0850(0.1197) Grad: 0.3459 LR: 0.000044  \n",
      "Epoch: [6][700/1316] Elapsed 3m 29s (remain 3m 3s) Loss: 0.0433(0.1189) Grad: 0.1195 LR: 0.000043  \n",
      "Epoch: [6][800/1316] Elapsed 3m 59s (remain 2m 33s) Loss: 0.1317(0.1189) Grad: 0.1423 LR: 0.000042  \n",
      "Epoch: [6][900/1316] Elapsed 4m 29s (remain 2m 4s) Loss: 0.1269(0.1197) Grad: 0.2409 LR: 0.000041  \n",
      "Epoch: [6][1000/1316] Elapsed 4m 59s (remain 1m 34s) Loss: 0.0885(0.1196) Grad: 0.1824 LR: 0.000039  \n",
      "Epoch: [6][1100/1316] Elapsed 5m 29s (remain 1m 4s) Loss: 0.0865(0.1189) Grad: 0.3172 LR: 0.000038  \n",
      "Epoch: [6][1200/1316] Elapsed 5m 59s (remain 0m 34s) Loss: 0.0521(0.1188) Grad: 0.2404 LR: 0.000037  \n",
      "Epoch: [6][1300/1316] Elapsed 6m 30s (remain 0m 4s) Loss: 0.1003(0.1184) Grad: 0.3331 LR: 0.000036  \n",
      "Epoch: [6][1315/1316] Elapsed 6m 34s (remain 0m 0s) Loss: 0.0549(0.1184) Grad: 0.3464 LR: 0.000036  \n",
      "EVAL: [0/330] Elapsed 0m 0s (remain 4m 12s) Loss: 0.0777(0.0777) \n",
      "EVAL: [100/330] Elapsed 0m 10s (remain 0m 23s) Loss: 0.0159(0.0671) \n",
      "EVAL: [200/330] Elapsed 0m 19s (remain 0m 12s) Loss: 0.0920(0.0687) \n",
      "EVAL: [300/330] Elapsed 0m 28s (remain 0m 2s) Loss: 0.0318(0.0678) \n"
     ]
    },
    {
     "name": "stderr",
     "output_type": "stream",
     "text": [
      "Epoch 6 - avg_train_loss: 0.1184  avg_val_loss: 0.0692  time: 426s\n",
      "Epoch 6 - Accuracy: 0.8822859312701727\n",
      "Epoch 6 - Save Best Score: 0.8823 Model\n"
     ]
    },
    {
     "name": "stdout",
     "output_type": "stream",
     "text": [
      "EVAL: [329/330] Elapsed 0m 31s (remain 0m 0s) Loss: 0.1141(0.0692) \n",
      "Epoch: [7][0/1316] Elapsed 0m 1s (remain 25m 48s) Loss: 0.0800(0.0800) Grad: 0.4699 LR: 0.000036  \n",
      "Epoch: [7][100/1316] Elapsed 0m 31s (remain 6m 12s) Loss: 0.0534(0.0835) Grad: 0.3598 LR: 0.000035  \n",
      "Epoch: [7][200/1316] Elapsed 1m 1s (remain 5m 38s) Loss: 0.1217(0.0851) Grad: 0.3691 LR: 0.000034  \n",
      "Epoch: [7][300/1316] Elapsed 1m 31s (remain 5m 7s) Loss: 0.0487(0.0847) Grad: 0.3916 LR: 0.000033  \n",
      "Epoch: [7][400/1316] Elapsed 2m 1s (remain 4m 37s) Loss: 0.1181(0.0852) Grad: 0.2829 LR: 0.000032  \n",
      "Epoch: [7][500/1316] Elapsed 2m 31s (remain 4m 6s) Loss: 0.0831(0.0865) Grad: 0.2352 LR: 0.000030  \n",
      "Epoch: [7][600/1316] Elapsed 3m 1s (remain 3m 36s) Loss: 0.2169(0.0876) Grad: 0.3384 LR: 0.000029  \n",
      "Epoch: [7][700/1316] Elapsed 3m 32s (remain 3m 6s) Loss: 0.0632(0.0870) Grad: 0.2552 LR: 0.000028  \n",
      "Epoch: [7][800/1316] Elapsed 4m 2s (remain 2m 36s) Loss: 0.0798(0.0863) Grad: 0.5186 LR: 0.000027  \n",
      "Epoch: [7][900/1316] Elapsed 4m 32s (remain 2m 5s) Loss: 0.0956(0.0871) Grad: 0.4037 LR: 0.000026  \n",
      "Epoch: [7][1000/1316] Elapsed 5m 2s (remain 1m 35s) Loss: 0.0664(0.0873) Grad: 0.4909 LR: 0.000025  \n",
      "Epoch: [7][1100/1316] Elapsed 5m 32s (remain 1m 5s) Loss: 0.1539(0.0864) Grad: 0.4642 LR: 0.000024  \n",
      "Epoch: [7][1200/1316] Elapsed 6m 3s (remain 0m 34s) Loss: 0.1547(0.0868) Grad: 0.3778 LR: 0.000023  \n",
      "Epoch: [7][1300/1316] Elapsed 6m 33s (remain 0m 4s) Loss: 0.1852(0.0876) Grad: 0.3301 LR: 0.000022  \n",
      "Epoch: [7][1315/1316] Elapsed 6m 38s (remain 0m 0s) Loss: 0.1292(0.0875) Grad: 0.6111 LR: 0.000022  \n",
      "EVAL: [0/330] Elapsed 0m 0s (remain 4m 24s) Loss: 0.0734(0.0734) \n",
      "EVAL: [100/330] Elapsed 0m 10s (remain 0m 23s) Loss: 0.0441(0.0631) \n",
      "EVAL: [200/330] Elapsed 0m 20s (remain 0m 12s) Loss: 0.0881(0.0656) \n",
      "EVAL: [300/330] Elapsed 0m 29s (remain 0m 2s) Loss: 0.0234(0.0648) \n"
     ]
    },
    {
     "name": "stderr",
     "output_type": "stream",
     "text": [
      "Epoch 7 - avg_train_loss: 0.0875  avg_val_loss: 0.0658  time: 430s\n",
      "Epoch 7 - Accuracy: 0.8855135750901841\n",
      "Epoch 7 - Save Best Score: 0.8855 Model\n"
     ]
    },
    {
     "name": "stdout",
     "output_type": "stream",
     "text": [
      "EVAL: [329/330] Elapsed 0m 31s (remain 0m 0s) Loss: 0.0514(0.0658) \n",
      "Epoch: [8][0/1316] Elapsed 0m 1s (remain 24m 43s) Loss: 0.0415(0.0415) Grad: 0.6152 LR: 0.000022  \n",
      "Epoch: [8][100/1316] Elapsed 0m 31s (remain 6m 21s) Loss: 0.1461(0.0829) Grad: 0.3630 LR: 0.000021  \n",
      "Epoch: [8][200/1316] Elapsed 1m 1s (remain 5m 42s) Loss: 0.0117(0.0785) Grad: 0.2633 LR: 0.000020  \n",
      "Epoch: [8][300/1316] Elapsed 1m 31s (remain 5m 8s) Loss: 0.0338(0.0813) Grad: 0.2328 LR: 0.000020  \n",
      "Epoch: [8][400/1316] Elapsed 2m 1s (remain 4m 36s) Loss: 0.1719(0.0843) Grad: 0.3341 LR: 0.000019  \n",
      "Epoch: [8][500/1316] Elapsed 2m 30s (remain 4m 5s) Loss: 0.1787(0.0844) Grad: 0.3091 LR: 0.000018  \n",
      "Epoch: [8][600/1316] Elapsed 3m 0s (remain 3m 34s) Loss: 0.0079(0.0846) Grad: 0.1448 LR: 0.000017  \n",
      "Epoch: [8][700/1316] Elapsed 3m 30s (remain 3m 4s) Loss: 0.1372(0.0848) Grad: 0.2812 LR: 0.000016  \n",
      "Epoch: [8][800/1316] Elapsed 3m 59s (remain 2m 34s) Loss: 0.2613(0.0850) Grad: 0.5991 LR: 0.000015  \n",
      "Epoch: [8][900/1316] Elapsed 4m 29s (remain 2m 4s) Loss: 0.0510(0.0851) Grad: 0.1272 LR: 0.000014  \n",
      "Epoch: [8][1000/1316] Elapsed 4m 59s (remain 1m 34s) Loss: 0.0897(0.0853) Grad: 0.2535 LR: 0.000014  \n",
      "Epoch: [8][1100/1316] Elapsed 5m 28s (remain 1m 4s) Loss: 0.0168(0.0851) Grad: 0.2223 LR: 0.000013  \n",
      "Epoch: [8][1200/1316] Elapsed 5m 58s (remain 0m 34s) Loss: 0.1821(0.0853) Grad: 0.2989 LR: 0.000012  \n",
      "Epoch: [8][1300/1316] Elapsed 6m 28s (remain 0m 4s) Loss: 0.1205(0.0855) Grad: 0.4663 LR: 0.000012  \n",
      "Epoch: [8][1315/1316] Elapsed 6m 32s (remain 0m 0s) Loss: 0.0126(0.0853) Grad: 0.3305 LR: 0.000011  \n",
      "EVAL: [0/330] Elapsed 0m 0s (remain 4m 21s) Loss: 0.0673(0.0673) \n",
      "EVAL: [100/330] Elapsed 0m 10s (remain 0m 23s) Loss: 0.0208(0.0649) \n",
      "EVAL: [200/330] Elapsed 0m 19s (remain 0m 12s) Loss: 0.1030(0.0661) \n",
      "EVAL: [300/330] Elapsed 0m 28s (remain 0m 2s) Loss: 0.0405(0.0646) \n"
     ]
    },
    {
     "name": "stderr",
     "output_type": "stream",
     "text": [
      "Epoch 8 - avg_train_loss: 0.0853  avg_val_loss: 0.0656  time: 424s\n",
      "Epoch 8 - Accuracy: 0.886652743497247\n",
      "Epoch 8 - Save Best Score: 0.8867 Model\n"
     ]
    },
    {
     "name": "stdout",
     "output_type": "stream",
     "text": [
      "EVAL: [329/330] Elapsed 0m 31s (remain 0m 0s) Loss: 0.0588(0.0656) \n",
      "Epoch: [9][0/1316] Elapsed 0m 1s (remain 24m 28s) Loss: 0.0944(0.0944) Grad: 0.4043 LR: 0.000011  \n",
      "Epoch: [9][100/1316] Elapsed 0m 30s (remain 6m 11s) Loss: 0.0487(0.0817) Grad: 0.3834 LR: 0.000011  \n",
      "Epoch: [9][200/1316] Elapsed 1m 0s (remain 5m 37s) Loss: 0.0265(0.0831) Grad: 0.3411 LR: 0.000010  \n",
      "Epoch: [9][300/1316] Elapsed 1m 30s (remain 5m 5s) Loss: 0.2050(0.0829) Grad: 0.2195 LR: 0.000009  \n",
      "Epoch: [9][400/1316] Elapsed 2m 0s (remain 4m 34s) Loss: 0.0686(0.0838) Grad: 0.4801 LR: 0.000009  \n",
      "Epoch: [9][500/1316] Elapsed 2m 29s (remain 4m 3s) Loss: 0.1991(0.0842) Grad: 0.3076 LR: 0.000008  \n",
      "Epoch: [9][600/1316] Elapsed 2m 59s (remain 3m 33s) Loss: 0.1142(0.0847) Grad: 0.4413 LR: 0.000008  \n",
      "Epoch: [9][700/1316] Elapsed 3m 29s (remain 3m 3s) Loss: 0.1382(0.0839) Grad: 0.1892 LR: 0.000007  \n",
      "Epoch: [9][800/1316] Elapsed 3m 59s (remain 2m 33s) Loss: 0.0457(0.0837) Grad: 0.2945 LR: 0.000007  \n",
      "Epoch: [9][900/1316] Elapsed 4m 29s (remain 2m 3s) Loss: 0.0862(0.0841) Grad: 0.3103 LR: 0.000006  \n",
      "Epoch: [9][1000/1316] Elapsed 4m 58s (remain 1m 33s) Loss: 0.1277(0.0838) Grad: 0.1247 LR: 0.000006  \n",
      "Epoch: [9][1100/1316] Elapsed 5m 28s (remain 1m 4s) Loss: 0.0094(0.0832) Grad: 0.1929 LR: 0.000005  \n",
      "Epoch: [9][1200/1316] Elapsed 5m 58s (remain 0m 34s) Loss: 0.1005(0.0829) Grad: 0.5355 LR: 0.000005  \n",
      "Epoch: [9][1300/1316] Elapsed 6m 27s (remain 0m 4s) Loss: 0.0562(0.0829) Grad: 0.3157 LR: 0.000004  \n",
      "Epoch: [9][1315/1316] Elapsed 6m 32s (remain 0m 0s) Loss: 0.0207(0.0828) Grad: 0.3306 LR: 0.000004  \n",
      "EVAL: [0/330] Elapsed 0m 0s (remain 4m 27s) Loss: 0.0756(0.0756) \n",
      "EVAL: [100/330] Elapsed 0m 10s (remain 0m 23s) Loss: 0.0169(0.0650) \n",
      "EVAL: [200/330] Elapsed 0m 19s (remain 0m 12s) Loss: 0.0956(0.0655) \n",
      "EVAL: [300/330] Elapsed 0m 28s (remain 0m 2s) Loss: 0.0355(0.0638) \n"
     ]
    },
    {
     "name": "stderr",
     "output_type": "stream",
     "text": [
      "Epoch 9 - avg_train_loss: 0.0828  avg_val_loss: 0.0647  time: 423s\n",
      "Epoch 9 - Accuracy: 0.8908296943231441\n",
      "Epoch 9 - Save Best Score: 0.8908 Model\n"
     ]
    },
    {
     "name": "stdout",
     "output_type": "stream",
     "text": [
      "EVAL: [329/330] Elapsed 0m 31s (remain 0m 0s) Loss: 0.0344(0.0647) \n",
      "Epoch: [10][0/1316] Elapsed 0m 1s (remain 22m 34s) Loss: 0.0028(0.0028) Grad: 0.0750 LR: 0.000004  \n",
      "Epoch: [10][100/1316] Elapsed 0m 30s (remain 6m 4s) Loss: 0.0418(0.0316) Grad: 0.4046 LR: 0.000004  \n",
      "Epoch: [10][200/1316] Elapsed 0m 59s (remain 5m 29s) Loss: 0.0218(0.0313) Grad: 0.3456 LR: 0.000004  \n",
      "Epoch: [10][300/1316] Elapsed 1m 28s (remain 4m 58s) Loss: 0.0008(0.0321) Grad: 0.0212 LR: 0.000003  \n",
      "Epoch: [10][400/1316] Elapsed 1m 57s (remain 4m 28s) Loss: 0.0559(0.0306) Grad: 0.2895 LR: 0.000003  \n",
      "Epoch: [10][500/1316] Elapsed 2m 26s (remain 3m 59s) Loss: 0.0007(0.0315) Grad: 0.0217 LR: 0.000003  \n",
      "Epoch: [10][600/1316] Elapsed 2m 56s (remain 3m 29s) Loss: 0.0210(0.0306) Grad: 0.2315 LR: 0.000003  \n",
      "Epoch: [10][700/1316] Elapsed 3m 25s (remain 3m 0s) Loss: 0.0336(0.0307) Grad: 0.3379 LR: 0.000003  \n",
      "Epoch: [10][800/1316] Elapsed 3m 54s (remain 2m 30s) Loss: 0.0269(0.0310) Grad: 0.3806 LR: 0.000002  \n",
      "Epoch: [10][900/1316] Elapsed 4m 23s (remain 2m 1s) Loss: 0.0022(0.0313) Grad: 0.0497 LR: 0.000002  \n",
      "Epoch: [10][1000/1316] Elapsed 4m 52s (remain 1m 32s) Loss: 0.0037(0.0313) Grad: 0.0993 LR: 0.000002  \n",
      "Epoch: [10][1100/1316] Elapsed 5m 22s (remain 1m 2s) Loss: 0.0046(0.0313) Grad: 0.0955 LR: 0.000002  \n",
      "Epoch: [10][1200/1316] Elapsed 5m 51s (remain 0m 33s) Loss: 0.0076(0.0311) Grad: 0.1253 LR: 0.000002  \n",
      "Epoch: [10][1300/1316] Elapsed 6m 20s (remain 0m 4s) Loss: 0.0402(0.0312) Grad: 0.3387 LR: 0.000002  \n",
      "Epoch: [10][1315/1316] Elapsed 6m 24s (remain 0m 0s) Loss: 0.0809(0.0314) Grad: 0.4505 LR: 0.000002  \n",
      "EVAL: [0/330] Elapsed 0m 0s (remain 4m 24s) Loss: 0.0696(0.0696) \n",
      "EVAL: [100/330] Elapsed 0m 10s (remain 0m 23s) Loss: 0.0110(0.0644) \n",
      "EVAL: [200/330] Elapsed 0m 19s (remain 0m 12s) Loss: 0.0955(0.0655) \n",
      "EVAL: [300/330] Elapsed 0m 28s (remain 0m 2s) Loss: 0.0420(0.0641) \n"
     ]
    },
    {
     "name": "stderr",
     "output_type": "stream",
     "text": [
      "Epoch 10 - avg_train_loss: 0.0314  avg_val_loss: 0.0650  time: 416s\n",
      "Epoch 10 - Accuracy: 0.8929181697360926\n",
      "Epoch 10 - Save Best Score: 0.8929 Model\n"
     ]
    },
    {
     "name": "stdout",
     "output_type": "stream",
     "text": [
      "EVAL: [329/330] Elapsed 0m 31s (remain 0m 0s) Loss: 0.0188(0.0650) \n"
     ]
    },
    {
     "name": "stderr",
     "output_type": "stream",
     "text": [
      "Epoch 10 - Save final model\n",
      "========== fold: 2 result ==========\n",
      "Score: 0.89292\n",
      "========== fold: 3 training ==========\n"
     ]
    },
    {
     "name": "stdout",
     "output_type": "stream",
     "text": [
      "Epoch: [1][0/1316] Elapsed 0m 0s (remain 21m 35s) Loss: 0.2975(0.2975) Grad: 1.4885 LR: 0.000100  \n",
      "Epoch: [1][100/1316] Elapsed 0m 31s (remain 6m 12s) Loss: 0.1342(0.1669) Grad: 0.9271 LR: 0.000100  \n",
      "Epoch: [1][200/1316] Elapsed 1m 0s (remain 5m 37s) Loss: 0.0274(0.1387) Grad: 0.3564 LR: 0.000100  \n",
      "Epoch: [1][300/1316] Elapsed 1m 30s (remain 5m 6s) Loss: 0.1333(0.1250) Grad: 0.4388 LR: 0.000100  \n",
      "Epoch: [1][400/1316] Elapsed 2m 0s (remain 4m 35s) Loss: 0.0835(0.1177) Grad: 0.5602 LR: 0.000100  \n",
      "Epoch: [1][500/1316] Elapsed 2m 30s (remain 4m 4s) Loss: 0.0593(0.1137) Grad: 0.7050 LR: 0.000100  \n",
      "Epoch: [1][600/1316] Elapsed 3m 0s (remain 3m 34s) Loss: 0.0289(0.1113) Grad: 0.4163 LR: 0.000099  \n",
      "Epoch: [1][700/1316] Elapsed 3m 30s (remain 3m 4s) Loss: 0.0929(0.1081) Grad: 0.4520 LR: 0.000099  \n",
      "Epoch: [1][800/1316] Elapsed 4m 0s (remain 2m 34s) Loss: 0.0999(0.1055) Grad: 0.4022 LR: 0.000099  \n",
      "Epoch: [1][900/1316] Elapsed 4m 30s (remain 2m 4s) Loss: 0.1213(0.1033) Grad: 0.5792 LR: 0.000099  \n",
      "Epoch: [1][1000/1316] Elapsed 5m 0s (remain 1m 34s) Loss: 0.0155(0.1008) Grad: 0.3082 LR: 0.000099  \n",
      "Epoch: [1][1100/1316] Elapsed 5m 29s (remain 1m 4s) Loss: 0.0653(0.0991) Grad: 0.3729 LR: 0.000098  \n",
      "Epoch: [1][1200/1316] Elapsed 5m 59s (remain 0m 34s) Loss: 0.1258(0.0985) Grad: 0.3962 LR: 0.000098  \n",
      "Epoch: [1][1300/1316] Elapsed 6m 29s (remain 0m 4s) Loss: 0.0600(0.0970) Grad: 0.4362 LR: 0.000098  \n",
      "Epoch: [1][1315/1316] Elapsed 6m 34s (remain 0m 0s) Loss: 0.0999(0.0967) Grad: 1.2086 LR: 0.000098  \n",
      "EVAL: [0/330] Elapsed 0m 0s (remain 4m 15s) Loss: 0.1336(0.1336) \n",
      "EVAL: [100/330] Elapsed 0m 10s (remain 0m 23s) Loss: 0.0836(0.0721) \n",
      "EVAL: [200/330] Elapsed 0m 19s (remain 0m 12s) Loss: 0.1054(0.0743) \n",
      "EVAL: [300/330] Elapsed 0m 28s (remain 0m 2s) Loss: 0.0719(0.0754) \n"
     ]
    },
    {
     "name": "stderr",
     "output_type": "stream",
     "text": [
      "Epoch 1 - avg_train_loss: 0.0967  avg_val_loss: 0.0759  time: 426s\n",
      "Epoch 1 - Accuracy: 0.8688057717865958\n",
      "Epoch 1 - Save Best Score: 0.8688 Model\n"
     ]
    },
    {
     "name": "stdout",
     "output_type": "stream",
     "text": [
      "EVAL: [329/330] Elapsed 0m 31s (remain 0m 0s) Loss: 0.0624(0.0759) \n",
      "Epoch: [2][0/1316] Elapsed 0m 1s (remain 22m 19s) Loss: 0.0402(0.0402) Grad: 0.3326 LR: 0.000098  \n",
      "Epoch: [2][100/1316] Elapsed 0m 30s (remain 6m 11s) Loss: 0.0502(0.0738) Grad: 0.2252 LR: 0.000097  \n",
      "Epoch: [2][200/1316] Elapsed 1m 0s (remain 5m 38s) Loss: 0.1838(0.0689) Grad: 0.9232 LR: 0.000097  \n",
      "Epoch: [2][300/1316] Elapsed 1m 30s (remain 5m 6s) Loss: 0.0231(0.0663) Grad: 0.4607 LR: 0.000096  \n",
      "Epoch: [2][400/1316] Elapsed 2m 0s (remain 4m 35s) Loss: 0.0157(0.0656) Grad: 0.2613 LR: 0.000096  \n",
      "Epoch: [2][500/1316] Elapsed 2m 30s (remain 4m 4s) Loss: 0.0066(0.0660) Grad: 0.1754 LR: 0.000095  \n",
      "Epoch: [2][600/1316] Elapsed 3m 0s (remain 3m 34s) Loss: 0.0964(0.0662) Grad: 0.5113 LR: 0.000095  \n",
      "Epoch: [2][700/1316] Elapsed 3m 30s (remain 3m 4s) Loss: 0.0177(0.0669) Grad: 0.4161 LR: 0.000094  \n",
      "Epoch: [2][800/1316] Elapsed 4m 0s (remain 2m 34s) Loss: 0.1076(0.0662) Grad: 0.4487 LR: 0.000094  \n",
      "Epoch: [2][900/1316] Elapsed 4m 30s (remain 2m 4s) Loss: 0.0488(0.0653) Grad: 0.4935 LR: 0.000093  \n",
      "Epoch: [2][1000/1316] Elapsed 5m 0s (remain 1m 34s) Loss: 0.0725(0.0648) Grad: 0.5574 LR: 0.000093  \n",
      "Epoch: [2][1100/1316] Elapsed 5m 29s (remain 1m 4s) Loss: 0.0596(0.0645) Grad: 0.5796 LR: 0.000092  \n",
      "Epoch: [2][1200/1316] Elapsed 5m 59s (remain 0m 34s) Loss: 0.1023(0.0650) Grad: 0.5689 LR: 0.000091  \n",
      "Epoch: [2][1300/1316] Elapsed 6m 29s (remain 0m 4s) Loss: 0.0887(0.0652) Grad: 0.7360 LR: 0.000091  \n",
      "Epoch: [2][1315/1316] Elapsed 6m 34s (remain 0m 0s) Loss: 0.0342(0.0652) Grad: 0.5036 LR: 0.000091  \n",
      "EVAL: [0/330] Elapsed 0m 0s (remain 4m 27s) Loss: 0.1450(0.1450) \n",
      "EVAL: [100/330] Elapsed 0m 10s (remain 0m 22s) Loss: 0.0874(0.0808) \n",
      "EVAL: [200/330] Elapsed 0m 19s (remain 0m 12s) Loss: 0.0986(0.0774) \n",
      "EVAL: [300/330] Elapsed 0m 28s (remain 0m 2s) Loss: 0.0693(0.0795) \n"
     ]
    },
    {
     "name": "stderr",
     "output_type": "stream",
     "text": [
      "Epoch 2 - avg_train_loss: 0.0652  avg_val_loss: 0.0793  time: 426s\n",
      "Epoch 2 - Accuracy: 0.8657679893677616\n"
     ]
    },
    {
     "name": "stdout",
     "output_type": "stream",
     "text": [
      "EVAL: [329/330] Elapsed 0m 31s (remain 0m 0s) Loss: 0.1091(0.0793) \n",
      "Epoch: [3][0/1316] Elapsed 0m 1s (remain 25m 26s) Loss: 0.0198(0.0198) Grad: 0.3162 LR: 0.000091  \n",
      "Epoch: [3][100/1316] Elapsed 0m 31s (remain 6m 22s) Loss: 0.0933(0.1386) Grad: 0.4125 LR: 0.000090  \n",
      "Epoch: [3][200/1316] Elapsed 1m 2s (remain 5m 46s) Loss: 0.0792(0.1350) Grad: 0.3938 LR: 0.000089  \n",
      "Epoch: [3][300/1316] Elapsed 1m 33s (remain 5m 14s) Loss: 0.1644(0.1356) Grad: 0.4155 LR: 0.000088  \n",
      "Epoch: [3][400/1316] Elapsed 2m 4s (remain 4m 43s) Loss: 0.1939(0.1364) Grad: 0.4192 LR: 0.000088  \n",
      "Epoch: [3][500/1316] Elapsed 2m 34s (remain 4m 11s) Loss: 0.1796(0.1369) Grad: 0.4096 LR: 0.000087  \n",
      "Epoch: [3][600/1316] Elapsed 3m 5s (remain 3m 40s) Loss: 0.1778(0.1361) Grad: 0.7049 LR: 0.000086  \n",
      "Epoch: [3][700/1316] Elapsed 3m 36s (remain 3m 9s) Loss: 0.0756(0.1365) Grad: 0.3851 LR: 0.000085  \n",
      "Epoch: [3][800/1316] Elapsed 4m 6s (remain 2m 38s) Loss: 0.2048(0.1360) Grad: 0.3857 LR: 0.000084  \n",
      "Epoch: [3][900/1316] Elapsed 4m 37s (remain 2m 7s) Loss: 0.0513(0.1342) Grad: 0.4346 LR: 0.000084  \n",
      "Epoch: [3][1000/1316] Elapsed 5m 8s (remain 1m 37s) Loss: 0.0926(0.1341) Grad: 0.3808 LR: 0.000083  \n",
      "Epoch: [3][1100/1316] Elapsed 5m 39s (remain 1m 6s) Loss: 0.1732(0.1341) Grad: 0.4234 LR: 0.000082  \n",
      "Epoch: [3][1200/1316] Elapsed 6m 9s (remain 0m 35s) Loss: 0.1072(0.1326) Grad: 0.3985 LR: 0.000081  \n",
      "Epoch: [3][1300/1316] Elapsed 6m 40s (remain 0m 4s) Loss: 0.1740(0.1325) Grad: 0.5825 LR: 0.000080  \n",
      "Epoch: [3][1315/1316] Elapsed 6m 44s (remain 0m 0s) Loss: 0.0509(0.1322) Grad: 0.5623 LR: 0.000080  \n",
      "EVAL: [0/330] Elapsed 0m 0s (remain 4m 12s) Loss: 0.1257(0.1257) \n",
      "EVAL: [100/330] Elapsed 0m 10s (remain 0m 23s) Loss: 0.0666(0.0696) \n",
      "EVAL: [200/330] Elapsed 0m 19s (remain 0m 12s) Loss: 0.0876(0.0701) \n",
      "EVAL: [300/330] Elapsed 0m 28s (remain 0m 2s) Loss: 0.0567(0.0733) \n"
     ]
    },
    {
     "name": "stderr",
     "output_type": "stream",
     "text": [
      "Epoch 3 - avg_train_loss: 0.1322  avg_val_loss: 0.0732  time: 436s\n",
      "Epoch 3 - Accuracy: 0.8822859312701727\n",
      "Epoch 3 - Save Best Score: 0.8823 Model\n"
     ]
    },
    {
     "name": "stdout",
     "output_type": "stream",
     "text": [
      "EVAL: [329/330] Elapsed 0m 31s (remain 0m 0s) Loss: 0.0854(0.0732) \n",
      "Epoch: [4][0/1316] Elapsed 0m 1s (remain 25m 45s) Loss: 0.1158(0.1158) Grad: 0.2561 LR: 0.000080  \n",
      "Epoch: [4][100/1316] Elapsed 0m 31s (remain 6m 23s) Loss: 0.0443(0.1339) Grad: 0.2778 LR: 0.000079  \n",
      "Epoch: [4][200/1316] Elapsed 1m 2s (remain 5m 47s) Loss: 0.1102(0.1336) Grad: 0.1868 LR: 0.000078  \n",
      "Epoch: [4][300/1316] Elapsed 1m 33s (remain 5m 14s) Loss: 0.0317(0.1316) Grad: 0.3329 LR: 0.000077  \n",
      "Epoch: [4][400/1316] Elapsed 2m 4s (remain 4m 42s) Loss: 0.1972(0.1300) Grad: 0.3962 LR: 0.000076  \n",
      "Epoch: [4][500/1316] Elapsed 2m 34s (remain 4m 11s) Loss: 0.0641(0.1282) Grad: 0.4184 LR: 0.000075  \n",
      "Epoch: [4][600/1316] Elapsed 3m 5s (remain 3m 40s) Loss: 0.1763(0.1281) Grad: 0.2127 LR: 0.000074  \n",
      "Epoch: [4][700/1316] Elapsed 3m 36s (remain 3m 9s) Loss: 0.1088(0.1278) Grad: 0.1262 LR: 0.000073  \n",
      "Epoch: [4][800/1316] Elapsed 4m 6s (remain 2m 38s) Loss: 0.0985(0.1276) Grad: 0.3062 LR: 0.000072  \n",
      "Epoch: [4][900/1316] Elapsed 4m 37s (remain 2m 7s) Loss: 0.1637(0.1256) Grad: 0.1995 LR: 0.000071  \n",
      "Epoch: [4][1000/1316] Elapsed 5m 7s (remain 1m 36s) Loss: 0.1271(0.1265) Grad: 0.3274 LR: 0.000070  \n",
      "Epoch: [4][1100/1316] Elapsed 5m 38s (remain 1m 6s) Loss: 0.1240(0.1267) Grad: 0.1927 LR: 0.000069  \n",
      "Epoch: [4][1200/1316] Elapsed 6m 9s (remain 0m 35s) Loss: 0.1765(0.1263) Grad: 0.3818 LR: 0.000067  \n",
      "Epoch: [4][1300/1316] Elapsed 6m 39s (remain 0m 4s) Loss: 0.0890(0.1263) Grad: 0.4361 LR: 0.000066  \n",
      "Epoch: [4][1315/1316] Elapsed 6m 44s (remain 0m 0s) Loss: 0.0438(0.1262) Grad: 0.4864 LR: 0.000066  \n",
      "EVAL: [0/330] Elapsed 0m 0s (remain 4m 19s) Loss: 0.1268(0.1268) \n",
      "EVAL: [100/330] Elapsed 0m 10s (remain 0m 22s) Loss: 0.0738(0.0710) \n",
      "EVAL: [200/330] Elapsed 0m 19s (remain 0m 12s) Loss: 0.0833(0.0705) \n",
      "EVAL: [300/330] Elapsed 0m 28s (remain 0m 2s) Loss: 0.0529(0.0717) \n"
     ]
    },
    {
     "name": "stderr",
     "output_type": "stream",
     "text": [
      "Epoch 4 - avg_train_loss: 0.1262  avg_val_loss: 0.0717  time: 436s\n",
      "Epoch 4 - Accuracy: 0.8838048224795899\n",
      "Epoch 4 - Save Best Score: 0.8838 Model\n"
     ]
    },
    {
     "name": "stdout",
     "output_type": "stream",
     "text": [
      "EVAL: [329/330] Elapsed 0m 30s (remain 0m 0s) Loss: 0.0661(0.0717) \n",
      "Epoch: [5][0/1316] Elapsed 0m 1s (remain 24m 38s) Loss: 0.1564(0.1564) Grad: 0.2948 LR: 0.000066  \n",
      "Epoch: [5][100/1316] Elapsed 0m 31s (remain 6m 21s) Loss: 0.1756(0.1222) Grad: 0.3595 LR: 0.000065  \n",
      "Epoch: [5][200/1316] Elapsed 1m 2s (remain 5m 45s) Loss: 0.0351(0.1163) Grad: 0.2748 LR: 0.000064  \n",
      "Epoch: [5][300/1316] Elapsed 1m 33s (remain 5m 13s) Loss: 0.0617(0.1167) Grad: 0.4236 LR: 0.000063  \n",
      "Epoch: [5][400/1316] Elapsed 2m 3s (remain 4m 41s) Loss: 0.0768(0.1170) Grad: 0.2298 LR: 0.000062  \n",
      "Epoch: [5][500/1316] Elapsed 2m 34s (remain 4m 10s) Loss: 0.0432(0.1196) Grad: 0.5145 LR: 0.000061  \n",
      "Epoch: [5][600/1316] Elapsed 3m 4s (remain 3m 39s) Loss: 0.0611(0.1193) Grad: 0.3335 LR: 0.000059  \n",
      "Epoch: [5][700/1316] Elapsed 3m 35s (remain 3m 8s) Loss: 0.1747(0.1205) Grad: 0.2130 LR: 0.000058  \n",
      "Epoch: [5][800/1316] Elapsed 4m 6s (remain 2m 38s) Loss: 0.1296(0.1202) Grad: 0.3000 LR: 0.000057  \n",
      "Epoch: [5][900/1316] Elapsed 4m 37s (remain 2m 7s) Loss: 0.1987(0.1209) Grad: 0.3103 LR: 0.000056  \n",
      "Epoch: [5][1000/1316] Elapsed 5m 7s (remain 1m 36s) Loss: 0.0821(0.1199) Grad: 0.5796 LR: 0.000055  \n",
      "Epoch: [5][1100/1316] Elapsed 5m 38s (remain 1m 6s) Loss: 0.1797(0.1198) Grad: 0.4709 LR: 0.000054  \n",
      "Epoch: [5][1200/1316] Elapsed 6m 8s (remain 0m 35s) Loss: 0.0497(0.1200) Grad: 0.2112 LR: 0.000052  \n",
      "Epoch: [5][1300/1316] Elapsed 6m 39s (remain 0m 4s) Loss: 0.1349(0.1204) Grad: 0.3628 LR: 0.000051  \n",
      "Epoch: [5][1315/1316] Elapsed 6m 44s (remain 0m 0s) Loss: 0.1560(0.1204) Grad: 0.6016 LR: 0.000051  \n",
      "EVAL: [0/330] Elapsed 0m 0s (remain 4m 13s) Loss: 0.1087(0.1087) \n",
      "EVAL: [100/330] Elapsed 0m 10s (remain 0m 22s) Loss: 0.0496(0.0645) \n",
      "EVAL: [200/330] Elapsed 0m 19s (remain 0m 12s) Loss: 0.0932(0.0638) \n",
      "EVAL: [300/330] Elapsed 0m 28s (remain 0m 2s) Loss: 0.0302(0.0670) \n"
     ]
    },
    {
     "name": "stderr",
     "output_type": "stream",
     "text": [
      "Epoch 5 - avg_train_loss: 0.1204  avg_val_loss: 0.0676  time: 435s\n",
      "Epoch 5 - Accuracy: 0.8876020505031327\n",
      "Epoch 5 - Save Best Score: 0.8876 Model\n"
     ]
    },
    {
     "name": "stdout",
     "output_type": "stream",
     "text": [
      "EVAL: [329/330] Elapsed 0m 30s (remain 0m 0s) Loss: 0.1149(0.0676) \n",
      "Epoch: [6][0/1316] Elapsed 0m 1s (remain 25m 8s) Loss: 0.1941(0.1941) Grad: 0.3290 LR: 0.000051  \n",
      "Epoch: [6][100/1316] Elapsed 0m 31s (remain 6m 23s) Loss: 0.0420(0.1225) Grad: 0.2031 LR: 0.000050  \n",
      "Epoch: [6][200/1316] Elapsed 1m 2s (remain 5m 47s) Loss: 0.1830(0.1234) Grad: 0.3861 LR: 0.000049  \n",
      "Epoch: [6][300/1316] Elapsed 1m 33s (remain 5m 14s) Loss: 0.2243(0.1208) Grad: 0.3413 LR: 0.000048  \n",
      "Epoch: [6][400/1316] Elapsed 2m 3s (remain 4m 42s) Loss: 0.0690(0.1190) Grad: 0.4586 LR: 0.000046  \n",
      "Epoch: [6][500/1316] Elapsed 2m 34s (remain 4m 10s) Loss: 0.0392(0.1175) Grad: 0.2774 LR: 0.000045  \n",
      "Epoch: [6][600/1316] Elapsed 3m 4s (remain 3m 39s) Loss: 0.1735(0.1182) Grad: 0.2498 LR: 0.000044  \n",
      "Epoch: [6][700/1316] Elapsed 3m 35s (remain 3m 9s) Loss: 0.0514(0.1195) Grad: 0.2782 LR: 0.000043  \n",
      "Epoch: [6][800/1316] Elapsed 4m 6s (remain 2m 38s) Loss: 0.1529(0.1190) Grad: 0.4897 LR: 0.000042  \n",
      "Epoch: [6][900/1316] Elapsed 4m 36s (remain 2m 7s) Loss: 0.0627(0.1193) Grad: 0.7030 LR: 0.000041  \n",
      "Epoch: [6][1000/1316] Elapsed 5m 7s (remain 1m 36s) Loss: 0.1638(0.1192) Grad: 0.4049 LR: 0.000039  \n",
      "Epoch: [6][1100/1316] Elapsed 5m 38s (remain 1m 6s) Loss: 0.0893(0.1193) Grad: 0.1598 LR: 0.000038  \n",
      "Epoch: [6][1200/1316] Elapsed 6m 8s (remain 0m 35s) Loss: 0.1137(0.1191) Grad: 0.3232 LR: 0.000037  \n",
      "Epoch: [6][1300/1316] Elapsed 6m 39s (remain 0m 4s) Loss: 0.2088(0.1191) Grad: 0.5488 LR: 0.000036  \n",
      "Epoch: [6][1315/1316] Elapsed 6m 44s (remain 0m 0s) Loss: 0.0617(0.1187) Grad: 0.4363 LR: 0.000036  \n",
      "EVAL: [0/330] Elapsed 0m 0s (remain 4m 10s) Loss: 0.0990(0.0990) \n",
      "EVAL: [100/330] Elapsed 0m 10s (remain 0m 22s) Loss: 0.0519(0.0609) \n",
      "EVAL: [200/330] Elapsed 0m 19s (remain 0m 12s) Loss: 0.0892(0.0616) \n",
      "EVAL: [300/330] Elapsed 0m 28s (remain 0m 2s) Loss: 0.0448(0.0632) \n"
     ]
    },
    {
     "name": "stderr",
     "output_type": "stream",
     "text": [
      "Epoch 6 - avg_train_loss: 0.1187  avg_val_loss: 0.0636  time: 435s\n",
      "Epoch 6 - Accuracy: 0.8919688627302069\n",
      "Epoch 6 - Save Best Score: 0.8920 Model\n"
     ]
    },
    {
     "name": "stdout",
     "output_type": "stream",
     "text": [
      "EVAL: [329/330] Elapsed 0m 30s (remain 0m 0s) Loss: 0.0683(0.0636) \n",
      "Epoch: [7][0/1316] Elapsed 0m 1s (remain 24m 9s) Loss: 0.0526(0.0526) Grad: 0.2631 LR: 0.000036  \n",
      "Epoch: [7][100/1316] Elapsed 0m 31s (remain 6m 19s) Loss: 0.1662(0.0852) Grad: 0.3802 LR: 0.000035  \n",
      "Epoch: [7][200/1316] Elapsed 1m 2s (remain 5m 43s) Loss: 0.1081(0.0904) Grad: 0.2054 LR: 0.000034  \n",
      "Epoch: [7][300/1316] Elapsed 1m 32s (remain 5m 10s) Loss: 0.0596(0.0847) Grad: 0.2901 LR: 0.000033  \n",
      "Epoch: [7][400/1316] Elapsed 2m 2s (remain 4m 39s) Loss: 0.0690(0.0871) Grad: 0.4536 LR: 0.000032  \n",
      "Epoch: [7][500/1316] Elapsed 2m 32s (remain 4m 8s) Loss: 0.0310(0.0874) Grad: 0.3621 LR: 0.000030  \n",
      "Epoch: [7][600/1316] Elapsed 3m 2s (remain 3m 37s) Loss: 0.0643(0.0871) Grad: 0.5889 LR: 0.000029  \n",
      "Epoch: [7][700/1316] Elapsed 3m 33s (remain 3m 7s) Loss: 0.1165(0.0875) Grad: 0.3827 LR: 0.000028  \n",
      "Epoch: [7][800/1316] Elapsed 4m 3s (remain 2m 36s) Loss: 0.1428(0.0872) Grad: 0.3578 LR: 0.000027  \n",
      "Epoch: [7][900/1316] Elapsed 4m 34s (remain 2m 6s) Loss: 0.0421(0.0879) Grad: 0.3607 LR: 0.000026  \n",
      "Epoch: [7][1000/1316] Elapsed 5m 4s (remain 1m 35s) Loss: 0.0681(0.0878) Grad: 0.5533 LR: 0.000025  \n",
      "Epoch: [7][1100/1316] Elapsed 5m 34s (remain 1m 5s) Loss: 0.0833(0.0868) Grad: 1.0763 LR: 0.000024  \n",
      "Epoch: [7][1200/1316] Elapsed 6m 4s (remain 0m 34s) Loss: 0.0779(0.0867) Grad: 0.3702 LR: 0.000023  \n",
      "Epoch: [7][1300/1316] Elapsed 6m 35s (remain 0m 4s) Loss: 0.0362(0.0869) Grad: 0.3760 LR: 0.000022  \n",
      "Epoch: [7][1315/1316] Elapsed 6m 39s (remain 0m 0s) Loss: 0.0331(0.0871) Grad: 0.4855 LR: 0.000022  \n",
      "EVAL: [0/330] Elapsed 0m 0s (remain 4m 9s) Loss: 0.1074(0.1074) \n",
      "EVAL: [100/330] Elapsed 0m 10s (remain 0m 22s) Loss: 0.0430(0.0612) \n",
      "EVAL: [200/330] Elapsed 0m 19s (remain 0m 12s) Loss: 0.0829(0.0614) \n",
      "EVAL: [300/330] Elapsed 0m 28s (remain 0m 2s) Loss: 0.0554(0.0633) \n"
     ]
    },
    {
     "name": "stderr",
     "output_type": "stream",
     "text": [
      "Epoch 7 - avg_train_loss: 0.0871  avg_val_loss: 0.0635  time: 431s\n",
      "Epoch 7 - Accuracy: 0.8927283083349156\n",
      "Epoch 7 - Save Best Score: 0.8927 Model\n"
     ]
    },
    {
     "name": "stdout",
     "output_type": "stream",
     "text": [
      "EVAL: [329/330] Elapsed 0m 30s (remain 0m 0s) Loss: 0.0537(0.0635) \n",
      "Epoch: [8][0/1316] Elapsed 0m 1s (remain 24m 58s) Loss: 0.0764(0.0764) Grad: 0.5007 LR: 0.000022  \n",
      "Epoch: [8][100/1316] Elapsed 0m 31s (remain 6m 19s) Loss: 0.0866(0.0842) Grad: 0.5983 LR: 0.000021  \n",
      "Epoch: [8][200/1316] Elapsed 1m 2s (remain 5m 44s) Loss: 0.0791(0.0777) Grad: 0.3702 LR: 0.000020  \n",
      "Epoch: [8][300/1316] Elapsed 1m 32s (remain 5m 11s) Loss: 0.0688(0.0785) Grad: 0.5793 LR: 0.000020  \n",
      "Epoch: [8][400/1316] Elapsed 2m 2s (remain 4m 40s) Loss: 0.0617(0.0792) Grad: 0.3355 LR: 0.000019  \n",
      "Epoch: [8][500/1316] Elapsed 2m 33s (remain 4m 8s) Loss: 0.0301(0.0814) Grad: 0.4812 LR: 0.000018  \n",
      "Epoch: [8][600/1316] Elapsed 3m 3s (remain 3m 38s) Loss: 0.1040(0.0805) Grad: 0.5320 LR: 0.000017  \n",
      "Epoch: [8][700/1316] Elapsed 3m 33s (remain 3m 7s) Loss: 0.0135(0.0801) Grad: 0.2789 LR: 0.000016  \n",
      "Epoch: [8][800/1316] Elapsed 4m 3s (remain 2m 36s) Loss: 0.0964(0.0809) Grad: 0.4031 LR: 0.000015  \n",
      "Epoch: [8][900/1316] Elapsed 4m 34s (remain 2m 6s) Loss: 0.0322(0.0815) Grad: 0.2876 LR: 0.000014  \n",
      "Epoch: [8][1000/1316] Elapsed 5m 4s (remain 1m 35s) Loss: 0.1903(0.0810) Grad: 0.3482 LR: 0.000014  \n",
      "Epoch: [8][1100/1316] Elapsed 5m 34s (remain 1m 5s) Loss: 0.0355(0.0809) Grad: 0.6136 LR: 0.000013  \n",
      "Epoch: [8][1200/1316] Elapsed 6m 5s (remain 0m 34s) Loss: 0.1369(0.0806) Grad: 0.3391 LR: 0.000012  \n",
      "Epoch: [8][1300/1316] Elapsed 6m 35s (remain 0m 4s) Loss: 0.0744(0.0811) Grad: 0.5109 LR: 0.000012  \n",
      "Epoch: [8][1315/1316] Elapsed 6m 39s (remain 0m 0s) Loss: 0.0090(0.0809) Grad: 0.3638 LR: 0.000011  \n",
      "EVAL: [0/330] Elapsed 0m 0s (remain 4m 12s) Loss: 0.0902(0.0902) \n",
      "EVAL: [100/330] Elapsed 0m 10s (remain 0m 23s) Loss: 0.0237(0.0599) \n",
      "EVAL: [200/330] Elapsed 0m 19s (remain 0m 12s) Loss: 0.0823(0.0600) \n",
      "EVAL: [300/330] Elapsed 0m 28s (remain 0m 2s) Loss: 0.0524(0.0622) \n"
     ]
    },
    {
     "name": "stderr",
     "output_type": "stream",
     "text": [
      "Epoch 8 - avg_train_loss: 0.0809  avg_val_loss: 0.0624  time: 431s\n",
      "Epoch 8 - Accuracy: 0.897474843364344\n",
      "Epoch 8 - Save Best Score: 0.8975 Model\n"
     ]
    },
    {
     "name": "stdout",
     "output_type": "stream",
     "text": [
      "EVAL: [329/330] Elapsed 0m 31s (remain 0m 0s) Loss: 0.0402(0.0624) \n",
      "Epoch: [9][0/1316] Elapsed 0m 1s (remain 25m 36s) Loss: 0.1308(0.1308) Grad: 0.3728 LR: 0.000011  \n",
      "Epoch: [9][100/1316] Elapsed 0m 31s (remain 6m 17s) Loss: 0.1696(0.0901) Grad: 0.3251 LR: 0.000011  \n",
      "Epoch: [9][200/1316] Elapsed 1m 1s (remain 5m 43s) Loss: 0.0713(0.0847) Grad: 0.5437 LR: 0.000010  \n",
      "Epoch: [9][300/1316] Elapsed 1m 32s (remain 5m 11s) Loss: 0.0357(0.0873) Grad: 0.6089 LR: 0.000009  \n",
      "Epoch: [9][400/1316] Elapsed 2m 2s (remain 4m 40s) Loss: 0.0102(0.0850) Grad: 0.2248 LR: 0.000009  \n",
      "Epoch: [9][500/1316] Elapsed 2m 33s (remain 4m 9s) Loss: 0.1882(0.0843) Grad: 0.4176 LR: 0.000008  \n",
      "Epoch: [9][600/1316] Elapsed 3m 3s (remain 3m 38s) Loss: 0.0392(0.0831) Grad: 0.3684 LR: 0.000008  \n",
      "Epoch: [9][700/1316] Elapsed 3m 33s (remain 3m 7s) Loss: 0.1652(0.0833) Grad: 0.5016 LR: 0.000007  \n",
      "Epoch: [9][800/1316] Elapsed 4m 4s (remain 2m 36s) Loss: 0.0354(0.0834) Grad: 0.3673 LR: 0.000007  \n",
      "Epoch: [9][900/1316] Elapsed 4m 34s (remain 2m 6s) Loss: 0.0013(0.0817) Grad: 0.0412 LR: 0.000006  \n",
      "Epoch: [9][1000/1316] Elapsed 5m 4s (remain 1m 35s) Loss: 0.0360(0.0810) Grad: 0.2067 LR: 0.000006  \n",
      "Epoch: [9][1100/1316] Elapsed 5m 35s (remain 1m 5s) Loss: 0.0757(0.0808) Grad: 0.4353 LR: 0.000005  \n",
      "Epoch: [9][1200/1316] Elapsed 6m 5s (remain 0m 35s) Loss: 0.0890(0.0806) Grad: 0.3689 LR: 0.000005  \n",
      "Epoch: [9][1300/1316] Elapsed 6m 35s (remain 0m 4s) Loss: 0.0768(0.0809) Grad: 0.3510 LR: 0.000004  \n",
      "Epoch: [9][1315/1316] Elapsed 6m 40s (remain 0m 0s) Loss: 0.0436(0.0809) Grad: 0.4712 LR: 0.000004  \n",
      "EVAL: [0/330] Elapsed 0m 0s (remain 4m 36s) Loss: 0.0898(0.0898) \n",
      "EVAL: [100/330] Elapsed 0m 10s (remain 0m 23s) Loss: 0.0281(0.0599) \n",
      "EVAL: [200/330] Elapsed 0m 19s (remain 0m 12s) Loss: 0.0706(0.0599) \n",
      "EVAL: [300/330] Elapsed 0m 28s (remain 0m 2s) Loss: 0.0489(0.0623) \n"
     ]
    },
    {
     "name": "stderr",
     "output_type": "stream",
     "text": [
      "Epoch 9 - avg_train_loss: 0.0809  avg_val_loss: 0.0629  time: 432s\n",
      "Epoch 9 - Accuracy: 0.8953863679513955\n"
     ]
    },
    {
     "name": "stdout",
     "output_type": "stream",
     "text": [
      "EVAL: [329/330] Elapsed 0m 30s (remain 0m 0s) Loss: 0.0539(0.0629) \n",
      "Epoch: [10][0/1316] Elapsed 0m 1s (remain 26m 14s) Loss: 0.0879(0.0879) Grad: 0.4529 LR: 0.000004  \n",
      "Epoch: [10][100/1316] Elapsed 0m 31s (remain 6m 12s) Loss: 0.0006(0.0306) Grad: 0.0246 LR: 0.000004  \n",
      "Epoch: [10][200/1316] Elapsed 1m 0s (remain 5m 37s) Loss: 0.0833(0.0322) Grad: 0.4291 LR: 0.000004  \n",
      "Epoch: [10][300/1316] Elapsed 1m 30s (remain 5m 5s) Loss: 0.0077(0.0337) Grad: 0.1641 LR: 0.000003  \n",
      "Epoch: [10][400/1316] Elapsed 2m 0s (remain 4m 35s) Loss: 0.0178(0.0333) Grad: 0.3334 LR: 0.000003  \n",
      "Epoch: [10][500/1316] Elapsed 2m 30s (remain 4m 4s) Loss: 0.0019(0.0330) Grad: 0.0615 LR: 0.000003  \n",
      "Epoch: [10][600/1316] Elapsed 3m 0s (remain 3m 34s) Loss: 0.0197(0.0327) Grad: 0.3086 LR: 0.000003  \n",
      "Epoch: [10][700/1316] Elapsed 3m 30s (remain 3m 4s) Loss: 0.0493(0.0318) Grad: 0.2418 LR: 0.000003  \n",
      "Epoch: [10][800/1316] Elapsed 3m 59s (remain 2m 34s) Loss: 0.0458(0.0320) Grad: 0.3316 LR: 0.000002  \n",
      "Epoch: [10][900/1316] Elapsed 4m 29s (remain 2m 4s) Loss: 0.0287(0.0314) Grad: 0.3636 LR: 0.000002  \n",
      "Epoch: [10][1000/1316] Elapsed 4m 59s (remain 1m 34s) Loss: 0.0169(0.0314) Grad: 0.3684 LR: 0.000002  \n",
      "Epoch: [10][1100/1316] Elapsed 5m 29s (remain 1m 4s) Loss: 0.0012(0.0314) Grad: 0.0349 LR: 0.000002  \n",
      "Epoch: [10][1200/1316] Elapsed 5m 59s (remain 0m 34s) Loss: 0.0116(0.0312) Grad: 0.1965 LR: 0.000002  \n",
      "Epoch: [10][1300/1316] Elapsed 6m 29s (remain 0m 4s) Loss: 0.0474(0.0312) Grad: 0.2154 LR: 0.000002  \n",
      "Epoch: [10][1315/1316] Elapsed 6m 33s (remain 0m 0s) Loss: 0.0071(0.0313) Grad: 0.1400 LR: 0.000002  \n",
      "EVAL: [0/330] Elapsed 0m 0s (remain 4m 19s) Loss: 0.0875(0.0875) \n",
      "EVAL: [100/330] Elapsed 0m 10s (remain 0m 23s) Loss: 0.0340(0.0602) \n",
      "EVAL: [200/330] Elapsed 0m 19s (remain 0m 12s) Loss: 0.0806(0.0605) \n",
      "EVAL: [300/330] Elapsed 0m 28s (remain 0m 2s) Loss: 0.0637(0.0622) \n"
     ]
    },
    {
     "name": "stderr",
     "output_type": "stream",
     "text": [
      "Epoch 10 - avg_train_loss: 0.0313  avg_val_loss: 0.0622  time: 425s\n",
      "Epoch 10 - Accuracy: 0.8995633187772926\n",
      "Epoch 10 - Save Best Score: 0.8996 Model\n"
     ]
    },
    {
     "name": "stdout",
     "output_type": "stream",
     "text": [
      "EVAL: [329/330] Elapsed 0m 31s (remain 0m 0s) Loss: 0.0252(0.0622) \n"
     ]
    },
    {
     "name": "stderr",
     "output_type": "stream",
     "text": [
      "Epoch 10 - Save final model\n",
      "========== fold: 3 result ==========\n",
      "Score: 0.89956\n",
      "========== fold: 4 training ==========\n"
     ]
    },
    {
     "name": "stdout",
     "output_type": "stream",
     "text": [
      "Epoch: [1][0/1316] Elapsed 0m 1s (remain 23m 55s) Loss: 0.3897(0.3897) Grad: 1.3940 LR: 0.000100  \n",
      "Epoch: [1][100/1316] Elapsed 0m 31s (remain 6m 22s) Loss: 0.0912(0.1641) Grad: 0.5345 LR: 0.000100  \n",
      "Epoch: [1][200/1316] Elapsed 1m 2s (remain 5m 46s) Loss: 0.1528(0.1358) Grad: 0.7417 LR: 0.000100  \n",
      "Epoch: [1][300/1316] Elapsed 1m 33s (remain 5m 13s) Loss: 0.0501(0.1267) Grad: 0.4527 LR: 0.000100  \n",
      "Epoch: [1][400/1316] Elapsed 2m 3s (remain 4m 42s) Loss: 0.1358(0.1186) Grad: 0.4809 LR: 0.000100  \n",
      "Epoch: [1][500/1316] Elapsed 2m 34s (remain 4m 10s) Loss: 0.0637(0.1143) Grad: 0.4573 LR: 0.000100  \n",
      "Epoch: [1][600/1316] Elapsed 3m 4s (remain 3m 39s) Loss: 0.0808(0.1099) Grad: 0.4551 LR: 0.000099  \n",
      "Epoch: [1][700/1316] Elapsed 3m 35s (remain 3m 9s) Loss: 0.1013(0.1060) Grad: 0.5549 LR: 0.000099  \n",
      "Epoch: [1][800/1316] Elapsed 4m 6s (remain 2m 38s) Loss: 0.0507(0.1038) Grad: 0.5984 LR: 0.000099  \n",
      "Epoch: [1][900/1316] Elapsed 4m 36s (remain 2m 7s) Loss: 0.0495(0.1027) Grad: 0.2338 LR: 0.000099  \n",
      "Epoch: [1][1000/1316] Elapsed 5m 7s (remain 1m 36s) Loss: 0.0487(0.1003) Grad: 0.5091 LR: 0.000099  \n",
      "Epoch: [1][1100/1316] Elapsed 5m 37s (remain 1m 5s) Loss: 0.1164(0.0989) Grad: 0.5241 LR: 0.000098  \n",
      "Epoch: [1][1200/1316] Elapsed 6m 8s (remain 0m 35s) Loss: 0.0431(0.0972) Grad: 0.1437 LR: 0.000098  \n",
      "Epoch: [1][1300/1316] Elapsed 6m 39s (remain 0m 4s) Loss: 0.1433(0.0963) Grad: 0.5552 LR: 0.000098  \n",
      "Epoch: [1][1315/1316] Elapsed 6m 43s (remain 0m 0s) Loss: 0.0666(0.0962) Grad: 0.9611 LR: 0.000098  \n",
      "EVAL: [0/330] Elapsed 0m 0s (remain 4m 23s) Loss: 0.1441(0.1441) \n",
      "EVAL: [100/330] Elapsed 0m 10s (remain 0m 23s) Loss: 0.1547(0.0784) \n",
      "EVAL: [200/330] Elapsed 0m 19s (remain 0m 12s) Loss: 0.1046(0.0825) \n",
      "EVAL: [300/330] Elapsed 0m 28s (remain 0m 2s) Loss: 0.0568(0.0826) \n"
     ]
    },
    {
     "name": "stderr",
     "output_type": "stream",
     "text": [
      "Epoch 1 - avg_train_loss: 0.0962  avg_val_loss: 0.0815  time: 435s\n",
      "Epoch 1 - Accuracy: 0.8638693753559902\n",
      "Epoch 1 - Save Best Score: 0.8639 Model\n"
     ]
    },
    {
     "name": "stdout",
     "output_type": "stream",
     "text": [
      "EVAL: [329/330] Elapsed 0m 31s (remain 0m 0s) Loss: 0.0066(0.0815) \n",
      "Epoch: [2][0/1316] Elapsed 0m 1s (remain 22m 54s) Loss: 0.0822(0.0822) Grad: 0.7128 LR: 0.000098  \n",
      "Epoch: [2][100/1316] Elapsed 0m 31s (remain 6m 23s) Loss: 0.0405(0.0629) Grad: 0.5453 LR: 0.000097  \n",
      "Epoch: [2][200/1316] Elapsed 1m 2s (remain 5m 46s) Loss: 0.1373(0.0605) Grad: 0.5105 LR: 0.000097  \n",
      "Epoch: [2][300/1316] Elapsed 1m 33s (remain 5m 13s) Loss: 0.0947(0.0624) Grad: 0.5911 LR: 0.000096  \n",
      "Epoch: [2][400/1316] Elapsed 2m 3s (remain 4m 42s) Loss: 0.0654(0.0625) Grad: 0.3976 LR: 0.000096  \n",
      "Epoch: [2][500/1316] Elapsed 2m 34s (remain 4m 10s) Loss: 0.0599(0.0636) Grad: 0.4590 LR: 0.000095  \n",
      "Epoch: [2][600/1316] Elapsed 3m 4s (remain 3m 39s) Loss: 0.0766(0.0632) Grad: 0.5921 LR: 0.000095  \n",
      "Epoch: [2][700/1316] Elapsed 3m 35s (remain 3m 9s) Loss: 0.0265(0.0632) Grad: 0.2631 LR: 0.000094  \n",
      "Epoch: [2][800/1316] Elapsed 4m 6s (remain 2m 38s) Loss: 0.0657(0.0637) Grad: 0.3923 LR: 0.000094  \n",
      "Epoch: [2][900/1316] Elapsed 4m 36s (remain 2m 7s) Loss: 0.0070(0.0637) Grad: 0.1849 LR: 0.000093  \n",
      "Epoch: [2][1000/1316] Elapsed 5m 7s (remain 1m 36s) Loss: 0.0972(0.0634) Grad: 0.4001 LR: 0.000093  \n",
      "Epoch: [2][1100/1316] Elapsed 5m 37s (remain 1m 5s) Loss: 0.0909(0.0637) Grad: 0.7869 LR: 0.000092  \n",
      "Epoch: [2][1200/1316] Elapsed 6m 8s (remain 0m 35s) Loss: 0.0754(0.0638) Grad: 0.3747 LR: 0.000091  \n",
      "Epoch: [2][1300/1316] Elapsed 6m 38s (remain 0m 4s) Loss: 0.1568(0.0641) Grad: 0.8235 LR: 0.000091  \n",
      "Epoch: [2][1315/1316] Elapsed 6m 43s (remain 0m 0s) Loss: 0.0491(0.0639) Grad: 0.9203 LR: 0.000091  \n",
      "EVAL: [0/330] Elapsed 0m 0s (remain 4m 30s) Loss: 0.0815(0.0815) \n",
      "EVAL: [100/330] Elapsed 0m 10s (remain 0m 23s) Loss: 0.1638(0.0685) \n",
      "EVAL: [200/330] Elapsed 0m 19s (remain 0m 12s) Loss: 0.0982(0.0718) \n",
      "EVAL: [300/330] Elapsed 0m 28s (remain 0m 2s) Loss: 0.0603(0.0729) \n"
     ]
    },
    {
     "name": "stderr",
     "output_type": "stream",
     "text": [
      "Epoch 2 - avg_train_loss: 0.0639  avg_val_loss: 0.0733  time: 435s\n",
      "Epoch 2 - Accuracy: 0.8741218910195557\n",
      "Epoch 2 - Save Best Score: 0.8741 Model\n"
     ]
    },
    {
     "name": "stdout",
     "output_type": "stream",
     "text": [
      "EVAL: [329/330] Elapsed 0m 31s (remain 0m 0s) Loss: 0.0079(0.0733) \n",
      "Epoch: [3][0/1316] Elapsed 0m 1s (remain 26m 50s) Loss: 0.1923(0.1923) Grad: 0.6381 LR: 0.000091  \n",
      "Epoch: [3][100/1316] Elapsed 0m 32s (remain 6m 36s) Loss: 0.2012(0.1391) Grad: 0.3813 LR: 0.000090  \n",
      "Epoch: [3][200/1316] Elapsed 1m 4s (remain 5m 57s) Loss: 0.1648(0.1408) Grad: 0.2793 LR: 0.000089  \n",
      "Epoch: [3][300/1316] Elapsed 1m 35s (remain 5m 23s) Loss: 0.1631(0.1388) Grad: 0.3025 LR: 0.000088  \n",
      "Epoch: [3][400/1316] Elapsed 2m 7s (remain 4m 50s) Loss: 0.1737(0.1394) Grad: 0.3982 LR: 0.000088  \n",
      "Epoch: [3][500/1316] Elapsed 2m 38s (remain 4m 18s) Loss: 0.1265(0.1391) Grad: 0.3813 LR: 0.000087  \n",
      "Epoch: [3][600/1316] Elapsed 3m 10s (remain 3m 46s) Loss: 0.1308(0.1363) Grad: 0.3208 LR: 0.000086  \n",
      "Epoch: [3][700/1316] Elapsed 3m 41s (remain 3m 14s) Loss: 0.0838(0.1356) Grad: 0.3364 LR: 0.000085  \n",
      "Epoch: [3][800/1316] Elapsed 4m 12s (remain 2m 42s) Loss: 0.1459(0.1339) Grad: 0.4656 LR: 0.000084  \n",
      "Epoch: [3][900/1316] Elapsed 4m 44s (remain 2m 10s) Loss: 0.2195(0.1337) Grad: 0.4871 LR: 0.000084  \n",
      "Epoch: [3][1000/1316] Elapsed 5m 15s (remain 1m 39s) Loss: 0.1481(0.1332) Grad: 0.2847 LR: 0.000083  \n",
      "Epoch: [3][1100/1316] Elapsed 5m 47s (remain 1m 7s) Loss: 0.2018(0.1325) Grad: 0.4430 LR: 0.000082  \n",
      "Epoch: [3][1200/1316] Elapsed 6m 18s (remain 0m 36s) Loss: 0.2357(0.1331) Grad: 0.3454 LR: 0.000081  \n",
      "Epoch: [3][1300/1316] Elapsed 6m 49s (remain 0m 4s) Loss: 0.2052(0.1333) Grad: 0.2701 LR: 0.000080  \n",
      "Epoch: [3][1315/1316] Elapsed 6m 54s (remain 0m 0s) Loss: 0.1555(0.1335) Grad: 0.4718 LR: 0.000080  \n",
      "EVAL: [0/330] Elapsed 0m 0s (remain 4m 32s) Loss: 0.0750(0.0750) \n",
      "EVAL: [100/330] Elapsed 0m 10s (remain 0m 23s) Loss: 0.1474(0.0633) \n",
      "EVAL: [200/330] Elapsed 0m 19s (remain 0m 12s) Loss: 0.0645(0.0675) \n",
      "EVAL: [300/330] Elapsed 0m 28s (remain 0m 2s) Loss: 0.0334(0.0676) \n"
     ]
    },
    {
     "name": "stderr",
     "output_type": "stream",
     "text": [
      "Epoch 3 - avg_train_loss: 0.1335  avg_val_loss: 0.0675  time: 446s\n",
      "Epoch 3 - Accuracy: 0.8870324662996013\n",
      "Epoch 3 - Save Best Score: 0.8870 Model\n"
     ]
    },
    {
     "name": "stdout",
     "output_type": "stream",
     "text": [
      "EVAL: [329/330] Elapsed 0m 31s (remain 0m 0s) Loss: 0.0238(0.0675) \n",
      "Epoch: [4][0/1316] Elapsed 0m 1s (remain 25m 33s) Loss: 0.0277(0.0277) Grad: 0.1547 LR: 0.000080  \n",
      "Epoch: [4][100/1316] Elapsed 0m 32s (remain 6m 29s) Loss: 0.1841(0.1207) Grad: 0.4247 LR: 0.000079  \n",
      "Epoch: [4][200/1316] Elapsed 1m 4s (remain 5m 56s) Loss: 0.1939(0.1207) Grad: 0.6478 LR: 0.000078  \n",
      "Epoch: [4][300/1316] Elapsed 1m 35s (remain 5m 22s) Loss: 0.2297(0.1230) Grad: 0.6757 LR: 0.000077  \n",
      "Epoch: [4][400/1316] Elapsed 2m 7s (remain 4m 50s) Loss: 0.0844(0.1209) Grad: 0.7216 LR: 0.000076  \n",
      "Epoch: [4][500/1316] Elapsed 2m 38s (remain 4m 18s) Loss: 0.2078(0.1233) Grad: 0.4835 LR: 0.000075  \n",
      "Epoch: [4][600/1316] Elapsed 3m 10s (remain 3m 46s) Loss: 0.2193(0.1242) Grad: 0.4315 LR: 0.000074  \n",
      "Epoch: [4][700/1316] Elapsed 3m 41s (remain 3m 14s) Loss: 0.0985(0.1250) Grad: 0.2510 LR: 0.000073  \n",
      "Epoch: [4][800/1316] Elapsed 4m 13s (remain 2m 43s) Loss: 0.0622(0.1258) Grad: 0.2837 LR: 0.000072  \n",
      "Epoch: [4][900/1316] Elapsed 4m 45s (remain 2m 11s) Loss: 0.1961(0.1258) Grad: 0.2046 LR: 0.000071  \n",
      "Epoch: [4][1000/1316] Elapsed 5m 16s (remain 1m 39s) Loss: 0.1188(0.1242) Grad: 0.3407 LR: 0.000070  \n",
      "Epoch: [4][1100/1316] Elapsed 5m 47s (remain 1m 7s) Loss: 0.1320(0.1257) Grad: 0.2358 LR: 0.000069  \n",
      "Epoch: [4][1200/1316] Elapsed 6m 19s (remain 0m 36s) Loss: 0.0969(0.1263) Grad: 0.3970 LR: 0.000067  \n",
      "Epoch: [4][1300/1316] Elapsed 6m 50s (remain 0m 4s) Loss: 0.1486(0.1266) Grad: 0.2050 LR: 0.000066  \n",
      "Epoch: [4][1315/1316] Elapsed 6m 55s (remain 0m 0s) Loss: 0.0677(0.1262) Grad: 0.6376 LR: 0.000066  \n",
      "EVAL: [0/330] Elapsed 0m 0s (remain 4m 4s) Loss: 0.0697(0.0697) \n",
      "EVAL: [100/330] Elapsed 0m 10s (remain 0m 23s) Loss: 0.1529(0.0650) \n",
      "EVAL: [200/330] Elapsed 0m 19s (remain 0m 12s) Loss: 0.0709(0.0693) \n",
      "EVAL: [300/330] Elapsed 0m 28s (remain 0m 2s) Loss: 0.0489(0.0697) \n"
     ]
    },
    {
     "name": "stderr",
     "output_type": "stream",
     "text": [
      "Epoch 4 - avg_train_loss: 0.1262  avg_val_loss: 0.0698  time: 447s\n",
      "Epoch 4 - Accuracy: 0.8824757926713499\n"
     ]
    },
    {
     "name": "stdout",
     "output_type": "stream",
     "text": [
      "EVAL: [329/330] Elapsed 0m 31s (remain 0m 0s) Loss: 0.0203(0.0698) \n",
      "Epoch: [5][0/1316] Elapsed 0m 1s (remain 25m 30s) Loss: 0.0448(0.0448) Grad: 0.3429 LR: 0.000066  \n",
      "Epoch: [5][100/1316] Elapsed 0m 32s (remain 6m 30s) Loss: 0.1713(0.1184) Grad: 0.4084 LR: 0.000065  \n",
      "Epoch: [5][200/1316] Elapsed 1m 4s (remain 5m 56s) Loss: 0.1565(0.1204) Grad: 0.2697 LR: 0.000064  \n",
      "Epoch: [5][300/1316] Elapsed 1m 35s (remain 5m 22s) Loss: 0.0204(0.1210) Grad: 0.2969 LR: 0.000063  \n",
      "Epoch: [5][400/1316] Elapsed 2m 6s (remain 4m 49s) Loss: 0.0282(0.1231) Grad: 0.2336 LR: 0.000062  \n",
      "Epoch: [5][500/1316] Elapsed 2m 38s (remain 4m 17s) Loss: 0.1482(0.1220) Grad: 0.3785 LR: 0.000061  \n",
      "Epoch: [5][600/1316] Elapsed 3m 9s (remain 3m 45s) Loss: 0.1578(0.1226) Grad: 0.2593 LR: 0.000059  \n",
      "Epoch: [5][700/1316] Elapsed 3m 41s (remain 3m 14s) Loss: 0.1558(0.1226) Grad: 0.3280 LR: 0.000058  \n",
      "Epoch: [5][800/1316] Elapsed 4m 12s (remain 2m 42s) Loss: 0.2081(0.1229) Grad: 0.4558 LR: 0.000057  \n",
      "Epoch: [5][900/1316] Elapsed 4m 44s (remain 2m 11s) Loss: 0.0867(0.1222) Grad: 0.4594 LR: 0.000056  \n",
      "Epoch: [5][1000/1316] Elapsed 5m 16s (remain 1m 39s) Loss: 0.1306(0.1229) Grad: 0.2487 LR: 0.000055  \n",
      "Epoch: [5][1100/1316] Elapsed 5m 47s (remain 1m 7s) Loss: 0.1343(0.1229) Grad: 0.2008 LR: 0.000054  \n",
      "Epoch: [5][1200/1316] Elapsed 6m 18s (remain 0m 36s) Loss: 0.0303(0.1227) Grad: 0.3537 LR: 0.000052  \n",
      "Epoch: [5][1300/1316] Elapsed 6m 50s (remain 0m 4s) Loss: 0.1100(0.1225) Grad: 0.2647 LR: 0.000051  \n",
      "Epoch: [5][1315/1316] Elapsed 6m 54s (remain 0m 0s) Loss: 0.0496(0.1223) Grad: 0.4723 LR: 0.000051  \n",
      "EVAL: [0/330] Elapsed 0m 0s (remain 4m 37s) Loss: 0.0751(0.0751) \n",
      "EVAL: [100/330] Elapsed 0m 10s (remain 0m 23s) Loss: 0.1575(0.0603) \n",
      "EVAL: [200/330] Elapsed 0m 19s (remain 0m 12s) Loss: 0.0948(0.0659) \n",
      "EVAL: [300/330] Elapsed 0m 29s (remain 0m 2s) Loss: 0.0438(0.0663) \n"
     ]
    },
    {
     "name": "stderr",
     "output_type": "stream",
     "text": [
      "Epoch 5 - avg_train_loss: 0.1223  avg_val_loss: 0.0657  time: 447s\n",
      "Epoch 5 - Accuracy: 0.8876020505031327\n",
      "Epoch 5 - Save Best Score: 0.8876 Model\n"
     ]
    },
    {
     "name": "stdout",
     "output_type": "stream",
     "text": [
      "EVAL: [329/330] Elapsed 0m 31s (remain 0m 0s) Loss: 0.0056(0.0657) \n",
      "Epoch: [6][0/1316] Elapsed 0m 1s (remain 25m 27s) Loss: 0.0138(0.0138) Grad: 0.2372 LR: 0.000051  \n",
      "Epoch: [6][100/1316] Elapsed 0m 32s (remain 6m 34s) Loss: 0.1099(0.1206) Grad: 0.4849 LR: 0.000050  \n",
      "Epoch: [6][200/1316] Elapsed 1m 4s (remain 5m 57s) Loss: 0.0770(0.1187) Grad: 0.3007 LR: 0.000049  \n",
      "Epoch: [6][300/1316] Elapsed 1m 35s (remain 5m 23s) Loss: 0.0333(0.1172) Grad: 0.2006 LR: 0.000048  \n",
      "Epoch: [6][400/1316] Elapsed 2m 7s (remain 4m 50s) Loss: 0.0990(0.1190) Grad: 0.6128 LR: 0.000046  \n",
      "Epoch: [6][500/1316] Elapsed 2m 38s (remain 4m 18s) Loss: 0.1086(0.1197) Grad: 0.3334 LR: 0.000045  \n",
      "Epoch: [6][600/1316] Elapsed 3m 10s (remain 3m 46s) Loss: 0.1790(0.1194) Grad: 0.3359 LR: 0.000044  \n",
      "Epoch: [6][700/1316] Elapsed 3m 41s (remain 3m 14s) Loss: 0.0158(0.1181) Grad: 0.2167 LR: 0.000043  \n",
      "Epoch: [6][800/1316] Elapsed 4m 12s (remain 2m 42s) Loss: 0.0887(0.1175) Grad: 0.2890 LR: 0.000042  \n",
      "Epoch: [6][900/1316] Elapsed 4m 44s (remain 2m 10s) Loss: 0.1300(0.1171) Grad: 0.2048 LR: 0.000041  \n",
      "Epoch: [6][1000/1316] Elapsed 5m 15s (remain 1m 39s) Loss: 0.1483(0.1170) Grad: 0.1265 LR: 0.000039  \n",
      "Epoch: [6][1100/1316] Elapsed 5m 46s (remain 1m 7s) Loss: 0.1450(0.1176) Grad: 0.3974 LR: 0.000038  \n",
      "Epoch: [6][1200/1316] Elapsed 6m 18s (remain 0m 36s) Loss: 0.1083(0.1175) Grad: 0.3758 LR: 0.000037  \n",
      "Epoch: [6][1300/1316] Elapsed 6m 49s (remain 0m 4s) Loss: 0.0384(0.1175) Grad: 0.4962 LR: 0.000036  \n",
      "Epoch: [6][1315/1316] Elapsed 6m 54s (remain 0m 0s) Loss: 0.1573(0.1175) Grad: 0.5223 LR: 0.000036  \n",
      "EVAL: [0/330] Elapsed 0m 0s (remain 4m 26s) Loss: 0.0732(0.0732) \n",
      "EVAL: [100/330] Elapsed 0m 10s (remain 0m 23s) Loss: 0.1725(0.0636) \n",
      "EVAL: [200/330] Elapsed 0m 19s (remain 0m 12s) Loss: 0.0791(0.0679) \n",
      "EVAL: [300/330] Elapsed 0m 28s (remain 0m 2s) Loss: 0.0604(0.0677) \n"
     ]
    },
    {
     "name": "stderr",
     "output_type": "stream",
     "text": [
      "Epoch 6 - avg_train_loss: 0.1175  avg_val_loss: 0.0673  time: 446s\n",
      "Epoch 6 - Accuracy: 0.8857034364913613\n"
     ]
    },
    {
     "name": "stdout",
     "output_type": "stream",
     "text": [
      "EVAL: [329/330] Elapsed 0m 31s (remain 0m 0s) Loss: 0.0204(0.0673) \n",
      "Epoch: [7][0/1316] Elapsed 0m 1s (remain 24m 54s) Loss: 0.0133(0.0133) Grad: 0.2538 LR: 0.000036  \n",
      "Epoch: [7][100/1316] Elapsed 0m 32s (remain 6m 27s) Loss: 0.0258(0.0923) Grad: 0.2821 LR: 0.000035  \n",
      "Epoch: [7][200/1316] Elapsed 1m 3s (remain 5m 50s) Loss: 0.0661(0.0887) Grad: 0.4373 LR: 0.000034  \n",
      "Epoch: [7][300/1316] Elapsed 1m 34s (remain 5m 17s) Loss: 0.0887(0.0889) Grad: 0.3965 LR: 0.000033  \n",
      "Epoch: [7][400/1316] Elapsed 2m 5s (remain 4m 45s) Loss: 0.0526(0.0883) Grad: 0.5229 LR: 0.000032  \n",
      "Epoch: [7][500/1316] Elapsed 2m 36s (remain 4m 14s) Loss: 0.0894(0.0875) Grad: 0.3099 LR: 0.000030  \n",
      "Epoch: [7][600/1316] Elapsed 3m 7s (remain 3m 42s) Loss: 0.0595(0.0886) Grad: 0.2496 LR: 0.000029  \n",
      "Epoch: [7][700/1316] Elapsed 3m 38s (remain 3m 11s) Loss: 0.0525(0.0897) Grad: 0.4309 LR: 0.000028  \n",
      "Epoch: [7][800/1316] Elapsed 4m 9s (remain 2m 40s) Loss: 0.1068(0.0899) Grad: 0.2386 LR: 0.000027  \n",
      "Epoch: [7][900/1316] Elapsed 4m 40s (remain 2m 9s) Loss: 0.1130(0.0889) Grad: 0.5751 LR: 0.000026  \n",
      "Epoch: [7][1000/1316] Elapsed 5m 11s (remain 1m 38s) Loss: 0.1082(0.0885) Grad: 0.4462 LR: 0.000025  \n",
      "Epoch: [7][1100/1316] Elapsed 5m 42s (remain 1m 6s) Loss: 0.0316(0.0884) Grad: 0.2895 LR: 0.000024  \n",
      "Epoch: [7][1200/1316] Elapsed 6m 13s (remain 0m 35s) Loss: 0.1956(0.0887) Grad: 0.3015 LR: 0.000023  \n",
      "Epoch: [7][1300/1316] Elapsed 6m 44s (remain 0m 4s) Loss: 0.1215(0.0881) Grad: 0.4380 LR: 0.000022  \n",
      "Epoch: [7][1315/1316] Elapsed 6m 49s (remain 0m 0s) Loss: 0.0374(0.0882) Grad: 0.2204 LR: 0.000022  \n",
      "EVAL: [0/330] Elapsed 0m 0s (remain 5m 3s) Loss: 0.0636(0.0636) \n",
      "EVAL: [100/330] Elapsed 0m 10s (remain 0m 23s) Loss: 0.1491(0.0584) \n",
      "EVAL: [200/330] Elapsed 0m 19s (remain 0m 12s) Loss: 0.0560(0.0639) \n",
      "EVAL: [300/330] Elapsed 0m 28s (remain 0m 2s) Loss: 0.0612(0.0647) \n"
     ]
    },
    {
     "name": "stderr",
     "output_type": "stream",
     "text": [
      "Epoch 7 - avg_train_loss: 0.0882  avg_val_loss: 0.0642  time: 441s\n",
      "Epoch 7 - Accuracy: 0.8906398329219669\n",
      "Epoch 7 - Save Best Score: 0.8906 Model\n"
     ]
    },
    {
     "name": "stdout",
     "output_type": "stream",
     "text": [
      "EVAL: [329/330] Elapsed 0m 31s (remain 0m 0s) Loss: 0.0142(0.0642) \n",
      "Epoch: [8][0/1316] Elapsed 0m 1s (remain 25m 39s) Loss: 0.1191(0.1191) Grad: 0.1805 LR: 0.000022  \n",
      "Epoch: [8][100/1316] Elapsed 0m 31s (remain 6m 23s) Loss: 0.0741(0.0770) Grad: 0.3040 LR: 0.000021  \n",
      "Epoch: [8][200/1316] Elapsed 1m 2s (remain 5m 49s) Loss: 0.0046(0.0776) Grad: 0.1200 LR: 0.000020  \n",
      "Epoch: [8][300/1316] Elapsed 1m 33s (remain 5m 16s) Loss: 0.0054(0.0807) Grad: 0.1302 LR: 0.000020  \n",
      "Epoch: [8][400/1316] Elapsed 2m 4s (remain 4m 45s) Loss: 0.0721(0.0833) Grad: 0.3535 LR: 0.000019  \n",
      "Epoch: [8][500/1316] Elapsed 2m 35s (remain 4m 13s) Loss: 0.0234(0.0817) Grad: 0.2776 LR: 0.000018  \n",
      "Epoch: [8][600/1316] Elapsed 3m 6s (remain 3m 42s) Loss: 0.0487(0.0823) Grad: 0.2789 LR: 0.000017  \n",
      "Epoch: [8][700/1316] Elapsed 3m 37s (remain 3m 10s) Loss: 0.0534(0.0821) Grad: 0.3269 LR: 0.000016  \n",
      "Epoch: [8][800/1316] Elapsed 4m 8s (remain 2m 40s) Loss: 0.0553(0.0826) Grad: 0.2132 LR: 0.000015  \n",
      "Epoch: [8][900/1316] Elapsed 4m 39s (remain 2m 8s) Loss: 0.0023(0.0819) Grad: 0.0935 LR: 0.000014  \n",
      "Epoch: [8][1000/1316] Elapsed 5m 10s (remain 1m 37s) Loss: 0.0685(0.0815) Grad: 0.2679 LR: 0.000014  \n",
      "Epoch: [8][1100/1316] Elapsed 5m 41s (remain 1m 6s) Loss: 0.1471(0.0820) Grad: 0.1876 LR: 0.000013  \n",
      "Epoch: [8][1200/1316] Elapsed 6m 12s (remain 0m 35s) Loss: 0.1599(0.0824) Grad: 0.2086 LR: 0.000012  \n",
      "Epoch: [8][1300/1316] Elapsed 6m 43s (remain 0m 4s) Loss: 0.0861(0.0825) Grad: 0.1926 LR: 0.000012  \n",
      "Epoch: [8][1315/1316] Elapsed 6m 48s (remain 0m 0s) Loss: 0.0710(0.0825) Grad: 0.4440 LR: 0.000011  \n",
      "EVAL: [0/330] Elapsed 0m 0s (remain 4m 20s) Loss: 0.0850(0.0850) \n",
      "EVAL: [100/330] Elapsed 0m 10s (remain 0m 23s) Loss: 0.1686(0.0586) \n",
      "EVAL: [200/330] Elapsed 0m 19s (remain 0m 12s) Loss: 0.0685(0.0646) \n",
      "EVAL: [300/330] Elapsed 0m 28s (remain 0m 2s) Loss: 0.0439(0.0640) \n"
     ]
    },
    {
     "name": "stderr",
     "output_type": "stream",
     "text": [
      "Epoch 8 - avg_train_loss: 0.0825  avg_val_loss: 0.0632  time: 440s\n",
      "Epoch 8 - Accuracy: 0.8912094171254984\n",
      "Epoch 8 - Save Best Score: 0.8912 Model\n"
     ]
    },
    {
     "name": "stdout",
     "output_type": "stream",
     "text": [
      "EVAL: [329/330] Elapsed 0m 31s (remain 0m 0s) Loss: 0.0022(0.0632) \n",
      "Epoch: [9][0/1316] Elapsed 0m 1s (remain 26m 30s) Loss: 0.0594(0.0594) Grad: 0.0771 LR: 0.000011  \n",
      "Epoch: [9][100/1316] Elapsed 0m 32s (remain 6m 28s) Loss: 0.0210(0.0818) Grad: 0.2880 LR: 0.000011  \n",
      "Epoch: [9][200/1316] Elapsed 1m 3s (remain 5m 52s) Loss: 0.0952(0.0813) Grad: 0.3251 LR: 0.000010  \n",
      "Epoch: [9][300/1316] Elapsed 1m 34s (remain 5m 18s) Loss: 0.0411(0.0825) Grad: 0.2593 LR: 0.000009  \n",
      "Epoch: [9][400/1316] Elapsed 2m 5s (remain 4m 46s) Loss: 0.0441(0.0818) Grad: 0.3673 LR: 0.000009  \n",
      "Epoch: [9][500/1316] Elapsed 2m 36s (remain 4m 14s) Loss: 0.0769(0.0805) Grad: 0.4601 LR: 0.000008  \n",
      "Epoch: [9][600/1316] Elapsed 3m 7s (remain 3m 43s) Loss: 0.1633(0.0809) Grad: 0.5097 LR: 0.000008  \n",
      "Epoch: [9][700/1316] Elapsed 3m 38s (remain 3m 11s) Loss: 0.0380(0.0824) Grad: 0.4285 LR: 0.000007  \n",
      "Epoch: [9][800/1316] Elapsed 4m 9s (remain 2m 40s) Loss: 0.1030(0.0811) Grad: 0.4046 LR: 0.000007  \n",
      "Epoch: [9][900/1316] Elapsed 4m 40s (remain 2m 9s) Loss: 0.1206(0.0804) Grad: 0.5229 LR: 0.000006  \n",
      "Epoch: [9][1000/1316] Elapsed 5m 11s (remain 1m 37s) Loss: 0.0377(0.0807) Grad: 0.1928 LR: 0.000006  \n",
      "Epoch: [9][1100/1316] Elapsed 5m 42s (remain 1m 6s) Loss: 0.0536(0.0798) Grad: 0.1545 LR: 0.000005  \n",
      "Epoch: [9][1200/1316] Elapsed 6m 13s (remain 0m 35s) Loss: 0.0871(0.0794) Grad: 0.2550 LR: 0.000005  \n",
      "Epoch: [9][1300/1316] Elapsed 6m 44s (remain 0m 4s) Loss: 0.1203(0.0798) Grad: 0.3234 LR: 0.000004  \n",
      "Epoch: [9][1315/1316] Elapsed 6m 48s (remain 0m 0s) Loss: 0.2029(0.0800) Grad: 0.4579 LR: 0.000004  \n",
      "EVAL: [0/330] Elapsed 0m 0s (remain 4m 7s) Loss: 0.0808(0.0808) \n",
      "EVAL: [100/330] Elapsed 0m 10s (remain 0m 23s) Loss: 0.1782(0.0591) \n",
      "EVAL: [200/330] Elapsed 0m 19s (remain 0m 12s) Loss: 0.0834(0.0646) \n",
      "EVAL: [300/330] Elapsed 0m 28s (remain 0m 2s) Loss: 0.0546(0.0645) \n"
     ]
    },
    {
     "name": "stderr",
     "output_type": "stream",
     "text": [
      "Epoch 9 - avg_train_loss: 0.0800  avg_val_loss: 0.0635  time: 441s\n",
      "Epoch 9 - Accuracy: 0.8912094171254984\n"
     ]
    },
    {
     "name": "stdout",
     "output_type": "stream",
     "text": [
      "EVAL: [329/330] Elapsed 0m 31s (remain 0m 0s) Loss: 0.0056(0.0635) \n",
      "Epoch: [10][0/1316] Elapsed 0m 1s (remain 22m 24s) Loss: 0.0389(0.0389) Grad: 0.3154 LR: 0.000004  \n",
      "Epoch: [10][100/1316] Elapsed 0m 31s (remain 6m 19s) Loss: 0.0697(0.0293) Grad: 0.3246 LR: 0.000004  \n",
      "Epoch: [10][200/1316] Elapsed 1m 2s (remain 5m 45s) Loss: 0.0038(0.0306) Grad: 0.0912 LR: 0.000004  \n",
      "Epoch: [10][300/1316] Elapsed 1m 32s (remain 5m 12s) Loss: 0.0114(0.0303) Grad: 0.1847 LR: 0.000003  \n",
      "Epoch: [10][400/1316] Elapsed 2m 3s (remain 4m 41s) Loss: 0.0085(0.0317) Grad: 0.1928 LR: 0.000003  \n",
      "Epoch: [10][500/1316] Elapsed 2m 33s (remain 4m 10s) Loss: 0.0055(0.0317) Grad: 0.1172 LR: 0.000003  \n",
      "Epoch: [10][600/1316] Elapsed 3m 4s (remain 3m 39s) Loss: 0.0359(0.0320) Grad: 0.4479 LR: 0.000003  \n",
      "Epoch: [10][700/1316] Elapsed 3m 34s (remain 3m 8s) Loss: 0.0704(0.0320) Grad: 0.4609 LR: 0.000003  \n",
      "Epoch: [10][800/1316] Elapsed 4m 5s (remain 2m 37s) Loss: 0.0232(0.0317) Grad: 0.4100 LR: 0.000002  \n",
      "Epoch: [10][900/1316] Elapsed 4m 36s (remain 2m 7s) Loss: 0.0156(0.0315) Grad: 0.3370 LR: 0.000002  \n",
      "Epoch: [10][1000/1316] Elapsed 5m 6s (remain 1m 36s) Loss: 0.0353(0.0315) Grad: 0.3215 LR: 0.000002  \n",
      "Epoch: [10][1100/1316] Elapsed 5m 37s (remain 1m 5s) Loss: 0.0281(0.0314) Grad: 0.2977 LR: 0.000002  \n",
      "Epoch: [10][1200/1316] Elapsed 6m 7s (remain 0m 35s) Loss: 0.0138(0.0316) Grad: 0.2487 LR: 0.000002  \n",
      "Epoch: [10][1300/1316] Elapsed 6m 38s (remain 0m 4s) Loss: 0.0207(0.0312) Grad: 0.3908 LR: 0.000002  \n",
      "Epoch: [10][1315/1316] Elapsed 6m 42s (remain 0m 0s) Loss: 0.0442(0.0311) Grad: 0.5533 LR: 0.000002  \n",
      "EVAL: [0/330] Elapsed 0m 0s (remain 4m 20s) Loss: 0.0891(0.0891) \n",
      "EVAL: [100/330] Elapsed 0m 10s (remain 0m 23s) Loss: 0.1810(0.0600) \n",
      "EVAL: [200/330] Elapsed 0m 19s (remain 0m 12s) Loss: 0.0814(0.0655) \n",
      "EVAL: [300/330] Elapsed 0m 28s (remain 0m 2s) Loss: 0.0473(0.0647) \n"
     ]
    },
    {
     "name": "stderr",
     "output_type": "stream",
     "text": [
      "Epoch 10 - avg_train_loss: 0.0311  avg_val_loss: 0.0638  time: 435s\n",
      "Epoch 10 - Accuracy: 0.8934877539396241\n",
      "Epoch 10 - Save Best Score: 0.8935 Model\n"
     ]
    },
    {
     "name": "stdout",
     "output_type": "stream",
     "text": [
      "EVAL: [329/330] Elapsed 0m 31s (remain 0m 0s) Loss: 0.0006(0.0638) \n"
     ]
    },
    {
     "name": "stderr",
     "output_type": "stream",
     "text": [
      "Epoch 10 - Save final model\n",
      "========== fold: 4 result ==========\n",
      "Score: 0.89349\n",
      "========== CV ==========\n",
      "Score: 0.89220\n"
     ]
    }
   ],
   "source": [
    "if __name__ == \"__main__\":\n",
    "    main()"
   ]
  }
 ],
 "metadata": {
  "kernelspec": {
   "display_name": "Python 3",
   "language": "python",
   "name": "python3"
  },
  "language_info": {
   "codemirror_mode": {
    "name": "ipython",
    "version": 3
   },
   "file_extension": ".py",
   "mimetype": "text/x-python",
   "name": "python",
   "nbconvert_exporter": "python",
   "pygments_lexer": "ipython3",
   "version": "3.7.9"
  }
 },
 "nbformat": 4,
 "nbformat_minor": 4
}
