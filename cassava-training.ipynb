{
 "cells": [
  {
   "cell_type": "markdown",
   "metadata": {},
   "source": [
    "# About this notebook  \n",
    "\n",
    "TBD..."
   ]
  },
  {
   "cell_type": "code",
   "execution_count": 1,
   "metadata": {},
   "outputs": [],
   "source": [
    "import os\n",
    "\n",
    "if os.environ.get(\"KAGGLE_KERNEL_RUN_TYPE\") is None:\n",
    "    ON_KAGGLE = False\n",
    "else:\n",
    "    ON_KAGGLE = True"
   ]
  },
  {
   "cell_type": "markdown",
   "metadata": {},
   "source": [
    "# Data Loading"
   ]
  },
  {
   "cell_type": "code",
   "execution_count": 2,
   "metadata": {},
   "outputs": [],
   "source": [
    "import os\n",
    "\n",
    "import pandas as pd\n",
    "import seaborn as sns\n",
    "from matplotlib import pyplot as plt"
   ]
  },
  {
   "cell_type": "code",
   "execution_count": 3,
   "metadata": {},
   "outputs": [
    {
     "data": {
      "text/plain": [
       "['train_tfrecords',\n",
       " 'train_images',\n",
       " 'test_images',\n",
       " 'label_num_to_disease_map.json',\n",
       " 'sample_submission.csv',\n",
       " 'train.csv',\n",
       " 'test_tfrecords']"
      ]
     },
     "execution_count": 3,
     "metadata": {},
     "output_type": "execute_result"
    }
   ],
   "source": [
    "os.listdir(\"../input/cassava-leaf-disease-classification\")"
   ]
  },
  {
   "cell_type": "code",
   "execution_count": 4,
   "metadata": {},
   "outputs": [
    {
     "data": {
      "text/html": [
       "<div>\n",
       "<style scoped>\n",
       "    .dataframe tbody tr th:only-of-type {\n",
       "        vertical-align: middle;\n",
       "    }\n",
       "\n",
       "    .dataframe tbody tr th {\n",
       "        vertical-align: top;\n",
       "    }\n",
       "\n",
       "    .dataframe thead th {\n",
       "        text-align: right;\n",
       "    }\n",
       "</style>\n",
       "<table border=\"1\" class=\"dataframe\">\n",
       "  <thead>\n",
       "    <tr style=\"text-align: right;\">\n",
       "      <th></th>\n",
       "      <th>image_id</th>\n",
       "      <th>label</th>\n",
       "      <th>source</th>\n",
       "    </tr>\n",
       "  </thead>\n",
       "  <tbody>\n",
       "    <tr>\n",
       "      <th>0</th>\n",
       "      <td>1000015157.jpg</td>\n",
       "      <td>0</td>\n",
       "      <td>2020</td>\n",
       "    </tr>\n",
       "    <tr>\n",
       "      <th>1</th>\n",
       "      <td>1000201771.jpg</td>\n",
       "      <td>3</td>\n",
       "      <td>2020</td>\n",
       "    </tr>\n",
       "    <tr>\n",
       "      <th>2</th>\n",
       "      <td>100042118.jpg</td>\n",
       "      <td>1</td>\n",
       "      <td>2020</td>\n",
       "    </tr>\n",
       "    <tr>\n",
       "      <th>3</th>\n",
       "      <td>1000723321.jpg</td>\n",
       "      <td>1</td>\n",
       "      <td>2020</td>\n",
       "    </tr>\n",
       "    <tr>\n",
       "      <th>4</th>\n",
       "      <td>1000812911.jpg</td>\n",
       "      <td>3</td>\n",
       "      <td>2020</td>\n",
       "    </tr>\n",
       "  </tbody>\n",
       "</table>\n",
       "</div>"
      ],
      "text/plain": [
       "         image_id  label  source\n",
       "0  1000015157.jpg      0    2020\n",
       "1  1000201771.jpg      3    2020\n",
       "2   100042118.jpg      1    2020\n",
       "3  1000723321.jpg      1    2020\n",
       "4  1000812911.jpg      3    2020"
      ]
     },
     "metadata": {},
     "output_type": "display_data"
    },
    {
     "data": {
      "text/html": [
       "<div>\n",
       "<style scoped>\n",
       "    .dataframe tbody tr th:only-of-type {\n",
       "        vertical-align: middle;\n",
       "    }\n",
       "\n",
       "    .dataframe tbody tr th {\n",
       "        vertical-align: top;\n",
       "    }\n",
       "\n",
       "    .dataframe thead th {\n",
       "        text-align: right;\n",
       "    }\n",
       "</style>\n",
       "<table border=\"1\" class=\"dataframe\">\n",
       "  <thead>\n",
       "    <tr style=\"text-align: right;\">\n",
       "      <th></th>\n",
       "      <th>image_id</th>\n",
       "      <th>label</th>\n",
       "    </tr>\n",
       "  </thead>\n",
       "  <tbody>\n",
       "    <tr>\n",
       "      <th>0</th>\n",
       "      <td>2216849948.jpg</td>\n",
       "      <td>4</td>\n",
       "    </tr>\n",
       "  </tbody>\n",
       "</table>\n",
       "</div>"
      ],
      "text/plain": [
       "         image_id  label\n",
       "0  2216849948.jpg      4"
      ]
     },
     "metadata": {},
     "output_type": "display_data"
    },
    {
     "data": {
      "text/html": [
       "<div>\n",
       "<style scoped>\n",
       "    .dataframe tbody tr th:only-of-type {\n",
       "        vertical-align: middle;\n",
       "    }\n",
       "\n",
       "    .dataframe tbody tr th {\n",
       "        vertical-align: top;\n",
       "    }\n",
       "\n",
       "    .dataframe thead th {\n",
       "        text-align: right;\n",
       "    }\n",
       "</style>\n",
       "<table border=\"1\" class=\"dataframe\">\n",
       "  <thead>\n",
       "    <tr style=\"text-align: right;\">\n",
       "      <th></th>\n",
       "      <th>0</th>\n",
       "    </tr>\n",
       "  </thead>\n",
       "  <tbody>\n",
       "    <tr>\n",
       "      <th>0</th>\n",
       "      <td>Cassava Bacterial Blight (CBB)</td>\n",
       "    </tr>\n",
       "    <tr>\n",
       "      <th>1</th>\n",
       "      <td>Cassava Brown Streak Disease (CBSD)</td>\n",
       "    </tr>\n",
       "    <tr>\n",
       "      <th>2</th>\n",
       "      <td>Cassava Green Mottle (CGM)</td>\n",
       "    </tr>\n",
       "    <tr>\n",
       "      <th>3</th>\n",
       "      <td>Cassava Mosaic Disease (CMD)</td>\n",
       "    </tr>\n",
       "    <tr>\n",
       "      <th>4</th>\n",
       "      <td>Healthy</td>\n",
       "    </tr>\n",
       "  </tbody>\n",
       "</table>\n",
       "</div>"
      ],
      "text/plain": [
       "                                     0\n",
       "0       Cassava Bacterial Blight (CBB)\n",
       "1  Cassava Brown Streak Disease (CBSD)\n",
       "2           Cassava Green Mottle (CGM)\n",
       "3         Cassava Mosaic Disease (CMD)\n",
       "4                              Healthy"
      ]
     },
     "metadata": {},
     "output_type": "display_data"
    }
   ],
   "source": [
    "# train = pd.read_csv(\"../input/cassava-leaf-disease-classification/train.csv\")\n",
    "train = pd.read_csv(\"../input/cassava-leaf-disease-merged/merged.csv\")\n",
    "# train = pd.read_csv(\"../input/cassava-leaf-disease-merged/oversample-0124.csv\")  # label 0124 x3\n",
    "test = pd.read_csv(\"../input/cassava-leaf-disease-classification/sample_submission.csv\")\n",
    "label_map = pd.read_json(\"../input/cassava-leaf-disease-classification/label_num_to_disease_map.json\", orient=\"index\")\n",
    "display(train.head())\n",
    "display(test.head())\n",
    "display(label_map)"
   ]
  },
  {
   "cell_type": "code",
   "execution_count": 5,
   "metadata": {},
   "outputs": [
    {
     "name": "stderr",
     "output_type": "stream",
     "text": [
      "/opt/conda/lib/python3.7/site-packages/seaborn/distributions.py:2557: FutureWarning: `distplot` is a deprecated function and will be removed in a future version. Please adapt your code to use either `displot` (a figure-level function with similar flexibility) or `histplot` (an axes-level function for histograms).\n",
      "  warnings.warn(msg, FutureWarning)\n"
     ]
    },
    {
     "data": {
      "text/plain": [
       "<AxesSubplot:xlabel='label'>"
      ]
     },
     "execution_count": 5,
     "metadata": {},
     "output_type": "execute_result"
    },
    {
     "data": {
      "image/png": "[encoded data removed]",
      "text/plain": [
       "<Figure size 432x288 with 1 Axes>"
      ]
     },
     "metadata": {
      "needs_background": "light"
     },
     "output_type": "display_data"
    }
   ],
   "source": [
    "sns.distplot(train[\"label\"], kde=False)"
   ]
  },
  {
   "cell_type": "markdown",
   "metadata": {},
   "source": [
    "# Directory settings"
   ]
  },
  {
   "cell_type": "code",
   "execution_count": 6,
   "metadata": {},
   "outputs": [],
   "source": [
    "# ====================================================\n",
    "# Directory settings\n",
    "# ====================================================\n",
    "import os\n",
    "\n",
    "OUTPUT_DIR = \"./\"\n",
    "if not os.path.exists(OUTPUT_DIR):\n",
    "    os.makedirs(OUTPUT_DIR)\n",
    "\n",
    "# TRAIN_PATH = \"../input/cassava-leaf-disease-classification/train_images\"\n",
    "TRAIN_PATH = \"../input/cassava-leaf-disease-merged/train\"\n",
    "TEST_PATH = \"../input/cassava-leaf-disease-classification/test_images\""
   ]
  },
  {
   "cell_type": "markdown",
   "metadata": {},
   "source": [
    "# CFG"
   ]
  },
  {
   "cell_type": "code",
   "execution_count": 7,
   "metadata": {},
   "outputs": [],
   "source": [
    "# ====================================================\n",
    "# CFG\n",
    "# ====================================================\n",
    "class CFG:\n",
    "    debug = False\n",
    "    apex = True\n",
    "    print_freq = 100\n",
    "    num_workers = 4\n",
    "    model_name = (\n",
    "        \"vit_base_patch16_384\"  # resnext50_32x4d, tf_efficientnet_b3_ns, tf_efficientnet_b4_ns, vit_base_patch16_384\n",
    "    )\n",
    "    batch_size = 16  # resnext50_32x4d: 14-30, tf_efficientnet_b3_ns:10-22, tf_efficientnet_b4_ns: 8-16\n",
    "    gradient_accumulation_steps = 2\n",
    "    size = 384 if model_name.startswith(\"vit_base_\") else 512  # 512 if ON_KAGGLE else 384\n",
    "    n_fold = 5\n",
    "    trn_fold = [0, 1, 2, 3, 4]\n",
    "    criterion = \"BiTemperedLoss\"  # ['CrossEntropyLoss', 'BiTemperedLoss']\n",
    "    btl_t1 = 0.3  # Bi-Tempered Logistic Loss\n",
    "    btl_t2 = 1.0\n",
    "    label_smoothing = 0.05\n",
    "    scheduler = \"CosineAnnealingWarmupRestarts\"  # ['ReduceLROnPlateau', 'CosineAnnealingLR', 'CosineAnnealingWarmRestarts', 'CosineAnnealingWarmupRestarts']\n",
    "    scheduler_batch_update = True\n",
    "    epochs = 10\n",
    "    # factor = 0.2  # ReduceLROnPlateau\n",
    "    # patience = 4  # ReduceLROnPlateau\n",
    "    # eps = 1e-6  # ReduceLROnPlateau\n",
    "    # T_max = 10  # CosineAnnealingLR\n",
    "    T_0 = (\n",
    "        len(train) // n_fold * (n_fold - 1) // batch_size // gradient_accumulation_steps * epochs\n",
    "    )  # CosineAnnealingWarmRestarts\n",
    "    first_cycle_steps = (\n",
    "        len(train) // n_fold * (n_fold - 1) // batch_size // gradient_accumulation_steps * epochs\n",
    "    )  # CosineAnnealingWarmupRestarts for batch update\n",
    "    warmup_steps = first_cycle_steps // 10  # CosineAnnealingWarmupRestarts\n",
    "    gamma = 0.8  # CosineAnnealingWarmupRestarts\n",
    "    lr = 2e-4\n",
    "    min_lr = 2e-6\n",
    "    weight_decay = 1e-6\n",
    "    max_grad_norm = 1000\n",
    "    seed = 1012\n",
    "    target_size = 5\n",
    "    target_col = \"label\"\n",
    "    train = True\n",
    "    inference = False\n",
    "\n",
    "\n",
    "if CFG.debug:\n",
    "    CFG.epochs = 1\n",
    "    train = train.sample(n=1000, random_state=CFG.seed).reset_index(drop=True)"
   ]
  },
  {
   "cell_type": "markdown",
   "metadata": {},
   "source": [
    "# Library"
   ]
  },
  {
   "cell_type": "code",
   "execution_count": 8,
   "metadata": {},
   "outputs": [],
   "source": [
    "# ====================================================\n",
    "# Library\n",
    "# ====================================================\n",
    "import sys\n",
    "\n",
    "sys.path.append(\"../input/pytorch-image-models/pytorch-image-models-master\")\n",
    "sys.path.append(\"../input/pytorchcosineannealingwithwarmup\")\n",
    "sys.path.append(\"../input/bitemperedlogloss/\")\n",
    "sys.path.append(\"../input/image-fmix/FMix-master\")\n",
    "\n",
    "import math\n",
    "import os\n",
    "import random\n",
    "import shutil\n",
    "import time\n",
    "import warnings\n",
    "from collections import Counter, defaultdict\n",
    "from contextlib import contextmanager\n",
    "from functools import partial\n",
    "from pathlib import Path\n",
    "\n",
    "import bi_tempered_loss_pytorch as btl\n",
    "import cv2\n",
    "import numpy as np\n",
    "import pandas as pd\n",
    "import scipy as sp\n",
    "import timm\n",
    "import torch\n",
    "import torch.nn as nn\n",
    "import torch.nn.functional as F\n",
    "import torchvision.models as models\n",
    "from albumentations import (\n",
    "    CoarseDropout,\n",
    "    Compose,\n",
    "    Cutout,\n",
    "    HorizontalFlip,\n",
    "    HueSaturationValue,\n",
    "    IAAAdditiveGaussianNoise,\n",
    "    ImageOnlyTransform,\n",
    "    Normalize,\n",
    "    OneOf,\n",
    "    RandomBrightness,\n",
    "    RandomBrightnessContrast,\n",
    "    RandomContrast,\n",
    "    RandomCrop,\n",
    "    RandomResizedCrop,\n",
    "    Resize,\n",
    "    Rotate,\n",
    "    ShiftScaleRotate,\n",
    "    Transpose,\n",
    "    VerticalFlip,\n",
    ")\n",
    "from albumentations.pytorch import ToTensorV2\n",
    "from cosine_annearing_with_warmup import CosineAnnealingWarmupRestarts\n",
    "from fmix import sample_mask\n",
    "from PIL import Image\n",
    "from sklearn import preprocessing\n",
    "from sklearn.metrics import accuracy_score\n",
    "from sklearn.model_selection import StratifiedKFold\n",
    "from torch.nn.parameter import Parameter\n",
    "from torch.optim import SGD, Adam\n",
    "from torch.optim.lr_scheduler import CosineAnnealingLR, CosineAnnealingWarmRestarts, ReduceLROnPlateau\n",
    "from torch.utils.data import DataLoader, Dataset\n",
    "from tqdm.auto import tqdm\n",
    "\n",
    "warnings.filterwarnings(\"ignore\")\n",
    "\n",
    "if CFG.apex:\n",
    "    from apex import amp\n",
    "\n",
    "device = torch.device(\"cuda\" if torch.cuda.is_available() else \"cpu\")"
   ]
  },
  {
   "cell_type": "markdown",
   "metadata": {},
   "source": [
    "# Utils"
   ]
  },
  {
   "cell_type": "code",
   "execution_count": 9,
   "metadata": {},
   "outputs": [],
   "source": [
    "# ====================================================\n",
    "# Utils\n",
    "# ====================================================\n",
    "def get_score(y_true, y_pred):\n",
    "    return accuracy_score(y_true, y_pred)\n",
    "\n",
    "\n",
    "@contextmanager\n",
    "def timer(name):\n",
    "    t0 = time.time()\n",
    "    LOGGER.info(f\"[{name}] start\")\n",
    "    yield\n",
    "    LOGGER.info(f\"[{name}] done in {time.time() - t0:.0f} s.\")\n",
    "\n",
    "\n",
    "def init_logger(log_file=OUTPUT_DIR + \"train.log\"):\n",
    "    from logging import INFO, FileHandler, Formatter, StreamHandler, getLogger\n",
    "\n",
    "    logger = getLogger(__name__)\n",
    "    logger.setLevel(INFO)\n",
    "    handler1 = StreamHandler()\n",
    "    handler1.setFormatter(Formatter(\"%(message)s\"))\n",
    "    handler2 = FileHandler(filename=log_file)\n",
    "    handler2.setFormatter(Formatter(\"%(message)s\"))\n",
    "    logger.addHandler(handler1)\n",
    "    logger.addHandler(handler2)\n",
    "    return logger\n",
    "\n",
    "\n",
    "LOGGER = init_logger()\n",
    "\n",
    "\n",
    "def seed_torch(seed=42):\n",
    "    random.seed(seed)\n",
    "    os.environ[\"PYTHONHASHSEED\"] = str(seed)\n",
    "    np.random.seed(seed)\n",
    "    torch.manual_seed(seed)\n",
    "    torch.cuda.manual_seed(seed)\n",
    "    torch.backends.cudnn.deterministic = True\n",
    "\n",
    "\n",
    "seed_torch(seed=CFG.seed)"
   ]
  },
  {
   "cell_type": "markdown",
   "metadata": {},
   "source": [
    "# CV split"
   ]
  },
  {
   "cell_type": "code",
   "execution_count": 10,
   "metadata": {},
   "outputs": [
    {
     "name": "stdout",
     "output_type": "stream",
     "text": [
      "fold  label\n",
      "0     0         299\n",
      "      1         695\n",
      "      2         604\n",
      "      3        3092\n",
      "      4         578\n",
      "1     0         299\n",
      "      1         695\n",
      "      2         604\n",
      "      3        3092\n",
      "      4         578\n",
      "2     0         298\n",
      "      1         695\n",
      "      2         603\n",
      "      3        3093\n",
      "      4         578\n",
      "3     0         298\n",
      "      1         695\n",
      "      2         603\n",
      "      3        3093\n",
      "      4         578\n",
      "4     0         298\n",
      "      1         696\n",
      "      2         603\n",
      "      3        3092\n",
      "      4         578\n",
      "dtype: int64\n"
     ]
    }
   ],
   "source": [
    "folds = train.copy()\n",
    "Fold = StratifiedKFold(n_splits=CFG.n_fold, shuffle=True, random_state=CFG.seed)\n",
    "for n, (train_index, val_index) in enumerate(Fold.split(folds, folds[CFG.target_col])):\n",
    "    folds.loc[val_index, \"fold\"] = int(n)\n",
    "folds[\"fold\"] = folds[\"fold\"].astype(int)\n",
    "print(folds.groupby([\"fold\", CFG.target_col]).size())"
   ]
  },
  {
   "cell_type": "markdown",
   "metadata": {},
   "source": [
    "# Dataset"
   ]
  },
  {
   "cell_type": "code",
   "execution_count": 11,
   "metadata": {},
   "outputs": [],
   "source": [
    "# ====================================================\n",
    "# Dataset\n",
    "# ====================================================\n",
    "class TrainDataset(Dataset):\n",
    "    def __init__(self, df, transform=None):\n",
    "        self.df = df\n",
    "        self.file_names = df[\"image_id\"].values\n",
    "        self.labels = df[\"label\"].values\n",
    "        self.transform = transform\n",
    "\n",
    "    def __len__(self):\n",
    "        return len(self.df)\n",
    "\n",
    "    def __getitem__(self, idx):\n",
    "        file_name = self.file_names[idx]\n",
    "        file_path = f\"{TRAIN_PATH}/{file_name}\"\n",
    "        image = cv2.imread(file_path)\n",
    "        image = cv2.cvtColor(image, cv2.COLOR_BGR2RGB)\n",
    "        if self.transform:\n",
    "            augmented = self.transform(image=image)\n",
    "            image = augmented[\"image\"]\n",
    "        label = torch.tensor(self.labels[idx]).long()\n",
    "        return image, label\n",
    "\n",
    "\n",
    "class TestDataset(Dataset):\n",
    "    def __init__(self, df, transform=None):\n",
    "        self.df = df\n",
    "        self.file_names = df[\"image_id\"].values\n",
    "        self.transform = transform\n",
    "\n",
    "    def __len__(self):\n",
    "        return len(self.df)\n",
    "\n",
    "    def __getitem__(self, idx):\n",
    "        file_name = self.file_names[idx]\n",
    "        file_path = f\"{TEST_PATH}/{file_name}\"\n",
    "        image = cv2.imread(file_path)\n",
    "        image = cv2.cvtColor(image, cv2.COLOR_BGR2RGB)\n",
    "        if self.transform:\n",
    "            augmented = self.transform(image=image)\n",
    "            image = augmented[\"image\"]\n",
    "        return image"
   ]
  },
  {
   "cell_type": "code",
   "execution_count": 12,
   "metadata": {},
   "outputs": [
    {
     "data": {
      "image/png": "[encoded data removed]",
      "text/plain": [
       "<Figure size 432x288 with 1 Axes>"
      ]
     },
     "metadata": {
      "needs_background": "light"
     },
     "output_type": "display_data"
    }
   ],
   "source": [
    "train_dataset = TrainDataset(train, transform=None)\n",
    "\n",
    "for i in range(1):\n",
    "    image, label = train_dataset[i]\n",
    "    plt.imshow(image)\n",
    "    plt.title(f\"label: {label}\")\n",
    "    plt.show()"
   ]
  },
  {
   "cell_type": "markdown",
   "metadata": {},
   "source": [
    "# Transforms"
   ]
  },
  {
   "cell_type": "code",
   "execution_count": 13,
   "metadata": {},
   "outputs": [],
   "source": [
    "# ====================================================\n",
    "# Transforms\n",
    "# ====================================================\n",
    "def get_transforms(*, data):\n",
    "\n",
    "    if data == \"train\":\n",
    "        return Compose(\n",
    "            [\n",
    "                # Resize(CFG.size, CFG.size),\n",
    "                RandomResizedCrop(CFG.size, CFG.size),\n",
    "                Transpose(p=0.5),\n",
    "                HorizontalFlip(p=0.5),\n",
    "                VerticalFlip(p=0.5),\n",
    "                ShiftScaleRotate(p=0.5),\n",
    "                HueSaturationValue(hue_shift_limit=0.2, sat_shift_limit=0.2, val_shift_limit=0.2, p=0.5),\n",
    "                RandomBrightnessContrast(brightness_limit=(-0.1, 0.1), contrast_limit=(-0.1, 0.1), p=0.5),\n",
    "                CoarseDropout(p=0.5),\n",
    "                Cutout(p=0.5),\n",
    "                Normalize(\n",
    "                    mean=[0.485, 0.456, 0.406],\n",
    "                    std=[0.229, 0.224, 0.225],\n",
    "                ),\n",
    "                ToTensorV2(),\n",
    "            ]\n",
    "        )\n",
    "\n",
    "    elif data == \"valid\":\n",
    "        return Compose(\n",
    "            [\n",
    "                Resize(CFG.size, CFG.size),\n",
    "                Normalize(\n",
    "                    mean=[0.485, 0.456, 0.406],\n",
    "                    std=[0.229, 0.224, 0.225],\n",
    "                ),\n",
    "                ToTensorV2(),\n",
    "            ]\n",
    "        )"
   ]
  },
  {
   "cell_type": "code",
   "execution_count": 14,
   "metadata": {},
   "outputs": [
    {
     "data": {
      "image/png": "[encoded data removed]",
      "text/plain": [
       "<Figure size 432x288 with 1 Axes>"
      ]
     },
     "metadata": {
      "needs_background": "light"
     },
     "output_type": "display_data"
    }
   ],
   "source": [
    "train_dataset = TrainDataset(train, transform=get_transforms(data=\"train\"))\n",
    "\n",
    "for i in range(1):\n",
    "    image, label = train_dataset[i]\n",
    "    plt.imshow(image[0])\n",
    "    plt.title(f\"label: {label}\")\n",
    "    plt.show()"
   ]
  },
  {
   "cell_type": "markdown",
   "metadata": {},
   "source": [
    "# CutMix / FMix\n"
   ]
  },
  {
   "cell_type": "code",
   "execution_count": 15,
   "metadata": {},
   "outputs": [],
   "source": [
    "def rand_bbox(size, lam):\n",
    "    W = size[2]\n",
    "    H = size[3]\n",
    "    cut_rat = np.sqrt(1.0 - lam)\n",
    "    cut_w = np.int(W * cut_rat)\n",
    "    cut_h = np.int(H * cut_rat)\n",
    "\n",
    "    # uniform\n",
    "    cx = np.random.randint(W)\n",
    "    cy = np.random.randint(H)\n",
    "\n",
    "    bbx1 = np.clip(cx - cut_w // 2, 0, W)\n",
    "    bby1 = np.clip(cy - cut_h // 2, 0, H)\n",
    "    bbx2 = np.clip(cx + cut_w // 2, 0, W)\n",
    "    bby2 = np.clip(cy + cut_h // 2, 0, H)\n",
    "    return bbx1, bby1, bbx2, bby2\n",
    "\n",
    "\n",
    "def cutmix(data, target, alpha):\n",
    "    indices = torch.randperm(data.size(0))\n",
    "    shuffled_data = data[indices]\n",
    "    shuffled_target = target[indices]\n",
    "\n",
    "    lam = np.clip(np.random.beta(alpha, alpha), 0.3, 0.4)\n",
    "    bbx1, bby1, bbx2, bby2 = rand_bbox(data.size(), lam)\n",
    "    new_data = data.clone()\n",
    "    new_data[:, :, bby1:bby2, bbx1:bbx2] = data[indices, :, bby1:bby2, bbx1:bbx2]\n",
    "    # adjust lambda to exactly match pixel ratio\n",
    "    lam = 1 - ((bbx2 - bbx1) * (bby2 - bby1) / (data.size()[-1] * data.size()[-2]))\n",
    "    targets = (target, shuffled_target, lam)\n",
    "\n",
    "    return new_data, targets\n",
    "\n",
    "\n",
    "def fmix(data, targets, alpha, decay_power, shape, max_soft=0.0, reformulate=False):\n",
    "    lam, mask = sample_mask(alpha, decay_power, shape, max_soft, reformulate)\n",
    "    if CFG.apex:\n",
    "        # mask = torch.tensor(mask, device=device).float()\n",
    "        mask = mask.astype(np.float32)\n",
    "    indices = torch.randperm(data.size(0))\n",
    "    shuffled_data = data[indices]\n",
    "    shuffled_targets = targets[indices]\n",
    "    x1 = torch.from_numpy(mask).to(device) * data\n",
    "    x2 = torch.from_numpy(1 - mask).to(device) * shuffled_data\n",
    "    targets = (targets, shuffled_targets, lam)\n",
    "\n",
    "    return (x1 + x2), targets"
   ]
  },
  {
   "cell_type": "markdown",
   "metadata": {},
   "source": [
    "# MixUp"
   ]
  },
  {
   "cell_type": "code",
   "execution_count": 16,
   "metadata": {},
   "outputs": [],
   "source": [
    "# https://github.com/yuhao318/mwh/blob/e9e2da8fc6/utils.py\n",
    "def mixup(x, y, alpha=1.0, use_cuda=True):\n",
    "\n",
    "    \"\"\"Compute the mixup data. Return mixed inputs, pairs of targets, and lambda\"\"\"\n",
    "    if alpha > 0.0:\n",
    "        lam = np.random.beta(alpha, alpha)\n",
    "        lam = max(lam, 1 - lam)\n",
    "        # lam = min(lam, 1-lam)\n",
    "    else:\n",
    "        lam = 1.0\n",
    "    batch_size = x.size()[0]\n",
    "    if use_cuda:\n",
    "        index = torch.randperm(batch_size).cuda()\n",
    "    else:\n",
    "        index = torch.randperm(batch_size)\n",
    "\n",
    "    ## SYM\n",
    "    # mixed_x = lam * x + (1 - lam) * x[index,:]\n",
    "    # mixed_y = (1 - lam) * x + lam * x[index,:]\n",
    "    # mixed_image  = torch.cat([mixed_x,mixed_y], 0)\n",
    "    # y_a, y_b = y, y[index]\n",
    "    # mixed_label  = torch.cat([y_a,y_b], 0)\n",
    "\n",
    "    ## Reduce batch size\n",
    "    # new_batch_size = batch_size // 2\n",
    "    # x_i = x[ : new_batch_size]\n",
    "    # x_j = x[new_batch_size : ]\n",
    "    # y_a = y[ : new_batch_size]\n",
    "    # y_b = y[new_batch_size : ]\n",
    "    # mixed_x = lam * x_i + (1 - lam) * x_j\n",
    "\n",
    "    ## NO SYM\n",
    "    mixed_x = lam * x + (1 - lam) * x[index, :]\n",
    "    y_a, y_b = y, y[index]\n",
    "\n",
    "    ## Only Alpha\n",
    "    # mixed_x = 0.5 * x + (1 - 0.5) * x[index,:]\n",
    "    # mixed_image  = mixed_x\n",
    "    # y_a, y_b = y, y[index]\n",
    "    # ind_label = torch.randint_like(y, 0,2)\n",
    "    # mixed_label  = ind_label * y_a + (1-ind_label) * y_b\n",
    "\n",
    "    ## Reduce batch size and SYM\n",
    "    # new_batch_size = batch_size // 2\n",
    "    # x_i = x[ : new_batch_size]\n",
    "    # x_j = x[new_batch_size : ]\n",
    "    # y_a = y[ : new_batch_size]\n",
    "    # y_b = y[new_batch_size : ]\n",
    "    # mixed_x = lam * x_i + (1 - lam) * x_j\n",
    "    # mixed_y = (1 - lam) * x_i + lam * x_j\n",
    "    # mixed_x  = torch.cat([mixed_x,mixed_y], 0)\n",
    "    # y_b = torch.cat([y_b,y_a], 0)\n",
    "    # y_a = y\n",
    "\n",
    "    # return mixed_image, mixed_label, lam\n",
    "    return mixed_x, (y_a, y_b, lam)"
   ]
  },
  {
   "cell_type": "markdown",
   "metadata": {},
   "source": [
    "# MODEL"
   ]
  },
  {
   "cell_type": "code",
   "execution_count": 17,
   "metadata": {},
   "outputs": [],
   "source": [
    "# ====================================================\n",
    "# MODEL\n",
    "# ====================================================\n",
    "class CassvaImgClassifier(nn.Module):\n",
    "    def __init__(self, model_name=\"resnext50_32x4d\", pretrained=False):\n",
    "        super().__init__()\n",
    "        self.model = timm.create_model(model_name, pretrained=pretrained)\n",
    "\n",
    "        if model_name == \"resnext50_32x4d\":\n",
    "            n_features = self.model.fc.in_features\n",
    "            self.model.fc = nn.Linear(n_features, CFG.target_size)\n",
    "\n",
    "        elif model_name.startswith(\"tf_efficientnet\"):\n",
    "            n_features = self.model.classifier.in_features\n",
    "            self.model.classifier = nn.Linear(n_features, CFG.target_size)\n",
    "\n",
    "        elif model_name.startswith(\"vit_base_\"):\n",
    "            n_features = self.model.head.in_features\n",
    "            self.model.head = nn.Linear(n_features, CFG.target_size)\n",
    "\n",
    "    def forward(self, x):\n",
    "        x = self.model(x)\n",
    "        return x"
   ]
  },
  {
   "cell_type": "code",
   "execution_count": 18,
   "metadata": {},
   "outputs": [],
   "source": [
    "def freeze_batch_normalization(model):\n",
    "    if CFG.model_name.startswith(\"tf_efficientnet_\"):\n",
    "        for name1, child1 in model.named_children():\n",
    "            for name2, child2 in child1.named_children():\n",
    "                # print(f\"===== {name2} =====\")\n",
    "                if name2.startswith(\"bn\"):\n",
    "                    for param in child2.parameters():\n",
    "                        param.requires_grad = False\n",
    "                        # print(param.requires_grad)\n",
    "\n",
    "                for child3 in child2.children():\n",
    "                    if isinstance(child3, nn.modules.container.Sequential):\n",
    "                        for child4 in child3.children():\n",
    "                            for child5 in child4.children():\n",
    "                                if isinstance(child5, nn.BatchNorm2d):\n",
    "                                    # print(child5)\n",
    "                                    for param in child5.parameters():\n",
    "                                        param.requires_grad = False\n",
    "                                        # print(param.requires_grad)\n",
    "\n",
    "    elif CFG.model_name.startswith(\"resnext50_32x4d\") and False:\n",
    "        for name1, child1 in model.named_children():\n",
    "            for name2, child2 in child1.named_children():\n",
    "                # print(f\"===== {name2}: {type(child2)} =====\")\n",
    "                if name2.startswith(\"bn\"):\n",
    "                    for param in child2.parameters():\n",
    "                        param.requires_grad = False\n",
    "                        # print(param.requires_grad)\n",
    "\n",
    "                if isinstance(child2, nn.modules.container.Sequential):\n",
    "                    for child3 in child2.children():\n",
    "                        for child4 in child3.children():\n",
    "                            if isinstance(child4, nn.BatchNorm2d):\n",
    "                                # print(child4)\n",
    "                                for param in child4.parameters():\n",
    "                                    param.requires_grad = False\n",
    "                                    # print(param.requires_grad)"
   ]
  },
  {
   "cell_type": "code",
   "execution_count": 19,
   "metadata": {},
   "outputs": [
    {
     "name": "stdout",
     "output_type": "stream",
     "text": [
      "tensor([[ 0.7146, -0.7067,  0.6645, -0.1729, -1.1041],\n",
      "        [-0.2281,  0.2803,  0.7576,  0.3792, -0.3958],\n",
      "        [-0.7118,  0.4203,  1.6510,  0.9902,  0.3857],\n",
      "        [ 0.3163, -0.5549,  0.4828, -0.1016, -0.5321]],\n",
      "       grad_fn=<AddmmBackward>)\n"
     ]
    }
   ],
   "source": [
    "model = CassvaImgClassifier(model_name=CFG.model_name, pretrained=False)\n",
    "freeze_batch_normalization(model)\n",
    "\n",
    "train_dataset = TrainDataset(train, transform=get_transforms(data=\"train\"))\n",
    "train_loader = DataLoader(train_dataset, batch_size=4, shuffle=True, num_workers=4, pin_memory=True, drop_last=True)\n",
    "\n",
    "for image, label in train_loader:\n",
    "    output = model(image)\n",
    "    print(output)\n",
    "    break"
   ]
  },
  {
   "cell_type": "markdown",
   "metadata": {},
   "source": [
    "# Loss functions"
   ]
  },
  {
   "cell_type": "code",
   "execution_count": 20,
   "metadata": {},
   "outputs": [],
   "source": [
    "class BiTemperedLogisticLoss(nn.Module):\n",
    "    def __init__(self, t1, t2, smoothing=0.0):\n",
    "        super(BiTemperedLogisticLoss, self).__init__()\n",
    "        self.t1 = t1\n",
    "        self.t2 = t2\n",
    "        self.smoothing = smoothing\n",
    "\n",
    "    def forward(self, logit_label, truth_label):\n",
    "        loss_label = btl.bi_tempered_logistic_loss(\n",
    "            logit_label, truth_label, t1=self.t1, t2=self.t2, label_smoothing=self.smoothing, reduction=\"none\"\n",
    "        )\n",
    "\n",
    "        loss_label = loss_label.mean()\n",
    "        return loss_label"
   ]
  },
  {
   "cell_type": "markdown",
   "metadata": {},
   "source": [
    "# Helper functions"
   ]
  },
  {
   "cell_type": "code",
   "execution_count": 21,
   "metadata": {},
   "outputs": [],
   "source": [
    "# ====================================================\n",
    "# Helper functions\n",
    "# ====================================================\n",
    "class AverageMeter(object):\n",
    "    \"\"\"Computes and stores the average and current value\"\"\"\n",
    "\n",
    "    def __init__(self):\n",
    "        self.reset()\n",
    "\n",
    "    def reset(self):\n",
    "        self.val = 0\n",
    "        self.avg = 0\n",
    "        self.sum = 0\n",
    "        self.count = 0\n",
    "\n",
    "    def update(self, val, n=1):\n",
    "        self.val = val\n",
    "        self.sum += val * n\n",
    "        self.count += n\n",
    "        self.avg = self.sum / self.count\n",
    "\n",
    "\n",
    "def asMinutes(s):\n",
    "    m = math.floor(s / 60)\n",
    "    s -= m * 60\n",
    "    return \"%dm %ds\" % (m, s)\n",
    "\n",
    "\n",
    "def timeSince(since, percent):\n",
    "    now = time.time()\n",
    "    s = now - since\n",
    "    es = s / (percent)\n",
    "    rs = es - s\n",
    "    return \"%s (remain %s)\" % (asMinutes(s), asMinutes(rs))\n",
    "\n",
    "\n",
    "def train_fn(train_loader, model, criterion, optimizer, epoch, scheduler, device, scheduler_batch_update=True):\n",
    "    batch_time = AverageMeter()\n",
    "    data_time = AverageMeter()\n",
    "    losses = AverageMeter()\n",
    "    scores = AverageMeter()\n",
    "    # switch to train mode\n",
    "    model.train()\n",
    "    start = end = time.time()\n",
    "    global_step = 0\n",
    "    for step, (images, labels) in enumerate(train_loader):\n",
    "        # measure data loading time\n",
    "        data_time.update(time.time() - end)\n",
    "        images = images.to(device)\n",
    "        labels = labels.to(device)\n",
    "        batch_size = labels.size(0)\n",
    "\n",
    "        # CutMix, FMix\n",
    "        if epoch >= CFG.epochs - 1:\n",
    "            mix_decision = 0.75  # Disable CutMix, FMix for final epoch\n",
    "        else:\n",
    "            mix_decision = np.random.rand()\n",
    "\n",
    "        if epoch >= CFG.epochs - 4:\n",
    "            mix_decision *= 2  # Reduce probability\n",
    "\n",
    "        if mix_decision < 0.25:\n",
    "            images, labels = cutmix(images, labels, 1.0)\n",
    "        elif mix_decision >= 0.25 and mix_decision < 0.5:\n",
    "            images, labels = fmix(images, labels, alpha=1.0, decay_power=5.0, shape=(CFG.size, CFG.size))\n",
    "        elif mix_decision >= 0.5 and mix_decision < 0.75:\n",
    "            images, labels = mixup(images, labels, alpha=0.5)\n",
    "\n",
    "        y_preds = model(images.float())\n",
    "\n",
    "        if mix_decision < 0.75:\n",
    "            loss = criterion(y_preds, labels[0]) * labels[2] + criterion(y_preds, labels[1]) * (1.0 - labels[2])\n",
    "        else:\n",
    "            loss = criterion(y_preds, labels)\n",
    "\n",
    "        # record loss\n",
    "        losses.update(loss.item(), batch_size)\n",
    "        if CFG.gradient_accumulation_steps > 1:\n",
    "            loss = loss / CFG.gradient_accumulation_steps\n",
    "        if CFG.apex:\n",
    "            with amp.scale_loss(loss, optimizer) as scaled_loss:\n",
    "                scaled_loss.backward()\n",
    "        else:\n",
    "            loss.backward()\n",
    "        grad_norm = torch.nn.utils.clip_grad_norm_(model.parameters(), CFG.max_grad_norm)\n",
    "        if (step + 1) % CFG.gradient_accumulation_steps == 0:\n",
    "            optimizer.step()\n",
    "            optimizer.zero_grad()\n",
    "\n",
    "            if CFG.scheduler_batch_update:\n",
    "                scheduler.step()\n",
    "\n",
    "            global_step += 1\n",
    "        # measure elapsed time\n",
    "        batch_time.update(time.time() - end)\n",
    "        end = time.time()\n",
    "        if step % CFG.print_freq == 0 or step == (len(train_loader) - 1):\n",
    "            print(\n",
    "                \"Epoch: [{0}][{1}/{2}] \"\n",
    "                # \"Data {data_time.val:.3f} ({data_time.avg:.3f}) \"\n",
    "                # \"Batch {batch_time.val:.3f} ({batch_time.avg:.3f}) \"\n",
    "                \"Elapsed {remain:s} \"\n",
    "                \"Loss: {loss.val:.4f}({loss.avg:.4f}) \"\n",
    "                \"Grad: {grad_norm:.4f} \"\n",
    "                \"LR: {lr:.6f}  \".format(\n",
    "                    epoch + 1,\n",
    "                    step,\n",
    "                    len(train_loader),\n",
    "                    # batch_time=batch_time,\n",
    "                    # data_time=data_time,\n",
    "                    loss=losses,\n",
    "                    remain=timeSince(start, float(step + 1) / len(train_loader)),\n",
    "                    grad_norm=grad_norm,\n",
    "                    lr=scheduler.get_lr()[0],\n",
    "                )\n",
    "            )\n",
    "    return losses.avg\n",
    "\n",
    "\n",
    "def valid_fn(valid_loader, model, criterion, device):\n",
    "    batch_time = AverageMeter()\n",
    "    data_time = AverageMeter()\n",
    "    losses = AverageMeter()\n",
    "    scores = AverageMeter()\n",
    "    # switch to evaluation mode\n",
    "    model.eval()\n",
    "    preds = []\n",
    "    start = end = time.time()\n",
    "    for step, (images, labels) in enumerate(valid_loader):\n",
    "        # measure data loading time\n",
    "        data_time.update(time.time() - end)\n",
    "        images = images.to(device)\n",
    "        labels = labels.to(device)\n",
    "        batch_size = labels.size(0)\n",
    "        # compute loss\n",
    "        with torch.no_grad():\n",
    "            y_preds = model(images)\n",
    "        loss = criterion(y_preds, labels)\n",
    "        losses.update(loss.item(), batch_size)\n",
    "        # record accuracy\n",
    "        preds.append(y_preds.softmax(1).to(\"cpu\").numpy())\n",
    "        if CFG.gradient_accumulation_steps > 1:\n",
    "            loss = loss / CFG.gradient_accumulation_steps\n",
    "        # measure elapsed time\n",
    "        batch_time.update(time.time() - end)\n",
    "        end = time.time()\n",
    "        if step % CFG.print_freq == 0 or step == (len(valid_loader) - 1):\n",
    "            print(\n",
    "                \"EVAL: [{0}/{1}] \"\n",
    "                # \"Data {data_time.val:.3f} ({data_time.avg:.3f}) \"\n",
    "                # \"Batch {batch_time.val:.3f} ({batch_time.avg:.3f}) \"\n",
    "                \"Elapsed {remain:s} \"\n",
    "                \"Loss: {loss.val:.4f}({loss.avg:.4f}) \".format(\n",
    "                    step,\n",
    "                    len(valid_loader),\n",
    "                    # batch_time=batch_time,\n",
    "                    # data_time=data_time,\n",
    "                    loss=losses,\n",
    "                    remain=timeSince(start, float(step + 1) / len(valid_loader)),\n",
    "                )\n",
    "            )\n",
    "    predictions = np.concatenate(preds)\n",
    "    return losses.avg, predictions\n",
    "\n",
    "\n",
    "def inference(model, states, test_loader, device):\n",
    "    model.to(device)\n",
    "    tk0 = tqdm(enumerate(test_loader), total=len(test_loader))\n",
    "    probs = []\n",
    "    for i, (images) in tk0:\n",
    "        images = images.to(device)\n",
    "        avg_preds = []\n",
    "        for state in states:\n",
    "            model.load_state_dict(state[\"model\"])\n",
    "            model.eval()\n",
    "            with torch.no_grad():\n",
    "                y_preds = model(images)\n",
    "            avg_preds.append(y_preds.softmax(1).to(\"cpu\").numpy())\n",
    "        avg_preds = np.mean(avg_preds, axis=0)\n",
    "        probs.append(avg_preds)\n",
    "    probs = np.concatenate(probs)\n",
    "    return probs"
   ]
  },
  {
   "cell_type": "markdown",
   "metadata": {},
   "source": [
    "# Train loop"
   ]
  },
  {
   "cell_type": "code",
   "execution_count": 22,
   "metadata": {
    "_cell_guid": "b1076dfc-b9ad-4769-8c92-a6c4dae69d19",
    "_uuid": "8f2839f25d086af736a60e9eeb907d3b93b6e0e5"
   },
   "outputs": [],
   "source": [
    "# ====================================================\n",
    "# Train loop\n",
    "# ====================================================\n",
    "def train_loop(folds, fold):\n",
    "\n",
    "    LOGGER.info(f\"========== fold: {fold} training ==========\")\n",
    "\n",
    "    # ====================================================\n",
    "    # loader\n",
    "    # ====================================================\n",
    "    trn_idx = folds[folds[\"fold\"] != fold].index\n",
    "    val_idx = folds[folds[\"fold\"] == fold].index\n",
    "\n",
    "    train_folds = folds.loc[trn_idx].reset_index(drop=True)\n",
    "    valid_folds = folds.loc[val_idx].reset_index(drop=True)\n",
    "\n",
    "    train_dataset = TrainDataset(train_folds, transform=get_transforms(data=\"train\"))\n",
    "    train_dataset_no_aug = TrainDataset(train_folds, transform=get_transforms(data=\"valid\"))\n",
    "    valid_dataset = TrainDataset(valid_folds, transform=get_transforms(data=\"valid\"))\n",
    "\n",
    "    train_loader = DataLoader(\n",
    "        train_dataset,\n",
    "        batch_size=CFG.batch_size,\n",
    "        shuffle=True,\n",
    "        num_workers=CFG.num_workers,\n",
    "        pin_memory=True,\n",
    "        drop_last=True,\n",
    "    )\n",
    "    train_loader_no_aug = DataLoader(\n",
    "        train_dataset_no_aug,\n",
    "        batch_size=CFG.batch_size,\n",
    "        shuffle=True,\n",
    "        num_workers=CFG.num_workers,\n",
    "        pin_memory=True,\n",
    "        drop_last=True,\n",
    "    )\n",
    "    valid_loader = DataLoader(\n",
    "        valid_dataset,\n",
    "        batch_size=CFG.batch_size,\n",
    "        shuffle=False,\n",
    "        num_workers=CFG.num_workers,\n",
    "        pin_memory=True,\n",
    "        drop_last=False,\n",
    "    )\n",
    "\n",
    "    # ====================================================\n",
    "    # scheduler\n",
    "    # ====================================================\n",
    "    def get_scheduler(optimizer):\n",
    "        if CFG.scheduler == \"ReduceLROnPlateau\":\n",
    "            scheduler = ReduceLROnPlateau(\n",
    "                optimizer, mode=\"min\", factor=CFG.factor, patience=CFG.patience, verbose=True, eps=CFG.eps\n",
    "            )\n",
    "        elif CFG.scheduler == \"CosineAnnealingLR\":\n",
    "            scheduler = CosineAnnealingLR(optimizer, T_max=CFG.T_max, eta_min=CFG.min_lr, last_epoch=-1)\n",
    "        elif CFG.scheduler == \"CosineAnnealingWarmRestarts\":\n",
    "            scheduler = CosineAnnealingWarmRestarts(optimizer, T_0=CFG.T_0, T_mult=1, eta_min=CFG.min_lr, last_epoch=-1)\n",
    "        elif CFG.scheduler == \"CosineAnnealingWarmupRestarts\":\n",
    "            scheduler = CosineAnnealingWarmupRestarts(\n",
    "                optimizer,\n",
    "                first_cycle_steps=CFG.first_cycle_steps,\n",
    "                cycle_mult=1.0,\n",
    "                max_lr=CFG.lr,\n",
    "                min_lr=CFG.min_lr,\n",
    "                warmup_steps=CFG.warmup_steps,\n",
    "                gamma=CFG.gamma,\n",
    "            )\n",
    "        return scheduler\n",
    "\n",
    "    # ====================================================\n",
    "    # model & optimizer\n",
    "    # ====================================================\n",
    "    model = CassvaImgClassifier(CFG.model_name, pretrained=True)\n",
    "    freeze_batch_normalization(model)\n",
    "\n",
    "    model.to(device)\n",
    "\n",
    "    # Use multi GPU\n",
    "    if device == torch.device(\"cuda\") and not CFG.apex:\n",
    "        model = torch.nn.DataParallel(model)  # make parallel\n",
    "        # torch.backends.cudnn.benchmark=True\n",
    "\n",
    "    optimizer = Adam(model.parameters(), lr=CFG.lr, weight_decay=CFG.weight_decay, amsgrad=False)\n",
    "    scheduler = get_scheduler(optimizer)\n",
    "\n",
    "    # ====================================================\n",
    "    # apex\n",
    "    # ====================================================\n",
    "    if CFG.apex:\n",
    "        model, optimizer = amp.initialize(model, optimizer, opt_level=\"O1\", verbosity=0)\n",
    "\n",
    "    # ====================================================\n",
    "    # Criterion\n",
    "    # ====================================================\n",
    "    def get_criterion():\n",
    "        if CFG.criterion == \"CrossEntropyLoss\":\n",
    "            criterion = nn.CrossEntropyLoss()\n",
    "        elif CFG.criterion == \"BiTemperedLoss\":\n",
    "            criterion = BiTemperedLogisticLoss(t1=CFG.btl_t1, t2=CFG.btl_t2, smoothing=CFG.label_smoothing)\n",
    "        return criterion\n",
    "\n",
    "    criterion = get_criterion()\n",
    "\n",
    "    # ====================================================\n",
    "    # loop\n",
    "    # ====================================================\n",
    "    best_score = 0.0\n",
    "    best_loss = np.inf\n",
    "\n",
    "    for epoch in range(CFG.epochs):\n",
    "\n",
    "        start_time = time.time()\n",
    "\n",
    "        # train\n",
    "        if epoch >= CFG.epochs - 1:\n",
    "            avg_loss = train_fn(\n",
    "                train_loader_no_aug, model, criterion, optimizer, epoch, scheduler, device, CFG.scheduler_batch_update\n",
    "            )\n",
    "        else:\n",
    "            avg_loss = train_fn(\n",
    "                train_loader, model, criterion, optimizer, epoch, scheduler, device, CFG.scheduler_batch_update\n",
    "            )\n",
    "\n",
    "        # eval\n",
    "        avg_val_loss, preds = valid_fn(valid_loader, model, criterion, device)\n",
    "        valid_labels = valid_folds[CFG.target_col].values\n",
    "\n",
    "        if not CFG.scheduler_batch_update:\n",
    "            if isinstance(scheduler, ReduceLROnPlateau):\n",
    "                scheduler.step(avg_val_loss)\n",
    "            elif isinstance(scheduler, CosineAnnealingLR):\n",
    "                scheduler.step()\n",
    "            elif isinstance(scheduler, CosineAnnealingWarmRestarts):\n",
    "                scheduler.step()\n",
    "\n",
    "        # scoring\n",
    "        score = get_score(valid_labels, preds.argmax(1))\n",
    "\n",
    "        elapsed = time.time() - start_time\n",
    "\n",
    "        LOGGER.info(\n",
    "            f\"Epoch {epoch+1} - avg_train_loss: {avg_loss:.4f}  avg_val_loss: {avg_val_loss:.4f}  time: {elapsed:.0f}s\"\n",
    "        )\n",
    "        LOGGER.info(f\"Epoch {epoch+1} - Accuracy: {score}\")\n",
    "\n",
    "        if score > best_score:\n",
    "            best_score = score\n",
    "            LOGGER.info(f\"Epoch {epoch+1} - Save Best Score: {best_score:.4f} Model\")\n",
    "            torch.save(\n",
    "                {\"model\": model.state_dict(), \"preds\": preds}, OUTPUT_DIR + f\"{CFG.model_name}_fold{fold}_best.pth\"\n",
    "            )\n",
    "\n",
    "        if epoch == CFG.epochs - 1:\n",
    "            LOGGER.info(f\"Epoch {epoch+1} - Save final model\")\n",
    "            torch.save(\n",
    "                {\"model\": model.state_dict(), \"preds\": preds}, OUTPUT_DIR + f\"{CFG.model_name}_fold{fold}_final.pth\"\n",
    "            )\n",
    "\n",
    "    check_point = torch.load(OUTPUT_DIR + f\"{CFG.model_name}_fold{fold}_best.pth\")\n",
    "    valid_folds[[str(c) for c in range(5)]] = check_point[\"preds\"]\n",
    "    valid_folds[\"preds\"] = check_point[\"preds\"].argmax(1)\n",
    "\n",
    "    return valid_folds"
   ]
  },
  {
   "cell_type": "code",
   "execution_count": 23,
   "metadata": {},
   "outputs": [],
   "source": [
    "# ====================================================\n",
    "# main\n",
    "# ====================================================\n",
    "def main():\n",
    "\n",
    "    \"\"\"\n",
    "    Prepare: 1.train  2.test  3.submission  4.folds\n",
    "    \"\"\"\n",
    "\n",
    "    def get_result(result_df):\n",
    "        preds = result_df[\"preds\"].values\n",
    "        labels = result_df[CFG.target_col].values\n",
    "        score = get_score(labels, preds)\n",
    "        LOGGER.info(f\"Score: {score:<.5f}\")\n",
    "\n",
    "    if CFG.train:\n",
    "        # train\n",
    "        oof_df = pd.DataFrame()\n",
    "        for fold in range(CFG.n_fold):\n",
    "            if fold in CFG.trn_fold:\n",
    "                _oof_df = train_loop(folds, fold)\n",
    "                oof_df = pd.concat([oof_df, _oof_df])\n",
    "                LOGGER.info(f\"========== fold: {fold} result ==========\")\n",
    "                get_result(_oof_df)\n",
    "        # CV result\n",
    "        LOGGER.info(f\"========== CV ==========\")\n",
    "        get_result(oof_df)\n",
    "        # save result\n",
    "        oof_df.to_csv(OUTPUT_DIR + \"oof_df.csv\", index=False)\n",
    "\n",
    "    if CFG.inference:\n",
    "        # inference\n",
    "        model = CassvaImgClassifier(CFG.model_name, pretrained=False)\n",
    "        states = [torch.load(OUTPUT_DIR + f\"{CFG.model_name}_fold{fold}_best.pth\") for fold in CFG.trn_fold]\n",
    "        test_dataset = TestDataset(test, transform=get_transforms(data=\"valid\"))\n",
    "        test_loader = DataLoader(\n",
    "            test_dataset, batch_size=CFG.batch_size, shuffle=False, num_workers=CFG.num_workers, pin_memory=True\n",
    "        )\n",
    "        predictions = inference(model, states, test_loader, device)\n",
    "        # submission\n",
    "        test[\"label\"] = predictions.argmax(1)\n",
    "        test[[\"image_id\", \"label\"]].to_csv(OUTPUT_DIR + \"submission.csv\", index=False)"
   ]
  },
  {
   "cell_type": "code",
   "execution_count": 24,
   "metadata": {
    "_cell_guid": "79c7e3d0-c299-4dcb-8224-4455121ee9b0",
    "_uuid": "d629ff2d2480ee46fbb7e2d37f6b5fab8052498a"
   },
   "outputs": [
    {
     "name": "stderr",
     "output_type": "stream",
     "text": [
      "========== fold: 0 training ==========\n",
      "Downloading: \"https://github.com/rwightman/pytorch-image-models/releases/download/v0.1-vitjx/jx_vit_base_p16_384-83fb41ba.pth\" to /root/.cache/torch/hub/checkpoints/jx_vit_base_p16_384-83fb41ba.pth\n"
     ]
    },
    {
     "name": "stdout",
     "output_type": "stream",
     "text": [
      "Epoch: [1][0/1316] Elapsed 0m 2s (remain 46m 46s) Loss: 0.5428(0.5428) Grad: 1.7861 LR: 0.000002  \n",
      "Epoch: [1][100/1316] Elapsed 0m 31s (remain 6m 24s) Loss: 0.2663(0.3915) Grad: 0.6413 LR: 0.000017  \n",
      "Epoch: [1][200/1316] Elapsed 1m 1s (remain 5m 43s) Loss: 0.2352(0.3476) Grad: 0.8961 LR: 0.000032  \n",
      "Epoch: [1][300/1316] Elapsed 1m 31s (remain 5m 9s) Loss: 0.2396(0.3171) Grad: 0.6620 LR: 0.000047  \n",
      "Epoch: [1][400/1316] Elapsed 2m 1s (remain 4m 37s) Loss: 0.1692(0.3002) Grad: 0.8140 LR: 0.000062  \n",
      "Epoch: [1][500/1316] Elapsed 2m 31s (remain 4m 6s) Loss: 0.2114(0.2890) Grad: 1.5047 LR: 0.000077  \n",
      "Epoch: [1][600/1316] Elapsed 3m 0s (remain 3m 35s) Loss: 0.3789(0.2807) Grad: 1.1844 LR: 0.000092  \n",
      "Epoch: [1][700/1316] Elapsed 3m 30s (remain 3m 4s) Loss: 0.1590(0.2754) Grad: 0.4637 LR: 0.000107  \n",
      "Epoch: [1][800/1316] Elapsed 4m 0s (remain 2m 34s) Loss: 0.0602(0.2701) Grad: 0.4934 LR: 0.000122  \n",
      "Epoch: [1][900/1316] Elapsed 4m 29s (remain 2m 4s) Loss: 0.1963(0.2658) Grad: 1.0775 LR: 0.000137  \n",
      "Epoch: [1][1000/1316] Elapsed 4m 59s (remain 1m 34s) Loss: 0.1006(0.2618) Grad: 0.4252 LR: 0.000152  \n",
      "Epoch: [1][1100/1316] Elapsed 5m 28s (remain 1m 4s) Loss: 0.1640(0.2585) Grad: 0.5478 LR: 0.000168  \n",
      "Epoch: [1][1200/1316] Elapsed 5m 58s (remain 0m 34s) Loss: 0.2865(0.2558) Grad: 0.5186 LR: 0.000183  \n",
      "Epoch: [1][1300/1316] Elapsed 6m 27s (remain 0m 4s) Loss: 0.0911(0.2536) Grad: 0.5269 LR: 0.000198  \n",
      "Epoch: [1][1315/1316] Elapsed 6m 32s (remain 0m 0s) Loss: 0.2020(0.2533) Grad: 0.9021 LR: 0.000200  \n",
      "EVAL: [0/330] Elapsed 0m 1s (remain 6m 45s) Loss: 0.2766(0.2766) \n",
      "EVAL: [100/330] Elapsed 0m 14s (remain 0m 33s) Loss: 0.1540(0.1402) \n",
      "EVAL: [200/330] Elapsed 0m 26s (remain 0m 16s) Loss: 0.1160(0.1358) \n",
      "EVAL: [300/330] Elapsed 0m 35s (remain 0m 3s) Loss: 0.0261(0.1332) \n"
     ]
    },
    {
     "name": "stderr",
     "output_type": "stream",
     "text": [
      "Epoch 1 - avg_train_loss: 0.2533  avg_val_loss: 0.1349  time: 431s\n",
      "Epoch 1 - Accuracy: 0.8509870918754746\n",
      "Epoch 1 - Save Best Score: 0.8510 Model\n"
     ]
    },
    {
     "name": "stdout",
     "output_type": "stream",
     "text": [
      "EVAL: [329/330] Elapsed 0m 38s (remain 0m 0s) Loss: 0.1420(0.1349) \n",
      "Epoch: [2][0/1316] Elapsed 0m 1s (remain 28m 51s) Loss: 0.0752(0.0752) Grad: 0.5536 LR: 0.000200  \n",
      "Epoch: [2][100/1316] Elapsed 0m 31s (remain 6m 15s) Loss: 0.2674(0.2133) Grad: 0.4518 LR: 0.000200  \n",
      "Epoch: [2][200/1316] Elapsed 1m 1s (remain 5m 38s) Loss: 0.0811(0.2151) Grad: 0.3119 LR: 0.000200  \n",
      "Epoch: [2][300/1316] Elapsed 1m 30s (remain 5m 6s) Loss: 0.3596(0.2130) Grad: 0.4387 LR: 0.000200  \n",
      "Epoch: [2][400/1316] Elapsed 2m 0s (remain 4m 35s) Loss: 0.1509(0.2168) Grad: 0.5531 LR: 0.000199  \n",
      "Epoch: [2][500/1316] Elapsed 2m 30s (remain 4m 5s) Loss: 0.2298(0.2188) Grad: 0.5543 LR: 0.000199  \n",
      "Epoch: [2][600/1316] Elapsed 3m 0s (remain 3m 34s) Loss: 0.3840(0.2217) Grad: 0.8272 LR: 0.000199  \n",
      "Epoch: [2][700/1316] Elapsed 3m 30s (remain 3m 4s) Loss: 0.2982(0.2207) Grad: 0.4075 LR: 0.000198  \n",
      "Epoch: [2][800/1316] Elapsed 3m 59s (remain 2m 34s) Loss: 0.1958(0.2184) Grad: 0.3640 LR: 0.000198  \n",
      "Epoch: [2][900/1316] Elapsed 4m 29s (remain 2m 4s) Loss: 0.0960(0.2185) Grad: 0.4836 LR: 0.000197  \n",
      "Epoch: [2][1000/1316] Elapsed 4m 59s (remain 1m 34s) Loss: 0.0868(0.2181) Grad: 0.5975 LR: 0.000197  \n",
      "Epoch: [2][1100/1316] Elapsed 5m 29s (remain 1m 4s) Loss: 0.1824(0.2171) Grad: 0.3198 LR: 0.000196  \n",
      "Epoch: [2][1200/1316] Elapsed 5m 59s (remain 0m 34s) Loss: 0.3971(0.2176) Grad: 0.6283 LR: 0.000195  \n",
      "Epoch: [2][1300/1316] Elapsed 6m 29s (remain 0m 4s) Loss: 0.1193(0.2170) Grad: 0.4100 LR: 0.000194  \n",
      "Epoch: [2][1315/1316] Elapsed 6m 33s (remain 0m 0s) Loss: 0.2378(0.2173) Grad: 0.4413 LR: 0.000194  \n",
      "EVAL: [0/330] Elapsed 0m 0s (remain 5m 15s) Loss: 0.2208(0.2208) \n",
      "EVAL: [100/330] Elapsed 0m 10s (remain 0m 24s) Loss: 0.1237(0.1456) \n",
      "EVAL: [200/330] Elapsed 0m 20s (remain 0m 13s) Loss: 0.0944(0.1429) \n",
      "EVAL: [300/330] Elapsed 0m 30s (remain 0m 2s) Loss: 0.0861(0.1379) \n"
     ]
    },
    {
     "name": "stderr",
     "output_type": "stream",
     "text": [
      "Epoch 2 - avg_train_loss: 0.2173  avg_val_loss: 0.1387  time: 427s\n",
      "Epoch 2 - Accuracy: 0.8507972665148064\n"
     ]
    },
    {
     "name": "stdout",
     "output_type": "stream",
     "text": [
      "EVAL: [329/330] Elapsed 0m 32s (remain 0m 0s) Loss: 0.0367(0.1387) \n",
      "Epoch: [3][0/1316] Elapsed 0m 1s (remain 29m 19s) Loss: 0.0840(0.0840) Grad: 0.4959 LR: 0.000194  \n",
      "Epoch: [3][100/1316] Elapsed 0m 31s (remain 6m 13s) Loss: 0.3093(0.2091) Grad: 0.5326 LR: 0.000193  \n",
      "Epoch: [3][200/1316] Elapsed 1m 0s (remain 5m 36s) Loss: 0.3932(0.1989) Grad: 0.3147 LR: 0.000192  \n",
      "Epoch: [3][300/1316] Elapsed 1m 30s (remain 5m 5s) Loss: 0.1484(0.2050) Grad: 0.3270 LR: 0.000191  \n",
      "Epoch: [3][400/1316] Elapsed 2m 0s (remain 4m 34s) Loss: 0.1302(0.2064) Grad: 0.4930 LR: 0.000190  \n",
      "Epoch: [3][500/1316] Elapsed 2m 30s (remain 4m 4s) Loss: 0.2671(0.2106) Grad: 0.3830 LR: 0.000189  \n",
      "Epoch: [3][600/1316] Elapsed 3m 0s (remain 3m 34s) Loss: 0.2045(0.2111) Grad: 0.3691 LR: 0.000187  \n",
      "Epoch: [3][700/1316] Elapsed 3m 29s (remain 3m 4s) Loss: 0.2846(0.2126) Grad: 0.1905 LR: 0.000186  \n",
      "Epoch: [3][800/1316] Elapsed 3m 59s (remain 2m 34s) Loss: 0.2731(0.2116) Grad: 0.1987 LR: 0.000185  \n",
      "Epoch: [3][900/1316] Elapsed 4m 29s (remain 2m 4s) Loss: 0.1888(0.2105) Grad: 0.3390 LR: 0.000183  \n",
      "Epoch: [3][1000/1316] Elapsed 4m 59s (remain 1m 34s) Loss: 0.2363(0.2102) Grad: 0.3217 LR: 0.000182  \n",
      "Epoch: [3][1100/1316] Elapsed 5m 29s (remain 1m 4s) Loss: 0.0941(0.2102) Grad: 0.2377 LR: 0.000180  \n",
      "Epoch: [3][1200/1316] Elapsed 5m 59s (remain 0m 34s) Loss: 0.4150(0.2124) Grad: 0.4232 LR: 0.000179  \n",
      "Epoch: [3][1300/1316] Elapsed 6m 29s (remain 0m 4s) Loss: 0.1112(0.2128) Grad: 0.4055 LR: 0.000177  \n",
      "Epoch: [3][1315/1316] Elapsed 6m 33s (remain 0m 0s) Loss: 0.3051(0.2131) Grad: 0.5116 LR: 0.000177  \n",
      "EVAL: [0/330] Elapsed 0m 1s (remain 5m 30s) Loss: 0.2222(0.2222) \n",
      "EVAL: [100/330] Elapsed 0m 10s (remain 0m 24s) Loss: 0.2013(0.1382) \n",
      "EVAL: [200/330] Elapsed 0m 20s (remain 0m 13s) Loss: 0.0972(0.1385) \n",
      "EVAL: [300/330] Elapsed 0m 30s (remain 0m 2s) Loss: 0.0746(0.1356) \n"
     ]
    },
    {
     "name": "stderr",
     "output_type": "stream",
     "text": [
      "Epoch 3 - avg_train_loss: 0.2131  avg_val_loss: 0.1363  time: 427s\n",
      "Epoch 3 - Accuracy: 0.8470007593014427\n"
     ]
    },
    {
     "name": "stdout",
     "output_type": "stream",
     "text": [
      "EVAL: [329/330] Elapsed 0m 32s (remain 0m 0s) Loss: 0.0817(0.1363) \n",
      "Epoch: [4][0/1316] Elapsed 0m 1s (remain 27m 7s) Loss: 0.3022(0.3022) Grad: 0.6510 LR: 0.000177  \n",
      "Epoch: [4][100/1316] Elapsed 0m 31s (remain 6m 13s) Loss: 0.3088(0.2086) Grad: 0.5238 LR: 0.000175  \n",
      "Epoch: [4][200/1316] Elapsed 1m 0s (remain 5m 36s) Loss: 0.1377(0.2042) Grad: 0.3237 LR: 0.000173  \n",
      "Epoch: [4][300/1316] Elapsed 1m 30s (remain 5m 5s) Loss: 0.2154(0.2020) Grad: 0.3306 LR: 0.000172  \n",
      "Epoch: [4][400/1316] Elapsed 2m 0s (remain 4m 34s) Loss: 0.2371(0.2038) Grad: 0.5485 LR: 0.000170  \n",
      "Epoch: [4][500/1316] Elapsed 2m 30s (remain 4m 4s) Loss: 0.2832(0.2057) Grad: 0.4172 LR: 0.000168  \n",
      "Epoch: [4][600/1316] Elapsed 3m 0s (remain 3m 34s) Loss: 0.2432(0.2054) Grad: 0.4362 LR: 0.000166  \n",
      "Epoch: [4][700/1316] Elapsed 3m 29s (remain 3m 4s) Loss: 0.1690(0.2055) Grad: 0.3806 LR: 0.000164  \n",
      "Epoch: [4][800/1316] Elapsed 3m 59s (remain 2m 34s) Loss: 0.1405(0.2055) Grad: 0.3316 LR: 0.000162  \n",
      "Epoch: [4][900/1316] Elapsed 4m 29s (remain 2m 4s) Loss: 0.1168(0.2061) Grad: 0.3328 LR: 0.000160  \n",
      "Epoch: [4][1000/1316] Elapsed 4m 59s (remain 1m 34s) Loss: 0.1874(0.2053) Grad: 0.1983 LR: 0.000158  \n",
      "Epoch: [4][1100/1316] Elapsed 5m 29s (remain 1m 4s) Loss: 0.1582(0.2049) Grad: 0.2079 LR: 0.000155  \n",
      "Epoch: [4][1200/1316] Elapsed 5m 59s (remain 0m 34s) Loss: 0.1475(0.2053) Grad: 0.3931 LR: 0.000153  \n",
      "Epoch: [4][1300/1316] Elapsed 6m 29s (remain 0m 4s) Loss: 0.2788(0.2050) Grad: 0.3078 LR: 0.000151  \n",
      "Epoch: [4][1315/1316] Elapsed 6m 33s (remain 0m 0s) Loss: 0.1274(0.2048) Grad: 0.4004 LR: 0.000150  \n",
      "EVAL: [0/330] Elapsed 0m 0s (remain 5m 16s) Loss: 0.3051(0.3051) \n",
      "EVAL: [100/330] Elapsed 0m 10s (remain 0m 24s) Loss: 0.1075(0.1337) \n",
      "EVAL: [200/330] Elapsed 0m 20s (remain 0m 13s) Loss: 0.0858(0.1340) \n",
      "EVAL: [300/330] Elapsed 0m 30s (remain 0m 2s) Loss: 0.0425(0.1343) \n"
     ]
    },
    {
     "name": "stderr",
     "output_type": "stream",
     "text": [
      "Epoch 4 - avg_train_loss: 0.2048  avg_val_loss: 0.1381  time: 427s\n",
      "Epoch 4 - Accuracy: 0.8519362186788155\n",
      "Epoch 4 - Save Best Score: 0.8519 Model\n"
     ]
    },
    {
     "name": "stdout",
     "output_type": "stream",
     "text": [
      "EVAL: [329/330] Elapsed 0m 32s (remain 0m 0s) Loss: 0.1313(0.1381) \n",
      "Epoch: [5][0/1316] Elapsed 0m 1s (remain 29m 12s) Loss: 0.0941(0.0941) Grad: 0.4241 LR: 0.000150  \n",
      "Epoch: [5][100/1316] Elapsed 0m 31s (remain 6m 15s) Loss: 0.2624(0.2034) Grad: 0.3680 LR: 0.000148  \n",
      "Epoch: [5][200/1316] Elapsed 1m 1s (remain 5m 38s) Loss: 0.2867(0.2147) Grad: 0.2114 LR: 0.000146  \n",
      "Epoch: [5][300/1316] Elapsed 1m 30s (remain 5m 6s) Loss: 0.0106(0.2100) Grad: 0.0600 LR: 0.000144  \n",
      "Epoch: [5][400/1316] Elapsed 2m 0s (remain 4m 35s) Loss: 0.2188(0.2071) Grad: 0.2371 LR: 0.000141  \n",
      "Epoch: [5][500/1316] Elapsed 2m 30s (remain 4m 4s) Loss: 0.0402(0.2051) Grad: 0.2399 LR: 0.000139  \n",
      "Epoch: [5][600/1316] Elapsed 3m 0s (remain 3m 34s) Loss: 0.3695(0.2026) Grad: 0.4628 LR: 0.000136  \n",
      "Epoch: [5][700/1316] Elapsed 3m 29s (remain 3m 4s) Loss: 0.1502(0.2026) Grad: inf LR: 0.000134  \n",
      "Epoch: [5][800/1316] Elapsed 3m 59s (remain 2m 33s) Loss: 0.2797(0.2034) Grad: 0.1858 LR: 0.000131  \n",
      "Epoch: [5][900/1316] Elapsed 4m 29s (remain 2m 4s) Loss: 0.1867(0.2018) Grad: 0.3063 LR: 0.000129  \n",
      "Epoch: [5][1000/1316] Elapsed 4m 59s (remain 1m 34s) Loss: 0.3214(0.2018) Grad: 0.3048 LR: 0.000126  \n",
      "Epoch: [5][1100/1316] Elapsed 5m 28s (remain 1m 4s) Loss: 0.4672(0.2019) Grad: 0.4025 LR: 0.000124  \n",
      "Epoch: [5][1200/1316] Elapsed 5m 58s (remain 0m 34s) Loss: 0.0561(0.2001) Grad: 0.2779 LR: 0.000121  \n",
      "Epoch: [5][1300/1316] Elapsed 6m 28s (remain 0m 4s) Loss: 0.2987(0.1997) Grad: 0.4008 LR: 0.000119  \n",
      "Epoch: [5][1315/1316] Elapsed 6m 32s (remain 0m 0s) Loss: 0.2175(0.1998) Grad: 0.4201 LR: 0.000118  \n",
      "EVAL: [0/330] Elapsed 0m 1s (remain 5m 33s) Loss: 0.2488(0.2488) \n",
      "EVAL: [100/330] Elapsed 0m 10s (remain 0m 24s) Loss: 0.0984(0.1273) \n",
      "EVAL: [200/330] Elapsed 0m 20s (remain 0m 13s) Loss: 0.0720(0.1288) \n",
      "EVAL: [300/330] Elapsed 0m 30s (remain 0m 2s) Loss: 0.0470(0.1256) \n"
     ]
    },
    {
     "name": "stderr",
     "output_type": "stream",
     "text": [
      "Epoch 5 - avg_train_loss: 0.1998  avg_val_loss: 0.1271  time: 426s\n",
      "Epoch 5 - Accuracy: 0.860668185269552\n",
      "Epoch 5 - Save Best Score: 0.8607 Model\n"
     ]
    },
    {
     "name": "stdout",
     "output_type": "stream",
     "text": [
      "EVAL: [329/330] Elapsed 0m 32s (remain 0m 0s) Loss: 0.1159(0.1271) \n",
      "Epoch: [6][0/1316] Elapsed 0m 1s (remain 27m 21s) Loss: 0.1860(0.1860) Grad: 0.4284 LR: 0.000118  \n",
      "Epoch: [6][100/1316] Elapsed 0m 31s (remain 6m 14s) Loss: 0.2929(0.1821) Grad: 0.4713 LR: 0.000116  \n",
      "Epoch: [6][200/1316] Elapsed 1m 0s (remain 5m 36s) Loss: 0.1166(0.1925) Grad: 0.5211 LR: 0.000113  \n",
      "Epoch: [6][300/1316] Elapsed 1m 30s (remain 5m 5s) Loss: 0.3352(0.1927) Grad: 0.3987 LR: 0.000110  \n",
      "Epoch: [6][400/1316] Elapsed 2m 0s (remain 4m 35s) Loss: 0.3278(0.1929) Grad: 0.2388 LR: 0.000108  \n",
      "Epoch: [6][500/1316] Elapsed 2m 30s (remain 4m 4s) Loss: 0.1507(0.1907) Grad: 0.4054 LR: 0.000105  \n",
      "Epoch: [6][600/1316] Elapsed 3m 0s (remain 3m 34s) Loss: 0.2006(0.1901) Grad: 0.3395 LR: 0.000103  \n",
      "Epoch: [6][700/1316] Elapsed 3m 30s (remain 3m 4s) Loss: 0.2003(0.1882) Grad: 0.5281 LR: 0.000100  \n",
      "Epoch: [6][800/1316] Elapsed 4m 0s (remain 2m 34s) Loss: 0.2376(0.1900) Grad: 0.2446 LR: 0.000097  \n",
      "Epoch: [6][900/1316] Elapsed 4m 29s (remain 2m 4s) Loss: 0.1689(0.1900) Grad: 0.2339 LR: 0.000095  \n",
      "Epoch: [6][1000/1316] Elapsed 4m 59s (remain 1m 34s) Loss: 0.2640(0.1898) Grad: 0.3116 LR: 0.000092  \n",
      "Epoch: [6][1100/1316] Elapsed 5m 29s (remain 1m 4s) Loss: 0.3578(0.1878) Grad: 0.5336 LR: 0.000089  \n",
      "Epoch: [6][1200/1316] Elapsed 5m 59s (remain 0m 34s) Loss: 0.1477(0.1878) Grad: 0.1726 LR: 0.000087  \n",
      "Epoch: [6][1300/1316] Elapsed 6m 29s (remain 0m 4s) Loss: 0.1274(0.1878) Grad: 0.5456 LR: 0.000084  \n",
      "Epoch: [6][1315/1316] Elapsed 6m 33s (remain 0m 0s) Loss: 0.2341(0.1874) Grad: 0.7074 LR: 0.000084  \n",
      "EVAL: [0/330] Elapsed 0m 0s (remain 5m 21s) Loss: 0.2829(0.2829) \n",
      "EVAL: [100/330] Elapsed 0m 10s (remain 0m 24s) Loss: 0.1408(0.1189) \n",
      "EVAL: [200/330] Elapsed 0m 20s (remain 0m 13s) Loss: 0.0597(0.1163) \n",
      "EVAL: [300/330] Elapsed 0m 30s (remain 0m 2s) Loss: 0.0134(0.1128) \n"
     ]
    },
    {
     "name": "stderr",
     "output_type": "stream",
     "text": [
      "Epoch 6 - avg_train_loss: 0.1874  avg_val_loss: 0.1137  time: 427s\n",
      "Epoch 6 - Accuracy: 0.8686408504176157\n",
      "Epoch 6 - Save Best Score: 0.8686 Model\n"
     ]
    },
    {
     "name": "stdout",
     "output_type": "stream",
     "text": [
      "EVAL: [329/330] Elapsed 0m 32s (remain 0m 0s) Loss: 0.0366(0.1137) \n",
      "Epoch: [7][0/1316] Elapsed 0m 1s (remain 28m 25s) Loss: 0.0707(0.0707) Grad: 0.3934 LR: 0.000084  \n",
      "Epoch: [7][100/1316] Elapsed 0m 30s (remain 6m 9s) Loss: 0.1169(0.1292) Grad: 0.4464 LR: 0.000081  \n",
      "Epoch: [7][200/1316] Elapsed 1m 0s (remain 5m 34s) Loss: 0.3442(0.1340) Grad: 0.4801 LR: 0.000079  \n",
      "Epoch: [7][300/1316] Elapsed 1m 29s (remain 5m 3s) Loss: 0.2172(0.1387) Grad: 0.2383 LR: 0.000076  \n",
      "Epoch: [7][400/1316] Elapsed 1m 59s (remain 4m 32s) Loss: 0.1855(0.1388) Grad: 0.4757 LR: 0.000074  \n",
      "Epoch: [7][500/1316] Elapsed 2m 29s (remain 4m 2s) Loss: 0.1821(0.1433) Grad: 0.6444 LR: 0.000071  \n",
      "Epoch: [7][600/1316] Elapsed 2m 58s (remain 3m 32s) Loss: 0.1859(0.1433) Grad: 0.3800 LR: 0.000069  \n",
      "Epoch: [7][700/1316] Elapsed 3m 28s (remain 3m 2s) Loss: 0.0282(0.1443) Grad: 0.3050 LR: 0.000066  \n",
      "Epoch: [7][800/1316] Elapsed 3m 57s (remain 2m 32s) Loss: 0.2949(0.1447) Grad: 0.5525 LR: 0.000064  \n",
      "Epoch: [7][900/1316] Elapsed 4m 27s (remain 2m 3s) Loss: 0.0288(0.1454) Grad: 0.1854 LR: 0.000061  \n",
      "Epoch: [7][1000/1316] Elapsed 4m 56s (remain 1m 33s) Loss: 0.2002(0.1442) Grad: 0.4660 LR: 0.000059  \n",
      "Epoch: [7][1100/1316] Elapsed 5m 26s (remain 1m 3s) Loss: 0.0560(0.1439) Grad: 0.2336 LR: 0.000056  \n",
      "Epoch: [7][1200/1316] Elapsed 5m 55s (remain 0m 34s) Loss: 0.1819(0.1433) Grad: 0.4398 LR: 0.000054  \n",
      "Epoch: [7][1300/1316] Elapsed 6m 25s (remain 0m 4s) Loss: 0.0833(0.1426) Grad: 0.4534 LR: 0.000052  \n",
      "Epoch: [7][1315/1316] Elapsed 6m 30s (remain 0m 0s) Loss: 0.0304(0.1432) Grad: 0.4485 LR: 0.000052  \n",
      "EVAL: [0/330] Elapsed 0m 0s (remain 5m 23s) Loss: 0.2661(0.2661) \n",
      "EVAL: [100/330] Elapsed 0m 10s (remain 0m 24s) Loss: 0.1368(0.1129) \n",
      "EVAL: [200/330] Elapsed 0m 20s (remain 0m 13s) Loss: 0.0471(0.1118) \n",
      "EVAL: [300/330] Elapsed 0m 30s (remain 0m 2s) Loss: 0.0080(0.1089) \n"
     ]
    },
    {
     "name": "stderr",
     "output_type": "stream",
     "text": [
      "Epoch 7 - avg_train_loss: 0.1432  avg_val_loss: 0.1093  time: 423s\n",
      "Epoch 7 - Accuracy: 0.8798405466970387\n",
      "Epoch 7 - Save Best Score: 0.8798 Model\n"
     ]
    },
    {
     "name": "stdout",
     "output_type": "stream",
     "text": [
      "EVAL: [329/330] Elapsed 0m 32s (remain 0m 0s) Loss: 0.0233(0.1093) \n",
      "Epoch: [8][0/1316] Elapsed 0m 1s (remain 30m 8s) Loss: 0.1981(0.1981) Grad: 0.1732 LR: 0.000052  \n",
      "Epoch: [8][100/1316] Elapsed 0m 30s (remain 6m 12s) Loss: 0.2908(0.1559) Grad: 0.2465 LR: 0.000049  \n",
      "Epoch: [8][200/1316] Elapsed 1m 0s (remain 5m 35s) Loss: 0.1918(0.1495) Grad: 0.6705 LR: 0.000047  \n",
      "Epoch: [8][300/1316] Elapsed 1m 30s (remain 5m 3s) Loss: 0.1947(0.1490) Grad: 0.2781 LR: 0.000045  \n",
      "Epoch: [8][400/1316] Elapsed 1m 59s (remain 4m 33s) Loss: 0.1616(0.1491) Grad: 0.2178 LR: 0.000043  \n",
      "Epoch: [8][500/1316] Elapsed 2m 29s (remain 4m 2s) Loss: 0.1302(0.1481) Grad: 0.5502 LR: 0.000041  \n",
      "Epoch: [8][600/1316] Elapsed 2m 58s (remain 3m 32s) Loss: 0.1074(0.1457) Grad: 0.4345 LR: 0.000039  \n",
      "Epoch: [8][700/1316] Elapsed 3m 28s (remain 3m 2s) Loss: 0.1208(0.1425) Grad: 0.6365 LR: 0.000037  \n",
      "Epoch: [8][800/1316] Elapsed 3m 57s (remain 2m 32s) Loss: 0.3102(0.1389) Grad: 0.3305 LR: 0.000035  \n",
      "Epoch: [8][900/1316] Elapsed 4m 27s (remain 2m 3s) Loss: 0.0845(0.1369) Grad: 0.0952 LR: 0.000033  \n",
      "Epoch: [8][1000/1316] Elapsed 4m 56s (remain 1m 33s) Loss: 0.3146(0.1369) Grad: 0.4933 LR: 0.000031  \n",
      "Epoch: [8][1100/1316] Elapsed 5m 26s (remain 1m 3s) Loss: 0.1210(0.1371) Grad: 0.2970 LR: 0.000029  \n",
      "Epoch: [8][1200/1316] Elapsed 5m 55s (remain 0m 34s) Loss: 0.0644(0.1363) Grad: 0.4124 LR: 0.000027  \n",
      "Epoch: [8][1300/1316] Elapsed 6m 25s (remain 0m 4s) Loss: 0.1115(0.1356) Grad: 0.4963 LR: 0.000025  \n",
      "Epoch: [8][1315/1316] Elapsed 6m 29s (remain 0m 0s) Loss: 0.0656(0.1354) Grad: 0.2103 LR: 0.000025  \n",
      "EVAL: [0/330] Elapsed 0m 0s (remain 5m 19s) Loss: 0.2557(0.2557) \n",
      "EVAL: [100/330] Elapsed 0m 10s (remain 0m 24s) Loss: 0.0914(0.1088) \n",
      "EVAL: [200/330] Elapsed 0m 20s (remain 0m 13s) Loss: 0.0545(0.1073) \n",
      "EVAL: [300/330] Elapsed 0m 30s (remain 0m 2s) Loss: 0.0121(0.1045) \n"
     ]
    },
    {
     "name": "stderr",
     "output_type": "stream",
     "text": [
      "Epoch 8 - avg_train_loss: 0.1354  avg_val_loss: 0.1062  time: 423s\n",
      "Epoch 8 - Accuracy: 0.886294608959757\n",
      "Epoch 8 - Save Best Score: 0.8863 Model\n"
     ]
    },
    {
     "name": "stdout",
     "output_type": "stream",
     "text": [
      "EVAL: [329/330] Elapsed 0m 32s (remain 0m 0s) Loss: 0.0464(0.1062) \n",
      "Epoch: [9][0/1316] Elapsed 0m 1s (remain 28m 43s) Loss: 0.1892(0.1892) Grad: 0.2750 LR: 0.000025  \n",
      "Epoch: [9][100/1316] Elapsed 0m 30s (remain 6m 9s) Loss: 0.1217(0.1308) Grad: 0.1885 LR: 0.000024  \n",
      "Epoch: [9][200/1316] Elapsed 1m 0s (remain 5m 33s) Loss: 0.1098(0.1281) Grad: 0.3645 LR: 0.000022  \n",
      "Epoch: [9][300/1316] Elapsed 1m 29s (remain 5m 2s) Loss: 0.1205(0.1330) Grad: 0.5176 LR: 0.000020  \n",
      "Epoch: [9][400/1316] Elapsed 1m 59s (remain 4m 31s) Loss: 0.1117(0.1325) Grad: 0.2396 LR: 0.000019  \n",
      "Epoch: [9][500/1316] Elapsed 2m 28s (remain 4m 1s) Loss: 0.3395(0.1284) Grad: 0.3650 LR: 0.000017  \n",
      "Epoch: [9][600/1316] Elapsed 2m 57s (remain 3m 31s) Loss: 0.0157(0.1289) Grad: 0.1640 LR: 0.000016  \n",
      "Epoch: [9][700/1316] Elapsed 3m 27s (remain 3m 1s) Loss: 0.1465(0.1308) Grad: 0.2817 LR: 0.000015  \n",
      "Epoch: [9][800/1316] Elapsed 3m 56s (remain 2m 32s) Loss: 0.0891(0.1293) Grad: 0.6413 LR: 0.000013  \n",
      "Epoch: [9][900/1316] Elapsed 4m 26s (remain 2m 2s) Loss: 0.1013(0.1293) Grad: 0.4059 LR: 0.000012  \n",
      "Epoch: [9][1000/1316] Elapsed 4m 55s (remain 1m 32s) Loss: 0.0117(0.1267) Grad: 0.2040 LR: 0.000011  \n",
      "Epoch: [9][1100/1316] Elapsed 5m 24s (remain 1m 3s) Loss: 0.0571(0.1259) Grad: 0.2824 LR: 0.000010  \n",
      "Epoch: [9][1200/1316] Elapsed 5m 54s (remain 0m 33s) Loss: 0.0314(0.1268) Grad: 0.3251 LR: 0.000009  \n",
      "Epoch: [9][1300/1316] Elapsed 6m 23s (remain 0m 4s) Loss: 0.0283(0.1268) Grad: 0.2436 LR: 0.000008  \n",
      "Epoch: [9][1315/1316] Elapsed 6m 28s (remain 0m 0s) Loss: 0.2324(0.1270) Grad: 0.8892 LR: 0.000008  \n",
      "EVAL: [0/330] Elapsed 0m 0s (remain 5m 19s) Loss: 0.2499(0.2499) \n",
      "EVAL: [100/330] Elapsed 0m 10s (remain 0m 24s) Loss: 0.1509(0.1089) \n",
      "EVAL: [200/330] Elapsed 0m 20s (remain 0m 13s) Loss: 0.0671(0.1077) \n",
      "EVAL: [300/330] Elapsed 0m 30s (remain 0m 2s) Loss: 0.0066(0.1046) \n"
     ]
    },
    {
     "name": "stderr",
     "output_type": "stream",
     "text": [
      "Epoch 9 - avg_train_loss: 0.1270  avg_val_loss: 0.1054  time: 421s\n",
      "Epoch 9 - Accuracy: 0.8851556567957479\n"
     ]
    },
    {
     "name": "stdout",
     "output_type": "stream",
     "text": [
      "EVAL: [329/330] Elapsed 0m 32s (remain 0m 0s) Loss: 0.0668(0.1054) \n",
      "Epoch: [10][0/1316] Elapsed 0m 1s (remain 26m 2s) Loss: 0.0363(0.0363) Grad: 0.3048 LR: 0.000008  \n",
      "Epoch: [10][100/1316] Elapsed 0m 29s (remain 5m 55s) Loss: 0.0864(0.0807) Grad: 0.5307 LR: 0.000007  \n",
      "Epoch: [10][200/1316] Elapsed 0m 57s (remain 5m 21s) Loss: 0.0234(0.0777) Grad: 0.2803 LR: 0.000006  \n",
      "Epoch: [10][300/1316] Elapsed 1m 26s (remain 4m 50s) Loss: 0.0982(0.0785) Grad: 0.2528 LR: 0.000006  \n",
      "Epoch: [10][400/1316] Elapsed 1m 54s (remain 4m 21s) Loss: 0.0251(0.0785) Grad: 0.3154 LR: 0.000005  \n",
      "Epoch: [10][500/1316] Elapsed 2m 22s (remain 3m 52s) Loss: 0.0598(0.0769) Grad: 0.3809 LR: 0.000004  \n",
      "Epoch: [10][600/1316] Elapsed 2m 51s (remain 3m 23s) Loss: 0.1112(0.0755) Grad: 0.3940 LR: 0.000004  \n",
      "Epoch: [10][700/1316] Elapsed 3m 19s (remain 2m 55s) Loss: 0.0138(0.0746) Grad: 0.2351 LR: 0.000003  \n",
      "Epoch: [10][800/1316] Elapsed 3m 48s (remain 2m 26s) Loss: 0.0604(0.0738) Grad: 0.4372 LR: 0.000003  \n",
      "Epoch: [10][900/1316] Elapsed 4m 16s (remain 1m 58s) Loss: 0.0945(0.0741) Grad: 0.5417 LR: 0.000003  \n",
      "Epoch: [10][1000/1316] Elapsed 4m 44s (remain 1m 29s) Loss: 0.1730(0.0741) Grad: 0.4875 LR: 0.000002  \n",
      "Epoch: [10][1100/1316] Elapsed 5m 13s (remain 1m 1s) Loss: 0.0509(0.0733) Grad: 0.3492 LR: 0.000002  \n",
      "Epoch: [10][1200/1316] Elapsed 5m 41s (remain 0m 32s) Loss: 0.0023(0.0732) Grad: 0.0624 LR: 0.000002  \n",
      "Epoch: [10][1300/1316] Elapsed 6m 9s (remain 0m 4s) Loss: 0.0806(0.0730) Grad: 0.5818 LR: 0.000002  \n",
      "Epoch: [10][1315/1316] Elapsed 6m 14s (remain 0m 0s) Loss: 0.0255(0.0731) Grad: 0.4595 LR: 0.000002  \n",
      "EVAL: [0/330] Elapsed 0m 0s (remain 5m 11s) Loss: 0.2333(0.2333) \n",
      "EVAL: [100/330] Elapsed 0m 10s (remain 0m 24s) Loss: 0.1466(0.1057) \n",
      "EVAL: [200/330] Elapsed 0m 20s (remain 0m 13s) Loss: 0.0685(0.1056) \n",
      "EVAL: [300/330] Elapsed 0m 30s (remain 0m 2s) Loss: 0.0048(0.1017) \n"
     ]
    },
    {
     "name": "stderr",
     "output_type": "stream",
     "text": [
      "Epoch 10 - avg_train_loss: 0.0731  avg_val_loss: 0.1024  time: 407s\n",
      "Epoch 10 - Accuracy: 0.8880030372057707\n",
      "Epoch 10 - Save Best Score: 0.8880 Model\n"
     ]
    },
    {
     "name": "stdout",
     "output_type": "stream",
     "text": [
      "EVAL: [329/330] Elapsed 0m 32s (remain 0m 0s) Loss: 0.0487(0.1024) \n"
     ]
    },
    {
     "name": "stderr",
     "output_type": "stream",
     "text": [
      "Epoch 10 - Save final model\n",
      "========== fold: 0 result ==========\n",
      "Score: 0.88800\n",
      "========== fold: 1 training ==========\n"
     ]
    },
    {
     "name": "stdout",
     "output_type": "stream",
     "text": [
      "Epoch: [1][0/1316] Elapsed 0m 1s (remain 28m 21s) Loss: 0.6651(0.6651) Grad: 1.5658 LR: 0.000002  \n",
      "Epoch: [1][100/1316] Elapsed 0m 32s (remain 6m 27s) Loss: 0.4098(0.4163) Grad: 0.7301 LR: 0.000017  \n",
      "Epoch: [1][200/1316] Elapsed 1m 3s (remain 5m 49s) Loss: 0.1597(0.3636) Grad: 0.9033 LR: 0.000032  \n",
      "Epoch: [1][300/1316] Elapsed 1m 33s (remain 5m 15s) Loss: 0.2924(0.3298) Grad: 0.6229 LR: 0.000047  \n",
      "Epoch: [1][400/1316] Elapsed 2m 4s (remain 4m 43s) Loss: 0.0165(0.3080) Grad: 0.4946 LR: 0.000062  \n",
      "Epoch: [1][500/1316] Elapsed 2m 35s (remain 4m 12s) Loss: 0.2106(0.2983) Grad: 0.5625 LR: 0.000077  \n",
      "Epoch: [1][600/1316] Elapsed 3m 5s (remain 3m 40s) Loss: 0.0706(0.2880) Grad: 0.3906 LR: 0.000092  \n",
      "Epoch: [1][700/1316] Elapsed 3m 36s (remain 3m 10s) Loss: 0.2002(0.2810) Grad: 0.5361 LR: 0.000107  \n",
      "Epoch: [1][800/1316] Elapsed 4m 7s (remain 2m 39s) Loss: 0.2839(0.2757) Grad: 0.9306 LR: 0.000122  \n",
      "Epoch: [1][900/1316] Elapsed 4m 38s (remain 2m 8s) Loss: 0.1379(0.2717) Grad: 0.6357 LR: 0.000137  \n",
      "Epoch: [1][1000/1316] Elapsed 5m 8s (remain 1m 37s) Loss: 0.3297(0.2665) Grad: 0.8168 LR: 0.000152  \n",
      "Epoch: [1][1100/1316] Elapsed 5m 39s (remain 1m 6s) Loss: 0.0986(0.2627) Grad: 0.6243 LR: 0.000168  \n",
      "Epoch: [1][1200/1316] Elapsed 6m 10s (remain 0m 35s) Loss: 0.0922(0.2597) Grad: 0.5212 LR: 0.000183  \n",
      "Epoch: [1][1300/1316] Elapsed 6m 41s (remain 0m 4s) Loss: 0.1402(0.2568) Grad: 0.6167 LR: 0.000198  \n",
      "Epoch: [1][1315/1316] Elapsed 6m 46s (remain 0m 0s) Loss: 0.2730(0.2567) Grad: 1.0242 LR: 0.000200  \n",
      "EVAL: [0/330] Elapsed 0m 0s (remain 5m 11s) Loss: 0.0963(0.0963) \n",
      "EVAL: [100/330] Elapsed 0m 10s (remain 0m 24s) Loss: 0.1544(0.1309) \n",
      "EVAL: [200/330] Elapsed 0m 20s (remain 0m 13s) Loss: 0.0828(0.1395) \n",
      "EVAL: [300/330] Elapsed 0m 30s (remain 0m 2s) Loss: 0.2191(0.1385) \n"
     ]
    },
    {
     "name": "stderr",
     "output_type": "stream",
     "text": [
      "Epoch 1 - avg_train_loss: 0.2567  avg_val_loss: 0.1401  time: 439s\n",
      "Epoch 1 - Accuracy: 0.8426347760060744\n",
      "Epoch 1 - Save Best Score: 0.8426 Model\n"
     ]
    },
    {
     "name": "stdout",
     "output_type": "stream",
     "text": [
      "EVAL: [329/330] Elapsed 0m 32s (remain 0m 0s) Loss: 0.0024(0.1401) \n",
      "Epoch: [2][0/1316] Elapsed 0m 1s (remain 29m 43s) Loss: 0.1765(0.1765) Grad: 0.6724 LR: 0.000200  \n",
      "Epoch: [2][100/1316] Elapsed 0m 32s (remain 6m 25s) Loss: 0.3043(0.2195) Grad: 0.5133 LR: 0.000200  \n",
      "Epoch: [2][200/1316] Elapsed 1m 2s (remain 5m 47s) Loss: 0.2707(0.2281) Grad: 0.8410 LR: 0.000200  \n",
      "Epoch: [2][300/1316] Elapsed 1m 33s (remain 5m 14s) Loss: 0.2788(0.2249) Grad: 0.8428 LR: 0.000200  \n",
      "Epoch: [2][400/1316] Elapsed 2m 3s (remain 4m 42s) Loss: 0.1955(0.2225) Grad: 0.3634 LR: 0.000199  \n",
      "Epoch: [2][500/1316] Elapsed 2m 34s (remain 4m 11s) Loss: 0.2893(0.2237) Grad: 0.7654 LR: 0.000199  \n",
      "Epoch: [2][600/1316] Elapsed 3m 5s (remain 3m 40s) Loss: 0.2033(0.2210) Grad: 0.6421 LR: 0.000199  \n",
      "Epoch: [2][700/1316] Elapsed 3m 36s (remain 3m 9s) Loss: 0.3519(0.2222) Grad: 0.6000 LR: 0.000198  \n",
      "Epoch: [2][800/1316] Elapsed 4m 7s (remain 2m 38s) Loss: 0.1678(0.2235) Grad: 0.2727 LR: 0.000198  \n",
      "Epoch: [2][900/1316] Elapsed 4m 37s (remain 2m 7s) Loss: 0.3529(0.2221) Grad: 0.4954 LR: 0.000197  \n",
      "Epoch: [2][1000/1316] Elapsed 5m 8s (remain 1m 37s) Loss: 0.3711(0.2230) Grad: 0.4440 LR: 0.000197  \n",
      "Epoch: [2][1100/1316] Elapsed 5m 39s (remain 1m 6s) Loss: 0.1271(0.2217) Grad: 0.6062 LR: 0.000196  \n",
      "Epoch: [2][1200/1316] Elapsed 6m 9s (remain 0m 35s) Loss: 0.3707(0.2210) Grad: 0.7742 LR: 0.000195  \n",
      "Epoch: [2][1300/1316] Elapsed 6m 40s (remain 0m 4s) Loss: 0.1222(0.2205) Grad: 0.5774 LR: 0.000194  \n",
      "Epoch: [2][1315/1316] Elapsed 6m 45s (remain 0m 0s) Loss: 0.1256(0.2202) Grad: 0.5104 LR: 0.000194  \n",
      "EVAL: [0/330] Elapsed 0m 1s (remain 5m 30s) Loss: 0.0353(0.0353) \n",
      "EVAL: [100/330] Elapsed 0m 10s (remain 0m 24s) Loss: 0.1120(0.1232) \n",
      "EVAL: [200/330] Elapsed 0m 20s (remain 0m 13s) Loss: 0.0723(0.1254) \n",
      "EVAL: [300/330] Elapsed 0m 30s (remain 0m 2s) Loss: 0.2085(0.1242) \n"
     ]
    },
    {
     "name": "stderr",
     "output_type": "stream",
     "text": [
      "Epoch 2 - avg_train_loss: 0.2202  avg_val_loss: 0.1264  time: 438s\n",
      "Epoch 2 - Accuracy: 0.856492027334852\n",
      "Epoch 2 - Save Best Score: 0.8565 Model\n"
     ]
    },
    {
     "name": "stdout",
     "output_type": "stream",
     "text": [
      "EVAL: [329/330] Elapsed 0m 32s (remain 0m 0s) Loss: 0.0011(0.1264) \n",
      "Epoch: [3][0/1316] Elapsed 0m 1s (remain 31m 6s) Loss: 0.1394(0.1394) Grad: 0.4788 LR: 0.000194  \n",
      "Epoch: [3][100/1316] Elapsed 0m 32s (remain 6m 25s) Loss: 0.2103(0.2091) Grad: 0.3113 LR: 0.000193  \n",
      "Epoch: [3][200/1316] Elapsed 1m 2s (remain 5m 47s) Loss: 0.1680(0.2092) Grad: 0.5630 LR: 0.000192  \n",
      "Epoch: [3][300/1316] Elapsed 1m 33s (remain 5m 13s) Loss: 0.1174(0.2117) Grad: 0.5146 LR: 0.000191  \n",
      "Epoch: [3][400/1316] Elapsed 2m 3s (remain 4m 42s) Loss: 0.3118(0.2147) Grad: 0.7183 LR: 0.000190  \n",
      "Epoch: [3][500/1316] Elapsed 2m 34s (remain 4m 11s) Loss: 0.2931(0.2138) Grad: 0.2397 LR: 0.000189  \n",
      "Epoch: [3][600/1316] Elapsed 3m 5s (remain 3m 40s) Loss: 0.3250(0.2128) Grad: 0.3994 LR: 0.000187  \n",
      "Epoch: [3][700/1316] Elapsed 3m 35s (remain 3m 9s) Loss: 0.3230(0.2125) Grad: 0.8142 LR: 0.000186  \n",
      "Epoch: [3][800/1316] Elapsed 4m 6s (remain 2m 38s) Loss: 0.2769(0.2132) Grad: 0.5563 LR: 0.000185  \n",
      "Epoch: [3][900/1316] Elapsed 4m 37s (remain 2m 7s) Loss: 0.3496(0.2126) Grad: 0.3961 LR: 0.000183  \n",
      "Epoch: [3][1000/1316] Elapsed 5m 8s (remain 1m 37s) Loss: 0.2582(0.2133) Grad: 0.2777 LR: 0.000182  \n",
      "Epoch: [3][1100/1316] Elapsed 5m 39s (remain 1m 6s) Loss: 0.3252(0.2130) Grad: 0.3471 LR: 0.000180  \n",
      "Epoch: [3][1200/1316] Elapsed 6m 10s (remain 0m 35s) Loss: 0.1451(0.2129) Grad: 0.1324 LR: 0.000179  \n",
      "Epoch: [3][1300/1316] Elapsed 6m 40s (remain 0m 4s) Loss: 0.2059(0.2120) Grad: 0.5507 LR: 0.000177  \n",
      "Epoch: [3][1315/1316] Elapsed 6m 45s (remain 0m 0s) Loss: 0.2730(0.2125) Grad: 0.5214 LR: 0.000177  \n",
      "EVAL: [0/330] Elapsed 0m 1s (remain 5m 30s) Loss: 0.1454(0.1454) \n",
      "EVAL: [100/330] Elapsed 0m 10s (remain 0m 24s) Loss: 0.2226(0.1405) \n",
      "EVAL: [200/330] Elapsed 0m 20s (remain 0m 13s) Loss: 0.1169(0.1509) \n",
      "EVAL: [300/330] Elapsed 0m 30s (remain 0m 2s) Loss: 0.1972(0.1485) \n"
     ]
    },
    {
     "name": "stderr",
     "output_type": "stream",
     "text": [
      "Epoch 3 - avg_train_loss: 0.2125  avg_val_loss: 0.1486  time: 438s\n",
      "Epoch 3 - Accuracy: 0.8276385725132878\n"
     ]
    },
    {
     "name": "stdout",
     "output_type": "stream",
     "text": [
      "EVAL: [329/330] Elapsed 0m 32s (remain 0m 0s) Loss: 0.0066(0.1486) \n",
      "Epoch: [4][0/1316] Elapsed 0m 1s (remain 28m 40s) Loss: 0.2419(0.2419) Grad: 0.2998 LR: 0.000177  \n",
      "Epoch: [4][100/1316] Elapsed 0m 31s (remain 6m 24s) Loss: 0.0826(0.2065) Grad: 0.3201 LR: 0.000175  \n",
      "Epoch: [4][200/1316] Elapsed 1m 3s (remain 5m 49s) Loss: 0.1713(0.2092) Grad: 0.2808 LR: 0.000173  \n",
      "Epoch: [4][300/1316] Elapsed 1m 33s (remain 5m 16s) Loss: 0.3468(0.2056) Grad: 0.4202 LR: 0.000172  \n",
      "Epoch: [4][400/1316] Elapsed 2m 4s (remain 4m 44s) Loss: 0.2046(0.2073) Grad: 0.2299 LR: 0.000170  \n",
      "Epoch: [4][500/1316] Elapsed 2m 35s (remain 4m 12s) Loss: 0.2670(0.2059) Grad: 0.4355 LR: 0.000168  \n",
      "Epoch: [4][600/1316] Elapsed 3m 6s (remain 3m 41s) Loss: 0.0638(0.2029) Grad: 0.3719 LR: 0.000166  \n",
      "Epoch: [4][700/1316] Elapsed 3m 36s (remain 3m 10s) Loss: 0.1766(0.2049) Grad: 0.2379 LR: 0.000164  \n",
      "Epoch: [4][800/1316] Elapsed 4m 7s (remain 2m 39s) Loss: 0.3012(0.2056) Grad: 0.5415 LR: 0.000162  \n",
      "Epoch: [4][900/1316] Elapsed 4m 37s (remain 2m 7s) Loss: 0.0513(0.2057) Grad: 0.3143 LR: 0.000160  \n",
      "Epoch: [4][1000/1316] Elapsed 5m 8s (remain 1m 37s) Loss: 0.1891(0.2061) Grad: 0.5561 LR: 0.000158  \n",
      "Epoch: [4][1100/1316] Elapsed 5m 39s (remain 1m 6s) Loss: 0.1971(0.2082) Grad: 0.3556 LR: 0.000155  \n",
      "Epoch: [4][1200/1316] Elapsed 6m 9s (remain 0m 35s) Loss: 0.1899(0.2071) Grad: 0.3992 LR: 0.000153  \n",
      "Epoch: [4][1300/1316] Elapsed 6m 40s (remain 0m 4s) Loss: 0.1428(0.2067) Grad: 0.3443 LR: 0.000151  \n",
      "Epoch: [4][1315/1316] Elapsed 6m 45s (remain 0m 0s) Loss: 0.1241(0.2063) Grad: 0.5604 LR: 0.000150  \n",
      "EVAL: [0/330] Elapsed 0m 1s (remain 5m 54s) Loss: 0.0556(0.0556) \n",
      "EVAL: [100/330] Elapsed 0m 10s (remain 0m 24s) Loss: 0.1309(0.1178) \n",
      "EVAL: [200/330] Elapsed 0m 20s (remain 0m 13s) Loss: 0.0628(0.1204) \n",
      "EVAL: [300/330] Elapsed 0m 30s (remain 0m 2s) Loss: 0.1430(0.1188) \n"
     ]
    },
    {
     "name": "stderr",
     "output_type": "stream",
     "text": [
      "Epoch 4 - avg_train_loss: 0.2063  avg_val_loss: 0.1190  time: 438s\n",
      "Epoch 4 - Accuracy: 0.8665527714502658\n",
      "Epoch 4 - Save Best Score: 0.8666 Model\n"
     ]
    },
    {
     "name": "stdout",
     "output_type": "stream",
     "text": [
      "EVAL: [329/330] Elapsed 0m 32s (remain 0m 0s) Loss: 0.0065(0.1190) \n",
      "Epoch: [5][0/1316] Elapsed 0m 1s (remain 30m 9s) Loss: 0.3862(0.3862) Grad: 0.5055 LR: 0.000150  \n",
      "Epoch: [5][100/1316] Elapsed 0m 32s (remain 6m 26s) Loss: 0.1110(0.1997) Grad: 0.0828 LR: 0.000148  \n",
      "Epoch: [5][200/1316] Elapsed 1m 2s (remain 5m 47s) Loss: 0.2710(0.1995) Grad: 0.3695 LR: 0.000146  \n",
      "Epoch: [5][300/1316] Elapsed 1m 33s (remain 5m 15s) Loss: 0.1949(0.2034) Grad: 0.3509 LR: 0.000144  \n",
      "Epoch: [5][400/1316] Elapsed 2m 4s (remain 4m 43s) Loss: 0.1837(0.2024) Grad: 0.2143 LR: 0.000141  \n",
      "Epoch: [5][500/1316] Elapsed 2m 35s (remain 4m 12s) Loss: 0.1304(0.2025) Grad: 0.6065 LR: 0.000139  \n",
      "Epoch: [5][600/1316] Elapsed 3m 5s (remain 3m 41s) Loss: 0.0871(0.2016) Grad: 0.4026 LR: 0.000136  \n",
      "Epoch: [5][700/1316] Elapsed 3m 36s (remain 3m 10s) Loss: 0.1169(0.2007) Grad: 0.3648 LR: 0.000134  \n",
      "Epoch: [5][800/1316] Elapsed 4m 7s (remain 2m 39s) Loss: 0.0741(0.2001) Grad: 0.2959 LR: 0.000131  \n",
      "Epoch: [5][900/1316] Elapsed 4m 38s (remain 2m 8s) Loss: 0.1478(0.2021) Grad: 0.3070 LR: 0.000129  \n",
      "Epoch: [5][1000/1316] Elapsed 5m 8s (remain 1m 37s) Loss: 0.1527(0.2022) Grad: 0.3309 LR: 0.000126  \n",
      "Epoch: [5][1100/1316] Elapsed 5m 40s (remain 1m 6s) Loss: 0.0635(0.2035) Grad: 0.3047 LR: 0.000124  \n",
      "Epoch: [5][1200/1316] Elapsed 6m 11s (remain 0m 35s) Loss: 0.2053(0.2028) Grad: 0.3499 LR: 0.000121  \n",
      "Epoch: [5][1300/1316] Elapsed 6m 41s (remain 0m 4s) Loss: 0.0491(0.2032) Grad: 0.1765 LR: 0.000119  \n",
      "Epoch: [5][1315/1316] Elapsed 6m 46s (remain 0m 0s) Loss: 0.1556(0.2033) Grad: 0.5508 LR: 0.000118  \n",
      "EVAL: [0/330] Elapsed 0m 0s (remain 5m 19s) Loss: 0.0237(0.0237) \n",
      "EVAL: [100/330] Elapsed 0m 10s (remain 0m 24s) Loss: 0.1159(0.1141) \n",
      "EVAL: [200/330] Elapsed 0m 20s (remain 0m 13s) Loss: 0.0328(0.1156) \n",
      "EVAL: [300/330] Elapsed 0m 30s (remain 0m 2s) Loss: 0.2033(0.1133) \n"
     ]
    },
    {
     "name": "stderr",
     "output_type": "stream",
     "text": [
      "Epoch 5 - avg_train_loss: 0.2033  avg_val_loss: 0.1146  time: 440s\n",
      "Epoch 5 - Accuracy: 0.8741457858769932\n",
      "Epoch 5 - Save Best Score: 0.8741 Model\n"
     ]
    },
    {
     "name": "stdout",
     "output_type": "stream",
     "text": [
      "EVAL: [329/330] Elapsed 0m 32s (remain 0m 0s) Loss: 0.0038(0.1146) \n",
      "Epoch: [6][0/1316] Elapsed 0m 1s (remain 28m 30s) Loss: 0.2329(0.2329) Grad: 0.4537 LR: 0.000118  \n",
      "Epoch: [6][100/1316] Elapsed 0m 32s (remain 6m 26s) Loss: 0.3650(0.2064) Grad: 0.3732 LR: 0.000116  \n",
      "Epoch: [6][200/1316] Elapsed 1m 3s (remain 5m 50s) Loss: 0.0975(0.2044) Grad: 0.5348 LR: 0.000113  \n",
      "Epoch: [6][300/1316] Elapsed 1m 33s (remain 5m 16s) Loss: 0.3668(0.2033) Grad: 0.3872 LR: 0.000110  \n",
      "Epoch: [6][400/1316] Elapsed 2m 4s (remain 4m 43s) Loss: 0.3038(0.1963) Grad: 0.3718 LR: 0.000108  \n",
      "Epoch: [6][500/1316] Elapsed 2m 35s (remain 4m 12s) Loss: 0.1879(0.1968) Grad: 0.2453 LR: 0.000105  \n",
      "Epoch: [6][600/1316] Elapsed 3m 6s (remain 3m 41s) Loss: 0.1893(0.1938) Grad: 0.7076 LR: 0.000103  \n",
      "Epoch: [6][700/1316] Elapsed 3m 36s (remain 3m 10s) Loss: 0.1055(0.1928) Grad: 0.4166 LR: 0.000100  \n",
      "Epoch: [6][800/1316] Elapsed 4m 7s (remain 2m 39s) Loss: 0.2203(0.1913) Grad: 0.3235 LR: 0.000097  \n",
      "Epoch: [6][900/1316] Elapsed 4m 38s (remain 2m 8s) Loss: 0.1012(0.1919) Grad: 0.5335 LR: 0.000095  \n",
      "Epoch: [6][1000/1316] Elapsed 5m 8s (remain 1m 37s) Loss: 0.3206(0.1931) Grad: 0.4243 LR: 0.000092  \n",
      "Epoch: [6][1100/1316] Elapsed 5m 39s (remain 1m 6s) Loss: 0.1913(0.1931) Grad: 0.3292 LR: 0.000089  \n",
      "Epoch: [6][1200/1316] Elapsed 6m 10s (remain 0m 35s) Loss: 0.2025(0.1938) Grad: 0.5562 LR: 0.000087  \n",
      "Epoch: [6][1300/1316] Elapsed 6m 40s (remain 0m 4s) Loss: 0.2407(0.1945) Grad: 0.3011 LR: 0.000084  \n",
      "Epoch: [6][1315/1316] Elapsed 6m 45s (remain 0m 0s) Loss: 0.1411(0.1950) Grad: 0.5556 LR: 0.000084  \n",
      "EVAL: [0/330] Elapsed 0m 0s (remain 5m 16s) Loss: 0.0136(0.0136) \n",
      "EVAL: [100/330] Elapsed 0m 10s (remain 0m 24s) Loss: 0.1194(0.1059) \n",
      "EVAL: [200/330] Elapsed 0m 20s (remain 0m 13s) Loss: 0.0204(0.1099) \n",
      "EVAL: [300/330] Elapsed 0m 30s (remain 0m 2s) Loss: 0.1542(0.1087) \n"
     ]
    },
    {
     "name": "stderr",
     "output_type": "stream",
     "text": [
      "Epoch 6 - avg_train_loss: 0.1950  avg_val_loss: 0.1102  time: 438s\n",
      "Epoch 6 - Accuracy: 0.8790812452543659\n",
      "Epoch 6 - Save Best Score: 0.8791 Model\n"
     ]
    },
    {
     "name": "stdout",
     "output_type": "stream",
     "text": [
      "EVAL: [329/330] Elapsed 0m 32s (remain 0m 0s) Loss: 0.0038(0.1102) \n",
      "Epoch: [7][0/1316] Elapsed 0m 1s (remain 29m 42s) Loss: 0.1257(0.1257) Grad: 0.2770 LR: 0.000084  \n",
      "Epoch: [7][100/1316] Elapsed 0m 31s (remain 6m 23s) Loss: 0.1062(0.1496) Grad: 0.3257 LR: 0.000081  \n",
      "Epoch: [7][200/1316] Elapsed 1m 2s (remain 5m 44s) Loss: 0.2638(0.1481) Grad: 0.3703 LR: 0.000079  \n",
      "Epoch: [7][300/1316] Elapsed 1m 32s (remain 5m 11s) Loss: 0.1860(0.1495) Grad: 0.3591 LR: 0.000076  \n",
      "Epoch: [7][400/1316] Elapsed 2m 2s (remain 4m 40s) Loss: 0.0019(0.1510) Grad: 0.0318 LR: 0.000074  \n",
      "Epoch: [7][500/1316] Elapsed 2m 33s (remain 4m 9s) Loss: 0.0847(0.1493) Grad: 0.4457 LR: 0.000071  \n",
      "Epoch: [7][600/1316] Elapsed 3m 3s (remain 3m 38s) Loss: 0.0364(0.1469) Grad: 0.3208 LR: 0.000069  \n",
      "Epoch: [7][700/1316] Elapsed 3m 34s (remain 3m 7s) Loss: 0.0088(0.1463) Grad: 0.1183 LR: 0.000066  \n",
      "Epoch: [7][800/1316] Elapsed 4m 4s (remain 2m 37s) Loss: 0.2835(0.1467) Grad: 0.4810 LR: 0.000064  \n",
      "Epoch: [7][900/1316] Elapsed 4m 35s (remain 2m 6s) Loss: 0.1377(0.1479) Grad: 0.3570 LR: 0.000061  \n",
      "Epoch: [7][1000/1316] Elapsed 5m 5s (remain 1m 36s) Loss: 0.1636(0.1478) Grad: 0.4766 LR: 0.000059  \n",
      "Epoch: [7][1100/1316] Elapsed 5m 35s (remain 1m 5s) Loss: 0.1576(0.1470) Grad: 0.6232 LR: 0.000056  \n",
      "Epoch: [7][1200/1316] Elapsed 6m 6s (remain 0m 35s) Loss: 0.0887(0.1463) Grad: 0.3977 LR: 0.000054  \n",
      "Epoch: [7][1300/1316] Elapsed 6m 36s (remain 0m 4s) Loss: 0.0929(0.1462) Grad: 0.4097 LR: 0.000052  \n",
      "Epoch: [7][1315/1316] Elapsed 6m 41s (remain 0m 0s) Loss: 0.0701(0.1457) Grad: 0.7529 LR: 0.000052  \n",
      "EVAL: [0/330] Elapsed 0m 0s (remain 5m 26s) Loss: 0.0295(0.0295) \n",
      "EVAL: [100/330] Elapsed 0m 10s (remain 0m 24s) Loss: 0.1421(0.1093) \n",
      "EVAL: [200/330] Elapsed 0m 20s (remain 0m 13s) Loss: 0.0188(0.1088) \n",
      "EVAL: [300/330] Elapsed 0m 30s (remain 0m 2s) Loss: 0.2550(0.1106) \n"
     ]
    },
    {
     "name": "stderr",
     "output_type": "stream",
     "text": [
      "Epoch 7 - avg_train_loss: 0.1457  avg_val_loss: 0.1124  time: 434s\n",
      "Epoch 7 - Accuracy: 0.873006833712984\n"
     ]
    },
    {
     "name": "stdout",
     "output_type": "stream",
     "text": [
      "EVAL: [329/330] Elapsed 0m 32s (remain 0m 0s) Loss: 0.0020(0.1124) \n",
      "Epoch: [8][0/1316] Elapsed 0m 1s (remain 30m 4s) Loss: 0.0633(0.0633) Grad: 0.1796 LR: 0.000052  \n",
      "Epoch: [8][100/1316] Elapsed 0m 32s (remain 6m 26s) Loss: 0.0987(0.1353) Grad: 0.4605 LR: 0.000049  \n",
      "Epoch: [8][200/1316] Elapsed 1m 2s (remain 5m 45s) Loss: 0.0712(0.1316) Grad: 0.4894 LR: 0.000047  \n",
      "Epoch: [8][300/1316] Elapsed 1m 32s (remain 5m 12s) Loss: 0.0465(0.1330) Grad: 0.3166 LR: 0.000045  \n",
      "Epoch: [8][400/1316] Elapsed 2m 2s (remain 4m 40s) Loss: 0.0270(0.1337) Grad: 0.3919 LR: 0.000043  \n",
      "Epoch: [8][500/1316] Elapsed 2m 32s (remain 4m 8s) Loss: 0.0740(0.1329) Grad: 0.4595 LR: 0.000041  \n",
      "Epoch: [8][600/1316] Elapsed 3m 3s (remain 3m 37s) Loss: 0.2554(0.1329) Grad: 0.3496 LR: 0.000039  \n",
      "Epoch: [8][700/1316] Elapsed 3m 33s (remain 3m 7s) Loss: 0.1734(0.1330) Grad: 0.4016 LR: 0.000037  \n",
      "Epoch: [8][800/1316] Elapsed 4m 3s (remain 2m 36s) Loss: 0.0779(0.1333) Grad: 0.3360 LR: 0.000035  \n",
      "Epoch: [8][900/1316] Elapsed 4m 34s (remain 2m 6s) Loss: 0.0909(0.1338) Grad: 0.5225 LR: 0.000033  \n",
      "Epoch: [8][1000/1316] Elapsed 5m 4s (remain 1m 35s) Loss: 0.0231(0.1321) Grad: 0.2834 LR: 0.000031  \n",
      "Epoch: [8][1100/1316] Elapsed 5m 34s (remain 1m 5s) Loss: 0.2776(0.1332) Grad: 0.2932 LR: 0.000029  \n",
      "Epoch: [8][1200/1316] Elapsed 6m 5s (remain 0m 34s) Loss: 0.0554(0.1346) Grad: 0.4011 LR: 0.000027  \n",
      "Epoch: [8][1300/1316] Elapsed 6m 35s (remain 0m 4s) Loss: 0.2110(0.1353) Grad: 0.3185 LR: 0.000025  \n",
      "Epoch: [8][1315/1316] Elapsed 6m 40s (remain 0m 0s) Loss: 0.0288(0.1352) Grad: 0.5047 LR: 0.000025  \n",
      "EVAL: [0/330] Elapsed 0m 1s (remain 5m 29s) Loss: 0.0181(0.0181) \n",
      "EVAL: [100/330] Elapsed 0m 10s (remain 0m 24s) Loss: 0.1233(0.1013) \n",
      "EVAL: [200/330] Elapsed 0m 20s (remain 0m 13s) Loss: 0.0140(0.1030) \n",
      "EVAL: [300/330] Elapsed 0m 30s (remain 0m 2s) Loss: 0.1351(0.1017) \n"
     ]
    },
    {
     "name": "stderr",
     "output_type": "stream",
     "text": [
      "Epoch 8 - avg_train_loss: 0.1352  avg_val_loss: 0.1022  time: 433s\n",
      "Epoch 8 - Accuracy: 0.8870539104024298\n",
      "Epoch 8 - Save Best Score: 0.8871 Model\n"
     ]
    },
    {
     "name": "stdout",
     "output_type": "stream",
     "text": [
      "EVAL: [329/330] Elapsed 0m 32s (remain 0m 0s) Loss: 0.0025(0.1022) \n",
      "Epoch: [9][0/1316] Elapsed 0m 1s (remain 29m 30s) Loss: 0.1103(0.1103) Grad: 0.4273 LR: 0.000025  \n",
      "Epoch: [9][100/1316] Elapsed 0m 31s (remain 6m 20s) Loss: 0.0134(0.1301) Grad: 0.1332 LR: 0.000024  \n",
      "Epoch: [9][200/1316] Elapsed 1m 1s (remain 5m 43s) Loss: 0.0404(0.1236) Grad: 0.3269 LR: 0.000022  \n",
      "Epoch: [9][300/1316] Elapsed 1m 32s (remain 5m 10s) Loss: 0.1275(0.1302) Grad: 0.3726 LR: 0.000020  \n",
      "Epoch: [9][400/1316] Elapsed 2m 2s (remain 4m 39s) Loss: 0.0849(0.1305) Grad: 0.3023 LR: 0.000019  \n",
      "Epoch: [9][500/1316] Elapsed 2m 32s (remain 4m 8s) Loss: 0.0338(0.1309) Grad: 0.4397 LR: 0.000017  \n",
      "Epoch: [9][600/1316] Elapsed 3m 2s (remain 3m 37s) Loss: 0.1784(0.1312) Grad: 0.5933 LR: 0.000016  \n",
      "Epoch: [9][700/1316] Elapsed 3m 33s (remain 3m 7s) Loss: 0.0140(0.1298) Grad: 0.1369 LR: 0.000015  \n",
      "Epoch: [9][800/1316] Elapsed 4m 3s (remain 2m 36s) Loss: 0.2984(0.1288) Grad: 0.4831 LR: 0.000013  \n",
      "Epoch: [9][900/1316] Elapsed 4m 33s (remain 2m 6s) Loss: 0.1029(0.1291) Grad: 0.3991 LR: 0.000012  \n",
      "Epoch: [9][1000/1316] Elapsed 5m 4s (remain 1m 35s) Loss: 0.0346(0.1286) Grad: 0.2875 LR: 0.000011  \n",
      "Epoch: [9][1100/1316] Elapsed 5m 34s (remain 1m 5s) Loss: 0.3351(0.1310) Grad: 0.4377 LR: 0.000010  \n",
      "Epoch: [9][1200/1316] Elapsed 6m 4s (remain 0m 34s) Loss: 0.1690(0.1306) Grad: 0.7302 LR: 0.000009  \n",
      "Epoch: [9][1300/1316] Elapsed 6m 35s (remain 0m 4s) Loss: 0.0269(0.1305) Grad: 0.3194 LR: 0.000008  \n",
      "Epoch: [9][1315/1316] Elapsed 6m 39s (remain 0m 0s) Loss: 0.0432(0.1305) Grad: 0.6252 LR: 0.000008  \n",
      "EVAL: [0/330] Elapsed 0m 0s (remain 5m 28s) Loss: 0.0184(0.0184) \n",
      "EVAL: [100/330] Elapsed 0m 10s (remain 0m 24s) Loss: 0.1222(0.0995) \n",
      "EVAL: [200/330] Elapsed 0m 20s (remain 0m 13s) Loss: 0.0122(0.1017) \n",
      "EVAL: [300/330] Elapsed 0m 29s (remain 0m 2s) Loss: 0.1757(0.1012) \n"
     ]
    },
    {
     "name": "stderr",
     "output_type": "stream",
     "text": [
      "Epoch 9 - avg_train_loss: 0.1305  avg_val_loss: 0.1022  time: 432s\n",
      "Epoch 9 - Accuracy: 0.8872437357630979\n",
      "Epoch 9 - Save Best Score: 0.8872 Model\n"
     ]
    },
    {
     "name": "stdout",
     "output_type": "stream",
     "text": [
      "EVAL: [329/330] Elapsed 0m 32s (remain 0m 0s) Loss: 0.0026(0.1022) \n",
      "Epoch: [10][0/1316] Elapsed 0m 1s (remain 26m 31s) Loss: 0.0916(0.0916) Grad: 0.2401 LR: 0.000008  \n",
      "Epoch: [10][100/1316] Elapsed 0m 30s (remain 6m 5s) Loss: 0.1500(0.0737) Grad: 0.1224 LR: 0.000007  \n",
      "Epoch: [10][200/1316] Elapsed 0m 59s (remain 5m 30s) Loss: 0.0465(0.0788) Grad: 0.5234 LR: 0.000006  \n",
      "Epoch: [10][300/1316] Elapsed 1m 28s (remain 4m 59s) Loss: 0.0042(0.0792) Grad: 0.0877 LR: 0.000006  \n",
      "Epoch: [10][400/1316] Elapsed 1m 58s (remain 4m 29s) Loss: 0.1091(0.0783) Grad: 0.4135 LR: 0.000005  \n",
      "Epoch: [10][500/1316] Elapsed 2m 27s (remain 4m 0s) Loss: 0.0359(0.0787) Grad: 0.3319 LR: 0.000004  \n",
      "Epoch: [10][600/1316] Elapsed 2m 56s (remain 3m 30s) Loss: 0.1232(0.0784) Grad: 0.2973 LR: 0.000004  \n",
      "Epoch: [10][700/1316] Elapsed 3m 26s (remain 3m 1s) Loss: 0.0685(0.0774) Grad: 0.4600 LR: 0.000003  \n",
      "Epoch: [10][800/1316] Elapsed 3m 55s (remain 2m 31s) Loss: 0.2069(0.0771) Grad: 0.4980 LR: 0.000003  \n",
      "Epoch: [10][900/1316] Elapsed 4m 24s (remain 2m 2s) Loss: 0.0628(0.0765) Grad: 0.1924 LR: 0.000003  \n",
      "Epoch: [10][1000/1316] Elapsed 4m 54s (remain 1m 32s) Loss: 0.0823(0.0760) Grad: 0.4159 LR: 0.000002  \n",
      "Epoch: [10][1100/1316] Elapsed 5m 23s (remain 1m 3s) Loss: 0.1411(0.0755) Grad: 0.5200 LR: 0.000002  \n",
      "Epoch: [10][1200/1316] Elapsed 5m 52s (remain 0m 33s) Loss: 0.0516(0.0750) Grad: 0.3652 LR: 0.000002  \n",
      "Epoch: [10][1300/1316] Elapsed 6m 22s (remain 0m 4s) Loss: 0.0600(0.0747) Grad: 0.6369 LR: 0.000002  \n",
      "Epoch: [10][1315/1316] Elapsed 6m 26s (remain 0m 0s) Loss: 0.1062(0.0745) Grad: 0.5217 LR: 0.000002  \n",
      "EVAL: [0/330] Elapsed 0m 0s (remain 5m 21s) Loss: 0.0082(0.0082) \n",
      "EVAL: [100/330] Elapsed 0m 10s (remain 0m 24s) Loss: 0.1302(0.0983) \n",
      "EVAL: [200/330] Elapsed 0m 20s (remain 0m 13s) Loss: 0.0094(0.0999) \n",
      "EVAL: [300/330] Elapsed 0m 30s (remain 0m 2s) Loss: 0.1392(0.0988) \n"
     ]
    },
    {
     "name": "stderr",
     "output_type": "stream",
     "text": [
      "Epoch 10 - avg_train_loss: 0.0745  avg_val_loss: 0.0994  time: 420s\n",
      "Epoch 10 - Accuracy: 0.8936977980258163\n",
      "Epoch 10 - Save Best Score: 0.8937 Model\n"
     ]
    },
    {
     "name": "stdout",
     "output_type": "stream",
     "text": [
      "EVAL: [329/330] Elapsed 0m 32s (remain 0m 0s) Loss: 0.0017(0.0994) \n"
     ]
    },
    {
     "name": "stderr",
     "output_type": "stream",
     "text": [
      "Epoch 10 - Save final model\n",
      "========== fold: 1 result ==========\n",
      "Score: 0.89370\n",
      "========== fold: 2 training ==========\n"
     ]
    },
    {
     "name": "stdout",
     "output_type": "stream",
     "text": [
      "Epoch: [1][0/1316] Elapsed 0m 1s (remain 30m 46s) Loss: 0.5232(0.5232) Grad: 1.6594 LR: 0.000002  \n",
      "Epoch: [1][100/1316] Elapsed 0m 33s (remain 6m 40s) Loss: 0.3319(0.3848) Grad: 0.7223 LR: 0.000017  \n",
      "Epoch: [1][200/1316] Elapsed 1m 4s (remain 5m 59s) Loss: 0.3243(0.3501) Grad: 0.7250 LR: 0.000032  \n",
      "Epoch: [1][300/1316] Elapsed 1m 36s (remain 5m 25s) Loss: 0.1799(0.3271) Grad: 0.4708 LR: 0.000047  \n",
      "Epoch: [1][400/1316] Elapsed 2m 8s (remain 4m 52s) Loss: 0.2879(0.3079) Grad: 0.3917 LR: 0.000062  \n",
      "Epoch: [1][500/1316] Elapsed 2m 40s (remain 4m 20s) Loss: 0.1773(0.2959) Grad: 0.4318 LR: 0.000077  \n",
      "Epoch: [1][600/1316] Elapsed 3m 12s (remain 3m 48s) Loss: 0.1663(0.2879) Grad: 0.5928 LR: 0.000092  \n",
      "Epoch: [1][700/1316] Elapsed 3m 43s (remain 3m 16s) Loss: 0.1138(0.2824) Grad: 0.6845 LR: 0.000107  \n",
      "Epoch: [1][800/1316] Elapsed 4m 15s (remain 2m 44s) Loss: 0.2396(0.2756) Grad: 0.3704 LR: 0.000122  \n",
      "Epoch: [1][900/1316] Elapsed 4m 47s (remain 2m 12s) Loss: 0.2484(0.2706) Grad: 0.5353 LR: 0.000137  \n",
      "Epoch: [1][1000/1316] Elapsed 5m 19s (remain 1m 40s) Loss: 0.2359(0.2662) Grad: 0.4239 LR: 0.000152  \n",
      "Epoch: [1][1100/1316] Elapsed 5m 50s (remain 1m 8s) Loss: 0.2699(0.2633) Grad: 0.4528 LR: 0.000168  \n",
      "Epoch: [1][1200/1316] Elapsed 6m 22s (remain 0m 36s) Loss: 0.2135(0.2617) Grad: 0.2605 LR: 0.000183  \n",
      "Epoch: [1][1300/1316] Elapsed 6m 54s (remain 0m 4s) Loss: 0.2781(0.2597) Grad: 0.7701 LR: 0.000198  \n",
      "Epoch: [1][1315/1316] Elapsed 6m 59s (remain 0m 0s) Loss: 0.1345(0.2592) Grad: 1.2358 LR: 0.000200  \n",
      "EVAL: [0/330] Elapsed 0m 1s (remain 5m 30s) Loss: 0.2383(0.2383) \n",
      "EVAL: [100/330] Elapsed 0m 10s (remain 0m 24s) Loss: 0.0766(0.1420) \n",
      "EVAL: [200/330] Elapsed 0m 20s (remain 0m 13s) Loss: 0.1744(0.1433) \n",
      "EVAL: [300/330] Elapsed 0m 30s (remain 0m 2s) Loss: 0.2009(0.1448) \n"
     ]
    },
    {
     "name": "stderr",
     "output_type": "stream",
     "text": [
      "Epoch 1 - avg_train_loss: 0.2592  avg_val_loss: 0.1465  time: 453s\n",
      "Epoch 1 - Accuracy: 0.8388076704006076\n",
      "Epoch 1 - Save Best Score: 0.8388 Model\n"
     ]
    },
    {
     "name": "stdout",
     "output_type": "stream",
     "text": [
      "EVAL: [329/330] Elapsed 0m 33s (remain 0m 0s) Loss: 0.1752(0.1465) \n",
      "Epoch: [2][0/1316] Elapsed 0m 1s (remain 32m 2s) Loss: 0.1823(0.1823) Grad: 0.7718 LR: 0.000200  \n",
      "Epoch: [2][100/1316] Elapsed 0m 33s (remain 6m 38s) Loss: 0.1983(0.2125) Grad: 0.3225 LR: 0.000200  \n",
      "Epoch: [2][200/1316] Elapsed 1m 4s (remain 5m 59s) Loss: 0.2753(0.2196) Grad: 0.4608 LR: 0.000200  \n",
      "Epoch: [2][300/1316] Elapsed 1m 36s (remain 5m 25s) Loss: 0.1929(0.2247) Grad: 0.6278 LR: 0.000200  \n",
      "Epoch: [2][400/1316] Elapsed 2m 8s (remain 4m 52s) Loss: 0.1891(0.2232) Grad: 0.5210 LR: 0.000199  \n",
      "Epoch: [2][500/1316] Elapsed 2m 40s (remain 4m 20s) Loss: 0.1604(0.2236) Grad: 0.5139 LR: 0.000199  \n",
      "Epoch: [2][600/1316] Elapsed 3m 11s (remain 3m 48s) Loss: 0.3318(0.2235) Grad: 0.6357 LR: 0.000199  \n",
      "Epoch: [2][700/1316] Elapsed 3m 43s (remain 3m 15s) Loss: 0.1001(0.2230) Grad: 0.3080 LR: 0.000198  \n",
      "Epoch: [2][800/1316] Elapsed 4m 15s (remain 2m 44s) Loss: 0.1281(0.2239) Grad: 0.3824 LR: 0.000198  \n",
      "Epoch: [2][900/1316] Elapsed 4m 46s (remain 2m 12s) Loss: 0.2374(0.2222) Grad: 0.3416 LR: 0.000197  \n",
      "Epoch: [2][1000/1316] Elapsed 5m 18s (remain 1m 40s) Loss: 0.2909(0.2224) Grad: 0.6722 LR: 0.000197  \n",
      "Epoch: [2][1100/1316] Elapsed 5m 50s (remain 1m 8s) Loss: 0.1251(0.2221) Grad: 0.5792 LR: 0.000196  \n",
      "Epoch: [2][1200/1316] Elapsed 6m 21s (remain 0m 36s) Loss: 0.1034(0.2205) Grad: 0.3669 LR: 0.000195  \n",
      "Epoch: [2][1300/1316] Elapsed 6m 53s (remain 0m 4s) Loss: 0.0395(0.2194) Grad: 0.4458 LR: 0.000194  \n",
      "Epoch: [2][1315/1316] Elapsed 6m 58s (remain 0m 0s) Loss: 0.2301(0.2190) Grad: 0.6847 LR: 0.000194  \n",
      "EVAL: [0/330] Elapsed 0m 1s (remain 5m 53s) Loss: 0.1775(0.1775) \n",
      "EVAL: [100/330] Elapsed 0m 10s (remain 0m 24s) Loss: 0.0584(0.1274) \n",
      "EVAL: [200/330] Elapsed 0m 20s (remain 0m 13s) Loss: 0.1677(0.1269) \n",
      "EVAL: [300/330] Elapsed 0m 30s (remain 0m 2s) Loss: 0.1979(0.1301) \n"
     ]
    },
    {
     "name": "stderr",
     "output_type": "stream",
     "text": [
      "Epoch 2 - avg_train_loss: 0.2190  avg_val_loss: 0.1321  time: 452s\n",
      "Epoch 2 - Accuracy: 0.8526675526865388\n",
      "Epoch 2 - Save Best Score: 0.8527 Model\n"
     ]
    },
    {
     "name": "stdout",
     "output_type": "stream",
     "text": [
      "EVAL: [329/330] Elapsed 0m 33s (remain 0m 0s) Loss: 0.2845(0.1321) \n",
      "Epoch: [3][0/1316] Elapsed 0m 1s (remain 31m 23s) Loss: 0.1381(0.1381) Grad: 0.3424 LR: 0.000194  \n",
      "Epoch: [3][100/1316] Elapsed 0m 33s (remain 6m 38s) Loss: 0.2918(0.2223) Grad: 0.3365 LR: 0.000193  \n",
      "Epoch: [3][200/1316] Elapsed 1m 4s (remain 5m 59s) Loss: 0.0403(0.2144) Grad: 0.3084 LR: 0.000192  \n",
      "Epoch: [3][300/1316] Elapsed 1m 36s (remain 5m 25s) Loss: 0.0528(0.2152) Grad: 0.0974 LR: 0.000191  \n",
      "Epoch: [3][400/1316] Elapsed 2m 8s (remain 4m 53s) Loss: 0.1525(0.2116) Grad: 0.2670 LR: 0.000190  \n",
      "Epoch: [3][500/1316] Elapsed 2m 40s (remain 4m 20s) Loss: 0.0731(0.2163) Grad: 0.3873 LR: 0.000189  \n",
      "Epoch: [3][600/1316] Elapsed 3m 11s (remain 3m 48s) Loss: 0.1153(0.2139) Grad: 0.3737 LR: 0.000187  \n",
      "Epoch: [3][700/1316] Elapsed 3m 43s (remain 3m 15s) Loss: 0.1660(0.2140) Grad: 0.6494 LR: 0.000186  \n",
      "Epoch: [3][800/1316] Elapsed 4m 15s (remain 2m 44s) Loss: 0.2835(0.2147) Grad: 0.2823 LR: 0.000185  \n",
      "Epoch: [3][900/1316] Elapsed 4m 46s (remain 2m 12s) Loss: 0.2518(0.2122) Grad: 0.2864 LR: 0.000183  \n",
      "Epoch: [3][1000/1316] Elapsed 5m 18s (remain 1m 40s) Loss: 0.2987(0.2116) Grad: 0.3442 LR: 0.000182  \n",
      "Epoch: [3][1100/1316] Elapsed 5m 50s (remain 1m 8s) Loss: 0.1676(0.2109) Grad: 0.3514 LR: 0.000180  \n",
      "Epoch: [3][1200/1316] Elapsed 6m 21s (remain 0m 36s) Loss: 0.1476(0.2115) Grad: 0.2272 LR: 0.000179  \n",
      "Epoch: [3][1300/1316] Elapsed 6m 53s (remain 0m 4s) Loss: 0.2870(0.2112) Grad: 0.2724 LR: 0.000177  \n",
      "Epoch: [3][1315/1316] Elapsed 6m 58s (remain 0m 0s) Loss: 0.2082(0.2111) Grad: 0.3568 LR: 0.000177  \n",
      "EVAL: [0/330] Elapsed 0m 1s (remain 5m 30s) Loss: 0.1673(0.1673) \n",
      "EVAL: [100/330] Elapsed 0m 10s (remain 0m 24s) Loss: 0.0897(0.1170) \n",
      "EVAL: [200/330] Elapsed 0m 20s (remain 0m 13s) Loss: 0.2105(0.1165) \n",
      "EVAL: [300/330] Elapsed 0m 30s (remain 0m 2s) Loss: 0.1591(0.1193) \n"
     ]
    },
    {
     "name": "stderr",
     "output_type": "stream",
     "text": [
      "Epoch 3 - avg_train_loss: 0.2111  avg_val_loss: 0.1204  time: 452s\n",
      "Epoch 3 - Accuracy: 0.8655781279665844\n",
      "Epoch 3 - Save Best Score: 0.8656 Model\n"
     ]
    },
    {
     "name": "stdout",
     "output_type": "stream",
     "text": [
      "EVAL: [329/330] Elapsed 0m 33s (remain 0m 0s) Loss: 0.3322(0.1204) \n",
      "Epoch: [4][0/1316] Elapsed 0m 1s (remain 31m 9s) Loss: 0.1088(0.1088) Grad: 0.4400 LR: 0.000177  \n",
      "Epoch: [4][100/1316] Elapsed 0m 33s (remain 6m 37s) Loss: 0.2445(0.1996) Grad: 0.3367 LR: 0.000175  \n",
      "Epoch: [4][200/1316] Elapsed 1m 4s (remain 5m 58s) Loss: 0.1824(0.2152) Grad: 0.4842 LR: 0.000173  \n",
      "Epoch: [4][300/1316] Elapsed 1m 36s (remain 5m 25s) Loss: 0.2717(0.2183) Grad: 0.3162 LR: 0.000172  \n",
      "Epoch: [4][400/1316] Elapsed 2m 8s (remain 4m 52s) Loss: 0.3017(0.2143) Grad: 0.5107 LR: 0.000170  \n",
      "Epoch: [4][500/1316] Elapsed 2m 40s (remain 4m 20s) Loss: 0.2611(0.2119) Grad: 0.8292 LR: 0.000168  \n",
      "Epoch: [4][600/1316] Elapsed 3m 11s (remain 3m 48s) Loss: 0.2701(0.2101) Grad: 0.4045 LR: 0.000166  \n",
      "Epoch: [4][700/1316] Elapsed 3m 43s (remain 3m 16s) Loss: 0.2188(0.2071) Grad: 0.2330 LR: 0.000164  \n",
      "Epoch: [4][800/1316] Elapsed 4m 15s (remain 2m 44s) Loss: 0.1305(0.2072) Grad: 0.1776 LR: 0.000162  \n",
      "Epoch: [4][900/1316] Elapsed 4m 47s (remain 2m 12s) Loss: 0.2337(0.2048) Grad: 0.4782 LR: 0.000160  \n",
      "Epoch: [4][1000/1316] Elapsed 5m 18s (remain 1m 40s) Loss: 0.2186(0.2051) Grad: 0.3573 LR: 0.000158  \n",
      "Epoch: [4][1100/1316] Elapsed 5m 50s (remain 1m 8s) Loss: 0.2814(0.2050) Grad: 0.4617 LR: 0.000155  \n",
      "Epoch: [4][1200/1316] Elapsed 6m 22s (remain 0m 36s) Loss: 0.2799(0.2049) Grad: 0.4216 LR: 0.000153  \n",
      "Epoch: [4][1300/1316] Elapsed 6m 54s (remain 0m 4s) Loss: 0.2891(0.2054) Grad: 0.2934 LR: 0.000151  \n",
      "Epoch: [4][1315/1316] Elapsed 6m 58s (remain 0m 0s) Loss: 0.2992(0.2054) Grad: 0.5660 LR: 0.000150  \n",
      "EVAL: [0/330] Elapsed 0m 1s (remain 5m 29s) Loss: 0.2050(0.2050) \n",
      "EVAL: [100/330] Elapsed 0m 10s (remain 0m 24s) Loss: 0.1038(0.1324) \n",
      "EVAL: [200/330] Elapsed 0m 20s (remain 0m 13s) Loss: 0.1906(0.1300) \n",
      "EVAL: [300/330] Elapsed 0m 30s (remain 0m 2s) Loss: 0.1804(0.1320) \n"
     ]
    },
    {
     "name": "stderr",
     "output_type": "stream",
     "text": [
      "Epoch 4 - avg_train_loss: 0.2054  avg_val_loss: 0.1333  time: 452s\n",
      "Epoch 4 - Accuracy: 0.8471615720524017\n"
     ]
    },
    {
     "name": "stdout",
     "output_type": "stream",
     "text": [
      "EVAL: [329/330] Elapsed 0m 33s (remain 0m 0s) Loss: 0.1042(0.1333) \n",
      "Epoch: [5][0/1316] Elapsed 0m 1s (remain 31m 32s) Loss: 0.2040(0.2040) Grad: 0.2450 LR: 0.000150  \n",
      "Epoch: [5][100/1316] Elapsed 0m 33s (remain 6m 39s) Loss: 0.2582(0.1933) Grad: 0.2841 LR: 0.000148  \n",
      "Epoch: [5][200/1316] Elapsed 1m 4s (remain 6m 0s) Loss: 0.2052(0.1968) Grad: 0.2530 LR: 0.000146  \n",
      "Epoch: [5][300/1316] Elapsed 1m 36s (remain 5m 26s) Loss: 0.0769(0.1949) Grad: 0.1562 LR: 0.000144  \n",
      "Epoch: [5][400/1316] Elapsed 2m 8s (remain 4m 53s) Loss: 0.2048(0.1983) Grad: 0.5937 LR: 0.000141  \n",
      "Epoch: [5][500/1316] Elapsed 2m 40s (remain 4m 20s) Loss: 0.1906(0.2001) Grad: 0.5032 LR: 0.000139  \n",
      "Epoch: [5][600/1316] Elapsed 3m 12s (remain 3m 48s) Loss: 0.2033(0.1996) Grad: 0.2965 LR: 0.000136  \n",
      "Epoch: [5][700/1316] Elapsed 3m 43s (remain 3m 16s) Loss: 0.0498(0.1999) Grad: 0.3463 LR: 0.000134  \n",
      "Epoch: [5][800/1316] Elapsed 4m 15s (remain 2m 44s) Loss: 0.2441(0.1986) Grad: 0.1669 LR: 0.000131  \n",
      "Epoch: [5][900/1316] Elapsed 4m 46s (remain 2m 12s) Loss: 0.4546(0.1988) Grad: 0.4773 LR: 0.000129  \n",
      "Epoch: [5][1000/1316] Elapsed 5m 18s (remain 1m 40s) Loss: 0.3048(0.1991) Grad: 0.3518 LR: 0.000126  \n",
      "Epoch: [5][1100/1316] Elapsed 5m 50s (remain 1m 8s) Loss: 0.1923(0.1991) Grad: 0.2356 LR: 0.000124  \n",
      "Epoch: [5][1200/1316] Elapsed 6m 22s (remain 0m 36s) Loss: 0.2938(0.1989) Grad: 0.2582 LR: 0.000121  \n",
      "Epoch: [5][1300/1316] Elapsed 6m 53s (remain 0m 4s) Loss: 0.1958(0.1992) Grad: 0.1985 LR: 0.000119  \n",
      "Epoch: [5][1315/1316] Elapsed 6m 58s (remain 0m 0s) Loss: 0.1853(0.1992) Grad: 0.4488 LR: 0.000118  \n",
      "EVAL: [0/330] Elapsed 0m 1s (remain 5m 42s) Loss: 0.1341(0.1341) \n",
      "EVAL: [100/330] Elapsed 0m 11s (remain 0m 25s) Loss: 0.0867(0.1217) \n",
      "EVAL: [200/330] Elapsed 0m 20s (remain 0m 13s) Loss: 0.2350(0.1207) \n",
      "EVAL: [300/330] Elapsed 0m 30s (remain 0m 2s) Loss: 0.1314(0.1226) \n"
     ]
    },
    {
     "name": "stderr",
     "output_type": "stream",
     "text": [
      "Epoch 5 - avg_train_loss: 0.1992  avg_val_loss: 0.1242  time: 452s\n",
      "Epoch 5 - Accuracy: 0.8640592367571672\n"
     ]
    },
    {
     "name": "stdout",
     "output_type": "stream",
     "text": [
      "EVAL: [329/330] Elapsed 0m 33s (remain 0m 0s) Loss: 0.1362(0.1242) \n",
      "Epoch: [6][0/1316] Elapsed 0m 1s (remain 30m 51s) Loss: 0.4050(0.4050) Grad: 0.5488 LR: 0.000118  \n",
      "Epoch: [6][100/1316] Elapsed 0m 33s (remain 6m 43s) Loss: 0.2104(0.2111) Grad: 0.3859 LR: 0.000116  \n",
      "Epoch: [6][200/1316] Elapsed 1m 5s (remain 6m 1s) Loss: 0.1910(0.2021) Grad: 1.2147 LR: 0.000113  \n",
      "Epoch: [6][300/1316] Elapsed 1m 36s (remain 5m 26s) Loss: 0.2676(0.1941) Grad: 0.3972 LR: 0.000110  \n",
      "Epoch: [6][400/1316] Elapsed 2m 8s (remain 4m 53s) Loss: 0.1896(0.1916) Grad: 0.5622 LR: 0.000108  \n",
      "Epoch: [6][500/1316] Elapsed 2m 40s (remain 4m 21s) Loss: 0.0910(0.1938) Grad: 0.4254 LR: 0.000105  \n",
      "Epoch: [6][600/1316] Elapsed 3m 12s (remain 3m 48s) Loss: 0.1879(0.1922) Grad: 0.4347 LR: 0.000103  \n",
      "Epoch: [6][700/1316] Elapsed 3m 43s (remain 3m 16s) Loss: 0.2497(0.1904) Grad: 0.3247 LR: 0.000100  \n",
      "Epoch: [6][800/1316] Elapsed 4m 15s (remain 2m 44s) Loss: 0.2265(0.1907) Grad: 0.4015 LR: 0.000097  \n",
      "Epoch: [6][900/1316] Elapsed 4m 46s (remain 2m 12s) Loss: 0.1923(0.1900) Grad: 0.4166 LR: 0.000095  \n",
      "Epoch: [6][1000/1316] Elapsed 5m 18s (remain 1m 40s) Loss: 0.0694(0.1900) Grad: 0.2934 LR: 0.000092  \n",
      "Epoch: [6][1100/1316] Elapsed 5m 50s (remain 1m 8s) Loss: 0.0071(0.1880) Grad: 0.1250 LR: 0.000089  \n",
      "Epoch: [6][1200/1316] Elapsed 6m 21s (remain 0m 36s) Loss: 0.0776(0.1891) Grad: 0.3177 LR: 0.000087  \n",
      "Epoch: [6][1300/1316] Elapsed 6m 53s (remain 0m 4s) Loss: 0.0881(0.1887) Grad: 0.1692 LR: 0.000084  \n",
      "Epoch: [6][1315/1316] Elapsed 6m 58s (remain 0m 0s) Loss: 0.0481(0.1888) Grad: 0.3427 LR: 0.000084  \n",
      "EVAL: [0/330] Elapsed 0m 1s (remain 5m 33s) Loss: 0.1591(0.1591) \n",
      "EVAL: [100/330] Elapsed 0m 10s (remain 0m 24s) Loss: 0.0634(0.1116) \n",
      "EVAL: [200/330] Elapsed 0m 20s (remain 0m 13s) Loss: 0.1581(0.1085) \n",
      "EVAL: [300/330] Elapsed 0m 30s (remain 0m 2s) Loss: 0.1267(0.1108) \n"
     ]
    },
    {
     "name": "stderr",
     "output_type": "stream",
     "text": [
      "Epoch 6 - avg_train_loss: 0.1888  avg_val_loss: 0.1115  time: 451s\n",
      "Epoch 6 - Accuracy: 0.8781089804442757\n",
      "Epoch 6 - Save Best Score: 0.8781 Model\n"
     ]
    },
    {
     "name": "stdout",
     "output_type": "stream",
     "text": [
      "EVAL: [329/330] Elapsed 0m 32s (remain 0m 0s) Loss: 0.1099(0.1115) \n",
      "Epoch: [7][0/1316] Elapsed 0m 1s (remain 28m 4s) Loss: 0.0163(0.0163) Grad: 0.1683 LR: 0.000084  \n",
      "Epoch: [7][100/1316] Elapsed 0m 32s (remain 6m 34s) Loss: 0.2614(0.1422) Grad: 0.3877 LR: 0.000081  \n",
      "Epoch: [7][200/1316] Elapsed 1m 4s (remain 5m 55s) Loss: 0.0784(0.1461) Grad: 0.1073 LR: 0.000079  \n",
      "Epoch: [7][300/1316] Elapsed 1m 35s (remain 5m 21s) Loss: 0.2169(0.1454) Grad: 0.3934 LR: 0.000076  \n",
      "Epoch: [7][400/1316] Elapsed 2m 6s (remain 4m 48s) Loss: 0.0664(0.1458) Grad: 0.2461 LR: 0.000074  \n",
      "Epoch: [7][500/1316] Elapsed 2m 38s (remain 4m 17s) Loss: 0.2746(0.1467) Grad: 0.2408 LR: 0.000071  \n",
      "Epoch: [7][600/1316] Elapsed 3m 9s (remain 3m 45s) Loss: 0.3237(0.1484) Grad: 0.5566 LR: 0.000069  \n",
      "Epoch: [7][700/1316] Elapsed 3m 40s (remain 3m 13s) Loss: 0.1520(0.1499) Grad: 0.2760 LR: 0.000066  \n",
      "Epoch: [7][800/1316] Elapsed 4m 11s (remain 2m 41s) Loss: 0.2539(0.1491) Grad: 0.3191 LR: 0.000064  \n",
      "Epoch: [7][900/1316] Elapsed 4m 43s (remain 2m 10s) Loss: 0.2964(0.1485) Grad: 0.2910 LR: 0.000061  \n",
      "Epoch: [7][1000/1316] Elapsed 5m 14s (remain 1m 39s) Loss: 0.2461(0.1484) Grad: 0.3662 LR: 0.000059  \n",
      "Epoch: [7][1100/1316] Elapsed 5m 46s (remain 1m 7s) Loss: 0.2056(0.1479) Grad: 0.2833 LR: 0.000056  \n",
      "Epoch: [7][1200/1316] Elapsed 6m 17s (remain 0m 36s) Loss: 0.2226(0.1473) Grad: 0.2798 LR: 0.000054  \n",
      "Epoch: [7][1300/1316] Elapsed 6m 48s (remain 0m 4s) Loss: 0.1265(0.1473) Grad: 0.2413 LR: 0.000052  \n",
      "Epoch: [7][1315/1316] Elapsed 6m 53s (remain 0m 0s) Loss: 0.0994(0.1474) Grad: 0.4919 LR: 0.000052  \n",
      "EVAL: [0/330] Elapsed 0m 0s (remain 5m 18s) Loss: 0.1119(0.1119) \n",
      "EVAL: [100/330] Elapsed 0m 10s (remain 0m 24s) Loss: 0.0725(0.1065) \n",
      "EVAL: [200/330] Elapsed 0m 20s (remain 0m 13s) Loss: 0.1773(0.1066) \n",
      "EVAL: [300/330] Elapsed 0m 30s (remain 0m 2s) Loss: 0.1135(0.1097) \n"
     ]
    },
    {
     "name": "stderr",
     "output_type": "stream",
     "text": [
      "Epoch 7 - avg_train_loss: 0.1474  avg_val_loss: 0.1108  time: 447s\n",
      "Epoch 7 - Accuracy: 0.8767799506360356\n"
     ]
    },
    {
     "name": "stdout",
     "output_type": "stream",
     "text": [
      "EVAL: [329/330] Elapsed 0m 33s (remain 0m 0s) Loss: 0.0194(0.1108) \n",
      "Epoch: [8][0/1316] Elapsed 0m 1s (remain 28m 41s) Loss: 0.0201(0.0201) Grad: 0.1079 LR: 0.000052  \n",
      "Epoch: [8][100/1316] Elapsed 0m 32s (remain 6m 34s) Loss: 0.2147(0.1361) Grad: 0.3409 LR: 0.000049  \n",
      "Epoch: [8][200/1316] Elapsed 1m 4s (remain 5m 56s) Loss: 0.0237(0.1384) Grad: 0.1761 LR: 0.000047  \n",
      "Epoch: [8][300/1316] Elapsed 1m 35s (remain 5m 23s) Loss: 0.1550(0.1391) Grad: 0.3260 LR: 0.000045  \n",
      "Epoch: [8][400/1316] Elapsed 2m 7s (remain 4m 50s) Loss: 0.1983(0.1385) Grad: 0.3296 LR: 0.000043  \n",
      "Epoch: [8][500/1316] Elapsed 2m 38s (remain 4m 18s) Loss: 0.0089(0.1374) Grad: 0.1172 LR: 0.000041  \n",
      "Epoch: [8][600/1316] Elapsed 3m 10s (remain 3m 46s) Loss: 0.1595(0.1396) Grad: 0.6215 LR: 0.000039  \n",
      "Epoch: [8][700/1316] Elapsed 3m 41s (remain 3m 14s) Loss: 0.0801(0.1385) Grad: 0.2521 LR: 0.000037  \n",
      "Epoch: [8][800/1316] Elapsed 4m 12s (remain 2m 42s) Loss: 0.3939(0.1399) Grad: 0.3543 LR: 0.000035  \n",
      "Epoch: [8][900/1316] Elapsed 4m 44s (remain 2m 10s) Loss: 0.1775(0.1388) Grad: 0.3905 LR: 0.000033  \n",
      "Epoch: [8][1000/1316] Elapsed 5m 15s (remain 1m 39s) Loss: 0.0215(0.1383) Grad: 0.3356 LR: 0.000031  \n",
      "Epoch: [8][1100/1316] Elapsed 5m 46s (remain 1m 7s) Loss: 0.2270(0.1379) Grad: 0.3860 LR: 0.000029  \n",
      "Epoch: [8][1200/1316] Elapsed 6m 18s (remain 0m 36s) Loss: 0.2792(0.1378) Grad: 0.1920 LR: 0.000027  \n",
      "Epoch: [8][1300/1316] Elapsed 6m 49s (remain 0m 4s) Loss: 0.0910(0.1376) Grad: 0.2367 LR: 0.000025  \n",
      "Epoch: [8][1315/1316] Elapsed 6m 54s (remain 0m 0s) Loss: 0.2232(0.1381) Grad: 0.6716 LR: 0.000025  \n",
      "EVAL: [0/330] Elapsed 0m 1s (remain 5m 29s) Loss: 0.1726(0.1726) \n",
      "EVAL: [100/330] Elapsed 0m 10s (remain 0m 24s) Loss: 0.0393(0.1002) \n",
      "EVAL: [200/330] Elapsed 0m 20s (remain 0m 13s) Loss: 0.1430(0.0989) \n",
      "EVAL: [300/330] Elapsed 0m 30s (remain 0m 2s) Loss: 0.1625(0.1021) \n"
     ]
    },
    {
     "name": "stderr",
     "output_type": "stream",
     "text": [
      "Epoch 8 - avg_train_loss: 0.1381  avg_val_loss: 0.1035  time: 448s\n",
      "Epoch 8 - Accuracy: 0.8845642680842984\n",
      "Epoch 8 - Save Best Score: 0.8846 Model\n"
     ]
    },
    {
     "name": "stdout",
     "output_type": "stream",
     "text": [
      "EVAL: [329/330] Elapsed 0m 33s (remain 0m 0s) Loss: 0.0985(0.1035) \n",
      "Epoch: [9][0/1316] Elapsed 0m 1s (remain 29m 49s) Loss: 0.0620(0.0620) Grad: 0.3044 LR: 0.000025  \n",
      "Epoch: [9][100/1316] Elapsed 0m 32s (remain 6m 35s) Loss: 0.1621(0.1245) Grad: 0.5775 LR: 0.000024  \n",
      "Epoch: [9][200/1316] Elapsed 1m 4s (remain 5m 57s) Loss: 0.1260(0.1270) Grad: 0.3525 LR: 0.000022  \n",
      "Epoch: [9][300/1316] Elapsed 1m 35s (remain 5m 23s) Loss: 0.1302(0.1279) Grad: 0.3615 LR: 0.000020  \n",
      "Epoch: [9][400/1316] Elapsed 2m 7s (remain 4m 50s) Loss: 0.1524(0.1294) Grad: 0.1918 LR: 0.000019  \n",
      "Epoch: [9][500/1316] Elapsed 2m 38s (remain 4m 18s) Loss: 0.1553(0.1318) Grad: 0.3160 LR: 0.000017  \n",
      "Epoch: [9][600/1316] Elapsed 3m 10s (remain 3m 46s) Loss: 0.0098(0.1338) Grad: 0.0993 LR: 0.000016  \n",
      "Epoch: [9][700/1316] Elapsed 3m 41s (remain 3m 14s) Loss: 0.0876(0.1324) Grad: 0.2158 LR: 0.000015  \n",
      "Epoch: [9][800/1316] Elapsed 4m 12s (remain 2m 42s) Loss: 0.2544(0.1299) Grad: 0.2734 LR: 0.000013  \n",
      "Epoch: [9][900/1316] Elapsed 4m 43s (remain 2m 10s) Loss: 0.1016(0.1311) Grad: 0.4706 LR: 0.000012  \n",
      "Epoch: [9][1000/1316] Elapsed 5m 15s (remain 1m 39s) Loss: 0.0422(0.1312) Grad: 0.2643 LR: 0.000011  \n",
      "Epoch: [9][1100/1316] Elapsed 5m 46s (remain 1m 7s) Loss: 0.0877(0.1319) Grad: 0.2837 LR: 0.000010  \n",
      "Epoch: [9][1200/1316] Elapsed 6m 17s (remain 0m 36s) Loss: 0.1258(0.1313) Grad: 0.1781 LR: 0.000009  \n",
      "Epoch: [9][1300/1316] Elapsed 6m 49s (remain 0m 4s) Loss: 0.0748(0.1322) Grad: 0.1996 LR: 0.000008  \n",
      "Epoch: [9][1315/1316] Elapsed 6m 53s (remain 0m 0s) Loss: 0.0060(0.1322) Grad: 0.2173 LR: 0.000008  \n",
      "EVAL: [0/330] Elapsed 0m 1s (remain 5m 48s) Loss: 0.1595(0.1595) \n",
      "EVAL: [100/330] Elapsed 0m 10s (remain 0m 24s) Loss: 0.0451(0.0984) \n",
      "EVAL: [200/330] Elapsed 0m 20s (remain 0m 13s) Loss: 0.1578(0.0983) \n",
      "EVAL: [300/330] Elapsed 0m 30s (remain 0m 2s) Loss: 0.1349(0.1010) \n"
     ]
    },
    {
     "name": "stderr",
     "output_type": "stream",
     "text": [
      "Epoch 9 - avg_train_loss: 0.1322  avg_val_loss: 0.1024  time: 447s\n",
      "Epoch 9 - Accuracy: 0.8857034364913613\n",
      "Epoch 9 - Save Best Score: 0.8857 Model\n"
     ]
    },
    {
     "name": "stdout",
     "output_type": "stream",
     "text": [
      "EVAL: [329/330] Elapsed 0m 32s (remain 0m 0s) Loss: 0.0463(0.1024) \n",
      "Epoch: [10][0/1316] Elapsed 0m 1s (remain 27m 57s) Loss: 0.0345(0.0345) Grad: 0.5594 LR: 0.000008  \n",
      "Epoch: [10][100/1316] Elapsed 0m 31s (remain 6m 19s) Loss: 0.0686(0.0705) Grad: 0.1880 LR: 0.000007  \n",
      "Epoch: [10][200/1316] Elapsed 1m 2s (remain 5m 44s) Loss: 0.0418(0.0767) Grad: 0.3347 LR: 0.000006  \n",
      "Epoch: [10][300/1316] Elapsed 1m 32s (remain 5m 11s) Loss: 0.1426(0.0771) Grad: 0.3503 LR: 0.000006  \n",
      "Epoch: [10][400/1316] Elapsed 2m 2s (remain 4m 39s) Loss: 0.0550(0.0767) Grad: 0.5770 LR: 0.000005  \n",
      "Epoch: [10][500/1316] Elapsed 2m 32s (remain 4m 8s) Loss: 0.1004(0.0746) Grad: 0.4739 LR: 0.000004  \n",
      "Epoch: [10][600/1316] Elapsed 3m 3s (remain 3m 37s) Loss: 0.1035(0.0759) Grad: 0.4415 LR: 0.000004  \n",
      "Epoch: [10][700/1316] Elapsed 3m 33s (remain 3m 7s) Loss: 0.0385(0.0759) Grad: 0.4608 LR: 0.000003  \n",
      "Epoch: [10][800/1316] Elapsed 4m 3s (remain 2m 36s) Loss: 0.0808(0.0774) Grad: 0.1333 LR: 0.000003  \n",
      "Epoch: [10][900/1316] Elapsed 4m 33s (remain 2m 6s) Loss: 0.0861(0.0776) Grad: 0.4213 LR: 0.000003  \n",
      "Epoch: [10][1000/1316] Elapsed 5m 4s (remain 1m 35s) Loss: 0.1678(0.0771) Grad: 0.4471 LR: 0.000002  \n",
      "Epoch: [10][1100/1316] Elapsed 5m 34s (remain 1m 5s) Loss: 0.1527(0.0768) Grad: 0.2638 LR: 0.000002  \n",
      "Epoch: [10][1200/1316] Elapsed 6m 4s (remain 0m 34s) Loss: 0.0011(0.0762) Grad: 0.0231 LR: 0.000002  \n",
      "Epoch: [10][1300/1316] Elapsed 6m 35s (remain 0m 4s) Loss: 0.0100(0.0760) Grad: 0.1804 LR: 0.000002  \n",
      "Epoch: [10][1315/1316] Elapsed 6m 39s (remain 0m 0s) Loss: 0.0932(0.0759) Grad: 0.6126 LR: 0.000002  \n",
      "EVAL: [0/330] Elapsed 0m 0s (remain 5m 12s) Loss: 0.1654(0.1654) \n",
      "EVAL: [100/330] Elapsed 0m 10s (remain 0m 24s) Loss: 0.0290(0.0970) \n",
      "EVAL: [200/330] Elapsed 0m 20s (remain 0m 13s) Loss: 0.1483(0.0966) \n",
      "EVAL: [300/330] Elapsed 0m 30s (remain 0m 2s) Loss: 0.1450(0.0991) \n"
     ]
    },
    {
     "name": "stderr",
     "output_type": "stream",
     "text": [
      "Epoch 10 - avg_train_loss: 0.0759  avg_val_loss: 0.1005  time: 433s\n",
      "Epoch 10 - Accuracy: 0.8862730206948928\n",
      "Epoch 10 - Save Best Score: 0.8863 Model\n"
     ]
    },
    {
     "name": "stdout",
     "output_type": "stream",
     "text": [
      "EVAL: [329/330] Elapsed 0m 32s (remain 0m 0s) Loss: 0.0804(0.1005) \n"
     ]
    },
    {
     "name": "stderr",
     "output_type": "stream",
     "text": [
      "Epoch 10 - Save final model\n",
      "========== fold: 2 result ==========\n",
      "Score: 0.88627\n",
      "========== fold: 3 training ==========\n"
     ]
    },
    {
     "name": "stdout",
     "output_type": "stream",
     "text": [
      "Epoch: [1][0/1316] Elapsed 0m 1s (remain 27m 34s) Loss: 0.5282(0.5282) Grad: 1.4986 LR: 0.000002  \n",
      "Epoch: [1][100/1316] Elapsed 0m 34s (remain 6m 52s) Loss: 0.2117(0.3844) Grad: 0.7557 LR: 0.000017  \n",
      "Epoch: [1][200/1316] Elapsed 1m 6s (remain 6m 10s) Loss: 0.2279(0.3459) Grad: 0.9537 LR: 0.000032  \n",
      "Epoch: [1][300/1316] Elapsed 1m 39s (remain 5m 35s) Loss: 0.1652(0.3140) Grad: 1.1313 LR: 0.000047  \n",
      "Epoch: [1][400/1316] Elapsed 2m 12s (remain 5m 2s) Loss: 0.1181(0.2943) Grad: 0.8330 LR: 0.000062  \n",
      "Epoch: [1][500/1316] Elapsed 2m 44s (remain 4m 28s) Loss: 0.2802(0.2843) Grad: 0.7682 LR: 0.000077  \n",
      "Epoch: [1][600/1316] Elapsed 3m 17s (remain 3m 54s) Loss: 0.3066(0.2767) Grad: 1.3331 LR: 0.000092  \n",
      "Epoch: [1][700/1316] Elapsed 3m 49s (remain 3m 21s) Loss: 0.1477(0.2707) Grad: 0.9486 LR: 0.000107  \n",
      "Epoch: [1][800/1316] Elapsed 4m 22s (remain 2m 48s) Loss: 0.1623(0.2635) Grad: 0.8006 LR: 0.000122  \n",
      "Epoch: [1][900/1316] Elapsed 4m 54s (remain 2m 15s) Loss: 0.1282(0.2583) Grad: 0.7230 LR: 0.000137  \n",
      "Epoch: [1][1000/1316] Elapsed 5m 27s (remain 1m 43s) Loss: 0.2339(0.2554) Grad: 1.1944 LR: 0.000152  \n",
      "Epoch: [1][1100/1316] Elapsed 6m 0s (remain 1m 10s) Loss: 0.2123(0.2524) Grad: 0.7221 LR: 0.000168  \n",
      "Epoch: [1][1200/1316] Elapsed 6m 33s (remain 0m 37s) Loss: 0.2253(0.2509) Grad: 0.3783 LR: 0.000183  \n",
      "Epoch: [1][1300/1316] Elapsed 7m 5s (remain 0m 4s) Loss: 0.0956(0.2494) Grad: 0.6653 LR: 0.000198  \n",
      "Epoch: [1][1315/1316] Elapsed 7m 10s (remain 0m 0s) Loss: 0.2516(0.2496) Grad: 1.3299 LR: 0.000200  \n",
      "EVAL: [0/330] Elapsed 0m 1s (remain 5m 36s) Loss: 0.1173(0.1173) \n",
      "EVAL: [100/330] Elapsed 0m 10s (remain 0m 24s) Loss: 0.1049(0.1420) \n",
      "EVAL: [200/330] Elapsed 0m 20s (remain 0m 13s) Loss: 0.1360(0.1444) \n",
      "EVAL: [300/330] Elapsed 0m 30s (remain 0m 2s) Loss: 0.1766(0.1452) \n"
     ]
    },
    {
     "name": "stderr",
     "output_type": "stream",
     "text": [
      "Epoch 1 - avg_train_loss: 0.2496  avg_val_loss: 0.1452  time: 464s\n"
     ]
    },
    {
     "name": "stdout",
     "output_type": "stream",
     "text": [
      "EVAL: [329/330] Elapsed 0m 33s (remain 0m 0s) Loss: 0.1383(0.1452) \n"
     ]
    },
    {
     "name": "stderr",
     "output_type": "stream",
     "text": [
      "Epoch 1 - Accuracy: 0.836719194987659\n",
      "Epoch 1 - Save Best Score: 0.8367 Model\n"
     ]
    },
    {
     "name": "stdout",
     "output_type": "stream",
     "text": [
      "Epoch: [2][0/1316] Elapsed 0m 1s (remain 31m 54s) Loss: 0.3609(0.3609) Grad: 0.5018 LR: 0.000200  \n",
      "Epoch: [2][100/1316] Elapsed 0m 34s (remain 6m 52s) Loss: 0.3243(0.2398) Grad: 0.4423 LR: 0.000200  \n",
      "Epoch: [2][200/1316] Elapsed 1m 7s (remain 6m 12s) Loss: 0.1867(0.2319) Grad: 0.6750 LR: 0.000200  \n",
      "Epoch: [2][300/1316] Elapsed 1m 39s (remain 5m 35s) Loss: 0.2373(0.2297) Grad: 0.3964 LR: 0.000200  \n",
      "Epoch: [2][400/1316] Elapsed 2m 11s (remain 5m 1s) Loss: 0.1740(0.2314) Grad: 0.3074 LR: 0.000199  \n",
      "Epoch: [2][500/1316] Elapsed 2m 44s (remain 4m 27s) Loss: 0.1721(0.2288) Grad: 0.8427 LR: 0.000199  \n",
      "Epoch: [2][600/1316] Elapsed 3m 17s (remain 3m 54s) Loss: 0.3494(0.2279) Grad: 0.4581 LR: 0.000199  \n",
      "Epoch: [2][700/1316] Elapsed 3m 49s (remain 3m 21s) Loss: 0.2044(0.2281) Grad: 0.3672 LR: 0.000198  \n",
      "Epoch: [2][800/1316] Elapsed 4m 22s (remain 2m 48s) Loss: 0.2912(0.2282) Grad: 0.3267 LR: 0.000198  \n",
      "Epoch: [2][900/1316] Elapsed 4m 54s (remain 2m 15s) Loss: 0.2734(0.2292) Grad: 0.6687 LR: 0.000197  \n",
      "Epoch: [2][1000/1316] Elapsed 5m 27s (remain 1m 42s) Loss: 0.2147(0.2299) Grad: 0.4039 LR: 0.000197  \n",
      "Epoch: [2][1100/1316] Elapsed 5m 59s (remain 1m 10s) Loss: 0.2607(0.2279) Grad: 0.1987 LR: 0.000196  \n",
      "Epoch: [2][1200/1316] Elapsed 6m 32s (remain 0m 37s) Loss: 0.1510(0.2277) Grad: 0.5158 LR: 0.000195  \n",
      "Epoch: [2][1300/1316] Elapsed 7m 4s (remain 0m 4s) Loss: 0.1595(0.2255) Grad: 0.4950 LR: 0.000194  \n",
      "Epoch: [2][1315/1316] Elapsed 7m 9s (remain 0m 0s) Loss: 0.3587(0.2255) Grad: 0.4282 LR: 0.000194  \n",
      "EVAL: [0/330] Elapsed 0m 1s (remain 5m 58s) Loss: 0.1556(0.1556) \n",
      "EVAL: [100/330] Elapsed 0m 10s (remain 0m 24s) Loss: 0.1416(0.1296) \n",
      "EVAL: [200/330] Elapsed 0m 20s (remain 0m 13s) Loss: 0.1206(0.1294) \n",
      "EVAL: [300/330] Elapsed 0m 30s (remain 0m 2s) Loss: 0.2003(0.1290) \n"
     ]
    },
    {
     "name": "stderr",
     "output_type": "stream",
     "text": [
      "Epoch 2 - avg_train_loss: 0.2255  avg_val_loss: 0.1280  time: 463s\n",
      "Epoch 2 - Accuracy: 0.8619707613442187\n",
      "Epoch 2 - Save Best Score: 0.8620 Model\n"
     ]
    },
    {
     "name": "stdout",
     "output_type": "stream",
     "text": [
      "EVAL: [329/330] Elapsed 0m 33s (remain 0m 0s) Loss: 0.3062(0.1280) \n",
      "Epoch: [3][0/1316] Elapsed 0m 1s (remain 30m 18s) Loss: 0.1964(0.1964) Grad: 0.4267 LR: 0.000194  \n",
      "Epoch: [3][100/1316] Elapsed 0m 34s (remain 6m 50s) Loss: 0.2992(0.2348) Grad: 0.3441 LR: 0.000193  \n",
      "Epoch: [3][200/1316] Elapsed 1m 6s (remain 6m 10s) Loss: 0.2593(0.2240) Grad: 0.4129 LR: 0.000192  \n",
      "Epoch: [3][300/1316] Elapsed 1m 39s (remain 5m 35s) Loss: 0.2902(0.2206) Grad: 0.4051 LR: 0.000191  \n",
      "Epoch: [3][400/1316] Elapsed 2m 11s (remain 5m 1s) Loss: 0.1990(0.2193) Grad: 0.3367 LR: 0.000190  \n",
      "Epoch: [3][500/1316] Elapsed 2m 44s (remain 4m 27s) Loss: 0.2902(0.2192) Grad: 0.2909 LR: 0.000189  \n",
      "Epoch: [3][600/1316] Elapsed 3m 16s (remain 3m 54s) Loss: 0.2469(0.2186) Grad: 0.5540 LR: 0.000187  \n",
      "Epoch: [3][700/1316] Elapsed 3m 49s (remain 3m 21s) Loss: 0.2251(0.2176) Grad: 0.3020 LR: 0.000186  \n",
      "Epoch: [3][800/1316] Elapsed 4m 22s (remain 2m 48s) Loss: 0.2346(0.2181) Grad: 0.6956 LR: 0.000185  \n",
      "Epoch: [3][900/1316] Elapsed 4m 54s (remain 2m 15s) Loss: 0.2103(0.2177) Grad: 0.2522 LR: 0.000183  \n",
      "Epoch: [3][1000/1316] Elapsed 5m 27s (remain 1m 42s) Loss: 0.1943(0.2162) Grad: 0.6451 LR: 0.000182  \n",
      "Epoch: [3][1100/1316] Elapsed 5m 59s (remain 1m 10s) Loss: 0.3851(0.2159) Grad: 0.5416 LR: 0.000180  \n",
      "Epoch: [3][1200/1316] Elapsed 6m 32s (remain 0m 37s) Loss: 0.3399(0.2151) Grad: 0.5840 LR: 0.000179  \n",
      "Epoch: [3][1300/1316] Elapsed 7m 4s (remain 0m 4s) Loss: 0.1550(0.2137) Grad: 0.4566 LR: 0.000177  \n",
      "Epoch: [3][1315/1316] Elapsed 7m 9s (remain 0m 0s) Loss: 0.2353(0.2136) Grad: 0.5099 LR: 0.000177  \n",
      "EVAL: [0/330] Elapsed 0m 1s (remain 5m 47s) Loss: 0.1779(0.1779) \n",
      "EVAL: [100/330] Elapsed 0m 11s (remain 0m 25s) Loss: 0.1270(0.1293) \n",
      "EVAL: [200/330] Elapsed 0m 21s (remain 0m 13s) Loss: 0.1672(0.1288) \n",
      "EVAL: [300/330] Elapsed 0m 30s (remain 0m 2s) Loss: 0.1686(0.1289) \n"
     ]
    },
    {
     "name": "stderr",
     "output_type": "stream",
     "text": [
      "Epoch 3 - avg_train_loss: 0.2136  avg_val_loss: 0.1280  time: 464s\n",
      "Epoch 3 - Accuracy: 0.8574140877159674\n"
     ]
    },
    {
     "name": "stdout",
     "output_type": "stream",
     "text": [
      "EVAL: [329/330] Elapsed 0m 33s (remain 0m 0s) Loss: 0.0491(0.1280) \n",
      "Epoch: [4][0/1316] Elapsed 0m 1s (remain 29m 39s) Loss: 0.2317(0.2317) Grad: 0.3778 LR: 0.000177  \n",
      "Epoch: [4][100/1316] Elapsed 0m 34s (remain 6m 50s) Loss: 0.2533(0.2159) Grad: 0.3054 LR: 0.000175  \n",
      "Epoch: [4][200/1316] Elapsed 1m 6s (remain 6m 11s) Loss: 0.1761(0.2071) Grad: 0.3581 LR: 0.000173  \n",
      "Epoch: [4][300/1316] Elapsed 1m 39s (remain 5m 36s) Loss: 0.0763(0.2094) Grad: 0.2629 LR: 0.000172  \n",
      "Epoch: [4][400/1316] Elapsed 2m 12s (remain 5m 2s) Loss: 0.1247(0.2078) Grad: 0.3078 LR: 0.000170  \n",
      "Epoch: [4][500/1316] Elapsed 2m 45s (remain 4m 29s) Loss: 0.3205(0.2048) Grad: 0.4264 LR: 0.000168  \n",
      "Epoch: [4][600/1316] Elapsed 3m 17s (remain 3m 55s) Loss: 0.2187(0.2058) Grad: 0.3144 LR: 0.000166  \n",
      "Epoch: [4][700/1316] Elapsed 3m 50s (remain 3m 22s) Loss: 0.1677(0.2071) Grad: 0.5320 LR: 0.000164  \n",
      "Epoch: [4][800/1316] Elapsed 4m 23s (remain 2m 49s) Loss: 0.1943(0.2052) Grad: 0.2715 LR: 0.000162  \n",
      "Epoch: [4][900/1316] Elapsed 4m 55s (remain 2m 16s) Loss: 0.1282(0.2065) Grad: 0.6630 LR: 0.000160  \n",
      "Epoch: [4][1000/1316] Elapsed 5m 28s (remain 1m 43s) Loss: 0.3109(0.2069) Grad: 0.3412 LR: 0.000158  \n",
      "Epoch: [4][1100/1316] Elapsed 6m 1s (remain 1m 10s) Loss: 0.1329(0.2065) Grad: 0.3578 LR: 0.000155  \n",
      "Epoch: [4][1200/1316] Elapsed 6m 33s (remain 0m 37s) Loss: 0.2416(0.2080) Grad: 0.4182 LR: 0.000153  \n",
      "Epoch: [4][1300/1316] Elapsed 7m 6s (remain 0m 4s) Loss: 0.2709(0.2072) Grad: 0.2096 LR: 0.000151  \n",
      "Epoch: [4][1315/1316] Elapsed 7m 11s (remain 0m 0s) Loss: 0.2153(0.2074) Grad: 0.6396 LR: 0.000150  \n",
      "EVAL: [0/330] Elapsed 0m 1s (remain 5m 40s) Loss: 0.1084(0.1084) \n",
      "EVAL: [100/330] Elapsed 0m 10s (remain 0m 24s) Loss: 0.1317(0.1259) \n",
      "EVAL: [200/330] Elapsed 0m 20s (remain 0m 13s) Loss: 0.1077(0.1253) \n",
      "EVAL: [300/330] Elapsed 0m 30s (remain 0m 2s) Loss: 0.1801(0.1254) \n"
     ]
    },
    {
     "name": "stderr",
     "output_type": "stream",
     "text": [
      "Epoch 4 - avg_train_loss: 0.2074  avg_val_loss: 0.1252  time: 465s\n",
      "Epoch 4 - Accuracy: 0.8629200683501044\n",
      "Epoch 4 - Save Best Score: 0.8629 Model\n"
     ]
    },
    {
     "name": "stdout",
     "output_type": "stream",
     "text": [
      "EVAL: [329/330] Elapsed 0m 33s (remain 0m 0s) Loss: 0.0398(0.1252) \n",
      "Epoch: [5][0/1316] Elapsed 0m 1s (remain 31m 9s) Loss: 0.2205(0.2205) Grad: 0.3209 LR: 0.000150  \n",
      "Epoch: [5][100/1316] Elapsed 0m 33s (remain 6m 47s) Loss: 0.2343(0.2145) Grad: 0.4865 LR: 0.000148  \n",
      "Epoch: [5][200/1316] Elapsed 1m 6s (remain 6m 8s) Loss: 0.1866(0.2070) Grad: 0.5347 LR: 0.000146  \n",
      "Epoch: [5][300/1316] Elapsed 1m 39s (remain 5m 35s) Loss: 0.2620(0.2039) Grad: 0.2133 LR: 0.000144  \n",
      "Epoch: [5][400/1316] Elapsed 2m 11s (remain 5m 0s) Loss: 0.2043(0.2028) Grad: 0.2418 LR: 0.000141  \n",
      "Epoch: [5][500/1316] Elapsed 2m 44s (remain 4m 27s) Loss: 0.1322(0.2028) Grad: 0.4230 LR: 0.000139  \n",
      "Epoch: [5][600/1316] Elapsed 3m 17s (remain 3m 54s) Loss: 0.1311(0.2029) Grad: 0.2867 LR: 0.000136  \n",
      "Epoch: [5][700/1316] Elapsed 3m 49s (remain 3m 21s) Loss: 0.0710(0.2012) Grad: 0.3378 LR: 0.000134  \n",
      "Epoch: [5][800/1316] Elapsed 4m 22s (remain 2m 48s) Loss: 0.1225(0.2011) Grad: 0.3263 LR: 0.000131  \n",
      "Epoch: [5][900/1316] Elapsed 4m 54s (remain 2m 15s) Loss: 0.0722(0.1998) Grad: 0.2985 LR: 0.000129  \n",
      "Epoch: [5][1000/1316] Elapsed 5m 27s (remain 1m 43s) Loss: 0.0278(0.1992) Grad: 0.1470 LR: 0.000126  \n",
      "Epoch: [5][1100/1316] Elapsed 6m 0s (remain 1m 10s) Loss: 0.2760(0.2011) Grad: 0.4784 LR: 0.000124  \n",
      "Epoch: [5][1200/1316] Elapsed 6m 32s (remain 0m 37s) Loss: 0.1786(0.2015) Grad: 0.3159 LR: 0.000121  \n",
      "Epoch: [5][1300/1316] Elapsed 7m 5s (remain 0m 4s) Loss: 0.0498(0.2009) Grad: 0.5023 LR: 0.000119  \n",
      "Epoch: [5][1315/1316] Elapsed 7m 10s (remain 0m 0s) Loss: 0.2454(0.2007) Grad: 0.5604 LR: 0.000118  \n",
      "EVAL: [0/330] Elapsed 0m 0s (remain 5m 28s) Loss: 0.1690(0.1690) \n",
      "EVAL: [100/330] Elapsed 0m 10s (remain 0m 24s) Loss: 0.0837(0.1288) \n",
      "EVAL: [200/330] Elapsed 0m 20s (remain 0m 13s) Loss: 0.0969(0.1276) \n",
      "EVAL: [300/330] Elapsed 0m 30s (remain 0m 2s) Loss: 0.1577(0.1272) \n"
     ]
    },
    {
     "name": "stderr",
     "output_type": "stream",
     "text": [
      "Epoch 5 - avg_train_loss: 0.2007  avg_val_loss: 0.1269  time: 463s\n",
      "Epoch 5 - Accuracy: 0.8568445035124359\n"
     ]
    },
    {
     "name": "stdout",
     "output_type": "stream",
     "text": [
      "EVAL: [329/330] Elapsed 0m 32s (remain 0m 0s) Loss: 0.0377(0.1269) \n",
      "Epoch: [6][0/1316] Elapsed 0m 1s (remain 28m 35s) Loss: 0.2498(0.2498) Grad: 0.1787 LR: 0.000118  \n",
      "Epoch: [6][100/1316] Elapsed 0m 34s (remain 6m 49s) Loss: 0.2392(0.2108) Grad: 0.2848 LR: 0.000116  \n",
      "Epoch: [6][200/1316] Elapsed 1m 6s (remain 6m 9s) Loss: 0.1018(0.2014) Grad: 0.2116 LR: 0.000113  \n",
      "Epoch: [6][300/1316] Elapsed 1m 39s (remain 5m 34s) Loss: 0.2652(0.2021) Grad: 0.5013 LR: 0.000110  \n",
      "Epoch: [6][400/1316] Elapsed 2m 11s (remain 4m 59s) Loss: 0.1620(0.1954) Grad: 0.2241 LR: 0.000108  \n",
      "Epoch: [6][500/1316] Elapsed 2m 44s (remain 4m 26s) Loss: 0.0217(0.1938) Grad: 0.1723 LR: 0.000105  \n",
      "Epoch: [6][600/1316] Elapsed 3m 16s (remain 3m 53s) Loss: 0.1449(0.1945) Grad: 0.3502 LR: 0.000103  \n",
      "Epoch: [6][700/1316] Elapsed 3m 48s (remain 3m 20s) Loss: 0.3097(0.1933) Grad: 0.2450 LR: 0.000100  \n",
      "Epoch: [6][800/1316] Elapsed 4m 21s (remain 2m 48s) Loss: 0.2735(0.1936) Grad: 0.2928 LR: 0.000097  \n",
      "Epoch: [6][900/1316] Elapsed 4m 54s (remain 2m 15s) Loss: 0.3812(0.1923) Grad: 0.4321 LR: 0.000095  \n",
      "Epoch: [6][1000/1316] Elapsed 5m 26s (remain 1m 42s) Loss: 0.1974(0.1924) Grad: 0.3227 LR: 0.000092  \n",
      "Epoch: [6][1100/1316] Elapsed 5m 58s (remain 1m 10s) Loss: 0.1944(0.1912) Grad: 0.4718 LR: 0.000089  \n",
      "Epoch: [6][1200/1316] Elapsed 6m 31s (remain 0m 37s) Loss: 0.1639(0.1911) Grad: 0.3887 LR: 0.000087  \n",
      "Epoch: [6][1300/1316] Elapsed 7m 3s (remain 0m 4s) Loss: 0.2936(0.1899) Grad: 0.4361 LR: 0.000084  \n",
      "Epoch: [6][1315/1316] Elapsed 7m 8s (remain 0m 0s) Loss: 0.2406(0.1896) Grad: 0.4219 LR: 0.000084  \n",
      "EVAL: [0/330] Elapsed 0m 1s (remain 5m 36s) Loss: 0.0977(0.0977) \n",
      "EVAL: [100/330] Elapsed 0m 10s (remain 0m 24s) Loss: 0.1022(0.1139) \n",
      "EVAL: [200/330] Elapsed 0m 20s (remain 0m 13s) Loss: 0.0829(0.1134) \n",
      "EVAL: [300/330] Elapsed 0m 30s (remain 0m 2s) Loss: 0.1777(0.1118) \n"
     ]
    },
    {
     "name": "stderr",
     "output_type": "stream",
     "text": [
      "Epoch 6 - avg_train_loss: 0.1896  avg_val_loss: 0.1113  time: 462s\n",
      "Epoch 6 - Accuracy: 0.87583064363015\n",
      "Epoch 6 - Save Best Score: 0.8758 Model\n"
     ]
    },
    {
     "name": "stdout",
     "output_type": "stream",
     "text": [
      "EVAL: [329/330] Elapsed 0m 32s (remain 0m 0s) Loss: 0.1503(0.1113) \n",
      "Epoch: [7][0/1316] Elapsed 0m 1s (remain 30m 25s) Loss: 0.0731(0.0731) Grad: 0.2182 LR: 0.000084  \n",
      "Epoch: [7][100/1316] Elapsed 0m 33s (remain 6m 42s) Loss: 0.1143(0.1448) Grad: 0.4549 LR: 0.000081  \n",
      "Epoch: [7][200/1316] Elapsed 1m 5s (remain 6m 4s) Loss: 0.0230(0.1415) Grad: 0.2261 LR: 0.000079  \n",
      "Epoch: [7][300/1316] Elapsed 1m 37s (remain 5m 29s) Loss: 0.2554(0.1426) Grad: 0.2572 LR: 0.000076  \n",
      "Epoch: [7][400/1316] Elapsed 2m 9s (remain 4m 56s) Loss: 0.1291(0.1416) Grad: 0.6539 LR: 0.000074  \n",
      "Epoch: [7][500/1316] Elapsed 2m 41s (remain 4m 22s) Loss: 0.0545(0.1414) Grad: 0.3135 LR: 0.000071  \n",
      "Epoch: [7][600/1316] Elapsed 3m 13s (remain 3m 50s) Loss: 0.0760(0.1423) Grad: 0.2197 LR: 0.000069  \n",
      "Epoch: [7][700/1316] Elapsed 3m 45s (remain 3m 17s) Loss: 0.0120(0.1407) Grad: 0.1094 LR: 0.000066  \n",
      "Epoch: [7][800/1316] Elapsed 4m 17s (remain 2m 45s) Loss: 0.1393(0.1426) Grad: 0.5451 LR: 0.000064  \n",
      "Epoch: [7][900/1316] Elapsed 4m 50s (remain 2m 13s) Loss: 0.1350(0.1422) Grad: 0.4552 LR: 0.000061  \n",
      "Epoch: [7][1000/1316] Elapsed 5m 22s (remain 1m 41s) Loss: 0.1655(0.1411) Grad: 0.2183 LR: 0.000059  \n",
      "Epoch: [7][1100/1316] Elapsed 5m 54s (remain 1m 9s) Loss: 0.2635(0.1420) Grad: 0.3780 LR: 0.000056  \n",
      "Epoch: [7][1200/1316] Elapsed 6m 26s (remain 0m 37s) Loss: 0.0363(0.1406) Grad: 0.2575 LR: 0.000054  \n",
      "Epoch: [7][1300/1316] Elapsed 6m 59s (remain 0m 4s) Loss: 0.0230(0.1407) Grad: 0.1594 LR: 0.000052  \n",
      "Epoch: [7][1315/1316] Elapsed 7m 3s (remain 0m 0s) Loss: 0.0020(0.1408) Grad: 0.3330 LR: 0.000052  \n",
      "EVAL: [0/330] Elapsed 0m 1s (remain 6m 0s) Loss: 0.1015(0.1015) \n",
      "EVAL: [100/330] Elapsed 0m 10s (remain 0m 24s) Loss: 0.1154(0.1110) \n",
      "EVAL: [200/330] Elapsed 0m 21s (remain 0m 13s) Loss: 0.0930(0.1085) \n",
      "EVAL: [300/330] Elapsed 0m 30s (remain 0m 2s) Loss: 0.1911(0.1073) \n"
     ]
    },
    {
     "name": "stderr",
     "output_type": "stream",
     "text": [
      "Epoch 7 - avg_train_loss: 0.1408  avg_val_loss: 0.1065  time: 458s\n",
      "Epoch 7 - Accuracy: 0.8792481488513385\n",
      "Epoch 7 - Save Best Score: 0.8792 Model\n"
     ]
    },
    {
     "name": "stdout",
     "output_type": "stream",
     "text": [
      "EVAL: [329/330] Elapsed 0m 33s (remain 0m 0s) Loss: 0.0745(0.1065) \n",
      "Epoch: [8][0/1316] Elapsed 0m 1s (remain 31m 3s) Loss: 0.1341(0.1341) Grad: 0.4706 LR: 0.000052  \n",
      "Epoch: [8][100/1316] Elapsed 0m 33s (remain 6m 47s) Loss: 0.2749(0.1331) Grad: 0.2863 LR: 0.000049  \n",
      "Epoch: [8][200/1316] Elapsed 1m 6s (remain 6m 7s) Loss: 0.0083(0.1453) Grad: 0.1335 LR: 0.000047  \n",
      "Epoch: [8][300/1316] Elapsed 1m 38s (remain 5m 32s) Loss: 0.1243(0.1386) Grad: 0.3929 LR: 0.000045  \n",
      "Epoch: [8][400/1316] Elapsed 2m 10s (remain 4m 58s) Loss: 0.1318(0.1356) Grad: 0.2318 LR: 0.000043  \n",
      "Epoch: [8][500/1316] Elapsed 2m 43s (remain 4m 25s) Loss: 0.1307(0.1406) Grad: 0.2861 LR: 0.000041  \n",
      "Epoch: [8][600/1316] Elapsed 3m 15s (remain 3m 53s) Loss: 0.0511(0.1395) Grad: 0.2932 LR: 0.000039  \n",
      "Epoch: [8][700/1316] Elapsed 3m 48s (remain 3m 20s) Loss: 0.0835(0.1393) Grad: 0.4575 LR: 0.000037  \n",
      "Epoch: [8][800/1316] Elapsed 4m 20s (remain 2m 47s) Loss: 0.0474(0.1401) Grad: 0.3874 LR: 0.000035  \n",
      "Epoch: [8][900/1316] Elapsed 4m 53s (remain 2m 14s) Loss: 0.1685(0.1389) Grad: 0.2907 LR: 0.000033  \n",
      "Epoch: [8][1000/1316] Elapsed 5m 25s (remain 1m 42s) Loss: 0.2058(0.1390) Grad: 0.4324 LR: 0.000031  \n",
      "Epoch: [8][1100/1316] Elapsed 5m 57s (remain 1m 9s) Loss: 0.1250(0.1386) Grad: 0.4142 LR: 0.000029  \n",
      "Epoch: [8][1200/1316] Elapsed 6m 30s (remain 0m 37s) Loss: 0.1966(0.1381) Grad: 0.4912 LR: 0.000027  \n",
      "Epoch: [8][1300/1316] Elapsed 7m 2s (remain 0m 4s) Loss: 0.1881(0.1381) Grad: 0.2260 LR: 0.000025  \n",
      "Epoch: [8][1315/1316] Elapsed 7m 7s (remain 0m 0s) Loss: 0.3013(0.1383) Grad: 0.4857 LR: 0.000025  \n",
      "EVAL: [0/330] Elapsed 0m 0s (remain 5m 23s) Loss: 0.1318(0.1318) \n",
      "EVAL: [100/330] Elapsed 0m 10s (remain 0m 24s) Loss: 0.0507(0.1067) \n",
      "EVAL: [200/330] Elapsed 0m 20s (remain 0m 13s) Loss: 0.0850(0.1049) \n",
      "EVAL: [300/330] Elapsed 0m 30s (remain 0m 2s) Loss: 0.1798(0.1042) \n"
     ]
    },
    {
     "name": "stderr",
     "output_type": "stream",
     "text": [
      "Epoch 8 - avg_train_loss: 0.1383  avg_val_loss: 0.1030  time: 461s\n",
      "Epoch 8 - Accuracy: 0.8864628820960698\n",
      "Epoch 8 - Save Best Score: 0.8865 Model\n"
     ]
    },
    {
     "name": "stdout",
     "output_type": "stream",
     "text": [
      "EVAL: [329/330] Elapsed 0m 33s (remain 0m 0s) Loss: 0.1474(0.1030) \n",
      "Epoch: [9][0/1316] Elapsed 0m 1s (remain 31m 26s) Loss: 0.0591(0.0591) Grad: 0.2300 LR: 0.000025  \n",
      "Epoch: [9][100/1316] Elapsed 0m 33s (remain 6m 46s) Loss: 0.0072(0.1253) Grad: 0.0935 LR: 0.000024  \n",
      "Epoch: [9][200/1316] Elapsed 1m 6s (remain 6m 6s) Loss: 0.0211(0.1286) Grad: 0.2612 LR: 0.000022  \n",
      "Epoch: [9][300/1316] Elapsed 1m 38s (remain 5m 31s) Loss: 0.0756(0.1309) Grad: 0.3473 LR: 0.000020  \n",
      "Epoch: [9][400/1316] Elapsed 2m 10s (remain 4m 58s) Loss: 0.0526(0.1323) Grad: 0.4790 LR: 0.000019  \n",
      "Epoch: [9][500/1316] Elapsed 2m 43s (remain 4m 25s) Loss: 0.1263(0.1318) Grad: 0.3285 LR: 0.000017  \n",
      "Epoch: [9][600/1316] Elapsed 3m 15s (remain 3m 52s) Loss: 0.0240(0.1323) Grad: 0.1796 LR: 0.000016  \n",
      "Epoch: [9][700/1316] Elapsed 3m 47s (remain 3m 19s) Loss: 0.1777(0.1323) Grad: 0.3567 LR: 0.000015  \n",
      "Epoch: [9][800/1316] Elapsed 4m 20s (remain 2m 47s) Loss: 0.2152(0.1345) Grad: 0.6742 LR: 0.000013  \n",
      "Epoch: [9][900/1316] Elapsed 4m 52s (remain 2m 14s) Loss: 0.0325(0.1338) Grad: 0.3012 LR: 0.000012  \n",
      "Epoch: [9][1000/1316] Elapsed 5m 25s (remain 1m 42s) Loss: 0.1325(0.1336) Grad: 0.4027 LR: 0.000011  \n",
      "Epoch: [9][1100/1316] Elapsed 5m 57s (remain 1m 9s) Loss: 0.1653(0.1325) Grad: 0.6079 LR: 0.000010  \n",
      "Epoch: [9][1200/1316] Elapsed 6m 30s (remain 0m 37s) Loss: 0.0772(0.1325) Grad: 1.0171 LR: 0.000009  \n",
      "Epoch: [9][1300/1316] Elapsed 7m 2s (remain 0m 4s) Loss: 0.1574(0.1333) Grad: 0.3543 LR: 0.000008  \n",
      "Epoch: [9][1315/1316] Elapsed 7m 7s (remain 0m 0s) Loss: 0.1934(0.1335) Grad: 0.2211 LR: 0.000008  \n",
      "EVAL: [0/330] Elapsed 0m 1s (remain 5m 34s) Loss: 0.1376(0.1376) \n",
      "EVAL: [100/330] Elapsed 0m 11s (remain 0m 25s) Loss: 0.0707(0.1047) \n",
      "EVAL: [200/330] Elapsed 0m 21s (remain 0m 13s) Loss: 0.1036(0.1019) \n",
      "EVAL: [300/330] Elapsed 0m 30s (remain 0m 2s) Loss: 0.1754(0.1025) \n"
     ]
    },
    {
     "name": "stderr",
     "output_type": "stream",
     "text": [
      "Epoch 9 - avg_train_loss: 0.1335  avg_val_loss: 0.1017  time: 461s\n",
      "Epoch 9 - Accuracy: 0.8887412189101955\n",
      "Epoch 9 - Save Best Score: 0.8887 Model\n"
     ]
    },
    {
     "name": "stdout",
     "output_type": "stream",
     "text": [
      "EVAL: [329/330] Elapsed 0m 33s (remain 0m 0s) Loss: 0.0949(0.1017) \n",
      "Epoch: [10][0/1316] Elapsed 0m 1s (remain 29m 7s) Loss: 0.0793(0.0793) Grad: 0.3643 LR: 0.000008  \n",
      "Epoch: [10][100/1316] Elapsed 0m 32s (remain 6m 35s) Loss: 0.0097(0.0725) Grad: 0.1180 LR: 0.000007  \n",
      "Epoch: [10][200/1316] Elapsed 1m 4s (remain 5m 56s) Loss: 0.0752(0.0725) Grad: 0.2194 LR: 0.000006  \n",
      "Epoch: [10][300/1316] Elapsed 1m 35s (remain 5m 21s) Loss: 0.1537(0.0742) Grad: 0.4115 LR: 0.000006  \n",
      "Epoch: [10][400/1316] Elapsed 2m 6s (remain 4m 49s) Loss: 0.0900(0.0756) Grad: 0.6028 LR: 0.000005  \n",
      "Epoch: [10][500/1316] Elapsed 2m 37s (remain 4m 17s) Loss: 0.0752(0.0763) Grad: 0.5365 LR: 0.000004  \n",
      "Epoch: [10][600/1316] Elapsed 3m 9s (remain 3m 45s) Loss: 0.1206(0.0754) Grad: 0.7099 LR: 0.000004  \n",
      "Epoch: [10][700/1316] Elapsed 3m 40s (remain 3m 13s) Loss: 0.0231(0.0737) Grad: 0.2872 LR: 0.000003  \n",
      "Epoch: [10][800/1316] Elapsed 4m 11s (remain 2m 41s) Loss: 0.0522(0.0738) Grad: 0.5670 LR: 0.000003  \n",
      "Epoch: [10][900/1316] Elapsed 4m 43s (remain 2m 10s) Loss: 0.0495(0.0737) Grad: 0.5881 LR: 0.000003  \n",
      "Epoch: [10][1000/1316] Elapsed 5m 14s (remain 1m 38s) Loss: 0.0097(0.0740) Grad: 0.1572 LR: 0.000002  \n",
      "Epoch: [10][1100/1316] Elapsed 5m 45s (remain 1m 7s) Loss: 0.1464(0.0746) Grad: 0.3719 LR: 0.000002  \n",
      "Epoch: [10][1200/1316] Elapsed 6m 16s (remain 0m 36s) Loss: 0.0188(0.0737) Grad: 0.2248 LR: 0.000002  \n",
      "Epoch: [10][1300/1316] Elapsed 6m 48s (remain 0m 4s) Loss: 0.0622(0.0740) Grad: 0.5722 LR: 0.000002  \n",
      "Epoch: [10][1315/1316] Elapsed 6m 52s (remain 0m 0s) Loss: 0.0240(0.0739) Grad: 0.7507 LR: 0.000002  \n",
      "EVAL: [0/330] Elapsed 0m 1s (remain 5m 49s) Loss: 0.1383(0.1383) \n",
      "EVAL: [100/330] Elapsed 0m 10s (remain 0m 24s) Loss: 0.0608(0.1033) \n",
      "EVAL: [200/330] Elapsed 0m 20s (remain 0m 13s) Loss: 0.1039(0.1008) \n",
      "EVAL: [300/330] Elapsed 0m 30s (remain 0m 2s) Loss: 0.1807(0.1004) \n"
     ]
    },
    {
     "name": "stderr",
     "output_type": "stream",
     "text": [
      "Epoch 10 - avg_train_loss: 0.0739  avg_val_loss: 0.0991  time: 446s\n",
      "Epoch 10 - Accuracy: 0.8896905259160812\n",
      "Epoch 10 - Save Best Score: 0.8897 Model\n"
     ]
    },
    {
     "name": "stdout",
     "output_type": "stream",
     "text": [
      "EVAL: [329/330] Elapsed 0m 33s (remain 0m 0s) Loss: 0.1334(0.0991) \n"
     ]
    },
    {
     "name": "stderr",
     "output_type": "stream",
     "text": [
      "Epoch 10 - Save final model\n",
      "========== fold: 3 result ==========\n",
      "Score: 0.88969\n",
      "========== fold: 4 training ==========\n"
     ]
    },
    {
     "name": "stdout",
     "output_type": "stream",
     "text": [
      "Epoch: [1][0/1316] Elapsed 0m 1s (remain 31m 45s) Loss: 0.5506(0.5506) Grad: 1.7774 LR: 0.000002  \n",
      "Epoch: [1][100/1316] Elapsed 0m 35s (remain 7m 3s) Loss: 0.3584(0.3866) Grad: 0.9634 LR: 0.000017  \n",
      "Epoch: [1][200/1316] Elapsed 1m 8s (remain 6m 22s) Loss: 0.1836(0.3441) Grad: 0.8520 LR: 0.000032  \n",
      "Epoch: [1][300/1316] Elapsed 1m 42s (remain 5m 46s) Loss: 0.2992(0.3187) Grad: 1.2286 LR: 0.000047  \n",
      "Epoch: [1][400/1316] Elapsed 2m 16s (remain 5m 11s) Loss: 0.2021(0.3037) Grad: 1.2407 LR: 0.000062  \n",
      "Epoch: [1][500/1316] Elapsed 2m 50s (remain 4m 36s) Loss: 0.2180(0.2909) Grad: 0.4416 LR: 0.000077  \n",
      "Epoch: [1][600/1316] Elapsed 3m 23s (remain 4m 2s) Loss: 0.2604(0.2816) Grad: 0.4015 LR: 0.000092  \n",
      "Epoch: [1][700/1316] Elapsed 3m 57s (remain 3m 28s) Loss: 0.2328(0.2761) Grad: 0.3536 LR: 0.000107  \n",
      "Epoch: [1][800/1316] Elapsed 4m 31s (remain 2m 54s) Loss: 0.3085(0.2690) Grad: 0.6706 LR: 0.000122  \n",
      "Epoch: [1][900/1316] Elapsed 5m 4s (remain 2m 20s) Loss: 0.1014(0.2641) Grad: 0.3625 LR: 0.000137  \n",
      "Epoch: [1][1000/1316] Elapsed 5m 38s (remain 1m 46s) Loss: 0.1574(0.2611) Grad: 0.4130 LR: 0.000152  \n",
      "Epoch: [1][1100/1316] Elapsed 6m 12s (remain 1m 12s) Loss: 0.2331(0.2568) Grad: 0.6617 LR: 0.000168  \n",
      "Epoch: [1][1200/1316] Elapsed 6m 46s (remain 0m 38s) Loss: 0.2053(0.2544) Grad: 0.8938 LR: 0.000183  \n",
      "Epoch: [1][1300/1316] Elapsed 7m 20s (remain 0m 5s) Loss: 0.1274(0.2538) Grad: 0.6981 LR: 0.000198  \n",
      "Epoch: [1][1315/1316] Elapsed 7m 25s (remain 0m 0s) Loss: 0.2720(0.2529) Grad: 1.1096 LR: 0.000200  \n",
      "EVAL: [0/330] Elapsed 0m 1s (remain 5m 51s) Loss: 0.2063(0.2063) \n",
      "EVAL: [100/330] Elapsed 0m 11s (remain 0m 25s) Loss: 0.1695(0.1608) \n",
      "EVAL: [200/330] Elapsed 0m 21s (remain 0m 13s) Loss: 0.1221(0.1584) \n",
      "EVAL: [300/330] Elapsed 0m 30s (remain 0m 2s) Loss: 0.0990(0.1607) \n"
     ]
    },
    {
     "name": "stderr",
     "output_type": "stream",
     "text": [
      "Epoch 1 - avg_train_loss: 0.2529  avg_val_loss: 0.1623  time: 479s\n",
      "Epoch 1 - Accuracy: 0.8188722232770078\n",
      "Epoch 1 - Save Best Score: 0.8189 Model\n"
     ]
    },
    {
     "name": "stdout",
     "output_type": "stream",
     "text": [
      "EVAL: [329/330] Elapsed 0m 33s (remain 0m 0s) Loss: 0.5296(0.1623) \n",
      "Epoch: [2][0/1316] Elapsed 0m 1s (remain 31m 40s) Loss: 0.3077(0.3077) Grad: 0.4475 LR: 0.000200  \n",
      "Epoch: [2][100/1316] Elapsed 0m 35s (remain 7m 4s) Loss: 0.3600(0.2276) Grad: 0.3058 LR: 0.000200  \n",
      "Epoch: [2][200/1316] Elapsed 1m 9s (remain 6m 23s) Loss: 0.3128(0.2261) Grad: 0.8636 LR: 0.000200  \n",
      "Epoch: [2][300/1316] Elapsed 1m 42s (remain 5m 45s) Loss: 0.3107(0.2261) Grad: 0.4569 LR: 0.000200  \n",
      "Epoch: [2][400/1316] Elapsed 2m 16s (remain 5m 11s) Loss: 0.0934(0.2247) Grad: 0.3325 LR: 0.000199  \n",
      "Epoch: [2][500/1316] Elapsed 2m 49s (remain 4m 36s) Loss: 0.4424(0.2248) Grad: 0.9085 LR: 0.000199  \n",
      "Epoch: [2][600/1316] Elapsed 3m 23s (remain 4m 2s) Loss: 0.1514(0.2229) Grad: 0.7127 LR: 0.000199  \n",
      "Epoch: [2][700/1316] Elapsed 3m 57s (remain 3m 28s) Loss: 0.1573(0.2226) Grad: 0.6799 LR: 0.000198  \n",
      "Epoch: [2][800/1316] Elapsed 4m 30s (remain 2m 54s) Loss: 0.1154(0.2215) Grad: 0.6095 LR: 0.000198  \n",
      "Epoch: [2][900/1316] Elapsed 5m 4s (remain 2m 20s) Loss: 0.2830(0.2212) Grad: 0.4706 LR: 0.000197  \n",
      "Epoch: [2][1000/1316] Elapsed 5m 37s (remain 1m 46s) Loss: 0.2532(0.2201) Grad: 0.3339 LR: 0.000197  \n",
      "Epoch: [2][1100/1316] Elapsed 6m 11s (remain 1m 12s) Loss: 0.0598(0.2207) Grad: 0.2401 LR: 0.000196  \n",
      "Epoch: [2][1200/1316] Elapsed 6m 44s (remain 0m 38s) Loss: 0.3538(0.2206) Grad: 0.3831 LR: 0.000195  \n",
      "Epoch: [2][1300/1316] Elapsed 7m 18s (remain 0m 5s) Loss: 0.1122(0.2194) Grad: 0.3240 LR: 0.000194  \n",
      "Epoch: [2][1315/1316] Elapsed 7m 23s (remain 0m 0s) Loss: 0.1202(0.2193) Grad: 0.9335 LR: 0.000194  \n",
      "EVAL: [0/330] Elapsed 0m 1s (remain 5m 40s) Loss: 0.1614(0.1614) \n",
      "EVAL: [100/330] Elapsed 0m 11s (remain 0m 25s) Loss: 0.1602(0.1371) \n",
      "EVAL: [200/330] Elapsed 0m 21s (remain 0m 13s) Loss: 0.1411(0.1352) \n",
      "EVAL: [300/330] Elapsed 0m 31s (remain 0m 3s) Loss: 0.0294(0.1369) \n"
     ]
    },
    {
     "name": "stderr",
     "output_type": "stream",
     "text": [
      "Epoch 2 - avg_train_loss: 0.2193  avg_val_loss: 0.1384  time: 478s\n"
     ]
    },
    {
     "name": "stdout",
     "output_type": "stream",
     "text": [
      "EVAL: [329/330] Elapsed 0m 33s (remain 0m 0s) Loss: 0.2797(0.1384) \n"
     ]
    },
    {
     "name": "stderr",
     "output_type": "stream",
     "text": [
      "Epoch 2 - Accuracy: 0.8460224036453389\n",
      "Epoch 2 - Save Best Score: 0.8460 Model\n"
     ]
    },
    {
     "name": "stdout",
     "output_type": "stream",
     "text": [
      "Epoch: [3][0/1316] Elapsed 0m 1s (remain 31m 33s) Loss: 0.2101(0.2101) Grad: 0.6068 LR: 0.000194  \n",
      "Epoch: [3][100/1316] Elapsed 0m 35s (remain 7m 2s) Loss: 0.0438(0.2052) Grad: 0.2495 LR: 0.000193  \n",
      "Epoch: [3][200/1316] Elapsed 1m 8s (remain 6m 20s) Loss: 0.3072(0.2154) Grad: 0.6292 LR: 0.000192  \n",
      "Epoch: [3][300/1316] Elapsed 1m 42s (remain 5m 45s) Loss: 0.0595(0.2157) Grad: 0.6161 LR: 0.000191  \n",
      "Epoch: [3][400/1316] Elapsed 2m 15s (remain 5m 10s) Loss: 0.3364(0.2146) Grad: 0.6160 LR: 0.000190  \n",
      "Epoch: [3][500/1316] Elapsed 2m 49s (remain 4m 35s) Loss: 0.1804(0.2148) Grad: 0.3979 LR: 0.000189  \n",
      "Epoch: [3][600/1316] Elapsed 3m 23s (remain 4m 1s) Loss: 0.3042(0.2143) Grad: 0.4033 LR: 0.000187  \n",
      "Epoch: [3][700/1316] Elapsed 3m 56s (remain 3m 27s) Loss: 0.2759(0.2137) Grad: 0.2245 LR: 0.000186  \n",
      "Epoch: [3][800/1316] Elapsed 4m 29s (remain 2m 53s) Loss: 0.2627(0.2114) Grad: 0.2486 LR: 0.000185  \n",
      "Epoch: [3][900/1316] Elapsed 5m 3s (remain 2m 19s) Loss: 0.2893(0.2125) Grad: 0.4818 LR: 0.000183  \n",
      "Epoch: [3][1000/1316] Elapsed 5m 36s (remain 1m 46s) Loss: 0.3259(0.2134) Grad: 0.4568 LR: 0.000182  \n",
      "Epoch: [3][1100/1316] Elapsed 6m 10s (remain 1m 12s) Loss: 0.1354(0.2134) Grad: 0.5989 LR: 0.000180  \n",
      "Epoch: [3][1200/1316] Elapsed 6m 43s (remain 0m 38s) Loss: 0.1716(0.2129) Grad: 0.5549 LR: 0.000179  \n",
      "Epoch: [3][1300/1316] Elapsed 7m 17s (remain 0m 5s) Loss: 0.3653(0.2131) Grad: 0.5868 LR: 0.000177  \n",
      "Epoch: [3][1315/1316] Elapsed 7m 22s (remain 0m 0s) Loss: 0.2569(0.2128) Grad: 0.3700 LR: 0.000177  \n",
      "EVAL: [0/330] Elapsed 0m 1s (remain 5m 44s) Loss: 0.1740(0.1740) \n",
      "EVAL: [100/330] Elapsed 0m 11s (remain 0m 25s) Loss: 0.1266(0.1244) \n",
      "EVAL: [200/330] Elapsed 0m 21s (remain 0m 13s) Loss: 0.1080(0.1236) \n",
      "EVAL: [300/330] Elapsed 0m 30s (remain 0m 2s) Loss: 0.0562(0.1229) \n"
     ]
    },
    {
     "name": "stderr",
     "output_type": "stream",
     "text": [
      "Epoch 3 - avg_train_loss: 0.2128  avg_val_loss: 0.1246  time: 476s\n",
      "Epoch 3 - Accuracy: 0.8591228403265616\n",
      "Epoch 3 - Save Best Score: 0.8591 Model\n"
     ]
    },
    {
     "name": "stdout",
     "output_type": "stream",
     "text": [
      "EVAL: [329/330] Elapsed 0m 33s (remain 0m 0s) Loss: 0.3250(0.1246) \n",
      "Epoch: [4][0/1316] Elapsed 0m 1s (remain 31m 36s) Loss: 0.0291(0.0291) Grad: 0.2817 LR: 0.000177  \n",
      "Epoch: [4][100/1316] Elapsed 0m 34s (remain 7m 0s) Loss: 0.1782(0.2016) Grad: 0.5239 LR: 0.000175  \n",
      "Epoch: [4][200/1316] Elapsed 1m 8s (remain 6m 18s) Loss: 0.2941(0.2065) Grad: 0.4320 LR: 0.000173  \n",
      "Epoch: [4][300/1316] Elapsed 1m 42s (remain 5m 44s) Loss: 0.3252(0.2060) Grad: 0.4383 LR: 0.000172  \n",
      "Epoch: [4][400/1316] Elapsed 2m 15s (remain 5m 9s) Loss: 0.0996(0.2051) Grad: 0.4865 LR: 0.000170  \n",
      "Epoch: [4][500/1316] Elapsed 2m 49s (remain 4m 35s) Loss: 0.0899(0.2047) Grad: 0.3989 LR: 0.000168  \n",
      "Epoch: [4][600/1316] Elapsed 3m 23s (remain 4m 1s) Loss: 0.2824(0.2047) Grad: 0.3596 LR: 0.000166  \n",
      "Epoch: [4][700/1316] Elapsed 3m 56s (remain 3m 27s) Loss: 0.2944(0.2047) Grad: 0.3687 LR: 0.000164  \n",
      "Epoch: [4][800/1316] Elapsed 4m 30s (remain 2m 53s) Loss: 0.2569(0.2049) Grad: 0.5115 LR: 0.000162  \n",
      "Epoch: [4][900/1316] Elapsed 5m 3s (remain 2m 20s) Loss: 0.2721(0.2049) Grad: 0.3037 LR: 0.000160  \n",
      "Epoch: [4][1000/1316] Elapsed 5m 37s (remain 1m 46s) Loss: 0.2978(0.2051) Grad: 0.4496 LR: 0.000158  \n",
      "Epoch: [4][1100/1316] Elapsed 6m 11s (remain 1m 12s) Loss: 0.1427(0.2059) Grad: 0.3015 LR: 0.000155  \n",
      "Epoch: [4][1200/1316] Elapsed 6m 44s (remain 0m 38s) Loss: 0.1955(0.2046) Grad: 0.4335 LR: 0.000153  \n",
      "Epoch: [4][1300/1316] Elapsed 7m 18s (remain 0m 5s) Loss: 0.1738(0.2035) Grad: 0.6250 LR: 0.000151  \n",
      "Epoch: [4][1315/1316] Elapsed 7m 23s (remain 0m 0s) Loss: 0.1897(0.2035) Grad: 0.5813 LR: 0.000150  \n",
      "EVAL: [0/330] Elapsed 0m 1s (remain 5m 49s) Loss: 0.1912(0.1912) \n",
      "EVAL: [100/330] Elapsed 0m 11s (remain 0m 25s) Loss: 0.0852(0.1242) \n",
      "EVAL: [200/330] Elapsed 0m 21s (remain 0m 13s) Loss: 0.1011(0.1256) \n",
      "EVAL: [300/330] Elapsed 0m 31s (remain 0m 3s) Loss: 0.0721(0.1302) \n"
     ]
    },
    {
     "name": "stderr",
     "output_type": "stream",
     "text": [
      "Epoch 4 - avg_train_loss: 0.2035  avg_val_loss: 0.1327  time: 478s\n",
      "Epoch 4 - Accuracy: 0.8505790772735903\n"
     ]
    },
    {
     "name": "stdout",
     "output_type": "stream",
     "text": [
      "EVAL: [329/330] Elapsed 0m 33s (remain 0m 0s) Loss: 0.3677(0.1327) \n",
      "Epoch: [5][0/1316] Elapsed 0m 1s (remain 31m 57s) Loss: 0.0348(0.0348) Grad: 0.2278 LR: 0.000150  \n",
      "Epoch: [5][100/1316] Elapsed 0m 35s (remain 7m 4s) Loss: 0.1486(0.2103) Grad: 0.2497 LR: 0.000148  \n",
      "Epoch: [5][200/1316] Elapsed 1m 9s (remain 6m 22s) Loss: 0.0701(0.2055) Grad: 0.1752 LR: 0.000146  \n",
      "Epoch: [5][300/1316] Elapsed 1m 42s (remain 5m 46s) Loss: 0.1254(0.2048) Grad: 0.5122 LR: 0.000144  \n",
      "Epoch: [5][400/1316] Elapsed 2m 16s (remain 5m 12s) Loss: 0.0994(0.2052) Grad: 0.3481 LR: 0.000141  \n",
      "Epoch: [5][500/1316] Elapsed 2m 50s (remain 4m 37s) Loss: 0.0708(0.2012) Grad: 0.5770 LR: 0.000139  \n",
      "Epoch: [5][600/1316] Elapsed 3m 24s (remain 4m 3s) Loss: 0.3274(0.2001) Grad: 0.4576 LR: 0.000136  \n",
      "Epoch: [5][700/1316] Elapsed 3m 57s (remain 3m 28s) Loss: 0.0704(0.1998) Grad: 0.4282 LR: 0.000134  \n",
      "Epoch: [5][800/1316] Elapsed 4m 31s (remain 2m 54s) Loss: 0.2112(0.1989) Grad: 0.4501 LR: 0.000131  \n",
      "Epoch: [5][900/1316] Elapsed 5m 5s (remain 2m 20s) Loss: 0.2881(0.1988) Grad: 0.2972 LR: 0.000129  \n",
      "Epoch: [5][1000/1316] Elapsed 5m 39s (remain 1m 46s) Loss: 0.1360(0.1996) Grad: 0.1852 LR: 0.000126  \n",
      "Epoch: [5][1100/1316] Elapsed 6m 12s (remain 1m 12s) Loss: 0.1614(0.1991) Grad: 0.1323 LR: 0.000124  \n",
      "Epoch: [5][1200/1316] Elapsed 6m 46s (remain 0m 38s) Loss: 0.0760(0.1990) Grad: 0.2792 LR: 0.000121  \n",
      "Epoch: [5][1300/1316] Elapsed 7m 20s (remain 0m 5s) Loss: 0.2592(0.1986) Grad: 0.3500 LR: 0.000119  \n",
      "Epoch: [5][1315/1316] Elapsed 7m 25s (remain 0m 0s) Loss: 0.3712(0.1990) Grad: 0.4772 LR: 0.000118  \n",
      "EVAL: [0/330] Elapsed 0m 1s (remain 5m 55s) Loss: 0.2146(0.2146) \n",
      "EVAL: [100/330] Elapsed 0m 11s (remain 0m 25s) Loss: 0.0951(0.1192) \n",
      "EVAL: [200/330] Elapsed 0m 21s (remain 0m 13s) Loss: 0.1193(0.1183) \n",
      "EVAL: [300/330] Elapsed 0m 31s (remain 0m 2s) Loss: 0.0434(0.1195) \n"
     ]
    },
    {
     "name": "stderr",
     "output_type": "stream",
     "text": [
      "Epoch 5 - avg_train_loss: 0.1990  avg_val_loss: 0.1214  time: 479s\n",
      "Epoch 5 - Accuracy: 0.862350484146573\n",
      "Epoch 5 - Save Best Score: 0.8624 Model\n"
     ]
    },
    {
     "name": "stdout",
     "output_type": "stream",
     "text": [
      "EVAL: [329/330] Elapsed 0m 33s (remain 0m 0s) Loss: 0.4992(0.1214) \n",
      "Epoch: [6][0/1316] Elapsed 0m 1s (remain 32m 47s) Loss: 0.1332(0.1332) Grad: 0.6198 LR: 0.000118  \n",
      "Epoch: [6][100/1316] Elapsed 0m 35s (remain 7m 4s) Loss: 0.2657(0.1845) Grad: 0.1425 LR: 0.000116  \n",
      "Epoch: [6][200/1316] Elapsed 1m 8s (remain 6m 22s) Loss: 0.3133(0.1952) Grad: 0.3284 LR: 0.000113  \n",
      "Epoch: [6][300/1316] Elapsed 1m 42s (remain 5m 45s) Loss: 0.2126(0.1986) Grad: 0.3017 LR: 0.000110  \n",
      "Epoch: [6][400/1316] Elapsed 2m 16s (remain 5m 10s) Loss: 0.3681(0.1979) Grad: 0.5328 LR: 0.000108  \n",
      "Epoch: [6][500/1316] Elapsed 2m 49s (remain 4m 36s) Loss: 0.3114(0.1992) Grad: 0.3348 LR: 0.000105  \n",
      "Epoch: [6][600/1316] Elapsed 3m 23s (remain 4m 1s) Loss: 0.1155(0.1969) Grad: 0.7125 LR: 0.000103  \n",
      "Epoch: [6][700/1316] Elapsed 3m 56s (remain 3m 27s) Loss: 0.1583(0.1957) Grad: 0.0910 LR: 0.000100  \n",
      "Epoch: [6][800/1316] Elapsed 4m 30s (remain 2m 53s) Loss: 0.3423(0.1959) Grad: 0.5030 LR: 0.000097  \n",
      "Epoch: [6][900/1316] Elapsed 5m 4s (remain 2m 20s) Loss: 0.1371(0.1960) Grad: 0.4347 LR: 0.000095  \n",
      "Epoch: [6][1000/1316] Elapsed 5m 37s (remain 1m 46s) Loss: 0.2949(0.1953) Grad: 0.2787 LR: 0.000092  \n",
      "Epoch: [6][1100/1316] Elapsed 6m 11s (remain 1m 12s) Loss: 0.2127(0.1959) Grad: 0.2415 LR: 0.000089  \n",
      "Epoch: [6][1200/1316] Elapsed 6m 44s (remain 0m 38s) Loss: 0.0784(0.1944) Grad: 0.2226 LR: 0.000087  \n",
      "Epoch: [6][1300/1316] Elapsed 7m 18s (remain 0m 5s) Loss: 0.1305(0.1944) Grad: 0.4581 LR: 0.000084  \n",
      "Epoch: [6][1315/1316] Elapsed 7m 23s (remain 0m 0s) Loss: 0.2741(0.1941) Grad: 0.3867 LR: 0.000084  \n",
      "EVAL: [0/330] Elapsed 0m 1s (remain 5m 48s) Loss: 0.1653(0.1653) \n",
      "EVAL: [100/330] Elapsed 0m 11s (remain 0m 25s) Loss: 0.0559(0.1022) \n",
      "EVAL: [200/330] Elapsed 0m 21s (remain 0m 13s) Loss: 0.1263(0.1036) \n",
      "EVAL: [300/330] Elapsed 0m 31s (remain 0m 3s) Loss: 0.0754(0.1059) \n"
     ]
    },
    {
     "name": "stderr",
     "output_type": "stream",
     "text": [
      "Epoch 6 - avg_train_loss: 0.1941  avg_val_loss: 0.1093  time: 478s\n",
      "Epoch 6 - Accuracy: 0.8805771786595785\n",
      "Epoch 6 - Save Best Score: 0.8806 Model\n"
     ]
    },
    {
     "name": "stdout",
     "output_type": "stream",
     "text": [
      "EVAL: [329/330] Elapsed 0m 33s (remain 0m 0s) Loss: 0.5582(0.1093) \n",
      "Epoch: [7][0/1316] Elapsed 0m 1s (remain 32m 20s) Loss: 0.2079(0.2079) Grad: 0.0867 LR: 0.000084  \n",
      "Epoch: [7][100/1316] Elapsed 0m 34s (remain 6m 57s) Loss: 0.2047(0.1304) Grad: 0.3004 LR: 0.000081  \n",
      "Epoch: [7][200/1316] Elapsed 1m 8s (remain 6m 17s) Loss: 0.0981(0.1371) Grad: 0.4531 LR: 0.000079  \n",
      "Epoch: [7][300/1316] Elapsed 1m 41s (remain 5m 42s) Loss: 0.1032(0.1428) Grad: 0.4938 LR: 0.000076  \n",
      "Epoch: [7][400/1316] Elapsed 2m 14s (remain 5m 7s) Loss: 0.2057(0.1422) Grad: 0.2372 LR: 0.000074  \n",
      "Epoch: [7][500/1316] Elapsed 2m 47s (remain 4m 33s) Loss: 0.1173(0.1403) Grad: 0.3493 LR: 0.000071  \n",
      "Epoch: [7][600/1316] Elapsed 3m 21s (remain 3m 59s) Loss: 0.1884(0.1411) Grad: 0.3603 LR: 0.000069  \n",
      "Epoch: [7][700/1316] Elapsed 3m 54s (remain 3m 25s) Loss: 0.2216(0.1437) Grad: 0.2677 LR: 0.000066  \n",
      "Epoch: [7][800/1316] Elapsed 4m 27s (remain 2m 52s) Loss: 0.0220(0.1447) Grad: 0.2018 LR: 0.000064  \n",
      "Epoch: [7][900/1316] Elapsed 5m 1s (remain 2m 18s) Loss: 0.1017(0.1457) Grad: 0.3464 LR: 0.000061  \n",
      "Epoch: [7][1000/1316] Elapsed 5m 34s (remain 1m 45s) Loss: 0.0753(0.1450) Grad: 0.4148 LR: 0.000059  \n",
      "Epoch: [7][1100/1316] Elapsed 6m 7s (remain 1m 11s) Loss: 0.1621(0.1473) Grad: 0.3678 LR: 0.000056  \n",
      "Epoch: [7][1200/1316] Elapsed 6m 41s (remain 0m 38s) Loss: 0.0241(0.1461) Grad: 0.1948 LR: 0.000054  \n",
      "Epoch: [7][1300/1316] Elapsed 7m 14s (remain 0m 5s) Loss: 0.0690(0.1458) Grad: 0.4159 LR: 0.000052  \n",
      "Epoch: [7][1315/1316] Elapsed 7m 19s (remain 0m 0s) Loss: 0.1433(0.1463) Grad: 0.6205 LR: 0.000052  \n",
      "EVAL: [0/330] Elapsed 0m 1s (remain 5m 47s) Loss: 0.1501(0.1501) \n",
      "EVAL: [100/330] Elapsed 0m 11s (remain 0m 25s) Loss: 0.0731(0.1011) \n",
      "EVAL: [200/330] Elapsed 0m 21s (remain 0m 13s) Loss: 0.0749(0.1025) \n",
      "EVAL: [300/330] Elapsed 0m 31s (remain 0m 2s) Loss: 0.0666(0.1044) \n"
     ]
    },
    {
     "name": "stderr",
     "output_type": "stream",
     "text": [
      "Epoch 7 - avg_train_loss: 0.1463  avg_val_loss: 0.1066  time: 474s\n",
      "Epoch 7 - Accuracy: 0.8777292576419214\n"
     ]
    },
    {
     "name": "stdout",
     "output_type": "stream",
     "text": [
      "EVAL: [329/330] Elapsed 0m 33s (remain 0m 0s) Loss: 0.4457(0.1066) \n",
      "Epoch: [8][0/1316] Elapsed 0m 1s (remain 32m 38s) Loss: 0.0157(0.0157) Grad: 0.1856 LR: 0.000052  \n",
      "Epoch: [8][100/1316] Elapsed 0m 34s (remain 7m 0s) Loss: 0.0303(0.1379) Grad: 0.3352 LR: 0.000049  \n",
      "Epoch: [8][200/1316] Elapsed 1m 8s (remain 6m 18s) Loss: 0.0790(0.1415) Grad: 0.3232 LR: 0.000047  \n",
      "Epoch: [8][300/1316] Elapsed 1m 41s (remain 5m 42s) Loss: 0.1636(0.1419) Grad: 0.3991 LR: 0.000045  \n",
      "Epoch: [8][400/1316] Elapsed 2m 14s (remain 5m 7s) Loss: 0.0874(0.1363) Grad: 0.5389 LR: 0.000043  \n",
      "Epoch: [8][500/1316] Elapsed 2m 48s (remain 4m 33s) Loss: 0.1282(0.1376) Grad: 0.4216 LR: 0.000041  \n",
      "Epoch: [8][600/1316] Elapsed 3m 21s (remain 3m 59s) Loss: 0.0205(0.1355) Grad: 0.2527 LR: 0.000039  \n",
      "Epoch: [8][700/1316] Elapsed 3m 55s (remain 3m 26s) Loss: 0.1208(0.1383) Grad: 0.2628 LR: 0.000037  \n",
      "Epoch: [8][800/1316] Elapsed 4m 28s (remain 2m 52s) Loss: 0.0687(0.1395) Grad: 0.4339 LR: 0.000035  \n",
      "Epoch: [8][900/1316] Elapsed 5m 1s (remain 2m 19s) Loss: 0.0621(0.1382) Grad: 0.1401 LR: 0.000033  \n",
      "Epoch: [8][1000/1316] Elapsed 5m 35s (remain 1m 45s) Loss: 0.0645(0.1376) Grad: 0.3505 LR: 0.000031  \n",
      "Epoch: [8][1100/1316] Elapsed 6m 8s (remain 1m 12s) Loss: 0.0239(0.1364) Grad: 0.3092 LR: 0.000029  \n",
      "Epoch: [8][1200/1316] Elapsed 6m 42s (remain 0m 38s) Loss: 0.0490(0.1354) Grad: 0.2715 LR: 0.000027  \n",
      "Epoch: [8][1300/1316] Elapsed 7m 15s (remain 0m 5s) Loss: 0.0789(0.1344) Grad: 0.5150 LR: 0.000025  \n",
      "Epoch: [8][1315/1316] Elapsed 7m 20s (remain 0m 0s) Loss: 0.1419(0.1342) Grad: 0.5529 LR: 0.000025  \n",
      "EVAL: [0/330] Elapsed 0m 1s (remain 5m 54s) Loss: 0.1577(0.1577) \n",
      "EVAL: [100/330] Elapsed 0m 11s (remain 0m 25s) Loss: 0.0662(0.0991) \n",
      "EVAL: [200/330] Elapsed 0m 21s (remain 0m 13s) Loss: 0.1011(0.1002) \n",
      "EVAL: [300/330] Elapsed 0m 31s (remain 0m 3s) Loss: 0.0785(0.1036) \n"
     ]
    },
    {
     "name": "stderr",
     "output_type": "stream",
     "text": [
      "Epoch 8 - avg_train_loss: 0.1342  avg_val_loss: 0.1061  time: 475s\n",
      "Epoch 8 - Accuracy: 0.8788684260489843\n"
     ]
    },
    {
     "name": "stdout",
     "output_type": "stream",
     "text": [
      "EVAL: [329/330] Elapsed 0m 33s (remain 0m 0s) Loss: 0.3297(0.1061) \n",
      "Epoch: [9][0/1316] Elapsed 0m 1s (remain 32m 8s) Loss: 0.1392(0.1392) Grad: 0.7211 LR: 0.000025  \n",
      "Epoch: [9][100/1316] Elapsed 0m 34s (remain 6m 58s) Loss: 0.0927(0.1196) Grad: 0.5155 LR: 0.000024  \n",
      "Epoch: [9][200/1316] Elapsed 1m 8s (remain 6m 18s) Loss: 0.1803(0.1163) Grad: 0.4656 LR: 0.000022  \n",
      "Epoch: [9][300/1316] Elapsed 1m 41s (remain 5m 40s) Loss: 0.0962(0.1203) Grad: 0.4263 LR: 0.000020  \n",
      "Epoch: [9][400/1316] Elapsed 2m 14s (remain 5m 6s) Loss: 0.0949(0.1216) Grad: 0.5579 LR: 0.000019  \n",
      "Epoch: [9][500/1316] Elapsed 2m 47s (remain 4m 32s) Loss: 0.0787(0.1217) Grad: 0.2792 LR: 0.000017  \n",
      "Epoch: [9][600/1316] Elapsed 3m 20s (remain 3m 58s) Loss: 0.0223(0.1243) Grad: 0.2547 LR: 0.000016  \n",
      "Epoch: [9][700/1316] Elapsed 3m 53s (remain 3m 25s) Loss: 0.0127(0.1264) Grad: 0.0876 LR: 0.000015  \n",
      "Epoch: [9][800/1316] Elapsed 4m 26s (remain 2m 51s) Loss: 0.0165(0.1255) Grad: 0.1702 LR: 0.000013  \n",
      "Epoch: [9][900/1316] Elapsed 5m 0s (remain 2m 18s) Loss: 0.0269(0.1270) Grad: 0.2902 LR: 0.000012  \n",
      "Epoch: [9][1000/1316] Elapsed 5m 33s (remain 1m 44s) Loss: 0.1594(0.1284) Grad: 0.4172 LR: 0.000011  \n",
      "Epoch: [9][1100/1316] Elapsed 6m 6s (remain 1m 11s) Loss: 0.0896(0.1287) Grad: 0.2366 LR: 0.000010  \n",
      "Epoch: [9][1200/1316] Elapsed 6m 40s (remain 0m 38s) Loss: 0.3572(0.1291) Grad: 0.3359 LR: 0.000009  \n",
      "Epoch: [9][1300/1316] Elapsed 7m 13s (remain 0m 4s) Loss: 0.2363(0.1288) Grad: 0.3111 LR: 0.000008  \n",
      "Epoch: [9][1315/1316] Elapsed 7m 18s (remain 0m 0s) Loss: 0.1092(0.1294) Grad: 0.3865 LR: 0.000008  \n",
      "EVAL: [0/330] Elapsed 0m 1s (remain 5m 52s) Loss: 0.1562(0.1562) \n",
      "EVAL: [100/330] Elapsed 0m 11s (remain 0m 25s) Loss: 0.0587(0.0948) \n",
      "EVAL: [200/330] Elapsed 0m 21s (remain 0m 13s) Loss: 0.0790(0.0977) \n",
      "EVAL: [300/330] Elapsed 0m 31s (remain 0m 3s) Loss: 0.0647(0.1000) \n"
     ]
    },
    {
     "name": "stderr",
     "output_type": "stream",
     "text": [
      "Epoch 9 - avg_train_loss: 0.1294  avg_val_loss: 0.1015  time: 473s\n",
      "Epoch 9 - Accuracy: 0.8876020505031327\n",
      "Epoch 9 - Save Best Score: 0.8876 Model\n"
     ]
    },
    {
     "name": "stdout",
     "output_type": "stream",
     "text": [
      "EVAL: [329/330] Elapsed 0m 33s (remain 0m 0s) Loss: 0.4254(0.1015) \n",
      "Epoch: [10][0/1316] Elapsed 0m 1s (remain 29m 14s) Loss: 0.0838(0.0838) Grad: 0.4748 LR: 0.000008  \n",
      "Epoch: [10][100/1316] Elapsed 0m 33s (remain 6m 41s) Loss: 0.0234(0.0855) Grad: 0.3786 LR: 0.000007  \n",
      "Epoch: [10][200/1316] Elapsed 1m 5s (remain 6m 5s) Loss: 0.0801(0.0772) Grad: 0.4283 LR: 0.000006  \n",
      "Epoch: [10][300/1316] Elapsed 1m 38s (remain 5m 30s) Loss: 0.0666(0.0781) Grad: 0.2105 LR: 0.000006  \n",
      "Epoch: [10][400/1316] Elapsed 2m 10s (remain 4m 57s) Loss: 0.1226(0.0775) Grad: 0.8044 LR: 0.000005  \n",
      "Epoch: [10][500/1316] Elapsed 2m 42s (remain 4m 24s) Loss: 0.0385(0.0784) Grad: 0.4662 LR: 0.000004  \n",
      "Epoch: [10][600/1316] Elapsed 3m 14s (remain 3m 51s) Loss: 0.1313(0.0779) Grad: 0.4410 LR: 0.000004  \n",
      "Epoch: [10][700/1316] Elapsed 3m 46s (remain 3m 19s) Loss: 0.0886(0.0767) Grad: 0.5303 LR: 0.000003  \n",
      "Epoch: [10][800/1316] Elapsed 4m 19s (remain 2m 46s) Loss: 0.1028(0.0763) Grad: 0.4099 LR: 0.000003  \n",
      "Epoch: [10][900/1316] Elapsed 4m 51s (remain 2m 14s) Loss: 0.0359(0.0758) Grad: 0.2837 LR: 0.000003  \n",
      "Epoch: [10][1000/1316] Elapsed 5m 23s (remain 1m 41s) Loss: 0.0342(0.0751) Grad: 0.3942 LR: 0.000002  \n",
      "Epoch: [10][1100/1316] Elapsed 5m 55s (remain 1m 9s) Loss: 0.0066(0.0745) Grad: 0.0948 LR: 0.000002  \n",
      "Epoch: [10][1200/1316] Elapsed 6m 28s (remain 0m 37s) Loss: 0.0220(0.0742) Grad: 0.3554 LR: 0.000002  \n",
      "Epoch: [10][1300/1316] Elapsed 7m 0s (remain 0m 4s) Loss: 0.0249(0.0739) Grad: 0.2714 LR: 0.000002  \n",
      "Epoch: [10][1315/1316] Elapsed 7m 5s (remain 0m 0s) Loss: 0.0133(0.0738) Grad: 0.4713 LR: 0.000002  \n",
      "EVAL: [0/330] Elapsed 0m 1s (remain 6m 14s) Loss: 0.1333(0.1333) \n",
      "EVAL: [100/330] Elapsed 0m 11s (remain 0m 25s) Loss: 0.0616(0.0942) \n",
      "EVAL: [200/330] Elapsed 0m 21s (remain 0m 13s) Loss: 0.0829(0.0968) \n",
      "EVAL: [300/330] Elapsed 0m 31s (remain 0m 3s) Loss: 0.0650(0.0987) \n"
     ]
    },
    {
     "name": "stderr",
     "output_type": "stream",
     "text": [
      "Epoch 10 - avg_train_loss: 0.0738  avg_val_loss: 0.0999  time: 459s\n",
      "Epoch 10 - Accuracy: 0.8902601101196127\n",
      "Epoch 10 - Save Best Score: 0.8903 Model\n"
     ]
    },
    {
     "name": "stdout",
     "output_type": "stream",
     "text": [
      "EVAL: [329/330] Elapsed 0m 33s (remain 0m 0s) Loss: 0.2735(0.0999) \n"
     ]
    },
    {
     "name": "stderr",
     "output_type": "stream",
     "text": [
      "Epoch 10 - Save final model\n",
      "========== fold: 4 result ==========\n",
      "Score: 0.89026\n",
      "========== CV ==========\n",
      "Score: 0.88958\n"
     ]
    }
   ],
   "source": [
    "if __name__ == \"__main__\":\n",
    "    main()"
   ]
  }
 ],
 "metadata": {
  "kernelspec": {
   "display_name": "Python 3",
   "language": "python",
   "name": "python3"
  },
  "language_info": {
   "codemirror_mode": {
    "name": "ipython",
    "version": 3
   },
   "file_extension": ".py",
   "mimetype": "text/x-python",
   "name": "python",
   "nbconvert_exporter": "python",
   "pygments_lexer": "ipython3",
   "version": "3.7.9"
  }
 },
 "nbformat": 4,
 "nbformat_minor": 4
}
